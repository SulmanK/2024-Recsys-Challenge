{
 "cells": [
  {
   "cell_type": "code",
   "execution_count": 4,
   "metadata": {},
   "outputs": [],
   "source": [
    "# TODO make a notebook with it\n",
    "from ebrec.models.newsrec.model_config import hparams_nrms\n",
    "from ebrec.models.newsrec.nrms import NRMSModel\n",
    "import numpy as np\n",
    "\n",
    "config = hparams_nrms\n",
    "\n",
    "# Define the number of samples in your batch\n",
    "BATCH_SIZE = 10\n",
    "HISTORY_SIZE = config.history_size\n",
    "TITLE_SIZE = config.title_size\n",
    "NPRATIO = 4\n",
    "word_embeddings = np.random.rand(1000, 100)\n"
   ]
  },
  {
   "cell_type": "code",
   "execution_count": 5,
   "metadata": {},
   "outputs": [
    {
     "name": "stdout",
     "output_type": "stream",
     "text": [
      "WARNING:tensorflow:From c:\\Users\\sulma\\Downloads\\Datasets\\2024 Recsys Challenge\\.venv\\Lib\\site-packages\\keras\\src\\backend.py:1398: The name tf.executing_eagerly_outside_functions is deprecated. Please use tf.compat.v1.executing_eagerly_outside_functions instead.\n",
      "\n",
      "Model: \"model\"\n",
      "__________________________________________________________________________________________________\n",
      " Layer (type)                Output Shape                 Param #   Connected to                  \n",
      "==================================================================================================\n",
      " input_2 (InputLayer)        [(None, None, 30)]           0         []                            \n",
      "                                                                                                  \n",
      " input_1 (InputLayer)        [(None, 50, 30)]             0         []                            \n",
      "                                                                                                  \n",
      " time_distributed_1 (TimeDi  (None, None, 400)            300400    ['input_2[0][0]']             \n",
      " stributed)                                                                                       \n",
      "                                                                                                  \n",
      " user_encoder (Functional)   (None, 400)                  860800    ['input_1[0][0]']             \n",
      "                                                                                                  \n",
      " dot (Dot)                   (None, None)                 0         ['time_distributed_1[0][0]',  \n",
      "                                                                     'user_encoder[0][0]']        \n",
      "                                                                                                  \n",
      " activation (Activation)     (None, None)                 0         ['dot[0][0]']                 \n",
      "                                                                                                  \n",
      "==================================================================================================\n",
      "Total params: 860800 (3.28 MB)\n",
      "Trainable params: 860800 (3.28 MB)\n",
      "Non-trainable params: 0 (0.00 Byte)\n",
      "__________________________________________________________________________________________________\n"
     ]
    }
   ],
   "source": [
    "model = NRMSModel(hparams=config, word2vec_embedding=word_embeddings)\n",
    "model.model.summary()"
   ]
  },
  {
   "cell_type": "code",
   "execution_count": 6,
   "metadata": {},
   "outputs": [],
   "source": [
    "# Define the shapes of the input data\n",
    "his_input_title_shape = (HISTORY_SIZE, TITLE_SIZE)\n",
    "pred_input_title_shape = (NPRATIO + 1, TITLE_SIZE)\n",
    "label_shape = (NPRATIO + 1,)\n",
    "vocab_size = word_embeddings.shape[0]"
   ]
  },
  {
   "cell_type": "code",
   "execution_count": 7,
   "metadata": {},
   "outputs": [
    {
     "name": "stdout",
     "output_type": "stream",
     "text": [
      "(10, 50, 30)\n",
      "(10, 5, 30)\n",
      "(10, 5)\n"
     ]
    }
   ],
   "source": [
    "# Generate some random input data for input_1 with values between 0 and 1\n",
    "his_input_title = np.random.randint(0, vocab_size, (BATCH_SIZE, *his_input_title_shape))\n",
    "\n",
    "# Generate some random input data for input_2 with values between 0 and 1\n",
    "pred_input_title = np.random.randint(\n",
    "    0, vocab_size, (BATCH_SIZE, *pred_input_title_shape)\n",
    ")\n",
    "\n",
    "# Generate some random label data with values between 0 and 1\n",
    "label_data = np.zeros((BATCH_SIZE, *label_shape), dtype=int)\n",
    "for row in label_data:\n",
    "    row[np.random.choice(label_shape[0])] = 1\n",
    "\n",
    "# Print the shapes of the input data to verify they match the model's input layers\n",
    "print(his_input_title.shape)\n",
    "print(pred_input_title.shape)\n",
    "print(label_data.shape)\n",
    "\n",
    "# Make input for model:\n",
    "input = (his_input_title, pred_input_title)"
   ]
  },
  {
   "cell_type": "code",
   "execution_count": 8,
   "metadata": {},
   "outputs": [
    {
     "name": "stdout",
     "output_type": "stream",
     "text": [
      "WARNING:tensorflow:From c:\\Users\\sulma\\Downloads\\Datasets\\2024 Recsys Challenge\\.venv\\Lib\\site-packages\\keras\\src\\utils\\tf_utils.py:492: The name tf.ragged.RaggedTensorValue is deprecated. Please use tf.compat.v1.ragged.RaggedTensorValue instead.\n",
      "\n",
      "1/1 [==============================] - 5s 5s/step - loss: 1.4033\n",
      "1/1 [==============================] - 1s 944ms/step\n"
     ]
    },
    {
     "data": {
      "text/plain": [
       "array([[0.24422054, 0.13386555, 0.16687714, 0.24411182, 0.21092492],\n",
       "       [0.206632  , 0.15525647, 0.24978411, 0.13786605, 0.25046143],\n",
       "       [0.21886829, 0.18634382, 0.18199034, 0.17536965, 0.23742788],\n",
       "       [0.25368342, 0.2263575 , 0.15100971, 0.24733438, 0.12161497],\n",
       "       [0.18753964, 0.20989667, 0.2216283 , 0.1827156 , 0.19821975],\n",
       "       [0.18947586, 0.21766654, 0.18228666, 0.22456765, 0.18600324],\n",
       "       [0.22720937, 0.19021708, 0.19714794, 0.21266815, 0.17275754],\n",
       "       [0.17366672, 0.2681047 , 0.17874973, 0.1979666 , 0.18151231],\n",
       "       [0.15731774, 0.1780486 , 0.2147457 , 0.28169897, 0.16818897],\n",
       "       [0.24941926, 0.14216898, 0.23879917, 0.15966997, 0.20994268]],\n",
       "      dtype=float32)"
      ]
     },
     "execution_count": 8,
     "metadata": {},
     "output_type": "execute_result"
    }
   ],
   "source": [
    "# fit/predict:\n",
    "model.model.fit(input, label_data)\n",
    "model.model.predict(input)"
   ]
  },
  {
   "cell_type": "code",
   "execution_count": null,
   "metadata": {},
   "outputs": [],
   "source": []
  }
 ],
 "metadata": {
  "kernelspec": {
   "display_name": ".venv",
   "language": "python",
   "name": "python3"
  },
  "language_info": {
   "codemirror_mode": {
    "name": "ipython",
    "version": 3
   },
   "file_extension": ".py",
   "mimetype": "text/x-python",
   "name": "python",
   "nbconvert_exporter": "python",
   "pygments_lexer": "ipython3",
   "version": "3.11.4"
  }
 },
 "nbformat": 4,
 "nbformat_minor": 2
}
