{
 "cells": [
  {
   "cell_type": "markdown",
   "id": "d2671047-b3da-4686-8a34-f7e63d82e738",
   "metadata": {},
   "source": [
    "Task\n",
    "- Add in other uestions\n",
    "    - Refactor code for the aggregation of timely activity\n",
    "- Fix the plots\n",
    "- Start on EDA\n",
    "    - Each major feature will cover distribution of the feature, readtime/scroll pct, how it relates to the topics selected, and activity distribution.\n",
    "        - We will use histograms, bar plots, box plots, and scatter plots (can look at pie charts too)\n",
    "- Model selection"
   ]
  },
  {
   "cell_type": "markdown",
   "id": "237298c2-2986-4bba-bcbd-5ff27e361919",
   "metadata": {},
   "source": [
    "Background Information on Dataset: BLAH BLAH BLAH"
   ]
  },
  {
   "cell_type": "markdown",
   "id": "9f8cf39e-f468-4ac2-9f59-2eefab32a277",
   "metadata": {},
   "source": [
    "Importing Packages"
   ]
  },
  {
   "cell_type": "code",
   "execution_count": 1,
   "id": "f4711c74-a01b-4ce7-8a3d-de5a605d13e4",
   "metadata": {},
   "outputs": [],
   "source": [
    "import numpy as np\n",
    "import pandas as pd\n",
    "import dask.dataframe as dd\n",
    "import matplotlib\n",
    "import plotly\n",
    "import plotly.express as px\n",
    "import plotly.graph_objects as go\n",
    "\n",
    "from datetime import datetime"
   ]
  },
  {
   "cell_type": "markdown",
   "id": "06f05b58-dde3-4d5f-87a2-f20ad71cd62b",
   "metadata": {},
   "source": [
    "EDA"
   ]
  },
  {
   "cell_type": "markdown",
   "id": "616fa6a4-e47a-4116-82f5-896d6893a00e",
   "metadata": {},
   "source": [
    "Load in dataset"
   ]
  },
  {
   "cell_type": "markdown",
   "id": "b171de10-39f1-4dad-aed9-d8a179e44fe2",
   "metadata": {},
   "source": [
    "Aside: Let's measure how long it takes to load in our dataset: using pandas and dask"
   ]
  },
  {
   "cell_type": "code",
   "execution_count": null,
   "id": "ae5445ae-b902-4ce8-9f7b-717b3b0b4f92",
   "metadata": {},
   "outputs": [],
   "source": [
    "import cProfile\n",
    "import pstats\n",
    "\n",
    "profiler = cProfile.Profile()\n",
    "profiler.enable()\n",
    "df = pd.read_parquet(\"Data/Large/articles.parquet\")\n",
    "profiler.disable()\n",
    "\n",
    "profiler_stats = pstats.Stats(profiler)\n",
    "profiler_stats.print_stats()"
   ]
  },
  {
   "cell_type": "code",
   "execution_count": null,
   "id": "e15aa7e8-ef30-4e1d-908c-9dc597f5bce9",
   "metadata": {},
   "outputs": [],
   "source": [
    "profiler = cProfile.Profile()\n",
    "profiler.enable()\n",
    "df = dd.read_parquet(\"Data/Large/articles.parquet\", engine = \"fastparquet\")\n",
    "profiler.disable()\n",
    "\n",
    "profiler_stats = pstats.Stats(profiler)\n",
    "profiler_stats.print_stats()"
   ]
  },
  {
   "cell_type": "markdown",
   "id": "30fe4d4a-f8e0-4b9d-a9dd-7b5719a44b6f",
   "metadata": {},
   "source": [
    "Even though the dataframe took 1.464 seconds to load using pandas, dask took 0.054 seconds. This is a huge speedup ~ 27x"
   ]
  },
  {
   "cell_type": "code",
   "execution_count": 2,
   "id": "59a57c46-4e08-4299-8a69-12d45e274b46",
   "metadata": {},
   "outputs": [],
   "source": [
    "#Load in various dataframes\n",
    "## Articles\n",
    "df_art = pd.read_parquet(\"Data/Small/articles.parquet\")\n",
    "\n",
    "## Behaviors\n",
    "df_bev = pd.read_parquet(\"Data/Small/train/behaviors.parquet\")\n",
    "\n",
    "## History\n",
    "df_his = pd.read_parquet(\"Data/Small/train/history.parquet\")\n",
    "\n"
   ]
  },
  {
   "cell_type": "markdown",
   "id": "dd6d447c",
   "metadata": {},
   "source": [
    "Join the data sources"
   ]
  },
  {
   "cell_type": "code",
   "execution_count": 3,
   "id": "b3cfa16d",
   "metadata": {},
   "outputs": [],
   "source": [
    "# Convert datatype of column first\n",
    "df_bev['article_ids_clicked'] = df_bev['article_ids_clicked'].apply(lambda x: x[0])"
   ]
  },
  {
   "cell_type": "code",
   "execution_count": 4,
   "id": "5eaa9148",
   "metadata": {},
   "outputs": [],
   "source": [
    "# Join bevhaiors to article\n",
    "df= df_bev.join(df_art.set_index(\"article_id\"), on = \"article_ids_clicked\")\n",
    "\n",
    "# Join bevhaiors to history \n",
    "df= df.join(df_his.set_index(\"user_id\"), on = \"user_id\")\n",
    "\n",
    "# Drop all other dataframes from me\n",
    "df_bev = []\n",
    "df_his = []\n",
    "df_art = []"
   ]
  },
  {
   "cell_type": "code",
   "execution_count": 5,
   "id": "5796b9c4",
   "metadata": {},
   "outputs": [],
   "source": [
    "# Preprocessing\n",
    "df.dropna(subset=['article_id'], inplace= True)\n",
    "#df.dropna(subset =['age'], inplace = True)\n",
    "\n",
    "\n",
    "df['article_id'] = df['article_id'].apply(lambda x: int(x))\n",
    "\n",
    "df['article_id']= df['article_id'].astype(np.int64)\n",
    "\n"
   ]
  },
  {
   "cell_type": "markdown",
   "id": "00dd2615",
   "metadata": {},
   "source": [
    "Visualizations"
   ]
  },
  {
   "cell_type": "code",
   "execution_count": null,
   "id": "af49752d",
   "metadata": {},
   "outputs": [],
   "source": [
    "def plotly_index_values(groupby_object):\n",
    "    \"\"\"Takes in a clause from a pandas groupby statement and returns X and Y variables used for plotting\"\"\"\n",
    "\n",
    "    index = groupby_object.index\n",
    "    values = groupby_object.values\n",
    "\n",
    "    return index, values\n",
    "\n"
   ]
  },
  {
   "cell_type": "markdown",
   "id": "c4e0b195",
   "metadata": {},
   "source": [
    "Lets calculate the unique users for hourly, daily, and day of the week. Let's use a subset of the data until we know our plots are very good"
   ]
  },
  {
   "cell_type": "markdown",
   "id": "7988d669",
   "metadata": {},
   "source": [
    "#### Biggest thing is user engagement : Bigger User Engagement -> More eveneue\n",
    "#### We need to maximize the amount of ads these guys are viewing -> this leads on to them clicking on new articles for ads\n",
    "#### So, let's not make article length too short so that people can maximize their session lengths with a lot of articles!"
   ]
  },
  {
   "cell_type": "markdown",
   "id": "c74c8812",
   "metadata": {},
   "source": [
    "## User Activity"
   ]
  },
  {
   "cell_type": "code",
   "execution_count": null,
   "id": "84c2e12e",
   "metadata": {},
   "outputs": [],
   "source": [
    "df['user_id'].unique()"
   ]
  },
  {
   "cell_type": "code",
   "execution_count": null,
   "id": "84e0f2f7",
   "metadata": {},
   "outputs": [],
   "source": [
    "# Let's make subsets for each user_id and then populate the frequency based on that\n",
    "\n",
    "## Get all unique ids in a list\n",
    "\n",
    "unique_user_ids = df['user_id'].unique()[0:1000]\n",
    "\n",
    "# Create dictionaries\n",
    "unique_users_daily_freq = {}\n",
    "unique_users_hourly_freq = {}\n",
    "unique_users_dayofweek_freq = {}\n",
    "unique_users_weekly_freq = {}\n",
    "\n",
    "for id in unique_user_ids:\n",
    "    # Get the subset of that user id\n",
    "    tmp_df = df[df['user_id'] == id]\n",
    "\n",
    "    # Now lets go through each and populate the unique dates, hours and day of the week for each user\n",
    "    dates = []\n",
    "    hours = []\n",
    "    dayofweek = []\n",
    "    week = []\n",
    "    indices = np.array(tmp_df.index)\n",
    "    for i in indices:\n",
    "        tmp_datetime = pd.DatetimeIndex(tmp_df['impression_time_fixed'][i])\n",
    "        tmp_date = tmp_datetime.date\n",
    "        tmp_time = tmp_datetime.time\n",
    "        tmp_dayofweek = tmp_datetime.day_of_week\n",
    "        tmp_week = tmp_datetime.isocalendar().week\n",
    "\n",
    "        for j in tmp_date:\n",
    "            dates.append(j)\n",
    "        \n",
    "        for k in tmp_time:\n",
    "            hours.append(k)\n",
    "        \n",
    "        for l in tmp_dayofweek:\n",
    "            dayofweek.append(l)\n",
    "        \n",
    "        for m in tmp_week:\n",
    "            week.append(m)\n",
    "\n",
    "    # Get rid of duplicate values\n",
    "    unique_dates = list(set(dates))\n",
    "    unique_hours = list(set(hours))\n",
    "    unique_dayofweek = list(set(dayofweek))\n",
    "    unique_week = list(set(week))\n",
    "\n",
    "    # Convert to string\n",
    "    unique_dates = [x.strftime('%m/%d/%Y') for x in unique_dates]\n",
    "    unique_hours = [x.hour for x in unique_hours]\n",
    "\n",
    "\n",
    "    # Populate our unique_user_daily_freq dict\n",
    "    for i in unique_dates:\n",
    "        \n",
    "        if i not in unique_users_daily_freq:\n",
    "            unique_users_daily_freq[i] = 1\n",
    "        else:\n",
    "            unique_users_daily_freq[i] +=1\n",
    "        \n",
    "\n",
    "    # Populate hourly activity\n",
    "    for j in unique_hours:\n",
    "\n",
    "        if j not in unique_users_hourly_freq:\n",
    "            unique_users_hourly_freq[j] = 1\n",
    "        else:\n",
    "            unique_users_hourly_freq[j] +=1\n",
    "\n",
    "    # Populate dayofweeka activity\n",
    "    for k in unique_dayofweek:\n",
    "\n",
    "        if k not in unique_users_dayofweek_freq:\n",
    "            unique_users_dayofweek_freq[k] = 1\n",
    "        else:\n",
    "            unique_users_dayofweek_freq[k] +=1\n",
    "    \n",
    "\n",
    "    # Populate dayofweeka activity\n",
    "    for l in unique_week:\n",
    "\n",
    "        if l not in unique_users_weekly_freq:\n",
    "            unique_users_weekly_freq[l] = 1\n",
    "        else:\n",
    "            unique_users_weekly_freq[l] +=1\n",
    "    \n",
    "            \n",
    "    "
   ]
  },
  {
   "cell_type": "code",
   "execution_count": null,
   "id": "480ef394",
   "metadata": {},
   "outputs": [],
   "source": [
    "# What does the daily user activity look like?\n",
    "unique_users_daily_freq = dict(sorted(unique_users_daily_freq.items()))\n",
    "\n",
    "indices = [x for x in unique_users_daily_freq.keys()]\n",
    "values = [x for x in unique_users_daily_freq.values()]\n",
    "\n",
    "fig = go.Figure()\n",
    "\n",
    "# Add traces\n",
    "fig.add_trace(go.Scatter(x = indices, y = values,\n",
    "                         mode = 'lines+markers'\n",
    "                         )\n",
    "\n",
    ")\n",
    "\n",
    "fig.show()\n"
   ]
  },
  {
   "cell_type": "code",
   "execution_count": null,
   "id": "05a681f3",
   "metadata": {},
   "outputs": [],
   "source": [
    "# What does the hourly user activity look like?\n",
    "indices = [x for x in unique_users_hourly_freq.keys()]\n",
    "values = [x for x in unique_users_hourly_freq.values()]\n",
    "\n",
    "fig = go.Figure()\n",
    "\n",
    "# Add traces\n",
    "fig.add_trace(go.Scatter(x = indices, y = values,\n",
    "                         mode = 'markers'\n",
    "                         )\n",
    "\n",
    ")\n",
    "\n",
    "fig.show()"
   ]
  },
  {
   "cell_type": "code",
   "execution_count": null,
   "id": "6635bea8",
   "metadata": {},
   "outputs": [],
   "source": [
    "# What does the weekly user activity look like?\n",
    "indices = [x for x in unique_users_weekly_freq.keys()]\n",
    "values = [x for x in unique_users_weekly_freq.values()]\n",
    "\n",
    "fig = go.Figure()\n",
    "\n",
    "# Add traces\n",
    "fig.add_trace(go.Scatter(x = indices, y = values,\n",
    "                         mode = 'markers'\n",
    "                         )\n",
    "\n",
    ")\n",
    "\n",
    "fig.show()"
   ]
  },
  {
   "cell_type": "code",
   "execution_count": null,
   "metadata": {},
   "outputs": [],
   "source": [
    "# What does the weekly user activity look like?\n",
    "indices = [x for x in unique_users_dayofweek_freq.keys()]\n",
    "values = [x for x in unique_users_dayofweek_freq.values()]\n",
    "\n",
    "fig = go.Figure()\n",
    "\n",
    "# Add traces\n",
    "fig.add_trace(go.Scatter(x = indices, y = values,\n",
    "                         mode = 'markers'\n",
    "                         )\n",
    "\n",
    ")\n",
    "\n",
    "fig.show()"
   ]
  },
  {
   "cell_type": "markdown",
   "id": "5668d320",
   "metadata": {},
   "source": [
    "## Users"
   ]
  },
  {
   "cell_type": "markdown",
   "id": "361ef1f1",
   "metadata": {},
   "source": [
    "Daily User growth"
   ]
  },
  {
   "cell_type": "code",
   "execution_count": null,
   "id": "d61b4f2f",
   "metadata": {},
   "outputs": [],
   "source": [
    "unique_user_ids = df['user_id'].unique()\n",
    "\n",
    "# Create dictionaries\n",
    "unique_users_daily_growth_freq= {}\n",
    "unique_users_hourly_freq = {}\n",
    "unique_users_dayofweek_freq = {}\n",
    "unique_users_weekly_freq = {}\n",
    "\n",
    "for id in unique_user_ids:\n",
    "    # Get the subset of that user id\n",
    "    tmp_df = df[df['user_id'] == id]\n",
    "    first_index = tmp_df['impression_time_fixed'].index[0]\n",
    "    tmp_datetime = pd.DatetimeIndex(tmp_df['impression_time_fixed'][first_index])\n",
    "    tmp_date = tmp_datetime[0].date()\n",
    "    join_date = tmp_date.strftime('%m/%d/%Y')\n",
    "    #join_date = join_date.strftime('%m/%d/%Y')\n",
    "    \n",
    "    if join_date not in unique_users_daily_growth_freq:\n",
    "        unique_users_daily_growth_freq[join_date] = 1\n",
    "    else:\n",
    "        unique_users_daily_growth_freq[join_date] +=1\n",
    "    \n",
    "unique_users_daily_growth_freq = dict(sorted(unique_users_daily_growth_freq.items()))"
   ]
  },
  {
   "cell_type": "code",
   "execution_count": null,
   "id": "f2bafa25",
   "metadata": {},
   "outputs": [],
   "source": [
    "indices = [x for x in unique_users_daily_growth_freq.keys()]\n",
    "values = [x for x in unique_users_daily_growth_freq.values()]\n",
    "\n",
    "fig = go.Figure()\n",
    "\n",
    "# Add traces\n",
    "fig.add_trace(go.Bar(x = indices, y = values,\n",
    "                         \n",
    "                         )\n",
    "\n",
    ")\n",
    "\n",
    "fig.update_traces(texttemplate='%{text:.2s}', textposition='outside')\n",
    "fig.update_layout(uniformtext_minsize=8, uniformtext_mode='hide')\n",
    "\n",
    "fig.show()"
   ]
  },
  {
   "cell_type": "markdown",
   "id": "0bf6f358",
   "metadata": {},
   "source": [
    "### Average readtime per user"
   ]
  },
  {
   "cell_type": "code",
   "execution_count": null,
   "id": "fc8a48f2",
   "metadata": {},
   "outputs": [],
   "source": [
    "## Average readtime per user\n",
    "avg_read_times = df.groupby(by =  'user_id')['read_time'].mean()\n",
    "\n",
    "fig = go.Figure()\n",
    "fig.add_trace(go.Histogram(x=avg_read_times))\n",
    "\n",
    "\n",
    "# Overlay both histograms\n",
    "fig.update_layout(barmode='overlay')\n",
    "# Reduce opacity to see both histograms\n",
    "fig.update_traces(opacity=0.55)\n",
    "fig.show()\n",
    "\n",
    "\n"
   ]
  },
  {
   "cell_type": "markdown",
   "id": "e4424d9e",
   "metadata": {},
   "source": [
    "### Average scroll percentage per user"
   ]
  },
  {
   "cell_type": "code",
   "execution_count": null,
   "id": "03d400e7",
   "metadata": {},
   "outputs": [],
   "source": [
    "# Average scroll time across each user\n",
    "## Average readtime per user\n",
    "avg_scroll_percentage = df.groupby(by = 'user_id')['scroll_percentage'].mean()\n",
    "\n",
    "fig = go.Figure()\n",
    "fig.add_trace(go.Histogram(x=avg_scroll_percentage))\n",
    "\n",
    "\n",
    "# Overlay both histograms\n",
    "fig.update_layout(barmode='overlay')\n",
    "# Reduce opacity to see both histograms\n",
    "fig.update_traces(opacity=0.55)\n",
    "fig.show()"
   ]
  },
  {
   "cell_type": "markdown",
   "id": "812afcd3",
   "metadata": {},
   "source": [
    "## Session"
   ]
  },
  {
   "cell_type": "markdown",
   "id": "edeee20c",
   "metadata": {},
   "source": [
    "Daily Active Sessions"
   ]
  },
  {
   "cell_type": "code",
   "execution_count": null,
   "id": "b7868e22",
   "metadata": {},
   "outputs": [],
   "source": [
    "# Number of unique sessions per day\n",
    "tmp_df = df\n",
    "tmp_df['impression_time'] = tmp_df['impression_time'].apply(lambda x: x.strftime('%m/%d/%Y'))\n",
    "\n",
    "\n",
    "unique_session_dates= tmp_df['impression_time'].unique()\n",
    "unique_sessions_per_day = tmp_df.groupby(by = 'session_id')['impression_time'].min()\n",
    "unique_sessions_daily_growth = {k:0 for k in unique_sessions_per_day}\n",
    "\n",
    "\n",
    "for x in unique_sessions_per_day.values:\n",
    "    unique_sessions_daily_growth[x] +=1\n",
    "\n",
    "unique_sessions_daily_growth = dict(sorted(unique_sessions_daily_growth.items()))"
   ]
  },
  {
   "cell_type": "code",
   "execution_count": null,
   "id": "b44db7ac",
   "metadata": {},
   "outputs": [],
   "source": [
    "indices = [x for x in unique_sessions_daily_growth.keys()]\n",
    "values = [x for x in unique_sessions_daily_growth.values()]\n",
    "\n",
    "fig = go.Figure()\n",
    "\n",
    "# Add traces\n",
    "fig.add_trace(go.Bar(x = indices, y = values,\n",
    "                         \n",
    "                         )\n",
    "\n",
    ")\n",
    "\n",
    "fig.update_traces(texttemplate='%{text:.2s}', textposition='outside')\n",
    "fig.update_layout(uniformtext_minsize=8, uniformtext_mode='hide')\n",
    "\n",
    "fig.show()\n",
    "\n"
   ]
  },
  {
   "cell_type": "markdown",
   "id": "ef76c067",
   "metadata": {},
   "source": [
    "### Average readtime per session"
   ]
  },
  {
   "cell_type": "code",
   "execution_count": null,
   "id": "af644351",
   "metadata": {},
   "outputs": [],
   "source": [
    "# For each session, what was the average readtimes\n",
    "\n",
    "## Average readtime per session\n",
    "avg_read_times = df.groupby(by ='session_id')['read_time'].mean()\n",
    "\n",
    "fig = go.Figure()\n",
    "fig.add_trace(go.Histogram(x=avg_read_times))\n",
    "\n",
    "\n",
    "# Overlay both histograms\n",
    "fig.update_layout(barmode='overlay')\n",
    "# Reduce opacity to see both histograms\n",
    "fig.update_traces(opacity=0.55)\n",
    "fig.show()\n",
    "\n",
    "\n",
    "\n",
    "    "
   ]
  },
  {
   "cell_type": "markdown",
   "id": "52d99ce7",
   "metadata": {},
   "source": [
    "Average scroll percentage per session"
   ]
  },
  {
   "cell_type": "code",
   "execution_count": null,
   "id": "5fba3670",
   "metadata": {},
   "outputs": [],
   "source": [
    "# For each session, what was the average scroll time\n",
    "\n",
    "# Distribution blot histogram (bin it)\n",
    "df.groupby(by= 'session_id')['scroll_percentage'].mean()\n",
    "\n",
    "## Average readtime per user\n",
    "avg_scroll_pct = df.groupby(by ='session_id')['scroll_percentage'].mean()\n",
    "\n",
    "fig = go.Figure()\n",
    "fig.add_trace(go.Histogram(x=avg_scroll_pct))\n",
    "\n",
    "\n",
    "# Overlay both histograms\n",
    "fig.update_layout(barmode='overlay')\n",
    "# Reduce opacity to see both histograms\n",
    "fig.update_traces(opacity=0.55)\n",
    "fig.show()"
   ]
  },
  {
   "cell_type": "markdown",
   "id": "9ae85ec3",
   "metadata": {},
   "source": [
    "## Topic"
   ]
  },
  {
   "cell_type": "code",
   "execution_count": null,
   "id": "83b4af30",
   "metadata": {},
   "outputs": [],
   "source": [
    "# Let's get unique_user_ids topics\n",
    "\n",
    "## Get all unique ids in a list\n",
    "\n",
    "unique_user_ids = df['user_id'].values[0:1000]\n",
    "\n",
    "# Create dictionaries\n",
    "unique_users_topics_freq= {}\n",
    "unique_topic_scroll_freq = {}\n",
    "unique_topic_read_freq = {}\n",
    "\n",
    "for id in unique_user_ids:\n",
    "    # Get the subset of that user id\n",
    "    tmp_df = df[df['user_id'] == id]\n",
    "\n",
    "    # Now lets go through each topic\n",
    "    indices = np.array(tmp_df.index)\n",
    "    for i in indices:\n",
    "        tmp_topics = tmp_df['topics'][i]\n",
    "        tmp_scroll = tmp_df['scroll_percentage'][i]\n",
    "        tmp_read = tmp_df['read_time'][i]\n",
    "\n",
    "        topics = [x for x in tmp_topics]\n",
    "        scroll = [tmp_scroll]\n",
    "        read = [tmp_read]\n",
    "\n",
    "            \n",
    "    # Find the average scroll percentages across each topic  (Can be related to whether a topic doesnt require too much reading has visualizations)\n",
    "\n",
    "    ## Group by user ID\n",
    "    ### Look at article_id for whichever topics the article is included in add that readtime and scroll percentage\n",
    "        tmp_dict = {k:v for k,v in zip(topics, scroll)}\n",
    "\n",
    "        for k,v in zip(tmp_dict.keys(), tmp_dict.values()):\n",
    "\n",
    "            if (k in unique_topic_scroll_freq.keys()):\n",
    "                tmp_array= np.append(unique_topic_scroll_freq[k],v)\n",
    "                unique_topic_scroll_freq[k] = tmp_array\n",
    "            if (k not in unique_topic_scroll_freq.keys()):\n",
    "                unique_topic_scroll_freq[k] = []\n",
    "\n",
    "    # Find the average read time across each topic\n",
    "    ## Group by user ID\n",
    "    ### Look at article_id for whichever topics the article is included in add that readtime and scroll percentage\n",
    "        tmp_dict = {k:v for k,v in zip(topics, read)}\n",
    "\n",
    "        for k,v in zip(tmp_dict.keys(), tmp_dict.values()):\n",
    "\n",
    "            if (k in unique_topic_read_freq.keys()):\n",
    "                tmp_array= np.append(unique_topic_read_freq[k],v)\n",
    "                unique_topic_read_freq[k] = tmp_array\n",
    "            if (k not in unique_topic_read_freq.keys()):\n",
    "                unique_topic_read_freq[k] = []\n",
    "\n",
    "    \n",
    "    ## Unique User Topics\n",
    "    # Get rid of duplicate values\n",
    "    unique_topics = list(set(topics))\n",
    "\n",
    "    \n",
    "    # Populate our dict\n",
    "    for i in unique_topics:\n",
    "        \n",
    "        if i not in unique_users_topics_freq:\n",
    "            unique_users_topics_freq[i] = 1\n",
    "        else:\n",
    "            unique_users_topics_freq[i] +=1\n",
    "\n"
   ]
  },
  {
   "cell_type": "markdown",
   "id": "2f3f54e8",
   "metadata": {},
   "source": [
    "### Distribution of Topics across users"
   ]
  },
  {
   "cell_type": "code",
   "execution_count": null,
   "id": "baa6df5b",
   "metadata": {},
   "outputs": [],
   "source": [
    "# What does the distribution of topics look like lets sort it?\n",
    "sorted_topic_freq = dict(sorted(unique_users_topics_freq.items(), key = lambda x: x[1], reverse = True))\n",
    "\n",
    "\n",
    "indices = [x for x in sorted_topic_freq.keys()]\n",
    "values = [x for x in sorted_topic_freq.values()]\n",
    "\n",
    "fig = go.Figure()\n",
    "\n",
    "# Add traces\n",
    "fig.add_trace(go.Bar(x = indices, y = values,\n",
    "                         \n",
    "                         )\n",
    "\n",
    ")\n",
    "\n",
    "fig.update_traces(texttemplate='%{text:.2s}', textposition='outside')\n",
    "fig.update_layout(uniformtext_minsize=8, uniformtext_mode='hide')\n",
    "\n",
    "fig.show()"
   ]
  },
  {
   "cell_type": "markdown",
   "id": "5ab41490",
   "metadata": {},
   "source": [
    "### Average readtime per topic"
   ]
  },
  {
   "cell_type": "code",
   "execution_count": null,
   "id": "a3bea6df",
   "metadata": {},
   "outputs": [],
   "source": [
    "# Find the average read times across each topic\n",
    "\n",
    "# Get the average scroll length for each article\n",
    "for k,v in zip(unique_topic_read_freq.keys(), unique_topic_read_freq.values()):\n",
    "    unique_topic_read_freq[k] = np.nanmean(v)\n",
    "\n",
    "sorted_unique_topic_read_freq = dict(sorted(unique_topic_read_freq.items(), key = lambda x: x[1], reverse = True))\n",
    "\n",
    "\n",
    "indices = [x for x in sorted_unique_topic_read_freq . keys()]\n",
    "values = [x for x in sorted_unique_topic_read_freq.values()]\n",
    "\n",
    "fig = go.Figure()\n",
    "\n",
    "# Add traces\n",
    "fig.add_trace(go.Bar(x = indices, y = values,\n",
    "                         \n",
    "                         )\n",
    "\n",
    ")\n",
    "\n",
    "fig.update_traces(texttemplate='%{text:.2s}', textposition='outside')\n",
    "fig.update_layout(uniformtext_minsize=8, uniformtext_mode='hide')\n",
    "\n",
    "fig.show()"
   ]
  },
  {
   "cell_type": "markdown",
   "id": "8973adab",
   "metadata": {},
   "source": [
    "### Average scroll perct per topic"
   ]
  },
  {
   "cell_type": "code",
   "execution_count": null,
   "id": "c6732699",
   "metadata": {},
   "outputs": [],
   "source": [
    "# Find the average scroll percentages across each topic\n",
    "\n",
    "# Get the average scroll length for each article\n",
    "for k,v in zip(unique_topic_scroll_freq.keys(), unique_topic_scroll_freq.values()):\n",
    "    unique_topic_scroll_freq[k] = np.nanmean(v)\n",
    "\n",
    "sorted_unique_topic_scroll_freq = dict(sorted(unique_topic_scroll_freq.items(), key = lambda x: x[1], reverse = True))\n",
    "\n",
    "\n",
    "indices = [x for x in sorted_unique_topic_scroll_freq . keys()]\n",
    "values = [x for x in sorted_unique_topic_scroll_freq.values()]\n",
    "\n",
    "fig = go.Figure()\n",
    "\n",
    "# Add traces\n",
    "fig.add_trace(go.Bar(x = indices, y = values,\n",
    "                         \n",
    "                         )\n",
    "\n",
    ")\n",
    "\n",
    "fig.update_traces(texttemplate='%{text:.2s}', textposition='outside')\n",
    "fig.update_layout(uniformtext_minsize=8, uniformtext_mode='hide')\n",
    "\n",
    "fig.show()"
   ]
  },
  {
   "cell_type": "markdown",
   "id": "ea97be17",
   "metadata": {},
   "source": [
    "### Activity"
   ]
  },
  {
   "cell_type": "code",
   "execution_count": null,
   "id": "144c7382",
   "metadata": {},
   "outputs": [],
   "source": [
    "# Get the list of each unqiue topic in a specific session \n",
    "topics = df.groupby(by = 'session_id')['topics'].apply(list)\n",
    "\n",
    "# Get the list of each unique timestamp for these sessions\n",
    "timestamps = df.groupby(by = 'session_id')['impression_time'].apply(list)\n",
    "\n",
    "# Get all the unique topics\n",
    "\n",
    "# Get all the unique topics\n",
    "unique_topics = []\n",
    "for i in range(len(topics.values)):\n",
    "    for j in range(0, len(topics.values[i][0])):\n",
    "        tmp = topics.values[i][0][j]\n",
    "        if tmp not in unique_topics:\n",
    "            unique_topics.append(tmp)\n",
    "\n",
    "\n",
    "unique_topics = sorted(unique_topics)\n",
    "\n",
    "# Get all unique dates\n",
    "timestamps = df.groupby(by = 'session_id')['impression_time'].apply(list)\n",
    "\n",
    "unique_dates = []\n",
    "unique_hours= [str(i) if i > 9 else str(0) + str(i) for i in range(24)]\n",
    "\n",
    "for i in range(len(timestamps.values)):\n",
    "    for j in range(len(timestamps.values[i])):\n",
    "        tmp_datetime = timestamps.values[i][j]\n",
    "        tmp_date = tmp_datetime.strftime('%m/%d/%Y')\n",
    "        if tmp_date not in unique_dates:\n",
    "            unique_dates.append(tmp_date)\n",
    "\n",
    "\n",
    "unique_dates = sorted(unique_dates)\n",
    "\n",
    "\n",
    "\n"
   ]
  },
  {
   "cell_type": "code",
   "execution_count": null,
   "id": "c3bd849b",
   "metadata": {},
   "outputs": [],
   "source": [
    "unique_topic_daily_activity  = {k:{k:0 for k in unique_dates} for k in unique_topics}\n",
    "unique_topic_hourly_activity  = {k:{k:0 for k in unique_hours} for k in unique_topics}\n",
    "\n",
    "# Populate the dictionary\n",
    "for i in zip(range(len(topics.values))):\n",
    "    for j, k  in zip(range(0, len(topics.values[i][0])), range(0, len(i))):\n",
    "        tmp = topics.values[i][0][j]\n",
    "        tmp_datetime = timestamps.values[i][k]\n",
    "        tmp_date = tmp_datetime.strftime('%m/%d/%Y')\n",
    "        tmp_time = tmp_datetime.strftime('%H')\n",
    "\n",
    "        # Add to dictionary\n",
    "        unique_topic_daily_activity[tmp][tmp_date] +=1\n",
    "        unique_topic_hourly_activity[tmp][tmp_time] +=1\n",
    "    \n",
    "\n",
    "\n"
   ]
  },
  {
   "cell_type": "markdown",
   "id": "3c0e4838",
   "metadata": {},
   "source": [
    "Daily"
   ]
  },
  {
   "cell_type": "code",
   "execution_count": null,
   "id": "18ddb47f",
   "metadata": {},
   "outputs": [],
   "source": [
    "fig = go.Figure()\n",
    "\n",
    "for topic in unique_topic_daily_activity.keys():\n",
    "    # What does the daily user activity look like?\n",
    "    indices = [x for x in unique_topic_daily_activity[topic].keys()]\n",
    "    values = [x for x in unique_topic_daily_activity[topic].values()]\n",
    "\n",
    "\n",
    "    # Add traces\n",
    "    fig.add_trace(go.Scatter(x = indices, y = values,\n",
    "                            mode = 'lines+markers'\n",
    "                            )\n",
    "\n",
    "    )\n",
    "\n",
    "fig.show()"
   ]
  },
  {
   "cell_type": "markdown",
   "id": "03917388",
   "metadata": {},
   "source": [
    "Hourly Activity"
   ]
  },
  {
   "cell_type": "code",
   "execution_count": null,
   "id": "119fe30f",
   "metadata": {},
   "outputs": [],
   "source": [
    "fig = go.Figure()\n",
    "\n",
    "for topic in unique_topic_hourly_activity.keys():\n",
    "    # What does the daily user activity look like?\n",
    "    indices = [x for x in unique_topic_hourly_activity[topic].keys()]\n",
    "    values = [x for x in unique_topic_hourly_activity[topic].values()]\n",
    "\n",
    "\n",
    "    # Add traces\n",
    "    fig.add_trace(go.Scatter(x = indices, y = values,\n",
    "                            mode = 'lines+markers'\n",
    "                            )\n",
    "\n",
    "    )\n",
    "\n",
    "fig.show()"
   ]
  },
  {
   "cell_type": "markdown",
   "id": "9499b9a7",
   "metadata": {},
   "source": [
    "## Article"
   ]
  },
  {
   "cell_type": "markdown",
   "id": "a4919c54",
   "metadata": {},
   "source": [
    "### Average readtime per article"
   ]
  },
  {
   "cell_type": "code",
   "execution_count": null,
   "id": "7849464a",
   "metadata": {},
   "outputs": [],
   "source": [
    "## For each article, what was each users read time\n",
    "\n",
    "\n",
    "## Get all unique ids in a list\n",
    "\n",
    "unique_user_ids = df['user_id'].values[0:1000]\n",
    "\n",
    "## We take the set because the scroll, article per user is joined in a list for every user id (so just take the set of it!)\n",
    "unique_user_ids = set(unique_user_ids)\n",
    "\n",
    "\n",
    "unique_article_ids = df['article_id'].unique()\n",
    "unique_article_ids= unique_article_ids[~np.isnan(unique_article_ids)]\n",
    "\n",
    "\n",
    "# Create dictionaries\n",
    "\n",
    "unique_article_read = {k: [0] for k in unique_article_ids}\n",
    "\n",
    "for id in unique_user_ids:\n",
    "    # Get the subset of that user id\n",
    "    tmp_df = df[df['user_id'] == id]\n",
    "\n",
    "    # Now lets go through each scroll and article\n",
    "    ## Iterate through each of the df\n",
    "    indices = np.array(tmp_df.index)\n",
    "    for i in indices:\n",
    "        tmp_dict = {}\n",
    "        # Select the scroll / article of that indice and \n",
    "        tmp_read = tmp_df['read_time_fixed'][i]\n",
    "\n",
    "        tmp_article = tmp_df['article_id_fixed'][i]\n",
    "\n",
    "        read = [x for x in tmp_read]\n",
    "        \n",
    "        articles = [np.int64(x) for x in tmp_article]\n",
    "    \n",
    "        tmp_dict = {k:v for k,v in zip(articles, read)}\n",
    "\n",
    "\n",
    "        for k,v in zip(tmp_dict.keys(), tmp_dict.values()):\n",
    "\n",
    "            #if unique_article_scroll.get(k) != None:\n",
    "            #    unique_article_scroll[k] += v\n",
    "            if (k in unique_article_read.keys()) & (np.isnan(v) == False):\n",
    "                tmp_array= np.append(unique_article_read[k],v)\n",
    "                unique_article_read[k] = tmp_array\n",
    "        \n",
    "    \n",
    "    # Get the average scroll length for each article\n",
    "    for k,v in zip(unique_article_read.keys(), unique_article_read.values()):\n",
    "        unique_article_read[k] = np.mean(v)\n",
    "\n",
    "\n",
    "\n",
    "# What does the hourly user activity look like?\n",
    "indices = [x for x in unique_article_read.keys()]\n",
    "values = [x for x in unique_article_read.values()]\n",
    "\n",
    "fig = go.Figure()\n",
    "\n",
    "# Add traces\n",
    "fig.add_trace(go.Scatter(x = indices, y = values,\n",
    "                         mode = 'markers'\n",
    "                         )\n",
    "\n",
    ")\n",
    "\n",
    "fig.show()\n"
   ]
  },
  {
   "cell_type": "markdown",
   "id": "085b8c77",
   "metadata": {},
   "source": [
    "### Average scroll pct per article"
   ]
  },
  {
   "cell_type": "code",
   "execution_count": null,
   "id": "5eeca6e0",
   "metadata": {},
   "outputs": [],
   "source": [
    "## For each article, what was each users scroll percentage + read time? \n",
    "\n",
    "\n",
    "## Get all unique ids in a list\n",
    "\n",
    "unique_user_ids = df['user_id'].values[0:2000]\n",
    "\n",
    "## We take the set because the scroll, article per user is joined in a list for every user id (so just take the set of it!)\n",
    "unique_user_ids = set(unique_user_ids)\n",
    "\n",
    "\n",
    "unique_article_ids = df['article_id'].unique()\n",
    "unique_article_ids= unique_article_ids[~np.isnan(unique_article_ids)]\n",
    "\n",
    "# Create dictionaries\n",
    "\n",
    "unique_article_scroll = {k: [0] for k in unique_article_ids}\n",
    "\n",
    "for id in unique_user_ids:\n",
    "    # Get the subset of that user id\n",
    "    tmp_df = df[df['user_id'] == id]\n",
    "\n",
    "    # Now lets go through each scroll and article\n",
    "    ## Iterate through each of the df\n",
    "    indices = np.array(tmp_df.index)\n",
    "    for i in indices:\n",
    "        tmp_dict = {}\n",
    "        # Select the scroll / article of that indice and \n",
    "        tmp_scroll = tmp_df['scroll_percentage_fixed'][i]\n",
    "\n",
    "        tmp_article = tmp_df['article_id_fixed'][i]\n",
    "\n",
    "        scroll = [x for x in tmp_scroll]\n",
    "        \n",
    "        articles = [np.int64(x) for x in tmp_article]\n",
    "    \n",
    "        tmp_dict = {k:v for k,v in zip(articles, scroll)}\n",
    "\n",
    "\n",
    "        for k,v in zip(tmp_dict.keys(), tmp_dict.values()):\n",
    "\n",
    "            if (k in unique_article_scroll.keys()) & (np.isnan(v) == False):\n",
    "                tmp_array= np.append(unique_article_scroll[k],v)\n",
    "                unique_article_scroll[k] = tmp_array\n",
    "        \n",
    "    \n",
    "# Get the average scroll length for each article\n",
    "for k,v in zip(unique_article_scroll.keys(), unique_article_scroll.values()):\n",
    "    unique_article_scroll[k] = np.mean(v)\n",
    "\n",
    "\n",
    "\n",
    "indices = [x for x in unique_article_scroll.keys()]\n",
    "avg_scroll_pct = [x for x in unique_article_scroll.values()]\n",
    "\n",
    "fig = go.Figure()\n",
    "\n",
    "# Add traces\n",
    "fig.add_trace(go.Histogram(x=avg_scroll_pct)\n",
    "\n",
    ")\n",
    "\n",
    "fig.show()\n"
   ]
  },
  {
   "cell_type": "markdown",
   "id": "e0e4503e",
   "metadata": {},
   "source": [
    "# Devices"
   ]
  },
  {
   "cell_type": "code",
   "execution_count": null,
   "id": "2dec3192",
   "metadata": {},
   "outputs": [],
   "source": [
    "# Overall distribtuion of devices\n",
    "\n",
    "df['device_type'].value_counts()"
   ]
  },
  {
   "cell_type": "code",
   "execution_count": null,
   "id": "9c66ef16",
   "metadata": {},
   "outputs": [],
   "source": [
    "devices = [d for d in df['device_type'].unique()]\n",
    "\n",
    "devices"
   ]
  },
  {
   "cell_type": "markdown",
   "id": "b9dffc83",
   "metadata": {},
   "source": [
    "### Readtime per device"
   ]
  },
  {
   "cell_type": "code",
   "execution_count": null,
   "id": "dc390dc9",
   "metadata": {},
   "outputs": [],
   "source": [
    "# Readtime per device\n",
    "\n",
    "## Get indices with different devices \n",
    "### Color based on label\n",
    "#### Histogram -> Bar graph for avg?\n",
    "devices = [d for d in df['device_type'].unique()]\n",
    "\n",
    "\n",
    "fig = go.Figure()\n",
    "for d in devices:\n",
    "    device = df[df['device_type'] == d]['read_time']\n",
    "    fig.add_trace(go.Histogram(x=device))\n",
    "\n",
    "# Overlay both histograms\n",
    "fig.update_layout(barmode='overlay')\n",
    "# Reduce opacity to see both histograms\n",
    "fig.update_traces(opacity=0.55)\n",
    "fig.show()\n"
   ]
  },
  {
   "cell_type": "code",
   "execution_count": null,
   "id": "1f164a95",
   "metadata": {},
   "outputs": [],
   "source": [
    "# Average readtime per device\n",
    "\n",
    "## Get indices with different devices \n",
    "### Color based on label\n",
    "#### Histogram -> Bar graph for avg?\n",
    "\n",
    "fig = go.Figure()\n",
    "\n",
    "devices = [d for d in df['device_type'].unique()]\n",
    "\n",
    "\n",
    "fig = go.Figure()\n",
    "for d in devices:\n",
    "    avg_device_readtime = df[df['device_type'] == d]['read_time'].mean()\n",
    "    fig.add_trace(go.Bar(x= [d], y = [avg_device_readtime], textfont_size=20))\n",
    "\n",
    "\n",
    "\n",
    "# Overlay both histograms\n",
    "#fig.update_layout(barmode='overlay')\n",
    "# Reduce opacity to see both histograms\n",
    "fig.update_traces(opacity=0.75)\n",
    "fig.show()"
   ]
  },
  {
   "cell_type": "markdown",
   "id": "d55e86ec",
   "metadata": {},
   "source": [
    "### Scroll time per device"
   ]
  },
  {
   "cell_type": "code",
   "execution_count": null,
   "id": "0472abaf",
   "metadata": {},
   "outputs": [],
   "source": [
    "# Scroll pct per device (scatter plot probably better)\n",
    "\n",
    "## Get indices with different devices \n",
    "### Color based on label\n",
    "#### Histogram -> Bar graph for avg?\n",
    "\n",
    "fig = go.Figure()\n",
    "\n",
    "devices = [d for d in df['device_type'].unique()]\n",
    "\n",
    "\n",
    "fig = go.Figure()\n",
    "for d in devices:\n",
    "    avg_device_scrollpct = df[df['device_type'] == d]['scroll_percentage'].mean()\n",
    "    fig.add_trace(go.Bar(x= [d], y = [avg_device_scrollpct], textfont_size=20))\n",
    "\n",
    "\n",
    "\n",
    "# Overlay both histograms\n",
    "#fig.update_layout(barmode='overlay')\n",
    "# Reduce opacity to see both histograms\n",
    "fig.update_traces(opacity=0.75)\n",
    "fig.show()"
   ]
  },
  {
   "cell_type": "markdown",
   "id": "eda8ea32",
   "metadata": {},
   "source": [
    "### Topic"
   ]
  },
  {
   "cell_type": "code",
   "execution_count": null,
   "id": "fe0da553",
   "metadata": {},
   "outputs": [],
   "source": [
    "## Subset based on those entries\n",
    "## populate the counts for the traces\n",
    "\n",
    "\n",
    "fig = go.Figure()\n",
    "\n",
    "devices = [d for d in df['device_type'].unique()]\n",
    "\n",
    "# Get all the unique topics\n",
    "unique_topics = []\n",
    "for i in df.index:\n",
    "    for j in range(0, len(df['topics'][i])):\n",
    "        tmp = df['topics'][i][j]\n",
    "        if tmp not in unique_topics:\n",
    "            unique_topics.append(tmp)\n",
    "\n",
    "\n",
    "unique_topics = sorted(unique_topics)\n",
    "\n",
    "\n",
    "\n",
    "fig = go.Figure()\n",
    "# Iterate through each device \n",
    "for d in devices:\n",
    "    # Find the subset of the data with that device\n",
    "    tmp_df = df[df['device_type'] == d]\n",
    "\n",
    "    # Create a dict object with 0 counts for all topics\n",
    "    device_topic_freq = {k:0 for k in unique_topics}\n",
    "    for i in tmp_df.index:\n",
    "        for j in range(0, len(df['topics'][i])):\n",
    "            # Find that index\n",
    "            tmp_topic = df['topics'][i][j]\n",
    "\n",
    "            # Enumerate\n",
    "            device_topic_freq[tmp_topic] += 1\n",
    "    \n",
    "    device_topic_freq = dict(sorted(device_topic_freq.items(), key = lambda kv: kv[1], reverse= True))\n",
    "    #print(device_topic_freq)\n",
    "        \n",
    "    fig.add_trace(go.Bar(x= [x for x in device_topic_freq.keys()], y = [y for y in device_topic_freq.values()], textfont_size=20))\n",
    "\n",
    "\n",
    "\n",
    "# Overlay both histograms\n",
    "#fig.update_layout(barmode='overlay')\n",
    "# Reduce opacity to see both histograms\n",
    "fig.update_traces(opacity=0.75)\n",
    "fig.show()"
   ]
  },
  {
   "cell_type": "markdown",
   "id": "f7f6e44c",
   "metadata": {},
   "source": [
    "### Activity"
   ]
  },
  {
   "cell_type": "markdown",
   "id": "c39ef15d",
   "metadata": {},
   "source": [
    "#### Daily Activity"
   ]
  },
  {
   "cell_type": "code",
   "execution_count": null,
   "id": "30fd8ade",
   "metadata": {},
   "outputs": [],
   "source": [
    "fig = go.Figure()\n",
    "# Iterate through each device \n",
    "for d in devices:\n",
    "    # Find the subset of the data with that device\n",
    "    tmp_df = df[df['device_type'] == d]\n",
    "\n",
    "    # Create a dict object with 0 counts for all topics\n",
    "    device_daily_activity = {}\n",
    "    for i in tmp_df.index:\n",
    "        # Find that index\n",
    "        tmp_timestamp = df['impression_time'][i]\n",
    "        tmp_datetime = tmp_timestamp\n",
    "        tmp_date = tmp_datetime.strftime('%m/%d/%Y')\n",
    "\n",
    "        # Daily Activity\n",
    "        if tmp_date not in device_daily_activity:\n",
    "            device_daily_activity[tmp_date] = 0\n",
    "        else:\n",
    "            device_daily_activity[tmp_date] +=1\n",
    "    \n",
    "    # Sort by dates\n",
    "    device_daily_activity = dict(sorted(device_daily_activity.items()))\n",
    "\n",
    "    # Add trace\n",
    "    fig.add_trace(go.Bar(x= [x for x in device_daily_activity.keys()], y = [y for y in device_daily_activity.values()], textfont_size=20))\n",
    "\n",
    "\n",
    "\n",
    "    # Overlay both histograms\n",
    "    #fig.update_layout(barmode='overlay')\n",
    "    # Reduce opacity to see both histograms\n",
    "fig.update_traces(opacity=0.75)\n",
    "fig.show()"
   ]
  },
  {
   "cell_type": "markdown",
   "id": "52a4d01a",
   "metadata": {},
   "source": [
    "#### Hourly Activity"
   ]
  },
  {
   "cell_type": "code",
   "execution_count": null,
   "id": "fa957a4a",
   "metadata": {},
   "outputs": [],
   "source": [
    "fig = go.Figure()\n",
    "# Iterate through each device \n",
    "for d in devices:\n",
    "    # Find the subset of the data with that device\n",
    "    tmp_df = df[df['device_type'] == d]\n",
    "\n",
    "    # Create a dict object with 0 counts for all topics\n",
    "    device_hourly_activity = {}\n",
    "    for i in tmp_df.index:\n",
    "        # Find that index\n",
    "        tmp_timestamp = df['impression_time'][i]\n",
    "        tmp_datetime = tmp_timestamp\n",
    "        tmp_time = tmp_datetime.strftime('%H')\n",
    "\n",
    "        # Hourly Activity\n",
    "        if tmp_time not in device_hourly_activity:\n",
    "            device_hourly_activity[tmp_time] = 0\n",
    "        else:\n",
    "            device_hourly_activity[tmp_time] +=1\n",
    "    \n",
    "    # Sort by dates\n",
    "    device_hourly_activity = dict(sorted(device_hourly_activity.items()))\n",
    "\n",
    "    # Add trace\n",
    "    fig.add_trace(go.Bar(x= [x for x in device_hourly_activity.keys()], y = [y for y in device_hourly_activity.values()], textfont_size=20))\n",
    "\n",
    "\n",
    "\n",
    "    # Overlay both histograms\n",
    "    #fig.update_layout(barmode='overlay')\n",
    "    # Reduce opacity to see both histograms\n",
    "fig.update_traces(opacity=0.75)\n",
    "fig.show()"
   ]
  },
  {
   "cell_type": "markdown",
   "id": "c37b7ff5",
   "metadata": {},
   "source": [
    "# If subscriber"
   ]
  },
  {
   "cell_type": "markdown",
   "id": "2445ea77",
   "metadata": {},
   "source": [
    "### How many users are subscribers"
   ]
  },
  {
   "cell_type": "code",
   "execution_count": null,
   "id": "620f06b0",
   "metadata": {},
   "outputs": [],
   "source": [
    "indices = df['is_subscriber'].value_counts().index\n",
    "values = df['is_subscriber'].value_counts().values\n",
    "\n",
    "fig = go.Figure()\n",
    "\n",
    "\n",
    "# Add trace\n",
    "fig.add_trace(go.Bar(x= indices, y = values, textfont_size=20))\n",
    "\n",
    "\n",
    "\n",
    "    # Overlay both histograms\n",
    "    #fig.update_layout(barmode='overlay')\n",
    "    # Reduce opacity to see both histograms\n",
    "fig.update_traces(opacity=0.75)\n",
    "fig.show()\n"
   ]
  },
  {
   "cell_type": "markdown",
   "id": "76723f43",
   "metadata": {},
   "source": [
    "### Read time for subscriber vs non-subscribers"
   ]
  },
  {
   "cell_type": "code",
   "execution_count": null,
   "id": "34d6662a",
   "metadata": {},
   "outputs": [],
   "source": [
    "# Distribution paid subscribers\n",
    "\n",
    "#### Histogram -> Bar graph for avg?\n",
    "\n",
    "subscriber= df[df['is_subscriber'] == True]['read_time']\n",
    "not_subscriber = df[df['is_subscriber'] == False]['read_time']\n",
    "\n",
    "fig = go.Figure()\n",
    "fig.add_trace(go.Histogram(x=subscriber))\n",
    "fig.add_trace(go.Histogram(x=not_subscriber))\n",
    "\n",
    "# Overlay both histograms\n",
    "fig.update_layout(barmode='overlay')\n",
    "# Reduce opacity to see both histograms\n",
    "fig.update_traces(opacity=0.75)\n",
    "fig.show()"
   ]
  },
  {
   "cell_type": "code",
   "execution_count": null,
   "id": "9dc1a544",
   "metadata": {},
   "outputs": [],
   "source": [
    "# Average readtime per device\n",
    "\n",
    "## Get indices with different devices \n",
    "### Color based on label\n",
    "#### Histogram -> Bar graph for avg?\n",
    "\n",
    "subscriber= df[df['is_subscriber'] == True]['read_time']\n",
    "not_subscriber = df[df['is_subscriber'] == False]['read_time']\n",
    "\n",
    "avg_readtime_is_subscriber= [subscriber.mean(), not_subscriber.mean()]\n",
    "is_subscriber = ['Yes', 'No']\n",
    "\n",
    "fig = go.Figure()\n",
    "fig.add_trace(go.Bar(x=is_subscriber, y = avg_readtime_is_subscriber, textfont_size=20))\n",
    "\n",
    "# Overlay both histograms\n",
    "#fig.update_layout(barmode='overlay')\n",
    "# Reduce opacity to see both histograms\n",
    "fig.update_traces(opacity=0.75)\n",
    "fig.show()"
   ]
  },
  {
   "cell_type": "markdown",
   "id": "47680f96",
   "metadata": {},
   "source": [
    "### Scroll percentage if subscriber"
   ]
  },
  {
   "cell_type": "code",
   "execution_count": null,
   "id": "b401d57b",
   "metadata": {},
   "outputs": [],
   "source": [
    "# Distribution paid subscribers\n",
    "\n",
    "#### Histogram -> Bar graph for avg?\n",
    "\n",
    "subscriber= df[df['is_subscriber'] == True]['scroll_percentage']\n",
    "not_subscriber = df[df['is_subscriber'] == False]['scroll_percentage']\n",
    "\n",
    "fig = go.Figure()\n",
    "fig.add_trace(go.Histogram(x=subscriber))\n",
    "fig.add_trace(go.Histogram(x=not_subscriber))\n",
    "\n",
    "# Overlay both histograms\n",
    "fig.update_layout(barmode='overlay')\n",
    "# Reduce opacity to see both histograms\n",
    "fig.update_traces(opacity=0.75)\n",
    "fig.show()"
   ]
  },
  {
   "cell_type": "code",
   "execution_count": null,
   "id": "8b19ce56",
   "metadata": {},
   "outputs": [],
   "source": [
    "# Average readtime per device\n",
    "\n",
    "## Get indices with different devices \n",
    "### Color based on label\n",
    "#### Histogram -> Bar graph for avg?\n",
    "\n",
    "subscriber= df[df['is_subscriber'] == True]['scroll_percentage']\n",
    "not_subscriber = df[df['is_subscriber'] == False]['scroll_percentage']\n",
    "\n",
    "avg_scrollpct_is_subscriber= [subscriber.mean(), not_subscriber.mean()]\n",
    "is_subscriber = ['Yes', 'No']\n",
    "\n",
    "fig = go.Figure()\n",
    "fig.add_trace(go.Bar(x=is_subscriber, y = avg_scrollpct_is_subscriber, textfont_size=20))\n",
    "\n",
    "# Overlay both histograms\n",
    "#fig.update_layout(barmode='overlay')\n",
    "# Reduce opacity to see both histograms\n",
    "fig.update_traces(opacity=0.75)\n",
    "fig.show()"
   ]
  },
  {
   "cell_type": "markdown",
   "id": "b096414c",
   "metadata": {},
   "source": [
    "#### Topic Distribution"
   ]
  },
  {
   "cell_type": "code",
   "execution_count": null,
   "id": "453c9676",
   "metadata": {},
   "outputs": [],
   "source": [
    "## Subset based on those entries\n",
    "## populate the counts for the traces\n",
    "\n",
    "\n",
    "is_subscriber = [d for d in df['is_subscriber'].unique()]\n",
    "\n",
    "# Get all the unique topics\n",
    "unique_topics = []\n",
    "for i in df.index:\n",
    "    for j in range(0, len(df['topics'][i])):\n",
    "        tmp = df['topics'][i][j]\n",
    "        if tmp not in unique_topics:\n",
    "            unique_topics.append(tmp)\n",
    "\n",
    "unique_topics = sorted(unique_topics)\n",
    "\n",
    "\n",
    "fig = go.Figure()\n",
    "# Iterate through each device \n",
    "for d in is_subscriber:\n",
    "    # Find the subset of the data with that device\n",
    "    tmp_df = df[df['is_subscriber'] == d]\n",
    "\n",
    "    # Create a dict object with 0 counts for all topics\n",
    "    is_subscriber_topic_freq = {k:0 for k in unique_topics}\n",
    "    for i in tmp_df.index:\n",
    "        for j in range(0, len(df['topics'][i])):\n",
    "            # Find that index\n",
    "            tmp_topic = df['topics'][i][j]\n",
    "\n",
    "            # Enumerate\n",
    "            is_subscriber_topic_freq[tmp_topic] += 1\n",
    "    \n",
    "    is_subscriber_topic_freq = dict(sorted(is_subscriber_topic_freq.items(), key = lambda kv: kv[1], reverse= True))\n",
    "    #print(device_topic_freq)\n",
    "        \n",
    "    fig.add_trace(go.Bar(x= [x for x in is_subscriber_topic_freq.keys()], y = [y for y in is_subscriber_topic_freq.values()], textfont_size=20))\n",
    "\n",
    "\n",
    "\n",
    "# Overlay both histograms\n",
    "#fig.update_layout(barmode='overlay')\n",
    "# Reduce opacity to see both histograms\n",
    "fig.update_traces(opacity=0.75)\n",
    "fig.show()"
   ]
  },
  {
   "cell_type": "markdown",
   "id": "b0c3ff67",
   "metadata": {},
   "source": [
    "### Activity"
   ]
  },
  {
   "cell_type": "markdown",
   "id": "aa09cd6e",
   "metadata": {},
   "source": [
    "#### Daily Activity"
   ]
  },
  {
   "cell_type": "code",
   "execution_count": null,
   "id": "c5c4917a",
   "metadata": {},
   "outputs": [],
   "source": [
    "is_subscriber = [d for d in df['is_subscriber'].unique()]\n",
    "\n",
    "fig = go.Figure()\n",
    "# Iterate through each device \n",
    "for d in is_subscriber:\n",
    "    # Find the subset of the data with that device\n",
    "    tmp_df = df[df['is_subscriber'] == d]\n",
    "\n",
    "    # Create a dict object with 0 counts for all topics\n",
    "    is_subscriber_daily_activity = {}\n",
    "    for i in tmp_df.index:\n",
    "        # Find that index\n",
    "        tmp_timestamp = df['impression_time'][i]\n",
    "        tmp_datetime = tmp_timestamp\n",
    "        tmp_date = tmp_datetime.strftime('%m/%d/%Y')\n",
    "\n",
    "        # Daily Activity\n",
    "        if tmp_date not in is_subscriber_daily_activity:\n",
    "            is_subscriber_daily_activity[tmp_date] = 0\n",
    "        else:\n",
    "            is_subscriber_daily_activity[tmp_date] +=1\n",
    "        \n",
    "    \n",
    "    # Sort by dates\n",
    "    is_subscriber_daily_activity = dict(sorted(is_subscriber_daily_activity.items()))\n",
    "\n",
    "    # Add trace\n",
    "    fig.add_trace(go.Bar(x= [x for x in is_subscriber_daily_activity.keys()], y = [y for y in is_subscriber_daily_activity.values()], textfont_size=20))\n",
    "\n",
    "\n",
    "\n",
    "    # Overlay both histograms\n",
    "    #fig.update_layout(barmode='overlay')\n",
    "    # Reduce opacity to see both histograms\n",
    "fig.update_traces(opacity=0.75)\n",
    "fig.show()"
   ]
  },
  {
   "cell_type": "markdown",
   "id": "ba68d2cb",
   "metadata": {},
   "source": [
    "#### Hourly Activity"
   ]
  },
  {
   "cell_type": "code",
   "execution_count": null,
   "id": "97021ede",
   "metadata": {},
   "outputs": [],
   "source": [
    "is_subscriber = [d for d in df['is_subscriber'].unique()]\n",
    "\n",
    "fig = go.Figure()\n",
    "# Iterate through each device \n",
    "for d in is_subscriber:\n",
    "    # Find the subset of the data with that device\n",
    "    tmp_df = df[df['is_subscriber'] == d]\n",
    "\n",
    "    # Create a dict object with 0 counts for all topics\n",
    "    is_subscriber_hourly_activity = {}\n",
    "    for i in tmp_df.index:\n",
    "        # Find that index\n",
    "        tmp_timestamp = df['impression_time'][i]\n",
    "        tmp_datetime = tmp_timestamp\n",
    "        tmp_time = tmp_datetime.strftime('%H')\n",
    "\n",
    "        # Daily Activity\n",
    "        if tmp_time not in is_subscriber_hourly_activity:\n",
    "            is_subscriber_hourly_activity[tmp_time] = 0\n",
    "        else:\n",
    "            is_subscriber_hourly_activity[tmp_time] +=1\n",
    "        \n",
    "    \n",
    "    # Sort by dates\n",
    "    is_subscriber_hourly_activity = dict(sorted(is_subscriber_hourly_activity.items()))\n",
    "\n",
    "    # Add trace\n",
    "    fig.add_trace(go.Bar(x= [x for x in is_subscriber_hourly_activity.keys()], y = [y for y in is_subscriber_hourly_activity.values()], textfont_size=20))\n",
    "\n",
    "\n",
    "\n",
    "    # Overlay both histograms\n",
    "    #fig.update_layout(barmode='overlay')\n",
    "    # Reduce opacity to see both histograms\n",
    "fig.update_traces(opacity=0.75)\n",
    "fig.show()"
   ]
  },
  {
   "cell_type": "markdown",
   "id": "6469168b",
   "metadata": {},
   "source": [
    "# Gender"
   ]
  },
  {
   "cell_type": "code",
   "execution_count": null,
   "id": "dc8dcdbd",
   "metadata": {},
   "outputs": [],
   "source": [
    "\n",
    "# distribution of genders\n",
    "indices = df['gender'].value_counts().index\n",
    "values = df['gender'].value_counts().values\n",
    "\n",
    "fig = go.Figure()\n",
    "\n",
    "\n",
    "# Add trace\n",
    "fig.add_trace(go.Bar(x= indices, y = values, textfont_size=20))\n",
    "\n",
    "\n",
    "\n",
    "    # Overlay both histograms\n",
    "    #fig.update_layout(barmode='overlay')\n",
    "    # Reduce opacity to see both histograms\n",
    "fig.update_traces(opacity=0.75)\n",
    "fig.show()"
   ]
  },
  {
   "cell_type": "markdown",
   "id": "e9e0c923",
   "metadata": {},
   "source": [
    "### Read time per gender"
   ]
  },
  {
   "cell_type": "code",
   "execution_count": null,
   "id": "d7bf905d",
   "metadata": {},
   "outputs": [],
   "source": [
    "# Readtime per gender\n",
    "\n",
    "genders = df['gender'].unique()\n",
    "\n",
    "fig = go.Figure()\n",
    "for d in genders:\n",
    "\n",
    "    gender_ = df[df['gender'] == d]['read_time']\n",
    "\n",
    "    fig.add_trace(go.Histogram(x=gender_))\n",
    "\n",
    "# Overlay both histograms\n",
    "fig.update_layout(barmode='overlay')\n",
    "# Reduce opacity to see both histograms\n",
    "fig.update_traces(opacity=0.75)\n",
    "fig.show()"
   ]
  },
  {
   "cell_type": "code",
   "execution_count": null,
   "id": "903f4d43",
   "metadata": {},
   "outputs": [],
   "source": [
    "# Average readtime per device\n",
    "\n",
    "## Get indices with different devices \n",
    "### Color based on label\n",
    "#### Histogram -> Bar graph for avg?\n",
    "\n",
    "# Readtime per gender\n",
    "\n",
    "genders = df['gender'].unique()\n",
    "genders = genders[~np.isnan(genders)]\n",
    "\n",
    "fig = go.Figure()\n",
    "for d in genders:\n",
    "\n",
    "    avg_gender_readtime = df[df['gender'] == d]['read_time'].mean()\n",
    "\n",
    "    fig.add_trace(go.Bar(x= [d], y = [avg_gender_readtime], textfont_size=20))\n",
    "\n",
    "\n",
    "\n",
    "\n",
    "# Overlay both histograms\n",
    "#fig.update_layout(barmode='overlay')\n",
    "# Reduce opacity to see both histograms\n",
    "fig.update_traces(opacity=0.75)\n",
    "fig.show()"
   ]
  },
  {
   "cell_type": "markdown",
   "id": "9cdd149a",
   "metadata": {},
   "source": [
    "### Scrolltime per gender"
   ]
  },
  {
   "cell_type": "code",
   "execution_count": null,
   "id": "7e2bf15d",
   "metadata": {},
   "outputs": [],
   "source": [
    "genders = df['gender'].unique()\n",
    "\n",
    "fig = go.Figure()\n",
    "for d in genders:\n",
    "\n",
    "    gender_ = df[df['gender'] == d]['scroll_percentage']\n",
    "\n",
    "    fig.add_trace(go.Histogram(x=gender_))\n",
    "\n",
    "# Overlay both histograms\n",
    "fig.update_layout(barmode='overlay')\n",
    "# Reduce opacity to see both histograms\n",
    "fig.update_traces(opacity=0.75)\n",
    "fig.show()"
   ]
  },
  {
   "cell_type": "code",
   "execution_count": null,
   "id": "669aa3bf",
   "metadata": {},
   "outputs": [],
   "source": [
    "# Average readtime per device\n",
    "\n",
    "## Get indices with different devices \n",
    "### Color based on label\n",
    "#### Histogram -> Bar graph for avg?\n",
    "\n",
    "# Readtime per gender\n",
    "\n",
    "genders = df['gender'].unique()\n",
    "\n",
    "fig = go.Figure()\n",
    "for d in genders:\n",
    "\n",
    "    avg_gender_scrollpct = df[df['gender'] == d]['scroll_percentage'].mean()\n",
    "\n",
    "    fig.add_trace(go.Bar(x= [d], y = [avg_gender_scrollpct], textfont_size=20))\n",
    "\n",
    "\n",
    "\n",
    "\n",
    "# Overlay both histograms\n",
    "#fig.update_layout(barmode='overlay')\n",
    "# Reduce opacity to see both histograms\n",
    "fig.update_traces(opacity=0.75)\n",
    "fig.show()"
   ]
  },
  {
   "cell_type": "markdown",
   "id": "f1fb1468",
   "metadata": {},
   "source": [
    "### Topics"
   ]
  },
  {
   "cell_type": "code",
   "execution_count": null,
   "id": "54784f14",
   "metadata": {},
   "outputs": [],
   "source": [
    "## Subset based on those entries\n",
    "## populate the counts for the traces\n",
    "\n",
    "genders = df['gender'].unique()\n",
    "genders = genders[~np.isnan(genders)]\n",
    "\n",
    "#genders = [d for d in df['gender'].unique() ]\n",
    "\n",
    "# Get all the unique topics\n",
    "unique_topics = []\n",
    "for i in df.index:\n",
    "    for j in range(0, len(df['topics'][i])):\n",
    "        tmp = df['topics'][i][j]\n",
    "        if tmp not in unique_topics:\n",
    "            unique_topics.append(tmp)\n",
    "\n",
    "unique_topics = sorted(unique_topics)\n",
    "\n",
    "\n",
    "fig = go.Figure()\n",
    "# Iterate through each device \n",
    "for d in genders:\n",
    "    # Find the subset of the data with that device\n",
    "    tmp_df = df[df['gender'] == d]\n",
    "\n",
    "    # Create a dict object with 0 counts for all topics\n",
    "    genders_topic_freq = {k:0 for k in unique_topics}\n",
    "    for i in tmp_df.index:\n",
    "        for j in range(0, len(df['topics'][i])):\n",
    "            # Find that index\n",
    "            tmp_topic = df['topics'][i][j]\n",
    "\n",
    "            # Enumerate\n",
    "            genders_topic_freq[tmp_topic] += 1\n",
    "    \n",
    "    genders_topic_freq = dict(sorted(genders_topic_freq.items(), key = lambda kv: kv[1], reverse= True))\n",
    "    #print(device_topic_freq)\n",
    "        \n",
    "    fig.add_trace(go.Bar(x= [x for x in genders_topic_freq.keys()], y = [y for y in genders_topic_freq.values()], textfont_size=20))\n",
    "\n",
    "\n",
    "\n",
    "# Overlay both histograms\n",
    "#fig.update_layout(barmode='overlay')\n",
    "# Reduce opacity to see both histograms\n",
    "fig.update_traces(opacity=0.75)\n",
    "fig.show()"
   ]
  },
  {
   "cell_type": "markdown",
   "id": "5eb16616",
   "metadata": {},
   "source": [
    "### Activity"
   ]
  },
  {
   "cell_type": "markdown",
   "id": "abec6f05",
   "metadata": {},
   "source": [
    "#### Daily Activity"
   ]
  },
  {
   "cell_type": "code",
   "execution_count": null,
   "id": "4cadf022",
   "metadata": {},
   "outputs": [],
   "source": [
    "genders = df['gender'].unique()\n",
    "genders = genders[~np.isnan(genders)]\n",
    "\n",
    "fig = go.Figure()\n",
    "# Iterate through each device \n",
    "for d in genders:\n",
    "    # Find the subset of the data with that device\n",
    "    tmp_df = df[df['gender'] == d]\n",
    "\n",
    "    # Create a dict object with 0 counts for all topics\n",
    "    genders_daily_activity = {}\n",
    "    for i in tmp_df.index:\n",
    "        # Find that index\n",
    "        tmp_timestamp = df['impression_time'][i]\n",
    "        tmp_datetime = tmp_timestamp\n",
    "        tmp_date = tmp_datetime.strftime('%m/%d/%Y')\n",
    "\n",
    "        # Daily Activity\n",
    "        if tmp_date not in genders_daily_activity:\n",
    "            genders_daily_activity[tmp_date] = 0\n",
    "        else:\n",
    "            genders_daily_activity[tmp_date] +=1\n",
    "        \n",
    "    \n",
    "    # Sort by dates\n",
    "    genders_daily_activity = dict(sorted(genders_daily_activity.items()))\n",
    "\n",
    "    # Add trace\n",
    "    fig.add_trace(go.Bar(x= [x for x in genders_daily_activity.keys()], y = [y for y in genders_daily_activity.values()], textfont_size=20))\n",
    "\n",
    "\n",
    "\n",
    "    # Overlay both histograms\n",
    "    #fig.update_layout(barmode='overlay')\n",
    "    # Reduce opacity to see both histograms\n",
    "fig.update_traces(opacity=0.75)\n",
    "fig.show()"
   ]
  },
  {
   "cell_type": "markdown",
   "id": "14efd975",
   "metadata": {},
   "source": [
    "#### Hourly Activity"
   ]
  },
  {
   "cell_type": "code",
   "execution_count": null,
   "id": "a279ca32",
   "metadata": {},
   "outputs": [],
   "source": [
    "genders = df['gender'].unique()\n",
    "genders = genders[~np.isnan(genders)]\n",
    "\n",
    "fig = go.Figure()\n",
    "# Iterate through each device \n",
    "for d in genders:\n",
    "    # Find the subset of the data with that device\n",
    "    tmp_df = df[df['gender'] == d]\n",
    "\n",
    "    # Create a dict object with 0 counts for all topics\n",
    "    genders_hourly_activity = {}\n",
    "    for i in tmp_df.index:\n",
    "        # Find that index\n",
    "        tmp_timestamp = df['impression_time'][i]\n",
    "        tmp_datetime = tmp_timestamp\n",
    "        tmp_time = tmp_datetime.strftime('%H')\n",
    "\n",
    "        # Daily Activity\n",
    "        if tmp_time not in genders_hourly_activity:\n",
    "            genders_hourly_activity[tmp_time] = 0\n",
    "        else:\n",
    "            genders_hourly_activity[tmp_time] +=1\n",
    "        \n",
    "    \n",
    "    # Sort by dates\n",
    "    genders_hourly_activity = dict(sorted(genders_hourly_activity.items()))\n",
    "\n",
    "    # Add trace\n",
    "    fig.add_trace(go.Bar(x= [x for x in genders_hourly_activity.keys()], y = [y for y in genders_hourly_activity.values()], textfont_size=20))\n",
    "\n",
    "\n",
    "\n",
    "    # Overlay both histograms\n",
    "    #fig.update_layout(barmode='overlay')\n",
    "    # Reduce opacity to see both histograms\n",
    "fig.update_traces(opacity=0.75)\n",
    "fig.show()"
   ]
  },
  {
   "cell_type": "markdown",
   "id": "03e32b90",
   "metadata": {},
   "source": [
    "# Age"
   ]
  },
  {
   "cell_type": "markdown",
   "id": "558c5c75",
   "metadata": {},
   "source": [
    "### Age Distribution"
   ]
  },
  {
   "cell_type": "code",
   "execution_count": 7,
   "id": "e6ab71ed",
   "metadata": {},
   "outputs": [
    {
     "data": {
      "application/vnd.plotly.v1+json": {
       "config": {
        "plotlyServerURL": "https://plot.ly"
       },
       "data": [
        {
         "opacity": 0.75,
         "textfont": {
          "size": 20
         },
         "type": "bar",
         "x": [
          20,
          30,
          40,
          50,
          60,
          70,
          80,
          90
         ],
         "y": [
          31,
          97,
          248,
          695,
          644,
          596,
          95,
          43
         ]
        }
       ],
       "layout": {
        "template": {
         "data": {
          "bar": [
           {
            "error_x": {
             "color": "#2a3f5f"
            },
            "error_y": {
             "color": "#2a3f5f"
            },
            "marker": {
             "line": {
              "color": "#E5ECF6",
              "width": 0.5
             },
             "pattern": {
              "fillmode": "overlay",
              "size": 10,
              "solidity": 0.2
             }
            },
            "type": "bar"
           }
          ],
          "barpolar": [
           {
            "marker": {
             "line": {
              "color": "#E5ECF6",
              "width": 0.5
             },
             "pattern": {
              "fillmode": "overlay",
              "size": 10,
              "solidity": 0.2
             }
            },
            "type": "barpolar"
           }
          ],
          "carpet": [
           {
            "aaxis": {
             "endlinecolor": "#2a3f5f",
             "gridcolor": "white",
             "linecolor": "white",
             "minorgridcolor": "white",
             "startlinecolor": "#2a3f5f"
            },
            "baxis": {
             "endlinecolor": "#2a3f5f",
             "gridcolor": "white",
             "linecolor": "white",
             "minorgridcolor": "white",
             "startlinecolor": "#2a3f5f"
            },
            "type": "carpet"
           }
          ],
          "choropleth": [
           {
            "colorbar": {
             "outlinewidth": 0,
             "ticks": ""
            },
            "type": "choropleth"
           }
          ],
          "contour": [
           {
            "colorbar": {
             "outlinewidth": 0,
             "ticks": ""
            },
            "colorscale": [
             [
              0,
              "#0d0887"
             ],
             [
              0.1111111111111111,
              "#46039f"
             ],
             [
              0.2222222222222222,
              "#7201a8"
             ],
             [
              0.3333333333333333,
              "#9c179e"
             ],
             [
              0.4444444444444444,
              "#bd3786"
             ],
             [
              0.5555555555555556,
              "#d8576b"
             ],
             [
              0.6666666666666666,
              "#ed7953"
             ],
             [
              0.7777777777777778,
              "#fb9f3a"
             ],
             [
              0.8888888888888888,
              "#fdca26"
             ],
             [
              1,
              "#f0f921"
             ]
            ],
            "type": "contour"
           }
          ],
          "contourcarpet": [
           {
            "colorbar": {
             "outlinewidth": 0,
             "ticks": ""
            },
            "type": "contourcarpet"
           }
          ],
          "heatmap": [
           {
            "colorbar": {
             "outlinewidth": 0,
             "ticks": ""
            },
            "colorscale": [
             [
              0,
              "#0d0887"
             ],
             [
              0.1111111111111111,
              "#46039f"
             ],
             [
              0.2222222222222222,
              "#7201a8"
             ],
             [
              0.3333333333333333,
              "#9c179e"
             ],
             [
              0.4444444444444444,
              "#bd3786"
             ],
             [
              0.5555555555555556,
              "#d8576b"
             ],
             [
              0.6666666666666666,
              "#ed7953"
             ],
             [
              0.7777777777777778,
              "#fb9f3a"
             ],
             [
              0.8888888888888888,
              "#fdca26"
             ],
             [
              1,
              "#f0f921"
             ]
            ],
            "type": "heatmap"
           }
          ],
          "heatmapgl": [
           {
            "colorbar": {
             "outlinewidth": 0,
             "ticks": ""
            },
            "colorscale": [
             [
              0,
              "#0d0887"
             ],
             [
              0.1111111111111111,
              "#46039f"
             ],
             [
              0.2222222222222222,
              "#7201a8"
             ],
             [
              0.3333333333333333,
              "#9c179e"
             ],
             [
              0.4444444444444444,
              "#bd3786"
             ],
             [
              0.5555555555555556,
              "#d8576b"
             ],
             [
              0.6666666666666666,
              "#ed7953"
             ],
             [
              0.7777777777777778,
              "#fb9f3a"
             ],
             [
              0.8888888888888888,
              "#fdca26"
             ],
             [
              1,
              "#f0f921"
             ]
            ],
            "type": "heatmapgl"
           }
          ],
          "histogram": [
           {
            "marker": {
             "pattern": {
              "fillmode": "overlay",
              "size": 10,
              "solidity": 0.2
             }
            },
            "type": "histogram"
           }
          ],
          "histogram2d": [
           {
            "colorbar": {
             "outlinewidth": 0,
             "ticks": ""
            },
            "colorscale": [
             [
              0,
              "#0d0887"
             ],
             [
              0.1111111111111111,
              "#46039f"
             ],
             [
              0.2222222222222222,
              "#7201a8"
             ],
             [
              0.3333333333333333,
              "#9c179e"
             ],
             [
              0.4444444444444444,
              "#bd3786"
             ],
             [
              0.5555555555555556,
              "#d8576b"
             ],
             [
              0.6666666666666666,
              "#ed7953"
             ],
             [
              0.7777777777777778,
              "#fb9f3a"
             ],
             [
              0.8888888888888888,
              "#fdca26"
             ],
             [
              1,
              "#f0f921"
             ]
            ],
            "type": "histogram2d"
           }
          ],
          "histogram2dcontour": [
           {
            "colorbar": {
             "outlinewidth": 0,
             "ticks": ""
            },
            "colorscale": [
             [
              0,
              "#0d0887"
             ],
             [
              0.1111111111111111,
              "#46039f"
             ],
             [
              0.2222222222222222,
              "#7201a8"
             ],
             [
              0.3333333333333333,
              "#9c179e"
             ],
             [
              0.4444444444444444,
              "#bd3786"
             ],
             [
              0.5555555555555556,
              "#d8576b"
             ],
             [
              0.6666666666666666,
              "#ed7953"
             ],
             [
              0.7777777777777778,
              "#fb9f3a"
             ],
             [
              0.8888888888888888,
              "#fdca26"
             ],
             [
              1,
              "#f0f921"
             ]
            ],
            "type": "histogram2dcontour"
           }
          ],
          "mesh3d": [
           {
            "colorbar": {
             "outlinewidth": 0,
             "ticks": ""
            },
            "type": "mesh3d"
           }
          ],
          "parcoords": [
           {
            "line": {
             "colorbar": {
              "outlinewidth": 0,
              "ticks": ""
             }
            },
            "type": "parcoords"
           }
          ],
          "pie": [
           {
            "automargin": true,
            "type": "pie"
           }
          ],
          "scatter": [
           {
            "fillpattern": {
             "fillmode": "overlay",
             "size": 10,
             "solidity": 0.2
            },
            "type": "scatter"
           }
          ],
          "scatter3d": [
           {
            "line": {
             "colorbar": {
              "outlinewidth": 0,
              "ticks": ""
             }
            },
            "marker": {
             "colorbar": {
              "outlinewidth": 0,
              "ticks": ""
             }
            },
            "type": "scatter3d"
           }
          ],
          "scattercarpet": [
           {
            "marker": {
             "colorbar": {
              "outlinewidth": 0,
              "ticks": ""
             }
            },
            "type": "scattercarpet"
           }
          ],
          "scattergeo": [
           {
            "marker": {
             "colorbar": {
              "outlinewidth": 0,
              "ticks": ""
             }
            },
            "type": "scattergeo"
           }
          ],
          "scattergl": [
           {
            "marker": {
             "colorbar": {
              "outlinewidth": 0,
              "ticks": ""
             }
            },
            "type": "scattergl"
           }
          ],
          "scattermapbox": [
           {
            "marker": {
             "colorbar": {
              "outlinewidth": 0,
              "ticks": ""
             }
            },
            "type": "scattermapbox"
           }
          ],
          "scatterpolar": [
           {
            "marker": {
             "colorbar": {
              "outlinewidth": 0,
              "ticks": ""
             }
            },
            "type": "scatterpolar"
           }
          ],
          "scatterpolargl": [
           {
            "marker": {
             "colorbar": {
              "outlinewidth": 0,
              "ticks": ""
             }
            },
            "type": "scatterpolargl"
           }
          ],
          "scatterternary": [
           {
            "marker": {
             "colorbar": {
              "outlinewidth": 0,
              "ticks": ""
             }
            },
            "type": "scatterternary"
           }
          ],
          "surface": [
           {
            "colorbar": {
             "outlinewidth": 0,
             "ticks": ""
            },
            "colorscale": [
             [
              0,
              "#0d0887"
             ],
             [
              0.1111111111111111,
              "#46039f"
             ],
             [
              0.2222222222222222,
              "#7201a8"
             ],
             [
              0.3333333333333333,
              "#9c179e"
             ],
             [
              0.4444444444444444,
              "#bd3786"
             ],
             [
              0.5555555555555556,
              "#d8576b"
             ],
             [
              0.6666666666666666,
              "#ed7953"
             ],
             [
              0.7777777777777778,
              "#fb9f3a"
             ],
             [
              0.8888888888888888,
              "#fdca26"
             ],
             [
              1,
              "#f0f921"
             ]
            ],
            "type": "surface"
           }
          ],
          "table": [
           {
            "cells": {
             "fill": {
              "color": "#EBF0F8"
             },
             "line": {
              "color": "white"
             }
            },
            "header": {
             "fill": {
              "color": "#C8D4E3"
             },
             "line": {
              "color": "white"
             }
            },
            "type": "table"
           }
          ]
         },
         "layout": {
          "annotationdefaults": {
           "arrowcolor": "#2a3f5f",
           "arrowhead": 0,
           "arrowwidth": 1
          },
          "autotypenumbers": "strict",
          "coloraxis": {
           "colorbar": {
            "outlinewidth": 0,
            "ticks": ""
           }
          },
          "colorscale": {
           "diverging": [
            [
             0,
             "#8e0152"
            ],
            [
             0.1,
             "#c51b7d"
            ],
            [
             0.2,
             "#de77ae"
            ],
            [
             0.3,
             "#f1b6da"
            ],
            [
             0.4,
             "#fde0ef"
            ],
            [
             0.5,
             "#f7f7f7"
            ],
            [
             0.6,
             "#e6f5d0"
            ],
            [
             0.7,
             "#b8e186"
            ],
            [
             0.8,
             "#7fbc41"
            ],
            [
             0.9,
             "#4d9221"
            ],
            [
             1,
             "#276419"
            ]
           ],
           "sequential": [
            [
             0,
             "#0d0887"
            ],
            [
             0.1111111111111111,
             "#46039f"
            ],
            [
             0.2222222222222222,
             "#7201a8"
            ],
            [
             0.3333333333333333,
             "#9c179e"
            ],
            [
             0.4444444444444444,
             "#bd3786"
            ],
            [
             0.5555555555555556,
             "#d8576b"
            ],
            [
             0.6666666666666666,
             "#ed7953"
            ],
            [
             0.7777777777777778,
             "#fb9f3a"
            ],
            [
             0.8888888888888888,
             "#fdca26"
            ],
            [
             1,
             "#f0f921"
            ]
           ],
           "sequentialminus": [
            [
             0,
             "#0d0887"
            ],
            [
             0.1111111111111111,
             "#46039f"
            ],
            [
             0.2222222222222222,
             "#7201a8"
            ],
            [
             0.3333333333333333,
             "#9c179e"
            ],
            [
             0.4444444444444444,
             "#bd3786"
            ],
            [
             0.5555555555555556,
             "#d8576b"
            ],
            [
             0.6666666666666666,
             "#ed7953"
            ],
            [
             0.7777777777777778,
             "#fb9f3a"
            ],
            [
             0.8888888888888888,
             "#fdca26"
            ],
            [
             1,
             "#f0f921"
            ]
           ]
          },
          "colorway": [
           "#636efa",
           "#EF553B",
           "#00cc96",
           "#ab63fa",
           "#FFA15A",
           "#19d3f3",
           "#FF6692",
           "#B6E880",
           "#FF97FF",
           "#FECB52"
          ],
          "font": {
           "color": "#2a3f5f"
          },
          "geo": {
           "bgcolor": "white",
           "lakecolor": "white",
           "landcolor": "#E5ECF6",
           "showlakes": true,
           "showland": true,
           "subunitcolor": "white"
          },
          "hoverlabel": {
           "align": "left"
          },
          "hovermode": "closest",
          "mapbox": {
           "style": "light"
          },
          "paper_bgcolor": "white",
          "plot_bgcolor": "#E5ECF6",
          "polar": {
           "angularaxis": {
            "gridcolor": "white",
            "linecolor": "white",
            "ticks": ""
           },
           "bgcolor": "#E5ECF6",
           "radialaxis": {
            "gridcolor": "white",
            "linecolor": "white",
            "ticks": ""
           }
          },
          "scene": {
           "xaxis": {
            "backgroundcolor": "#E5ECF6",
            "gridcolor": "white",
            "gridwidth": 2,
            "linecolor": "white",
            "showbackground": true,
            "ticks": "",
            "zerolinecolor": "white"
           },
           "yaxis": {
            "backgroundcolor": "#E5ECF6",
            "gridcolor": "white",
            "gridwidth": 2,
            "linecolor": "white",
            "showbackground": true,
            "ticks": "",
            "zerolinecolor": "white"
           },
           "zaxis": {
            "backgroundcolor": "#E5ECF6",
            "gridcolor": "white",
            "gridwidth": 2,
            "linecolor": "white",
            "showbackground": true,
            "ticks": "",
            "zerolinecolor": "white"
           }
          },
          "shapedefaults": {
           "line": {
            "color": "#2a3f5f"
           }
          },
          "ternary": {
           "aaxis": {
            "gridcolor": "white",
            "linecolor": "white",
            "ticks": ""
           },
           "baxis": {
            "gridcolor": "white",
            "linecolor": "white",
            "ticks": ""
           },
           "bgcolor": "#E5ECF6",
           "caxis": {
            "gridcolor": "white",
            "linecolor": "white",
            "ticks": ""
           }
          },
          "title": {
           "x": 0.05
          },
          "xaxis": {
           "automargin": true,
           "gridcolor": "white",
           "linecolor": "white",
           "ticks": "",
           "title": {
            "standoff": 15
           },
           "zerolinecolor": "white",
           "zerolinewidth": 2
          },
          "yaxis": {
           "automargin": true,
           "gridcolor": "white",
           "linecolor": "white",
           "ticks": "",
           "title": {
            "standoff": 15
           },
           "zerolinecolor": "white",
           "zerolinewidth": 2
          }
         }
        }
       }
      }
     },
     "metadata": {},
     "output_type": "display_data"
    }
   ],
   "source": [
    "# distribution of genders\n",
    "indices = df['age'].value_counts().sort_index().index\n",
    "values = df['age'].value_counts().sort_index().values\n",
    "\n",
    "fig = go.Figure()\n",
    "\n",
    "\n",
    "# Add trace\n",
    "fig.add_trace(go.Bar(x= indices, y = values, textfont_size=20))\n",
    "\n",
    "\n",
    "\n",
    "    # Overlay both histograms\n",
    "    #fig.update_layout(barmode='overlay')\n",
    "    # Reduce opacity to see both histograms\n",
    "fig.update_traces(opacity=0.75)\n",
    "fig.show()"
   ]
  },
  {
   "cell_type": "markdown",
   "id": "c42d84e0",
   "metadata": {},
   "source": [
    "#### Average readtime per age group"
   ]
  },
  {
   "cell_type": "code",
   "execution_count": null,
   "id": "7c47f430",
   "metadata": {},
   "outputs": [],
   "source": [
    "# Age readtime/scroll\n",
    "## Binned by 10-19, 20-29, etc\n",
    "\n",
    "indices = df['age'].value_counts().sort_index().index\n",
    "values = df['age'].value_counts().sort_index().values\n",
    "\n",
    "\n",
    "# Create graph object\n",
    "fig = go.Figure()\n",
    "\n",
    "# for each age group add a readtime \n",
    "for age in indices:\n",
    "    read_time = df[df['age'] == age]['read_time']\n",
    "    fig.add_trace(go.Histogram(x=read_time))\n",
    "\n",
    "\n",
    "fig.update_layout(barmode='overlay')\n",
    "fig.update_traces(opacity=0.75)\n",
    "fig.show()\n"
   ]
  },
  {
   "cell_type": "code",
   "execution_count": null,
   "id": "206b6214",
   "metadata": {},
   "outputs": [],
   "source": [
    "# Average read time\n",
    "## Binned by 10-19, 20-29, etc\n",
    "\n",
    "indices = df['age'].value_counts().sort_index().index\n",
    "values = df['age'].value_counts().sort_index().values\n",
    "\n",
    "\n",
    "# Create graph object\n",
    "fig = go.Figure()\n",
    "\n",
    "# for each age group add a readtime \n",
    "for age in indices:\n",
    "    avg_read_time = df[df['age'] == age]['read_time'].mean()\n",
    "    fig.add_trace(go.Bar(x=[age], y = [avg_read_time], textfont_size=20))\n",
    "\n",
    "\n",
    "fig.show()"
   ]
  },
  {
   "cell_type": "markdown",
   "id": "c3883ce0",
   "metadata": {},
   "source": [
    "Average Scroll PCt per age group"
   ]
  },
  {
   "cell_type": "code",
   "execution_count": null,
   "id": "06d988f1",
   "metadata": {},
   "outputs": [],
   "source": [
    "indices = df['age'].value_counts().sort_index().index\n",
    "values = df['age'].value_counts().sort_index().values\n",
    "\n",
    "# Create graph object\n",
    "fig = go.Figure()\n",
    "\n",
    "# for each age group add a readtime \n",
    "for age in indices:\n",
    "    scroll_pct = df[df['age'] == age]['scroll_percentage']\n",
    "    fig.add_trace(go.Histogram(x=scroll_pct))\n",
    "\n",
    "\n",
    "fig.update_layout(barmode='overlay')\n",
    "fig.update_traces(opacity=0.75)\n",
    "fig.show()"
   ]
  },
  {
   "cell_type": "code",
   "execution_count": null,
   "id": "8748e792",
   "metadata": {},
   "outputs": [],
   "source": [
    "indices = df['age'].value_counts().sort_index().index\n",
    "values = df['age'].value_counts().sort_index().values\n",
    "\n",
    "# Create graph object\n",
    "fig = go.Figure()\n",
    "\n",
    "# for each age group add a readtime \n",
    "for age in indices:\n",
    "    avg_scroll_pct = df[df['age'] == age]['scroll_percentage'].mean()\n",
    "    fig.add_trace(go.Bar(x=[age], y = [avg_scroll_pct], textfont_size=20))\n",
    "\n",
    "fig.show()"
   ]
  },
  {
   "cell_type": "markdown",
   "id": "2fa72d5e",
   "metadata": {},
   "source": [
    "### Topics"
   ]
  },
  {
   "cell_type": "code",
   "execution_count": 8,
   "id": "a3975ed1",
   "metadata": {},
   "outputs": [
    {
     "data": {
      "application/vnd.plotly.v1+json": {
       "config": {
        "plotlyServerURL": "https://plot.ly"
       },
       "data": [
        {
         "opacity": 0.75,
         "textfont": {
          "size": 20
         },
         "type": "bar",
         "x": [
          "Kendt",
          "Sport",
          "Begivenhed",
          "Underholdning",
          "Kriminalitet",
          "Sportsbegivenhed",
          "Erhverv",
          "Livsstil",
          "Politik",
          "Personfarlig kriminalitet",
          "Fodbold",
          "Økonomi",
          "Transportmiddel",
          "Privat virksomhed",
          "Film og tv",
          "Katastrofe",
          "Samfund",
          "International politik",
          "Sundhed",
          "National politik",
          "Mindre ulykke",
          "Konflikt og krig",
          "Sygdom og behandling",
          "Ketcher- og batsport",
          "Bil",
          "Ansættelsesforhold",
          "Cykling",
          "Kultur",
          "Musik og lyd",
          "Værdier",
          "Erotik",
          "Underholdningsbegivenhed",
          "Partnerskab",
          "Personlig begivenhed",
          "Større transportmiddel",
          "Mikro",
          "Væbnet konflikt",
          "Krop og velvære",
          "Familieliv",
          "Teknologi",
          "Uddannelse",
          "Bolig",
          "Større katastrofe",
          "Dyr",
          "Motorsport",
          "Reality",
          "Køb og salg",
          "Rejse",
          "Videnskab",
          "Makro",
          "Naturvidenskab",
          "Bedrageri",
          "Grundskole",
          "Vejr",
          "Kunstig intelligens og software",
          "Mad og drikke",
          "Kosmetisk behandling",
          "Kunst",
          "Bandekriminalitet",
          "Mindre transportmiddel",
          "Renovering og indretning",
          "Ungdomsuddannelse",
          "Videregående uddannelse",
          "Byliv",
          "Bæredygtighed og klima",
          "Håndbold",
          "Litteratur",
          "Offentlig instans",
          "Tendenser",
          "Forbrugerelektronik",
          "Fritid",
          "Offentlig transport",
          "Religion",
          "Samfundsvidenskab og humaniora",
          "Terror",
          "Museum og seværdighed",
          "Mærkedag",
          "Udlejning"
         ],
         "y": [
          251,
          165,
          156,
          121,
          120,
          115,
          100,
          88,
          85,
          82,
          72,
          67,
          62,
          61,
          59,
          59,
          55,
          51,
          48,
          45,
          44,
          41,
          41,
          31,
          27,
          23,
          22,
          22,
          22,
          22,
          20,
          20,
          19,
          19,
          19,
          18,
          17,
          16,
          14,
          14,
          14,
          13,
          13,
          11,
          10,
          10,
          9,
          9,
          9,
          8,
          8,
          7,
          7,
          7,
          6,
          6,
          4,
          4,
          3,
          3,
          3,
          3,
          3,
          2,
          2,
          2,
          2,
          2,
          2,
          1,
          1,
          1,
          1,
          1,
          1,
          0,
          0,
          0
         ]
        },
        {
         "opacity": 0.75,
         "textfont": {
          "size": 20
         },
         "type": "bar",
         "x": [
          "Kendt",
          "Kriminalitet",
          "Underholdning",
          "Begivenhed",
          "Sport",
          "Politik",
          "Livsstil",
          "Erhverv",
          "Sportsbegivenhed",
          "International politik",
          "Personfarlig kriminalitet",
          "Økonomi",
          "Film og tv",
          "Privat virksomhed",
          "Samfund",
          "Konflikt og krig",
          "National politik",
          "Katastrofe",
          "Fodbold",
          "Transportmiddel",
          "Mindre ulykke",
          "Sundhed",
          "Sygdom og behandling",
          "Væbnet konflikt",
          "Erotik",
          "Ketcher- og batsport",
          "Musik og lyd",
          "Underholdningsbegivenhed",
          "Ansættelsesforhold",
          "Krop og velvære",
          "Værdier",
          "Partnerskab",
          "Kultur",
          "Mikro",
          "Teknologi",
          "Bandekriminalitet",
          "Bil",
          "Større transportmiddel",
          "Personlig begivenhed",
          "Større katastrofe",
          "Uddannelse",
          "Bolig",
          "Mad og drikke",
          "Familieliv",
          "Makro",
          "Videnskab",
          "Bedrageri",
          "Grundskole",
          "Cykling",
          "Håndbold",
          "Naturvidenskab",
          "Bæredygtighed og klima",
          "Kunstig intelligens og software",
          "Reality",
          "Rejse",
          "Køb og salg",
          "Motorsport",
          "Vejr",
          "Dyr",
          "Byliv",
          "Kunst",
          "Litteratur",
          "Mindre transportmiddel",
          "Forbrugerelektronik",
          "Offentlig instans",
          "Ungdomsuddannelse",
          "Religion",
          "Udlejning",
          "Kosmetisk behandling",
          "Mærkedag",
          "Offentlig transport",
          "Samfundsvidenskab og humaniora",
          "Tendenser",
          "Fritid",
          "Museum og seværdighed",
          "Renovering og indretning",
          "Terror",
          "Videregående uddannelse"
         ],
         "y": [
          246,
          140,
          138,
          132,
          132,
          119,
          117,
          106,
          93,
          77,
          75,
          74,
          68,
          68,
          68,
          62,
          56,
          55,
          54,
          42,
          38,
          36,
          34,
          31,
          29,
          27,
          27,
          27,
          26,
          24,
          24,
          23,
          20,
          20,
          18,
          16,
          16,
          16,
          15,
          15,
          15,
          14,
          12,
          11,
          10,
          10,
          9,
          9,
          8,
          8,
          8,
          7,
          7,
          7,
          7,
          6,
          6,
          6,
          5,
          4,
          4,
          4,
          4,
          3,
          3,
          3,
          2,
          2,
          1,
          1,
          1,
          1,
          1,
          0,
          0,
          0,
          0,
          0
         ]
        },
        {
         "opacity": 0.75,
         "textfont": {
          "size": 20
         },
         "type": "bar",
         "x": [
          "Kendt",
          "Underholdning",
          "Kriminalitet",
          "Begivenhed",
          "Erhverv",
          "Film og tv",
          "Personfarlig kriminalitet",
          "Sport",
          "Katastrofe",
          "Livsstil",
          "Politik",
          "National politik",
          "Samfund",
          "Mindre ulykke",
          "Privat virksomhed",
          "Konflikt og krig",
          "Sundhed",
          "Underholdningsbegivenhed",
          "Økonomi",
          "Bolig",
          "Cykling",
          "Fodbold",
          "International politik",
          "Køb og salg",
          "Mad og drikke",
          "Musik og lyd",
          "Personlig begivenhed",
          "Sportsbegivenhed",
          "Sygdom og behandling",
          "Transportmiddel",
          "Værdier",
          "Bandekriminalitet",
          "Bedrageri",
          "Bil",
          "Byliv",
          "Familieliv",
          "Grundskole",
          "Krop og velvære",
          "Kultur",
          "Litteratur",
          "Motorsport",
          "Naturvidenskab",
          "Offentlig instans",
          "Partnerskab",
          "Reality",
          "Større katastrofe",
          "Større transportmiddel",
          "Uddannelse",
          "Videnskab",
          "Væbnet konflikt",
          "Ansættelsesforhold",
          "Bæredygtighed og klima",
          "Dyr",
          "Erotik",
          "Forbrugerelektronik",
          "Fritid",
          "Håndbold",
          "Ketcher- og batsport",
          "Kosmetisk behandling",
          "Kunst",
          "Kunstig intelligens og software",
          "Makro",
          "Mikro",
          "Mindre transportmiddel",
          "Museum og seværdighed",
          "Mærkedag",
          "Offentlig transport",
          "Rejse",
          "Religion",
          "Renovering og indretning",
          "Samfundsvidenskab og humaniora",
          "Teknologi",
          "Tendenser",
          "Terror",
          "Udlejning",
          "Ungdomsuddannelse",
          "Vejr",
          "Videregående uddannelse"
         ],
         "y": [
          17,
          13,
          10,
          7,
          7,
          7,
          7,
          7,
          6,
          6,
          6,
          5,
          5,
          4,
          4,
          3,
          3,
          3,
          3,
          2,
          2,
          2,
          2,
          2,
          2,
          2,
          2,
          2,
          2,
          2,
          2,
          1,
          1,
          1,
          1,
          1,
          1,
          1,
          1,
          1,
          1,
          1,
          1,
          1,
          1,
          1,
          1,
          1,
          1,
          1,
          0,
          0,
          0,
          0,
          0,
          0,
          0,
          0,
          0,
          0,
          0,
          0,
          0,
          0,
          0,
          0,
          0,
          0,
          0,
          0,
          0,
          0,
          0,
          0,
          0,
          0,
          0,
          0
         ]
        },
        {
         "opacity": 0.75,
         "textfont": {
          "size": 20
         },
         "type": "bar",
         "x": [
          "Kendt",
          "Underholdning",
          "Begivenhed",
          "Sport",
          "Politik",
          "Kriminalitet",
          "Erhverv",
          "Livsstil",
          "Sportsbegivenhed",
          "Økonomi",
          "National politik",
          "Film og tv",
          "International politik",
          "Katastrofe",
          "Samfund",
          "Personfarlig kriminalitet",
          "Transportmiddel",
          "Privat virksomhed",
          "Fodbold",
          "Konflikt og krig",
          "Mindre ulykke",
          "Sundhed",
          "Ketcher- og batsport",
          "Sygdom og behandling",
          "Ansættelsesforhold",
          "Kultur",
          "Væbnet konflikt",
          "Musik og lyd",
          "Større transportmiddel",
          "Værdier",
          "Bil",
          "Mikro",
          "Krop og velvære",
          "Partnerskab",
          "Personlig begivenhed",
          "Større katastrofe",
          "Erotik",
          "Familieliv",
          "Underholdningsbegivenhed",
          "Mad og drikke",
          "Cykling",
          "Videnskab",
          "Reality",
          "Uddannelse",
          "Bedrageri",
          "Bolig",
          "Dyr",
          "Naturvidenskab",
          "Motorsport",
          "Vejr",
          "Makro",
          "Rejse",
          "Bandekriminalitet",
          "Køb og salg",
          "Byliv",
          "Teknologi",
          "Kunst",
          "Ungdomsuddannelse",
          "Grundskole",
          "Håndbold",
          "Kunstig intelligens og software",
          "Litteratur",
          "Mindre transportmiddel",
          "Offentlig transport",
          "Renovering og indretning",
          "Videregående uddannelse",
          "Bæredygtighed og klima",
          "Fritid",
          "Samfundsvidenskab og humaniora",
          "Tendenser",
          "Forbrugerelektronik",
          "Kosmetisk behandling",
          "Museum og seværdighed",
          "Mærkedag",
          "Offentlig instans",
          "Religion",
          "Terror",
          "Udlejning"
         ],
         "y": [
          245,
          131,
          120,
          120,
          113,
          98,
          91,
          89,
          84,
          72,
          66,
          65,
          64,
          62,
          62,
          61,
          58,
          53,
          51,
          51,
          38,
          37,
          34,
          32,
          26,
          23,
          23,
          22,
          22,
          22,
          21,
          21,
          20,
          18,
          18,
          18,
          17,
          17,
          17,
          13,
          12,
          12,
          10,
          10,
          9,
          9,
          9,
          9,
          8,
          8,
          7,
          7,
          6,
          6,
          5,
          5,
          4,
          4,
          2,
          2,
          2,
          2,
          2,
          2,
          2,
          2,
          1,
          1,
          1,
          1,
          0,
          0,
          0,
          0,
          0,
          0,
          0,
          0
         ]
        },
        {
         "opacity": 0.75,
         "textfont": {
          "size": 20
         },
         "type": "bar",
         "x": [
          "Kendt",
          "Sport",
          "Begivenhed",
          "Underholdning",
          "Sportsbegivenhed",
          "Livsstil",
          "Kriminalitet",
          "Erhverv",
          "Politik",
          "Personfarlig kriminalitet",
          "Fodbold",
          "Privat virksomhed",
          "Katastrofe",
          "Film og tv",
          "Samfund",
          "Transportmiddel",
          "Sundhed",
          "International politik",
          "Konflikt og krig",
          "National politik",
          "Økonomi",
          "Krop og velvære",
          "Mindre ulykke",
          "Sygdom og behandling",
          "Ansættelsesforhold",
          "Bil",
          "Erotik",
          "Kultur",
          "Musik og lyd",
          "Større katastrofe",
          "Ketcher- og batsport",
          "Underholdningsbegivenhed",
          "Væbnet konflikt",
          "Familieliv",
          "Større transportmiddel",
          "Cykling",
          "Mad og drikke",
          "Partnerskab",
          "Personlig begivenhed",
          "Teknologi",
          "Bandekriminalitet",
          "Reality",
          "Uddannelse",
          "Kunstig intelligens og software",
          "Mikro",
          "Vejr",
          "Værdier",
          "Håndbold",
          "Motorsport",
          "Rejse",
          "Videnskab",
          "Bæredygtighed og klima",
          "Dyr",
          "Litteratur",
          "Naturvidenskab",
          "Offentlig transport",
          "Bedrageri",
          "Bolig",
          "Byliv",
          "Forbrugerelektronik",
          "Grundskole",
          "Kosmetisk behandling",
          "Kunst",
          "Køb og salg",
          "Makro",
          "Mindre transportmiddel",
          "Offentlig instans",
          "Ungdomsuddannelse",
          "Videregående uddannelse",
          "Fritid",
          "Museum og seværdighed",
          "Mærkedag",
          "Religion",
          "Renovering og indretning",
          "Samfundsvidenskab og humaniora",
          "Tendenser",
          "Terror",
          "Udlejning"
         ],
         "y": [
          92,
          67,
          61,
          49,
          48,
          45,
          40,
          38,
          31,
          27,
          26,
          26,
          25,
          23,
          23,
          22,
          21,
          18,
          15,
          15,
          15,
          14,
          13,
          13,
          11,
          10,
          10,
          9,
          9,
          9,
          8,
          8,
          8,
          7,
          7,
          6,
          6,
          6,
          6,
          6,
          5,
          5,
          5,
          4,
          4,
          4,
          4,
          3,
          3,
          3,
          3,
          2,
          2,
          2,
          2,
          2,
          1,
          1,
          1,
          1,
          1,
          1,
          1,
          1,
          1,
          1,
          1,
          1,
          1,
          0,
          0,
          0,
          0,
          0,
          0,
          0,
          0,
          0
         ]
        },
        {
         "opacity": 0.75,
         "textfont": {
          "size": 20
         },
         "type": "bar",
         "x": [
          "Kendt",
          "Livsstil",
          "Underholdning",
          "Kriminalitet",
          "Erhverv",
          "Sport",
          "Begivenhed",
          "Personfarlig kriminalitet",
          "Politik",
          "Privat virksomhed",
          "Samfund",
          "Sportsbegivenhed",
          "Økonomi",
          "Fodbold",
          "Familieliv",
          "Film og tv",
          "International politik",
          "Katastrofe",
          "National politik",
          "Partnerskab",
          "Transportmiddel",
          "Mindre ulykke",
          "Reality",
          "Ansættelsesforhold",
          "Musik og lyd",
          "Bil",
          "Erotik",
          "Grundskole",
          "Konflikt og krig",
          "Kultur",
          "Mad og drikke",
          "Makro",
          "Mikro",
          "Personlig begivenhed",
          "Sundhed",
          "Sygdom og behandling",
          "Uddannelse",
          "Underholdningsbegivenhed",
          "Værdier",
          "Bandekriminalitet",
          "Ketcher- og batsport",
          "Krop og velvære",
          "Litteratur",
          "Større transportmiddel",
          "Teknologi",
          "Væbnet konflikt",
          "Bolig",
          "Cykling",
          "Dyr",
          "Forbrugerelektronik",
          "Håndbold",
          "Kunst",
          "Kunstig intelligens og software",
          "Køb og salg",
          "Naturvidenskab",
          "Offentlig instans",
          "Rejse",
          "Renovering og indretning",
          "Større katastrofe",
          "Tendenser",
          "Vejr",
          "Videnskab",
          "Bedrageri",
          "Byliv",
          "Bæredygtighed og klima",
          "Fritid",
          "Kosmetisk behandling",
          "Mindre transportmiddel",
          "Motorsport",
          "Museum og seværdighed",
          "Mærkedag",
          "Offentlig transport",
          "Religion",
          "Samfundsvidenskab og humaniora",
          "Terror",
          "Udlejning",
          "Ungdomsuddannelse",
          "Videregående uddannelse"
         ],
         "y": [
          35,
          24,
          24,
          23,
          17,
          17,
          16,
          15,
          13,
          10,
          10,
          10,
          10,
          8,
          7,
          7,
          7,
          7,
          7,
          6,
          6,
          5,
          5,
          4,
          4,
          3,
          3,
          3,
          3,
          3,
          3,
          3,
          3,
          3,
          3,
          3,
          3,
          3,
          3,
          2,
          2,
          2,
          2,
          2,
          2,
          2,
          1,
          1,
          1,
          1,
          1,
          1,
          1,
          1,
          1,
          1,
          1,
          1,
          1,
          1,
          1,
          1,
          0,
          0,
          0,
          0,
          0,
          0,
          0,
          0,
          0,
          0,
          0,
          0,
          0,
          0,
          0,
          0
         ]
        },
        {
         "opacity": 0.75,
         "textfont": {
          "size": 20
         },
         "type": "bar",
         "x": [
          "Kendt",
          "Begivenhed",
          "Sport",
          "Sportsbegivenhed",
          "Underholdning",
          "Livsstil",
          "Politik",
          "Fodbold",
          "Film og tv",
          "International politik",
          "Økonomi",
          "Erhverv",
          "Ketcher- og batsport",
          "Kriminalitet",
          "Transportmiddel",
          "Konflikt og krig",
          "Personfarlig kriminalitet",
          "Privat virksomhed",
          "Samfund",
          "Sundhed",
          "Mikro",
          "National politik",
          "Partnerskab",
          "Sygdom og behandling",
          "Cykling",
          "Erotik",
          "Katastrofe",
          "Musik og lyd",
          "Underholdningsbegivenhed",
          "Krop og velvære",
          "Mindre ulykke",
          "Reality",
          "Større transportmiddel",
          "Væbnet konflikt",
          "Ansættelsesforhold",
          "Bil",
          "Dyr",
          "Familieliv",
          "Håndbold",
          "Mad og drikke",
          "Større katastrofe",
          "Teknologi",
          "Bandekriminalitet",
          "Bedrageri",
          "Bolig",
          "Forbrugerelektronik",
          "Kultur",
          "Kunstig intelligens og software",
          "Mindre transportmiddel",
          "Naturvidenskab",
          "Offentlig instans",
          "Personlig begivenhed",
          "Rejse",
          "Renovering og indretning",
          "Tendenser",
          "Videnskab",
          "Byliv",
          "Bæredygtighed og klima",
          "Fritid",
          "Grundskole",
          "Kosmetisk behandling",
          "Kunst",
          "Køb og salg",
          "Litteratur",
          "Makro",
          "Motorsport",
          "Museum og seværdighed",
          "Mærkedag",
          "Offentlig transport",
          "Religion",
          "Samfundsvidenskab og humaniora",
          "Terror",
          "Uddannelse",
          "Udlejning",
          "Ungdomsuddannelse",
          "Vejr",
          "Videregående uddannelse",
          "Værdier"
         ],
         "y": [
          45,
          34,
          34,
          27,
          22,
          19,
          14,
          13,
          12,
          11,
          10,
          9,
          9,
          9,
          9,
          7,
          6,
          6,
          6,
          6,
          5,
          5,
          5,
          5,
          4,
          4,
          4,
          4,
          4,
          3,
          3,
          3,
          3,
          3,
          2,
          2,
          2,
          2,
          2,
          2,
          2,
          2,
          1,
          1,
          1,
          1,
          1,
          1,
          1,
          1,
          1,
          1,
          1,
          1,
          1,
          1,
          0,
          0,
          0,
          0,
          0,
          0,
          0,
          0,
          0,
          0,
          0,
          0,
          0,
          0,
          0,
          0,
          0,
          0,
          0,
          0,
          0,
          0
         ]
        },
        {
         "opacity": 0.75,
         "textfont": {
          "size": 20
         },
         "type": "bar",
         "x": [
          "Kendt",
          "Sport",
          "Begivenhed",
          "Sportsbegivenhed",
          "Underholdning",
          "Erhverv",
          "Film og tv",
          "Kriminalitet",
          "Personfarlig kriminalitet",
          "Privat virksomhed",
          "Ketcher- og batsport",
          "Økonomi",
          "Fodbold",
          "Livsstil",
          "Bolig",
          "Køb og salg",
          "Mikro",
          "Samfund",
          "Sundhed",
          "Værdier",
          "Bil",
          "Erotik",
          "Håndbold",
          "Kultur",
          "Kunst",
          "Kunstig intelligens og software",
          "Motorsport",
          "National politik",
          "Naturvidenskab",
          "Partnerskab",
          "Personlig begivenhed",
          "Politik",
          "Renovering og indretning",
          "Sygdom og behandling",
          "Teknologi",
          "Transportmiddel",
          "Vejr",
          "Videnskab",
          "Ansættelsesforhold",
          "Bandekriminalitet",
          "Bedrageri",
          "Byliv",
          "Bæredygtighed og klima",
          "Cykling",
          "Dyr",
          "Familieliv",
          "Forbrugerelektronik",
          "Fritid",
          "Grundskole",
          "International politik",
          "Katastrofe",
          "Konflikt og krig",
          "Kosmetisk behandling",
          "Krop og velvære",
          "Litteratur",
          "Mad og drikke",
          "Makro",
          "Mindre transportmiddel",
          "Mindre ulykke",
          "Museum og seværdighed",
          "Musik og lyd",
          "Mærkedag",
          "Offentlig instans",
          "Offentlig transport",
          "Reality",
          "Rejse",
          "Religion",
          "Samfundsvidenskab og humaniora",
          "Større katastrofe",
          "Større transportmiddel",
          "Tendenser",
          "Terror",
          "Uddannelse",
          "Udlejning",
          "Underholdningsbegivenhed",
          "Ungdomsuddannelse",
          "Videregående uddannelse",
          "Væbnet konflikt"
         ],
         "y": [
          12,
          11,
          8,
          6,
          6,
          5,
          5,
          5,
          5,
          5,
          4,
          4,
          3,
          3,
          2,
          2,
          2,
          2,
          2,
          2,
          1,
          1,
          1,
          1,
          1,
          1,
          1,
          1,
          1,
          1,
          1,
          1,
          1,
          1,
          1,
          1,
          1,
          1,
          0,
          0,
          0,
          0,
          0,
          0,
          0,
          0,
          0,
          0,
          0,
          0,
          0,
          0,
          0,
          0,
          0,
          0,
          0,
          0,
          0,
          0,
          0,
          0,
          0,
          0,
          0,
          0,
          0,
          0,
          0,
          0,
          0,
          0,
          0,
          0,
          0,
          0,
          0,
          0
         ]
        }
       ],
       "layout": {
        "template": {
         "data": {
          "bar": [
           {
            "error_x": {
             "color": "#2a3f5f"
            },
            "error_y": {
             "color": "#2a3f5f"
            },
            "marker": {
             "line": {
              "color": "#E5ECF6",
              "width": 0.5
             },
             "pattern": {
              "fillmode": "overlay",
              "size": 10,
              "solidity": 0.2
             }
            },
            "type": "bar"
           }
          ],
          "barpolar": [
           {
            "marker": {
             "line": {
              "color": "#E5ECF6",
              "width": 0.5
             },
             "pattern": {
              "fillmode": "overlay",
              "size": 10,
              "solidity": 0.2
             }
            },
            "type": "barpolar"
           }
          ],
          "carpet": [
           {
            "aaxis": {
             "endlinecolor": "#2a3f5f",
             "gridcolor": "white",
             "linecolor": "white",
             "minorgridcolor": "white",
             "startlinecolor": "#2a3f5f"
            },
            "baxis": {
             "endlinecolor": "#2a3f5f",
             "gridcolor": "white",
             "linecolor": "white",
             "minorgridcolor": "white",
             "startlinecolor": "#2a3f5f"
            },
            "type": "carpet"
           }
          ],
          "choropleth": [
           {
            "colorbar": {
             "outlinewidth": 0,
             "ticks": ""
            },
            "type": "choropleth"
           }
          ],
          "contour": [
           {
            "colorbar": {
             "outlinewidth": 0,
             "ticks": ""
            },
            "colorscale": [
             [
              0,
              "#0d0887"
             ],
             [
              0.1111111111111111,
              "#46039f"
             ],
             [
              0.2222222222222222,
              "#7201a8"
             ],
             [
              0.3333333333333333,
              "#9c179e"
             ],
             [
              0.4444444444444444,
              "#bd3786"
             ],
             [
              0.5555555555555556,
              "#d8576b"
             ],
             [
              0.6666666666666666,
              "#ed7953"
             ],
             [
              0.7777777777777778,
              "#fb9f3a"
             ],
             [
              0.8888888888888888,
              "#fdca26"
             ],
             [
              1,
              "#f0f921"
             ]
            ],
            "type": "contour"
           }
          ],
          "contourcarpet": [
           {
            "colorbar": {
             "outlinewidth": 0,
             "ticks": ""
            },
            "type": "contourcarpet"
           }
          ],
          "heatmap": [
           {
            "colorbar": {
             "outlinewidth": 0,
             "ticks": ""
            },
            "colorscale": [
             [
              0,
              "#0d0887"
             ],
             [
              0.1111111111111111,
              "#46039f"
             ],
             [
              0.2222222222222222,
              "#7201a8"
             ],
             [
              0.3333333333333333,
              "#9c179e"
             ],
             [
              0.4444444444444444,
              "#bd3786"
             ],
             [
              0.5555555555555556,
              "#d8576b"
             ],
             [
              0.6666666666666666,
              "#ed7953"
             ],
             [
              0.7777777777777778,
              "#fb9f3a"
             ],
             [
              0.8888888888888888,
              "#fdca26"
             ],
             [
              1,
              "#f0f921"
             ]
            ],
            "type": "heatmap"
           }
          ],
          "heatmapgl": [
           {
            "colorbar": {
             "outlinewidth": 0,
             "ticks": ""
            },
            "colorscale": [
             [
              0,
              "#0d0887"
             ],
             [
              0.1111111111111111,
              "#46039f"
             ],
             [
              0.2222222222222222,
              "#7201a8"
             ],
             [
              0.3333333333333333,
              "#9c179e"
             ],
             [
              0.4444444444444444,
              "#bd3786"
             ],
             [
              0.5555555555555556,
              "#d8576b"
             ],
             [
              0.6666666666666666,
              "#ed7953"
             ],
             [
              0.7777777777777778,
              "#fb9f3a"
             ],
             [
              0.8888888888888888,
              "#fdca26"
             ],
             [
              1,
              "#f0f921"
             ]
            ],
            "type": "heatmapgl"
           }
          ],
          "histogram": [
           {
            "marker": {
             "pattern": {
              "fillmode": "overlay",
              "size": 10,
              "solidity": 0.2
             }
            },
            "type": "histogram"
           }
          ],
          "histogram2d": [
           {
            "colorbar": {
             "outlinewidth": 0,
             "ticks": ""
            },
            "colorscale": [
             [
              0,
              "#0d0887"
             ],
             [
              0.1111111111111111,
              "#46039f"
             ],
             [
              0.2222222222222222,
              "#7201a8"
             ],
             [
              0.3333333333333333,
              "#9c179e"
             ],
             [
              0.4444444444444444,
              "#bd3786"
             ],
             [
              0.5555555555555556,
              "#d8576b"
             ],
             [
              0.6666666666666666,
              "#ed7953"
             ],
             [
              0.7777777777777778,
              "#fb9f3a"
             ],
             [
              0.8888888888888888,
              "#fdca26"
             ],
             [
              1,
              "#f0f921"
             ]
            ],
            "type": "histogram2d"
           }
          ],
          "histogram2dcontour": [
           {
            "colorbar": {
             "outlinewidth": 0,
             "ticks": ""
            },
            "colorscale": [
             [
              0,
              "#0d0887"
             ],
             [
              0.1111111111111111,
              "#46039f"
             ],
             [
              0.2222222222222222,
              "#7201a8"
             ],
             [
              0.3333333333333333,
              "#9c179e"
             ],
             [
              0.4444444444444444,
              "#bd3786"
             ],
             [
              0.5555555555555556,
              "#d8576b"
             ],
             [
              0.6666666666666666,
              "#ed7953"
             ],
             [
              0.7777777777777778,
              "#fb9f3a"
             ],
             [
              0.8888888888888888,
              "#fdca26"
             ],
             [
              1,
              "#f0f921"
             ]
            ],
            "type": "histogram2dcontour"
           }
          ],
          "mesh3d": [
           {
            "colorbar": {
             "outlinewidth": 0,
             "ticks": ""
            },
            "type": "mesh3d"
           }
          ],
          "parcoords": [
           {
            "line": {
             "colorbar": {
              "outlinewidth": 0,
              "ticks": ""
             }
            },
            "type": "parcoords"
           }
          ],
          "pie": [
           {
            "automargin": true,
            "type": "pie"
           }
          ],
          "scatter": [
           {
            "fillpattern": {
             "fillmode": "overlay",
             "size": 10,
             "solidity": 0.2
            },
            "type": "scatter"
           }
          ],
          "scatter3d": [
           {
            "line": {
             "colorbar": {
              "outlinewidth": 0,
              "ticks": ""
             }
            },
            "marker": {
             "colorbar": {
              "outlinewidth": 0,
              "ticks": ""
             }
            },
            "type": "scatter3d"
           }
          ],
          "scattercarpet": [
           {
            "marker": {
             "colorbar": {
              "outlinewidth": 0,
              "ticks": ""
             }
            },
            "type": "scattercarpet"
           }
          ],
          "scattergeo": [
           {
            "marker": {
             "colorbar": {
              "outlinewidth": 0,
              "ticks": ""
             }
            },
            "type": "scattergeo"
           }
          ],
          "scattergl": [
           {
            "marker": {
             "colorbar": {
              "outlinewidth": 0,
              "ticks": ""
             }
            },
            "type": "scattergl"
           }
          ],
          "scattermapbox": [
           {
            "marker": {
             "colorbar": {
              "outlinewidth": 0,
              "ticks": ""
             }
            },
            "type": "scattermapbox"
           }
          ],
          "scatterpolar": [
           {
            "marker": {
             "colorbar": {
              "outlinewidth": 0,
              "ticks": ""
             }
            },
            "type": "scatterpolar"
           }
          ],
          "scatterpolargl": [
           {
            "marker": {
             "colorbar": {
              "outlinewidth": 0,
              "ticks": ""
             }
            },
            "type": "scatterpolargl"
           }
          ],
          "scatterternary": [
           {
            "marker": {
             "colorbar": {
              "outlinewidth": 0,
              "ticks": ""
             }
            },
            "type": "scatterternary"
           }
          ],
          "surface": [
           {
            "colorbar": {
             "outlinewidth": 0,
             "ticks": ""
            },
            "colorscale": [
             [
              0,
              "#0d0887"
             ],
             [
              0.1111111111111111,
              "#46039f"
             ],
             [
              0.2222222222222222,
              "#7201a8"
             ],
             [
              0.3333333333333333,
              "#9c179e"
             ],
             [
              0.4444444444444444,
              "#bd3786"
             ],
             [
              0.5555555555555556,
              "#d8576b"
             ],
             [
              0.6666666666666666,
              "#ed7953"
             ],
             [
              0.7777777777777778,
              "#fb9f3a"
             ],
             [
              0.8888888888888888,
              "#fdca26"
             ],
             [
              1,
              "#f0f921"
             ]
            ],
            "type": "surface"
           }
          ],
          "table": [
           {
            "cells": {
             "fill": {
              "color": "#EBF0F8"
             },
             "line": {
              "color": "white"
             }
            },
            "header": {
             "fill": {
              "color": "#C8D4E3"
             },
             "line": {
              "color": "white"
             }
            },
            "type": "table"
           }
          ]
         },
         "layout": {
          "annotationdefaults": {
           "arrowcolor": "#2a3f5f",
           "arrowhead": 0,
           "arrowwidth": 1
          },
          "autotypenumbers": "strict",
          "coloraxis": {
           "colorbar": {
            "outlinewidth": 0,
            "ticks": ""
           }
          },
          "colorscale": {
           "diverging": [
            [
             0,
             "#8e0152"
            ],
            [
             0.1,
             "#c51b7d"
            ],
            [
             0.2,
             "#de77ae"
            ],
            [
             0.3,
             "#f1b6da"
            ],
            [
             0.4,
             "#fde0ef"
            ],
            [
             0.5,
             "#f7f7f7"
            ],
            [
             0.6,
             "#e6f5d0"
            ],
            [
             0.7,
             "#b8e186"
            ],
            [
             0.8,
             "#7fbc41"
            ],
            [
             0.9,
             "#4d9221"
            ],
            [
             1,
             "#276419"
            ]
           ],
           "sequential": [
            [
             0,
             "#0d0887"
            ],
            [
             0.1111111111111111,
             "#46039f"
            ],
            [
             0.2222222222222222,
             "#7201a8"
            ],
            [
             0.3333333333333333,
             "#9c179e"
            ],
            [
             0.4444444444444444,
             "#bd3786"
            ],
            [
             0.5555555555555556,
             "#d8576b"
            ],
            [
             0.6666666666666666,
             "#ed7953"
            ],
            [
             0.7777777777777778,
             "#fb9f3a"
            ],
            [
             0.8888888888888888,
             "#fdca26"
            ],
            [
             1,
             "#f0f921"
            ]
           ],
           "sequentialminus": [
            [
             0,
             "#0d0887"
            ],
            [
             0.1111111111111111,
             "#46039f"
            ],
            [
             0.2222222222222222,
             "#7201a8"
            ],
            [
             0.3333333333333333,
             "#9c179e"
            ],
            [
             0.4444444444444444,
             "#bd3786"
            ],
            [
             0.5555555555555556,
             "#d8576b"
            ],
            [
             0.6666666666666666,
             "#ed7953"
            ],
            [
             0.7777777777777778,
             "#fb9f3a"
            ],
            [
             0.8888888888888888,
             "#fdca26"
            ],
            [
             1,
             "#f0f921"
            ]
           ]
          },
          "colorway": [
           "#636efa",
           "#EF553B",
           "#00cc96",
           "#ab63fa",
           "#FFA15A",
           "#19d3f3",
           "#FF6692",
           "#B6E880",
           "#FF97FF",
           "#FECB52"
          ],
          "font": {
           "color": "#2a3f5f"
          },
          "geo": {
           "bgcolor": "white",
           "lakecolor": "white",
           "landcolor": "#E5ECF6",
           "showlakes": true,
           "showland": true,
           "subunitcolor": "white"
          },
          "hoverlabel": {
           "align": "left"
          },
          "hovermode": "closest",
          "mapbox": {
           "style": "light"
          },
          "paper_bgcolor": "white",
          "plot_bgcolor": "#E5ECF6",
          "polar": {
           "angularaxis": {
            "gridcolor": "white",
            "linecolor": "white",
            "ticks": ""
           },
           "bgcolor": "#E5ECF6",
           "radialaxis": {
            "gridcolor": "white",
            "linecolor": "white",
            "ticks": ""
           }
          },
          "scene": {
           "xaxis": {
            "backgroundcolor": "#E5ECF6",
            "gridcolor": "white",
            "gridwidth": 2,
            "linecolor": "white",
            "showbackground": true,
            "ticks": "",
            "zerolinecolor": "white"
           },
           "yaxis": {
            "backgroundcolor": "#E5ECF6",
            "gridcolor": "white",
            "gridwidth": 2,
            "linecolor": "white",
            "showbackground": true,
            "ticks": "",
            "zerolinecolor": "white"
           },
           "zaxis": {
            "backgroundcolor": "#E5ECF6",
            "gridcolor": "white",
            "gridwidth": 2,
            "linecolor": "white",
            "showbackground": true,
            "ticks": "",
            "zerolinecolor": "white"
           }
          },
          "shapedefaults": {
           "line": {
            "color": "#2a3f5f"
           }
          },
          "ternary": {
           "aaxis": {
            "gridcolor": "white",
            "linecolor": "white",
            "ticks": ""
           },
           "baxis": {
            "gridcolor": "white",
            "linecolor": "white",
            "ticks": ""
           },
           "bgcolor": "#E5ECF6",
           "caxis": {
            "gridcolor": "white",
            "linecolor": "white",
            "ticks": ""
           }
          },
          "title": {
           "x": 0.05
          },
          "xaxis": {
           "automargin": true,
           "gridcolor": "white",
           "linecolor": "white",
           "ticks": "",
           "title": {
            "standoff": 15
           },
           "zerolinecolor": "white",
           "zerolinewidth": 2
          },
          "yaxis": {
           "automargin": true,
           "gridcolor": "white",
           "linecolor": "white",
           "ticks": "",
           "title": {
            "standoff": 15
           },
           "zerolinecolor": "white",
           "zerolinewidth": 2
          }
         }
        }
       }
      }
     },
     "metadata": {},
     "output_type": "display_data"
    }
   ],
   "source": [
    "## Subset based on those entries\n",
    "## populate the counts for the traces\n",
    "\n",
    "ages = df['age'].unique()\n",
    "ages = ages[~np.isnan(ages)]\n",
    "\n",
    "#genders = [d for d in df['gender'].unique() ]\n",
    "\n",
    "# Get all the unique topics\n",
    "unique_topics = []\n",
    "for i in df.index:\n",
    "    for j in range(0, len(df['topics'][i])):\n",
    "        tmp = df['topics'][i][j]\n",
    "        if tmp not in unique_topics:\n",
    "            unique_topics.append(tmp)\n",
    "\n",
    "unique_topics = sorted(unique_topics)\n",
    "\n",
    "\n",
    "fig = go.Figure()\n",
    "# Iterate through each device \n",
    "for d in ages:\n",
    "    # Find the subset of the data with that device\n",
    "    tmp_df = df[df['age'] == d]\n",
    "\n",
    "    # Create a dict object with 0 counts for all topics\n",
    "    ages_topic_freq = {k:0 for k in unique_topics}\n",
    "    for i in tmp_df.index:\n",
    "        for j in range(0, len(df['topics'][i])):\n",
    "            # Find that index\n",
    "            tmp_topic = df['topics'][i][j]\n",
    "\n",
    "            # Enumerate\n",
    "            ages_topic_freq[tmp_topic] += 1\n",
    "    \n",
    "    ages_topic_freq = dict(sorted(ages_topic_freq.items(), key = lambda kv: kv[1], reverse= True))\n",
    "    #print(device_topic_freq)\n",
    "        \n",
    "    fig.add_trace(go.Bar(x= [x for x in ages_topic_freq.keys()], y = [y for y in ages_topic_freq.values()], textfont_size=20))\n",
    "\n",
    "\n",
    "\n",
    "# Overlay both histograms\n",
    "#fig.update_layout(barmode='overlay')\n",
    "# Reduce opacity to see both histograms\n",
    "fig.update_traces(opacity=0.75)\n",
    "fig.show()"
   ]
  },
  {
   "cell_type": "markdown",
   "id": "cb2106c5",
   "metadata": {},
   "source": [
    "### Activity"
   ]
  },
  {
   "cell_type": "markdown",
   "id": "24ca3114",
   "metadata": {},
   "source": [
    "#### Daily Activity"
   ]
  },
  {
   "cell_type": "code",
   "execution_count": 9,
   "id": "68a3dec9",
   "metadata": {},
   "outputs": [
    {
     "data": {
      "application/vnd.plotly.v1+json": {
       "config": {
        "plotlyServerURL": "https://plot.ly"
       },
       "data": [
        {
         "opacity": 0.75,
         "textfont": {
          "size": 20
         },
         "type": "bar",
         "x": [
          "05/18/2023",
          "05/19/2023",
          "05/20/2023",
          "05/21/2023",
          "05/22/2023",
          "05/23/2023",
          "05/24/2023",
          "05/25/2023"
         ],
         "y": [
          49,
          111,
          67,
          104,
          89,
          85,
          105,
          26
         ]
        },
        {
         "opacity": 0.75,
         "textfont": {
          "size": 20
         },
         "type": "bar",
         "x": [
          "05/18/2023",
          "05/19/2023",
          "05/20/2023",
          "05/21/2023",
          "05/22/2023",
          "05/23/2023",
          "05/24/2023",
          "05/25/2023"
         ],
         "y": [
          68,
          106,
          92,
          86,
          97,
          112,
          101,
          25
         ]
        },
        {
         "opacity": 0.75,
         "textfont": {
          "size": 20
         },
         "type": "bar",
         "x": [
          "05/18/2023",
          "05/19/2023",
          "05/20/2023",
          "05/21/2023",
          "05/22/2023",
          "05/23/2023",
          "05/24/2023",
          "05/25/2023"
         ],
         "y": [
          9,
          0,
          2,
          5,
          9,
          6,
          2,
          2
         ]
        },
        {
         "opacity": 0.75,
         "textfont": {
          "size": 20
         },
         "type": "bar",
         "x": [
          "05/18/2023",
          "05/19/2023",
          "05/20/2023",
          "05/21/2023",
          "05/22/2023",
          "05/23/2023",
          "05/24/2023",
          "05/25/2023"
         ],
         "y": [
          77,
          82,
          83,
          75,
          86,
          75,
          96,
          14
         ]
        },
        {
         "opacity": 0.75,
         "textfont": {
          "size": 20
         },
         "type": "bar",
         "x": [
          "05/18/2023",
          "05/19/2023",
          "05/20/2023",
          "05/21/2023",
          "05/22/2023",
          "05/23/2023",
          "05/24/2023",
          "05/25/2023"
         ],
         "y": [
          20,
          48,
          29,
          38,
          33,
          23,
          44,
          5
         ]
        },
        {
         "opacity": 0.75,
         "textfont": {
          "size": 20
         },
         "type": "bar",
         "x": [
          "05/18/2023",
          "05/19/2023",
          "05/20/2023",
          "05/21/2023",
          "05/22/2023",
          "05/23/2023",
          "05/24/2023"
         ],
         "y": [
          8,
          20,
          14,
          9,
          15,
          11,
          13
         ]
        },
        {
         "opacity": 0.75,
         "textfont": {
          "size": 20
         },
         "type": "bar",
         "x": [
          "05/18/2023",
          "05/19/2023",
          "05/20/2023",
          "05/21/2023",
          "05/22/2023",
          "05/23/2023",
          "05/24/2023",
          "05/25/2023"
         ],
         "y": [
          6,
          8,
          20,
          16,
          10,
          10,
          17,
          0
         ]
        },
        {
         "opacity": 0.75,
         "textfont": {
          "size": 20
         },
         "type": "bar",
         "x": [
          "05/18/2023",
          "05/20/2023",
          "05/22/2023",
          "05/23/2023",
          "05/24/2023"
         ],
         "y": [
          4,
          6,
          12,
          2,
          2
         ]
        }
       ],
       "layout": {
        "template": {
         "data": {
          "bar": [
           {
            "error_x": {
             "color": "#2a3f5f"
            },
            "error_y": {
             "color": "#2a3f5f"
            },
            "marker": {
             "line": {
              "color": "#E5ECF6",
              "width": 0.5
             },
             "pattern": {
              "fillmode": "overlay",
              "size": 10,
              "solidity": 0.2
             }
            },
            "type": "bar"
           }
          ],
          "barpolar": [
           {
            "marker": {
             "line": {
              "color": "#E5ECF6",
              "width": 0.5
             },
             "pattern": {
              "fillmode": "overlay",
              "size": 10,
              "solidity": 0.2
             }
            },
            "type": "barpolar"
           }
          ],
          "carpet": [
           {
            "aaxis": {
             "endlinecolor": "#2a3f5f",
             "gridcolor": "white",
             "linecolor": "white",
             "minorgridcolor": "white",
             "startlinecolor": "#2a3f5f"
            },
            "baxis": {
             "endlinecolor": "#2a3f5f",
             "gridcolor": "white",
             "linecolor": "white",
             "minorgridcolor": "white",
             "startlinecolor": "#2a3f5f"
            },
            "type": "carpet"
           }
          ],
          "choropleth": [
           {
            "colorbar": {
             "outlinewidth": 0,
             "ticks": ""
            },
            "type": "choropleth"
           }
          ],
          "contour": [
           {
            "colorbar": {
             "outlinewidth": 0,
             "ticks": ""
            },
            "colorscale": [
             [
              0,
              "#0d0887"
             ],
             [
              0.1111111111111111,
              "#46039f"
             ],
             [
              0.2222222222222222,
              "#7201a8"
             ],
             [
              0.3333333333333333,
              "#9c179e"
             ],
             [
              0.4444444444444444,
              "#bd3786"
             ],
             [
              0.5555555555555556,
              "#d8576b"
             ],
             [
              0.6666666666666666,
              "#ed7953"
             ],
             [
              0.7777777777777778,
              "#fb9f3a"
             ],
             [
              0.8888888888888888,
              "#fdca26"
             ],
             [
              1,
              "#f0f921"
             ]
            ],
            "type": "contour"
           }
          ],
          "contourcarpet": [
           {
            "colorbar": {
             "outlinewidth": 0,
             "ticks": ""
            },
            "type": "contourcarpet"
           }
          ],
          "heatmap": [
           {
            "colorbar": {
             "outlinewidth": 0,
             "ticks": ""
            },
            "colorscale": [
             [
              0,
              "#0d0887"
             ],
             [
              0.1111111111111111,
              "#46039f"
             ],
             [
              0.2222222222222222,
              "#7201a8"
             ],
             [
              0.3333333333333333,
              "#9c179e"
             ],
             [
              0.4444444444444444,
              "#bd3786"
             ],
             [
              0.5555555555555556,
              "#d8576b"
             ],
             [
              0.6666666666666666,
              "#ed7953"
             ],
             [
              0.7777777777777778,
              "#fb9f3a"
             ],
             [
              0.8888888888888888,
              "#fdca26"
             ],
             [
              1,
              "#f0f921"
             ]
            ],
            "type": "heatmap"
           }
          ],
          "heatmapgl": [
           {
            "colorbar": {
             "outlinewidth": 0,
             "ticks": ""
            },
            "colorscale": [
             [
              0,
              "#0d0887"
             ],
             [
              0.1111111111111111,
              "#46039f"
             ],
             [
              0.2222222222222222,
              "#7201a8"
             ],
             [
              0.3333333333333333,
              "#9c179e"
             ],
             [
              0.4444444444444444,
              "#bd3786"
             ],
             [
              0.5555555555555556,
              "#d8576b"
             ],
             [
              0.6666666666666666,
              "#ed7953"
             ],
             [
              0.7777777777777778,
              "#fb9f3a"
             ],
             [
              0.8888888888888888,
              "#fdca26"
             ],
             [
              1,
              "#f0f921"
             ]
            ],
            "type": "heatmapgl"
           }
          ],
          "histogram": [
           {
            "marker": {
             "pattern": {
              "fillmode": "overlay",
              "size": 10,
              "solidity": 0.2
             }
            },
            "type": "histogram"
           }
          ],
          "histogram2d": [
           {
            "colorbar": {
             "outlinewidth": 0,
             "ticks": ""
            },
            "colorscale": [
             [
              0,
              "#0d0887"
             ],
             [
              0.1111111111111111,
              "#46039f"
             ],
             [
              0.2222222222222222,
              "#7201a8"
             ],
             [
              0.3333333333333333,
              "#9c179e"
             ],
             [
              0.4444444444444444,
              "#bd3786"
             ],
             [
              0.5555555555555556,
              "#d8576b"
             ],
             [
              0.6666666666666666,
              "#ed7953"
             ],
             [
              0.7777777777777778,
              "#fb9f3a"
             ],
             [
              0.8888888888888888,
              "#fdca26"
             ],
             [
              1,
              "#f0f921"
             ]
            ],
            "type": "histogram2d"
           }
          ],
          "histogram2dcontour": [
           {
            "colorbar": {
             "outlinewidth": 0,
             "ticks": ""
            },
            "colorscale": [
             [
              0,
              "#0d0887"
             ],
             [
              0.1111111111111111,
              "#46039f"
             ],
             [
              0.2222222222222222,
              "#7201a8"
             ],
             [
              0.3333333333333333,
              "#9c179e"
             ],
             [
              0.4444444444444444,
              "#bd3786"
             ],
             [
              0.5555555555555556,
              "#d8576b"
             ],
             [
              0.6666666666666666,
              "#ed7953"
             ],
             [
              0.7777777777777778,
              "#fb9f3a"
             ],
             [
              0.8888888888888888,
              "#fdca26"
             ],
             [
              1,
              "#f0f921"
             ]
            ],
            "type": "histogram2dcontour"
           }
          ],
          "mesh3d": [
           {
            "colorbar": {
             "outlinewidth": 0,
             "ticks": ""
            },
            "type": "mesh3d"
           }
          ],
          "parcoords": [
           {
            "line": {
             "colorbar": {
              "outlinewidth": 0,
              "ticks": ""
             }
            },
            "type": "parcoords"
           }
          ],
          "pie": [
           {
            "automargin": true,
            "type": "pie"
           }
          ],
          "scatter": [
           {
            "fillpattern": {
             "fillmode": "overlay",
             "size": 10,
             "solidity": 0.2
            },
            "type": "scatter"
           }
          ],
          "scatter3d": [
           {
            "line": {
             "colorbar": {
              "outlinewidth": 0,
              "ticks": ""
             }
            },
            "marker": {
             "colorbar": {
              "outlinewidth": 0,
              "ticks": ""
             }
            },
            "type": "scatter3d"
           }
          ],
          "scattercarpet": [
           {
            "marker": {
             "colorbar": {
              "outlinewidth": 0,
              "ticks": ""
             }
            },
            "type": "scattercarpet"
           }
          ],
          "scattergeo": [
           {
            "marker": {
             "colorbar": {
              "outlinewidth": 0,
              "ticks": ""
             }
            },
            "type": "scattergeo"
           }
          ],
          "scattergl": [
           {
            "marker": {
             "colorbar": {
              "outlinewidth": 0,
              "ticks": ""
             }
            },
            "type": "scattergl"
           }
          ],
          "scattermapbox": [
           {
            "marker": {
             "colorbar": {
              "outlinewidth": 0,
              "ticks": ""
             }
            },
            "type": "scattermapbox"
           }
          ],
          "scatterpolar": [
           {
            "marker": {
             "colorbar": {
              "outlinewidth": 0,
              "ticks": ""
             }
            },
            "type": "scatterpolar"
           }
          ],
          "scatterpolargl": [
           {
            "marker": {
             "colorbar": {
              "outlinewidth": 0,
              "ticks": ""
             }
            },
            "type": "scatterpolargl"
           }
          ],
          "scatterternary": [
           {
            "marker": {
             "colorbar": {
              "outlinewidth": 0,
              "ticks": ""
             }
            },
            "type": "scatterternary"
           }
          ],
          "surface": [
           {
            "colorbar": {
             "outlinewidth": 0,
             "ticks": ""
            },
            "colorscale": [
             [
              0,
              "#0d0887"
             ],
             [
              0.1111111111111111,
              "#46039f"
             ],
             [
              0.2222222222222222,
              "#7201a8"
             ],
             [
              0.3333333333333333,
              "#9c179e"
             ],
             [
              0.4444444444444444,
              "#bd3786"
             ],
             [
              0.5555555555555556,
              "#d8576b"
             ],
             [
              0.6666666666666666,
              "#ed7953"
             ],
             [
              0.7777777777777778,
              "#fb9f3a"
             ],
             [
              0.8888888888888888,
              "#fdca26"
             ],
             [
              1,
              "#f0f921"
             ]
            ],
            "type": "surface"
           }
          ],
          "table": [
           {
            "cells": {
             "fill": {
              "color": "#EBF0F8"
             },
             "line": {
              "color": "white"
             }
            },
            "header": {
             "fill": {
              "color": "#C8D4E3"
             },
             "line": {
              "color": "white"
             }
            },
            "type": "table"
           }
          ]
         },
         "layout": {
          "annotationdefaults": {
           "arrowcolor": "#2a3f5f",
           "arrowhead": 0,
           "arrowwidth": 1
          },
          "autotypenumbers": "strict",
          "coloraxis": {
           "colorbar": {
            "outlinewidth": 0,
            "ticks": ""
           }
          },
          "colorscale": {
           "diverging": [
            [
             0,
             "#8e0152"
            ],
            [
             0.1,
             "#c51b7d"
            ],
            [
             0.2,
             "#de77ae"
            ],
            [
             0.3,
             "#f1b6da"
            ],
            [
             0.4,
             "#fde0ef"
            ],
            [
             0.5,
             "#f7f7f7"
            ],
            [
             0.6,
             "#e6f5d0"
            ],
            [
             0.7,
             "#b8e186"
            ],
            [
             0.8,
             "#7fbc41"
            ],
            [
             0.9,
             "#4d9221"
            ],
            [
             1,
             "#276419"
            ]
           ],
           "sequential": [
            [
             0,
             "#0d0887"
            ],
            [
             0.1111111111111111,
             "#46039f"
            ],
            [
             0.2222222222222222,
             "#7201a8"
            ],
            [
             0.3333333333333333,
             "#9c179e"
            ],
            [
             0.4444444444444444,
             "#bd3786"
            ],
            [
             0.5555555555555556,
             "#d8576b"
            ],
            [
             0.6666666666666666,
             "#ed7953"
            ],
            [
             0.7777777777777778,
             "#fb9f3a"
            ],
            [
             0.8888888888888888,
             "#fdca26"
            ],
            [
             1,
             "#f0f921"
            ]
           ],
           "sequentialminus": [
            [
             0,
             "#0d0887"
            ],
            [
             0.1111111111111111,
             "#46039f"
            ],
            [
             0.2222222222222222,
             "#7201a8"
            ],
            [
             0.3333333333333333,
             "#9c179e"
            ],
            [
             0.4444444444444444,
             "#bd3786"
            ],
            [
             0.5555555555555556,
             "#d8576b"
            ],
            [
             0.6666666666666666,
             "#ed7953"
            ],
            [
             0.7777777777777778,
             "#fb9f3a"
            ],
            [
             0.8888888888888888,
             "#fdca26"
            ],
            [
             1,
             "#f0f921"
            ]
           ]
          },
          "colorway": [
           "#636efa",
           "#EF553B",
           "#00cc96",
           "#ab63fa",
           "#FFA15A",
           "#19d3f3",
           "#FF6692",
           "#B6E880",
           "#FF97FF",
           "#FECB52"
          ],
          "font": {
           "color": "#2a3f5f"
          },
          "geo": {
           "bgcolor": "white",
           "lakecolor": "white",
           "landcolor": "#E5ECF6",
           "showlakes": true,
           "showland": true,
           "subunitcolor": "white"
          },
          "hoverlabel": {
           "align": "left"
          },
          "hovermode": "closest",
          "mapbox": {
           "style": "light"
          },
          "paper_bgcolor": "white",
          "plot_bgcolor": "#E5ECF6",
          "polar": {
           "angularaxis": {
            "gridcolor": "white",
            "linecolor": "white",
            "ticks": ""
           },
           "bgcolor": "#E5ECF6",
           "radialaxis": {
            "gridcolor": "white",
            "linecolor": "white",
            "ticks": ""
           }
          },
          "scene": {
           "xaxis": {
            "backgroundcolor": "#E5ECF6",
            "gridcolor": "white",
            "gridwidth": 2,
            "linecolor": "white",
            "showbackground": true,
            "ticks": "",
            "zerolinecolor": "white"
           },
           "yaxis": {
            "backgroundcolor": "#E5ECF6",
            "gridcolor": "white",
            "gridwidth": 2,
            "linecolor": "white",
            "showbackground": true,
            "ticks": "",
            "zerolinecolor": "white"
           },
           "zaxis": {
            "backgroundcolor": "#E5ECF6",
            "gridcolor": "white",
            "gridwidth": 2,
            "linecolor": "white",
            "showbackground": true,
            "ticks": "",
            "zerolinecolor": "white"
           }
          },
          "shapedefaults": {
           "line": {
            "color": "#2a3f5f"
           }
          },
          "ternary": {
           "aaxis": {
            "gridcolor": "white",
            "linecolor": "white",
            "ticks": ""
           },
           "baxis": {
            "gridcolor": "white",
            "linecolor": "white",
            "ticks": ""
           },
           "bgcolor": "#E5ECF6",
           "caxis": {
            "gridcolor": "white",
            "linecolor": "white",
            "ticks": ""
           }
          },
          "title": {
           "x": 0.05
          },
          "xaxis": {
           "automargin": true,
           "gridcolor": "white",
           "linecolor": "white",
           "ticks": "",
           "title": {
            "standoff": 15
           },
           "zerolinecolor": "white",
           "zerolinewidth": 2
          },
          "yaxis": {
           "automargin": true,
           "gridcolor": "white",
           "linecolor": "white",
           "ticks": "",
           "title": {
            "standoff": 15
           },
           "zerolinecolor": "white",
           "zerolinewidth": 2
          }
         }
        }
       }
      }
     },
     "metadata": {},
     "output_type": "display_data"
    }
   ],
   "source": [
    "ages = df['age'].unique()\n",
    "ages = ages[~np.isnan(ages)]\n",
    "\n",
    "fig = go.Figure()\n",
    "# Iterate through each device \n",
    "for d in ages:\n",
    "    # Find the subset of the data with that device\n",
    "    tmp_df = df[df['age'] == d]\n",
    "\n",
    "    # Create a dict object with 0 counts for all topics\n",
    "    ages_daily_activity = {}\n",
    "    for i in tmp_df.index:\n",
    "        # Find that index\n",
    "        tmp_timestamp = df['impression_time'][i]\n",
    "        tmp_datetime = tmp_timestamp\n",
    "        tmp_date = tmp_datetime.strftime('%m/%d/%Y')\n",
    "\n",
    "        # Daily Activity\n",
    "        if tmp_date not in ages_daily_activity:\n",
    "            ages_daily_activity[tmp_date] = 0\n",
    "        else:\n",
    "            ages_daily_activity[tmp_date] +=1\n",
    "        \n",
    "    \n",
    "    # Sort by dates\n",
    "    ages_daily_activity = dict(sorted(ages_daily_activity.items()))\n",
    "\n",
    "    # Add trace\n",
    "    fig.add_trace(go.Bar(x= [x for x in ages_daily_activity.keys()], y = [y for y in ages_daily_activity.values()], textfont_size=20))\n",
    "\n",
    "\n",
    "\n",
    "    # Overlay both histograms\n",
    "    #fig.update_layout(barmode='overlay')\n",
    "    # Reduce opacity to see both histograms\n",
    "fig.update_traces(opacity=0.75)\n",
    "fig.show()"
   ]
  },
  {
   "cell_type": "markdown",
   "id": "1923aded",
   "metadata": {},
   "source": [
    "#### Hourly Activity"
   ]
  },
  {
   "cell_type": "code",
   "execution_count": 10,
   "id": "41764352",
   "metadata": {},
   "outputs": [
    {
     "data": {
      "application/vnd.plotly.v1+json": {
       "config": {
        "plotlyServerURL": "https://plot.ly"
       },
       "data": [
        {
         "opacity": 0.75,
         "textfont": {
          "size": 20
         },
         "type": "bar",
         "x": [
          "00",
          "01",
          "02",
          "03",
          "04",
          "05",
          "06",
          "07",
          "08",
          "09",
          "10",
          "11",
          "12",
          "13",
          "14",
          "15",
          "16",
          "17",
          "18",
          "19",
          "20",
          "21",
          "22",
          "23"
         ],
         "y": [
          5,
          10,
          10,
          16,
          73,
          27,
          38,
          40,
          32,
          24,
          17,
          46,
          33,
          30,
          24,
          20,
          45,
          33,
          26,
          28,
          21,
          15,
          4,
          3
         ]
        },
        {
         "opacity": 0.75,
         "textfont": {
          "size": 20
         },
         "type": "bar",
         "x": [
          "00",
          "01",
          "02",
          "03",
          "04",
          "05",
          "06",
          "07",
          "08",
          "09",
          "10",
          "11",
          "12",
          "13",
          "14",
          "15",
          "16",
          "17",
          "18",
          "19",
          "20",
          "21",
          "22",
          "23"
         ],
         "y": [
          3,
          4,
          6,
          12,
          39,
          34,
          61,
          31,
          29,
          22,
          27,
          19,
          37,
          39,
          42,
          11,
          25,
          52,
          52,
          31,
          34,
          40,
          7,
          14
         ]
        },
        {
         "opacity": 0.75,
         "textfont": {
          "size": 20
         },
         "type": "bar",
         "x": [
          "06",
          "07",
          "08",
          "13",
          "15",
          "17",
          "19",
          "21",
          "22"
         ],
         "y": [
          2,
          11,
          5,
          4,
          3,
          1,
          0,
          7,
          1
         ]
        },
        {
         "opacity": 0.75,
         "textfont": {
          "size": 20
         },
         "type": "bar",
         "x": [
          "02",
          "03",
          "04",
          "05",
          "06",
          "07",
          "08",
          "09",
          "10",
          "11",
          "12",
          "13",
          "14",
          "15",
          "16",
          "17",
          "18",
          "19",
          "20",
          "21",
          "22",
          "23"
         ],
         "y": [
          4,
          3,
          23,
          36,
          39,
          74,
          34,
          39,
          13,
          7,
          41,
          35,
          17,
          13,
          31,
          48,
          18,
          19,
          14,
          18,
          40,
          8
         ]
        },
        {
         "opacity": 0.75,
         "textfont": {
          "size": 20
         },
         "type": "bar",
         "x": [
          "00",
          "01",
          "02",
          "03",
          "04",
          "05",
          "06",
          "07",
          "08",
          "09",
          "10",
          "11",
          "12",
          "13",
          "14",
          "15",
          "16",
          "17",
          "18",
          "19",
          "20",
          "21",
          "22",
          "23"
         ],
         "y": [
          1,
          0,
          4,
          7,
          6,
          13,
          22,
          9,
          10,
          13,
          11,
          6,
          13,
          12,
          10,
          7,
          24,
          12,
          13,
          18,
          3,
          8,
          2,
          0
         ]
        },
        {
         "opacity": 0.75,
         "textfont": {
          "size": 20
         },
         "type": "bar",
         "x": [
          "00",
          "01",
          "03",
          "05",
          "06",
          "07",
          "08",
          "09",
          "10",
          "11",
          "12",
          "13",
          "14",
          "15",
          "16",
          "17",
          "18",
          "19",
          "20",
          "21"
         ],
         "y": [
          1,
          3,
          0,
          8,
          2,
          6,
          6,
          1,
          5,
          4,
          6,
          4,
          1,
          0,
          2,
          11,
          6,
          9,
          2,
          0
         ]
        },
        {
         "opacity": 0.75,
         "textfont": {
          "size": 20
         },
         "type": "bar",
         "x": [
          "04",
          "05",
          "06",
          "07",
          "08",
          "09",
          "10",
          "11",
          "12",
          "13",
          "14",
          "15",
          "17",
          "18",
          "19",
          "20",
          "21"
         ],
         "y": [
          2,
          1,
          7,
          0,
          0,
          2,
          5,
          0,
          5,
          4,
          9,
          5,
          5,
          11,
          11,
          10,
          1
         ]
        },
        {
         "opacity": 0.75,
         "textfont": {
          "size": 20
         },
         "type": "bar",
         "x": [
          "08",
          "11",
          "12",
          "13",
          "14",
          "19"
         ],
         "y": [
          5,
          2,
          1,
          1,
          1,
          15
         ]
        }
       ],
       "layout": {
        "template": {
         "data": {
          "bar": [
           {
            "error_x": {
             "color": "#2a3f5f"
            },
            "error_y": {
             "color": "#2a3f5f"
            },
            "marker": {
             "line": {
              "color": "#E5ECF6",
              "width": 0.5
             },
             "pattern": {
              "fillmode": "overlay",
              "size": 10,
              "solidity": 0.2
             }
            },
            "type": "bar"
           }
          ],
          "barpolar": [
           {
            "marker": {
             "line": {
              "color": "#E5ECF6",
              "width": 0.5
             },
             "pattern": {
              "fillmode": "overlay",
              "size": 10,
              "solidity": 0.2
             }
            },
            "type": "barpolar"
           }
          ],
          "carpet": [
           {
            "aaxis": {
             "endlinecolor": "#2a3f5f",
             "gridcolor": "white",
             "linecolor": "white",
             "minorgridcolor": "white",
             "startlinecolor": "#2a3f5f"
            },
            "baxis": {
             "endlinecolor": "#2a3f5f",
             "gridcolor": "white",
             "linecolor": "white",
             "minorgridcolor": "white",
             "startlinecolor": "#2a3f5f"
            },
            "type": "carpet"
           }
          ],
          "choropleth": [
           {
            "colorbar": {
             "outlinewidth": 0,
             "ticks": ""
            },
            "type": "choropleth"
           }
          ],
          "contour": [
           {
            "colorbar": {
             "outlinewidth": 0,
             "ticks": ""
            },
            "colorscale": [
             [
              0,
              "#0d0887"
             ],
             [
              0.1111111111111111,
              "#46039f"
             ],
             [
              0.2222222222222222,
              "#7201a8"
             ],
             [
              0.3333333333333333,
              "#9c179e"
             ],
             [
              0.4444444444444444,
              "#bd3786"
             ],
             [
              0.5555555555555556,
              "#d8576b"
             ],
             [
              0.6666666666666666,
              "#ed7953"
             ],
             [
              0.7777777777777778,
              "#fb9f3a"
             ],
             [
              0.8888888888888888,
              "#fdca26"
             ],
             [
              1,
              "#f0f921"
             ]
            ],
            "type": "contour"
           }
          ],
          "contourcarpet": [
           {
            "colorbar": {
             "outlinewidth": 0,
             "ticks": ""
            },
            "type": "contourcarpet"
           }
          ],
          "heatmap": [
           {
            "colorbar": {
             "outlinewidth": 0,
             "ticks": ""
            },
            "colorscale": [
             [
              0,
              "#0d0887"
             ],
             [
              0.1111111111111111,
              "#46039f"
             ],
             [
              0.2222222222222222,
              "#7201a8"
             ],
             [
              0.3333333333333333,
              "#9c179e"
             ],
             [
              0.4444444444444444,
              "#bd3786"
             ],
             [
              0.5555555555555556,
              "#d8576b"
             ],
             [
              0.6666666666666666,
              "#ed7953"
             ],
             [
              0.7777777777777778,
              "#fb9f3a"
             ],
             [
              0.8888888888888888,
              "#fdca26"
             ],
             [
              1,
              "#f0f921"
             ]
            ],
            "type": "heatmap"
           }
          ],
          "heatmapgl": [
           {
            "colorbar": {
             "outlinewidth": 0,
             "ticks": ""
            },
            "colorscale": [
             [
              0,
              "#0d0887"
             ],
             [
              0.1111111111111111,
              "#46039f"
             ],
             [
              0.2222222222222222,
              "#7201a8"
             ],
             [
              0.3333333333333333,
              "#9c179e"
             ],
             [
              0.4444444444444444,
              "#bd3786"
             ],
             [
              0.5555555555555556,
              "#d8576b"
             ],
             [
              0.6666666666666666,
              "#ed7953"
             ],
             [
              0.7777777777777778,
              "#fb9f3a"
             ],
             [
              0.8888888888888888,
              "#fdca26"
             ],
             [
              1,
              "#f0f921"
             ]
            ],
            "type": "heatmapgl"
           }
          ],
          "histogram": [
           {
            "marker": {
             "pattern": {
              "fillmode": "overlay",
              "size": 10,
              "solidity": 0.2
             }
            },
            "type": "histogram"
           }
          ],
          "histogram2d": [
           {
            "colorbar": {
             "outlinewidth": 0,
             "ticks": ""
            },
            "colorscale": [
             [
              0,
              "#0d0887"
             ],
             [
              0.1111111111111111,
              "#46039f"
             ],
             [
              0.2222222222222222,
              "#7201a8"
             ],
             [
              0.3333333333333333,
              "#9c179e"
             ],
             [
              0.4444444444444444,
              "#bd3786"
             ],
             [
              0.5555555555555556,
              "#d8576b"
             ],
             [
              0.6666666666666666,
              "#ed7953"
             ],
             [
              0.7777777777777778,
              "#fb9f3a"
             ],
             [
              0.8888888888888888,
              "#fdca26"
             ],
             [
              1,
              "#f0f921"
             ]
            ],
            "type": "histogram2d"
           }
          ],
          "histogram2dcontour": [
           {
            "colorbar": {
             "outlinewidth": 0,
             "ticks": ""
            },
            "colorscale": [
             [
              0,
              "#0d0887"
             ],
             [
              0.1111111111111111,
              "#46039f"
             ],
             [
              0.2222222222222222,
              "#7201a8"
             ],
             [
              0.3333333333333333,
              "#9c179e"
             ],
             [
              0.4444444444444444,
              "#bd3786"
             ],
             [
              0.5555555555555556,
              "#d8576b"
             ],
             [
              0.6666666666666666,
              "#ed7953"
             ],
             [
              0.7777777777777778,
              "#fb9f3a"
             ],
             [
              0.8888888888888888,
              "#fdca26"
             ],
             [
              1,
              "#f0f921"
             ]
            ],
            "type": "histogram2dcontour"
           }
          ],
          "mesh3d": [
           {
            "colorbar": {
             "outlinewidth": 0,
             "ticks": ""
            },
            "type": "mesh3d"
           }
          ],
          "parcoords": [
           {
            "line": {
             "colorbar": {
              "outlinewidth": 0,
              "ticks": ""
             }
            },
            "type": "parcoords"
           }
          ],
          "pie": [
           {
            "automargin": true,
            "type": "pie"
           }
          ],
          "scatter": [
           {
            "fillpattern": {
             "fillmode": "overlay",
             "size": 10,
             "solidity": 0.2
            },
            "type": "scatter"
           }
          ],
          "scatter3d": [
           {
            "line": {
             "colorbar": {
              "outlinewidth": 0,
              "ticks": ""
             }
            },
            "marker": {
             "colorbar": {
              "outlinewidth": 0,
              "ticks": ""
             }
            },
            "type": "scatter3d"
           }
          ],
          "scattercarpet": [
           {
            "marker": {
             "colorbar": {
              "outlinewidth": 0,
              "ticks": ""
             }
            },
            "type": "scattercarpet"
           }
          ],
          "scattergeo": [
           {
            "marker": {
             "colorbar": {
              "outlinewidth": 0,
              "ticks": ""
             }
            },
            "type": "scattergeo"
           }
          ],
          "scattergl": [
           {
            "marker": {
             "colorbar": {
              "outlinewidth": 0,
              "ticks": ""
             }
            },
            "type": "scattergl"
           }
          ],
          "scattermapbox": [
           {
            "marker": {
             "colorbar": {
              "outlinewidth": 0,
              "ticks": ""
             }
            },
            "type": "scattermapbox"
           }
          ],
          "scatterpolar": [
           {
            "marker": {
             "colorbar": {
              "outlinewidth": 0,
              "ticks": ""
             }
            },
            "type": "scatterpolar"
           }
          ],
          "scatterpolargl": [
           {
            "marker": {
             "colorbar": {
              "outlinewidth": 0,
              "ticks": ""
             }
            },
            "type": "scatterpolargl"
           }
          ],
          "scatterternary": [
           {
            "marker": {
             "colorbar": {
              "outlinewidth": 0,
              "ticks": ""
             }
            },
            "type": "scatterternary"
           }
          ],
          "surface": [
           {
            "colorbar": {
             "outlinewidth": 0,
             "ticks": ""
            },
            "colorscale": [
             [
              0,
              "#0d0887"
             ],
             [
              0.1111111111111111,
              "#46039f"
             ],
             [
              0.2222222222222222,
              "#7201a8"
             ],
             [
              0.3333333333333333,
              "#9c179e"
             ],
             [
              0.4444444444444444,
              "#bd3786"
             ],
             [
              0.5555555555555556,
              "#d8576b"
             ],
             [
              0.6666666666666666,
              "#ed7953"
             ],
             [
              0.7777777777777778,
              "#fb9f3a"
             ],
             [
              0.8888888888888888,
              "#fdca26"
             ],
             [
              1,
              "#f0f921"
             ]
            ],
            "type": "surface"
           }
          ],
          "table": [
           {
            "cells": {
             "fill": {
              "color": "#EBF0F8"
             },
             "line": {
              "color": "white"
             }
            },
            "header": {
             "fill": {
              "color": "#C8D4E3"
             },
             "line": {
              "color": "white"
             }
            },
            "type": "table"
           }
          ]
         },
         "layout": {
          "annotationdefaults": {
           "arrowcolor": "#2a3f5f",
           "arrowhead": 0,
           "arrowwidth": 1
          },
          "autotypenumbers": "strict",
          "coloraxis": {
           "colorbar": {
            "outlinewidth": 0,
            "ticks": ""
           }
          },
          "colorscale": {
           "diverging": [
            [
             0,
             "#8e0152"
            ],
            [
             0.1,
             "#c51b7d"
            ],
            [
             0.2,
             "#de77ae"
            ],
            [
             0.3,
             "#f1b6da"
            ],
            [
             0.4,
             "#fde0ef"
            ],
            [
             0.5,
             "#f7f7f7"
            ],
            [
             0.6,
             "#e6f5d0"
            ],
            [
             0.7,
             "#b8e186"
            ],
            [
             0.8,
             "#7fbc41"
            ],
            [
             0.9,
             "#4d9221"
            ],
            [
             1,
             "#276419"
            ]
           ],
           "sequential": [
            [
             0,
             "#0d0887"
            ],
            [
             0.1111111111111111,
             "#46039f"
            ],
            [
             0.2222222222222222,
             "#7201a8"
            ],
            [
             0.3333333333333333,
             "#9c179e"
            ],
            [
             0.4444444444444444,
             "#bd3786"
            ],
            [
             0.5555555555555556,
             "#d8576b"
            ],
            [
             0.6666666666666666,
             "#ed7953"
            ],
            [
             0.7777777777777778,
             "#fb9f3a"
            ],
            [
             0.8888888888888888,
             "#fdca26"
            ],
            [
             1,
             "#f0f921"
            ]
           ],
           "sequentialminus": [
            [
             0,
             "#0d0887"
            ],
            [
             0.1111111111111111,
             "#46039f"
            ],
            [
             0.2222222222222222,
             "#7201a8"
            ],
            [
             0.3333333333333333,
             "#9c179e"
            ],
            [
             0.4444444444444444,
             "#bd3786"
            ],
            [
             0.5555555555555556,
             "#d8576b"
            ],
            [
             0.6666666666666666,
             "#ed7953"
            ],
            [
             0.7777777777777778,
             "#fb9f3a"
            ],
            [
             0.8888888888888888,
             "#fdca26"
            ],
            [
             1,
             "#f0f921"
            ]
           ]
          },
          "colorway": [
           "#636efa",
           "#EF553B",
           "#00cc96",
           "#ab63fa",
           "#FFA15A",
           "#19d3f3",
           "#FF6692",
           "#B6E880",
           "#FF97FF",
           "#FECB52"
          ],
          "font": {
           "color": "#2a3f5f"
          },
          "geo": {
           "bgcolor": "white",
           "lakecolor": "white",
           "landcolor": "#E5ECF6",
           "showlakes": true,
           "showland": true,
           "subunitcolor": "white"
          },
          "hoverlabel": {
           "align": "left"
          },
          "hovermode": "closest",
          "mapbox": {
           "style": "light"
          },
          "paper_bgcolor": "white",
          "plot_bgcolor": "#E5ECF6",
          "polar": {
           "angularaxis": {
            "gridcolor": "white",
            "linecolor": "white",
            "ticks": ""
           },
           "bgcolor": "#E5ECF6",
           "radialaxis": {
            "gridcolor": "white",
            "linecolor": "white",
            "ticks": ""
           }
          },
          "scene": {
           "xaxis": {
            "backgroundcolor": "#E5ECF6",
            "gridcolor": "white",
            "gridwidth": 2,
            "linecolor": "white",
            "showbackground": true,
            "ticks": "",
            "zerolinecolor": "white"
           },
           "yaxis": {
            "backgroundcolor": "#E5ECF6",
            "gridcolor": "white",
            "gridwidth": 2,
            "linecolor": "white",
            "showbackground": true,
            "ticks": "",
            "zerolinecolor": "white"
           },
           "zaxis": {
            "backgroundcolor": "#E5ECF6",
            "gridcolor": "white",
            "gridwidth": 2,
            "linecolor": "white",
            "showbackground": true,
            "ticks": "",
            "zerolinecolor": "white"
           }
          },
          "shapedefaults": {
           "line": {
            "color": "#2a3f5f"
           }
          },
          "ternary": {
           "aaxis": {
            "gridcolor": "white",
            "linecolor": "white",
            "ticks": ""
           },
           "baxis": {
            "gridcolor": "white",
            "linecolor": "white",
            "ticks": ""
           },
           "bgcolor": "#E5ECF6",
           "caxis": {
            "gridcolor": "white",
            "linecolor": "white",
            "ticks": ""
           }
          },
          "title": {
           "x": 0.05
          },
          "xaxis": {
           "automargin": true,
           "gridcolor": "white",
           "linecolor": "white",
           "ticks": "",
           "title": {
            "standoff": 15
           },
           "zerolinecolor": "white",
           "zerolinewidth": 2
          },
          "yaxis": {
           "automargin": true,
           "gridcolor": "white",
           "linecolor": "white",
           "ticks": "",
           "title": {
            "standoff": 15
           },
           "zerolinecolor": "white",
           "zerolinewidth": 2
          }
         }
        }
       }
      }
     },
     "metadata": {},
     "output_type": "display_data"
    }
   ],
   "source": [
    "ages = df['age'].unique()\n",
    "ages = ages[~np.isnan(ages)]\n",
    "\n",
    "fig = go.Figure()\n",
    "# Iterate through each device \n",
    "for d in ages:\n",
    "    # Find the subset of the data with that device\n",
    "    tmp_df = df[df['age'] == d]\n",
    "\n",
    "    # Create a dict object with 0 counts for all topics\n",
    "    ages_hourly_activity = {}\n",
    "    for i in tmp_df.index:\n",
    "        # Find that index\n",
    "        tmp_timestamp = df['impression_time'][i]\n",
    "        tmp_datetime = tmp_timestamp\n",
    "        tmp_time = tmp_datetime.strftime('%H')\n",
    "\n",
    "        # Daily Activity\n",
    "        if tmp_time not in ages_hourly_activity:\n",
    "            ages_hourly_activity[tmp_time] = 0\n",
    "        else:\n",
    "            ages_hourly_activity[tmp_time] +=1\n",
    "        \n",
    "    \n",
    "    # Sort by dates\n",
    "    ages_hourly_activity = dict(sorted(ages_hourly_activity.items()))\n",
    "\n",
    "    # Add trace\n",
    "    fig.add_trace(go.Bar(x= [x for x in ages_hourly_activity.keys()], y = [y for y in ages_hourly_activity.values()], textfont_size=20))\n",
    "\n",
    "\n",
    "\n",
    "    # Overlay both histograms\n",
    "    #fig.update_layout(barmode='overlay')\n",
    "    # Reduce opacity to see both histograms\n",
    "fig.update_traces(opacity=0.75)\n",
    "fig.show()"
   ]
  },
  {
   "cell_type": "markdown",
   "id": "06e40744",
   "metadata": {},
   "source": [
    "# Postcodes"
   ]
  },
  {
   "cell_type": "markdown",
   "id": "0b31209f",
   "metadata": {},
   "source": [
    "### Distribution of Post Codes"
   ]
  },
  {
   "cell_type": "code",
   "execution_count": 14,
   "id": "87f2646a",
   "metadata": {},
   "outputs": [
    {
     "data": {
      "application/vnd.plotly.v1+json": {
       "config": {
        "plotlyServerURL": "https://plot.ly"
       },
       "data": [
        {
         "opacity": 0.75,
         "textfont": {
          "size": 20
         },
         "type": "bar",
         "x": [
          0,
          1,
          4,
          3,
          2
         ],
         "y": [
          572,
          352,
          268,
          254,
          190
         ]
        }
       ],
       "layout": {
        "template": {
         "data": {
          "bar": [
           {
            "error_x": {
             "color": "#2a3f5f"
            },
            "error_y": {
             "color": "#2a3f5f"
            },
            "marker": {
             "line": {
              "color": "#E5ECF6",
              "width": 0.5
             },
             "pattern": {
              "fillmode": "overlay",
              "size": 10,
              "solidity": 0.2
             }
            },
            "type": "bar"
           }
          ],
          "barpolar": [
           {
            "marker": {
             "line": {
              "color": "#E5ECF6",
              "width": 0.5
             },
             "pattern": {
              "fillmode": "overlay",
              "size": 10,
              "solidity": 0.2
             }
            },
            "type": "barpolar"
           }
          ],
          "carpet": [
           {
            "aaxis": {
             "endlinecolor": "#2a3f5f",
             "gridcolor": "white",
             "linecolor": "white",
             "minorgridcolor": "white",
             "startlinecolor": "#2a3f5f"
            },
            "baxis": {
             "endlinecolor": "#2a3f5f",
             "gridcolor": "white",
             "linecolor": "white",
             "minorgridcolor": "white",
             "startlinecolor": "#2a3f5f"
            },
            "type": "carpet"
           }
          ],
          "choropleth": [
           {
            "colorbar": {
             "outlinewidth": 0,
             "ticks": ""
            },
            "type": "choropleth"
           }
          ],
          "contour": [
           {
            "colorbar": {
             "outlinewidth": 0,
             "ticks": ""
            },
            "colorscale": [
             [
              0,
              "#0d0887"
             ],
             [
              0.1111111111111111,
              "#46039f"
             ],
             [
              0.2222222222222222,
              "#7201a8"
             ],
             [
              0.3333333333333333,
              "#9c179e"
             ],
             [
              0.4444444444444444,
              "#bd3786"
             ],
             [
              0.5555555555555556,
              "#d8576b"
             ],
             [
              0.6666666666666666,
              "#ed7953"
             ],
             [
              0.7777777777777778,
              "#fb9f3a"
             ],
             [
              0.8888888888888888,
              "#fdca26"
             ],
             [
              1,
              "#f0f921"
             ]
            ],
            "type": "contour"
           }
          ],
          "contourcarpet": [
           {
            "colorbar": {
             "outlinewidth": 0,
             "ticks": ""
            },
            "type": "contourcarpet"
           }
          ],
          "heatmap": [
           {
            "colorbar": {
             "outlinewidth": 0,
             "ticks": ""
            },
            "colorscale": [
             [
              0,
              "#0d0887"
             ],
             [
              0.1111111111111111,
              "#46039f"
             ],
             [
              0.2222222222222222,
              "#7201a8"
             ],
             [
              0.3333333333333333,
              "#9c179e"
             ],
             [
              0.4444444444444444,
              "#bd3786"
             ],
             [
              0.5555555555555556,
              "#d8576b"
             ],
             [
              0.6666666666666666,
              "#ed7953"
             ],
             [
              0.7777777777777778,
              "#fb9f3a"
             ],
             [
              0.8888888888888888,
              "#fdca26"
             ],
             [
              1,
              "#f0f921"
             ]
            ],
            "type": "heatmap"
           }
          ],
          "heatmapgl": [
           {
            "colorbar": {
             "outlinewidth": 0,
             "ticks": ""
            },
            "colorscale": [
             [
              0,
              "#0d0887"
             ],
             [
              0.1111111111111111,
              "#46039f"
             ],
             [
              0.2222222222222222,
              "#7201a8"
             ],
             [
              0.3333333333333333,
              "#9c179e"
             ],
             [
              0.4444444444444444,
              "#bd3786"
             ],
             [
              0.5555555555555556,
              "#d8576b"
             ],
             [
              0.6666666666666666,
              "#ed7953"
             ],
             [
              0.7777777777777778,
              "#fb9f3a"
             ],
             [
              0.8888888888888888,
              "#fdca26"
             ],
             [
              1,
              "#f0f921"
             ]
            ],
            "type": "heatmapgl"
           }
          ],
          "histogram": [
           {
            "marker": {
             "pattern": {
              "fillmode": "overlay",
              "size": 10,
              "solidity": 0.2
             }
            },
            "type": "histogram"
           }
          ],
          "histogram2d": [
           {
            "colorbar": {
             "outlinewidth": 0,
             "ticks": ""
            },
            "colorscale": [
             [
              0,
              "#0d0887"
             ],
             [
              0.1111111111111111,
              "#46039f"
             ],
             [
              0.2222222222222222,
              "#7201a8"
             ],
             [
              0.3333333333333333,
              "#9c179e"
             ],
             [
              0.4444444444444444,
              "#bd3786"
             ],
             [
              0.5555555555555556,
              "#d8576b"
             ],
             [
              0.6666666666666666,
              "#ed7953"
             ],
             [
              0.7777777777777778,
              "#fb9f3a"
             ],
             [
              0.8888888888888888,
              "#fdca26"
             ],
             [
              1,
              "#f0f921"
             ]
            ],
            "type": "histogram2d"
           }
          ],
          "histogram2dcontour": [
           {
            "colorbar": {
             "outlinewidth": 0,
             "ticks": ""
            },
            "colorscale": [
             [
              0,
              "#0d0887"
             ],
             [
              0.1111111111111111,
              "#46039f"
             ],
             [
              0.2222222222222222,
              "#7201a8"
             ],
             [
              0.3333333333333333,
              "#9c179e"
             ],
             [
              0.4444444444444444,
              "#bd3786"
             ],
             [
              0.5555555555555556,
              "#d8576b"
             ],
             [
              0.6666666666666666,
              "#ed7953"
             ],
             [
              0.7777777777777778,
              "#fb9f3a"
             ],
             [
              0.8888888888888888,
              "#fdca26"
             ],
             [
              1,
              "#f0f921"
             ]
            ],
            "type": "histogram2dcontour"
           }
          ],
          "mesh3d": [
           {
            "colorbar": {
             "outlinewidth": 0,
             "ticks": ""
            },
            "type": "mesh3d"
           }
          ],
          "parcoords": [
           {
            "line": {
             "colorbar": {
              "outlinewidth": 0,
              "ticks": ""
             }
            },
            "type": "parcoords"
           }
          ],
          "pie": [
           {
            "automargin": true,
            "type": "pie"
           }
          ],
          "scatter": [
           {
            "fillpattern": {
             "fillmode": "overlay",
             "size": 10,
             "solidity": 0.2
            },
            "type": "scatter"
           }
          ],
          "scatter3d": [
           {
            "line": {
             "colorbar": {
              "outlinewidth": 0,
              "ticks": ""
             }
            },
            "marker": {
             "colorbar": {
              "outlinewidth": 0,
              "ticks": ""
             }
            },
            "type": "scatter3d"
           }
          ],
          "scattercarpet": [
           {
            "marker": {
             "colorbar": {
              "outlinewidth": 0,
              "ticks": ""
             }
            },
            "type": "scattercarpet"
           }
          ],
          "scattergeo": [
           {
            "marker": {
             "colorbar": {
              "outlinewidth": 0,
              "ticks": ""
             }
            },
            "type": "scattergeo"
           }
          ],
          "scattergl": [
           {
            "marker": {
             "colorbar": {
              "outlinewidth": 0,
              "ticks": ""
             }
            },
            "type": "scattergl"
           }
          ],
          "scattermapbox": [
           {
            "marker": {
             "colorbar": {
              "outlinewidth": 0,
              "ticks": ""
             }
            },
            "type": "scattermapbox"
           }
          ],
          "scatterpolar": [
           {
            "marker": {
             "colorbar": {
              "outlinewidth": 0,
              "ticks": ""
             }
            },
            "type": "scatterpolar"
           }
          ],
          "scatterpolargl": [
           {
            "marker": {
             "colorbar": {
              "outlinewidth": 0,
              "ticks": ""
             }
            },
            "type": "scatterpolargl"
           }
          ],
          "scatterternary": [
           {
            "marker": {
             "colorbar": {
              "outlinewidth": 0,
              "ticks": ""
             }
            },
            "type": "scatterternary"
           }
          ],
          "surface": [
           {
            "colorbar": {
             "outlinewidth": 0,
             "ticks": ""
            },
            "colorscale": [
             [
              0,
              "#0d0887"
             ],
             [
              0.1111111111111111,
              "#46039f"
             ],
             [
              0.2222222222222222,
              "#7201a8"
             ],
             [
              0.3333333333333333,
              "#9c179e"
             ],
             [
              0.4444444444444444,
              "#bd3786"
             ],
             [
              0.5555555555555556,
              "#d8576b"
             ],
             [
              0.6666666666666666,
              "#ed7953"
             ],
             [
              0.7777777777777778,
              "#fb9f3a"
             ],
             [
              0.8888888888888888,
              "#fdca26"
             ],
             [
              1,
              "#f0f921"
             ]
            ],
            "type": "surface"
           }
          ],
          "table": [
           {
            "cells": {
             "fill": {
              "color": "#EBF0F8"
             },
             "line": {
              "color": "white"
             }
            },
            "header": {
             "fill": {
              "color": "#C8D4E3"
             },
             "line": {
              "color": "white"
             }
            },
            "type": "table"
           }
          ]
         },
         "layout": {
          "annotationdefaults": {
           "arrowcolor": "#2a3f5f",
           "arrowhead": 0,
           "arrowwidth": 1
          },
          "autotypenumbers": "strict",
          "coloraxis": {
           "colorbar": {
            "outlinewidth": 0,
            "ticks": ""
           }
          },
          "colorscale": {
           "diverging": [
            [
             0,
             "#8e0152"
            ],
            [
             0.1,
             "#c51b7d"
            ],
            [
             0.2,
             "#de77ae"
            ],
            [
             0.3,
             "#f1b6da"
            ],
            [
             0.4,
             "#fde0ef"
            ],
            [
             0.5,
             "#f7f7f7"
            ],
            [
             0.6,
             "#e6f5d0"
            ],
            [
             0.7,
             "#b8e186"
            ],
            [
             0.8,
             "#7fbc41"
            ],
            [
             0.9,
             "#4d9221"
            ],
            [
             1,
             "#276419"
            ]
           ],
           "sequential": [
            [
             0,
             "#0d0887"
            ],
            [
             0.1111111111111111,
             "#46039f"
            ],
            [
             0.2222222222222222,
             "#7201a8"
            ],
            [
             0.3333333333333333,
             "#9c179e"
            ],
            [
             0.4444444444444444,
             "#bd3786"
            ],
            [
             0.5555555555555556,
             "#d8576b"
            ],
            [
             0.6666666666666666,
             "#ed7953"
            ],
            [
             0.7777777777777778,
             "#fb9f3a"
            ],
            [
             0.8888888888888888,
             "#fdca26"
            ],
            [
             1,
             "#f0f921"
            ]
           ],
           "sequentialminus": [
            [
             0,
             "#0d0887"
            ],
            [
             0.1111111111111111,
             "#46039f"
            ],
            [
             0.2222222222222222,
             "#7201a8"
            ],
            [
             0.3333333333333333,
             "#9c179e"
            ],
            [
             0.4444444444444444,
             "#bd3786"
            ],
            [
             0.5555555555555556,
             "#d8576b"
            ],
            [
             0.6666666666666666,
             "#ed7953"
            ],
            [
             0.7777777777777778,
             "#fb9f3a"
            ],
            [
             0.8888888888888888,
             "#fdca26"
            ],
            [
             1,
             "#f0f921"
            ]
           ]
          },
          "colorway": [
           "#636efa",
           "#EF553B",
           "#00cc96",
           "#ab63fa",
           "#FFA15A",
           "#19d3f3",
           "#FF6692",
           "#B6E880",
           "#FF97FF",
           "#FECB52"
          ],
          "font": {
           "color": "#2a3f5f"
          },
          "geo": {
           "bgcolor": "white",
           "lakecolor": "white",
           "landcolor": "#E5ECF6",
           "showlakes": true,
           "showland": true,
           "subunitcolor": "white"
          },
          "hoverlabel": {
           "align": "left"
          },
          "hovermode": "closest",
          "mapbox": {
           "style": "light"
          },
          "paper_bgcolor": "white",
          "plot_bgcolor": "#E5ECF6",
          "polar": {
           "angularaxis": {
            "gridcolor": "white",
            "linecolor": "white",
            "ticks": ""
           },
           "bgcolor": "#E5ECF6",
           "radialaxis": {
            "gridcolor": "white",
            "linecolor": "white",
            "ticks": ""
           }
          },
          "scene": {
           "xaxis": {
            "backgroundcolor": "#E5ECF6",
            "gridcolor": "white",
            "gridwidth": 2,
            "linecolor": "white",
            "showbackground": true,
            "ticks": "",
            "zerolinecolor": "white"
           },
           "yaxis": {
            "backgroundcolor": "#E5ECF6",
            "gridcolor": "white",
            "gridwidth": 2,
            "linecolor": "white",
            "showbackground": true,
            "ticks": "",
            "zerolinecolor": "white"
           },
           "zaxis": {
            "backgroundcolor": "#E5ECF6",
            "gridcolor": "white",
            "gridwidth": 2,
            "linecolor": "white",
            "showbackground": true,
            "ticks": "",
            "zerolinecolor": "white"
           }
          },
          "shapedefaults": {
           "line": {
            "color": "#2a3f5f"
           }
          },
          "ternary": {
           "aaxis": {
            "gridcolor": "white",
            "linecolor": "white",
            "ticks": ""
           },
           "baxis": {
            "gridcolor": "white",
            "linecolor": "white",
            "ticks": ""
           },
           "bgcolor": "#E5ECF6",
           "caxis": {
            "gridcolor": "white",
            "linecolor": "white",
            "ticks": ""
           }
          },
          "title": {
           "x": 0.05
          },
          "xaxis": {
           "automargin": true,
           "gridcolor": "white",
           "linecolor": "white",
           "ticks": "",
           "title": {
            "standoff": 15
           },
           "zerolinecolor": "white",
           "zerolinewidth": 2
          },
          "yaxis": {
           "automargin": true,
           "gridcolor": "white",
           "linecolor": "white",
           "ticks": "",
           "title": {
            "standoff": 15
           },
           "zerolinecolor": "white",
           "zerolinewidth": 2
          }
         }
        }
       }
      }
     },
     "metadata": {},
     "output_type": "display_data"
    }
   ],
   "source": [
    "# distribution of genders\n",
    "indices = df['postcode'].value_counts().index\n",
    "values = df['postcode'].value_counts().values\n",
    "\n",
    "fig = go.Figure()\n",
    "\n",
    "\n",
    "# Add trace\n",
    "fig.add_trace(go.Bar(x= indices, y = values, textfont_size=20))\n",
    "\n",
    "\n",
    "\n",
    "    # Overlay both histograms\n",
    "    #fig.update_layout(barmode='overlay')\n",
    "    # Reduce opacity to see both histograms\n",
    "fig.update_traces(opacity=0.75)\n",
    "fig.show()"
   ]
  },
  {
   "cell_type": "markdown",
   "id": "0ae5a212",
   "metadata": {},
   "source": [
    "### Average Read Time in each postal code"
   ]
  },
  {
   "cell_type": "code",
   "execution_count": null,
   "id": "4b3bf9aa",
   "metadata": {},
   "outputs": [],
   "source": [
    "indices = df['postcode'].value_counts().sort_index().index\n",
    "values = df['postcode'].value_counts().sort_index().values\n",
    "\n",
    "# Create graph object\n",
    "fig = go.Figure()\n",
    "\n",
    "# for each post code add a readtime \n",
    "for postcode in indices:\n",
    "    read_time = df[df['postcode'] == postcode]['read_time']\n",
    "    fig.add_trace(go.Histogram(x=read_time))\n",
    "\n",
    "\n",
    "fig.update_layout(barmode='overlay')\n",
    "fig.update_traces(opacity=0.75)\n",
    "fig.show()"
   ]
  },
  {
   "cell_type": "code",
   "execution_count": null,
   "id": "0bba02ba",
   "metadata": {},
   "outputs": [],
   "source": [
    "indices = df['postcode'].value_counts().sort_index().index\n",
    "values = df['postcode'].value_counts().sort_index().values\n",
    "\n",
    "# Create graph object\n",
    "fig = go.Figure()\n",
    "\n",
    "# for each post code add a readtime \n",
    "for postcode in indices:\n",
    "    avg_read_time = df[df['postcode'] == postcode]['read_time'].mean()\n",
    "    fig.add_trace(go.Bar(x=[postcode], y = [avg_read_time], textfont_size=20))\n",
    "\n",
    "\n",
    "fig.update_layout(barmode='overlay')\n",
    "fig.update_traces(opacity=0.75)\n",
    "fig.show()"
   ]
  },
  {
   "cell_type": "markdown",
   "id": "c13bde99",
   "metadata": {},
   "source": [
    "### Average Scroll pct in each postal code"
   ]
  },
  {
   "cell_type": "code",
   "execution_count": null,
   "id": "7601e504",
   "metadata": {},
   "outputs": [],
   "source": [
    "indices = df['postcode'].value_counts().sort_index().index\n",
    "values = df['postcode'].value_counts().sort_index().values\n",
    "\n",
    "# Create graph object\n",
    "fig = go.Figure()\n",
    "\n",
    "# for each post code add a readtime \n",
    "for postcode in indices:\n",
    "    scroll_pct = df[df['postcode'] == postcode]['scroll_percentage']\n",
    "    fig.add_trace(go.Histogram(x=scroll_pct))\n",
    "\n",
    "\n",
    "fig.update_layout(barmode='overlay')\n",
    "fig.update_traces(opacity=0.75)\n",
    "fig.show()"
   ]
  },
  {
   "cell_type": "code",
   "execution_count": null,
   "id": "6d829609",
   "metadata": {},
   "outputs": [],
   "source": [
    "indices = df['postcode'].value_counts().sort_index().index\n",
    "values = df['postcode'].value_counts().sort_index().values\n",
    "\n",
    "# Create graph object\n",
    "fig = go.Figure()\n",
    "\n",
    "# for each post code add a readtime \n",
    "for postcode in indices:\n",
    "    avg_scroll_pct = df[df['postcode'] == postcode]['scroll_percentage'].mean()\n",
    "    fig.add_trace(go.Bar(x=[postcode], y = [avg_scroll_pct], textfont_size=20))\n",
    "\n",
    "\n",
    "fig.update_layout(barmode='overlay')\n",
    "fig.update_traces(opacity=0.75)\n",
    "fig.show()"
   ]
  },
  {
   "cell_type": "markdown",
   "id": "f742f798",
   "metadata": {},
   "source": [
    "### Topics"
   ]
  },
  {
   "cell_type": "code",
   "execution_count": 16,
   "id": "f656d88f",
   "metadata": {},
   "outputs": [
    {
     "data": {
      "application/vnd.plotly.v1+json": {
       "config": {
        "plotlyServerURL": "https://plot.ly"
       },
       "data": [
        {
         "opacity": 0.75,
         "textfont": {
          "size": 20
         },
         "type": "bar",
         "x": [
          "Kendt",
          "Underholdning",
          "Begivenhed",
          "Sport",
          "Erhverv",
          "Politik",
          "Kriminalitet",
          "Livsstil",
          "Sportsbegivenhed",
          "Samfund",
          "Privat virksomhed",
          "Økonomi",
          "International politik",
          "Personfarlig kriminalitet",
          "Film og tv",
          "Konflikt og krig",
          "National politik",
          "Fodbold",
          "Katastrofe",
          "Transportmiddel",
          "Sundhed",
          "Sygdom og behandling",
          "Ansættelsesforhold",
          "Ketcher- og batsport",
          "Musik og lyd",
          "Væbnet konflikt",
          "Mindre ulykke",
          "Personlig begivenhed",
          "Underholdningsbegivenhed",
          "Familieliv",
          "Krop og velvære",
          "Kultur",
          "Partnerskab",
          "Mikro",
          "Større transportmiddel",
          "Uddannelse",
          "Videnskab",
          "Mad og drikke",
          "Naturvidenskab",
          "Større katastrofe",
          "Cykling",
          "Rejse",
          "Teknologi",
          "Værdier",
          "Bil",
          "Erotik",
          "Håndbold",
          "Bedrageri",
          "Bæredygtighed og klima",
          "Reality",
          "Bandekriminalitet",
          "Dyr",
          "Makro",
          "Motorsport",
          "Bolig",
          "Forbrugerelektronik",
          "Grundskole",
          "Kunstig intelligens og software",
          "Offentlig transport",
          "Ungdomsuddannelse",
          "Vejr",
          "Køb og salg",
          "Litteratur",
          "Offentlig instans",
          "Byliv",
          "Mindre transportmiddel",
          "Religion",
          "Samfundsvidenskab og humaniora",
          "Tendenser",
          "Videregående uddannelse",
          "Fritid",
          "Kosmetisk behandling",
          "Kunst",
          "Museum og seværdighed",
          "Mærkedag",
          "Renovering og indretning",
          "Terror",
          "Udlejning"
         ],
         "y": [
          131,
          77,
          76,
          71,
          66,
          65,
          62,
          55,
          52,
          42,
          41,
          40,
          39,
          37,
          36,
          35,
          31,
          27,
          27,
          24,
          23,
          22,
          17,
          17,
          16,
          16,
          14,
          12,
          12,
          11,
          11,
          11,
          11,
          10,
          10,
          10,
          10,
          9,
          9,
          9,
          8,
          8,
          8,
          8,
          7,
          7,
          6,
          5,
          5,
          5,
          4,
          4,
          4,
          4,
          3,
          3,
          3,
          3,
          3,
          3,
          3,
          2,
          2,
          2,
          1,
          1,
          1,
          1,
          1,
          1,
          0,
          0,
          0,
          0,
          0,
          0,
          0,
          0
         ]
        },
        {
         "opacity": 0.75,
         "textfont": {
          "size": 20
         },
         "type": "bar",
         "x": [
          "Kendt",
          "Sport",
          "Begivenhed",
          "Underholdning",
          "Sportsbegivenhed",
          "Livsstil",
          "Kriminalitet",
          "Politik",
          "Erhverv",
          "Fodbold",
          "Film og tv",
          "Personfarlig kriminalitet",
          "Katastrofe",
          "International politik",
          "National politik",
          "Samfund",
          "Økonomi",
          "Konflikt og krig",
          "Sundhed",
          "Privat virksomhed",
          "Sygdom og behandling",
          "Transportmiddel",
          "Mindre ulykke",
          "Kultur",
          "Partnerskab",
          "Ansættelsesforhold",
          "Ketcher- og batsport",
          "Krop og velvære",
          "Væbnet konflikt",
          "Erotik",
          "Musik og lyd",
          "Familieliv",
          "Underholdningsbegivenhed",
          "Værdier",
          "Mikro",
          "Større katastrofe",
          "Personlig begivenhed",
          "Bil",
          "Bolig",
          "Cykling",
          "Reality",
          "Større transportmiddel",
          "Bandekriminalitet",
          "Kunst",
          "Rejse",
          "Teknologi",
          "Bedrageri",
          "Køb og salg",
          "Mad og drikke",
          "Uddannelse",
          "Videnskab",
          "Dyr",
          "Makro",
          "Byliv",
          "Naturvidenskab",
          "Vejr",
          "Grundskole",
          "Motorsport",
          "Håndbold",
          "Litteratur",
          "Renovering og indretning",
          "Fritid",
          "Kunstig intelligens og software",
          "Mindre transportmiddel",
          "Offentlig instans",
          "Offentlig transport",
          "Samfundsvidenskab og humaniora",
          "Ungdomsuddannelse",
          "Bæredygtighed og klima",
          "Forbrugerelektronik",
          "Tendenser",
          "Terror",
          "Videregående uddannelse",
          "Kosmetisk behandling",
          "Museum og seværdighed",
          "Mærkedag",
          "Religion",
          "Udlejning"
         ],
         "y": [
          233,
          149,
          148,
          121,
          112,
          101,
          89,
          86,
          83,
          73,
          63,
          55,
          50,
          49,
          45,
          45,
          43,
          40,
          40,
          38,
          36,
          33,
          31,
          29,
          28,
          27,
          25,
          25,
          25,
          22,
          20,
          18,
          18,
          18,
          15,
          15,
          14,
          12,
          12,
          12,
          12,
          11,
          10,
          9,
          9,
          9,
          8,
          8,
          8,
          7,
          7,
          6,
          6,
          5,
          5,
          5,
          4,
          4,
          3,
          3,
          3,
          2,
          2,
          2,
          2,
          2,
          2,
          2,
          1,
          1,
          1,
          1,
          1,
          0,
          0,
          0,
          0,
          0
         ]
        },
        {
         "opacity": 0.75,
         "textfont": {
          "size": 20
         },
         "type": "bar",
         "x": [
          "Kendt",
          "Kriminalitet",
          "Sport",
          "Begivenhed",
          "Underholdning",
          "Personfarlig kriminalitet",
          "Sportsbegivenhed",
          "Livsstil",
          "Politik",
          "Erhverv",
          "Økonomi",
          "Transportmiddel",
          "Privat virksomhed",
          "Katastrofe",
          "Film og tv",
          "International politik",
          "Samfund",
          "Mindre ulykke",
          "Fodbold",
          "Konflikt og krig",
          "Sundhed",
          "Ketcher- og batsport",
          "National politik",
          "Mikro",
          "Sygdom og behandling",
          "Større transportmiddel",
          "Bandekriminalitet",
          "Musik og lyd",
          "Bil",
          "Erotik",
          "Krop og velvære",
          "Teknologi",
          "Væbnet konflikt",
          "Ansættelsesforhold",
          "Bolig",
          "Partnerskab",
          "Værdier",
          "Bedrageri",
          "Cykling",
          "Kultur",
          "Køb og salg",
          "Mad og drikke",
          "Underholdningsbegivenhed",
          "Familieliv",
          "Mindre transportmiddel",
          "Reality",
          "Større katastrofe",
          "Dyr",
          "Håndbold",
          "Kunst",
          "Offentlig instans",
          "Personlig begivenhed",
          "Uddannelse",
          "Videnskab",
          "Byliv",
          "Bæredygtighed og klima",
          "Forbrugerelektronik",
          "Grundskole",
          "Kosmetisk behandling",
          "Kunstig intelligens og software",
          "Motorsport",
          "Naturvidenskab",
          "Renovering og indretning",
          "Vejr",
          "Videregående uddannelse",
          "Fritid",
          "Litteratur",
          "Makro",
          "Museum og seværdighed",
          "Mærkedag",
          "Offentlig transport",
          "Rejse",
          "Religion",
          "Samfundsvidenskab og humaniora",
          "Tendenser",
          "Terror",
          "Udlejning",
          "Ungdomsuddannelse"
         ],
         "y": [
          71,
          48,
          42,
          38,
          36,
          33,
          31,
          27,
          26,
          25,
          23,
          22,
          20,
          19,
          18,
          18,
          18,
          15,
          14,
          14,
          14,
          13,
          11,
          10,
          10,
          9,
          7,
          7,
          6,
          6,
          6,
          6,
          6,
          5,
          5,
          5,
          5,
          4,
          4,
          4,
          4,
          4,
          4,
          3,
          3,
          3,
          3,
          2,
          2,
          2,
          2,
          2,
          2,
          2,
          1,
          1,
          1,
          1,
          1,
          1,
          1,
          1,
          1,
          1,
          1,
          0,
          0,
          0,
          0,
          0,
          0,
          0,
          0,
          0,
          0,
          0,
          0,
          0
         ]
        },
        {
         "opacity": 0.75,
         "textfont": {
          "size": 20
         },
         "type": "bar",
         "x": [
          "Kendt",
          "Underholdning",
          "Begivenhed",
          "Politik",
          "Sport",
          "Kriminalitet",
          "Livsstil",
          "Erhverv",
          "International politik",
          "National politik",
          "Økonomi",
          "Film og tv",
          "Sportsbegivenhed",
          "Transportmiddel",
          "Samfund",
          "Personfarlig kriminalitet",
          "Konflikt og krig",
          "Privat virksomhed",
          "Katastrofe",
          "Fodbold",
          "Sundhed",
          "Personlig begivenhed",
          "Sygdom og behandling",
          "Mindre ulykke",
          "Værdier",
          "Bil",
          "Musik og lyd",
          "Ketcher- og batsport",
          "Underholdningsbegivenhed",
          "Kultur",
          "Ansættelsesforhold",
          "Mikro",
          "Familieliv",
          "Partnerskab",
          "Større transportmiddel",
          "Væbnet konflikt",
          "Cykling",
          "Uddannelse",
          "Større katastrofe",
          "Dyr",
          "Erotik",
          "Krop og velvære",
          "Bolig",
          "Makro",
          "Reality",
          "Grundskole",
          "Litteratur",
          "Mad og drikke",
          "Motorsport",
          "Naturvidenskab",
          "Rejse",
          "Teknologi",
          "Videnskab",
          "Kunstig intelligens og software",
          "Køb og salg",
          "Mindre transportmiddel",
          "Vejr",
          "Bedrageri",
          "Byliv",
          "Fritid",
          "Håndbold",
          "Kosmetisk behandling",
          "Kunst",
          "Offentlig instans",
          "Offentlig transport",
          "Renovering og indretning",
          "Udlejning",
          "Bandekriminalitet",
          "Bæredygtighed og klima",
          "Forbrugerelektronik",
          "Museum og seværdighed",
          "Mærkedag",
          "Religion",
          "Samfundsvidenskab og humaniora",
          "Tendenser",
          "Terror",
          "Ungdomsuddannelse",
          "Videregående uddannelse"
         ],
         "y": [
          118,
          65,
          52,
          51,
          45,
          40,
          35,
          31,
          31,
          31,
          30,
          27,
          26,
          26,
          25,
          23,
          20,
          20,
          19,
          17,
          17,
          15,
          15,
          13,
          13,
          12,
          12,
          11,
          11,
          10,
          9,
          9,
          8,
          8,
          8,
          8,
          7,
          7,
          6,
          5,
          5,
          5,
          4,
          4,
          4,
          3,
          3,
          3,
          3,
          3,
          3,
          3,
          3,
          2,
          2,
          2,
          2,
          1,
          1,
          1,
          1,
          1,
          1,
          1,
          1,
          1,
          1,
          0,
          0,
          0,
          0,
          0,
          0,
          0,
          0,
          0,
          0,
          0
         ]
        },
        {
         "opacity": 0.75,
         "textfont": {
          "size": 20
         },
         "type": "bar",
         "x": [
          "Kendt",
          "Sport",
          "Underholdning",
          "Begivenhed",
          "Kriminalitet",
          "Livsstil",
          "Erhverv",
          "Politik",
          "Personfarlig kriminalitet",
          "Sportsbegivenhed",
          "Fodbold",
          "Film og tv",
          "Privat virksomhed",
          "Samfund",
          "Økonomi",
          "International politik",
          "National politik",
          "Konflikt og krig",
          "Katastrofe",
          "Ansættelsesforhold",
          "Sundhed",
          "Transportmiddel",
          "Underholdningsbegivenhed",
          "Mindre ulykke",
          "Værdier",
          "Partnerskab",
          "Sygdom og behandling",
          "Krop og velvære",
          "Bolig",
          "Erotik",
          "Kultur",
          "Musik og lyd",
          "Teknologi",
          "Væbnet konflikt",
          "Mikro",
          "Uddannelse",
          "Personlig begivenhed",
          "Større transportmiddel",
          "Bil",
          "Grundskole",
          "Ketcher- og batsport",
          "Reality",
          "Cykling",
          "Familieliv",
          "Kunstig intelligens og software",
          "Rejse",
          "Køb og salg",
          "Mad og drikke",
          "Makro",
          "Offentlig instans",
          "Bandekriminalitet",
          "Bedrageri",
          "Forbrugerelektronik",
          "Mindre transportmiddel",
          "Motorsport",
          "Større katastrofe",
          "Vejr",
          "Videnskab",
          "Byliv",
          "Bæredygtighed og klima",
          "Dyr",
          "Håndbold",
          "Kosmetisk behandling",
          "Mærkedag",
          "Naturvidenskab",
          "Religion",
          "Renovering og indretning",
          "Udlejning",
          "Videregående uddannelse",
          "Fritid",
          "Kunst",
          "Litteratur",
          "Museum og seværdighed",
          "Offentlig transport",
          "Samfundsvidenskab og humaniora",
          "Tendenser",
          "Terror",
          "Ungdomsuddannelse"
         ],
         "y": [
          99,
          60,
          56,
          55,
          54,
          48,
          47,
          41,
          37,
          37,
          31,
          30,
          30,
          29,
          29,
          24,
          21,
          18,
          17,
          16,
          14,
          14,
          14,
          13,
          12,
          10,
          10,
          9,
          8,
          8,
          8,
          8,
          8,
          8,
          7,
          7,
          6,
          6,
          5,
          5,
          5,
          5,
          4,
          4,
          4,
          4,
          3,
          3,
          3,
          3,
          2,
          2,
          2,
          2,
          2,
          2,
          2,
          2,
          1,
          1,
          1,
          1,
          1,
          1,
          1,
          1,
          1,
          1,
          1,
          0,
          0,
          0,
          0,
          0,
          0,
          0,
          0,
          0
         ]
        }
       ],
       "layout": {
        "template": {
         "data": {
          "bar": [
           {
            "error_x": {
             "color": "#2a3f5f"
            },
            "error_y": {
             "color": "#2a3f5f"
            },
            "marker": {
             "line": {
              "color": "#E5ECF6",
              "width": 0.5
             },
             "pattern": {
              "fillmode": "overlay",
              "size": 10,
              "solidity": 0.2
             }
            },
            "type": "bar"
           }
          ],
          "barpolar": [
           {
            "marker": {
             "line": {
              "color": "#E5ECF6",
              "width": 0.5
             },
             "pattern": {
              "fillmode": "overlay",
              "size": 10,
              "solidity": 0.2
             }
            },
            "type": "barpolar"
           }
          ],
          "carpet": [
           {
            "aaxis": {
             "endlinecolor": "#2a3f5f",
             "gridcolor": "white",
             "linecolor": "white",
             "minorgridcolor": "white",
             "startlinecolor": "#2a3f5f"
            },
            "baxis": {
             "endlinecolor": "#2a3f5f",
             "gridcolor": "white",
             "linecolor": "white",
             "minorgridcolor": "white",
             "startlinecolor": "#2a3f5f"
            },
            "type": "carpet"
           }
          ],
          "choropleth": [
           {
            "colorbar": {
             "outlinewidth": 0,
             "ticks": ""
            },
            "type": "choropleth"
           }
          ],
          "contour": [
           {
            "colorbar": {
             "outlinewidth": 0,
             "ticks": ""
            },
            "colorscale": [
             [
              0,
              "#0d0887"
             ],
             [
              0.1111111111111111,
              "#46039f"
             ],
             [
              0.2222222222222222,
              "#7201a8"
             ],
             [
              0.3333333333333333,
              "#9c179e"
             ],
             [
              0.4444444444444444,
              "#bd3786"
             ],
             [
              0.5555555555555556,
              "#d8576b"
             ],
             [
              0.6666666666666666,
              "#ed7953"
             ],
             [
              0.7777777777777778,
              "#fb9f3a"
             ],
             [
              0.8888888888888888,
              "#fdca26"
             ],
             [
              1,
              "#f0f921"
             ]
            ],
            "type": "contour"
           }
          ],
          "contourcarpet": [
           {
            "colorbar": {
             "outlinewidth": 0,
             "ticks": ""
            },
            "type": "contourcarpet"
           }
          ],
          "heatmap": [
           {
            "colorbar": {
             "outlinewidth": 0,
             "ticks": ""
            },
            "colorscale": [
             [
              0,
              "#0d0887"
             ],
             [
              0.1111111111111111,
              "#46039f"
             ],
             [
              0.2222222222222222,
              "#7201a8"
             ],
             [
              0.3333333333333333,
              "#9c179e"
             ],
             [
              0.4444444444444444,
              "#bd3786"
             ],
             [
              0.5555555555555556,
              "#d8576b"
             ],
             [
              0.6666666666666666,
              "#ed7953"
             ],
             [
              0.7777777777777778,
              "#fb9f3a"
             ],
             [
              0.8888888888888888,
              "#fdca26"
             ],
             [
              1,
              "#f0f921"
             ]
            ],
            "type": "heatmap"
           }
          ],
          "heatmapgl": [
           {
            "colorbar": {
             "outlinewidth": 0,
             "ticks": ""
            },
            "colorscale": [
             [
              0,
              "#0d0887"
             ],
             [
              0.1111111111111111,
              "#46039f"
             ],
             [
              0.2222222222222222,
              "#7201a8"
             ],
             [
              0.3333333333333333,
              "#9c179e"
             ],
             [
              0.4444444444444444,
              "#bd3786"
             ],
             [
              0.5555555555555556,
              "#d8576b"
             ],
             [
              0.6666666666666666,
              "#ed7953"
             ],
             [
              0.7777777777777778,
              "#fb9f3a"
             ],
             [
              0.8888888888888888,
              "#fdca26"
             ],
             [
              1,
              "#f0f921"
             ]
            ],
            "type": "heatmapgl"
           }
          ],
          "histogram": [
           {
            "marker": {
             "pattern": {
              "fillmode": "overlay",
              "size": 10,
              "solidity": 0.2
             }
            },
            "type": "histogram"
           }
          ],
          "histogram2d": [
           {
            "colorbar": {
             "outlinewidth": 0,
             "ticks": ""
            },
            "colorscale": [
             [
              0,
              "#0d0887"
             ],
             [
              0.1111111111111111,
              "#46039f"
             ],
             [
              0.2222222222222222,
              "#7201a8"
             ],
             [
              0.3333333333333333,
              "#9c179e"
             ],
             [
              0.4444444444444444,
              "#bd3786"
             ],
             [
              0.5555555555555556,
              "#d8576b"
             ],
             [
              0.6666666666666666,
              "#ed7953"
             ],
             [
              0.7777777777777778,
              "#fb9f3a"
             ],
             [
              0.8888888888888888,
              "#fdca26"
             ],
             [
              1,
              "#f0f921"
             ]
            ],
            "type": "histogram2d"
           }
          ],
          "histogram2dcontour": [
           {
            "colorbar": {
             "outlinewidth": 0,
             "ticks": ""
            },
            "colorscale": [
             [
              0,
              "#0d0887"
             ],
             [
              0.1111111111111111,
              "#46039f"
             ],
             [
              0.2222222222222222,
              "#7201a8"
             ],
             [
              0.3333333333333333,
              "#9c179e"
             ],
             [
              0.4444444444444444,
              "#bd3786"
             ],
             [
              0.5555555555555556,
              "#d8576b"
             ],
             [
              0.6666666666666666,
              "#ed7953"
             ],
             [
              0.7777777777777778,
              "#fb9f3a"
             ],
             [
              0.8888888888888888,
              "#fdca26"
             ],
             [
              1,
              "#f0f921"
             ]
            ],
            "type": "histogram2dcontour"
           }
          ],
          "mesh3d": [
           {
            "colorbar": {
             "outlinewidth": 0,
             "ticks": ""
            },
            "type": "mesh3d"
           }
          ],
          "parcoords": [
           {
            "line": {
             "colorbar": {
              "outlinewidth": 0,
              "ticks": ""
             }
            },
            "type": "parcoords"
           }
          ],
          "pie": [
           {
            "automargin": true,
            "type": "pie"
           }
          ],
          "scatter": [
           {
            "fillpattern": {
             "fillmode": "overlay",
             "size": 10,
             "solidity": 0.2
            },
            "type": "scatter"
           }
          ],
          "scatter3d": [
           {
            "line": {
             "colorbar": {
              "outlinewidth": 0,
              "ticks": ""
             }
            },
            "marker": {
             "colorbar": {
              "outlinewidth": 0,
              "ticks": ""
             }
            },
            "type": "scatter3d"
           }
          ],
          "scattercarpet": [
           {
            "marker": {
             "colorbar": {
              "outlinewidth": 0,
              "ticks": ""
             }
            },
            "type": "scattercarpet"
           }
          ],
          "scattergeo": [
           {
            "marker": {
             "colorbar": {
              "outlinewidth": 0,
              "ticks": ""
             }
            },
            "type": "scattergeo"
           }
          ],
          "scattergl": [
           {
            "marker": {
             "colorbar": {
              "outlinewidth": 0,
              "ticks": ""
             }
            },
            "type": "scattergl"
           }
          ],
          "scattermapbox": [
           {
            "marker": {
             "colorbar": {
              "outlinewidth": 0,
              "ticks": ""
             }
            },
            "type": "scattermapbox"
           }
          ],
          "scatterpolar": [
           {
            "marker": {
             "colorbar": {
              "outlinewidth": 0,
              "ticks": ""
             }
            },
            "type": "scatterpolar"
           }
          ],
          "scatterpolargl": [
           {
            "marker": {
             "colorbar": {
              "outlinewidth": 0,
              "ticks": ""
             }
            },
            "type": "scatterpolargl"
           }
          ],
          "scatterternary": [
           {
            "marker": {
             "colorbar": {
              "outlinewidth": 0,
              "ticks": ""
             }
            },
            "type": "scatterternary"
           }
          ],
          "surface": [
           {
            "colorbar": {
             "outlinewidth": 0,
             "ticks": ""
            },
            "colorscale": [
             [
              0,
              "#0d0887"
             ],
             [
              0.1111111111111111,
              "#46039f"
             ],
             [
              0.2222222222222222,
              "#7201a8"
             ],
             [
              0.3333333333333333,
              "#9c179e"
             ],
             [
              0.4444444444444444,
              "#bd3786"
             ],
             [
              0.5555555555555556,
              "#d8576b"
             ],
             [
              0.6666666666666666,
              "#ed7953"
             ],
             [
              0.7777777777777778,
              "#fb9f3a"
             ],
             [
              0.8888888888888888,
              "#fdca26"
             ],
             [
              1,
              "#f0f921"
             ]
            ],
            "type": "surface"
           }
          ],
          "table": [
           {
            "cells": {
             "fill": {
              "color": "#EBF0F8"
             },
             "line": {
              "color": "white"
             }
            },
            "header": {
             "fill": {
              "color": "#C8D4E3"
             },
             "line": {
              "color": "white"
             }
            },
            "type": "table"
           }
          ]
         },
         "layout": {
          "annotationdefaults": {
           "arrowcolor": "#2a3f5f",
           "arrowhead": 0,
           "arrowwidth": 1
          },
          "autotypenumbers": "strict",
          "coloraxis": {
           "colorbar": {
            "outlinewidth": 0,
            "ticks": ""
           }
          },
          "colorscale": {
           "diverging": [
            [
             0,
             "#8e0152"
            ],
            [
             0.1,
             "#c51b7d"
            ],
            [
             0.2,
             "#de77ae"
            ],
            [
             0.3,
             "#f1b6da"
            ],
            [
             0.4,
             "#fde0ef"
            ],
            [
             0.5,
             "#f7f7f7"
            ],
            [
             0.6,
             "#e6f5d0"
            ],
            [
             0.7,
             "#b8e186"
            ],
            [
             0.8,
             "#7fbc41"
            ],
            [
             0.9,
             "#4d9221"
            ],
            [
             1,
             "#276419"
            ]
           ],
           "sequential": [
            [
             0,
             "#0d0887"
            ],
            [
             0.1111111111111111,
             "#46039f"
            ],
            [
             0.2222222222222222,
             "#7201a8"
            ],
            [
             0.3333333333333333,
             "#9c179e"
            ],
            [
             0.4444444444444444,
             "#bd3786"
            ],
            [
             0.5555555555555556,
             "#d8576b"
            ],
            [
             0.6666666666666666,
             "#ed7953"
            ],
            [
             0.7777777777777778,
             "#fb9f3a"
            ],
            [
             0.8888888888888888,
             "#fdca26"
            ],
            [
             1,
             "#f0f921"
            ]
           ],
           "sequentialminus": [
            [
             0,
             "#0d0887"
            ],
            [
             0.1111111111111111,
             "#46039f"
            ],
            [
             0.2222222222222222,
             "#7201a8"
            ],
            [
             0.3333333333333333,
             "#9c179e"
            ],
            [
             0.4444444444444444,
             "#bd3786"
            ],
            [
             0.5555555555555556,
             "#d8576b"
            ],
            [
             0.6666666666666666,
             "#ed7953"
            ],
            [
             0.7777777777777778,
             "#fb9f3a"
            ],
            [
             0.8888888888888888,
             "#fdca26"
            ],
            [
             1,
             "#f0f921"
            ]
           ]
          },
          "colorway": [
           "#636efa",
           "#EF553B",
           "#00cc96",
           "#ab63fa",
           "#FFA15A",
           "#19d3f3",
           "#FF6692",
           "#B6E880",
           "#FF97FF",
           "#FECB52"
          ],
          "font": {
           "color": "#2a3f5f"
          },
          "geo": {
           "bgcolor": "white",
           "lakecolor": "white",
           "landcolor": "#E5ECF6",
           "showlakes": true,
           "showland": true,
           "subunitcolor": "white"
          },
          "hoverlabel": {
           "align": "left"
          },
          "hovermode": "closest",
          "mapbox": {
           "style": "light"
          },
          "paper_bgcolor": "white",
          "plot_bgcolor": "#E5ECF6",
          "polar": {
           "angularaxis": {
            "gridcolor": "white",
            "linecolor": "white",
            "ticks": ""
           },
           "bgcolor": "#E5ECF6",
           "radialaxis": {
            "gridcolor": "white",
            "linecolor": "white",
            "ticks": ""
           }
          },
          "scene": {
           "xaxis": {
            "backgroundcolor": "#E5ECF6",
            "gridcolor": "white",
            "gridwidth": 2,
            "linecolor": "white",
            "showbackground": true,
            "ticks": "",
            "zerolinecolor": "white"
           },
           "yaxis": {
            "backgroundcolor": "#E5ECF6",
            "gridcolor": "white",
            "gridwidth": 2,
            "linecolor": "white",
            "showbackground": true,
            "ticks": "",
            "zerolinecolor": "white"
           },
           "zaxis": {
            "backgroundcolor": "#E5ECF6",
            "gridcolor": "white",
            "gridwidth": 2,
            "linecolor": "white",
            "showbackground": true,
            "ticks": "",
            "zerolinecolor": "white"
           }
          },
          "shapedefaults": {
           "line": {
            "color": "#2a3f5f"
           }
          },
          "ternary": {
           "aaxis": {
            "gridcolor": "white",
            "linecolor": "white",
            "ticks": ""
           },
           "baxis": {
            "gridcolor": "white",
            "linecolor": "white",
            "ticks": ""
           },
           "bgcolor": "#E5ECF6",
           "caxis": {
            "gridcolor": "white",
            "linecolor": "white",
            "ticks": ""
           }
          },
          "title": {
           "x": 0.05
          },
          "xaxis": {
           "automargin": true,
           "gridcolor": "white",
           "linecolor": "white",
           "ticks": "",
           "title": {
            "standoff": 15
           },
           "zerolinecolor": "white",
           "zerolinewidth": 2
          },
          "yaxis": {
           "automargin": true,
           "gridcolor": "white",
           "linecolor": "white",
           "ticks": "",
           "title": {
            "standoff": 15
           },
           "zerolinecolor": "white",
           "zerolinewidth": 2
          }
         }
        }
       }
      }
     },
     "metadata": {},
     "output_type": "display_data"
    }
   ],
   "source": [
    "## Subset based on those entries\n",
    "## populate the counts for the traces\n",
    "\n",
    "postcodes = df['postcode'].unique()\n",
    "postcodes = postcodes[~np.isnan(postcodes)]\n",
    "\n",
    "#genders = [d for d in df['gender'].unique() ]\n",
    "\n",
    "# Get all the unique topics\n",
    "unique_topics = []\n",
    "for i in df.index:\n",
    "    for j in range(0, len(df['topics'][i])):\n",
    "        tmp = df['topics'][i][j]\n",
    "        if tmp not in unique_topics:\n",
    "            unique_topics.append(tmp)\n",
    "\n",
    "unique_topics = sorted(unique_topics)\n",
    "\n",
    "\n",
    "fig = go.Figure()\n",
    "# Iterate through each device \n",
    "for d in postcodes:\n",
    "    # Find the subset of the data with that device\n",
    "    tmp_df = df[df['postcode'] == d]\n",
    "\n",
    "    # Create a dict object with 0 counts for all topics\n",
    "    postcodes_topic_freq = {k:0 for k in unique_topics}\n",
    "    for i in tmp_df.index:\n",
    "        for j in range(0, len(df['topics'][i])):\n",
    "            # Find that index\n",
    "            tmp_topic = df['topics'][i][j]\n",
    "\n",
    "            # Enumerate\n",
    "            postcodes_topic_freq[tmp_topic] += 1\n",
    "    \n",
    "    postcodes_topic_freq = dict(sorted(postcodes_topic_freq.items(), key = lambda kv: kv[1], reverse= True))\n",
    "    #print(device_topic_freq)\n",
    "        \n",
    "    fig.add_trace(go.Bar(x= [x for x in postcodes_topic_freq.keys()], y = [y for y in postcodes_topic_freq.values()], textfont_size=20))\n",
    "\n",
    "\n",
    "\n",
    "# Overlay both histograms\n",
    "#fig.update_layout(barmode='overlay')\n",
    "# Reduce opacity to see both histograms\n",
    "fig.update_traces(opacity=0.75)\n",
    "fig.show()"
   ]
  },
  {
   "cell_type": "markdown",
   "id": "6e53434a",
   "metadata": {},
   "source": [
    "### Activity"
   ]
  },
  {
   "cell_type": "markdown",
   "id": "a1d99370",
   "metadata": {},
   "source": [
    "#### Daily Activity"
   ]
  },
  {
   "cell_type": "code",
   "execution_count": 18,
   "id": "0d4c167a",
   "metadata": {},
   "outputs": [
    {
     "data": {
      "application/vnd.plotly.v1+json": {
       "config": {
        "plotlyServerURL": "https://plot.ly"
       },
       "data": [
        {
         "opacity": 0.75,
         "textfont": {
          "size": 20
         },
         "type": "bar",
         "x": [
          "05/18/2023",
          "05/19/2023",
          "05/20/2023",
          "05/21/2023",
          "05/22/2023",
          "05/23/2023",
          "05/24/2023",
          "05/25/2023"
         ],
         "y": [
          30,
          66,
          50,
          65,
          38,
          46,
          44,
          5
         ]
        },
        {
         "opacity": 0.75,
         "textfont": {
          "size": 20
         },
         "type": "bar",
         "x": [
          "05/18/2023",
          "05/19/2023",
          "05/20/2023",
          "05/21/2023",
          "05/22/2023",
          "05/23/2023",
          "05/24/2023",
          "05/25/2023"
         ],
         "y": [
          53,
          92,
          66,
          103,
          76,
          59,
          98,
          17
         ]
        },
        {
         "opacity": 0.75,
         "textfont": {
          "size": 20
         },
         "type": "bar",
         "x": [
          "05/18/2023",
          "05/19/2023",
          "05/20/2023",
          "05/21/2023",
          "05/22/2023",
          "05/23/2023",
          "05/24/2023",
          "05/25/2023"
         ],
         "y": [
          15,
          11,
          58,
          18,
          20,
          22,
          34,
          4
         ]
        },
        {
         "opacity": 0.75,
         "textfont": {
          "size": 20
         },
         "type": "bar",
         "x": [
          "05/18/2023",
          "05/19/2023",
          "05/20/2023",
          "05/21/2023",
          "05/22/2023",
          "05/23/2023",
          "05/24/2023",
          "05/25/2023"
         ],
         "y": [
          17,
          41,
          24,
          33,
          51,
          26,
          40,
          14
         ]
        },
        {
         "opacity": 0.75,
         "textfont": {
          "size": 20
         },
         "type": "bar",
         "x": [
          "05/18/2023",
          "05/19/2023",
          "05/20/2023",
          "05/21/2023",
          "05/22/2023",
          "05/23/2023",
          "05/24/2023",
          "05/25/2023"
         ],
         "y": [
          27,
          52,
          29,
          21,
          23,
          53,
          39,
          16
         ]
        }
       ],
       "layout": {
        "template": {
         "data": {
          "bar": [
           {
            "error_x": {
             "color": "#2a3f5f"
            },
            "error_y": {
             "color": "#2a3f5f"
            },
            "marker": {
             "line": {
              "color": "#E5ECF6",
              "width": 0.5
             },
             "pattern": {
              "fillmode": "overlay",
              "size": 10,
              "solidity": 0.2
             }
            },
            "type": "bar"
           }
          ],
          "barpolar": [
           {
            "marker": {
             "line": {
              "color": "#E5ECF6",
              "width": 0.5
             },
             "pattern": {
              "fillmode": "overlay",
              "size": 10,
              "solidity": 0.2
             }
            },
            "type": "barpolar"
           }
          ],
          "carpet": [
           {
            "aaxis": {
             "endlinecolor": "#2a3f5f",
             "gridcolor": "white",
             "linecolor": "white",
             "minorgridcolor": "white",
             "startlinecolor": "#2a3f5f"
            },
            "baxis": {
             "endlinecolor": "#2a3f5f",
             "gridcolor": "white",
             "linecolor": "white",
             "minorgridcolor": "white",
             "startlinecolor": "#2a3f5f"
            },
            "type": "carpet"
           }
          ],
          "choropleth": [
           {
            "colorbar": {
             "outlinewidth": 0,
             "ticks": ""
            },
            "type": "choropleth"
           }
          ],
          "contour": [
           {
            "colorbar": {
             "outlinewidth": 0,
             "ticks": ""
            },
            "colorscale": [
             [
              0,
              "#0d0887"
             ],
             [
              0.1111111111111111,
              "#46039f"
             ],
             [
              0.2222222222222222,
              "#7201a8"
             ],
             [
              0.3333333333333333,
              "#9c179e"
             ],
             [
              0.4444444444444444,
              "#bd3786"
             ],
             [
              0.5555555555555556,
              "#d8576b"
             ],
             [
              0.6666666666666666,
              "#ed7953"
             ],
             [
              0.7777777777777778,
              "#fb9f3a"
             ],
             [
              0.8888888888888888,
              "#fdca26"
             ],
             [
              1,
              "#f0f921"
             ]
            ],
            "type": "contour"
           }
          ],
          "contourcarpet": [
           {
            "colorbar": {
             "outlinewidth": 0,
             "ticks": ""
            },
            "type": "contourcarpet"
           }
          ],
          "heatmap": [
           {
            "colorbar": {
             "outlinewidth": 0,
             "ticks": ""
            },
            "colorscale": [
             [
              0,
              "#0d0887"
             ],
             [
              0.1111111111111111,
              "#46039f"
             ],
             [
              0.2222222222222222,
              "#7201a8"
             ],
             [
              0.3333333333333333,
              "#9c179e"
             ],
             [
              0.4444444444444444,
              "#bd3786"
             ],
             [
              0.5555555555555556,
              "#d8576b"
             ],
             [
              0.6666666666666666,
              "#ed7953"
             ],
             [
              0.7777777777777778,
              "#fb9f3a"
             ],
             [
              0.8888888888888888,
              "#fdca26"
             ],
             [
              1,
              "#f0f921"
             ]
            ],
            "type": "heatmap"
           }
          ],
          "heatmapgl": [
           {
            "colorbar": {
             "outlinewidth": 0,
             "ticks": ""
            },
            "colorscale": [
             [
              0,
              "#0d0887"
             ],
             [
              0.1111111111111111,
              "#46039f"
             ],
             [
              0.2222222222222222,
              "#7201a8"
             ],
             [
              0.3333333333333333,
              "#9c179e"
             ],
             [
              0.4444444444444444,
              "#bd3786"
             ],
             [
              0.5555555555555556,
              "#d8576b"
             ],
             [
              0.6666666666666666,
              "#ed7953"
             ],
             [
              0.7777777777777778,
              "#fb9f3a"
             ],
             [
              0.8888888888888888,
              "#fdca26"
             ],
             [
              1,
              "#f0f921"
             ]
            ],
            "type": "heatmapgl"
           }
          ],
          "histogram": [
           {
            "marker": {
             "pattern": {
              "fillmode": "overlay",
              "size": 10,
              "solidity": 0.2
             }
            },
            "type": "histogram"
           }
          ],
          "histogram2d": [
           {
            "colorbar": {
             "outlinewidth": 0,
             "ticks": ""
            },
            "colorscale": [
             [
              0,
              "#0d0887"
             ],
             [
              0.1111111111111111,
              "#46039f"
             ],
             [
              0.2222222222222222,
              "#7201a8"
             ],
             [
              0.3333333333333333,
              "#9c179e"
             ],
             [
              0.4444444444444444,
              "#bd3786"
             ],
             [
              0.5555555555555556,
              "#d8576b"
             ],
             [
              0.6666666666666666,
              "#ed7953"
             ],
             [
              0.7777777777777778,
              "#fb9f3a"
             ],
             [
              0.8888888888888888,
              "#fdca26"
             ],
             [
              1,
              "#f0f921"
             ]
            ],
            "type": "histogram2d"
           }
          ],
          "histogram2dcontour": [
           {
            "colorbar": {
             "outlinewidth": 0,
             "ticks": ""
            },
            "colorscale": [
             [
              0,
              "#0d0887"
             ],
             [
              0.1111111111111111,
              "#46039f"
             ],
             [
              0.2222222222222222,
              "#7201a8"
             ],
             [
              0.3333333333333333,
              "#9c179e"
             ],
             [
              0.4444444444444444,
              "#bd3786"
             ],
             [
              0.5555555555555556,
              "#d8576b"
             ],
             [
              0.6666666666666666,
              "#ed7953"
             ],
             [
              0.7777777777777778,
              "#fb9f3a"
             ],
             [
              0.8888888888888888,
              "#fdca26"
             ],
             [
              1,
              "#f0f921"
             ]
            ],
            "type": "histogram2dcontour"
           }
          ],
          "mesh3d": [
           {
            "colorbar": {
             "outlinewidth": 0,
             "ticks": ""
            },
            "type": "mesh3d"
           }
          ],
          "parcoords": [
           {
            "line": {
             "colorbar": {
              "outlinewidth": 0,
              "ticks": ""
             }
            },
            "type": "parcoords"
           }
          ],
          "pie": [
           {
            "automargin": true,
            "type": "pie"
           }
          ],
          "scatter": [
           {
            "fillpattern": {
             "fillmode": "overlay",
             "size": 10,
             "solidity": 0.2
            },
            "type": "scatter"
           }
          ],
          "scatter3d": [
           {
            "line": {
             "colorbar": {
              "outlinewidth": 0,
              "ticks": ""
             }
            },
            "marker": {
             "colorbar": {
              "outlinewidth": 0,
              "ticks": ""
             }
            },
            "type": "scatter3d"
           }
          ],
          "scattercarpet": [
           {
            "marker": {
             "colorbar": {
              "outlinewidth": 0,
              "ticks": ""
             }
            },
            "type": "scattercarpet"
           }
          ],
          "scattergeo": [
           {
            "marker": {
             "colorbar": {
              "outlinewidth": 0,
              "ticks": ""
             }
            },
            "type": "scattergeo"
           }
          ],
          "scattergl": [
           {
            "marker": {
             "colorbar": {
              "outlinewidth": 0,
              "ticks": ""
             }
            },
            "type": "scattergl"
           }
          ],
          "scattermapbox": [
           {
            "marker": {
             "colorbar": {
              "outlinewidth": 0,
              "ticks": ""
             }
            },
            "type": "scattermapbox"
           }
          ],
          "scatterpolar": [
           {
            "marker": {
             "colorbar": {
              "outlinewidth": 0,
              "ticks": ""
             }
            },
            "type": "scatterpolar"
           }
          ],
          "scatterpolargl": [
           {
            "marker": {
             "colorbar": {
              "outlinewidth": 0,
              "ticks": ""
             }
            },
            "type": "scatterpolargl"
           }
          ],
          "scatterternary": [
           {
            "marker": {
             "colorbar": {
              "outlinewidth": 0,
              "ticks": ""
             }
            },
            "type": "scatterternary"
           }
          ],
          "surface": [
           {
            "colorbar": {
             "outlinewidth": 0,
             "ticks": ""
            },
            "colorscale": [
             [
              0,
              "#0d0887"
             ],
             [
              0.1111111111111111,
              "#46039f"
             ],
             [
              0.2222222222222222,
              "#7201a8"
             ],
             [
              0.3333333333333333,
              "#9c179e"
             ],
             [
              0.4444444444444444,
              "#bd3786"
             ],
             [
              0.5555555555555556,
              "#d8576b"
             ],
             [
              0.6666666666666666,
              "#ed7953"
             ],
             [
              0.7777777777777778,
              "#fb9f3a"
             ],
             [
              0.8888888888888888,
              "#fdca26"
             ],
             [
              1,
              "#f0f921"
             ]
            ],
            "type": "surface"
           }
          ],
          "table": [
           {
            "cells": {
             "fill": {
              "color": "#EBF0F8"
             },
             "line": {
              "color": "white"
             }
            },
            "header": {
             "fill": {
              "color": "#C8D4E3"
             },
             "line": {
              "color": "white"
             }
            },
            "type": "table"
           }
          ]
         },
         "layout": {
          "annotationdefaults": {
           "arrowcolor": "#2a3f5f",
           "arrowhead": 0,
           "arrowwidth": 1
          },
          "autotypenumbers": "strict",
          "coloraxis": {
           "colorbar": {
            "outlinewidth": 0,
            "ticks": ""
           }
          },
          "colorscale": {
           "diverging": [
            [
             0,
             "#8e0152"
            ],
            [
             0.1,
             "#c51b7d"
            ],
            [
             0.2,
             "#de77ae"
            ],
            [
             0.3,
             "#f1b6da"
            ],
            [
             0.4,
             "#fde0ef"
            ],
            [
             0.5,
             "#f7f7f7"
            ],
            [
             0.6,
             "#e6f5d0"
            ],
            [
             0.7,
             "#b8e186"
            ],
            [
             0.8,
             "#7fbc41"
            ],
            [
             0.9,
             "#4d9221"
            ],
            [
             1,
             "#276419"
            ]
           ],
           "sequential": [
            [
             0,
             "#0d0887"
            ],
            [
             0.1111111111111111,
             "#46039f"
            ],
            [
             0.2222222222222222,
             "#7201a8"
            ],
            [
             0.3333333333333333,
             "#9c179e"
            ],
            [
             0.4444444444444444,
             "#bd3786"
            ],
            [
             0.5555555555555556,
             "#d8576b"
            ],
            [
             0.6666666666666666,
             "#ed7953"
            ],
            [
             0.7777777777777778,
             "#fb9f3a"
            ],
            [
             0.8888888888888888,
             "#fdca26"
            ],
            [
             1,
             "#f0f921"
            ]
           ],
           "sequentialminus": [
            [
             0,
             "#0d0887"
            ],
            [
             0.1111111111111111,
             "#46039f"
            ],
            [
             0.2222222222222222,
             "#7201a8"
            ],
            [
             0.3333333333333333,
             "#9c179e"
            ],
            [
             0.4444444444444444,
             "#bd3786"
            ],
            [
             0.5555555555555556,
             "#d8576b"
            ],
            [
             0.6666666666666666,
             "#ed7953"
            ],
            [
             0.7777777777777778,
             "#fb9f3a"
            ],
            [
             0.8888888888888888,
             "#fdca26"
            ],
            [
             1,
             "#f0f921"
            ]
           ]
          },
          "colorway": [
           "#636efa",
           "#EF553B",
           "#00cc96",
           "#ab63fa",
           "#FFA15A",
           "#19d3f3",
           "#FF6692",
           "#B6E880",
           "#FF97FF",
           "#FECB52"
          ],
          "font": {
           "color": "#2a3f5f"
          },
          "geo": {
           "bgcolor": "white",
           "lakecolor": "white",
           "landcolor": "#E5ECF6",
           "showlakes": true,
           "showland": true,
           "subunitcolor": "white"
          },
          "hoverlabel": {
           "align": "left"
          },
          "hovermode": "closest",
          "mapbox": {
           "style": "light"
          },
          "paper_bgcolor": "white",
          "plot_bgcolor": "#E5ECF6",
          "polar": {
           "angularaxis": {
            "gridcolor": "white",
            "linecolor": "white",
            "ticks": ""
           },
           "bgcolor": "#E5ECF6",
           "radialaxis": {
            "gridcolor": "white",
            "linecolor": "white",
            "ticks": ""
           }
          },
          "scene": {
           "xaxis": {
            "backgroundcolor": "#E5ECF6",
            "gridcolor": "white",
            "gridwidth": 2,
            "linecolor": "white",
            "showbackground": true,
            "ticks": "",
            "zerolinecolor": "white"
           },
           "yaxis": {
            "backgroundcolor": "#E5ECF6",
            "gridcolor": "white",
            "gridwidth": 2,
            "linecolor": "white",
            "showbackground": true,
            "ticks": "",
            "zerolinecolor": "white"
           },
           "zaxis": {
            "backgroundcolor": "#E5ECF6",
            "gridcolor": "white",
            "gridwidth": 2,
            "linecolor": "white",
            "showbackground": true,
            "ticks": "",
            "zerolinecolor": "white"
           }
          },
          "shapedefaults": {
           "line": {
            "color": "#2a3f5f"
           }
          },
          "ternary": {
           "aaxis": {
            "gridcolor": "white",
            "linecolor": "white",
            "ticks": ""
           },
           "baxis": {
            "gridcolor": "white",
            "linecolor": "white",
            "ticks": ""
           },
           "bgcolor": "#E5ECF6",
           "caxis": {
            "gridcolor": "white",
            "linecolor": "white",
            "ticks": ""
           }
          },
          "title": {
           "x": 0.05
          },
          "xaxis": {
           "automargin": true,
           "gridcolor": "white",
           "linecolor": "white",
           "ticks": "",
           "title": {
            "standoff": 15
           },
           "zerolinecolor": "white",
           "zerolinewidth": 2
          },
          "yaxis": {
           "automargin": true,
           "gridcolor": "white",
           "linecolor": "white",
           "ticks": "",
           "title": {
            "standoff": 15
           },
           "zerolinecolor": "white",
           "zerolinewidth": 2
          }
         }
        }
       }
      }
     },
     "metadata": {},
     "output_type": "display_data"
    }
   ],
   "source": [
    "postcodes = df['postcode'].unique()\n",
    "postcodes = postcodes[~np.isnan(postcodes)]\n",
    "\n",
    "fig = go.Figure()\n",
    "# Iterate through each device \n",
    "for d in postcodes:\n",
    "    # Find the subset of the data with that device\n",
    "    tmp_df = df[df['postcode'] == d]\n",
    "\n",
    "    # Create a dict object with 0 counts for all topics\n",
    "    postcodes_daily_activity = {}\n",
    "    for i in tmp_df.index:\n",
    "        # Find that index\n",
    "        tmp_timestamp = df['impression_time'][i]\n",
    "        tmp_datetime = tmp_timestamp\n",
    "        tmp_date = tmp_datetime.strftime('%m/%d/%Y')\n",
    "\n",
    "        # Daily Activity\n",
    "        if tmp_date not in postcodes_daily_activity:\n",
    "            postcodes_daily_activity[tmp_date] = 0\n",
    "        else:\n",
    "            postcodes_daily_activity[tmp_date] +=1\n",
    "        \n",
    "    \n",
    "    # Sort by dates\n",
    "    postcodes_daily_activity = dict(sorted(postcodes_daily_activity.items()))\n",
    "\n",
    "    # Add trace\n",
    "    fig.add_trace(go.Bar(x= [x for x in postcodes_daily_activity.keys()], y = [y for y in postcodes_daily_activity.values()], textfont_size=20))\n",
    "\n",
    "\n",
    "\n",
    "    # Overlay both histograms\n",
    "    #fig.update_layout(barmode='overlay')\n",
    "    # Reduce opacity to see both histograms\n",
    "fig.update_traces(opacity=0.75)\n",
    "fig.show()"
   ]
  },
  {
   "cell_type": "markdown",
   "id": "38ed70d3",
   "metadata": {},
   "source": [
    "#### Hourly Activity"
   ]
  },
  {
   "cell_type": "code",
   "execution_count": 22,
   "id": "0af96cef",
   "metadata": {},
   "outputs": [
    {
     "data": {
      "application/vnd.plotly.v1+json": {
       "config": {
        "plotlyServerURL": "https://plot.ly"
       },
       "data": [
        {
         "opacity": 0.75,
         "textfont": {
          "size": 20
         },
         "type": "bar",
         "x": [
          "01",
          "02",
          "03",
          "04",
          "05",
          "06",
          "07",
          "08",
          "09",
          "10",
          "11",
          "12",
          "13",
          "14",
          "15",
          "16",
          "17",
          "18",
          "19",
          "20",
          "21",
          "22",
          "23"
         ],
         "y": [
          0,
          4,
          9,
          15,
          38,
          33,
          18,
          3,
          15,
          14,
          8,
          17,
          19,
          12,
          9,
          17,
          14,
          15,
          17,
          20,
          19,
          5,
          8
         ]
        },
        {
         "opacity": 0.75,
         "textfont": {
          "size": 20
         },
         "type": "bar",
         "x": [
          "00",
          "01",
          "02",
          "03",
          "04",
          "05",
          "06",
          "07",
          "08",
          "09",
          "10",
          "11",
          "12",
          "13",
          "14",
          "15",
          "16",
          "17",
          "18",
          "19",
          "20",
          "21",
          "22",
          "23"
         ],
         "y": [
          3,
          4,
          0,
          10,
          21,
          32,
          37,
          38,
          41,
          47,
          28,
          20,
          40,
          29,
          23,
          19,
          33,
          35,
          23,
          29,
          19,
          13,
          3,
          1
         ]
        },
        {
         "opacity": 0.75,
         "textfont": {
          "size": 20
         },
         "type": "bar",
         "x": [
          "01",
          "03",
          "04",
          "06",
          "07",
          "08",
          "09",
          "10",
          "11",
          "12",
          "13",
          "14",
          "15",
          "16",
          "17",
          "18",
          "19",
          "20",
          "21",
          "23"
         ],
         "y": [
          3,
          1,
          1,
          12,
          21,
          5,
          6,
          3,
          7,
          21,
          16,
          9,
          8,
          4,
          8,
          12,
          17,
          14,
          1,
          1
         ]
        },
        {
         "opacity": 0.75,
         "textfont": {
          "size": 20
         },
         "type": "bar",
         "x": [
          "00",
          "02",
          "03",
          "04",
          "05",
          "06",
          "07",
          "08",
          "09",
          "10",
          "11",
          "12",
          "13",
          "14",
          "15",
          "16",
          "17",
          "18",
          "19",
          "20",
          "21",
          "22",
          "23"
         ],
         "y": [
          1,
          2,
          9,
          36,
          13,
          7,
          1,
          12,
          19,
          13,
          9,
          15,
          20,
          12,
          1,
          18,
          16,
          4,
          6,
          4,
          1,
          12,
          0
         ]
        },
        {
         "opacity": 0.75,
         "textfont": {
          "size": 20
         },
         "type": "bar",
         "x": [
          "02",
          "03",
          "04",
          "05",
          "06",
          "07",
          "08",
          "09",
          "10",
          "11",
          "12",
          "13",
          "14",
          "15",
          "16",
          "17",
          "18",
          "19",
          "20",
          "21",
          "23"
         ],
         "y": [
          4,
          3,
          40,
          9,
          29,
          10,
          6,
          5,
          6,
          4,
          8,
          16,
          8,
          7,
          10,
          7,
          11,
          10,
          16,
          38,
          0
         ]
        }
       ],
       "layout": {
        "template": {
         "data": {
          "bar": [
           {
            "error_x": {
             "color": "#2a3f5f"
            },
            "error_y": {
             "color": "#2a3f5f"
            },
            "marker": {
             "line": {
              "color": "#E5ECF6",
              "width": 0.5
             },
             "pattern": {
              "fillmode": "overlay",
              "size": 10,
              "solidity": 0.2
             }
            },
            "type": "bar"
           }
          ],
          "barpolar": [
           {
            "marker": {
             "line": {
              "color": "#E5ECF6",
              "width": 0.5
             },
             "pattern": {
              "fillmode": "overlay",
              "size": 10,
              "solidity": 0.2
             }
            },
            "type": "barpolar"
           }
          ],
          "carpet": [
           {
            "aaxis": {
             "endlinecolor": "#2a3f5f",
             "gridcolor": "white",
             "linecolor": "white",
             "minorgridcolor": "white",
             "startlinecolor": "#2a3f5f"
            },
            "baxis": {
             "endlinecolor": "#2a3f5f",
             "gridcolor": "white",
             "linecolor": "white",
             "minorgridcolor": "white",
             "startlinecolor": "#2a3f5f"
            },
            "type": "carpet"
           }
          ],
          "choropleth": [
           {
            "colorbar": {
             "outlinewidth": 0,
             "ticks": ""
            },
            "type": "choropleth"
           }
          ],
          "contour": [
           {
            "colorbar": {
             "outlinewidth": 0,
             "ticks": ""
            },
            "colorscale": [
             [
              0,
              "#0d0887"
             ],
             [
              0.1111111111111111,
              "#46039f"
             ],
             [
              0.2222222222222222,
              "#7201a8"
             ],
             [
              0.3333333333333333,
              "#9c179e"
             ],
             [
              0.4444444444444444,
              "#bd3786"
             ],
             [
              0.5555555555555556,
              "#d8576b"
             ],
             [
              0.6666666666666666,
              "#ed7953"
             ],
             [
              0.7777777777777778,
              "#fb9f3a"
             ],
             [
              0.8888888888888888,
              "#fdca26"
             ],
             [
              1,
              "#f0f921"
             ]
            ],
            "type": "contour"
           }
          ],
          "contourcarpet": [
           {
            "colorbar": {
             "outlinewidth": 0,
             "ticks": ""
            },
            "type": "contourcarpet"
           }
          ],
          "heatmap": [
           {
            "colorbar": {
             "outlinewidth": 0,
             "ticks": ""
            },
            "colorscale": [
             [
              0,
              "#0d0887"
             ],
             [
              0.1111111111111111,
              "#46039f"
             ],
             [
              0.2222222222222222,
              "#7201a8"
             ],
             [
              0.3333333333333333,
              "#9c179e"
             ],
             [
              0.4444444444444444,
              "#bd3786"
             ],
             [
              0.5555555555555556,
              "#d8576b"
             ],
             [
              0.6666666666666666,
              "#ed7953"
             ],
             [
              0.7777777777777778,
              "#fb9f3a"
             ],
             [
              0.8888888888888888,
              "#fdca26"
             ],
             [
              1,
              "#f0f921"
             ]
            ],
            "type": "heatmap"
           }
          ],
          "heatmapgl": [
           {
            "colorbar": {
             "outlinewidth": 0,
             "ticks": ""
            },
            "colorscale": [
             [
              0,
              "#0d0887"
             ],
             [
              0.1111111111111111,
              "#46039f"
             ],
             [
              0.2222222222222222,
              "#7201a8"
             ],
             [
              0.3333333333333333,
              "#9c179e"
             ],
             [
              0.4444444444444444,
              "#bd3786"
             ],
             [
              0.5555555555555556,
              "#d8576b"
             ],
             [
              0.6666666666666666,
              "#ed7953"
             ],
             [
              0.7777777777777778,
              "#fb9f3a"
             ],
             [
              0.8888888888888888,
              "#fdca26"
             ],
             [
              1,
              "#f0f921"
             ]
            ],
            "type": "heatmapgl"
           }
          ],
          "histogram": [
           {
            "marker": {
             "pattern": {
              "fillmode": "overlay",
              "size": 10,
              "solidity": 0.2
             }
            },
            "type": "histogram"
           }
          ],
          "histogram2d": [
           {
            "colorbar": {
             "outlinewidth": 0,
             "ticks": ""
            },
            "colorscale": [
             [
              0,
              "#0d0887"
             ],
             [
              0.1111111111111111,
              "#46039f"
             ],
             [
              0.2222222222222222,
              "#7201a8"
             ],
             [
              0.3333333333333333,
              "#9c179e"
             ],
             [
              0.4444444444444444,
              "#bd3786"
             ],
             [
              0.5555555555555556,
              "#d8576b"
             ],
             [
              0.6666666666666666,
              "#ed7953"
             ],
             [
              0.7777777777777778,
              "#fb9f3a"
             ],
             [
              0.8888888888888888,
              "#fdca26"
             ],
             [
              1,
              "#f0f921"
             ]
            ],
            "type": "histogram2d"
           }
          ],
          "histogram2dcontour": [
           {
            "colorbar": {
             "outlinewidth": 0,
             "ticks": ""
            },
            "colorscale": [
             [
              0,
              "#0d0887"
             ],
             [
              0.1111111111111111,
              "#46039f"
             ],
             [
              0.2222222222222222,
              "#7201a8"
             ],
             [
              0.3333333333333333,
              "#9c179e"
             ],
             [
              0.4444444444444444,
              "#bd3786"
             ],
             [
              0.5555555555555556,
              "#d8576b"
             ],
             [
              0.6666666666666666,
              "#ed7953"
             ],
             [
              0.7777777777777778,
              "#fb9f3a"
             ],
             [
              0.8888888888888888,
              "#fdca26"
             ],
             [
              1,
              "#f0f921"
             ]
            ],
            "type": "histogram2dcontour"
           }
          ],
          "mesh3d": [
           {
            "colorbar": {
             "outlinewidth": 0,
             "ticks": ""
            },
            "type": "mesh3d"
           }
          ],
          "parcoords": [
           {
            "line": {
             "colorbar": {
              "outlinewidth": 0,
              "ticks": ""
             }
            },
            "type": "parcoords"
           }
          ],
          "pie": [
           {
            "automargin": true,
            "type": "pie"
           }
          ],
          "scatter": [
           {
            "fillpattern": {
             "fillmode": "overlay",
             "size": 10,
             "solidity": 0.2
            },
            "type": "scatter"
           }
          ],
          "scatter3d": [
           {
            "line": {
             "colorbar": {
              "outlinewidth": 0,
              "ticks": ""
             }
            },
            "marker": {
             "colorbar": {
              "outlinewidth": 0,
              "ticks": ""
             }
            },
            "type": "scatter3d"
           }
          ],
          "scattercarpet": [
           {
            "marker": {
             "colorbar": {
              "outlinewidth": 0,
              "ticks": ""
             }
            },
            "type": "scattercarpet"
           }
          ],
          "scattergeo": [
           {
            "marker": {
             "colorbar": {
              "outlinewidth": 0,
              "ticks": ""
             }
            },
            "type": "scattergeo"
           }
          ],
          "scattergl": [
           {
            "marker": {
             "colorbar": {
              "outlinewidth": 0,
              "ticks": ""
             }
            },
            "type": "scattergl"
           }
          ],
          "scattermapbox": [
           {
            "marker": {
             "colorbar": {
              "outlinewidth": 0,
              "ticks": ""
             }
            },
            "type": "scattermapbox"
           }
          ],
          "scatterpolar": [
           {
            "marker": {
             "colorbar": {
              "outlinewidth": 0,
              "ticks": ""
             }
            },
            "type": "scatterpolar"
           }
          ],
          "scatterpolargl": [
           {
            "marker": {
             "colorbar": {
              "outlinewidth": 0,
              "ticks": ""
             }
            },
            "type": "scatterpolargl"
           }
          ],
          "scatterternary": [
           {
            "marker": {
             "colorbar": {
              "outlinewidth": 0,
              "ticks": ""
             }
            },
            "type": "scatterternary"
           }
          ],
          "surface": [
           {
            "colorbar": {
             "outlinewidth": 0,
             "ticks": ""
            },
            "colorscale": [
             [
              0,
              "#0d0887"
             ],
             [
              0.1111111111111111,
              "#46039f"
             ],
             [
              0.2222222222222222,
              "#7201a8"
             ],
             [
              0.3333333333333333,
              "#9c179e"
             ],
             [
              0.4444444444444444,
              "#bd3786"
             ],
             [
              0.5555555555555556,
              "#d8576b"
             ],
             [
              0.6666666666666666,
              "#ed7953"
             ],
             [
              0.7777777777777778,
              "#fb9f3a"
             ],
             [
              0.8888888888888888,
              "#fdca26"
             ],
             [
              1,
              "#f0f921"
             ]
            ],
            "type": "surface"
           }
          ],
          "table": [
           {
            "cells": {
             "fill": {
              "color": "#EBF0F8"
             },
             "line": {
              "color": "white"
             }
            },
            "header": {
             "fill": {
              "color": "#C8D4E3"
             },
             "line": {
              "color": "white"
             }
            },
            "type": "table"
           }
          ]
         },
         "layout": {
          "annotationdefaults": {
           "arrowcolor": "#2a3f5f",
           "arrowhead": 0,
           "arrowwidth": 1
          },
          "autotypenumbers": "strict",
          "coloraxis": {
           "colorbar": {
            "outlinewidth": 0,
            "ticks": ""
           }
          },
          "colorscale": {
           "diverging": [
            [
             0,
             "#8e0152"
            ],
            [
             0.1,
             "#c51b7d"
            ],
            [
             0.2,
             "#de77ae"
            ],
            [
             0.3,
             "#f1b6da"
            ],
            [
             0.4,
             "#fde0ef"
            ],
            [
             0.5,
             "#f7f7f7"
            ],
            [
             0.6,
             "#e6f5d0"
            ],
            [
             0.7,
             "#b8e186"
            ],
            [
             0.8,
             "#7fbc41"
            ],
            [
             0.9,
             "#4d9221"
            ],
            [
             1,
             "#276419"
            ]
           ],
           "sequential": [
            [
             0,
             "#0d0887"
            ],
            [
             0.1111111111111111,
             "#46039f"
            ],
            [
             0.2222222222222222,
             "#7201a8"
            ],
            [
             0.3333333333333333,
             "#9c179e"
            ],
            [
             0.4444444444444444,
             "#bd3786"
            ],
            [
             0.5555555555555556,
             "#d8576b"
            ],
            [
             0.6666666666666666,
             "#ed7953"
            ],
            [
             0.7777777777777778,
             "#fb9f3a"
            ],
            [
             0.8888888888888888,
             "#fdca26"
            ],
            [
             1,
             "#f0f921"
            ]
           ],
           "sequentialminus": [
            [
             0,
             "#0d0887"
            ],
            [
             0.1111111111111111,
             "#46039f"
            ],
            [
             0.2222222222222222,
             "#7201a8"
            ],
            [
             0.3333333333333333,
             "#9c179e"
            ],
            [
             0.4444444444444444,
             "#bd3786"
            ],
            [
             0.5555555555555556,
             "#d8576b"
            ],
            [
             0.6666666666666666,
             "#ed7953"
            ],
            [
             0.7777777777777778,
             "#fb9f3a"
            ],
            [
             0.8888888888888888,
             "#fdca26"
            ],
            [
             1,
             "#f0f921"
            ]
           ]
          },
          "colorway": [
           "#636efa",
           "#EF553B",
           "#00cc96",
           "#ab63fa",
           "#FFA15A",
           "#19d3f3",
           "#FF6692",
           "#B6E880",
           "#FF97FF",
           "#FECB52"
          ],
          "font": {
           "color": "#2a3f5f"
          },
          "geo": {
           "bgcolor": "white",
           "lakecolor": "white",
           "landcolor": "#E5ECF6",
           "showlakes": true,
           "showland": true,
           "subunitcolor": "white"
          },
          "hoverlabel": {
           "align": "left"
          },
          "hovermode": "closest",
          "mapbox": {
           "style": "light"
          },
          "paper_bgcolor": "white",
          "plot_bgcolor": "#E5ECF6",
          "polar": {
           "angularaxis": {
            "gridcolor": "white",
            "linecolor": "white",
            "ticks": ""
           },
           "bgcolor": "#E5ECF6",
           "radialaxis": {
            "gridcolor": "white",
            "linecolor": "white",
            "ticks": ""
           }
          },
          "scene": {
           "xaxis": {
            "backgroundcolor": "#E5ECF6",
            "gridcolor": "white",
            "gridwidth": 2,
            "linecolor": "white",
            "showbackground": true,
            "ticks": "",
            "zerolinecolor": "white"
           },
           "yaxis": {
            "backgroundcolor": "#E5ECF6",
            "gridcolor": "white",
            "gridwidth": 2,
            "linecolor": "white",
            "showbackground": true,
            "ticks": "",
            "zerolinecolor": "white"
           },
           "zaxis": {
            "backgroundcolor": "#E5ECF6",
            "gridcolor": "white",
            "gridwidth": 2,
            "linecolor": "white",
            "showbackground": true,
            "ticks": "",
            "zerolinecolor": "white"
           }
          },
          "shapedefaults": {
           "line": {
            "color": "#2a3f5f"
           }
          },
          "ternary": {
           "aaxis": {
            "gridcolor": "white",
            "linecolor": "white",
            "ticks": ""
           },
           "baxis": {
            "gridcolor": "white",
            "linecolor": "white",
            "ticks": ""
           },
           "bgcolor": "#E5ECF6",
           "caxis": {
            "gridcolor": "white",
            "linecolor": "white",
            "ticks": ""
           }
          },
          "title": {
           "x": 0.05
          },
          "xaxis": {
           "automargin": true,
           "gridcolor": "white",
           "linecolor": "white",
           "ticks": "",
           "title": {
            "standoff": 15
           },
           "zerolinecolor": "white",
           "zerolinewidth": 2
          },
          "yaxis": {
           "automargin": true,
           "gridcolor": "white",
           "linecolor": "white",
           "ticks": "",
           "title": {
            "standoff": 15
           },
           "zerolinecolor": "white",
           "zerolinewidth": 2
          }
         }
        }
       }
      }
     },
     "metadata": {},
     "output_type": "display_data"
    }
   ],
   "source": [
    "postcodes = df['postcode'].unique()\n",
    "postcodes = postcodes[~np.isnan(postcodes)]\n",
    "\n",
    "\n",
    "fig = go.Figure()\n",
    "# Iterate through each device \n",
    "for d in postcodes:\n",
    "    # Find the subset of the data with that device\n",
    "    tmp_df = df[df['postcode'] == d]\n",
    "\n",
    "    # Create a dict object with 0 counts for all topics\n",
    "    postcodes_hourly_activity = {}\n",
    "    for i in tmp_df.index:\n",
    "        # Find that index\n",
    "        tmp_timestamp = df['impression_time'][i]\n",
    "        tmp_datetime = tmp_timestamp\n",
    "        tmp_time = tmp_datetime.strftime('%H')\n",
    "\n",
    "        # Daily Activity\n",
    "        if tmp_time not in postcodes_hourly_activity:\n",
    "            postcodes_hourly_activity[tmp_time] = 0\n",
    "        else:\n",
    "            postcodes_hourly_activity[tmp_time] +=1\n",
    "        \n",
    "    \n",
    "    # Sort by dates\n",
    "    postcodes_hourly_activity = dict(sorted(postcodes_hourly_activity.items()))\n",
    "\n",
    "    # Add trace\n",
    "    fig.add_trace(go.Bar(x= [x for x in postcodes_hourly_activity.keys()], y = [y for y in postcodes_hourly_activity.values()], textfont_size=20))\n",
    "\n",
    "\n",
    "\n",
    "    # Overlay both histograms\n",
    "    #fig.update_layout(barmode='overlay')\n",
    "    # Reduce opacity to see both histograms\n",
    "fig.update_traces(opacity=0.75)\n",
    "fig.show()"
   ]
  },
  {
   "cell_type": "code",
   "execution_count": null,
   "id": "d54c4b6b",
   "metadata": {},
   "outputs": [],
   "source": [
    "# How many unique articles are clicked in a session?"
   ]
  },
  {
   "cell_type": "code",
   "execution_count": null,
   "id": "80594da3",
   "metadata": {},
   "outputs": [],
   "source": []
  }
 ],
 "metadata": {
  "kernelspec": {
   "display_name": "Python 3 (ipykernel)",
   "language": "python",
   "name": "python3"
  },
  "language_info": {
   "codemirror_mode": {
    "name": "ipython",
    "version": 3
   },
   "file_extension": ".py",
   "mimetype": "text/x-python",
   "name": "python",
   "nbconvert_exporter": "python",
   "pygments_lexer": "ipython3",
   "version": "3.11.4"
  }
 },
 "nbformat": 4,
 "nbformat_minor": 5
}
