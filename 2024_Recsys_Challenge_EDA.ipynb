{
 "cells": [
  {
   "cell_type": "markdown",
   "id": "d2671047-b3da-4686-8a34-f7e63d82e738",
   "metadata": {},
   "source": [
    "Task\n",
    "- Add in other uestions\n",
    "-- Refactor code for the aggregation of timely activity\n",
    "- Fix the plots\n",
    "- Start on EDA\n",
    "- Model selection"
   ]
  },
  {
   "cell_type": "markdown",
   "id": "237298c2-2986-4bba-bcbd-5ff27e361919",
   "metadata": {},
   "source": [
    "Background Information on Dataset: BLAH BLAH BLAH"
   ]
  },
  {
   "cell_type": "markdown",
   "id": "9f8cf39e-f468-4ac2-9f59-2eefab32a277",
   "metadata": {},
   "source": [
    "Importing Packages"
   ]
  },
  {
   "cell_type": "code",
   "execution_count": 184,
   "id": "f4711c74-a01b-4ce7-8a3d-de5a605d13e4",
   "metadata": {},
   "outputs": [],
   "source": [
    "import numpy as np\n",
    "import pandas as pd\n",
    "import dask.dataframe as dd\n",
    "import matplotlib\n",
    "import plotly\n",
    "import plotly.express as px\n",
    "import plotly.graph_objects as go\n",
    "\n",
    "from datetime import datetime"
   ]
  },
  {
   "cell_type": "markdown",
   "id": "06f05b58-dde3-4d5f-87a2-f20ad71cd62b",
   "metadata": {},
   "source": [
    "EDA"
   ]
  },
  {
   "cell_type": "markdown",
   "id": "616fa6a4-e47a-4116-82f5-896d6893a00e",
   "metadata": {},
   "source": [
    "Load in dataset"
   ]
  },
  {
   "cell_type": "markdown",
   "id": "b171de10-39f1-4dad-aed9-d8a179e44fe2",
   "metadata": {},
   "source": [
    "Aside: Let's measure how long it takes to load in our dataset: using pandas and dask"
   ]
  },
  {
   "cell_type": "code",
   "execution_count": null,
   "id": "ae5445ae-b902-4ce8-9f7b-717b3b0b4f92",
   "metadata": {},
   "outputs": [],
   "source": [
    "import cProfile\n",
    "import pstats\n",
    "\n",
    "profiler = cProfile.Profile()\n",
    "profiler.enable()\n",
    "df = pd.read_parquet(\"Data/Large/articles.parquet\")\n",
    "profiler.disable()\n",
    "\n",
    "profiler_stats = pstats.Stats(profiler)\n",
    "profiler_stats.print_stats()"
   ]
  },
  {
   "cell_type": "code",
   "execution_count": null,
   "id": "e15aa7e8-ef30-4e1d-908c-9dc597f5bce9",
   "metadata": {},
   "outputs": [],
   "source": [
    "profiler = cProfile.Profile()\n",
    "profiler.enable()\n",
    "df = dd.read_parquet(\"Data/Large/articles.parquet\", engine = \"fastparquet\")\n",
    "profiler.disable()\n",
    "\n",
    "profiler_stats = pstats.Stats(profiler)\n",
    "profiler_stats.print_stats()"
   ]
  },
  {
   "cell_type": "markdown",
   "id": "30fe4d4a-f8e0-4b9d-a9dd-7b5719a44b6f",
   "metadata": {},
   "source": [
    "Even though the dataframe took 1.464 seconds to load using pandas, dask took 0.054 seconds. This is a huge speedup ~ 27x"
   ]
  },
  {
   "cell_type": "code",
   "execution_count": 185,
   "id": "59a57c46-4e08-4299-8a69-12d45e274b46",
   "metadata": {},
   "outputs": [],
   "source": [
    "#Load in various dataframes\n",
    "## Articles\n",
    "df_art = pd.read_parquet(\"Data/Small/articles.parquet\")\n",
    "\n",
    "## Behaviors\n",
    "df_bev = pd.read_parquet(\"Data/Small/train/behaviors.parquet\")\n",
    "\n",
    "## History\n",
    "df_his = pd.read_parquet(\"Data/Small/train/history.parquet\")\n",
    "\n"
   ]
  },
  {
   "cell_type": "markdown",
   "id": "dd6d447c",
   "metadata": {},
   "source": [
    "Join the data sources"
   ]
  },
  {
   "cell_type": "code",
   "execution_count": 186,
   "id": "b3cfa16d",
   "metadata": {},
   "outputs": [],
   "source": [
    "# Convert datatype of column first\n",
    "df_bev['article_ids_clicked'] = df_bev['article_ids_clicked'].apply(lambda x: x[0])"
   ]
  },
  {
   "cell_type": "code",
   "execution_count": 187,
   "id": "5eaa9148",
   "metadata": {},
   "outputs": [],
   "source": [
    "# Join bevhaiors to article\n",
    "df= df_bev.join(df_art.set_index(\"article_id\"), on = \"article_ids_clicked\")\n",
    "\n",
    "# Join bevhaiors to history \n",
    "df= df.join(df_his.set_index(\"user_id\"), on = \"user_id\")\n",
    "\n",
    "# Drop all other dataframes from me\n",
    "df_bev = []\n",
    "df_his = []\n",
    "df_art = []"
   ]
  },
  {
   "cell_type": "code",
   "execution_count": 211,
   "id": "5796b9c4",
   "metadata": {},
   "outputs": [],
   "source": [
    "# Preprocessing\n",
    "df.dropna(subset=['article_id'], inplace= True)\n",
    "\n",
    "\n",
    "\n",
    "df['article_id'] = df['article_id'].apply(lambda x: int(x))\n",
    "\n",
    "df['article_id']= df['article_id'].astype(np.int64)\n",
    "\n"
   ]
  },
  {
   "cell_type": "markdown",
   "id": "00dd2615",
   "metadata": {},
   "source": [
    "Visualizations"
   ]
  },
  {
   "cell_type": "code",
   "execution_count": 189,
   "id": "af49752d",
   "metadata": {},
   "outputs": [],
   "source": [
    "def plotly_index_values(groupby_object):\n",
    "    \"\"\"Takes in a clause from a pandas groupby statement and returns X and Y variables used for plotting\"\"\"\n",
    "\n",
    "    index = groupby_object.index\n",
    "    values = groupby_object.values\n",
    "\n",
    "    return index, values\n",
    "\n"
   ]
  },
  {
   "cell_type": "markdown",
   "id": "c4e0b195",
   "metadata": {},
   "source": [
    "Lets calculate the unique users for hourly, daily, and day of the week. Let's use a subset of the data until we know our plots are very good"
   ]
  },
  {
   "cell_type": "markdown",
   "id": "7988d669",
   "metadata": {},
   "source": [
    "#### Biggest thing is user engagement : Bigger User Engagement -> More eveneue\n",
    "#### We need to maximize the amount of ads these guys are viewing -> this leads on to them clicking on new articles for ads\n",
    "#### So, let's not make article length too short so that people can maximize their session lengths with a lot of articles!"
   ]
  },
  {
   "cell_type": "code",
   "execution_count": 190,
   "id": "84e0f2f7",
   "metadata": {},
   "outputs": [],
   "source": [
    "# Let's make subsets for each user_id and then populate the frequency based on that\n",
    "\n",
    "## Get all unique ids in a list\n",
    "\n",
    "unique_user_ids = df['user_id'].values[0:1000]\n",
    "unique_user_ids = set(unique_user_ids)\n",
    "\n",
    "\n",
    "# Create dictionaries\n",
    "unique_users_daily_freq = {}\n",
    "unique_users_hourly_freq = {}\n",
    "unique_users_dayofweek_freq = {}\n",
    "unique_users_weekly_freq = {}\n",
    "\n",
    "for id in unique_user_ids:\n",
    "    # Get the subset of that user id\n",
    "    tmp_df = df[df['user_id'] == id]\n",
    "\n",
    "    # Now lets go through each and populate the unique dates, hours and day of the week for each user\n",
    "    dates = []\n",
    "    hours = []\n",
    "    dayofweek = []\n",
    "    week = []\n",
    "    indices = np.array(tmp_df.index)\n",
    "    for i in indices:\n",
    "        tmp_datetime = pd.DatetimeIndex(tmp_df['impression_time_fixed'][i])\n",
    "        tmp_date = tmp_datetime.date\n",
    "        tmp_time = tmp_datetime.time\n",
    "        tmp_dayofweek = tmp_datetime.day_of_week\n",
    "        tmp_week = tmp_datetime.isocalendar().week\n",
    "\n",
    "        for j in tmp_date:\n",
    "            dates.append(j)\n",
    "        \n",
    "        for k in tmp_time:\n",
    "            hours.append(k)\n",
    "        \n",
    "        for l in tmp_dayofweek:\n",
    "            dayofweek.append(l)\n",
    "        \n",
    "        for m in tmp_week:\n",
    "            week.append(m)\n",
    "\n",
    "    # Get rid of duplicate values\n",
    "    unique_dates = list(set(dates))\n",
    "    unique_hours = list(set(hours))\n",
    "    unique_dayofweek = list(set(dayofweek))\n",
    "    unique_week = list(set(week))\n",
    "\n",
    "    # Convert to string\n",
    "    unique_dates = [x.strftime('%m/%d/%Y') for x in unique_dates]\n",
    "    unique_hours = [x.hour for x in unique_hours]\n",
    "\n",
    "   # unique_dayofweek = [x for x in unique_dayofweek]\n",
    "\n",
    "\n",
    "    # Populate our unique_user_daily_freq dict\n",
    "    for i in unique_dates:\n",
    "        \n",
    "        if i not in unique_users_daily_freq:\n",
    "            unique_users_daily_freq[i] = 1\n",
    "        else:\n",
    "            unique_users_daily_freq[i] +=1\n",
    "        \n",
    "\n",
    "    # Populate hourly activity\n",
    "    for j in unique_hours:\n",
    "\n",
    "        if j not in unique_users_hourly_freq:\n",
    "            unique_users_hourly_freq[j] = 1\n",
    "        else:\n",
    "            unique_users_hourly_freq[j] +=1\n",
    "\n",
    "    # Populate dayofweeka activity\n",
    "    for k in unique_dayofweek:\n",
    "\n",
    "        if k not in unique_users_dayofweek_freq:\n",
    "            unique_users_dayofweek_freq[k] = 1\n",
    "        else:\n",
    "            unique_users_dayofweek_freq[k] +=1\n",
    "    \n",
    "\n",
    "    # Populate dayofweeka activity\n",
    "    for l in unique_week:\n",
    "\n",
    "        if l not in unique_users_weekly_freq:\n",
    "            unique_users_weekly_freq[l] = 1\n",
    "        else:\n",
    "            unique_users_weekly_freq[l] +=1\n",
    "    \n",
    "            \n",
    "    "
   ]
  },
  {
   "cell_type": "code",
   "execution_count": 191,
   "id": "480ef394",
   "metadata": {},
   "outputs": [
    {
     "data": {
      "application/vnd.plotly.v1+json": {
       "config": {
        "plotlyServerURL": "https://plot.ly"
       },
       "data": [
        {
         "mode": "lines+markers",
         "type": "scatter",
         "x": [
          "05/15/2023",
          "05/11/2023",
          "05/16/2023",
          "05/18/2023",
          "05/13/2023",
          "05/12/2023",
          "05/17/2023",
          "05/10/2023",
          "05/14/2023",
          "05/06/2023",
          "05/02/2023",
          "05/03/2023",
          "05/09/2023",
          "04/27/2023",
          "05/04/2023",
          "05/08/2023",
          "04/30/2023",
          "04/29/2023",
          "05/01/2023",
          "04/28/2023",
          "05/05/2023",
          "05/07/2023"
         ],
         "y": [
          426,
          396,
          420,
          231,
          380,
          407,
          435,
          399,
          401,
          371,
          379,
          373,
          412,
          347,
          379,
          394,
          352,
          351,
          369,
          372,
          364,
          376
         ]
        }
       ],
       "layout": {
        "template": {
         "data": {
          "bar": [
           {
            "error_x": {
             "color": "#2a3f5f"
            },
            "error_y": {
             "color": "#2a3f5f"
            },
            "marker": {
             "line": {
              "color": "#E5ECF6",
              "width": 0.5
             },
             "pattern": {
              "fillmode": "overlay",
              "size": 10,
              "solidity": 0.2
             }
            },
            "type": "bar"
           }
          ],
          "barpolar": [
           {
            "marker": {
             "line": {
              "color": "#E5ECF6",
              "width": 0.5
             },
             "pattern": {
              "fillmode": "overlay",
              "size": 10,
              "solidity": 0.2
             }
            },
            "type": "barpolar"
           }
          ],
          "carpet": [
           {
            "aaxis": {
             "endlinecolor": "#2a3f5f",
             "gridcolor": "white",
             "linecolor": "white",
             "minorgridcolor": "white",
             "startlinecolor": "#2a3f5f"
            },
            "baxis": {
             "endlinecolor": "#2a3f5f",
             "gridcolor": "white",
             "linecolor": "white",
             "minorgridcolor": "white",
             "startlinecolor": "#2a3f5f"
            },
            "type": "carpet"
           }
          ],
          "choropleth": [
           {
            "colorbar": {
             "outlinewidth": 0,
             "ticks": ""
            },
            "type": "choropleth"
           }
          ],
          "contour": [
           {
            "colorbar": {
             "outlinewidth": 0,
             "ticks": ""
            },
            "colorscale": [
             [
              0,
              "#0d0887"
             ],
             [
              0.1111111111111111,
              "#46039f"
             ],
             [
              0.2222222222222222,
              "#7201a8"
             ],
             [
              0.3333333333333333,
              "#9c179e"
             ],
             [
              0.4444444444444444,
              "#bd3786"
             ],
             [
              0.5555555555555556,
              "#d8576b"
             ],
             [
              0.6666666666666666,
              "#ed7953"
             ],
             [
              0.7777777777777778,
              "#fb9f3a"
             ],
             [
              0.8888888888888888,
              "#fdca26"
             ],
             [
              1,
              "#f0f921"
             ]
            ],
            "type": "contour"
           }
          ],
          "contourcarpet": [
           {
            "colorbar": {
             "outlinewidth": 0,
             "ticks": ""
            },
            "type": "contourcarpet"
           }
          ],
          "heatmap": [
           {
            "colorbar": {
             "outlinewidth": 0,
             "ticks": ""
            },
            "colorscale": [
             [
              0,
              "#0d0887"
             ],
             [
              0.1111111111111111,
              "#46039f"
             ],
             [
              0.2222222222222222,
              "#7201a8"
             ],
             [
              0.3333333333333333,
              "#9c179e"
             ],
             [
              0.4444444444444444,
              "#bd3786"
             ],
             [
              0.5555555555555556,
              "#d8576b"
             ],
             [
              0.6666666666666666,
              "#ed7953"
             ],
             [
              0.7777777777777778,
              "#fb9f3a"
             ],
             [
              0.8888888888888888,
              "#fdca26"
             ],
             [
              1,
              "#f0f921"
             ]
            ],
            "type": "heatmap"
           }
          ],
          "heatmapgl": [
           {
            "colorbar": {
             "outlinewidth": 0,
             "ticks": ""
            },
            "colorscale": [
             [
              0,
              "#0d0887"
             ],
             [
              0.1111111111111111,
              "#46039f"
             ],
             [
              0.2222222222222222,
              "#7201a8"
             ],
             [
              0.3333333333333333,
              "#9c179e"
             ],
             [
              0.4444444444444444,
              "#bd3786"
             ],
             [
              0.5555555555555556,
              "#d8576b"
             ],
             [
              0.6666666666666666,
              "#ed7953"
             ],
             [
              0.7777777777777778,
              "#fb9f3a"
             ],
             [
              0.8888888888888888,
              "#fdca26"
             ],
             [
              1,
              "#f0f921"
             ]
            ],
            "type": "heatmapgl"
           }
          ],
          "histogram": [
           {
            "marker": {
             "pattern": {
              "fillmode": "overlay",
              "size": 10,
              "solidity": 0.2
             }
            },
            "type": "histogram"
           }
          ],
          "histogram2d": [
           {
            "colorbar": {
             "outlinewidth": 0,
             "ticks": ""
            },
            "colorscale": [
             [
              0,
              "#0d0887"
             ],
             [
              0.1111111111111111,
              "#46039f"
             ],
             [
              0.2222222222222222,
              "#7201a8"
             ],
             [
              0.3333333333333333,
              "#9c179e"
             ],
             [
              0.4444444444444444,
              "#bd3786"
             ],
             [
              0.5555555555555556,
              "#d8576b"
             ],
             [
              0.6666666666666666,
              "#ed7953"
             ],
             [
              0.7777777777777778,
              "#fb9f3a"
             ],
             [
              0.8888888888888888,
              "#fdca26"
             ],
             [
              1,
              "#f0f921"
             ]
            ],
            "type": "histogram2d"
           }
          ],
          "histogram2dcontour": [
           {
            "colorbar": {
             "outlinewidth": 0,
             "ticks": ""
            },
            "colorscale": [
             [
              0,
              "#0d0887"
             ],
             [
              0.1111111111111111,
              "#46039f"
             ],
             [
              0.2222222222222222,
              "#7201a8"
             ],
             [
              0.3333333333333333,
              "#9c179e"
             ],
             [
              0.4444444444444444,
              "#bd3786"
             ],
             [
              0.5555555555555556,
              "#d8576b"
             ],
             [
              0.6666666666666666,
              "#ed7953"
             ],
             [
              0.7777777777777778,
              "#fb9f3a"
             ],
             [
              0.8888888888888888,
              "#fdca26"
             ],
             [
              1,
              "#f0f921"
             ]
            ],
            "type": "histogram2dcontour"
           }
          ],
          "mesh3d": [
           {
            "colorbar": {
             "outlinewidth": 0,
             "ticks": ""
            },
            "type": "mesh3d"
           }
          ],
          "parcoords": [
           {
            "line": {
             "colorbar": {
              "outlinewidth": 0,
              "ticks": ""
             }
            },
            "type": "parcoords"
           }
          ],
          "pie": [
           {
            "automargin": true,
            "type": "pie"
           }
          ],
          "scatter": [
           {
            "fillpattern": {
             "fillmode": "overlay",
             "size": 10,
             "solidity": 0.2
            },
            "type": "scatter"
           }
          ],
          "scatter3d": [
           {
            "line": {
             "colorbar": {
              "outlinewidth": 0,
              "ticks": ""
             }
            },
            "marker": {
             "colorbar": {
              "outlinewidth": 0,
              "ticks": ""
             }
            },
            "type": "scatter3d"
           }
          ],
          "scattercarpet": [
           {
            "marker": {
             "colorbar": {
              "outlinewidth": 0,
              "ticks": ""
             }
            },
            "type": "scattercarpet"
           }
          ],
          "scattergeo": [
           {
            "marker": {
             "colorbar": {
              "outlinewidth": 0,
              "ticks": ""
             }
            },
            "type": "scattergeo"
           }
          ],
          "scattergl": [
           {
            "marker": {
             "colorbar": {
              "outlinewidth": 0,
              "ticks": ""
             }
            },
            "type": "scattergl"
           }
          ],
          "scattermapbox": [
           {
            "marker": {
             "colorbar": {
              "outlinewidth": 0,
              "ticks": ""
             }
            },
            "type": "scattermapbox"
           }
          ],
          "scatterpolar": [
           {
            "marker": {
             "colorbar": {
              "outlinewidth": 0,
              "ticks": ""
             }
            },
            "type": "scatterpolar"
           }
          ],
          "scatterpolargl": [
           {
            "marker": {
             "colorbar": {
              "outlinewidth": 0,
              "ticks": ""
             }
            },
            "type": "scatterpolargl"
           }
          ],
          "scatterternary": [
           {
            "marker": {
             "colorbar": {
              "outlinewidth": 0,
              "ticks": ""
             }
            },
            "type": "scatterternary"
           }
          ],
          "surface": [
           {
            "colorbar": {
             "outlinewidth": 0,
             "ticks": ""
            },
            "colorscale": [
             [
              0,
              "#0d0887"
             ],
             [
              0.1111111111111111,
              "#46039f"
             ],
             [
              0.2222222222222222,
              "#7201a8"
             ],
             [
              0.3333333333333333,
              "#9c179e"
             ],
             [
              0.4444444444444444,
              "#bd3786"
             ],
             [
              0.5555555555555556,
              "#d8576b"
             ],
             [
              0.6666666666666666,
              "#ed7953"
             ],
             [
              0.7777777777777778,
              "#fb9f3a"
             ],
             [
              0.8888888888888888,
              "#fdca26"
             ],
             [
              1,
              "#f0f921"
             ]
            ],
            "type": "surface"
           }
          ],
          "table": [
           {
            "cells": {
             "fill": {
              "color": "#EBF0F8"
             },
             "line": {
              "color": "white"
             }
            },
            "header": {
             "fill": {
              "color": "#C8D4E3"
             },
             "line": {
              "color": "white"
             }
            },
            "type": "table"
           }
          ]
         },
         "layout": {
          "annotationdefaults": {
           "arrowcolor": "#2a3f5f",
           "arrowhead": 0,
           "arrowwidth": 1
          },
          "autotypenumbers": "strict",
          "coloraxis": {
           "colorbar": {
            "outlinewidth": 0,
            "ticks": ""
           }
          },
          "colorscale": {
           "diverging": [
            [
             0,
             "#8e0152"
            ],
            [
             0.1,
             "#c51b7d"
            ],
            [
             0.2,
             "#de77ae"
            ],
            [
             0.3,
             "#f1b6da"
            ],
            [
             0.4,
             "#fde0ef"
            ],
            [
             0.5,
             "#f7f7f7"
            ],
            [
             0.6,
             "#e6f5d0"
            ],
            [
             0.7,
             "#b8e186"
            ],
            [
             0.8,
             "#7fbc41"
            ],
            [
             0.9,
             "#4d9221"
            ],
            [
             1,
             "#276419"
            ]
           ],
           "sequential": [
            [
             0,
             "#0d0887"
            ],
            [
             0.1111111111111111,
             "#46039f"
            ],
            [
             0.2222222222222222,
             "#7201a8"
            ],
            [
             0.3333333333333333,
             "#9c179e"
            ],
            [
             0.4444444444444444,
             "#bd3786"
            ],
            [
             0.5555555555555556,
             "#d8576b"
            ],
            [
             0.6666666666666666,
             "#ed7953"
            ],
            [
             0.7777777777777778,
             "#fb9f3a"
            ],
            [
             0.8888888888888888,
             "#fdca26"
            ],
            [
             1,
             "#f0f921"
            ]
           ],
           "sequentialminus": [
            [
             0,
             "#0d0887"
            ],
            [
             0.1111111111111111,
             "#46039f"
            ],
            [
             0.2222222222222222,
             "#7201a8"
            ],
            [
             0.3333333333333333,
             "#9c179e"
            ],
            [
             0.4444444444444444,
             "#bd3786"
            ],
            [
             0.5555555555555556,
             "#d8576b"
            ],
            [
             0.6666666666666666,
             "#ed7953"
            ],
            [
             0.7777777777777778,
             "#fb9f3a"
            ],
            [
             0.8888888888888888,
             "#fdca26"
            ],
            [
             1,
             "#f0f921"
            ]
           ]
          },
          "colorway": [
           "#636efa",
           "#EF553B",
           "#00cc96",
           "#ab63fa",
           "#FFA15A",
           "#19d3f3",
           "#FF6692",
           "#B6E880",
           "#FF97FF",
           "#FECB52"
          ],
          "font": {
           "color": "#2a3f5f"
          },
          "geo": {
           "bgcolor": "white",
           "lakecolor": "white",
           "landcolor": "#E5ECF6",
           "showlakes": true,
           "showland": true,
           "subunitcolor": "white"
          },
          "hoverlabel": {
           "align": "left"
          },
          "hovermode": "closest",
          "mapbox": {
           "style": "light"
          },
          "paper_bgcolor": "white",
          "plot_bgcolor": "#E5ECF6",
          "polar": {
           "angularaxis": {
            "gridcolor": "white",
            "linecolor": "white",
            "ticks": ""
           },
           "bgcolor": "#E5ECF6",
           "radialaxis": {
            "gridcolor": "white",
            "linecolor": "white",
            "ticks": ""
           }
          },
          "scene": {
           "xaxis": {
            "backgroundcolor": "#E5ECF6",
            "gridcolor": "white",
            "gridwidth": 2,
            "linecolor": "white",
            "showbackground": true,
            "ticks": "",
            "zerolinecolor": "white"
           },
           "yaxis": {
            "backgroundcolor": "#E5ECF6",
            "gridcolor": "white",
            "gridwidth": 2,
            "linecolor": "white",
            "showbackground": true,
            "ticks": "",
            "zerolinecolor": "white"
           },
           "zaxis": {
            "backgroundcolor": "#E5ECF6",
            "gridcolor": "white",
            "gridwidth": 2,
            "linecolor": "white",
            "showbackground": true,
            "ticks": "",
            "zerolinecolor": "white"
           }
          },
          "shapedefaults": {
           "line": {
            "color": "#2a3f5f"
           }
          },
          "ternary": {
           "aaxis": {
            "gridcolor": "white",
            "linecolor": "white",
            "ticks": ""
           },
           "baxis": {
            "gridcolor": "white",
            "linecolor": "white",
            "ticks": ""
           },
           "bgcolor": "#E5ECF6",
           "caxis": {
            "gridcolor": "white",
            "linecolor": "white",
            "ticks": ""
           }
          },
          "title": {
           "x": 0.05
          },
          "xaxis": {
           "automargin": true,
           "gridcolor": "white",
           "linecolor": "white",
           "ticks": "",
           "title": {
            "standoff": 15
           },
           "zerolinecolor": "white",
           "zerolinewidth": 2
          },
          "yaxis": {
           "automargin": true,
           "gridcolor": "white",
           "linecolor": "white",
           "ticks": "",
           "title": {
            "standoff": 15
           },
           "zerolinecolor": "white",
           "zerolinewidth": 2
          }
         }
        }
       }
      }
     },
     "metadata": {},
     "output_type": "display_data"
    }
   ],
   "source": [
    "# What does the daily user activity look like?\n",
    "indices = [x for x in unique_users_daily_freq.keys()]\n",
    "values = [x for x in unique_users_daily_freq.values()]\n",
    "\n",
    "fig = go.Figure()\n",
    "\n",
    "# Add traces\n",
    "fig.add_trace(go.Scatter(x = indices, y = values,\n",
    "                         mode = 'lines+markers'\n",
    "                         )\n",
    "\n",
    ")\n",
    "\n",
    "fig.show()\n"
   ]
  },
  {
   "cell_type": "code",
   "execution_count": 192,
   "id": "05a681f3",
   "metadata": {},
   "outputs": [
    {
     "data": {
      "application/vnd.plotly.v1+json": {
       "config": {
        "plotlyServerURL": "https://plot.ly"
       },
       "data": [
        {
         "mode": "markers",
         "type": "scatter",
         "x": [
          18,
          6,
          19,
          3,
          17,
          10,
          16,
          13,
          7,
          14,
          12,
          8,
          11,
          4,
          15,
          21,
          5,
          20,
          0,
          22,
          23,
          9,
          1,
          2
         ],
         "y": [
          7336,
          9514,
          7490,
          4356,
          7388,
          7238,
          7320,
          7095,
          7740,
          7850,
          6350,
          6698,
          7005,
          7426,
          7605,
          5943,
          7835,
          7645,
          1006,
          3050,
          1372,
          6605,
          1049,
          1812
         ]
        }
       ],
       "layout": {
        "template": {
         "data": {
          "bar": [
           {
            "error_x": {
             "color": "#2a3f5f"
            },
            "error_y": {
             "color": "#2a3f5f"
            },
            "marker": {
             "line": {
              "color": "#E5ECF6",
              "width": 0.5
             },
             "pattern": {
              "fillmode": "overlay",
              "size": 10,
              "solidity": 0.2
             }
            },
            "type": "bar"
           }
          ],
          "barpolar": [
           {
            "marker": {
             "line": {
              "color": "#E5ECF6",
              "width": 0.5
             },
             "pattern": {
              "fillmode": "overlay",
              "size": 10,
              "solidity": 0.2
             }
            },
            "type": "barpolar"
           }
          ],
          "carpet": [
           {
            "aaxis": {
             "endlinecolor": "#2a3f5f",
             "gridcolor": "white",
             "linecolor": "white",
             "minorgridcolor": "white",
             "startlinecolor": "#2a3f5f"
            },
            "baxis": {
             "endlinecolor": "#2a3f5f",
             "gridcolor": "white",
             "linecolor": "white",
             "minorgridcolor": "white",
             "startlinecolor": "#2a3f5f"
            },
            "type": "carpet"
           }
          ],
          "choropleth": [
           {
            "colorbar": {
             "outlinewidth": 0,
             "ticks": ""
            },
            "type": "choropleth"
           }
          ],
          "contour": [
           {
            "colorbar": {
             "outlinewidth": 0,
             "ticks": ""
            },
            "colorscale": [
             [
              0,
              "#0d0887"
             ],
             [
              0.1111111111111111,
              "#46039f"
             ],
             [
              0.2222222222222222,
              "#7201a8"
             ],
             [
              0.3333333333333333,
              "#9c179e"
             ],
             [
              0.4444444444444444,
              "#bd3786"
             ],
             [
              0.5555555555555556,
              "#d8576b"
             ],
             [
              0.6666666666666666,
              "#ed7953"
             ],
             [
              0.7777777777777778,
              "#fb9f3a"
             ],
             [
              0.8888888888888888,
              "#fdca26"
             ],
             [
              1,
              "#f0f921"
             ]
            ],
            "type": "contour"
           }
          ],
          "contourcarpet": [
           {
            "colorbar": {
             "outlinewidth": 0,
             "ticks": ""
            },
            "type": "contourcarpet"
           }
          ],
          "heatmap": [
           {
            "colorbar": {
             "outlinewidth": 0,
             "ticks": ""
            },
            "colorscale": [
             [
              0,
              "#0d0887"
             ],
             [
              0.1111111111111111,
              "#46039f"
             ],
             [
              0.2222222222222222,
              "#7201a8"
             ],
             [
              0.3333333333333333,
              "#9c179e"
             ],
             [
              0.4444444444444444,
              "#bd3786"
             ],
             [
              0.5555555555555556,
              "#d8576b"
             ],
             [
              0.6666666666666666,
              "#ed7953"
             ],
             [
              0.7777777777777778,
              "#fb9f3a"
             ],
             [
              0.8888888888888888,
              "#fdca26"
             ],
             [
              1,
              "#f0f921"
             ]
            ],
            "type": "heatmap"
           }
          ],
          "heatmapgl": [
           {
            "colorbar": {
             "outlinewidth": 0,
             "ticks": ""
            },
            "colorscale": [
             [
              0,
              "#0d0887"
             ],
             [
              0.1111111111111111,
              "#46039f"
             ],
             [
              0.2222222222222222,
              "#7201a8"
             ],
             [
              0.3333333333333333,
              "#9c179e"
             ],
             [
              0.4444444444444444,
              "#bd3786"
             ],
             [
              0.5555555555555556,
              "#d8576b"
             ],
             [
              0.6666666666666666,
              "#ed7953"
             ],
             [
              0.7777777777777778,
              "#fb9f3a"
             ],
             [
              0.8888888888888888,
              "#fdca26"
             ],
             [
              1,
              "#f0f921"
             ]
            ],
            "type": "heatmapgl"
           }
          ],
          "histogram": [
           {
            "marker": {
             "pattern": {
              "fillmode": "overlay",
              "size": 10,
              "solidity": 0.2
             }
            },
            "type": "histogram"
           }
          ],
          "histogram2d": [
           {
            "colorbar": {
             "outlinewidth": 0,
             "ticks": ""
            },
            "colorscale": [
             [
              0,
              "#0d0887"
             ],
             [
              0.1111111111111111,
              "#46039f"
             ],
             [
              0.2222222222222222,
              "#7201a8"
             ],
             [
              0.3333333333333333,
              "#9c179e"
             ],
             [
              0.4444444444444444,
              "#bd3786"
             ],
             [
              0.5555555555555556,
              "#d8576b"
             ],
             [
              0.6666666666666666,
              "#ed7953"
             ],
             [
              0.7777777777777778,
              "#fb9f3a"
             ],
             [
              0.8888888888888888,
              "#fdca26"
             ],
             [
              1,
              "#f0f921"
             ]
            ],
            "type": "histogram2d"
           }
          ],
          "histogram2dcontour": [
           {
            "colorbar": {
             "outlinewidth": 0,
             "ticks": ""
            },
            "colorscale": [
             [
              0,
              "#0d0887"
             ],
             [
              0.1111111111111111,
              "#46039f"
             ],
             [
              0.2222222222222222,
              "#7201a8"
             ],
             [
              0.3333333333333333,
              "#9c179e"
             ],
             [
              0.4444444444444444,
              "#bd3786"
             ],
             [
              0.5555555555555556,
              "#d8576b"
             ],
             [
              0.6666666666666666,
              "#ed7953"
             ],
             [
              0.7777777777777778,
              "#fb9f3a"
             ],
             [
              0.8888888888888888,
              "#fdca26"
             ],
             [
              1,
              "#f0f921"
             ]
            ],
            "type": "histogram2dcontour"
           }
          ],
          "mesh3d": [
           {
            "colorbar": {
             "outlinewidth": 0,
             "ticks": ""
            },
            "type": "mesh3d"
           }
          ],
          "parcoords": [
           {
            "line": {
             "colorbar": {
              "outlinewidth": 0,
              "ticks": ""
             }
            },
            "type": "parcoords"
           }
          ],
          "pie": [
           {
            "automargin": true,
            "type": "pie"
           }
          ],
          "scatter": [
           {
            "fillpattern": {
             "fillmode": "overlay",
             "size": 10,
             "solidity": 0.2
            },
            "type": "scatter"
           }
          ],
          "scatter3d": [
           {
            "line": {
             "colorbar": {
              "outlinewidth": 0,
              "ticks": ""
             }
            },
            "marker": {
             "colorbar": {
              "outlinewidth": 0,
              "ticks": ""
             }
            },
            "type": "scatter3d"
           }
          ],
          "scattercarpet": [
           {
            "marker": {
             "colorbar": {
              "outlinewidth": 0,
              "ticks": ""
             }
            },
            "type": "scattercarpet"
           }
          ],
          "scattergeo": [
           {
            "marker": {
             "colorbar": {
              "outlinewidth": 0,
              "ticks": ""
             }
            },
            "type": "scattergeo"
           }
          ],
          "scattergl": [
           {
            "marker": {
             "colorbar": {
              "outlinewidth": 0,
              "ticks": ""
             }
            },
            "type": "scattergl"
           }
          ],
          "scattermapbox": [
           {
            "marker": {
             "colorbar": {
              "outlinewidth": 0,
              "ticks": ""
             }
            },
            "type": "scattermapbox"
           }
          ],
          "scatterpolar": [
           {
            "marker": {
             "colorbar": {
              "outlinewidth": 0,
              "ticks": ""
             }
            },
            "type": "scatterpolar"
           }
          ],
          "scatterpolargl": [
           {
            "marker": {
             "colorbar": {
              "outlinewidth": 0,
              "ticks": ""
             }
            },
            "type": "scatterpolargl"
           }
          ],
          "scatterternary": [
           {
            "marker": {
             "colorbar": {
              "outlinewidth": 0,
              "ticks": ""
             }
            },
            "type": "scatterternary"
           }
          ],
          "surface": [
           {
            "colorbar": {
             "outlinewidth": 0,
             "ticks": ""
            },
            "colorscale": [
             [
              0,
              "#0d0887"
             ],
             [
              0.1111111111111111,
              "#46039f"
             ],
             [
              0.2222222222222222,
              "#7201a8"
             ],
             [
              0.3333333333333333,
              "#9c179e"
             ],
             [
              0.4444444444444444,
              "#bd3786"
             ],
             [
              0.5555555555555556,
              "#d8576b"
             ],
             [
              0.6666666666666666,
              "#ed7953"
             ],
             [
              0.7777777777777778,
              "#fb9f3a"
             ],
             [
              0.8888888888888888,
              "#fdca26"
             ],
             [
              1,
              "#f0f921"
             ]
            ],
            "type": "surface"
           }
          ],
          "table": [
           {
            "cells": {
             "fill": {
              "color": "#EBF0F8"
             },
             "line": {
              "color": "white"
             }
            },
            "header": {
             "fill": {
              "color": "#C8D4E3"
             },
             "line": {
              "color": "white"
             }
            },
            "type": "table"
           }
          ]
         },
         "layout": {
          "annotationdefaults": {
           "arrowcolor": "#2a3f5f",
           "arrowhead": 0,
           "arrowwidth": 1
          },
          "autotypenumbers": "strict",
          "coloraxis": {
           "colorbar": {
            "outlinewidth": 0,
            "ticks": ""
           }
          },
          "colorscale": {
           "diverging": [
            [
             0,
             "#8e0152"
            ],
            [
             0.1,
             "#c51b7d"
            ],
            [
             0.2,
             "#de77ae"
            ],
            [
             0.3,
             "#f1b6da"
            ],
            [
             0.4,
             "#fde0ef"
            ],
            [
             0.5,
             "#f7f7f7"
            ],
            [
             0.6,
             "#e6f5d0"
            ],
            [
             0.7,
             "#b8e186"
            ],
            [
             0.8,
             "#7fbc41"
            ],
            [
             0.9,
             "#4d9221"
            ],
            [
             1,
             "#276419"
            ]
           ],
           "sequential": [
            [
             0,
             "#0d0887"
            ],
            [
             0.1111111111111111,
             "#46039f"
            ],
            [
             0.2222222222222222,
             "#7201a8"
            ],
            [
             0.3333333333333333,
             "#9c179e"
            ],
            [
             0.4444444444444444,
             "#bd3786"
            ],
            [
             0.5555555555555556,
             "#d8576b"
            ],
            [
             0.6666666666666666,
             "#ed7953"
            ],
            [
             0.7777777777777778,
             "#fb9f3a"
            ],
            [
             0.8888888888888888,
             "#fdca26"
            ],
            [
             1,
             "#f0f921"
            ]
           ],
           "sequentialminus": [
            [
             0,
             "#0d0887"
            ],
            [
             0.1111111111111111,
             "#46039f"
            ],
            [
             0.2222222222222222,
             "#7201a8"
            ],
            [
             0.3333333333333333,
             "#9c179e"
            ],
            [
             0.4444444444444444,
             "#bd3786"
            ],
            [
             0.5555555555555556,
             "#d8576b"
            ],
            [
             0.6666666666666666,
             "#ed7953"
            ],
            [
             0.7777777777777778,
             "#fb9f3a"
            ],
            [
             0.8888888888888888,
             "#fdca26"
            ],
            [
             1,
             "#f0f921"
            ]
           ]
          },
          "colorway": [
           "#636efa",
           "#EF553B",
           "#00cc96",
           "#ab63fa",
           "#FFA15A",
           "#19d3f3",
           "#FF6692",
           "#B6E880",
           "#FF97FF",
           "#FECB52"
          ],
          "font": {
           "color": "#2a3f5f"
          },
          "geo": {
           "bgcolor": "white",
           "lakecolor": "white",
           "landcolor": "#E5ECF6",
           "showlakes": true,
           "showland": true,
           "subunitcolor": "white"
          },
          "hoverlabel": {
           "align": "left"
          },
          "hovermode": "closest",
          "mapbox": {
           "style": "light"
          },
          "paper_bgcolor": "white",
          "plot_bgcolor": "#E5ECF6",
          "polar": {
           "angularaxis": {
            "gridcolor": "white",
            "linecolor": "white",
            "ticks": ""
           },
           "bgcolor": "#E5ECF6",
           "radialaxis": {
            "gridcolor": "white",
            "linecolor": "white",
            "ticks": ""
           }
          },
          "scene": {
           "xaxis": {
            "backgroundcolor": "#E5ECF6",
            "gridcolor": "white",
            "gridwidth": 2,
            "linecolor": "white",
            "showbackground": true,
            "ticks": "",
            "zerolinecolor": "white"
           },
           "yaxis": {
            "backgroundcolor": "#E5ECF6",
            "gridcolor": "white",
            "gridwidth": 2,
            "linecolor": "white",
            "showbackground": true,
            "ticks": "",
            "zerolinecolor": "white"
           },
           "zaxis": {
            "backgroundcolor": "#E5ECF6",
            "gridcolor": "white",
            "gridwidth": 2,
            "linecolor": "white",
            "showbackground": true,
            "ticks": "",
            "zerolinecolor": "white"
           }
          },
          "shapedefaults": {
           "line": {
            "color": "#2a3f5f"
           }
          },
          "ternary": {
           "aaxis": {
            "gridcolor": "white",
            "linecolor": "white",
            "ticks": ""
           },
           "baxis": {
            "gridcolor": "white",
            "linecolor": "white",
            "ticks": ""
           },
           "bgcolor": "#E5ECF6",
           "caxis": {
            "gridcolor": "white",
            "linecolor": "white",
            "ticks": ""
           }
          },
          "title": {
           "x": 0.05
          },
          "xaxis": {
           "automargin": true,
           "gridcolor": "white",
           "linecolor": "white",
           "ticks": "",
           "title": {
            "standoff": 15
           },
           "zerolinecolor": "white",
           "zerolinewidth": 2
          },
          "yaxis": {
           "automargin": true,
           "gridcolor": "white",
           "linecolor": "white",
           "ticks": "",
           "title": {
            "standoff": 15
           },
           "zerolinecolor": "white",
           "zerolinewidth": 2
          }
         }
        }
       }
      }
     },
     "metadata": {},
     "output_type": "display_data"
    }
   ],
   "source": [
    "# What does the hourly user activity look like?\n",
    "indices = [x for x in unique_users_hourly_freq.keys()]\n",
    "values = [x for x in unique_users_hourly_freq.values()]\n",
    "\n",
    "fig = go.Figure()\n",
    "\n",
    "# Add traces\n",
    "fig.add_trace(go.Scatter(x = indices, y = values,\n",
    "                         mode = 'markers'\n",
    "                         )\n",
    "\n",
    ")\n",
    "\n",
    "fig.show()"
   ]
  },
  {
   "cell_type": "code",
   "execution_count": 193,
   "id": "6635bea8",
   "metadata": {},
   "outputs": [
    {
     "data": {
      "application/vnd.plotly.v1+json": {
       "config": {
        "plotlyServerURL": "https://plot.ly"
       },
       "data": [
        {
         "mode": "lines+markers",
         "type": "scatter",
         "x": [
          19,
          20,
          17,
          18
         ],
         "y": [
          477,
          487,
          417,
          453
         ]
        }
       ],
       "layout": {
        "template": {
         "data": {
          "bar": [
           {
            "error_x": {
             "color": "#2a3f5f"
            },
            "error_y": {
             "color": "#2a3f5f"
            },
            "marker": {
             "line": {
              "color": "#E5ECF6",
              "width": 0.5
             },
             "pattern": {
              "fillmode": "overlay",
              "size": 10,
              "solidity": 0.2
             }
            },
            "type": "bar"
           }
          ],
          "barpolar": [
           {
            "marker": {
             "line": {
              "color": "#E5ECF6",
              "width": 0.5
             },
             "pattern": {
              "fillmode": "overlay",
              "size": 10,
              "solidity": 0.2
             }
            },
            "type": "barpolar"
           }
          ],
          "carpet": [
           {
            "aaxis": {
             "endlinecolor": "#2a3f5f",
             "gridcolor": "white",
             "linecolor": "white",
             "minorgridcolor": "white",
             "startlinecolor": "#2a3f5f"
            },
            "baxis": {
             "endlinecolor": "#2a3f5f",
             "gridcolor": "white",
             "linecolor": "white",
             "minorgridcolor": "white",
             "startlinecolor": "#2a3f5f"
            },
            "type": "carpet"
           }
          ],
          "choropleth": [
           {
            "colorbar": {
             "outlinewidth": 0,
             "ticks": ""
            },
            "type": "choropleth"
           }
          ],
          "contour": [
           {
            "colorbar": {
             "outlinewidth": 0,
             "ticks": ""
            },
            "colorscale": [
             [
              0,
              "#0d0887"
             ],
             [
              0.1111111111111111,
              "#46039f"
             ],
             [
              0.2222222222222222,
              "#7201a8"
             ],
             [
              0.3333333333333333,
              "#9c179e"
             ],
             [
              0.4444444444444444,
              "#bd3786"
             ],
             [
              0.5555555555555556,
              "#d8576b"
             ],
             [
              0.6666666666666666,
              "#ed7953"
             ],
             [
              0.7777777777777778,
              "#fb9f3a"
             ],
             [
              0.8888888888888888,
              "#fdca26"
             ],
             [
              1,
              "#f0f921"
             ]
            ],
            "type": "contour"
           }
          ],
          "contourcarpet": [
           {
            "colorbar": {
             "outlinewidth": 0,
             "ticks": ""
            },
            "type": "contourcarpet"
           }
          ],
          "heatmap": [
           {
            "colorbar": {
             "outlinewidth": 0,
             "ticks": ""
            },
            "colorscale": [
             [
              0,
              "#0d0887"
             ],
             [
              0.1111111111111111,
              "#46039f"
             ],
             [
              0.2222222222222222,
              "#7201a8"
             ],
             [
              0.3333333333333333,
              "#9c179e"
             ],
             [
              0.4444444444444444,
              "#bd3786"
             ],
             [
              0.5555555555555556,
              "#d8576b"
             ],
             [
              0.6666666666666666,
              "#ed7953"
             ],
             [
              0.7777777777777778,
              "#fb9f3a"
             ],
             [
              0.8888888888888888,
              "#fdca26"
             ],
             [
              1,
              "#f0f921"
             ]
            ],
            "type": "heatmap"
           }
          ],
          "heatmapgl": [
           {
            "colorbar": {
             "outlinewidth": 0,
             "ticks": ""
            },
            "colorscale": [
             [
              0,
              "#0d0887"
             ],
             [
              0.1111111111111111,
              "#46039f"
             ],
             [
              0.2222222222222222,
              "#7201a8"
             ],
             [
              0.3333333333333333,
              "#9c179e"
             ],
             [
              0.4444444444444444,
              "#bd3786"
             ],
             [
              0.5555555555555556,
              "#d8576b"
             ],
             [
              0.6666666666666666,
              "#ed7953"
             ],
             [
              0.7777777777777778,
              "#fb9f3a"
             ],
             [
              0.8888888888888888,
              "#fdca26"
             ],
             [
              1,
              "#f0f921"
             ]
            ],
            "type": "heatmapgl"
           }
          ],
          "histogram": [
           {
            "marker": {
             "pattern": {
              "fillmode": "overlay",
              "size": 10,
              "solidity": 0.2
             }
            },
            "type": "histogram"
           }
          ],
          "histogram2d": [
           {
            "colorbar": {
             "outlinewidth": 0,
             "ticks": ""
            },
            "colorscale": [
             [
              0,
              "#0d0887"
             ],
             [
              0.1111111111111111,
              "#46039f"
             ],
             [
              0.2222222222222222,
              "#7201a8"
             ],
             [
              0.3333333333333333,
              "#9c179e"
             ],
             [
              0.4444444444444444,
              "#bd3786"
             ],
             [
              0.5555555555555556,
              "#d8576b"
             ],
             [
              0.6666666666666666,
              "#ed7953"
             ],
             [
              0.7777777777777778,
              "#fb9f3a"
             ],
             [
              0.8888888888888888,
              "#fdca26"
             ],
             [
              1,
              "#f0f921"
             ]
            ],
            "type": "histogram2d"
           }
          ],
          "histogram2dcontour": [
           {
            "colorbar": {
             "outlinewidth": 0,
             "ticks": ""
            },
            "colorscale": [
             [
              0,
              "#0d0887"
             ],
             [
              0.1111111111111111,
              "#46039f"
             ],
             [
              0.2222222222222222,
              "#7201a8"
             ],
             [
              0.3333333333333333,
              "#9c179e"
             ],
             [
              0.4444444444444444,
              "#bd3786"
             ],
             [
              0.5555555555555556,
              "#d8576b"
             ],
             [
              0.6666666666666666,
              "#ed7953"
             ],
             [
              0.7777777777777778,
              "#fb9f3a"
             ],
             [
              0.8888888888888888,
              "#fdca26"
             ],
             [
              1,
              "#f0f921"
             ]
            ],
            "type": "histogram2dcontour"
           }
          ],
          "mesh3d": [
           {
            "colorbar": {
             "outlinewidth": 0,
             "ticks": ""
            },
            "type": "mesh3d"
           }
          ],
          "parcoords": [
           {
            "line": {
             "colorbar": {
              "outlinewidth": 0,
              "ticks": ""
             }
            },
            "type": "parcoords"
           }
          ],
          "pie": [
           {
            "automargin": true,
            "type": "pie"
           }
          ],
          "scatter": [
           {
            "fillpattern": {
             "fillmode": "overlay",
             "size": 10,
             "solidity": 0.2
            },
            "type": "scatter"
           }
          ],
          "scatter3d": [
           {
            "line": {
             "colorbar": {
              "outlinewidth": 0,
              "ticks": ""
             }
            },
            "marker": {
             "colorbar": {
              "outlinewidth": 0,
              "ticks": ""
             }
            },
            "type": "scatter3d"
           }
          ],
          "scattercarpet": [
           {
            "marker": {
             "colorbar": {
              "outlinewidth": 0,
              "ticks": ""
             }
            },
            "type": "scattercarpet"
           }
          ],
          "scattergeo": [
           {
            "marker": {
             "colorbar": {
              "outlinewidth": 0,
              "ticks": ""
             }
            },
            "type": "scattergeo"
           }
          ],
          "scattergl": [
           {
            "marker": {
             "colorbar": {
              "outlinewidth": 0,
              "ticks": ""
             }
            },
            "type": "scattergl"
           }
          ],
          "scattermapbox": [
           {
            "marker": {
             "colorbar": {
              "outlinewidth": 0,
              "ticks": ""
             }
            },
            "type": "scattermapbox"
           }
          ],
          "scatterpolar": [
           {
            "marker": {
             "colorbar": {
              "outlinewidth": 0,
              "ticks": ""
             }
            },
            "type": "scatterpolar"
           }
          ],
          "scatterpolargl": [
           {
            "marker": {
             "colorbar": {
              "outlinewidth": 0,
              "ticks": ""
             }
            },
            "type": "scatterpolargl"
           }
          ],
          "scatterternary": [
           {
            "marker": {
             "colorbar": {
              "outlinewidth": 0,
              "ticks": ""
             }
            },
            "type": "scatterternary"
           }
          ],
          "surface": [
           {
            "colorbar": {
             "outlinewidth": 0,
             "ticks": ""
            },
            "colorscale": [
             [
              0,
              "#0d0887"
             ],
             [
              0.1111111111111111,
              "#46039f"
             ],
             [
              0.2222222222222222,
              "#7201a8"
             ],
             [
              0.3333333333333333,
              "#9c179e"
             ],
             [
              0.4444444444444444,
              "#bd3786"
             ],
             [
              0.5555555555555556,
              "#d8576b"
             ],
             [
              0.6666666666666666,
              "#ed7953"
             ],
             [
              0.7777777777777778,
              "#fb9f3a"
             ],
             [
              0.8888888888888888,
              "#fdca26"
             ],
             [
              1,
              "#f0f921"
             ]
            ],
            "type": "surface"
           }
          ],
          "table": [
           {
            "cells": {
             "fill": {
              "color": "#EBF0F8"
             },
             "line": {
              "color": "white"
             }
            },
            "header": {
             "fill": {
              "color": "#C8D4E3"
             },
             "line": {
              "color": "white"
             }
            },
            "type": "table"
           }
          ]
         },
         "layout": {
          "annotationdefaults": {
           "arrowcolor": "#2a3f5f",
           "arrowhead": 0,
           "arrowwidth": 1
          },
          "autotypenumbers": "strict",
          "coloraxis": {
           "colorbar": {
            "outlinewidth": 0,
            "ticks": ""
           }
          },
          "colorscale": {
           "diverging": [
            [
             0,
             "#8e0152"
            ],
            [
             0.1,
             "#c51b7d"
            ],
            [
             0.2,
             "#de77ae"
            ],
            [
             0.3,
             "#f1b6da"
            ],
            [
             0.4,
             "#fde0ef"
            ],
            [
             0.5,
             "#f7f7f7"
            ],
            [
             0.6,
             "#e6f5d0"
            ],
            [
             0.7,
             "#b8e186"
            ],
            [
             0.8,
             "#7fbc41"
            ],
            [
             0.9,
             "#4d9221"
            ],
            [
             1,
             "#276419"
            ]
           ],
           "sequential": [
            [
             0,
             "#0d0887"
            ],
            [
             0.1111111111111111,
             "#46039f"
            ],
            [
             0.2222222222222222,
             "#7201a8"
            ],
            [
             0.3333333333333333,
             "#9c179e"
            ],
            [
             0.4444444444444444,
             "#bd3786"
            ],
            [
             0.5555555555555556,
             "#d8576b"
            ],
            [
             0.6666666666666666,
             "#ed7953"
            ],
            [
             0.7777777777777778,
             "#fb9f3a"
            ],
            [
             0.8888888888888888,
             "#fdca26"
            ],
            [
             1,
             "#f0f921"
            ]
           ],
           "sequentialminus": [
            [
             0,
             "#0d0887"
            ],
            [
             0.1111111111111111,
             "#46039f"
            ],
            [
             0.2222222222222222,
             "#7201a8"
            ],
            [
             0.3333333333333333,
             "#9c179e"
            ],
            [
             0.4444444444444444,
             "#bd3786"
            ],
            [
             0.5555555555555556,
             "#d8576b"
            ],
            [
             0.6666666666666666,
             "#ed7953"
            ],
            [
             0.7777777777777778,
             "#fb9f3a"
            ],
            [
             0.8888888888888888,
             "#fdca26"
            ],
            [
             1,
             "#f0f921"
            ]
           ]
          },
          "colorway": [
           "#636efa",
           "#EF553B",
           "#00cc96",
           "#ab63fa",
           "#FFA15A",
           "#19d3f3",
           "#FF6692",
           "#B6E880",
           "#FF97FF",
           "#FECB52"
          ],
          "font": {
           "color": "#2a3f5f"
          },
          "geo": {
           "bgcolor": "white",
           "lakecolor": "white",
           "landcolor": "#E5ECF6",
           "showlakes": true,
           "showland": true,
           "subunitcolor": "white"
          },
          "hoverlabel": {
           "align": "left"
          },
          "hovermode": "closest",
          "mapbox": {
           "style": "light"
          },
          "paper_bgcolor": "white",
          "plot_bgcolor": "#E5ECF6",
          "polar": {
           "angularaxis": {
            "gridcolor": "white",
            "linecolor": "white",
            "ticks": ""
           },
           "bgcolor": "#E5ECF6",
           "radialaxis": {
            "gridcolor": "white",
            "linecolor": "white",
            "ticks": ""
           }
          },
          "scene": {
           "xaxis": {
            "backgroundcolor": "#E5ECF6",
            "gridcolor": "white",
            "gridwidth": 2,
            "linecolor": "white",
            "showbackground": true,
            "ticks": "",
            "zerolinecolor": "white"
           },
           "yaxis": {
            "backgroundcolor": "#E5ECF6",
            "gridcolor": "white",
            "gridwidth": 2,
            "linecolor": "white",
            "showbackground": true,
            "ticks": "",
            "zerolinecolor": "white"
           },
           "zaxis": {
            "backgroundcolor": "#E5ECF6",
            "gridcolor": "white",
            "gridwidth": 2,
            "linecolor": "white",
            "showbackground": true,
            "ticks": "",
            "zerolinecolor": "white"
           }
          },
          "shapedefaults": {
           "line": {
            "color": "#2a3f5f"
           }
          },
          "ternary": {
           "aaxis": {
            "gridcolor": "white",
            "linecolor": "white",
            "ticks": ""
           },
           "baxis": {
            "gridcolor": "white",
            "linecolor": "white",
            "ticks": ""
           },
           "bgcolor": "#E5ECF6",
           "caxis": {
            "gridcolor": "white",
            "linecolor": "white",
            "ticks": ""
           }
          },
          "title": {
           "x": 0.05
          },
          "xaxis": {
           "automargin": true,
           "gridcolor": "white",
           "linecolor": "white",
           "ticks": "",
           "title": {
            "standoff": 15
           },
           "zerolinecolor": "white",
           "zerolinewidth": 2
          },
          "yaxis": {
           "automargin": true,
           "gridcolor": "white",
           "linecolor": "white",
           "ticks": "",
           "title": {
            "standoff": 15
           },
           "zerolinecolor": "white",
           "zerolinewidth": 2
          }
         }
        }
       }
      }
     },
     "metadata": {},
     "output_type": "display_data"
    }
   ],
   "source": [
    "# What does the weekly user activity look like?\n",
    "indices = [x for x in unique_users_weekly_freq.keys()]\n",
    "values = [x for x in unique_users_weekly_freq.values()]\n",
    "\n",
    "fig = go.Figure()\n",
    "\n",
    "# Add traces\n",
    "fig.add_trace(go.Scatter(x = indices, y = values,\n",
    "                         mode = 'lines+markers'\n",
    "                         )\n",
    "\n",
    ")\n",
    "\n",
    "fig.show()"
   ]
  },
  {
   "cell_type": "code",
   "execution_count": 194,
   "metadata": {},
   "outputs": [
    {
     "data": {
      "application/vnd.plotly.v1+json": {
       "config": {
        "plotlyServerURL": "https://plot.ly"
       },
       "data": [
        {
         "mode": "markers",
         "type": "scatter",
         "x": [
          0,
          1,
          2,
          3,
          4,
          5,
          6
         ],
         "y": [
          466,
          476,
          479,
          466,
          451,
          434,
          450
         ]
        }
       ],
       "layout": {
        "template": {
         "data": {
          "bar": [
           {
            "error_x": {
             "color": "#2a3f5f"
            },
            "error_y": {
             "color": "#2a3f5f"
            },
            "marker": {
             "line": {
              "color": "#E5ECF6",
              "width": 0.5
             },
             "pattern": {
              "fillmode": "overlay",
              "size": 10,
              "solidity": 0.2
             }
            },
            "type": "bar"
           }
          ],
          "barpolar": [
           {
            "marker": {
             "line": {
              "color": "#E5ECF6",
              "width": 0.5
             },
             "pattern": {
              "fillmode": "overlay",
              "size": 10,
              "solidity": 0.2
             }
            },
            "type": "barpolar"
           }
          ],
          "carpet": [
           {
            "aaxis": {
             "endlinecolor": "#2a3f5f",
             "gridcolor": "white",
             "linecolor": "white",
             "minorgridcolor": "white",
             "startlinecolor": "#2a3f5f"
            },
            "baxis": {
             "endlinecolor": "#2a3f5f",
             "gridcolor": "white",
             "linecolor": "white",
             "minorgridcolor": "white",
             "startlinecolor": "#2a3f5f"
            },
            "type": "carpet"
           }
          ],
          "choropleth": [
           {
            "colorbar": {
             "outlinewidth": 0,
             "ticks": ""
            },
            "type": "choropleth"
           }
          ],
          "contour": [
           {
            "colorbar": {
             "outlinewidth": 0,
             "ticks": ""
            },
            "colorscale": [
             [
              0,
              "#0d0887"
             ],
             [
              0.1111111111111111,
              "#46039f"
             ],
             [
              0.2222222222222222,
              "#7201a8"
             ],
             [
              0.3333333333333333,
              "#9c179e"
             ],
             [
              0.4444444444444444,
              "#bd3786"
             ],
             [
              0.5555555555555556,
              "#d8576b"
             ],
             [
              0.6666666666666666,
              "#ed7953"
             ],
             [
              0.7777777777777778,
              "#fb9f3a"
             ],
             [
              0.8888888888888888,
              "#fdca26"
             ],
             [
              1,
              "#f0f921"
             ]
            ],
            "type": "contour"
           }
          ],
          "contourcarpet": [
           {
            "colorbar": {
             "outlinewidth": 0,
             "ticks": ""
            },
            "type": "contourcarpet"
           }
          ],
          "heatmap": [
           {
            "colorbar": {
             "outlinewidth": 0,
             "ticks": ""
            },
            "colorscale": [
             [
              0,
              "#0d0887"
             ],
             [
              0.1111111111111111,
              "#46039f"
             ],
             [
              0.2222222222222222,
              "#7201a8"
             ],
             [
              0.3333333333333333,
              "#9c179e"
             ],
             [
              0.4444444444444444,
              "#bd3786"
             ],
             [
              0.5555555555555556,
              "#d8576b"
             ],
             [
              0.6666666666666666,
              "#ed7953"
             ],
             [
              0.7777777777777778,
              "#fb9f3a"
             ],
             [
              0.8888888888888888,
              "#fdca26"
             ],
             [
              1,
              "#f0f921"
             ]
            ],
            "type": "heatmap"
           }
          ],
          "heatmapgl": [
           {
            "colorbar": {
             "outlinewidth": 0,
             "ticks": ""
            },
            "colorscale": [
             [
              0,
              "#0d0887"
             ],
             [
              0.1111111111111111,
              "#46039f"
             ],
             [
              0.2222222222222222,
              "#7201a8"
             ],
             [
              0.3333333333333333,
              "#9c179e"
             ],
             [
              0.4444444444444444,
              "#bd3786"
             ],
             [
              0.5555555555555556,
              "#d8576b"
             ],
             [
              0.6666666666666666,
              "#ed7953"
             ],
             [
              0.7777777777777778,
              "#fb9f3a"
             ],
             [
              0.8888888888888888,
              "#fdca26"
             ],
             [
              1,
              "#f0f921"
             ]
            ],
            "type": "heatmapgl"
           }
          ],
          "histogram": [
           {
            "marker": {
             "pattern": {
              "fillmode": "overlay",
              "size": 10,
              "solidity": 0.2
             }
            },
            "type": "histogram"
           }
          ],
          "histogram2d": [
           {
            "colorbar": {
             "outlinewidth": 0,
             "ticks": ""
            },
            "colorscale": [
             [
              0,
              "#0d0887"
             ],
             [
              0.1111111111111111,
              "#46039f"
             ],
             [
              0.2222222222222222,
              "#7201a8"
             ],
             [
              0.3333333333333333,
              "#9c179e"
             ],
             [
              0.4444444444444444,
              "#bd3786"
             ],
             [
              0.5555555555555556,
              "#d8576b"
             ],
             [
              0.6666666666666666,
              "#ed7953"
             ],
             [
              0.7777777777777778,
              "#fb9f3a"
             ],
             [
              0.8888888888888888,
              "#fdca26"
             ],
             [
              1,
              "#f0f921"
             ]
            ],
            "type": "histogram2d"
           }
          ],
          "histogram2dcontour": [
           {
            "colorbar": {
             "outlinewidth": 0,
             "ticks": ""
            },
            "colorscale": [
             [
              0,
              "#0d0887"
             ],
             [
              0.1111111111111111,
              "#46039f"
             ],
             [
              0.2222222222222222,
              "#7201a8"
             ],
             [
              0.3333333333333333,
              "#9c179e"
             ],
             [
              0.4444444444444444,
              "#bd3786"
             ],
             [
              0.5555555555555556,
              "#d8576b"
             ],
             [
              0.6666666666666666,
              "#ed7953"
             ],
             [
              0.7777777777777778,
              "#fb9f3a"
             ],
             [
              0.8888888888888888,
              "#fdca26"
             ],
             [
              1,
              "#f0f921"
             ]
            ],
            "type": "histogram2dcontour"
           }
          ],
          "mesh3d": [
           {
            "colorbar": {
             "outlinewidth": 0,
             "ticks": ""
            },
            "type": "mesh3d"
           }
          ],
          "parcoords": [
           {
            "line": {
             "colorbar": {
              "outlinewidth": 0,
              "ticks": ""
             }
            },
            "type": "parcoords"
           }
          ],
          "pie": [
           {
            "automargin": true,
            "type": "pie"
           }
          ],
          "scatter": [
           {
            "fillpattern": {
             "fillmode": "overlay",
             "size": 10,
             "solidity": 0.2
            },
            "type": "scatter"
           }
          ],
          "scatter3d": [
           {
            "line": {
             "colorbar": {
              "outlinewidth": 0,
              "ticks": ""
             }
            },
            "marker": {
             "colorbar": {
              "outlinewidth": 0,
              "ticks": ""
             }
            },
            "type": "scatter3d"
           }
          ],
          "scattercarpet": [
           {
            "marker": {
             "colorbar": {
              "outlinewidth": 0,
              "ticks": ""
             }
            },
            "type": "scattercarpet"
           }
          ],
          "scattergeo": [
           {
            "marker": {
             "colorbar": {
              "outlinewidth": 0,
              "ticks": ""
             }
            },
            "type": "scattergeo"
           }
          ],
          "scattergl": [
           {
            "marker": {
             "colorbar": {
              "outlinewidth": 0,
              "ticks": ""
             }
            },
            "type": "scattergl"
           }
          ],
          "scattermapbox": [
           {
            "marker": {
             "colorbar": {
              "outlinewidth": 0,
              "ticks": ""
             }
            },
            "type": "scattermapbox"
           }
          ],
          "scatterpolar": [
           {
            "marker": {
             "colorbar": {
              "outlinewidth": 0,
              "ticks": ""
             }
            },
            "type": "scatterpolar"
           }
          ],
          "scatterpolargl": [
           {
            "marker": {
             "colorbar": {
              "outlinewidth": 0,
              "ticks": ""
             }
            },
            "type": "scatterpolargl"
           }
          ],
          "scatterternary": [
           {
            "marker": {
             "colorbar": {
              "outlinewidth": 0,
              "ticks": ""
             }
            },
            "type": "scatterternary"
           }
          ],
          "surface": [
           {
            "colorbar": {
             "outlinewidth": 0,
             "ticks": ""
            },
            "colorscale": [
             [
              0,
              "#0d0887"
             ],
             [
              0.1111111111111111,
              "#46039f"
             ],
             [
              0.2222222222222222,
              "#7201a8"
             ],
             [
              0.3333333333333333,
              "#9c179e"
             ],
             [
              0.4444444444444444,
              "#bd3786"
             ],
             [
              0.5555555555555556,
              "#d8576b"
             ],
             [
              0.6666666666666666,
              "#ed7953"
             ],
             [
              0.7777777777777778,
              "#fb9f3a"
             ],
             [
              0.8888888888888888,
              "#fdca26"
             ],
             [
              1,
              "#f0f921"
             ]
            ],
            "type": "surface"
           }
          ],
          "table": [
           {
            "cells": {
             "fill": {
              "color": "#EBF0F8"
             },
             "line": {
              "color": "white"
             }
            },
            "header": {
             "fill": {
              "color": "#C8D4E3"
             },
             "line": {
              "color": "white"
             }
            },
            "type": "table"
           }
          ]
         },
         "layout": {
          "annotationdefaults": {
           "arrowcolor": "#2a3f5f",
           "arrowhead": 0,
           "arrowwidth": 1
          },
          "autotypenumbers": "strict",
          "coloraxis": {
           "colorbar": {
            "outlinewidth": 0,
            "ticks": ""
           }
          },
          "colorscale": {
           "diverging": [
            [
             0,
             "#8e0152"
            ],
            [
             0.1,
             "#c51b7d"
            ],
            [
             0.2,
             "#de77ae"
            ],
            [
             0.3,
             "#f1b6da"
            ],
            [
             0.4,
             "#fde0ef"
            ],
            [
             0.5,
             "#f7f7f7"
            ],
            [
             0.6,
             "#e6f5d0"
            ],
            [
             0.7,
             "#b8e186"
            ],
            [
             0.8,
             "#7fbc41"
            ],
            [
             0.9,
             "#4d9221"
            ],
            [
             1,
             "#276419"
            ]
           ],
           "sequential": [
            [
             0,
             "#0d0887"
            ],
            [
             0.1111111111111111,
             "#46039f"
            ],
            [
             0.2222222222222222,
             "#7201a8"
            ],
            [
             0.3333333333333333,
             "#9c179e"
            ],
            [
             0.4444444444444444,
             "#bd3786"
            ],
            [
             0.5555555555555556,
             "#d8576b"
            ],
            [
             0.6666666666666666,
             "#ed7953"
            ],
            [
             0.7777777777777778,
             "#fb9f3a"
            ],
            [
             0.8888888888888888,
             "#fdca26"
            ],
            [
             1,
             "#f0f921"
            ]
           ],
           "sequentialminus": [
            [
             0,
             "#0d0887"
            ],
            [
             0.1111111111111111,
             "#46039f"
            ],
            [
             0.2222222222222222,
             "#7201a8"
            ],
            [
             0.3333333333333333,
             "#9c179e"
            ],
            [
             0.4444444444444444,
             "#bd3786"
            ],
            [
             0.5555555555555556,
             "#d8576b"
            ],
            [
             0.6666666666666666,
             "#ed7953"
            ],
            [
             0.7777777777777778,
             "#fb9f3a"
            ],
            [
             0.8888888888888888,
             "#fdca26"
            ],
            [
             1,
             "#f0f921"
            ]
           ]
          },
          "colorway": [
           "#636efa",
           "#EF553B",
           "#00cc96",
           "#ab63fa",
           "#FFA15A",
           "#19d3f3",
           "#FF6692",
           "#B6E880",
           "#FF97FF",
           "#FECB52"
          ],
          "font": {
           "color": "#2a3f5f"
          },
          "geo": {
           "bgcolor": "white",
           "lakecolor": "white",
           "landcolor": "#E5ECF6",
           "showlakes": true,
           "showland": true,
           "subunitcolor": "white"
          },
          "hoverlabel": {
           "align": "left"
          },
          "hovermode": "closest",
          "mapbox": {
           "style": "light"
          },
          "paper_bgcolor": "white",
          "plot_bgcolor": "#E5ECF6",
          "polar": {
           "angularaxis": {
            "gridcolor": "white",
            "linecolor": "white",
            "ticks": ""
           },
           "bgcolor": "#E5ECF6",
           "radialaxis": {
            "gridcolor": "white",
            "linecolor": "white",
            "ticks": ""
           }
          },
          "scene": {
           "xaxis": {
            "backgroundcolor": "#E5ECF6",
            "gridcolor": "white",
            "gridwidth": 2,
            "linecolor": "white",
            "showbackground": true,
            "ticks": "",
            "zerolinecolor": "white"
           },
           "yaxis": {
            "backgroundcolor": "#E5ECF6",
            "gridcolor": "white",
            "gridwidth": 2,
            "linecolor": "white",
            "showbackground": true,
            "ticks": "",
            "zerolinecolor": "white"
           },
           "zaxis": {
            "backgroundcolor": "#E5ECF6",
            "gridcolor": "white",
            "gridwidth": 2,
            "linecolor": "white",
            "showbackground": true,
            "ticks": "",
            "zerolinecolor": "white"
           }
          },
          "shapedefaults": {
           "line": {
            "color": "#2a3f5f"
           }
          },
          "ternary": {
           "aaxis": {
            "gridcolor": "white",
            "linecolor": "white",
            "ticks": ""
           },
           "baxis": {
            "gridcolor": "white",
            "linecolor": "white",
            "ticks": ""
           },
           "bgcolor": "#E5ECF6",
           "caxis": {
            "gridcolor": "white",
            "linecolor": "white",
            "ticks": ""
           }
          },
          "title": {
           "x": 0.05
          },
          "xaxis": {
           "automargin": true,
           "gridcolor": "white",
           "linecolor": "white",
           "ticks": "",
           "title": {
            "standoff": 15
           },
           "zerolinecolor": "white",
           "zerolinewidth": 2
          },
          "yaxis": {
           "automargin": true,
           "gridcolor": "white",
           "linecolor": "white",
           "ticks": "",
           "title": {
            "standoff": 15
           },
           "zerolinecolor": "white",
           "zerolinewidth": 2
          }
         }
        }
       }
      }
     },
     "metadata": {},
     "output_type": "display_data"
    }
   ],
   "source": [
    "# What does the weekly user activity look like?\n",
    "indices = [x for x in unique_users_dayofweek_freq.keys()]\n",
    "values = [x for x in unique_users_dayofweek_freq.values()]\n",
    "\n",
    "fig = go.Figure()\n",
    "\n",
    "# Add traces\n",
    "fig.add_trace(go.Scatter(x = indices, y = values,\n",
    "                         mode = 'markers'\n",
    "                         )\n",
    "\n",
    ")\n",
    "\n",
    "fig.show()"
   ]
  },
  {
   "cell_type": "markdown",
   "id": "b267f604",
   "metadata": {},
   "source": [
    "What is the distribution of topics people view?"
   ]
  },
  {
   "cell_type": "code",
   "execution_count": 295,
   "id": "d2dbd159",
   "metadata": {},
   "outputs": [],
   "source": [
    "# Let's get unique_user_ids topics\n",
    "\n",
    "## Get all unique ids in a list\n",
    "\n",
    "unique_user_ids = df['user_id'].values[0:1000]\n",
    "\n",
    "# Create dictionaries\n",
    "unique_users_topics_freq= {}\n",
    "unique_topic_scroll_freq = {}\n",
    "unique_topic_read_freq = {}\n",
    "\n",
    "for id in unique_user_ids:\n",
    "    # Get the subset of that user id\n",
    "    tmp_df = df[df['user_id'] == id]\n",
    "\n",
    "    # Now lets go through each topic\n",
    "    indices = np.array(tmp_df.index)\n",
    "    for i in indices:\n",
    "        tmp_topics = tmp_df['topics'][i]\n",
    "        tmp_scroll = tmp_df['scroll_percentage'][i]\n",
    "        tmp_read = tmp_df['read_time'][i]\n",
    "\n",
    "        topics = [x for x in tmp_topics]\n",
    "        scroll = [tmp_scroll]\n",
    "        read = [tmp_read]\n",
    "\n",
    "            \n",
    "    # Find the average scroll percentages across each topic  (Can be related to whether a topic doesnt require too much reading has visualizations)\n",
    "\n",
    "    ## Group by user ID\n",
    "    ### Look at article_id for whichever topics the article is included in add that readtime and scroll percentage\n",
    "        tmp_dict = {k:v for k,v in zip(topics, scroll)}\n",
    "\n",
    "        for k,v in zip(tmp_dict.keys(), tmp_dict.values()):\n",
    "\n",
    "            if (k in unique_topic_scroll_freq.keys()):\n",
    "                tmp_array= np.append(unique_topic_scroll_freq[k],v)\n",
    "                unique_topic_scroll_freq[k] = tmp_array\n",
    "            if (k not in unique_topic_scroll_freq.keys()):\n",
    "                unique_topic_scroll_freq[k] = []\n",
    "\n",
    "    # Find the average read time across each topic\n",
    "    ## Group by user ID\n",
    "    ### Look at article_id for whichever topics the article is included in add that readtime and scroll percentage\n",
    "        tmp_dict = {k:v for k,v in zip(topics, read)}\n",
    "\n",
    "        for k,v in zip(tmp_dict.keys(), tmp_dict.values()):\n",
    "\n",
    "            if (k in unique_topic_read_freq.keys()):\n",
    "                tmp_array= np.append(unique_topic_read_freq[k],v)\n",
    "                unique_topic_read_freq[k] = tmp_array\n",
    "            if (k not in unique_topic_read_freq.keys()):\n",
    "                unique_topic_read_freq[k] = []\n",
    "\n",
    "    \n",
    "    ## Unique User Topics\n",
    "    # Get rid of duplicate values\n",
    "    unique_topics = list(set(topics))\n",
    "\n",
    "    \n",
    "    # Populate our dict\n",
    "    for i in unique_topics:\n",
    "        \n",
    "        if i not in unique_users_topics_freq:\n",
    "            unique_users_topics_freq[i] = 1\n",
    "        else:\n",
    "            unique_users_topics_freq[i] +=1\n",
    "\n"
   ]
  },
  {
   "cell_type": "code",
   "execution_count": 296,
   "id": "72a26ee9",
   "metadata": {},
   "outputs": [
    {
     "data": {
      "application/vnd.plotly.v1+json": {
       "config": {
        "plotlyServerURL": "https://plot.ly"
       },
       "data": [
        {
         "textposition": "outside",
         "texttemplate": "%{text:.2s}",
         "type": "bar",
         "x": [
          "Kendt",
          "Sport",
          "Begivenhed",
          "Underholdning",
          "Sportsbegivenhed",
          "Kriminalitet",
          "Livsstil",
          "Politik",
          "Fodbold",
          "Erhverv",
          "Samfund",
          "Katastrofe",
          "Personfarlig kriminalitet",
          "Økonomi",
          "International politik",
          "Mindre ulykke",
          "Film og tv",
          "Konflikt og krig",
          "Privat virksomhed",
          "Transportmiddel",
          "National politik",
          "Musik og lyd",
          "Sundhed",
          "Sygdom og behandling",
          "Væbnet konflikt",
          "Ketcher- og batsport",
          "Partnerskab",
          "Mikro",
          "Krop og velvære",
          "Bil",
          "Underholdningsbegivenhed",
          "Familieliv",
          "Værdier",
          "Ansættelsesforhold",
          "Større katastrofe",
          "Personlig begivenhed",
          "Større transportmiddel",
          "Uddannelse",
          "Cykling",
          "Erotik",
          "Teknologi",
          "Reality",
          "Bolig",
          "Mad og drikke",
          "Vejr",
          "Videregående uddannelse",
          "Forbrugerelektronik",
          "Naturvidenskab",
          "Videnskab",
          "Makro",
          "Dyr",
          "Kunstig intelligens og software",
          "Kultur",
          "Motorsport",
          "Køb og salg",
          "Bedrageri",
          "Offentlig instans",
          "Kosmetisk behandling",
          "Rejse",
          "Bandekriminalitet",
          "Ungdomsuddannelse",
          "Grundskole",
          "Mindre transportmiddel",
          "Renovering og indretning",
          "Byliv",
          "Terror",
          "Kunst",
          "Litteratur",
          "Religion"
         ],
         "y": [
          349,
          258,
          238,
          213,
          177,
          169,
          144,
          143,
          140,
          138,
          122,
          116,
          114,
          97,
          91,
          87,
          86,
          82,
          82,
          78,
          72,
          71,
          63,
          58,
          56,
          55,
          46,
          45,
          39,
          36,
          36,
          33,
          33,
          31,
          30,
          30,
          28,
          27,
          27,
          24,
          23,
          20,
          20,
          19,
          16,
          15,
          12,
          11,
          11,
          10,
          10,
          10,
          9,
          8,
          7,
          5,
          5,
          4,
          4,
          4,
          4,
          4,
          4,
          2,
          2,
          1,
          1,
          1,
          1
         ]
        }
       ],
       "layout": {
        "template": {
         "data": {
          "bar": [
           {
            "error_x": {
             "color": "#2a3f5f"
            },
            "error_y": {
             "color": "#2a3f5f"
            },
            "marker": {
             "line": {
              "color": "#E5ECF6",
              "width": 0.5
             },
             "pattern": {
              "fillmode": "overlay",
              "size": 10,
              "solidity": 0.2
             }
            },
            "type": "bar"
           }
          ],
          "barpolar": [
           {
            "marker": {
             "line": {
              "color": "#E5ECF6",
              "width": 0.5
             },
             "pattern": {
              "fillmode": "overlay",
              "size": 10,
              "solidity": 0.2
             }
            },
            "type": "barpolar"
           }
          ],
          "carpet": [
           {
            "aaxis": {
             "endlinecolor": "#2a3f5f",
             "gridcolor": "white",
             "linecolor": "white",
             "minorgridcolor": "white",
             "startlinecolor": "#2a3f5f"
            },
            "baxis": {
             "endlinecolor": "#2a3f5f",
             "gridcolor": "white",
             "linecolor": "white",
             "minorgridcolor": "white",
             "startlinecolor": "#2a3f5f"
            },
            "type": "carpet"
           }
          ],
          "choropleth": [
           {
            "colorbar": {
             "outlinewidth": 0,
             "ticks": ""
            },
            "type": "choropleth"
           }
          ],
          "contour": [
           {
            "colorbar": {
             "outlinewidth": 0,
             "ticks": ""
            },
            "colorscale": [
             [
              0,
              "#0d0887"
             ],
             [
              0.1111111111111111,
              "#46039f"
             ],
             [
              0.2222222222222222,
              "#7201a8"
             ],
             [
              0.3333333333333333,
              "#9c179e"
             ],
             [
              0.4444444444444444,
              "#bd3786"
             ],
             [
              0.5555555555555556,
              "#d8576b"
             ],
             [
              0.6666666666666666,
              "#ed7953"
             ],
             [
              0.7777777777777778,
              "#fb9f3a"
             ],
             [
              0.8888888888888888,
              "#fdca26"
             ],
             [
              1,
              "#f0f921"
             ]
            ],
            "type": "contour"
           }
          ],
          "contourcarpet": [
           {
            "colorbar": {
             "outlinewidth": 0,
             "ticks": ""
            },
            "type": "contourcarpet"
           }
          ],
          "heatmap": [
           {
            "colorbar": {
             "outlinewidth": 0,
             "ticks": ""
            },
            "colorscale": [
             [
              0,
              "#0d0887"
             ],
             [
              0.1111111111111111,
              "#46039f"
             ],
             [
              0.2222222222222222,
              "#7201a8"
             ],
             [
              0.3333333333333333,
              "#9c179e"
             ],
             [
              0.4444444444444444,
              "#bd3786"
             ],
             [
              0.5555555555555556,
              "#d8576b"
             ],
             [
              0.6666666666666666,
              "#ed7953"
             ],
             [
              0.7777777777777778,
              "#fb9f3a"
             ],
             [
              0.8888888888888888,
              "#fdca26"
             ],
             [
              1,
              "#f0f921"
             ]
            ],
            "type": "heatmap"
           }
          ],
          "heatmapgl": [
           {
            "colorbar": {
             "outlinewidth": 0,
             "ticks": ""
            },
            "colorscale": [
             [
              0,
              "#0d0887"
             ],
             [
              0.1111111111111111,
              "#46039f"
             ],
             [
              0.2222222222222222,
              "#7201a8"
             ],
             [
              0.3333333333333333,
              "#9c179e"
             ],
             [
              0.4444444444444444,
              "#bd3786"
             ],
             [
              0.5555555555555556,
              "#d8576b"
             ],
             [
              0.6666666666666666,
              "#ed7953"
             ],
             [
              0.7777777777777778,
              "#fb9f3a"
             ],
             [
              0.8888888888888888,
              "#fdca26"
             ],
             [
              1,
              "#f0f921"
             ]
            ],
            "type": "heatmapgl"
           }
          ],
          "histogram": [
           {
            "marker": {
             "pattern": {
              "fillmode": "overlay",
              "size": 10,
              "solidity": 0.2
             }
            },
            "type": "histogram"
           }
          ],
          "histogram2d": [
           {
            "colorbar": {
             "outlinewidth": 0,
             "ticks": ""
            },
            "colorscale": [
             [
              0,
              "#0d0887"
             ],
             [
              0.1111111111111111,
              "#46039f"
             ],
             [
              0.2222222222222222,
              "#7201a8"
             ],
             [
              0.3333333333333333,
              "#9c179e"
             ],
             [
              0.4444444444444444,
              "#bd3786"
             ],
             [
              0.5555555555555556,
              "#d8576b"
             ],
             [
              0.6666666666666666,
              "#ed7953"
             ],
             [
              0.7777777777777778,
              "#fb9f3a"
             ],
             [
              0.8888888888888888,
              "#fdca26"
             ],
             [
              1,
              "#f0f921"
             ]
            ],
            "type": "histogram2d"
           }
          ],
          "histogram2dcontour": [
           {
            "colorbar": {
             "outlinewidth": 0,
             "ticks": ""
            },
            "colorscale": [
             [
              0,
              "#0d0887"
             ],
             [
              0.1111111111111111,
              "#46039f"
             ],
             [
              0.2222222222222222,
              "#7201a8"
             ],
             [
              0.3333333333333333,
              "#9c179e"
             ],
             [
              0.4444444444444444,
              "#bd3786"
             ],
             [
              0.5555555555555556,
              "#d8576b"
             ],
             [
              0.6666666666666666,
              "#ed7953"
             ],
             [
              0.7777777777777778,
              "#fb9f3a"
             ],
             [
              0.8888888888888888,
              "#fdca26"
             ],
             [
              1,
              "#f0f921"
             ]
            ],
            "type": "histogram2dcontour"
           }
          ],
          "mesh3d": [
           {
            "colorbar": {
             "outlinewidth": 0,
             "ticks": ""
            },
            "type": "mesh3d"
           }
          ],
          "parcoords": [
           {
            "line": {
             "colorbar": {
              "outlinewidth": 0,
              "ticks": ""
             }
            },
            "type": "parcoords"
           }
          ],
          "pie": [
           {
            "automargin": true,
            "type": "pie"
           }
          ],
          "scatter": [
           {
            "fillpattern": {
             "fillmode": "overlay",
             "size": 10,
             "solidity": 0.2
            },
            "type": "scatter"
           }
          ],
          "scatter3d": [
           {
            "line": {
             "colorbar": {
              "outlinewidth": 0,
              "ticks": ""
             }
            },
            "marker": {
             "colorbar": {
              "outlinewidth": 0,
              "ticks": ""
             }
            },
            "type": "scatter3d"
           }
          ],
          "scattercarpet": [
           {
            "marker": {
             "colorbar": {
              "outlinewidth": 0,
              "ticks": ""
             }
            },
            "type": "scattercarpet"
           }
          ],
          "scattergeo": [
           {
            "marker": {
             "colorbar": {
              "outlinewidth": 0,
              "ticks": ""
             }
            },
            "type": "scattergeo"
           }
          ],
          "scattergl": [
           {
            "marker": {
             "colorbar": {
              "outlinewidth": 0,
              "ticks": ""
             }
            },
            "type": "scattergl"
           }
          ],
          "scattermapbox": [
           {
            "marker": {
             "colorbar": {
              "outlinewidth": 0,
              "ticks": ""
             }
            },
            "type": "scattermapbox"
           }
          ],
          "scatterpolar": [
           {
            "marker": {
             "colorbar": {
              "outlinewidth": 0,
              "ticks": ""
             }
            },
            "type": "scatterpolar"
           }
          ],
          "scatterpolargl": [
           {
            "marker": {
             "colorbar": {
              "outlinewidth": 0,
              "ticks": ""
             }
            },
            "type": "scatterpolargl"
           }
          ],
          "scatterternary": [
           {
            "marker": {
             "colorbar": {
              "outlinewidth": 0,
              "ticks": ""
             }
            },
            "type": "scatterternary"
           }
          ],
          "surface": [
           {
            "colorbar": {
             "outlinewidth": 0,
             "ticks": ""
            },
            "colorscale": [
             [
              0,
              "#0d0887"
             ],
             [
              0.1111111111111111,
              "#46039f"
             ],
             [
              0.2222222222222222,
              "#7201a8"
             ],
             [
              0.3333333333333333,
              "#9c179e"
             ],
             [
              0.4444444444444444,
              "#bd3786"
             ],
             [
              0.5555555555555556,
              "#d8576b"
             ],
             [
              0.6666666666666666,
              "#ed7953"
             ],
             [
              0.7777777777777778,
              "#fb9f3a"
             ],
             [
              0.8888888888888888,
              "#fdca26"
             ],
             [
              1,
              "#f0f921"
             ]
            ],
            "type": "surface"
           }
          ],
          "table": [
           {
            "cells": {
             "fill": {
              "color": "#EBF0F8"
             },
             "line": {
              "color": "white"
             }
            },
            "header": {
             "fill": {
              "color": "#C8D4E3"
             },
             "line": {
              "color": "white"
             }
            },
            "type": "table"
           }
          ]
         },
         "layout": {
          "annotationdefaults": {
           "arrowcolor": "#2a3f5f",
           "arrowhead": 0,
           "arrowwidth": 1
          },
          "autotypenumbers": "strict",
          "coloraxis": {
           "colorbar": {
            "outlinewidth": 0,
            "ticks": ""
           }
          },
          "colorscale": {
           "diverging": [
            [
             0,
             "#8e0152"
            ],
            [
             0.1,
             "#c51b7d"
            ],
            [
             0.2,
             "#de77ae"
            ],
            [
             0.3,
             "#f1b6da"
            ],
            [
             0.4,
             "#fde0ef"
            ],
            [
             0.5,
             "#f7f7f7"
            ],
            [
             0.6,
             "#e6f5d0"
            ],
            [
             0.7,
             "#b8e186"
            ],
            [
             0.8,
             "#7fbc41"
            ],
            [
             0.9,
             "#4d9221"
            ],
            [
             1,
             "#276419"
            ]
           ],
           "sequential": [
            [
             0,
             "#0d0887"
            ],
            [
             0.1111111111111111,
             "#46039f"
            ],
            [
             0.2222222222222222,
             "#7201a8"
            ],
            [
             0.3333333333333333,
             "#9c179e"
            ],
            [
             0.4444444444444444,
             "#bd3786"
            ],
            [
             0.5555555555555556,
             "#d8576b"
            ],
            [
             0.6666666666666666,
             "#ed7953"
            ],
            [
             0.7777777777777778,
             "#fb9f3a"
            ],
            [
             0.8888888888888888,
             "#fdca26"
            ],
            [
             1,
             "#f0f921"
            ]
           ],
           "sequentialminus": [
            [
             0,
             "#0d0887"
            ],
            [
             0.1111111111111111,
             "#46039f"
            ],
            [
             0.2222222222222222,
             "#7201a8"
            ],
            [
             0.3333333333333333,
             "#9c179e"
            ],
            [
             0.4444444444444444,
             "#bd3786"
            ],
            [
             0.5555555555555556,
             "#d8576b"
            ],
            [
             0.6666666666666666,
             "#ed7953"
            ],
            [
             0.7777777777777778,
             "#fb9f3a"
            ],
            [
             0.8888888888888888,
             "#fdca26"
            ],
            [
             1,
             "#f0f921"
            ]
           ]
          },
          "colorway": [
           "#636efa",
           "#EF553B",
           "#00cc96",
           "#ab63fa",
           "#FFA15A",
           "#19d3f3",
           "#FF6692",
           "#B6E880",
           "#FF97FF",
           "#FECB52"
          ],
          "font": {
           "color": "#2a3f5f"
          },
          "geo": {
           "bgcolor": "white",
           "lakecolor": "white",
           "landcolor": "#E5ECF6",
           "showlakes": true,
           "showland": true,
           "subunitcolor": "white"
          },
          "hoverlabel": {
           "align": "left"
          },
          "hovermode": "closest",
          "mapbox": {
           "style": "light"
          },
          "paper_bgcolor": "white",
          "plot_bgcolor": "#E5ECF6",
          "polar": {
           "angularaxis": {
            "gridcolor": "white",
            "linecolor": "white",
            "ticks": ""
           },
           "bgcolor": "#E5ECF6",
           "radialaxis": {
            "gridcolor": "white",
            "linecolor": "white",
            "ticks": ""
           }
          },
          "scene": {
           "xaxis": {
            "backgroundcolor": "#E5ECF6",
            "gridcolor": "white",
            "gridwidth": 2,
            "linecolor": "white",
            "showbackground": true,
            "ticks": "",
            "zerolinecolor": "white"
           },
           "yaxis": {
            "backgroundcolor": "#E5ECF6",
            "gridcolor": "white",
            "gridwidth": 2,
            "linecolor": "white",
            "showbackground": true,
            "ticks": "",
            "zerolinecolor": "white"
           },
           "zaxis": {
            "backgroundcolor": "#E5ECF6",
            "gridcolor": "white",
            "gridwidth": 2,
            "linecolor": "white",
            "showbackground": true,
            "ticks": "",
            "zerolinecolor": "white"
           }
          },
          "shapedefaults": {
           "line": {
            "color": "#2a3f5f"
           }
          },
          "ternary": {
           "aaxis": {
            "gridcolor": "white",
            "linecolor": "white",
            "ticks": ""
           },
           "baxis": {
            "gridcolor": "white",
            "linecolor": "white",
            "ticks": ""
           },
           "bgcolor": "#E5ECF6",
           "caxis": {
            "gridcolor": "white",
            "linecolor": "white",
            "ticks": ""
           }
          },
          "title": {
           "x": 0.05
          },
          "xaxis": {
           "automargin": true,
           "gridcolor": "white",
           "linecolor": "white",
           "ticks": "",
           "title": {
            "standoff": 15
           },
           "zerolinecolor": "white",
           "zerolinewidth": 2
          },
          "yaxis": {
           "automargin": true,
           "gridcolor": "white",
           "linecolor": "white",
           "ticks": "",
           "title": {
            "standoff": 15
           },
           "zerolinecolor": "white",
           "zerolinewidth": 2
          }
         }
        },
        "uniformtext": {
         "minsize": 8,
         "mode": "hide"
        }
       }
      }
     },
     "metadata": {},
     "output_type": "display_data"
    }
   ],
   "source": [
    "# What does the distribution of topics look like lets sort it?\n",
    "sorted_topic_freq = dict(sorted(unique_users_topics_freq.items(), key = lambda x: x[1], reverse = True))\n",
    "\n",
    "\n",
    "indices = [x for x in sorted_topic_freq.keys()]\n",
    "values = [x for x in sorted_topic_freq.values()]\n",
    "\n",
    "fig = go.Figure()\n",
    "\n",
    "# Add traces\n",
    "fig.add_trace(go.Bar(x = indices, y = values,\n",
    "                         \n",
    "                         )\n",
    "\n",
    ")\n",
    "\n",
    "fig.update_traces(texttemplate='%{text:.2s}', textposition='outside')\n",
    "fig.update_layout(uniformtext_minsize=8, uniformtext_mode='hide')\n",
    "\n",
    "fig.show()"
   ]
  },
  {
   "cell_type": "code",
   "execution_count": 297,
   "id": "0e828696",
   "metadata": {},
   "outputs": [
    {
     "data": {
      "application/vnd.plotly.v1+json": {
       "config": {
        "plotlyServerURL": "https://plot.ly"
       },
       "data": [
        {
         "textposition": "outside",
         "texttemplate": "%{text:.2s}",
         "type": "bar",
         "x": [
          "Kultur",
          "Teknologi",
          "Videnskab",
          "Sundhed",
          "Vejr",
          "Uddannelse",
          "Sport",
          "Konflikt og krig",
          "International politik",
          "Bolig",
          "Økonomi",
          "Politik",
          "Dyr",
          "Livsstil",
          "Kendt",
          "Kriminalitet",
          "Erhverv",
          "Begivenhed",
          "Transportmiddel",
          "Samfund",
          "Katastrofe",
          "Underholdning"
         ],
         "y": [
          100,
          100,
          100,
          100,
          100,
          100,
          100,
          100,
          100,
          100,
          99.95465994962217,
          99.8318863456985,
          99.77405857740585,
          99.74343776460627,
          99.68197234542134,
          99.66163745285112,
          99.54007633587786,
          99.44705136334812,
          99.43041237113403,
          99.42679127725857,
          99.14993804213135,
          98.94368600682594
         ]
        }
       ],
       "layout": {
        "template": {
         "data": {
          "bar": [
           {
            "error_x": {
             "color": "#2a3f5f"
            },
            "error_y": {
             "color": "#2a3f5f"
            },
            "marker": {
             "line": {
              "color": "#E5ECF6",
              "width": 0.5
             },
             "pattern": {
              "fillmode": "overlay",
              "size": 10,
              "solidity": 0.2
             }
            },
            "type": "bar"
           }
          ],
          "barpolar": [
           {
            "marker": {
             "line": {
              "color": "#E5ECF6",
              "width": 0.5
             },
             "pattern": {
              "fillmode": "overlay",
              "size": 10,
              "solidity": 0.2
             }
            },
            "type": "barpolar"
           }
          ],
          "carpet": [
           {
            "aaxis": {
             "endlinecolor": "#2a3f5f",
             "gridcolor": "white",
             "linecolor": "white",
             "minorgridcolor": "white",
             "startlinecolor": "#2a3f5f"
            },
            "baxis": {
             "endlinecolor": "#2a3f5f",
             "gridcolor": "white",
             "linecolor": "white",
             "minorgridcolor": "white",
             "startlinecolor": "#2a3f5f"
            },
            "type": "carpet"
           }
          ],
          "choropleth": [
           {
            "colorbar": {
             "outlinewidth": 0,
             "ticks": ""
            },
            "type": "choropleth"
           }
          ],
          "contour": [
           {
            "colorbar": {
             "outlinewidth": 0,
             "ticks": ""
            },
            "colorscale": [
             [
              0,
              "#0d0887"
             ],
             [
              0.1111111111111111,
              "#46039f"
             ],
             [
              0.2222222222222222,
              "#7201a8"
             ],
             [
              0.3333333333333333,
              "#9c179e"
             ],
             [
              0.4444444444444444,
              "#bd3786"
             ],
             [
              0.5555555555555556,
              "#d8576b"
             ],
             [
              0.6666666666666666,
              "#ed7953"
             ],
             [
              0.7777777777777778,
              "#fb9f3a"
             ],
             [
              0.8888888888888888,
              "#fdca26"
             ],
             [
              1,
              "#f0f921"
             ]
            ],
            "type": "contour"
           }
          ],
          "contourcarpet": [
           {
            "colorbar": {
             "outlinewidth": 0,
             "ticks": ""
            },
            "type": "contourcarpet"
           }
          ],
          "heatmap": [
           {
            "colorbar": {
             "outlinewidth": 0,
             "ticks": ""
            },
            "colorscale": [
             [
              0,
              "#0d0887"
             ],
             [
              0.1111111111111111,
              "#46039f"
             ],
             [
              0.2222222222222222,
              "#7201a8"
             ],
             [
              0.3333333333333333,
              "#9c179e"
             ],
             [
              0.4444444444444444,
              "#bd3786"
             ],
             [
              0.5555555555555556,
              "#d8576b"
             ],
             [
              0.6666666666666666,
              "#ed7953"
             ],
             [
              0.7777777777777778,
              "#fb9f3a"
             ],
             [
              0.8888888888888888,
              "#fdca26"
             ],
             [
              1,
              "#f0f921"
             ]
            ],
            "type": "heatmap"
           }
          ],
          "heatmapgl": [
           {
            "colorbar": {
             "outlinewidth": 0,
             "ticks": ""
            },
            "colorscale": [
             [
              0,
              "#0d0887"
             ],
             [
              0.1111111111111111,
              "#46039f"
             ],
             [
              0.2222222222222222,
              "#7201a8"
             ],
             [
              0.3333333333333333,
              "#9c179e"
             ],
             [
              0.4444444444444444,
              "#bd3786"
             ],
             [
              0.5555555555555556,
              "#d8576b"
             ],
             [
              0.6666666666666666,
              "#ed7953"
             ],
             [
              0.7777777777777778,
              "#fb9f3a"
             ],
             [
              0.8888888888888888,
              "#fdca26"
             ],
             [
              1,
              "#f0f921"
             ]
            ],
            "type": "heatmapgl"
           }
          ],
          "histogram": [
           {
            "marker": {
             "pattern": {
              "fillmode": "overlay",
              "size": 10,
              "solidity": 0.2
             }
            },
            "type": "histogram"
           }
          ],
          "histogram2d": [
           {
            "colorbar": {
             "outlinewidth": 0,
             "ticks": ""
            },
            "colorscale": [
             [
              0,
              "#0d0887"
             ],
             [
              0.1111111111111111,
              "#46039f"
             ],
             [
              0.2222222222222222,
              "#7201a8"
             ],
             [
              0.3333333333333333,
              "#9c179e"
             ],
             [
              0.4444444444444444,
              "#bd3786"
             ],
             [
              0.5555555555555556,
              "#d8576b"
             ],
             [
              0.6666666666666666,
              "#ed7953"
             ],
             [
              0.7777777777777778,
              "#fb9f3a"
             ],
             [
              0.8888888888888888,
              "#fdca26"
             ],
             [
              1,
              "#f0f921"
             ]
            ],
            "type": "histogram2d"
           }
          ],
          "histogram2dcontour": [
           {
            "colorbar": {
             "outlinewidth": 0,
             "ticks": ""
            },
            "colorscale": [
             [
              0,
              "#0d0887"
             ],
             [
              0.1111111111111111,
              "#46039f"
             ],
             [
              0.2222222222222222,
              "#7201a8"
             ],
             [
              0.3333333333333333,
              "#9c179e"
             ],
             [
              0.4444444444444444,
              "#bd3786"
             ],
             [
              0.5555555555555556,
              "#d8576b"
             ],
             [
              0.6666666666666666,
              "#ed7953"
             ],
             [
              0.7777777777777778,
              "#fb9f3a"
             ],
             [
              0.8888888888888888,
              "#fdca26"
             ],
             [
              1,
              "#f0f921"
             ]
            ],
            "type": "histogram2dcontour"
           }
          ],
          "mesh3d": [
           {
            "colorbar": {
             "outlinewidth": 0,
             "ticks": ""
            },
            "type": "mesh3d"
           }
          ],
          "parcoords": [
           {
            "line": {
             "colorbar": {
              "outlinewidth": 0,
              "ticks": ""
             }
            },
            "type": "parcoords"
           }
          ],
          "pie": [
           {
            "automargin": true,
            "type": "pie"
           }
          ],
          "scatter": [
           {
            "fillpattern": {
             "fillmode": "overlay",
             "size": 10,
             "solidity": 0.2
            },
            "type": "scatter"
           }
          ],
          "scatter3d": [
           {
            "line": {
             "colorbar": {
              "outlinewidth": 0,
              "ticks": ""
             }
            },
            "marker": {
             "colorbar": {
              "outlinewidth": 0,
              "ticks": ""
             }
            },
            "type": "scatter3d"
           }
          ],
          "scattercarpet": [
           {
            "marker": {
             "colorbar": {
              "outlinewidth": 0,
              "ticks": ""
             }
            },
            "type": "scattercarpet"
           }
          ],
          "scattergeo": [
           {
            "marker": {
             "colorbar": {
              "outlinewidth": 0,
              "ticks": ""
             }
            },
            "type": "scattergeo"
           }
          ],
          "scattergl": [
           {
            "marker": {
             "colorbar": {
              "outlinewidth": 0,
              "ticks": ""
             }
            },
            "type": "scattergl"
           }
          ],
          "scattermapbox": [
           {
            "marker": {
             "colorbar": {
              "outlinewidth": 0,
              "ticks": ""
             }
            },
            "type": "scattermapbox"
           }
          ],
          "scatterpolar": [
           {
            "marker": {
             "colorbar": {
              "outlinewidth": 0,
              "ticks": ""
             }
            },
            "type": "scatterpolar"
           }
          ],
          "scatterpolargl": [
           {
            "marker": {
             "colorbar": {
              "outlinewidth": 0,
              "ticks": ""
             }
            },
            "type": "scatterpolargl"
           }
          ],
          "scatterternary": [
           {
            "marker": {
             "colorbar": {
              "outlinewidth": 0,
              "ticks": ""
             }
            },
            "type": "scatterternary"
           }
          ],
          "surface": [
           {
            "colorbar": {
             "outlinewidth": 0,
             "ticks": ""
            },
            "colorscale": [
             [
              0,
              "#0d0887"
             ],
             [
              0.1111111111111111,
              "#46039f"
             ],
             [
              0.2222222222222222,
              "#7201a8"
             ],
             [
              0.3333333333333333,
              "#9c179e"
             ],
             [
              0.4444444444444444,
              "#bd3786"
             ],
             [
              0.5555555555555556,
              "#d8576b"
             ],
             [
              0.6666666666666666,
              "#ed7953"
             ],
             [
              0.7777777777777778,
              "#fb9f3a"
             ],
             [
              0.8888888888888888,
              "#fdca26"
             ],
             [
              1,
              "#f0f921"
             ]
            ],
            "type": "surface"
           }
          ],
          "table": [
           {
            "cells": {
             "fill": {
              "color": "#EBF0F8"
             },
             "line": {
              "color": "white"
             }
            },
            "header": {
             "fill": {
              "color": "#C8D4E3"
             },
             "line": {
              "color": "white"
             }
            },
            "type": "table"
           }
          ]
         },
         "layout": {
          "annotationdefaults": {
           "arrowcolor": "#2a3f5f",
           "arrowhead": 0,
           "arrowwidth": 1
          },
          "autotypenumbers": "strict",
          "coloraxis": {
           "colorbar": {
            "outlinewidth": 0,
            "ticks": ""
           }
          },
          "colorscale": {
           "diverging": [
            [
             0,
             "#8e0152"
            ],
            [
             0.1,
             "#c51b7d"
            ],
            [
             0.2,
             "#de77ae"
            ],
            [
             0.3,
             "#f1b6da"
            ],
            [
             0.4,
             "#fde0ef"
            ],
            [
             0.5,
             "#f7f7f7"
            ],
            [
             0.6,
             "#e6f5d0"
            ],
            [
             0.7,
             "#b8e186"
            ],
            [
             0.8,
             "#7fbc41"
            ],
            [
             0.9,
             "#4d9221"
            ],
            [
             1,
             "#276419"
            ]
           ],
           "sequential": [
            [
             0,
             "#0d0887"
            ],
            [
             0.1111111111111111,
             "#46039f"
            ],
            [
             0.2222222222222222,
             "#7201a8"
            ],
            [
             0.3333333333333333,
             "#9c179e"
            ],
            [
             0.4444444444444444,
             "#bd3786"
            ],
            [
             0.5555555555555556,
             "#d8576b"
            ],
            [
             0.6666666666666666,
             "#ed7953"
            ],
            [
             0.7777777777777778,
             "#fb9f3a"
            ],
            [
             0.8888888888888888,
             "#fdca26"
            ],
            [
             1,
             "#f0f921"
            ]
           ],
           "sequentialminus": [
            [
             0,
             "#0d0887"
            ],
            [
             0.1111111111111111,
             "#46039f"
            ],
            [
             0.2222222222222222,
             "#7201a8"
            ],
            [
             0.3333333333333333,
             "#9c179e"
            ],
            [
             0.4444444444444444,
             "#bd3786"
            ],
            [
             0.5555555555555556,
             "#d8576b"
            ],
            [
             0.6666666666666666,
             "#ed7953"
            ],
            [
             0.7777777777777778,
             "#fb9f3a"
            ],
            [
             0.8888888888888888,
             "#fdca26"
            ],
            [
             1,
             "#f0f921"
            ]
           ]
          },
          "colorway": [
           "#636efa",
           "#EF553B",
           "#00cc96",
           "#ab63fa",
           "#FFA15A",
           "#19d3f3",
           "#FF6692",
           "#B6E880",
           "#FF97FF",
           "#FECB52"
          ],
          "font": {
           "color": "#2a3f5f"
          },
          "geo": {
           "bgcolor": "white",
           "lakecolor": "white",
           "landcolor": "#E5ECF6",
           "showlakes": true,
           "showland": true,
           "subunitcolor": "white"
          },
          "hoverlabel": {
           "align": "left"
          },
          "hovermode": "closest",
          "mapbox": {
           "style": "light"
          },
          "paper_bgcolor": "white",
          "plot_bgcolor": "#E5ECF6",
          "polar": {
           "angularaxis": {
            "gridcolor": "white",
            "linecolor": "white",
            "ticks": ""
           },
           "bgcolor": "#E5ECF6",
           "radialaxis": {
            "gridcolor": "white",
            "linecolor": "white",
            "ticks": ""
           }
          },
          "scene": {
           "xaxis": {
            "backgroundcolor": "#E5ECF6",
            "gridcolor": "white",
            "gridwidth": 2,
            "linecolor": "white",
            "showbackground": true,
            "ticks": "",
            "zerolinecolor": "white"
           },
           "yaxis": {
            "backgroundcolor": "#E5ECF6",
            "gridcolor": "white",
            "gridwidth": 2,
            "linecolor": "white",
            "showbackground": true,
            "ticks": "",
            "zerolinecolor": "white"
           },
           "zaxis": {
            "backgroundcolor": "#E5ECF6",
            "gridcolor": "white",
            "gridwidth": 2,
            "linecolor": "white",
            "showbackground": true,
            "ticks": "",
            "zerolinecolor": "white"
           }
          },
          "shapedefaults": {
           "line": {
            "color": "#2a3f5f"
           }
          },
          "ternary": {
           "aaxis": {
            "gridcolor": "white",
            "linecolor": "white",
            "ticks": ""
           },
           "baxis": {
            "gridcolor": "white",
            "linecolor": "white",
            "ticks": ""
           },
           "bgcolor": "#E5ECF6",
           "caxis": {
            "gridcolor": "white",
            "linecolor": "white",
            "ticks": ""
           }
          },
          "title": {
           "x": 0.05
          },
          "xaxis": {
           "automargin": true,
           "gridcolor": "white",
           "linecolor": "white",
           "ticks": "",
           "title": {
            "standoff": 15
           },
           "zerolinecolor": "white",
           "zerolinewidth": 2
          },
          "yaxis": {
           "automargin": true,
           "gridcolor": "white",
           "linecolor": "white",
           "ticks": "",
           "title": {
            "standoff": 15
           },
           "zerolinecolor": "white",
           "zerolinewidth": 2
          }
         }
        },
        "uniformtext": {
         "minsize": 8,
         "mode": "hide"
        }
       }
      }
     },
     "metadata": {},
     "output_type": "display_data"
    }
   ],
   "source": [
    "# Find the average scroll percentages across each topic\n",
    "\n",
    "# Get the average scroll length for each article\n",
    "for k,v in zip(unique_topic_scroll_freq.keys(), unique_topic_scroll_freq.values()):\n",
    "    unique_topic_scroll_freq[k] = np.nanmean(v)\n",
    "\n",
    "sorted_unique_topic_scroll_freq = dict(sorted(unique_topic_scroll_freq.items(), key = lambda x: x[1], reverse = True))\n",
    "\n",
    "\n",
    "indices = [x for x in sorted_unique_topic_scroll_freq . keys()]\n",
    "values = [x for x in sorted_unique_topic_scroll_freq.values()]\n",
    "\n",
    "fig = go.Figure()\n",
    "\n",
    "# Add traces\n",
    "fig.add_trace(go.Bar(x = indices, y = values,\n",
    "                         \n",
    "                         )\n",
    "\n",
    ")\n",
    "\n",
    "fig.update_traces(texttemplate='%{text:.2s}', textposition='outside')\n",
    "fig.update_layout(uniformtext_minsize=8, uniformtext_mode='hide')\n",
    "\n",
    "fig.show()"
   ]
  },
  {
   "cell_type": "code",
   "execution_count": 298,
   "id": "e3c0089f",
   "metadata": {},
   "outputs": [
    {
     "data": {
      "application/vnd.plotly.v1+json": {
       "config": {
        "plotlyServerURL": "https://plot.ly"
       },
       "data": [
        {
         "textposition": "outside",
         "texttemplate": "%{text:.2s}",
         "type": "bar",
         "x": [
          "Sundhed",
          "Bolig",
          "Konflikt og krig",
          "Underholdning",
          "Begivenhed",
          "Dyr",
          "Livsstil",
          "Politik",
          "Kendt",
          "Uddannelse",
          "Kriminalitet",
          "Erhverv",
          "Samfund",
          "Sport",
          "Transportmiddel",
          "Kultur",
          "International politik",
          "Katastrofe",
          "Økonomi",
          "Teknologi",
          "Vejr",
          "Videnskab"
         ],
         "y": [
          115.67567567567568,
          83.66666666666667,
          83.13978494623656,
          79.91162029459902,
          78.5314039408867,
          75.18326693227091,
          74.32678132678133,
          73.61740435108777,
          73.59816144062461,
          72.06862745098039,
          70.98032006920415,
          70.76377708978328,
          69.55332302936631,
          66.83333333333333,
          64.95141700404858,
          64.79611650485437,
          64.11538461538461,
          63.71325301204819,
          61.66981132075472,
          60.74285714285714,
          54.453125,
          48.161764705882355
         ]
        }
       ],
       "layout": {
        "template": {
         "data": {
          "bar": [
           {
            "error_x": {
             "color": "#2a3f5f"
            },
            "error_y": {
             "color": "#2a3f5f"
            },
            "marker": {
             "line": {
              "color": "#E5ECF6",
              "width": 0.5
             },
             "pattern": {
              "fillmode": "overlay",
              "size": 10,
              "solidity": 0.2
             }
            },
            "type": "bar"
           }
          ],
          "barpolar": [
           {
            "marker": {
             "line": {
              "color": "#E5ECF6",
              "width": 0.5
             },
             "pattern": {
              "fillmode": "overlay",
              "size": 10,
              "solidity": 0.2
             }
            },
            "type": "barpolar"
           }
          ],
          "carpet": [
           {
            "aaxis": {
             "endlinecolor": "#2a3f5f",
             "gridcolor": "white",
             "linecolor": "white",
             "minorgridcolor": "white",
             "startlinecolor": "#2a3f5f"
            },
            "baxis": {
             "endlinecolor": "#2a3f5f",
             "gridcolor": "white",
             "linecolor": "white",
             "minorgridcolor": "white",
             "startlinecolor": "#2a3f5f"
            },
            "type": "carpet"
           }
          ],
          "choropleth": [
           {
            "colorbar": {
             "outlinewidth": 0,
             "ticks": ""
            },
            "type": "choropleth"
           }
          ],
          "contour": [
           {
            "colorbar": {
             "outlinewidth": 0,
             "ticks": ""
            },
            "colorscale": [
             [
              0,
              "#0d0887"
             ],
             [
              0.1111111111111111,
              "#46039f"
             ],
             [
              0.2222222222222222,
              "#7201a8"
             ],
             [
              0.3333333333333333,
              "#9c179e"
             ],
             [
              0.4444444444444444,
              "#bd3786"
             ],
             [
              0.5555555555555556,
              "#d8576b"
             ],
             [
              0.6666666666666666,
              "#ed7953"
             ],
             [
              0.7777777777777778,
              "#fb9f3a"
             ],
             [
              0.8888888888888888,
              "#fdca26"
             ],
             [
              1,
              "#f0f921"
             ]
            ],
            "type": "contour"
           }
          ],
          "contourcarpet": [
           {
            "colorbar": {
             "outlinewidth": 0,
             "ticks": ""
            },
            "type": "contourcarpet"
           }
          ],
          "heatmap": [
           {
            "colorbar": {
             "outlinewidth": 0,
             "ticks": ""
            },
            "colorscale": [
             [
              0,
              "#0d0887"
             ],
             [
              0.1111111111111111,
              "#46039f"
             ],
             [
              0.2222222222222222,
              "#7201a8"
             ],
             [
              0.3333333333333333,
              "#9c179e"
             ],
             [
              0.4444444444444444,
              "#bd3786"
             ],
             [
              0.5555555555555556,
              "#d8576b"
             ],
             [
              0.6666666666666666,
              "#ed7953"
             ],
             [
              0.7777777777777778,
              "#fb9f3a"
             ],
             [
              0.8888888888888888,
              "#fdca26"
             ],
             [
              1,
              "#f0f921"
             ]
            ],
            "type": "heatmap"
           }
          ],
          "heatmapgl": [
           {
            "colorbar": {
             "outlinewidth": 0,
             "ticks": ""
            },
            "colorscale": [
             [
              0,
              "#0d0887"
             ],
             [
              0.1111111111111111,
              "#46039f"
             ],
             [
              0.2222222222222222,
              "#7201a8"
             ],
             [
              0.3333333333333333,
              "#9c179e"
             ],
             [
              0.4444444444444444,
              "#bd3786"
             ],
             [
              0.5555555555555556,
              "#d8576b"
             ],
             [
              0.6666666666666666,
              "#ed7953"
             ],
             [
              0.7777777777777778,
              "#fb9f3a"
             ],
             [
              0.8888888888888888,
              "#fdca26"
             ],
             [
              1,
              "#f0f921"
             ]
            ],
            "type": "heatmapgl"
           }
          ],
          "histogram": [
           {
            "marker": {
             "pattern": {
              "fillmode": "overlay",
              "size": 10,
              "solidity": 0.2
             }
            },
            "type": "histogram"
           }
          ],
          "histogram2d": [
           {
            "colorbar": {
             "outlinewidth": 0,
             "ticks": ""
            },
            "colorscale": [
             [
              0,
              "#0d0887"
             ],
             [
              0.1111111111111111,
              "#46039f"
             ],
             [
              0.2222222222222222,
              "#7201a8"
             ],
             [
              0.3333333333333333,
              "#9c179e"
             ],
             [
              0.4444444444444444,
              "#bd3786"
             ],
             [
              0.5555555555555556,
              "#d8576b"
             ],
             [
              0.6666666666666666,
              "#ed7953"
             ],
             [
              0.7777777777777778,
              "#fb9f3a"
             ],
             [
              0.8888888888888888,
              "#fdca26"
             ],
             [
              1,
              "#f0f921"
             ]
            ],
            "type": "histogram2d"
           }
          ],
          "histogram2dcontour": [
           {
            "colorbar": {
             "outlinewidth": 0,
             "ticks": ""
            },
            "colorscale": [
             [
              0,
              "#0d0887"
             ],
             [
              0.1111111111111111,
              "#46039f"
             ],
             [
              0.2222222222222222,
              "#7201a8"
             ],
             [
              0.3333333333333333,
              "#9c179e"
             ],
             [
              0.4444444444444444,
              "#bd3786"
             ],
             [
              0.5555555555555556,
              "#d8576b"
             ],
             [
              0.6666666666666666,
              "#ed7953"
             ],
             [
              0.7777777777777778,
              "#fb9f3a"
             ],
             [
              0.8888888888888888,
              "#fdca26"
             ],
             [
              1,
              "#f0f921"
             ]
            ],
            "type": "histogram2dcontour"
           }
          ],
          "mesh3d": [
           {
            "colorbar": {
             "outlinewidth": 0,
             "ticks": ""
            },
            "type": "mesh3d"
           }
          ],
          "parcoords": [
           {
            "line": {
             "colorbar": {
              "outlinewidth": 0,
              "ticks": ""
             }
            },
            "type": "parcoords"
           }
          ],
          "pie": [
           {
            "automargin": true,
            "type": "pie"
           }
          ],
          "scatter": [
           {
            "fillpattern": {
             "fillmode": "overlay",
             "size": 10,
             "solidity": 0.2
            },
            "type": "scatter"
           }
          ],
          "scatter3d": [
           {
            "line": {
             "colorbar": {
              "outlinewidth": 0,
              "ticks": ""
             }
            },
            "marker": {
             "colorbar": {
              "outlinewidth": 0,
              "ticks": ""
             }
            },
            "type": "scatter3d"
           }
          ],
          "scattercarpet": [
           {
            "marker": {
             "colorbar": {
              "outlinewidth": 0,
              "ticks": ""
             }
            },
            "type": "scattercarpet"
           }
          ],
          "scattergeo": [
           {
            "marker": {
             "colorbar": {
              "outlinewidth": 0,
              "ticks": ""
             }
            },
            "type": "scattergeo"
           }
          ],
          "scattergl": [
           {
            "marker": {
             "colorbar": {
              "outlinewidth": 0,
              "ticks": ""
             }
            },
            "type": "scattergl"
           }
          ],
          "scattermapbox": [
           {
            "marker": {
             "colorbar": {
              "outlinewidth": 0,
              "ticks": ""
             }
            },
            "type": "scattermapbox"
           }
          ],
          "scatterpolar": [
           {
            "marker": {
             "colorbar": {
              "outlinewidth": 0,
              "ticks": ""
             }
            },
            "type": "scatterpolar"
           }
          ],
          "scatterpolargl": [
           {
            "marker": {
             "colorbar": {
              "outlinewidth": 0,
              "ticks": ""
             }
            },
            "type": "scatterpolargl"
           }
          ],
          "scatterternary": [
           {
            "marker": {
             "colorbar": {
              "outlinewidth": 0,
              "ticks": ""
             }
            },
            "type": "scatterternary"
           }
          ],
          "surface": [
           {
            "colorbar": {
             "outlinewidth": 0,
             "ticks": ""
            },
            "colorscale": [
             [
              0,
              "#0d0887"
             ],
             [
              0.1111111111111111,
              "#46039f"
             ],
             [
              0.2222222222222222,
              "#7201a8"
             ],
             [
              0.3333333333333333,
              "#9c179e"
             ],
             [
              0.4444444444444444,
              "#bd3786"
             ],
             [
              0.5555555555555556,
              "#d8576b"
             ],
             [
              0.6666666666666666,
              "#ed7953"
             ],
             [
              0.7777777777777778,
              "#fb9f3a"
             ],
             [
              0.8888888888888888,
              "#fdca26"
             ],
             [
              1,
              "#f0f921"
             ]
            ],
            "type": "surface"
           }
          ],
          "table": [
           {
            "cells": {
             "fill": {
              "color": "#EBF0F8"
             },
             "line": {
              "color": "white"
             }
            },
            "header": {
             "fill": {
              "color": "#C8D4E3"
             },
             "line": {
              "color": "white"
             }
            },
            "type": "table"
           }
          ]
         },
         "layout": {
          "annotationdefaults": {
           "arrowcolor": "#2a3f5f",
           "arrowhead": 0,
           "arrowwidth": 1
          },
          "autotypenumbers": "strict",
          "coloraxis": {
           "colorbar": {
            "outlinewidth": 0,
            "ticks": ""
           }
          },
          "colorscale": {
           "diverging": [
            [
             0,
             "#8e0152"
            ],
            [
             0.1,
             "#c51b7d"
            ],
            [
             0.2,
             "#de77ae"
            ],
            [
             0.3,
             "#f1b6da"
            ],
            [
             0.4,
             "#fde0ef"
            ],
            [
             0.5,
             "#f7f7f7"
            ],
            [
             0.6,
             "#e6f5d0"
            ],
            [
             0.7,
             "#b8e186"
            ],
            [
             0.8,
             "#7fbc41"
            ],
            [
             0.9,
             "#4d9221"
            ],
            [
             1,
             "#276419"
            ]
           ],
           "sequential": [
            [
             0,
             "#0d0887"
            ],
            [
             0.1111111111111111,
             "#46039f"
            ],
            [
             0.2222222222222222,
             "#7201a8"
            ],
            [
             0.3333333333333333,
             "#9c179e"
            ],
            [
             0.4444444444444444,
             "#bd3786"
            ],
            [
             0.5555555555555556,
             "#d8576b"
            ],
            [
             0.6666666666666666,
             "#ed7953"
            ],
            [
             0.7777777777777778,
             "#fb9f3a"
            ],
            [
             0.8888888888888888,
             "#fdca26"
            ],
            [
             1,
             "#f0f921"
            ]
           ],
           "sequentialminus": [
            [
             0,
             "#0d0887"
            ],
            [
             0.1111111111111111,
             "#46039f"
            ],
            [
             0.2222222222222222,
             "#7201a8"
            ],
            [
             0.3333333333333333,
             "#9c179e"
            ],
            [
             0.4444444444444444,
             "#bd3786"
            ],
            [
             0.5555555555555556,
             "#d8576b"
            ],
            [
             0.6666666666666666,
             "#ed7953"
            ],
            [
             0.7777777777777778,
             "#fb9f3a"
            ],
            [
             0.8888888888888888,
             "#fdca26"
            ],
            [
             1,
             "#f0f921"
            ]
           ]
          },
          "colorway": [
           "#636efa",
           "#EF553B",
           "#00cc96",
           "#ab63fa",
           "#FFA15A",
           "#19d3f3",
           "#FF6692",
           "#B6E880",
           "#FF97FF",
           "#FECB52"
          ],
          "font": {
           "color": "#2a3f5f"
          },
          "geo": {
           "bgcolor": "white",
           "lakecolor": "white",
           "landcolor": "#E5ECF6",
           "showlakes": true,
           "showland": true,
           "subunitcolor": "white"
          },
          "hoverlabel": {
           "align": "left"
          },
          "hovermode": "closest",
          "mapbox": {
           "style": "light"
          },
          "paper_bgcolor": "white",
          "plot_bgcolor": "#E5ECF6",
          "polar": {
           "angularaxis": {
            "gridcolor": "white",
            "linecolor": "white",
            "ticks": ""
           },
           "bgcolor": "#E5ECF6",
           "radialaxis": {
            "gridcolor": "white",
            "linecolor": "white",
            "ticks": ""
           }
          },
          "scene": {
           "xaxis": {
            "backgroundcolor": "#E5ECF6",
            "gridcolor": "white",
            "gridwidth": 2,
            "linecolor": "white",
            "showbackground": true,
            "ticks": "",
            "zerolinecolor": "white"
           },
           "yaxis": {
            "backgroundcolor": "#E5ECF6",
            "gridcolor": "white",
            "gridwidth": 2,
            "linecolor": "white",
            "showbackground": true,
            "ticks": "",
            "zerolinecolor": "white"
           },
           "zaxis": {
            "backgroundcolor": "#E5ECF6",
            "gridcolor": "white",
            "gridwidth": 2,
            "linecolor": "white",
            "showbackground": true,
            "ticks": "",
            "zerolinecolor": "white"
           }
          },
          "shapedefaults": {
           "line": {
            "color": "#2a3f5f"
           }
          },
          "ternary": {
           "aaxis": {
            "gridcolor": "white",
            "linecolor": "white",
            "ticks": ""
           },
           "baxis": {
            "gridcolor": "white",
            "linecolor": "white",
            "ticks": ""
           },
           "bgcolor": "#E5ECF6",
           "caxis": {
            "gridcolor": "white",
            "linecolor": "white",
            "ticks": ""
           }
          },
          "title": {
           "x": 0.05
          },
          "xaxis": {
           "automargin": true,
           "gridcolor": "white",
           "linecolor": "white",
           "ticks": "",
           "title": {
            "standoff": 15
           },
           "zerolinecolor": "white",
           "zerolinewidth": 2
          },
          "yaxis": {
           "automargin": true,
           "gridcolor": "white",
           "linecolor": "white",
           "ticks": "",
           "title": {
            "standoff": 15
           },
           "zerolinecolor": "white",
           "zerolinewidth": 2
          }
         }
        },
        "uniformtext": {
         "minsize": 8,
         "mode": "hide"
        }
       }
      }
     },
     "metadata": {},
     "output_type": "display_data"
    }
   ],
   "source": [
    "# Find the average read times across each topic\n",
    "\n",
    "# Get the average scroll length for each article\n",
    "for k,v in zip(unique_topic_read_freq.keys(), unique_topic_read_freq.values()):\n",
    "    unique_topic_read_freq[k] = np.nanmean(v)\n",
    "\n",
    "sorted_unique_topic_read_freq = dict(sorted(unique_topic_read_freq.items(), key = lambda x: x[1], reverse = True))\n",
    "\n",
    "\n",
    "indices = [x for x in sorted_unique_topic_read_freq . keys()]\n",
    "values = [x for x in sorted_unique_topic_read_freq.values()]\n",
    "\n",
    "fig = go.Figure()\n",
    "\n",
    "# Add traces\n",
    "fig.add_trace(go.Bar(x = indices, y = values,\n",
    "                         \n",
    "                         )\n",
    "\n",
    ")\n",
    "\n",
    "fig.update_traces(texttemplate='%{text:.2s}', textposition='outside')\n",
    "fig.update_layout(uniformtext_minsize=8, uniformtext_mode='hide')\n",
    "\n",
    "fig.show()"
   ]
  },
  {
   "cell_type": "code",
   "execution_count": null,
   "id": "03d400e7",
   "metadata": {},
   "outputs": [],
   "source": [
    "# Average scroll time across each user\n",
    "df.groupby(by =  'user_id')['scroll_percentage'].mean()"
   ]
  },
  {
   "cell_type": "code",
   "execution_count": 243,
   "id": "fc8a48f2",
   "metadata": {},
   "outputs": [
    {
     "data": {
      "text/plain": [
       "user_id\n",
       "10068      101.000000\n",
       "10200       24.000000\n",
       "10201       87.000000\n",
       "10623       20.666666\n",
       "10701       25.500000\n",
       "              ...    \n",
       "2589430     66.545456\n",
       "2589735     86.000000\n",
       "2590015     62.150002\n",
       "2590054     21.500000\n",
       "2590571     16.875000\n",
       "Name: read_time, Length: 9194, dtype: float32"
      ]
     },
     "execution_count": 243,
     "metadata": {},
     "output_type": "execute_result"
    }
   ],
   "source": [
    "## Average readtime per user\n",
    "df.groupby(by =  'user_id')['read_time'].mean()"
   ]
  },
  {
   "cell_type": "code",
   "execution_count": 197,
   "id": "af644351",
   "metadata": {},
   "outputs": [
    {
     "data": {
      "text/plain": [
       "session_id\n",
       "735         99.0\n",
       "739        168.0\n",
       "740         29.0\n",
       "797         98.0\n",
       "814         18.0\n",
       "           ...  \n",
       "2029646     61.0\n",
       "2029793    165.0\n",
       "2029940     19.5\n",
       "2029941     69.0\n",
       "2030103    126.0\n",
       "Name: read_time, Length: 36795, dtype: float32"
      ]
     },
     "execution_count": 197,
     "metadata": {},
     "output_type": "execute_result"
    }
   ],
   "source": [
    "# For each session, what was the average readtime \n",
    "\n",
    "# Distribution blot histogram (bin it)\n",
    "df.groupby(by= 'session_id')['read_time'].mean()\n",
    "    "
   ]
  },
  {
   "cell_type": "code",
   "execution_count": 273,
   "id": "5eeca6e0",
   "metadata": {},
   "outputs": [
    {
     "data": {
      "application/vnd.plotly.v1+json": {
       "config": {
        "plotlyServerURL": "https://plot.ly"
       },
       "data": [
        {
         "mode": "markers",
         "type": "scatter",
         "x": [
          9778682,
          9777492,
          9778623,
          9778627,
          9778769,
          9778375,
          9778657,
          9778718,
          9776040,
          9776315,
          9776148,
          9773290,
          9773282,
          9779269,
          9778952,
          9779242,
          9779227,
          9774096,
          9773987,
          9780195,
          9773873,
          9759891,
          9772830,
          9772858,
          9772038,
          9772442,
          9773356,
          9780039,
          9779263,
          9780096,
          9777296,
          9778021,
          9775171,
          9775776,
          9775800,
          9775873,
          9775881,
          9775648,
          9773297,
          9772629,
          9684351,
          9776337,
          9778110,
          9778035,
          9775325,
          9777307,
          9778139,
          9777941,
          9778413,
          9778973,
          9778845,
          9776046,
          9778168,
          9778328,
          9778262,
          9778302,
          9773700,
          9773486,
          9773279,
          9773852,
          9772228,
          9773288,
          9774065,
          9773465,
          9773887,
          9772045,
          9774568,
          9773985,
          9774404,
          9774527,
          9774142,
          9772355,
          9773045,
          9772343,
          9772502,
          9777319,
          9777475,
          9777190,
          9776710,
          9771113,
          9772082,
          9768308,
          9492619,
          9769917,
          9771568,
          9758825,
          9772750,
          9772925,
          9775939,
          9776238,
          9775673,
          9776259,
          9776234,
          9774972,
          9770028,
          9775964,
          9772545,
          9776087,
          9776303,
          9776278,
          9774580,
          9757574,
          9769684,
          9769387,
          9710203,
          9774789,
          9774764,
          9769197,
          9771367,
          9771764,
          9771576,
          9771168,
          9770082,
          9771330,
          9772632,
          9772367,
          9772660,
          9772380,
          9772227,
          9772443,
          9772882,
          9772099,
          9776176,
          9774358,
          9671924,
          9774542,
          9665367,
          9775079,
          9774079,
          9773846,
          9774648,
          9774074,
          9767665,
          9772453,
          9775894,
          9775850,
          9772601,
          9769624,
          9772517,
          9769504,
          9773210,
          9767507,
          9770045,
          9773278,
          9772434,
          9773295,
          9773461,
          9597215,
          9775990,
          9775927,
          9776855,
          9776870,
          9776691,
          9777529,
          9777648,
          9777308,
          9773711,
          9773543,
          9773617,
          9761859,
          9773744,
          9774376,
          9776041,
          9771916,
          9769348,
          9771919,
          9773137,
          9773070,
          9710762,
          9773015,
          9773084,
          9772475,
          9756785,
          9770102,
          9773412,
          9773364,
          9687598,
          9771333,
          9771325,
          9771626,
          9771572,
          9771479,
          9765759,
          9674639,
          9776917,
          9776851,
          9779019,
          9779204,
          9779205,
          9780193,
          9779713,
          9780020,
          9779860,
          9766434,
          9746428,
          9779867,
          9778827,
          9778939,
          9779427,
          9677792,
          9780271,
          9775562,
          9775573,
          9731725,
          9774708,
          9774403,
          9771779,
          9769424,
          9771796,
          9776099,
          9779738,
          9778736,
          9337779,
          9778922,
          9778780,
          9778804,
          9778731,
          9778257,
          9776438,
          9775701,
          9772193,
          9772219,
          9772221,
          9771787,
          9772185,
          9769341,
          9772168,
          9770051,
          9707138,
          9773857,
          9774363,
          9774352,
          9777767,
          9777005,
          9777470,
          9769432,
          9771554,
          9773248,
          9771248,
          9774430,
          9773350,
          9774032,
          9774252,
          9771996,
          9774517,
          9772710,
          9772029,
          9772344,
          9772291,
          9779577,
          9780181,
          9772366,
          9772772,
          9772635,
          9774383,
          9773464,
          9776223,
          9776449,
          9776047,
          9777822,
          9778971,
          9779045,
          9779813,
          9773392,
          9775998,
          9774574,
          9776341,
          9769605,
          9776508,
          9777156,
          9777910,
          9776322,
          9776394,
          9779129,
          9769712,
          9771351,
          9775352,
          9775855,
          9776246,
          9767490,
          9776862,
          9776287,
          9776715,
          9776385,
          9776497,
          9778500,
          9777334,
          9777026,
          9777043,
          9777079,
          9774652,
          9775277,
          9775183,
          9774826,
          9775131,
          9775202,
          9084355,
          9771999,
          9775142,
          9759966,
          9774461,
          9748106,
          9774516,
          9772706,
          9777358,
          9771081,
          9776918,
          9772275,
          9775323,
          9775003,
          9768664,
          9772300,
          9771438,
          9778819,
          9776420,
          9779408,
          9776071,
          9777565,
          9778004,
          9774541,
          9779737,
          9779748,
          9779538,
          9779674,
          9779705,
          9779517,
          9775419,
          9772805,
          9771739,
          9771846,
          9771691,
          9696118,
          9774187,
          9772727,
          9779657,
          9779723,
          9778326,
          9778318,
          9773943,
          9500467,
          9774120,
          9773673,
          9773726,
          9755800,
          9776694,
          9770452,
          9773078,
          9767637,
          9777768,
          9776560,
          9774297,
          9649632,
          9771688,
          9760758,
          9771187,
          9772115,
          9771995,
          9775763,
          9776377,
          9776049,
          9746810,
          9778915,
          9778710,
          9778813,
          9772543,
          9740551,
          9759544,
          9775076,
          9775184,
          9774554,
          9774840,
          9775042,
          9705343,
          9670241,
          9775596,
          9778669,
          9777397,
          9775985,
          9080070,
          9776544,
          9776386,
          9775804,
          9772485,
          9670430,
          9771855,
          9771903,
          7213923,
          9771896,
          9696065,
          9776434,
          9774899,
          9772862,
          9771125,
          9771888,
          9771758,
          9769370,
          9709555,
          9775713,
          9776897,
          9690190,
          9776916,
          9776882,
          9776566,
          9775582,
          9778219,
          9778843,
          9773434,
          9773335,
          9776864,
          9776808,
          9674025,
          9759955,
          9773172,
          9775793,
          9773341,
          9771254,
          9768583,
          9771128,
          9728974,
          9770451,
          9769981,
          9771242,
          9769996,
          9615540,
          9645545,
          9770029,
          9767903,
          9770178,
          9769469,
          9770541,
          9717015,
          9715619,
          9774015,
          9769531,
          9769581,
          9774392,
          9774626,
          9778102,
          9778236,
          9772026,
          9772284,
          9772000,
          9772256,
          9771627,
          9769404,
          9772088,
          9773275,
          9777621,
          9778310,
          9770997,
          9767697,
          9778645,
          9778902,
          9775794,
          9777804,
          9777693,
          9777704,
          9778007,
          9772733,
          9772302,
          9772297,
          9772407,
          9775908,
          9777955,
          9714274,
          9772768,
          9772050,
          9772575,
          9482970,
          9749025,
          9777856,
          9459174,
          9772869,
          9775518,
          9758424,
          9775484,
          9775347,
          9775500,
          9744403,
          9766721,
          9775207,
          9774733,
          9775361,
          9754160,
          9775489,
          9575212,
          9775485,
          9775402,
          9774595,
          9772711,
          9779289,
          9779511,
          9696204,
          9779580,
          9779641,
          9772548,
          9779541,
          9779141,
          9778028,
          9778198,
          9777969,
          9659675,
          9765965,
          9765804,
          9779007,
          9778448,
          9779285,
          9779377,
          9776474,
          9663605,
          9737393,
          9767417,
          9743870,
          9776442,
          9775905,
          9775717,
          9773877,
          9774013,
          9771166,
          9769762,
          9378062,
          9775430,
          9773539,
          9773470,
          9772678,
          9777505,
          9775983,
          9775722,
          9775699,
          9775647,
          9773947,
          9770288,
          9772866,
          9776967,
          9770792,
          9664250,
          9773566,
          9761586,
          9777750,
          9658252,
          9577133,
          9732528,
          9558888,
          9772047,
          9766140,
          9770729,
          9770882,
          9771126,
          9420172,
          9770515,
          9772813,
          9765737,
          9770145,
          9775803,
          9775809,
          9775621,
          7306652,
          9775846,
          9773574,
          9773697,
          9655546,
          9696657,
          9767368,
          9770450,
          9771579,
          9775965,
          9776152,
          9771460,
          9672159,
          9778369,
          9778945,
          9771151,
          9726171,
          9778351,
          9778668,
          9778745,
          9778666,
          9779648,
          9575236,
          8540672,
          9768829,
          9772092,
          9775697,
          9769433,
          9777406,
          9777385,
          9777374,
          9774163,
          9776070,
          9766178,
          9765336,
          9770369,
          9779873,
          9772095,
          9772032,
          9778628,
          9772751,
          9774706,
          9779423,
          9777636,
          9777182,
          9570877,
          9760091,
          9778158,
          9770194,
          9656793,
          9769471,
          9193263,
          9776184,
          9769306,
          9776369,
          9776553,
          9774382,
          9672569,
          9775708,
          9771352,
          9772389,
          9780019,
          9778277,
          9779968,
          9779181,
          9762373,
          9771124,
          9771121,
          9771224,
          9773447,
          9773351,
          9733679,
          9777769,
          9777292,
          9777582,
          9769800,
          9772963,
          9772448,
          9746360,
          9772873,
          9772903,
          9753689,
          9749847,
          9772659,
          9417521,
          9771042,
          9771065,
          9772363,
          9772328,
          9460933,
          9777320,
          9679590,
          9771992,
          9773768,
          9773638,
          9768043,
          9776332,
          9771127,
          9777034,
          9778226,
          9758734,
          9770886,
          9750959,
          9775388,
          9771083,
          9721993,
          9771253,
          9742270,
          9772668,
          9772923,
          9748042,
          9778728,
          9777811,
          9778422,
          9773296,
          9372221,
          9706958,
          9775716,
          9425346,
          9653398,
          8062403,
          9772178,
          9769679,
          9779777,
          8991640,
          9769580,
          9777992,
          9779956,
          9774321,
          9747757,
          9770283,
          9771938,
          9776985,
          9777075,
          9776489,
          9766007,
          9771686,
          9220931,
          9532638,
          9778386,
          9768802,
          9773001,
          9709817,
          9738980,
          9771859,
          9773962,
          9775331,
          9738729,
          9775915,
          9774803,
          9774559,
          9771237,
          9767955,
          9777036,
          9777345,
          9777299,
          9777000,
          9776406,
          9676294,
          9736876,
          9700692,
          9779489,
          9768687,
          9772241,
          9774506,
          9778942,
          9778155,
          9777364,
          9776023,
          9776922,
          9777464,
          9775256,
          9706960,
          9774618,
          9765973,
          9776929,
          9779184,
          9779071,
          9754002,
          9779185,
          9711824,
          9779186,
          9743951,
          9775567,
          9775824,
          9776688,
          9771948,
          9673382,
          9770292,
          9098807,
          9771473,
          9759157,
          9650897,
          9773378,
          9773376,
          9735909,
          9709095,
          9767909,
          9773102,
          9673285,
          9779498,
          9778875,
          9521144,
          8006832,
          9772263,
          9700074,
          9774598,
          9765941,
          9538375,
          9772957,
          9779366,
          9769366,
          9770551,
          9727087,
          9778074,
          9709117,
          9770798,
          9436758,
          9775752,
          9775909,
          9775703,
          9775903,
          9771612,
          9775785,
          9760271,
          9779267,
          9344447,
          9617855,
          9765713,
          9770867,
          9779747,
          9686860,
          9771869,
          9769559,
          7593077,
          9440043,
          9773488,
          9695259,
          9769743,
          9652966,
          9762122,
          9775900,
          9775577,
          9761788,
          9767566,
          9778220,
          9779288,
          9761926,
          9778192,
          9778063,
          9771197,
          9774549,
          9775611,
          9771355,
          9775568,
          9774532,
          9766225,
          9774017,
          9620411,
          9740880,
          7474162,
          9674415,
          9746627,
          9771350,
          9773003,
          9773228,
          9777233,
          9485813,
          9774555,
          9773612,
          9665320,
          9771223,
          9769769,
          9771523,
          9770533,
          9779507,
          9708656,
          9725350,
          9693827,
          9345280,
          9774828,
          9769557,
          9774923,
          9740618,
          9779150,
          9773900,
          9768311,
          9767470,
          9733858,
          9779383,
          9779355,
          9777164,
          9776968,
          9767868,
          9777520,
          9769497,
          9772279,
          9625291,
          9447145,
          9775478,
          9773868,
          9775461,
          9654458,
          9779133,
          9769622,
          9630091,
          9775551,
          9766752,
          9463833,
          9575287,
          9702511,
          9690590,
          9770989,
          9699394,
          8007444,
          7460419,
          9542734,
          9774429,
          9775733,
          9774943,
          9661024,
          9765989,
          9771842,
          9768599,
          9754571,
          9773316,
          9776014,
          9778722,
          9654741,
          9768469,
          9272340,
          9711985,
          9596684,
          9717908,
          9770006,
          9754350,
          9767481,
          9682133,
          9689389,
          9765753,
          9768866,
          9775493,
          9774287,
          9730408,
          9778381,
          9768150,
          9696324,
          9760069,
          9769575,
          9768820,
          9769472,
          9771119,
          9578072,
          9779996,
          9775371,
          9778701,
          9550308,
          9778444,
          9744070,
          9770538,
          9608020,
          9758882,
          9770483,
          9759345,
          9774557,
          9774937,
          9758432,
          9750696,
          6187367,
          9769781,
          9771775,
          9745405,
          9773307,
          9636650,
          9772104,
          9779642,
          9734255,
          9462935,
          9749349,
          9771051,
          9766261,
          9709329,
          9704504,
          9643054,
          9756397,
          9774944,
          9772433,
          9776191,
          9740324,
          9734834,
          9566287,
          9779430,
          9775283,
          9770741,
          9769356,
          9769553,
          9770030,
          9755712,
          9768321,
          9767483,
          9770594,
          9773306,
          9775486,
          9704136,
          9770385,
          9681449,
          9779629,
          9754265,
          9779520,
          9719431,
          9777228,
          9749643,
          9774229,
          9770709,
          7311533,
          9779564,
          9684685,
          9710906,
          9767302,
          9773292,
          9694752,
          9690878,
          9775297,
          9544875,
          9420226,
          9773408,
          9142581,
          9778788,
          9776190,
          9767447,
          9762071,
          9102576,
          9099237,
          9757698,
          9694022,
          9778905,
          9230405,
          9740903,
          9772557,
          9771235,
          9770638,
          9659345,
          9777393,
          9659513,
          9762352,
          9752063,
          9625180,
          9652685,
          9767604,
          9763448,
          9186608,
          9718109,
          9769572,
          9156421,
          9670286,
          8113223,
          9748321,
          9766231,
          9770726,
          9759717,
          9503569,
          9268234,
          9773014,
          9771340,
          9735316,
          9738457,
          9756287,
          9695098,
          9761391,
          9769380,
          9768328,
          9775885,
          9594548,
          7865155,
          9669015,
          9725466,
          9676621,
          9763284,
          9720068,
          9778917,
          9769450,
          9778661,
          9734095,
          3198681,
          9773866,
          9462726,
          9770402,
          9768850,
          9700085,
          9666025,
          9769892,
          9771645,
          8525864,
          9302120,
          8044496,
          9680907,
          9724617,
          9748104,
          9769641,
          9295542,
          9647283,
          9718236,
          9749628,
          9767363,
          9700511,
          9708479,
          9679835,
          9669647,
          9770829,
          9709326,
          9770207,
          9774125,
          9667585,
          9704245,
          9052240,
          9773493,
          9688102,
          9731647,
          7377747,
          4721905,
          9728166,
          9395179,
          9776053,
          9767765,
          9774020,
          9776551,
          9733224,
          9511021,
          9779417,
          9780162,
          9775401,
          9578459,
          9660320,
          6741781,
          9757639,
          9756146,
          9649538,
          9152828,
          9770492,
          9773018,
          9776292,
          9688780,
          9755571,
          9657797,
          9754730,
          9769459,
          9702964,
          9701446,
          9726453,
          9702181,
          9714168,
          9055748,
          9764086,
          9767725,
          9691746,
          9564613,
          9737094,
          9716285,
          9772835,
          9777007,
          9774158,
          9766238,
          9295706,
          9712973,
          9684423,
          9744011,
          9770491,
          9577091,
          9534036,
          9715101,
          9771009,
          9654553,
          9658292,
          9453867,
          9566544,
          9717962,
          9759707,
          9766560,
          5902663,
          9764444,
          9778842,
          9618572,
          9753907,
          9443420,
          9655223,
          9657528,
          9746073,
          9142564,
          6956124,
          9772152,
          9423550,
          9674812,
          9655559,
          9525589,
          9769378,
          9770390,
          9010422,
          8560195,
          9376584,
          9770532,
          9721723,
          9759681,
          9686731,
          9672256,
          9778787,
          9706238,
          9760170,
          9767534,
          9658650,
          9730858,
          9679218,
          9779316,
          9154001,
          9766620,
          9757878,
          9698128,
          8089512,
          9596402,
          9778216,
          9776256,
          9771156,
          9756169,
          9706270,
          9706339,
          9670033,
          9773825,
          9428643,
          9339835,
          9198968,
          9657822,
          9773199,
          9563703,
          9775529,
          9652783,
          9759142,
          9703841,
          9710065,
          9488931,
          9776697,
          9739342,
          9629026,
          9761963,
          9776690,
          9711877,
          9770327,
          9613731,
          9733666,
          9663230,
          9700883,
          9738868,
          9515997,
          9769457,
          9712699,
          9660631,
          9729924,
          8315213,
          4908235,
          9721163,
          9648312,
          9759389,
          9688372,
          9705526,
          9770799,
          9766770,
          9770333,
          9482380,
          9706355,
          9766603,
          9531745,
          9776583,
          9699564,
          9768387,
          9640315,
          8518755,
          9627627,
          9653790,
          9486486,
          9667806,
          8185279,
          9500505,
          9736745,
          9766599,
          9666182,
          9767852,
          9539719,
          9627810,
          9766015,
          8741711,
          9696697,
          9602795,
          9701992,
          7773513,
          9654415,
          9735815,
          9620371,
          9717256,
          6874591,
          9757226,
          9432542,
          9732481,
          9474700,
          9553271,
          9679140,
          9370306,
          9767336,
          7219767,
          9724944,
          9554599,
          9769347,
          9767268,
          9735724,
          9725194,
          9735866,
          9735669,
          9725209,
          9735795,
          9735645,
          9676308,
          9779797,
          9737594,
          9770604,
          9715840,
          9671904,
          9769650,
          8534547,
          9741144,
          9573677,
          9656344,
          9730488,
          9759476,
          9766873,
          9771749,
          9748464,
          9768377,
          9737199,
          9769193,
          9739153,
          9766695,
          9778313,
          9779891,
          9659139,
          9740330,
          9734133,
          9749014,
          9720153,
          9766379,
          9742735,
          7273757,
          9520286,
          7629829,
          9679755,
          9770568,
          9775056,
          9277736,
          9767231,
          9666919,
          9203696,
          9763188,
          7133391,
          9673979,
          9522337,
          9748670,
          9769804,
          9364014,
          9742173,
          9712694,
          9774823,
          6093910,
          9684309,
          9667923,
          9717219,
          9621194,
          9627498,
          9527358,
          9699867,
          9647704,
          9766832,
          9742172,
          9757470,
          9769367,
          9669928,
          9744301,
          9775432,
          9746558,
          9606510,
          9649471,
          9702083,
          9700447,
          9705425,
          9767242,
          9767554,
          9749857,
          9735991,
          9761484,
          9768481,
          9699601,
          8952833,
          9750904,
          9551172,
          9559219,
          9563007,
          9741415,
          4089734,
          8487537,
          9557998,
          9749469,
          4046231,
          9287091,
          9668080,
          9651719,
          9760796,
          9730253,
          9769478,
          9602118,
          9718212,
          8658642,
          9770023,
          9766011,
          9679599,
          9764978,
          9765194,
          9765925,
          9443447,
          9768242,
          7118227,
          9729885,
          9766042,
          9120051,
          9719416,
          9665220,
          5712427,
          9764759,
          9767639,
          9776570,
          9655794,
          9747633,
          9566590,
          9704452,
          9440568,
          9681073,
          9452721,
          9767975,
          9760140,
          9670154,
          9763880,
          9763977,
          9488213,
          9301207,
          9734061,
          9645620,
          9709983,
          9767247,
          9648662,
          9767957,
          9390949,
          9667501,
          9341081,
          9766722,
          9676230,
          9669548,
          8011219,
          9722202,
          9680102,
          9771398,
          9760206,
          8169191,
          9759708,
          9666599,
          9766889,
          9651229,
          9095356,
          9448302,
          6290485,
          9708367,
          9655661,
          9768515,
          9768002,
          9566633,
          9773727,
          9769496,
          9776050,
          9767233,
          9330692,
          9698332,
          9728452,
          9673030,
          9584745,
          9770218,
          9723342,
          9504105,
          9745751,
          9712952,
          4012996,
          9405746,
          9336443,
          9547869,
          9766146,
          9757716,
          9735224,
          9670069,
          9549390,
          8293793,
          9746011,
          9750891,
          9583381,
          9768566,
          8410476,
          9665917,
          9741033,
          9488208,
          9628892,
          9765618,
          9704918,
          4039009,
          9470078,
          9769244,
          9642602,
          9673948,
          9301117,
          9770146,
          9762678,
          9354622,
          9597965,
          9766592,
          9527795,
          9677204,
          9766441,
          9754799,
          9699053,
          9769909,
          9679995,
          9762288,
          9553192,
          9391394,
          9738993,
          9674243,
          9672915,
          9644742,
          9744530,
          9757972,
          9753758,
          9759080,
          9513606,
          8922242,
          9665648,
          9766136,
          9203920,
          9702111,
          9765156,
          9656406,
          9699866,
          9766757,
          9385951,
          9679971,
          9204368,
          9514727,
          9644912,
          7594265,
          9565423,
          9708887,
          9729839,
          9766348,
          9738193,
          7880240,
          9767751,
          9569934,
          9699917,
          9702281,
          9363981,
          9497898,
          9751671,
          9651883,
          9542727,
          9756098,
          9736646,
          9721606,
          9768638,
          9510890,
          9761359,
          9647819,
          9602114,
          9361175,
          9219607,
          9725525,
          9418347,
          9547569,
          9689167,
          9735704,
          9737092,
          9467983,
          9414170,
          9647575,
          6640267,
          9561819,
          9685982,
          9257300,
          6586355,
          9714376,
          7582360,
          6833239,
          9773644,
          9646565,
          9524263,
          9764622,
          9673416,
          9659315,
          9769701,
          9679459,
          9521514,
          9716607,
          9683279,
          9664560,
          9718090,
          8731066,
          9275787,
          9756546,
          9521552,
          9603946,
          9168438,
          9766129,
          9765955,
          9317048,
          9711728,
          8934043,
          9708512,
          9773203,
          9684126,
          9761784,
          9754271,
          9722269,
          9750726,
          9768467,
          9669596,
          9718007,
          9678242,
          9737266,
          9679290,
          9625415,
          9730510,
          8734316,
          9140700,
          9688918,
          9654478,
          8378964,
          9765326,
          9735085,
          4059351,
          9206984,
          9726742,
          9724890,
          9770331,
          9560998,
          9526644,
          9767741,
          4129158,
          9768178,
          9768451,
          9528571,
          9374105,
          9540082,
          9054254,
          6190327,
          9131971,
          9759288,
          9660421,
          9432425,
          8518990,
          9639858,
          9778686,
          9734033,
          9676985,
          9767484,
          9684918,
          9318130,
          9649514,
          9768129,
          6981702,
          9663715,
          9557226,
          9745929,
          9767620,
          9769691,
          9678391,
          9430567,
          9693002,
          9135506,
          9700068,
          9701646,
          9751769,
          9761083,
          9770627,
          9670357,
          9466087,
          7086478,
          9654090,
          9659254,
          9766803,
          9556552,
          9435832,
          4302461,
          9770400,
          6346811,
          9768793,
          9659271,
          9522078,
          8129609,
          9684530,
          9718808,
          9742247,
          9725584,
          9674928,
          9366571,
          9261888,
          9753668,
          9671327,
          9767342,
          9717601,
          9671473,
          5718239,
          4376635,
          9737023,
          9652159,
          9767545,
          9440508,
          9619916,
          9418107,
          9768860,
          9660886,
          9220683,
          9306867,
          9766108,
          9661194,
          9527246,
          9705749,
          9711076,
          9709979,
          9622204,
          9514605,
          9766635,
          9718262,
          9771278,
          9768193,
          9760048,
          9341193,
          9769941,
          9691396,
          9566760,
          9714262,
          9771910,
          9716681,
          9694632,
          9746499,
          9774864,
          9739409,
          9779345,
          4284556,
          9769994,
          9705187,
          9394753,
          9419945,
          9736725,
          9736092,
          9702515,
          9673472,
          9668843,
          9754177,
          4774387
         ],
         "y": [
          0,
          0,
          0,
          0,
          0,
          0,
          0,
          0,
          0,
          0,
          0,
          0,
          0,
          0,
          0,
          0,
          0,
          0,
          0,
          0,
          0,
          0,
          0,
          0,
          0,
          0,
          0,
          0,
          0,
          0,
          0,
          0,
          0,
          0,
          0,
          0,
          0,
          0,
          0,
          0,
          0,
          0,
          0,
          0,
          0,
          0,
          0,
          0,
          0,
          0,
          0,
          0,
          0,
          0,
          0,
          0,
          0,
          0,
          0,
          0,
          0,
          0,
          0,
          0,
          0,
          0,
          0,
          0,
          0,
          0,
          0,
          0,
          0,
          0,
          0,
          0,
          0,
          0,
          0,
          0,
          0,
          0,
          99.33774834437087,
          91.96939287506272,
          0,
          0,
          0,
          0,
          0,
          0,
          0,
          0,
          0,
          0,
          0,
          0,
          0,
          0,
          0,
          0,
          0,
          0,
          94.8106960950764,
          78.01003344481606,
          45.35625,
          0,
          0,
          89.39104976997072,
          0,
          0,
          0,
          0,
          0,
          0,
          0,
          0,
          0,
          0,
          0,
          0,
          0,
          0,
          0,
          0,
          26.386363636363637,
          0,
          0,
          0,
          0,
          0,
          0,
          0,
          0,
          0,
          0,
          0,
          0,
          0,
          0,
          0,
          0,
          64.04913076341647,
          0,
          0,
          0,
          0,
          0,
          0,
          0,
          0,
          0,
          0,
          0,
          0,
          0,
          0,
          0,
          0,
          0,
          0,
          0,
          0,
          0,
          0,
          0,
          0,
          0,
          0,
          58.7131931166348,
          0,
          0,
          0,
          0,
          0,
          0,
          0,
          99.24812030075188,
          0,
          0,
          0,
          0,
          0,
          0,
          98.55072463768116,
          0,
          0,
          0,
          0,
          0,
          0,
          0,
          0,
          0,
          0,
          89.80525883319639,
          0,
          0,
          0,
          0,
          96.875,
          0,
          0,
          0,
          21.875,
          0,
          0,
          0,
          0,
          0,
          0,
          0,
          0,
          91.08383233532935,
          0,
          0,
          0,
          0,
          0,
          0,
          0,
          0,
          0,
          0,
          0,
          0,
          0,
          0,
          0,
          98.30508474576271,
          0,
          0,
          0,
          0,
          0,
          0,
          0,
          0,
          0,
          0,
          0,
          0,
          0,
          0,
          0,
          0,
          0,
          0,
          0,
          0,
          0,
          0,
          0,
          0,
          0,
          0,
          0,
          0,
          0,
          0,
          0,
          0,
          0,
          0,
          0,
          0,
          0,
          0,
          0,
          0,
          0,
          0,
          0,
          0,
          0,
          76,
          0,
          0,
          0,
          0,
          0,
          0,
          0,
          0,
          0,
          0,
          0,
          0,
          0,
          0,
          0,
          0,
          0,
          0,
          0,
          0,
          0,
          0,
          0,
          0,
          0,
          0,
          93.3145728643216,
          0,
          0,
          0,
          0,
          0,
          0,
          0,
          0,
          69.11798839458415,
          0,
          0,
          0,
          0,
          0,
          0,
          0,
          0,
          0,
          0,
          0,
          0,
          0,
          0,
          0,
          0,
          0,
          0,
          0,
          0,
          0,
          0,
          0,
          0,
          0,
          0,
          0,
          0,
          0,
          0,
          0,
          0,
          0,
          0,
          90.8058091286307,
          0,
          58.054898648648646,
          0,
          0,
          0,
          98.74193548387096,
          0,
          60.67688888888889,
          0,
          0,
          0,
          0,
          0,
          0,
          0,
          0,
          0,
          0,
          0,
          46.21741778319123,
          0,
          0,
          0,
          0,
          0,
          0,
          72.65734265734265,
          98.76543209876543,
          0,
          0,
          0,
          0,
          0,
          0,
          0,
          0,
          0,
          83.61538461538461,
          0,
          0,
          76.97066666666667,
          0,
          0,
          0,
          0,
          0,
          0,
          0,
          0,
          0,
          98.50746268656717,
          0,
          0,
          35.76470588235294,
          0,
          0,
          0,
          0,
          0,
          0,
          0,
          0,
          0,
          0,
          0,
          0,
          0,
          0,
          0,
          0,
          77.44001208824419,
          0,
          80.6285046728972,
          0,
          62.77838827838828,
          0,
          0,
          0,
          86.53225806451613,
          0,
          0,
          91.08263736263736,
          83.49019607843137,
          80.2927974947808,
          58,
          99.03846153846153,
          0,
          0,
          0,
          0,
          0,
          0,
          0,
          0,
          0,
          0,
          0,
          0,
          52.54998305659099,
          0,
          0,
          0,
          0,
          0,
          79.16708023159636,
          0,
          0,
          0,
          0,
          0,
          0,
          0,
          0,
          0,
          0,
          0,
          0,
          0,
          94.11764705882354,
          0,
          0,
          0,
          75.52713178294573,
          93.30310663308144,
          0,
          20.68421052631579,
          0,
          0,
          0,
          0,
          0,
          0,
          0,
          90.92443729903538,
          0,
          0,
          0,
          0,
          0,
          80.3,
          0,
          0,
          0,
          0,
          0,
          0,
          99.298,
          0,
          0,
          0,
          0,
          0,
          0,
          0,
          0,
          0,
          66.05414141414141,
          90.06511627906977,
          0,
          0,
          0,
          0,
          0,
          99.47368421052632,
          80.95590490797547,
          83.79651162790698,
          0,
          0,
          0,
          0,
          0,
          0,
          0,
          0,
          93.45070422535211,
          0,
          0,
          0,
          0,
          0,
          0,
          0,
          0,
          0,
          0,
          0,
          0,
          0,
          0,
          98.7012987012987,
          0,
          0,
          0,
          73.93827160493827,
          0,
          97.15789473684211,
          66.66666666666667,
          0,
          27.536332179930795,
          0,
          86.22543352601156,
          0,
          99.32669983416253,
          0,
          0,
          84.43713733075435,
          0,
          0,
          0,
          0,
          0,
          0,
          0,
          0,
          0,
          92.02919708029196,
          59.25757575757576,
          0,
          0,
          0,
          0,
          0,
          93.58064516129032,
          0,
          0,
          0,
          41.42857142857143,
          0,
          0,
          0,
          0,
          0,
          87.5,
          0,
          78.79307958477509,
          0,
          0,
          86.3769035532995,
          0,
          0,
          0,
          0,
          0,
          92.67813953488373,
          76.31758034026466,
          0,
          0,
          0,
          0,
          0,
          0,
          0,
          0,
          0,
          0,
          97.5609756097561,
          0,
          0,
          70.4289667896679,
          57.27710843373494,
          50.50561797752809,
          75,
          0,
          72.8903903903904,
          0,
          0,
          0,
          96.2378640776699,
          0,
          0,
          0,
          0,
          0,
          0,
          0,
          76.15822784810126,
          0,
          0,
          0,
          0,
          0,
          97.65161290322581,
          0,
          0,
          0,
          0,
          0,
          0,
          44.141112618724556,
          0,
          0,
          0,
          79.59094650205762,
          0,
          99.25373134328358,
          83.10469314079423,
          0,
          0,
          0,
          94.44444444444444,
          0,
          62.97802197802198,
          0,
          0,
          0,
          0,
          0,
          0,
          0,
          0,
          99.54128440366972,
          0,
          73.42474048442907,
          0,
          0,
          85.1875,
          0,
          86.39960726558665,
          0,
          0,
          72.2641252552757,
          0,
          0,
          0,
          0,
          0,
          59.88321167883212,
          0,
          73.60714285714286,
          88.51886792452831,
          98.38709677419355,
          0,
          58.74630755864466,
          0,
          0,
          80.76720475785896,
          0,
          0,
          0,
          99.24242424242425,
          0,
          0,
          0,
          0,
          0,
          86.13888888888889,
          0,
          99.69325153374233,
          89.24079320113314,
          0,
          84.8145416227608,
          0,
          77.56902761104442,
          85.01785714285714,
          0,
          0,
          0,
          0,
          0,
          0,
          0,
          0,
          87.43382352941177,
          0,
          0,
          0,
          0,
          0,
          57.348348348348345,
          81.01415094339623,
          92.3076923076923,
          0,
          85.38287864534337,
          0,
          0,
          0,
          0,
          0,
          0,
          0,
          0,
          0,
          80.68145161290323,
          0,
          59.54805575935436,
          0,
          0,
          0,
          0,
          0,
          0,
          0,
          90,
          0,
          0,
          0,
          0,
          98.4375,
          0,
          0,
          0,
          72.1202380952381,
          97.36842105263158,
          0,
          0,
          50.81532663316583,
          0,
          0,
          0,
          58.11290322580645,
          0,
          0,
          92.46785714285714,
          0,
          0,
          0,
          0,
          0,
          0,
          0,
          0,
          73.24136636636636,
          82.98618021006081,
          98.86977886977887,
          0,
          97.61904761904762,
          84.69716944552152,
          79.74803149606299,
          0,
          0,
          0,
          0,
          0,
          0,
          83.63057324840764,
          0,
          0,
          0,
          88.85040983606558,
          95.36224976167779,
          0,
          95.45454545454545,
          0,
          0,
          0,
          0,
          0,
          0,
          89.54853911404335,
          94.11764705882354,
          0,
          0,
          0,
          80.68921095008052,
          0,
          0,
          0,
          0,
          0,
          0,
          0,
          0,
          0,
          0,
          0,
          0,
          61.06483208955224,
          0,
          0,
          77.04757858963467,
          0,
          68.91176470588235,
          78.1955350269438,
          0,
          0,
          0,
          0,
          51.16129032258065,
          0,
          0,
          0,
          0,
          0,
          0,
          87.59657320872275,
          0,
          84.14953271028037,
          68.46010638297872,
          50.867816091954026,
          40.63291139240506,
          0,
          0,
          0,
          68.26452410383189,
          0,
          0,
          66.83413626978665,
          0,
          99.27007299270073,
          0,
          0,
          0,
          0,
          79.65313028764805,
          0,
          0,
          0,
          54.61,
          0,
          0,
          0,
          0,
          99.59839357429719,
          0,
          96.8438193930422,
          0,
          0,
          74.87100591715976,
          98.63013698630137,
          0,
          0,
          91.88541666666667,
          60.321917808219176,
          0,
          0,
          0,
          0,
          0,
          0,
          0,
          61.282722513089006,
          66.49397590361446,
          0,
          68.87752928647497,
          41.73430656934307,
          0,
          0,
          0,
          96.72222222222223,
          74.76770538243626,
          0,
          99.3103448275862,
          0,
          94.11764705882354,
          82.84595524956971,
          80.99438026849829,
          0,
          99.16666666666667,
          99.50248756218906,
          83.93103448275862,
          0,
          0,
          0,
          99.24812030075188,
          0,
          80.42938311688312,
          97.36842105263158,
          48.45238095238095,
          62.60979877515311,
          84.38849118942731,
          60.75485436893204,
          0,
          96.3177570093458,
          0,
          0,
          0,
          95.05405405405405,
          0,
          95.33945284377249,
          77.34600262123197,
          94.11764705882354,
          78.36378923766816,
          98.55072463768116,
          95.922107674685,
          0,
          0,
          84.29,
          66.13257243195785,
          0,
          91.35793945831121,
          0,
          88.98648648648648,
          0,
          0,
          0,
          0,
          99.13793103448276,
          0,
          70.06236178681999,
          0,
          74.04289544235925,
          88.00462962962963,
          98.07692307692308,
          0,
          83.43936381709742,
          0,
          0,
          0,
          80.92569771656397,
          72.04923076923077,
          97.43589743589743,
          0,
          0,
          71.82107081174439,
          79.96009975062344,
          65.95652173913044,
          87.56370235934665,
          0,
          89.51757188498402,
          91.29753265602322,
          73.54806800618238,
          0,
          0,
          0,
          96.7741935483871,
          0,
          0,
          76.92307692307692,
          0,
          65.70247933884298,
          0,
          84.87393767705383,
          0,
          48.583333333333336,
          0,
          0,
          91.44295302013423,
          93.43396226415095,
          72.11618257261411,
          0,
          0,
          0,
          0,
          98.96907216494846,
          98.38709677419355,
          0,
          94.73417721518987,
          0,
          0,
          69.13784907902554,
          56.78740157480315,
          0,
          0,
          69.60971905846621,
          30.88235294117647,
          0,
          8.1,
          89.34925642181163,
          0,
          0,
          66.06526429341963,
          41.14529914529915,
          0,
          22.704918032786885,
          88.39360770577933,
          80.73417721518987,
          0,
          95.23809523809524,
          82.77806959947472,
          69.4573002754821,
          0,
          95.47692307692307,
          75.96160409556315,
          0,
          0,
          0,
          76.31026252983294,
          90.44636363636364,
          83.83715319662244,
          95.5020624631703,
          98.83720930232558,
          95.23809523809524,
          0,
          0,
          93.5813953488372,
          86.62626262626263,
          83.12699680511182,
          72.13498312710911,
          95.37659963436928,
          96.1576332429991,
          71.56066945606695,
          0,
          84.56179775280899,
          42.28333333333333,
          99.24812030075188,
          71.85263157894737,
          98.07692307692308,
          94.07671957671958,
          0,
          0,
          0,
          0,
          0,
          0,
          0,
          94.27272727272727,
          94.44444444444444,
          62.976897689768975,
          50,
          91.15355805243446,
          52.55392156862745,
          0,
          0,
          99.74747474747475,
          0,
          15.583333333333334,
          74.73333333333333,
          62.26517040731505,
          89.39872782055573,
          0,
          0,
          99.39759036144578,
          93.86625416468348,
          85.24532710280374,
          80.71875,
          65.81976744186046,
          87.41025641025641,
          59.94017094017094,
          65.09254498714652,
          51.324675324675326,
          85.68723936613844,
          0,
          0,
          99.24242424242425,
          72.54098360655738,
          0,
          98.38709677419355,
          99.54954954954955,
          97.77777777777777,
          0,
          92.54027504911592,
          0,
          0,
          73.030521407376,
          0,
          0,
          98.11320754716981,
          80.90322580645162,
          0,
          0,
          0,
          0,
          94.14084507042253,
          98.38709677419355,
          68.04356306892068,
          76.87417218543047,
          99.5798319327731,
          85.71428571428571,
          81.74918032786886,
          0,
          0,
          0,
          92.87121212121212,
          76.73684210526316,
          74.57665615141956,
          86.25555555555556,
          99.4186046511628,
          0,
          86.76315789473684,
          0,
          91.55654383735705,
          96,
          91.47381864623244,
          46.89733059548254,
          82.83720930232558,
          17.142857142857142,
          98.33333333333333,
          72.87648456057008,
          0,
          0,
          0,
          41,
          0,
          68.55847953216374,
          64.43137254901961,
          99.41176470588235,
          96.03749191984487,
          0,
          52.11666666666667,
          0,
          0,
          67.5,
          86.33333333333333,
          0,
          0,
          0,
          98.38924050632912,
          78.51510333863276,
          0,
          87.68990384615384,
          0,
          0,
          0,
          0,
          0,
          96.9010989010989,
          77.99899295065458,
          91.14440433212997,
          0,
          0,
          0,
          0,
          97.5,
          85.71428571428571,
          77.68806306306307,
          48.893970893970895,
          0,
          79.28571428571429,
          0,
          88.71317829457364,
          94.70588235294117,
          61.633620689655174,
          0,
          74.02597402597402,
          0,
          0,
          69.41880341880342,
          73.73288863109049,
          98.55072463768116,
          0,
          99.58064516129032,
          0,
          0,
          61.682890855457224,
          74.05,
          97.03296703296704,
          0,
          0,
          0,
          0,
          0,
          91.58117647058823,
          99.23076923076923,
          97.77777777777777,
          98.18181818181819,
          0,
          98.52941176470588,
          0,
          0,
          44.134670487106014,
          0,
          82.7007299270073,
          0,
          0,
          66.37857142857143,
          99.35064935064935,
          97.22222222222223,
          97.14285714285714,
          0,
          80.3648974668275,
          0,
          97.77012835472578,
          0,
          0,
          74.12161115414408,
          0,
          56.97560975609756,
          97.29729729729729,
          0,
          85.28603988603989,
          0,
          75.80603661553687,
          99.08256880733946,
          99.17355371900827,
          81.69334975369458,
          0,
          0,
          99.19354838709677,
          83.22304832713755,
          91.96378830083566,
          98.33333333333333,
          0,
          56.60758861707439,
          71.98553719008264,
          86.50845308537616,
          0,
          48.53333333333333,
          84.49802371541502,
          0,
          0,
          31.66346153846154,
          82.4546276756105,
          26.649350649350648,
          0,
          13.75,
          98.55072463768116,
          96.57657657657657,
          98.96907216494846,
          98,
          0,
          87.52112676056338,
          57.472620946305156,
          0,
          95.09574468085107,
          0,
          0,
          55.226890756302524,
          0,
          0,
          94.11764705882354,
          99.03846153846153,
          0,
          0,
          96.82619647355163,
          0,
          97.95918367346938,
          0,
          71.35105315947844,
          99.40119760479043,
          98.6842105263158,
          99.47727272727273,
          0,
          0,
          0,
          62.2293546148508,
          0,
          90.4504132231405,
          0,
          93.9550209205021,
          77.64882629107981,
          94.12834978843442,
          98.46254071661238,
          92.30927835051547,
          95.60077519379846,
          87.50985915492957,
          89.00684345594526,
          96.14962593516209,
          52.03225806451613,
          0,
          91.24050632911393,
          80.56022023399862,
          99.27536231884058,
          91.43646408839778,
          79.85288888888888,
          0,
          91.60986328125,
          99.48453608247422,
          33.78947368421053,
          0,
          74.43281535648994,
          67.5296,
          0,
          93.02013422818791,
          61.60817146684528,
          53.42876434841323,
          69.45155393053017,
          89.58124419684309,
          80.97253731343284,
          0,
          0,
          0,
          96.81632653061224,
          96,
          0,
          83.31147540983606,
          86.27409638554217,
          85.2610818933133,
          0,
          69.54771784232365,
          99.00990099009901,
          0,
          66.340625,
          0,
          95.6,
          93.16242821985234,
          0,
          81.66834170854271,
          79.23224043715847,
          0,
          98.87640449438203,
          98.98989898989899,
          74.3249370277078,
          65.01587301587301,
          0,
          91.0615873015873,
          0,
          0,
          0,
          0,
          89.125,
          99.39393939393939,
          0,
          0,
          97.5,
          0,
          0,
          89.88095238095238,
          93.11465603190429,
          88.41695501730104,
          50.605421686746986,
          95.83333333333333,
          80.36485355648536,
          0,
          91.19463087248322,
          98.75593952483801,
          0,
          0,
          0,
          96.96969696969697,
          73.60582444626743,
          65.77551020408163,
          77.27872860635696,
          92.85714285714286,
          88.9396551724138,
          66.54904831625183,
          0,
          0,
          86.9059955588453,
          0,
          0,
          0,
          66.36711552090716,
          0,
          0,
          0,
          70.04217075699965,
          0,
          90,
          0,
          0,
          69.4161979752531,
          0,
          79.58166189111748,
          98.36065573770492,
          0,
          0,
          66.36564417177914,
          92.18532818532819,
          0,
          84.26714801444044,
          57.93196202531646,
          68.70483870967742,
          75.5,
          59.25,
          0,
          13.17,
          85.36125290023202,
          99.2063492063492,
          78.0813953488372,
          98.95833333333333,
          97.29729729729729,
          84.66124109867752,
          66.55125284738041,
          0,
          0,
          88.25316455696202,
          0,
          77.28767123287672,
          0,
          98.38709677419355,
          0,
          72.92170818505338,
          81.12844036697248,
          98.38709677419355,
          51.081021087680355,
          81.28519855595668,
          97.22222222222223,
          0,
          46.276923076923076,
          63.68627450980392,
          75.38728323699422,
          85.36170212765957,
          0,
          91,
          0,
          62.28824141519251,
          0,
          58.69909394372914,
          99.07407407407408,
          68.75694444444444,
          0,
          98.7012987012987,
          97.86075949367088,
          0,
          0,
          82.76106194690266,
          60.279639175257735,
          54.55285540704739,
          48.14029850746269,
          99.11504424778761,
          0,
          0,
          0,
          16.8671875,
          98.7012987012987,
          64.7413654618474,
          76.37869198312237,
          50,
          0,
          89.01790633608816,
          0,
          82.57985948477751,
          0,
          0,
          98.7012987012987,
          0,
          0,
          59.482123510292524,
          0,
          66.80681818181819,
          76.95480585614258,
          45.12837837837838,
          0,
          0,
          0,
          92.3076923076923,
          92.75098814229248,
          74.95040840140024,
          0,
          90,
          0,
          0,
          88.49180327868852,
          72.40706126687435,
          0,
          87.11548913043478,
          0,
          87.5,
          99.11504424778761,
          0,
          0,
          80.5667701863354,
          0,
          0,
          97.25581395348837,
          88.65347539320142,
          98.38709677419355,
          54.52173913043478,
          98.30508474576271,
          67.58584987057809,
          58.95497523638001,
          0,
          98.21428571428571,
          81.83749411210552,
          93.23364485981308,
          85.17708333333333,
          0,
          74.17787418655098,
          0,
          76.5509025270758,
          99.0909090909091,
          46.68331700946784,
          92.87150837988827,
          85.20447284345047,
          71.83333333333333,
          0,
          0,
          88.88888888888889,
          72.28867403314918,
          98.08373042886318,
          0,
          33.93650793650794,
          0,
          99.68152866242038,
          0,
          45.61507128309572,
          96.74725274725274,
          60.91228070175438,
          76.593399750934,
          0,
          0,
          53.05076472502441,
          84.8974358974359,
          97.72727272727273,
          0,
          76.5,
          99.13223140495867,
          91.48790322580645,
          99.4949494949495,
          98.59154929577464,
          49.07583196944899,
          62.35217391304348,
          84.45701357466064,
          0,
          59.06548739179526,
          55.27272727272727,
          97.72727272727273,
          55.90677966101695,
          83.74904942965779,
          0,
          53.056728232189975,
          0,
          0,
          82.08472012102874,
          93.49732620320856,
          91.71974522292993,
          0,
          0,
          69.07914151576124,
          0,
          96.875,
          98.7012987012987,
          86.38793103448276,
          89.86725663716814,
          0,
          0,
          0,
          95.45454545454545,
          64.0761300555115,
          98.52941176470588,
          0,
          95.9518874907476,
          97.05882352941177,
          0,
          0,
          0,
          0,
          93.15068493150685,
          0,
          0,
          0,
          0,
          0,
          94.63756063756064,
          28.147058823529413,
          64.77443609022556,
          86.31701631701631,
          0,
          0,
          32.838095238095235,
          90.9090909090909,
          0,
          92.80653950953679,
          0,
          0,
          66.37383966244725,
          0,
          0,
          0,
          78.34521452145215,
          59.106337728626116,
          97.5,
          67.7,
          0,
          88.22885572139303,
          0,
          98.4375,
          72.51059322033899,
          84.05654870485225,
          0,
          78.47048489107519,
          81.34650455927051,
          97.5609756097561,
          0,
          99.54545454545455,
          83.89764492753623,
          36.56976744186046,
          0,
          0,
          0,
          0,
          92.3076923076923,
          97.87234042553192,
          94.73684210526316,
          94.90516273849607,
          63.6468253968254,
          0,
          0,
          95,
          50.20095693779904,
          0,
          0,
          95.65217391304348,
          88.19898819561551,
          0,
          65.94181034482759,
          68.13395113732098,
          87.34482758620689,
          0,
          0,
          0,
          0,
          0,
          75.50969529085873,
          0,
          62.10909090909091,
          0,
          0,
          0,
          85.30588235294118,
          94.11764705882354,
          73.37288135593221,
          55.36363636363637,
          0,
          97.29729729729729,
          62.61013986013986,
          96.42857142857143,
          91.12408759124088,
          89.01538461538462,
          63.12468030690537,
          86.7478862413528,
          69.88738738738739,
          0,
          0,
          99.40828402366864,
          58.55555555555556,
          0,
          93.95238095238095,
          66.09536307961505,
          66.87854889589906,
          75,
          0,
          94.62698412698413,
          0,
          23,
          98.57142857142857,
          54.4496644295302,
          0,
          0,
          0,
          75.05468327016784,
          0,
          83.73432835820896,
          0,
          0,
          0,
          0,
          80.65071770334929,
          63.2252427184466,
          97.36842105263158,
          0,
          47.2,
          0,
          84.75502008032129,
          0,
          63.806141154903756,
          99.62406015037594,
          98.87640449438203,
          89.88059701492537,
          0,
          98.31428571428572,
          0,
          82.71444823663253,
          63.41914191419142,
          0,
          16,
          48.71586037966932,
          0,
          0,
          99.4047619047619,
          90.29159935379644,
          98.38709677419355,
          0,
          75,
          0,
          0,
          0,
          93.52427184466019,
          87.3843329253366,
          0,
          0,
          68.2448717948718,
          68.50373320059731,
          0,
          45.601438848920864,
          0,
          0,
          0,
          0,
          0,
          0,
          73.06426553672317,
          0,
          40.15972222222222,
          0,
          0,
          84.37366167023555,
          90.57142857142857,
          98.38709677419355,
          0,
          17.473684210526315,
          76.78125,
          81.14942528735632,
          98.80952380952381,
          96.51351351351352,
          36.50909090909091,
          0
         ]
        }
       ],
       "layout": {
        "template": {
         "data": {
          "bar": [
           {
            "error_x": {
             "color": "#2a3f5f"
            },
            "error_y": {
             "color": "#2a3f5f"
            },
            "marker": {
             "line": {
              "color": "#E5ECF6",
              "width": 0.5
             },
             "pattern": {
              "fillmode": "overlay",
              "size": 10,
              "solidity": 0.2
             }
            },
            "type": "bar"
           }
          ],
          "barpolar": [
           {
            "marker": {
             "line": {
              "color": "#E5ECF6",
              "width": 0.5
             },
             "pattern": {
              "fillmode": "overlay",
              "size": 10,
              "solidity": 0.2
             }
            },
            "type": "barpolar"
           }
          ],
          "carpet": [
           {
            "aaxis": {
             "endlinecolor": "#2a3f5f",
             "gridcolor": "white",
             "linecolor": "white",
             "minorgridcolor": "white",
             "startlinecolor": "#2a3f5f"
            },
            "baxis": {
             "endlinecolor": "#2a3f5f",
             "gridcolor": "white",
             "linecolor": "white",
             "minorgridcolor": "white",
             "startlinecolor": "#2a3f5f"
            },
            "type": "carpet"
           }
          ],
          "choropleth": [
           {
            "colorbar": {
             "outlinewidth": 0,
             "ticks": ""
            },
            "type": "choropleth"
           }
          ],
          "contour": [
           {
            "colorbar": {
             "outlinewidth": 0,
             "ticks": ""
            },
            "colorscale": [
             [
              0,
              "#0d0887"
             ],
             [
              0.1111111111111111,
              "#46039f"
             ],
             [
              0.2222222222222222,
              "#7201a8"
             ],
             [
              0.3333333333333333,
              "#9c179e"
             ],
             [
              0.4444444444444444,
              "#bd3786"
             ],
             [
              0.5555555555555556,
              "#d8576b"
             ],
             [
              0.6666666666666666,
              "#ed7953"
             ],
             [
              0.7777777777777778,
              "#fb9f3a"
             ],
             [
              0.8888888888888888,
              "#fdca26"
             ],
             [
              1,
              "#f0f921"
             ]
            ],
            "type": "contour"
           }
          ],
          "contourcarpet": [
           {
            "colorbar": {
             "outlinewidth": 0,
             "ticks": ""
            },
            "type": "contourcarpet"
           }
          ],
          "heatmap": [
           {
            "colorbar": {
             "outlinewidth": 0,
             "ticks": ""
            },
            "colorscale": [
             [
              0,
              "#0d0887"
             ],
             [
              0.1111111111111111,
              "#46039f"
             ],
             [
              0.2222222222222222,
              "#7201a8"
             ],
             [
              0.3333333333333333,
              "#9c179e"
             ],
             [
              0.4444444444444444,
              "#bd3786"
             ],
             [
              0.5555555555555556,
              "#d8576b"
             ],
             [
              0.6666666666666666,
              "#ed7953"
             ],
             [
              0.7777777777777778,
              "#fb9f3a"
             ],
             [
              0.8888888888888888,
              "#fdca26"
             ],
             [
              1,
              "#f0f921"
             ]
            ],
            "type": "heatmap"
           }
          ],
          "heatmapgl": [
           {
            "colorbar": {
             "outlinewidth": 0,
             "ticks": ""
            },
            "colorscale": [
             [
              0,
              "#0d0887"
             ],
             [
              0.1111111111111111,
              "#46039f"
             ],
             [
              0.2222222222222222,
              "#7201a8"
             ],
             [
              0.3333333333333333,
              "#9c179e"
             ],
             [
              0.4444444444444444,
              "#bd3786"
             ],
             [
              0.5555555555555556,
              "#d8576b"
             ],
             [
              0.6666666666666666,
              "#ed7953"
             ],
             [
              0.7777777777777778,
              "#fb9f3a"
             ],
             [
              0.8888888888888888,
              "#fdca26"
             ],
             [
              1,
              "#f0f921"
             ]
            ],
            "type": "heatmapgl"
           }
          ],
          "histogram": [
           {
            "marker": {
             "pattern": {
              "fillmode": "overlay",
              "size": 10,
              "solidity": 0.2
             }
            },
            "type": "histogram"
           }
          ],
          "histogram2d": [
           {
            "colorbar": {
             "outlinewidth": 0,
             "ticks": ""
            },
            "colorscale": [
             [
              0,
              "#0d0887"
             ],
             [
              0.1111111111111111,
              "#46039f"
             ],
             [
              0.2222222222222222,
              "#7201a8"
             ],
             [
              0.3333333333333333,
              "#9c179e"
             ],
             [
              0.4444444444444444,
              "#bd3786"
             ],
             [
              0.5555555555555556,
              "#d8576b"
             ],
             [
              0.6666666666666666,
              "#ed7953"
             ],
             [
              0.7777777777777778,
              "#fb9f3a"
             ],
             [
              0.8888888888888888,
              "#fdca26"
             ],
             [
              1,
              "#f0f921"
             ]
            ],
            "type": "histogram2d"
           }
          ],
          "histogram2dcontour": [
           {
            "colorbar": {
             "outlinewidth": 0,
             "ticks": ""
            },
            "colorscale": [
             [
              0,
              "#0d0887"
             ],
             [
              0.1111111111111111,
              "#46039f"
             ],
             [
              0.2222222222222222,
              "#7201a8"
             ],
             [
              0.3333333333333333,
              "#9c179e"
             ],
             [
              0.4444444444444444,
              "#bd3786"
             ],
             [
              0.5555555555555556,
              "#d8576b"
             ],
             [
              0.6666666666666666,
              "#ed7953"
             ],
             [
              0.7777777777777778,
              "#fb9f3a"
             ],
             [
              0.8888888888888888,
              "#fdca26"
             ],
             [
              1,
              "#f0f921"
             ]
            ],
            "type": "histogram2dcontour"
           }
          ],
          "mesh3d": [
           {
            "colorbar": {
             "outlinewidth": 0,
             "ticks": ""
            },
            "type": "mesh3d"
           }
          ],
          "parcoords": [
           {
            "line": {
             "colorbar": {
              "outlinewidth": 0,
              "ticks": ""
             }
            },
            "type": "parcoords"
           }
          ],
          "pie": [
           {
            "automargin": true,
            "type": "pie"
           }
          ],
          "scatter": [
           {
            "fillpattern": {
             "fillmode": "overlay",
             "size": 10,
             "solidity": 0.2
            },
            "type": "scatter"
           }
          ],
          "scatter3d": [
           {
            "line": {
             "colorbar": {
              "outlinewidth": 0,
              "ticks": ""
             }
            },
            "marker": {
             "colorbar": {
              "outlinewidth": 0,
              "ticks": ""
             }
            },
            "type": "scatter3d"
           }
          ],
          "scattercarpet": [
           {
            "marker": {
             "colorbar": {
              "outlinewidth": 0,
              "ticks": ""
             }
            },
            "type": "scattercarpet"
           }
          ],
          "scattergeo": [
           {
            "marker": {
             "colorbar": {
              "outlinewidth": 0,
              "ticks": ""
             }
            },
            "type": "scattergeo"
           }
          ],
          "scattergl": [
           {
            "marker": {
             "colorbar": {
              "outlinewidth": 0,
              "ticks": ""
             }
            },
            "type": "scattergl"
           }
          ],
          "scattermapbox": [
           {
            "marker": {
             "colorbar": {
              "outlinewidth": 0,
              "ticks": ""
             }
            },
            "type": "scattermapbox"
           }
          ],
          "scatterpolar": [
           {
            "marker": {
             "colorbar": {
              "outlinewidth": 0,
              "ticks": ""
             }
            },
            "type": "scatterpolar"
           }
          ],
          "scatterpolargl": [
           {
            "marker": {
             "colorbar": {
              "outlinewidth": 0,
              "ticks": ""
             }
            },
            "type": "scatterpolargl"
           }
          ],
          "scatterternary": [
           {
            "marker": {
             "colorbar": {
              "outlinewidth": 0,
              "ticks": ""
             }
            },
            "type": "scatterternary"
           }
          ],
          "surface": [
           {
            "colorbar": {
             "outlinewidth": 0,
             "ticks": ""
            },
            "colorscale": [
             [
              0,
              "#0d0887"
             ],
             [
              0.1111111111111111,
              "#46039f"
             ],
             [
              0.2222222222222222,
              "#7201a8"
             ],
             [
              0.3333333333333333,
              "#9c179e"
             ],
             [
              0.4444444444444444,
              "#bd3786"
             ],
             [
              0.5555555555555556,
              "#d8576b"
             ],
             [
              0.6666666666666666,
              "#ed7953"
             ],
             [
              0.7777777777777778,
              "#fb9f3a"
             ],
             [
              0.8888888888888888,
              "#fdca26"
             ],
             [
              1,
              "#f0f921"
             ]
            ],
            "type": "surface"
           }
          ],
          "table": [
           {
            "cells": {
             "fill": {
              "color": "#EBF0F8"
             },
             "line": {
              "color": "white"
             }
            },
            "header": {
             "fill": {
              "color": "#C8D4E3"
             },
             "line": {
              "color": "white"
             }
            },
            "type": "table"
           }
          ]
         },
         "layout": {
          "annotationdefaults": {
           "arrowcolor": "#2a3f5f",
           "arrowhead": 0,
           "arrowwidth": 1
          },
          "autotypenumbers": "strict",
          "coloraxis": {
           "colorbar": {
            "outlinewidth": 0,
            "ticks": ""
           }
          },
          "colorscale": {
           "diverging": [
            [
             0,
             "#8e0152"
            ],
            [
             0.1,
             "#c51b7d"
            ],
            [
             0.2,
             "#de77ae"
            ],
            [
             0.3,
             "#f1b6da"
            ],
            [
             0.4,
             "#fde0ef"
            ],
            [
             0.5,
             "#f7f7f7"
            ],
            [
             0.6,
             "#e6f5d0"
            ],
            [
             0.7,
             "#b8e186"
            ],
            [
             0.8,
             "#7fbc41"
            ],
            [
             0.9,
             "#4d9221"
            ],
            [
             1,
             "#276419"
            ]
           ],
           "sequential": [
            [
             0,
             "#0d0887"
            ],
            [
             0.1111111111111111,
             "#46039f"
            ],
            [
             0.2222222222222222,
             "#7201a8"
            ],
            [
             0.3333333333333333,
             "#9c179e"
            ],
            [
             0.4444444444444444,
             "#bd3786"
            ],
            [
             0.5555555555555556,
             "#d8576b"
            ],
            [
             0.6666666666666666,
             "#ed7953"
            ],
            [
             0.7777777777777778,
             "#fb9f3a"
            ],
            [
             0.8888888888888888,
             "#fdca26"
            ],
            [
             1,
             "#f0f921"
            ]
           ],
           "sequentialminus": [
            [
             0,
             "#0d0887"
            ],
            [
             0.1111111111111111,
             "#46039f"
            ],
            [
             0.2222222222222222,
             "#7201a8"
            ],
            [
             0.3333333333333333,
             "#9c179e"
            ],
            [
             0.4444444444444444,
             "#bd3786"
            ],
            [
             0.5555555555555556,
             "#d8576b"
            ],
            [
             0.6666666666666666,
             "#ed7953"
            ],
            [
             0.7777777777777778,
             "#fb9f3a"
            ],
            [
             0.8888888888888888,
             "#fdca26"
            ],
            [
             1,
             "#f0f921"
            ]
           ]
          },
          "colorway": [
           "#636efa",
           "#EF553B",
           "#00cc96",
           "#ab63fa",
           "#FFA15A",
           "#19d3f3",
           "#FF6692",
           "#B6E880",
           "#FF97FF",
           "#FECB52"
          ],
          "font": {
           "color": "#2a3f5f"
          },
          "geo": {
           "bgcolor": "white",
           "lakecolor": "white",
           "landcolor": "#E5ECF6",
           "showlakes": true,
           "showland": true,
           "subunitcolor": "white"
          },
          "hoverlabel": {
           "align": "left"
          },
          "hovermode": "closest",
          "mapbox": {
           "style": "light"
          },
          "paper_bgcolor": "white",
          "plot_bgcolor": "#E5ECF6",
          "polar": {
           "angularaxis": {
            "gridcolor": "white",
            "linecolor": "white",
            "ticks": ""
           },
           "bgcolor": "#E5ECF6",
           "radialaxis": {
            "gridcolor": "white",
            "linecolor": "white",
            "ticks": ""
           }
          },
          "scene": {
           "xaxis": {
            "backgroundcolor": "#E5ECF6",
            "gridcolor": "white",
            "gridwidth": 2,
            "linecolor": "white",
            "showbackground": true,
            "ticks": "",
            "zerolinecolor": "white"
           },
           "yaxis": {
            "backgroundcolor": "#E5ECF6",
            "gridcolor": "white",
            "gridwidth": 2,
            "linecolor": "white",
            "showbackground": true,
            "ticks": "",
            "zerolinecolor": "white"
           },
           "zaxis": {
            "backgroundcolor": "#E5ECF6",
            "gridcolor": "white",
            "gridwidth": 2,
            "linecolor": "white",
            "showbackground": true,
            "ticks": "",
            "zerolinecolor": "white"
           }
          },
          "shapedefaults": {
           "line": {
            "color": "#2a3f5f"
           }
          },
          "ternary": {
           "aaxis": {
            "gridcolor": "white",
            "linecolor": "white",
            "ticks": ""
           },
           "baxis": {
            "gridcolor": "white",
            "linecolor": "white",
            "ticks": ""
           },
           "bgcolor": "#E5ECF6",
           "caxis": {
            "gridcolor": "white",
            "linecolor": "white",
            "ticks": ""
           }
          },
          "title": {
           "x": 0.05
          },
          "xaxis": {
           "automargin": true,
           "gridcolor": "white",
           "linecolor": "white",
           "ticks": "",
           "title": {
            "standoff": 15
           },
           "zerolinecolor": "white",
           "zerolinewidth": 2
          },
          "yaxis": {
           "automargin": true,
           "gridcolor": "white",
           "linecolor": "white",
           "ticks": "",
           "title": {
            "standoff": 15
           },
           "zerolinecolor": "white",
           "zerolinewidth": 2
          }
         }
        }
       }
      }
     },
     "metadata": {},
     "output_type": "display_data"
    }
   ],
   "source": [
    "## For each article, what was each users scroll percentage + read time? \n",
    "\n",
    "\n",
    "## Get all unique ids in a list\n",
    "\n",
    "unique_user_ids = df['user_id'].values[0:1000]\n",
    "\n",
    "## We take the set because the scroll, article per user is joined in a list for every user id (so just take the set of it!)\n",
    "unique_user_ids = set(unique_user_ids)\n",
    "\n",
    "\n",
    "unique_article_ids = df['article_id'].unique()\n",
    "unique_article_ids= unique_article_ids[~np.isnan(unique_article_ids)]\n",
    "\n",
    "# Create dictionaries\n",
    "\n",
    "unique_article_scroll = {k: [0] for k in unique_article_ids}\n",
    "\n",
    "for id in unique_user_ids:\n",
    "    # Get the subset of that user id\n",
    "    tmp_df = df[df['user_id'] == id]\n",
    "\n",
    "    # Now lets go through each scroll and article\n",
    "    ## Iterate through each of the df\n",
    "    indices = np.array(tmp_df.index)\n",
    "    for i in indices:\n",
    "        tmp_dict = {}\n",
    "        # Select the scroll / article of that indice and \n",
    "        tmp_scroll = tmp_df['scroll_percentage_fixed'][i]\n",
    "\n",
    "        tmp_article = tmp_df['article_id_fixed'][i]\n",
    "\n",
    "        scroll = [x for x in tmp_scroll]\n",
    "        \n",
    "        articles = [np.int64(x) for x in tmp_article]\n",
    "    \n",
    "        tmp_dict = {k:v for k,v in zip(articles, scroll)}\n",
    "\n",
    "\n",
    "        for k,v in zip(tmp_dict.keys(), tmp_dict.values()):\n",
    "\n",
    "            if (k in unique_article_scroll.keys()) & (np.isnan(v) == False):\n",
    "                tmp_array= np.append(unique_article_scroll[k],v)\n",
    "                unique_article_scroll[k] = tmp_array\n",
    "        \n",
    "    \n",
    "# Get the average scroll length for each article\n",
    "for k,v in zip(unique_article_scroll.keys(), unique_article_scroll.values()):\n",
    "    unique_article_scroll[k] = np.mean(v)\n",
    "\n",
    "\n",
    "\n",
    "# What does the hourly user activity look like?\n",
    "indices = [x for x in unique_article_scroll.keys()]\n",
    "values = [x for x in unique_article_scroll.values()]\n",
    "\n",
    "fig = go.Figure()\n",
    "\n",
    "# Add traces\n",
    "fig.add_trace(go.Scatter(x = indices, y = values,\n",
    "                         mode = 'markers'\n",
    "                         )\n",
    "\n",
    ")\n",
    "\n",
    "fig.show()\n"
   ]
  },
  {
   "cell_type": "markdown",
   "id": "6f1df01c",
   "metadata": {},
   "source": []
  },
  {
   "cell_type": "code",
   "execution_count": 240,
   "id": "7849464a",
   "metadata": {},
   "outputs": [
    {
     "data": {
      "application/vnd.plotly.v1+json": {
       "config": {
        "plotlyServerURL": "https://plot.ly"
       },
       "data": [
        {
         "mode": "markers",
         "type": "scatter",
         "x": [
          9778682,
          9777492,
          9778623,
          9778627,
          9778769,
          9778375,
          9778657,
          9778718,
          9776040,
          9776315,
          9776148,
          9773290,
          9773282,
          9779269,
          9778952,
          9779242,
          9779227,
          9774096,
          9773987,
          9780195,
          9773873,
          9759891,
          9772830,
          9772858,
          9772038,
          9772442,
          9773356,
          9780039,
          9779263,
          9780096,
          9777296,
          9778021,
          9775171,
          9775776,
          9775800,
          9775873,
          9775881,
          9775648,
          9773297,
          9772629,
          9684351,
          9776337,
          9778110,
          9778035,
          9775325,
          9777307,
          9778139,
          9777941,
          9778413,
          9778973,
          9778845,
          9776046,
          9778168,
          9778328,
          9778262,
          9778302,
          9773700,
          9773486,
          9773279,
          9773852,
          9772228,
          9773288,
          9774065,
          9773465,
          9773887,
          9772045,
          9774568,
          9773985,
          9774404,
          9774527,
          9774142,
          9772355,
          9773045,
          9772343,
          9772502,
          9777319,
          9777475,
          9777190,
          9776710,
          9771113,
          9772082,
          9768308,
          9492619,
          9769917,
          9771568,
          9758825,
          9772750,
          9772925,
          9775939,
          9776238,
          9775673,
          9776259,
          9776234,
          9774972,
          9770028,
          9775964,
          9772545,
          9776087,
          9776303,
          9776278,
          9774580,
          9757574,
          9769684,
          9769387,
          9710203,
          9774789,
          9774764,
          9769197,
          9771367,
          9771764,
          9771576,
          9771168,
          9770082,
          9771330,
          9772632,
          9772367,
          9772660,
          9772380,
          9772227,
          9772443,
          9772882,
          9772099,
          9776176,
          9774358,
          9671924,
          9774542,
          9665367,
          9775079,
          9774079,
          9773846,
          9774648,
          9774074,
          9767665,
          9772453,
          9775894,
          9775850,
          9772601,
          9769624,
          9772517,
          9769504,
          9773210,
          9767507,
          9770045,
          9773278,
          9772434,
          9773295,
          9773461,
          9597215,
          9775990,
          9775927,
          9776855,
          9776870,
          9776691,
          9777529,
          9777648,
          9777308,
          9773711,
          9773543,
          9773617,
          9761859,
          9773744,
          9774376,
          9776041,
          9771916,
          9769348,
          9771919,
          9773137,
          9773070,
          9710762,
          9773015,
          9773084,
          9772475,
          9756785,
          9770102,
          9773412,
          9773364,
          9687598,
          9771333,
          9771325,
          9771626,
          9771572,
          9771479,
          9765759,
          9674639,
          9776917,
          9776851,
          9779019,
          9779204,
          9779205,
          9780193,
          9779713,
          9780020,
          9779860,
          9766434,
          9746428,
          9779867,
          9778827,
          9778939,
          9779427,
          9677792,
          9780271,
          9775562,
          9775573,
          9731725,
          9774708,
          9774403,
          9771779,
          9769424,
          9771796,
          9776099,
          9779738,
          9778736,
          9337779,
          9778922,
          9778780,
          9778804,
          9778731,
          9778257,
          9776438,
          9775701,
          9772193,
          9772219,
          9772221,
          9771787,
          9772185,
          9769341,
          9772168,
          9770051,
          9707138,
          9773857,
          9774363,
          9774352,
          9777767,
          9777005,
          9777470,
          9769432,
          9771554,
          9773248,
          9771248,
          9774430,
          9773350,
          9774032,
          9774252,
          9771996,
          9774517,
          9772710,
          9772029,
          9772344,
          9772291,
          9779577,
          9780181,
          9772366,
          9772772,
          9772635,
          9774383,
          9773464,
          9776223,
          9776449,
          9776047,
          9777822,
          9778971,
          9779045,
          9779813,
          9773392,
          9775998,
          9774574,
          9776341,
          9769605,
          9776508,
          9777156,
          9777910,
          9776322,
          9776394,
          9779129,
          9769712,
          9771351,
          9775352,
          9775855,
          9776246,
          9767490,
          9776862,
          9776287,
          9776715,
          9776385,
          9776497,
          9778500,
          9777334,
          9777026,
          9777043,
          9777079,
          9774652,
          9775277,
          9775183,
          9774826,
          9775131,
          9775202,
          9084355,
          9771999,
          9775142,
          9759966,
          9774461,
          9748106,
          9774516,
          9772706,
          9777358,
          9771081,
          9776918,
          9772275,
          9775323,
          9775003,
          9768664,
          9772300,
          9771438,
          9778819,
          9776420,
          9779408,
          9776071,
          9777565,
          9778004,
          9774541,
          9779737,
          9779748,
          9779538,
          9779674,
          9779705,
          9779517,
          9775419,
          9772805,
          9771739,
          9771846,
          9771691,
          9696118,
          9774187,
          9772727,
          9779657,
          9779723,
          9778326,
          9778318,
          9773943,
          9500467,
          9774120,
          9773673,
          9773726,
          9755800,
          9776694,
          9770452,
          9773078,
          9767637,
          9777768,
          9776560,
          9774297,
          9649632,
          9771688,
          9760758,
          9771187,
          9772115,
          9771995,
          9775763,
          9776377,
          9776049,
          9746810,
          9778915,
          9778710,
          9778813,
          9772543,
          9740551,
          9759544,
          9775076,
          9775184,
          9774554,
          9774840,
          9775042,
          9705343,
          9670241,
          9775596,
          9778669,
          9777397,
          9775985,
          9080070,
          9776544,
          9776386,
          9775804,
          9772485,
          9670430,
          9771855,
          9771903,
          7213923,
          9771896,
          9696065,
          9776434,
          9774899,
          9772862,
          9771125,
          9771888,
          9771758,
          9769370,
          9709555,
          9775713,
          9776897,
          9690190,
          9776916,
          9776882,
          9776566,
          9775582,
          9778219,
          9778843,
          9773434,
          9773335,
          9776864,
          9776808,
          9674025,
          9759955,
          9773172,
          9775793,
          9773341,
          9771254,
          9768583,
          9771128,
          9728974,
          9770451,
          9769981,
          9771242,
          9769996,
          9615540,
          9645545,
          9770029,
          9767903,
          9770178,
          9769469,
          9770541,
          9717015,
          9715619,
          9774015,
          9769531,
          9769581,
          9774392,
          9774626,
          9778102,
          9778236,
          9772026,
          9772284,
          9772000,
          9772256,
          9771627,
          9769404,
          9772088,
          9773275,
          9777621,
          9778310,
          9770997,
          9767697,
          9778645,
          9778902,
          9775794,
          9777804,
          9777693,
          9777704,
          9778007,
          9772733,
          9772302,
          9772297,
          9772407,
          9775908,
          9777955,
          9714274,
          9772768,
          9772050,
          9772575,
          9482970,
          9749025,
          9777856,
          9459174,
          9772869,
          9775518,
          9758424,
          9775484,
          9775347,
          9775500,
          9744403,
          9766721,
          9775207,
          9774733,
          9775361,
          9754160,
          9775489,
          9575212,
          9775485,
          9775402,
          9774595,
          9772711,
          9779289,
          9779511,
          9696204,
          9779580,
          9779641,
          9772548,
          9779541,
          9779141,
          9778028,
          9778198,
          9777969,
          9659675,
          9765965,
          9765804,
          9779007,
          9778448,
          9779285,
          9779377,
          9776474,
          9663605,
          9737393,
          9767417,
          9743870,
          9776442,
          9775905,
          9775717,
          9773877,
          9774013,
          9771166,
          9769762,
          9378062,
          9775430,
          9773539,
          9773470,
          9772678,
          9777505,
          9775983,
          9775722,
          9775699,
          9775647,
          9773947,
          9770288,
          9772866,
          9776967,
          9770792,
          9664250,
          9773566,
          9761586,
          9777750,
          9658252,
          9577133,
          9732528,
          9558888,
          9772047,
          9766140,
          9770729,
          9770882,
          9771126,
          9420172,
          9770515,
          9772813,
          9765737,
          9770145,
          9775803,
          9775809,
          9775621,
          7306652,
          9775846,
          9773574,
          9773697,
          9655546,
          9696657,
          9767368,
          9770450,
          9771579,
          9775965,
          9776152,
          9771460,
          9672159,
          9778369,
          9778945,
          9771151,
          9726171,
          9778351,
          9778668,
          9778745,
          9778666,
          9779648,
          9575236,
          8540672,
          9768829,
          9772092,
          9775697,
          9769433,
          9777406,
          9777385,
          9777374,
          9774163,
          9776070,
          9766178,
          9765336,
          9770369,
          9779873,
          9772095,
          9772032,
          9778628,
          9772751,
          9774706,
          9779423,
          9777636,
          9777182,
          9570877,
          9760091,
          9778158,
          9770194,
          9656793,
          9769471,
          9193263,
          9776184,
          9769306,
          9776369,
          9776553,
          9774382,
          9672569,
          9775708,
          9771352,
          9772389,
          9780019,
          9778277,
          9779968,
          9779181,
          9762373,
          9771124,
          9771121,
          9771224,
          9773447,
          9773351,
          9733679,
          9777769,
          9777292,
          9777582,
          9769800,
          9772963,
          9772448,
          9746360,
          9772873,
          9772903,
          9753689,
          9749847,
          9772659,
          9417521,
          9771042,
          9771065,
          9772363,
          9772328,
          9460933,
          9777320,
          9679590,
          9771992,
          9773768,
          9773638,
          9768043,
          9776332,
          9771127,
          9777034,
          9778226,
          9758734,
          9770886,
          9750959,
          9775388,
          9771083,
          9721993,
          9771253,
          9742270,
          9772668,
          9772923,
          9748042,
          9778728,
          9777811,
          9778422,
          9773296,
          9372221,
          9706958,
          9775716,
          9425346,
          9653398,
          8062403,
          9772178,
          9769679,
          9779777,
          8991640,
          9769580,
          9777992,
          9779956,
          9774321,
          9747757,
          9770283,
          9771938,
          9776985,
          9777075,
          9776489,
          9766007,
          9771686,
          9220931,
          9532638,
          9778386,
          9768802,
          9773001,
          9709817,
          9738980,
          9771859,
          9773962,
          9775331,
          9738729,
          9775915,
          9774803,
          9774559,
          9771237,
          9767955,
          9777036,
          9777345,
          9777299,
          9777000,
          9776406,
          9676294,
          9736876,
          9700692,
          9779489,
          9768687,
          9772241,
          9774506,
          9778942,
          9778155,
          9777364,
          9776023,
          9776922,
          9777464,
          9775256,
          9706960,
          9774618,
          9765973,
          9776929,
          9779184,
          9779071,
          9754002,
          9779185,
          9711824,
          9779186,
          9743951,
          9775567,
          9775824,
          9776688,
          9771948,
          9673382,
          9770292,
          9098807,
          9771473,
          9759157,
          9650897,
          9773378,
          9773376,
          9735909,
          9709095,
          9767909,
          9773102,
          9673285,
          9779498,
          9778875,
          9521144,
          8006832,
          9772263,
          9700074,
          9774598,
          9765941,
          9538375,
          9772957,
          9779366,
          9769366,
          9770551,
          9727087,
          9778074,
          9709117,
          9770798,
          9436758,
          9775752,
          9775909,
          9775703,
          9775903,
          9771612,
          9775785,
          9760271,
          9779267,
          9344447,
          9617855,
          9765713,
          9770867,
          9779747,
          9686860,
          9771869,
          9769559,
          7593077,
          9440043,
          9773488,
          9695259,
          9769743,
          9652966,
          9762122,
          9775900,
          9775577,
          9761788,
          9767566,
          9778220,
          9779288,
          9761926,
          9778192,
          9778063,
          9771197,
          9774549,
          9775611,
          9771355,
          9775568,
          9774532,
          9766225,
          9774017,
          9620411,
          9740880,
          7474162,
          9674415,
          9746627,
          9771350,
          9773003,
          9773228,
          9777233,
          9485813,
          9774555,
          9773612,
          9665320,
          9771223,
          9769769,
          9771523,
          9770533,
          9779507,
          9708656,
          9725350,
          9693827,
          9345280,
          9774828,
          9769557,
          9774923,
          9740618,
          9779150,
          9773900,
          9768311,
          9767470,
          9733858,
          9779383,
          9779355,
          9777164,
          9776968,
          9767868,
          9777520,
          9769497,
          9772279,
          9625291,
          9447145,
          9775478,
          9773868,
          9775461,
          9654458,
          9779133,
          9769622,
          9630091,
          9775551,
          9766752,
          9463833,
          9575287,
          9702511,
          9690590,
          9770989,
          9699394,
          8007444,
          7460419,
          9542734,
          9774429,
          9775733,
          9774943,
          9661024,
          9765989,
          9771842,
          9768599,
          9754571,
          9773316,
          9776014,
          9778722,
          9654741,
          9768469,
          9272340,
          9711985,
          9596684,
          9717908,
          9770006,
          9754350,
          9767481,
          9682133,
          9689389,
          9765753,
          9768866,
          9775493,
          9774287,
          9730408,
          9778381,
          9768150,
          9696324,
          9760069,
          9769575,
          9768820,
          9769472,
          9771119,
          9578072,
          9779996,
          9775371,
          9778701,
          9550308,
          9778444,
          9744070,
          9770538,
          9608020,
          9758882,
          9770483,
          9759345,
          9774557,
          9774937,
          9758432,
          9750696,
          6187367,
          9769781,
          9771775,
          9745405,
          9773307,
          9636650,
          9772104,
          9779642,
          9734255,
          9462935,
          9749349,
          9771051,
          9766261,
          9709329,
          9704504,
          9643054,
          9756397,
          9774944,
          9772433,
          9776191,
          9740324,
          9734834,
          9566287,
          9779430,
          9775283,
          9770741,
          9769356,
          9769553,
          9770030,
          9755712,
          9768321,
          9767483,
          9770594,
          9773306,
          9775486,
          9704136,
          9770385,
          9681449,
          9779629,
          9754265,
          9779520,
          9719431,
          9777228,
          9749643,
          9774229,
          9770709,
          7311533,
          9779564,
          9684685,
          9710906,
          9767302,
          9773292,
          9694752,
          9690878,
          9775297,
          9544875,
          9420226,
          9773408,
          9142581,
          9778788,
          9776190,
          9767447,
          9762071,
          9102576,
          9099237,
          9757698,
          9694022,
          9778905,
          9230405,
          9740903,
          9772557,
          9771235,
          9770638,
          9659345,
          9777393,
          9659513,
          9762352,
          9752063,
          9625180,
          9652685,
          9767604,
          9763448,
          9186608,
          9718109,
          9769572,
          9156421,
          9670286,
          8113223,
          9748321,
          9766231,
          9770726,
          9759717,
          9503569,
          9268234,
          9773014,
          9771340,
          9735316,
          9738457,
          9756287,
          9695098,
          9761391,
          9769380,
          9768328,
          9775885,
          9594548,
          7865155,
          9669015,
          9725466,
          9676621,
          9763284,
          9720068,
          9778917,
          9769450,
          9778661,
          9734095,
          3198681,
          9773866,
          9462726,
          9770402,
          9768850,
          9700085,
          9666025,
          9769892,
          9771645,
          8525864,
          9302120,
          8044496,
          9680907,
          9724617,
          9748104,
          9769641,
          9295542,
          9647283,
          9718236,
          9749628,
          9767363,
          9700511,
          9708479,
          9679835,
          9669647,
          9770829,
          9709326,
          9770207,
          9774125,
          9667585,
          9704245,
          9052240,
          9773493,
          9688102,
          9731647,
          7377747,
          4721905,
          9728166,
          9395179,
          9776053,
          9767765,
          9774020,
          9776551,
          9733224,
          9511021,
          9779417,
          9780162,
          9775401,
          9578459,
          9660320,
          6741781,
          9757639,
          9756146,
          9649538,
          9152828,
          9770492,
          9773018,
          9776292,
          9688780,
          9755571,
          9657797,
          9754730,
          9769459,
          9702964,
          9701446,
          9726453,
          9702181,
          9714168,
          9055748,
          9764086,
          9767725,
          9691746,
          9564613,
          9737094,
          9716285,
          9772835,
          9777007,
          9774158,
          9766238,
          9295706,
          9712973,
          9684423,
          9744011,
          9770491,
          9577091,
          9534036,
          9715101,
          9771009,
          9654553,
          9658292,
          9453867,
          9566544,
          9717962,
          9759707,
          9766560,
          5902663,
          9764444,
          9778842,
          9618572,
          9753907,
          9443420,
          9655223,
          9657528,
          9746073,
          9142564,
          6956124,
          9772152,
          9423550,
          9674812,
          9655559,
          9525589,
          9769378,
          9770390,
          9010422,
          8560195,
          9376584,
          9770532,
          9721723,
          9759681,
          9686731,
          9672256,
          9778787,
          9706238,
          9760170,
          9767534,
          9658650,
          9730858,
          9679218,
          9779316,
          9154001,
          9766620,
          9757878,
          9698128,
          8089512,
          9596402,
          9778216,
          9776256,
          9771156,
          9756169,
          9706270,
          9706339,
          9670033,
          9773825,
          9428643,
          9339835,
          9198968,
          9657822,
          9773199,
          9563703,
          9775529,
          9652783,
          9759142,
          9703841,
          9710065,
          9488931,
          9776697,
          9739342,
          9629026,
          9761963,
          9776690,
          9711877,
          9770327,
          9613731,
          9733666,
          9663230,
          9700883,
          9738868,
          9515997,
          9769457,
          9712699,
          9660631,
          9729924,
          8315213,
          4908235,
          9721163,
          9648312,
          9759389,
          9688372,
          9705526,
          9770799,
          9766770,
          9770333,
          9482380,
          9706355,
          9766603,
          9531745,
          9776583,
          9699564,
          9768387,
          9640315,
          8518755,
          9627627,
          9653790,
          9486486,
          9667806,
          8185279,
          9500505,
          9736745,
          9766599,
          9666182,
          9767852,
          9539719,
          9627810,
          9766015,
          8741711,
          9696697,
          9602795,
          9701992,
          7773513,
          9654415,
          9735815,
          9620371,
          9717256,
          6874591,
          9757226,
          9432542,
          9732481,
          9474700,
          9553271,
          9679140,
          9370306,
          9767336,
          7219767,
          9724944,
          9554599,
          9769347,
          9767268,
          9735724,
          9725194,
          9735866,
          9735669,
          9725209,
          9735795,
          9735645,
          9676308,
          9779797,
          9737594,
          9770604,
          9715840,
          9671904,
          9769650,
          8534547,
          9741144,
          9573677,
          9656344,
          9730488,
          9759476,
          9766873,
          9771749,
          9748464,
          9768377,
          9737199,
          9769193,
          9739153,
          9766695,
          9778313,
          9779891,
          9659139,
          9740330,
          9734133,
          9749014,
          9720153,
          9766379,
          9742735,
          7273757,
          9520286,
          7629829,
          9679755,
          9770568,
          9775056,
          9277736,
          9767231,
          9666919,
          9203696,
          9763188,
          7133391,
          9673979,
          9522337,
          9748670,
          9769804,
          9364014,
          9742173,
          9712694,
          9774823,
          6093910,
          9684309,
          9667923,
          9717219,
          9621194,
          9627498,
          9527358,
          9699867,
          9647704,
          9766832,
          9742172,
          9757470,
          9769367,
          9669928,
          9744301,
          9775432,
          9746558,
          9606510,
          9649471,
          9702083,
          9700447,
          9705425,
          9767242,
          9767554,
          9749857,
          9735991,
          9761484,
          9768481,
          9699601,
          8952833,
          9750904,
          9551172,
          9559219,
          9563007,
          9741415,
          4089734,
          8487537,
          9557998,
          9749469,
          4046231,
          9287091,
          9668080,
          9651719,
          9760796,
          9730253,
          9769478,
          9602118,
          9718212,
          8658642,
          9770023,
          9766011,
          9679599,
          9764978,
          9765194,
          9765925,
          9443447,
          9768242,
          7118227,
          9729885,
          9766042,
          9120051,
          9719416,
          9665220,
          5712427,
          9764759,
          9767639,
          9776570,
          9655794,
          9747633,
          9566590,
          9704452,
          9440568,
          9681073,
          9452721,
          9767975,
          9760140,
          9670154,
          9763880,
          9763977,
          9488213,
          9301207,
          9734061,
          9645620,
          9709983,
          9767247,
          9648662,
          9767957,
          9390949,
          9667501,
          9341081,
          9766722,
          9676230,
          9669548,
          8011219,
          9722202,
          9680102,
          9771398,
          9760206,
          8169191,
          9759708,
          9666599,
          9766889,
          9651229,
          9095356,
          9448302,
          6290485,
          9708367,
          9655661,
          9768515,
          9768002,
          9566633,
          9773727,
          9769496,
          9776050,
          9767233,
          9330692,
          9698332,
          9728452,
          9673030,
          9584745,
          9770218,
          9723342,
          9504105,
          9745751,
          9712952,
          4012996,
          9405746,
          9336443,
          9547869,
          9766146,
          9757716,
          9735224,
          9670069,
          9549390,
          8293793,
          9746011,
          9750891,
          9583381,
          9768566,
          8410476,
          9665917,
          9741033,
          9488208,
          9628892,
          9765618,
          9704918,
          4039009,
          9470078,
          9769244,
          9642602,
          9673948,
          9301117,
          9770146,
          9762678,
          9354622,
          9597965,
          9766592,
          9527795,
          9677204,
          9766441,
          9754799,
          9699053,
          9769909,
          9679995,
          9762288,
          9553192,
          9391394,
          9738993,
          9674243,
          9672915,
          9644742,
          9744530,
          9757972,
          9753758,
          9759080,
          9513606,
          8922242,
          9665648,
          9766136,
          9203920,
          9702111,
          9765156,
          9656406,
          9699866,
          9766757,
          9385951,
          9679971,
          9204368,
          9514727,
          9644912,
          7594265,
          9565423,
          9708887,
          9729839,
          9766348,
          9738193,
          7880240,
          9767751,
          9569934,
          9699917,
          9702281,
          9363981,
          9497898,
          9751671,
          9651883,
          9542727,
          9756098,
          9736646,
          9721606,
          9768638,
          9510890,
          9761359,
          9647819,
          9602114,
          9361175,
          9219607,
          9725525,
          9418347,
          9547569,
          9689167,
          9735704,
          9737092,
          9467983,
          9414170,
          9647575,
          6640267,
          9561819,
          9685982,
          9257300,
          6586355,
          9714376,
          7582360,
          6833239,
          9773644,
          9646565,
          9524263,
          9764622,
          9673416,
          9659315,
          9769701,
          9679459,
          9521514,
          9716607,
          9683279,
          9664560,
          9718090,
          8731066,
          9275787,
          9756546,
          9521552,
          9603946,
          9168438,
          9766129,
          9765955,
          9317048,
          9711728,
          8934043,
          9708512,
          9773203,
          9684126,
          9761784,
          9754271,
          9722269,
          9750726,
          9768467,
          9669596,
          9718007,
          9678242,
          9737266,
          9679290,
          9625415,
          9730510,
          8734316,
          9140700,
          9688918,
          9654478,
          8378964,
          9765326,
          9735085,
          4059351,
          9206984,
          9726742,
          9724890,
          9770331,
          9560998,
          9526644,
          9767741,
          4129158,
          9768178,
          9768451,
          9528571,
          9374105,
          9540082,
          9054254,
          6190327,
          9131971,
          9759288,
          9660421,
          9432425,
          8518990,
          9639858,
          9778686,
          9734033,
          9676985,
          9767484,
          9684918,
          9318130,
          9649514,
          9768129,
          6981702,
          9663715,
          9557226,
          9745929,
          9767620,
          9769691,
          9678391,
          9430567,
          9693002,
          9135506,
          9700068,
          9701646,
          9751769,
          9761083,
          9770627,
          9670357,
          9466087,
          7086478,
          9654090,
          9659254,
          9766803,
          9556552,
          9435832,
          4302461,
          9770400,
          6346811,
          9768793,
          9659271,
          9522078,
          8129609,
          9684530,
          9718808,
          9742247,
          9725584,
          9674928,
          9366571,
          9261888,
          9753668,
          9671327,
          9767342,
          9717601,
          9671473,
          5718239,
          4376635,
          9737023,
          9652159,
          9767545,
          9440508,
          9619916,
          9418107,
          9768860,
          9660886,
          9220683,
          9306867,
          9766108,
          9661194,
          9527246,
          9705749,
          9711076,
          9709979,
          9622204,
          9514605,
          9766635,
          9718262,
          9771278,
          9768193,
          9760048,
          9341193,
          9769941,
          9691396,
          9566760,
          9714262,
          9771910,
          9716681,
          9694632,
          9746499,
          9774864,
          9739409,
          9779345,
          4284556,
          9769994,
          9705187,
          9394753,
          9419945,
          9736725,
          9736092,
          9702515,
          9673472,
          9668843,
          9754177,
          4774387
         ],
         "y": [
          0,
          0,
          0,
          0,
          0,
          0,
          0,
          0,
          0,
          0,
          0,
          0,
          0,
          0,
          0,
          0,
          0,
          0,
          0,
          0,
          0,
          0,
          0,
          0,
          0,
          0,
          0,
          0,
          0,
          0,
          0,
          0,
          0,
          0,
          0,
          0,
          0,
          0,
          0,
          0,
          0,
          0,
          0,
          0,
          0,
          0,
          0,
          0,
          0,
          0,
          0,
          0,
          0,
          0,
          0,
          0,
          0,
          0,
          0,
          0,
          0,
          0,
          0,
          0,
          0,
          0,
          0,
          0,
          0,
          0,
          0,
          0,
          0,
          0,
          0,
          0,
          0,
          0,
          0,
          0,
          0,
          0,
          18.019791073124406,
          49.004454275769106,
          0,
          0,
          0,
          0,
          0,
          0,
          0,
          0,
          0,
          0,
          0,
          0,
          0,
          0,
          0,
          0,
          0,
          0,
          433.0523549945385,
          1.8699624363481928,
          4.030283505154639,
          0,
          0,
          40.17159276354494,
          0,
          0,
          0,
          0,
          0,
          0,
          0,
          0,
          0,
          0,
          0,
          0,
          0,
          0,
          0,
          0,
          2.9318181818181817,
          0,
          0,
          0,
          0,
          0,
          0,
          0,
          0,
          0,
          0,
          0,
          0,
          0,
          0,
          0,
          0,
          18.174137076581637,
          0,
          0,
          0,
          0,
          0,
          0,
          0,
          0,
          0,
          0,
          0,
          0,
          0,
          0,
          0,
          0,
          0,
          0,
          0,
          0,
          0,
          0,
          0,
          0,
          0,
          0,
          14.168113380155342,
          0,
          0,
          0,
          0,
          0,
          0,
          0,
          9.36985763377516,
          0,
          0,
          0,
          0,
          0,
          0,
          142.8985507246377,
          0,
          0,
          0,
          0,
          0,
          0,
          0,
          0,
          0,
          0,
          53.541906854441386,
          0,
          0,
          0,
          0,
          26.15625,
          0,
          0,
          0,
          7,
          0,
          0,
          0,
          0,
          0,
          0,
          0,
          0,
          7.198624176269993,
          0,
          0,
          0,
          0,
          0,
          0,
          0,
          0,
          0,
          0,
          0,
          0,
          0,
          0,
          0,
          49.152542372881356,
          0,
          0,
          0,
          0,
          0,
          0,
          0,
          0,
          0,
          0,
          0,
          0,
          0,
          0,
          0,
          0,
          0,
          0,
          0,
          0,
          0,
          0,
          0,
          0,
          0,
          0,
          0,
          0,
          0,
          0,
          0,
          0,
          0,
          0,
          0,
          0,
          0,
          0,
          0,
          0,
          0,
          0,
          0,
          0,
          0,
          1.208952825641646,
          0,
          0,
          0,
          0,
          0,
          0,
          0,
          0,
          0,
          0,
          0,
          0,
          0,
          0,
          0,
          0,
          0,
          0,
          0,
          0,
          0,
          0,
          0,
          0,
          0,
          0,
          14.360769925599492,
          0,
          0,
          0,
          0,
          0,
          0,
          0,
          0,
          57.15293541086977,
          0,
          0,
          0,
          0,
          0,
          0,
          0,
          0,
          0,
          0,
          0,
          0,
          0,
          0,
          0,
          0,
          0,
          0,
          0,
          0,
          0,
          0,
          0,
          0,
          0,
          0,
          0,
          0,
          0,
          0,
          0,
          0,
          0,
          0,
          41.325568134830185,
          0,
          215.3703665272373,
          0,
          0,
          0,
          52.4245572609209,
          0,
          184.05468849562828,
          0,
          0,
          0,
          0,
          0,
          0,
          0,
          0,
          0,
          0,
          0,
          15.565175534611797,
          0,
          0,
          0,
          0,
          0,
          0,
          60.838437608806075,
          82.90564516129032,
          0,
          0,
          0,
          0,
          0,
          0,
          0,
          0,
          0,
          3.8460146162123383,
          0,
          0,
          4.971314890855281,
          0,
          0,
          0,
          0,
          0,
          0,
          0,
          0,
          0,
          185.95103578154425,
          0,
          0,
          0.9411764705882353,
          0,
          0,
          0,
          0,
          0,
          0,
          0,
          0,
          0,
          0,
          0,
          0,
          0,
          0,
          0,
          0,
          8.199872993642696,
          0,
          257.37418209413374,
          0,
          3.951721252999092,
          0,
          0,
          0,
          160.24122238947038,
          0,
          0,
          52.10070779235298,
          30.815859228147772,
          77.11698853194896,
          7.864406779661017,
          23.562716314596013,
          0,
          0,
          0,
          0,
          0,
          0,
          0,
          0,
          0,
          0,
          0,
          0,
          9.752828511237334,
          0,
          0,
          0,
          0,
          0,
          85.66376336403123,
          0,
          0,
          0,
          0,
          0,
          0,
          0,
          0,
          0,
          0,
          0,
          0,
          0,
          25.41176470588235,
          0,
          0,
          0,
          14.813893915941675,
          0.3677397711036283,
          0,
          26.01746553884712,
          0,
          0,
          0,
          0,
          0,
          0,
          0,
          19.502291855230965,
          0,
          0,
          0,
          0,
          0,
          12.275448233382662,
          0,
          0,
          0,
          0,
          0,
          0,
          61.98103318751321,
          0,
          0,
          0,
          0,
          0,
          0,
          0,
          0,
          0,
          193.5783068243513,
          78.93739872574955,
          0,
          0,
          0,
          0,
          0,
          73.51383947438146,
          5.57136042221743,
          3.068646609929808,
          0,
          0,
          0,
          0,
          0,
          0,
          0,
          0,
          7.910156729235677,
          0,
          0,
          0,
          0,
          0,
          0,
          0,
          0,
          0,
          0,
          0,
          0,
          0,
          0,
          57.246753246753244,
          0,
          0,
          0,
          39.346920731413135,
          0,
          67.79630769230769,
          65.33333333333333,
          0,
          71.26783220969321,
          0,
          13.872104010471157,
          0,
          2.7635562943645904,
          0,
          0,
          74.93128676819629,
          0,
          0,
          0,
          0,
          0,
          0,
          0,
          0,
          0,
          50.24451755239133,
          64.08279874833673,
          0,
          0,
          0,
          0,
          0,
          9.18143918002088,
          0,
          0,
          0,
          8.75,
          0,
          0,
          0,
          0,
          0,
          63.875,
          0,
          13.207044022222385,
          0,
          0,
          203.02479498518406,
          0,
          0,
          0,
          0,
          0,
          14.386416606896844,
          19.117106435958476,
          0,
          0,
          0,
          0,
          0,
          0,
          0,
          0,
          0,
          0,
          55.51770833333334,
          0,
          0,
          26.716881212675503,
          87.05892693014707,
          3.2943500873151663,
          4.5,
          0,
          18.682106737153568,
          0,
          0,
          0,
          30.261955449647157,
          0,
          0,
          0,
          0,
          0,
          0,
          0,
          141.48870971041427,
          0,
          0,
          0,
          0,
          0,
          7.909936575052854,
          0,
          0,
          0,
          0,
          0,
          0,
          111.7142772555469,
          0,
          0,
          0,
          125.73795428335397,
          0,
          36.625084705599406,
          26.35882842621199,
          0,
          0,
          0,
          12.277777777777779,
          0,
          62.816923076923075,
          0,
          0,
          0,
          0,
          0,
          0,
          0,
          0,
          100.82158074897221,
          0,
          1.3778541258548824,
          0,
          0,
          98.89583333333333,
          0,
          52.43351856015154,
          0,
          0,
          126.81329856741316,
          0,
          0,
          0,
          0,
          0,
          94.61344687780772,
          0,
          44.70779220779221,
          30.89557977202549,
          56.08064516129032,
          0,
          209.8636647437096,
          0,
          0,
          8.029126117986419,
          0,
          0,
          0,
          48.67484650425827,
          0,
          0,
          0,
          0,
          0,
          36.550668569386694,
          0,
          27.213216843611164,
          25.97780261818089,
          0,
          13.751089084866544,
          0,
          79.48532329706816,
          6.835039937331263,
          0,
          0,
          0,
          0,
          0,
          0,
          0,
          0,
          1645.2315976926286,
          0,
          0,
          0,
          0,
          0,
          48.102791542569015,
          2.100885192409893,
          155.07692307692307,
          0,
          23.759152727919467,
          0,
          0,
          0,
          0,
          0,
          0,
          0,
          0,
          0,
          115.2109631342071,
          0,
          30.81155790623078,
          0,
          0,
          0,
          0,
          0,
          0,
          0,
          116.4948117668307,
          0,
          0,
          0,
          0,
          12.796875,
          0,
          0,
          0,
          13.853720659138284,
          34.254464285714285,
          0,
          0,
          41.83518366533761,
          0,
          0,
          0,
          31.484395371577573,
          0,
          0,
          444.4321186764403,
          0,
          0,
          0,
          0,
          0,
          0,
          0,
          0,
          66.89131253574519,
          349.8531566996513,
          22.985795409522723,
          0,
          62.476190476190474,
          9.98425627309764,
          16.97253211536065,
          0,
          0,
          0,
          0,
          0,
          0,
          62.958120331516476,
          0,
          0,
          0,
          36.23445713993977,
          89.62814962739287,
          0,
          86.86363636363636,
          0,
          0,
          0,
          0,
          0,
          0,
          8.283067929044794,
          71.52941176470588,
          0,
          0,
          0,
          21.18435077376577,
          0,
          0,
          0,
          0,
          0,
          0,
          0,
          0,
          0,
          0,
          0,
          0,
          29.453622257461014,
          0,
          0,
          1.5815520567991512,
          0,
          27.176470588235293,
          34.39114308015564,
          0,
          0,
          0,
          0,
          6.887096774193548,
          0,
          0,
          0,
          0,
          0,
          0,
          6.515227252472382,
          0,
          4.177589852008456,
          61.78134215504218,
          24.89692673736916,
          172.942939005439,
          0,
          0,
          0,
          6.778122354256717,
          0,
          0,
          15.767315977813764,
          0,
          11.027106741573034,
          0,
          0,
          0,
          0,
          68.79973424962922,
          0,
          0,
          0,
          17.890788926681786,
          0,
          0,
          0,
          0,
          96.46701780858031,
          0,
          71.13656219974925,
          0,
          0,
          16.41513122948222,
          4.022668835598468,
          0,
          0,
          190.59515560665056,
          6.434746820438247,
          0,
          0,
          0,
          0,
          0,
          0,
          0,
          94.27756444123294,
          77.83005439310548,
          0,
          4.7038259974958025,
          428.9526610444089,
          0,
          0,
          0,
          9.63888888888889,
          28.0758702195875,
          0,
          3.913751375137514,
          0,
          77.17647058823529,
          22.184145350728226,
          16.596774492053008,
          0,
          90.24166666666666,
          44.20240348878365,
          132.32412286807832,
          0,
          0,
          0,
          122.35094760312151,
          0,
          7.2154628260917875,
          335.92105263157896,
          1266.3635550640147,
          47.69373753716592,
          90.31653648191612,
          14.25670470196512,
          0,
          71.331088664422,
          0,
          0,
          0,
          9.319444444444445,
          0,
          21.639328547037923,
          80.0059376085779,
          192.94117647058823,
          1.1737020547641286,
          1550.3649891774892,
          11.287627568390816,
          0,
          0,
          32.24298803740759,
          7.834913169319701,
          0,
          50.00784042022341,
          0,
          176.74800964548717,
          0,
          0,
          0,
          0,
          125.25951907741383,
          0,
          6.707627036458447,
          0,
          4.013384043262526,
          18.828875047035424,
          76.5,
          0,
          39.74742353106701,
          0,
          0,
          0,
          24.46002260616859,
          121.53560446070573,
          27.434210526315788,
          0,
          0,
          29.809907452955542,
          132.0972350756747,
          8.405178876343632,
          12.38024927399074,
          0,
          19.928203665913713,
          22.674424087983834,
          105.4460673927284,
          0,
          0,
          0,
          328.8954545454545,
          0,
          0,
          23.806074966356736,
          0,
          21.807430234548878,
          0,
          8.58140620561246,
          0,
          8.25,
          0,
          0,
          56.642109532510084,
          36.15482954545455,
          566.6690082868912,
          0,
          0,
          0,
          0,
          4.362820512820513,
          208.58064516129033,
          0,
          5.605183472454937,
          0,
          0,
          16.80451162822931,
          12.80549227197582,
          0,
          0,
          9.339141799431639,
          12.498579545454545,
          0,
          418.5,
          5.281864785669372,
          0,
          0,
          8.952505615071557,
          8.864119505889112,
          0,
          23.890959335781435,
          41.31201525045474,
          8.696595613862797,
          0,
          16.19047619047619,
          156.58261433193712,
          36.814085493766235,
          0,
          223.5752688172043,
          51.75419438333318,
          0,
          0,
          0,
          4.161745938195888,
          2.17256625835871,
          26.52963667180445,
          27.95727968080115,
          1.3632242370632464,
          28.571428571428573,
          0,
          0,
          17.340842865652007,
          0.22200136168532086,
          165.021649674225,
          66.5570757606088,
          97.99367058695886,
          165.45804425144118,
          64.69326035041706,
          0,
          56.22454247669047,
          5.9,
          2.7951509084589543,
          629.0547516362315,
          80.42307692307692,
          23.011308709758048,
          0,
          0,
          11.494303294139977,
          0,
          0,
          0,
          0,
          48.92857142857143,
          20.77777777777778,
          12.237779585312152,
          53,
          178.30076677376604,
          68.95673520395253,
          0,
          0,
          9.147550153132919,
          0,
          9.166666666666666,
          7.866666666666666,
          14.721049638939292,
          10.383602551936551,
          0,
          0,
          20.91040963425987,
          90.73770474579632,
          138.40937155566345,
          5.801587301587301,
          79.55445804369644,
          48.20715061453698,
          5.103580844639877,
          70.90149775618353,
          15.792207792207792,
          3.1244482156182127,
          0,
          0,
          2.6181930693069306,
          45.39545454545455,
          0,
          96.41935483870968,
          7.466356849259886,
          5.866666666666666,
          0,
          23.22747095341548,
          0,
          0,
          32.341265762807254,
          0,
          0,
          86.33962264150944,
          206.27832792207792,
          0,
          0,
          0,
          0,
          163.55044265466628,
          198.74193548387098,
          14.27152470026071,
          3.519989316115498,
          89.8816787732042,
          42,
          3.3609067172934846,
          0,
          0,
          0,
          40.22249558957672,
          75.78947368421052,
          4.81764124770475,
          24.040878605642938,
          42.79626623376623,
          0,
          24.88616266163007,
          0,
          15.745189253429135,
          166.08,
          150.96128972099456,
          4.659415282309646,
          403.3972406978387,
          12,
          918.0000064341975,
          2.0923685421286486,
          0,
          0,
          0,
          9.977221696015858,
          0,
          8.618137226232284,
          17.857286096256686,
          62.945363264785286,
          54.15477080199767,
          0,
          0.9833333333333333,
          0,
          0,
          40.18518518518518,
          128.22499529172373,
          0,
          0,
          0,
          4.099859200220604,
          61.754007437700665,
          0,
          272.056548989458,
          0,
          0,
          0,
          0,
          0,
          97.78623970037454,
          19.16278960363714,
          15.150059075482158,
          0,
          0,
          0,
          0,
          26.325,
          70.8,
          3.297754777560369,
          4.986719223222252,
          0,
          3.9375,
          0,
          1629.41451892551,
          76.91405169340463,
          5.93427789781016,
          0,
          1089.6623376623377,
          0,
          0,
          22.65537598204265,
          61.15391587060206,
          94.61794634597595,
          0,
          60.69075657048107,
          0,
          0,
          20.532575274544286,
          14.42197512910712,
          2.0093583540876776,
          0,
          0,
          0,
          0,
          0,
          36.9334476399227,
          70.52999516207063,
          30.41176470588235,
          11.781818181818181,
          0,
          24.804147465437786,
          0,
          0,
          6.350163745330897,
          0,
          36.650682104842524,
          0,
          0,
          11.24628684857161,
          18.590426269517707,
          91.99415204678363,
          36.91428571428571,
          0,
          14.436859262803734,
          0,
          63.748272541867195,
          0,
          0,
          25.003399408275115,
          0,
          6.266666666666667,
          51.958333333333336,
          0,
          7.065936711735207,
          0,
          76.46126871516834,
          16.306787634408604,
          127.11402789171453,
          2.114477157889349,
          0,
          0,
          113.43139534883721,
          113.04398043752197,
          89.14242286714462,
          18.710227272727273,
          0,
          39.5341362333978,
          16.066173821944847,
          237.09936489692893,
          0,
          2.8,
          18.56997542631139,
          0,
          0,
          9.995251661918328,
          22.85020597574308,
          10.857142857142858,
          0,
          40.333333333333336,
          127.07459677419355,
          55.91017593040509,
          4.928050463236744,
          290.08,
          0,
          73.5268115942029,
          9.597739711809657,
          0,
          4.658445779336655,
          0,
          0,
          71.59918092379453,
          0,
          0,
          248.47058823529412,
          116.1559405940594,
          0,
          0,
          15.834106165685952,
          0,
          15.939935064935066,
          0,
          9.505109068883707,
          8.09638691107408,
          92.38229755178908,
          76.23444861418113,
          0,
          2.8125,
          0,
          17.572723625075767,
          0,
          12.278022477312724,
          0,
          2.438830657487339,
          2.141194913131025,
          2.2591421207400786,
          0.9051386241568722,
          19.259515473217462,
          19.837878132267534,
          47.212746044966835,
          2.1312757785581997,
          17.947911309415957,
          12.09,
          0,
          69.55513784461152,
          33.13619313939918,
          38.29829787234043,
          44.352248655507644,
          97.06233836776605,
          0,
          81.98247648214009,
          14.325717187103324,
          14.307692307692308,
          0,
          15.609467862482518,
          16.1626348771863,
          0,
          1145.2323308779296,
          15.046375111771923,
          19.13290897760413,
          268.83529950289136,
          6.152822614825868,
          33.05261893911366,
          0,
          0,
          0,
          87.98334724599022,
          119.04,
          0,
          11.064075630252102,
          42.98900278603028,
          36.96430535535525,
          0,
          10.441444316334909,
          37.20668316831683,
          0,
          15.799963214861203,
          0,
          22.105714285714285,
          13.041469325751489,
          0,
          339.44940624389216,
          30.9651611157122,
          0,
          89.97752808988764,
          30.68686868686869,
          28.95001994885949,
          38.765309264518955,
          0,
          45.89317023115833,
          0,
          0,
          0,
          0,
          45.595588235294116,
          0.3105104753317817,
          0,
          0,
          52.65,
          1.9661016949152543,
          0,
          0.3187607104207884,
          13.039568993844663,
          5.060590031325213,
          7.954169209473297,
          72.39541160593792,
          33.516870163327646,
          0,
          20.747741195858037,
          7.75253016717207,
          0,
          0,
          0,
          32.857142857142854,
          0.6788640535414303,
          85.08398526660194,
          4.131034899836755,
          87.28571428571429,
          1265.382695065133,
          6.832009939836862,
          0,
          0,
          34.78445234506739,
          0,
          0,
          0,
          11.282117287907088,
          0,
          0,
          0,
          603.011674168133,
          0,
          36,
          0,
          0,
          20.548844793324463,
          0,
          62.98170468636364,
          55.96028368794326,
          0,
          0,
          66.86979850842805,
          11.351121592597623,
          0,
          46.76069757372918,
          58.87009948119426,
          60.85804598150347,
          70.4,
          21.75,
          0,
          7.728037215959921,
          88.7986544911694,
          34.74913151364764,
          20.75581395348837,
          90.3487012987013,
          16.54054054054054,
          119.13813567900615,
          83.06582200915022,
          0,
          0,
          15.352713612182301,
          0,
          48.939210580065364,
          0,
          84.41148325358853,
          0,
          5.0626942447222625,
          25.083465041019164,
          52.145161290322584,
          3.029692570127316,
          162.88978997328846,
          9.722222222222221,
          0,
          228.43076923076924,
          10.072900226220538,
          8.450095674743599,
          92.59395714586611,
          0,
          19.546281703704235,
          0,
          93.65167911844193,
          0,
          43.868691807838786,
          4.150351123595506,
          18.80645193542108,
          0,
          200.36363636363637,
          33.61538461538461,
          0,
          0,
          73.94275161588182,
          22.575190948733376,
          99.67699204811538,
          58.01477605722002,
          751.2708782742681,
          0,
          0,
          0,
          3.96875,
          55.27272727272727,
          6.84903039078764,
          3.3761296040525144,
          57,
          0,
          6.398537208454868,
          0,
          31.90027295174758,
          0,
          0,
          151.01298701298703,
          0,
          0,
          5.305136118291283,
          0,
          1.2143640350877192,
          25.472533630514235,
          19.83436154488786,
          0,
          0,
          0,
          188.30769230769232,
          10.300554702164911,
          25.194544346011657,
          0,
          87.3,
          0,
          0,
          18.00908599206196,
          20.497995978575872,
          0,
          18.28198087131712,
          0,
          106.02941176470588,
          0.1911732551321881,
          0,
          0,
          58.472309020325284,
          0,
          0,
          194.40093240093242,
          87.2060686345374,
          793.8751257861635,
          69.82608695652173,
          40.474393530997304,
          1.89663827358931,
          6.884544638732466,
          0,
          94.09220779220779,
          25.489394247776723,
          11.971883656509695,
          102.8840579710145,
          0,
          0.8316019238625175,
          0,
          109.5051588043058,
          364.6325439266616,
          7.912870232370042,
          232.63300959250373,
          1.6030691043409728,
          15.806209296418308,
          0,
          0,
          394.6666666666667,
          16.720649448968377,
          12.589225902363372,
          0,
          5.011519491792929,
          0,
          35.52270655610258,
          0,
          12.445145362380524,
          4.82079634850816,
          119.85964912280701,
          241.26461556478014,
          0,
          0,
          28.203411537728783,
          21.71794871794872,
          153.4318181818182,
          0,
          17.3,
          119.26666666666667,
          35.47420069370602,
          2.6450456034265555,
          1072.6760563380283,
          33.88232317927285,
          1.0988326237829997,
          19.04058760419271,
          0,
          6.640087821782771,
          2.961038961038961,
          38.11363636363637,
          62.997443181818184,
          26.935380416669958,
          0,
          2.8277144899681783,
          0,
          0,
          204.39371260250556,
          9.133180486860962,
          50.666319252334794,
          0,
          0,
          23.466294855318612,
          0,
          58.125,
          62.18181818181818,
          85.65253800532201,
          52.64686584249084,
          0,
          0,
          0,
          23.863636363636363,
          2.9352110413338637,
          3.9322033898305087,
          0,
          39.18041558481016,
          36.88235294117647,
          0,
          0,
          0,
          0,
          5.6388028895768825,
          0,
          0,
          0,
          0,
          0,
          4.4441442386270404,
          2.911764705882353,
          0.2805417286080149,
          57.90171517132465,
          0,
          0,
          21.80568407138136,
          47.27272727272727,
          0,
          21.678713019206228,
          0,
          0,
          7.014606751183697,
          0,
          0,
          0,
          33.36141234445813,
          35.23418626732546,
          5.85,
          55.815691834302314,
          0,
          392.2588454211438,
          0,
          71.859375,
          19.405329044556108,
          57.65789420069533,
          0,
          10.709409343628757,
          17.9627986892575,
          58.10823529411765,
          0,
          8.425234111952863,
          6.507382308730228,
          7.906976744186046,
          0,
          0,
          0,
          0,
          37.84615384615385,
          0,
          662.2105263157895,
          4.632455310866652,
          11.170896952617968,
          0,
          0,
          149.15,
          64.85483144306673,
          0,
          0,
          42.75277777777778,
          51.28309685513402,
          0,
          13.740223924941779,
          51.35719830489437,
          298.16752577319585,
          0,
          0,
          0,
          0,
          0,
          55.58787508305944,
          0,
          4.405740418118467,
          0,
          0,
          0,
          19.743564102564104,
          63.05882352941177,
          93.07619578626128,
          0.023863636363636365,
          0,
          1.516216216216216,
          0.34994765189065324,
          39.535714285714285,
          27.822174607457335,
          16.571572089855064,
          32.21868738120122,
          109.12349256563137,
          16.60739323957776,
          0,
          0,
          185.65303486870425,
          28.581597647635384,
          0,
          192.70000000000002,
          17.367225279603513,
          73.84414286991934,
          54,
          0,
          24.005478293857703,
          0,
          176.99473684210528,
          192.2003710575139,
          14.832853378505552,
          0,
          0,
          0,
          3.1009048620409594,
          0,
          167.74082770089944,
          0,
          0,
          0,
          0,
          36.37849650349651,
          15.802564611861476,
          119.76315789473684,
          0,
          1.9666666666666666,
          0,
          2.9963378597848322,
          0,
          1556.596172854556,
          17.249483773093555,
          6.921348314606742,
          10.140752517223106,
          0,
          50.60032569247151,
          0,
          2.8981722681506246,
          7.70902362678181,
          0,
          26.5,
          8.454500020070023,
          0,
          0,
          32.142824440586786,
          9.667800640414729,
          150.53225806451613,
          0,
          66.75,
          0,
          0,
          0,
          86.92753739793791,
          47.156563332154775,
          0,
          0,
          8.491699580839848,
          2.964245713876315,
          0,
          10.006722174167395,
          0,
          0,
          0,
          0,
          0,
          0,
          20.071662184209995,
          0,
          2.0326799549184753,
          0,
          0,
          45.90034736908496,
          81.34996167975903,
          194.80645161290323,
          0,
          3.7600000000000002,
          8.9578125,
          4.98878205128205,
          1541.7760770975058,
          5.2375,
          3.2017857142857142,
          0
         ]
        }
       ],
       "layout": {
        "template": {
         "data": {
          "bar": [
           {
            "error_x": {
             "color": "#2a3f5f"
            },
            "error_y": {
             "color": "#2a3f5f"
            },
            "marker": {
             "line": {
              "color": "#E5ECF6",
              "width": 0.5
             },
             "pattern": {
              "fillmode": "overlay",
              "size": 10,
              "solidity": 0.2
             }
            },
            "type": "bar"
           }
          ],
          "barpolar": [
           {
            "marker": {
             "line": {
              "color": "#E5ECF6",
              "width": 0.5
             },
             "pattern": {
              "fillmode": "overlay",
              "size": 10,
              "solidity": 0.2
             }
            },
            "type": "barpolar"
           }
          ],
          "carpet": [
           {
            "aaxis": {
             "endlinecolor": "#2a3f5f",
             "gridcolor": "white",
             "linecolor": "white",
             "minorgridcolor": "white",
             "startlinecolor": "#2a3f5f"
            },
            "baxis": {
             "endlinecolor": "#2a3f5f",
             "gridcolor": "white",
             "linecolor": "white",
             "minorgridcolor": "white",
             "startlinecolor": "#2a3f5f"
            },
            "type": "carpet"
           }
          ],
          "choropleth": [
           {
            "colorbar": {
             "outlinewidth": 0,
             "ticks": ""
            },
            "type": "choropleth"
           }
          ],
          "contour": [
           {
            "colorbar": {
             "outlinewidth": 0,
             "ticks": ""
            },
            "colorscale": [
             [
              0,
              "#0d0887"
             ],
             [
              0.1111111111111111,
              "#46039f"
             ],
             [
              0.2222222222222222,
              "#7201a8"
             ],
             [
              0.3333333333333333,
              "#9c179e"
             ],
             [
              0.4444444444444444,
              "#bd3786"
             ],
             [
              0.5555555555555556,
              "#d8576b"
             ],
             [
              0.6666666666666666,
              "#ed7953"
             ],
             [
              0.7777777777777778,
              "#fb9f3a"
             ],
             [
              0.8888888888888888,
              "#fdca26"
             ],
             [
              1,
              "#f0f921"
             ]
            ],
            "type": "contour"
           }
          ],
          "contourcarpet": [
           {
            "colorbar": {
             "outlinewidth": 0,
             "ticks": ""
            },
            "type": "contourcarpet"
           }
          ],
          "heatmap": [
           {
            "colorbar": {
             "outlinewidth": 0,
             "ticks": ""
            },
            "colorscale": [
             [
              0,
              "#0d0887"
             ],
             [
              0.1111111111111111,
              "#46039f"
             ],
             [
              0.2222222222222222,
              "#7201a8"
             ],
             [
              0.3333333333333333,
              "#9c179e"
             ],
             [
              0.4444444444444444,
              "#bd3786"
             ],
             [
              0.5555555555555556,
              "#d8576b"
             ],
             [
              0.6666666666666666,
              "#ed7953"
             ],
             [
              0.7777777777777778,
              "#fb9f3a"
             ],
             [
              0.8888888888888888,
              "#fdca26"
             ],
             [
              1,
              "#f0f921"
             ]
            ],
            "type": "heatmap"
           }
          ],
          "heatmapgl": [
           {
            "colorbar": {
             "outlinewidth": 0,
             "ticks": ""
            },
            "colorscale": [
             [
              0,
              "#0d0887"
             ],
             [
              0.1111111111111111,
              "#46039f"
             ],
             [
              0.2222222222222222,
              "#7201a8"
             ],
             [
              0.3333333333333333,
              "#9c179e"
             ],
             [
              0.4444444444444444,
              "#bd3786"
             ],
             [
              0.5555555555555556,
              "#d8576b"
             ],
             [
              0.6666666666666666,
              "#ed7953"
             ],
             [
              0.7777777777777778,
              "#fb9f3a"
             ],
             [
              0.8888888888888888,
              "#fdca26"
             ],
             [
              1,
              "#f0f921"
             ]
            ],
            "type": "heatmapgl"
           }
          ],
          "histogram": [
           {
            "marker": {
             "pattern": {
              "fillmode": "overlay",
              "size": 10,
              "solidity": 0.2
             }
            },
            "type": "histogram"
           }
          ],
          "histogram2d": [
           {
            "colorbar": {
             "outlinewidth": 0,
             "ticks": ""
            },
            "colorscale": [
             [
              0,
              "#0d0887"
             ],
             [
              0.1111111111111111,
              "#46039f"
             ],
             [
              0.2222222222222222,
              "#7201a8"
             ],
             [
              0.3333333333333333,
              "#9c179e"
             ],
             [
              0.4444444444444444,
              "#bd3786"
             ],
             [
              0.5555555555555556,
              "#d8576b"
             ],
             [
              0.6666666666666666,
              "#ed7953"
             ],
             [
              0.7777777777777778,
              "#fb9f3a"
             ],
             [
              0.8888888888888888,
              "#fdca26"
             ],
             [
              1,
              "#f0f921"
             ]
            ],
            "type": "histogram2d"
           }
          ],
          "histogram2dcontour": [
           {
            "colorbar": {
             "outlinewidth": 0,
             "ticks": ""
            },
            "colorscale": [
             [
              0,
              "#0d0887"
             ],
             [
              0.1111111111111111,
              "#46039f"
             ],
             [
              0.2222222222222222,
              "#7201a8"
             ],
             [
              0.3333333333333333,
              "#9c179e"
             ],
             [
              0.4444444444444444,
              "#bd3786"
             ],
             [
              0.5555555555555556,
              "#d8576b"
             ],
             [
              0.6666666666666666,
              "#ed7953"
             ],
             [
              0.7777777777777778,
              "#fb9f3a"
             ],
             [
              0.8888888888888888,
              "#fdca26"
             ],
             [
              1,
              "#f0f921"
             ]
            ],
            "type": "histogram2dcontour"
           }
          ],
          "mesh3d": [
           {
            "colorbar": {
             "outlinewidth": 0,
             "ticks": ""
            },
            "type": "mesh3d"
           }
          ],
          "parcoords": [
           {
            "line": {
             "colorbar": {
              "outlinewidth": 0,
              "ticks": ""
             }
            },
            "type": "parcoords"
           }
          ],
          "pie": [
           {
            "automargin": true,
            "type": "pie"
           }
          ],
          "scatter": [
           {
            "fillpattern": {
             "fillmode": "overlay",
             "size": 10,
             "solidity": 0.2
            },
            "type": "scatter"
           }
          ],
          "scatter3d": [
           {
            "line": {
             "colorbar": {
              "outlinewidth": 0,
              "ticks": ""
             }
            },
            "marker": {
             "colorbar": {
              "outlinewidth": 0,
              "ticks": ""
             }
            },
            "type": "scatter3d"
           }
          ],
          "scattercarpet": [
           {
            "marker": {
             "colorbar": {
              "outlinewidth": 0,
              "ticks": ""
             }
            },
            "type": "scattercarpet"
           }
          ],
          "scattergeo": [
           {
            "marker": {
             "colorbar": {
              "outlinewidth": 0,
              "ticks": ""
             }
            },
            "type": "scattergeo"
           }
          ],
          "scattergl": [
           {
            "marker": {
             "colorbar": {
              "outlinewidth": 0,
              "ticks": ""
             }
            },
            "type": "scattergl"
           }
          ],
          "scattermapbox": [
           {
            "marker": {
             "colorbar": {
              "outlinewidth": 0,
              "ticks": ""
             }
            },
            "type": "scattermapbox"
           }
          ],
          "scatterpolar": [
           {
            "marker": {
             "colorbar": {
              "outlinewidth": 0,
              "ticks": ""
             }
            },
            "type": "scatterpolar"
           }
          ],
          "scatterpolargl": [
           {
            "marker": {
             "colorbar": {
              "outlinewidth": 0,
              "ticks": ""
             }
            },
            "type": "scatterpolargl"
           }
          ],
          "scatterternary": [
           {
            "marker": {
             "colorbar": {
              "outlinewidth": 0,
              "ticks": ""
             }
            },
            "type": "scatterternary"
           }
          ],
          "surface": [
           {
            "colorbar": {
             "outlinewidth": 0,
             "ticks": ""
            },
            "colorscale": [
             [
              0,
              "#0d0887"
             ],
             [
              0.1111111111111111,
              "#46039f"
             ],
             [
              0.2222222222222222,
              "#7201a8"
             ],
             [
              0.3333333333333333,
              "#9c179e"
             ],
             [
              0.4444444444444444,
              "#bd3786"
             ],
             [
              0.5555555555555556,
              "#d8576b"
             ],
             [
              0.6666666666666666,
              "#ed7953"
             ],
             [
              0.7777777777777778,
              "#fb9f3a"
             ],
             [
              0.8888888888888888,
              "#fdca26"
             ],
             [
              1,
              "#f0f921"
             ]
            ],
            "type": "surface"
           }
          ],
          "table": [
           {
            "cells": {
             "fill": {
              "color": "#EBF0F8"
             },
             "line": {
              "color": "white"
             }
            },
            "header": {
             "fill": {
              "color": "#C8D4E3"
             },
             "line": {
              "color": "white"
             }
            },
            "type": "table"
           }
          ]
         },
         "layout": {
          "annotationdefaults": {
           "arrowcolor": "#2a3f5f",
           "arrowhead": 0,
           "arrowwidth": 1
          },
          "autotypenumbers": "strict",
          "coloraxis": {
           "colorbar": {
            "outlinewidth": 0,
            "ticks": ""
           }
          },
          "colorscale": {
           "diverging": [
            [
             0,
             "#8e0152"
            ],
            [
             0.1,
             "#c51b7d"
            ],
            [
             0.2,
             "#de77ae"
            ],
            [
             0.3,
             "#f1b6da"
            ],
            [
             0.4,
             "#fde0ef"
            ],
            [
             0.5,
             "#f7f7f7"
            ],
            [
             0.6,
             "#e6f5d0"
            ],
            [
             0.7,
             "#b8e186"
            ],
            [
             0.8,
             "#7fbc41"
            ],
            [
             0.9,
             "#4d9221"
            ],
            [
             1,
             "#276419"
            ]
           ],
           "sequential": [
            [
             0,
             "#0d0887"
            ],
            [
             0.1111111111111111,
             "#46039f"
            ],
            [
             0.2222222222222222,
             "#7201a8"
            ],
            [
             0.3333333333333333,
             "#9c179e"
            ],
            [
             0.4444444444444444,
             "#bd3786"
            ],
            [
             0.5555555555555556,
             "#d8576b"
            ],
            [
             0.6666666666666666,
             "#ed7953"
            ],
            [
             0.7777777777777778,
             "#fb9f3a"
            ],
            [
             0.8888888888888888,
             "#fdca26"
            ],
            [
             1,
             "#f0f921"
            ]
           ],
           "sequentialminus": [
            [
             0,
             "#0d0887"
            ],
            [
             0.1111111111111111,
             "#46039f"
            ],
            [
             0.2222222222222222,
             "#7201a8"
            ],
            [
             0.3333333333333333,
             "#9c179e"
            ],
            [
             0.4444444444444444,
             "#bd3786"
            ],
            [
             0.5555555555555556,
             "#d8576b"
            ],
            [
             0.6666666666666666,
             "#ed7953"
            ],
            [
             0.7777777777777778,
             "#fb9f3a"
            ],
            [
             0.8888888888888888,
             "#fdca26"
            ],
            [
             1,
             "#f0f921"
            ]
           ]
          },
          "colorway": [
           "#636efa",
           "#EF553B",
           "#00cc96",
           "#ab63fa",
           "#FFA15A",
           "#19d3f3",
           "#FF6692",
           "#B6E880",
           "#FF97FF",
           "#FECB52"
          ],
          "font": {
           "color": "#2a3f5f"
          },
          "geo": {
           "bgcolor": "white",
           "lakecolor": "white",
           "landcolor": "#E5ECF6",
           "showlakes": true,
           "showland": true,
           "subunitcolor": "white"
          },
          "hoverlabel": {
           "align": "left"
          },
          "hovermode": "closest",
          "mapbox": {
           "style": "light"
          },
          "paper_bgcolor": "white",
          "plot_bgcolor": "#E5ECF6",
          "polar": {
           "angularaxis": {
            "gridcolor": "white",
            "linecolor": "white",
            "ticks": ""
           },
           "bgcolor": "#E5ECF6",
           "radialaxis": {
            "gridcolor": "white",
            "linecolor": "white",
            "ticks": ""
           }
          },
          "scene": {
           "xaxis": {
            "backgroundcolor": "#E5ECF6",
            "gridcolor": "white",
            "gridwidth": 2,
            "linecolor": "white",
            "showbackground": true,
            "ticks": "",
            "zerolinecolor": "white"
           },
           "yaxis": {
            "backgroundcolor": "#E5ECF6",
            "gridcolor": "white",
            "gridwidth": 2,
            "linecolor": "white",
            "showbackground": true,
            "ticks": "",
            "zerolinecolor": "white"
           },
           "zaxis": {
            "backgroundcolor": "#E5ECF6",
            "gridcolor": "white",
            "gridwidth": 2,
            "linecolor": "white",
            "showbackground": true,
            "ticks": "",
            "zerolinecolor": "white"
           }
          },
          "shapedefaults": {
           "line": {
            "color": "#2a3f5f"
           }
          },
          "ternary": {
           "aaxis": {
            "gridcolor": "white",
            "linecolor": "white",
            "ticks": ""
           },
           "baxis": {
            "gridcolor": "white",
            "linecolor": "white",
            "ticks": ""
           },
           "bgcolor": "#E5ECF6",
           "caxis": {
            "gridcolor": "white",
            "linecolor": "white",
            "ticks": ""
           }
          },
          "title": {
           "x": 0.05
          },
          "xaxis": {
           "automargin": true,
           "gridcolor": "white",
           "linecolor": "white",
           "ticks": "",
           "title": {
            "standoff": 15
           },
           "zerolinecolor": "white",
           "zerolinewidth": 2
          },
          "yaxis": {
           "automargin": true,
           "gridcolor": "white",
           "linecolor": "white",
           "ticks": "",
           "title": {
            "standoff": 15
           },
           "zerolinecolor": "white",
           "zerolinewidth": 2
          }
         }
        }
       }
      }
     },
     "metadata": {},
     "output_type": "display_data"
    }
   ],
   "source": [
    "## For each article, what was each users read time\n",
    "\n",
    "\n",
    "## Get all unique ids in a list\n",
    "\n",
    "unique_user_ids = df['user_id'].values[0:1000]\n",
    "\n",
    "## We take the set because the scroll, article per user is joined in a list for every user id (so just take the set of it!)\n",
    "unique_user_ids = set(unique_user_ids)\n",
    "\n",
    "\n",
    "unique_article_ids = df['article_id'].unique()\n",
    "unique_article_ids= unique_article_ids[~np.isnan(unique_article_ids)]\n",
    "\n",
    "\n",
    "# Create dictionaries\n",
    "\n",
    "unique_article_read = {k: [0] for k in unique_article_ids}\n",
    "\n",
    "for id in unique_user_ids:\n",
    "    # Get the subset of that user id\n",
    "    tmp_df = df[df['user_id'] == id]\n",
    "\n",
    "    # Now lets go through each scroll and article\n",
    "    ## Iterate through each of the df\n",
    "    indices = np.array(tmp_df.index)\n",
    "    for i in indices:\n",
    "        tmp_dict = {}\n",
    "        # Select the scroll / article of that indice and \n",
    "        tmp_read = tmp_df['read_time_fixed'][i]\n",
    "\n",
    "        tmp_article = tmp_df['article_id_fixed'][i]\n",
    "\n",
    "        read = [x for x in tmp_read]\n",
    "        \n",
    "        articles = [np.int64(x) for x in tmp_article]\n",
    "    \n",
    "        tmp_dict = {k:v for k,v in zip(articles, read)}\n",
    "\n",
    "\n",
    "        for k,v in zip(tmp_dict.keys(), tmp_dict.values()):\n",
    "\n",
    "            #if unique_article_scroll.get(k) != None:\n",
    "            #    unique_article_scroll[k] += v\n",
    "            if (k in unique_article_read.keys()) & (np.isnan(v) == False):\n",
    "                tmp_array= np.append(unique_article_read[k],v)\n",
    "                unique_article_read[k] = tmp_array\n",
    "        \n",
    "    \n",
    "    # Get the average scroll length for each article\n",
    "    for k,v in zip(unique_article_read.keys(), unique_article_read.values()):\n",
    "        unique_article_read[k] = np.mean(v)\n",
    "\n",
    "\n",
    "\n",
    "# What does the hourly user activity look like?\n",
    "indices = [x for x in unique_article_read.keys()]\n",
    "values = [x for x in unique_article_read.values()]\n",
    "\n",
    "fig = go.Figure()\n",
    "\n",
    "# Add traces\n",
    "fig.add_trace(go.Scatter(x = indices, y = values,\n",
    "                         mode = 'markers'\n",
    "                         )\n",
    "\n",
    ")\n",
    "\n",
    "fig.show()\n"
   ]
  },
  {
   "cell_type": "code",
   "execution_count": 301,
   "id": "2dec3192",
   "metadata": {},
   "outputs": [
    {
     "data": {
      "text/plain": [
       "2    44472\n",
       "1    23536\n",
       "3     2413\n",
       "Name: device_type, dtype: int64"
      ]
     },
     "execution_count": 301,
     "metadata": {},
     "output_type": "execute_result"
    }
   ],
   "source": [
    "# Overall distribtuion of devices\n",
    "\n",
    "df['device_type'].value_counts()"
   ]
  },
  {
   "cell_type": "code",
   "execution_count": null,
   "id": "dc390dc9",
   "metadata": {},
   "outputs": [],
   "source": [
    "# Does device type affect topic you're reading? Device type reading? scrolling\n"
   ]
  },
  {
   "cell_type": "code",
   "execution_count": 302,
   "id": "34d6662a",
   "metadata": {},
   "outputs": [],
   "source": [
    "# Distribution paid scrubers"
   ]
  },
  {
   "cell_type": "code",
   "execution_count": null,
   "id": "0ace19d3",
   "metadata": {},
   "outputs": [],
   "source": [
    "# Do paid subscribers enjoy a specific topic?"
   ]
  },
  {
   "cell_type": "code",
   "execution_count": 304,
   "id": "dc8dcdbd",
   "metadata": {},
   "outputs": [
    {
     "data": {
      "text/plain": [
       "0.0    4189\n",
       "1.0     751\n",
       "Name: gender, dtype: int64"
      ]
     },
     "execution_count": 304,
     "metadata": {},
     "output_type": "execute_result"
    }
   ],
   "source": [
    "# Distribution of Genders\n",
    "df['gender'].value_counts()\n",
    "\n",
    "# Gender specific topic \n",
    "\n",
    "# Gender readtime / scroll"
   ]
  },
  {
   "cell_type": "code",
   "execution_count": null,
   "id": "7c47f430",
   "metadata": {},
   "outputs": [],
   "source": [
    "# Age distribution\n",
    "\n",
    "# Age topic\n",
    "\n",
    "# Age readtime/scroll"
   ]
  }
 ],
 "metadata": {
  "kernelspec": {
   "display_name": "Python 3 (ipykernel)",
   "language": "python",
   "name": "python3"
  },
  "language_info": {
   "codemirror_mode": {
    "name": "ipython",
    "version": 3
   },
   "file_extension": ".py",
   "mimetype": "text/x-python",
   "name": "python",
   "nbconvert_exporter": "python",
   "pygments_lexer": "ipython3",
   "version": "3.11.4"
  }
 },
 "nbformat": 4,
 "nbformat_minor": 5
}
