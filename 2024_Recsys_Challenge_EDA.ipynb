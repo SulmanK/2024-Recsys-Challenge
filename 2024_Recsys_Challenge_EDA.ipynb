{
 "cells": [
  {
   "cell_type": "markdown",
   "id": "d2671047-b3da-4686-8a34-f7e63d82e738",
   "metadata": {},
   "source": [
    "Task\n",
    "- Refactor code\n",
    "    - Fix all visualizations\n",
    "    - Functionalize everything\n",
    "- Fix the plots\n",
    "- Start on EDA\n",
    "    - Each major feature will cover distribution of the feature, readtime/scroll pct, how it relates to the topics selected, and activity distribution.\n",
    "        - We will use histograms, bar plots, box plots, and scatter plots (can look at pie charts too)\n",
    "        - Separate out some plots maybe\n",
    "        - Look into changing activity to scatter plots\n",
    "        \n",
    "- Model selection"
   ]
  },
  {
   "cell_type": "markdown",
   "id": "237298c2-2986-4bba-bcbd-5ff27e361919",
   "metadata": {},
   "source": [
    "Background Information on Dataset: BLAH BLAH BLAH"
   ]
  },
  {
   "cell_type": "markdown",
   "id": "9f8cf39e-f468-4ac2-9f59-2eefab32a277",
   "metadata": {},
   "source": [
    "Importing Packages"
   ]
  },
  {
   "cell_type": "code",
   "execution_count": 172,
   "id": "f4711c74-a01b-4ce7-8a3d-de5a605d13e4",
   "metadata": {},
   "outputs": [],
   "source": [
    "import numpy as np\n",
    "import pandas as pd\n",
    "\n",
    "import plotly\n",
    "import plotly.express as px\n",
    "import plotly.graph_objects as go\n",
    "\n",
    "from datetime import datetime\n",
    "from plotly.subplots import make_subplots"
   ]
  },
  {
   "cell_type": "markdown",
   "id": "06f05b58-dde3-4d5f-87a2-f20ad71cd62b",
   "metadata": {},
   "source": [
    "# EDA"
   ]
  },
  {
   "cell_type": "markdown",
   "id": "616fa6a4-e47a-4116-82f5-896d6893a00e",
   "metadata": {},
   "source": [
    "Load in dataset"
   ]
  },
  {
   "cell_type": "code",
   "execution_count": 173,
   "id": "59a57c46-4e08-4299-8a69-12d45e274b46",
   "metadata": {},
   "outputs": [],
   "source": [
    "#Load in various dataframes\n",
    "## Articles\n",
    "df_art = pd.read_parquet(\"Data/Small/articles.parquet\")\n",
    "\n",
    "## Behaviors\n",
    "df_bev = pd.read_parquet(\"Data/Small/train/behaviors.parquet\")\n",
    "\n",
    "## History\n",
    "df_his = pd.read_parquet(\"Data/Small/train/history.parquet\")\n",
    "\n"
   ]
  },
  {
   "cell_type": "markdown",
   "id": "dd6d447c",
   "metadata": {},
   "source": [
    "Join the data sources"
   ]
  },
  {
   "cell_type": "code",
   "execution_count": 174,
   "id": "b3cfa16d",
   "metadata": {},
   "outputs": [],
   "source": [
    "# Convert datatype of column first\n",
    "df_bev['article_ids_clicked'] = df_bev['article_ids_clicked'].apply(lambda x: x[0])"
   ]
  },
  {
   "cell_type": "code",
   "execution_count": 175,
   "id": "5eaa9148",
   "metadata": {},
   "outputs": [],
   "source": [
    "# Join bevhaiors to article\n",
    "df= df_bev.join(df_art.set_index(\"article_id\"), on = \"article_ids_clicked\")\n",
    "\n",
    "# Join bevhaiors to history \n",
    "df= df.join(df_his.set_index(\"user_id\"), on = \"user_id\")\n",
    "\n",
    "# Drop all other dataframes from me\n",
    "df_bev = []\n",
    "df_his = []\n",
    "df_art = []"
   ]
  },
  {
   "cell_type": "code",
   "execution_count": 176,
   "id": "5796b9c4",
   "metadata": {},
   "outputs": [],
   "source": [
    "# Preprocessing\n",
    "df.dropna(subset=['article_id'], inplace= True)\n",
    "#df.dropna(subset =['age'], inplace = True)\n",
    "\n",
    "\n",
    "df['article_id'] = df['article_id'].apply(lambda x: int(x))\n",
    "\n",
    "df['article_id']= df['article_id'].astype(np.int64)\n",
    "\n"
   ]
  },
  {
   "cell_type": "markdown",
   "id": "00dd2615",
   "metadata": {},
   "source": [
    "Visualizations"
   ]
  },
  {
   "cell_type": "code",
   "execution_count": 177,
   "id": "af49752d",
   "metadata": {},
   "outputs": [],
   "source": [
    "def plotly_index_values(groupby_object):\n",
    "    \"\"\"Takes in a clause from a pandas groupby statement and returns X and Y variables used for plotting\"\"\"\n",
    "\n",
    "    index = groupby_object.index\n",
    "    values = groupby_object.values\n",
    "\n",
    "    return index, values\n",
    "\n"
   ]
  },
  {
   "cell_type": "markdown",
   "id": "c4e0b195",
   "metadata": {},
   "source": [
    "Lets calculate the unique users for hourly, daily, and day of the week. Let's use a subset of the data until we know our plots are very good"
   ]
  },
  {
   "cell_type": "markdown",
   "id": "7988d669",
   "metadata": {},
   "source": [
    "#### Biggest thing is user engagement : Bigger User Engagement -> More eveneue\n",
    "#### We need to maximize the amount of ads these guys are viewing -> this leads on to them clicking on new articles for ads\n",
    "#### So, let's not make article length too short so that people can maximize their session lengths with a lot of articles!"
   ]
  },
  {
   "cell_type": "code",
   "execution_count": null,
   "id": "98eff28d",
   "metadata": {},
   "outputs": [],
   "source": [
    "- subplot without shared axes\n",
    "- subplot with"
   ]
  },
  {
   "cell_type": "code",
   "execution_count": 178,
   "id": "0db41661",
   "metadata": {},
   "outputs": [],
   "source": [
    "def single_subset_bar(values, feature, yrange):\n",
    "    # Index and Values \n",
    "    indices = [feature]\n",
    "    values_ = [values]\n",
    "\n",
    "    # Instantiate figure object\n",
    "    fig = go.Figure()\n",
    "\n",
    "    # Add traces\n",
    "    fig.add_trace(go.Bar(x = indices, y = values_,\n",
    "                        width=[0.3], \n",
    "                            )\n",
    "\n",
    "    )\n",
    "    # Update axis properties\n",
    "    fig.update_yaxes(\n",
    "        title_text= 'Count', range = yrange\n",
    "        )\n",
    "\n",
    "    # Update trace properties\n",
    "    fig.update_traces(\n",
    "        textposition='outside', text = str(values),\n",
    "        textfont=dict(\n",
    "            family='sans serif',\n",
    "            size=18,\n",
    "            color='#1f77b4'\n",
    "            )\n",
    "            )\n",
    "            \n",
    "    # Update layout of plot\n",
    "    fig.update_layout(\n",
    "        title = '<b>Total {}<b>'.format(feature) ,\n",
    "        uniformtext_minsize=8, uniformtext_mode='hide',  \n",
    "        font=dict(\n",
    "            family=\"Courier New, monospace\",\n",
    "            size=18,\n",
    "            )\n",
    "            )\n",
    "\n",
    "    return fig.show()"
   ]
  },
  {
   "cell_type": "code",
   "execution_count": 183,
   "id": "68dbf2f8",
   "metadata": {},
   "outputs": [],
   "source": [
    "def multiple_subset_bar(feature, yrange):\n",
    "\n",
    "\n",
    "    categories = [d for d in df[feature].unique()]\n",
    "    fig = go.Figure()\n",
    "    for category_ in categories:\n",
    "        count= len(df[df[feature] == category_])\n",
    "        fig.add_trace(go.Bar(x= [d], y = [count]))\n",
    "\n",
    "\n",
    "\n",
    "    \"\"\"\n",
    "    # Index and Values \n",
    "    indices = [feature]\n",
    "    values_ = [values]\n",
    "\n",
    "    # Instantiate figure object\n",
    "    fig = go.Figure()\n",
    "\n",
    "    # Add traces\n",
    "    fig.add_trace(go.Bar(x = indices, y = values_,\n",
    "                        width=[0.3], \n",
    "                            )\n",
    "\n",
    "    )\n",
    "    \"\"\"\n",
    "    # Update axis properties\n",
    "    fig.update_yaxes(\n",
    "        title_text= 'Count', range = yrange\n",
    "        )\n",
    "\n",
    "    # Update trace properties\n",
    "    fig.update_traces(\n",
    "        textposition='outside', text = str(values),\n",
    "        textfont=dict(\n",
    "            family='sans serif',\n",
    "            size=18,\n",
    "            color='#1f77b4'\n",
    "            )\n",
    "            )\n",
    "            \n",
    "    # Update layout of plot\n",
    "    fig.update_layout(\n",
    "        title = '<b>Total {}<b>'.format(feature) ,\n",
    "        uniformtext_minsize=8, uniformtext_mode='hide',  \n",
    "        font=dict(\n",
    "            family=\"Courier New, monospace\",\n",
    "            size=18,\n",
    "            )\n",
    "            )\n",
    "\n",
    "    return fig.show()"
   ]
  },
  {
   "cell_type": "code",
   "execution_count": 184,
   "id": "368615c2",
   "metadata": {},
   "outputs": [
    {
     "data": {
      "application/vnd.plotly.v1+json": {
       "config": {
        "plotlyServerURL": "https://plot.ly"
       },
       "data": [
        {
         "text": "[1723]",
         "textfont": {
          "color": "#1f77b4",
          "family": "sans serif",
          "size": 18
         },
         "textposition": "outside",
         "type": "bar",
         "x": [
          3
         ],
         "y": [
          23536
         ]
        },
        {
         "text": "[1723]",
         "textfont": {
          "color": "#1f77b4",
          "family": "sans serif",
          "size": 18
         },
         "textposition": "outside",
         "type": "bar",
         "x": [
          3
         ],
         "y": [
          44472
         ]
        },
        {
         "text": "[1723]",
         "textfont": {
          "color": "#1f77b4",
          "family": "sans serif",
          "size": 18
         },
         "textposition": "outside",
         "type": "bar",
         "x": [
          3
         ],
         "y": [
          2413
         ]
        }
       ],
       "layout": {
        "font": {
         "family": "Courier New, monospace",
         "size": 18
        },
        "template": {
         "data": {
          "bar": [
           {
            "error_x": {
             "color": "#2a3f5f"
            },
            "error_y": {
             "color": "#2a3f5f"
            },
            "marker": {
             "line": {
              "color": "#E5ECF6",
              "width": 0.5
             },
             "pattern": {
              "fillmode": "overlay",
              "size": 10,
              "solidity": 0.2
             }
            },
            "type": "bar"
           }
          ],
          "barpolar": [
           {
            "marker": {
             "line": {
              "color": "#E5ECF6",
              "width": 0.5
             },
             "pattern": {
              "fillmode": "overlay",
              "size": 10,
              "solidity": 0.2
             }
            },
            "type": "barpolar"
           }
          ],
          "carpet": [
           {
            "aaxis": {
             "endlinecolor": "#2a3f5f",
             "gridcolor": "white",
             "linecolor": "white",
             "minorgridcolor": "white",
             "startlinecolor": "#2a3f5f"
            },
            "baxis": {
             "endlinecolor": "#2a3f5f",
             "gridcolor": "white",
             "linecolor": "white",
             "minorgridcolor": "white",
             "startlinecolor": "#2a3f5f"
            },
            "type": "carpet"
           }
          ],
          "choropleth": [
           {
            "colorbar": {
             "outlinewidth": 0,
             "ticks": ""
            },
            "type": "choropleth"
           }
          ],
          "contour": [
           {
            "colorbar": {
             "outlinewidth": 0,
             "ticks": ""
            },
            "colorscale": [
             [
              0,
              "#0d0887"
             ],
             [
              0.1111111111111111,
              "#46039f"
             ],
             [
              0.2222222222222222,
              "#7201a8"
             ],
             [
              0.3333333333333333,
              "#9c179e"
             ],
             [
              0.4444444444444444,
              "#bd3786"
             ],
             [
              0.5555555555555556,
              "#d8576b"
             ],
             [
              0.6666666666666666,
              "#ed7953"
             ],
             [
              0.7777777777777778,
              "#fb9f3a"
             ],
             [
              0.8888888888888888,
              "#fdca26"
             ],
             [
              1,
              "#f0f921"
             ]
            ],
            "type": "contour"
           }
          ],
          "contourcarpet": [
           {
            "colorbar": {
             "outlinewidth": 0,
             "ticks": ""
            },
            "type": "contourcarpet"
           }
          ],
          "heatmap": [
           {
            "colorbar": {
             "outlinewidth": 0,
             "ticks": ""
            },
            "colorscale": [
             [
              0,
              "#0d0887"
             ],
             [
              0.1111111111111111,
              "#46039f"
             ],
             [
              0.2222222222222222,
              "#7201a8"
             ],
             [
              0.3333333333333333,
              "#9c179e"
             ],
             [
              0.4444444444444444,
              "#bd3786"
             ],
             [
              0.5555555555555556,
              "#d8576b"
             ],
             [
              0.6666666666666666,
              "#ed7953"
             ],
             [
              0.7777777777777778,
              "#fb9f3a"
             ],
             [
              0.8888888888888888,
              "#fdca26"
             ],
             [
              1,
              "#f0f921"
             ]
            ],
            "type": "heatmap"
           }
          ],
          "heatmapgl": [
           {
            "colorbar": {
             "outlinewidth": 0,
             "ticks": ""
            },
            "colorscale": [
             [
              0,
              "#0d0887"
             ],
             [
              0.1111111111111111,
              "#46039f"
             ],
             [
              0.2222222222222222,
              "#7201a8"
             ],
             [
              0.3333333333333333,
              "#9c179e"
             ],
             [
              0.4444444444444444,
              "#bd3786"
             ],
             [
              0.5555555555555556,
              "#d8576b"
             ],
             [
              0.6666666666666666,
              "#ed7953"
             ],
             [
              0.7777777777777778,
              "#fb9f3a"
             ],
             [
              0.8888888888888888,
              "#fdca26"
             ],
             [
              1,
              "#f0f921"
             ]
            ],
            "type": "heatmapgl"
           }
          ],
          "histogram": [
           {
            "marker": {
             "pattern": {
              "fillmode": "overlay",
              "size": 10,
              "solidity": 0.2
             }
            },
            "type": "histogram"
           }
          ],
          "histogram2d": [
           {
            "colorbar": {
             "outlinewidth": 0,
             "ticks": ""
            },
            "colorscale": [
             [
              0,
              "#0d0887"
             ],
             [
              0.1111111111111111,
              "#46039f"
             ],
             [
              0.2222222222222222,
              "#7201a8"
             ],
             [
              0.3333333333333333,
              "#9c179e"
             ],
             [
              0.4444444444444444,
              "#bd3786"
             ],
             [
              0.5555555555555556,
              "#d8576b"
             ],
             [
              0.6666666666666666,
              "#ed7953"
             ],
             [
              0.7777777777777778,
              "#fb9f3a"
             ],
             [
              0.8888888888888888,
              "#fdca26"
             ],
             [
              1,
              "#f0f921"
             ]
            ],
            "type": "histogram2d"
           }
          ],
          "histogram2dcontour": [
           {
            "colorbar": {
             "outlinewidth": 0,
             "ticks": ""
            },
            "colorscale": [
             [
              0,
              "#0d0887"
             ],
             [
              0.1111111111111111,
              "#46039f"
             ],
             [
              0.2222222222222222,
              "#7201a8"
             ],
             [
              0.3333333333333333,
              "#9c179e"
             ],
             [
              0.4444444444444444,
              "#bd3786"
             ],
             [
              0.5555555555555556,
              "#d8576b"
             ],
             [
              0.6666666666666666,
              "#ed7953"
             ],
             [
              0.7777777777777778,
              "#fb9f3a"
             ],
             [
              0.8888888888888888,
              "#fdca26"
             ],
             [
              1,
              "#f0f921"
             ]
            ],
            "type": "histogram2dcontour"
           }
          ],
          "mesh3d": [
           {
            "colorbar": {
             "outlinewidth": 0,
             "ticks": ""
            },
            "type": "mesh3d"
           }
          ],
          "parcoords": [
           {
            "line": {
             "colorbar": {
              "outlinewidth": 0,
              "ticks": ""
             }
            },
            "type": "parcoords"
           }
          ],
          "pie": [
           {
            "automargin": true,
            "type": "pie"
           }
          ],
          "scatter": [
           {
            "fillpattern": {
             "fillmode": "overlay",
             "size": 10,
             "solidity": 0.2
            },
            "type": "scatter"
           }
          ],
          "scatter3d": [
           {
            "line": {
             "colorbar": {
              "outlinewidth": 0,
              "ticks": ""
             }
            },
            "marker": {
             "colorbar": {
              "outlinewidth": 0,
              "ticks": ""
             }
            },
            "type": "scatter3d"
           }
          ],
          "scattercarpet": [
           {
            "marker": {
             "colorbar": {
              "outlinewidth": 0,
              "ticks": ""
             }
            },
            "type": "scattercarpet"
           }
          ],
          "scattergeo": [
           {
            "marker": {
             "colorbar": {
              "outlinewidth": 0,
              "ticks": ""
             }
            },
            "type": "scattergeo"
           }
          ],
          "scattergl": [
           {
            "marker": {
             "colorbar": {
              "outlinewidth": 0,
              "ticks": ""
             }
            },
            "type": "scattergl"
           }
          ],
          "scattermapbox": [
           {
            "marker": {
             "colorbar": {
              "outlinewidth": 0,
              "ticks": ""
             }
            },
            "type": "scattermapbox"
           }
          ],
          "scatterpolar": [
           {
            "marker": {
             "colorbar": {
              "outlinewidth": 0,
              "ticks": ""
             }
            },
            "type": "scatterpolar"
           }
          ],
          "scatterpolargl": [
           {
            "marker": {
             "colorbar": {
              "outlinewidth": 0,
              "ticks": ""
             }
            },
            "type": "scatterpolargl"
           }
          ],
          "scatterternary": [
           {
            "marker": {
             "colorbar": {
              "outlinewidth": 0,
              "ticks": ""
             }
            },
            "type": "scatterternary"
           }
          ],
          "surface": [
           {
            "colorbar": {
             "outlinewidth": 0,
             "ticks": ""
            },
            "colorscale": [
             [
              0,
              "#0d0887"
             ],
             [
              0.1111111111111111,
              "#46039f"
             ],
             [
              0.2222222222222222,
              "#7201a8"
             ],
             [
              0.3333333333333333,
              "#9c179e"
             ],
             [
              0.4444444444444444,
              "#bd3786"
             ],
             [
              0.5555555555555556,
              "#d8576b"
             ],
             [
              0.6666666666666666,
              "#ed7953"
             ],
             [
              0.7777777777777778,
              "#fb9f3a"
             ],
             [
              0.8888888888888888,
              "#fdca26"
             ],
             [
              1,
              "#f0f921"
             ]
            ],
            "type": "surface"
           }
          ],
          "table": [
           {
            "cells": {
             "fill": {
              "color": "#EBF0F8"
             },
             "line": {
              "color": "white"
             }
            },
            "header": {
             "fill": {
              "color": "#C8D4E3"
             },
             "line": {
              "color": "white"
             }
            },
            "type": "table"
           }
          ]
         },
         "layout": {
          "annotationdefaults": {
           "arrowcolor": "#2a3f5f",
           "arrowhead": 0,
           "arrowwidth": 1
          },
          "autotypenumbers": "strict",
          "coloraxis": {
           "colorbar": {
            "outlinewidth": 0,
            "ticks": ""
           }
          },
          "colorscale": {
           "diverging": [
            [
             0,
             "#8e0152"
            ],
            [
             0.1,
             "#c51b7d"
            ],
            [
             0.2,
             "#de77ae"
            ],
            [
             0.3,
             "#f1b6da"
            ],
            [
             0.4,
             "#fde0ef"
            ],
            [
             0.5,
             "#f7f7f7"
            ],
            [
             0.6,
             "#e6f5d0"
            ],
            [
             0.7,
             "#b8e186"
            ],
            [
             0.8,
             "#7fbc41"
            ],
            [
             0.9,
             "#4d9221"
            ],
            [
             1,
             "#276419"
            ]
           ],
           "sequential": [
            [
             0,
             "#0d0887"
            ],
            [
             0.1111111111111111,
             "#46039f"
            ],
            [
             0.2222222222222222,
             "#7201a8"
            ],
            [
             0.3333333333333333,
             "#9c179e"
            ],
            [
             0.4444444444444444,
             "#bd3786"
            ],
            [
             0.5555555555555556,
             "#d8576b"
            ],
            [
             0.6666666666666666,
             "#ed7953"
            ],
            [
             0.7777777777777778,
             "#fb9f3a"
            ],
            [
             0.8888888888888888,
             "#fdca26"
            ],
            [
             1,
             "#f0f921"
            ]
           ],
           "sequentialminus": [
            [
             0,
             "#0d0887"
            ],
            [
             0.1111111111111111,
             "#46039f"
            ],
            [
             0.2222222222222222,
             "#7201a8"
            ],
            [
             0.3333333333333333,
             "#9c179e"
            ],
            [
             0.4444444444444444,
             "#bd3786"
            ],
            [
             0.5555555555555556,
             "#d8576b"
            ],
            [
             0.6666666666666666,
             "#ed7953"
            ],
            [
             0.7777777777777778,
             "#fb9f3a"
            ],
            [
             0.8888888888888888,
             "#fdca26"
            ],
            [
             1,
             "#f0f921"
            ]
           ]
          },
          "colorway": [
           "#636efa",
           "#EF553B",
           "#00cc96",
           "#ab63fa",
           "#FFA15A",
           "#19d3f3",
           "#FF6692",
           "#B6E880",
           "#FF97FF",
           "#FECB52"
          ],
          "font": {
           "color": "#2a3f5f"
          },
          "geo": {
           "bgcolor": "white",
           "lakecolor": "white",
           "landcolor": "#E5ECF6",
           "showlakes": true,
           "showland": true,
           "subunitcolor": "white"
          },
          "hoverlabel": {
           "align": "left"
          },
          "hovermode": "closest",
          "mapbox": {
           "style": "light"
          },
          "paper_bgcolor": "white",
          "plot_bgcolor": "#E5ECF6",
          "polar": {
           "angularaxis": {
            "gridcolor": "white",
            "linecolor": "white",
            "ticks": ""
           },
           "bgcolor": "#E5ECF6",
           "radialaxis": {
            "gridcolor": "white",
            "linecolor": "white",
            "ticks": ""
           }
          },
          "scene": {
           "xaxis": {
            "backgroundcolor": "#E5ECF6",
            "gridcolor": "white",
            "gridwidth": 2,
            "linecolor": "white",
            "showbackground": true,
            "ticks": "",
            "zerolinecolor": "white"
           },
           "yaxis": {
            "backgroundcolor": "#E5ECF6",
            "gridcolor": "white",
            "gridwidth": 2,
            "linecolor": "white",
            "showbackground": true,
            "ticks": "",
            "zerolinecolor": "white"
           },
           "zaxis": {
            "backgroundcolor": "#E5ECF6",
            "gridcolor": "white",
            "gridwidth": 2,
            "linecolor": "white",
            "showbackground": true,
            "ticks": "",
            "zerolinecolor": "white"
           }
          },
          "shapedefaults": {
           "line": {
            "color": "#2a3f5f"
           }
          },
          "ternary": {
           "aaxis": {
            "gridcolor": "white",
            "linecolor": "white",
            "ticks": ""
           },
           "baxis": {
            "gridcolor": "white",
            "linecolor": "white",
            "ticks": ""
           },
           "bgcolor": "#E5ECF6",
           "caxis": {
            "gridcolor": "white",
            "linecolor": "white",
            "ticks": ""
           }
          },
          "title": {
           "x": 0.05
          },
          "xaxis": {
           "automargin": true,
           "gridcolor": "white",
           "linecolor": "white",
           "ticks": "",
           "title": {
            "standoff": 15
           },
           "zerolinecolor": "white",
           "zerolinewidth": 2
          },
          "yaxis": {
           "automargin": true,
           "gridcolor": "white",
           "linecolor": "white",
           "ticks": "",
           "title": {
            "standoff": 15
           },
           "zerolinecolor": "white",
           "zerolinewidth": 2
          }
         }
        },
        "title": {
         "text": "<b>Total device_type<b>"
        },
        "uniformtext": {
         "minsize": 8,
         "mode": "hide"
        },
        "yaxis": {
         "range": [
          0,
          50000
         ],
         "title": {
          "text": "Count"
         }
        }
       }
      }
     },
     "metadata": {},
     "output_type": "display_data"
    }
   ],
   "source": [
    "# Overall distribtuion of devices\n",
    "\n",
    "devices = [d for d in df['device_type'].unique()]\n",
    "\n",
    "fig = go.Figure()\n",
    "for d in devices:\n",
    "    count= len(df[df['device_type'] == d])\n",
    "    fig.add_trace(go.Bar(x= [d], y = [count], textfont_size=20))\n",
    "\n",
    "\n",
    "\n",
    "multiple_subset_bar(feature = 'device_type', yrange = [0,50000] )"
   ]
  },
  {
   "cell_type": "code",
   "execution_count": null,
   "id": "38be17e6",
   "metadata": {},
   "outputs": [],
   "source": [
    "def single_subset_feature_visualization(values, feature):\n",
    "    \"\"\" Takes in an array of values and will output a histogram / boxplot / average\"\"\" \n",
    "    fig = make_subplots(\n",
    "        rows=3, cols=1, subplot_titles=(\"Histogram\", \"Boxplot\", \"Average of \" + str(feature))\n",
    "    )\n",
    "    # Average\n",
    "    average = values.mean()\n",
    "\n",
    "    # Add traces\n",
    "    fig.add_trace(go.Histogram(x= values), row=1, col=1)\n",
    "    fig.add_trace(go.Box(y = values ), row=2, col=1)\n",
    "    fig.add_trace(go.Bar(x=['All Data'], y = [average], width = [0.3]),  row=3, col=1)\n",
    "\n",
    "    # Update xaxis properties\n",
    "    fig.update_xaxes(title_text=str(feature), row=1, col=1)\n",
    "    fig.update_xaxes(title_text=str(feature), row=2, col=1)\n",
    "    fig.update_xaxes(title_text=str(feature), row=3, col=1)\n",
    "   \n",
    "\n",
    "    # Update yaxis properties\n",
    "    fig.update_yaxes(title_text='Count', row=1, col=1)\n",
    "    fig.update_yaxes(title_text=str(feature), row=2, col=1)\n",
    "    fig.update_yaxes(title_text=str(feature), range = [0, 100], row=3, col=1)\n",
    "    \n",
    "\n",
    "\n",
    "    # Update title and height\n",
    "    fig.update_layout(title_text=\"Distribution of \" + str(feature), height= 750, width = 800)\n",
    "\n",
    "    return fig.show()\n",
    "    \n",
    "    "
   ]
  },
  {
   "cell_type": "markdown",
   "id": "043b676b",
   "metadata": {},
   "source": [
    "## Overall Feature Analysis"
   ]
  },
  {
   "cell_type": "markdown",
   "id": "c6d72253",
   "metadata": {},
   "source": [
    "### Number of Impressions"
   ]
  },
  {
   "cell_type": "code",
   "execution_count": null,
   "id": "5c533c41",
   "metadata": {},
   "outputs": [],
   "source": [
    "# Number of Impressions\n",
    "single_subset_bar(values = len(df), feature = 'Number of Impressions', yrange = [0, 80000])"
   ]
  },
  {
   "cell_type": "markdown",
   "id": "9ce973c6",
   "metadata": {},
   "source": [
    "### Distribution of Readtimes"
   ]
  },
  {
   "cell_type": "code",
   "execution_count": null,
   "id": "bc99f64e",
   "metadata": {},
   "outputs": [],
   "source": [
    "## Average readtime per user\n",
    "read_times = df['read_time'].values\n",
    "\n",
    "single_subset_feature_visualization(values = read_times, feature = 'read_time')"
   ]
  },
  {
   "cell_type": "code",
   "execution_count": null,
   "id": "b73b1c54",
   "metadata": {},
   "outputs": [],
   "source": [
    "## Average readtime per user\n",
    "read_times = df['read_time'].values\n",
    "\n",
    "fig = go.Figure()\n",
    "fig.add_trace(go.Histogram(x=read_times))\n",
    "\n",
    "\n",
    "# Overlay both histograms\n",
    "fig.update_layout(barmode='overlay')\n",
    "# Reduce opacity to see both histograms\n",
    "fig.update_traces(opacity=0.55)\n",
    "fig.show()"
   ]
  },
  {
   "cell_type": "code",
   "execution_count": null,
   "id": "ff621deb",
   "metadata": {},
   "outputs": [],
   "source": [
    "\n",
    "read_times = df['read_time'].values\n",
    "\n",
    "fig = go.Figure()\n",
    "\n",
    "fig.add_trace(go.Box(y = read_times))\n",
    "\n",
    "\n",
    "# Overlay both histograms\n",
    "#fig.update_layout(barmode='overlay')\n",
    "# Reduce opacity to see both histograms\n",
    "fig.update_traces(opacity=0.55)\n",
    "fig.show()"
   ]
  },
  {
   "cell_type": "markdown",
   "id": "c99341fb",
   "metadata": {},
   "source": [
    "### Distribution of Scroll Percentages"
   ]
  },
  {
   "cell_type": "code",
   "execution_count": null,
   "id": "b94f3fd8",
   "metadata": {},
   "outputs": [],
   "source": [
    "## Average readtime per user\n",
    "read_times = df['scroll_percentage'].values\n",
    "\n",
    "fig = go.Figure()\n",
    "fig.add_trace(go.Histogram(x=read_times))\n",
    "\n",
    "\n",
    "# Overlay both histograms\n",
    "fig.update_layout(barmode='overlay')\n",
    "# Reduce opacity to see both histograms\n",
    "fig.update_traces(opacity=0.55)\n",
    "fig.show()"
   ]
  },
  {
   "cell_type": "code",
   "execution_count": null,
   "id": "38c22d0f",
   "metadata": {},
   "outputs": [],
   "source": [
    "\n",
    "read_times = df['scroll_percentage'].values\n",
    "\n",
    "fig = go.Figure()\n",
    "\n",
    "fig.add_trace(go.Box(y = read_times))\n",
    "\n",
    "\n",
    "# Overlay both histograms\n",
    "#fig.update_layout(barmode='overlay')\n",
    "# Reduce opacity to see both histograms\n",
    "fig.update_traces(opacity=0.55)\n",
    "fig.show()"
   ]
  },
  {
   "cell_type": "markdown",
   "id": "5668d320",
   "metadata": {},
   "source": [
    "## Users"
   ]
  },
  {
   "cell_type": "markdown",
   "id": "a7d88858",
   "metadata": {},
   "source": [
    "### Number of Users\n"
   ]
  },
  {
   "cell_type": "code",
   "execution_count": null,
   "id": "742bf126",
   "metadata": {},
   "outputs": [],
   "source": [
    "# Number of Users\n",
    "single_subset_bar(values = len(df['user_id'].unique()), feature = 'Number of Users', yrange = [0, 11000])"
   ]
  },
  {
   "cell_type": "markdown",
   "id": "361ef1f1",
   "metadata": {},
   "source": [
    "### Daily User growth"
   ]
  },
  {
   "cell_type": "code",
   "execution_count": null,
   "id": "d61b4f2f",
   "metadata": {},
   "outputs": [],
   "source": [
    "unique_user_ids = df['user_id'].unique()\n",
    "\n",
    "# Create dictionaries\n",
    "unique_users_daily_growth_freq= {}\n",
    "unique_users_hourly_freq = {}\n",
    "unique_users_dayofweek_freq = {}\n",
    "unique_users_weekly_freq = {}\n",
    "\n",
    "for id in unique_user_ids:\n",
    "    # Get the subset of that user id\n",
    "    tmp_df = df[df['user_id'] == id]\n",
    "    first_index = tmp_df['impression_time_fixed'].index[0]\n",
    "    tmp_datetime = pd.DatetimeIndex(tmp_df['impression_time_fixed'][first_index])\n",
    "    tmp_date = tmp_datetime[0].date()\n",
    "    join_date = tmp_date.strftime('%m/%d/%Y')\n",
    "    #join_date = join_date.strftime('%m/%d/%Y')\n",
    "    \n",
    "    if join_date not in unique_users_daily_growth_freq:\n",
    "        unique_users_daily_growth_freq[join_date] = 1\n",
    "    else:\n",
    "        unique_users_daily_growth_freq[join_date] +=1\n",
    "    \n",
    "unique_users_daily_growth_freq = dict(sorted(unique_users_daily_growth_freq.items()))"
   ]
  },
  {
   "cell_type": "code",
   "execution_count": null,
   "id": "f2bafa25",
   "metadata": {},
   "outputs": [],
   "source": [
    "indices = [x for x in unique_users_daily_growth_freq.keys()]\n",
    "values = [x for x in unique_users_daily_growth_freq.values()]\n",
    "\n",
    "fig = go.Figure()\n",
    "\n",
    "# Add traces\n",
    "fig.add_trace(go.Bar(x = indices, y = values,\n",
    "                         \n",
    "                         )\n",
    "\n",
    ")\n",
    "\n",
    "fig.update_traces(texttemplate='%{text:.2s}', textposition='outside')\n",
    "fig.update_layout(uniformtext_minsize=8, uniformtext_mode='hide')\n",
    "\n",
    "fig.show()"
   ]
  },
  {
   "cell_type": "markdown",
   "id": "0bf6f358",
   "metadata": {},
   "source": [
    "### Average readtime per user"
   ]
  },
  {
   "cell_type": "code",
   "execution_count": null,
   "id": "fc8a48f2",
   "metadata": {},
   "outputs": [],
   "source": [
    "## Average readtime per user\n",
    "avg_read_times = df.groupby(by =  'user_id')['read_time'].mean()\n",
    "\n",
    "fig = go.Figure()\n",
    "fig.add_trace(go.Histogram(x=avg_read_times))\n",
    "\n",
    "\n",
    "# Overlay both histograms\n",
    "fig.update_layout(barmode='overlay')\n",
    "# Reduce opacity to see both histograms\n",
    "fig.update_traces(opacity=0.55)\n",
    "fig.show()\n",
    "\n",
    "\n"
   ]
  },
  {
   "cell_type": "code",
   "execution_count": null,
   "id": "5d127bb2",
   "metadata": {},
   "outputs": [],
   "source": [
    "## Average readtime per user\n",
    "avg_read_times = df.groupby(by =  'user_id')['read_time'].mean()\n",
    "\n",
    "\n",
    "fig = go.Figure()\n",
    "fig.add_trace(go.Box(y =avg_read_times))\n",
    "\n",
    "\n",
    "# Overlay both histograms\n",
    "#fig.update_layout(barmode='overlay')\n",
    "# Reduce opacity to see both histograms\n",
    "fig.update_traces(opacity=0.55)\n",
    "fig.show()"
   ]
  },
  {
   "cell_type": "markdown",
   "id": "e4424d9e",
   "metadata": {},
   "source": [
    "### Average scroll percentage per user"
   ]
  },
  {
   "cell_type": "code",
   "execution_count": null,
   "id": "03d400e7",
   "metadata": {},
   "outputs": [],
   "source": [
    "# Average scroll time across each user\n",
    "## Average readtime per user\n",
    "avg_scroll_percentage = df.groupby(by = 'user_id')['scroll_percentage'].mean()\n",
    "\n",
    "\n",
    "fig = go.Figure()\n",
    "fig.add_trace(go.Histogram(x=avg_scroll_percentage))\n",
    "\n",
    "\n",
    "# Overlay both histograms\n",
    "#fig.update_layout(barmode='overlay')\n",
    "# Reduce opacity to see both histograms\n",
    "fig.update_traces(opacity=0.55)\n",
    "fig.show()"
   ]
  },
  {
   "cell_type": "code",
   "execution_count": null,
   "id": "4527d3fe",
   "metadata": {},
   "outputs": [],
   "source": [
    "# Average scroll time across each user\n",
    "## Average readtime per user\n",
    "avg_scroll_percentage = df.groupby(by = 'user_id')['scroll_percentage'].mean()\n",
    "\n",
    "\n",
    "fig = go.Figure()\n",
    "fig.add_trace(go.Box(y=avg_scroll_percentage))\n",
    "\n",
    "\n",
    "# Overlay both histograms\n",
    "#fig.update_layout(barmode='overlay')\n",
    "# Reduce opacity to see both histograms\n",
    "fig.update_traces(opacity=0.55)\n",
    "fig.show()"
   ]
  },
  {
   "cell_type": "markdown",
   "id": "2ec7344e",
   "metadata": {},
   "source": [
    "### User Activity"
   ]
  },
  {
   "cell_type": "code",
   "execution_count": null,
   "id": "a0f2c916",
   "metadata": {},
   "outputs": [],
   "source": [
    "# Let's make subsets for each user_id and then populate the frequency based on that\n",
    "\n",
    "## Get all unique ids in a list\n",
    "\n",
    "unique_user_ids = df['user_id'].unique()[0:1000]\n",
    "\n",
    "# Create dictionaries\n",
    "unique_users_daily_freq = {}\n",
    "unique_users_hourly_freq = {}\n",
    "unique_users_dayofweek_freq = {}\n",
    "unique_users_weekly_freq = {}\n",
    "\n",
    "for id in unique_user_ids:\n",
    "    # Get the subset of that user id\n",
    "    tmp_df = df[df['user_id'] == id]\n",
    "\n",
    "    # Now lets go through each and populate the unique dates, hours and day of the week for each user\n",
    "    dates = []\n",
    "    hours = []\n",
    "    dayofweek = []\n",
    "    week = []\n",
    "    indices = np.array(tmp_df.index)\n",
    "    for i in indices:\n",
    "        tmp_datetime = pd.DatetimeIndex(tmp_df['impression_time_fixed'][i])\n",
    "        tmp_date = tmp_datetime.date\n",
    "        tmp_time = tmp_datetime.time\n",
    "        tmp_dayofweek = tmp_datetime.day_of_week\n",
    "        tmp_week = tmp_datetime.isocalendar().week\n",
    "\n",
    "        for j in tmp_date:\n",
    "            dates.append(j)\n",
    "        \n",
    "        for k in tmp_time:\n",
    "            hours.append(k)\n",
    "        \n",
    "        for l in tmp_dayofweek:\n",
    "            dayofweek.append(l)\n",
    "        \n",
    "        for m in tmp_week:\n",
    "            week.append(m)\n",
    "\n",
    "    # Get rid of duplicate values\n",
    "    unique_dates = list(set(dates))\n",
    "    unique_hours = list(set(hours))\n",
    "    unique_dayofweek = list(set(dayofweek))\n",
    "    unique_week = list(set(week))\n",
    "\n",
    "    # Convert to string\n",
    "    unique_dates = [x.strftime('%m/%d/%Y') for x in unique_dates]\n",
    "    unique_hours = [x.hour for x in unique_hours]\n",
    "\n",
    "\n",
    "    # Populate our unique_user_daily_freq dict\n",
    "    for i in unique_dates:\n",
    "        \n",
    "        if i not in unique_users_daily_freq:\n",
    "            unique_users_daily_freq[i] = 1\n",
    "        else:\n",
    "            unique_users_daily_freq[i] +=1\n",
    "        \n",
    "\n",
    "    # Populate hourly activity\n",
    "    for j in unique_hours:\n",
    "\n",
    "        if j not in unique_users_hourly_freq:\n",
    "            unique_users_hourly_freq[j] = 1\n",
    "        else:\n",
    "            unique_users_hourly_freq[j] +=1\n",
    "\n",
    "    # Populate dayofweeka activity\n",
    "    for k in unique_dayofweek:\n",
    "\n",
    "        if k not in unique_users_dayofweek_freq:\n",
    "            unique_users_dayofweek_freq[k] = 1\n",
    "        else:\n",
    "            unique_users_dayofweek_freq[k] +=1\n",
    "    \n",
    "\n",
    "    # Populate dayofweeka activity\n",
    "    for l in unique_week:\n",
    "\n",
    "        if l not in unique_users_weekly_freq:\n",
    "            unique_users_weekly_freq[l] = 1\n",
    "        else:\n",
    "            unique_users_weekly_freq[l] +=1\n",
    "    \n",
    "            \n",
    "    "
   ]
  },
  {
   "cell_type": "markdown",
   "id": "7d544d44",
   "metadata": {},
   "source": [
    "#### Daily User Activity"
   ]
  },
  {
   "cell_type": "code",
   "execution_count": null,
   "id": "9228e8d8",
   "metadata": {},
   "outputs": [],
   "source": [
    "# What does the daily user activity look like?\n",
    "unique_users_daily_freq = dict(sorted(unique_users_daily_freq.items()))\n",
    "\n",
    "indices = [x for x in unique_users_daily_freq.keys()]\n",
    "values = [x for x in unique_users_daily_freq.values()]\n",
    "\n",
    "fig = go.Figure()\n",
    "\n",
    "# Add traces\n",
    "fig.add_trace(go.Scatter(x = indices, y = values,\n",
    "                         mode = 'lines+markers'\n",
    "                         )\n",
    "\n",
    ")\n",
    "\n",
    "fig.show()\n"
   ]
  },
  {
   "cell_type": "markdown",
   "id": "51f0156b",
   "metadata": {},
   "source": [
    "#### Hourly User Activity"
   ]
  },
  {
   "cell_type": "code",
   "execution_count": null,
   "id": "d4a4ba10",
   "metadata": {},
   "outputs": [],
   "source": [
    "# What does the hourly user activity look like?\n",
    "indices = [x for x in unique_users_hourly_freq.keys()]\n",
    "values = [x for x in unique_users_hourly_freq.values()]\n",
    "\n",
    "fig = go.Figure()\n",
    "\n",
    "# Add traces\n",
    "fig.add_trace(go.Scatter(x = indices, y = values,\n",
    "                         mode = 'markers'\n",
    "                         )\n",
    "\n",
    ")\n",
    "\n",
    "fig.show()"
   ]
  },
  {
   "cell_type": "markdown",
   "id": "16cef0a4",
   "metadata": {},
   "source": [
    "#### Weekly User Activity"
   ]
  },
  {
   "cell_type": "code",
   "execution_count": null,
   "id": "f4e5d006",
   "metadata": {},
   "outputs": [],
   "source": [
    "# What does the weekly user activity look like?\n",
    "indices = [x for x in unique_users_weekly_freq.keys()]\n",
    "values = [x for x in unique_users_weekly_freq.values()]\n",
    "\n",
    "fig = go.Figure()\n",
    "\n",
    "# Add traces\n",
    "fig.add_trace(go.Scatter(x = indices, y = values,\n",
    "                         mode = 'markers'\n",
    "                         )\n",
    "\n",
    ")\n",
    "\n",
    "fig.show()"
   ]
  },
  {
   "cell_type": "markdown",
   "id": "0b047d88",
   "metadata": {},
   "source": [
    "#### Day Of The Week User Activity"
   ]
  },
  {
   "cell_type": "code",
   "execution_count": null,
   "id": "1ae2c648",
   "metadata": {},
   "outputs": [],
   "source": [
    "# What does the weekly user activity look like?\n",
    "indices = [x for x in unique_users_dayofweek_freq.keys()]\n",
    "values = [x for x in unique_users_dayofweek_freq.values()]\n",
    "\n",
    "fig = go.Figure()\n",
    "\n",
    "# Add traces\n",
    "fig.add_trace(go.Scatter(x = indices, y = values,\n",
    "                         mode = 'markers'\n",
    "                         )\n",
    "\n",
    ")\n",
    "\n",
    "fig.show()"
   ]
  },
  {
   "cell_type": "markdown",
   "id": "812afcd3",
   "metadata": {},
   "source": [
    "## Session"
   ]
  },
  {
   "cell_type": "markdown",
   "id": "04d54dba",
   "metadata": {},
   "source": [
    "### Number of Sessions"
   ]
  },
  {
   "cell_type": "code",
   "execution_count": null,
   "id": "628db845",
   "metadata": {},
   "outputs": [],
   "source": [
    "indices = ['Number of Sessions']\n",
    "values = [len(df['session_id'].unique())]\n",
    "\n",
    "# Number of Sessions\n",
    "single_subset_bar(values = len(df['session_id'].unique()), feature = 'Number of Sessions', yrange = [0, 40000])"
   ]
  },
  {
   "cell_type": "markdown",
   "id": "ef76c067",
   "metadata": {},
   "source": [
    "### Average readtime per session"
   ]
  },
  {
   "cell_type": "code",
   "execution_count": null,
   "id": "af644351",
   "metadata": {},
   "outputs": [],
   "source": [
    "# For each session, what was the average readtimes\n",
    "\n",
    "## Average readtime per session\n",
    "avg_read_times = df.groupby(by ='session_id')['read_time'].mean()\n",
    "\n",
    "fig = go.Figure()\n",
    "fig.add_trace(go.Histogram(x=avg_read_times))\n",
    "\n",
    "\n",
    "# Overlay both histograms\n",
    "fig.update_layout(barmode='overlay')\n",
    "# Reduce opacity to see both histograms\n",
    "fig.update_traces(opacity=0.55)\n",
    "fig.show()\n",
    "\n",
    "\n",
    "\n",
    "    "
   ]
  },
  {
   "cell_type": "code",
   "execution_count": null,
   "id": "4e873824",
   "metadata": {},
   "outputs": [],
   "source": [
    "# For each session, what was the average readtimes\n",
    "\n",
    "## Average readtime per session\n",
    "avg_read_times = df.groupby(by ='session_id')['read_time'].mean()\n",
    "\n",
    "fig = go.Figure()\n",
    "fig.add_trace(go.Box(y=avg_read_times))\n",
    "\n",
    "\n",
    "# Overlay both histograms\n",
    "fig.update_layout(barmode='overlay')\n",
    "# Reduce opacity to see both histograms\n",
    "fig.update_traces(opacity=0.55)\n",
    "fig.show()"
   ]
  },
  {
   "cell_type": "markdown",
   "id": "52d99ce7",
   "metadata": {},
   "source": [
    "### Average scroll percentage per session"
   ]
  },
  {
   "cell_type": "code",
   "execution_count": null,
   "id": "5fba3670",
   "metadata": {},
   "outputs": [],
   "source": [
    "# For each session, what was the average scroll time\n",
    "\n",
    "# Distribution blot histogram (bin it)\n",
    "df.groupby(by= 'session_id')['scroll_percentage'].mean()\n",
    "\n",
    "## Average readtime per user\n",
    "avg_scroll_pct = df.groupby(by ='session_id')['scroll_percentage'].mean()\n",
    "\n",
    "fig = go.Figure()\n",
    "fig.add_trace(go.Histogram(x=avg_scroll_pct))\n",
    "\n",
    "\n",
    "# Overlay both histograms\n",
    "fig.update_layout(barmode='overlay')\n",
    "# Reduce opacity to see both histograms\n",
    "fig.update_traces(opacity=0.55)\n",
    "fig.show()"
   ]
  },
  {
   "cell_type": "code",
   "execution_count": null,
   "id": "02745dfa",
   "metadata": {},
   "outputs": [],
   "source": [
    "# For each session, what was the average scroll time\n",
    "\n",
    "# Distribution blot histogram (bin it)\n",
    "df.groupby(by= 'session_id')['scroll_percentage'].mean()\n",
    "\n",
    "## Average readtime per user\n",
    "avg_scroll_pct = df.groupby(by ='session_id')['scroll_percentage'].mean()\n",
    "\n",
    "fig = go.Figure()\n",
    "fig.add_trace(go.Box(y=avg_scroll_pct))\n",
    "\n",
    "\n",
    "# Overlay both histograms\n",
    "fig.update_layout(barmode='overlay')\n",
    "# Reduce opacity to see both histograms\n",
    "fig.update_traces(opacity=0.55)\n",
    "fig.show()"
   ]
  },
  {
   "cell_type": "markdown",
   "id": "d338324f",
   "metadata": {},
   "source": [
    "### Daily Active Sessions"
   ]
  },
  {
   "cell_type": "code",
   "execution_count": null,
   "id": "ac8b3a4c",
   "metadata": {},
   "outputs": [],
   "source": [
    "# Number of unique sessions per day\n",
    "tmp_df = df\n",
    "tmp_df['impression_time'] = tmp_df['impression_time'].apply(lambda x: x.strftime('%m/%d/%Y'))\n",
    "\n",
    "\n",
    "unique_session_dates= tmp_df['impression_time'].unique()\n",
    "unique_sessions_per_day = tmp_df.groupby(by = 'session_id')['impression_time'].min()\n",
    "unique_sessions_daily_growth = {k:0 for k in unique_sessions_per_day}\n",
    "\n",
    "\n",
    "for x in unique_sessions_per_day.values:\n",
    "    unique_sessions_daily_growth[x] +=1\n",
    "\n",
    "unique_sessions_daily_growth = dict(sorted(unique_sessions_daily_growth.items()))"
   ]
  },
  {
   "cell_type": "code",
   "execution_count": null,
   "id": "4e0a8e38",
   "metadata": {},
   "outputs": [],
   "source": [
    "indices = [x for x in unique_sessions_daily_growth.keys()]\n",
    "values = [x for x in unique_sessions_daily_growth.values()]\n",
    "\n",
    "fig = go.Figure()\n",
    "\n",
    "# Add traces\n",
    "fig.add_trace(go.Bar(x = indices, y = values,\n",
    "                         \n",
    "                         )\n",
    "\n",
    ")\n",
    "\n",
    "fig.update_traces(texttemplate='%{text:.2s}', textposition='outside')\n",
    "fig.update_layout(uniformtext_minsize=8, uniformtext_mode='hide')\n",
    "\n",
    "fig.show()\n",
    "\n"
   ]
  },
  {
   "cell_type": "markdown",
   "id": "9ae85ec3",
   "metadata": {},
   "source": [
    "## Topic"
   ]
  },
  {
   "cell_type": "markdown",
   "id": "49bd25db",
   "metadata": {},
   "source": [
    "### Number of Topics"
   ]
  },
  {
   "cell_type": "code",
   "execution_count": null,
   "id": "022c36a6",
   "metadata": {},
   "outputs": [],
   "source": [
    "topic_list = []\n",
    "for index in df['topics']:\n",
    "    for topic_ in index:\n",
    "        if topic_ not in topic_list:\n",
    "            topic_list.append(topic_)\n",
    "\n",
    "\n",
    "# Number of Topics\n",
    "single_subset_bar(values = len(topic_list), feature = 'Number of Topics', yrange = [0, 100])"
   ]
  },
  {
   "cell_type": "code",
   "execution_count": null,
   "id": "83b4af30",
   "metadata": {},
   "outputs": [],
   "source": [
    "# Let's get unique_user_ids topics\n",
    "\n",
    "## Get all unique ids in a list\n",
    "\n",
    "unique_user_ids = df['user_id'].values[0:1000]\n",
    "\n",
    "# Create dictionaries\n",
    "unique_users_topics_freq= {}\n",
    "unique_topic_scroll_freq = {}\n",
    "unique_topic_read_freq = {}\n",
    "\n",
    "for id in unique_user_ids:\n",
    "    # Get the subset of that user id\n",
    "    tmp_df = df[df['user_id'] == id]\n",
    "\n",
    "    # Now lets go through each topic\n",
    "    indices = np.array(tmp_df.index)\n",
    "    for i in indices:\n",
    "        tmp_topics = tmp_df['topics'][i]\n",
    "        tmp_scroll = tmp_df['scroll_percentage'][i]\n",
    "        tmp_read = tmp_df['read_time'][i]\n",
    "\n",
    "        topics = [x for x in tmp_topics]\n",
    "        scroll = [tmp_scroll]\n",
    "        read = [tmp_read]\n",
    "\n",
    "            \n",
    "    # Find the average scroll percentages across each topic  (Can be related to whether a topic doesnt require too much reading has visualizations)\n",
    "\n",
    "    ## Group by user ID\n",
    "    ### Look at article_id for whichever topics the article is included in add that readtime and scroll percentage\n",
    "        tmp_dict = {k:v for k,v in zip(topics, scroll)}\n",
    "\n",
    "        for k,v in zip(tmp_dict.keys(), tmp_dict.values()):\n",
    "\n",
    "            if (k in unique_topic_scroll_freq.keys()):\n",
    "                tmp_array= np.append(unique_topic_scroll_freq[k],v)\n",
    "                unique_topic_scroll_freq[k] = tmp_array\n",
    "            if (k not in unique_topic_scroll_freq.keys()):\n",
    "                unique_topic_scroll_freq[k] = []\n",
    "\n",
    "    # Find the average read time across each topic\n",
    "    ## Group by user ID\n",
    "    ### Look at article_id for whichever topics the article is included in add that readtime and scroll percentage\n",
    "        tmp_dict = {k:v for k,v in zip(topics, read)}\n",
    "\n",
    "        for k,v in zip(tmp_dict.keys(), tmp_dict.values()):\n",
    "\n",
    "            if (k in unique_topic_read_freq.keys()):\n",
    "                tmp_array= np.append(unique_topic_read_freq[k],v)\n",
    "                unique_topic_read_freq[k] = tmp_array\n",
    "            if (k not in unique_topic_read_freq.keys()):\n",
    "                unique_topic_read_freq[k] = []\n",
    "\n",
    "    \n",
    "    ## Unique User Topics\n",
    "    # Get rid of duplicate values\n",
    "    unique_topics = list(set(topics))\n",
    "\n",
    "    \n",
    "    # Populate our dict\n",
    "    for i in unique_topics:\n",
    "        \n",
    "        if i not in unique_users_topics_freq:\n",
    "            unique_users_topics_freq[i] = 1\n",
    "        else:\n",
    "            unique_users_topics_freq[i] +=1\n",
    "\n"
   ]
  },
  {
   "cell_type": "markdown",
   "id": "2f3f54e8",
   "metadata": {},
   "source": [
    "### Distribution of Topics across users"
   ]
  },
  {
   "cell_type": "code",
   "execution_count": null,
   "id": "baa6df5b",
   "metadata": {},
   "outputs": [],
   "source": [
    "# What does the distribution of topics look like lets sort it?\n",
    "sorted_topic_freq = dict(sorted(unique_users_topics_freq.items(), key = lambda x: x[1], reverse = True))\n",
    "\n",
    "\n",
    "indices = [x for x in sorted_topic_freq.keys()]\n",
    "values = [x for x in sorted_topic_freq.values()]\n",
    "\n",
    "fig = go.Figure()\n",
    "\n",
    "# Add traces\n",
    "fig.add_trace(go.Bar(x = indices, y = values,\n",
    "                         \n",
    "                         )\n",
    "\n",
    ")\n",
    "\n",
    "fig.update_traces(texttemplate='%{text:.2s}', textposition='outside')\n",
    "fig.update_layout(uniformtext_minsize=8, uniformtext_mode='hide')\n",
    "\n",
    "fig.show()"
   ]
  },
  {
   "cell_type": "markdown",
   "id": "5ab41490",
   "metadata": {},
   "source": [
    "### Average readtime per topic"
   ]
  },
  {
   "cell_type": "code",
   "execution_count": null,
   "id": "a3bea6df",
   "metadata": {},
   "outputs": [],
   "source": [
    "# Find the average read times across each topic\n",
    "\n",
    "unique_topic_read_avg_freq = {}\n",
    "# Get the average scroll length for each article\n",
    "for k,v in zip(unique_topic_read_freq.keys(), unique_topic_read_freq.values()):\n",
    "    unique_topic_read_avg_freq[k] = np.nanmean(v)\n",
    "\n",
    "\n",
    "sorted_unique_topic_read_freq = dict(sorted(unique_topic_read_avg_freq.items(), key = lambda x: x[1], reverse = True))\n",
    "\n",
    "\n",
    "indices = [x for x in sorted_unique_topic_read_freq . keys()]\n",
    "values = [x for x in sorted_unique_topic_read_freq.values()]\n",
    "\n",
    "fig = go.Figure()\n",
    "\n",
    "# Add traces\n",
    "fig.add_trace(go.Bar(x = indices, y = values,\n",
    "                         \n",
    "                         )\n",
    "\n",
    ")\n",
    "\n",
    "fig.update_traces(texttemplate='%{text:.2s}', textposition='outside')\n",
    "fig.update_layout(uniformtext_minsize=8, uniformtext_mode='hide')\n",
    "\n",
    "fig.show()"
   ]
  },
  {
   "cell_type": "code",
   "execution_count": null,
   "id": "e715b259",
   "metadata": {},
   "outputs": [],
   "source": [
    "# Boxplot\n",
    "\n",
    "sorted_unique_topic_read_freq = dict(sorted(unique_topic_read_freq.items()))\n",
    "\n",
    "\n",
    "indices = [x for x in sorted_unique_topic_read_freq.keys()]\n",
    "values = [x for x in sorted_unique_topic_read_freq.values()]\n",
    "\n",
    "fig = go.Figure()\n",
    "\n",
    "for trace_, name_ in zip(values, indices):\n",
    "\n",
    "    fig.add_trace(go.Box(y =trace_, name = name_))\n",
    "\n",
    "\n",
    "fig.show()"
   ]
  },
  {
   "cell_type": "markdown",
   "id": "8973adab",
   "metadata": {},
   "source": [
    "### Average scroll perct per topic"
   ]
  },
  {
   "cell_type": "code",
   "execution_count": null,
   "id": "c6732699",
   "metadata": {},
   "outputs": [],
   "source": [
    "# Find the average scroll percentages across each topic\n",
    "\n",
    "# Get the average scroll length for each article\n",
    "unique_topic_scroll_avg_freq = {}\n",
    "for k,v in zip(unique_topic_scroll_freq.keys(), unique_topic_scroll_freq.values()):\n",
    "    unique_topic_scroll_avg_freq [k] = np.nanmean(v)\n",
    "\n",
    "sorted_unique_topic_scroll_freq = dict(sorted(unique_topic_scroll_avg_freq.items(), key = lambda x: x[1], reverse = True))\n",
    "\n",
    "\n",
    "indices = [x for x in sorted_unique_topic_scroll_freq . keys()]\n",
    "values = [x for x in sorted_unique_topic_scroll_freq.values()]\n",
    "\n",
    "fig = go.Figure()\n",
    "\n",
    "# Add traces\n",
    "fig.add_trace(go.Bar(x = indices, y = values,\n",
    "                         \n",
    "                         )\n",
    "\n",
    ")\n",
    "\n",
    "fig.update_traces(texttemplate='%{text:.2s}', textposition='outside')\n",
    "fig.update_layout(uniformtext_minsize=8, uniformtext_mode='hide')\n",
    "\n",
    "fig.show()"
   ]
  },
  {
   "cell_type": "code",
   "execution_count": null,
   "id": "1e1c3d74",
   "metadata": {},
   "outputs": [],
   "source": [
    "# Boxplot\n",
    "\n",
    "sorted_unique_topic_scroll_freq = dict(sorted(unique_topic_scroll_freq.items()))\n",
    "\n",
    "\n",
    "indices = [x for x in sorted_unique_topic_scroll_freq.keys()]\n",
    "values = [x for x in sorted_unique_topic_scroll_freq.values()]\n",
    "\n",
    "fig = go.Figure()\n",
    "\n",
    "for trace_, name_ in zip(values, indices):\n",
    "\n",
    "    fig.add_trace(go.Box(y = trace_, name = name_))\n",
    "\n",
    "\n",
    "fig.show()"
   ]
  },
  {
   "cell_type": "markdown",
   "id": "ea97be17",
   "metadata": {},
   "source": [
    "### Activity"
   ]
  },
  {
   "cell_type": "code",
   "execution_count": null,
   "id": "144c7382",
   "metadata": {},
   "outputs": [],
   "source": [
    "# Get the list of each unqiue topic in a specific session \n",
    "topics = df.groupby(by = 'session_id')['topics'].apply(list)\n",
    "\n",
    "# Get the list of each unique timestamp for these sessions\n",
    "timestamps = df.groupby(by = 'session_id')['impression_time'].apply(list)\n",
    "\n",
    "# Get all the unique topics\n",
    "\n",
    "# Get all the unique topics\n",
    "unique_topics = []\n",
    "for i in range(len(topics.values)):\n",
    "    for j in range(0, len(topics.values[i][0])):\n",
    "        tmp = topics.values[i][0][j]\n",
    "        if tmp not in unique_topics:\n",
    "            unique_topics.append(tmp)\n",
    "\n",
    "\n",
    "unique_topics = sorted(unique_topics)\n",
    "\n",
    "# Get all unique dates\n",
    "timestamps = df.groupby(by = 'session_id')['impression_time'].apply(list)\n",
    "\n",
    "unique_dates = []\n",
    "unique_hours= [str(i) if i > 9 else str(0) + str(i) for i in range(24)]\n",
    "\n",
    "for i in range(len(timestamps.values)):\n",
    "    for j in range(len(timestamps.values[i])):\n",
    "        tmp_datetime = timestamps.values[i][j]\n",
    "        tmp_date = tmp_datetime.strftime('%m/%d/%Y')\n",
    "        if tmp_date not in unique_dates:\n",
    "            unique_dates.append(tmp_date)\n",
    "\n",
    "\n",
    "unique_dates = sorted(unique_dates)\n",
    "\n",
    "\n",
    "\n"
   ]
  },
  {
   "cell_type": "code",
   "execution_count": null,
   "id": "c3bd849b",
   "metadata": {},
   "outputs": [],
   "source": [
    "unique_topic_daily_activity  = {k:{k:0 for k in unique_dates} for k in unique_topics}\n",
    "unique_topic_hourly_activity  = {k:{k:0 for k in unique_hours} for k in unique_topics}\n",
    "\n",
    "# Populate the dictionary\n",
    "for i in zip(range(len(topics.values))):\n",
    "    for j, k  in zip(range(0, len(topics.values[i][0])), range(0, len(i))):\n",
    "        tmp = topics.values[i][0][j]\n",
    "        tmp_datetime = timestamps.values[i][k]\n",
    "        tmp_date = tmp_datetime.strftime('%m/%d/%Y')\n",
    "        tmp_time = tmp_datetime.strftime('%H')\n",
    "\n",
    "        # Add to dictionary\n",
    "        unique_topic_daily_activity[tmp][tmp_date] +=1\n",
    "        unique_topic_hourly_activity[tmp][tmp_time] +=1\n",
    "    \n",
    "\n",
    "\n"
   ]
  },
  {
   "cell_type": "markdown",
   "id": "3c0e4838",
   "metadata": {},
   "source": [
    "#### Daily"
   ]
  },
  {
   "cell_type": "code",
   "execution_count": null,
   "id": "18ddb47f",
   "metadata": {},
   "outputs": [],
   "source": [
    "fig = go.Figure()\n",
    "\n",
    "for topic in unique_topic_daily_activity.keys():\n",
    "    # What does the daily user activity look like?\n",
    "    indices = [x for x in unique_topic_daily_activity[topic].keys()]\n",
    "    values = [x for x in unique_topic_daily_activity[topic].values()]\n",
    "\n",
    "\n",
    "    # Add traces\n",
    "    fig.add_trace(go.Scatter(x = indices, y = values,\n",
    "                            mode = 'lines+markers'\n",
    "                            )\n",
    "\n",
    "    )\n",
    "\n",
    "fig.show()"
   ]
  },
  {
   "cell_type": "markdown",
   "id": "03917388",
   "metadata": {},
   "source": [
    "#### Hourly Activity"
   ]
  },
  {
   "cell_type": "code",
   "execution_count": null,
   "id": "119fe30f",
   "metadata": {},
   "outputs": [],
   "source": [
    "fig = go.Figure()\n",
    "\n",
    "for topic in unique_topic_hourly_activity.keys():\n",
    "    # What does the daily user activity look like?\n",
    "    indices = [x for x in unique_topic_hourly_activity[topic].keys()]\n",
    "    values = [x for x in unique_topic_hourly_activity[topic].values()]\n",
    "\n",
    "\n",
    "    # Add traces\n",
    "    fig.add_trace(go.Scatter(x = indices, y = values,\n",
    "                            mode = 'lines+markers'\n",
    "                            )\n",
    "\n",
    "    )\n",
    "\n",
    "fig.show()"
   ]
  },
  {
   "cell_type": "markdown",
   "id": "9499b9a7",
   "metadata": {},
   "source": [
    "## Article"
   ]
  },
  {
   "cell_type": "markdown",
   "id": "e91eff97",
   "metadata": {},
   "source": [
    "### Number of Articles"
   ]
  },
  {
   "cell_type": "code",
   "execution_count": null,
   "id": "15733661",
   "metadata": {},
   "outputs": [],
   "source": [
    "# Total Number of Articles\n",
    "single_subset_bar(values = len(df['article_id'].unique()), feature = 'Number of Articles', yrange = [0, 2000])"
   ]
  },
  {
   "cell_type": "markdown",
   "id": "a4919c54",
   "metadata": {},
   "source": [
    "### Average readtime per article"
   ]
  },
  {
   "cell_type": "code",
   "execution_count": null,
   "id": "7849464a",
   "metadata": {},
   "outputs": [],
   "source": [
    "## For each article, what was each users read time\n",
    "\n",
    "\n",
    "## Get all unique ids in a list\n",
    "\n",
    "unique_user_ids = df['user_id'].values[0:1000]\n",
    "\n",
    "## We take the set because the scroll, article per user is joined in a list for every user id (so just take the set of it!)\n",
    "unique_user_ids = set(unique_user_ids)\n",
    "\n",
    "\n",
    "unique_article_ids = df['article_id'].unique()\n",
    "unique_article_ids= unique_article_ids[~np.isnan(unique_article_ids)]\n",
    "\n",
    "\n",
    "# Create dictionaries\n",
    "\n",
    "unique_article_read = {k: [0] for k in unique_article_ids}\n",
    "unique_article_read_avg = {k: [0] for k in unique_article_ids}\n",
    "\n",
    "for id in unique_user_ids:\n",
    "    # Get the subset of that user id\n",
    "    tmp_df = df[df['user_id'] == id]\n",
    "\n",
    "    # Now lets go through each scroll and article\n",
    "    ## Iterate through each of the df\n",
    "    indices = np.array(tmp_df.index)\n",
    "    for i in indices:\n",
    "        tmp_dict = {}\n",
    "        # Select the scroll / article of that indice and \n",
    "        tmp_read = tmp_df['read_time_fixed'][i]\n",
    "\n",
    "        tmp_article = tmp_df['article_id_fixed'][i]\n",
    "\n",
    "        read = [x for x in tmp_read]\n",
    "        \n",
    "        articles = [np.int64(x) for x in tmp_article]\n",
    "    \n",
    "        tmp_dict = {k:v for k,v in zip(articles, read)}\n",
    "\n",
    "\n",
    "        for k,v in zip(tmp_dict.keys(), tmp_dict.values()):\n",
    "\n",
    "            #if unique_article_scroll.get(k) != None:\n",
    "            #    unique_article_scroll[k] += v\n",
    "            if (k in unique_article_read.keys()) & (np.isnan(v) == False):\n",
    "                tmp_array= np.append(unique_article_read[k],v)\n",
    "                unique_article_read[k] = tmp_array\n",
    "        \n",
    "    \n",
    "    # Get the average scroll length for each article\n",
    "    for k,v in zip(unique_article_read.keys(), unique_article_read.values()):\n",
    "        unique_article_read_avg[k] = np.mean(v)\n",
    "\n",
    "\n"
   ]
  },
  {
   "cell_type": "code",
   "execution_count": null,
   "id": "55fb47d3",
   "metadata": {},
   "outputs": [],
   "source": [
    "# What does the hourly user activity look like?\n",
    "values = [x for x in unique_article_read_avg.values()]\n",
    "\n",
    "fig = go.Figure()\n",
    "\n",
    "# Add traces\n",
    "fig.add_trace(go.Histogram(x = values\n",
    "                         )\n",
    "\n",
    ")\n",
    "\n",
    "fig.show()"
   ]
  },
  {
   "cell_type": "code",
   "execution_count": null,
   "id": "5e78d8f8",
   "metadata": {},
   "outputs": [],
   "source": [
    "# What does the hourly user activity look like?\n",
    "values = [x for x in unique_article_read_avg.values()]\n",
    "\n",
    "\n",
    "fig = go.Figure()\n",
    "\n",
    "# Boxplot\n",
    "\n",
    "\n",
    "\n",
    "\n",
    "fig.add_trace(go.Box(y = values))\n",
    "\n",
    "\n",
    "fig.show()\n"
   ]
  },
  {
   "cell_type": "markdown",
   "id": "085b8c77",
   "metadata": {},
   "source": [
    "### Average scroll pct per article"
   ]
  },
  {
   "cell_type": "code",
   "execution_count": null,
   "id": "5eeca6e0",
   "metadata": {},
   "outputs": [],
   "source": [
    "## For each article, what was each users scroll percentage + read time? \n",
    "\n",
    "\n",
    "## Get all unique ids in a list\n",
    "\n",
    "unique_user_ids = df['user_id'].values[0:2000]\n",
    "\n",
    "## We take the set because the scroll, article per user is joined in a list for every user id (so just take the set of it!)\n",
    "unique_user_ids = set(unique_user_ids)\n",
    "\n",
    "\n",
    "unique_article_ids = df['article_id'].unique()\n",
    "unique_article_ids= unique_article_ids[~np.isnan(unique_article_ids)]\n",
    "\n",
    "# Create dictionaries\n",
    "\n",
    "unique_article_scroll = {k: [0] for k in unique_article_ids}\n",
    "\n",
    "for id in unique_user_ids:\n",
    "    # Get the subset of that user id\n",
    "    tmp_df = df[df['user_id'] == id]\n",
    "\n",
    "    # Now lets go through each scroll and article\n",
    "    ## Iterate through each of the df\n",
    "    indices = np.array(tmp_df.index)\n",
    "    for i in indices:\n",
    "        tmp_dict = {}\n",
    "        # Select the scroll / article of that indice and \n",
    "        tmp_scroll = tmp_df['scroll_percentage_fixed'][i]\n",
    "\n",
    "        tmp_article = tmp_df['article_id_fixed'][i]\n",
    "\n",
    "        scroll = [x for x in tmp_scroll]\n",
    "        \n",
    "        articles = [np.int64(x) for x in tmp_article]\n",
    "    \n",
    "        tmp_dict = {k:v for k,v in zip(articles, scroll)}\n",
    "\n",
    "\n",
    "        for k,v in zip(tmp_dict.keys(), tmp_dict.values()):\n",
    "\n",
    "            if (k in unique_article_scroll.keys()) & (np.isnan(v) == False):\n",
    "                tmp_array= np.append(unique_article_scroll[k],v)\n",
    "                unique_article_scroll[k] = tmp_array\n",
    "        \n",
    "    \n",
    "# Get the average scroll length for each article\n",
    "for k,v in zip(unique_article_scroll.keys(), unique_article_scroll.values()):\n",
    "    unique_article_scroll[k] = np.mean(v)\n",
    "\n",
    "\n"
   ]
  },
  {
   "cell_type": "code",
   "execution_count": null,
   "id": "aa4187b3",
   "metadata": {},
   "outputs": [],
   "source": [
    "indices = [x for x in unique_article_scroll.keys()]\n",
    "avg_scroll_pct = [x for x in unique_article_scroll.values()]\n",
    "\n",
    "fig = go.Figure()\n",
    "\n",
    "# Add traces\n",
    "fig.add_trace(go.Histogram(x=avg_scroll_pct)\n",
    "\n",
    ")\n",
    "\n",
    "fig.show()"
   ]
  },
  {
   "cell_type": "code",
   "execution_count": null,
   "id": "466eb4b4",
   "metadata": {},
   "outputs": [],
   "source": [
    "indices = [x for x in unique_article_scroll.keys()]\n",
    "avg_scroll_pct = [x for x in unique_article_scroll.values()]\n",
    "\n",
    "fig = go.Figure()\n",
    "\n",
    "# Add traces\n",
    "fig.add_trace(go.Box(y=avg_scroll_pct)\n",
    "\n",
    ")\n",
    "\n",
    "fig.show()"
   ]
  },
  {
   "cell_type": "markdown",
   "id": "c1c8793e",
   "metadata": {},
   "source": [
    "### Number of articles clicked in a session"
   ]
  },
  {
   "cell_type": "code",
   "execution_count": null,
   "id": "b90851a7",
   "metadata": {},
   "outputs": [],
   "source": [
    "# How many unique articles are clicked in a session?\n",
    "\n",
    "tmp_aps = df.groupby('session_id')['article_id'].apply(list)\n",
    "\n",
    "articles_per_session = {k:0 for k in range(1, 20)}\n",
    "\n",
    "for i in tmp_aps:\n",
    "    num_articles = len(i)\n",
    "    articles_per_session[num_articles] += 1\n",
    "\n",
    "\n",
    "indices = [k for k in articles_per_session.keys()]\n",
    "values = [k for k in articles_per_session.values()]\n",
    "\n",
    "\n",
    "fig = go.Figure()\n",
    "\n",
    "# Add trace\n",
    "fig.add_trace(go.Bar(x= indices, y = values, textfont_size=20))\n",
    "\n",
    "fig.update_traces(opacity=0.75)\n",
    "fig.show()"
   ]
  },
  {
   "cell_type": "markdown",
   "id": "e0e4503e",
   "metadata": {},
   "source": [
    "## Devices"
   ]
  },
  {
   "cell_type": "code",
   "execution_count": 181,
   "id": "2dec3192",
   "metadata": {},
   "outputs": [
    {
     "data": {
      "application/vnd.plotly.v1+json": {
       "config": {
        "plotlyServerURL": "https://plot.ly"
       },
       "data": [
        {
         "textfont": {
          "size": 20
         },
         "type": "bar",
         "x": [
          1
         ],
         "y": [
          23536
         ]
        },
        {
         "textfont": {
          "size": 20
         },
         "type": "bar",
         "x": [
          2
         ],
         "y": [
          44472
         ]
        },
        {
         "textfont": {
          "size": 20
         },
         "type": "bar",
         "x": [
          3
         ],
         "y": [
          2413
         ]
        }
       ],
       "layout": {
        "template": {
         "data": {
          "bar": [
           {
            "error_x": {
             "color": "#2a3f5f"
            },
            "error_y": {
             "color": "#2a3f5f"
            },
            "marker": {
             "line": {
              "color": "#E5ECF6",
              "width": 0.5
             },
             "pattern": {
              "fillmode": "overlay",
              "size": 10,
              "solidity": 0.2
             }
            },
            "type": "bar"
           }
          ],
          "barpolar": [
           {
            "marker": {
             "line": {
              "color": "#E5ECF6",
              "width": 0.5
             },
             "pattern": {
              "fillmode": "overlay",
              "size": 10,
              "solidity": 0.2
             }
            },
            "type": "barpolar"
           }
          ],
          "carpet": [
           {
            "aaxis": {
             "endlinecolor": "#2a3f5f",
             "gridcolor": "white",
             "linecolor": "white",
             "minorgridcolor": "white",
             "startlinecolor": "#2a3f5f"
            },
            "baxis": {
             "endlinecolor": "#2a3f5f",
             "gridcolor": "white",
             "linecolor": "white",
             "minorgridcolor": "white",
             "startlinecolor": "#2a3f5f"
            },
            "type": "carpet"
           }
          ],
          "choropleth": [
           {
            "colorbar": {
             "outlinewidth": 0,
             "ticks": ""
            },
            "type": "choropleth"
           }
          ],
          "contour": [
           {
            "colorbar": {
             "outlinewidth": 0,
             "ticks": ""
            },
            "colorscale": [
             [
              0,
              "#0d0887"
             ],
             [
              0.1111111111111111,
              "#46039f"
             ],
             [
              0.2222222222222222,
              "#7201a8"
             ],
             [
              0.3333333333333333,
              "#9c179e"
             ],
             [
              0.4444444444444444,
              "#bd3786"
             ],
             [
              0.5555555555555556,
              "#d8576b"
             ],
             [
              0.6666666666666666,
              "#ed7953"
             ],
             [
              0.7777777777777778,
              "#fb9f3a"
             ],
             [
              0.8888888888888888,
              "#fdca26"
             ],
             [
              1,
              "#f0f921"
             ]
            ],
            "type": "contour"
           }
          ],
          "contourcarpet": [
           {
            "colorbar": {
             "outlinewidth": 0,
             "ticks": ""
            },
            "type": "contourcarpet"
           }
          ],
          "heatmap": [
           {
            "colorbar": {
             "outlinewidth": 0,
             "ticks": ""
            },
            "colorscale": [
             [
              0,
              "#0d0887"
             ],
             [
              0.1111111111111111,
              "#46039f"
             ],
             [
              0.2222222222222222,
              "#7201a8"
             ],
             [
              0.3333333333333333,
              "#9c179e"
             ],
             [
              0.4444444444444444,
              "#bd3786"
             ],
             [
              0.5555555555555556,
              "#d8576b"
             ],
             [
              0.6666666666666666,
              "#ed7953"
             ],
             [
              0.7777777777777778,
              "#fb9f3a"
             ],
             [
              0.8888888888888888,
              "#fdca26"
             ],
             [
              1,
              "#f0f921"
             ]
            ],
            "type": "heatmap"
           }
          ],
          "heatmapgl": [
           {
            "colorbar": {
             "outlinewidth": 0,
             "ticks": ""
            },
            "colorscale": [
             [
              0,
              "#0d0887"
             ],
             [
              0.1111111111111111,
              "#46039f"
             ],
             [
              0.2222222222222222,
              "#7201a8"
             ],
             [
              0.3333333333333333,
              "#9c179e"
             ],
             [
              0.4444444444444444,
              "#bd3786"
             ],
             [
              0.5555555555555556,
              "#d8576b"
             ],
             [
              0.6666666666666666,
              "#ed7953"
             ],
             [
              0.7777777777777778,
              "#fb9f3a"
             ],
             [
              0.8888888888888888,
              "#fdca26"
             ],
             [
              1,
              "#f0f921"
             ]
            ],
            "type": "heatmapgl"
           }
          ],
          "histogram": [
           {
            "marker": {
             "pattern": {
              "fillmode": "overlay",
              "size": 10,
              "solidity": 0.2
             }
            },
            "type": "histogram"
           }
          ],
          "histogram2d": [
           {
            "colorbar": {
             "outlinewidth": 0,
             "ticks": ""
            },
            "colorscale": [
             [
              0,
              "#0d0887"
             ],
             [
              0.1111111111111111,
              "#46039f"
             ],
             [
              0.2222222222222222,
              "#7201a8"
             ],
             [
              0.3333333333333333,
              "#9c179e"
             ],
             [
              0.4444444444444444,
              "#bd3786"
             ],
             [
              0.5555555555555556,
              "#d8576b"
             ],
             [
              0.6666666666666666,
              "#ed7953"
             ],
             [
              0.7777777777777778,
              "#fb9f3a"
             ],
             [
              0.8888888888888888,
              "#fdca26"
             ],
             [
              1,
              "#f0f921"
             ]
            ],
            "type": "histogram2d"
           }
          ],
          "histogram2dcontour": [
           {
            "colorbar": {
             "outlinewidth": 0,
             "ticks": ""
            },
            "colorscale": [
             [
              0,
              "#0d0887"
             ],
             [
              0.1111111111111111,
              "#46039f"
             ],
             [
              0.2222222222222222,
              "#7201a8"
             ],
             [
              0.3333333333333333,
              "#9c179e"
             ],
             [
              0.4444444444444444,
              "#bd3786"
             ],
             [
              0.5555555555555556,
              "#d8576b"
             ],
             [
              0.6666666666666666,
              "#ed7953"
             ],
             [
              0.7777777777777778,
              "#fb9f3a"
             ],
             [
              0.8888888888888888,
              "#fdca26"
             ],
             [
              1,
              "#f0f921"
             ]
            ],
            "type": "histogram2dcontour"
           }
          ],
          "mesh3d": [
           {
            "colorbar": {
             "outlinewidth": 0,
             "ticks": ""
            },
            "type": "mesh3d"
           }
          ],
          "parcoords": [
           {
            "line": {
             "colorbar": {
              "outlinewidth": 0,
              "ticks": ""
             }
            },
            "type": "parcoords"
           }
          ],
          "pie": [
           {
            "automargin": true,
            "type": "pie"
           }
          ],
          "scatter": [
           {
            "fillpattern": {
             "fillmode": "overlay",
             "size": 10,
             "solidity": 0.2
            },
            "type": "scatter"
           }
          ],
          "scatter3d": [
           {
            "line": {
             "colorbar": {
              "outlinewidth": 0,
              "ticks": ""
             }
            },
            "marker": {
             "colorbar": {
              "outlinewidth": 0,
              "ticks": ""
             }
            },
            "type": "scatter3d"
           }
          ],
          "scattercarpet": [
           {
            "marker": {
             "colorbar": {
              "outlinewidth": 0,
              "ticks": ""
             }
            },
            "type": "scattercarpet"
           }
          ],
          "scattergeo": [
           {
            "marker": {
             "colorbar": {
              "outlinewidth": 0,
              "ticks": ""
             }
            },
            "type": "scattergeo"
           }
          ],
          "scattergl": [
           {
            "marker": {
             "colorbar": {
              "outlinewidth": 0,
              "ticks": ""
             }
            },
            "type": "scattergl"
           }
          ],
          "scattermapbox": [
           {
            "marker": {
             "colorbar": {
              "outlinewidth": 0,
              "ticks": ""
             }
            },
            "type": "scattermapbox"
           }
          ],
          "scatterpolar": [
           {
            "marker": {
             "colorbar": {
              "outlinewidth": 0,
              "ticks": ""
             }
            },
            "type": "scatterpolar"
           }
          ],
          "scatterpolargl": [
           {
            "marker": {
             "colorbar": {
              "outlinewidth": 0,
              "ticks": ""
             }
            },
            "type": "scatterpolargl"
           }
          ],
          "scatterternary": [
           {
            "marker": {
             "colorbar": {
              "outlinewidth": 0,
              "ticks": ""
             }
            },
            "type": "scatterternary"
           }
          ],
          "surface": [
           {
            "colorbar": {
             "outlinewidth": 0,
             "ticks": ""
            },
            "colorscale": [
             [
              0,
              "#0d0887"
             ],
             [
              0.1111111111111111,
              "#46039f"
             ],
             [
              0.2222222222222222,
              "#7201a8"
             ],
             [
              0.3333333333333333,
              "#9c179e"
             ],
             [
              0.4444444444444444,
              "#bd3786"
             ],
             [
              0.5555555555555556,
              "#d8576b"
             ],
             [
              0.6666666666666666,
              "#ed7953"
             ],
             [
              0.7777777777777778,
              "#fb9f3a"
             ],
             [
              0.8888888888888888,
              "#fdca26"
             ],
             [
              1,
              "#f0f921"
             ]
            ],
            "type": "surface"
           }
          ],
          "table": [
           {
            "cells": {
             "fill": {
              "color": "#EBF0F8"
             },
             "line": {
              "color": "white"
             }
            },
            "header": {
             "fill": {
              "color": "#C8D4E3"
             },
             "line": {
              "color": "white"
             }
            },
            "type": "table"
           }
          ]
         },
         "layout": {
          "annotationdefaults": {
           "arrowcolor": "#2a3f5f",
           "arrowhead": 0,
           "arrowwidth": 1
          },
          "autotypenumbers": "strict",
          "coloraxis": {
           "colorbar": {
            "outlinewidth": 0,
            "ticks": ""
           }
          },
          "colorscale": {
           "diverging": [
            [
             0,
             "#8e0152"
            ],
            [
             0.1,
             "#c51b7d"
            ],
            [
             0.2,
             "#de77ae"
            ],
            [
             0.3,
             "#f1b6da"
            ],
            [
             0.4,
             "#fde0ef"
            ],
            [
             0.5,
             "#f7f7f7"
            ],
            [
             0.6,
             "#e6f5d0"
            ],
            [
             0.7,
             "#b8e186"
            ],
            [
             0.8,
             "#7fbc41"
            ],
            [
             0.9,
             "#4d9221"
            ],
            [
             1,
             "#276419"
            ]
           ],
           "sequential": [
            [
             0,
             "#0d0887"
            ],
            [
             0.1111111111111111,
             "#46039f"
            ],
            [
             0.2222222222222222,
             "#7201a8"
            ],
            [
             0.3333333333333333,
             "#9c179e"
            ],
            [
             0.4444444444444444,
             "#bd3786"
            ],
            [
             0.5555555555555556,
             "#d8576b"
            ],
            [
             0.6666666666666666,
             "#ed7953"
            ],
            [
             0.7777777777777778,
             "#fb9f3a"
            ],
            [
             0.8888888888888888,
             "#fdca26"
            ],
            [
             1,
             "#f0f921"
            ]
           ],
           "sequentialminus": [
            [
             0,
             "#0d0887"
            ],
            [
             0.1111111111111111,
             "#46039f"
            ],
            [
             0.2222222222222222,
             "#7201a8"
            ],
            [
             0.3333333333333333,
             "#9c179e"
            ],
            [
             0.4444444444444444,
             "#bd3786"
            ],
            [
             0.5555555555555556,
             "#d8576b"
            ],
            [
             0.6666666666666666,
             "#ed7953"
            ],
            [
             0.7777777777777778,
             "#fb9f3a"
            ],
            [
             0.8888888888888888,
             "#fdca26"
            ],
            [
             1,
             "#f0f921"
            ]
           ]
          },
          "colorway": [
           "#636efa",
           "#EF553B",
           "#00cc96",
           "#ab63fa",
           "#FFA15A",
           "#19d3f3",
           "#FF6692",
           "#B6E880",
           "#FF97FF",
           "#FECB52"
          ],
          "font": {
           "color": "#2a3f5f"
          },
          "geo": {
           "bgcolor": "white",
           "lakecolor": "white",
           "landcolor": "#E5ECF6",
           "showlakes": true,
           "showland": true,
           "subunitcolor": "white"
          },
          "hoverlabel": {
           "align": "left"
          },
          "hovermode": "closest",
          "mapbox": {
           "style": "light"
          },
          "paper_bgcolor": "white",
          "plot_bgcolor": "#E5ECF6",
          "polar": {
           "angularaxis": {
            "gridcolor": "white",
            "linecolor": "white",
            "ticks": ""
           },
           "bgcolor": "#E5ECF6",
           "radialaxis": {
            "gridcolor": "white",
            "linecolor": "white",
            "ticks": ""
           }
          },
          "scene": {
           "xaxis": {
            "backgroundcolor": "#E5ECF6",
            "gridcolor": "white",
            "gridwidth": 2,
            "linecolor": "white",
            "showbackground": true,
            "ticks": "",
            "zerolinecolor": "white"
           },
           "yaxis": {
            "backgroundcolor": "#E5ECF6",
            "gridcolor": "white",
            "gridwidth": 2,
            "linecolor": "white",
            "showbackground": true,
            "ticks": "",
            "zerolinecolor": "white"
           },
           "zaxis": {
            "backgroundcolor": "#E5ECF6",
            "gridcolor": "white",
            "gridwidth": 2,
            "linecolor": "white",
            "showbackground": true,
            "ticks": "",
            "zerolinecolor": "white"
           }
          },
          "shapedefaults": {
           "line": {
            "color": "#2a3f5f"
           }
          },
          "ternary": {
           "aaxis": {
            "gridcolor": "white",
            "linecolor": "white",
            "ticks": ""
           },
           "baxis": {
            "gridcolor": "white",
            "linecolor": "white",
            "ticks": ""
           },
           "bgcolor": "#E5ECF6",
           "caxis": {
            "gridcolor": "white",
            "linecolor": "white",
            "ticks": ""
           }
          },
          "title": {
           "x": 0.05
          },
          "xaxis": {
           "automargin": true,
           "gridcolor": "white",
           "linecolor": "white",
           "ticks": "",
           "title": {
            "standoff": 15
           },
           "zerolinecolor": "white",
           "zerolinewidth": 2
          },
          "yaxis": {
           "automargin": true,
           "gridcolor": "white",
           "linecolor": "white",
           "ticks": "",
           "title": {
            "standoff": 15
           },
           "zerolinecolor": "white",
           "zerolinewidth": 2
          }
         }
        }
       }
      }
     },
     "metadata": {},
     "output_type": "display_data"
    }
   ],
   "source": [
    "# Overall distribtuion of devices\n",
    "\n",
    "devices = [d for d in df['device_type'].unique()]\n",
    "\n",
    "fig = go.Figure()\n",
    "for d in devices:\n",
    "    count= len(df[df['device_type'] == d])\n",
    "    fig.add_trace(go.Bar(x= [d], y = [count], textfont_size=20))\n",
    "\n",
    "fig.show()"
   ]
  },
  {
   "cell_type": "code",
   "execution_count": null,
   "id": "5b30350b",
   "metadata": {},
   "outputs": [],
   "source": [
    "multiple_subset_bar(values = )"
   ]
  },
  {
   "cell_type": "code",
   "execution_count": null,
   "id": "db5bde45",
   "metadata": {},
   "outputs": [],
   "source": [
    "single_subset_bar(values = len(topic_list), feature = 'Number of Topics', yrange = [0, 100])"
   ]
  },
  {
   "cell_type": "markdown",
   "id": "b9dffc83",
   "metadata": {},
   "source": [
    "### Readtime per device"
   ]
  },
  {
   "cell_type": "code",
   "execution_count": null,
   "id": "dc390dc9",
   "metadata": {},
   "outputs": [],
   "source": [
    "# Readtime per device\n",
    "\n",
    "## Get indices with different devices \n",
    "### Color based on label\n",
    "#### Histogram -> Bar graph for avg?\n",
    "devices = [d for d in df['device_type'].unique()]\n",
    "\n",
    "\n",
    "fig = go.Figure()\n",
    "for d in devices:\n",
    "    device = df[df['device_type'] == d]['read_time']\n",
    "    fig.add_trace(go.Histogram(x=device))\n",
    "\n",
    "# Overlay both histograms\n",
    "fig.update_layout(barmode='overlay')\n",
    "# Reduce opacity to see both histograms\n",
    "fig.update_traces(opacity=0.55)\n",
    "fig.show()\n"
   ]
  },
  {
   "cell_type": "code",
   "execution_count": null,
   "id": "2004bc1a",
   "metadata": {},
   "outputs": [],
   "source": [
    "# Average readtime per device\n",
    "\n",
    "## Get indices with different devices \n",
    "### Color based on label\n",
    "#### Histogram -> Bar graph for avg?\n",
    "\n",
    "fig = go.Figure()\n",
    "\n",
    "devices = [d for d in df['device_type'].unique()]\n",
    "\n",
    "\n",
    "fig = go.Figure()\n",
    "for d in devices:\n",
    "    avg_device_readtime = df[df['device_type'] == d]['read_time']\n",
    "    fig.add_trace(go.Box(y = avg_device_readtime, name = str(d)))\n",
    "\n",
    "\n",
    "\n",
    "# Overlay both histograms\n",
    "#fig.update_layout(barmode='overlay')\n",
    "# Reduce opacity to see both histograms\n",
    "fig.update_traces(opacity=0.75)\n",
    "fig.show()"
   ]
  },
  {
   "cell_type": "code",
   "execution_count": null,
   "id": "1f164a95",
   "metadata": {},
   "outputs": [],
   "source": [
    "# Average readtime per device\n",
    "\n",
    "## Get indices with different devices \n",
    "### Color based on label\n",
    "#### Histogram -> Bar graph for avg?\n",
    "\n",
    "fig = go.Figure()\n",
    "\n",
    "devices = [d for d in df['device_type'].unique()]\n",
    "\n",
    "\n",
    "fig = go.Figure()\n",
    "for d in devices:\n",
    "    avg_device_readtime = df[df['device_type'] == d]['read_time'].mean()\n",
    "    fig.add_trace(go.Bar(x= [d], y = [avg_device_readtime], textfont_size=20))\n",
    "\n",
    "\n",
    "\n",
    "# Overlay both histograms\n",
    "#fig.update_layout(barmode='overlay')\n",
    "# Reduce opacity to see both histograms\n",
    "fig.update_traces(opacity=0.75)\n",
    "fig.show()"
   ]
  },
  {
   "cell_type": "markdown",
   "id": "d55e86ec",
   "metadata": {},
   "source": [
    "### Scroll time per device"
   ]
  },
  {
   "cell_type": "code",
   "execution_count": null,
   "id": "0472abaf",
   "metadata": {},
   "outputs": [],
   "source": [
    "# Scroll pct per device (scatter plot probably better)\n",
    "\n",
    "## Get indices with different devices \n",
    "### Color based on label\n",
    "#### Histogram -> Bar graph for avg?\n",
    "\n",
    "fig = go.Figure()\n",
    "\n",
    "devices = [d for d in df['device_type'].unique()]\n",
    "\n",
    "\n",
    "fig = go.Figure()\n",
    "for d in devices:\n",
    "    avg_device_scrollpct = df[df['device_type'] == d]['scroll_percentage'].mean()\n",
    "    fig.add_trace(go.Bar(x= [d], y = [avg_device_scrollpct], textfont_size=20))\n",
    "\n",
    "\n",
    "\n",
    "# Overlay both histograms\n",
    "#fig.update_layout(barmode='overlay')\n",
    "# Reduce opacity to see both histograms\n",
    "fig.update_traces(opacity=0.75)\n",
    "fig.show()"
   ]
  },
  {
   "cell_type": "code",
   "execution_count": null,
   "id": "047ea5b6",
   "metadata": {},
   "outputs": [],
   "source": [
    "# Scroll pct per device (scatter plot probably better)\n",
    "\n",
    "## Get indices with different devices \n",
    "### Color based on label\n",
    "#### Histogram -> Bar graph for avg?\n",
    "\n",
    "fig = go.Figure()\n",
    "\n",
    "devices = [d for d in df['device_type'].unique()]\n",
    "\n",
    "\n",
    "fig = go.Figure()\n",
    "for d in devices:\n",
    "    avg_device_scrollpct = df[df['device_type'] == d]['scroll_percentage']\n",
    "    fig.add_trace(go.Box(y = avg_device_scrollpct, name = str(d)))\n",
    "\n",
    "\n",
    "\n",
    "# Overlay both histograms\n",
    "#fig.update_layout(barmode='overlay')\n",
    "# Reduce opacity to see both histograms\n",
    "fig.update_traces(opacity=0.75)\n",
    "fig.show()"
   ]
  },
  {
   "cell_type": "markdown",
   "id": "eda8ea32",
   "metadata": {},
   "source": [
    "### Topic"
   ]
  },
  {
   "cell_type": "code",
   "execution_count": null,
   "id": "511e1ac7",
   "metadata": {},
   "outputs": [],
   "source": [
    "# Separate axes"
   ]
  },
  {
   "cell_type": "code",
   "execution_count": null,
   "id": "fe0da553",
   "metadata": {},
   "outputs": [],
   "source": [
    "## Subset based on those entries\n",
    "## populate the counts for the traces\n",
    "\n",
    "\n",
    "fig = go.Figure()\n",
    "\n",
    "devices = [d for d in df['device_type'].unique()]\n",
    "\n",
    "# Get all the unique topics\n",
    "unique_topics = []\n",
    "for i in df.index:\n",
    "    for j in range(0, len(df['topics'][i])):\n",
    "        tmp = df['topics'][i][j]\n",
    "        if tmp not in unique_topics:\n",
    "            unique_topics.append(tmp)\n",
    "\n",
    "\n",
    "unique_topics = sorted(unique_topics)\n",
    "\n",
    "\n",
    "\n",
    "fig = go.Figure()\n",
    "# Iterate through each device \n",
    "for d in devices:\n",
    "    # Find the subset of the data with that device\n",
    "    tmp_df = df[df['device_type'] == d]\n",
    "\n",
    "    # Create a dict object with 0 counts for all topics\n",
    "    device_topic_freq = {k:0 for k in unique_topics}\n",
    "    for i in tmp_df.index:\n",
    "        for j in range(0, len(df['topics'][i])):\n",
    "            # Find that index\n",
    "            tmp_topic = df['topics'][i][j]\n",
    "\n",
    "            # Enumerate\n",
    "            device_topic_freq[tmp_topic] += 1\n",
    "    \n",
    "    device_topic_freq = dict(sorted(device_topic_freq.items(), key = lambda kv: kv[1], reverse= True))\n",
    "    #print(device_topic_freq)\n",
    "        \n",
    "    fig.add_trace(go.Bar(x= [x for x in device_topic_freq.keys()], y = [y for y in device_topic_freq.values()], textfont_size=20))\n",
    "\n",
    "\n",
    "\n",
    "# Overlay both histograms\n",
    "#fig.update_layout(barmode='overlay')\n",
    "# Reduce opacity to see both histograms\n",
    "fig.update_traces(opacity=0.75)\n",
    "fig.show()"
   ]
  },
  {
   "cell_type": "markdown",
   "id": "f7f6e44c",
   "metadata": {},
   "source": [
    "### Activity"
   ]
  },
  {
   "cell_type": "markdown",
   "id": "c39ef15d",
   "metadata": {},
   "source": [
    "#### Daily Activity"
   ]
  },
  {
   "cell_type": "code",
   "execution_count": null,
   "id": "30fd8ade",
   "metadata": {},
   "outputs": [],
   "source": [
    "fig = go.Figure()\n",
    "# Iterate through each device \n",
    "for d in devices:\n",
    "    # Find the subset of the data with that device\n",
    "    tmp_df = df[df['device_type'] == d]\n",
    "\n",
    "    # Create a dict object with 0 counts for all topics\n",
    "    device_daily_activity = {}\n",
    "    for i in tmp_df.index:\n",
    "        # Find that index\n",
    "        tmp_timestamp = df['impression_time'][i]\n",
    "        tmp_datetime = tmp_timestamp\n",
    "        tmp_date = tmp_datetime.strftime('%m/%d/%Y')\n",
    "\n",
    "        # Daily Activity\n",
    "        if tmp_date not in device_daily_activity:\n",
    "            device_daily_activity[tmp_date] = 0\n",
    "        else:\n",
    "            device_daily_activity[tmp_date] +=1\n",
    "    \n",
    "    # Sort by dates\n",
    "    device_daily_activity = dict(sorted(device_daily_activity.items()))\n",
    "\n",
    "    # Add trace\n",
    "    fig.add_trace(go.Bar(x= [x for x in device_daily_activity.keys()], y = [y for y in device_daily_activity.values()], textfont_size=20))\n",
    "\n",
    "\n",
    "\n",
    "    # Overlay both histograms\n",
    "    #fig.update_layout(barmode='overlay')\n",
    "    # Reduce opacity to see both histograms\n",
    "fig.update_traces(opacity=0.75)\n",
    "fig.show()"
   ]
  },
  {
   "cell_type": "markdown",
   "id": "52a4d01a",
   "metadata": {},
   "source": [
    "#### Hourly Activity"
   ]
  },
  {
   "cell_type": "code",
   "execution_count": null,
   "id": "fa957a4a",
   "metadata": {},
   "outputs": [],
   "source": [
    "fig = go.Figure()\n",
    "# Iterate through each device \n",
    "for d in devices:\n",
    "    # Find the subset of the data with that device\n",
    "    tmp_df = df[df['device_type'] == d]\n",
    "\n",
    "    # Create a dict object with 0 counts for all topics\n",
    "    device_hourly_activity = {}\n",
    "    for i in tmp_df.index:\n",
    "        # Find that index\n",
    "        tmp_timestamp = df['impression_time'][i]\n",
    "        tmp_datetime = tmp_timestamp\n",
    "        tmp_time = tmp_datetime.strftime('%H')\n",
    "\n",
    "        # Hourly Activity\n",
    "        if tmp_time not in device_hourly_activity:\n",
    "            device_hourly_activity[tmp_time] = 0\n",
    "        else:\n",
    "            device_hourly_activity[tmp_time] +=1\n",
    "    \n",
    "    # Sort by dates\n",
    "    device_hourly_activity = dict(sorted(device_hourly_activity.items()))\n",
    "\n",
    "    # Add trace\n",
    "    fig.add_trace(go.Bar(x= [x for x in device_hourly_activity.keys()], y = [y for y in device_hourly_activity.values()], textfont_size=20))\n",
    "\n",
    "\n",
    "\n",
    "    # Overlay both histograms\n",
    "    #fig.update_layout(barmode='overlay')\n",
    "    # Reduce opacity to see both histograms\n",
    "fig.update_traces(opacity=0.75)\n",
    "fig.show()"
   ]
  },
  {
   "cell_type": "markdown",
   "id": "c37b7ff5",
   "metadata": {},
   "source": [
    "# If subscriber"
   ]
  },
  {
   "cell_type": "markdown",
   "id": "2445ea77",
   "metadata": {},
   "source": [
    "### How many users are subscribers"
   ]
  },
  {
   "cell_type": "code",
   "execution_count": null,
   "id": "620f06b0",
   "metadata": {},
   "outputs": [],
   "source": [
    "indices = df['is_subscriber'].value_counts().index\n",
    "values = df['is_subscriber'].value_counts().values\n",
    "\n",
    "fig = go.Figure()\n",
    "\n",
    "\n",
    "# Add trace\n",
    "fig.add_trace(go.Bar(x= indices, y = values, textfont_size=20))\n",
    "\n",
    "    # Overlay both histograms\n",
    "    #fig.update_layout(barmode='overlay')\n",
    "    # Reduce opacity to see both histograms\n",
    "fig.update_traces(opacity=0.75)\n",
    "fig.show()\n"
   ]
  },
  {
   "cell_type": "markdown",
   "id": "76723f43",
   "metadata": {},
   "source": [
    "### Read time for subscriber vs non-subscribers"
   ]
  },
  {
   "cell_type": "code",
   "execution_count": null,
   "id": "9ce5c549",
   "metadata": {},
   "outputs": [],
   "source": [
    "is_subscriber = [d for d in df['is_subscriber'].unique()]\n",
    "\n",
    "fig = go.Figure()\n",
    "for d in is_subscriber:\n",
    "    is_subscriber_readtime = df[df['is_subscriber'] == d]['read_time']\n",
    "    fig.add_trace(go.Histogram(x = is_subscriber_readtime))\n",
    "\n",
    "fig.show()"
   ]
  },
  {
   "cell_type": "code",
   "execution_count": null,
   "id": "4f71d147",
   "metadata": {},
   "outputs": [],
   "source": [
    "is_subscriber = [d for d in df['is_subscriber'].unique()]\n",
    "\n",
    "fig = go.Figure()\n",
    "for d in is_subscriber:\n",
    "    is_subscriber_readtime = df[df['is_subscriber'] == d]['read_time']\n",
    "    fig.add_trace(go.Box(y = is_subscriber_readtime, name = str(d)))\n",
    "\n",
    "fig.show()"
   ]
  },
  {
   "cell_type": "code",
   "execution_count": null,
   "id": "cdfa817c",
   "metadata": {},
   "outputs": [],
   "source": [
    "\n",
    "# Average read time\n",
    "is_subscriber = [d for d in df['is_subscriber'].unique()]\n",
    "\n",
    "\n",
    "fig = go.Figure()\n",
    "for d in is_subscriber:\n",
    "    avg_is_subscriber_readtime = df[df['is_subscriber'] == d]['read_time'].mean()\n",
    "    fig.add_trace(go.Bar(x= [d], y = [avg_is_subscriber_readtime], textfont_size=20))\n",
    "\n",
    "fig.show()"
   ]
  },
  {
   "cell_type": "markdown",
   "id": "47680f96",
   "metadata": {},
   "source": [
    "### Scroll percentage if subscriber"
   ]
  },
  {
   "cell_type": "code",
   "execution_count": null,
   "id": "b401d57b",
   "metadata": {},
   "outputs": [],
   "source": [
    "is_subscriber = [d for d in df['is_subscriber'].unique()]\n",
    "\n",
    "fig = go.Figure()\n",
    "for d in is_subscriber:\n",
    "    is_subscriber_scrollpct = df[df['is_subscriber'] == d]['scroll_percentage']\n",
    "    fig.add_trace(go.Histogram(x = is_subscriber_scrollpct))\n",
    "\n",
    "fig.show()"
   ]
  },
  {
   "cell_type": "code",
   "execution_count": null,
   "id": "66b6232d",
   "metadata": {},
   "outputs": [],
   "source": [
    "is_subscriber = [d for d in df['is_subscriber'].unique()]\n",
    "\n",
    "fig = go.Figure()\n",
    "for d in is_subscriber:\n",
    "    is_subscriber_scrollpct = df[df['is_subscriber'] == d]['scroll_percentage']\n",
    "    fig.add_trace(go.Box(y = is_subscriber_scrollpct, name = str(d)))\n",
    "\n",
    "fig.show()"
   ]
  },
  {
   "cell_type": "code",
   "execution_count": null,
   "id": "8b19ce56",
   "metadata": {},
   "outputs": [],
   "source": [
    "# Average scroll percentage\n",
    "is_subscriber = [d for d in df['is_subscriber'].unique()]\n",
    "\n",
    "fig = go.Figure()\n",
    "for d in is_subscriber:\n",
    "    avg_is_subscriber_scrollpct = df[df['is_subscriber'] == d]['scroll_percentage'].mean()\n",
    "    fig.add_trace(go.Bar(x= [d], y = [avg_is_subscriber_scrollpct], textfont_size=20))\n",
    "\n",
    "fig.show()"
   ]
  },
  {
   "cell_type": "markdown",
   "id": "b096414c",
   "metadata": {},
   "source": [
    "#### Topic Distribution"
   ]
  },
  {
   "cell_type": "code",
   "execution_count": null,
   "id": "453c9676",
   "metadata": {},
   "outputs": [],
   "source": [
    "## Subset based on those entries\n",
    "## populate the counts for the traces\n",
    "\n",
    "\n",
    "is_subscriber = [d for d in df['is_subscriber'].unique()]\n",
    "\n",
    "# Get all the unique topics\n",
    "unique_topics = []\n",
    "for i in df.index:\n",
    "    for j in range(0, len(df['topics'][i])):\n",
    "        tmp = df['topics'][i][j]\n",
    "        if tmp not in unique_topics:\n",
    "            unique_topics.append(tmp)\n",
    "\n",
    "unique_topics = sorted(unique_topics)\n",
    "\n",
    "\n",
    "fig = go.Figure()\n",
    "# Iterate through each device \n",
    "for d in is_subscriber:\n",
    "    # Find the subset of the data with that device\n",
    "    tmp_df = df[df['is_subscriber'] == d]\n",
    "\n",
    "    # Create a dict object with 0 counts for all topics\n",
    "    is_subscriber_topic_freq = {k:0 for k in unique_topics}\n",
    "    for i in tmp_df.index:\n",
    "        for j in range(0, len(df['topics'][i])):\n",
    "            # Find that index\n",
    "            tmp_topic = df['topics'][i][j]\n",
    "\n",
    "            # Enumerate\n",
    "            is_subscriber_topic_freq[tmp_topic] += 1\n",
    "    \n",
    "    is_subscriber_topic_freq = dict(sorted(is_subscriber_topic_freq.items(), key = lambda kv: kv[1], reverse= True))\n",
    "    #print(device_topic_freq)\n",
    "        \n",
    "    fig.add_trace(go.Bar(x= [x for x in is_subscriber_topic_freq.keys()], y = [y for y in is_subscriber_topic_freq.values()], textfont_size=20))\n",
    "\n",
    "\n",
    "\n",
    "# Overlay both histograms\n",
    "#fig.update_layout(barmode='overlay')\n",
    "# Reduce opacity to see both histograms\n",
    "fig.update_traces(opacity=0.75)\n",
    "fig.show()"
   ]
  },
  {
   "cell_type": "markdown",
   "id": "b0c3ff67",
   "metadata": {},
   "source": [
    "### Activity"
   ]
  },
  {
   "cell_type": "markdown",
   "id": "aa09cd6e",
   "metadata": {},
   "source": [
    "#### Daily Activity"
   ]
  },
  {
   "cell_type": "code",
   "execution_count": null,
   "id": "c5c4917a",
   "metadata": {},
   "outputs": [],
   "source": [
    "is_subscriber = [d for d in df['is_subscriber'].unique()]\n",
    "\n",
    "fig = go.Figure()\n",
    "# Iterate through each device \n",
    "for d in is_subscriber:\n",
    "    # Find the subset of the data with that device\n",
    "    tmp_df = df[df['is_subscriber'] == d]\n",
    "\n",
    "    # Create a dict object with 0 counts for all topics\n",
    "    is_subscriber_daily_activity = {}\n",
    "    for i in tmp_df.index:\n",
    "        # Find that index\n",
    "        tmp_timestamp = df['impression_time'][i]\n",
    "        tmp_datetime = tmp_timestamp\n",
    "        tmp_date = tmp_datetime.strftime('%m/%d/%Y')\n",
    "\n",
    "        # Daily Activity\n",
    "        if tmp_date not in is_subscriber_daily_activity:\n",
    "            is_subscriber_daily_activity[tmp_date] = 0\n",
    "        else:\n",
    "            is_subscriber_daily_activity[tmp_date] +=1\n",
    "        \n",
    "    \n",
    "    # Sort by dates\n",
    "    is_subscriber_daily_activity = dict(sorted(is_subscriber_daily_activity.items()))\n",
    "\n",
    "    # Add trace\n",
    "    fig.add_trace(go.Bar(x= [x for x in is_subscriber_daily_activity.keys()], y = [y for y in is_subscriber_daily_activity.values()], textfont_size=20))\n",
    "\n",
    "\n",
    "\n",
    "    # Overlay both histograms\n",
    "    #fig.update_layout(barmode='overlay')\n",
    "    # Reduce opacity to see both histograms\n",
    "fig.update_traces(opacity=0.75)\n",
    "fig.show()"
   ]
  },
  {
   "cell_type": "markdown",
   "id": "ba68d2cb",
   "metadata": {},
   "source": [
    "#### Hourly Activity"
   ]
  },
  {
   "cell_type": "code",
   "execution_count": null,
   "id": "97021ede",
   "metadata": {},
   "outputs": [],
   "source": [
    "is_subscriber = [d for d in df['is_subscriber'].unique()]\n",
    "\n",
    "fig = go.Figure()\n",
    "# Iterate through each device \n",
    "for d in is_subscriber:\n",
    "    # Find the subset of the data with that device\n",
    "    tmp_df = df[df['is_subscriber'] == d]\n",
    "\n",
    "    # Create a dict object with 0 counts for all topics\n",
    "    is_subscriber_hourly_activity = {}\n",
    "    for i in tmp_df.index:\n",
    "        # Find that index\n",
    "        tmp_timestamp = df['impression_time'][i]\n",
    "        tmp_datetime = tmp_timestamp\n",
    "        tmp_time = tmp_datetime.strftime('%H')\n",
    "\n",
    "        # Daily Activity\n",
    "        if tmp_time not in is_subscriber_hourly_activity:\n",
    "            is_subscriber_hourly_activity[tmp_time] = 0\n",
    "        else:\n",
    "            is_subscriber_hourly_activity[tmp_time] +=1\n",
    "        \n",
    "    \n",
    "    # Sort by dates\n",
    "    is_subscriber_hourly_activity = dict(sorted(is_subscriber_hourly_activity.items()))\n",
    "\n",
    "    # Add trace\n",
    "    fig.add_trace(go.Bar(x= [x for x in is_subscriber_hourly_activity.keys()], y = [y for y in is_subscriber_hourly_activity.values()], textfont_size=20))\n",
    "\n",
    "\n",
    "\n",
    "    # Overlay both histograms\n",
    "    #fig.update_layout(barmode='overlay')\n",
    "    # Reduce opacity to see both histograms\n",
    "fig.update_traces(opacity=0.75)\n",
    "fig.show()"
   ]
  },
  {
   "cell_type": "markdown",
   "id": "6469168b",
   "metadata": {},
   "source": [
    "# Gender"
   ]
  },
  {
   "cell_type": "code",
   "execution_count": null,
   "id": "dc8dcdbd",
   "metadata": {},
   "outputs": [],
   "source": [
    "\n",
    "# distribution of genders\n",
    "indices = df['gender'].value_counts().index\n",
    "values = df['gender'].value_counts().values\n",
    "\n",
    "fig = go.Figure()\n",
    "\n",
    "\n",
    "# Add trace\n",
    "fig.add_trace(go.Bar(x= indices, y = values, textfont_size=20))\n",
    "\n",
    "\n",
    "\n",
    "    # Overlay both histograms\n",
    "    #fig.update_layout(barmode='overlay')\n",
    "    # Reduce opacity to see both histograms\n",
    "fig.update_traces(opacity=0.75)\n",
    "fig.show()"
   ]
  },
  {
   "cell_type": "markdown",
   "id": "e9e0c923",
   "metadata": {},
   "source": [
    "### Read time per gender"
   ]
  },
  {
   "cell_type": "code",
   "execution_count": null,
   "id": "d7bf905d",
   "metadata": {},
   "outputs": [],
   "source": [
    "# Readtime per gender\n",
    "\n",
    "genders = df['gender'].unique()\n",
    "\n",
    "fig = go.Figure()\n",
    "for d in genders:\n",
    "\n",
    "    gender_ = df[df['gender'] == d]['read_time']\n",
    "\n",
    "    fig.add_trace(go.Histogram(x=gender_))\n",
    "\n",
    "# Overlay both histograms\n",
    "fig.update_layout(barmode='overlay')\n",
    "# Reduce opacity to see both histograms\n",
    "fig.update_traces(opacity=0.75)\n",
    "fig.show()"
   ]
  },
  {
   "cell_type": "code",
   "execution_count": null,
   "id": "83af57a0",
   "metadata": {},
   "outputs": [],
   "source": [
    "# Readtime per gender\n",
    "\n",
    "genders = df['gender'].unique()\n",
    "\n",
    "fig = go.Figure()\n",
    "for d in genders:\n",
    "\n",
    "    gender_ = df[df['gender'] == d]['read_time']\n",
    "\n",
    "    fig.add_trace(go.Box(y=gender_, name = str(d)))\n",
    "\n",
    "# Overlay both histograms\n",
    "fig.update_layout(barmode='overlay')\n",
    "# Reduce opacity to see both histograms\n",
    "fig.update_traces(opacity=0.75)\n",
    "fig.show()"
   ]
  },
  {
   "cell_type": "code",
   "execution_count": null,
   "id": "903f4d43",
   "metadata": {},
   "outputs": [],
   "source": [
    "# Average readtime per device\n",
    "\n",
    "## Get indices with different devices \n",
    "### Color based on label\n",
    "#### Histogram -> Bar graph for avg?\n",
    "\n",
    "# Readtime per gender\n",
    "\n",
    "genders = df['gender'].unique()\n",
    "genders = genders[~np.isnan(genders)]\n",
    "\n",
    "fig = go.Figure()\n",
    "for d in genders:\n",
    "\n",
    "    avg_gender_readtime = df[df['gender'] == d]['read_time'].mean()\n",
    "\n",
    "    fig.add_trace(go.Bar(x= [d], y = [avg_gender_readtime], textfont_size=20))\n",
    "\n",
    "\n",
    "\n",
    "\n",
    "# Overlay both histograms\n",
    "#fig.update_layout(barmode='overlay')\n",
    "# Reduce opacity to see both histograms\n",
    "fig.update_traces(opacity=0.75)\n",
    "fig.show()"
   ]
  },
  {
   "cell_type": "markdown",
   "id": "9cdd149a",
   "metadata": {},
   "source": [
    "### Scrolltime per gender"
   ]
  },
  {
   "cell_type": "code",
   "execution_count": null,
   "id": "7e2bf15d",
   "metadata": {},
   "outputs": [],
   "source": [
    "genders = df['gender'].unique()\n",
    "\n",
    "fig = go.Figure()\n",
    "for d in genders:\n",
    "\n",
    "    gender_ = df[df['gender'] == d]['scroll_percentage']\n",
    "\n",
    "    fig.add_trace(go.Histogram(x=gender_))\n",
    "\n",
    "# Overlay both histograms\n",
    "fig.update_layout(barmode='overlay')\n",
    "# Reduce opacity to see both histograms\n",
    "fig.update_traces(opacity=0.75)\n",
    "fig.show()"
   ]
  },
  {
   "cell_type": "code",
   "execution_count": null,
   "id": "61662545",
   "metadata": {},
   "outputs": [],
   "source": [
    "genders = df['gender'].unique()\n",
    "\n",
    "fig = go.Figure()\n",
    "for d in genders:\n",
    "\n",
    "    gender_ = df[df['gender'] == d]['scroll_percentage']\n",
    "\n",
    "    fig.add_trace(go.Box(y=gender_, name = str(d)))\n",
    "\n",
    "# Overlay both histograms\n",
    "fig.update_layout(barmode='overlay')\n",
    "# Reduce opacity to see both histograms\n",
    "fig.update_traces(opacity=0.75)\n",
    "fig.show()"
   ]
  },
  {
   "cell_type": "code",
   "execution_count": null,
   "id": "669aa3bf",
   "metadata": {},
   "outputs": [],
   "source": [
    "# Average readtime per device\n",
    "\n",
    "## Get indices with different devices \n",
    "### Color based on label\n",
    "#### Histogram -> Bar graph for avg?\n",
    "\n",
    "# Readtime per gender\n",
    "\n",
    "genders = df['gender'].unique()\n",
    "\n",
    "fig = go.Figure()\n",
    "for d in genders:\n",
    "\n",
    "    avg_gender_scrollpct = df[df['gender'] == d]['scroll_percentage'].mean()\n",
    "\n",
    "    fig.add_trace(go.Bar(x= [d], y = [avg_gender_scrollpct], textfont_size=20))\n",
    "\n",
    "\n",
    "\n",
    "\n",
    "# Overlay both histograms\n",
    "#fig.update_layout(barmode='overlay')\n",
    "# Reduce opacity to see both histograms\n",
    "fig.update_traces(opacity=0.75)\n",
    "fig.show()"
   ]
  },
  {
   "cell_type": "markdown",
   "id": "f1fb1468",
   "metadata": {},
   "source": [
    "### Topics"
   ]
  },
  {
   "cell_type": "code",
   "execution_count": null,
   "id": "54784f14",
   "metadata": {},
   "outputs": [],
   "source": [
    "## Subset based on those entries\n",
    "## populate the counts for the traces\n",
    "\n",
    "genders = df['gender'].unique()\n",
    "genders = genders[~np.isnan(genders)]\n",
    "\n",
    "#genders = [d for d in df['gender'].unique() ]\n",
    "\n",
    "# Get all the unique topics\n",
    "unique_topics = []\n",
    "for i in df.index:\n",
    "    for j in range(0, len(df['topics'][i])):\n",
    "        tmp = df['topics'][i][j]\n",
    "        if tmp not in unique_topics:\n",
    "            unique_topics.append(tmp)\n",
    "\n",
    "unique_topics = sorted(unique_topics)\n",
    "\n",
    "\n",
    "fig = go.Figure()\n",
    "# Iterate through each device \n",
    "for d in genders:\n",
    "    # Find the subset of the data with that device\n",
    "    tmp_df = df[df['gender'] == d]\n",
    "\n",
    "    # Create a dict object with 0 counts for all topics\n",
    "    genders_topic_freq = {k:0 for k in unique_topics}\n",
    "    for i in tmp_df.index:\n",
    "        for j in range(0, len(df['topics'][i])):\n",
    "            # Find that index\n",
    "            tmp_topic = df['topics'][i][j]\n",
    "\n",
    "            # Enumerate\n",
    "            genders_topic_freq[tmp_topic] += 1\n",
    "    \n",
    "    genders_topic_freq = dict(sorted(genders_topic_freq.items(), key = lambda kv: kv[1], reverse= True))\n",
    "    #print(device_topic_freq)\n",
    "        \n",
    "    fig.add_trace(go.Bar(x= [x for x in genders_topic_freq.keys()], y = [y for y in genders_topic_freq.values()], textfont_size=20))\n",
    "\n",
    "\n",
    "\n",
    "# Overlay both histograms\n",
    "#fig.update_layout(barmode='overlay')\n",
    "# Reduce opacity to see both histograms\n",
    "fig.update_traces(opacity=0.75)\n",
    "fig.show()"
   ]
  },
  {
   "cell_type": "markdown",
   "id": "5eb16616",
   "metadata": {},
   "source": [
    "### Activity"
   ]
  },
  {
   "cell_type": "markdown",
   "id": "abec6f05",
   "metadata": {},
   "source": [
    "#### Daily Activity"
   ]
  },
  {
   "cell_type": "code",
   "execution_count": null,
   "id": "4cadf022",
   "metadata": {},
   "outputs": [],
   "source": [
    "genders = df['gender'].unique()\n",
    "genders = genders[~np.isnan(genders)]\n",
    "\n",
    "fig = go.Figure()\n",
    "# Iterate through each device \n",
    "for d in genders:\n",
    "    # Find the subset of the data with that device\n",
    "    tmp_df = df[df['gender'] == d]\n",
    "\n",
    "    # Create a dict object with 0 counts for all topics\n",
    "    genders_daily_activity = {}\n",
    "    for i in tmp_df.index:\n",
    "        # Find that index\n",
    "        tmp_timestamp = df['impression_time'][i]\n",
    "        tmp_datetime = tmp_timestamp\n",
    "        tmp_date = tmp_datetime.strftime('%m/%d/%Y')\n",
    "\n",
    "        # Daily Activity\n",
    "        if tmp_date not in genders_daily_activity:\n",
    "            genders_daily_activity[tmp_date] = 0\n",
    "        else:\n",
    "            genders_daily_activity[tmp_date] +=1\n",
    "        \n",
    "    \n",
    "    # Sort by dates\n",
    "    genders_daily_activity = dict(sorted(genders_daily_activity.items()))\n",
    "\n",
    "    # Add trace\n",
    "    fig.add_trace(go.Bar(x= [x for x in genders_daily_activity.keys()], y = [y for y in genders_daily_activity.values()], textfont_size=20))\n",
    "\n",
    "\n",
    "\n",
    "    # Overlay both histograms\n",
    "    #fig.update_layout(barmode='overlay')\n",
    "    # Reduce opacity to see both histograms\n",
    "fig.update_traces(opacity=0.75)\n",
    "fig.show()"
   ]
  },
  {
   "cell_type": "markdown",
   "id": "14efd975",
   "metadata": {},
   "source": [
    "#### Hourly Activity"
   ]
  },
  {
   "cell_type": "code",
   "execution_count": null,
   "id": "a279ca32",
   "metadata": {},
   "outputs": [],
   "source": [
    "genders = df['gender'].unique()\n",
    "genders = genders[~np.isnan(genders)]\n",
    "\n",
    "fig = go.Figure()\n",
    "# Iterate through each device \n",
    "for d in genders:\n",
    "    # Find the subset of the data with that device\n",
    "    tmp_df = df[df['gender'] == d]\n",
    "\n",
    "    # Create a dict object with 0 counts for all topics\n",
    "    genders_hourly_activity = {}\n",
    "    for i in tmp_df.index:\n",
    "        # Find that index\n",
    "        tmp_timestamp = df['impression_time'][i]\n",
    "        tmp_datetime = tmp_timestamp\n",
    "        tmp_time = tmp_datetime.strftime('%H')\n",
    "\n",
    "        # Daily Activity\n",
    "        if tmp_time not in genders_hourly_activity:\n",
    "            genders_hourly_activity[tmp_time] = 0\n",
    "        else:\n",
    "            genders_hourly_activity[tmp_time] +=1\n",
    "        \n",
    "    \n",
    "    # Sort by dates\n",
    "    genders_hourly_activity = dict(sorted(genders_hourly_activity.items()))\n",
    "\n",
    "    # Add trace\n",
    "    fig.add_trace(go.Bar(x= [x for x in genders_hourly_activity.keys()], y = [y for y in genders_hourly_activity.values()], textfont_size=20))\n",
    "\n",
    "\n",
    "\n",
    "    # Overlay both histograms\n",
    "    #fig.update_layout(barmode='overlay')\n",
    "    # Reduce opacity to see both histograms\n",
    "fig.update_traces(opacity=0.75)\n",
    "fig.show()"
   ]
  },
  {
   "cell_type": "markdown",
   "id": "03e32b90",
   "metadata": {},
   "source": [
    "# Age"
   ]
  },
  {
   "cell_type": "markdown",
   "id": "558c5c75",
   "metadata": {},
   "source": [
    "### Age Distribution"
   ]
  },
  {
   "cell_type": "code",
   "execution_count": null,
   "id": "e6ab71ed",
   "metadata": {},
   "outputs": [],
   "source": [
    "# distribution of genders\n",
    "indices = df['age'].value_counts().sort_index().index\n",
    "values = df['age'].value_counts().sort_index().values\n",
    "\n",
    "fig = go.Figure()\n",
    "\n",
    "\n",
    "# Add trace\n",
    "fig.add_trace(go.Bar(x= indices, y = values, textfont_size=20))\n",
    "\n",
    "\n",
    "\n",
    "    # Overlay both histograms\n",
    "    #fig.update_layout(barmode='overlay')\n",
    "    # Reduce opacity to see both histograms\n",
    "fig.update_traces(opacity=0.75)\n",
    "fig.show()"
   ]
  },
  {
   "cell_type": "markdown",
   "id": "c42d84e0",
   "metadata": {},
   "source": [
    "#### Average readtime per age group"
   ]
  },
  {
   "cell_type": "code",
   "execution_count": null,
   "id": "7c47f430",
   "metadata": {},
   "outputs": [],
   "source": [
    "# Age readtime/scroll\n",
    "## Binned by 10-19, 20-29, etc\n",
    "\n",
    "indices = df['age'].value_counts().sort_index().index\n",
    "values = df['age'].value_counts().sort_index().values\n",
    "\n",
    "\n",
    "# Create graph object\n",
    "fig = go.Figure()\n",
    "\n",
    "# for each age group add a readtime \n",
    "for age in indices:\n",
    "    read_time = df[df['age'] == age]['read_time']\n",
    "    fig.add_trace(go.Histogram(x=read_time))\n",
    "\n",
    "\n",
    "fig.update_layout(barmode='overlay')\n",
    "fig.update_traces(opacity=0.75)\n",
    "fig.show()\n"
   ]
  },
  {
   "cell_type": "code",
   "execution_count": null,
   "id": "110569c9",
   "metadata": {},
   "outputs": [],
   "source": [
    "# Age readtime/scroll\n",
    "## Binned by 10-19, 20-29, etc\n",
    "\n",
    "indices = df['age'].value_counts().sort_index().index\n",
    "values = df['age'].value_counts().sort_index().values\n",
    "\n",
    "\n",
    "# Create graph object\n",
    "fig = go.Figure()\n",
    "\n",
    "# for each age group add a readtime \n",
    "for age in indices:\n",
    "    read_time = df[df['age'] == age]['read_time']\n",
    "    fig.add_trace(go.Box(y=read_time, name = str(age)))\n",
    "\n",
    "\n",
    "fig.update_layout(barmode='overlay')\n",
    "fig.update_traces(opacity=0.75)\n",
    "fig.show()"
   ]
  },
  {
   "cell_type": "code",
   "execution_count": null,
   "id": "206b6214",
   "metadata": {},
   "outputs": [],
   "source": [
    "# Average read time\n",
    "## Binned by 10-19, 20-29, etc\n",
    "\n",
    "indices = df['age'].value_counts().sort_index().index\n",
    "values = df['age'].value_counts().sort_index().values\n",
    "\n",
    "\n",
    "# Create graph object\n",
    "fig = go.Figure()\n",
    "\n",
    "# for each age group add a readtime \n",
    "for age in indices:\n",
    "    avg_read_time = df[df['age'] == age]['read_time'].mean()\n",
    "    fig.add_trace(go.Bar(x=[age], y = [avg_read_time], textfont_size=20))\n",
    "\n",
    "\n",
    "fig.show()"
   ]
  },
  {
   "cell_type": "markdown",
   "id": "c3883ce0",
   "metadata": {},
   "source": [
    "Average Scroll PCt per age group"
   ]
  },
  {
   "cell_type": "code",
   "execution_count": null,
   "id": "06d988f1",
   "metadata": {},
   "outputs": [],
   "source": [
    "indices = df['age'].value_counts().sort_index().index\n",
    "values = df['age'].value_counts().sort_index().values\n",
    "\n",
    "# Create graph object\n",
    "fig = go.Figure()\n",
    "\n",
    "# for each age group add a readtime \n",
    "for age in indices:\n",
    "    scroll_pct = df[df['age'] == age]['scroll_percentage']\n",
    "    fig.add_trace(go.Histogram(x=scroll_pct))\n",
    "\n",
    "\n",
    "fig.update_layout(barmode='overlay')\n",
    "fig.update_traces(opacity=0.75)\n",
    "fig.show()"
   ]
  },
  {
   "cell_type": "code",
   "execution_count": null,
   "id": "8f499191",
   "metadata": {},
   "outputs": [],
   "source": [
    "indices = df['age'].value_counts().sort_index().index\n",
    "values = df['age'].value_counts().sort_index().values\n",
    "\n",
    "# Create graph object\n",
    "fig = go.Figure()\n",
    "\n",
    "# for each age group add a readtime \n",
    "for age in indices:\n",
    "    scroll_pct = df[df['age'] == age]['scroll_percentage']\n",
    "    fig.add_trace(go.Box(y=scroll_pct, name = str(age)))\n",
    "\n",
    "\n",
    "fig.update_layout(barmode='overlay')\n",
    "fig.update_traces(opacity=0.75)\n",
    "fig.show()"
   ]
  },
  {
   "cell_type": "code",
   "execution_count": null,
   "id": "8748e792",
   "metadata": {},
   "outputs": [],
   "source": [
    "indices = df['age'].value_counts().sort_index().index\n",
    "values = df['age'].value_counts().sort_index().values\n",
    "\n",
    "# Create graph object\n",
    "fig = go.Figure()\n",
    "\n",
    "# for each age group add a readtime \n",
    "for age in indices:\n",
    "    avg_scroll_pct = df[df['age'] == age]['scroll_percentage'].mean()\n",
    "    fig.add_trace(go.Bar(x=[age], y = [avg_scroll_pct], textfont_size=20))\n",
    "\n",
    "fig.show()"
   ]
  },
  {
   "cell_type": "markdown",
   "id": "2fa72d5e",
   "metadata": {},
   "source": [
    "### Topics"
   ]
  },
  {
   "cell_type": "code",
   "execution_count": null,
   "id": "a3975ed1",
   "metadata": {},
   "outputs": [],
   "source": [
    "## Subset based on those entries\n",
    "## populate the counts for the traces\n",
    "\n",
    "ages = df['age'].unique()\n",
    "ages = ages[~np.isnan(ages)]\n",
    "\n",
    "#genders = [d for d in df['gender'].unique() ]\n",
    "\n",
    "# Get all the unique topics\n",
    "unique_topics = []\n",
    "for i in df.index:\n",
    "    for j in range(0, len(df['topics'][i])):\n",
    "        tmp = df['topics'][i][j]\n",
    "        if tmp not in unique_topics:\n",
    "            unique_topics.append(tmp)\n",
    "\n",
    "unique_topics = sorted(unique_topics)\n",
    "\n",
    "\n",
    "fig = go.Figure()\n",
    "# Iterate through each device \n",
    "for d in ages:\n",
    "    # Find the subset of the data with that device\n",
    "    tmp_df = df[df['age'] == d]\n",
    "\n",
    "    # Create a dict object with 0 counts for all topics\n",
    "    ages_topic_freq = {k:0 for k in unique_topics}\n",
    "    for i in tmp_df.index:\n",
    "        for j in range(0, len(df['topics'][i])):\n",
    "            # Find that index\n",
    "            tmp_topic = df['topics'][i][j]\n",
    "\n",
    "            # Enumerate\n",
    "            ages_topic_freq[tmp_topic] += 1\n",
    "    \n",
    "    ages_topic_freq = dict(sorted(ages_topic_freq.items(), key = lambda kv: kv[1], reverse= True))\n",
    "    #print(device_topic_freq)\n",
    "        \n",
    "    fig.add_trace(go.Bar(x= [x for x in ages_topic_freq.keys()], y = [y for y in ages_topic_freq.values()], textfont_size=20))\n",
    "\n",
    "\n",
    "\n",
    "# Overlay both histograms\n",
    "#fig.update_layout(barmode='overlay')\n",
    "# Reduce opacity to see both histograms\n",
    "fig.update_traces(opacity=0.75)\n",
    "fig.show()"
   ]
  },
  {
   "cell_type": "markdown",
   "id": "cb2106c5",
   "metadata": {},
   "source": [
    "### Activity"
   ]
  },
  {
   "cell_type": "markdown",
   "id": "24ca3114",
   "metadata": {},
   "source": [
    "#### Daily Activity"
   ]
  },
  {
   "cell_type": "code",
   "execution_count": null,
   "id": "68a3dec9",
   "metadata": {},
   "outputs": [],
   "source": [
    "ages = df['age'].unique()\n",
    "ages = ages[~np.isnan(ages)]\n",
    "\n",
    "fig = go.Figure()\n",
    "# Iterate through each device \n",
    "for d in ages:\n",
    "    # Find the subset of the data with that device\n",
    "    tmp_df = df[df['age'] == d]\n",
    "\n",
    "    # Create a dict object with 0 counts for all topics\n",
    "    ages_daily_activity = {}\n",
    "    for i in tmp_df.index:\n",
    "        # Find that index\n",
    "        tmp_timestamp = df['impression_time'][i]\n",
    "        tmp_datetime = tmp_timestamp\n",
    "        tmp_date = tmp_datetime.strftime('%m/%d/%Y')\n",
    "\n",
    "        # Daily Activity\n",
    "        if tmp_date not in ages_daily_activity:\n",
    "            ages_daily_activity[tmp_date] = 0\n",
    "        else:\n",
    "            ages_daily_activity[tmp_date] +=1\n",
    "        \n",
    "    \n",
    "    # Sort by dates\n",
    "    ages_daily_activity = dict(sorted(ages_daily_activity.items()))\n",
    "\n",
    "    # Add trace\n",
    "    fig.add_trace(go.Bar(x= [x for x in ages_daily_activity.keys()], y = [y for y in ages_daily_activity.values()], textfont_size=20))\n",
    "\n",
    "\n",
    "\n",
    "    # Overlay both histograms\n",
    "    #fig.update_layout(barmode='overlay')\n",
    "    # Reduce opacity to see both histograms\n",
    "fig.update_traces(opacity=0.75)\n",
    "fig.show()"
   ]
  },
  {
   "cell_type": "markdown",
   "id": "1923aded",
   "metadata": {},
   "source": [
    "#### Hourly Activity"
   ]
  },
  {
   "cell_type": "code",
   "execution_count": null,
   "id": "41764352",
   "metadata": {},
   "outputs": [],
   "source": [
    "ages = df['age'].unique()\n",
    "ages = ages[~np.isnan(ages)]\n",
    "\n",
    "fig = go.Figure()\n",
    "# Iterate through each device \n",
    "for d in ages:\n",
    "    # Find the subset of the data with that device\n",
    "    tmp_df = df[df['age'] == d]\n",
    "\n",
    "    # Create a dict object with 0 counts for all topics\n",
    "    ages_hourly_activity = {}\n",
    "    for i in tmp_df.index:\n",
    "        # Find that index\n",
    "        tmp_timestamp = df['impression_time'][i]\n",
    "        tmp_datetime = tmp_timestamp\n",
    "        tmp_time = tmp_datetime.strftime('%H')\n",
    "\n",
    "        # Daily Activity\n",
    "        if tmp_time not in ages_hourly_activity:\n",
    "            ages_hourly_activity[tmp_time] = 0\n",
    "        else:\n",
    "            ages_hourly_activity[tmp_time] +=1\n",
    "        \n",
    "    \n",
    "    # Sort by dates\n",
    "    ages_hourly_activity = dict(sorted(ages_hourly_activity.items()))\n",
    "\n",
    "    # Add trace\n",
    "    fig.add_trace(go.Bar(x= [x for x in ages_hourly_activity.keys()], y = [y for y in ages_hourly_activity.values()], textfont_size=20))\n",
    "\n",
    "\n",
    "\n",
    "    # Overlay both histograms\n",
    "    #fig.update_layout(barmode='overlay')\n",
    "    # Reduce opacity to see both histograms\n",
    "fig.update_traces(opacity=0.75)\n",
    "fig.show()"
   ]
  },
  {
   "cell_type": "markdown",
   "id": "06e40744",
   "metadata": {},
   "source": [
    "# Postcodes"
   ]
  },
  {
   "cell_type": "markdown",
   "id": "0b31209f",
   "metadata": {},
   "source": [
    "### Distribution of Post Codes"
   ]
  },
  {
   "cell_type": "code",
   "execution_count": null,
   "id": "87f2646a",
   "metadata": {},
   "outputs": [],
   "source": [
    "# distribution of genders\n",
    "indices = df['postcode'].value_counts().index\n",
    "values = df['postcode'].value_counts().values\n",
    "\n",
    "fig = go.Figure()\n",
    "\n",
    "\n",
    "# Add trace\n",
    "fig.add_trace(go.Bar(x= indices, y = values, textfont_size=20))\n",
    "\n",
    "\n",
    "\n",
    "    # Overlay both histograms\n",
    "    #fig.update_layout(barmode='overlay')\n",
    "    # Reduce opacity to see both histograms\n",
    "fig.update_traces(opacity=0.75)\n",
    "fig.show()"
   ]
  },
  {
   "cell_type": "markdown",
   "id": "0ae5a212",
   "metadata": {},
   "source": [
    "### Average Read Time in each postal code"
   ]
  },
  {
   "cell_type": "code",
   "execution_count": null,
   "id": "4b3bf9aa",
   "metadata": {},
   "outputs": [],
   "source": [
    "indices = df['postcode'].value_counts().sort_index().index\n",
    "values = df['postcode'].value_counts().sort_index().values\n",
    "\n",
    "# Create graph object\n",
    "fig = go.Figure()\n",
    "\n",
    "# for each post code add a readtime \n",
    "for postcode in indices:\n",
    "    read_time = df[df['postcode'] == postcode]['read_time']\n",
    "    fig.add_trace(go.Histogram(x=read_time))\n",
    "\n",
    "\n",
    "fig.update_layout(barmode='overlay')\n",
    "fig.update_traces(opacity=0.75)\n",
    "fig.show()"
   ]
  },
  {
   "cell_type": "code",
   "execution_count": null,
   "id": "f694ff76",
   "metadata": {},
   "outputs": [],
   "source": [
    "indices = df['postcode'].value_counts().sort_index().index\n",
    "values = df['postcode'].value_counts().sort_index().values\n",
    "\n",
    "# Create graph object\n",
    "fig = go.Figure()\n",
    "\n",
    "# for each post code add a readtime \n",
    "for postcode in indices:\n",
    "    read_time = df[df['postcode'] == postcode]['read_time']\n",
    "    fig.add_trace(go.Box(y=read_time, name = str(postcode)))\n",
    "\n",
    "\n",
    "fig.update_layout(barmode='overlay')\n",
    "fig.update_traces(opacity=0.75)\n",
    "fig.show()"
   ]
  },
  {
   "cell_type": "code",
   "execution_count": null,
   "id": "0bba02ba",
   "metadata": {},
   "outputs": [],
   "source": [
    "indices = df['postcode'].value_counts().sort_index().index\n",
    "values = df['postcode'].value_counts().sort_index().values\n",
    "\n",
    "# Create graph object\n",
    "fig = go.Figure()\n",
    "\n",
    "# for each post code add a readtime \n",
    "for postcode in indices:\n",
    "    avg_read_time = df[df['postcode'] == postcode]['read_time'].mean()\n",
    "    fig.add_trace(go.Bar(x=[postcode], y = [avg_read_time], textfont_size=20))\n",
    "\n",
    "\n",
    "fig.update_layout(barmode='overlay')\n",
    "fig.update_traces(opacity=0.75)\n",
    "fig.show()"
   ]
  },
  {
   "cell_type": "markdown",
   "id": "c13bde99",
   "metadata": {},
   "source": [
    "### Average Scroll pct in each postal code"
   ]
  },
  {
   "cell_type": "code",
   "execution_count": null,
   "id": "7601e504",
   "metadata": {},
   "outputs": [],
   "source": [
    "indices = df['postcode'].value_counts().sort_index().index\n",
    "values = df['postcode'].value_counts().sort_index().values\n",
    "\n",
    "# Create graph object\n",
    "fig = go.Figure()\n",
    "\n",
    "# for each post code add a readtime \n",
    "for postcode in indices:\n",
    "    scroll_pct = df[df['postcode'] == postcode]['scroll_percentage']\n",
    "    fig.add_trace(go.Histogram(x=scroll_pct))\n",
    "\n",
    "\n",
    "fig.update_layout(barmode='overlay')\n",
    "fig.update_traces(opacity=0.75)\n",
    "fig.show()"
   ]
  },
  {
   "cell_type": "code",
   "execution_count": null,
   "id": "ad0d6cee",
   "metadata": {},
   "outputs": [],
   "source": [
    "indices = df['postcode'].value_counts().sort_index().index\n",
    "values = df['postcode'].value_counts().sort_index().values\n",
    "\n",
    "# Create graph object\n",
    "fig = go.Figure()\n",
    "\n",
    "# for each post code add a readtime \n",
    "for postcode in indices:\n",
    "    scroll_pct = df[df['postcode'] == postcode]['scroll_percentage']\n",
    "    fig.add_trace(go.Box(y=scroll_pct, name = str(postcode)))\n",
    "\n",
    "\n",
    "fig.update_layout(barmode='overlay')\n",
    "fig.update_traces(opacity=0.75)\n",
    "fig.show()"
   ]
  },
  {
   "cell_type": "code",
   "execution_count": null,
   "id": "6d829609",
   "metadata": {},
   "outputs": [],
   "source": [
    "indices = df['postcode'].value_counts().sort_index().index\n",
    "values = df['postcode'].value_counts().sort_index().values\n",
    "\n",
    "# Create graph object\n",
    "fig = go.Figure()\n",
    "\n",
    "# for each post code add a readtime \n",
    "for postcode in indices:\n",
    "    avg_scroll_pct = df[df['postcode'] == postcode]['scroll_percentage'].mean()\n",
    "    fig.add_trace(go.Bar(x=[postcode], y = [avg_scroll_pct], textfont_size=20))\n",
    "\n",
    "\n",
    "fig.update_layout(barmode='overlay')\n",
    "fig.update_traces(opacity=0.75)\n",
    "fig.show()"
   ]
  },
  {
   "cell_type": "markdown",
   "id": "f742f798",
   "metadata": {},
   "source": [
    "### Topics"
   ]
  },
  {
   "cell_type": "code",
   "execution_count": null,
   "id": "f656d88f",
   "metadata": {},
   "outputs": [],
   "source": [
    "## Subset based on those entries\n",
    "## populate the counts for the traces\n",
    "\n",
    "postcodes = df['postcode'].unique()\n",
    "postcodes = postcodes[~np.isnan(postcodes)]\n",
    "\n",
    "#genders = [d for d in df['gender'].unique() ]\n",
    "\n",
    "# Get all the unique topics\n",
    "unique_topics = []\n",
    "for i in df.index:\n",
    "    for j in range(0, len(df['topics'][i])):\n",
    "        tmp = df['topics'][i][j]\n",
    "        if tmp not in unique_topics:\n",
    "            unique_topics.append(tmp)\n",
    "\n",
    "unique_topics = sorted(unique_topics)\n",
    "\n",
    "\n",
    "fig = go.Figure()\n",
    "# Iterate through each device \n",
    "for d in postcodes:\n",
    "    # Find the subset of the data with that device\n",
    "    tmp_df = df[df['postcode'] == d]\n",
    "\n",
    "    # Create a dict object with 0 counts for all topics\n",
    "    postcodes_topic_freq = {k:0 for k in unique_topics}\n",
    "    for i in tmp_df.index:\n",
    "        for j in range(0, len(df['topics'][i])):\n",
    "            # Find that index\n",
    "            tmp_topic = df['topics'][i][j]\n",
    "\n",
    "            # Enumerate\n",
    "            postcodes_topic_freq[tmp_topic] += 1\n",
    "    \n",
    "    postcodes_topic_freq = dict(sorted(postcodes_topic_freq.items(), key = lambda kv: kv[1], reverse= True))\n",
    "    #print(device_topic_freq)\n",
    "        \n",
    "    fig.add_trace(go.Bar(x= [x for x in postcodes_topic_freq.keys()], y = [y for y in postcodes_topic_freq.values()], textfont_size=20))\n",
    "\n",
    "\n",
    "\n",
    "# Overlay both histograms\n",
    "#fig.update_layout(barmode='overlay')\n",
    "# Reduce opacity to see both histograms\n",
    "fig.update_traces(opacity=0.75)\n",
    "fig.show()"
   ]
  },
  {
   "cell_type": "markdown",
   "id": "6e53434a",
   "metadata": {},
   "source": [
    "### Activity"
   ]
  },
  {
   "cell_type": "markdown",
   "id": "a1d99370",
   "metadata": {},
   "source": [
    "#### Daily Activity"
   ]
  },
  {
   "cell_type": "code",
   "execution_count": null,
   "id": "0d4c167a",
   "metadata": {},
   "outputs": [],
   "source": [
    "postcodes = df['postcode'].unique()\n",
    "postcodes = postcodes[~np.isnan(postcodes)]\n",
    "\n",
    "fig = go.Figure()\n",
    "# Iterate through each device \n",
    "for d in postcodes:\n",
    "    # Find the subset of the data with that device\n",
    "    tmp_df = df[df['postcode'] == d]\n",
    "\n",
    "    # Create a dict object with 0 counts for all topics\n",
    "    postcodes_daily_activity = {}\n",
    "    for i in tmp_df.index:\n",
    "        # Find that index\n",
    "        tmp_timestamp = df['impression_time'][i]\n",
    "        tmp_datetime = tmp_timestamp\n",
    "        tmp_date = tmp_datetime.strftime('%m/%d/%Y')\n",
    "\n",
    "        # Daily Activity\n",
    "        if tmp_date not in postcodes_daily_activity:\n",
    "            postcodes_daily_activity[tmp_date] = 0\n",
    "        else:\n",
    "            postcodes_daily_activity[tmp_date] +=1\n",
    "        \n",
    "    \n",
    "    # Sort by dates\n",
    "    postcodes_daily_activity = dict(sorted(postcodes_daily_activity.items()))\n",
    "\n",
    "    # Add trace\n",
    "    fig.add_trace(go.Bar(x= [x for x in postcodes_daily_activity.keys()], y = [y for y in postcodes_daily_activity.values()], textfont_size=20))\n",
    "\n",
    "\n",
    "\n",
    "    # Overlay both histograms\n",
    "    #fig.update_layout(barmode='overlay')\n",
    "    # Reduce opacity to see both histograms\n",
    "fig.update_traces(opacity=0.75)\n",
    "fig.show()"
   ]
  },
  {
   "cell_type": "markdown",
   "id": "38ed70d3",
   "metadata": {},
   "source": [
    "#### Hourly Activity"
   ]
  },
  {
   "cell_type": "code",
   "execution_count": null,
   "id": "0af96cef",
   "metadata": {},
   "outputs": [],
   "source": [
    "postcodes = df['postcode'].unique()\n",
    "postcodes = postcodes[~np.isnan(postcodes)]\n",
    "\n",
    "\n",
    "fig = go.Figure()\n",
    "# Iterate through each device \n",
    "for d in postcodes:\n",
    "    # Find the subset of the data with that device\n",
    "    tmp_df = df[df['postcode'] == d]\n",
    "\n",
    "    # Create a dict object with 0 counts for all topics\n",
    "    postcodes_hourly_activity = {}\n",
    "    for i in tmp_df.index:\n",
    "        # Find that index\n",
    "        tmp_timestamp = df['impression_time'][i]\n",
    "        tmp_datetime = tmp_timestamp\n",
    "        tmp_time = tmp_datetime.strftime('%H')\n",
    "\n",
    "        # Daily Activity\n",
    "        if tmp_time not in postcodes_hourly_activity:\n",
    "            postcodes_hourly_activity[tmp_time] = 0\n",
    "        else:\n",
    "            postcodes_hourly_activity[tmp_time] +=1\n",
    "        \n",
    "    \n",
    "    # Sort by dates\n",
    "    postcodes_hourly_activity = dict(sorted(postcodes_hourly_activity.items()))\n",
    "\n",
    "    # Add trace\n",
    "    fig.add_trace(go.Bar(x= [x for x in postcodes_hourly_activity.keys()], y = [y for y in postcodes_hourly_activity.values()], textfont_size=20))\n",
    "\n",
    "\n",
    "\n",
    "    # Overlay both histograms\n",
    "    #fig.update_layout(barmode='overlay')\n",
    "    # Reduce opacity to see both histograms\n",
    "fig.update_traces(opacity=0.75)\n",
    "fig.show()"
   ]
  },
  {
   "cell_type": "code",
   "execution_count": null,
   "id": "830901ce",
   "metadata": {},
   "outputs": [],
   "source": []
  }
 ],
 "metadata": {
  "kernelspec": {
   "display_name": "Python 3 (ipykernel)",
   "language": "python",
   "name": "python3"
  },
  "language_info": {
   "codemirror_mode": {
    "name": "ipython",
    "version": 3
   },
   "file_extension": ".py",
   "mimetype": "text/x-python",
   "name": "python",
   "nbconvert_exporter": "python",
   "pygments_lexer": "ipython3",
   "version": "3.11.4"
  }
 },
 "nbformat": 4,
 "nbformat_minor": 5
}
