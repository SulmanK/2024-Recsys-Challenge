{
 "cells": [
  {
   "cell_type": "markdown",
   "id": "d2671047-b3da-4686-8a34-f7e63d82e738",
   "metadata": {},
   "source": [
    "Task\n",
    "- Add in other uestions\n",
    "    - Refactor code for the aggregation of timely activity\n",
    "- Fix the plots\n",
    "- Start on EDA\n",
    "    - Each major feature will cover distribution of the feature, readtime/scroll pct, how it relates to the topics selected, and activity distribution.\n",
    "        - We will use histograms, bar plots, box plots, and scatter plots (can look at pie charts too)\n",
    "- Model selection"
   ]
  },
  {
   "cell_type": "markdown",
   "id": "237298c2-2986-4bba-bcbd-5ff27e361919",
   "metadata": {},
   "source": [
    "Background Information on Dataset: BLAH BLAH BLAH"
   ]
  },
  {
   "cell_type": "markdown",
   "id": "9f8cf39e-f468-4ac2-9f59-2eefab32a277",
   "metadata": {},
   "source": [
    "Importing Packages"
   ]
  },
  {
   "cell_type": "code",
   "execution_count": 72,
   "id": "f4711c74-a01b-4ce7-8a3d-de5a605d13e4",
   "metadata": {},
   "outputs": [],
   "source": [
    "import numpy as np\n",
    "import pandas as pd\n",
    "import dask.dataframe as dd\n",
    "import matplotlib\n",
    "import plotly\n",
    "import plotly.express as px\n",
    "import plotly.graph_objects as go\n",
    "\n",
    "from datetime import datetime"
   ]
  },
  {
   "cell_type": "markdown",
   "id": "06f05b58-dde3-4d5f-87a2-f20ad71cd62b",
   "metadata": {},
   "source": [
    "EDA"
   ]
  },
  {
   "cell_type": "markdown",
   "id": "616fa6a4-e47a-4116-82f5-896d6893a00e",
   "metadata": {},
   "source": [
    "Load in dataset"
   ]
  },
  {
   "cell_type": "markdown",
   "id": "b171de10-39f1-4dad-aed9-d8a179e44fe2",
   "metadata": {},
   "source": [
    "Aside: Let's measure how long it takes to load in our dataset: using pandas and dask"
   ]
  },
  {
   "cell_type": "code",
   "execution_count": null,
   "id": "ae5445ae-b902-4ce8-9f7b-717b3b0b4f92",
   "metadata": {},
   "outputs": [],
   "source": [
    "import cProfile\n",
    "import pstats\n",
    "\n",
    "profiler = cProfile.Profile()\n",
    "profiler.enable()\n",
    "df = pd.read_parquet(\"Data/Large/articles.parquet\")\n",
    "profiler.disable()\n",
    "\n",
    "profiler_stats = pstats.Stats(profiler)\n",
    "profiler_stats.print_stats()"
   ]
  },
  {
   "cell_type": "code",
   "execution_count": null,
   "id": "e15aa7e8-ef30-4e1d-908c-9dc597f5bce9",
   "metadata": {},
   "outputs": [],
   "source": [
    "profiler = cProfile.Profile()\n",
    "profiler.enable()\n",
    "df = dd.read_parquet(\"Data/Large/articles.parquet\", engine = \"fastparquet\")\n",
    "profiler.disable()\n",
    "\n",
    "profiler_stats = pstats.Stats(profiler)\n",
    "profiler_stats.print_stats()"
   ]
  },
  {
   "cell_type": "markdown",
   "id": "30fe4d4a-f8e0-4b9d-a9dd-7b5719a44b6f",
   "metadata": {},
   "source": [
    "Even though the dataframe took 1.464 seconds to load using pandas, dask took 0.054 seconds. This is a huge speedup ~ 27x"
   ]
  },
  {
   "cell_type": "code",
   "execution_count": 73,
   "id": "59a57c46-4e08-4299-8a69-12d45e274b46",
   "metadata": {},
   "outputs": [],
   "source": [
    "#Load in various dataframes\n",
    "## Articles\n",
    "df_art = pd.read_parquet(\"Data/Small/articles.parquet\")\n",
    "\n",
    "## Behaviors\n",
    "df_bev = pd.read_parquet(\"Data/Small/train/behaviors.parquet\")\n",
    "\n",
    "## History\n",
    "df_his = pd.read_parquet(\"Data/Small/train/history.parquet\")\n",
    "\n"
   ]
  },
  {
   "cell_type": "markdown",
   "id": "dd6d447c",
   "metadata": {},
   "source": [
    "Join the data sources"
   ]
  },
  {
   "cell_type": "code",
   "execution_count": 80,
   "id": "b3cfa16d",
   "metadata": {},
   "outputs": [],
   "source": [
    "# Convert datatype of column first\n",
    "df_bev['article_ids_clicked'] = df_bev['article_ids_clicked'].apply(lambda x: x[0])"
   ]
  },
  {
   "cell_type": "code",
   "execution_count": 81,
   "id": "5eaa9148",
   "metadata": {},
   "outputs": [],
   "source": [
    "# Join bevhaiors to article\n",
    "df= df_bev.join(df_art.set_index(\"article_id\"), on = \"article_ids_clicked\")\n",
    "\n",
    "# Join bevhaiors to history \n",
    "df= df.join(df_his.set_index(\"user_id\"), on = \"user_id\")\n",
    "\n",
    "# Drop all other dataframes from me\n",
    "df_bev = []\n",
    "df_his = []\n",
    "df_art = []"
   ]
  },
  {
   "cell_type": "code",
   "execution_count": 83,
   "id": "5796b9c4",
   "metadata": {},
   "outputs": [],
   "source": [
    "# Preprocessing\n",
    "df.dropna(subset=['article_id'], inplace= True)\n",
    "df.dropna(subset =['age'], inplace = True)\n",
    "\n",
    "\n",
    "df['article_id'] = df['article_id'].apply(lambda x: int(x))\n",
    "\n",
    "df['article_id']= df['article_id'].astype(np.int64)\n",
    "\n"
   ]
  },
  {
   "cell_type": "markdown",
   "id": "00dd2615",
   "metadata": {},
   "source": [
    "Visualizations"
   ]
  },
  {
   "cell_type": "code",
   "execution_count": null,
   "id": "af49752d",
   "metadata": {},
   "outputs": [],
   "source": [
    "def plotly_index_values(groupby_object):\n",
    "    \"\"\"Takes in a clause from a pandas groupby statement and returns X and Y variables used for plotting\"\"\"\n",
    "\n",
    "    index = groupby_object.index\n",
    "    values = groupby_object.values\n",
    "\n",
    "    return index, values\n",
    "\n"
   ]
  },
  {
   "cell_type": "markdown",
   "id": "c4e0b195",
   "metadata": {},
   "source": [
    "Lets calculate the unique users for hourly, daily, and day of the week. Let's use a subset of the data until we know our plots are very good"
   ]
  },
  {
   "cell_type": "markdown",
   "id": "7988d669",
   "metadata": {},
   "source": [
    "#### Biggest thing is user engagement : Bigger User Engagement -> More eveneue\n",
    "#### We need to maximize the amount of ads these guys are viewing -> this leads on to them clicking on new articles for ads\n",
    "#### So, let's not make article length too short so that people can maximize their session lengths with a lot of articles!"
   ]
  },
  {
   "cell_type": "code",
   "execution_count": null,
   "id": "84e0f2f7",
   "metadata": {},
   "outputs": [],
   "source": [
    "# Let's make subsets for each user_id and then populate the frequency based on that\n",
    "\n",
    "## Get all unique ids in a list\n",
    "\n",
    "unique_user_ids = df['user_id'].values[0:1000]\n",
    "unique_user_ids = set(unique_user_ids)\n",
    "\n",
    "\n",
    "# Create dictionaries\n",
    "unique_users_daily_freq = {}\n",
    "unique_users_hourly_freq = {}\n",
    "unique_users_dayofweek_freq = {}\n",
    "unique_users_weekly_freq = {}\n",
    "\n",
    "for id in unique_user_ids:\n",
    "    # Get the subset of that user id\n",
    "    tmp_df = df[df['user_id'] == id]\n",
    "\n",
    "    # Now lets go through each and populate the unique dates, hours and day of the week for each user\n",
    "    dates = []\n",
    "    hours = []\n",
    "    dayofweek = []\n",
    "    week = []\n",
    "    indices = np.array(tmp_df.index)\n",
    "    for i in indices:\n",
    "        tmp_datetime = pd.DatetimeIndex(tmp_df['impression_time_fixed'][i])\n",
    "        tmp_date = tmp_datetime.date\n",
    "        tmp_time = tmp_datetime.time\n",
    "        tmp_dayofweek = tmp_datetime.day_of_week\n",
    "        tmp_week = tmp_datetime.isocalendar().week\n",
    "\n",
    "        for j in tmp_date:\n",
    "            dates.append(j)\n",
    "        \n",
    "        for k in tmp_time:\n",
    "            hours.append(k)\n",
    "        \n",
    "        for l in tmp_dayofweek:\n",
    "            dayofweek.append(l)\n",
    "        \n",
    "        for m in tmp_week:\n",
    "            week.append(m)\n",
    "\n",
    "    # Get rid of duplicate values\n",
    "    unique_dates = list(set(dates))\n",
    "    unique_hours = list(set(hours))\n",
    "    unique_dayofweek = list(set(dayofweek))\n",
    "    unique_week = list(set(week))\n",
    "\n",
    "    # Convert to string\n",
    "    unique_dates = [x.strftime('%m/%d/%Y') for x in unique_dates]\n",
    "    unique_hours = [x.hour for x in unique_hours]\n",
    "\n",
    "   # unique_dayofweek = [x for x in unique_dayofweek]\n",
    "\n",
    "\n",
    "    # Populate our unique_user_daily_freq dict\n",
    "    for i in unique_dates:\n",
    "        \n",
    "        if i not in unique_users_daily_freq:\n",
    "            unique_users_daily_freq[i] = 1\n",
    "        else:\n",
    "            unique_users_daily_freq[i] +=1\n",
    "        \n",
    "\n",
    "    # Populate hourly activity\n",
    "    for j in unique_hours:\n",
    "\n",
    "        if j not in unique_users_hourly_freq:\n",
    "            unique_users_hourly_freq[j] = 1\n",
    "        else:\n",
    "            unique_users_hourly_freq[j] +=1\n",
    "\n",
    "    # Populate dayofweeka activity\n",
    "    for k in unique_dayofweek:\n",
    "\n",
    "        if k not in unique_users_dayofweek_freq:\n",
    "            unique_users_dayofweek_freq[k] = 1\n",
    "        else:\n",
    "            unique_users_dayofweek_freq[k] +=1\n",
    "    \n",
    "\n",
    "    # Populate dayofweeka activity\n",
    "    for l in unique_week:\n",
    "\n",
    "        if l not in unique_users_weekly_freq:\n",
    "            unique_users_weekly_freq[l] = 1\n",
    "        else:\n",
    "            unique_users_weekly_freq[l] +=1\n",
    "    \n",
    "            \n",
    "    "
   ]
  },
  {
   "cell_type": "code",
   "execution_count": null,
   "id": "480ef394",
   "metadata": {},
   "outputs": [],
   "source": [
    "# What does the daily user activity look like?\n",
    "indices = [x for x in unique_users_daily_freq.keys()]\n",
    "values = [x for x in unique_users_daily_freq.values()]\n",
    "\n",
    "fig = go.Figure()\n",
    "\n",
    "# Add traces\n",
    "fig.add_trace(go.Scatter(x = indices, y = values,\n",
    "                         mode = 'lines+markers'\n",
    "                         )\n",
    "\n",
    ")\n",
    "\n",
    "fig.show()\n"
   ]
  },
  {
   "cell_type": "code",
   "execution_count": null,
   "id": "05a681f3",
   "metadata": {},
   "outputs": [],
   "source": [
    "# What does the hourly user activity look like?\n",
    "indices = [x for x in unique_users_hourly_freq.keys()]\n",
    "values = [x for x in unique_users_hourly_freq.values()]\n",
    "\n",
    "fig = go.Figure()\n",
    "\n",
    "# Add traces\n",
    "fig.add_trace(go.Scatter(x = indices, y = values,\n",
    "                         mode = 'markers'\n",
    "                         )\n",
    "\n",
    ")\n",
    "\n",
    "fig.show()"
   ]
  },
  {
   "cell_type": "code",
   "execution_count": null,
   "id": "6635bea8",
   "metadata": {},
   "outputs": [],
   "source": [
    "# What does the weekly user activity look like?\n",
    "indices = [x for x in unique_users_weekly_freq.keys()]\n",
    "values = [x for x in unique_users_weekly_freq.values()]\n",
    "\n",
    "fig = go.Figure()\n",
    "\n",
    "# Add traces\n",
    "fig.add_trace(go.Scatter(x = indices, y = values,\n",
    "                         mode = 'lines+markers'\n",
    "                         )\n",
    "\n",
    ")\n",
    "\n",
    "fig.show()"
   ]
  },
  {
   "cell_type": "code",
   "execution_count": null,
   "metadata": {},
   "outputs": [],
   "source": [
    "# What does the weekly user activity look like?\n",
    "indices = [x for x in unique_users_dayofweek_freq.keys()]\n",
    "values = [x for x in unique_users_dayofweek_freq.values()]\n",
    "\n",
    "fig = go.Figure()\n",
    "\n",
    "# Add traces\n",
    "fig.add_trace(go.Scatter(x = indices, y = values,\n",
    "                         mode = 'markers'\n",
    "                         )\n",
    "\n",
    ")\n",
    "\n",
    "fig.show()"
   ]
  },
  {
   "cell_type": "markdown",
   "id": "b267f604",
   "metadata": {},
   "source": [
    "What is the distribution of topics people view?"
   ]
  },
  {
   "cell_type": "code",
   "execution_count": null,
   "id": "d2dbd159",
   "metadata": {},
   "outputs": [],
   "source": [
    "# Let's get unique_user_ids topics\n",
    "\n",
    "## Get all unique ids in a list\n",
    "\n",
    "unique_user_ids = df['user_id'].values[0:1000]\n",
    "\n",
    "# Create dictionaries\n",
    "unique_users_topics_freq= {}\n",
    "unique_topic_scroll_freq = {}\n",
    "unique_topic_read_freq = {}\n",
    "\n",
    "for id in unique_user_ids:\n",
    "    # Get the subset of that user id\n",
    "    tmp_df = df[df['user_id'] == id]\n",
    "\n",
    "    # Now lets go through each topic\n",
    "    indices = np.array(tmp_df.index)\n",
    "    for i in indices:\n",
    "        tmp_topics = tmp_df['topics'][i]\n",
    "        tmp_scroll = tmp_df['scroll_percentage'][i]\n",
    "        tmp_read = tmp_df['read_time'][i]\n",
    "\n",
    "        topics = [x for x in tmp_topics]\n",
    "        scroll = [tmp_scroll]\n",
    "        read = [tmp_read]\n",
    "\n",
    "            \n",
    "    # Find the average scroll percentages across each topic  (Can be related to whether a topic doesnt require too much reading has visualizations)\n",
    "\n",
    "    ## Group by user ID\n",
    "    ### Look at article_id for whichever topics the article is included in add that readtime and scroll percentage\n",
    "        tmp_dict = {k:v for k,v in zip(topics, scroll)}\n",
    "\n",
    "        for k,v in zip(tmp_dict.keys(), tmp_dict.values()):\n",
    "\n",
    "            if (k in unique_topic_scroll_freq.keys()):\n",
    "                tmp_array= np.append(unique_topic_scroll_freq[k],v)\n",
    "                unique_topic_scroll_freq[k] = tmp_array\n",
    "            if (k not in unique_topic_scroll_freq.keys()):\n",
    "                unique_topic_scroll_freq[k] = []\n",
    "\n",
    "    # Find the average read time across each topic\n",
    "    ## Group by user ID\n",
    "    ### Look at article_id for whichever topics the article is included in add that readtime and scroll percentage\n",
    "        tmp_dict = {k:v for k,v in zip(topics, read)}\n",
    "\n",
    "        for k,v in zip(tmp_dict.keys(), tmp_dict.values()):\n",
    "\n",
    "            if (k in unique_topic_read_freq.keys()):\n",
    "                tmp_array= np.append(unique_topic_read_freq[k],v)\n",
    "                unique_topic_read_freq[k] = tmp_array\n",
    "            if (k not in unique_topic_read_freq.keys()):\n",
    "                unique_topic_read_freq[k] = []\n",
    "\n",
    "    \n",
    "    ## Unique User Topics\n",
    "    # Get rid of duplicate values\n",
    "    unique_topics = list(set(topics))\n",
    "\n",
    "    \n",
    "    # Populate our dict\n",
    "    for i in unique_topics:\n",
    "        \n",
    "        if i not in unique_users_topics_freq:\n",
    "            unique_users_topics_freq[i] = 1\n",
    "        else:\n",
    "            unique_users_topics_freq[i] +=1\n",
    "\n"
   ]
  },
  {
   "cell_type": "code",
   "execution_count": null,
   "id": "72a26ee9",
   "metadata": {},
   "outputs": [],
   "source": [
    "# What does the distribution of topics look like lets sort it?\n",
    "sorted_topic_freq = dict(sorted(unique_users_topics_freq.items(), key = lambda x: x[1], reverse = True))\n",
    "\n",
    "\n",
    "indices = [x for x in sorted_topic_freq.keys()]\n",
    "values = [x for x in sorted_topic_freq.values()]\n",
    "\n",
    "fig = go.Figure()\n",
    "\n",
    "# Add traces\n",
    "fig.add_trace(go.Bar(x = indices, y = values,\n",
    "                         \n",
    "                         )\n",
    "\n",
    ")\n",
    "\n",
    "fig.update_traces(texttemplate='%{text:.2s}', textposition='outside')\n",
    "fig.update_layout(uniformtext_minsize=8, uniformtext_mode='hide')\n",
    "\n",
    "fig.show()"
   ]
  },
  {
   "cell_type": "code",
   "execution_count": null,
   "id": "0e828696",
   "metadata": {},
   "outputs": [],
   "source": [
    "# Find the average scroll percentages across each topic\n",
    "\n",
    "# Get the average scroll length for each article\n",
    "for k,v in zip(unique_topic_scroll_freq.keys(), unique_topic_scroll_freq.values()):\n",
    "    unique_topic_scroll_freq[k] = np.nanmean(v)\n",
    "\n",
    "sorted_unique_topic_scroll_freq = dict(sorted(unique_topic_scroll_freq.items(), key = lambda x: x[1], reverse = True))\n",
    "\n",
    "\n",
    "indices = [x for x in sorted_unique_topic_scroll_freq . keys()]\n",
    "values = [x for x in sorted_unique_topic_scroll_freq.values()]\n",
    "\n",
    "fig = go.Figure()\n",
    "\n",
    "# Add traces\n",
    "fig.add_trace(go.Bar(x = indices, y = values,\n",
    "                         \n",
    "                         )\n",
    "\n",
    ")\n",
    "\n",
    "fig.update_traces(texttemplate='%{text:.2s}', textposition='outside')\n",
    "fig.update_layout(uniformtext_minsize=8, uniformtext_mode='hide')\n",
    "\n",
    "fig.show()"
   ]
  },
  {
   "cell_type": "code",
   "execution_count": null,
   "id": "e3c0089f",
   "metadata": {},
   "outputs": [],
   "source": [
    "# Find the average read times across each topic\n",
    "\n",
    "# Get the average scroll length for each article\n",
    "for k,v in zip(unique_topic_read_freq.keys(), unique_topic_read_freq.values()):\n",
    "    unique_topic_read_freq[k] = np.nanmean(v)\n",
    "\n",
    "sorted_unique_topic_read_freq = dict(sorted(unique_topic_read_freq.items(), key = lambda x: x[1], reverse = True))\n",
    "\n",
    "\n",
    "indices = [x for x in sorted_unique_topic_read_freq . keys()]\n",
    "values = [x for x in sorted_unique_topic_read_freq.values()]\n",
    "\n",
    "fig = go.Figure()\n",
    "\n",
    "# Add traces\n",
    "fig.add_trace(go.Bar(x = indices, y = values,\n",
    "                         \n",
    "                         )\n",
    "\n",
    ")\n",
    "\n",
    "fig.update_traces(texttemplate='%{text:.2s}', textposition='outside')\n",
    "fig.update_layout(uniformtext_minsize=8, uniformtext_mode='hide')\n",
    "\n",
    "fig.show()"
   ]
  },
  {
   "cell_type": "code",
   "execution_count": null,
   "id": "3b70ed78",
   "metadata": {},
   "outputs": [],
   "source": [
    "# Distribution of users "
   ]
  },
  {
   "cell_type": "code",
   "execution_count": null,
   "id": "03d400e7",
   "metadata": {},
   "outputs": [],
   "source": [
    "# Average scroll time across each user\n",
    "df.groupby(by =  'user_id')['scroll_percentage'].mean()"
   ]
  },
  {
   "cell_type": "code",
   "execution_count": null,
   "id": "fc8a48f2",
   "metadata": {},
   "outputs": [],
   "source": [
    "## Average readtime per user\n",
    "df.groupby(by =  'user_id')['read_time'].mean()"
   ]
  },
  {
   "cell_type": "code",
   "execution_count": null,
   "id": "af644351",
   "metadata": {},
   "outputs": [],
   "source": [
    "# For each session, what was the average readtime \n",
    "\n",
    "# Distribution blot histogram (bin it)\n",
    "df.groupby(by= 'session_id')['read_time'].mean()\n",
    "    "
   ]
  },
  {
   "cell_type": "code",
   "execution_count": null,
   "id": "5fba3670",
   "metadata": {},
   "outputs": [],
   "source": [
    "# For each session, what was the average scroll time\n",
    "\n",
    "# Distribution blot histogram (bin it)\n",
    "df.groupby(by= 'session_id')['scroll_percentage'].mean()"
   ]
  },
  {
   "cell_type": "code",
   "execution_count": null,
   "id": "5eeca6e0",
   "metadata": {},
   "outputs": [],
   "source": [
    "## For each article, what was each users scroll percentage + read time? \n",
    "\n",
    "\n",
    "## Get all unique ids in a list\n",
    "\n",
    "unique_user_ids = df['user_id'].values[0:1000]\n",
    "\n",
    "## We take the set because the scroll, article per user is joined in a list for every user id (so just take the set of it!)\n",
    "unique_user_ids = set(unique_user_ids)\n",
    "\n",
    "\n",
    "unique_article_ids = df['article_id'].unique()\n",
    "unique_article_ids= unique_article_ids[~np.isnan(unique_article_ids)]\n",
    "\n",
    "# Create dictionaries\n",
    "\n",
    "unique_article_scroll = {k: [0] for k in unique_article_ids}\n",
    "\n",
    "for id in unique_user_ids:\n",
    "    # Get the subset of that user id\n",
    "    tmp_df = df[df['user_id'] == id]\n",
    "\n",
    "    # Now lets go through each scroll and article\n",
    "    ## Iterate through each of the df\n",
    "    indices = np.array(tmp_df.index)\n",
    "    for i in indices:\n",
    "        tmp_dict = {}\n",
    "        # Select the scroll / article of that indice and \n",
    "        tmp_scroll = tmp_df['scroll_percentage_fixed'][i]\n",
    "\n",
    "        tmp_article = tmp_df['article_id_fixed'][i]\n",
    "\n",
    "        scroll = [x for x in tmp_scroll]\n",
    "        \n",
    "        articles = [np.int64(x) for x in tmp_article]\n",
    "    \n",
    "        tmp_dict = {k:v for k,v in zip(articles, scroll)}\n",
    "\n",
    "\n",
    "        for k,v in zip(tmp_dict.keys(), tmp_dict.values()):\n",
    "\n",
    "            if (k in unique_article_scroll.keys()) & (np.isnan(v) == False):\n",
    "                tmp_array= np.append(unique_article_scroll[k],v)\n",
    "                unique_article_scroll[k] = tmp_array\n",
    "        \n",
    "    \n",
    "# Get the average scroll length for each article\n",
    "for k,v in zip(unique_article_scroll.keys(), unique_article_scroll.values()):\n",
    "    unique_article_scroll[k] = np.mean(v)\n",
    "\n",
    "\n",
    "\n",
    "# What does the hourly user activity look like?\n",
    "indices = [x for x in unique_article_scroll.keys()]\n",
    "values = [x for x in unique_article_scroll.values()]\n",
    "\n",
    "fig = go.Figure()\n",
    "\n",
    "# Add traces\n",
    "fig.add_trace(go.Scatter(x = indices, y = values,\n",
    "                         mode = 'markers'\n",
    "                         )\n",
    "\n",
    ")\n",
    "\n",
    "fig.show()\n"
   ]
  },
  {
   "cell_type": "markdown",
   "id": "6f1df01c",
   "metadata": {},
   "source": []
  },
  {
   "cell_type": "code",
   "execution_count": null,
   "id": "7849464a",
   "metadata": {},
   "outputs": [],
   "source": [
    "## For each article, what was each users read time\n",
    "\n",
    "\n",
    "## Get all unique ids in a list\n",
    "\n",
    "unique_user_ids = df['user_id'].values[0:1000]\n",
    "\n",
    "## We take the set because the scroll, article per user is joined in a list for every user id (so just take the set of it!)\n",
    "unique_user_ids = set(unique_user_ids)\n",
    "\n",
    "\n",
    "unique_article_ids = df['article_id'].unique()\n",
    "unique_article_ids= unique_article_ids[~np.isnan(unique_article_ids)]\n",
    "\n",
    "\n",
    "# Create dictionaries\n",
    "\n",
    "unique_article_read = {k: [0] for k in unique_article_ids}\n",
    "\n",
    "for id in unique_user_ids:\n",
    "    # Get the subset of that user id\n",
    "    tmp_df = df[df['user_id'] == id]\n",
    "\n",
    "    # Now lets go through each scroll and article\n",
    "    ## Iterate through each of the df\n",
    "    indices = np.array(tmp_df.index)\n",
    "    for i in indices:\n",
    "        tmp_dict = {}\n",
    "        # Select the scroll / article of that indice and \n",
    "        tmp_read = tmp_df['read_time_fixed'][i]\n",
    "\n",
    "        tmp_article = tmp_df['article_id_fixed'][i]\n",
    "\n",
    "        read = [x for x in tmp_read]\n",
    "        \n",
    "        articles = [np.int64(x) for x in tmp_article]\n",
    "    \n",
    "        tmp_dict = {k:v for k,v in zip(articles, read)}\n",
    "\n",
    "\n",
    "        for k,v in zip(tmp_dict.keys(), tmp_dict.values()):\n",
    "\n",
    "            #if unique_article_scroll.get(k) != None:\n",
    "            #    unique_article_scroll[k] += v\n",
    "            if (k in unique_article_read.keys()) & (np.isnan(v) == False):\n",
    "                tmp_array= np.append(unique_article_read[k],v)\n",
    "                unique_article_read[k] = tmp_array\n",
    "        \n",
    "    \n",
    "    # Get the average scroll length for each article\n",
    "    for k,v in zip(unique_article_read.keys(), unique_article_read.values()):\n",
    "        unique_article_read[k] = np.mean(v)\n",
    "\n",
    "\n",
    "\n",
    "# What does the hourly user activity look like?\n",
    "indices = [x for x in unique_article_read.keys()]\n",
    "values = [x for x in unique_article_read.values()]\n",
    "\n",
    "fig = go.Figure()\n",
    "\n",
    "# Add traces\n",
    "fig.add_trace(go.Scatter(x = indices, y = values,\n",
    "                         mode = 'markers'\n",
    "                         )\n",
    "\n",
    ")\n",
    "\n",
    "fig.show()\n"
   ]
  },
  {
   "cell_type": "markdown",
   "id": "e0e4503e",
   "metadata": {},
   "source": [
    "# Devices"
   ]
  },
  {
   "cell_type": "code",
   "execution_count": null,
   "id": "2dec3192",
   "metadata": {},
   "outputs": [],
   "source": [
    "# Overall distribtuion of devices\n",
    "\n",
    "df['device_type'].value_counts()"
   ]
  },
  {
   "cell_type": "markdown",
   "id": "b9dffc83",
   "metadata": {},
   "source": [
    "### Readtime per device"
   ]
  },
  {
   "cell_type": "code",
   "execution_count": null,
   "id": "dc390dc9",
   "metadata": {},
   "outputs": [],
   "source": [
    "# Readtime per device\n",
    "\n",
    "## Get indices with different devices \n",
    "### Color based on label\n",
    "#### Histogram -> Bar graph for avg?\n",
    "\n",
    "device_1 = df[df['device_type'] == 1]['read_time']\n",
    "device_2 = df[df['device_type'] == 2]['read_time']\n",
    "device_3 = df[df['device_type'] == 3]['read_time']\n",
    "\n",
    "\n",
    "fig = go.Figure()\n",
    "fig.add_trace(go.Histogram(x=device_1))\n",
    "fig.add_trace(go.Histogram(x=device_2))\n",
    "fig.add_trace(go.Histogram(x=device_3))\n",
    "\n",
    "# Overlay both histograms\n",
    "fig.update_layout(barmode='overlay')\n",
    "# Reduce opacity to see both histograms\n",
    "fig.update_traces(opacity=0.55)\n",
    "fig.show()\n"
   ]
  },
  {
   "cell_type": "code",
   "execution_count": null,
   "id": "1f164a95",
   "metadata": {},
   "outputs": [],
   "source": [
    "# Average readtime per device\n",
    "\n",
    "## Get indices with different devices \n",
    "### Color based on label\n",
    "#### Histogram -> Bar graph for avg?\n",
    "\n",
    "device_1 = df[df['device_type'] == 1]['read_time']\n",
    "device_2 = df[df['device_type'] == 2]['read_time']\n",
    "device_3 = df[df['device_type'] == 3]['read_time']\n",
    "\n",
    "avg_readtime_device = [device_1.mean(), device_2.mean(), device_3.mean()]\n",
    "devices = ['Device 1', 'Device 2', 'Device 3']\n",
    "\n",
    "fig = go.Figure()\n",
    "fig.add_trace(go.Bar(x=devices, y = avg_readtime_device, textfont_size=20))\n",
    "\n",
    "# Overlay both histograms\n",
    "#fig.update_layout(barmode='overlay')\n",
    "# Reduce opacity to see both histograms\n",
    "fig.update_traces(opacity=0.75)\n",
    "fig.show()"
   ]
  },
  {
   "cell_type": "markdown",
   "id": "d55e86ec",
   "metadata": {},
   "source": [
    "### Scroll time per device"
   ]
  },
  {
   "cell_type": "code",
   "execution_count": null,
   "id": "0472abaf",
   "metadata": {},
   "outputs": [],
   "source": [
    "# Scroll pct per device (scatter plot probably better)\n",
    "\n",
    "## Get indices with different devices \n",
    "### Color based on label\n",
    "#### Histogram -> Bar graph for avg?\n",
    "\n",
    "device_1 = df[(df['device_type'] == 1)]['scroll_percentage']\n",
    "device_2 = df[df['device_type'] == 2]['scroll_percentage']\n",
    "device_3 = df[df['device_type'] == 3]['scroll_percentage']\n",
    "\n",
    "\n",
    "fig = go.Figure()\n",
    "fig.add_trace(go.Histogram(x=device_1))\n",
    "fig.add_trace(go.Histogram(x=device_2))\n",
    "fig.add_trace(go.Histogram(x=device_3))\n",
    "\n",
    "# Overlay both histograms\n",
    "fig.update_layout(barmode='overlay')\n",
    "# Reduce opacity to see both histograms\n",
    "fig.update_traces(opacity=0.55)\n",
    "fig.show()"
   ]
  },
  {
   "cell_type": "code",
   "execution_count": null,
   "id": "ba243c20",
   "metadata": {},
   "outputs": [],
   "source": [
    "# Average readtime per device\n",
    "\n",
    "## Get indices with different devices \n",
    "### Color based on label\n",
    "#### Histogram -> Bar graph for avg?\n",
    "\n",
    "device_1 = df[df['device_type'] == 1]['scroll_percentage']\n",
    "device_2 = df[df['device_type'] == 2]['scroll_percentage']\n",
    "device_3 = df[df['device_type'] == 3]['scroll_percentage']\n",
    "\n",
    "avg_scrollpct_device = [device_1.mean(), device_2.mean(), device_3.mean()]\n",
    "devices = ['Device 1', 'Device 2', 'Device 3']\n",
    "\n",
    "fig = go.Figure()\n",
    "fig.add_trace(go.Bar(x=devices, y = avg_scrollpct_device, textfont_size=20))\n",
    "\n",
    "# Overlay both histograms\n",
    "#fig.update_layout(barmode='overlay')\n",
    "# Reduce opacity to see both histograms\n",
    "fig.update_traces(opacity=0.75)\n",
    "fig.show()"
   ]
  },
  {
   "cell_type": "markdown",
   "id": "c37b7ff5",
   "metadata": {},
   "source": [
    "# If subscriber"
   ]
  },
  {
   "cell_type": "code",
   "execution_count": 86,
   "id": "620f06b0",
   "metadata": {},
   "outputs": [
    {
     "data": {
      "text/plain": [
       "True     1696\n",
       "False     753\n",
       "Name: is_subscriber, dtype: int64"
      ]
     },
     "execution_count": 86,
     "metadata": {},
     "output_type": "execute_result"
    }
   ],
   "source": [
    "df['is_subscriber'].value_counts()"
   ]
  },
  {
   "cell_type": "markdown",
   "id": "76723f43",
   "metadata": {},
   "source": [
    "### Read time for subscriber vs non-subscribers"
   ]
  },
  {
   "cell_type": "code",
   "execution_count": null,
   "id": "34d6662a",
   "metadata": {},
   "outputs": [],
   "source": [
    "# Distribution paid subscribers\n",
    "\n",
    "#### Histogram -> Bar graph for avg?\n",
    "\n",
    "subscriber= df[df['is_subscriber'] == True]['read_time']\n",
    "not_subscriber = df[df['is_subscriber'] == False]['read_time']\n",
    "\n",
    "fig = go.Figure()\n",
    "fig.add_trace(go.Histogram(x=subscriber))\n",
    "fig.add_trace(go.Histogram(x=not_subscriber))\n",
    "\n",
    "# Overlay both histograms\n",
    "fig.update_layout(barmode='overlay')\n",
    "# Reduce opacity to see both histograms\n",
    "fig.update_traces(opacity=0.75)\n",
    "fig.show()"
   ]
  },
  {
   "cell_type": "code",
   "execution_count": null,
   "id": "9dc1a544",
   "metadata": {},
   "outputs": [],
   "source": [
    "# Average readtime per device\n",
    "\n",
    "## Get indices with different devices \n",
    "### Color based on label\n",
    "#### Histogram -> Bar graph for avg?\n",
    "\n",
    "subscriber= df[df['is_subscriber'] == True]['read_time']\n",
    "not_subscriber = df[df['is_subscriber'] == False]['read_time']\n",
    "\n",
    "avg_readtime_is_subscriber= [subscriber.mean(), not_subscriber.mean()]\n",
    "is_subscriber = ['Yes', 'No']\n",
    "\n",
    "fig = go.Figure()\n",
    "fig.add_trace(go.Bar(x=is_subscriber, y = avg_readtime_is_subscriber, textfont_size=20))\n",
    "\n",
    "# Overlay both histograms\n",
    "#fig.update_layout(barmode='overlay')\n",
    "# Reduce opacity to see both histograms\n",
    "fig.update_traces(opacity=0.75)\n",
    "fig.show()"
   ]
  },
  {
   "cell_type": "markdown",
   "id": "47680f96",
   "metadata": {},
   "source": [
    "### Scroll percentage if subscriber"
   ]
  },
  {
   "cell_type": "code",
   "execution_count": null,
   "id": "b401d57b",
   "metadata": {},
   "outputs": [],
   "source": [
    "# Distribution paid subscribers\n",
    "\n",
    "#### Histogram -> Bar graph for avg?\n",
    "\n",
    "subscriber= df[df['is_subscriber'] == True]['scroll_percentage']\n",
    "not_subscriber = df[df['is_subscriber'] == False]['scroll_percentage']\n",
    "\n",
    "fig = go.Figure()\n",
    "fig.add_trace(go.Histogram(x=subscriber))\n",
    "fig.add_trace(go.Histogram(x=not_subscriber))\n",
    "\n",
    "# Overlay both histograms\n",
    "fig.update_layout(barmode='overlay')\n",
    "# Reduce opacity to see both histograms\n",
    "fig.update_traces(opacity=0.75)\n",
    "fig.show()"
   ]
  },
  {
   "cell_type": "code",
   "execution_count": null,
   "id": "8b19ce56",
   "metadata": {},
   "outputs": [],
   "source": [
    "# Average readtime per device\n",
    "\n",
    "## Get indices with different devices \n",
    "### Color based on label\n",
    "#### Histogram -> Bar graph for avg?\n",
    "\n",
    "subscriber= df[df['is_subscriber'] == True]['scroll_percentage']\n",
    "not_subscriber = df[df['is_subscriber'] == False]['scroll_percentage']\n",
    "\n",
    "avg_scrollpct_is_subscriber= [subscriber.mean(), not_subscriber.mean()]\n",
    "is_subscriber = ['Yes', 'No']\n",
    "\n",
    "fig = go.Figure()\n",
    "fig.add_trace(go.Bar(x=is_subscriber, y = avg_scrollpct_is_subscriber, textfont_size=20))\n",
    "\n",
    "# Overlay both histograms\n",
    "#fig.update_layout(barmode='overlay')\n",
    "# Reduce opacity to see both histograms\n",
    "fig.update_traces(opacity=0.75)\n",
    "fig.show()"
   ]
  },
  {
   "cell_type": "markdown",
   "id": "6469168b",
   "metadata": {},
   "source": [
    "# Gender"
   ]
  },
  {
   "cell_type": "code",
   "execution_count": null,
   "id": "dc8dcdbd",
   "metadata": {},
   "outputs": [],
   "source": [
    "# Distribution of Genders\n",
    "df['gender'].value_counts()\n",
    "\n",
    "# Gender specific topic \n",
    "\n",
    "# Gender readtime / scroll"
   ]
  },
  {
   "cell_type": "markdown",
   "id": "e9e0c923",
   "metadata": {},
   "source": [
    "### Read time per gender"
   ]
  },
  {
   "cell_type": "code",
   "execution_count": null,
   "id": "d7bf905d",
   "metadata": {},
   "outputs": [],
   "source": [
    "# Readtime per gender\n",
    "\n",
    "male = df[df['gender'] == 0]['read_time']\n",
    "female = df[df['gender'] == 1]['read_time']\n",
    "\n",
    "fig = go.Figure()\n",
    "fig.add_trace(go.Histogram(x=male))\n",
    "fig.add_trace(go.Histogram(x=female))\n",
    "\n",
    "# Overlay both histograms\n",
    "fig.update_layout(barmode='overlay')\n",
    "# Reduce opacity to see both histograms\n",
    "fig.update_traces(opacity=0.75)\n",
    "fig.show()"
   ]
  },
  {
   "cell_type": "code",
   "execution_count": null,
   "id": "903f4d43",
   "metadata": {},
   "outputs": [],
   "source": [
    "# Average readtime per device\n",
    "\n",
    "## Get indices with different devices \n",
    "### Color based on label\n",
    "#### Histogram -> Bar graph for avg?\n",
    "\n",
    "male = df[df['gender'] == 0]['read_time']\n",
    "female = df[df['gender'] == 1]['read_time']\n",
    "\n",
    "avg_readtime_gender= [male.mean(), female.mean()]\n",
    "gender = ['Male', 'Female']\n",
    "\n",
    "fig = go.Figure()\n",
    "fig.add_trace(go.Bar(x=gender, y = avg_readtime_gender, textfont_size=20))\n",
    "\n",
    "# Overlay both histograms\n",
    "#fig.update_layout(barmode='overlay')\n",
    "# Reduce opacity to see both histograms\n",
    "fig.update_traces(opacity=0.75)\n",
    "fig.show()"
   ]
  },
  {
   "cell_type": "markdown",
   "id": "9cdd149a",
   "metadata": {},
   "source": [
    "Scrolltime per gender"
   ]
  },
  {
   "cell_type": "code",
   "execution_count": null,
   "id": "7e2bf15d",
   "metadata": {},
   "outputs": [],
   "source": [
    "# Scroll pct per gender\n",
    "male = df[df['gender'] == 0]['scroll_percentage']\n",
    "female = df[df['gender'] == 1]['scroll_percentage']\n",
    "\n",
    "fig = go.Figure()\n",
    "fig.add_trace(go.Histogram(x=male))\n",
    "fig.add_trace(go.Histogram(x=female))\n",
    "\n",
    "# Overlay both histograms\n",
    "fig.update_layout(barmode='overlay')\n",
    "# Reduce opacity to see both histograms\n",
    "fig.update_traces(opacity=0.75)\n",
    "fig.show()"
   ]
  },
  {
   "cell_type": "code",
   "execution_count": null,
   "id": "669aa3bf",
   "metadata": {},
   "outputs": [],
   "source": [
    "male = df[df['gender'] == 0]['scroll_percentage']\n",
    "female = df[df['gender'] == 1]['scroll_percentage']\n",
    "\n",
    "avg_scrollpct_gender= [male.mean(), female.mean()]\n",
    "gender = ['Male', 'Female']\n",
    "\n",
    "fig = go.Figure()\n",
    "fig.add_trace(go.Bar(x=gender, y = avg_scrollpct_gender, textfont_size=20))\n",
    "\n",
    "# Overlay both histograms\n",
    "fig.update_layout(barmode='overlay')\n",
    "# Reduce opacity to see both histograms\n",
    "fig.update_traces(opacity=0.75)\n",
    "fig.show()"
   ]
  },
  {
   "cell_type": "markdown",
   "id": "03e32b90",
   "metadata": {},
   "source": [
    "# Age"
   ]
  },
  {
   "cell_type": "markdown",
   "id": "558c5c75",
   "metadata": {},
   "source": [
    "### Age Distribution"
   ]
  },
  {
   "cell_type": "code",
   "execution_count": 89,
   "id": "e6ab71ed",
   "metadata": {},
   "outputs": [
    {
     "data": {
      "text/plain": [
       "50.0    695\n",
       "60.0    644\n",
       "70.0    596\n",
       "40.0    248\n",
       "30.0     97\n",
       "80.0     95\n",
       "90.0     43\n",
       "20.0     31\n",
       "Name: age, dtype: int64"
      ]
     },
     "execution_count": 89,
     "metadata": {},
     "output_type": "execute_result"
    }
   ],
   "source": [
    "df['age'].value_counts()\n",
    "\n",
    "indices = df['age'].value_counts().sort_index().index\n",
    "values = df['age'].value_counts().sort_index().values"
   ]
  },
  {
   "cell_type": "markdown",
   "id": "c42d84e0",
   "metadata": {},
   "source": [
    "#### Average readtime per age group"
   ]
  },
  {
   "cell_type": "code",
   "execution_count": null,
   "id": "7c47f430",
   "metadata": {},
   "outputs": [],
   "source": [
    "# Age readtime/scroll\n",
    "## Binned by 10-19, 20-29, etc\n",
    "\n",
    "indices = df['age'].value_counts().sort_index().index\n",
    "values = df['age'].value_counts().sort_index().values\n",
    "\n",
    "\n",
    "\n",
    "# Create graph object\n",
    "fig = go.Figure()\n",
    "\n",
    "# for each age group add a readtime \n",
    "for age in indices:\n",
    "    read_time = df[df['age'] == age]['read_time']\n",
    "    fig.add_trace(go.Histogram(x=read_time))\n",
    "\n",
    "\n",
    "fig.update_layout(barmode='overlay')\n",
    "fig.update_traces(opacity=0.75)\n",
    "fig.show()\n"
   ]
  },
  {
   "cell_type": "code",
   "execution_count": null,
   "id": "206b6214",
   "metadata": {},
   "outputs": [],
   "source": [
    "# Average read time\n",
    "## Binned by 10-19, 20-29, etc\n",
    "\n",
    "indices = df['age'].value_counts().sort_index().index\n",
    "values = df['age'].value_counts().sort_index().values\n",
    "\n",
    "\n",
    "# Create graph object\n",
    "fig = go.Figure()\n",
    "\n",
    "# for each age group add a readtime \n",
    "for age in indices:\n",
    "    avg_read_time = df[df['age'] == age]['read_time'].mean()\n",
    "    fig.add_trace(go.Bar(x=[age], y = [avg_read_time], textfont_size=20))\n",
    "\n",
    "\n",
    "fig.show()"
   ]
  },
  {
   "cell_type": "markdown",
   "id": "c3883ce0",
   "metadata": {},
   "source": [
    "Average Scroll PCt per age group"
   ]
  },
  {
   "cell_type": "code",
   "execution_count": null,
   "id": "06d988f1",
   "metadata": {},
   "outputs": [],
   "source": [
    "indices = df['age'].value_counts().sort_index().index\n",
    "values = df['age'].value_counts().sort_index().values\n",
    "\n",
    "# Create graph object\n",
    "fig = go.Figure()\n",
    "\n",
    "# for each age group add a readtime \n",
    "for age in indices:\n",
    "    scroll_pct = df[df['age'] == age]['scroll_percentage']\n",
    "    fig.add_trace(go.Histogram(x=scroll_pct))\n",
    "\n",
    "\n",
    "fig.update_layout(barmode='overlay')\n",
    "fig.update_traces(opacity=0.75)\n",
    "fig.show()"
   ]
  },
  {
   "cell_type": "code",
   "execution_count": 124,
   "id": "8748e792",
   "metadata": {},
   "outputs": [
    {
     "data": {
      "application/vnd.plotly.v1+json": {
       "config": {
        "plotlyServerURL": "https://plot.ly"
       },
       "data": [
        {
         "textfont": {
          "size": 20
         },
         "type": "bar",
         "x": [
          20
         ],
         "y": [
          100
         ]
        },
        {
         "textfont": {
          "size": 20
         },
         "type": "bar",
         "x": [
          30
         ],
         "y": [
          99.16841888427734
         ]
        },
        {
         "textfont": {
          "size": 20
         },
         "type": "bar",
         "x": [
          40
         ],
         "y": [
          98.53909301757812
         ]
        },
        {
         "textfont": {
          "size": 20
         },
         "type": "bar",
         "x": [
          50
         ],
         "y": [
          99.4506607055664
         ]
        },
        {
         "textfont": {
          "size": 20
         },
         "type": "bar",
         "x": [
          60
         ],
         "y": [
          99.66295623779297
         ]
        },
        {
         "textfont": {
          "size": 20
         },
         "type": "bar",
         "x": [
          70
         ],
         "y": [
          99.80345153808594
         ]
        },
        {
         "textfont": {
          "size": 20
         },
         "type": "bar",
         "x": [
          80
         ],
         "y": [
          97.59574127197266
         ]
        },
        {
         "textfont": {
          "size": 20
         },
         "type": "bar",
         "x": [
          90
         ],
         "y": [
          100
         ]
        }
       ],
       "layout": {
        "template": {
         "data": {
          "bar": [
           {
            "error_x": {
             "color": "#2a3f5f"
            },
            "error_y": {
             "color": "#2a3f5f"
            },
            "marker": {
             "line": {
              "color": "#E5ECF6",
              "width": 0.5
             },
             "pattern": {
              "fillmode": "overlay",
              "size": 10,
              "solidity": 0.2
             }
            },
            "type": "bar"
           }
          ],
          "barpolar": [
           {
            "marker": {
             "line": {
              "color": "#E5ECF6",
              "width": 0.5
             },
             "pattern": {
              "fillmode": "overlay",
              "size": 10,
              "solidity": 0.2
             }
            },
            "type": "barpolar"
           }
          ],
          "carpet": [
           {
            "aaxis": {
             "endlinecolor": "#2a3f5f",
             "gridcolor": "white",
             "linecolor": "white",
             "minorgridcolor": "white",
             "startlinecolor": "#2a3f5f"
            },
            "baxis": {
             "endlinecolor": "#2a3f5f",
             "gridcolor": "white",
             "linecolor": "white",
             "minorgridcolor": "white",
             "startlinecolor": "#2a3f5f"
            },
            "type": "carpet"
           }
          ],
          "choropleth": [
           {
            "colorbar": {
             "outlinewidth": 0,
             "ticks": ""
            },
            "type": "choropleth"
           }
          ],
          "contour": [
           {
            "colorbar": {
             "outlinewidth": 0,
             "ticks": ""
            },
            "colorscale": [
             [
              0,
              "#0d0887"
             ],
             [
              0.1111111111111111,
              "#46039f"
             ],
             [
              0.2222222222222222,
              "#7201a8"
             ],
             [
              0.3333333333333333,
              "#9c179e"
             ],
             [
              0.4444444444444444,
              "#bd3786"
             ],
             [
              0.5555555555555556,
              "#d8576b"
             ],
             [
              0.6666666666666666,
              "#ed7953"
             ],
             [
              0.7777777777777778,
              "#fb9f3a"
             ],
             [
              0.8888888888888888,
              "#fdca26"
             ],
             [
              1,
              "#f0f921"
             ]
            ],
            "type": "contour"
           }
          ],
          "contourcarpet": [
           {
            "colorbar": {
             "outlinewidth": 0,
             "ticks": ""
            },
            "type": "contourcarpet"
           }
          ],
          "heatmap": [
           {
            "colorbar": {
             "outlinewidth": 0,
             "ticks": ""
            },
            "colorscale": [
             [
              0,
              "#0d0887"
             ],
             [
              0.1111111111111111,
              "#46039f"
             ],
             [
              0.2222222222222222,
              "#7201a8"
             ],
             [
              0.3333333333333333,
              "#9c179e"
             ],
             [
              0.4444444444444444,
              "#bd3786"
             ],
             [
              0.5555555555555556,
              "#d8576b"
             ],
             [
              0.6666666666666666,
              "#ed7953"
             ],
             [
              0.7777777777777778,
              "#fb9f3a"
             ],
             [
              0.8888888888888888,
              "#fdca26"
             ],
             [
              1,
              "#f0f921"
             ]
            ],
            "type": "heatmap"
           }
          ],
          "heatmapgl": [
           {
            "colorbar": {
             "outlinewidth": 0,
             "ticks": ""
            },
            "colorscale": [
             [
              0,
              "#0d0887"
             ],
             [
              0.1111111111111111,
              "#46039f"
             ],
             [
              0.2222222222222222,
              "#7201a8"
             ],
             [
              0.3333333333333333,
              "#9c179e"
             ],
             [
              0.4444444444444444,
              "#bd3786"
             ],
             [
              0.5555555555555556,
              "#d8576b"
             ],
             [
              0.6666666666666666,
              "#ed7953"
             ],
             [
              0.7777777777777778,
              "#fb9f3a"
             ],
             [
              0.8888888888888888,
              "#fdca26"
             ],
             [
              1,
              "#f0f921"
             ]
            ],
            "type": "heatmapgl"
           }
          ],
          "histogram": [
           {
            "marker": {
             "pattern": {
              "fillmode": "overlay",
              "size": 10,
              "solidity": 0.2
             }
            },
            "type": "histogram"
           }
          ],
          "histogram2d": [
           {
            "colorbar": {
             "outlinewidth": 0,
             "ticks": ""
            },
            "colorscale": [
             [
              0,
              "#0d0887"
             ],
             [
              0.1111111111111111,
              "#46039f"
             ],
             [
              0.2222222222222222,
              "#7201a8"
             ],
             [
              0.3333333333333333,
              "#9c179e"
             ],
             [
              0.4444444444444444,
              "#bd3786"
             ],
             [
              0.5555555555555556,
              "#d8576b"
             ],
             [
              0.6666666666666666,
              "#ed7953"
             ],
             [
              0.7777777777777778,
              "#fb9f3a"
             ],
             [
              0.8888888888888888,
              "#fdca26"
             ],
             [
              1,
              "#f0f921"
             ]
            ],
            "type": "histogram2d"
           }
          ],
          "histogram2dcontour": [
           {
            "colorbar": {
             "outlinewidth": 0,
             "ticks": ""
            },
            "colorscale": [
             [
              0,
              "#0d0887"
             ],
             [
              0.1111111111111111,
              "#46039f"
             ],
             [
              0.2222222222222222,
              "#7201a8"
             ],
             [
              0.3333333333333333,
              "#9c179e"
             ],
             [
              0.4444444444444444,
              "#bd3786"
             ],
             [
              0.5555555555555556,
              "#d8576b"
             ],
             [
              0.6666666666666666,
              "#ed7953"
             ],
             [
              0.7777777777777778,
              "#fb9f3a"
             ],
             [
              0.8888888888888888,
              "#fdca26"
             ],
             [
              1,
              "#f0f921"
             ]
            ],
            "type": "histogram2dcontour"
           }
          ],
          "mesh3d": [
           {
            "colorbar": {
             "outlinewidth": 0,
             "ticks": ""
            },
            "type": "mesh3d"
           }
          ],
          "parcoords": [
           {
            "line": {
             "colorbar": {
              "outlinewidth": 0,
              "ticks": ""
             }
            },
            "type": "parcoords"
           }
          ],
          "pie": [
           {
            "automargin": true,
            "type": "pie"
           }
          ],
          "scatter": [
           {
            "fillpattern": {
             "fillmode": "overlay",
             "size": 10,
             "solidity": 0.2
            },
            "type": "scatter"
           }
          ],
          "scatter3d": [
           {
            "line": {
             "colorbar": {
              "outlinewidth": 0,
              "ticks": ""
             }
            },
            "marker": {
             "colorbar": {
              "outlinewidth": 0,
              "ticks": ""
             }
            },
            "type": "scatter3d"
           }
          ],
          "scattercarpet": [
           {
            "marker": {
             "colorbar": {
              "outlinewidth": 0,
              "ticks": ""
             }
            },
            "type": "scattercarpet"
           }
          ],
          "scattergeo": [
           {
            "marker": {
             "colorbar": {
              "outlinewidth": 0,
              "ticks": ""
             }
            },
            "type": "scattergeo"
           }
          ],
          "scattergl": [
           {
            "marker": {
             "colorbar": {
              "outlinewidth": 0,
              "ticks": ""
             }
            },
            "type": "scattergl"
           }
          ],
          "scattermapbox": [
           {
            "marker": {
             "colorbar": {
              "outlinewidth": 0,
              "ticks": ""
             }
            },
            "type": "scattermapbox"
           }
          ],
          "scatterpolar": [
           {
            "marker": {
             "colorbar": {
              "outlinewidth": 0,
              "ticks": ""
             }
            },
            "type": "scatterpolar"
           }
          ],
          "scatterpolargl": [
           {
            "marker": {
             "colorbar": {
              "outlinewidth": 0,
              "ticks": ""
             }
            },
            "type": "scatterpolargl"
           }
          ],
          "scatterternary": [
           {
            "marker": {
             "colorbar": {
              "outlinewidth": 0,
              "ticks": ""
             }
            },
            "type": "scatterternary"
           }
          ],
          "surface": [
           {
            "colorbar": {
             "outlinewidth": 0,
             "ticks": ""
            },
            "colorscale": [
             [
              0,
              "#0d0887"
             ],
             [
              0.1111111111111111,
              "#46039f"
             ],
             [
              0.2222222222222222,
              "#7201a8"
             ],
             [
              0.3333333333333333,
              "#9c179e"
             ],
             [
              0.4444444444444444,
              "#bd3786"
             ],
             [
              0.5555555555555556,
              "#d8576b"
             ],
             [
              0.6666666666666666,
              "#ed7953"
             ],
             [
              0.7777777777777778,
              "#fb9f3a"
             ],
             [
              0.8888888888888888,
              "#fdca26"
             ],
             [
              1,
              "#f0f921"
             ]
            ],
            "type": "surface"
           }
          ],
          "table": [
           {
            "cells": {
             "fill": {
              "color": "#EBF0F8"
             },
             "line": {
              "color": "white"
             }
            },
            "header": {
             "fill": {
              "color": "#C8D4E3"
             },
             "line": {
              "color": "white"
             }
            },
            "type": "table"
           }
          ]
         },
         "layout": {
          "annotationdefaults": {
           "arrowcolor": "#2a3f5f",
           "arrowhead": 0,
           "arrowwidth": 1
          },
          "autotypenumbers": "strict",
          "coloraxis": {
           "colorbar": {
            "outlinewidth": 0,
            "ticks": ""
           }
          },
          "colorscale": {
           "diverging": [
            [
             0,
             "#8e0152"
            ],
            [
             0.1,
             "#c51b7d"
            ],
            [
             0.2,
             "#de77ae"
            ],
            [
             0.3,
             "#f1b6da"
            ],
            [
             0.4,
             "#fde0ef"
            ],
            [
             0.5,
             "#f7f7f7"
            ],
            [
             0.6,
             "#e6f5d0"
            ],
            [
             0.7,
             "#b8e186"
            ],
            [
             0.8,
             "#7fbc41"
            ],
            [
             0.9,
             "#4d9221"
            ],
            [
             1,
             "#276419"
            ]
           ],
           "sequential": [
            [
             0,
             "#0d0887"
            ],
            [
             0.1111111111111111,
             "#46039f"
            ],
            [
             0.2222222222222222,
             "#7201a8"
            ],
            [
             0.3333333333333333,
             "#9c179e"
            ],
            [
             0.4444444444444444,
             "#bd3786"
            ],
            [
             0.5555555555555556,
             "#d8576b"
            ],
            [
             0.6666666666666666,
             "#ed7953"
            ],
            [
             0.7777777777777778,
             "#fb9f3a"
            ],
            [
             0.8888888888888888,
             "#fdca26"
            ],
            [
             1,
             "#f0f921"
            ]
           ],
           "sequentialminus": [
            [
             0,
             "#0d0887"
            ],
            [
             0.1111111111111111,
             "#46039f"
            ],
            [
             0.2222222222222222,
             "#7201a8"
            ],
            [
             0.3333333333333333,
             "#9c179e"
            ],
            [
             0.4444444444444444,
             "#bd3786"
            ],
            [
             0.5555555555555556,
             "#d8576b"
            ],
            [
             0.6666666666666666,
             "#ed7953"
            ],
            [
             0.7777777777777778,
             "#fb9f3a"
            ],
            [
             0.8888888888888888,
             "#fdca26"
            ],
            [
             1,
             "#f0f921"
            ]
           ]
          },
          "colorway": [
           "#636efa",
           "#EF553B",
           "#00cc96",
           "#ab63fa",
           "#FFA15A",
           "#19d3f3",
           "#FF6692",
           "#B6E880",
           "#FF97FF",
           "#FECB52"
          ],
          "font": {
           "color": "#2a3f5f"
          },
          "geo": {
           "bgcolor": "white",
           "lakecolor": "white",
           "landcolor": "#E5ECF6",
           "showlakes": true,
           "showland": true,
           "subunitcolor": "white"
          },
          "hoverlabel": {
           "align": "left"
          },
          "hovermode": "closest",
          "mapbox": {
           "style": "light"
          },
          "paper_bgcolor": "white",
          "plot_bgcolor": "#E5ECF6",
          "polar": {
           "angularaxis": {
            "gridcolor": "white",
            "linecolor": "white",
            "ticks": ""
           },
           "bgcolor": "#E5ECF6",
           "radialaxis": {
            "gridcolor": "white",
            "linecolor": "white",
            "ticks": ""
           }
          },
          "scene": {
           "xaxis": {
            "backgroundcolor": "#E5ECF6",
            "gridcolor": "white",
            "gridwidth": 2,
            "linecolor": "white",
            "showbackground": true,
            "ticks": "",
            "zerolinecolor": "white"
           },
           "yaxis": {
            "backgroundcolor": "#E5ECF6",
            "gridcolor": "white",
            "gridwidth": 2,
            "linecolor": "white",
            "showbackground": true,
            "ticks": "",
            "zerolinecolor": "white"
           },
           "zaxis": {
            "backgroundcolor": "#E5ECF6",
            "gridcolor": "white",
            "gridwidth": 2,
            "linecolor": "white",
            "showbackground": true,
            "ticks": "",
            "zerolinecolor": "white"
           }
          },
          "shapedefaults": {
           "line": {
            "color": "#2a3f5f"
           }
          },
          "ternary": {
           "aaxis": {
            "gridcolor": "white",
            "linecolor": "white",
            "ticks": ""
           },
           "baxis": {
            "gridcolor": "white",
            "linecolor": "white",
            "ticks": ""
           },
           "bgcolor": "#E5ECF6",
           "caxis": {
            "gridcolor": "white",
            "linecolor": "white",
            "ticks": ""
           }
          },
          "title": {
           "x": 0.05
          },
          "xaxis": {
           "automargin": true,
           "gridcolor": "white",
           "linecolor": "white",
           "ticks": "",
           "title": {
            "standoff": 15
           },
           "zerolinecolor": "white",
           "zerolinewidth": 2
          },
          "yaxis": {
           "automargin": true,
           "gridcolor": "white",
           "linecolor": "white",
           "ticks": "",
           "title": {
            "standoff": 15
           },
           "zerolinecolor": "white",
           "zerolinewidth": 2
          }
         }
        }
       }
      }
     },
     "metadata": {},
     "output_type": "display_data"
    }
   ],
   "source": [
    "indices = df['age'].value_counts().sort_index().index\n",
    "values = df['age'].value_counts().sort_index().values\n",
    "\n",
    "# Create graph object\n",
    "fig = go.Figure()\n",
    "\n",
    "# for each age group add a readtime \n",
    "for age in indices:\n",
    "    avg_scroll_pct = df[df['age'] == age]['scroll_percentage'].mean()\n",
    "    fig.add_trace(go.Bar(x=[age], y = [avg_scroll_pct], textfont_size=20))\n",
    "\n",
    "fig.show()"
   ]
  },
  {
   "cell_type": "markdown",
   "id": "06e40744",
   "metadata": {},
   "source": [
    "## Postcodes"
   ]
  },
  {
   "cell_type": "markdown",
   "id": "0b31209f",
   "metadata": {},
   "source": [
    "### Distribution of Post Codes"
   ]
  },
  {
   "cell_type": "code",
   "execution_count": null,
   "id": "9a84b4c6",
   "metadata": {},
   "outputs": [],
   "source": [
    "## Postcode\n"
   ]
  },
  {
   "cell_type": "code",
   "execution_count": 132,
   "id": "87f2646a",
   "metadata": {},
   "outputs": [
    {
     "data": {
      "text/plain": [
       "0.0    396\n",
       "1.0    281\n",
       "2.0    159\n",
       "3.0    204\n",
       "4.0    215\n",
       "Name: postcode, dtype: int64"
      ]
     },
     "execution_count": 132,
     "metadata": {},
     "output_type": "execute_result"
    }
   ],
   "source": [
    "df['postcode'].value_counts().sort_index()"
   ]
  },
  {
   "cell_type": "markdown",
   "id": "0ae5a212",
   "metadata": {},
   "source": [
    "### Average Read Time in each postal code"
   ]
  },
  {
   "cell_type": "code",
   "execution_count": 133,
   "id": "4b3bf9aa",
   "metadata": {},
   "outputs": [
    {
     "data": {
      "application/vnd.plotly.v1+json": {
       "config": {
        "plotlyServerURL": "https://plot.ly"
       },
       "data": [
        {
         "opacity": 0.75,
         "type": "histogram",
         "x": [
          92,
          75,
          153,
          155,
          216,
          26,
          36,
          138,
          45,
          94,
          223,
          37,
          78,
          16,
          50,
          764,
          36,
          30,
          7,
          10,
          16,
          22,
          7,
          11,
          11,
          10,
          12,
          8,
          119,
          10,
          143,
          13,
          26,
          72,
          92,
          123,
          235,
          25,
          17,
          47,
          85,
          122,
          133,
          3,
          5,
          25,
          55,
          113,
          40,
          28,
          19,
          16,
          29,
          84,
          4,
          30,
          13,
          46,
          82,
          62,
          59,
          79,
          60,
          93,
          17,
          18,
          214,
          102,
          37,
          13,
          37,
          22,
          981,
          177,
          101,
          9,
          87,
          66,
          104,
          61,
          54,
          45,
          37,
          42,
          743,
          44,
          75,
          26,
          31,
          106,
          34,
          11,
          4,
          210,
          133,
          33,
          48,
          47,
          13,
          33,
          124,
          33,
          58,
          79,
          46,
          111,
          123,
          146,
          112,
          102,
          93,
          237,
          12,
          21,
          37,
          31,
          25,
          97,
          30,
          56,
          65,
          10,
          41,
          12,
          11,
          18,
          85,
          108,
          49,
          30,
          21,
          15,
          22,
          10,
          87,
          107,
          168,
          132,
          100,
          117,
          60,
          104,
          72,
          61,
          101,
          55,
          107,
          61,
          65,
          22,
          80,
          16,
          213,
          59,
          13,
          152,
          41,
          6,
          4,
          182,
          21,
          109,
          14,
          17,
          353,
          93,
          44,
          32,
          22,
          318,
          59,
          169,
          137,
          108,
          18,
          253,
          47,
          8,
          84,
          45,
          12,
          53,
          30,
          270,
          86,
          109,
          82,
          129,
          40,
          11,
          25,
          36,
          30,
          4,
          78,
          3,
          15,
          10,
          88,
          69,
          148,
          64,
          57,
          11,
          18,
          10,
          103,
          53,
          18,
          59,
          109,
          99,
          42,
          66,
          306,
          62,
          54,
          134,
          50,
          52,
          50,
          76,
          31,
          20,
          18,
          30,
          67,
          25,
          44,
          61,
          16,
          112,
          89,
          54,
          23,
          55,
          115,
          14,
          56,
          11,
          114,
          115,
          78,
          94,
          71,
          4,
          23,
          7,
          88,
          52,
          42,
          19,
          6,
          6,
          108,
          16,
          217,
          21,
          6,
          135,
          4,
          84,
          13,
          12,
          31,
          62,
          13,
          4,
          37,
          181,
          25,
          115,
          21,
          54,
          183,
          78,
          556,
          155,
          82,
          20,
          9,
          49,
          48,
          65,
          903,
          94,
          114,
          201,
          113,
          12,
          165,
          55,
          39,
          61,
          9,
          49,
          35,
          148,
          83,
          85,
          56,
          258,
          119,
          64,
          91,
          32,
          43,
          51,
          113,
          7,
          13,
          139,
          30,
          69,
          30,
          55,
          3,
          68,
          54,
          74,
          33,
          150,
          75,
          22,
          6,
          44,
          9,
          15,
          17,
          10,
          11,
          7,
          80,
          58,
          39,
          131,
          108,
          70,
          61,
          137,
          30,
          835,
          144,
          35,
          20,
          222,
          24,
          39,
          25,
          56,
          32,
          57,
          48,
          51,
          122,
          85,
          265,
          81,
          112,
          111,
          79,
          28,
          97,
          224,
          377,
          21,
          115,
          106,
          30,
          30,
          32,
          6,
          8,
          31,
          94,
          112,
          65,
          24,
          49,
          10,
          16,
          7,
          163,
          328,
          103,
          55,
          47,
          223,
          14,
          18,
          11,
          22,
          11,
          112,
          124,
          51
         ]
        },
        {
         "opacity": 0.75,
         "type": "histogram",
         "x": [
          91,
          453,
          213,
          241,
          38,
          103,
          29,
          25,
          86,
          33,
          32,
          36,
          135,
          0,
          52,
          82,
          16,
          25,
          92,
          0,
          70,
          89,
          48,
          133,
          67,
          10,
          2,
          19,
          146,
          102,
          43,
          31,
          99,
          146,
          135,
          32,
          87,
          15,
          22,
          104,
          77,
          32,
          21,
          87,
          72,
          38,
          8,
          145,
          25,
          56,
          398,
          132,
          18,
          44,
          30,
          123,
          20,
          106,
          128,
          207,
          638,
          56,
          78,
          121,
          22,
          117,
          17,
          6,
          3,
          2,
          13,
          71,
          58,
          8,
          29,
          144,
          26,
          34,
          40,
          15,
          54,
          61,
          13,
          7,
          155,
          82,
          78,
          60,
          19,
          150,
          59,
          60,
          97,
          110,
          30,
          17,
          43,
          39,
          129,
          309,
          65,
          27,
          80,
          48,
          53,
          26,
          60,
          126,
          82,
          222,
          18,
          214,
          59,
          56,
          64,
          84,
          123,
          45,
          69,
          75,
          146,
          89,
          9,
          25,
          81,
          25,
          32,
          42,
          106,
          75,
          59,
          59,
          50,
          149,
          229,
          87,
          17,
          32,
          19,
          33,
          0,
          25,
          165,
          0,
          47,
          57,
          262,
          74,
          27,
          93,
          51,
          73,
          1075,
          24,
          109,
          33,
          14,
          47,
          106,
          128,
          56,
          72,
          106,
          21,
          111,
          11,
          231,
          100,
          97,
          22,
          55,
          29,
          24,
          36,
          51,
          219,
          29,
          74,
          15,
          27,
          33,
          24,
          33,
          53,
          16,
          51,
          23,
          5,
          67,
          11,
          6,
          66,
          21,
          144,
          71,
          62,
          37,
          61,
          84,
          21,
          38,
          44,
          22,
          71,
          91,
          28,
          58,
          28,
          36,
          36,
          40,
          24,
          150,
          88,
          11,
          77,
          121,
          50,
          84,
          255,
          33,
          49,
          47,
          39,
          1229,
          140,
          174,
          31,
          86,
          61,
          218,
          39,
          84,
          77,
          102,
          102,
          115,
          22,
          30,
          60,
          42,
          54,
          114,
          178,
          9,
          47,
          73,
          82,
          55,
          48,
          24,
          60,
          170,
          46,
          20,
          6,
          16,
          13,
          3,
          29,
          72,
          100,
          11,
          7,
          7,
          70,
          49,
          73,
          61,
          46,
          70,
          97,
          11,
          68,
          12,
          17,
          28,
          63,
          67,
          38,
          37
         ]
        },
        {
         "opacity": 0.75,
         "type": "histogram",
         "x": [
          3,
          17,
          5,
          10,
          161,
          73,
          7,
          165,
          102,
          11,
          132,
          8,
          18,
          20,
          97,
          74,
          328,
          151,
          228,
          88,
          29,
          381,
          55,
          61,
          125,
          17,
          100,
          28,
          42,
          105,
          106,
          29,
          33,
          53,
          89,
          23,
          21,
          19,
          12,
          72,
          6,
          55,
          214,
          120,
          50,
          331,
          47,
          1063,
          4,
          83,
          29,
          119,
          45,
          23,
          8,
          17,
          11,
          30,
          700,
          46,
          134,
          185,
          79,
          26,
          97,
          72,
          25,
          75,
          1037,
          168,
          32,
          11,
          47,
          395,
          50,
          5,
          9,
          168,
          8,
          12,
          126,
          51,
          17,
          293,
          107,
          803,
          265,
          133,
          223,
          308,
          39,
          753,
          91,
          74,
          20,
          0,
          15,
          15,
          20,
          7,
          65,
          60,
          115,
          10,
          82,
          25,
          8,
          8,
          276,
          10,
          8,
          31,
          28,
          137,
          49,
          41,
          22,
          82,
          184,
          57,
          93,
          80,
          65,
          66,
          96,
          126,
          131,
          7,
          66,
          88,
          128,
          192,
          161,
          7,
          21,
          19,
          191,
          171,
          34,
          8,
          90,
          16,
          50,
          93,
          27,
          22,
          8,
          20,
          47,
          4,
          96,
          55,
          54,
          19,
          14,
          57,
          29,
          28,
          12
         ]
        },
        {
         "opacity": 0.75,
         "type": "histogram",
         "x": [
          59,
          113,
          44,
          856,
          173,
          78,
          106,
          15,
          250,
          192,
          38,
          35,
          57,
          4,
          5,
          3,
          218,
          108,
          56,
          37,
          6,
          31,
          76,
          250,
          176,
          656,
          23,
          5,
          6,
          2,
          6,
          12,
          9,
          7,
          5,
          21,
          63,
          250,
          45,
          22,
          112,
          34,
          85,
          45,
          19,
          55,
          15,
          221,
          50,
          69,
          51,
          84,
          8,
          22,
          47,
          5,
          13,
          17,
          8,
          114,
          41,
          461,
          110,
          421,
          112,
          127,
          90,
          6,
          56,
          6,
          30,
          44,
          154,
          209,
          91,
          95,
          11,
          53,
          17,
          19,
          129,
          86,
          83,
          45,
          100,
          7,
          73,
          83,
          71,
          36,
          96,
          6,
          15,
          43,
          102,
          136,
          88,
          88,
          104,
          141,
          105,
          374,
          147,
          63,
          30,
          94,
          74,
          77,
          230,
          136,
          64,
          11,
          51,
          14,
          62,
          79,
          10,
          9,
          27,
          86,
          141,
          31,
          3,
          115,
          188,
          25,
          117,
          84,
          7,
          81,
          153,
          80,
          40,
          60,
          45,
          17,
          108,
          53,
          38,
          127,
          41,
          25,
          32,
          131,
          93,
          102,
          10,
          53,
          106,
          54,
          55,
          112,
          31,
          90,
          52,
          5,
          72,
          10,
          27,
          86,
          33,
          15,
          8,
          212,
          6,
          117,
          128,
          143,
          80,
          155,
          76,
          22,
          55,
          134,
          53,
          82,
          53,
          161,
          7,
          36,
          162,
          24,
          50,
          5,
          43,
          20,
          68,
          17,
          52,
          29,
          47,
          340,
          192,
          73,
          123,
          73,
          17,
          24,
          55,
          69,
          20,
          11,
          6,
          69
         ]
        },
        {
         "opacity": 0.75,
         "type": "histogram",
         "x": [
          27,
          129,
          110,
          27,
          188,
          42,
          53,
          21,
          6,
          65,
          73,
          56,
          76,
          141,
          89,
          108,
          120,
          71,
          27,
          152,
          53,
          9,
          28,
          84,
          12,
          20,
          49,
          13,
          36,
          11,
          13,
          29,
          365,
          114,
          11,
          81,
          10,
          8,
          12,
          153,
          90,
          52,
          30,
          30,
          8,
          97,
          631,
          97,
          33,
          76,
          22,
          91,
          54,
          15,
          33,
          19,
          12,
          12,
          27,
          288,
          107,
          4,
          3,
          2,
          3,
          67,
          128,
          81,
          97,
          117,
          51,
          4,
          41,
          108,
          77,
          65,
          48,
          27,
          32,
          83,
          36,
          6,
          14,
          73,
          10,
          6,
          261,
          8,
          321,
          11,
          155,
          27,
          12,
          6,
          12,
          235,
          64,
          75,
          20,
          18,
          89,
          3,
          153,
          105,
          23,
          16,
          14,
          69,
          10,
          10,
          14,
          23,
          131,
          59,
          14,
          84,
          5,
          10,
          8,
          40,
          18,
          9,
          128,
          12,
          94,
          104,
          22,
          263,
          106,
          82,
          9,
          11,
          41,
          22,
          16,
          7,
          108,
          33,
          51,
          111,
          142,
          99,
          11,
          42,
          37,
          6,
          12,
          14,
          14,
          6,
          19,
          166,
          9,
          21,
          6,
          121,
          9,
          34,
          25,
          54,
          31,
          26,
          35,
          41,
          123,
          150,
          45,
          48,
          62,
          104,
          58,
          108,
          68,
          31,
          64,
          169,
          132,
          138,
          118,
          65,
          79,
          40,
          61,
          23,
          95,
          134,
          16,
          79,
          6,
          13,
          12,
          134,
          49,
          23,
          9,
          46,
          18,
          18,
          16,
          52,
          33,
          28,
          16,
          60,
          11,
          81,
          88,
          86,
          33,
          5,
          3,
          69,
          390,
          161,
          37
         ]
        }
       ],
       "layout": {
        "barmode": "overlay",
        "template": {
         "data": {
          "bar": [
           {
            "error_x": {
             "color": "#2a3f5f"
            },
            "error_y": {
             "color": "#2a3f5f"
            },
            "marker": {
             "line": {
              "color": "#E5ECF6",
              "width": 0.5
             },
             "pattern": {
              "fillmode": "overlay",
              "size": 10,
              "solidity": 0.2
             }
            },
            "type": "bar"
           }
          ],
          "barpolar": [
           {
            "marker": {
             "line": {
              "color": "#E5ECF6",
              "width": 0.5
             },
             "pattern": {
              "fillmode": "overlay",
              "size": 10,
              "solidity": 0.2
             }
            },
            "type": "barpolar"
           }
          ],
          "carpet": [
           {
            "aaxis": {
             "endlinecolor": "#2a3f5f",
             "gridcolor": "white",
             "linecolor": "white",
             "minorgridcolor": "white",
             "startlinecolor": "#2a3f5f"
            },
            "baxis": {
             "endlinecolor": "#2a3f5f",
             "gridcolor": "white",
             "linecolor": "white",
             "minorgridcolor": "white",
             "startlinecolor": "#2a3f5f"
            },
            "type": "carpet"
           }
          ],
          "choropleth": [
           {
            "colorbar": {
             "outlinewidth": 0,
             "ticks": ""
            },
            "type": "choropleth"
           }
          ],
          "contour": [
           {
            "colorbar": {
             "outlinewidth": 0,
             "ticks": ""
            },
            "colorscale": [
             [
              0,
              "#0d0887"
             ],
             [
              0.1111111111111111,
              "#46039f"
             ],
             [
              0.2222222222222222,
              "#7201a8"
             ],
             [
              0.3333333333333333,
              "#9c179e"
             ],
             [
              0.4444444444444444,
              "#bd3786"
             ],
             [
              0.5555555555555556,
              "#d8576b"
             ],
             [
              0.6666666666666666,
              "#ed7953"
             ],
             [
              0.7777777777777778,
              "#fb9f3a"
             ],
             [
              0.8888888888888888,
              "#fdca26"
             ],
             [
              1,
              "#f0f921"
             ]
            ],
            "type": "contour"
           }
          ],
          "contourcarpet": [
           {
            "colorbar": {
             "outlinewidth": 0,
             "ticks": ""
            },
            "type": "contourcarpet"
           }
          ],
          "heatmap": [
           {
            "colorbar": {
             "outlinewidth": 0,
             "ticks": ""
            },
            "colorscale": [
             [
              0,
              "#0d0887"
             ],
             [
              0.1111111111111111,
              "#46039f"
             ],
             [
              0.2222222222222222,
              "#7201a8"
             ],
             [
              0.3333333333333333,
              "#9c179e"
             ],
             [
              0.4444444444444444,
              "#bd3786"
             ],
             [
              0.5555555555555556,
              "#d8576b"
             ],
             [
              0.6666666666666666,
              "#ed7953"
             ],
             [
              0.7777777777777778,
              "#fb9f3a"
             ],
             [
              0.8888888888888888,
              "#fdca26"
             ],
             [
              1,
              "#f0f921"
             ]
            ],
            "type": "heatmap"
           }
          ],
          "heatmapgl": [
           {
            "colorbar": {
             "outlinewidth": 0,
             "ticks": ""
            },
            "colorscale": [
             [
              0,
              "#0d0887"
             ],
             [
              0.1111111111111111,
              "#46039f"
             ],
             [
              0.2222222222222222,
              "#7201a8"
             ],
             [
              0.3333333333333333,
              "#9c179e"
             ],
             [
              0.4444444444444444,
              "#bd3786"
             ],
             [
              0.5555555555555556,
              "#d8576b"
             ],
             [
              0.6666666666666666,
              "#ed7953"
             ],
             [
              0.7777777777777778,
              "#fb9f3a"
             ],
             [
              0.8888888888888888,
              "#fdca26"
             ],
             [
              1,
              "#f0f921"
             ]
            ],
            "type": "heatmapgl"
           }
          ],
          "histogram": [
           {
            "marker": {
             "pattern": {
              "fillmode": "overlay",
              "size": 10,
              "solidity": 0.2
             }
            },
            "type": "histogram"
           }
          ],
          "histogram2d": [
           {
            "colorbar": {
             "outlinewidth": 0,
             "ticks": ""
            },
            "colorscale": [
             [
              0,
              "#0d0887"
             ],
             [
              0.1111111111111111,
              "#46039f"
             ],
             [
              0.2222222222222222,
              "#7201a8"
             ],
             [
              0.3333333333333333,
              "#9c179e"
             ],
             [
              0.4444444444444444,
              "#bd3786"
             ],
             [
              0.5555555555555556,
              "#d8576b"
             ],
             [
              0.6666666666666666,
              "#ed7953"
             ],
             [
              0.7777777777777778,
              "#fb9f3a"
             ],
             [
              0.8888888888888888,
              "#fdca26"
             ],
             [
              1,
              "#f0f921"
             ]
            ],
            "type": "histogram2d"
           }
          ],
          "histogram2dcontour": [
           {
            "colorbar": {
             "outlinewidth": 0,
             "ticks": ""
            },
            "colorscale": [
             [
              0,
              "#0d0887"
             ],
             [
              0.1111111111111111,
              "#46039f"
             ],
             [
              0.2222222222222222,
              "#7201a8"
             ],
             [
              0.3333333333333333,
              "#9c179e"
             ],
             [
              0.4444444444444444,
              "#bd3786"
             ],
             [
              0.5555555555555556,
              "#d8576b"
             ],
             [
              0.6666666666666666,
              "#ed7953"
             ],
             [
              0.7777777777777778,
              "#fb9f3a"
             ],
             [
              0.8888888888888888,
              "#fdca26"
             ],
             [
              1,
              "#f0f921"
             ]
            ],
            "type": "histogram2dcontour"
           }
          ],
          "mesh3d": [
           {
            "colorbar": {
             "outlinewidth": 0,
             "ticks": ""
            },
            "type": "mesh3d"
           }
          ],
          "parcoords": [
           {
            "line": {
             "colorbar": {
              "outlinewidth": 0,
              "ticks": ""
             }
            },
            "type": "parcoords"
           }
          ],
          "pie": [
           {
            "automargin": true,
            "type": "pie"
           }
          ],
          "scatter": [
           {
            "fillpattern": {
             "fillmode": "overlay",
             "size": 10,
             "solidity": 0.2
            },
            "type": "scatter"
           }
          ],
          "scatter3d": [
           {
            "line": {
             "colorbar": {
              "outlinewidth": 0,
              "ticks": ""
             }
            },
            "marker": {
             "colorbar": {
              "outlinewidth": 0,
              "ticks": ""
             }
            },
            "type": "scatter3d"
           }
          ],
          "scattercarpet": [
           {
            "marker": {
             "colorbar": {
              "outlinewidth": 0,
              "ticks": ""
             }
            },
            "type": "scattercarpet"
           }
          ],
          "scattergeo": [
           {
            "marker": {
             "colorbar": {
              "outlinewidth": 0,
              "ticks": ""
             }
            },
            "type": "scattergeo"
           }
          ],
          "scattergl": [
           {
            "marker": {
             "colorbar": {
              "outlinewidth": 0,
              "ticks": ""
             }
            },
            "type": "scattergl"
           }
          ],
          "scattermapbox": [
           {
            "marker": {
             "colorbar": {
              "outlinewidth": 0,
              "ticks": ""
             }
            },
            "type": "scattermapbox"
           }
          ],
          "scatterpolar": [
           {
            "marker": {
             "colorbar": {
              "outlinewidth": 0,
              "ticks": ""
             }
            },
            "type": "scatterpolar"
           }
          ],
          "scatterpolargl": [
           {
            "marker": {
             "colorbar": {
              "outlinewidth": 0,
              "ticks": ""
             }
            },
            "type": "scatterpolargl"
           }
          ],
          "scatterternary": [
           {
            "marker": {
             "colorbar": {
              "outlinewidth": 0,
              "ticks": ""
             }
            },
            "type": "scatterternary"
           }
          ],
          "surface": [
           {
            "colorbar": {
             "outlinewidth": 0,
             "ticks": ""
            },
            "colorscale": [
             [
              0,
              "#0d0887"
             ],
             [
              0.1111111111111111,
              "#46039f"
             ],
             [
              0.2222222222222222,
              "#7201a8"
             ],
             [
              0.3333333333333333,
              "#9c179e"
             ],
             [
              0.4444444444444444,
              "#bd3786"
             ],
             [
              0.5555555555555556,
              "#d8576b"
             ],
             [
              0.6666666666666666,
              "#ed7953"
             ],
             [
              0.7777777777777778,
              "#fb9f3a"
             ],
             [
              0.8888888888888888,
              "#fdca26"
             ],
             [
              1,
              "#f0f921"
             ]
            ],
            "type": "surface"
           }
          ],
          "table": [
           {
            "cells": {
             "fill": {
              "color": "#EBF0F8"
             },
             "line": {
              "color": "white"
             }
            },
            "header": {
             "fill": {
              "color": "#C8D4E3"
             },
             "line": {
              "color": "white"
             }
            },
            "type": "table"
           }
          ]
         },
         "layout": {
          "annotationdefaults": {
           "arrowcolor": "#2a3f5f",
           "arrowhead": 0,
           "arrowwidth": 1
          },
          "autotypenumbers": "strict",
          "coloraxis": {
           "colorbar": {
            "outlinewidth": 0,
            "ticks": ""
           }
          },
          "colorscale": {
           "diverging": [
            [
             0,
             "#8e0152"
            ],
            [
             0.1,
             "#c51b7d"
            ],
            [
             0.2,
             "#de77ae"
            ],
            [
             0.3,
             "#f1b6da"
            ],
            [
             0.4,
             "#fde0ef"
            ],
            [
             0.5,
             "#f7f7f7"
            ],
            [
             0.6,
             "#e6f5d0"
            ],
            [
             0.7,
             "#b8e186"
            ],
            [
             0.8,
             "#7fbc41"
            ],
            [
             0.9,
             "#4d9221"
            ],
            [
             1,
             "#276419"
            ]
           ],
           "sequential": [
            [
             0,
             "#0d0887"
            ],
            [
             0.1111111111111111,
             "#46039f"
            ],
            [
             0.2222222222222222,
             "#7201a8"
            ],
            [
             0.3333333333333333,
             "#9c179e"
            ],
            [
             0.4444444444444444,
             "#bd3786"
            ],
            [
             0.5555555555555556,
             "#d8576b"
            ],
            [
             0.6666666666666666,
             "#ed7953"
            ],
            [
             0.7777777777777778,
             "#fb9f3a"
            ],
            [
             0.8888888888888888,
             "#fdca26"
            ],
            [
             1,
             "#f0f921"
            ]
           ],
           "sequentialminus": [
            [
             0,
             "#0d0887"
            ],
            [
             0.1111111111111111,
             "#46039f"
            ],
            [
             0.2222222222222222,
             "#7201a8"
            ],
            [
             0.3333333333333333,
             "#9c179e"
            ],
            [
             0.4444444444444444,
             "#bd3786"
            ],
            [
             0.5555555555555556,
             "#d8576b"
            ],
            [
             0.6666666666666666,
             "#ed7953"
            ],
            [
             0.7777777777777778,
             "#fb9f3a"
            ],
            [
             0.8888888888888888,
             "#fdca26"
            ],
            [
             1,
             "#f0f921"
            ]
           ]
          },
          "colorway": [
           "#636efa",
           "#EF553B",
           "#00cc96",
           "#ab63fa",
           "#FFA15A",
           "#19d3f3",
           "#FF6692",
           "#B6E880",
           "#FF97FF",
           "#FECB52"
          ],
          "font": {
           "color": "#2a3f5f"
          },
          "geo": {
           "bgcolor": "white",
           "lakecolor": "white",
           "landcolor": "#E5ECF6",
           "showlakes": true,
           "showland": true,
           "subunitcolor": "white"
          },
          "hoverlabel": {
           "align": "left"
          },
          "hovermode": "closest",
          "mapbox": {
           "style": "light"
          },
          "paper_bgcolor": "white",
          "plot_bgcolor": "#E5ECF6",
          "polar": {
           "angularaxis": {
            "gridcolor": "white",
            "linecolor": "white",
            "ticks": ""
           },
           "bgcolor": "#E5ECF6",
           "radialaxis": {
            "gridcolor": "white",
            "linecolor": "white",
            "ticks": ""
           }
          },
          "scene": {
           "xaxis": {
            "backgroundcolor": "#E5ECF6",
            "gridcolor": "white",
            "gridwidth": 2,
            "linecolor": "white",
            "showbackground": true,
            "ticks": "",
            "zerolinecolor": "white"
           },
           "yaxis": {
            "backgroundcolor": "#E5ECF6",
            "gridcolor": "white",
            "gridwidth": 2,
            "linecolor": "white",
            "showbackground": true,
            "ticks": "",
            "zerolinecolor": "white"
           },
           "zaxis": {
            "backgroundcolor": "#E5ECF6",
            "gridcolor": "white",
            "gridwidth": 2,
            "linecolor": "white",
            "showbackground": true,
            "ticks": "",
            "zerolinecolor": "white"
           }
          },
          "shapedefaults": {
           "line": {
            "color": "#2a3f5f"
           }
          },
          "ternary": {
           "aaxis": {
            "gridcolor": "white",
            "linecolor": "white",
            "ticks": ""
           },
           "baxis": {
            "gridcolor": "white",
            "linecolor": "white",
            "ticks": ""
           },
           "bgcolor": "#E5ECF6",
           "caxis": {
            "gridcolor": "white",
            "linecolor": "white",
            "ticks": ""
           }
          },
          "title": {
           "x": 0.05
          },
          "xaxis": {
           "automargin": true,
           "gridcolor": "white",
           "linecolor": "white",
           "ticks": "",
           "title": {
            "standoff": 15
           },
           "zerolinecolor": "white",
           "zerolinewidth": 2
          },
          "yaxis": {
           "automargin": true,
           "gridcolor": "white",
           "linecolor": "white",
           "ticks": "",
           "title": {
            "standoff": 15
           },
           "zerolinecolor": "white",
           "zerolinewidth": 2
          }
         }
        }
       }
      }
     },
     "metadata": {},
     "output_type": "display_data"
    }
   ],
   "source": [
    "indices = df['postcode'].value_counts().sort_index().index\n",
    "values = df['postcode'].value_counts().sort_index().values\n",
    "\n",
    "# Create graph object\n",
    "fig = go.Figure()\n",
    "\n",
    "# for each post code add a readtime \n",
    "for postcode in indices:\n",
    "    read_time = df[df['postcode'] == postcode]['read_time']\n",
    "    fig.add_trace(go.Histogram(x=read_time))\n",
    "\n",
    "\n",
    "fig.update_layout(barmode='overlay')\n",
    "fig.update_traces(opacity=0.75)\n",
    "fig.show()"
   ]
  },
  {
   "cell_type": "code",
   "execution_count": null,
   "id": "0bba02ba",
   "metadata": {},
   "outputs": [],
   "source": [
    "indices = df['postcode'].value_counts().sort_index().index\n",
    "values = df['postcode'].value_counts().sort_index().values\n",
    "\n",
    "# Create graph object\n",
    "fig = go.Figure()\n",
    "\n",
    "# for each post code add a readtime \n",
    "for postcode in indices:\n",
    "    avg_read_time = df[df['postcode'] == postcode]['read_time'].mean()\n",
    "    fig.add_trace(go.Bar(x=[postcode], y = [avg_read_time], textfont_size=20))\n",
    "\n",
    "\n",
    "fig.update_layout(barmode='overlay')\n",
    "fig.update_traces(opacity=0.75)\n",
    "fig.show()"
   ]
  },
  {
   "cell_type": "code",
   "execution_count": 128,
   "id": "d54c4b6b",
   "metadata": {},
   "outputs": [],
   "source": [
    "# How many unique articles are clicked in a session?"
   ]
  },
  {
   "cell_type": "code",
   "execution_count": null,
   "id": "80594da3",
   "metadata": {},
   "outputs": [],
   "source": []
  }
 ],
 "metadata": {
  "kernelspec": {
   "display_name": "Python 3 (ipykernel)",
   "language": "python",
   "name": "python3"
  },
  "language_info": {
   "codemirror_mode": {
    "name": "ipython",
    "version": 3
   },
   "file_extension": ".py",
   "mimetype": "text/x-python",
   "name": "python",
   "nbconvert_exporter": "python",
   "pygments_lexer": "ipython3",
   "version": "3.11.4"
  }
 },
 "nbformat": 4,
 "nbformat_minor": 5
}
