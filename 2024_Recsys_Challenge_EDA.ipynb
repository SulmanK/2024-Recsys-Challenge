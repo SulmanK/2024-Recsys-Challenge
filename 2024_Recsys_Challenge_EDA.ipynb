{
 "cells": [
  {
   "cell_type": "markdown",
   "id": "d2671047-b3da-4686-8a34-f7e63d82e738",
   "metadata": {},
   "source": [
    "Task\n",
    "- Refactor code\n",
    "    - Fix all visualizations\n",
    "    - Functionalize everything\n",
    "- Fix the plots\n",
    "- Start on EDA\n",
    "    - Each major feature will cover distribution of the feature, readtime/scroll pct, how it relates to the topics selected, and activity distribution.\n",
    "        - We will use histograms, bar plots, box plots, and scatter plots (can look at pie charts too)\n",
    "        - Separate out some plots maybe\n",
    "        - Look into changing activity to scatter plots\n",
    "        - Next thing we have to do is look update the multiple bar plot\n",
    "        \n",
    "- Model selection"
   ]
  },
  {
   "cell_type": "markdown",
   "id": "237298c2-2986-4bba-bcbd-5ff27e361919",
   "metadata": {},
   "source": [
    "Background Information on Dataset: BLAH BLAH BLAH"
   ]
  },
  {
   "cell_type": "markdown",
   "id": "9f8cf39e-f468-4ac2-9f59-2eefab32a277",
   "metadata": {},
   "source": [
    "Importing Packages"
   ]
  },
  {
   "cell_type": "code",
   "execution_count": 308,
   "id": "f4711c74-a01b-4ce7-8a3d-de5a605d13e4",
   "metadata": {},
   "outputs": [],
   "source": [
    "import numpy as np\n",
    "import pandas as pd\n",
    "\n",
    "import plotly\n",
    "import plotly.express as px\n",
    "import plotly.graph_objects as go\n",
    "\n",
    "from datetime import datetime\n",
    "from plotly.subplots import make_subplots"
   ]
  },
  {
   "cell_type": "markdown",
   "id": "06f05b58-dde3-4d5f-87a2-f20ad71cd62b",
   "metadata": {},
   "source": [
    "# EDA"
   ]
  },
  {
   "cell_type": "markdown",
   "id": "616fa6a4-e47a-4116-82f5-896d6893a00e",
   "metadata": {},
   "source": [
    "Load in dataset"
   ]
  },
  {
   "cell_type": "code",
   "execution_count": 309,
   "id": "59a57c46-4e08-4299-8a69-12d45e274b46",
   "metadata": {},
   "outputs": [],
   "source": [
    "#Load in various dataframes\n",
    "## Articles\n",
    "df_art = pd.read_parquet(\"Data/Small/articles.parquet\")\n",
    "\n",
    "## Behaviors\n",
    "df_bev = pd.read_parquet(\"Data/Small/train/behaviors.parquet\")\n",
    "\n",
    "## History\n",
    "df_his = pd.read_parquet(\"Data/Small/train/history.parquet\")\n",
    "\n"
   ]
  },
  {
   "cell_type": "markdown",
   "id": "dd6d447c",
   "metadata": {},
   "source": [
    "Join the data sources"
   ]
  },
  {
   "cell_type": "code",
   "execution_count": 310,
   "id": "b3cfa16d",
   "metadata": {},
   "outputs": [],
   "source": [
    "# Convert datatype of column first\n",
    "df_bev['article_ids_clicked'] = df_bev['article_ids_clicked'].apply(lambda x: x[0])"
   ]
  },
  {
   "cell_type": "code",
   "execution_count": 311,
   "id": "5eaa9148",
   "metadata": {},
   "outputs": [],
   "source": [
    "# Join bevhaiors to article\n",
    "df= df_bev.join(df_art.set_index(\"article_id\"), on = \"article_ids_clicked\")\n",
    "\n",
    "# Join bevhaiors to history \n",
    "df= df.join(df_his.set_index(\"user_id\"), on = \"user_id\")\n",
    "\n",
    "# Drop all other dataframes from me\n",
    "df_bev = []\n",
    "df_his = []\n",
    "df_art = []"
   ]
  },
  {
   "cell_type": "code",
   "execution_count": 312,
   "id": "5796b9c4",
   "metadata": {},
   "outputs": [],
   "source": [
    "# Preprocessing\n",
    "df.dropna(subset=['article_id'], inplace= True)\n",
    "#df.dropna(subset =['age'], inplace = True)\n",
    "\n",
    "# Change article IDs into int\n",
    "df['article_id'] = df['article_id'].apply(lambda x: int(x))\n",
    "df['article_id']= df['article_id'].astype(np.int64)\n",
    "\n",
    "\n",
    "# Change genders from float to strings\n",
    "def gender_(x):\n",
    "    if x == 0.0:\n",
    "        return 'Male'\n",
    "    elif x == 1.0:\n",
    "        return 'Female'\n",
    "    else:\n",
    "        return None\n",
    "\n",
    "df['gender'] = df['gender'].apply(lambda x: gender_(x))\n",
    "\n",
    "# Change age to int\n",
    "#df['age'] = df['age'].apply(lambda x: np.int_(x) if np.isnan(x) == False else x)\n",
    "#df['age'] = df[~df['age'].isnull()]['age'].astype(np.int32)\n",
    "\n",
    "# Change age to str it's a range\n",
    "df['age'] = df['age'].astype('Int64')\n",
    "df['age'] = df['age'].astype(str)\n",
    "df['age'] = df['age'].apply(lambda x: x if x == '<NA>' else x + ' - ' + x[0] + '9' )\n",
    "\n",
    "\n",
    "\n",
    "# Change postcodes\n",
    "# Change genders from float to strings\n",
    "def postcodes_(x):\n",
    "    if x == 0.0:\n",
    "        return 'Metropolitan'\n",
    "    elif x == 1.0:\n",
    "        return 'Rural District'\n",
    "\n",
    "    elif x == 2.0:\n",
    "        return 'Municipality'\n",
    "    \n",
    "    elif x == 3.0:\n",
    "        return 'Provincial'\n",
    "    \n",
    "    elif x == 4.0:\n",
    "        return 'Big City'\n",
    "\n",
    "    else:\n",
    "        return None\n",
    "\n",
    "df['postcode'] = df['postcode'].apply(lambda x: postcodes_(x))\n",
    "\n",
    "\n",
    "\n"
   ]
  },
  {
   "cell_type": "markdown",
   "id": "00dd2615",
   "metadata": {},
   "source": [
    "Visualizations"
   ]
  },
  {
   "cell_type": "markdown",
   "id": "c4e0b195",
   "metadata": {},
   "source": [
    "Lets calculate the unique users for hourly, daily, and day of the week. Let's use a subset of the data until we know our plots are very good"
   ]
  },
  {
   "cell_type": "markdown",
   "id": "7988d669",
   "metadata": {},
   "source": [
    "#### Biggest thing is user engagement : Bigger User Engagement -> More eveneue\n",
    "#### We need to maximize the amount of ads these guys are viewing -> this leads on to them clicking on new articles for ads\n",
    "#### So, let's not make article length too short so that people can maximize their session lengths with a lot of articles!"
   ]
  },
  {
   "cell_type": "code",
   "execution_count": 313,
   "id": "0db41661",
   "metadata": {},
   "outputs": [],
   "source": [
    "def single_subset_bar(df_, feature_, xaxis_title, yrange):\n",
    "    # Index and Values \n",
    "    indices = [xaxis_title]\n",
    "    values_ = [len(df_[feature_].unique())]\n",
    "\n",
    "    # Instantiate figure object\n",
    "    fig = go.Figure()\n",
    "\n",
    "    # Add traces\n",
    "    fig.add_trace(go.Bar(x = indices, y = values_,\n",
    "                        width=[0.3], text = '<b>{}<b>'.format(values_[0]),\n",
    "                            )\n",
    "\n",
    "    )\n",
    "    # Update axis properties\n",
    "    fig.update_yaxes(\n",
    "        title_text= 'Count', range = yrange\n",
    "        )\n",
    "\n",
    "    # Update trace properties\n",
    "    fig.update_traces(\n",
    "        textposition='outside',\n",
    "        textfont=dict(\n",
    "            family='sans serif',\n",
    "            size=16,\n",
    "            color='#1f77b4'\n",
    "            )\n",
    "            )\n",
    "            \n",
    "    # Update layout of plot\n",
    "    fig.update_layout(\n",
    "        title = '<b>Total {}<b>'.format(xaxis_title) ,\n",
    "        uniformtext_minsize=8, uniformtext_mode='hide',  \n",
    "        font=dict(\n",
    "            family=\"Courier New, monospace\",\n",
    "            size=16,\n",
    "            )\n",
    "            )\n",
    "\n",
    "    return fig.show()"
   ]
  },
  {
   "cell_type": "code",
   "execution_count": 314,
   "id": "68dbf2f8",
   "metadata": {},
   "outputs": [],
   "source": [
    "def multiple_subset_bar(df_, feature_, yrange):\n",
    "\n",
    "    # Assign tmp_df based on feature\n",
    "    if feature_ == 'age':\n",
    "        tmp_df = df_[df_['age'] != '<NA>']\n",
    "    else:\n",
    "        tmp_df = df_[~df_[feature_].isnull()]\n",
    "\n",
    "    \n",
    "    categories = [d for d in tmp_df[feature_].unique()]\n",
    "    categories.sort()\n",
    "\n",
    "\n",
    "    fig = go.Figure()\n",
    "    for category_ in categories:\n",
    "        ## Check for Frequency vs Count \n",
    "        count= len(tmp_df[tmp_df[feature_] == category_])\n",
    "\n",
    "        fig.add_trace(\n",
    "            go.Bar(\n",
    "                x= [str(category_)], y = [count],\n",
    "                text = '<b>{}<b>'.format(count), \n",
    "                name= str(category_)\n",
    "            )\n",
    "                \n",
    "        )\n",
    "\n",
    "    # Update trace properties\n",
    "        \n",
    "    # Update axis properties\n",
    "    fig.update_yaxes(\n",
    "        title_text= 'Count', range = yrange\n",
    "        )\n",
    "    \n",
    "    fig.update_xaxes(\n",
    "        title_text= str(feature_)\n",
    "        )\n",
    "\n",
    "    # Update trace properties\n",
    "    fig.update_traces(\n",
    "        textposition='outside',\n",
    "        textfont=dict(\n",
    "            family='sans serif',\n",
    "            size=16,\n",
    "            color='#1f77b4'\n",
    "            )\n",
    "            )\n",
    "            \n",
    "    # Update layout of plot\n",
    "    fig.update_layout(\n",
    "        title = '<b>Distribution of {}<b>'.format(feature_) ,\n",
    "        uniformtext_minsize=8, uniformtext_mode='hide',  \n",
    "        font=dict(\n",
    "            family=\"Courier New, monospace\",\n",
    "            size=16,\n",
    "            )\n",
    "            )\n",
    "\n",
    "    return fig.show()"
   ]
  },
  {
   "cell_type": "code",
   "execution_count": 315,
   "id": "38be17e6",
   "metadata": {},
   "outputs": [],
   "source": [
    "def single_subset_feature_visualization(df_,  feature_, data_title):\n",
    "    \"\"\" Takes in an array of values and will output a histogram / boxplot / average\"\"\" \n",
    "    fig = make_subplots(\n",
    "        rows=3, cols=1, subplot_titles=(\"<b>Histogram<b>\", \"<b>Box plot<b>\", \"<b>Average {} for {}<b>\".format(feature_, data_title))\n",
    "    )\n",
    "    \n",
    "    tmp_df = df_[~df_[feature_].isnull()]\n",
    "    \n",
    "    values = tmp_df[feature_].values\n",
    "    # Average\n",
    "    average = values.mean()\n",
    "\n",
    "    # Add traces\n",
    "    fig.add_trace(go.Histogram(x= values, name = 'Histogram'), row=1, col=1)\n",
    "\n",
    "    xo = [data_title for x in range(0, len(values))]\n",
    "    fig.add_trace(go.Box(y = values, x = xo, name = 'Box plot'), row=2, col=1)\n",
    "    fig.add_trace(go.Bar(x=[data_title], y = [average], width = [0.3], name = 'Bar plot'),  row=3, col=1)\n",
    "\n",
    "    # Update xaxis properties\n",
    "    fig.update_xaxes(title_text=str(feature_), row=1, col=1)\n",
    "   # fig.update_xaxes(title_text=str(feature_), row=2, col=1)\n",
    "   # fig.update_xaxes(title_text=str(feature_), row=3, col=1)\n",
    "   \n",
    "\n",
    "    # Update yaxis properties\n",
    "    fig.update_yaxes(title_text='Count', row=1, col=1)\n",
    "    fig.update_yaxes(title_text=str(feature_), row=2, col=1)\n",
    "    fig.update_yaxes(title_text=str(feature_), range = [0, 110], row=3, col=1)\n",
    "    \n",
    "    # Update suplot title sizes\n",
    "    fig.update_annotations(font_size= 20,)\n",
    "\n",
    "    # Update title and height\n",
    "    fig.update_layout(\n",
    "        title_text= \"<b>Distributions of {} for {}<b>\".format(feature_, data_title), height= 750, width = 1000,\n",
    "        uniformtext_minsize=8, uniformtext_mode='hide',  \n",
    "        font=dict(\n",
    "            family=\"Courier New, monospace\",\n",
    "            size=16,\n",
    "            )\n",
    "            )\n",
    "        \n",
    "        \n",
    "\n",
    "\n",
    "    return fig.show()\n",
    "    \n",
    "    "
   ]
  },
  {
   "cell_type": "code",
   "execution_count": 316,
   "id": "1b544d47",
   "metadata": {},
   "outputs": [],
   "source": [
    "def multiple_subset_feature_visualization(df_,  feature_1, feature_2):\n",
    "    \"\"\" Takes in an array of values and will output a histogram / boxplot / average\"\"\" \n",
    "    fig = make_subplots(\n",
    "        rows=3, cols=1, subplot_titles=(\"<b>Histogram<b>\", \"<b>Box plot<b>\", \"<b>Average {} for each {}<b>\".format(feature_2, feature_1))\n",
    "    )\n",
    "\n",
    "    # Assign tmp_df based on feature\n",
    "    if feature_1 == 'age':\n",
    "        tmp_df = df_[df_['age'] != '<NA>']\n",
    "    else:\n",
    "        tmp_df = df_[~df_[feature_1].isnull()]\n",
    "\n",
    "    categories = [d for d in tmp_df[feature_1].unique()]\n",
    "    categories.sort()\n",
    "\n",
    "    # Populate the graph\n",
    "    for category_ in categories:\n",
    "        subset_feature_2 = tmp_df[tmp_df[feature_1] == category_][feature_2].values\n",
    "        avg = tmp_df[tmp_df[feature_1] == category_][feature_2].mean()\n",
    "        # Add histogram\n",
    "        fig.add_trace(\n",
    "            go.Histogram(\n",
    "                x= subset_feature_2,\n",
    "                name = str(category_) + ' Histogram',\n",
    "                ),\n",
    "                \n",
    "                row=1, col=1\n",
    "                \n",
    "        )\n",
    "        # Add Boxplot\n",
    "        ## Need to create an array that is similar to the array used in subset_feature_2, to name the traces!\n",
    "        xo = [str(category_) for x in range(0, len(subset_feature_2))]\n",
    "        \n",
    "        fig.add_trace(\n",
    "            go.Box(\n",
    "                y= subset_feature_2, x = xo,\n",
    "                name = str(category_) + ' Box',\n",
    "                ),\n",
    "                \n",
    "                row=2, col=1\n",
    "                \n",
    "        )\n",
    "        # Add Bar\n",
    "       # count= len(subset_feature_2)\n",
    "\n",
    "\n",
    "       # print(subset_feature_2)\n",
    "        fig.add_trace(\n",
    "            go.Bar(\n",
    "                x= [str(category_)], y = [avg],\n",
    "                text = '<b>{}<b>'.format(avg), \n",
    "                textposition='outside',\n",
    "                name= str(category_) + ' Bar',\n",
    "                textfont=dict(\n",
    "                family='sans serif',\n",
    "                size=18,\n",
    "                color='#1f77b4'\n",
    "                )\n",
    "                \n",
    "            ), \n",
    "            row =3, col = 1\n",
    "                \n",
    "        )\n",
    "\n",
    "\n",
    "\n",
    "    \n",
    "   # tmp_df = df_[~df_[feature_].isnull()]\n",
    "    \n",
    "   # values = tmp_df[feature_2].values\n",
    "\n",
    "\n",
    "    # Update xaxis properties\n",
    "    fig.update_xaxes(title_text=str(feature_2), row=1, col=1)\n",
    "    fig.update_xaxes(title_text=str(feature_1), row=2, col=1)\n",
    "    fig.update_xaxes(title_text=str(feature_1), row=3, col=1)\n",
    "   \n",
    "\n",
    "    # Update yaxis properties\n",
    "    fig.update_yaxes(title_text='Count', row=1, col=1)\n",
    "    fig.update_yaxes(title_text=str(feature_2), row=2, col=1)\n",
    "    fig.update_yaxes(title_text=str(feature_2), range = [0, 125], row=3, col=1)\n",
    "    \n",
    "    # Update suplot title sizes\n",
    "    fig.update_annotations(font_size= 20,)\n",
    "\n",
    "\n",
    "    # Update title and height\n",
    "    fig.update_layout(\n",
    "        title_text= \"<b>Distributions of {} for each {}<b>\".format(feature_2, feature_1), height= 750, width = 1000,\n",
    "        uniformtext_minsize=8, uniformtext_mode='hide',  \n",
    "        font=dict(\n",
    "            family=\"Courier New, monospace\",\n",
    "            size=16,\n",
    "            )\n",
    "        \n",
    "        )\n",
    "            \n",
    "\n",
    "\n",
    "    return fig.show()"
   ]
  },
  {
   "cell_type": "code",
   "execution_count": 317,
   "id": "bc7bb9c0",
   "metadata": {},
   "outputs": [],
   "source": [
    "def plot_bar(indices_, values_, yrange_, xaxis_title, yaxis_title, title_):\n",
    "    \"\"\"Given indices and values populate a bar graph \"\"\"\n",
    "\n",
    "    fig = go.Figure()\n",
    "    for idx, val in zip(indices_, values_):\n",
    "        ## Check for Frequency vs Count \n",
    "\n",
    "        fig.add_trace(\n",
    "            go.Bar(\n",
    "                x= [str(idx)], y = [val],\n",
    "                text = '<b>{}<b>'.format(val), \n",
    "                name= str(idx)\n",
    "            )\n",
    "                \n",
    "        )\n",
    "\n",
    "    # Update trace properties\n",
    "        \n",
    "    # Update axis properties\n",
    "    fig.update_yaxes(\n",
    "        title_text= yaxis_title, range = yrange_\n",
    "        )\n",
    "    \n",
    "    fig.update_xaxes(\n",
    "        title_text= xaxis_title\n",
    "        )\n",
    "\n",
    "    # Update trace properties\n",
    "    fig.update_traces(\n",
    "        textposition='outside',\n",
    "        textfont=dict(\n",
    "            family='sans serif',\n",
    "            size=16,\n",
    "            color='#1f77b4'\n",
    "            )\n",
    "            )\n",
    "            \n",
    "    # Update layout of plot\n",
    "    fig.update_layout(\n",
    "        title = title_, height= 750, width = 1000,\n",
    "        uniformtext_minsize=8, uniformtext_mode='hide',  \n",
    "        font=dict(\n",
    "            family=\"Courier New, monospace\",\n",
    "            size=16,\n",
    "            )\n",
    "            )\n",
    "\n",
    "    return fig.show()"
   ]
  },
  {
   "cell_type": "code",
   "execution_count": 318,
   "id": "96c89fc6",
   "metadata": {},
   "outputs": [],
   "source": [
    "def plot_box(indices_, values_, yrange_, xaxis_title, yaxis_title, title_):\n",
    "    \"\"\"Given indices and values populate a bar graph \"\"\"\n",
    "\n",
    "\n",
    "    fig = go.Figure()\n",
    "    for trace_, name_ in zip(values_, indices_):\n",
    "        fig.add_trace(go.Box(y = trace_, name = name_))\n",
    "\n",
    "    # Update trace properties\n",
    "        \n",
    "    # Update axis properties\n",
    "    fig.update_yaxes(\n",
    "        title_text= yaxis_title, range = yrange_\n",
    "        )\n",
    "    \n",
    "    fig.update_xaxes(\n",
    "        title_text= xaxis_title\n",
    "        )\n",
    "\n",
    "    # Update trace properties\n",
    "\n",
    "            \n",
    "    # Update layout of plot\n",
    "    fig.update_layout(\n",
    "        title = title_, height= 750, width = 1000,\n",
    "        uniformtext_minsize=8, uniformtext_mode='hide',  \n",
    "        font=dict(\n",
    "            family=\"Courier New, monospace\",\n",
    "            size=16,\n",
    "            )\n",
    "            )\n",
    "\n",
    "    return fig.show()"
   ]
  },
  {
   "cell_type": "code",
   "execution_count": 319,
   "id": "ee16b524",
   "metadata": {},
   "outputs": [],
   "source": [
    "def plot_scatter(indices_, values_, yrange_, xaxis_title, yaxis_title, title_):\n",
    "    \"\"\"Given indices and values populate a bar graph \"\"\"\n",
    "\n",
    "    fig = go.Figure()\n",
    "\n",
    "    fig.add_trace(go.Scatter( x = indices, y = values_, mode = 'lines', name = 'Line', marker = dict(color = \"rgba(135, 206, 250, 0.5)\" )\n",
    "\n",
    "    )\n",
    "    )\n",
    "\n",
    "    for idx, val in zip(indices_, values_):\n",
    "        ## Check for Frequency vs Count \n",
    "\n",
    "        fig.add_trace(\n",
    "            go.Scatter(\n",
    "                x= [str(idx)], y = [val],\n",
    "                text = '<b>{}<b>'.format(val), \n",
    "                name= str(idx), \n",
    "                marker=dict(size = 12, \n",
    "                \n",
    "            ),\n",
    "            mode='lines+markers+text'\n",
    "                \n",
    "        )\n",
    "        )\n",
    "\n",
    "\n",
    "    # Update trace properties\n",
    "        \n",
    "    # Update axis properties\n",
    "    fig.update_yaxes(\n",
    "        title_text= yaxis_title, range = yrange_\n",
    "        )\n",
    "    \n",
    "    fig.update_xaxes(\n",
    "        title_text= xaxis_title\n",
    "        )\n",
    "    \n",
    "    # Update trace properties\n",
    "    fig.update_traces(\n",
    "        textposition='bottom center',\n",
    "        textfont=dict(\n",
    "            family='sans serif',\n",
    "            size=12,\n",
    "            color='#1f77b4'\n",
    "            )\n",
    "            )\n",
    "       \n",
    "    # Update layout of plot\n",
    "    fig.update_layout(\n",
    "        title = title_, height= 750, width = 1000,\n",
    "        uniformtext_minsize=8, uniformtext_mode='hide',  \n",
    "        font=dict(\n",
    "            family=\"Courier New, monospace\",\n",
    "            size=16,\n",
    "            )\n",
    "            )\n",
    "\n",
    "    return fig.show()"
   ]
  },
  {
   "cell_type": "code",
   "execution_count": 320,
   "id": "3d294517",
   "metadata": {},
   "outputs": [],
   "source": [
    "def activity_scatter(dict_,  yrange_, xaxis_title, yaxis_title, title_):\n",
    "    \"\"\"Given indices and values populate a bar graph \"\"\"\n",
    "\n",
    "    fig = go.Figure()\n",
    "\n",
    "   # fig.add_trace(go.Scatter( x = indices, y = values_, mode = 'lines', name = 'Line', marker = dict(color = \"rgba(135, 206, 250, 0.5)\" )\n",
    "\n",
    "   # )\n",
    "  #  )\n",
    "\n",
    "    for topic in dict_.keys():\n",
    "        # What does the daily user activity look like?\n",
    "        indices = [x for x in dict_[topic].keys()]\n",
    "        values = [x for x in dict_[topic].values()]\n",
    "\n",
    "\n",
    "        # Add traces\n",
    "        fig.add_trace(\n",
    "            go.Scatter(\n",
    "                x= indices, y = values, name = topic,\n",
    "                #text = '<b>{}<b>'.format(values), \n",
    "                #name= str(indices), \n",
    "                marker=dict(size = 12, \n",
    "                \n",
    "            ),\n",
    "            mode='lines+markers+text'\n",
    "                \n",
    "        )\n",
    "        )\n",
    "\n",
    "\n",
    "\n",
    "\n",
    "        \n",
    "    # Update axis properties\n",
    "    fig.update_yaxes(\n",
    "        title_text= yaxis_title, range = yrange_\n",
    "        )\n",
    "    \n",
    "    fig.update_xaxes(\n",
    "        title_text= xaxis_title\n",
    "        )\n",
    "    \n",
    "    # Update trace properties\n",
    "    fig.update_traces(\n",
    "        textposition='bottom center',\n",
    "        textfont=dict(\n",
    "            family='sans serif',\n",
    "            size=12,\n",
    "            color='#1f77b4'\n",
    "            )\n",
    "            )\n",
    "       \n",
    "    # Update layout of plot\n",
    "    fig.update_layout(\n",
    "        title = title_, height= 750, width = 1000,\n",
    "        uniformtext_minsize=8, uniformtext_mode='hide',  \n",
    "        font=dict(\n",
    "            family=\"Courier New, monospace\",\n",
    "            size=16,\n",
    "            )\n",
    "            )\n",
    "\n",
    "    return fig.show()"
   ]
  },
  {
   "cell_type": "markdown",
   "id": "043b676b",
   "metadata": {},
   "source": [
    "## Overall Feature Analysis"
   ]
  },
  {
   "cell_type": "markdown",
   "id": "c6d72253",
   "metadata": {},
   "source": [
    "### Number of Impressions"
   ]
  },
  {
   "cell_type": "code",
   "execution_count": null,
   "id": "5c533c41",
   "metadata": {},
   "outputs": [],
   "source": [
    "# Number of Impressions\n",
    "single_subset_bar(df_ = df, feature_ = 'impression_id', xaxis_title = 'Number of Impressions', yrange = [0, 80000])"
   ]
  },
  {
   "cell_type": "markdown",
   "id": "9ce973c6",
   "metadata": {},
   "source": [
    "### Distribution of Readtimes"
   ]
  },
  {
   "cell_type": "code",
   "execution_count": null,
   "id": "6ce66858",
   "metadata": {},
   "outputs": [],
   "source": [
    "single_subset_feature_visualization(df_ = df, feature_ = 'read_time')"
   ]
  },
  {
   "cell_type": "markdown",
   "id": "c99341fb",
   "metadata": {},
   "source": [
    "### Distribution of Scroll Percentages"
   ]
  },
  {
   "cell_type": "code",
   "execution_count": null,
   "id": "94105522",
   "metadata": {},
   "outputs": [],
   "source": [
    "single_subset_feature_visualization(df_ = df, feature_ = 'scroll_percentage')"
   ]
  },
  {
   "cell_type": "markdown",
   "id": "5668d320",
   "metadata": {},
   "source": [
    "## Users"
   ]
  },
  {
   "cell_type": "markdown",
   "id": "a7d88858",
   "metadata": {},
   "source": [
    "### Number of Users\n"
   ]
  },
  {
   "cell_type": "code",
   "execution_count": null,
   "id": "04ebff53",
   "metadata": {},
   "outputs": [],
   "source": [
    "single_subset_bar(df_ = df, feature_ = 'user_id', xaxis_title = 'Number of Users', yrange = [0, 11000])"
   ]
  },
  {
   "cell_type": "markdown",
   "id": "361ef1f1",
   "metadata": {},
   "source": [
    "### Daily User growth"
   ]
  },
  {
   "cell_type": "code",
   "execution_count": null,
   "id": "d61b4f2f",
   "metadata": {},
   "outputs": [],
   "source": [
    "unique_user_ids = df['user_id'].unique()\n",
    "\n",
    "# Create dictionaries\n",
    "unique_users_daily_growth_freq= {}\n",
    "unique_users_hourly_freq = {}\n",
    "unique_users_dayofweek_freq = {}\n",
    "unique_users_weekly_freq = {}\n",
    "\n",
    "for id in unique_user_ids:\n",
    "    # Get the subset of that user id\n",
    "    tmp_df = df[df['user_id'] == id]\n",
    "    first_index = tmp_df['impression_time_fixed'].index[0]\n",
    "    tmp_datetime = pd.DatetimeIndex(tmp_df['impression_time_fixed'][first_index])\n",
    "    tmp_date = tmp_datetime[0].date()\n",
    "    join_date = tmp_date.strftime('%m/%d/%Y')\n",
    "    #join_date = join_date.strftime('%m/%d/%Y')\n",
    "    \n",
    "    if join_date not in unique_users_daily_growth_freq:\n",
    "        unique_users_daily_growth_freq[join_date] = 1\n",
    "    else:\n",
    "        unique_users_daily_growth_freq[join_date] +=1\n",
    "    \n",
    "unique_users_daily_growth_freq = dict(sorted(unique_users_daily_growth_freq.items()))"
   ]
  },
  {
   "cell_type": "code",
   "execution_count": null,
   "id": "f2bafa25",
   "metadata": {},
   "outputs": [],
   "source": [
    "indices = [x for x in unique_users_daily_growth_freq.keys()]\n",
    "values = [x for x in unique_users_daily_growth_freq.values()]\n",
    "\n",
    "fig = go.Figure()\n",
    "\n",
    "\n",
    "# Add traces\n",
    "fig.add_trace(go.Bar(x = indices, y = values,\n",
    "                         \n",
    "                         )\n",
    "\n",
    ")\n",
    "\n",
    "fig.update_traces(texttemplate='%{text:.2s}', textposition='outside')\n",
    "fig.update_layout(uniformtext_minsize=8, uniformtext_mode='hide')\n",
    "\n",
    "fig.show()"
   ]
  },
  {
   "cell_type": "markdown",
   "id": "0bf6f358",
   "metadata": {},
   "source": [
    "### Average readtime per user"
   ]
  },
  {
   "cell_type": "code",
   "execution_count": null,
   "id": "fc8a48f2",
   "metadata": {},
   "outputs": [],
   "source": [
    "## Average readtime per user\n",
    "\n",
    "tmp_user_df = pd.DataFrame(data = df.groupby(by =  'user_id')['read_time'].mean(), columns = ['read_time'])\n",
    "single_subset_feature_visualization(df_ = tmp_user_df,  feature_ = 'read_time', data_title = 'Unique Users')\n",
    "\n"
   ]
  },
  {
   "cell_type": "markdown",
   "id": "e4424d9e",
   "metadata": {},
   "source": [
    "### Average scroll percentage per user"
   ]
  },
  {
   "cell_type": "code",
   "execution_count": null,
   "id": "53bab00e",
   "metadata": {},
   "outputs": [],
   "source": [
    "## Average readtime per user\n",
    "\n",
    "tmp_user_df = pd.DataFrame(data = df.groupby(by =  'user_id')['scroll_percentage'].mean(), columns = ['scroll_percentage'])\n",
    "single_subset_feature_visualization(df_ = tmp_user_df,  feature_ = 'scroll_percentage', data_title = 'Unique Users')"
   ]
  },
  {
   "cell_type": "markdown",
   "id": "2ec7344e",
   "metadata": {},
   "source": [
    "### User Activity"
   ]
  },
  {
   "cell_type": "code",
   "execution_count": null,
   "id": "4983a754",
   "metadata": {},
   "outputs": [],
   "source": [
    "def populate_dict(list_, dict_):\n",
    "    \n",
    "    for idx in list_:\n",
    "        if idx not in dict_:\n",
    "            dict_[idx] = 1\n",
    "        else:\n",
    "            dict_[idx] += 1"
   ]
  },
  {
   "cell_type": "code",
   "execution_count": null,
   "id": "fd943554",
   "metadata": {},
   "outputs": [],
   "source": [
    "def weekly_map(list_):\n",
    "    weeks = [17, 18, 19, 20, 21, 22, 23, 24, 25, 26, 27]\n",
    "    placeholder = [i for i in range(1, 9)]\n",
    "    dict_ = {k:v for k,v in zip(weeks, placeholder)}\n",
    "    res = []\n",
    "\n",
    "    for idx in list_:\n",
    "        res.append('Week '+ str(dict_[idx]))\n",
    "    \n",
    "    return res\n"
   ]
  },
  {
   "cell_type": "code",
   "execution_count": null,
   "id": "cdc4d7d9",
   "metadata": {},
   "outputs": [],
   "source": [
    "def int_dow_dict(dict_):\n",
    "\n",
    "    str_dow = ['Monday', 'Tuesday', 'Wednesday' , 'Thursday', 'Friday', 'Saturday', 'Sunday']\n",
    "    int_dow = [i for i in range(7)]\n",
    "    dow_dict = {k:v for k,v in zip(int_dow, str_dow)}\n",
    "\n",
    "    res = {}\n",
    "\n",
    "    for keys in dict_.keys():\n",
    "        res[dow_dict[keys]] = dict_[keys]\n",
    "\n",
    "\n",
    "    \n",
    "    return res"
   ]
  },
  {
   "cell_type": "code",
   "execution_count": null,
   "id": "a0f2c916",
   "metadata": {},
   "outputs": [],
   "source": [
    "# Let's make subsets for each user_id and then populate the frequency based on that\n",
    "\n",
    "## Get all unique ids in a list\n",
    "\n",
    "unique_user_ids = df['user_id'].unique()[0:1000]\n",
    "\n",
    "# Create dictionaries\n",
    "unique_users_daily_freq = {}\n",
    "unique_users_hourly_freq = {}\n",
    "unique_users_dayofweek_freq = {}\n",
    "unique_users_weekly_freq = {}\n",
    "\n",
    "# Generate an empty dataframe with the unique user ids\n",
    "## append new entries\n",
    "\n",
    "for id in unique_user_ids:\n",
    "    # Get the subset of that user id\n",
    "    tmp_df = df[df['user_id'] == id]\n",
    "\n",
    "    # Now lets go through each and populate the unique dates, hours and day of the week for each user\n",
    "    dates = []\n",
    "    hours = []\n",
    "    dayofweek = []\n",
    "    week = []\n",
    "    indices = np.array(tmp_df.index)\n",
    "    \n",
    "    for i in indices:\n",
    "        tmp_datetime = pd.DatetimeIndex(tmp_df['impression_time_fixed'][i])\n",
    "        tmp_date = tmp_datetime.date\n",
    "        tmp_time = tmp_datetime.time\n",
    "        tmp_dayofweek = tmp_datetime.weekday\n",
    "        tmp_week = tmp_datetime.isocalendar().week\n",
    "\n",
    "        for j,k,l,m in zip(tmp_date, tmp_time, tmp_dayofweek, tmp_week):\n",
    "            dates.append(j)\n",
    "            hours.append(k)\n",
    "            dayofweek.append(l)\n",
    "            week.append(m)\n",
    "\n",
    "    \n",
    "    # Get rid of duplicate values\n",
    "    unique_dates = list(set(dates))\n",
    "    unique_hours = list(set(hours))\n",
    "    unique_dayofweek = list(set(dayofweek))\n",
    "    unique_week = list(set(week))\n",
    "    \n",
    "    # Convert to string\n",
    "    unique_hours = [x.hour for x in unique_hours]\n",
    "    unique_hours = [str(i) + ':00' if i > 9 else str(0) + str(i) + ':00' for i in unique_hours]\n",
    "\n",
    "    # Convert Week to W\n",
    "    # Convert the week int to mapping from 1++\n",
    "    unique_week= weekly_map(unique_week)\n",
    "        \n",
    "    # Populate dicts\n",
    "    populate_dict(list_ = unique_dates, dict_ = unique_users_daily_freq)\n",
    "    populate_dict(list_ = unique_hours, dict_ = unique_users_hourly_freq)\n",
    "    populate_dict(list_ = unique_dayofweek, dict_ = unique_users_dayofweek_freq)\n",
    "    populate_dict(list_ = unique_week, dict_ = unique_users_weekly_freq)\n",
    "\n",
    "\n",
    "# Create tmp dataframes\n",
    "unique_users_daily_freq = dict(sorted(unique_users_daily_freq.items()))\n",
    "unique_users_hourly_freq = dict(sorted(unique_users_hourly_freq.items()))\n",
    "\n",
    "# Sort by integers for day of the week and then lets chane the dict\n",
    "unique_users_dayofweek_freq = dict(sorted(unique_users_dayofweek_freq.items()))\n",
    "unique_users_dayofweek_freq = int_dow_dict(unique_users_dayofweek_freq)\n",
    "\n",
    "unique_users_weekly_freq = dict(sorted(unique_users_weekly_freq.items()))\n",
    "                "
   ]
  },
  {
   "cell_type": "markdown",
   "id": "7d544d44",
   "metadata": {},
   "source": [
    "#### Daily User Activity"
   ]
  },
  {
   "cell_type": "code",
   "execution_count": null,
   "id": "b7919508",
   "metadata": {},
   "outputs": [],
   "source": [
    "# What does the daily user activity look like?\n",
    "unique_users_daily_freq = dict(sorted(unique_users_daily_freq.items()))\n",
    "\n",
    "indices = [x for x in unique_users_daily_freq.keys()]\n",
    "values = [x for x in unique_users_daily_freq.values()]\n",
    "\n",
    "\n",
    "plot_scatter(\n",
    "    indices_ = indices , values_ = values,\n",
    "    yrange_ = [200, 900], xaxis_title = 'Date',\n",
    "    yaxis_title= 'Active Users', title_ = '<b>Daily Active Users<b>'\n",
    "    )"
   ]
  },
  {
   "cell_type": "markdown",
   "id": "51f0156b",
   "metadata": {},
   "source": [
    "#### Hourly User Activity"
   ]
  },
  {
   "cell_type": "code",
   "execution_count": null,
   "id": "d4a4ba10",
   "metadata": {},
   "outputs": [],
   "source": [
    "# What does the hourly user activity look like?\n",
    "indices = [x for x in unique_users_hourly_freq.keys()]\n",
    "values = [x for x in unique_users_hourly_freq.values()]\n",
    "\n",
    "fig = go.Figure()\n",
    "\n",
    "plot_scatter(\n",
    "    indices_ = indices , values_ = values,\n",
    "    yrange_ = [0, 20000], xaxis_title = 'Hour',\n",
    "    yaxis_title= 'Active Users', title_ = '<b>Hourly Active Users<b>'\n",
    "    )"
   ]
  },
  {
   "cell_type": "markdown",
   "id": "16cef0a4",
   "metadata": {},
   "source": [
    "#### Weekly User Activity"
   ]
  },
  {
   "cell_type": "code",
   "execution_count": null,
   "id": "f4e5d006",
   "metadata": {},
   "outputs": [],
   "source": [
    "# What does the weekly user activity look like?\n",
    "indices = [x for x in unique_users_weekly_freq.keys()]\n",
    "values = [x for x in unique_users_weekly_freq.values()]\n",
    "\n",
    "plot_bar(\n",
    "    indices_ = indices, values_ = values,\n",
    "    yrange_ = [0, 1100], xaxis_title = 'Week',\n",
    "    yaxis_title= 'Active Users', title_ = '<b> Weekly Active Users <b>')"
   ]
  },
  {
   "cell_type": "markdown",
   "id": "0b047d88",
   "metadata": {},
   "source": [
    "#### Day Of The Week User Activity"
   ]
  },
  {
   "cell_type": "code",
   "execution_count": null,
   "id": "1ae2c648",
   "metadata": {},
   "outputs": [],
   "source": [
    "# What does the weekly user activity look like?\n",
    "indices = [x for x in unique_users_dayofweek_freq.keys()]\n",
    "values = [x for x in unique_users_dayofweek_freq.values()]\n",
    "\n",
    "plot_bar(\n",
    "    indices_ = indices, values_ = values,\n",
    "    yrange_ = [0, 1100], xaxis_title = 'Day',\n",
    "    yaxis_title= 'Active Users', title_ = '<b> Day of the Week Activity  <b>')"
   ]
  },
  {
   "cell_type": "markdown",
   "id": "812afcd3",
   "metadata": {},
   "source": [
    "## Session"
   ]
  },
  {
   "cell_type": "markdown",
   "id": "04d54dba",
   "metadata": {},
   "source": [
    "### Number of Sessions"
   ]
  },
  {
   "cell_type": "code",
   "execution_count": null,
   "id": "5866c5c2",
   "metadata": {},
   "outputs": [],
   "source": [
    "single_subset_bar(df_ = df, feature_ = 'session_id', xaxis_title = 'Number of Sessions', yrange = [0, 40000])"
   ]
  },
  {
   "cell_type": "markdown",
   "id": "ef76c067",
   "metadata": {},
   "source": [
    "### Average readtime per session"
   ]
  },
  {
   "cell_type": "code",
   "execution_count": null,
   "id": "cb93e965",
   "metadata": {},
   "outputs": [],
   "source": [
    "tmp_session_df = pd.DataFrame(data = df.groupby(by =  'session_id')['read_time'].mean(), columns = ['read_time'])\n",
    "single_subset_feature_visualization(df_ = tmp_session_df,  feature_ = 'read_time', data_title = 'Unique Sessions')"
   ]
  },
  {
   "cell_type": "markdown",
   "id": "52d99ce7",
   "metadata": {},
   "source": [
    "### Average scroll percentage per session"
   ]
  },
  {
   "cell_type": "code",
   "execution_count": null,
   "id": "78a83b04",
   "metadata": {},
   "outputs": [],
   "source": [
    "tmp_session_df = pd.DataFrame(data = df.groupby(by =  'session_id')['scroll_percentage'].mean(), columns = ['scroll_percentage'])\n",
    "single_subset_feature_visualization(df_ = tmp_session_df,  feature_ = 'scroll_percentage', data_title = 'Unique Sessions')"
   ]
  },
  {
   "cell_type": "markdown",
   "id": "d338324f",
   "metadata": {},
   "source": [
    "### Daily Active Sessions"
   ]
  },
  {
   "cell_type": "code",
   "execution_count": null,
   "id": "ac8b3a4c",
   "metadata": {},
   "outputs": [],
   "source": [
    "# Number of unique sessions per day\n",
    "copy_df = df.copy()\n",
    "copy_df['impression_time'] = copy_df['impression_time'].apply(lambda x: x.strftime('%m/%d/%Y'))\n",
    "\n",
    "unique_sessions_per_day = copy_df.groupby(by = 'session_id')['impression_time'].min()\n",
    "tmp_dau_df = pd.DataFrame(data = unique_sessions_per_day.values, index = unique_sessions_per_day.keys(), columns= ['Session Dates'])\n",
    "\n",
    "# Plot\n",
    "multiple_subset_bar(df_ = tmp_dau_df , feature_ = 'Session Dates', yrange = [0, 8000])"
   ]
  },
  {
   "cell_type": "markdown",
   "id": "9ae85ec3",
   "metadata": {},
   "source": [
    "## Topic"
   ]
  },
  {
   "cell_type": "markdown",
   "id": "49bd25db",
   "metadata": {},
   "source": [
    "### Number of Topics"
   ]
  },
  {
   "cell_type": "code",
   "execution_count": null,
   "id": "b2520bc9",
   "metadata": {},
   "outputs": [],
   "source": [
    "def unique_subset_topics(df_):\n",
    "    res = []\n",
    "    for index in df_['topics']:\n",
    "        for topic_ in index:\n",
    "            if topic_ not in res:\n",
    "                res.append(topic_)\n",
    "                \n",
    "    return res\n"
   ]
  },
  {
   "cell_type": "code",
   "execution_count": null,
   "id": "022c36a6",
   "metadata": {},
   "outputs": [],
   "source": [
    "\n",
    "# Create a Topics DF\n",
    "topic_list = unique_subset_topics(df)\n",
    "\n",
    "tmp_topic_df = pd.DataFrame(data = topic_list, columns = ['topics'])\n",
    "\n",
    "\n",
    "# Number of Topics\n",
    "single_subset_bar(df_ = tmp_topic_df, feature_ = 'topics', xaxis_title = 'Number of Topics', yrange = [0, 100])\n"
   ]
  },
  {
   "cell_type": "code",
   "execution_count": null,
   "id": "4516a2be",
   "metadata": {},
   "outputs": [],
   "source": [
    "def article_id_scroll_read (dict_, res):\n",
    "    \n",
    "    for k,v in zip(dict_.keys(), dict_.values()):\n",
    "        if (k in res.keys()):\n",
    "            tmp_array= np.append(res[k],v)\n",
    "            res[k] = tmp_array\n",
    "        if (k not in res.keys()):\n",
    "            res[k] = []\n",
    "    \n",
    "    return res"
   ]
  },
  {
   "cell_type": "code",
   "execution_count": null,
   "id": "94af56f9",
   "metadata": {},
   "outputs": [],
   "source": [
    "# Let's get unique_user_ids topics\n",
    "\n",
    "## Get all unique ids in a list\n",
    "\n",
    "unique_user_ids = df['user_id'].values[0:1000]\n",
    "\n",
    "# Create dictionaries\n",
    "unique_users_topics_freq= {}\n",
    "unique_topic_scroll_freq = {}\n",
    "unique_topic_read_freq = {}\n",
    "\n",
    "for id in unique_user_ids:\n",
    "    # Get the subset of that user id\n",
    "    tmp_df = df[df['user_id'] == id]\n",
    "\n",
    "    # Now lets go through each topic\n",
    "    indices = np.array(tmp_df.index)\n",
    "    for i in indices:\n",
    "        tmp_topics = tmp_df['topics'][i]\n",
    "        tmp_scroll = tmp_df['scroll_percentage'][i]\n",
    "        tmp_read = tmp_df['read_time'][i]\n",
    "\n",
    "        topics = [x for x in tmp_topics]\n",
    "        scroll = [tmp_scroll]\n",
    "        read = [tmp_read]\n",
    "\n",
    "    # Find the average scroll percentages across each topic  (Can be related to whether a topic doesnt require too much reading has visualizations)\n",
    "    ### Look at article_id for whichever topics the article is included in add that scroll percentage\n",
    "        tmp_topic_scroll = {k:v for k,v in zip(topics, scroll)}\n",
    "        unique_topic_scroll_freq = article_id_scroll_read(tmp_topic_scroll, unique_topic_scroll_freq)\n",
    "\n",
    "    # Find the average read time across each topic\n",
    "    ### Look at article_id for whichever topics the article is included in add that readtime \n",
    "        tmp_topic_read = {k:v for k,v in zip(topics, read)}\n",
    "        unique_topic_read_freq = article_id_scroll_read(tmp_topic_read, unique_topic_read_freq )\n",
    "\n",
    "    ## Unique User Topics\n",
    "    # Get rid of duplicate values\n",
    "    unique_topics = list(set(topics))\n",
    "\n",
    "    # Populate our dict\n",
    "    populate_dict(unique_topics, unique_users_topics_freq)\n",
    "\n",
    "\n",
    "# Sort the dictionaries\n",
    "sorted_topic_freq = dict(sorted(unique_users_topics_freq.items(), key = lambda x: x[1], reverse = True))\n",
    "\n",
    "# Find the average read times across each topic\n",
    "unique_topic_read_avg_freq = {k:round(np.nanmean(v), 2) for k,v in zip(unique_topic_read_freq.keys(), unique_topic_read_freq.values()) }\n",
    "sorted_unique_topic_read_avg_freq = dict(sorted(unique_topic_read_avg_freq.items(), key = lambda x: x[1], reverse = True))\n",
    "\n",
    "# Sort the topics for distribution\n",
    "sorted_unique_topic_read_freq = dict(sorted(unique_topic_read_freq.items()))\n",
    "\n",
    "# Find the average scroll percentages across each topic\n",
    "unique_topic_scroll_avg_freq = {k:round(np.nanmean(v), 2) for k,v in zip(unique_topic_scroll_freq.keys(), unique_topic_scroll_freq.values()) }\n",
    "sorted_unique_topic_scroll_avg_freq = dict(sorted(unique_topic_scroll_avg_freq.items(), key = lambda x: x[1], reverse = True))\n",
    "\n",
    "# Sort the topics scroll pct for distribution\n",
    "sorted_unique_topic_scroll_freq = dict(sorted(unique_topic_scroll_freq.items()))\n"
   ]
  },
  {
   "cell_type": "markdown",
   "id": "2f3f54e8",
   "metadata": {},
   "source": [
    "### Distribution of Topics across users"
   ]
  },
  {
   "cell_type": "code",
   "execution_count": null,
   "id": "baa6df5b",
   "metadata": {},
   "outputs": [],
   "source": [
    "# What does the distribution of topics look like lets sort it?\n",
    "indices = [x for x in sorted_topic_freq.keys()][0:10]\n",
    "values = [x for x in sorted_topic_freq.values()][0:10]\n",
    "\n",
    "plot_bar(\n",
    "    indices_ = indices, values_ = values,\n",
    "    yrange_ = [0, 400], xaxis_title = 'Topics',\n",
    "    yaxis_title= 'Count', title_ = '<b> Top 10 Topics User Activity<b>')"
   ]
  },
  {
   "cell_type": "markdown",
   "id": "5ab41490",
   "metadata": {},
   "source": [
    "### Average readtime per topic"
   ]
  },
  {
   "cell_type": "code",
   "execution_count": null,
   "id": "a3bea6df",
   "metadata": {},
   "outputs": [],
   "source": [
    "indices = [x for x in sorted_unique_topic_read_avg_freq.keys()][0:5]\n",
    "values = [x for x in sorted_unique_topic_read_avg_freq.values()][0:5]\n",
    "\n",
    "plot_bar(\n",
    "    indices_ = indices, values_ = values,\n",
    "    yrange_ = [0, 150], xaxis_title = 'Topics',\n",
    "    yaxis_title= 'Read Time', title_ = '<b> Top 10 Topics User Activity<b>')"
   ]
  },
  {
   "cell_type": "code",
   "execution_count": null,
   "id": "e715b259",
   "metadata": {},
   "outputs": [],
   "source": [
    "# Boxplot\n",
    "\n",
    "indices = [x for x in sorted_unique_topic_read_freq.keys()]\n",
    "values = [x for x in sorted_unique_topic_read_freq.values()]\n",
    "\n",
    "plot_box(\n",
    "    indices_ = indices, values_ = values,\n",
    "    yrange_ = [0, 2000], xaxis_title = 'Topics',\n",
    "    yaxis_title= 'Read Time', title_ = '<b> Distributions of Read Times Across Each Topic<b>')\n"
   ]
  },
  {
   "cell_type": "markdown",
   "id": "8973adab",
   "metadata": {},
   "source": [
    "### Average scroll perct per topic"
   ]
  },
  {
   "cell_type": "code",
   "execution_count": null,
   "id": "c6732699",
   "metadata": {},
   "outputs": [],
   "source": [
    "indices = [x for x in sorted_unique_topic_scroll_avg_freq.keys()]\n",
    "values = [x for x in sorted_unique_topic_scroll_avg_freq.values()]\n",
    "\n",
    "plot_bar(\n",
    "    indices_ = indices, values_ = values,\n",
    "    yrange_ = [0, 104], xaxis_title = 'Topics',\n",
    "    yaxis_title= 'Read Time', title_ = '<b> Average Scroll Percentage Across Each Topic<b>')"
   ]
  },
  {
   "cell_type": "code",
   "execution_count": null,
   "id": "1e1c3d74",
   "metadata": {},
   "outputs": [],
   "source": [
    "# Boxplot\n",
    "indices = [x for x in sorted_unique_topic_scroll_freq.keys()]\n",
    "values = [x for x in sorted_unique_topic_scroll_freq.values()]\n",
    "\n",
    "plot_box(\n",
    "    indices_ = indices, values_ = values,\n",
    "    yrange_ = [0, 105], xaxis_title = 'Topics',\n",
    "    yaxis_title= 'Read Time', title_ = '<b> Distributions of Read Times Across Each Topic<b>')"
   ]
  },
  {
   "cell_type": "markdown",
   "id": "ea97be17",
   "metadata": {},
   "source": [
    "### Activity"
   ]
  },
  {
   "cell_type": "code",
   "execution_count": 330,
   "id": "144c7382",
   "metadata": {},
   "outputs": [],
   "source": [
    "# Get all the unique topics\n",
    "topic_list = unique_subset_topics(df)\n",
    "unique_topics = sorted(topic_list)\n",
    "\n",
    "# Get the list of each unqiue topic in a specific session \n",
    "topics = df.groupby(by = 'session_id')['topics'].apply(list)\n",
    "\n",
    "# Get the list of each unique timestamp for these sessions\n",
    "timestamps = df.groupby(by = 'session_id')['impression_time'].apply(list)\n",
    "\n",
    "unique_dates = []\n",
    "#unique_hours= [str(i) if i > 9 else str(0) + str(i) for i in range(24)]\n",
    "unique_hours = [i for i in range(24)]\n",
    "unique_hours = [str(i) + ':00' if i > 9 else str(0) + str(i) + ':00' for i in unique_hours]\n",
    "\n",
    "#unique_hours = [str(i) + ':00' if i > 9 else str(0) + str(i) + ':00' for i in unique_hours]\n",
    "\n",
    "# Iterare through each timestamp\n",
    "for i in range(len(timestamps.values)):\n",
    "    # Iterate through each idx\n",
    "    for j in range(len(timestamps.values[i])):\n",
    "        # Assign datetime and date objects\n",
    "        tmp_datetime = timestamps.values[i][j]\n",
    "        tmp_date = tmp_datetime.date()\n",
    "\n",
    "        # date not in unique dates, append\n",
    "        if tmp_date not in unique_dates:\n",
    "            unique_dates.append(tmp_date)\n",
    "\n",
    "# Sort dates\n",
    "unique_dates = sorted(unique_dates)\n",
    "\n",
    "# Instantiate dict objects with unique dates and unique key values set to 0\n",
    "unique_topic_daily_activity  = {k:{k:0 for k in unique_dates} for k in unique_topics}\n",
    "unique_topic_hourly_activity  = {k:{k:0 for k in unique_hours} for k in unique_topics}\n",
    "\n",
    "# Populate the dictionary\n",
    "## Iterate through each session id\n",
    "for i in zip(range(len(topics.values))):\n",
    "    # Iterate through each index of nested list\n",
    "    for j, k  in zip(range(0, len(topics.values[i][0])), range(0, len(i))):\n",
    "        tmp = topics.values[i][0][j]\n",
    "        # Assign a datetime and time object \n",
    "        tmp_datetime = timestamps.values[i][k]\n",
    "        tmp_date = tmp_datetime.date()\n",
    "        tmp_time = tmp_datetime.time()\n",
    "        tmp_hour = tmp_time.hour\n",
    "\n",
    "        # Convert hour into a string \n",
    "        if tmp_hour > 9:\n",
    "            tmp_time = str(tmp_hour) + ':00'\n",
    "            \n",
    "        else:\n",
    "            tmp_time = \"0\"+ str(tmp_hour) + ':00' \n",
    "        \n",
    "    \n",
    "        # Add to dictionary\n",
    "        unique_topic_daily_activity[tmp][tmp_date] +=1\n",
    "        unique_topic_hourly_activity[tmp][tmp_time] +=1\n"
   ]
  },
  {
   "cell_type": "markdown",
   "id": "3c0e4838",
   "metadata": {},
   "source": [
    "#### Daily"
   ]
  },
  {
   "cell_type": "code",
   "execution_count": 331,
   "id": "161a8ffe",
   "metadata": {},
   "outputs": [
    {
     "data": {
      "application/vnd.plotly.v1+json": {
       "config": {
        "plotlyServerURL": "https://plot.ly"
       },
       "data": [
        {
         "marker": {
          "size": 12
         },
         "mode": "lines+markers+text",
         "name": "Ansættelsesforhold",
         "textfont": {
          "color": "#1f77b4",
          "family": "sans serif",
          "size": 12
         },
         "textposition": "bottom center",
         "type": "scatter",
         "x": [
          "2023-05-18",
          "2023-05-19",
          "2023-05-20",
          "2023-05-21",
          "2023-05-22",
          "2023-05-23",
          "2023-05-24",
          "2023-05-25"
         ],
         "y": [
          0,
          0,
          0,
          0,
          0,
          0,
          0,
          0
         ]
        },
        {
         "marker": {
          "size": 12
         },
         "mode": "lines+markers+text",
         "name": "Bandekriminalitet",
         "textfont": {
          "color": "#1f77b4",
          "family": "sans serif",
          "size": 12
         },
         "textposition": "bottom center",
         "type": "scatter",
         "x": [
          "2023-05-18",
          "2023-05-19",
          "2023-05-20",
          "2023-05-21",
          "2023-05-22",
          "2023-05-23",
          "2023-05-24",
          "2023-05-25"
         ],
         "y": [
          0,
          0,
          0,
          0,
          0,
          0,
          0,
          0
         ]
        },
        {
         "marker": {
          "size": 12
         },
         "mode": "lines+markers+text",
         "name": "Bedrageri",
         "textfont": {
          "color": "#1f77b4",
          "family": "sans serif",
          "size": 12
         },
         "textposition": "bottom center",
         "type": "scatter",
         "x": [
          "2023-05-18",
          "2023-05-19",
          "2023-05-20",
          "2023-05-21",
          "2023-05-22",
          "2023-05-23",
          "2023-05-24",
          "2023-05-25"
         ],
         "y": [
          0,
          0,
          0,
          0,
          0,
          0,
          0,
          0
         ]
        },
        {
         "marker": {
          "size": 12
         },
         "mode": "lines+markers+text",
         "name": "Begivenhed",
         "textfont": {
          "color": "#1f77b4",
          "family": "sans serif",
          "size": 12
         },
         "textposition": "bottom center",
         "type": "scatter",
         "x": [
          "2023-05-18",
          "2023-05-19",
          "2023-05-20",
          "2023-05-21",
          "2023-05-22",
          "2023-05-23",
          "2023-05-24",
          "2023-05-25"
         ],
         "y": [
          538,
          462,
          459,
          483,
          291,
          246,
          363,
          53
         ]
        },
        {
         "marker": {
          "size": 12
         },
         "mode": "lines+markers+text",
         "name": "Bil",
         "textfont": {
          "color": "#1f77b4",
          "family": "sans serif",
          "size": 12
         },
         "textposition": "bottom center",
         "type": "scatter",
         "x": [
          "2023-05-18",
          "2023-05-19",
          "2023-05-20",
          "2023-05-21",
          "2023-05-22",
          "2023-05-23",
          "2023-05-24",
          "2023-05-25"
         ],
         "y": [
          0,
          0,
          0,
          0,
          0,
          0,
          0,
          0
         ]
        },
        {
         "marker": {
          "size": 12
         },
         "mode": "lines+markers+text",
         "name": "Bolig",
         "textfont": {
          "color": "#1f77b4",
          "family": "sans serif",
          "size": 12
         },
         "textposition": "bottom center",
         "type": "scatter",
         "x": [
          "2023-05-18",
          "2023-05-19",
          "2023-05-20",
          "2023-05-21",
          "2023-05-22",
          "2023-05-23",
          "2023-05-24",
          "2023-05-25"
         ],
         "y": [
          1,
          0,
          0,
          4,
          7,
          1,
          0,
          0
         ]
        },
        {
         "marker": {
          "size": 12
         },
         "mode": "lines+markers+text",
         "name": "Byliv",
         "textfont": {
          "color": "#1f77b4",
          "family": "sans serif",
          "size": 12
         },
         "textposition": "bottom center",
         "type": "scatter",
         "x": [
          "2023-05-18",
          "2023-05-19",
          "2023-05-20",
          "2023-05-21",
          "2023-05-22",
          "2023-05-23",
          "2023-05-24",
          "2023-05-25"
         ],
         "y": [
          0,
          0,
          0,
          0,
          0,
          0,
          0,
          0
         ]
        },
        {
         "marker": {
          "size": 12
         },
         "mode": "lines+markers+text",
         "name": "Bæredygtighed og klima",
         "textfont": {
          "color": "#1f77b4",
          "family": "sans serif",
          "size": 12
         },
         "textposition": "bottom center",
         "type": "scatter",
         "x": [
          "2023-05-18",
          "2023-05-19",
          "2023-05-20",
          "2023-05-21",
          "2023-05-22",
          "2023-05-23",
          "2023-05-24",
          "2023-05-25"
         ],
         "y": [
          0,
          0,
          0,
          0,
          0,
          0,
          0,
          0
         ]
        },
        {
         "marker": {
          "size": 12
         },
         "mode": "lines+markers+text",
         "name": "Cykling",
         "textfont": {
          "color": "#1f77b4",
          "family": "sans serif",
          "size": 12
         },
         "textposition": "bottom center",
         "type": "scatter",
         "x": [
          "2023-05-18",
          "2023-05-19",
          "2023-05-20",
          "2023-05-21",
          "2023-05-22",
          "2023-05-23",
          "2023-05-24",
          "2023-05-25"
         ],
         "y": [
          0,
          0,
          0,
          0,
          0,
          0,
          0,
          0
         ]
        },
        {
         "marker": {
          "size": 12
         },
         "mode": "lines+markers+text",
         "name": "Dyr",
         "textfont": {
          "color": "#1f77b4",
          "family": "sans serif",
          "size": 12
         },
         "textposition": "bottom center",
         "type": "scatter",
         "x": [
          "2023-05-18",
          "2023-05-19",
          "2023-05-20",
          "2023-05-21",
          "2023-05-22",
          "2023-05-23",
          "2023-05-24",
          "2023-05-25"
         ],
         "y": [
          0,
          45,
          30,
          141,
          15,
          2,
          83,
          5
         ]
        },
        {
         "marker": {
          "size": 12
         },
         "mode": "lines+markers+text",
         "name": "Erhverv",
         "textfont": {
          "color": "#1f77b4",
          "family": "sans serif",
          "size": 12
         },
         "textposition": "bottom center",
         "type": "scatter",
         "x": [
          "2023-05-18",
          "2023-05-19",
          "2023-05-20",
          "2023-05-21",
          "2023-05-22",
          "2023-05-23",
          "2023-05-24",
          "2023-05-25"
         ],
         "y": [
          380,
          1028,
          735,
          229,
          698,
          749,
          677,
          226
         ]
        },
        {
         "marker": {
          "size": 12
         },
         "mode": "lines+markers+text",
         "name": "Erotik",
         "textfont": {
          "color": "#1f77b4",
          "family": "sans serif",
          "size": 12
         },
         "textposition": "bottom center",
         "type": "scatter",
         "x": [
          "2023-05-18",
          "2023-05-19",
          "2023-05-20",
          "2023-05-21",
          "2023-05-22",
          "2023-05-23",
          "2023-05-24",
          "2023-05-25"
         ],
         "y": [
          0,
          0,
          0,
          0,
          0,
          0,
          0,
          0
         ]
        },
        {
         "marker": {
          "size": 12
         },
         "mode": "lines+markers+text",
         "name": "Familieliv",
         "textfont": {
          "color": "#1f77b4",
          "family": "sans serif",
          "size": 12
         },
         "textposition": "bottom center",
         "type": "scatter",
         "x": [
          "2023-05-18",
          "2023-05-19",
          "2023-05-20",
          "2023-05-21",
          "2023-05-22",
          "2023-05-23",
          "2023-05-24",
          "2023-05-25"
         ],
         "y": [
          0,
          0,
          0,
          0,
          0,
          0,
          0,
          0
         ]
        },
        {
         "marker": {
          "size": 12
         },
         "mode": "lines+markers+text",
         "name": "Film og tv",
         "textfont": {
          "color": "#1f77b4",
          "family": "sans serif",
          "size": 12
         },
         "textposition": "bottom center",
         "type": "scatter",
         "x": [
          "2023-05-18",
          "2023-05-19",
          "2023-05-20",
          "2023-05-21",
          "2023-05-22",
          "2023-05-23",
          "2023-05-24",
          "2023-05-25"
         ],
         "y": [
          0,
          0,
          0,
          0,
          0,
          0,
          0,
          0
         ]
        },
        {
         "marker": {
          "size": 12
         },
         "mode": "lines+markers+text",
         "name": "Fodbold",
         "textfont": {
          "color": "#1f77b4",
          "family": "sans serif",
          "size": 12
         },
         "textposition": "bottom center",
         "type": "scatter",
         "x": [
          "2023-05-18",
          "2023-05-19",
          "2023-05-20",
          "2023-05-21",
          "2023-05-22",
          "2023-05-23",
          "2023-05-24",
          "2023-05-25"
         ],
         "y": [
          0,
          0,
          0,
          0,
          0,
          0,
          0,
          0
         ]
        },
        {
         "marker": {
          "size": 12
         },
         "mode": "lines+markers+text",
         "name": "Forbrugerelektronik",
         "textfont": {
          "color": "#1f77b4",
          "family": "sans serif",
          "size": 12
         },
         "textposition": "bottom center",
         "type": "scatter",
         "x": [
          "2023-05-18",
          "2023-05-19",
          "2023-05-20",
          "2023-05-21",
          "2023-05-22",
          "2023-05-23",
          "2023-05-24",
          "2023-05-25"
         ],
         "y": [
          0,
          0,
          0,
          0,
          0,
          0,
          0,
          0
         ]
        },
        {
         "marker": {
          "size": 12
         },
         "mode": "lines+markers+text",
         "name": "Fritid",
         "textfont": {
          "color": "#1f77b4",
          "family": "sans serif",
          "size": 12
         },
         "textposition": "bottom center",
         "type": "scatter",
         "x": [
          "2023-05-18",
          "2023-05-19",
          "2023-05-20",
          "2023-05-21",
          "2023-05-22",
          "2023-05-23",
          "2023-05-24",
          "2023-05-25"
         ],
         "y": [
          0,
          0,
          0,
          0,
          0,
          0,
          0,
          0
         ]
        },
        {
         "marker": {
          "size": 12
         },
         "mode": "lines+markers+text",
         "name": "Grundskole",
         "textfont": {
          "color": "#1f77b4",
          "family": "sans serif",
          "size": 12
         },
         "textposition": "bottom center",
         "type": "scatter",
         "x": [
          "2023-05-18",
          "2023-05-19",
          "2023-05-20",
          "2023-05-21",
          "2023-05-22",
          "2023-05-23",
          "2023-05-24",
          "2023-05-25"
         ],
         "y": [
          0,
          0,
          0,
          0,
          0,
          0,
          0,
          0
         ]
        },
        {
         "marker": {
          "size": 12
         },
         "mode": "lines+markers+text",
         "name": "Håndbold",
         "textfont": {
          "color": "#1f77b4",
          "family": "sans serif",
          "size": 12
         },
         "textposition": "bottom center",
         "type": "scatter",
         "x": [
          "2023-05-18",
          "2023-05-19",
          "2023-05-20",
          "2023-05-21",
          "2023-05-22",
          "2023-05-23",
          "2023-05-24",
          "2023-05-25"
         ],
         "y": [
          0,
          0,
          0,
          0,
          0,
          0,
          0,
          0
         ]
        },
        {
         "marker": {
          "size": 12
         },
         "mode": "lines+markers+text",
         "name": "International politik",
         "textfont": {
          "color": "#1f77b4",
          "family": "sans serif",
          "size": 12
         },
         "textposition": "bottom center",
         "type": "scatter",
         "x": [
          "2023-05-18",
          "2023-05-19",
          "2023-05-20",
          "2023-05-21",
          "2023-05-22",
          "2023-05-23",
          "2023-05-24",
          "2023-05-25"
         ],
         "y": [
          0,
          58,
          0,
          0,
          0,
          0,
          48,
          1
         ]
        },
        {
         "marker": {
          "size": 12
         },
         "mode": "lines+markers+text",
         "name": "Katastrofe",
         "textfont": {
          "color": "#1f77b4",
          "family": "sans serif",
          "size": 12
         },
         "textposition": "bottom center",
         "type": "scatter",
         "x": [
          "2023-05-18",
          "2023-05-19",
          "2023-05-20",
          "2023-05-21",
          "2023-05-22",
          "2023-05-23",
          "2023-05-24",
          "2023-05-25"
         ],
         "y": [
          80,
          134,
          101,
          213,
          206,
          233,
          16,
          1
         ]
        },
        {
         "marker": {
          "size": 12
         },
         "mode": "lines+markers+text",
         "name": "Kendt",
         "textfont": {
          "color": "#1f77b4",
          "family": "sans serif",
          "size": 12
         },
         "textposition": "bottom center",
         "type": "scatter",
         "x": [
          "2023-05-18",
          "2023-05-19",
          "2023-05-20",
          "2023-05-21",
          "2023-05-22",
          "2023-05-23",
          "2023-05-24",
          "2023-05-25"
         ],
         "y": [
          1101,
          1679,
          1816,
          1987,
          1809,
          1302,
          1818,
          426
         ]
        },
        {
         "marker": {
          "size": 12
         },
         "mode": "lines+markers+text",
         "name": "Ketcher- og batsport",
         "textfont": {
          "color": "#1f77b4",
          "family": "sans serif",
          "size": 12
         },
         "textposition": "bottom center",
         "type": "scatter",
         "x": [
          "2023-05-18",
          "2023-05-19",
          "2023-05-20",
          "2023-05-21",
          "2023-05-22",
          "2023-05-23",
          "2023-05-24",
          "2023-05-25"
         ],
         "y": [
          0,
          0,
          0,
          0,
          0,
          0,
          0,
          0
         ]
        },
        {
         "marker": {
          "size": 12
         },
         "mode": "lines+markers+text",
         "name": "Konflikt og krig",
         "textfont": {
          "color": "#1f77b4",
          "family": "sans serif",
          "size": 12
         },
         "textposition": "bottom center",
         "type": "scatter",
         "x": [
          "2023-05-18",
          "2023-05-19",
          "2023-05-20",
          "2023-05-21",
          "2023-05-22",
          "2023-05-23",
          "2023-05-24",
          "2023-05-25"
         ],
         "y": [
          0,
          4,
          3,
          11,
          124,
          4,
          5,
          1
         ]
        },
        {
         "marker": {
          "size": 12
         },
         "mode": "lines+markers+text",
         "name": "Kosmetisk behandling",
         "textfont": {
          "color": "#1f77b4",
          "family": "sans serif",
          "size": 12
         },
         "textposition": "bottom center",
         "type": "scatter",
         "x": [
          "2023-05-18",
          "2023-05-19",
          "2023-05-20",
          "2023-05-21",
          "2023-05-22",
          "2023-05-23",
          "2023-05-24",
          "2023-05-25"
         ],
         "y": [
          0,
          0,
          0,
          0,
          0,
          0,
          0,
          0
         ]
        },
        {
         "marker": {
          "size": 12
         },
         "mode": "lines+markers+text",
         "name": "Kriminalitet",
         "textfont": {
          "color": "#1f77b4",
          "family": "sans serif",
          "size": 12
         },
         "textposition": "bottom center",
         "type": "scatter",
         "x": [
          "2023-05-18",
          "2023-05-19",
          "2023-05-20",
          "2023-05-21",
          "2023-05-22",
          "2023-05-23",
          "2023-05-24",
          "2023-05-25"
         ],
         "y": [
          751,
          1064,
          634,
          710,
          870,
          1132,
          961,
          197
         ]
        },
        {
         "marker": {
          "size": 12
         },
         "mode": "lines+markers+text",
         "name": "Krop og velvære",
         "textfont": {
          "color": "#1f77b4",
          "family": "sans serif",
          "size": 12
         },
         "textposition": "bottom center",
         "type": "scatter",
         "x": [
          "2023-05-18",
          "2023-05-19",
          "2023-05-20",
          "2023-05-21",
          "2023-05-22",
          "2023-05-23",
          "2023-05-24",
          "2023-05-25"
         ],
         "y": [
          0,
          0,
          0,
          0,
          1,
          0,
          0,
          0
         ]
        },
        {
         "marker": {
          "size": 12
         },
         "mode": "lines+markers+text",
         "name": "Kultur",
         "textfont": {
          "color": "#1f77b4",
          "family": "sans serif",
          "size": 12
         },
         "textposition": "bottom center",
         "type": "scatter",
         "x": [
          "2023-05-18",
          "2023-05-19",
          "2023-05-20",
          "2023-05-21",
          "2023-05-22",
          "2023-05-23",
          "2023-05-24",
          "2023-05-25"
         ],
         "y": [
          59,
          83,
          12,
          4,
          1,
          19,
          102,
          0
         ]
        },
        {
         "marker": {
          "size": 12
         },
         "mode": "lines+markers+text",
         "name": "Kunst",
         "textfont": {
          "color": "#1f77b4",
          "family": "sans serif",
          "size": 12
         },
         "textposition": "bottom center",
         "type": "scatter",
         "x": [
          "2023-05-18",
          "2023-05-19",
          "2023-05-20",
          "2023-05-21",
          "2023-05-22",
          "2023-05-23",
          "2023-05-24",
          "2023-05-25"
         ],
         "y": [
          0,
          0,
          0,
          0,
          0,
          0,
          0,
          0
         ]
        },
        {
         "marker": {
          "size": 12
         },
         "mode": "lines+markers+text",
         "name": "Kunstig intelligens og software",
         "textfont": {
          "color": "#1f77b4",
          "family": "sans serif",
          "size": 12
         },
         "textposition": "bottom center",
         "type": "scatter",
         "x": [
          "2023-05-18",
          "2023-05-19",
          "2023-05-20",
          "2023-05-21",
          "2023-05-22",
          "2023-05-23",
          "2023-05-24",
          "2023-05-25"
         ],
         "y": [
          0,
          0,
          0,
          0,
          0,
          0,
          0,
          0
         ]
        },
        {
         "marker": {
          "size": 12
         },
         "mode": "lines+markers+text",
         "name": "Køb og salg",
         "textfont": {
          "color": "#1f77b4",
          "family": "sans serif",
          "size": 12
         },
         "textposition": "bottom center",
         "type": "scatter",
         "x": [
          "2023-05-18",
          "2023-05-19",
          "2023-05-20",
          "2023-05-21",
          "2023-05-22",
          "2023-05-23",
          "2023-05-24",
          "2023-05-25"
         ],
         "y": [
          0,
          0,
          0,
          0,
          0,
          0,
          0,
          0
         ]
        },
        {
         "marker": {
          "size": 12
         },
         "mode": "lines+markers+text",
         "name": "Litteratur",
         "textfont": {
          "color": "#1f77b4",
          "family": "sans serif",
          "size": 12
         },
         "textposition": "bottom center",
         "type": "scatter",
         "x": [
          "2023-05-18",
          "2023-05-19",
          "2023-05-20",
          "2023-05-21",
          "2023-05-22",
          "2023-05-23",
          "2023-05-24",
          "2023-05-25"
         ],
         "y": [
          0,
          0,
          0,
          0,
          0,
          0,
          0,
          0
         ]
        },
        {
         "marker": {
          "size": 12
         },
         "mode": "lines+markers+text",
         "name": "Livsstil",
         "textfont": {
          "color": "#1f77b4",
          "family": "sans serif",
          "size": 12
         },
         "textposition": "bottom center",
         "type": "scatter",
         "x": [
          "2023-05-18",
          "2023-05-19",
          "2023-05-20",
          "2023-05-21",
          "2023-05-22",
          "2023-05-23",
          "2023-05-24",
          "2023-05-25"
         ],
         "y": [
          123,
          153,
          183,
          367,
          260,
          288,
          367,
          11
         ]
        },
        {
         "marker": {
          "size": 12
         },
         "mode": "lines+markers+text",
         "name": "Mad og drikke",
         "textfont": {
          "color": "#1f77b4",
          "family": "sans serif",
          "size": 12
         },
         "textposition": "bottom center",
         "type": "scatter",
         "x": [
          "2023-05-18",
          "2023-05-19",
          "2023-05-20",
          "2023-05-21",
          "2023-05-22",
          "2023-05-23",
          "2023-05-24",
          "2023-05-25"
         ],
         "y": [
          0,
          0,
          0,
          0,
          0,
          0,
          0,
          0
         ]
        },
        {
         "marker": {
          "size": 12
         },
         "mode": "lines+markers+text",
         "name": "Makro",
         "textfont": {
          "color": "#1f77b4",
          "family": "sans serif",
          "size": 12
         },
         "textposition": "bottom center",
         "type": "scatter",
         "x": [
          "2023-05-18",
          "2023-05-19",
          "2023-05-20",
          "2023-05-21",
          "2023-05-22",
          "2023-05-23",
          "2023-05-24",
          "2023-05-25"
         ],
         "y": [
          0,
          0,
          0,
          0,
          0,
          0,
          0,
          0
         ]
        },
        {
         "marker": {
          "size": 12
         },
         "mode": "lines+markers+text",
         "name": "Mikro",
         "textfont": {
          "color": "#1f77b4",
          "family": "sans serif",
          "size": 12
         },
         "textposition": "bottom center",
         "type": "scatter",
         "x": [
          "2023-05-18",
          "2023-05-19",
          "2023-05-20",
          "2023-05-21",
          "2023-05-22",
          "2023-05-23",
          "2023-05-24",
          "2023-05-25"
         ],
         "y": [
          0,
          0,
          0,
          0,
          0,
          0,
          0,
          0
         ]
        },
        {
         "marker": {
          "size": 12
         },
         "mode": "lines+markers+text",
         "name": "Mindre transportmiddel",
         "textfont": {
          "color": "#1f77b4",
          "family": "sans serif",
          "size": 12
         },
         "textposition": "bottom center",
         "type": "scatter",
         "x": [
          "2023-05-18",
          "2023-05-19",
          "2023-05-20",
          "2023-05-21",
          "2023-05-22",
          "2023-05-23",
          "2023-05-24",
          "2023-05-25"
         ],
         "y": [
          0,
          0,
          0,
          0,
          0,
          0,
          0,
          0
         ]
        },
        {
         "marker": {
          "size": 12
         },
         "mode": "lines+markers+text",
         "name": "Mindre ulykke",
         "textfont": {
          "color": "#1f77b4",
          "family": "sans serif",
          "size": 12
         },
         "textposition": "bottom center",
         "type": "scatter",
         "x": [
          "2023-05-18",
          "2023-05-19",
          "2023-05-20",
          "2023-05-21",
          "2023-05-22",
          "2023-05-23",
          "2023-05-24",
          "2023-05-25"
         ],
         "y": [
          0,
          0,
          0,
          0,
          0,
          0,
          0,
          0
         ]
        },
        {
         "marker": {
          "size": 12
         },
         "mode": "lines+markers+text",
         "name": "Motorsport",
         "textfont": {
          "color": "#1f77b4",
          "family": "sans serif",
          "size": 12
         },
         "textposition": "bottom center",
         "type": "scatter",
         "x": [
          "2023-05-18",
          "2023-05-19",
          "2023-05-20",
          "2023-05-21",
          "2023-05-22",
          "2023-05-23",
          "2023-05-24",
          "2023-05-25"
         ],
         "y": [
          0,
          0,
          0,
          0,
          0,
          0,
          0,
          0
         ]
        },
        {
         "marker": {
          "size": 12
         },
         "mode": "lines+markers+text",
         "name": "Museum og seværdighed",
         "textfont": {
          "color": "#1f77b4",
          "family": "sans serif",
          "size": 12
         },
         "textposition": "bottom center",
         "type": "scatter",
         "x": [
          "2023-05-18",
          "2023-05-19",
          "2023-05-20",
          "2023-05-21",
          "2023-05-22",
          "2023-05-23",
          "2023-05-24",
          "2023-05-25"
         ],
         "y": [
          0,
          0,
          0,
          0,
          0,
          0,
          0,
          0
         ]
        },
        {
         "marker": {
          "size": 12
         },
         "mode": "lines+markers+text",
         "name": "Musik og lyd",
         "textfont": {
          "color": "#1f77b4",
          "family": "sans serif",
          "size": 12
         },
         "textposition": "bottom center",
         "type": "scatter",
         "x": [
          "2023-05-18",
          "2023-05-19",
          "2023-05-20",
          "2023-05-21",
          "2023-05-22",
          "2023-05-23",
          "2023-05-24",
          "2023-05-25"
         ],
         "y": [
          0,
          0,
          0,
          0,
          0,
          0,
          0,
          0
         ]
        },
        {
         "marker": {
          "size": 12
         },
         "mode": "lines+markers+text",
         "name": "Mærkedag",
         "textfont": {
          "color": "#1f77b4",
          "family": "sans serif",
          "size": 12
         },
         "textposition": "bottom center",
         "type": "scatter",
         "x": [
          "2023-05-18",
          "2023-05-19",
          "2023-05-20",
          "2023-05-21",
          "2023-05-22",
          "2023-05-23",
          "2023-05-24",
          "2023-05-25"
         ],
         "y": [
          0,
          0,
          0,
          0,
          0,
          0,
          0,
          0
         ]
        },
        {
         "marker": {
          "size": 12
         },
         "mode": "lines+markers+text",
         "name": "National politik",
         "textfont": {
          "color": "#1f77b4",
          "family": "sans serif",
          "size": 12
         },
         "textposition": "bottom center",
         "type": "scatter",
         "x": [
          "2023-05-18",
          "2023-05-19",
          "2023-05-20",
          "2023-05-21",
          "2023-05-22",
          "2023-05-23",
          "2023-05-24",
          "2023-05-25"
         ],
         "y": [
          0,
          0,
          0,
          0,
          0,
          0,
          0,
          0
         ]
        },
        {
         "marker": {
          "size": 12
         },
         "mode": "lines+markers+text",
         "name": "Naturvidenskab",
         "textfont": {
          "color": "#1f77b4",
          "family": "sans serif",
          "size": 12
         },
         "textposition": "bottom center",
         "type": "scatter",
         "x": [
          "2023-05-18",
          "2023-05-19",
          "2023-05-20",
          "2023-05-21",
          "2023-05-22",
          "2023-05-23",
          "2023-05-24",
          "2023-05-25"
         ],
         "y": [
          0,
          0,
          0,
          0,
          0,
          0,
          0,
          0
         ]
        },
        {
         "marker": {
          "size": 12
         },
         "mode": "lines+markers+text",
         "name": "Offentlig instans",
         "textfont": {
          "color": "#1f77b4",
          "family": "sans serif",
          "size": 12
         },
         "textposition": "bottom center",
         "type": "scatter",
         "x": [
          "2023-05-18",
          "2023-05-19",
          "2023-05-20",
          "2023-05-21",
          "2023-05-22",
          "2023-05-23",
          "2023-05-24",
          "2023-05-25"
         ],
         "y": [
          0,
          0,
          0,
          0,
          0,
          0,
          0,
          0
         ]
        },
        {
         "marker": {
          "size": 12
         },
         "mode": "lines+markers+text",
         "name": "Offentlig transport",
         "textfont": {
          "color": "#1f77b4",
          "family": "sans serif",
          "size": 12
         },
         "textposition": "bottom center",
         "type": "scatter",
         "x": [
          "2023-05-18",
          "2023-05-19",
          "2023-05-20",
          "2023-05-21",
          "2023-05-22",
          "2023-05-23",
          "2023-05-24",
          "2023-05-25"
         ],
         "y": [
          0,
          0,
          0,
          0,
          0,
          0,
          0,
          0
         ]
        },
        {
         "marker": {
          "size": 12
         },
         "mode": "lines+markers+text",
         "name": "Partnerskab",
         "textfont": {
          "color": "#1f77b4",
          "family": "sans serif",
          "size": 12
         },
         "textposition": "bottom center",
         "type": "scatter",
         "x": [
          "2023-05-18",
          "2023-05-19",
          "2023-05-20",
          "2023-05-21",
          "2023-05-22",
          "2023-05-23",
          "2023-05-24",
          "2023-05-25"
         ],
         "y": [
          0,
          0,
          0,
          0,
          0,
          0,
          0,
          0
         ]
        },
        {
         "marker": {
          "size": 12
         },
         "mode": "lines+markers+text",
         "name": "Personfarlig kriminalitet",
         "textfont": {
          "color": "#1f77b4",
          "family": "sans serif",
          "size": 12
         },
         "textposition": "bottom center",
         "type": "scatter",
         "x": [
          "2023-05-18",
          "2023-05-19",
          "2023-05-20",
          "2023-05-21",
          "2023-05-22",
          "2023-05-23",
          "2023-05-24",
          "2023-05-25"
         ],
         "y": [
          0,
          0,
          0,
          0,
          0,
          0,
          0,
          0
         ]
        },
        {
         "marker": {
          "size": 12
         },
         "mode": "lines+markers+text",
         "name": "Personlig begivenhed",
         "textfont": {
          "color": "#1f77b4",
          "family": "sans serif",
          "size": 12
         },
         "textposition": "bottom center",
         "type": "scatter",
         "x": [
          "2023-05-18",
          "2023-05-19",
          "2023-05-20",
          "2023-05-21",
          "2023-05-22",
          "2023-05-23",
          "2023-05-24",
          "2023-05-25"
         ],
         "y": [
          0,
          0,
          0,
          0,
          0,
          0,
          0,
          0
         ]
        },
        {
         "marker": {
          "size": 12
         },
         "mode": "lines+markers+text",
         "name": "Politik",
         "textfont": {
          "color": "#1f77b4",
          "family": "sans serif",
          "size": 12
         },
         "textposition": "bottom center",
         "type": "scatter",
         "x": [
          "2023-05-18",
          "2023-05-19",
          "2023-05-20",
          "2023-05-21",
          "2023-05-22",
          "2023-05-23",
          "2023-05-24",
          "2023-05-25"
         ],
         "y": [
          228,
          177,
          86,
          119,
          695,
          300,
          294,
          103
         ]
        },
        {
         "marker": {
          "size": 12
         },
         "mode": "lines+markers+text",
         "name": "Privat virksomhed",
         "textfont": {
          "color": "#1f77b4",
          "family": "sans serif",
          "size": 12
         },
         "textposition": "bottom center",
         "type": "scatter",
         "x": [
          "2023-05-18",
          "2023-05-19",
          "2023-05-20",
          "2023-05-21",
          "2023-05-22",
          "2023-05-23",
          "2023-05-24",
          "2023-05-25"
         ],
         "y": [
          0,
          0,
          0,
          0,
          0,
          0,
          0,
          0
         ]
        },
        {
         "marker": {
          "size": 12
         },
         "mode": "lines+markers+text",
         "name": "Reality",
         "textfont": {
          "color": "#1f77b4",
          "family": "sans serif",
          "size": 12
         },
         "textposition": "bottom center",
         "type": "scatter",
         "x": [
          "2023-05-18",
          "2023-05-19",
          "2023-05-20",
          "2023-05-21",
          "2023-05-22",
          "2023-05-23",
          "2023-05-24",
          "2023-05-25"
         ],
         "y": [
          0,
          0,
          0,
          0,
          0,
          0,
          0,
          0
         ]
        },
        {
         "marker": {
          "size": 12
         },
         "mode": "lines+markers+text",
         "name": "Rejse",
         "textfont": {
          "color": "#1f77b4",
          "family": "sans serif",
          "size": 12
         },
         "textposition": "bottom center",
         "type": "scatter",
         "x": [
          "2023-05-18",
          "2023-05-19",
          "2023-05-20",
          "2023-05-21",
          "2023-05-22",
          "2023-05-23",
          "2023-05-24",
          "2023-05-25"
         ],
         "y": [
          0,
          0,
          0,
          0,
          0,
          0,
          0,
          0
         ]
        },
        {
         "marker": {
          "size": 12
         },
         "mode": "lines+markers+text",
         "name": "Religion",
         "textfont": {
          "color": "#1f77b4",
          "family": "sans serif",
          "size": 12
         },
         "textposition": "bottom center",
         "type": "scatter",
         "x": [
          "2023-05-18",
          "2023-05-19",
          "2023-05-20",
          "2023-05-21",
          "2023-05-22",
          "2023-05-23",
          "2023-05-24",
          "2023-05-25"
         ],
         "y": [
          0,
          0,
          0,
          0,
          0,
          0,
          0,
          0
         ]
        },
        {
         "marker": {
          "size": 12
         },
         "mode": "lines+markers+text",
         "name": "Renovering og indretning",
         "textfont": {
          "color": "#1f77b4",
          "family": "sans serif",
          "size": 12
         },
         "textposition": "bottom center",
         "type": "scatter",
         "x": [
          "2023-05-18",
          "2023-05-19",
          "2023-05-20",
          "2023-05-21",
          "2023-05-22",
          "2023-05-23",
          "2023-05-24",
          "2023-05-25"
         ],
         "y": [
          0,
          0,
          0,
          0,
          0,
          0,
          0,
          0
         ]
        },
        {
         "marker": {
          "size": 12
         },
         "mode": "lines+markers+text",
         "name": "Samfund",
         "textfont": {
          "color": "#1f77b4",
          "family": "sans serif",
          "size": 12
         },
         "textposition": "bottom center",
         "type": "scatter",
         "x": [
          "2023-05-18",
          "2023-05-19",
          "2023-05-20",
          "2023-05-21",
          "2023-05-22",
          "2023-05-23",
          "2023-05-24",
          "2023-05-25"
         ],
         "y": [
          314,
          132,
          141,
          118,
          63,
          35,
          68,
          0
         ]
        },
        {
         "marker": {
          "size": 12
         },
         "mode": "lines+markers+text",
         "name": "Samfundsvidenskab og humaniora",
         "textfont": {
          "color": "#1f77b4",
          "family": "sans serif",
          "size": 12
         },
         "textposition": "bottom center",
         "type": "scatter",
         "x": [
          "2023-05-18",
          "2023-05-19",
          "2023-05-20",
          "2023-05-21",
          "2023-05-22",
          "2023-05-23",
          "2023-05-24",
          "2023-05-25"
         ],
         "y": [
          0,
          0,
          0,
          0,
          0,
          0,
          0,
          0
         ]
        },
        {
         "marker": {
          "size": 12
         },
         "mode": "lines+markers+text",
         "name": "Sport",
         "textfont": {
          "color": "#1f77b4",
          "family": "sans serif",
          "size": 12
         },
         "textposition": "bottom center",
         "type": "scatter",
         "x": [
          "2023-05-18",
          "2023-05-19",
          "2023-05-20",
          "2023-05-21",
          "2023-05-22",
          "2023-05-23",
          "2023-05-24",
          "2023-05-25"
         ],
         "y": [
          0,
          0,
          0,
          46,
          57,
          3,
          7,
          3
         ]
        },
        {
         "marker": {
          "size": 12
         },
         "mode": "lines+markers+text",
         "name": "Sportsbegivenhed",
         "textfont": {
          "color": "#1f77b4",
          "family": "sans serif",
          "size": 12
         },
         "textposition": "bottom center",
         "type": "scatter",
         "x": [
          "2023-05-18",
          "2023-05-19",
          "2023-05-20",
          "2023-05-21",
          "2023-05-22",
          "2023-05-23",
          "2023-05-24",
          "2023-05-25"
         ],
         "y": [
          0,
          0,
          0,
          0,
          0,
          0,
          0,
          0
         ]
        },
        {
         "marker": {
          "size": 12
         },
         "mode": "lines+markers+text",
         "name": "Større katastrofe",
         "textfont": {
          "color": "#1f77b4",
          "family": "sans serif",
          "size": 12
         },
         "textposition": "bottom center",
         "type": "scatter",
         "x": [
          "2023-05-18",
          "2023-05-19",
          "2023-05-20",
          "2023-05-21",
          "2023-05-22",
          "2023-05-23",
          "2023-05-24",
          "2023-05-25"
         ],
         "y": [
          0,
          0,
          0,
          0,
          0,
          0,
          0,
          0
         ]
        },
        {
         "marker": {
          "size": 12
         },
         "mode": "lines+markers+text",
         "name": "Større transportmiddel",
         "textfont": {
          "color": "#1f77b4",
          "family": "sans serif",
          "size": 12
         },
         "textposition": "bottom center",
         "type": "scatter",
         "x": [
          "2023-05-18",
          "2023-05-19",
          "2023-05-20",
          "2023-05-21",
          "2023-05-22",
          "2023-05-23",
          "2023-05-24",
          "2023-05-25"
         ],
         "y": [
          0,
          0,
          0,
          0,
          0,
          0,
          0,
          0
         ]
        },
        {
         "marker": {
          "size": 12
         },
         "mode": "lines+markers+text",
         "name": "Sundhed",
         "textfont": {
          "color": "#1f77b4",
          "family": "sans serif",
          "size": 12
         },
         "textposition": "bottom center",
         "type": "scatter",
         "x": [
          "2023-05-18",
          "2023-05-19",
          "2023-05-20",
          "2023-05-21",
          "2023-05-22",
          "2023-05-23",
          "2023-05-24",
          "2023-05-25"
         ],
         "y": [
          35,
          1,
          1,
          33,
          22,
          5,
          41,
          0
         ]
        },
        {
         "marker": {
          "size": 12
         },
         "mode": "lines+markers+text",
         "name": "Sygdom og behandling",
         "textfont": {
          "color": "#1f77b4",
          "family": "sans serif",
          "size": 12
         },
         "textposition": "bottom center",
         "type": "scatter",
         "x": [
          "2023-05-18",
          "2023-05-19",
          "2023-05-20",
          "2023-05-21",
          "2023-05-22",
          "2023-05-23",
          "2023-05-24",
          "2023-05-25"
         ],
         "y": [
          0,
          0,
          0,
          0,
          0,
          0,
          0,
          0
         ]
        },
        {
         "marker": {
          "size": 12
         },
         "mode": "lines+markers+text",
         "name": "Teknologi",
         "textfont": {
          "color": "#1f77b4",
          "family": "sans serif",
          "size": 12
         },
         "textposition": "bottom center",
         "type": "scatter",
         "x": [
          "2023-05-18",
          "2023-05-19",
          "2023-05-20",
          "2023-05-21",
          "2023-05-22",
          "2023-05-23",
          "2023-05-24",
          "2023-05-25"
         ],
         "y": [
          16,
          33,
          0,
          0,
          0,
          38,
          82,
          15
         ]
        },
        {
         "marker": {
          "size": 12
         },
         "mode": "lines+markers+text",
         "name": "Tendenser",
         "textfont": {
          "color": "#1f77b4",
          "family": "sans serif",
          "size": 12
         },
         "textposition": "bottom center",
         "type": "scatter",
         "x": [
          "2023-05-18",
          "2023-05-19",
          "2023-05-20",
          "2023-05-21",
          "2023-05-22",
          "2023-05-23",
          "2023-05-24",
          "2023-05-25"
         ],
         "y": [
          0,
          0,
          0,
          0,
          0,
          0,
          0,
          0
         ]
        },
        {
         "marker": {
          "size": 12
         },
         "mode": "lines+markers+text",
         "name": "Terror",
         "textfont": {
          "color": "#1f77b4",
          "family": "sans serif",
          "size": 12
         },
         "textposition": "bottom center",
         "type": "scatter",
         "x": [
          "2023-05-18",
          "2023-05-19",
          "2023-05-20",
          "2023-05-21",
          "2023-05-22",
          "2023-05-23",
          "2023-05-24",
          "2023-05-25"
         ],
         "y": [
          0,
          0,
          0,
          0,
          0,
          0,
          0,
          0
         ]
        },
        {
         "marker": {
          "size": 12
         },
         "mode": "lines+markers+text",
         "name": "Transportmiddel",
         "textfont": {
          "color": "#1f77b4",
          "family": "sans serif",
          "size": 12
         },
         "textposition": "bottom center",
         "type": "scatter",
         "x": [
          "2023-05-18",
          "2023-05-19",
          "2023-05-20",
          "2023-05-21",
          "2023-05-22",
          "2023-05-23",
          "2023-05-24",
          "2023-05-25"
         ],
         "y": [
          211,
          158,
          263,
          277,
          206,
          129,
          407,
          51
         ]
        },
        {
         "marker": {
          "size": 12
         },
         "mode": "lines+markers+text",
         "name": "Uddannelse",
         "textfont": {
          "color": "#1f77b4",
          "family": "sans serif",
          "size": 12
         },
         "textposition": "bottom center",
         "type": "scatter",
         "x": [
          "2023-05-18",
          "2023-05-19",
          "2023-05-20",
          "2023-05-21",
          "2023-05-22",
          "2023-05-23",
          "2023-05-24",
          "2023-05-25"
         ],
         "y": [
          58,
          0,
          1,
          0,
          0,
          33,
          46,
          8
         ]
        },
        {
         "marker": {
          "size": 12
         },
         "mode": "lines+markers+text",
         "name": "Udlejning",
         "textfont": {
          "color": "#1f77b4",
          "family": "sans serif",
          "size": 12
         },
         "textposition": "bottom center",
         "type": "scatter",
         "x": [
          "2023-05-18",
          "2023-05-19",
          "2023-05-20",
          "2023-05-21",
          "2023-05-22",
          "2023-05-23",
          "2023-05-24",
          "2023-05-25"
         ],
         "y": [
          0,
          0,
          0,
          0,
          0,
          0,
          0,
          0
         ]
        },
        {
         "marker": {
          "size": 12
         },
         "mode": "lines+markers+text",
         "name": "Underholdning",
         "textfont": {
          "color": "#1f77b4",
          "family": "sans serif",
          "size": 12
         },
         "textposition": "bottom center",
         "type": "scatter",
         "x": [
          "2023-05-18",
          "2023-05-19",
          "2023-05-20",
          "2023-05-21",
          "2023-05-22",
          "2023-05-23",
          "2023-05-24",
          "2023-05-25"
         ],
         "y": [
          172,
          134,
          87,
          187,
          90,
          110,
          2,
          58
         ]
        },
        {
         "marker": {
          "size": 12
         },
         "mode": "lines+markers+text",
         "name": "Underholdningsbegivenhed",
         "textfont": {
          "color": "#1f77b4",
          "family": "sans serif",
          "size": 12
         },
         "textposition": "bottom center",
         "type": "scatter",
         "x": [
          "2023-05-18",
          "2023-05-19",
          "2023-05-20",
          "2023-05-21",
          "2023-05-22",
          "2023-05-23",
          "2023-05-24",
          "2023-05-25"
         ],
         "y": [
          0,
          0,
          0,
          0,
          0,
          0,
          0,
          0
         ]
        },
        {
         "marker": {
          "size": 12
         },
         "mode": "lines+markers+text",
         "name": "Ungdomsuddannelse",
         "textfont": {
          "color": "#1f77b4",
          "family": "sans serif",
          "size": 12
         },
         "textposition": "bottom center",
         "type": "scatter",
         "x": [
          "2023-05-18",
          "2023-05-19",
          "2023-05-20",
          "2023-05-21",
          "2023-05-22",
          "2023-05-23",
          "2023-05-24",
          "2023-05-25"
         ],
         "y": [
          0,
          0,
          0,
          0,
          0,
          0,
          0,
          0
         ]
        },
        {
         "marker": {
          "size": 12
         },
         "mode": "lines+markers+text",
         "name": "Vejr",
         "textfont": {
          "color": "#1f77b4",
          "family": "sans serif",
          "size": 12
         },
         "textposition": "bottom center",
         "type": "scatter",
         "x": [
          "2023-05-18",
          "2023-05-19",
          "2023-05-20",
          "2023-05-21",
          "2023-05-22",
          "2023-05-23",
          "2023-05-24",
          "2023-05-25"
         ],
         "y": [
          1,
          25,
          63,
          131,
          212,
          52,
          42,
          25
         ]
        },
        {
         "marker": {
          "size": 12
         },
         "mode": "lines+markers+text",
         "name": "Videnskab",
         "textfont": {
          "color": "#1f77b4",
          "family": "sans serif",
          "size": 12
         },
         "textposition": "bottom center",
         "type": "scatter",
         "x": [
          "2023-05-18",
          "2023-05-19",
          "2023-05-20",
          "2023-05-21",
          "2023-05-22",
          "2023-05-23",
          "2023-05-24",
          "2023-05-25"
         ],
         "y": [
          2,
          0,
          0,
          86,
          67,
          9,
          2,
          0
         ]
        },
        {
         "marker": {
          "size": 12
         },
         "mode": "lines+markers+text",
         "name": "Videregående uddannelse",
         "textfont": {
          "color": "#1f77b4",
          "family": "sans serif",
          "size": 12
         },
         "textposition": "bottom center",
         "type": "scatter",
         "x": [
          "2023-05-18",
          "2023-05-19",
          "2023-05-20",
          "2023-05-21",
          "2023-05-22",
          "2023-05-23",
          "2023-05-24",
          "2023-05-25"
         ],
         "y": [
          0,
          0,
          0,
          0,
          0,
          0,
          0,
          0
         ]
        },
        {
         "marker": {
          "size": 12
         },
         "mode": "lines+markers+text",
         "name": "Væbnet konflikt",
         "textfont": {
          "color": "#1f77b4",
          "family": "sans serif",
          "size": 12
         },
         "textposition": "bottom center",
         "type": "scatter",
         "x": [
          "2023-05-18",
          "2023-05-19",
          "2023-05-20",
          "2023-05-21",
          "2023-05-22",
          "2023-05-23",
          "2023-05-24",
          "2023-05-25"
         ],
         "y": [
          0,
          0,
          0,
          0,
          0,
          0,
          0,
          0
         ]
        },
        {
         "marker": {
          "size": 12
         },
         "mode": "lines+markers+text",
         "name": "Værdier",
         "textfont": {
          "color": "#1f77b4",
          "family": "sans serif",
          "size": 12
         },
         "textposition": "bottom center",
         "type": "scatter",
         "x": [
          "2023-05-18",
          "2023-05-19",
          "2023-05-20",
          "2023-05-21",
          "2023-05-22",
          "2023-05-23",
          "2023-05-24",
          "2023-05-25"
         ],
         "y": [
          0,
          0,
          0,
          0,
          0,
          0,
          0,
          0
         ]
        },
        {
         "marker": {
          "size": 12
         },
         "mode": "lines+markers+text",
         "name": "Økonomi",
         "textfont": {
          "color": "#1f77b4",
          "family": "sans serif",
          "size": 12
         },
         "textposition": "bottom center",
         "type": "scatter",
         "x": [
          "2023-05-18",
          "2023-05-19",
          "2023-05-20",
          "2023-05-21",
          "2023-05-22",
          "2023-05-23",
          "2023-05-24",
          "2023-05-25"
         ],
         "y": [
          109,
          64,
          50,
          19,
          185,
          75,
          65,
          21
         ]
        }
       ],
       "layout": {
        "font": {
         "family": "Courier New, monospace",
         "size": 16
        },
        "height": 750,
        "template": {
         "data": {
          "bar": [
           {
            "error_x": {
             "color": "#2a3f5f"
            },
            "error_y": {
             "color": "#2a3f5f"
            },
            "marker": {
             "line": {
              "color": "#E5ECF6",
              "width": 0.5
             },
             "pattern": {
              "fillmode": "overlay",
              "size": 10,
              "solidity": 0.2
             }
            },
            "type": "bar"
           }
          ],
          "barpolar": [
           {
            "marker": {
             "line": {
              "color": "#E5ECF6",
              "width": 0.5
             },
             "pattern": {
              "fillmode": "overlay",
              "size": 10,
              "solidity": 0.2
             }
            },
            "type": "barpolar"
           }
          ],
          "carpet": [
           {
            "aaxis": {
             "endlinecolor": "#2a3f5f",
             "gridcolor": "white",
             "linecolor": "white",
             "minorgridcolor": "white",
             "startlinecolor": "#2a3f5f"
            },
            "baxis": {
             "endlinecolor": "#2a3f5f",
             "gridcolor": "white",
             "linecolor": "white",
             "minorgridcolor": "white",
             "startlinecolor": "#2a3f5f"
            },
            "type": "carpet"
           }
          ],
          "choropleth": [
           {
            "colorbar": {
             "outlinewidth": 0,
             "ticks": ""
            },
            "type": "choropleth"
           }
          ],
          "contour": [
           {
            "colorbar": {
             "outlinewidth": 0,
             "ticks": ""
            },
            "colorscale": [
             [
              0,
              "#0d0887"
             ],
             [
              0.1111111111111111,
              "#46039f"
             ],
             [
              0.2222222222222222,
              "#7201a8"
             ],
             [
              0.3333333333333333,
              "#9c179e"
             ],
             [
              0.4444444444444444,
              "#bd3786"
             ],
             [
              0.5555555555555556,
              "#d8576b"
             ],
             [
              0.6666666666666666,
              "#ed7953"
             ],
             [
              0.7777777777777778,
              "#fb9f3a"
             ],
             [
              0.8888888888888888,
              "#fdca26"
             ],
             [
              1,
              "#f0f921"
             ]
            ],
            "type": "contour"
           }
          ],
          "contourcarpet": [
           {
            "colorbar": {
             "outlinewidth": 0,
             "ticks": ""
            },
            "type": "contourcarpet"
           }
          ],
          "heatmap": [
           {
            "colorbar": {
             "outlinewidth": 0,
             "ticks": ""
            },
            "colorscale": [
             [
              0,
              "#0d0887"
             ],
             [
              0.1111111111111111,
              "#46039f"
             ],
             [
              0.2222222222222222,
              "#7201a8"
             ],
             [
              0.3333333333333333,
              "#9c179e"
             ],
             [
              0.4444444444444444,
              "#bd3786"
             ],
             [
              0.5555555555555556,
              "#d8576b"
             ],
             [
              0.6666666666666666,
              "#ed7953"
             ],
             [
              0.7777777777777778,
              "#fb9f3a"
             ],
             [
              0.8888888888888888,
              "#fdca26"
             ],
             [
              1,
              "#f0f921"
             ]
            ],
            "type": "heatmap"
           }
          ],
          "heatmapgl": [
           {
            "colorbar": {
             "outlinewidth": 0,
             "ticks": ""
            },
            "colorscale": [
             [
              0,
              "#0d0887"
             ],
             [
              0.1111111111111111,
              "#46039f"
             ],
             [
              0.2222222222222222,
              "#7201a8"
             ],
             [
              0.3333333333333333,
              "#9c179e"
             ],
             [
              0.4444444444444444,
              "#bd3786"
             ],
             [
              0.5555555555555556,
              "#d8576b"
             ],
             [
              0.6666666666666666,
              "#ed7953"
             ],
             [
              0.7777777777777778,
              "#fb9f3a"
             ],
             [
              0.8888888888888888,
              "#fdca26"
             ],
             [
              1,
              "#f0f921"
             ]
            ],
            "type": "heatmapgl"
           }
          ],
          "histogram": [
           {
            "marker": {
             "pattern": {
              "fillmode": "overlay",
              "size": 10,
              "solidity": 0.2
             }
            },
            "type": "histogram"
           }
          ],
          "histogram2d": [
           {
            "colorbar": {
             "outlinewidth": 0,
             "ticks": ""
            },
            "colorscale": [
             [
              0,
              "#0d0887"
             ],
             [
              0.1111111111111111,
              "#46039f"
             ],
             [
              0.2222222222222222,
              "#7201a8"
             ],
             [
              0.3333333333333333,
              "#9c179e"
             ],
             [
              0.4444444444444444,
              "#bd3786"
             ],
             [
              0.5555555555555556,
              "#d8576b"
             ],
             [
              0.6666666666666666,
              "#ed7953"
             ],
             [
              0.7777777777777778,
              "#fb9f3a"
             ],
             [
              0.8888888888888888,
              "#fdca26"
             ],
             [
              1,
              "#f0f921"
             ]
            ],
            "type": "histogram2d"
           }
          ],
          "histogram2dcontour": [
           {
            "colorbar": {
             "outlinewidth": 0,
             "ticks": ""
            },
            "colorscale": [
             [
              0,
              "#0d0887"
             ],
             [
              0.1111111111111111,
              "#46039f"
             ],
             [
              0.2222222222222222,
              "#7201a8"
             ],
             [
              0.3333333333333333,
              "#9c179e"
             ],
             [
              0.4444444444444444,
              "#bd3786"
             ],
             [
              0.5555555555555556,
              "#d8576b"
             ],
             [
              0.6666666666666666,
              "#ed7953"
             ],
             [
              0.7777777777777778,
              "#fb9f3a"
             ],
             [
              0.8888888888888888,
              "#fdca26"
             ],
             [
              1,
              "#f0f921"
             ]
            ],
            "type": "histogram2dcontour"
           }
          ],
          "mesh3d": [
           {
            "colorbar": {
             "outlinewidth": 0,
             "ticks": ""
            },
            "type": "mesh3d"
           }
          ],
          "parcoords": [
           {
            "line": {
             "colorbar": {
              "outlinewidth": 0,
              "ticks": ""
             }
            },
            "type": "parcoords"
           }
          ],
          "pie": [
           {
            "automargin": true,
            "type": "pie"
           }
          ],
          "scatter": [
           {
            "fillpattern": {
             "fillmode": "overlay",
             "size": 10,
             "solidity": 0.2
            },
            "type": "scatter"
           }
          ],
          "scatter3d": [
           {
            "line": {
             "colorbar": {
              "outlinewidth": 0,
              "ticks": ""
             }
            },
            "marker": {
             "colorbar": {
              "outlinewidth": 0,
              "ticks": ""
             }
            },
            "type": "scatter3d"
           }
          ],
          "scattercarpet": [
           {
            "marker": {
             "colorbar": {
              "outlinewidth": 0,
              "ticks": ""
             }
            },
            "type": "scattercarpet"
           }
          ],
          "scattergeo": [
           {
            "marker": {
             "colorbar": {
              "outlinewidth": 0,
              "ticks": ""
             }
            },
            "type": "scattergeo"
           }
          ],
          "scattergl": [
           {
            "marker": {
             "colorbar": {
              "outlinewidth": 0,
              "ticks": ""
             }
            },
            "type": "scattergl"
           }
          ],
          "scattermapbox": [
           {
            "marker": {
             "colorbar": {
              "outlinewidth": 0,
              "ticks": ""
             }
            },
            "type": "scattermapbox"
           }
          ],
          "scatterpolar": [
           {
            "marker": {
             "colorbar": {
              "outlinewidth": 0,
              "ticks": ""
             }
            },
            "type": "scatterpolar"
           }
          ],
          "scatterpolargl": [
           {
            "marker": {
             "colorbar": {
              "outlinewidth": 0,
              "ticks": ""
             }
            },
            "type": "scatterpolargl"
           }
          ],
          "scatterternary": [
           {
            "marker": {
             "colorbar": {
              "outlinewidth": 0,
              "ticks": ""
             }
            },
            "type": "scatterternary"
           }
          ],
          "surface": [
           {
            "colorbar": {
             "outlinewidth": 0,
             "ticks": ""
            },
            "colorscale": [
             [
              0,
              "#0d0887"
             ],
             [
              0.1111111111111111,
              "#46039f"
             ],
             [
              0.2222222222222222,
              "#7201a8"
             ],
             [
              0.3333333333333333,
              "#9c179e"
             ],
             [
              0.4444444444444444,
              "#bd3786"
             ],
             [
              0.5555555555555556,
              "#d8576b"
             ],
             [
              0.6666666666666666,
              "#ed7953"
             ],
             [
              0.7777777777777778,
              "#fb9f3a"
             ],
             [
              0.8888888888888888,
              "#fdca26"
             ],
             [
              1,
              "#f0f921"
             ]
            ],
            "type": "surface"
           }
          ],
          "table": [
           {
            "cells": {
             "fill": {
              "color": "#EBF0F8"
             },
             "line": {
              "color": "white"
             }
            },
            "header": {
             "fill": {
              "color": "#C8D4E3"
             },
             "line": {
              "color": "white"
             }
            },
            "type": "table"
           }
          ]
         },
         "layout": {
          "annotationdefaults": {
           "arrowcolor": "#2a3f5f",
           "arrowhead": 0,
           "arrowwidth": 1
          },
          "autotypenumbers": "strict",
          "coloraxis": {
           "colorbar": {
            "outlinewidth": 0,
            "ticks": ""
           }
          },
          "colorscale": {
           "diverging": [
            [
             0,
             "#8e0152"
            ],
            [
             0.1,
             "#c51b7d"
            ],
            [
             0.2,
             "#de77ae"
            ],
            [
             0.3,
             "#f1b6da"
            ],
            [
             0.4,
             "#fde0ef"
            ],
            [
             0.5,
             "#f7f7f7"
            ],
            [
             0.6,
             "#e6f5d0"
            ],
            [
             0.7,
             "#b8e186"
            ],
            [
             0.8,
             "#7fbc41"
            ],
            [
             0.9,
             "#4d9221"
            ],
            [
             1,
             "#276419"
            ]
           ],
           "sequential": [
            [
             0,
             "#0d0887"
            ],
            [
             0.1111111111111111,
             "#46039f"
            ],
            [
             0.2222222222222222,
             "#7201a8"
            ],
            [
             0.3333333333333333,
             "#9c179e"
            ],
            [
             0.4444444444444444,
             "#bd3786"
            ],
            [
             0.5555555555555556,
             "#d8576b"
            ],
            [
             0.6666666666666666,
             "#ed7953"
            ],
            [
             0.7777777777777778,
             "#fb9f3a"
            ],
            [
             0.8888888888888888,
             "#fdca26"
            ],
            [
             1,
             "#f0f921"
            ]
           ],
           "sequentialminus": [
            [
             0,
             "#0d0887"
            ],
            [
             0.1111111111111111,
             "#46039f"
            ],
            [
             0.2222222222222222,
             "#7201a8"
            ],
            [
             0.3333333333333333,
             "#9c179e"
            ],
            [
             0.4444444444444444,
             "#bd3786"
            ],
            [
             0.5555555555555556,
             "#d8576b"
            ],
            [
             0.6666666666666666,
             "#ed7953"
            ],
            [
             0.7777777777777778,
             "#fb9f3a"
            ],
            [
             0.8888888888888888,
             "#fdca26"
            ],
            [
             1,
             "#f0f921"
            ]
           ]
          },
          "colorway": [
           "#636efa",
           "#EF553B",
           "#00cc96",
           "#ab63fa",
           "#FFA15A",
           "#19d3f3",
           "#FF6692",
           "#B6E880",
           "#FF97FF",
           "#FECB52"
          ],
          "font": {
           "color": "#2a3f5f"
          },
          "geo": {
           "bgcolor": "white",
           "lakecolor": "white",
           "landcolor": "#E5ECF6",
           "showlakes": true,
           "showland": true,
           "subunitcolor": "white"
          },
          "hoverlabel": {
           "align": "left"
          },
          "hovermode": "closest",
          "mapbox": {
           "style": "light"
          },
          "paper_bgcolor": "white",
          "plot_bgcolor": "#E5ECF6",
          "polar": {
           "angularaxis": {
            "gridcolor": "white",
            "linecolor": "white",
            "ticks": ""
           },
           "bgcolor": "#E5ECF6",
           "radialaxis": {
            "gridcolor": "white",
            "linecolor": "white",
            "ticks": ""
           }
          },
          "scene": {
           "xaxis": {
            "backgroundcolor": "#E5ECF6",
            "gridcolor": "white",
            "gridwidth": 2,
            "linecolor": "white",
            "showbackground": true,
            "ticks": "",
            "zerolinecolor": "white"
           },
           "yaxis": {
            "backgroundcolor": "#E5ECF6",
            "gridcolor": "white",
            "gridwidth": 2,
            "linecolor": "white",
            "showbackground": true,
            "ticks": "",
            "zerolinecolor": "white"
           },
           "zaxis": {
            "backgroundcolor": "#E5ECF6",
            "gridcolor": "white",
            "gridwidth": 2,
            "linecolor": "white",
            "showbackground": true,
            "ticks": "",
            "zerolinecolor": "white"
           }
          },
          "shapedefaults": {
           "line": {
            "color": "#2a3f5f"
           }
          },
          "ternary": {
           "aaxis": {
            "gridcolor": "white",
            "linecolor": "white",
            "ticks": ""
           },
           "baxis": {
            "gridcolor": "white",
            "linecolor": "white",
            "ticks": ""
           },
           "bgcolor": "#E5ECF6",
           "caxis": {
            "gridcolor": "white",
            "linecolor": "white",
            "ticks": ""
           }
          },
          "title": {
           "x": 0.05
          },
          "xaxis": {
           "automargin": true,
           "gridcolor": "white",
           "linecolor": "white",
           "ticks": "",
           "title": {
            "standoff": 15
           },
           "zerolinecolor": "white",
           "zerolinewidth": 2
          },
          "yaxis": {
           "automargin": true,
           "gridcolor": "white",
           "linecolor": "white",
           "ticks": "",
           "title": {
            "standoff": 15
           },
           "zerolinecolor": "white",
           "zerolinewidth": 2
          }
         }
        },
        "title": {
         "text": "<b> Daily Active Users Per Topic"
        },
        "uniformtext": {
         "minsize": 8,
         "mode": "hide"
        },
        "width": 1000,
        "xaxis": {
         "title": {
          "text": "Dates"
         }
        },
        "yaxis": {
         "range": [
          0,
          2100
         ],
         "title": {
          "text": "Active Users"
         }
        }
       }
      }
     },
     "metadata": {},
     "output_type": "display_data"
    }
   ],
   "source": [
    "activity_scatter(\n",
    "    dict_ = unique_topic_daily_activity,  yrange_ = [0, 2100],\n",
    "     xaxis_title = 'Dates', yaxis_title = 'Active Users', title_ = '<b> Daily Active Users Per Topic')"
   ]
  },
  {
   "cell_type": "markdown",
   "id": "03917388",
   "metadata": {},
   "source": [
    "#### Hourly Activity"
   ]
  },
  {
   "cell_type": "code",
   "execution_count": 332,
   "id": "119fe30f",
   "metadata": {},
   "outputs": [
    {
     "data": {
      "application/vnd.plotly.v1+json": {
       "config": {
        "plotlyServerURL": "https://plot.ly"
       },
       "data": [
        {
         "marker": {
          "size": 12
         },
         "mode": "lines+markers+text",
         "name": "Ansættelsesforhold",
         "textfont": {
          "color": "#1f77b4",
          "family": "sans serif",
          "size": 12
         },
         "textposition": "bottom center",
         "type": "scatter",
         "x": [
          "00:00",
          "01:00",
          "02:00",
          "03:00",
          "04:00",
          "05:00",
          "06:00",
          "07:00",
          "08:00",
          "09:00",
          "10:00",
          "11:00",
          "12:00",
          "13:00",
          "14:00",
          "15:00",
          "16:00",
          "17:00",
          "18:00",
          "19:00",
          "20:00",
          "21:00",
          "22:00",
          "23:00"
         ],
         "y": [
          0,
          0,
          0,
          0,
          0,
          0,
          0,
          0,
          0,
          0,
          0,
          0,
          0,
          0,
          0,
          0,
          0,
          0,
          0,
          0,
          0,
          0,
          0,
          0
         ]
        },
        {
         "marker": {
          "size": 12
         },
         "mode": "lines+markers+text",
         "name": "Bandekriminalitet",
         "textfont": {
          "color": "#1f77b4",
          "family": "sans serif",
          "size": 12
         },
         "textposition": "bottom center",
         "type": "scatter",
         "x": [
          "00:00",
          "01:00",
          "02:00",
          "03:00",
          "04:00",
          "05:00",
          "06:00",
          "07:00",
          "08:00",
          "09:00",
          "10:00",
          "11:00",
          "12:00",
          "13:00",
          "14:00",
          "15:00",
          "16:00",
          "17:00",
          "18:00",
          "19:00",
          "20:00",
          "21:00",
          "22:00",
          "23:00"
         ],
         "y": [
          0,
          0,
          0,
          0,
          0,
          0,
          0,
          0,
          0,
          0,
          0,
          0,
          0,
          0,
          0,
          0,
          0,
          0,
          0,
          0,
          0,
          0,
          0,
          0
         ]
        },
        {
         "marker": {
          "size": 12
         },
         "mode": "lines+markers+text",
         "name": "Bedrageri",
         "textfont": {
          "color": "#1f77b4",
          "family": "sans serif",
          "size": 12
         },
         "textposition": "bottom center",
         "type": "scatter",
         "x": [
          "00:00",
          "01:00",
          "02:00",
          "03:00",
          "04:00",
          "05:00",
          "06:00",
          "07:00",
          "08:00",
          "09:00",
          "10:00",
          "11:00",
          "12:00",
          "13:00",
          "14:00",
          "15:00",
          "16:00",
          "17:00",
          "18:00",
          "19:00",
          "20:00",
          "21:00",
          "22:00",
          "23:00"
         ],
         "y": [
          0,
          0,
          0,
          0,
          0,
          0,
          0,
          0,
          0,
          0,
          0,
          0,
          0,
          0,
          0,
          0,
          0,
          0,
          0,
          0,
          0,
          0,
          0,
          0
         ]
        },
        {
         "marker": {
          "size": 12
         },
         "mode": "lines+markers+text",
         "name": "Begivenhed",
         "textfont": {
          "color": "#1f77b4",
          "family": "sans serif",
          "size": 12
         },
         "textposition": "bottom center",
         "type": "scatter",
         "x": [
          "00:00",
          "01:00",
          "02:00",
          "03:00",
          "04:00",
          "05:00",
          "06:00",
          "07:00",
          "08:00",
          "09:00",
          "10:00",
          "11:00",
          "12:00",
          "13:00",
          "14:00",
          "15:00",
          "16:00",
          "17:00",
          "18:00",
          "19:00",
          "20:00",
          "21:00",
          "22:00",
          "23:00"
         ],
         "y": [
          21,
          18,
          24,
          50,
          125,
          145,
          137,
          125,
          103,
          92,
          101,
          87,
          135,
          177,
          170,
          144,
          174,
          251,
          225,
          224,
          177,
          108,
          65,
          17
         ]
        },
        {
         "marker": {
          "size": 12
         },
         "mode": "lines+markers+text",
         "name": "Bil",
         "textfont": {
          "color": "#1f77b4",
          "family": "sans serif",
          "size": 12
         },
         "textposition": "bottom center",
         "type": "scatter",
         "x": [
          "00:00",
          "01:00",
          "02:00",
          "03:00",
          "04:00",
          "05:00",
          "06:00",
          "07:00",
          "08:00",
          "09:00",
          "10:00",
          "11:00",
          "12:00",
          "13:00",
          "14:00",
          "15:00",
          "16:00",
          "17:00",
          "18:00",
          "19:00",
          "20:00",
          "21:00",
          "22:00",
          "23:00"
         ],
         "y": [
          0,
          0,
          0,
          0,
          0,
          0,
          0,
          0,
          0,
          0,
          0,
          0,
          0,
          0,
          0,
          0,
          0,
          0,
          0,
          0,
          0,
          0,
          0,
          0
         ]
        },
        {
         "marker": {
          "size": 12
         },
         "mode": "lines+markers+text",
         "name": "Bolig",
         "textfont": {
          "color": "#1f77b4",
          "family": "sans serif",
          "size": 12
         },
         "textposition": "bottom center",
         "type": "scatter",
         "x": [
          "00:00",
          "01:00",
          "02:00",
          "03:00",
          "04:00",
          "05:00",
          "06:00",
          "07:00",
          "08:00",
          "09:00",
          "10:00",
          "11:00",
          "12:00",
          "13:00",
          "14:00",
          "15:00",
          "16:00",
          "17:00",
          "18:00",
          "19:00",
          "20:00",
          "21:00",
          "22:00",
          "23:00"
         ],
         "y": [
          0,
          0,
          0,
          3,
          2,
          0,
          2,
          0,
          0,
          0,
          0,
          0,
          0,
          0,
          1,
          0,
          0,
          0,
          2,
          0,
          0,
          3,
          0,
          0
         ]
        },
        {
         "marker": {
          "size": 12
         },
         "mode": "lines+markers+text",
         "name": "Byliv",
         "textfont": {
          "color": "#1f77b4",
          "family": "sans serif",
          "size": 12
         },
         "textposition": "bottom center",
         "type": "scatter",
         "x": [
          "00:00",
          "01:00",
          "02:00",
          "03:00",
          "04:00",
          "05:00",
          "06:00",
          "07:00",
          "08:00",
          "09:00",
          "10:00",
          "11:00",
          "12:00",
          "13:00",
          "14:00",
          "15:00",
          "16:00",
          "17:00",
          "18:00",
          "19:00",
          "20:00",
          "21:00",
          "22:00",
          "23:00"
         ],
         "y": [
          0,
          0,
          0,
          0,
          0,
          0,
          0,
          0,
          0,
          0,
          0,
          0,
          0,
          0,
          0,
          0,
          0,
          0,
          0,
          0,
          0,
          0,
          0,
          0
         ]
        },
        {
         "marker": {
          "size": 12
         },
         "mode": "lines+markers+text",
         "name": "Bæredygtighed og klima",
         "textfont": {
          "color": "#1f77b4",
          "family": "sans serif",
          "size": 12
         },
         "textposition": "bottom center",
         "type": "scatter",
         "x": [
          "00:00",
          "01:00",
          "02:00",
          "03:00",
          "04:00",
          "05:00",
          "06:00",
          "07:00",
          "08:00",
          "09:00",
          "10:00",
          "11:00",
          "12:00",
          "13:00",
          "14:00",
          "15:00",
          "16:00",
          "17:00",
          "18:00",
          "19:00",
          "20:00",
          "21:00",
          "22:00",
          "23:00"
         ],
         "y": [
          0,
          0,
          0,
          0,
          0,
          0,
          0,
          0,
          0,
          0,
          0,
          0,
          0,
          0,
          0,
          0,
          0,
          0,
          0,
          0,
          0,
          0,
          0,
          0
         ]
        },
        {
         "marker": {
          "size": 12
         },
         "mode": "lines+markers+text",
         "name": "Cykling",
         "textfont": {
          "color": "#1f77b4",
          "family": "sans serif",
          "size": 12
         },
         "textposition": "bottom center",
         "type": "scatter",
         "x": [
          "00:00",
          "01:00",
          "02:00",
          "03:00",
          "04:00",
          "05:00",
          "06:00",
          "07:00",
          "08:00",
          "09:00",
          "10:00",
          "11:00",
          "12:00",
          "13:00",
          "14:00",
          "15:00",
          "16:00",
          "17:00",
          "18:00",
          "19:00",
          "20:00",
          "21:00",
          "22:00",
          "23:00"
         ],
         "y": [
          0,
          0,
          0,
          0,
          0,
          0,
          0,
          0,
          0,
          0,
          0,
          0,
          0,
          0,
          0,
          0,
          0,
          0,
          0,
          0,
          0,
          0,
          0,
          0
         ]
        },
        {
         "marker": {
          "size": 12
         },
         "mode": "lines+markers+text",
         "name": "Dyr",
         "textfont": {
          "color": "#1f77b4",
          "family": "sans serif",
          "size": 12
         },
         "textposition": "bottom center",
         "type": "scatter",
         "x": [
          "00:00",
          "01:00",
          "02:00",
          "03:00",
          "04:00",
          "05:00",
          "06:00",
          "07:00",
          "08:00",
          "09:00",
          "10:00",
          "11:00",
          "12:00",
          "13:00",
          "14:00",
          "15:00",
          "16:00",
          "17:00",
          "18:00",
          "19:00",
          "20:00",
          "21:00",
          "22:00",
          "23:00"
         ],
         "y": [
          3,
          1,
          4,
          11,
          18,
          17,
          26,
          8,
          1,
          2,
          3,
          1,
          5,
          0,
          0,
          10,
          16,
          29,
          42,
          53,
          31,
          27,
          11,
          2
         ]
        },
        {
         "marker": {
          "size": 12
         },
         "mode": "lines+markers+text",
         "name": "Erhverv",
         "textfont": {
          "color": "#1f77b4",
          "family": "sans serif",
          "size": 12
         },
         "textposition": "bottom center",
         "type": "scatter",
         "x": [
          "00:00",
          "01:00",
          "02:00",
          "03:00",
          "04:00",
          "05:00",
          "06:00",
          "07:00",
          "08:00",
          "09:00",
          "10:00",
          "11:00",
          "12:00",
          "13:00",
          "14:00",
          "15:00",
          "16:00",
          "17:00",
          "18:00",
          "19:00",
          "20:00",
          "21:00",
          "22:00",
          "23:00"
         ],
         "y": [
          30,
          31,
          35,
          134,
          239,
          315,
          353,
          283,
          264,
          287,
          259,
          196,
          233,
          170,
          194,
          203,
          227,
          285,
          291,
          239,
          210,
          126,
          73,
          45
         ]
        },
        {
         "marker": {
          "size": 12
         },
         "mode": "lines+markers+text",
         "name": "Erotik",
         "textfont": {
          "color": "#1f77b4",
          "family": "sans serif",
          "size": 12
         },
         "textposition": "bottom center",
         "type": "scatter",
         "x": [
          "00:00",
          "01:00",
          "02:00",
          "03:00",
          "04:00",
          "05:00",
          "06:00",
          "07:00",
          "08:00",
          "09:00",
          "10:00",
          "11:00",
          "12:00",
          "13:00",
          "14:00",
          "15:00",
          "16:00",
          "17:00",
          "18:00",
          "19:00",
          "20:00",
          "21:00",
          "22:00",
          "23:00"
         ],
         "y": [
          0,
          0,
          0,
          0,
          0,
          0,
          0,
          0,
          0,
          0,
          0,
          0,
          0,
          0,
          0,
          0,
          0,
          0,
          0,
          0,
          0,
          0,
          0,
          0
         ]
        },
        {
         "marker": {
          "size": 12
         },
         "mode": "lines+markers+text",
         "name": "Familieliv",
         "textfont": {
          "color": "#1f77b4",
          "family": "sans serif",
          "size": 12
         },
         "textposition": "bottom center",
         "type": "scatter",
         "x": [
          "00:00",
          "01:00",
          "02:00",
          "03:00",
          "04:00",
          "05:00",
          "06:00",
          "07:00",
          "08:00",
          "09:00",
          "10:00",
          "11:00",
          "12:00",
          "13:00",
          "14:00",
          "15:00",
          "16:00",
          "17:00",
          "18:00",
          "19:00",
          "20:00",
          "21:00",
          "22:00",
          "23:00"
         ],
         "y": [
          0,
          0,
          0,
          0,
          0,
          0,
          0,
          0,
          0,
          0,
          0,
          0,
          0,
          0,
          0,
          0,
          0,
          0,
          0,
          0,
          0,
          0,
          0,
          0
         ]
        },
        {
         "marker": {
          "size": 12
         },
         "mode": "lines+markers+text",
         "name": "Film og tv",
         "textfont": {
          "color": "#1f77b4",
          "family": "sans serif",
          "size": 12
         },
         "textposition": "bottom center",
         "type": "scatter",
         "x": [
          "00:00",
          "01:00",
          "02:00",
          "03:00",
          "04:00",
          "05:00",
          "06:00",
          "07:00",
          "08:00",
          "09:00",
          "10:00",
          "11:00",
          "12:00",
          "13:00",
          "14:00",
          "15:00",
          "16:00",
          "17:00",
          "18:00",
          "19:00",
          "20:00",
          "21:00",
          "22:00",
          "23:00"
         ],
         "y": [
          0,
          0,
          0,
          0,
          0,
          0,
          0,
          0,
          0,
          0,
          0,
          0,
          0,
          0,
          0,
          0,
          0,
          0,
          0,
          0,
          0,
          0,
          0,
          0
         ]
        },
        {
         "marker": {
          "size": 12
         },
         "mode": "lines+markers+text",
         "name": "Fodbold",
         "textfont": {
          "color": "#1f77b4",
          "family": "sans serif",
          "size": 12
         },
         "textposition": "bottom center",
         "type": "scatter",
         "x": [
          "00:00",
          "01:00",
          "02:00",
          "03:00",
          "04:00",
          "05:00",
          "06:00",
          "07:00",
          "08:00",
          "09:00",
          "10:00",
          "11:00",
          "12:00",
          "13:00",
          "14:00",
          "15:00",
          "16:00",
          "17:00",
          "18:00",
          "19:00",
          "20:00",
          "21:00",
          "22:00",
          "23:00"
         ],
         "y": [
          0,
          0,
          0,
          0,
          0,
          0,
          0,
          0,
          0,
          0,
          0,
          0,
          0,
          0,
          0,
          0,
          0,
          0,
          0,
          0,
          0,
          0,
          0,
          0
         ]
        },
        {
         "marker": {
          "size": 12
         },
         "mode": "lines+markers+text",
         "name": "Forbrugerelektronik",
         "textfont": {
          "color": "#1f77b4",
          "family": "sans serif",
          "size": 12
         },
         "textposition": "bottom center",
         "type": "scatter",
         "x": [
          "00:00",
          "01:00",
          "02:00",
          "03:00",
          "04:00",
          "05:00",
          "06:00",
          "07:00",
          "08:00",
          "09:00",
          "10:00",
          "11:00",
          "12:00",
          "13:00",
          "14:00",
          "15:00",
          "16:00",
          "17:00",
          "18:00",
          "19:00",
          "20:00",
          "21:00",
          "22:00",
          "23:00"
         ],
         "y": [
          0,
          0,
          0,
          0,
          0,
          0,
          0,
          0,
          0,
          0,
          0,
          0,
          0,
          0,
          0,
          0,
          0,
          0,
          0,
          0,
          0,
          0,
          0,
          0
         ]
        },
        {
         "marker": {
          "size": 12
         },
         "mode": "lines+markers+text",
         "name": "Fritid",
         "textfont": {
          "color": "#1f77b4",
          "family": "sans serif",
          "size": 12
         },
         "textposition": "bottom center",
         "type": "scatter",
         "x": [
          "00:00",
          "01:00",
          "02:00",
          "03:00",
          "04:00",
          "05:00",
          "06:00",
          "07:00",
          "08:00",
          "09:00",
          "10:00",
          "11:00",
          "12:00",
          "13:00",
          "14:00",
          "15:00",
          "16:00",
          "17:00",
          "18:00",
          "19:00",
          "20:00",
          "21:00",
          "22:00",
          "23:00"
         ],
         "y": [
          0,
          0,
          0,
          0,
          0,
          0,
          0,
          0,
          0,
          0,
          0,
          0,
          0,
          0,
          0,
          0,
          0,
          0,
          0,
          0,
          0,
          0,
          0,
          0
         ]
        },
        {
         "marker": {
          "size": 12
         },
         "mode": "lines+markers+text",
         "name": "Grundskole",
         "textfont": {
          "color": "#1f77b4",
          "family": "sans serif",
          "size": 12
         },
         "textposition": "bottom center",
         "type": "scatter",
         "x": [
          "00:00",
          "01:00",
          "02:00",
          "03:00",
          "04:00",
          "05:00",
          "06:00",
          "07:00",
          "08:00",
          "09:00",
          "10:00",
          "11:00",
          "12:00",
          "13:00",
          "14:00",
          "15:00",
          "16:00",
          "17:00",
          "18:00",
          "19:00",
          "20:00",
          "21:00",
          "22:00",
          "23:00"
         ],
         "y": [
          0,
          0,
          0,
          0,
          0,
          0,
          0,
          0,
          0,
          0,
          0,
          0,
          0,
          0,
          0,
          0,
          0,
          0,
          0,
          0,
          0,
          0,
          0,
          0
         ]
        },
        {
         "marker": {
          "size": 12
         },
         "mode": "lines+markers+text",
         "name": "Håndbold",
         "textfont": {
          "color": "#1f77b4",
          "family": "sans serif",
          "size": 12
         },
         "textposition": "bottom center",
         "type": "scatter",
         "x": [
          "00:00",
          "01:00",
          "02:00",
          "03:00",
          "04:00",
          "05:00",
          "06:00",
          "07:00",
          "08:00",
          "09:00",
          "10:00",
          "11:00",
          "12:00",
          "13:00",
          "14:00",
          "15:00",
          "16:00",
          "17:00",
          "18:00",
          "19:00",
          "20:00",
          "21:00",
          "22:00",
          "23:00"
         ],
         "y": [
          0,
          0,
          0,
          0,
          0,
          0,
          0,
          0,
          0,
          0,
          0,
          0,
          0,
          0,
          0,
          0,
          0,
          0,
          0,
          0,
          0,
          0,
          0,
          0
         ]
        },
        {
         "marker": {
          "size": 12
         },
         "mode": "lines+markers+text",
         "name": "International politik",
         "textfont": {
          "color": "#1f77b4",
          "family": "sans serif",
          "size": 12
         },
         "textposition": "bottom center",
         "type": "scatter",
         "x": [
          "00:00",
          "01:00",
          "02:00",
          "03:00",
          "04:00",
          "05:00",
          "06:00",
          "07:00",
          "08:00",
          "09:00",
          "10:00",
          "11:00",
          "12:00",
          "13:00",
          "14:00",
          "15:00",
          "16:00",
          "17:00",
          "18:00",
          "19:00",
          "20:00",
          "21:00",
          "22:00",
          "23:00"
         ],
         "y": [
          0,
          0,
          0,
          1,
          21,
          26,
          6,
          3,
          0,
          1,
          2,
          29,
          7,
          8,
          1,
          0,
          1,
          1,
          0,
          0,
          0,
          0,
          0,
          0
         ]
        },
        {
         "marker": {
          "size": 12
         },
         "mode": "lines+markers+text",
         "name": "Katastrofe",
         "textfont": {
          "color": "#1f77b4",
          "family": "sans serif",
          "size": 12
         },
         "textposition": "bottom center",
         "type": "scatter",
         "x": [
          "00:00",
          "01:00",
          "02:00",
          "03:00",
          "04:00",
          "05:00",
          "06:00",
          "07:00",
          "08:00",
          "09:00",
          "10:00",
          "11:00",
          "12:00",
          "13:00",
          "14:00",
          "15:00",
          "16:00",
          "17:00",
          "18:00",
          "19:00",
          "20:00",
          "21:00",
          "22:00",
          "23:00"
         ],
         "y": [
          5,
          14,
          12,
          30,
          50,
          75,
          80,
          55,
          25,
          37,
          51,
          52,
          73,
          40,
          54,
          32,
          22,
          43,
          42,
          42,
          62,
          56,
          20,
          12
         ]
        },
        {
         "marker": {
          "size": 12
         },
         "mode": "lines+markers+text",
         "name": "Kendt",
         "textfont": {
          "color": "#1f77b4",
          "family": "sans serif",
          "size": 12
         },
         "textposition": "bottom center",
         "type": "scatter",
         "x": [
          "00:00",
          "01:00",
          "02:00",
          "03:00",
          "04:00",
          "05:00",
          "06:00",
          "07:00",
          "08:00",
          "09:00",
          "10:00",
          "11:00",
          "12:00",
          "13:00",
          "14:00",
          "15:00",
          "16:00",
          "17:00",
          "18:00",
          "19:00",
          "20:00",
          "21:00",
          "22:00",
          "23:00"
         ],
         "y": [
          85,
          87,
          104,
          282,
          548,
          657,
          870,
          693,
          579,
          515,
          525,
          475,
          564,
          537,
          574,
          637,
          596,
          667,
          754,
          694,
          693,
          459,
          237,
          106
         ]
        },
        {
         "marker": {
          "size": 12
         },
         "mode": "lines+markers+text",
         "name": "Ketcher- og batsport",
         "textfont": {
          "color": "#1f77b4",
          "family": "sans serif",
          "size": 12
         },
         "textposition": "bottom center",
         "type": "scatter",
         "x": [
          "00:00",
          "01:00",
          "02:00",
          "03:00",
          "04:00",
          "05:00",
          "06:00",
          "07:00",
          "08:00",
          "09:00",
          "10:00",
          "11:00",
          "12:00",
          "13:00",
          "14:00",
          "15:00",
          "16:00",
          "17:00",
          "18:00",
          "19:00",
          "20:00",
          "21:00",
          "22:00",
          "23:00"
         ],
         "y": [
          0,
          0,
          0,
          0,
          0,
          0,
          0,
          0,
          0,
          0,
          0,
          0,
          0,
          0,
          0,
          0,
          0,
          0,
          0,
          0,
          0,
          0,
          0,
          0
         ]
        },
        {
         "marker": {
          "size": 12
         },
         "mode": "lines+markers+text",
         "name": "Konflikt og krig",
         "textfont": {
          "color": "#1f77b4",
          "family": "sans serif",
          "size": 12
         },
         "textposition": "bottom center",
         "type": "scatter",
         "x": [
          "00:00",
          "01:00",
          "02:00",
          "03:00",
          "04:00",
          "05:00",
          "06:00",
          "07:00",
          "08:00",
          "09:00",
          "10:00",
          "11:00",
          "12:00",
          "13:00",
          "14:00",
          "15:00",
          "16:00",
          "17:00",
          "18:00",
          "19:00",
          "20:00",
          "21:00",
          "22:00",
          "23:00"
         ],
         "y": [
          0,
          5,
          12,
          16,
          27,
          16,
          10,
          14,
          17,
          10,
          4,
          6,
          2,
          3,
          1,
          2,
          1,
          0,
          1,
          0,
          2,
          2,
          0,
          1
         ]
        },
        {
         "marker": {
          "size": 12
         },
         "mode": "lines+markers+text",
         "name": "Kosmetisk behandling",
         "textfont": {
          "color": "#1f77b4",
          "family": "sans serif",
          "size": 12
         },
         "textposition": "bottom center",
         "type": "scatter",
         "x": [
          "00:00",
          "01:00",
          "02:00",
          "03:00",
          "04:00",
          "05:00",
          "06:00",
          "07:00",
          "08:00",
          "09:00",
          "10:00",
          "11:00",
          "12:00",
          "13:00",
          "14:00",
          "15:00",
          "16:00",
          "17:00",
          "18:00",
          "19:00",
          "20:00",
          "21:00",
          "22:00",
          "23:00"
         ],
         "y": [
          0,
          0,
          0,
          0,
          0,
          0,
          0,
          0,
          0,
          0,
          0,
          0,
          0,
          0,
          0,
          0,
          0,
          0,
          0,
          0,
          0,
          0,
          0,
          0
         ]
        },
        {
         "marker": {
          "size": 12
         },
         "mode": "lines+markers+text",
         "name": "Kriminalitet",
         "textfont": {
          "color": "#1f77b4",
          "family": "sans serif",
          "size": 12
         },
         "textposition": "bottom center",
         "type": "scatter",
         "x": [
          "00:00",
          "01:00",
          "02:00",
          "03:00",
          "04:00",
          "05:00",
          "06:00",
          "07:00",
          "08:00",
          "09:00",
          "10:00",
          "11:00",
          "12:00",
          "13:00",
          "14:00",
          "15:00",
          "16:00",
          "17:00",
          "18:00",
          "19:00",
          "20:00",
          "21:00",
          "22:00",
          "23:00"
         ],
         "y": [
          35,
          47,
          40,
          142,
          252,
          364,
          390,
          464,
          359,
          330,
          382,
          395,
          365,
          285,
          217,
          218,
          223,
          315,
          380,
          400,
          326,
          235,
          103,
          52
         ]
        },
        {
         "marker": {
          "size": 12
         },
         "mode": "lines+markers+text",
         "name": "Krop og velvære",
         "textfont": {
          "color": "#1f77b4",
          "family": "sans serif",
          "size": 12
         },
         "textposition": "bottom center",
         "type": "scatter",
         "x": [
          "00:00",
          "01:00",
          "02:00",
          "03:00",
          "04:00",
          "05:00",
          "06:00",
          "07:00",
          "08:00",
          "09:00",
          "10:00",
          "11:00",
          "12:00",
          "13:00",
          "14:00",
          "15:00",
          "16:00",
          "17:00",
          "18:00",
          "19:00",
          "20:00",
          "21:00",
          "22:00",
          "23:00"
         ],
         "y": [
          0,
          0,
          0,
          0,
          0,
          0,
          0,
          0,
          0,
          1,
          0,
          0,
          0,
          0,
          0,
          0,
          0,
          0,
          0,
          0,
          0,
          0,
          0,
          0
         ]
        },
        {
         "marker": {
          "size": 12
         },
         "mode": "lines+markers+text",
         "name": "Kultur",
         "textfont": {
          "color": "#1f77b4",
          "family": "sans serif",
          "size": 12
         },
         "textposition": "bottom center",
         "type": "scatter",
         "x": [
          "00:00",
          "01:00",
          "02:00",
          "03:00",
          "04:00",
          "05:00",
          "06:00",
          "07:00",
          "08:00",
          "09:00",
          "10:00",
          "11:00",
          "12:00",
          "13:00",
          "14:00",
          "15:00",
          "16:00",
          "17:00",
          "18:00",
          "19:00",
          "20:00",
          "21:00",
          "22:00",
          "23:00"
         ],
         "y": [
          3,
          0,
          1,
          7,
          8,
          19,
          22,
          57,
          40,
          22,
          10,
          8,
          8,
          3,
          1,
          0,
          23,
          16,
          7,
          7,
          3,
          7,
          7,
          1
         ]
        },
        {
         "marker": {
          "size": 12
         },
         "mode": "lines+markers+text",
         "name": "Kunst",
         "textfont": {
          "color": "#1f77b4",
          "family": "sans serif",
          "size": 12
         },
         "textposition": "bottom center",
         "type": "scatter",
         "x": [
          "00:00",
          "01:00",
          "02:00",
          "03:00",
          "04:00",
          "05:00",
          "06:00",
          "07:00",
          "08:00",
          "09:00",
          "10:00",
          "11:00",
          "12:00",
          "13:00",
          "14:00",
          "15:00",
          "16:00",
          "17:00",
          "18:00",
          "19:00",
          "20:00",
          "21:00",
          "22:00",
          "23:00"
         ],
         "y": [
          0,
          0,
          0,
          0,
          0,
          0,
          0,
          0,
          0,
          0,
          0,
          0,
          0,
          0,
          0,
          0,
          0,
          0,
          0,
          0,
          0,
          0,
          0,
          0
         ]
        },
        {
         "marker": {
          "size": 12
         },
         "mode": "lines+markers+text",
         "name": "Kunstig intelligens og software",
         "textfont": {
          "color": "#1f77b4",
          "family": "sans serif",
          "size": 12
         },
         "textposition": "bottom center",
         "type": "scatter",
         "x": [
          "00:00",
          "01:00",
          "02:00",
          "03:00",
          "04:00",
          "05:00",
          "06:00",
          "07:00",
          "08:00",
          "09:00",
          "10:00",
          "11:00",
          "12:00",
          "13:00",
          "14:00",
          "15:00",
          "16:00",
          "17:00",
          "18:00",
          "19:00",
          "20:00",
          "21:00",
          "22:00",
          "23:00"
         ],
         "y": [
          0,
          0,
          0,
          0,
          0,
          0,
          0,
          0,
          0,
          0,
          0,
          0,
          0,
          0,
          0,
          0,
          0,
          0,
          0,
          0,
          0,
          0,
          0,
          0
         ]
        },
        {
         "marker": {
          "size": 12
         },
         "mode": "lines+markers+text",
         "name": "Køb og salg",
         "textfont": {
          "color": "#1f77b4",
          "family": "sans serif",
          "size": 12
         },
         "textposition": "bottom center",
         "type": "scatter",
         "x": [
          "00:00",
          "01:00",
          "02:00",
          "03:00",
          "04:00",
          "05:00",
          "06:00",
          "07:00",
          "08:00",
          "09:00",
          "10:00",
          "11:00",
          "12:00",
          "13:00",
          "14:00",
          "15:00",
          "16:00",
          "17:00",
          "18:00",
          "19:00",
          "20:00",
          "21:00",
          "22:00",
          "23:00"
         ],
         "y": [
          0,
          0,
          0,
          0,
          0,
          0,
          0,
          0,
          0,
          0,
          0,
          0,
          0,
          0,
          0,
          0,
          0,
          0,
          0,
          0,
          0,
          0,
          0,
          0
         ]
        },
        {
         "marker": {
          "size": 12
         },
         "mode": "lines+markers+text",
         "name": "Litteratur",
         "textfont": {
          "color": "#1f77b4",
          "family": "sans serif",
          "size": 12
         },
         "textposition": "bottom center",
         "type": "scatter",
         "x": [
          "00:00",
          "01:00",
          "02:00",
          "03:00",
          "04:00",
          "05:00",
          "06:00",
          "07:00",
          "08:00",
          "09:00",
          "10:00",
          "11:00",
          "12:00",
          "13:00",
          "14:00",
          "15:00",
          "16:00",
          "17:00",
          "18:00",
          "19:00",
          "20:00",
          "21:00",
          "22:00",
          "23:00"
         ],
         "y": [
          0,
          0,
          0,
          0,
          0,
          0,
          0,
          0,
          0,
          0,
          0,
          0,
          0,
          0,
          0,
          0,
          0,
          0,
          0,
          0,
          0,
          0,
          0,
          0
         ]
        },
        {
         "marker": {
          "size": 12
         },
         "mode": "lines+markers+text",
         "name": "Livsstil",
         "textfont": {
          "color": "#1f77b4",
          "family": "sans serif",
          "size": 12
         },
         "textposition": "bottom center",
         "type": "scatter",
         "x": [
          "00:00",
          "01:00",
          "02:00",
          "03:00",
          "04:00",
          "05:00",
          "06:00",
          "07:00",
          "08:00",
          "09:00",
          "10:00",
          "11:00",
          "12:00",
          "13:00",
          "14:00",
          "15:00",
          "16:00",
          "17:00",
          "18:00",
          "19:00",
          "20:00",
          "21:00",
          "22:00",
          "23:00"
         ],
         "y": [
          4,
          5,
          19,
          35,
          68,
          97,
          137,
          80,
          115,
          141,
          73,
          72,
          81,
          71,
          72,
          70,
          76,
          77,
          111,
          105,
          140,
          60,
          33,
          10
         ]
        },
        {
         "marker": {
          "size": 12
         },
         "mode": "lines+markers+text",
         "name": "Mad og drikke",
         "textfont": {
          "color": "#1f77b4",
          "family": "sans serif",
          "size": 12
         },
         "textposition": "bottom center",
         "type": "scatter",
         "x": [
          "00:00",
          "01:00",
          "02:00",
          "03:00",
          "04:00",
          "05:00",
          "06:00",
          "07:00",
          "08:00",
          "09:00",
          "10:00",
          "11:00",
          "12:00",
          "13:00",
          "14:00",
          "15:00",
          "16:00",
          "17:00",
          "18:00",
          "19:00",
          "20:00",
          "21:00",
          "22:00",
          "23:00"
         ],
         "y": [
          0,
          0,
          0,
          0,
          0,
          0,
          0,
          0,
          0,
          0,
          0,
          0,
          0,
          0,
          0,
          0,
          0,
          0,
          0,
          0,
          0,
          0,
          0,
          0
         ]
        },
        {
         "marker": {
          "size": 12
         },
         "mode": "lines+markers+text",
         "name": "Makro",
         "textfont": {
          "color": "#1f77b4",
          "family": "sans serif",
          "size": 12
         },
         "textposition": "bottom center",
         "type": "scatter",
         "x": [
          "00:00",
          "01:00",
          "02:00",
          "03:00",
          "04:00",
          "05:00",
          "06:00",
          "07:00",
          "08:00",
          "09:00",
          "10:00",
          "11:00",
          "12:00",
          "13:00",
          "14:00",
          "15:00",
          "16:00",
          "17:00",
          "18:00",
          "19:00",
          "20:00",
          "21:00",
          "22:00",
          "23:00"
         ],
         "y": [
          0,
          0,
          0,
          0,
          0,
          0,
          0,
          0,
          0,
          0,
          0,
          0,
          0,
          0,
          0,
          0,
          0,
          0,
          0,
          0,
          0,
          0,
          0,
          0
         ]
        },
        {
         "marker": {
          "size": 12
         },
         "mode": "lines+markers+text",
         "name": "Mikro",
         "textfont": {
          "color": "#1f77b4",
          "family": "sans serif",
          "size": 12
         },
         "textposition": "bottom center",
         "type": "scatter",
         "x": [
          "00:00",
          "01:00",
          "02:00",
          "03:00",
          "04:00",
          "05:00",
          "06:00",
          "07:00",
          "08:00",
          "09:00",
          "10:00",
          "11:00",
          "12:00",
          "13:00",
          "14:00",
          "15:00",
          "16:00",
          "17:00",
          "18:00",
          "19:00",
          "20:00",
          "21:00",
          "22:00",
          "23:00"
         ],
         "y": [
          0,
          0,
          0,
          0,
          0,
          0,
          0,
          0,
          0,
          0,
          0,
          0,
          0,
          0,
          0,
          0,
          0,
          0,
          0,
          0,
          0,
          0,
          0,
          0
         ]
        },
        {
         "marker": {
          "size": 12
         },
         "mode": "lines+markers+text",
         "name": "Mindre transportmiddel",
         "textfont": {
          "color": "#1f77b4",
          "family": "sans serif",
          "size": 12
         },
         "textposition": "bottom center",
         "type": "scatter",
         "x": [
          "00:00",
          "01:00",
          "02:00",
          "03:00",
          "04:00",
          "05:00",
          "06:00",
          "07:00",
          "08:00",
          "09:00",
          "10:00",
          "11:00",
          "12:00",
          "13:00",
          "14:00",
          "15:00",
          "16:00",
          "17:00",
          "18:00",
          "19:00",
          "20:00",
          "21:00",
          "22:00",
          "23:00"
         ],
         "y": [
          0,
          0,
          0,
          0,
          0,
          0,
          0,
          0,
          0,
          0,
          0,
          0,
          0,
          0,
          0,
          0,
          0,
          0,
          0,
          0,
          0,
          0,
          0,
          0
         ]
        },
        {
         "marker": {
          "size": 12
         },
         "mode": "lines+markers+text",
         "name": "Mindre ulykke",
         "textfont": {
          "color": "#1f77b4",
          "family": "sans serif",
          "size": 12
         },
         "textposition": "bottom center",
         "type": "scatter",
         "x": [
          "00:00",
          "01:00",
          "02:00",
          "03:00",
          "04:00",
          "05:00",
          "06:00",
          "07:00",
          "08:00",
          "09:00",
          "10:00",
          "11:00",
          "12:00",
          "13:00",
          "14:00",
          "15:00",
          "16:00",
          "17:00",
          "18:00",
          "19:00",
          "20:00",
          "21:00",
          "22:00",
          "23:00"
         ],
         "y": [
          0,
          0,
          0,
          0,
          0,
          0,
          0,
          0,
          0,
          0,
          0,
          0,
          0,
          0,
          0,
          0,
          0,
          0,
          0,
          0,
          0,
          0,
          0,
          0
         ]
        },
        {
         "marker": {
          "size": 12
         },
         "mode": "lines+markers+text",
         "name": "Motorsport",
         "textfont": {
          "color": "#1f77b4",
          "family": "sans serif",
          "size": 12
         },
         "textposition": "bottom center",
         "type": "scatter",
         "x": [
          "00:00",
          "01:00",
          "02:00",
          "03:00",
          "04:00",
          "05:00",
          "06:00",
          "07:00",
          "08:00",
          "09:00",
          "10:00",
          "11:00",
          "12:00",
          "13:00",
          "14:00",
          "15:00",
          "16:00",
          "17:00",
          "18:00",
          "19:00",
          "20:00",
          "21:00",
          "22:00",
          "23:00"
         ],
         "y": [
          0,
          0,
          0,
          0,
          0,
          0,
          0,
          0,
          0,
          0,
          0,
          0,
          0,
          0,
          0,
          0,
          0,
          0,
          0,
          0,
          0,
          0,
          0,
          0
         ]
        },
        {
         "marker": {
          "size": 12
         },
         "mode": "lines+markers+text",
         "name": "Museum og seværdighed",
         "textfont": {
          "color": "#1f77b4",
          "family": "sans serif",
          "size": 12
         },
         "textposition": "bottom center",
         "type": "scatter",
         "x": [
          "00:00",
          "01:00",
          "02:00",
          "03:00",
          "04:00",
          "05:00",
          "06:00",
          "07:00",
          "08:00",
          "09:00",
          "10:00",
          "11:00",
          "12:00",
          "13:00",
          "14:00",
          "15:00",
          "16:00",
          "17:00",
          "18:00",
          "19:00",
          "20:00",
          "21:00",
          "22:00",
          "23:00"
         ],
         "y": [
          0,
          0,
          0,
          0,
          0,
          0,
          0,
          0,
          0,
          0,
          0,
          0,
          0,
          0,
          0,
          0,
          0,
          0,
          0,
          0,
          0,
          0,
          0,
          0
         ]
        },
        {
         "marker": {
          "size": 12
         },
         "mode": "lines+markers+text",
         "name": "Musik og lyd",
         "textfont": {
          "color": "#1f77b4",
          "family": "sans serif",
          "size": 12
         },
         "textposition": "bottom center",
         "type": "scatter",
         "x": [
          "00:00",
          "01:00",
          "02:00",
          "03:00",
          "04:00",
          "05:00",
          "06:00",
          "07:00",
          "08:00",
          "09:00",
          "10:00",
          "11:00",
          "12:00",
          "13:00",
          "14:00",
          "15:00",
          "16:00",
          "17:00",
          "18:00",
          "19:00",
          "20:00",
          "21:00",
          "22:00",
          "23:00"
         ],
         "y": [
          0,
          0,
          0,
          0,
          0,
          0,
          0,
          0,
          0,
          0,
          0,
          0,
          0,
          0,
          0,
          0,
          0,
          0,
          0,
          0,
          0,
          0,
          0,
          0
         ]
        },
        {
         "marker": {
          "size": 12
         },
         "mode": "lines+markers+text",
         "name": "Mærkedag",
         "textfont": {
          "color": "#1f77b4",
          "family": "sans serif",
          "size": 12
         },
         "textposition": "bottom center",
         "type": "scatter",
         "x": [
          "00:00",
          "01:00",
          "02:00",
          "03:00",
          "04:00",
          "05:00",
          "06:00",
          "07:00",
          "08:00",
          "09:00",
          "10:00",
          "11:00",
          "12:00",
          "13:00",
          "14:00",
          "15:00",
          "16:00",
          "17:00",
          "18:00",
          "19:00",
          "20:00",
          "21:00",
          "22:00",
          "23:00"
         ],
         "y": [
          0,
          0,
          0,
          0,
          0,
          0,
          0,
          0,
          0,
          0,
          0,
          0,
          0,
          0,
          0,
          0,
          0,
          0,
          0,
          0,
          0,
          0,
          0,
          0
         ]
        },
        {
         "marker": {
          "size": 12
         },
         "mode": "lines+markers+text",
         "name": "National politik",
         "textfont": {
          "color": "#1f77b4",
          "family": "sans serif",
          "size": 12
         },
         "textposition": "bottom center",
         "type": "scatter",
         "x": [
          "00:00",
          "01:00",
          "02:00",
          "03:00",
          "04:00",
          "05:00",
          "06:00",
          "07:00",
          "08:00",
          "09:00",
          "10:00",
          "11:00",
          "12:00",
          "13:00",
          "14:00",
          "15:00",
          "16:00",
          "17:00",
          "18:00",
          "19:00",
          "20:00",
          "21:00",
          "22:00",
          "23:00"
         ],
         "y": [
          0,
          0,
          0,
          0,
          0,
          0,
          0,
          0,
          0,
          0,
          0,
          0,
          0,
          0,
          0,
          0,
          0,
          0,
          0,
          0,
          0,
          0,
          0,
          0
         ]
        },
        {
         "marker": {
          "size": 12
         },
         "mode": "lines+markers+text",
         "name": "Naturvidenskab",
         "textfont": {
          "color": "#1f77b4",
          "family": "sans serif",
          "size": 12
         },
         "textposition": "bottom center",
         "type": "scatter",
         "x": [
          "00:00",
          "01:00",
          "02:00",
          "03:00",
          "04:00",
          "05:00",
          "06:00",
          "07:00",
          "08:00",
          "09:00",
          "10:00",
          "11:00",
          "12:00",
          "13:00",
          "14:00",
          "15:00",
          "16:00",
          "17:00",
          "18:00",
          "19:00",
          "20:00",
          "21:00",
          "22:00",
          "23:00"
         ],
         "y": [
          0,
          0,
          0,
          0,
          0,
          0,
          0,
          0,
          0,
          0,
          0,
          0,
          0,
          0,
          0,
          0,
          0,
          0,
          0,
          0,
          0,
          0,
          0,
          0
         ]
        },
        {
         "marker": {
          "size": 12
         },
         "mode": "lines+markers+text",
         "name": "Offentlig instans",
         "textfont": {
          "color": "#1f77b4",
          "family": "sans serif",
          "size": 12
         },
         "textposition": "bottom center",
         "type": "scatter",
         "x": [
          "00:00",
          "01:00",
          "02:00",
          "03:00",
          "04:00",
          "05:00",
          "06:00",
          "07:00",
          "08:00",
          "09:00",
          "10:00",
          "11:00",
          "12:00",
          "13:00",
          "14:00",
          "15:00",
          "16:00",
          "17:00",
          "18:00",
          "19:00",
          "20:00",
          "21:00",
          "22:00",
          "23:00"
         ],
         "y": [
          0,
          0,
          0,
          0,
          0,
          0,
          0,
          0,
          0,
          0,
          0,
          0,
          0,
          0,
          0,
          0,
          0,
          0,
          0,
          0,
          0,
          0,
          0,
          0
         ]
        },
        {
         "marker": {
          "size": 12
         },
         "mode": "lines+markers+text",
         "name": "Offentlig transport",
         "textfont": {
          "color": "#1f77b4",
          "family": "sans serif",
          "size": 12
         },
         "textposition": "bottom center",
         "type": "scatter",
         "x": [
          "00:00",
          "01:00",
          "02:00",
          "03:00",
          "04:00",
          "05:00",
          "06:00",
          "07:00",
          "08:00",
          "09:00",
          "10:00",
          "11:00",
          "12:00",
          "13:00",
          "14:00",
          "15:00",
          "16:00",
          "17:00",
          "18:00",
          "19:00",
          "20:00",
          "21:00",
          "22:00",
          "23:00"
         ],
         "y": [
          0,
          0,
          0,
          0,
          0,
          0,
          0,
          0,
          0,
          0,
          0,
          0,
          0,
          0,
          0,
          0,
          0,
          0,
          0,
          0,
          0,
          0,
          0,
          0
         ]
        },
        {
         "marker": {
          "size": 12
         },
         "mode": "lines+markers+text",
         "name": "Partnerskab",
         "textfont": {
          "color": "#1f77b4",
          "family": "sans serif",
          "size": 12
         },
         "textposition": "bottom center",
         "type": "scatter",
         "x": [
          "00:00",
          "01:00",
          "02:00",
          "03:00",
          "04:00",
          "05:00",
          "06:00",
          "07:00",
          "08:00",
          "09:00",
          "10:00",
          "11:00",
          "12:00",
          "13:00",
          "14:00",
          "15:00",
          "16:00",
          "17:00",
          "18:00",
          "19:00",
          "20:00",
          "21:00",
          "22:00",
          "23:00"
         ],
         "y": [
          0,
          0,
          0,
          0,
          0,
          0,
          0,
          0,
          0,
          0,
          0,
          0,
          0,
          0,
          0,
          0,
          0,
          0,
          0,
          0,
          0,
          0,
          0,
          0
         ]
        },
        {
         "marker": {
          "size": 12
         },
         "mode": "lines+markers+text",
         "name": "Personfarlig kriminalitet",
         "textfont": {
          "color": "#1f77b4",
          "family": "sans serif",
          "size": 12
         },
         "textposition": "bottom center",
         "type": "scatter",
         "x": [
          "00:00",
          "01:00",
          "02:00",
          "03:00",
          "04:00",
          "05:00",
          "06:00",
          "07:00",
          "08:00",
          "09:00",
          "10:00",
          "11:00",
          "12:00",
          "13:00",
          "14:00",
          "15:00",
          "16:00",
          "17:00",
          "18:00",
          "19:00",
          "20:00",
          "21:00",
          "22:00",
          "23:00"
         ],
         "y": [
          0,
          0,
          0,
          0,
          0,
          0,
          0,
          0,
          0,
          0,
          0,
          0,
          0,
          0,
          0,
          0,
          0,
          0,
          0,
          0,
          0,
          0,
          0,
          0
         ]
        },
        {
         "marker": {
          "size": 12
         },
         "mode": "lines+markers+text",
         "name": "Personlig begivenhed",
         "textfont": {
          "color": "#1f77b4",
          "family": "sans serif",
          "size": 12
         },
         "textposition": "bottom center",
         "type": "scatter",
         "x": [
          "00:00",
          "01:00",
          "02:00",
          "03:00",
          "04:00",
          "05:00",
          "06:00",
          "07:00",
          "08:00",
          "09:00",
          "10:00",
          "11:00",
          "12:00",
          "13:00",
          "14:00",
          "15:00",
          "16:00",
          "17:00",
          "18:00",
          "19:00",
          "20:00",
          "21:00",
          "22:00",
          "23:00"
         ],
         "y": [
          0,
          0,
          0,
          0,
          0,
          0,
          0,
          0,
          0,
          0,
          0,
          0,
          0,
          0,
          0,
          0,
          0,
          0,
          0,
          0,
          0,
          0,
          0,
          0
         ]
        },
        {
         "marker": {
          "size": 12
         },
         "mode": "lines+markers+text",
         "name": "Politik",
         "textfont": {
          "color": "#1f77b4",
          "family": "sans serif",
          "size": 12
         },
         "textposition": "bottom center",
         "type": "scatter",
         "x": [
          "00:00",
          "01:00",
          "02:00",
          "03:00",
          "04:00",
          "05:00",
          "06:00",
          "07:00",
          "08:00",
          "09:00",
          "10:00",
          "11:00",
          "12:00",
          "13:00",
          "14:00",
          "15:00",
          "16:00",
          "17:00",
          "18:00",
          "19:00",
          "20:00",
          "21:00",
          "22:00",
          "23:00"
         ],
         "y": [
          11,
          12,
          20,
          66,
          95,
          136,
          145,
          174,
          86,
          70,
          69,
          86,
          131,
          168,
          136,
          137,
          96,
          73,
          76,
          58,
          64,
          45,
          34,
          14
         ]
        },
        {
         "marker": {
          "size": 12
         },
         "mode": "lines+markers+text",
         "name": "Privat virksomhed",
         "textfont": {
          "color": "#1f77b4",
          "family": "sans serif",
          "size": 12
         },
         "textposition": "bottom center",
         "type": "scatter",
         "x": [
          "00:00",
          "01:00",
          "02:00",
          "03:00",
          "04:00",
          "05:00",
          "06:00",
          "07:00",
          "08:00",
          "09:00",
          "10:00",
          "11:00",
          "12:00",
          "13:00",
          "14:00",
          "15:00",
          "16:00",
          "17:00",
          "18:00",
          "19:00",
          "20:00",
          "21:00",
          "22:00",
          "23:00"
         ],
         "y": [
          0,
          0,
          0,
          0,
          0,
          0,
          0,
          0,
          0,
          0,
          0,
          0,
          0,
          0,
          0,
          0,
          0,
          0,
          0,
          0,
          0,
          0,
          0,
          0
         ]
        },
        {
         "marker": {
          "size": 12
         },
         "mode": "lines+markers+text",
         "name": "Reality",
         "textfont": {
          "color": "#1f77b4",
          "family": "sans serif",
          "size": 12
         },
         "textposition": "bottom center",
         "type": "scatter",
         "x": [
          "00:00",
          "01:00",
          "02:00",
          "03:00",
          "04:00",
          "05:00",
          "06:00",
          "07:00",
          "08:00",
          "09:00",
          "10:00",
          "11:00",
          "12:00",
          "13:00",
          "14:00",
          "15:00",
          "16:00",
          "17:00",
          "18:00",
          "19:00",
          "20:00",
          "21:00",
          "22:00",
          "23:00"
         ],
         "y": [
          0,
          0,
          0,
          0,
          0,
          0,
          0,
          0,
          0,
          0,
          0,
          0,
          0,
          0,
          0,
          0,
          0,
          0,
          0,
          0,
          0,
          0,
          0,
          0
         ]
        },
        {
         "marker": {
          "size": 12
         },
         "mode": "lines+markers+text",
         "name": "Rejse",
         "textfont": {
          "color": "#1f77b4",
          "family": "sans serif",
          "size": 12
         },
         "textposition": "bottom center",
         "type": "scatter",
         "x": [
          "00:00",
          "01:00",
          "02:00",
          "03:00",
          "04:00",
          "05:00",
          "06:00",
          "07:00",
          "08:00",
          "09:00",
          "10:00",
          "11:00",
          "12:00",
          "13:00",
          "14:00",
          "15:00",
          "16:00",
          "17:00",
          "18:00",
          "19:00",
          "20:00",
          "21:00",
          "22:00",
          "23:00"
         ],
         "y": [
          0,
          0,
          0,
          0,
          0,
          0,
          0,
          0,
          0,
          0,
          0,
          0,
          0,
          0,
          0,
          0,
          0,
          0,
          0,
          0,
          0,
          0,
          0,
          0
         ]
        },
        {
         "marker": {
          "size": 12
         },
         "mode": "lines+markers+text",
         "name": "Religion",
         "textfont": {
          "color": "#1f77b4",
          "family": "sans serif",
          "size": 12
         },
         "textposition": "bottom center",
         "type": "scatter",
         "x": [
          "00:00",
          "01:00",
          "02:00",
          "03:00",
          "04:00",
          "05:00",
          "06:00",
          "07:00",
          "08:00",
          "09:00",
          "10:00",
          "11:00",
          "12:00",
          "13:00",
          "14:00",
          "15:00",
          "16:00",
          "17:00",
          "18:00",
          "19:00",
          "20:00",
          "21:00",
          "22:00",
          "23:00"
         ],
         "y": [
          0,
          0,
          0,
          0,
          0,
          0,
          0,
          0,
          0,
          0,
          0,
          0,
          0,
          0,
          0,
          0,
          0,
          0,
          0,
          0,
          0,
          0,
          0,
          0
         ]
        },
        {
         "marker": {
          "size": 12
         },
         "mode": "lines+markers+text",
         "name": "Renovering og indretning",
         "textfont": {
          "color": "#1f77b4",
          "family": "sans serif",
          "size": 12
         },
         "textposition": "bottom center",
         "type": "scatter",
         "x": [
          "00:00",
          "01:00",
          "02:00",
          "03:00",
          "04:00",
          "05:00",
          "06:00",
          "07:00",
          "08:00",
          "09:00",
          "10:00",
          "11:00",
          "12:00",
          "13:00",
          "14:00",
          "15:00",
          "16:00",
          "17:00",
          "18:00",
          "19:00",
          "20:00",
          "21:00",
          "22:00",
          "23:00"
         ],
         "y": [
          0,
          0,
          0,
          0,
          0,
          0,
          0,
          0,
          0,
          0,
          0,
          0,
          0,
          0,
          0,
          0,
          0,
          0,
          0,
          0,
          0,
          0,
          0,
          0
         ]
        },
        {
         "marker": {
          "size": 12
         },
         "mode": "lines+markers+text",
         "name": "Samfund",
         "textfont": {
          "color": "#1f77b4",
          "family": "sans serif",
          "size": 12
         },
         "textposition": "bottom center",
         "type": "scatter",
         "x": [
          "00:00",
          "01:00",
          "02:00",
          "03:00",
          "04:00",
          "05:00",
          "06:00",
          "07:00",
          "08:00",
          "09:00",
          "10:00",
          "11:00",
          "12:00",
          "13:00",
          "14:00",
          "15:00",
          "16:00",
          "17:00",
          "18:00",
          "19:00",
          "20:00",
          "21:00",
          "22:00",
          "23:00"
         ],
         "y": [
          5,
          12,
          6,
          16,
          30,
          28,
          21,
          34,
          37,
          61,
          50,
          22,
          34,
          79,
          55,
          33,
          24,
          54,
          57,
          65,
          63,
          48,
          23,
          14
         ]
        },
        {
         "marker": {
          "size": 12
         },
         "mode": "lines+markers+text",
         "name": "Samfundsvidenskab og humaniora",
         "textfont": {
          "color": "#1f77b4",
          "family": "sans serif",
          "size": 12
         },
         "textposition": "bottom center",
         "type": "scatter",
         "x": [
          "00:00",
          "01:00",
          "02:00",
          "03:00",
          "04:00",
          "05:00",
          "06:00",
          "07:00",
          "08:00",
          "09:00",
          "10:00",
          "11:00",
          "12:00",
          "13:00",
          "14:00",
          "15:00",
          "16:00",
          "17:00",
          "18:00",
          "19:00",
          "20:00",
          "21:00",
          "22:00",
          "23:00"
         ],
         "y": [
          0,
          0,
          0,
          0,
          0,
          0,
          0,
          0,
          0,
          0,
          0,
          0,
          0,
          0,
          0,
          0,
          0,
          0,
          0,
          0,
          0,
          0,
          0,
          0
         ]
        },
        {
         "marker": {
          "size": 12
         },
         "mode": "lines+markers+text",
         "name": "Sport",
         "textfont": {
          "color": "#1f77b4",
          "family": "sans serif",
          "size": 12
         },
         "textposition": "bottom center",
         "type": "scatter",
         "x": [
          "00:00",
          "01:00",
          "02:00",
          "03:00",
          "04:00",
          "05:00",
          "06:00",
          "07:00",
          "08:00",
          "09:00",
          "10:00",
          "11:00",
          "12:00",
          "13:00",
          "14:00",
          "15:00",
          "16:00",
          "17:00",
          "18:00",
          "19:00",
          "20:00",
          "21:00",
          "22:00",
          "23:00"
         ],
         "y": [
          2,
          1,
          4,
          1,
          15,
          18,
          11,
          3,
          4,
          0,
          1,
          0,
          0,
          0,
          0,
          2,
          2,
          1,
          10,
          20,
          6,
          8,
          4,
          3
         ]
        },
        {
         "marker": {
          "size": 12
         },
         "mode": "lines+markers+text",
         "name": "Sportsbegivenhed",
         "textfont": {
          "color": "#1f77b4",
          "family": "sans serif",
          "size": 12
         },
         "textposition": "bottom center",
         "type": "scatter",
         "x": [
          "00:00",
          "01:00",
          "02:00",
          "03:00",
          "04:00",
          "05:00",
          "06:00",
          "07:00",
          "08:00",
          "09:00",
          "10:00",
          "11:00",
          "12:00",
          "13:00",
          "14:00",
          "15:00",
          "16:00",
          "17:00",
          "18:00",
          "19:00",
          "20:00",
          "21:00",
          "22:00",
          "23:00"
         ],
         "y": [
          0,
          0,
          0,
          0,
          0,
          0,
          0,
          0,
          0,
          0,
          0,
          0,
          0,
          0,
          0,
          0,
          0,
          0,
          0,
          0,
          0,
          0,
          0,
          0
         ]
        },
        {
         "marker": {
          "size": 12
         },
         "mode": "lines+markers+text",
         "name": "Større katastrofe",
         "textfont": {
          "color": "#1f77b4",
          "family": "sans serif",
          "size": 12
         },
         "textposition": "bottom center",
         "type": "scatter",
         "x": [
          "00:00",
          "01:00",
          "02:00",
          "03:00",
          "04:00",
          "05:00",
          "06:00",
          "07:00",
          "08:00",
          "09:00",
          "10:00",
          "11:00",
          "12:00",
          "13:00",
          "14:00",
          "15:00",
          "16:00",
          "17:00",
          "18:00",
          "19:00",
          "20:00",
          "21:00",
          "22:00",
          "23:00"
         ],
         "y": [
          0,
          0,
          0,
          0,
          0,
          0,
          0,
          0,
          0,
          0,
          0,
          0,
          0,
          0,
          0,
          0,
          0,
          0,
          0,
          0,
          0,
          0,
          0,
          0
         ]
        },
        {
         "marker": {
          "size": 12
         },
         "mode": "lines+markers+text",
         "name": "Større transportmiddel",
         "textfont": {
          "color": "#1f77b4",
          "family": "sans serif",
          "size": 12
         },
         "textposition": "bottom center",
         "type": "scatter",
         "x": [
          "00:00",
          "01:00",
          "02:00",
          "03:00",
          "04:00",
          "05:00",
          "06:00",
          "07:00",
          "08:00",
          "09:00",
          "10:00",
          "11:00",
          "12:00",
          "13:00",
          "14:00",
          "15:00",
          "16:00",
          "17:00",
          "18:00",
          "19:00",
          "20:00",
          "21:00",
          "22:00",
          "23:00"
         ],
         "y": [
          0,
          0,
          0,
          0,
          0,
          0,
          0,
          0,
          0,
          0,
          0,
          0,
          0,
          0,
          0,
          0,
          0,
          0,
          0,
          0,
          0,
          0,
          0,
          0
         ]
        },
        {
         "marker": {
          "size": 12
         },
         "mode": "lines+markers+text",
         "name": "Sundhed",
         "textfont": {
          "color": "#1f77b4",
          "family": "sans serif",
          "size": 12
         },
         "textposition": "bottom center",
         "type": "scatter",
         "x": [
          "00:00",
          "01:00",
          "02:00",
          "03:00",
          "04:00",
          "05:00",
          "06:00",
          "07:00",
          "08:00",
          "09:00",
          "10:00",
          "11:00",
          "12:00",
          "13:00",
          "14:00",
          "15:00",
          "16:00",
          "17:00",
          "18:00",
          "19:00",
          "20:00",
          "21:00",
          "22:00",
          "23:00"
         ],
         "y": [
          4,
          3,
          2,
          1,
          4,
          2,
          4,
          3,
          1,
          1,
          1,
          1,
          7,
          12,
          12,
          24,
          6,
          5,
          4,
          3,
          16,
          17,
          4,
          1
         ]
        },
        {
         "marker": {
          "size": 12
         },
         "mode": "lines+markers+text",
         "name": "Sygdom og behandling",
         "textfont": {
          "color": "#1f77b4",
          "family": "sans serif",
          "size": 12
         },
         "textposition": "bottom center",
         "type": "scatter",
         "x": [
          "00:00",
          "01:00",
          "02:00",
          "03:00",
          "04:00",
          "05:00",
          "06:00",
          "07:00",
          "08:00",
          "09:00",
          "10:00",
          "11:00",
          "12:00",
          "13:00",
          "14:00",
          "15:00",
          "16:00",
          "17:00",
          "18:00",
          "19:00",
          "20:00",
          "21:00",
          "22:00",
          "23:00"
         ],
         "y": [
          0,
          0,
          0,
          0,
          0,
          0,
          0,
          0,
          0,
          0,
          0,
          0,
          0,
          0,
          0,
          0,
          0,
          0,
          0,
          0,
          0,
          0,
          0,
          0
         ]
        },
        {
         "marker": {
          "size": 12
         },
         "mode": "lines+markers+text",
         "name": "Teknologi",
         "textfont": {
          "color": "#1f77b4",
          "family": "sans serif",
          "size": 12
         },
         "textposition": "bottom center",
         "type": "scatter",
         "x": [
          "00:00",
          "01:00",
          "02:00",
          "03:00",
          "04:00",
          "05:00",
          "06:00",
          "07:00",
          "08:00",
          "09:00",
          "10:00",
          "11:00",
          "12:00",
          "13:00",
          "14:00",
          "15:00",
          "16:00",
          "17:00",
          "18:00",
          "19:00",
          "20:00",
          "21:00",
          "22:00",
          "23:00"
         ],
         "y": [
          1,
          2,
          7,
          15,
          19,
          23,
          16,
          11,
          3,
          3,
          0,
          2,
          0,
          0,
          0,
          0,
          0,
          0,
          0,
          15,
          28,
          16,
          19,
          4
         ]
        },
        {
         "marker": {
          "size": 12
         },
         "mode": "lines+markers+text",
         "name": "Tendenser",
         "textfont": {
          "color": "#1f77b4",
          "family": "sans serif",
          "size": 12
         },
         "textposition": "bottom center",
         "type": "scatter",
         "x": [
          "00:00",
          "01:00",
          "02:00",
          "03:00",
          "04:00",
          "05:00",
          "06:00",
          "07:00",
          "08:00",
          "09:00",
          "10:00",
          "11:00",
          "12:00",
          "13:00",
          "14:00",
          "15:00",
          "16:00",
          "17:00",
          "18:00",
          "19:00",
          "20:00",
          "21:00",
          "22:00",
          "23:00"
         ],
         "y": [
          0,
          0,
          0,
          0,
          0,
          0,
          0,
          0,
          0,
          0,
          0,
          0,
          0,
          0,
          0,
          0,
          0,
          0,
          0,
          0,
          0,
          0,
          0,
          0
         ]
        },
        {
         "marker": {
          "size": 12
         },
         "mode": "lines+markers+text",
         "name": "Terror",
         "textfont": {
          "color": "#1f77b4",
          "family": "sans serif",
          "size": 12
         },
         "textposition": "bottom center",
         "type": "scatter",
         "x": [
          "00:00",
          "01:00",
          "02:00",
          "03:00",
          "04:00",
          "05:00",
          "06:00",
          "07:00",
          "08:00",
          "09:00",
          "10:00",
          "11:00",
          "12:00",
          "13:00",
          "14:00",
          "15:00",
          "16:00",
          "17:00",
          "18:00",
          "19:00",
          "20:00",
          "21:00",
          "22:00",
          "23:00"
         ],
         "y": [
          0,
          0,
          0,
          0,
          0,
          0,
          0,
          0,
          0,
          0,
          0,
          0,
          0,
          0,
          0,
          0,
          0,
          0,
          0,
          0,
          0,
          0,
          0,
          0
         ]
        },
        {
         "marker": {
          "size": 12
         },
         "mode": "lines+markers+text",
         "name": "Transportmiddel",
         "textfont": {
          "color": "#1f77b4",
          "family": "sans serif",
          "size": 12
         },
         "textposition": "bottom center",
         "type": "scatter",
         "x": [
          "00:00",
          "01:00",
          "02:00",
          "03:00",
          "04:00",
          "05:00",
          "06:00",
          "07:00",
          "08:00",
          "09:00",
          "10:00",
          "11:00",
          "12:00",
          "13:00",
          "14:00",
          "15:00",
          "16:00",
          "17:00",
          "18:00",
          "19:00",
          "20:00",
          "21:00",
          "22:00",
          "23:00"
         ],
         "y": [
          7,
          7,
          9,
          33,
          81,
          91,
          87,
          60,
          47,
          44,
          71,
          81,
          73,
          177,
          159,
          139,
          118,
          144,
          91,
          72,
          58,
          31,
          13,
          9
         ]
        },
        {
         "marker": {
          "size": 12
         },
         "mode": "lines+markers+text",
         "name": "Uddannelse",
         "textfont": {
          "color": "#1f77b4",
          "family": "sans serif",
          "size": 12
         },
         "textposition": "bottom center",
         "type": "scatter",
         "x": [
          "00:00",
          "01:00",
          "02:00",
          "03:00",
          "04:00",
          "05:00",
          "06:00",
          "07:00",
          "08:00",
          "09:00",
          "10:00",
          "11:00",
          "12:00",
          "13:00",
          "14:00",
          "15:00",
          "16:00",
          "17:00",
          "18:00",
          "19:00",
          "20:00",
          "21:00",
          "22:00",
          "23:00"
         ],
         "y": [
          0,
          0,
          0,
          3,
          1,
          1,
          11,
          18,
          3,
          1,
          2,
          2,
          2,
          0,
          0,
          3,
          7,
          22,
          27,
          21,
          8,
          10,
          3,
          1
         ]
        },
        {
         "marker": {
          "size": 12
         },
         "mode": "lines+markers+text",
         "name": "Udlejning",
         "textfont": {
          "color": "#1f77b4",
          "family": "sans serif",
          "size": 12
         },
         "textposition": "bottom center",
         "type": "scatter",
         "x": [
          "00:00",
          "01:00",
          "02:00",
          "03:00",
          "04:00",
          "05:00",
          "06:00",
          "07:00",
          "08:00",
          "09:00",
          "10:00",
          "11:00",
          "12:00",
          "13:00",
          "14:00",
          "15:00",
          "16:00",
          "17:00",
          "18:00",
          "19:00",
          "20:00",
          "21:00",
          "22:00",
          "23:00"
         ],
         "y": [
          0,
          0,
          0,
          0,
          0,
          0,
          0,
          0,
          0,
          0,
          0,
          0,
          0,
          0,
          0,
          0,
          0,
          0,
          0,
          0,
          0,
          0,
          0,
          0
         ]
        },
        {
         "marker": {
          "size": 12
         },
         "mode": "lines+markers+text",
         "name": "Underholdning",
         "textfont": {
          "color": "#1f77b4",
          "family": "sans serif",
          "size": 12
         },
         "textposition": "bottom center",
         "type": "scatter",
         "x": [
          "00:00",
          "01:00",
          "02:00",
          "03:00",
          "04:00",
          "05:00",
          "06:00",
          "07:00",
          "08:00",
          "09:00",
          "10:00",
          "11:00",
          "12:00",
          "13:00",
          "14:00",
          "15:00",
          "16:00",
          "17:00",
          "18:00",
          "19:00",
          "20:00",
          "21:00",
          "22:00",
          "23:00"
         ],
         "y": [
          1,
          1,
          1,
          11,
          24,
          43,
          99,
          92,
          57,
          74,
          81,
          43,
          22,
          22,
          17,
          17,
          55,
          60,
          49,
          26,
          23,
          14,
          3,
          5
         ]
        },
        {
         "marker": {
          "size": 12
         },
         "mode": "lines+markers+text",
         "name": "Underholdningsbegivenhed",
         "textfont": {
          "color": "#1f77b4",
          "family": "sans serif",
          "size": 12
         },
         "textposition": "bottom center",
         "type": "scatter",
         "x": [
          "00:00",
          "01:00",
          "02:00",
          "03:00",
          "04:00",
          "05:00",
          "06:00",
          "07:00",
          "08:00",
          "09:00",
          "10:00",
          "11:00",
          "12:00",
          "13:00",
          "14:00",
          "15:00",
          "16:00",
          "17:00",
          "18:00",
          "19:00",
          "20:00",
          "21:00",
          "22:00",
          "23:00"
         ],
         "y": [
          0,
          0,
          0,
          0,
          0,
          0,
          0,
          0,
          0,
          0,
          0,
          0,
          0,
          0,
          0,
          0,
          0,
          0,
          0,
          0,
          0,
          0,
          0,
          0
         ]
        },
        {
         "marker": {
          "size": 12
         },
         "mode": "lines+markers+text",
         "name": "Ungdomsuddannelse",
         "textfont": {
          "color": "#1f77b4",
          "family": "sans serif",
          "size": 12
         },
         "textposition": "bottom center",
         "type": "scatter",
         "x": [
          "00:00",
          "01:00",
          "02:00",
          "03:00",
          "04:00",
          "05:00",
          "06:00",
          "07:00",
          "08:00",
          "09:00",
          "10:00",
          "11:00",
          "12:00",
          "13:00",
          "14:00",
          "15:00",
          "16:00",
          "17:00",
          "18:00",
          "19:00",
          "20:00",
          "21:00",
          "22:00",
          "23:00"
         ],
         "y": [
          0,
          0,
          0,
          0,
          0,
          0,
          0,
          0,
          0,
          0,
          0,
          0,
          0,
          0,
          0,
          0,
          0,
          0,
          0,
          0,
          0,
          0,
          0,
          0
         ]
        },
        {
         "marker": {
          "size": 12
         },
         "mode": "lines+markers+text",
         "name": "Vejr",
         "textfont": {
          "color": "#1f77b4",
          "family": "sans serif",
          "size": 12
         },
         "textposition": "bottom center",
         "type": "scatter",
         "x": [
          "00:00",
          "01:00",
          "02:00",
          "03:00",
          "04:00",
          "05:00",
          "06:00",
          "07:00",
          "08:00",
          "09:00",
          "10:00",
          "11:00",
          "12:00",
          "13:00",
          "14:00",
          "15:00",
          "16:00",
          "17:00",
          "18:00",
          "19:00",
          "20:00",
          "21:00",
          "22:00",
          "23:00"
         ],
         "y": [
          2,
          1,
          6,
          15,
          26,
          54,
          96,
          91,
          50,
          35,
          37,
          6,
          12,
          14,
          15,
          26,
          12,
          2,
          5,
          17,
          12,
          9,
          5,
          3
         ]
        },
        {
         "marker": {
          "size": 12
         },
         "mode": "lines+markers+text",
         "name": "Videnskab",
         "textfont": {
          "color": "#1f77b4",
          "family": "sans serif",
          "size": 12
         },
         "textposition": "bottom center",
         "type": "scatter",
         "x": [
          "00:00",
          "01:00",
          "02:00",
          "03:00",
          "04:00",
          "05:00",
          "06:00",
          "07:00",
          "08:00",
          "09:00",
          "10:00",
          "11:00",
          "12:00",
          "13:00",
          "14:00",
          "15:00",
          "16:00",
          "17:00",
          "18:00",
          "19:00",
          "20:00",
          "21:00",
          "22:00",
          "23:00"
         ],
         "y": [
          0,
          1,
          1,
          1,
          2,
          17,
          20,
          5,
          8,
          3,
          1,
          1,
          8,
          19,
          8,
          2,
          0,
          0,
          2,
          24,
          27,
          10,
          2,
          4
         ]
        },
        {
         "marker": {
          "size": 12
         },
         "mode": "lines+markers+text",
         "name": "Videregående uddannelse",
         "textfont": {
          "color": "#1f77b4",
          "family": "sans serif",
          "size": 12
         },
         "textposition": "bottom center",
         "type": "scatter",
         "x": [
          "00:00",
          "01:00",
          "02:00",
          "03:00",
          "04:00",
          "05:00",
          "06:00",
          "07:00",
          "08:00",
          "09:00",
          "10:00",
          "11:00",
          "12:00",
          "13:00",
          "14:00",
          "15:00",
          "16:00",
          "17:00",
          "18:00",
          "19:00",
          "20:00",
          "21:00",
          "22:00",
          "23:00"
         ],
         "y": [
          0,
          0,
          0,
          0,
          0,
          0,
          0,
          0,
          0,
          0,
          0,
          0,
          0,
          0,
          0,
          0,
          0,
          0,
          0,
          0,
          0,
          0,
          0,
          0
         ]
        },
        {
         "marker": {
          "size": 12
         },
         "mode": "lines+markers+text",
         "name": "Væbnet konflikt",
         "textfont": {
          "color": "#1f77b4",
          "family": "sans serif",
          "size": 12
         },
         "textposition": "bottom center",
         "type": "scatter",
         "x": [
          "00:00",
          "01:00",
          "02:00",
          "03:00",
          "04:00",
          "05:00",
          "06:00",
          "07:00",
          "08:00",
          "09:00",
          "10:00",
          "11:00",
          "12:00",
          "13:00",
          "14:00",
          "15:00",
          "16:00",
          "17:00",
          "18:00",
          "19:00",
          "20:00",
          "21:00",
          "22:00",
          "23:00"
         ],
         "y": [
          0,
          0,
          0,
          0,
          0,
          0,
          0,
          0,
          0,
          0,
          0,
          0,
          0,
          0,
          0,
          0,
          0,
          0,
          0,
          0,
          0,
          0,
          0,
          0
         ]
        },
        {
         "marker": {
          "size": 12
         },
         "mode": "lines+markers+text",
         "name": "Værdier",
         "textfont": {
          "color": "#1f77b4",
          "family": "sans serif",
          "size": 12
         },
         "textposition": "bottom center",
         "type": "scatter",
         "x": [
          "00:00",
          "01:00",
          "02:00",
          "03:00",
          "04:00",
          "05:00",
          "06:00",
          "07:00",
          "08:00",
          "09:00",
          "10:00",
          "11:00",
          "12:00",
          "13:00",
          "14:00",
          "15:00",
          "16:00",
          "17:00",
          "18:00",
          "19:00",
          "20:00",
          "21:00",
          "22:00",
          "23:00"
         ],
         "y": [
          0,
          0,
          0,
          0,
          0,
          0,
          0,
          0,
          0,
          0,
          0,
          0,
          0,
          0,
          0,
          0,
          0,
          0,
          0,
          0,
          0,
          0,
          0,
          0
         ]
        },
        {
         "marker": {
          "size": 12
         },
         "mode": "lines+markers+text",
         "name": "Økonomi",
         "textfont": {
          "color": "#1f77b4",
          "family": "sans serif",
          "size": 12
         },
         "textposition": "bottom center",
         "type": "scatter",
         "x": [
          "00:00",
          "01:00",
          "02:00",
          "03:00",
          "04:00",
          "05:00",
          "06:00",
          "07:00",
          "08:00",
          "09:00",
          "10:00",
          "11:00",
          "12:00",
          "13:00",
          "14:00",
          "15:00",
          "16:00",
          "17:00",
          "18:00",
          "19:00",
          "20:00",
          "21:00",
          "22:00",
          "23:00"
         ],
         "y": [
          5,
          4,
          7,
          12,
          25,
          31,
          31,
          45,
          47,
          27,
          28,
          19,
          19,
          30,
          36,
          45,
          28,
          27,
          24,
          33,
          29,
          24,
          9,
          3
         ]
        }
       ],
       "layout": {
        "font": {
         "family": "Courier New, monospace",
         "size": 16
        },
        "height": 750,
        "template": {
         "data": {
          "bar": [
           {
            "error_x": {
             "color": "#2a3f5f"
            },
            "error_y": {
             "color": "#2a3f5f"
            },
            "marker": {
             "line": {
              "color": "#E5ECF6",
              "width": 0.5
             },
             "pattern": {
              "fillmode": "overlay",
              "size": 10,
              "solidity": 0.2
             }
            },
            "type": "bar"
           }
          ],
          "barpolar": [
           {
            "marker": {
             "line": {
              "color": "#E5ECF6",
              "width": 0.5
             },
             "pattern": {
              "fillmode": "overlay",
              "size": 10,
              "solidity": 0.2
             }
            },
            "type": "barpolar"
           }
          ],
          "carpet": [
           {
            "aaxis": {
             "endlinecolor": "#2a3f5f",
             "gridcolor": "white",
             "linecolor": "white",
             "minorgridcolor": "white",
             "startlinecolor": "#2a3f5f"
            },
            "baxis": {
             "endlinecolor": "#2a3f5f",
             "gridcolor": "white",
             "linecolor": "white",
             "minorgridcolor": "white",
             "startlinecolor": "#2a3f5f"
            },
            "type": "carpet"
           }
          ],
          "choropleth": [
           {
            "colorbar": {
             "outlinewidth": 0,
             "ticks": ""
            },
            "type": "choropleth"
           }
          ],
          "contour": [
           {
            "colorbar": {
             "outlinewidth": 0,
             "ticks": ""
            },
            "colorscale": [
             [
              0,
              "#0d0887"
             ],
             [
              0.1111111111111111,
              "#46039f"
             ],
             [
              0.2222222222222222,
              "#7201a8"
             ],
             [
              0.3333333333333333,
              "#9c179e"
             ],
             [
              0.4444444444444444,
              "#bd3786"
             ],
             [
              0.5555555555555556,
              "#d8576b"
             ],
             [
              0.6666666666666666,
              "#ed7953"
             ],
             [
              0.7777777777777778,
              "#fb9f3a"
             ],
             [
              0.8888888888888888,
              "#fdca26"
             ],
             [
              1,
              "#f0f921"
             ]
            ],
            "type": "contour"
           }
          ],
          "contourcarpet": [
           {
            "colorbar": {
             "outlinewidth": 0,
             "ticks": ""
            },
            "type": "contourcarpet"
           }
          ],
          "heatmap": [
           {
            "colorbar": {
             "outlinewidth": 0,
             "ticks": ""
            },
            "colorscale": [
             [
              0,
              "#0d0887"
             ],
             [
              0.1111111111111111,
              "#46039f"
             ],
             [
              0.2222222222222222,
              "#7201a8"
             ],
             [
              0.3333333333333333,
              "#9c179e"
             ],
             [
              0.4444444444444444,
              "#bd3786"
             ],
             [
              0.5555555555555556,
              "#d8576b"
             ],
             [
              0.6666666666666666,
              "#ed7953"
             ],
             [
              0.7777777777777778,
              "#fb9f3a"
             ],
             [
              0.8888888888888888,
              "#fdca26"
             ],
             [
              1,
              "#f0f921"
             ]
            ],
            "type": "heatmap"
           }
          ],
          "heatmapgl": [
           {
            "colorbar": {
             "outlinewidth": 0,
             "ticks": ""
            },
            "colorscale": [
             [
              0,
              "#0d0887"
             ],
             [
              0.1111111111111111,
              "#46039f"
             ],
             [
              0.2222222222222222,
              "#7201a8"
             ],
             [
              0.3333333333333333,
              "#9c179e"
             ],
             [
              0.4444444444444444,
              "#bd3786"
             ],
             [
              0.5555555555555556,
              "#d8576b"
             ],
             [
              0.6666666666666666,
              "#ed7953"
             ],
             [
              0.7777777777777778,
              "#fb9f3a"
             ],
             [
              0.8888888888888888,
              "#fdca26"
             ],
             [
              1,
              "#f0f921"
             ]
            ],
            "type": "heatmapgl"
           }
          ],
          "histogram": [
           {
            "marker": {
             "pattern": {
              "fillmode": "overlay",
              "size": 10,
              "solidity": 0.2
             }
            },
            "type": "histogram"
           }
          ],
          "histogram2d": [
           {
            "colorbar": {
             "outlinewidth": 0,
             "ticks": ""
            },
            "colorscale": [
             [
              0,
              "#0d0887"
             ],
             [
              0.1111111111111111,
              "#46039f"
             ],
             [
              0.2222222222222222,
              "#7201a8"
             ],
             [
              0.3333333333333333,
              "#9c179e"
             ],
             [
              0.4444444444444444,
              "#bd3786"
             ],
             [
              0.5555555555555556,
              "#d8576b"
             ],
             [
              0.6666666666666666,
              "#ed7953"
             ],
             [
              0.7777777777777778,
              "#fb9f3a"
             ],
             [
              0.8888888888888888,
              "#fdca26"
             ],
             [
              1,
              "#f0f921"
             ]
            ],
            "type": "histogram2d"
           }
          ],
          "histogram2dcontour": [
           {
            "colorbar": {
             "outlinewidth": 0,
             "ticks": ""
            },
            "colorscale": [
             [
              0,
              "#0d0887"
             ],
             [
              0.1111111111111111,
              "#46039f"
             ],
             [
              0.2222222222222222,
              "#7201a8"
             ],
             [
              0.3333333333333333,
              "#9c179e"
             ],
             [
              0.4444444444444444,
              "#bd3786"
             ],
             [
              0.5555555555555556,
              "#d8576b"
             ],
             [
              0.6666666666666666,
              "#ed7953"
             ],
             [
              0.7777777777777778,
              "#fb9f3a"
             ],
             [
              0.8888888888888888,
              "#fdca26"
             ],
             [
              1,
              "#f0f921"
             ]
            ],
            "type": "histogram2dcontour"
           }
          ],
          "mesh3d": [
           {
            "colorbar": {
             "outlinewidth": 0,
             "ticks": ""
            },
            "type": "mesh3d"
           }
          ],
          "parcoords": [
           {
            "line": {
             "colorbar": {
              "outlinewidth": 0,
              "ticks": ""
             }
            },
            "type": "parcoords"
           }
          ],
          "pie": [
           {
            "automargin": true,
            "type": "pie"
           }
          ],
          "scatter": [
           {
            "fillpattern": {
             "fillmode": "overlay",
             "size": 10,
             "solidity": 0.2
            },
            "type": "scatter"
           }
          ],
          "scatter3d": [
           {
            "line": {
             "colorbar": {
              "outlinewidth": 0,
              "ticks": ""
             }
            },
            "marker": {
             "colorbar": {
              "outlinewidth": 0,
              "ticks": ""
             }
            },
            "type": "scatter3d"
           }
          ],
          "scattercarpet": [
           {
            "marker": {
             "colorbar": {
              "outlinewidth": 0,
              "ticks": ""
             }
            },
            "type": "scattercarpet"
           }
          ],
          "scattergeo": [
           {
            "marker": {
             "colorbar": {
              "outlinewidth": 0,
              "ticks": ""
             }
            },
            "type": "scattergeo"
           }
          ],
          "scattergl": [
           {
            "marker": {
             "colorbar": {
              "outlinewidth": 0,
              "ticks": ""
             }
            },
            "type": "scattergl"
           }
          ],
          "scattermapbox": [
           {
            "marker": {
             "colorbar": {
              "outlinewidth": 0,
              "ticks": ""
             }
            },
            "type": "scattermapbox"
           }
          ],
          "scatterpolar": [
           {
            "marker": {
             "colorbar": {
              "outlinewidth": 0,
              "ticks": ""
             }
            },
            "type": "scatterpolar"
           }
          ],
          "scatterpolargl": [
           {
            "marker": {
             "colorbar": {
              "outlinewidth": 0,
              "ticks": ""
             }
            },
            "type": "scatterpolargl"
           }
          ],
          "scatterternary": [
           {
            "marker": {
             "colorbar": {
              "outlinewidth": 0,
              "ticks": ""
             }
            },
            "type": "scatterternary"
           }
          ],
          "surface": [
           {
            "colorbar": {
             "outlinewidth": 0,
             "ticks": ""
            },
            "colorscale": [
             [
              0,
              "#0d0887"
             ],
             [
              0.1111111111111111,
              "#46039f"
             ],
             [
              0.2222222222222222,
              "#7201a8"
             ],
             [
              0.3333333333333333,
              "#9c179e"
             ],
             [
              0.4444444444444444,
              "#bd3786"
             ],
             [
              0.5555555555555556,
              "#d8576b"
             ],
             [
              0.6666666666666666,
              "#ed7953"
             ],
             [
              0.7777777777777778,
              "#fb9f3a"
             ],
             [
              0.8888888888888888,
              "#fdca26"
             ],
             [
              1,
              "#f0f921"
             ]
            ],
            "type": "surface"
           }
          ],
          "table": [
           {
            "cells": {
             "fill": {
              "color": "#EBF0F8"
             },
             "line": {
              "color": "white"
             }
            },
            "header": {
             "fill": {
              "color": "#C8D4E3"
             },
             "line": {
              "color": "white"
             }
            },
            "type": "table"
           }
          ]
         },
         "layout": {
          "annotationdefaults": {
           "arrowcolor": "#2a3f5f",
           "arrowhead": 0,
           "arrowwidth": 1
          },
          "autotypenumbers": "strict",
          "coloraxis": {
           "colorbar": {
            "outlinewidth": 0,
            "ticks": ""
           }
          },
          "colorscale": {
           "diverging": [
            [
             0,
             "#8e0152"
            ],
            [
             0.1,
             "#c51b7d"
            ],
            [
             0.2,
             "#de77ae"
            ],
            [
             0.3,
             "#f1b6da"
            ],
            [
             0.4,
             "#fde0ef"
            ],
            [
             0.5,
             "#f7f7f7"
            ],
            [
             0.6,
             "#e6f5d0"
            ],
            [
             0.7,
             "#b8e186"
            ],
            [
             0.8,
             "#7fbc41"
            ],
            [
             0.9,
             "#4d9221"
            ],
            [
             1,
             "#276419"
            ]
           ],
           "sequential": [
            [
             0,
             "#0d0887"
            ],
            [
             0.1111111111111111,
             "#46039f"
            ],
            [
             0.2222222222222222,
             "#7201a8"
            ],
            [
             0.3333333333333333,
             "#9c179e"
            ],
            [
             0.4444444444444444,
             "#bd3786"
            ],
            [
             0.5555555555555556,
             "#d8576b"
            ],
            [
             0.6666666666666666,
             "#ed7953"
            ],
            [
             0.7777777777777778,
             "#fb9f3a"
            ],
            [
             0.8888888888888888,
             "#fdca26"
            ],
            [
             1,
             "#f0f921"
            ]
           ],
           "sequentialminus": [
            [
             0,
             "#0d0887"
            ],
            [
             0.1111111111111111,
             "#46039f"
            ],
            [
             0.2222222222222222,
             "#7201a8"
            ],
            [
             0.3333333333333333,
             "#9c179e"
            ],
            [
             0.4444444444444444,
             "#bd3786"
            ],
            [
             0.5555555555555556,
             "#d8576b"
            ],
            [
             0.6666666666666666,
             "#ed7953"
            ],
            [
             0.7777777777777778,
             "#fb9f3a"
            ],
            [
             0.8888888888888888,
             "#fdca26"
            ],
            [
             1,
             "#f0f921"
            ]
           ]
          },
          "colorway": [
           "#636efa",
           "#EF553B",
           "#00cc96",
           "#ab63fa",
           "#FFA15A",
           "#19d3f3",
           "#FF6692",
           "#B6E880",
           "#FF97FF",
           "#FECB52"
          ],
          "font": {
           "color": "#2a3f5f"
          },
          "geo": {
           "bgcolor": "white",
           "lakecolor": "white",
           "landcolor": "#E5ECF6",
           "showlakes": true,
           "showland": true,
           "subunitcolor": "white"
          },
          "hoverlabel": {
           "align": "left"
          },
          "hovermode": "closest",
          "mapbox": {
           "style": "light"
          },
          "paper_bgcolor": "white",
          "plot_bgcolor": "#E5ECF6",
          "polar": {
           "angularaxis": {
            "gridcolor": "white",
            "linecolor": "white",
            "ticks": ""
           },
           "bgcolor": "#E5ECF6",
           "radialaxis": {
            "gridcolor": "white",
            "linecolor": "white",
            "ticks": ""
           }
          },
          "scene": {
           "xaxis": {
            "backgroundcolor": "#E5ECF6",
            "gridcolor": "white",
            "gridwidth": 2,
            "linecolor": "white",
            "showbackground": true,
            "ticks": "",
            "zerolinecolor": "white"
           },
           "yaxis": {
            "backgroundcolor": "#E5ECF6",
            "gridcolor": "white",
            "gridwidth": 2,
            "linecolor": "white",
            "showbackground": true,
            "ticks": "",
            "zerolinecolor": "white"
           },
           "zaxis": {
            "backgroundcolor": "#E5ECF6",
            "gridcolor": "white",
            "gridwidth": 2,
            "linecolor": "white",
            "showbackground": true,
            "ticks": "",
            "zerolinecolor": "white"
           }
          },
          "shapedefaults": {
           "line": {
            "color": "#2a3f5f"
           }
          },
          "ternary": {
           "aaxis": {
            "gridcolor": "white",
            "linecolor": "white",
            "ticks": ""
           },
           "baxis": {
            "gridcolor": "white",
            "linecolor": "white",
            "ticks": ""
           },
           "bgcolor": "#E5ECF6",
           "caxis": {
            "gridcolor": "white",
            "linecolor": "white",
            "ticks": ""
           }
          },
          "title": {
           "x": 0.05
          },
          "xaxis": {
           "automargin": true,
           "gridcolor": "white",
           "linecolor": "white",
           "ticks": "",
           "title": {
            "standoff": 15
           },
           "zerolinecolor": "white",
           "zerolinewidth": 2
          },
          "yaxis": {
           "automargin": true,
           "gridcolor": "white",
           "linecolor": "white",
           "ticks": "",
           "title": {
            "standoff": 15
           },
           "zerolinecolor": "white",
           "zerolinewidth": 2
          }
         }
        },
        "title": {
         "text": "<b> Daily Active Users Per Topic"
        },
        "uniformtext": {
         "minsize": 8,
         "mode": "hide"
        },
        "width": 1000,
        "xaxis": {
         "title": {
          "text": "Hourly"
         }
        },
        "yaxis": {
         "range": [
          0,
          1000
         ],
         "title": {
          "text": "Active Users"
         }
        }
       }
      }
     },
     "metadata": {},
     "output_type": "display_data"
    }
   ],
   "source": [
    "activity_scatter(\n",
    "    dict_ = unique_topic_hourly_activity,  yrange_ = [0, 1000],\n",
    "     xaxis_title = 'Hourly', yaxis_title = 'Active Users', title_ = '<b> Daily Active Users Per Topic')"
   ]
  },
  {
   "cell_type": "markdown",
   "id": "9499b9a7",
   "metadata": {},
   "source": [
    "## Article"
   ]
  },
  {
   "cell_type": "markdown",
   "id": "e91eff97",
   "metadata": {},
   "source": [
    "### Number of Articles"
   ]
  },
  {
   "cell_type": "code",
   "execution_count": null,
   "id": "15733661",
   "metadata": {},
   "outputs": [],
   "source": [
    "# Total Number of Articles\n",
    "single_subset_bar(df_ = df, feature_ = 'article_id', xaxis_title = 'Number of Articles', yrange = [0, 2000])\n"
   ]
  },
  {
   "cell_type": "markdown",
   "id": "a4919c54",
   "metadata": {},
   "source": [
    "### Average readtime per article"
   ]
  },
  {
   "cell_type": "code",
   "execution_count": null,
   "id": "433ba979",
   "metadata": {},
   "outputs": [],
   "source": [
    "article_id_scroll_read (dict_, res)"
   ]
  },
  {
   "cell_type": "code",
   "execution_count": null,
   "id": "7f460080",
   "metadata": {},
   "outputs": [],
   "source": [
    "def article_id_read_scroll(dict_, res):\n",
    "    for k,v in zip(dict_.keys(), dict_.values()):\n",
    "\n",
    "        #if unique_article_scroll.get(k) != None:\n",
    "        #    unique_article_scroll[k] += v\n",
    "        if (k in res.keys()) & (np.isnan(v) == False):\n",
    "            tmp_array= np.append(res[k],v)\n",
    "            res[k] = tmp_array\n",
    "    "
   ]
  },
  {
   "cell_type": "code",
   "execution_count": null,
   "id": "cbc8aaab",
   "metadata": {},
   "outputs": [],
   "source": [
    "## For each article, what was each users read time\n",
    "\n",
    "\n",
    "## Get all unique ids in a list\n",
    "\n",
    "unique_user_ids = df['user_id'].values[0:1000]\n",
    "\n",
    "## We take the set because the scroll, article per user is joined in a list for every user id (so just take the set of it!)\n",
    "unique_user_ids = set(unique_user_ids)\n",
    "\n",
    "unique_article_ids = df['article_id'].unique()\n",
    "unique_article_ids= unique_article_ids[~np.isnan(unique_article_ids)]\n",
    "\n",
    "# Create dictionaries\n",
    "unique_article_read = {k: [0] for k in unique_article_ids}\n",
    "unique_article_read_avg = {k: [0] for k in unique_article_ids}\n",
    "unique_article_scroll = {k: [0] for k in unique_article_ids}\n",
    "unique_article_scroll_avg = {k: [0] for k in unique_article_ids}\n",
    "\n",
    "for id in unique_user_ids:\n",
    "    # Get the subset of that user id\n",
    "    tmp_df = df[df['user_id'] == id]\n",
    "\n",
    "    # Now lets go through each scroll and article\n",
    "    ## Iterate through each of the df\n",
    "    indices = np.array(tmp_df.index)\n",
    "    for i in indices:\n",
    "        tmp_dict = {}\n",
    "        # Select the scroll / article of that indice and \n",
    "        tmp_read = tmp_df['read_time_fixed'][i]\n",
    "\n",
    "        tmp_article = tmp_df['article_id_fixed'][i]\n",
    "        \n",
    "        tmp_scroll = tmp_df['scroll_percentage_fixed'][i]\n",
    "\n",
    "        read = [x for x in tmp_read]\n",
    "\n",
    "        scroll = [x for x in tmp_scroll]\n",
    "        \n",
    "        articles = [np.int64(x) for x in tmp_article]\n",
    "\n",
    "        \n",
    "        tmp_articles_read = {k:v for k,v in zip(articles, read)}\n",
    "        article_id_read_scroll(tmp_articles_read, unique_article_read)\n",
    "\n",
    "        tmp_articles_scroll = {k:v for k,v in zip(articles, scroll)}\n",
    "        article_id_read_scroll(tmp_articles_scroll, unique_article_scroll)\n",
    "\n",
    "        \n",
    "# Get the average scroll length for each article\n",
    "for k,v in zip(unique_article_read.keys(), unique_article_read.values()):\n",
    "    unique_article_read_avg[k] = np.mean(v)\n",
    "\n",
    "for k,v in zip(unique_article_scroll.keys(), unique_article_scroll.values()):\n",
    "    unique_article_scroll_avg[k] = np.mean(v)\n"
   ]
  },
  {
   "cell_type": "code",
   "execution_count": null,
   "id": "ac9ee962",
   "metadata": {},
   "outputs": [],
   "source": [
    "indices = ['All Unique Articles']\n",
    "values = [x for x in unique_article_read_avg.values()]\n",
    "\n",
    "plot_box(\n",
    "    indices_ = indices, values_ = [values],\n",
    "    yrange_ = [-5, 1100], xaxis_title = 'Topics',\n",
    "    yaxis_title= 'Read Time', title_ = '<b> Distributions of Read Times Across Each Topic<b>')"
   ]
  },
  {
   "cell_type": "markdown",
   "id": "085b8c77",
   "metadata": {},
   "source": [
    "### Average scroll pct per article"
   ]
  },
  {
   "cell_type": "code",
   "execution_count": null,
   "id": "aa4187b3",
   "metadata": {},
   "outputs": [],
   "source": [
    "indices = ['All Unique Articles']\n",
    "values = [x for x in unique_article_scroll_avg.values()]\n",
    "\n",
    "plot_box(\n",
    "    indices_ = indices, values_ = [values],\n",
    "    yrange_ = [-5, 105], xaxis_title = 'Topics',\n",
    "    yaxis_title= 'Scroll Percentage', title_ = '<b> Distributions of Scroll Percentage Across All Articles!<b>')"
   ]
  },
  {
   "cell_type": "markdown",
   "id": "c1c8793e",
   "metadata": {},
   "source": [
    "### Number of articles clicked in a session"
   ]
  },
  {
   "cell_type": "code",
   "execution_count": null,
   "id": "b90851a7",
   "metadata": {},
   "outputs": [],
   "source": [
    "# How many unique articles are clicked in a session?\n",
    "\n",
    "tmp_aps = df.groupby('session_id')['article_id'].apply(list)\n",
    "\n",
    "articles_per_session = {k:0 for k in range(1, 20)}\n",
    "\n",
    "for i in tmp_aps:\n",
    "    num_articles = len(i)\n",
    "    articles_per_session[num_articles] += 1\n",
    "\n",
    "\n",
    "indices = [k for k in articles_per_session.keys()]\n",
    "values = [k for k in articles_per_session.values()]\n",
    "\n",
    "\n",
    "plot_bar(\n",
    "    indices_ = indices, values_ = values,\n",
    "    yrange_ = [0, 22000], xaxis_title = 'Number of Articles ',\n",
    "    yaxis_title= 'Count', title_ = '<b> Number of Articles clicked in a session<b>')"
   ]
  },
  {
   "cell_type": "markdown",
   "id": "e0e4503e",
   "metadata": {},
   "source": [
    "## Devices"
   ]
  },
  {
   "cell_type": "code",
   "execution_count": null,
   "id": "2dec3192",
   "metadata": {},
   "outputs": [],
   "source": [
    "# Overall distribtuion of devices\n",
    "multiple_subset_bar(df_ = df, feature_ = 'device_type', yrange = [0, 50000])"
   ]
  },
  {
   "cell_type": "markdown",
   "id": "b9dffc83",
   "metadata": {},
   "source": [
    "### Readtime per device"
   ]
  },
  {
   "cell_type": "code",
   "execution_count": null,
   "id": "20604809",
   "metadata": {},
   "outputs": [],
   "source": [
    "multiple_subset_feature_visualization(df_ =df,  feature_1 = 'device_type', feature_2 = 'read_time')"
   ]
  },
  {
   "cell_type": "markdown",
   "id": "d55e86ec",
   "metadata": {},
   "source": [
    "### Scroll time per device"
   ]
  },
  {
   "cell_type": "code",
   "execution_count": null,
   "id": "e5d7a7e2",
   "metadata": {},
   "outputs": [],
   "source": [
    "multiple_subset_feature_visualization(df_ =df,  feature_1 = 'device_type', feature_2 = 'scroll_percentage')"
   ]
  },
  {
   "cell_type": "markdown",
   "id": "eda8ea32",
   "metadata": {},
   "source": [
    "### Topic"
   ]
  },
  {
   "cell_type": "code",
   "execution_count": 321,
   "id": "1c5d12af",
   "metadata": {},
   "outputs": [],
   "source": [
    "def assign_plot_col(dict_col_, list_category):\n",
    "    \"\"\" \n",
    "    Assigns a col number for the subplot given a key\n",
    "    Keyword arguments:\n",
    "        dict_col --  dict: to map category to col_num \n",
    "        list_category -- list: \n",
    "    Output: None\n",
    "    \"\"\"\n",
    "    # Iterate thrugh the list of categories and assign a row number \n",
    "    for num, category_ in zip(range(0, len(list_category)) , list_category):\n",
    "        ## Even \n",
    "        if num % 2 == 0:\n",
    "            dict_col_[category_] = 1\n",
    "        ## Odd\n",
    "        else:\n",
    "            dict_col_[category_] = 2"
   ]
  },
  {
   "cell_type": "code",
   "execution_count": 322,
   "id": "18937ef7",
   "metadata": {},
   "outputs": [],
   "source": [
    "def assign_plot_row(dict_row_, list_category):\n",
    "    \"\"\" \n",
    "    Assigns a row number for the subplot given a key\n",
    "    Keyword arguments:\n",
    "        dict_row --  dict: to map category to row_num \n",
    "        list_category -- list: \n",
    "    Output: None\n",
    "    \"\"\"\n",
    "    # Iterate through a loop and assign the row number of a category \n",
    "    ## Instantiate counter and initial row number\n",
    "    counter = 0\n",
    "    row_num = 1\n",
    "    ## Iterate through the loop. Expected behavior row_nums = [11 22 33 44 etc]\n",
    "    while counter < len(list_category):\n",
    "        num_ = 0\n",
    "        while (num_ < 2) & (counter < len(list_category) ):\n",
    "            category_ = list_category[counter]\n",
    "            dict_row_[category_] = row_num\n",
    "            num_+=1\n",
    "            counter+=1 \n",
    "        row_num +=1"
   ]
  },
  {
   "cell_type": "code",
   "execution_count": 325,
   "id": "7b7dcce5",
   "metadata": {},
   "outputs": [],
   "source": [
    "    def row_num(dict_, key) -> None:\n",
    "        \"\"\" \n",
    "        Returns the row number of a given category\n",
    "        Keyword arguments:\n",
    "            dict_ -- row dict to map category to row_num\n",
    "            key -- dict.keys\n",
    "        Output: None\n",
    "        \"\"\"\n",
    "        return dict_[key]\n",
    "    \n",
    "    def col_num(dict_, key) -> None:\n",
    "        \"\"\" \n",
    "        Returns the col number of a given category\n",
    "        Keyword arguments:\n",
    "            dict_ -- col dict to map category to col_num\n",
    "            key -- dict.keys\n",
    "        Output: None\n",
    "        \"\"\"\n",
    "        return dict_[key]"
   ]
  },
  {
   "cell_type": "code",
   "execution_count": 326,
   "id": "eef09654",
   "metadata": {},
   "outputs": [],
   "source": [
    "def topic_feature_bar_distribution(\n",
    "    df_, feature_,\n",
    "    topic_list_, yrange,\n",
    "    subplot_titles_ , xaxis_title,\n",
    "    yaxis_title, title_ ,\n",
    "    height_, width_\n",
    "    ) -> 'Graph':\n",
    "    \"\"\" \n",
    "    Plot of topic distribution in respect to which feature of the dataframe was given.\n",
    "    Keyword arguments:\n",
    "        df_ -- dataframe object\n",
    "        feature_ -- str \n",
    "        topic_list -- list of strs: ['Blah', 'Blah']\n",
    "        yrange -- list of ints: [0, 5]\n",
    "        subplot_titles -- list of strs: ['Blah', 'Blah']\n",
    "        xaxis_title -- str\n",
    "        yaxis_title -- str\n",
    "        title_ -- str\n",
    "        height_ -- int\n",
    "        width_ -- int\n",
    "    Output: Plotly graph object!\n",
    "    \"\"\"\n",
    "    # Assign tmp_df based on feature\n",
    "    ## Age feature is a string and the Null values contain <NA>\n",
    "    if feature_ == 'age':\n",
    "        tmp_df = df_[df_['age'] != '<NA>']\n",
    "    else:\n",
    "        tmp_df = df_[~df_[feature_].isnull()]\n",
    "\n",
    "    # List of categories sorted in order\n",
    "    categories = [d for d in tmp_df[feature_].unique()]\n",
    "    categories.sort()\n",
    "\n",
    "    # Make subplots need to figure out number of columns and rows:\n",
    "    ## Instantiate dicts\n",
    "    dict_col = {}\n",
    "    dict_row = {}\n",
    "    ## Populate our column and row dicts\n",
    "    assign_plot_col(dict_col_ = dict_col, list_category = categories)\n",
    "    assign_plot_row(dict_row_ = dict_row, list_category = categories)\n",
    "    ## Number of total rows\n",
    "    rows_ = -(-len(categories) // 2)\n",
    "\n",
    "    # Make subplots object\n",
    "    fig = make_subplots(\n",
    "        rows = rows_, cols = 2,\n",
    "        subplot_titles = subplot_titles_ , shared_yaxes = True,\n",
    "        x_title = xaxis_title, y_title = yaxis_title,\n",
    "        vertical_spacing = 0.2\n",
    "    )\n",
    "    \n",
    "    # Iterate through each category and assign the correct subplot!\n",
    "    for idx, category_ in enumerate(categories):\n",
    "        ## Find the subset of the data with that device\n",
    "        subset_df = tmp_df[tmp_df[feature_] == category_]\n",
    "        ## Create a dict object with 0 counts for all topics\n",
    "        tmp_dict = {k:0 for k in topic_list_}\n",
    "        for i in subset_df.index:\n",
    "            for j in range(0, len(subset_df['topics'][i])):\n",
    "                ### Find that index\n",
    "                tmp_topic = subset_df['topics'][i][j]\n",
    "                ### Enumerate\n",
    "                tmp_dict[tmp_topic] += 1\n",
    "        ## Sort the dictionary\n",
    "        tmp_dict  = dict(sorted(tmp_dict.items(), key = lambda kv: kv[1], reverse = True))\n",
    "        ## Create our indices and values objects to insert into our plot\n",
    "        indices = [x for x in tmp_dict.keys()][0:5]\n",
    "        values = [y for y in tmp_dict.values()][0:5]\n",
    "        ## Add our trace object\n",
    "        fig.add_trace(\n",
    "            go.Bar(\n",
    "                x = indices, y = values,\n",
    "                name = str(category_)\n",
    "            ),\n",
    "            row = col_num(dict_ = dict_row, key = category_),\n",
    "            col = col_num(dict_ = dict_col, key = category_)\n",
    "            )\n",
    "        \n",
    "    # Update axis properties\n",
    "    ## yaxes\n",
    "    fig.update_yaxes(\n",
    "        range = yrange, type=\"log\", \n",
    "        )\n",
    "    ## xaxes\n",
    "    fig.update_xaxes(tickfont = dict(\n",
    "      size = 10,\n",
    "      )\n",
    "        )\n",
    "\n",
    "    # Update layout of plot\n",
    "    fig.update_layout(\n",
    "        title = title_, height= height_,\n",
    "        width = width_, font=dict(\n",
    "            family=\"Courier New, monospace\",\n",
    "            size=14,\n",
    "            ), \n",
    "        margin=dict(\n",
    "            l=100, r=50,\n",
    "            t=100, b=50, \n",
    "            pad= 0)\n",
    "            )\n",
    "\n",
    "    return fig.show()"
   ]
  },
  {
   "cell_type": "code",
   "execution_count": null,
   "id": "1d2e829e",
   "metadata": {},
   "outputs": [],
   "source": [
    "# Distribution of Topics Per Device\n",
    "## Unique Topics\n",
    "topic_list = unique_subset_topics(df)\n",
    "unique_topics = sorted(topic_list)\n",
    "## Plot\n",
    "topic_feature_bar_distribution(\n",
    "    df_ = df, feature_ = 'device_type', yrange = [0, 4.5],\n",
    "    topic_list_ = unique_topics , subplot_titles_ = ['<b>Device 1<b>', '<b>Device 2<b>', '<b>Device 3<b>'],\n",
    "    xaxis_title = '<b>Topics<b>', yaxis_title = '<b>Count<b>',\n",
    "    title_ = '<b>Topic Distribution Per Device<b>',\n",
    "    height_ = 750, width_ = 1000\n",
    "    )"
   ]
  },
  {
   "cell_type": "markdown",
   "id": "f7f6e44c",
   "metadata": {},
   "source": [
    "### Activity"
   ]
  },
  {
   "cell_type": "code",
   "execution_count": 389,
   "id": "8e2cb34c",
   "metadata": {},
   "outputs": [],
   "source": [
    "def daily_hourly_activity_feature_bar_distribution(\n",
    "    df_, feature_,\n",
    "    yrange,\n",
    "    subplot_titles_ ,\n",
    "     title_ ,\n",
    "    height_, width_\n",
    "    ) -> 'Graph':\n",
    "    \"\"\" \n",
    "    Plot of topic distribution in respect to which feature of the dataframe was given.\n",
    "    Keyword arguments:\n",
    "        df_ -- dataframe object\n",
    "        feature_ -- str \n",
    "        yrange -- list of ints: [0, 5]\n",
    "        subplot_titles -- list of strs: ['Blah', 'Blah']\n",
    "        title_ -- str\n",
    "        height_ -- int\n",
    "        width_ -- int\n",
    "    Output: Plotly graph object!\n",
    "    \"\"\"\n",
    "    # Assign tmp_df based on feature\n",
    "    ## Age feature is a string and the Null values contain <NA>\n",
    "    if feature_ == 'age':\n",
    "        tmp_df = df_[df_['age'] != '<NA>']\n",
    "    else:\n",
    "        tmp_df = df_[~df_[feature_].isnull()]\n",
    "\n",
    "    # List of categories sorted in order\n",
    "    categories = [d for d in tmp_df[feature_].unique()]\n",
    "    categories.sort()\n",
    "\n",
    "\n",
    "    fig = make_subplots(\n",
    "    rows = 2, cols = 1,\n",
    "    subplot_titles = subplot_titles_ ,\n",
    "    y_title = 'Count',\n",
    "    vertical_spacing = 0.2\n",
    "    )\n",
    "    # Iterate through each category and assign the correct subplot!\n",
    "    for idx, category_ in enumerate(categories):\n",
    "        ## Find the subset of the data with that device\n",
    "        subset_df = tmp_df[tmp_df[feature_] == category_]\n",
    "        ## Create a dict object with 0 counts for all topics\n",
    "\n",
    "        # Create a dict object with 0 counts for all topics\n",
    "        subset_daily_activity = {}\n",
    "        subset_hourly_activity = {}\n",
    "        for i in subset_df.index:\n",
    "            # Find that index\n",
    "            tmp_timestamp = subset_df['impression_time'][i]\n",
    "            tmp_datetime = tmp_timestamp\n",
    "            tmp_date = tmp_datetime.date()\n",
    "            tmp_time = tmp_datetime.time()\n",
    "            tmp_hour = tmp_time.hour\n",
    "\n",
    "            # Daily Activity\n",
    "            if tmp_date not in subset_daily_activity:\n",
    "                subset_daily_activity[tmp_date] = 0\n",
    "            else:\n",
    "                subset_daily_activity[tmp_date] +=1\n",
    " \n",
    "           # Convert hour into a string \n",
    "            if tmp_hour > 9:\n",
    "                tmp_time = str(tmp_hour) + ':00'\n",
    "                \n",
    "            else:\n",
    "                tmp_time = \"0\"+ str(tmp_hour) + ':00' \n",
    "            \n",
    "            # Hourly Activity\n",
    "            if tmp_time not in subset_hourly_activity:\n",
    "                subset_hourly_activity[tmp_time] = 0\n",
    "            else:\n",
    "                subset_hourly_activity[tmp_time] +=1\n",
    "        \n",
    "        # Sort by dates\n",
    "        subset_daily_activity = dict(sorted(subset_daily_activity.items()))\n",
    "        #fig.add_trace(go.Bar(x= [x for x in device_daily_activity.keys()], y = [y for y in device_daily_activity.values()], textfont_size=20))\n",
    "\n",
    "        ## Create our indices and values objects to insert into our plot\n",
    "        indices = [x for x in subset_daily_activity.keys()]\n",
    "        values = [y for y in subset_daily_activity.values()]\n",
    "\n",
    "        ## Add our trace object\n",
    "        fig.add_trace(\n",
    "            go.Scatter(\n",
    "                x = indices, y = values,\n",
    "                name = 'Daily ' + str(category_), mode='lines+markers+text',\n",
    "            ),\n",
    "            row = 1, col = 1\n",
    "            )\n",
    "        \n",
    "        subset_hourly_activity = dict(sorted(subset_hourly_activity.items()))\n",
    "        indices = [x for x in subset_hourly_activity.keys()]\n",
    "        values = [y for y in subset_hourly_activity.values()]\n",
    "        \n",
    "        ## Add our trace object\n",
    "        fig.add_trace(\n",
    "            go.Scatter(\n",
    "                x = indices, y = values,\n",
    "                name = 'Hourly ' + str(category_) , mode='lines+markers+text',\n",
    "            ),\n",
    "            row = 2, col = 1\n",
    "            )\n",
    "        \n",
    "    # Update axis properties\n",
    "    ## yaxes\n",
    "    fig.update_yaxes(type = 'log',\n",
    "        range = yrange,\n",
    "    )\n",
    "    ## xaxes\n",
    "    fig.update_xaxes(tickfont = dict(\n",
    "      size = 14,\n",
    "      )\n",
    "        )\n",
    "\n",
    "    fig.update_xaxes(title_text=\"<b>Date<b>\", row=1, col=1)\n",
    "    fig.update_xaxes(title_text=\"<b>Hour<b>\", row=2, col=1)\n",
    "    # Update layout of plot\n",
    "    fig.update_layout(\n",
    "        title = title_, height= height_,\n",
    "        width = width_, font=dict(\n",
    "            family=\"Courier New, monospace\",\n",
    "            size=14,\n",
    "            ), \n",
    "        margin=dict(\n",
    "            l=100, r=50,\n",
    "            t=100, b=50, \n",
    "            pad= 0)\n",
    "            )\n",
    "\n",
    "    return fig.show()"
   ]
  },
  {
   "cell_type": "code",
   "execution_count": 390,
   "id": "3695f17b",
   "metadata": {},
   "outputs": [
    {
     "data": {
      "application/vnd.plotly.v1+json": {
       "config": {
        "plotlyServerURL": "https://plot.ly"
       },
       "data": [
        {
         "mode": "lines+markers+text",
         "name": "Daily 1",
         "type": "scatter",
         "x": [
          "2023-05-18",
          "2023-05-19",
          "2023-05-20",
          "2023-05-21",
          "2023-05-22",
          "2023-05-23",
          "2023-05-24",
          "2023-05-25"
         ],
         "xaxis": "x",
         "y": [
          2552,
          3700,
          2515,
          2756,
          4050,
          3416,
          3728,
          811
         ],
         "yaxis": "y"
        },
        {
         "mode": "markers+text",
         "name": "Hourly 1",
         "type": "scatter",
         "x": [
          "00:00",
          "01:00",
          "02:00",
          "03:00",
          "04:00",
          "05:00",
          "06:00",
          "07:00",
          "08:00",
          "09:00",
          "10:00",
          "11:00",
          "12:00",
          "13:00",
          "14:00",
          "15:00",
          "16:00",
          "17:00",
          "18:00",
          "19:00",
          "20:00",
          "21:00",
          "22:00",
          "23:00"
         ],
         "xaxis": "x2",
         "y": [
          91,
          115,
          152,
          379,
          744,
          1557,
          2154,
          1896,
          1467,
          1383,
          1242,
          1173,
          1203,
          1168,
          1180,
          1084,
          952,
          1203,
          1082,
          1140,
          961,
          682,
          335,
          169
         ],
         "yaxis": "y2"
        },
        {
         "mode": "lines+markers+text",
         "name": "Daily 2",
         "type": "scatter",
         "x": [
          "2023-05-18",
          "2023-05-19",
          "2023-05-20",
          "2023-05-21",
          "2023-05-22",
          "2023-05-23",
          "2023-05-24",
          "2023-05-25"
         ],
         "xaxis": "x",
         "y": [
          5210,
          6984,
          5933,
          6488,
          6650,
          5349,
          6391,
          1459
         ],
         "yaxis": "y"
        },
        {
         "mode": "markers+text",
         "name": "Hourly 2",
         "type": "scatter",
         "x": [
          "00:00",
          "01:00",
          "02:00",
          "03:00",
          "04:00",
          "05:00",
          "06:00",
          "07:00",
          "08:00",
          "09:00",
          "10:00",
          "11:00",
          "12:00",
          "13:00",
          "14:00",
          "15:00",
          "16:00",
          "17:00",
          "18:00",
          "19:00",
          "20:00",
          "21:00",
          "22:00",
          "23:00"
         ],
         "xaxis": "x2",
         "y": [
          340,
          371,
          417,
          1368,
          2341,
          2640,
          3001,
          2683,
          1850,
          1798,
          1910,
          1661,
          1945,
          2075,
          1941,
          2092,
          2119,
          2630,
          2785,
          2670,
          2540,
          1881,
          960,
          430
         ],
         "yaxis": "y2"
        },
        {
         "mode": "lines+markers+text",
         "name": "Daily 3",
         "type": "scatter",
         "x": [
          "2023-05-18",
          "2023-05-19",
          "2023-05-20",
          "2023-05-21",
          "2023-05-22",
          "2023-05-23",
          "2023-05-24",
          "2023-05-25"
         ],
         "xaxis": "x",
         "y": [
          285,
          385,
          278,
          344,
          314,
          326,
          403,
          70
         ],
         "yaxis": "y"
        },
        {
         "mode": "markers+text",
         "name": "Hourly 3",
         "type": "scatter",
         "x": [
          "00:00",
          "01:00",
          "02:00",
          "03:00",
          "04:00",
          "05:00",
          "06:00",
          "07:00",
          "08:00",
          "09:00",
          "10:00",
          "11:00",
          "12:00",
          "13:00",
          "14:00",
          "15:00",
          "16:00",
          "17:00",
          "18:00",
          "19:00",
          "20:00",
          "21:00",
          "22:00",
          "23:00"
         ],
         "xaxis": "x2",
         "y": [
          4,
          5,
          9,
          21,
          111,
          185,
          180,
          198,
          148,
          109,
          87,
          109,
          115,
          137,
          96,
          106,
          93,
          102,
          105,
          156,
          174,
          71,
          47,
          21
         ],
         "yaxis": "y2"
        }
       ],
       "layout": {
        "annotations": [
         {
          "font": {
           "size": 16
          },
          "showarrow": false,
          "text": "<b>Daily<b>",
          "x": 0.5,
          "xanchor": "center",
          "xref": "paper",
          "y": 1,
          "yanchor": "bottom",
          "yref": "paper"
         },
         {
          "font": {
           "size": 16
          },
          "showarrow": false,
          "text": "<b>Monthly<b>",
          "x": 0.5,
          "xanchor": "center",
          "xref": "paper",
          "y": 0.4,
          "yanchor": "bottom",
          "yref": "paper"
         },
         {
          "font": {
           "size": 16
          },
          "showarrow": false,
          "text": "Count",
          "textangle": -90,
          "x": 0,
          "xanchor": "right",
          "xref": "paper",
          "xshift": -40,
          "y": 0.5,
          "yanchor": "middle",
          "yref": "paper"
         }
        ],
        "font": {
         "family": "Courier New, monospace",
         "size": 14
        },
        "height": 750,
        "margin": {
         "b": 50,
         "l": 100,
         "pad": 0,
         "r": 50,
         "t": 100
        },
        "template": {
         "data": {
          "bar": [
           {
            "error_x": {
             "color": "#2a3f5f"
            },
            "error_y": {
             "color": "#2a3f5f"
            },
            "marker": {
             "line": {
              "color": "#E5ECF6",
              "width": 0.5
             },
             "pattern": {
              "fillmode": "overlay",
              "size": 10,
              "solidity": 0.2
             }
            },
            "type": "bar"
           }
          ],
          "barpolar": [
           {
            "marker": {
             "line": {
              "color": "#E5ECF6",
              "width": 0.5
             },
             "pattern": {
              "fillmode": "overlay",
              "size": 10,
              "solidity": 0.2
             }
            },
            "type": "barpolar"
           }
          ],
          "carpet": [
           {
            "aaxis": {
             "endlinecolor": "#2a3f5f",
             "gridcolor": "white",
             "linecolor": "white",
             "minorgridcolor": "white",
             "startlinecolor": "#2a3f5f"
            },
            "baxis": {
             "endlinecolor": "#2a3f5f",
             "gridcolor": "white",
             "linecolor": "white",
             "minorgridcolor": "white",
             "startlinecolor": "#2a3f5f"
            },
            "type": "carpet"
           }
          ],
          "choropleth": [
           {
            "colorbar": {
             "outlinewidth": 0,
             "ticks": ""
            },
            "type": "choropleth"
           }
          ],
          "contour": [
           {
            "colorbar": {
             "outlinewidth": 0,
             "ticks": ""
            },
            "colorscale": [
             [
              0,
              "#0d0887"
             ],
             [
              0.1111111111111111,
              "#46039f"
             ],
             [
              0.2222222222222222,
              "#7201a8"
             ],
             [
              0.3333333333333333,
              "#9c179e"
             ],
             [
              0.4444444444444444,
              "#bd3786"
             ],
             [
              0.5555555555555556,
              "#d8576b"
             ],
             [
              0.6666666666666666,
              "#ed7953"
             ],
             [
              0.7777777777777778,
              "#fb9f3a"
             ],
             [
              0.8888888888888888,
              "#fdca26"
             ],
             [
              1,
              "#f0f921"
             ]
            ],
            "type": "contour"
           }
          ],
          "contourcarpet": [
           {
            "colorbar": {
             "outlinewidth": 0,
             "ticks": ""
            },
            "type": "contourcarpet"
           }
          ],
          "heatmap": [
           {
            "colorbar": {
             "outlinewidth": 0,
             "ticks": ""
            },
            "colorscale": [
             [
              0,
              "#0d0887"
             ],
             [
              0.1111111111111111,
              "#46039f"
             ],
             [
              0.2222222222222222,
              "#7201a8"
             ],
             [
              0.3333333333333333,
              "#9c179e"
             ],
             [
              0.4444444444444444,
              "#bd3786"
             ],
             [
              0.5555555555555556,
              "#d8576b"
             ],
             [
              0.6666666666666666,
              "#ed7953"
             ],
             [
              0.7777777777777778,
              "#fb9f3a"
             ],
             [
              0.8888888888888888,
              "#fdca26"
             ],
             [
              1,
              "#f0f921"
             ]
            ],
            "type": "heatmap"
           }
          ],
          "heatmapgl": [
           {
            "colorbar": {
             "outlinewidth": 0,
             "ticks": ""
            },
            "colorscale": [
             [
              0,
              "#0d0887"
             ],
             [
              0.1111111111111111,
              "#46039f"
             ],
             [
              0.2222222222222222,
              "#7201a8"
             ],
             [
              0.3333333333333333,
              "#9c179e"
             ],
             [
              0.4444444444444444,
              "#bd3786"
             ],
             [
              0.5555555555555556,
              "#d8576b"
             ],
             [
              0.6666666666666666,
              "#ed7953"
             ],
             [
              0.7777777777777778,
              "#fb9f3a"
             ],
             [
              0.8888888888888888,
              "#fdca26"
             ],
             [
              1,
              "#f0f921"
             ]
            ],
            "type": "heatmapgl"
           }
          ],
          "histogram": [
           {
            "marker": {
             "pattern": {
              "fillmode": "overlay",
              "size": 10,
              "solidity": 0.2
             }
            },
            "type": "histogram"
           }
          ],
          "histogram2d": [
           {
            "colorbar": {
             "outlinewidth": 0,
             "ticks": ""
            },
            "colorscale": [
             [
              0,
              "#0d0887"
             ],
             [
              0.1111111111111111,
              "#46039f"
             ],
             [
              0.2222222222222222,
              "#7201a8"
             ],
             [
              0.3333333333333333,
              "#9c179e"
             ],
             [
              0.4444444444444444,
              "#bd3786"
             ],
             [
              0.5555555555555556,
              "#d8576b"
             ],
             [
              0.6666666666666666,
              "#ed7953"
             ],
             [
              0.7777777777777778,
              "#fb9f3a"
             ],
             [
              0.8888888888888888,
              "#fdca26"
             ],
             [
              1,
              "#f0f921"
             ]
            ],
            "type": "histogram2d"
           }
          ],
          "histogram2dcontour": [
           {
            "colorbar": {
             "outlinewidth": 0,
             "ticks": ""
            },
            "colorscale": [
             [
              0,
              "#0d0887"
             ],
             [
              0.1111111111111111,
              "#46039f"
             ],
             [
              0.2222222222222222,
              "#7201a8"
             ],
             [
              0.3333333333333333,
              "#9c179e"
             ],
             [
              0.4444444444444444,
              "#bd3786"
             ],
             [
              0.5555555555555556,
              "#d8576b"
             ],
             [
              0.6666666666666666,
              "#ed7953"
             ],
             [
              0.7777777777777778,
              "#fb9f3a"
             ],
             [
              0.8888888888888888,
              "#fdca26"
             ],
             [
              1,
              "#f0f921"
             ]
            ],
            "type": "histogram2dcontour"
           }
          ],
          "mesh3d": [
           {
            "colorbar": {
             "outlinewidth": 0,
             "ticks": ""
            },
            "type": "mesh3d"
           }
          ],
          "parcoords": [
           {
            "line": {
             "colorbar": {
              "outlinewidth": 0,
              "ticks": ""
             }
            },
            "type": "parcoords"
           }
          ],
          "pie": [
           {
            "automargin": true,
            "type": "pie"
           }
          ],
          "scatter": [
           {
            "fillpattern": {
             "fillmode": "overlay",
             "size": 10,
             "solidity": 0.2
            },
            "type": "scatter"
           }
          ],
          "scatter3d": [
           {
            "line": {
             "colorbar": {
              "outlinewidth": 0,
              "ticks": ""
             }
            },
            "marker": {
             "colorbar": {
              "outlinewidth": 0,
              "ticks": ""
             }
            },
            "type": "scatter3d"
           }
          ],
          "scattercarpet": [
           {
            "marker": {
             "colorbar": {
              "outlinewidth": 0,
              "ticks": ""
             }
            },
            "type": "scattercarpet"
           }
          ],
          "scattergeo": [
           {
            "marker": {
             "colorbar": {
              "outlinewidth": 0,
              "ticks": ""
             }
            },
            "type": "scattergeo"
           }
          ],
          "scattergl": [
           {
            "marker": {
             "colorbar": {
              "outlinewidth": 0,
              "ticks": ""
             }
            },
            "type": "scattergl"
           }
          ],
          "scattermapbox": [
           {
            "marker": {
             "colorbar": {
              "outlinewidth": 0,
              "ticks": ""
             }
            },
            "type": "scattermapbox"
           }
          ],
          "scatterpolar": [
           {
            "marker": {
             "colorbar": {
              "outlinewidth": 0,
              "ticks": ""
             }
            },
            "type": "scatterpolar"
           }
          ],
          "scatterpolargl": [
           {
            "marker": {
             "colorbar": {
              "outlinewidth": 0,
              "ticks": ""
             }
            },
            "type": "scatterpolargl"
           }
          ],
          "scatterternary": [
           {
            "marker": {
             "colorbar": {
              "outlinewidth": 0,
              "ticks": ""
             }
            },
            "type": "scatterternary"
           }
          ],
          "surface": [
           {
            "colorbar": {
             "outlinewidth": 0,
             "ticks": ""
            },
            "colorscale": [
             [
              0,
              "#0d0887"
             ],
             [
              0.1111111111111111,
              "#46039f"
             ],
             [
              0.2222222222222222,
              "#7201a8"
             ],
             [
              0.3333333333333333,
              "#9c179e"
             ],
             [
              0.4444444444444444,
              "#bd3786"
             ],
             [
              0.5555555555555556,
              "#d8576b"
             ],
             [
              0.6666666666666666,
              "#ed7953"
             ],
             [
              0.7777777777777778,
              "#fb9f3a"
             ],
             [
              0.8888888888888888,
              "#fdca26"
             ],
             [
              1,
              "#f0f921"
             ]
            ],
            "type": "surface"
           }
          ],
          "table": [
           {
            "cells": {
             "fill": {
              "color": "#EBF0F8"
             },
             "line": {
              "color": "white"
             }
            },
            "header": {
             "fill": {
              "color": "#C8D4E3"
             },
             "line": {
              "color": "white"
             }
            },
            "type": "table"
           }
          ]
         },
         "layout": {
          "annotationdefaults": {
           "arrowcolor": "#2a3f5f",
           "arrowhead": 0,
           "arrowwidth": 1
          },
          "autotypenumbers": "strict",
          "coloraxis": {
           "colorbar": {
            "outlinewidth": 0,
            "ticks": ""
           }
          },
          "colorscale": {
           "diverging": [
            [
             0,
             "#8e0152"
            ],
            [
             0.1,
             "#c51b7d"
            ],
            [
             0.2,
             "#de77ae"
            ],
            [
             0.3,
             "#f1b6da"
            ],
            [
             0.4,
             "#fde0ef"
            ],
            [
             0.5,
             "#f7f7f7"
            ],
            [
             0.6,
             "#e6f5d0"
            ],
            [
             0.7,
             "#b8e186"
            ],
            [
             0.8,
             "#7fbc41"
            ],
            [
             0.9,
             "#4d9221"
            ],
            [
             1,
             "#276419"
            ]
           ],
           "sequential": [
            [
             0,
             "#0d0887"
            ],
            [
             0.1111111111111111,
             "#46039f"
            ],
            [
             0.2222222222222222,
             "#7201a8"
            ],
            [
             0.3333333333333333,
             "#9c179e"
            ],
            [
             0.4444444444444444,
             "#bd3786"
            ],
            [
             0.5555555555555556,
             "#d8576b"
            ],
            [
             0.6666666666666666,
             "#ed7953"
            ],
            [
             0.7777777777777778,
             "#fb9f3a"
            ],
            [
             0.8888888888888888,
             "#fdca26"
            ],
            [
             1,
             "#f0f921"
            ]
           ],
           "sequentialminus": [
            [
             0,
             "#0d0887"
            ],
            [
             0.1111111111111111,
             "#46039f"
            ],
            [
             0.2222222222222222,
             "#7201a8"
            ],
            [
             0.3333333333333333,
             "#9c179e"
            ],
            [
             0.4444444444444444,
             "#bd3786"
            ],
            [
             0.5555555555555556,
             "#d8576b"
            ],
            [
             0.6666666666666666,
             "#ed7953"
            ],
            [
             0.7777777777777778,
             "#fb9f3a"
            ],
            [
             0.8888888888888888,
             "#fdca26"
            ],
            [
             1,
             "#f0f921"
            ]
           ]
          },
          "colorway": [
           "#636efa",
           "#EF553B",
           "#00cc96",
           "#ab63fa",
           "#FFA15A",
           "#19d3f3",
           "#FF6692",
           "#B6E880",
           "#FF97FF",
           "#FECB52"
          ],
          "font": {
           "color": "#2a3f5f"
          },
          "geo": {
           "bgcolor": "white",
           "lakecolor": "white",
           "landcolor": "#E5ECF6",
           "showlakes": true,
           "showland": true,
           "subunitcolor": "white"
          },
          "hoverlabel": {
           "align": "left"
          },
          "hovermode": "closest",
          "mapbox": {
           "style": "light"
          },
          "paper_bgcolor": "white",
          "plot_bgcolor": "#E5ECF6",
          "polar": {
           "angularaxis": {
            "gridcolor": "white",
            "linecolor": "white",
            "ticks": ""
           },
           "bgcolor": "#E5ECF6",
           "radialaxis": {
            "gridcolor": "white",
            "linecolor": "white",
            "ticks": ""
           }
          },
          "scene": {
           "xaxis": {
            "backgroundcolor": "#E5ECF6",
            "gridcolor": "white",
            "gridwidth": 2,
            "linecolor": "white",
            "showbackground": true,
            "ticks": "",
            "zerolinecolor": "white"
           },
           "yaxis": {
            "backgroundcolor": "#E5ECF6",
            "gridcolor": "white",
            "gridwidth": 2,
            "linecolor": "white",
            "showbackground": true,
            "ticks": "",
            "zerolinecolor": "white"
           },
           "zaxis": {
            "backgroundcolor": "#E5ECF6",
            "gridcolor": "white",
            "gridwidth": 2,
            "linecolor": "white",
            "showbackground": true,
            "ticks": "",
            "zerolinecolor": "white"
           }
          },
          "shapedefaults": {
           "line": {
            "color": "#2a3f5f"
           }
          },
          "ternary": {
           "aaxis": {
            "gridcolor": "white",
            "linecolor": "white",
            "ticks": ""
           },
           "baxis": {
            "gridcolor": "white",
            "linecolor": "white",
            "ticks": ""
           },
           "bgcolor": "#E5ECF6",
           "caxis": {
            "gridcolor": "white",
            "linecolor": "white",
            "ticks": ""
           }
          },
          "title": {
           "x": 0.05
          },
          "xaxis": {
           "automargin": true,
           "gridcolor": "white",
           "linecolor": "white",
           "ticks": "",
           "title": {
            "standoff": 15
           },
           "zerolinecolor": "white",
           "zerolinewidth": 2
          },
          "yaxis": {
           "automargin": true,
           "gridcolor": "white",
           "linecolor": "white",
           "ticks": "",
           "title": {
            "standoff": 15
           },
           "zerolinecolor": "white",
           "zerolinewidth": 2
          }
         }
        },
        "title": {
         "text": "<b>Daily and Hourly Activity Per Device<b>"
        },
        "width": 1000,
        "xaxis": {
         "anchor": "y",
         "domain": [
          0,
          1
         ],
         "tickfont": {
          "size": 14
         },
         "title": {
          "text": "<b>Date<b>"
         }
        },
        "xaxis2": {
         "anchor": "y2",
         "domain": [
          0,
          1
         ],
         "tickfont": {
          "size": 14
         },
         "title": {
          "text": "<b>Hour<b>"
         }
        },
        "yaxis": {
         "anchor": "x",
         "domain": [
          0.6000000000000001,
          1
         ],
         "range": [
          0,
          4
         ],
         "type": "log"
        },
        "yaxis2": {
         "anchor": "x2",
         "domain": [
          0,
          0.4
         ],
         "range": [
          0,
          4
         ],
         "type": "log"
        }
       }
      }
     },
     "metadata": {},
     "output_type": "display_data"
    }
   ],
   "source": [
    "daily_hourly_activity_feature_bar_distribution(\n",
    "    df_ = df, feature_ = 'device_type', yrange = [0, 4],\n",
    "    subplot_titles_ = ['<b>Daily<b>', '<b>Monthly<b>'],\n",
    "    title_ = '<b>Daily and Hourly Activity Per Device<b>',\n",
    "    height_ = 750, width_ = 1000\n",
    "    )"
   ]
  },
  {
   "cell_type": "markdown",
   "id": "c37b7ff5",
   "metadata": {},
   "source": [
    "# If subscriber"
   ]
  },
  {
   "cell_type": "markdown",
   "id": "2445ea77",
   "metadata": {},
   "source": [
    "### How many users are subscribers"
   ]
  },
  {
   "cell_type": "code",
   "execution_count": null,
   "id": "6af0618a",
   "metadata": {},
   "outputs": [],
   "source": [
    "multiple_subset_bar(df_ = df, feature_ = 'is_subscriber', yrange = [0, 80000])"
   ]
  },
  {
   "cell_type": "markdown",
   "id": "76723f43",
   "metadata": {},
   "source": [
    "### Read time for subscriber vs non-subscribers"
   ]
  },
  {
   "cell_type": "code",
   "execution_count": null,
   "id": "61a41086",
   "metadata": {},
   "outputs": [],
   "source": [
    "multiple_subset_feature_visualization(df_ =df,  feature_1 = 'is_subscriber', feature_2 = 'read_time')"
   ]
  },
  {
   "cell_type": "markdown",
   "id": "47680f96",
   "metadata": {},
   "source": [
    "### Scroll percentage if subscriber"
   ]
  },
  {
   "cell_type": "code",
   "execution_count": null,
   "id": "20e0a958",
   "metadata": {},
   "outputs": [],
   "source": [
    "multiple_subset_feature_visualization(df_ =df,  feature_1 = 'is_subscriber', feature_2 = 'scroll_percentage')"
   ]
  },
  {
   "cell_type": "markdown",
   "id": "b096414c",
   "metadata": {},
   "source": [
    "#### Topic Distribution"
   ]
  },
  {
   "cell_type": "code",
   "execution_count": null,
   "id": "a5e83855",
   "metadata": {},
   "outputs": [],
   "source": [
    "# Get all the unique topics\n",
    "topic_list = unique_subset_topics(df)\n",
    "unique_topics = sorted(topic_list)\n",
    "\n",
    "topic_feature_bar_distribution(\n",
    "    df_ = df, feature_ = 'is_subscriber', yrange = [0, 5],\n",
    "    topic_list_ = unique_topics , subplot_titles_ = ['<b>False<b>', '<b>True<b>'],\n",
    "    xaxis_title = '<b>Topics<b>', yaxis_title = '<b>Count<b>',\n",
    "    title_ = '<b>Topic Distribution of Subscribers vs Non-Subscribers<b>',\n",
    "    height_ = 500, width_ = 1000\n",
    "    )"
   ]
  },
  {
   "cell_type": "markdown",
   "id": "b0c3ff67",
   "metadata": {},
   "source": [
    "### Activity"
   ]
  },
  {
   "cell_type": "code",
   "execution_count": 394,
   "id": "284aee02",
   "metadata": {},
   "outputs": [
    {
     "data": {
      "application/vnd.plotly.v1+json": {
       "config": {
        "plotlyServerURL": "https://plot.ly"
       },
       "data": [
        {
         "mode": "lines+markers+text",
         "name": "Daily False",
         "type": "scatter",
         "x": [
          "2023-05-18",
          "2023-05-19",
          "2023-05-20",
          "2023-05-21",
          "2023-05-22",
          "2023-05-23",
          "2023-05-24",
          "2023-05-25"
         ],
         "xaxis": "x",
         "y": [
          7574,
          10376,
          8174,
          8906,
          10327,
          8584,
          9759,
          2179
         ],
         "yaxis": "y"
        },
        {
         "mode": "markers+text",
         "name": "Hourly False",
         "type": "scatter",
         "x": [
          "00:00",
          "01:00",
          "02:00",
          "03:00",
          "04:00",
          "05:00",
          "06:00",
          "07:00",
          "08:00",
          "09:00",
          "10:00",
          "11:00",
          "12:00",
          "13:00",
          "14:00",
          "15:00",
          "16:00",
          "17:00",
          "18:00",
          "19:00",
          "20:00",
          "21:00",
          "22:00",
          "23:00"
         ],
         "xaxis": "x2",
         "y": [
          396,
          459,
          535,
          1664,
          2966,
          4127,
          5004,
          4450,
          3249,
          3079,
          3067,
          2793,
          3049,
          3140,
          2998,
          3094,
          2941,
          3707,
          3694,
          3727,
          3435,
          2493,
          1236,
          560
         ],
         "yaxis": "y2"
        },
        {
         "mode": "lines+markers+text",
         "name": "Daily True",
         "type": "scatter",
         "x": [
          "2023-05-18",
          "2023-05-19",
          "2023-05-20",
          "2023-05-21",
          "2023-05-22",
          "2023-05-23",
          "2023-05-24",
          "2023-05-25"
         ],
         "xaxis": "x",
         "y": [
          474,
          694,
          553,
          683,
          688,
          508,
          764,
          162
         ],
         "yaxis": "y"
        },
        {
         "mode": "markers+text",
         "name": "Hourly True",
         "type": "scatter",
         "x": [
          "00:00",
          "01:00",
          "02:00",
          "03:00",
          "04:00",
          "05:00",
          "06:00",
          "07:00",
          "08:00",
          "09:00",
          "10:00",
          "11:00",
          "12:00",
          "13:00",
          "14:00",
          "15:00",
          "16:00",
          "17:00",
          "18:00",
          "19:00",
          "20:00",
          "21:00",
          "22:00",
          "23:00"
         ],
         "xaxis": "x2",
         "y": [
          40,
          33,
          44,
          105,
          231,
          256,
          332,
          328,
          217,
          212,
          173,
          151,
          215,
          241,
          220,
          189,
          224,
          229,
          279,
          240,
          241,
          142,
          107,
          61
         ],
         "yaxis": "y2"
        }
       ],
       "layout": {
        "annotations": [
         {
          "font": {
           "size": 16
          },
          "showarrow": false,
          "text": "<b>Daily<b>",
          "x": 0.5,
          "xanchor": "center",
          "xref": "paper",
          "y": 1,
          "yanchor": "bottom",
          "yref": "paper"
         },
         {
          "font": {
           "size": 16
          },
          "showarrow": false,
          "text": "<b>Monthly<b>",
          "x": 0.5,
          "xanchor": "center",
          "xref": "paper",
          "y": 0.4,
          "yanchor": "bottom",
          "yref": "paper"
         },
         {
          "font": {
           "size": 16
          },
          "showarrow": false,
          "text": "Count",
          "textangle": -90,
          "x": 0,
          "xanchor": "right",
          "xref": "paper",
          "xshift": -40,
          "y": 0.5,
          "yanchor": "middle",
          "yref": "paper"
         }
        ],
        "font": {
         "family": "Courier New, monospace",
         "size": 14
        },
        "height": 750,
        "margin": {
         "b": 50,
         "l": 100,
         "pad": 0,
         "r": 50,
         "t": 100
        },
        "template": {
         "data": {
          "bar": [
           {
            "error_x": {
             "color": "#2a3f5f"
            },
            "error_y": {
             "color": "#2a3f5f"
            },
            "marker": {
             "line": {
              "color": "#E5ECF6",
              "width": 0.5
             },
             "pattern": {
              "fillmode": "overlay",
              "size": 10,
              "solidity": 0.2
             }
            },
            "type": "bar"
           }
          ],
          "barpolar": [
           {
            "marker": {
             "line": {
              "color": "#E5ECF6",
              "width": 0.5
             },
             "pattern": {
              "fillmode": "overlay",
              "size": 10,
              "solidity": 0.2
             }
            },
            "type": "barpolar"
           }
          ],
          "carpet": [
           {
            "aaxis": {
             "endlinecolor": "#2a3f5f",
             "gridcolor": "white",
             "linecolor": "white",
             "minorgridcolor": "white",
             "startlinecolor": "#2a3f5f"
            },
            "baxis": {
             "endlinecolor": "#2a3f5f",
             "gridcolor": "white",
             "linecolor": "white",
             "minorgridcolor": "white",
             "startlinecolor": "#2a3f5f"
            },
            "type": "carpet"
           }
          ],
          "choropleth": [
           {
            "colorbar": {
             "outlinewidth": 0,
             "ticks": ""
            },
            "type": "choropleth"
           }
          ],
          "contour": [
           {
            "colorbar": {
             "outlinewidth": 0,
             "ticks": ""
            },
            "colorscale": [
             [
              0,
              "#0d0887"
             ],
             [
              0.1111111111111111,
              "#46039f"
             ],
             [
              0.2222222222222222,
              "#7201a8"
             ],
             [
              0.3333333333333333,
              "#9c179e"
             ],
             [
              0.4444444444444444,
              "#bd3786"
             ],
             [
              0.5555555555555556,
              "#d8576b"
             ],
             [
              0.6666666666666666,
              "#ed7953"
             ],
             [
              0.7777777777777778,
              "#fb9f3a"
             ],
             [
              0.8888888888888888,
              "#fdca26"
             ],
             [
              1,
              "#f0f921"
             ]
            ],
            "type": "contour"
           }
          ],
          "contourcarpet": [
           {
            "colorbar": {
             "outlinewidth": 0,
             "ticks": ""
            },
            "type": "contourcarpet"
           }
          ],
          "heatmap": [
           {
            "colorbar": {
             "outlinewidth": 0,
             "ticks": ""
            },
            "colorscale": [
             [
              0,
              "#0d0887"
             ],
             [
              0.1111111111111111,
              "#46039f"
             ],
             [
              0.2222222222222222,
              "#7201a8"
             ],
             [
              0.3333333333333333,
              "#9c179e"
             ],
             [
              0.4444444444444444,
              "#bd3786"
             ],
             [
              0.5555555555555556,
              "#d8576b"
             ],
             [
              0.6666666666666666,
              "#ed7953"
             ],
             [
              0.7777777777777778,
              "#fb9f3a"
             ],
             [
              0.8888888888888888,
              "#fdca26"
             ],
             [
              1,
              "#f0f921"
             ]
            ],
            "type": "heatmap"
           }
          ],
          "heatmapgl": [
           {
            "colorbar": {
             "outlinewidth": 0,
             "ticks": ""
            },
            "colorscale": [
             [
              0,
              "#0d0887"
             ],
             [
              0.1111111111111111,
              "#46039f"
             ],
             [
              0.2222222222222222,
              "#7201a8"
             ],
             [
              0.3333333333333333,
              "#9c179e"
             ],
             [
              0.4444444444444444,
              "#bd3786"
             ],
             [
              0.5555555555555556,
              "#d8576b"
             ],
             [
              0.6666666666666666,
              "#ed7953"
             ],
             [
              0.7777777777777778,
              "#fb9f3a"
             ],
             [
              0.8888888888888888,
              "#fdca26"
             ],
             [
              1,
              "#f0f921"
             ]
            ],
            "type": "heatmapgl"
           }
          ],
          "histogram": [
           {
            "marker": {
             "pattern": {
              "fillmode": "overlay",
              "size": 10,
              "solidity": 0.2
             }
            },
            "type": "histogram"
           }
          ],
          "histogram2d": [
           {
            "colorbar": {
             "outlinewidth": 0,
             "ticks": ""
            },
            "colorscale": [
             [
              0,
              "#0d0887"
             ],
             [
              0.1111111111111111,
              "#46039f"
             ],
             [
              0.2222222222222222,
              "#7201a8"
             ],
             [
              0.3333333333333333,
              "#9c179e"
             ],
             [
              0.4444444444444444,
              "#bd3786"
             ],
             [
              0.5555555555555556,
              "#d8576b"
             ],
             [
              0.6666666666666666,
              "#ed7953"
             ],
             [
              0.7777777777777778,
              "#fb9f3a"
             ],
             [
              0.8888888888888888,
              "#fdca26"
             ],
             [
              1,
              "#f0f921"
             ]
            ],
            "type": "histogram2d"
           }
          ],
          "histogram2dcontour": [
           {
            "colorbar": {
             "outlinewidth": 0,
             "ticks": ""
            },
            "colorscale": [
             [
              0,
              "#0d0887"
             ],
             [
              0.1111111111111111,
              "#46039f"
             ],
             [
              0.2222222222222222,
              "#7201a8"
             ],
             [
              0.3333333333333333,
              "#9c179e"
             ],
             [
              0.4444444444444444,
              "#bd3786"
             ],
             [
              0.5555555555555556,
              "#d8576b"
             ],
             [
              0.6666666666666666,
              "#ed7953"
             ],
             [
              0.7777777777777778,
              "#fb9f3a"
             ],
             [
              0.8888888888888888,
              "#fdca26"
             ],
             [
              1,
              "#f0f921"
             ]
            ],
            "type": "histogram2dcontour"
           }
          ],
          "mesh3d": [
           {
            "colorbar": {
             "outlinewidth": 0,
             "ticks": ""
            },
            "type": "mesh3d"
           }
          ],
          "parcoords": [
           {
            "line": {
             "colorbar": {
              "outlinewidth": 0,
              "ticks": ""
             }
            },
            "type": "parcoords"
           }
          ],
          "pie": [
           {
            "automargin": true,
            "type": "pie"
           }
          ],
          "scatter": [
           {
            "fillpattern": {
             "fillmode": "overlay",
             "size": 10,
             "solidity": 0.2
            },
            "type": "scatter"
           }
          ],
          "scatter3d": [
           {
            "line": {
             "colorbar": {
              "outlinewidth": 0,
              "ticks": ""
             }
            },
            "marker": {
             "colorbar": {
              "outlinewidth": 0,
              "ticks": ""
             }
            },
            "type": "scatter3d"
           }
          ],
          "scattercarpet": [
           {
            "marker": {
             "colorbar": {
              "outlinewidth": 0,
              "ticks": ""
             }
            },
            "type": "scattercarpet"
           }
          ],
          "scattergeo": [
           {
            "marker": {
             "colorbar": {
              "outlinewidth": 0,
              "ticks": ""
             }
            },
            "type": "scattergeo"
           }
          ],
          "scattergl": [
           {
            "marker": {
             "colorbar": {
              "outlinewidth": 0,
              "ticks": ""
             }
            },
            "type": "scattergl"
           }
          ],
          "scattermapbox": [
           {
            "marker": {
             "colorbar": {
              "outlinewidth": 0,
              "ticks": ""
             }
            },
            "type": "scattermapbox"
           }
          ],
          "scatterpolar": [
           {
            "marker": {
             "colorbar": {
              "outlinewidth": 0,
              "ticks": ""
             }
            },
            "type": "scatterpolar"
           }
          ],
          "scatterpolargl": [
           {
            "marker": {
             "colorbar": {
              "outlinewidth": 0,
              "ticks": ""
             }
            },
            "type": "scatterpolargl"
           }
          ],
          "scatterternary": [
           {
            "marker": {
             "colorbar": {
              "outlinewidth": 0,
              "ticks": ""
             }
            },
            "type": "scatterternary"
           }
          ],
          "surface": [
           {
            "colorbar": {
             "outlinewidth": 0,
             "ticks": ""
            },
            "colorscale": [
             [
              0,
              "#0d0887"
             ],
             [
              0.1111111111111111,
              "#46039f"
             ],
             [
              0.2222222222222222,
              "#7201a8"
             ],
             [
              0.3333333333333333,
              "#9c179e"
             ],
             [
              0.4444444444444444,
              "#bd3786"
             ],
             [
              0.5555555555555556,
              "#d8576b"
             ],
             [
              0.6666666666666666,
              "#ed7953"
             ],
             [
              0.7777777777777778,
              "#fb9f3a"
             ],
             [
              0.8888888888888888,
              "#fdca26"
             ],
             [
              1,
              "#f0f921"
             ]
            ],
            "type": "surface"
           }
          ],
          "table": [
           {
            "cells": {
             "fill": {
              "color": "#EBF0F8"
             },
             "line": {
              "color": "white"
             }
            },
            "header": {
             "fill": {
              "color": "#C8D4E3"
             },
             "line": {
              "color": "white"
             }
            },
            "type": "table"
           }
          ]
         },
         "layout": {
          "annotationdefaults": {
           "arrowcolor": "#2a3f5f",
           "arrowhead": 0,
           "arrowwidth": 1
          },
          "autotypenumbers": "strict",
          "coloraxis": {
           "colorbar": {
            "outlinewidth": 0,
            "ticks": ""
           }
          },
          "colorscale": {
           "diverging": [
            [
             0,
             "#8e0152"
            ],
            [
             0.1,
             "#c51b7d"
            ],
            [
             0.2,
             "#de77ae"
            ],
            [
             0.3,
             "#f1b6da"
            ],
            [
             0.4,
             "#fde0ef"
            ],
            [
             0.5,
             "#f7f7f7"
            ],
            [
             0.6,
             "#e6f5d0"
            ],
            [
             0.7,
             "#b8e186"
            ],
            [
             0.8,
             "#7fbc41"
            ],
            [
             0.9,
             "#4d9221"
            ],
            [
             1,
             "#276419"
            ]
           ],
           "sequential": [
            [
             0,
             "#0d0887"
            ],
            [
             0.1111111111111111,
             "#46039f"
            ],
            [
             0.2222222222222222,
             "#7201a8"
            ],
            [
             0.3333333333333333,
             "#9c179e"
            ],
            [
             0.4444444444444444,
             "#bd3786"
            ],
            [
             0.5555555555555556,
             "#d8576b"
            ],
            [
             0.6666666666666666,
             "#ed7953"
            ],
            [
             0.7777777777777778,
             "#fb9f3a"
            ],
            [
             0.8888888888888888,
             "#fdca26"
            ],
            [
             1,
             "#f0f921"
            ]
           ],
           "sequentialminus": [
            [
             0,
             "#0d0887"
            ],
            [
             0.1111111111111111,
             "#46039f"
            ],
            [
             0.2222222222222222,
             "#7201a8"
            ],
            [
             0.3333333333333333,
             "#9c179e"
            ],
            [
             0.4444444444444444,
             "#bd3786"
            ],
            [
             0.5555555555555556,
             "#d8576b"
            ],
            [
             0.6666666666666666,
             "#ed7953"
            ],
            [
             0.7777777777777778,
             "#fb9f3a"
            ],
            [
             0.8888888888888888,
             "#fdca26"
            ],
            [
             1,
             "#f0f921"
            ]
           ]
          },
          "colorway": [
           "#636efa",
           "#EF553B",
           "#00cc96",
           "#ab63fa",
           "#FFA15A",
           "#19d3f3",
           "#FF6692",
           "#B6E880",
           "#FF97FF",
           "#FECB52"
          ],
          "font": {
           "color": "#2a3f5f"
          },
          "geo": {
           "bgcolor": "white",
           "lakecolor": "white",
           "landcolor": "#E5ECF6",
           "showlakes": true,
           "showland": true,
           "subunitcolor": "white"
          },
          "hoverlabel": {
           "align": "left"
          },
          "hovermode": "closest",
          "mapbox": {
           "style": "light"
          },
          "paper_bgcolor": "white",
          "plot_bgcolor": "#E5ECF6",
          "polar": {
           "angularaxis": {
            "gridcolor": "white",
            "linecolor": "white",
            "ticks": ""
           },
           "bgcolor": "#E5ECF6",
           "radialaxis": {
            "gridcolor": "white",
            "linecolor": "white",
            "ticks": ""
           }
          },
          "scene": {
           "xaxis": {
            "backgroundcolor": "#E5ECF6",
            "gridcolor": "white",
            "gridwidth": 2,
            "linecolor": "white",
            "showbackground": true,
            "ticks": "",
            "zerolinecolor": "white"
           },
           "yaxis": {
            "backgroundcolor": "#E5ECF6",
            "gridcolor": "white",
            "gridwidth": 2,
            "linecolor": "white",
            "showbackground": true,
            "ticks": "",
            "zerolinecolor": "white"
           },
           "zaxis": {
            "backgroundcolor": "#E5ECF6",
            "gridcolor": "white",
            "gridwidth": 2,
            "linecolor": "white",
            "showbackground": true,
            "ticks": "",
            "zerolinecolor": "white"
           }
          },
          "shapedefaults": {
           "line": {
            "color": "#2a3f5f"
           }
          },
          "ternary": {
           "aaxis": {
            "gridcolor": "white",
            "linecolor": "white",
            "ticks": ""
           },
           "baxis": {
            "gridcolor": "white",
            "linecolor": "white",
            "ticks": ""
           },
           "bgcolor": "#E5ECF6",
           "caxis": {
            "gridcolor": "white",
            "linecolor": "white",
            "ticks": ""
           }
          },
          "title": {
           "x": 0.05
          },
          "xaxis": {
           "automargin": true,
           "gridcolor": "white",
           "linecolor": "white",
           "ticks": "",
           "title": {
            "standoff": 15
           },
           "zerolinecolor": "white",
           "zerolinewidth": 2
          },
          "yaxis": {
           "automargin": true,
           "gridcolor": "white",
           "linecolor": "white",
           "ticks": "",
           "title": {
            "standoff": 15
           },
           "zerolinecolor": "white",
           "zerolinewidth": 2
          }
         }
        },
        "title": {
         "text": "<b>Daily and Hourly Activity of Subscribers vs Non-Subscribers<b>"
        },
        "width": 1000,
        "xaxis": {
         "anchor": "y",
         "domain": [
          0,
          1
         ],
         "tickfont": {
          "size": 14
         },
         "title": {
          "text": "<b>Date<b>"
         }
        },
        "xaxis2": {
         "anchor": "y2",
         "domain": [
          0,
          1
         ],
         "tickfont": {
          "size": 14
         },
         "title": {
          "text": "<b>Hour<b>"
         }
        },
        "yaxis": {
         "anchor": "x",
         "domain": [
          0.6000000000000001,
          1
         ],
         "range": [
          0,
          4
         ],
         "type": "log"
        },
        "yaxis2": {
         "anchor": "x2",
         "domain": [
          0,
          0.4
         ],
         "range": [
          0,
          4
         ],
         "type": "log"
        }
       }
      }
     },
     "metadata": {},
     "output_type": "display_data"
    }
   ],
   "source": [
    "daily_hourly_activity_feature_bar_distribution(\n",
    "    df_ = df, feature_ = 'is_subscriber', yrange = [0, 4],\n",
    "    subplot_titles_ = ['<b>Daily<b>', '<b>Monthly<b>'],\n",
    "    title_ = '<b>Daily and Hourly Activity of Subscribers vs Non-Subscribers<b>',\n",
    "    height_ = 750, width_ = 1000\n",
    "    )"
   ]
  },
  {
   "cell_type": "markdown",
   "id": "6469168b",
   "metadata": {},
   "source": [
    "# Gender"
   ]
  },
  {
   "cell_type": "code",
   "execution_count": null,
   "id": "ec7df9c5",
   "metadata": {},
   "outputs": [],
   "source": [
    "multiple_subset_bar(df_ = df, feature_ = 'gender', yrange = [0, 5000])"
   ]
  },
  {
   "cell_type": "markdown",
   "id": "e9e0c923",
   "metadata": {},
   "source": [
    "### Read time per gender"
   ]
  },
  {
   "cell_type": "code",
   "execution_count": null,
   "id": "fe62bfa7",
   "metadata": {},
   "outputs": [],
   "source": [
    "multiple_subset_feature_visualization(df_ =df,  feature_1 = 'gender', feature_2 = 'read_time')"
   ]
  },
  {
   "cell_type": "markdown",
   "id": "9cdd149a",
   "metadata": {},
   "source": [
    "### Scrolltime per gender"
   ]
  },
  {
   "cell_type": "code",
   "execution_count": null,
   "id": "373617e8",
   "metadata": {},
   "outputs": [],
   "source": [
    "multiple_subset_feature_visualization(df_ =df,  feature_1 = 'gender', feature_2 = 'scroll_percentage')"
   ]
  },
  {
   "cell_type": "markdown",
   "id": "f1fb1468",
   "metadata": {},
   "source": [
    "### Topics"
   ]
  },
  {
   "cell_type": "code",
   "execution_count": 381,
   "id": "a098768d",
   "metadata": {},
   "outputs": [
    {
     "data": {
      "application/vnd.plotly.v1+json": {
       "config": {
        "plotlyServerURL": "https://plot.ly"
       },
       "data": [
        {
         "name": "Female",
         "type": "bar",
         "x": [
          "Kendt",
          "Underholdning",
          "Kriminalitet",
          "Livsstil",
          "Begivenhed"
         ],
         "xaxis": "x",
         "y": [
          315,
          210,
          154,
          131,
          126
         ],
         "yaxis": "y"
        },
        {
         "name": "Male",
         "type": "bar",
         "x": [
          "Kendt",
          "Sport",
          "Begivenhed",
          "Underholdning",
          "Kriminalitet"
         ],
         "xaxis": "x2",
         "y": [
          1504,
          963,
          906,
          795,
          741
         ],
         "yaxis": "y2"
        }
       ],
       "layout": {
        "annotations": [
         {
          "font": {
           "size": 16
          },
          "showarrow": false,
          "text": "<b>Female<b>",
          "x": 0.225,
          "xanchor": "center",
          "xref": "paper",
          "y": 1,
          "yanchor": "bottom",
          "yref": "paper"
         },
         {
          "font": {
           "size": 16
          },
          "showarrow": false,
          "text": "<b>Male<b>",
          "x": 0.775,
          "xanchor": "center",
          "xref": "paper",
          "y": 1,
          "yanchor": "bottom",
          "yref": "paper"
         },
         {
          "font": {
           "size": 16
          },
          "showarrow": false,
          "text": "<b>Topics<b>",
          "x": 0.5,
          "xanchor": "center",
          "xref": "paper",
          "y": 0,
          "yanchor": "top",
          "yref": "paper",
          "yshift": -30
         },
         {
          "font": {
           "size": 16
          },
          "showarrow": false,
          "text": "<b>Count<b>",
          "textangle": -90,
          "x": 0,
          "xanchor": "right",
          "xref": "paper",
          "xshift": -40,
          "y": 0.5,
          "yanchor": "middle",
          "yref": "paper"
         }
        ],
        "font": {
         "family": "Courier New, monospace",
         "size": 14
        },
        "height": 500,
        "margin": {
         "b": 50,
         "l": 100,
         "pad": 0,
         "r": 50,
         "t": 100
        },
        "template": {
         "data": {
          "bar": [
           {
            "error_x": {
             "color": "#2a3f5f"
            },
            "error_y": {
             "color": "#2a3f5f"
            },
            "marker": {
             "line": {
              "color": "#E5ECF6",
              "width": 0.5
             },
             "pattern": {
              "fillmode": "overlay",
              "size": 10,
              "solidity": 0.2
             }
            },
            "type": "bar"
           }
          ],
          "barpolar": [
           {
            "marker": {
             "line": {
              "color": "#E5ECF6",
              "width": 0.5
             },
             "pattern": {
              "fillmode": "overlay",
              "size": 10,
              "solidity": 0.2
             }
            },
            "type": "barpolar"
           }
          ],
          "carpet": [
           {
            "aaxis": {
             "endlinecolor": "#2a3f5f",
             "gridcolor": "white",
             "linecolor": "white",
             "minorgridcolor": "white",
             "startlinecolor": "#2a3f5f"
            },
            "baxis": {
             "endlinecolor": "#2a3f5f",
             "gridcolor": "white",
             "linecolor": "white",
             "minorgridcolor": "white",
             "startlinecolor": "#2a3f5f"
            },
            "type": "carpet"
           }
          ],
          "choropleth": [
           {
            "colorbar": {
             "outlinewidth": 0,
             "ticks": ""
            },
            "type": "choropleth"
           }
          ],
          "contour": [
           {
            "colorbar": {
             "outlinewidth": 0,
             "ticks": ""
            },
            "colorscale": [
             [
              0,
              "#0d0887"
             ],
             [
              0.1111111111111111,
              "#46039f"
             ],
             [
              0.2222222222222222,
              "#7201a8"
             ],
             [
              0.3333333333333333,
              "#9c179e"
             ],
             [
              0.4444444444444444,
              "#bd3786"
             ],
             [
              0.5555555555555556,
              "#d8576b"
             ],
             [
              0.6666666666666666,
              "#ed7953"
             ],
             [
              0.7777777777777778,
              "#fb9f3a"
             ],
             [
              0.8888888888888888,
              "#fdca26"
             ],
             [
              1,
              "#f0f921"
             ]
            ],
            "type": "contour"
           }
          ],
          "contourcarpet": [
           {
            "colorbar": {
             "outlinewidth": 0,
             "ticks": ""
            },
            "type": "contourcarpet"
           }
          ],
          "heatmap": [
           {
            "colorbar": {
             "outlinewidth": 0,
             "ticks": ""
            },
            "colorscale": [
             [
              0,
              "#0d0887"
             ],
             [
              0.1111111111111111,
              "#46039f"
             ],
             [
              0.2222222222222222,
              "#7201a8"
             ],
             [
              0.3333333333333333,
              "#9c179e"
             ],
             [
              0.4444444444444444,
              "#bd3786"
             ],
             [
              0.5555555555555556,
              "#d8576b"
             ],
             [
              0.6666666666666666,
              "#ed7953"
             ],
             [
              0.7777777777777778,
              "#fb9f3a"
             ],
             [
              0.8888888888888888,
              "#fdca26"
             ],
             [
              1,
              "#f0f921"
             ]
            ],
            "type": "heatmap"
           }
          ],
          "heatmapgl": [
           {
            "colorbar": {
             "outlinewidth": 0,
             "ticks": ""
            },
            "colorscale": [
             [
              0,
              "#0d0887"
             ],
             [
              0.1111111111111111,
              "#46039f"
             ],
             [
              0.2222222222222222,
              "#7201a8"
             ],
             [
              0.3333333333333333,
              "#9c179e"
             ],
             [
              0.4444444444444444,
              "#bd3786"
             ],
             [
              0.5555555555555556,
              "#d8576b"
             ],
             [
              0.6666666666666666,
              "#ed7953"
             ],
             [
              0.7777777777777778,
              "#fb9f3a"
             ],
             [
              0.8888888888888888,
              "#fdca26"
             ],
             [
              1,
              "#f0f921"
             ]
            ],
            "type": "heatmapgl"
           }
          ],
          "histogram": [
           {
            "marker": {
             "pattern": {
              "fillmode": "overlay",
              "size": 10,
              "solidity": 0.2
             }
            },
            "type": "histogram"
           }
          ],
          "histogram2d": [
           {
            "colorbar": {
             "outlinewidth": 0,
             "ticks": ""
            },
            "colorscale": [
             [
              0,
              "#0d0887"
             ],
             [
              0.1111111111111111,
              "#46039f"
             ],
             [
              0.2222222222222222,
              "#7201a8"
             ],
             [
              0.3333333333333333,
              "#9c179e"
             ],
             [
              0.4444444444444444,
              "#bd3786"
             ],
             [
              0.5555555555555556,
              "#d8576b"
             ],
             [
              0.6666666666666666,
              "#ed7953"
             ],
             [
              0.7777777777777778,
              "#fb9f3a"
             ],
             [
              0.8888888888888888,
              "#fdca26"
             ],
             [
              1,
              "#f0f921"
             ]
            ],
            "type": "histogram2d"
           }
          ],
          "histogram2dcontour": [
           {
            "colorbar": {
             "outlinewidth": 0,
             "ticks": ""
            },
            "colorscale": [
             [
              0,
              "#0d0887"
             ],
             [
              0.1111111111111111,
              "#46039f"
             ],
             [
              0.2222222222222222,
              "#7201a8"
             ],
             [
              0.3333333333333333,
              "#9c179e"
             ],
             [
              0.4444444444444444,
              "#bd3786"
             ],
             [
              0.5555555555555556,
              "#d8576b"
             ],
             [
              0.6666666666666666,
              "#ed7953"
             ],
             [
              0.7777777777777778,
              "#fb9f3a"
             ],
             [
              0.8888888888888888,
              "#fdca26"
             ],
             [
              1,
              "#f0f921"
             ]
            ],
            "type": "histogram2dcontour"
           }
          ],
          "mesh3d": [
           {
            "colorbar": {
             "outlinewidth": 0,
             "ticks": ""
            },
            "type": "mesh3d"
           }
          ],
          "parcoords": [
           {
            "line": {
             "colorbar": {
              "outlinewidth": 0,
              "ticks": ""
             }
            },
            "type": "parcoords"
           }
          ],
          "pie": [
           {
            "automargin": true,
            "type": "pie"
           }
          ],
          "scatter": [
           {
            "fillpattern": {
             "fillmode": "overlay",
             "size": 10,
             "solidity": 0.2
            },
            "type": "scatter"
           }
          ],
          "scatter3d": [
           {
            "line": {
             "colorbar": {
              "outlinewidth": 0,
              "ticks": ""
             }
            },
            "marker": {
             "colorbar": {
              "outlinewidth": 0,
              "ticks": ""
             }
            },
            "type": "scatter3d"
           }
          ],
          "scattercarpet": [
           {
            "marker": {
             "colorbar": {
              "outlinewidth": 0,
              "ticks": ""
             }
            },
            "type": "scattercarpet"
           }
          ],
          "scattergeo": [
           {
            "marker": {
             "colorbar": {
              "outlinewidth": 0,
              "ticks": ""
             }
            },
            "type": "scattergeo"
           }
          ],
          "scattergl": [
           {
            "marker": {
             "colorbar": {
              "outlinewidth": 0,
              "ticks": ""
             }
            },
            "type": "scattergl"
           }
          ],
          "scattermapbox": [
           {
            "marker": {
             "colorbar": {
              "outlinewidth": 0,
              "ticks": ""
             }
            },
            "type": "scattermapbox"
           }
          ],
          "scatterpolar": [
           {
            "marker": {
             "colorbar": {
              "outlinewidth": 0,
              "ticks": ""
             }
            },
            "type": "scatterpolar"
           }
          ],
          "scatterpolargl": [
           {
            "marker": {
             "colorbar": {
              "outlinewidth": 0,
              "ticks": ""
             }
            },
            "type": "scatterpolargl"
           }
          ],
          "scatterternary": [
           {
            "marker": {
             "colorbar": {
              "outlinewidth": 0,
              "ticks": ""
             }
            },
            "type": "scatterternary"
           }
          ],
          "surface": [
           {
            "colorbar": {
             "outlinewidth": 0,
             "ticks": ""
            },
            "colorscale": [
             [
              0,
              "#0d0887"
             ],
             [
              0.1111111111111111,
              "#46039f"
             ],
             [
              0.2222222222222222,
              "#7201a8"
             ],
             [
              0.3333333333333333,
              "#9c179e"
             ],
             [
              0.4444444444444444,
              "#bd3786"
             ],
             [
              0.5555555555555556,
              "#d8576b"
             ],
             [
              0.6666666666666666,
              "#ed7953"
             ],
             [
              0.7777777777777778,
              "#fb9f3a"
             ],
             [
              0.8888888888888888,
              "#fdca26"
             ],
             [
              1,
              "#f0f921"
             ]
            ],
            "type": "surface"
           }
          ],
          "table": [
           {
            "cells": {
             "fill": {
              "color": "#EBF0F8"
             },
             "line": {
              "color": "white"
             }
            },
            "header": {
             "fill": {
              "color": "#C8D4E3"
             },
             "line": {
              "color": "white"
             }
            },
            "type": "table"
           }
          ]
         },
         "layout": {
          "annotationdefaults": {
           "arrowcolor": "#2a3f5f",
           "arrowhead": 0,
           "arrowwidth": 1
          },
          "autotypenumbers": "strict",
          "coloraxis": {
           "colorbar": {
            "outlinewidth": 0,
            "ticks": ""
           }
          },
          "colorscale": {
           "diverging": [
            [
             0,
             "#8e0152"
            ],
            [
             0.1,
             "#c51b7d"
            ],
            [
             0.2,
             "#de77ae"
            ],
            [
             0.3,
             "#f1b6da"
            ],
            [
             0.4,
             "#fde0ef"
            ],
            [
             0.5,
             "#f7f7f7"
            ],
            [
             0.6,
             "#e6f5d0"
            ],
            [
             0.7,
             "#b8e186"
            ],
            [
             0.8,
             "#7fbc41"
            ],
            [
             0.9,
             "#4d9221"
            ],
            [
             1,
             "#276419"
            ]
           ],
           "sequential": [
            [
             0,
             "#0d0887"
            ],
            [
             0.1111111111111111,
             "#46039f"
            ],
            [
             0.2222222222222222,
             "#7201a8"
            ],
            [
             0.3333333333333333,
             "#9c179e"
            ],
            [
             0.4444444444444444,
             "#bd3786"
            ],
            [
             0.5555555555555556,
             "#d8576b"
            ],
            [
             0.6666666666666666,
             "#ed7953"
            ],
            [
             0.7777777777777778,
             "#fb9f3a"
            ],
            [
             0.8888888888888888,
             "#fdca26"
            ],
            [
             1,
             "#f0f921"
            ]
           ],
           "sequentialminus": [
            [
             0,
             "#0d0887"
            ],
            [
             0.1111111111111111,
             "#46039f"
            ],
            [
             0.2222222222222222,
             "#7201a8"
            ],
            [
             0.3333333333333333,
             "#9c179e"
            ],
            [
             0.4444444444444444,
             "#bd3786"
            ],
            [
             0.5555555555555556,
             "#d8576b"
            ],
            [
             0.6666666666666666,
             "#ed7953"
            ],
            [
             0.7777777777777778,
             "#fb9f3a"
            ],
            [
             0.8888888888888888,
             "#fdca26"
            ],
            [
             1,
             "#f0f921"
            ]
           ]
          },
          "colorway": [
           "#636efa",
           "#EF553B",
           "#00cc96",
           "#ab63fa",
           "#FFA15A",
           "#19d3f3",
           "#FF6692",
           "#B6E880",
           "#FF97FF",
           "#FECB52"
          ],
          "font": {
           "color": "#2a3f5f"
          },
          "geo": {
           "bgcolor": "white",
           "lakecolor": "white",
           "landcolor": "#E5ECF6",
           "showlakes": true,
           "showland": true,
           "subunitcolor": "white"
          },
          "hoverlabel": {
           "align": "left"
          },
          "hovermode": "closest",
          "mapbox": {
           "style": "light"
          },
          "paper_bgcolor": "white",
          "plot_bgcolor": "#E5ECF6",
          "polar": {
           "angularaxis": {
            "gridcolor": "white",
            "linecolor": "white",
            "ticks": ""
           },
           "bgcolor": "#E5ECF6",
           "radialaxis": {
            "gridcolor": "white",
            "linecolor": "white",
            "ticks": ""
           }
          },
          "scene": {
           "xaxis": {
            "backgroundcolor": "#E5ECF6",
            "gridcolor": "white",
            "gridwidth": 2,
            "linecolor": "white",
            "showbackground": true,
            "ticks": "",
            "zerolinecolor": "white"
           },
           "yaxis": {
            "backgroundcolor": "#E5ECF6",
            "gridcolor": "white",
            "gridwidth": 2,
            "linecolor": "white",
            "showbackground": true,
            "ticks": "",
            "zerolinecolor": "white"
           },
           "zaxis": {
            "backgroundcolor": "#E5ECF6",
            "gridcolor": "white",
            "gridwidth": 2,
            "linecolor": "white",
            "showbackground": true,
            "ticks": "",
            "zerolinecolor": "white"
           }
          },
          "shapedefaults": {
           "line": {
            "color": "#2a3f5f"
           }
          },
          "ternary": {
           "aaxis": {
            "gridcolor": "white",
            "linecolor": "white",
            "ticks": ""
           },
           "baxis": {
            "gridcolor": "white",
            "linecolor": "white",
            "ticks": ""
           },
           "bgcolor": "#E5ECF6",
           "caxis": {
            "gridcolor": "white",
            "linecolor": "white",
            "ticks": ""
           }
          },
          "title": {
           "x": 0.05
          },
          "xaxis": {
           "automargin": true,
           "gridcolor": "white",
           "linecolor": "white",
           "ticks": "",
           "title": {
            "standoff": 15
           },
           "zerolinecolor": "white",
           "zerolinewidth": 2
          },
          "yaxis": {
           "automargin": true,
           "gridcolor": "white",
           "linecolor": "white",
           "ticks": "",
           "title": {
            "standoff": 15
           },
           "zerolinecolor": "white",
           "zerolinewidth": 2
          }
         }
        },
        "title": {
         "text": "<b>Topic Distribution of Genders<b>"
        },
        "width": 1000,
        "xaxis": {
         "anchor": "y",
         "domain": [
          0,
          0.45
         ],
         "tickfont": {
          "size": 10
         }
        },
        "xaxis2": {
         "anchor": "y2",
         "domain": [
          0.55,
          1
         ],
         "tickfont": {
          "size": 10
         }
        },
        "yaxis": {
         "anchor": "x",
         "domain": [
          0,
          1
         ],
         "range": [
          0,
          5
         ],
         "type": "log"
        },
        "yaxis2": {
         "anchor": "x2",
         "domain": [
          0,
          1
         ],
         "matches": "y",
         "range": [
          0,
          5
         ],
         "showticklabels": false,
         "type": "log"
        }
       }
      }
     },
     "metadata": {},
     "output_type": "display_data"
    }
   ],
   "source": [
    "# Get all the unique topics\n",
    "topic_list = unique_subset_topics(df)\n",
    "unique_topics = sorted(topic_list)\n",
    "\n",
    "topic_feature_bar_distribution(\n",
    "    df_ = df, feature_ = 'gender', yrange = [0, 5],\n",
    "    topic_list_ = unique_topics , subplot_titles_ = ['<b>Female<b>', '<b>Male<b>'],\n",
    "    xaxis_title = '<b>Topics<b>', yaxis_title = '<b>Count<b>',\n",
    "    title_ = '<b>Topic Distribution of Genders<b>',\n",
    "    height_ = 500, width_ = 1000\n",
    "    )"
   ]
  },
  {
   "cell_type": "markdown",
   "id": "5eb16616",
   "metadata": {},
   "source": [
    "### Activity"
   ]
  },
  {
   "cell_type": "code",
   "execution_count": 392,
   "id": "8db72f49",
   "metadata": {},
   "outputs": [
    {
     "data": {
      "application/vnd.plotly.v1+json": {
       "config": {
        "plotlyServerURL": "https://plot.ly"
       },
       "data": [
        {
         "mode": "lines+markers+text",
         "name": "Daily Female",
         "type": "scatter",
         "x": [
          "2023-05-18",
          "2023-05-19",
          "2023-05-20",
          "2023-05-21",
          "2023-05-22",
          "2023-05-23",
          "2023-05-24",
          "2023-05-25"
         ],
         "xaxis": "x",
         "y": [
          72,
          96,
          103,
          114,
          101,
          124,
          116,
          17
         ],
         "yaxis": "y"
        },
        {
         "mode": "markers+text",
         "name": "Hourly Female",
         "type": "scatter",
         "x": [
          "00:00",
          "01:00",
          "02:00",
          "03:00",
          "04:00",
          "05:00",
          "06:00",
          "07:00",
          "08:00",
          "09:00",
          "10:00",
          "11:00",
          "12:00",
          "13:00",
          "14:00",
          "15:00",
          "16:00",
          "17:00",
          "18:00",
          "19:00",
          "20:00",
          "21:00",
          "22:00",
          "23:00"
         ],
         "xaxis": "x2",
         "y": [
          0,
          9,
          5,
          9,
          64,
          54,
          50,
          54,
          27,
          29,
          13,
          24,
          30,
          49,
          24,
          15,
          54,
          25,
          51,
          51,
          36,
          20,
          23,
          11
         ],
         "yaxis": "y2"
        },
        {
         "mode": "lines+markers+text",
         "name": "Daily Male",
         "type": "scatter",
         "x": [
          "2023-05-18",
          "2023-05-19",
          "2023-05-20",
          "2023-05-21",
          "2023-05-22",
          "2023-05-23",
          "2023-05-24",
          "2023-05-25"
         ],
         "xaxis": "x",
         "y": [
          435,
          635,
          504,
          622,
          677,
          521,
          652,
          135
         ],
         "yaxis": "y"
        },
        {
         "mode": "markers+text",
         "name": "Hourly Male",
         "type": "scatter",
         "x": [
          "00:00",
          "01:00",
          "02:00",
          "03:00",
          "04:00",
          "05:00",
          "06:00",
          "07:00",
          "08:00",
          "09:00",
          "10:00",
          "11:00",
          "12:00",
          "13:00",
          "14:00",
          "15:00",
          "16:00",
          "17:00",
          "18:00",
          "19:00",
          "20:00",
          "21:00",
          "22:00",
          "23:00"
         ],
         "xaxis": "x2",
         "y": [
          23,
          26,
          41,
          104,
          176,
          232,
          285,
          272,
          210,
          217,
          179,
          156,
          240,
          228,
          232,
          179,
          194,
          263,
          213,
          219,
          214,
          153,
          68,
          41
         ],
         "yaxis": "y2"
        }
       ],
       "layout": {
        "annotations": [
         {
          "font": {
           "size": 16
          },
          "showarrow": false,
          "text": "<b>Daily<b>",
          "x": 0.5,
          "xanchor": "center",
          "xref": "paper",
          "y": 1,
          "yanchor": "bottom",
          "yref": "paper"
         },
         {
          "font": {
           "size": 16
          },
          "showarrow": false,
          "text": "<b>Monthly<b>",
          "x": 0.5,
          "xanchor": "center",
          "xref": "paper",
          "y": 0.4,
          "yanchor": "bottom",
          "yref": "paper"
         },
         {
          "font": {
           "size": 16
          },
          "showarrow": false,
          "text": "Count",
          "textangle": -90,
          "x": 0,
          "xanchor": "right",
          "xref": "paper",
          "xshift": -40,
          "y": 0.5,
          "yanchor": "middle",
          "yref": "paper"
         }
        ],
        "font": {
         "family": "Courier New, monospace",
         "size": 14
        },
        "height": 750,
        "margin": {
         "b": 50,
         "l": 100,
         "pad": 0,
         "r": 50,
         "t": 100
        },
        "template": {
         "data": {
          "bar": [
           {
            "error_x": {
             "color": "#2a3f5f"
            },
            "error_y": {
             "color": "#2a3f5f"
            },
            "marker": {
             "line": {
              "color": "#E5ECF6",
              "width": 0.5
             },
             "pattern": {
              "fillmode": "overlay",
              "size": 10,
              "solidity": 0.2
             }
            },
            "type": "bar"
           }
          ],
          "barpolar": [
           {
            "marker": {
             "line": {
              "color": "#E5ECF6",
              "width": 0.5
             },
             "pattern": {
              "fillmode": "overlay",
              "size": 10,
              "solidity": 0.2
             }
            },
            "type": "barpolar"
           }
          ],
          "carpet": [
           {
            "aaxis": {
             "endlinecolor": "#2a3f5f",
             "gridcolor": "white",
             "linecolor": "white",
             "minorgridcolor": "white",
             "startlinecolor": "#2a3f5f"
            },
            "baxis": {
             "endlinecolor": "#2a3f5f",
             "gridcolor": "white",
             "linecolor": "white",
             "minorgridcolor": "white",
             "startlinecolor": "#2a3f5f"
            },
            "type": "carpet"
           }
          ],
          "choropleth": [
           {
            "colorbar": {
             "outlinewidth": 0,
             "ticks": ""
            },
            "type": "choropleth"
           }
          ],
          "contour": [
           {
            "colorbar": {
             "outlinewidth": 0,
             "ticks": ""
            },
            "colorscale": [
             [
              0,
              "#0d0887"
             ],
             [
              0.1111111111111111,
              "#46039f"
             ],
             [
              0.2222222222222222,
              "#7201a8"
             ],
             [
              0.3333333333333333,
              "#9c179e"
             ],
             [
              0.4444444444444444,
              "#bd3786"
             ],
             [
              0.5555555555555556,
              "#d8576b"
             ],
             [
              0.6666666666666666,
              "#ed7953"
             ],
             [
              0.7777777777777778,
              "#fb9f3a"
             ],
             [
              0.8888888888888888,
              "#fdca26"
             ],
             [
              1,
              "#f0f921"
             ]
            ],
            "type": "contour"
           }
          ],
          "contourcarpet": [
           {
            "colorbar": {
             "outlinewidth": 0,
             "ticks": ""
            },
            "type": "contourcarpet"
           }
          ],
          "heatmap": [
           {
            "colorbar": {
             "outlinewidth": 0,
             "ticks": ""
            },
            "colorscale": [
             [
              0,
              "#0d0887"
             ],
             [
              0.1111111111111111,
              "#46039f"
             ],
             [
              0.2222222222222222,
              "#7201a8"
             ],
             [
              0.3333333333333333,
              "#9c179e"
             ],
             [
              0.4444444444444444,
              "#bd3786"
             ],
             [
              0.5555555555555556,
              "#d8576b"
             ],
             [
              0.6666666666666666,
              "#ed7953"
             ],
             [
              0.7777777777777778,
              "#fb9f3a"
             ],
             [
              0.8888888888888888,
              "#fdca26"
             ],
             [
              1,
              "#f0f921"
             ]
            ],
            "type": "heatmap"
           }
          ],
          "heatmapgl": [
           {
            "colorbar": {
             "outlinewidth": 0,
             "ticks": ""
            },
            "colorscale": [
             [
              0,
              "#0d0887"
             ],
             [
              0.1111111111111111,
              "#46039f"
             ],
             [
              0.2222222222222222,
              "#7201a8"
             ],
             [
              0.3333333333333333,
              "#9c179e"
             ],
             [
              0.4444444444444444,
              "#bd3786"
             ],
             [
              0.5555555555555556,
              "#d8576b"
             ],
             [
              0.6666666666666666,
              "#ed7953"
             ],
             [
              0.7777777777777778,
              "#fb9f3a"
             ],
             [
              0.8888888888888888,
              "#fdca26"
             ],
             [
              1,
              "#f0f921"
             ]
            ],
            "type": "heatmapgl"
           }
          ],
          "histogram": [
           {
            "marker": {
             "pattern": {
              "fillmode": "overlay",
              "size": 10,
              "solidity": 0.2
             }
            },
            "type": "histogram"
           }
          ],
          "histogram2d": [
           {
            "colorbar": {
             "outlinewidth": 0,
             "ticks": ""
            },
            "colorscale": [
             [
              0,
              "#0d0887"
             ],
             [
              0.1111111111111111,
              "#46039f"
             ],
             [
              0.2222222222222222,
              "#7201a8"
             ],
             [
              0.3333333333333333,
              "#9c179e"
             ],
             [
              0.4444444444444444,
              "#bd3786"
             ],
             [
              0.5555555555555556,
              "#d8576b"
             ],
             [
              0.6666666666666666,
              "#ed7953"
             ],
             [
              0.7777777777777778,
              "#fb9f3a"
             ],
             [
              0.8888888888888888,
              "#fdca26"
             ],
             [
              1,
              "#f0f921"
             ]
            ],
            "type": "histogram2d"
           }
          ],
          "histogram2dcontour": [
           {
            "colorbar": {
             "outlinewidth": 0,
             "ticks": ""
            },
            "colorscale": [
             [
              0,
              "#0d0887"
             ],
             [
              0.1111111111111111,
              "#46039f"
             ],
             [
              0.2222222222222222,
              "#7201a8"
             ],
             [
              0.3333333333333333,
              "#9c179e"
             ],
             [
              0.4444444444444444,
              "#bd3786"
             ],
             [
              0.5555555555555556,
              "#d8576b"
             ],
             [
              0.6666666666666666,
              "#ed7953"
             ],
             [
              0.7777777777777778,
              "#fb9f3a"
             ],
             [
              0.8888888888888888,
              "#fdca26"
             ],
             [
              1,
              "#f0f921"
             ]
            ],
            "type": "histogram2dcontour"
           }
          ],
          "mesh3d": [
           {
            "colorbar": {
             "outlinewidth": 0,
             "ticks": ""
            },
            "type": "mesh3d"
           }
          ],
          "parcoords": [
           {
            "line": {
             "colorbar": {
              "outlinewidth": 0,
              "ticks": ""
             }
            },
            "type": "parcoords"
           }
          ],
          "pie": [
           {
            "automargin": true,
            "type": "pie"
           }
          ],
          "scatter": [
           {
            "fillpattern": {
             "fillmode": "overlay",
             "size": 10,
             "solidity": 0.2
            },
            "type": "scatter"
           }
          ],
          "scatter3d": [
           {
            "line": {
             "colorbar": {
              "outlinewidth": 0,
              "ticks": ""
             }
            },
            "marker": {
             "colorbar": {
              "outlinewidth": 0,
              "ticks": ""
             }
            },
            "type": "scatter3d"
           }
          ],
          "scattercarpet": [
           {
            "marker": {
             "colorbar": {
              "outlinewidth": 0,
              "ticks": ""
             }
            },
            "type": "scattercarpet"
           }
          ],
          "scattergeo": [
           {
            "marker": {
             "colorbar": {
              "outlinewidth": 0,
              "ticks": ""
             }
            },
            "type": "scattergeo"
           }
          ],
          "scattergl": [
           {
            "marker": {
             "colorbar": {
              "outlinewidth": 0,
              "ticks": ""
             }
            },
            "type": "scattergl"
           }
          ],
          "scattermapbox": [
           {
            "marker": {
             "colorbar": {
              "outlinewidth": 0,
              "ticks": ""
             }
            },
            "type": "scattermapbox"
           }
          ],
          "scatterpolar": [
           {
            "marker": {
             "colorbar": {
              "outlinewidth": 0,
              "ticks": ""
             }
            },
            "type": "scatterpolar"
           }
          ],
          "scatterpolargl": [
           {
            "marker": {
             "colorbar": {
              "outlinewidth": 0,
              "ticks": ""
             }
            },
            "type": "scatterpolargl"
           }
          ],
          "scatterternary": [
           {
            "marker": {
             "colorbar": {
              "outlinewidth": 0,
              "ticks": ""
             }
            },
            "type": "scatterternary"
           }
          ],
          "surface": [
           {
            "colorbar": {
             "outlinewidth": 0,
             "ticks": ""
            },
            "colorscale": [
             [
              0,
              "#0d0887"
             ],
             [
              0.1111111111111111,
              "#46039f"
             ],
             [
              0.2222222222222222,
              "#7201a8"
             ],
             [
              0.3333333333333333,
              "#9c179e"
             ],
             [
              0.4444444444444444,
              "#bd3786"
             ],
             [
              0.5555555555555556,
              "#d8576b"
             ],
             [
              0.6666666666666666,
              "#ed7953"
             ],
             [
              0.7777777777777778,
              "#fb9f3a"
             ],
             [
              0.8888888888888888,
              "#fdca26"
             ],
             [
              1,
              "#f0f921"
             ]
            ],
            "type": "surface"
           }
          ],
          "table": [
           {
            "cells": {
             "fill": {
              "color": "#EBF0F8"
             },
             "line": {
              "color": "white"
             }
            },
            "header": {
             "fill": {
              "color": "#C8D4E3"
             },
             "line": {
              "color": "white"
             }
            },
            "type": "table"
           }
          ]
         },
         "layout": {
          "annotationdefaults": {
           "arrowcolor": "#2a3f5f",
           "arrowhead": 0,
           "arrowwidth": 1
          },
          "autotypenumbers": "strict",
          "coloraxis": {
           "colorbar": {
            "outlinewidth": 0,
            "ticks": ""
           }
          },
          "colorscale": {
           "diverging": [
            [
             0,
             "#8e0152"
            ],
            [
             0.1,
             "#c51b7d"
            ],
            [
             0.2,
             "#de77ae"
            ],
            [
             0.3,
             "#f1b6da"
            ],
            [
             0.4,
             "#fde0ef"
            ],
            [
             0.5,
             "#f7f7f7"
            ],
            [
             0.6,
             "#e6f5d0"
            ],
            [
             0.7,
             "#b8e186"
            ],
            [
             0.8,
             "#7fbc41"
            ],
            [
             0.9,
             "#4d9221"
            ],
            [
             1,
             "#276419"
            ]
           ],
           "sequential": [
            [
             0,
             "#0d0887"
            ],
            [
             0.1111111111111111,
             "#46039f"
            ],
            [
             0.2222222222222222,
             "#7201a8"
            ],
            [
             0.3333333333333333,
             "#9c179e"
            ],
            [
             0.4444444444444444,
             "#bd3786"
            ],
            [
             0.5555555555555556,
             "#d8576b"
            ],
            [
             0.6666666666666666,
             "#ed7953"
            ],
            [
             0.7777777777777778,
             "#fb9f3a"
            ],
            [
             0.8888888888888888,
             "#fdca26"
            ],
            [
             1,
             "#f0f921"
            ]
           ],
           "sequentialminus": [
            [
             0,
             "#0d0887"
            ],
            [
             0.1111111111111111,
             "#46039f"
            ],
            [
             0.2222222222222222,
             "#7201a8"
            ],
            [
             0.3333333333333333,
             "#9c179e"
            ],
            [
             0.4444444444444444,
             "#bd3786"
            ],
            [
             0.5555555555555556,
             "#d8576b"
            ],
            [
             0.6666666666666666,
             "#ed7953"
            ],
            [
             0.7777777777777778,
             "#fb9f3a"
            ],
            [
             0.8888888888888888,
             "#fdca26"
            ],
            [
             1,
             "#f0f921"
            ]
           ]
          },
          "colorway": [
           "#636efa",
           "#EF553B",
           "#00cc96",
           "#ab63fa",
           "#FFA15A",
           "#19d3f3",
           "#FF6692",
           "#B6E880",
           "#FF97FF",
           "#FECB52"
          ],
          "font": {
           "color": "#2a3f5f"
          },
          "geo": {
           "bgcolor": "white",
           "lakecolor": "white",
           "landcolor": "#E5ECF6",
           "showlakes": true,
           "showland": true,
           "subunitcolor": "white"
          },
          "hoverlabel": {
           "align": "left"
          },
          "hovermode": "closest",
          "mapbox": {
           "style": "light"
          },
          "paper_bgcolor": "white",
          "plot_bgcolor": "#E5ECF6",
          "polar": {
           "angularaxis": {
            "gridcolor": "white",
            "linecolor": "white",
            "ticks": ""
           },
           "bgcolor": "#E5ECF6",
           "radialaxis": {
            "gridcolor": "white",
            "linecolor": "white",
            "ticks": ""
           }
          },
          "scene": {
           "xaxis": {
            "backgroundcolor": "#E5ECF6",
            "gridcolor": "white",
            "gridwidth": 2,
            "linecolor": "white",
            "showbackground": true,
            "ticks": "",
            "zerolinecolor": "white"
           },
           "yaxis": {
            "backgroundcolor": "#E5ECF6",
            "gridcolor": "white",
            "gridwidth": 2,
            "linecolor": "white",
            "showbackground": true,
            "ticks": "",
            "zerolinecolor": "white"
           },
           "zaxis": {
            "backgroundcolor": "#E5ECF6",
            "gridcolor": "white",
            "gridwidth": 2,
            "linecolor": "white",
            "showbackground": true,
            "ticks": "",
            "zerolinecolor": "white"
           }
          },
          "shapedefaults": {
           "line": {
            "color": "#2a3f5f"
           }
          },
          "ternary": {
           "aaxis": {
            "gridcolor": "white",
            "linecolor": "white",
            "ticks": ""
           },
           "baxis": {
            "gridcolor": "white",
            "linecolor": "white",
            "ticks": ""
           },
           "bgcolor": "#E5ECF6",
           "caxis": {
            "gridcolor": "white",
            "linecolor": "white",
            "ticks": ""
           }
          },
          "title": {
           "x": 0.05
          },
          "xaxis": {
           "automargin": true,
           "gridcolor": "white",
           "linecolor": "white",
           "ticks": "",
           "title": {
            "standoff": 15
           },
           "zerolinecolor": "white",
           "zerolinewidth": 2
          },
          "yaxis": {
           "automargin": true,
           "gridcolor": "white",
           "linecolor": "white",
           "ticks": "",
           "title": {
            "standoff": 15
           },
           "zerolinecolor": "white",
           "zerolinewidth": 2
          }
         }
        },
        "title": {
         "text": "<b>Daily and Hourly Activity of Genders<b>"
        },
        "width": 1000,
        "xaxis": {
         "anchor": "y",
         "domain": [
          0,
          1
         ],
         "tickfont": {
          "size": 14
         },
         "title": {
          "text": "<b>Date<b>"
         }
        },
        "xaxis2": {
         "anchor": "y2",
         "domain": [
          0,
          1
         ],
         "tickfont": {
          "size": 14
         },
         "title": {
          "text": "<b>Hour<b>"
         }
        },
        "yaxis": {
         "anchor": "x",
         "domain": [
          0.6000000000000001,
          1
         ],
         "range": [
          0,
          4
         ],
         "type": "log"
        },
        "yaxis2": {
         "anchor": "x2",
         "domain": [
          0,
          0.4
         ],
         "range": [
          0,
          4
         ],
         "type": "log"
        }
       }
      }
     },
     "metadata": {},
     "output_type": "display_data"
    }
   ],
   "source": [
    "daily_hourly_activity_feature_bar_distribution(\n",
    "    df_ = df, feature_ = 'gender', yrange = [0, 4],\n",
    "    subplot_titles_ = ['<b>Daily<b>', '<b>Monthly<b>'],\n",
    "    title_ = '<b>Daily and Hourly Activity of Genders<b>',\n",
    "    height_ = 750, width_ = 1000\n",
    "    )"
   ]
  },
  {
   "cell_type": "markdown",
   "id": "03e32b90",
   "metadata": {},
   "source": [
    "# Age"
   ]
  },
  {
   "cell_type": "markdown",
   "id": "558c5c75",
   "metadata": {},
   "source": [
    "### Age Distribution"
   ]
  },
  {
   "cell_type": "code",
   "execution_count": null,
   "id": "bc785b62",
   "metadata": {},
   "outputs": [],
   "source": [
    "multiple_subset_bar(df_ = df, feature_ = 'age', yrange = [0, 800])"
   ]
  },
  {
   "cell_type": "markdown",
   "id": "c42d84e0",
   "metadata": {},
   "source": [
    "#### Average readtime per age group"
   ]
  },
  {
   "cell_type": "code",
   "execution_count": null,
   "id": "ea38a806",
   "metadata": {},
   "outputs": [],
   "source": [
    "multiple_subset_feature_visualization(df_ =df,  feature_1 = 'age', feature_2 = 'read_time')"
   ]
  },
  {
   "cell_type": "markdown",
   "id": "c3883ce0",
   "metadata": {},
   "source": [
    "#### Average Scroll PCt per age group"
   ]
  },
  {
   "cell_type": "code",
   "execution_count": null,
   "id": "477b30cf",
   "metadata": {},
   "outputs": [],
   "source": [
    "multiple_subset_feature_visualization(df_ =df,  feature_1 = 'age', feature_2 = 'scroll_percentage')"
   ]
  },
  {
   "cell_type": "markdown",
   "id": "2fa72d5e",
   "metadata": {},
   "source": [
    "### Topics"
   ]
  },
  {
   "cell_type": "code",
   "execution_count": null,
   "id": "c2d5c5be",
   "metadata": {},
   "outputs": [],
   "source": [
    "# Get all the unique topics\n",
    "topic_list = unique_subset_topics(df)\n",
    "unique_topics = sorted(topic_list)\n",
    "\n",
    "topic_feature_bar_distribution(\n",
    "    df_ = df, feature_ = 'age', yrange = [0, 2.5],\n",
    "    topic_list_ = unique_topics ,\n",
    "    subplot_titles_ = [\n",
    "        '<b>20-29<b>', '<b>30-39<b>', '<b>40-49<b>',\n",
    "     '<b>50-59<b>', '<b>60-69<b>', '<b>70-79<b>',\n",
    "     '<b>80-89<b>', '<b>90-99<b>'\n",
    "     ],\n",
    "    xaxis_title = '<b>Topics<b>', yaxis_title = '<b>Count<b>',\n",
    "    title_ = '<b>Topic Distribution of Age Groups<b>',\n",
    "    height_ = 850, width_ = 1000\n",
    "    )"
   ]
  },
  {
   "cell_type": "markdown",
   "id": "cb2106c5",
   "metadata": {},
   "source": [
    "### Activity"
   ]
  },
  {
   "cell_type": "code",
   "execution_count": 391,
   "id": "41764352",
   "metadata": {},
   "outputs": [
    {
     "data": {
      "application/vnd.plotly.v1+json": {
       "config": {
        "plotlyServerURL": "https://plot.ly"
       },
       "data": [
        {
         "mode": "lines+markers+text",
         "name": "Daily 20 - 29",
         "type": "scatter",
         "x": [
          "2023-05-18",
          "2023-05-20",
          "2023-05-22",
          "2023-05-23",
          "2023-05-24"
         ],
         "xaxis": "x",
         "y": [
          4,
          6,
          12,
          2,
          2
         ],
         "yaxis": "y"
        },
        {
         "mode": "markers+text",
         "name": "Hourly 20 - 29",
         "type": "scatter",
         "x": [
          "08:00",
          "11:00",
          "12:00",
          "13:00",
          "14:00",
          "19:00"
         ],
         "xaxis": "x2",
         "y": [
          5,
          2,
          1,
          1,
          1,
          15
         ],
         "yaxis": "y2"
        },
        {
         "mode": "lines+markers+text",
         "name": "Daily 30 - 39",
         "type": "scatter",
         "x": [
          "2023-05-18",
          "2023-05-19",
          "2023-05-20",
          "2023-05-21",
          "2023-05-22",
          "2023-05-23",
          "2023-05-24"
         ],
         "xaxis": "x",
         "y": [
          8,
          20,
          14,
          9,
          15,
          11,
          13
         ],
         "yaxis": "y"
        },
        {
         "mode": "markers+text",
         "name": "Hourly 30 - 39",
         "type": "scatter",
         "x": [
          "00:00",
          "01:00",
          "03:00",
          "05:00",
          "06:00",
          "07:00",
          "08:00",
          "09:00",
          "10:00",
          "11:00",
          "12:00",
          "13:00",
          "14:00",
          "15:00",
          "16:00",
          "17:00",
          "18:00",
          "19:00",
          "20:00",
          "21:00"
         ],
         "xaxis": "x2",
         "y": [
          1,
          3,
          0,
          8,
          2,
          6,
          6,
          1,
          5,
          4,
          6,
          4,
          1,
          0,
          2,
          11,
          6,
          9,
          2,
          0
         ],
         "yaxis": "y2"
        },
        {
         "mode": "lines+markers+text",
         "name": "Daily 40 - 49",
         "type": "scatter",
         "x": [
          "2023-05-18",
          "2023-05-19",
          "2023-05-20",
          "2023-05-21",
          "2023-05-22",
          "2023-05-23",
          "2023-05-24",
          "2023-05-25"
         ],
         "xaxis": "x",
         "y": [
          20,
          48,
          29,
          38,
          33,
          23,
          44,
          5
         ],
         "yaxis": "y"
        },
        {
         "mode": "markers+text",
         "name": "Hourly 40 - 49",
         "type": "scatter",
         "x": [
          "00:00",
          "01:00",
          "02:00",
          "03:00",
          "04:00",
          "05:00",
          "06:00",
          "07:00",
          "08:00",
          "09:00",
          "10:00",
          "11:00",
          "12:00",
          "13:00",
          "14:00",
          "15:00",
          "16:00",
          "17:00",
          "18:00",
          "19:00",
          "20:00",
          "21:00",
          "22:00",
          "23:00"
         ],
         "xaxis": "x2",
         "y": [
          1,
          0,
          4,
          7,
          6,
          13,
          22,
          9,
          10,
          13,
          11,
          6,
          13,
          12,
          10,
          7,
          24,
          12,
          13,
          18,
          3,
          8,
          2,
          0
         ],
         "yaxis": "y2"
        },
        {
         "mode": "lines+markers+text",
         "name": "Daily 50 - 59",
         "type": "scatter",
         "x": [
          "2023-05-18",
          "2023-05-19",
          "2023-05-20",
          "2023-05-21",
          "2023-05-22",
          "2023-05-23",
          "2023-05-24",
          "2023-05-25"
         ],
         "xaxis": "x",
         "y": [
          68,
          106,
          92,
          86,
          97,
          112,
          101,
          25
         ],
         "yaxis": "y"
        },
        {
         "mode": "markers+text",
         "name": "Hourly 50 - 59",
         "type": "scatter",
         "x": [
          "00:00",
          "01:00",
          "02:00",
          "03:00",
          "04:00",
          "05:00",
          "06:00",
          "07:00",
          "08:00",
          "09:00",
          "10:00",
          "11:00",
          "12:00",
          "13:00",
          "14:00",
          "15:00",
          "16:00",
          "17:00",
          "18:00",
          "19:00",
          "20:00",
          "21:00",
          "22:00",
          "23:00"
         ],
         "xaxis": "x2",
         "y": [
          3,
          4,
          6,
          12,
          39,
          34,
          61,
          31,
          29,
          22,
          27,
          19,
          37,
          39,
          42,
          11,
          25,
          52,
          52,
          31,
          34,
          40,
          7,
          14
         ],
         "yaxis": "y2"
        },
        {
         "mode": "lines+markers+text",
         "name": "Daily 60 - 69",
         "type": "scatter",
         "x": [
          "2023-05-18",
          "2023-05-19",
          "2023-05-20",
          "2023-05-21",
          "2023-05-22",
          "2023-05-23",
          "2023-05-24",
          "2023-05-25"
         ],
         "xaxis": "x",
         "y": [
          49,
          111,
          67,
          104,
          89,
          85,
          105,
          26
         ],
         "yaxis": "y"
        },
        {
         "mode": "markers+text",
         "name": "Hourly 60 - 69",
         "type": "scatter",
         "x": [
          "00:00",
          "01:00",
          "02:00",
          "03:00",
          "04:00",
          "05:00",
          "06:00",
          "07:00",
          "08:00",
          "09:00",
          "10:00",
          "11:00",
          "12:00",
          "13:00",
          "14:00",
          "15:00",
          "16:00",
          "17:00",
          "18:00",
          "19:00",
          "20:00",
          "21:00",
          "22:00",
          "23:00"
         ],
         "xaxis": "x2",
         "y": [
          5,
          10,
          10,
          16,
          73,
          27,
          38,
          40,
          32,
          24,
          17,
          46,
          33,
          30,
          24,
          20,
          45,
          33,
          26,
          28,
          21,
          15,
          4,
          3
         ],
         "yaxis": "y2"
        },
        {
         "mode": "lines+markers+text",
         "name": "Daily 70 - 79",
         "type": "scatter",
         "x": [
          "2023-05-18",
          "2023-05-19",
          "2023-05-20",
          "2023-05-21",
          "2023-05-22",
          "2023-05-23",
          "2023-05-24",
          "2023-05-25"
         ],
         "xaxis": "x",
         "y": [
          77,
          82,
          83,
          75,
          86,
          75,
          96,
          14
         ],
         "yaxis": "y"
        },
        {
         "mode": "markers+text",
         "name": "Hourly 70 - 79",
         "type": "scatter",
         "x": [
          "02:00",
          "03:00",
          "04:00",
          "05:00",
          "06:00",
          "07:00",
          "08:00",
          "09:00",
          "10:00",
          "11:00",
          "12:00",
          "13:00",
          "14:00",
          "15:00",
          "16:00",
          "17:00",
          "18:00",
          "19:00",
          "20:00",
          "21:00",
          "22:00",
          "23:00"
         ],
         "xaxis": "x2",
         "y": [
          4,
          3,
          23,
          36,
          39,
          74,
          34,
          39,
          13,
          7,
          41,
          35,
          17,
          13,
          31,
          48,
          18,
          19,
          14,
          18,
          40,
          8
         ],
         "yaxis": "y2"
        },
        {
         "mode": "lines+markers+text",
         "name": "Daily 80 - 89",
         "type": "scatter",
         "x": [
          "2023-05-18",
          "2023-05-19",
          "2023-05-20",
          "2023-05-21",
          "2023-05-22",
          "2023-05-23",
          "2023-05-24",
          "2023-05-25"
         ],
         "xaxis": "x",
         "y": [
          6,
          8,
          20,
          16,
          10,
          10,
          17,
          0
         ],
         "yaxis": "y"
        },
        {
         "mode": "markers+text",
         "name": "Hourly 80 - 89",
         "type": "scatter",
         "x": [
          "04:00",
          "05:00",
          "06:00",
          "07:00",
          "08:00",
          "09:00",
          "10:00",
          "11:00",
          "12:00",
          "13:00",
          "14:00",
          "15:00",
          "17:00",
          "18:00",
          "19:00",
          "20:00",
          "21:00"
         ],
         "xaxis": "x2",
         "y": [
          2,
          1,
          7,
          0,
          0,
          2,
          5,
          0,
          5,
          4,
          9,
          5,
          5,
          11,
          11,
          10,
          1
         ],
         "yaxis": "y2"
        },
        {
         "mode": "lines+markers+text",
         "name": "Daily 90 - 99",
         "type": "scatter",
         "x": [
          "2023-05-18",
          "2023-05-19",
          "2023-05-20",
          "2023-05-21",
          "2023-05-22",
          "2023-05-23",
          "2023-05-24",
          "2023-05-25"
         ],
         "xaxis": "x",
         "y": [
          9,
          0,
          2,
          5,
          9,
          6,
          2,
          2
         ],
         "yaxis": "y"
        },
        {
         "mode": "markers+text",
         "name": "Hourly 90 - 99",
         "type": "scatter",
         "x": [
          "06:00",
          "07:00",
          "08:00",
          "13:00",
          "15:00",
          "17:00",
          "19:00",
          "21:00",
          "22:00"
         ],
         "xaxis": "x2",
         "y": [
          2,
          11,
          5,
          4,
          3,
          1,
          0,
          7,
          1
         ],
         "yaxis": "y2"
        }
       ],
       "layout": {
        "annotations": [
         {
          "font": {
           "size": 16
          },
          "showarrow": false,
          "text": "<b>Daily<b>",
          "x": 0.5,
          "xanchor": "center",
          "xref": "paper",
          "y": 1,
          "yanchor": "bottom",
          "yref": "paper"
         },
         {
          "font": {
           "size": 16
          },
          "showarrow": false,
          "text": "<b>Monthly<b>",
          "x": 0.5,
          "xanchor": "center",
          "xref": "paper",
          "y": 0.4,
          "yanchor": "bottom",
          "yref": "paper"
         },
         {
          "font": {
           "size": 16
          },
          "showarrow": false,
          "text": "Count",
          "textangle": -90,
          "x": 0,
          "xanchor": "right",
          "xref": "paper",
          "xshift": -40,
          "y": 0.5,
          "yanchor": "middle",
          "yref": "paper"
         }
        ],
        "font": {
         "family": "Courier New, monospace",
         "size": 14
        },
        "height": 750,
        "margin": {
         "b": 50,
         "l": 100,
         "pad": 0,
         "r": 50,
         "t": 100
        },
        "template": {
         "data": {
          "bar": [
           {
            "error_x": {
             "color": "#2a3f5f"
            },
            "error_y": {
             "color": "#2a3f5f"
            },
            "marker": {
             "line": {
              "color": "#E5ECF6",
              "width": 0.5
             },
             "pattern": {
              "fillmode": "overlay",
              "size": 10,
              "solidity": 0.2
             }
            },
            "type": "bar"
           }
          ],
          "barpolar": [
           {
            "marker": {
             "line": {
              "color": "#E5ECF6",
              "width": 0.5
             },
             "pattern": {
              "fillmode": "overlay",
              "size": 10,
              "solidity": 0.2
             }
            },
            "type": "barpolar"
           }
          ],
          "carpet": [
           {
            "aaxis": {
             "endlinecolor": "#2a3f5f",
             "gridcolor": "white",
             "linecolor": "white",
             "minorgridcolor": "white",
             "startlinecolor": "#2a3f5f"
            },
            "baxis": {
             "endlinecolor": "#2a3f5f",
             "gridcolor": "white",
             "linecolor": "white",
             "minorgridcolor": "white",
             "startlinecolor": "#2a3f5f"
            },
            "type": "carpet"
           }
          ],
          "choropleth": [
           {
            "colorbar": {
             "outlinewidth": 0,
             "ticks": ""
            },
            "type": "choropleth"
           }
          ],
          "contour": [
           {
            "colorbar": {
             "outlinewidth": 0,
             "ticks": ""
            },
            "colorscale": [
             [
              0,
              "#0d0887"
             ],
             [
              0.1111111111111111,
              "#46039f"
             ],
             [
              0.2222222222222222,
              "#7201a8"
             ],
             [
              0.3333333333333333,
              "#9c179e"
             ],
             [
              0.4444444444444444,
              "#bd3786"
             ],
             [
              0.5555555555555556,
              "#d8576b"
             ],
             [
              0.6666666666666666,
              "#ed7953"
             ],
             [
              0.7777777777777778,
              "#fb9f3a"
             ],
             [
              0.8888888888888888,
              "#fdca26"
             ],
             [
              1,
              "#f0f921"
             ]
            ],
            "type": "contour"
           }
          ],
          "contourcarpet": [
           {
            "colorbar": {
             "outlinewidth": 0,
             "ticks": ""
            },
            "type": "contourcarpet"
           }
          ],
          "heatmap": [
           {
            "colorbar": {
             "outlinewidth": 0,
             "ticks": ""
            },
            "colorscale": [
             [
              0,
              "#0d0887"
             ],
             [
              0.1111111111111111,
              "#46039f"
             ],
             [
              0.2222222222222222,
              "#7201a8"
             ],
             [
              0.3333333333333333,
              "#9c179e"
             ],
             [
              0.4444444444444444,
              "#bd3786"
             ],
             [
              0.5555555555555556,
              "#d8576b"
             ],
             [
              0.6666666666666666,
              "#ed7953"
             ],
             [
              0.7777777777777778,
              "#fb9f3a"
             ],
             [
              0.8888888888888888,
              "#fdca26"
             ],
             [
              1,
              "#f0f921"
             ]
            ],
            "type": "heatmap"
           }
          ],
          "heatmapgl": [
           {
            "colorbar": {
             "outlinewidth": 0,
             "ticks": ""
            },
            "colorscale": [
             [
              0,
              "#0d0887"
             ],
             [
              0.1111111111111111,
              "#46039f"
             ],
             [
              0.2222222222222222,
              "#7201a8"
             ],
             [
              0.3333333333333333,
              "#9c179e"
             ],
             [
              0.4444444444444444,
              "#bd3786"
             ],
             [
              0.5555555555555556,
              "#d8576b"
             ],
             [
              0.6666666666666666,
              "#ed7953"
             ],
             [
              0.7777777777777778,
              "#fb9f3a"
             ],
             [
              0.8888888888888888,
              "#fdca26"
             ],
             [
              1,
              "#f0f921"
             ]
            ],
            "type": "heatmapgl"
           }
          ],
          "histogram": [
           {
            "marker": {
             "pattern": {
              "fillmode": "overlay",
              "size": 10,
              "solidity": 0.2
             }
            },
            "type": "histogram"
           }
          ],
          "histogram2d": [
           {
            "colorbar": {
             "outlinewidth": 0,
             "ticks": ""
            },
            "colorscale": [
             [
              0,
              "#0d0887"
             ],
             [
              0.1111111111111111,
              "#46039f"
             ],
             [
              0.2222222222222222,
              "#7201a8"
             ],
             [
              0.3333333333333333,
              "#9c179e"
             ],
             [
              0.4444444444444444,
              "#bd3786"
             ],
             [
              0.5555555555555556,
              "#d8576b"
             ],
             [
              0.6666666666666666,
              "#ed7953"
             ],
             [
              0.7777777777777778,
              "#fb9f3a"
             ],
             [
              0.8888888888888888,
              "#fdca26"
             ],
             [
              1,
              "#f0f921"
             ]
            ],
            "type": "histogram2d"
           }
          ],
          "histogram2dcontour": [
           {
            "colorbar": {
             "outlinewidth": 0,
             "ticks": ""
            },
            "colorscale": [
             [
              0,
              "#0d0887"
             ],
             [
              0.1111111111111111,
              "#46039f"
             ],
             [
              0.2222222222222222,
              "#7201a8"
             ],
             [
              0.3333333333333333,
              "#9c179e"
             ],
             [
              0.4444444444444444,
              "#bd3786"
             ],
             [
              0.5555555555555556,
              "#d8576b"
             ],
             [
              0.6666666666666666,
              "#ed7953"
             ],
             [
              0.7777777777777778,
              "#fb9f3a"
             ],
             [
              0.8888888888888888,
              "#fdca26"
             ],
             [
              1,
              "#f0f921"
             ]
            ],
            "type": "histogram2dcontour"
           }
          ],
          "mesh3d": [
           {
            "colorbar": {
             "outlinewidth": 0,
             "ticks": ""
            },
            "type": "mesh3d"
           }
          ],
          "parcoords": [
           {
            "line": {
             "colorbar": {
              "outlinewidth": 0,
              "ticks": ""
             }
            },
            "type": "parcoords"
           }
          ],
          "pie": [
           {
            "automargin": true,
            "type": "pie"
           }
          ],
          "scatter": [
           {
            "fillpattern": {
             "fillmode": "overlay",
             "size": 10,
             "solidity": 0.2
            },
            "type": "scatter"
           }
          ],
          "scatter3d": [
           {
            "line": {
             "colorbar": {
              "outlinewidth": 0,
              "ticks": ""
             }
            },
            "marker": {
             "colorbar": {
              "outlinewidth": 0,
              "ticks": ""
             }
            },
            "type": "scatter3d"
           }
          ],
          "scattercarpet": [
           {
            "marker": {
             "colorbar": {
              "outlinewidth": 0,
              "ticks": ""
             }
            },
            "type": "scattercarpet"
           }
          ],
          "scattergeo": [
           {
            "marker": {
             "colorbar": {
              "outlinewidth": 0,
              "ticks": ""
             }
            },
            "type": "scattergeo"
           }
          ],
          "scattergl": [
           {
            "marker": {
             "colorbar": {
              "outlinewidth": 0,
              "ticks": ""
             }
            },
            "type": "scattergl"
           }
          ],
          "scattermapbox": [
           {
            "marker": {
             "colorbar": {
              "outlinewidth": 0,
              "ticks": ""
             }
            },
            "type": "scattermapbox"
           }
          ],
          "scatterpolar": [
           {
            "marker": {
             "colorbar": {
              "outlinewidth": 0,
              "ticks": ""
             }
            },
            "type": "scatterpolar"
           }
          ],
          "scatterpolargl": [
           {
            "marker": {
             "colorbar": {
              "outlinewidth": 0,
              "ticks": ""
             }
            },
            "type": "scatterpolargl"
           }
          ],
          "scatterternary": [
           {
            "marker": {
             "colorbar": {
              "outlinewidth": 0,
              "ticks": ""
             }
            },
            "type": "scatterternary"
           }
          ],
          "surface": [
           {
            "colorbar": {
             "outlinewidth": 0,
             "ticks": ""
            },
            "colorscale": [
             [
              0,
              "#0d0887"
             ],
             [
              0.1111111111111111,
              "#46039f"
             ],
             [
              0.2222222222222222,
              "#7201a8"
             ],
             [
              0.3333333333333333,
              "#9c179e"
             ],
             [
              0.4444444444444444,
              "#bd3786"
             ],
             [
              0.5555555555555556,
              "#d8576b"
             ],
             [
              0.6666666666666666,
              "#ed7953"
             ],
             [
              0.7777777777777778,
              "#fb9f3a"
             ],
             [
              0.8888888888888888,
              "#fdca26"
             ],
             [
              1,
              "#f0f921"
             ]
            ],
            "type": "surface"
           }
          ],
          "table": [
           {
            "cells": {
             "fill": {
              "color": "#EBF0F8"
             },
             "line": {
              "color": "white"
             }
            },
            "header": {
             "fill": {
              "color": "#C8D4E3"
             },
             "line": {
              "color": "white"
             }
            },
            "type": "table"
           }
          ]
         },
         "layout": {
          "annotationdefaults": {
           "arrowcolor": "#2a3f5f",
           "arrowhead": 0,
           "arrowwidth": 1
          },
          "autotypenumbers": "strict",
          "coloraxis": {
           "colorbar": {
            "outlinewidth": 0,
            "ticks": ""
           }
          },
          "colorscale": {
           "diverging": [
            [
             0,
             "#8e0152"
            ],
            [
             0.1,
             "#c51b7d"
            ],
            [
             0.2,
             "#de77ae"
            ],
            [
             0.3,
             "#f1b6da"
            ],
            [
             0.4,
             "#fde0ef"
            ],
            [
             0.5,
             "#f7f7f7"
            ],
            [
             0.6,
             "#e6f5d0"
            ],
            [
             0.7,
             "#b8e186"
            ],
            [
             0.8,
             "#7fbc41"
            ],
            [
             0.9,
             "#4d9221"
            ],
            [
             1,
             "#276419"
            ]
           ],
           "sequential": [
            [
             0,
             "#0d0887"
            ],
            [
             0.1111111111111111,
             "#46039f"
            ],
            [
             0.2222222222222222,
             "#7201a8"
            ],
            [
             0.3333333333333333,
             "#9c179e"
            ],
            [
             0.4444444444444444,
             "#bd3786"
            ],
            [
             0.5555555555555556,
             "#d8576b"
            ],
            [
             0.6666666666666666,
             "#ed7953"
            ],
            [
             0.7777777777777778,
             "#fb9f3a"
            ],
            [
             0.8888888888888888,
             "#fdca26"
            ],
            [
             1,
             "#f0f921"
            ]
           ],
           "sequentialminus": [
            [
             0,
             "#0d0887"
            ],
            [
             0.1111111111111111,
             "#46039f"
            ],
            [
             0.2222222222222222,
             "#7201a8"
            ],
            [
             0.3333333333333333,
             "#9c179e"
            ],
            [
             0.4444444444444444,
             "#bd3786"
            ],
            [
             0.5555555555555556,
             "#d8576b"
            ],
            [
             0.6666666666666666,
             "#ed7953"
            ],
            [
             0.7777777777777778,
             "#fb9f3a"
            ],
            [
             0.8888888888888888,
             "#fdca26"
            ],
            [
             1,
             "#f0f921"
            ]
           ]
          },
          "colorway": [
           "#636efa",
           "#EF553B",
           "#00cc96",
           "#ab63fa",
           "#FFA15A",
           "#19d3f3",
           "#FF6692",
           "#B6E880",
           "#FF97FF",
           "#FECB52"
          ],
          "font": {
           "color": "#2a3f5f"
          },
          "geo": {
           "bgcolor": "white",
           "lakecolor": "white",
           "landcolor": "#E5ECF6",
           "showlakes": true,
           "showland": true,
           "subunitcolor": "white"
          },
          "hoverlabel": {
           "align": "left"
          },
          "hovermode": "closest",
          "mapbox": {
           "style": "light"
          },
          "paper_bgcolor": "white",
          "plot_bgcolor": "#E5ECF6",
          "polar": {
           "angularaxis": {
            "gridcolor": "white",
            "linecolor": "white",
            "ticks": ""
           },
           "bgcolor": "#E5ECF6",
           "radialaxis": {
            "gridcolor": "white",
            "linecolor": "white",
            "ticks": ""
           }
          },
          "scene": {
           "xaxis": {
            "backgroundcolor": "#E5ECF6",
            "gridcolor": "white",
            "gridwidth": 2,
            "linecolor": "white",
            "showbackground": true,
            "ticks": "",
            "zerolinecolor": "white"
           },
           "yaxis": {
            "backgroundcolor": "#E5ECF6",
            "gridcolor": "white",
            "gridwidth": 2,
            "linecolor": "white",
            "showbackground": true,
            "ticks": "",
            "zerolinecolor": "white"
           },
           "zaxis": {
            "backgroundcolor": "#E5ECF6",
            "gridcolor": "white",
            "gridwidth": 2,
            "linecolor": "white",
            "showbackground": true,
            "ticks": "",
            "zerolinecolor": "white"
           }
          },
          "shapedefaults": {
           "line": {
            "color": "#2a3f5f"
           }
          },
          "ternary": {
           "aaxis": {
            "gridcolor": "white",
            "linecolor": "white",
            "ticks": ""
           },
           "baxis": {
            "gridcolor": "white",
            "linecolor": "white",
            "ticks": ""
           },
           "bgcolor": "#E5ECF6",
           "caxis": {
            "gridcolor": "white",
            "linecolor": "white",
            "ticks": ""
           }
          },
          "title": {
           "x": 0.05
          },
          "xaxis": {
           "automargin": true,
           "gridcolor": "white",
           "linecolor": "white",
           "ticks": "",
           "title": {
            "standoff": 15
           },
           "zerolinecolor": "white",
           "zerolinewidth": 2
          },
          "yaxis": {
           "automargin": true,
           "gridcolor": "white",
           "linecolor": "white",
           "ticks": "",
           "title": {
            "standoff": 15
           },
           "zerolinecolor": "white",
           "zerolinewidth": 2
          }
         }
        },
        "title": {
         "text": "<b>Daily and Hourly Activity of Age Groups<b>"
        },
        "width": 1000,
        "xaxis": {
         "anchor": "y",
         "domain": [
          0,
          1
         ],
         "tickfont": {
          "size": 14
         },
         "title": {
          "text": "<b>Date<b>"
         }
        },
        "xaxis2": {
         "anchor": "y2",
         "domain": [
          0,
          1
         ],
         "tickfont": {
          "size": 14
         },
         "title": {
          "text": "<b>Hour<b>"
         }
        },
        "yaxis": {
         "anchor": "x",
         "domain": [
          0.6000000000000001,
          1
         ],
         "range": [
          0,
          2.5
         ],
         "type": "log"
        },
        "yaxis2": {
         "anchor": "x2",
         "domain": [
          0,
          0.4
         ],
         "range": [
          0,
          2.5
         ],
         "type": "log"
        }
       }
      }
     },
     "metadata": {},
     "output_type": "display_data"
    }
   ],
   "source": [
    "daily_hourly_activity_feature_bar_distribution(\n",
    "    df_ = df, feature_ = 'age', yrange = [0, 2.5],\n",
    "    subplot_titles_ = ['<b>Daily<b>', '<b>Monthly<b>'],\n",
    "    title_ = '<b>Daily and Hourly Activity of Age Groups<b>',\n",
    "    height_ = 750, width_ = 1000\n",
    "    )"
   ]
  },
  {
   "cell_type": "markdown",
   "id": "06e40744",
   "metadata": {},
   "source": [
    "# Postcodes"
   ]
  },
  {
   "cell_type": "markdown",
   "id": "0b31209f",
   "metadata": {},
   "source": [
    "### Distribution of Post Codes"
   ]
  },
  {
   "cell_type": "code",
   "execution_count": null,
   "id": "aec2f412",
   "metadata": {},
   "outputs": [],
   "source": [
    "multiple_subset_bar(df_ = df, feature_ = 'postcode', yrange = [0, 800])"
   ]
  },
  {
   "cell_type": "markdown",
   "id": "0ae5a212",
   "metadata": {},
   "source": [
    "### Average Read Time in each postal code"
   ]
  },
  {
   "cell_type": "code",
   "execution_count": null,
   "id": "ec6fd3c6",
   "metadata": {},
   "outputs": [],
   "source": [
    "multiple_subset_feature_visualization(df_ =df,  feature_1 = 'postcode', feature_2 = 'read_time')"
   ]
  },
  {
   "cell_type": "markdown",
   "id": "c13bde99",
   "metadata": {},
   "source": [
    "### Average Scroll pct in each postal code"
   ]
  },
  {
   "cell_type": "code",
   "execution_count": null,
   "id": "43deafa8",
   "metadata": {},
   "outputs": [],
   "source": [
    "multiple_subset_feature_visualization(df_ =df,  feature_1 = 'postcode', feature_2 = 'scroll_percentage')"
   ]
  },
  {
   "cell_type": "markdown",
   "id": "f742f798",
   "metadata": {},
   "source": [
    "### Topics"
   ]
  },
  {
   "cell_type": "code",
   "execution_count": 383,
   "id": "1af8c22c",
   "metadata": {},
   "outputs": [
    {
     "data": {
      "text/plain": [
       "array([None, 'Rural District', 'Metropolitan', 'Municipality',\n",
       "       'Provincial', 'Big City'], dtype=object)"
      ]
     },
     "execution_count": 383,
     "metadata": {},
     "output_type": "execute_result"
    }
   ],
   "source": [
    "df['postcode'].unique()"
   ]
  },
  {
   "cell_type": "code",
   "execution_count": 386,
   "id": "f7018e69",
   "metadata": {},
   "outputs": [
    {
     "data": {
      "application/vnd.plotly.v1+json": {
       "config": {
        "plotlyServerURL": "https://plot.ly"
       },
       "data": [
        {
         "name": "Big City",
         "type": "bar",
         "x": [
          "Kendt",
          "Sport",
          "Underholdning",
          "Begivenhed",
          "Kriminalitet"
         ],
         "xaxis": "x",
         "y": [
          99,
          60,
          56,
          55,
          54
         ],
         "yaxis": "y"
        },
        {
         "name": "Metropolitan",
         "type": "bar",
         "x": [
          "Kendt",
          "Sport",
          "Begivenhed",
          "Underholdning",
          "Sportsbegivenhed"
         ],
         "xaxis": "x2",
         "y": [
          233,
          149,
          148,
          121,
          112
         ],
         "yaxis": "y2"
        },
        {
         "name": "Municipality",
         "type": "bar",
         "x": [
          "Kendt",
          "Kriminalitet",
          "Sport",
          "Begivenhed",
          "Underholdning"
         ],
         "xaxis": "x3",
         "y": [
          71,
          48,
          42,
          38,
          36
         ],
         "yaxis": "y3"
        },
        {
         "name": "Provincial",
         "type": "bar",
         "x": [
          "Kendt",
          "Underholdning",
          "Begivenhed",
          "Politik",
          "Sport"
         ],
         "xaxis": "x4",
         "y": [
          118,
          65,
          52,
          51,
          45
         ],
         "yaxis": "y4"
        },
        {
         "name": "Rural District",
         "type": "bar",
         "x": [
          "Kendt",
          "Underholdning",
          "Begivenhed",
          "Sport",
          "Erhverv"
         ],
         "xaxis": "x5",
         "y": [
          131,
          77,
          76,
          71,
          66
         ],
         "yaxis": "y5"
        }
       ],
       "layout": {
        "annotations": [
         {
          "font": {
           "size": 16
          },
          "showarrow": false,
          "text": "<b>Big City<b>",
          "x": 0.225,
          "xanchor": "center",
          "xref": "paper",
          "y": 1,
          "yanchor": "bottom",
          "yref": "paper"
         },
         {
          "font": {
           "size": 16
          },
          "showarrow": false,
          "text": "<b>Metropolitan<b>",
          "x": 0.775,
          "xanchor": "center",
          "xref": "paper",
          "y": 1,
          "yanchor": "bottom",
          "yref": "paper"
         },
         {
          "font": {
           "size": 16
          },
          "showarrow": false,
          "text": "<b>Municiplaity<b>",
          "x": 0.225,
          "xanchor": "center",
          "xref": "paper",
          "y": 0.6,
          "yanchor": "bottom",
          "yref": "paper"
         },
         {
          "font": {
           "size": 16
          },
          "showarrow": false,
          "text": "<b>Provincial<b>",
          "x": 0.775,
          "xanchor": "center",
          "xref": "paper",
          "y": 0.6,
          "yanchor": "bottom",
          "yref": "paper"
         },
         {
          "font": {
           "size": 16
          },
          "showarrow": false,
          "text": "<b>Rural District<b>",
          "x": 0.225,
          "xanchor": "center",
          "xref": "paper",
          "y": 0.19999999999999998,
          "yanchor": "bottom",
          "yref": "paper"
         },
         {
          "font": {
           "size": 16
          },
          "showarrow": false,
          "text": "<b>Topics<b>",
          "x": 0.5,
          "xanchor": "center",
          "xref": "paper",
          "y": 0,
          "yanchor": "top",
          "yref": "paper",
          "yshift": -30
         },
         {
          "font": {
           "size": 16
          },
          "showarrow": false,
          "text": "<b>Count<b>",
          "textangle": -90,
          "x": 0,
          "xanchor": "right",
          "xref": "paper",
          "xshift": -40,
          "y": 0.5,
          "yanchor": "middle",
          "yref": "paper"
         }
        ],
        "font": {
         "family": "Courier New, monospace",
         "size": 14
        },
        "height": 850,
        "margin": {
         "b": 50,
         "l": 100,
         "pad": 0,
         "r": 50,
         "t": 100
        },
        "template": {
         "data": {
          "bar": [
           {
            "error_x": {
             "color": "#2a3f5f"
            },
            "error_y": {
             "color": "#2a3f5f"
            },
            "marker": {
             "line": {
              "color": "#E5ECF6",
              "width": 0.5
             },
             "pattern": {
              "fillmode": "overlay",
              "size": 10,
              "solidity": 0.2
             }
            },
            "type": "bar"
           }
          ],
          "barpolar": [
           {
            "marker": {
             "line": {
              "color": "#E5ECF6",
              "width": 0.5
             },
             "pattern": {
              "fillmode": "overlay",
              "size": 10,
              "solidity": 0.2
             }
            },
            "type": "barpolar"
           }
          ],
          "carpet": [
           {
            "aaxis": {
             "endlinecolor": "#2a3f5f",
             "gridcolor": "white",
             "linecolor": "white",
             "minorgridcolor": "white",
             "startlinecolor": "#2a3f5f"
            },
            "baxis": {
             "endlinecolor": "#2a3f5f",
             "gridcolor": "white",
             "linecolor": "white",
             "minorgridcolor": "white",
             "startlinecolor": "#2a3f5f"
            },
            "type": "carpet"
           }
          ],
          "choropleth": [
           {
            "colorbar": {
             "outlinewidth": 0,
             "ticks": ""
            },
            "type": "choropleth"
           }
          ],
          "contour": [
           {
            "colorbar": {
             "outlinewidth": 0,
             "ticks": ""
            },
            "colorscale": [
             [
              0,
              "#0d0887"
             ],
             [
              0.1111111111111111,
              "#46039f"
             ],
             [
              0.2222222222222222,
              "#7201a8"
             ],
             [
              0.3333333333333333,
              "#9c179e"
             ],
             [
              0.4444444444444444,
              "#bd3786"
             ],
             [
              0.5555555555555556,
              "#d8576b"
             ],
             [
              0.6666666666666666,
              "#ed7953"
             ],
             [
              0.7777777777777778,
              "#fb9f3a"
             ],
             [
              0.8888888888888888,
              "#fdca26"
             ],
             [
              1,
              "#f0f921"
             ]
            ],
            "type": "contour"
           }
          ],
          "contourcarpet": [
           {
            "colorbar": {
             "outlinewidth": 0,
             "ticks": ""
            },
            "type": "contourcarpet"
           }
          ],
          "heatmap": [
           {
            "colorbar": {
             "outlinewidth": 0,
             "ticks": ""
            },
            "colorscale": [
             [
              0,
              "#0d0887"
             ],
             [
              0.1111111111111111,
              "#46039f"
             ],
             [
              0.2222222222222222,
              "#7201a8"
             ],
             [
              0.3333333333333333,
              "#9c179e"
             ],
             [
              0.4444444444444444,
              "#bd3786"
             ],
             [
              0.5555555555555556,
              "#d8576b"
             ],
             [
              0.6666666666666666,
              "#ed7953"
             ],
             [
              0.7777777777777778,
              "#fb9f3a"
             ],
             [
              0.8888888888888888,
              "#fdca26"
             ],
             [
              1,
              "#f0f921"
             ]
            ],
            "type": "heatmap"
           }
          ],
          "heatmapgl": [
           {
            "colorbar": {
             "outlinewidth": 0,
             "ticks": ""
            },
            "colorscale": [
             [
              0,
              "#0d0887"
             ],
             [
              0.1111111111111111,
              "#46039f"
             ],
             [
              0.2222222222222222,
              "#7201a8"
             ],
             [
              0.3333333333333333,
              "#9c179e"
             ],
             [
              0.4444444444444444,
              "#bd3786"
             ],
             [
              0.5555555555555556,
              "#d8576b"
             ],
             [
              0.6666666666666666,
              "#ed7953"
             ],
             [
              0.7777777777777778,
              "#fb9f3a"
             ],
             [
              0.8888888888888888,
              "#fdca26"
             ],
             [
              1,
              "#f0f921"
             ]
            ],
            "type": "heatmapgl"
           }
          ],
          "histogram": [
           {
            "marker": {
             "pattern": {
              "fillmode": "overlay",
              "size": 10,
              "solidity": 0.2
             }
            },
            "type": "histogram"
           }
          ],
          "histogram2d": [
           {
            "colorbar": {
             "outlinewidth": 0,
             "ticks": ""
            },
            "colorscale": [
             [
              0,
              "#0d0887"
             ],
             [
              0.1111111111111111,
              "#46039f"
             ],
             [
              0.2222222222222222,
              "#7201a8"
             ],
             [
              0.3333333333333333,
              "#9c179e"
             ],
             [
              0.4444444444444444,
              "#bd3786"
             ],
             [
              0.5555555555555556,
              "#d8576b"
             ],
             [
              0.6666666666666666,
              "#ed7953"
             ],
             [
              0.7777777777777778,
              "#fb9f3a"
             ],
             [
              0.8888888888888888,
              "#fdca26"
             ],
             [
              1,
              "#f0f921"
             ]
            ],
            "type": "histogram2d"
           }
          ],
          "histogram2dcontour": [
           {
            "colorbar": {
             "outlinewidth": 0,
             "ticks": ""
            },
            "colorscale": [
             [
              0,
              "#0d0887"
             ],
             [
              0.1111111111111111,
              "#46039f"
             ],
             [
              0.2222222222222222,
              "#7201a8"
             ],
             [
              0.3333333333333333,
              "#9c179e"
             ],
             [
              0.4444444444444444,
              "#bd3786"
             ],
             [
              0.5555555555555556,
              "#d8576b"
             ],
             [
              0.6666666666666666,
              "#ed7953"
             ],
             [
              0.7777777777777778,
              "#fb9f3a"
             ],
             [
              0.8888888888888888,
              "#fdca26"
             ],
             [
              1,
              "#f0f921"
             ]
            ],
            "type": "histogram2dcontour"
           }
          ],
          "mesh3d": [
           {
            "colorbar": {
             "outlinewidth": 0,
             "ticks": ""
            },
            "type": "mesh3d"
           }
          ],
          "parcoords": [
           {
            "line": {
             "colorbar": {
              "outlinewidth": 0,
              "ticks": ""
             }
            },
            "type": "parcoords"
           }
          ],
          "pie": [
           {
            "automargin": true,
            "type": "pie"
           }
          ],
          "scatter": [
           {
            "fillpattern": {
             "fillmode": "overlay",
             "size": 10,
             "solidity": 0.2
            },
            "type": "scatter"
           }
          ],
          "scatter3d": [
           {
            "line": {
             "colorbar": {
              "outlinewidth": 0,
              "ticks": ""
             }
            },
            "marker": {
             "colorbar": {
              "outlinewidth": 0,
              "ticks": ""
             }
            },
            "type": "scatter3d"
           }
          ],
          "scattercarpet": [
           {
            "marker": {
             "colorbar": {
              "outlinewidth": 0,
              "ticks": ""
             }
            },
            "type": "scattercarpet"
           }
          ],
          "scattergeo": [
           {
            "marker": {
             "colorbar": {
              "outlinewidth": 0,
              "ticks": ""
             }
            },
            "type": "scattergeo"
           }
          ],
          "scattergl": [
           {
            "marker": {
             "colorbar": {
              "outlinewidth": 0,
              "ticks": ""
             }
            },
            "type": "scattergl"
           }
          ],
          "scattermapbox": [
           {
            "marker": {
             "colorbar": {
              "outlinewidth": 0,
              "ticks": ""
             }
            },
            "type": "scattermapbox"
           }
          ],
          "scatterpolar": [
           {
            "marker": {
             "colorbar": {
              "outlinewidth": 0,
              "ticks": ""
             }
            },
            "type": "scatterpolar"
           }
          ],
          "scatterpolargl": [
           {
            "marker": {
             "colorbar": {
              "outlinewidth": 0,
              "ticks": ""
             }
            },
            "type": "scatterpolargl"
           }
          ],
          "scatterternary": [
           {
            "marker": {
             "colorbar": {
              "outlinewidth": 0,
              "ticks": ""
             }
            },
            "type": "scatterternary"
           }
          ],
          "surface": [
           {
            "colorbar": {
             "outlinewidth": 0,
             "ticks": ""
            },
            "colorscale": [
             [
              0,
              "#0d0887"
             ],
             [
              0.1111111111111111,
              "#46039f"
             ],
             [
              0.2222222222222222,
              "#7201a8"
             ],
             [
              0.3333333333333333,
              "#9c179e"
             ],
             [
              0.4444444444444444,
              "#bd3786"
             ],
             [
              0.5555555555555556,
              "#d8576b"
             ],
             [
              0.6666666666666666,
              "#ed7953"
             ],
             [
              0.7777777777777778,
              "#fb9f3a"
             ],
             [
              0.8888888888888888,
              "#fdca26"
             ],
             [
              1,
              "#f0f921"
             ]
            ],
            "type": "surface"
           }
          ],
          "table": [
           {
            "cells": {
             "fill": {
              "color": "#EBF0F8"
             },
             "line": {
              "color": "white"
             }
            },
            "header": {
             "fill": {
              "color": "#C8D4E3"
             },
             "line": {
              "color": "white"
             }
            },
            "type": "table"
           }
          ]
         },
         "layout": {
          "annotationdefaults": {
           "arrowcolor": "#2a3f5f",
           "arrowhead": 0,
           "arrowwidth": 1
          },
          "autotypenumbers": "strict",
          "coloraxis": {
           "colorbar": {
            "outlinewidth": 0,
            "ticks": ""
           }
          },
          "colorscale": {
           "diverging": [
            [
             0,
             "#8e0152"
            ],
            [
             0.1,
             "#c51b7d"
            ],
            [
             0.2,
             "#de77ae"
            ],
            [
             0.3,
             "#f1b6da"
            ],
            [
             0.4,
             "#fde0ef"
            ],
            [
             0.5,
             "#f7f7f7"
            ],
            [
             0.6,
             "#e6f5d0"
            ],
            [
             0.7,
             "#b8e186"
            ],
            [
             0.8,
             "#7fbc41"
            ],
            [
             0.9,
             "#4d9221"
            ],
            [
             1,
             "#276419"
            ]
           ],
           "sequential": [
            [
             0,
             "#0d0887"
            ],
            [
             0.1111111111111111,
             "#46039f"
            ],
            [
             0.2222222222222222,
             "#7201a8"
            ],
            [
             0.3333333333333333,
             "#9c179e"
            ],
            [
             0.4444444444444444,
             "#bd3786"
            ],
            [
             0.5555555555555556,
             "#d8576b"
            ],
            [
             0.6666666666666666,
             "#ed7953"
            ],
            [
             0.7777777777777778,
             "#fb9f3a"
            ],
            [
             0.8888888888888888,
             "#fdca26"
            ],
            [
             1,
             "#f0f921"
            ]
           ],
           "sequentialminus": [
            [
             0,
             "#0d0887"
            ],
            [
             0.1111111111111111,
             "#46039f"
            ],
            [
             0.2222222222222222,
             "#7201a8"
            ],
            [
             0.3333333333333333,
             "#9c179e"
            ],
            [
             0.4444444444444444,
             "#bd3786"
            ],
            [
             0.5555555555555556,
             "#d8576b"
            ],
            [
             0.6666666666666666,
             "#ed7953"
            ],
            [
             0.7777777777777778,
             "#fb9f3a"
            ],
            [
             0.8888888888888888,
             "#fdca26"
            ],
            [
             1,
             "#f0f921"
            ]
           ]
          },
          "colorway": [
           "#636efa",
           "#EF553B",
           "#00cc96",
           "#ab63fa",
           "#FFA15A",
           "#19d3f3",
           "#FF6692",
           "#B6E880",
           "#FF97FF",
           "#FECB52"
          ],
          "font": {
           "color": "#2a3f5f"
          },
          "geo": {
           "bgcolor": "white",
           "lakecolor": "white",
           "landcolor": "#E5ECF6",
           "showlakes": true,
           "showland": true,
           "subunitcolor": "white"
          },
          "hoverlabel": {
           "align": "left"
          },
          "hovermode": "closest",
          "mapbox": {
           "style": "light"
          },
          "paper_bgcolor": "white",
          "plot_bgcolor": "#E5ECF6",
          "polar": {
           "angularaxis": {
            "gridcolor": "white",
            "linecolor": "white",
            "ticks": ""
           },
           "bgcolor": "#E5ECF6",
           "radialaxis": {
            "gridcolor": "white",
            "linecolor": "white",
            "ticks": ""
           }
          },
          "scene": {
           "xaxis": {
            "backgroundcolor": "#E5ECF6",
            "gridcolor": "white",
            "gridwidth": 2,
            "linecolor": "white",
            "showbackground": true,
            "ticks": "",
            "zerolinecolor": "white"
           },
           "yaxis": {
            "backgroundcolor": "#E5ECF6",
            "gridcolor": "white",
            "gridwidth": 2,
            "linecolor": "white",
            "showbackground": true,
            "ticks": "",
            "zerolinecolor": "white"
           },
           "zaxis": {
            "backgroundcolor": "#E5ECF6",
            "gridcolor": "white",
            "gridwidth": 2,
            "linecolor": "white",
            "showbackground": true,
            "ticks": "",
            "zerolinecolor": "white"
           }
          },
          "shapedefaults": {
           "line": {
            "color": "#2a3f5f"
           }
          },
          "ternary": {
           "aaxis": {
            "gridcolor": "white",
            "linecolor": "white",
            "ticks": ""
           },
           "baxis": {
            "gridcolor": "white",
            "linecolor": "white",
            "ticks": ""
           },
           "bgcolor": "#E5ECF6",
           "caxis": {
            "gridcolor": "white",
            "linecolor": "white",
            "ticks": ""
           }
          },
          "title": {
           "x": 0.05
          },
          "xaxis": {
           "automargin": true,
           "gridcolor": "white",
           "linecolor": "white",
           "ticks": "",
           "title": {
            "standoff": 15
           },
           "zerolinecolor": "white",
           "zerolinewidth": 2
          },
          "yaxis": {
           "automargin": true,
           "gridcolor": "white",
           "linecolor": "white",
           "ticks": "",
           "title": {
            "standoff": 15
           },
           "zerolinecolor": "white",
           "zerolinewidth": 2
          }
         }
        },
        "title": {
         "text": "<b>Topic Distribution per Postcodes<b>"
        },
        "width": 1000,
        "xaxis": {
         "anchor": "y",
         "domain": [
          0,
          0.45
         ],
         "tickfont": {
          "size": 10
         }
        },
        "xaxis2": {
         "anchor": "y2",
         "domain": [
          0.55,
          1
         ],
         "tickfont": {
          "size": 10
         }
        },
        "xaxis3": {
         "anchor": "y3",
         "domain": [
          0,
          0.45
         ],
         "tickfont": {
          "size": 10
         }
        },
        "xaxis4": {
         "anchor": "y4",
         "domain": [
          0.55,
          1
         ],
         "tickfont": {
          "size": 10
         }
        },
        "xaxis5": {
         "anchor": "y5",
         "domain": [
          0,
          0.45
         ],
         "tickfont": {
          "size": 10
         }
        },
        "xaxis6": {
         "anchor": "y6",
         "domain": [
          0.55,
          1
         ],
         "tickfont": {
          "size": 10
         }
        },
        "yaxis": {
         "anchor": "x",
         "domain": [
          0.8,
          1
         ],
         "range": [
          0,
          2.5
         ],
         "type": "log"
        },
        "yaxis2": {
         "anchor": "x2",
         "domain": [
          0.8,
          1
         ],
         "matches": "y",
         "range": [
          0,
          2.5
         ],
         "showticklabels": false,
         "type": "log"
        },
        "yaxis3": {
         "anchor": "x3",
         "domain": [
          0.4,
          0.6
         ],
         "range": [
          0,
          2.5
         ],
         "type": "log"
        },
        "yaxis4": {
         "anchor": "x4",
         "domain": [
          0.4,
          0.6
         ],
         "matches": "y3",
         "range": [
          0,
          2.5
         ],
         "showticklabels": false,
         "type": "log"
        },
        "yaxis5": {
         "anchor": "x5",
         "domain": [
          0,
          0.19999999999999998
         ],
         "range": [
          0,
          2.5
         ],
         "type": "log"
        },
        "yaxis6": {
         "anchor": "x6",
         "domain": [
          0,
          0.19999999999999998
         ],
         "matches": "y5",
         "range": [
          0,
          2.5
         ],
         "showticklabels": false,
         "type": "log"
        }
       }
      }
     },
     "metadata": {},
     "output_type": "display_data"
    }
   ],
   "source": [
    "# Get all the unique topics\n",
    "topic_list = unique_subset_topics(df)\n",
    "unique_topics = sorted(topic_list)\n",
    "\n",
    "topic_feature_bar_distribution(\n",
    "    df_ = df, feature_ = 'postcode', yrange = [0, 2.5],\n",
    "    topic_list_ = unique_topics ,\n",
    "    subplot_titles_ = [\n",
    "        '<b>Big City<b>', '<b>Metropolitan<b>', '<b>Municiplaity<b>',\n",
    "     '<b>Provincial<b>', '<b>Rural District<b>'\n",
    "     ],\n",
    "    xaxis_title = '<b>Topics<b>', yaxis_title = '<b>Count<b>',\n",
    "    title_ = '<b>Topic Distribution per Postcodes<b>',\n",
    "    height_ = 850, width_ = 1000\n",
    "    )"
   ]
  },
  {
   "cell_type": "markdown",
   "id": "6e53434a",
   "metadata": {},
   "source": [
    "### Activity"
   ]
  },
  {
   "cell_type": "code",
   "execution_count": 387,
   "id": "0af96cef",
   "metadata": {},
   "outputs": [
    {
     "data": {
      "application/vnd.plotly.v1+json": {
       "config": {
        "plotlyServerURL": "https://plot.ly"
       },
       "data": [
        {
         "mode": "lines+markers+text",
         "name": "Daily Big City",
         "type": "scatter",
         "x": [
          "2023-05-18",
          "2023-05-19",
          "2023-05-20",
          "2023-05-21",
          "2023-05-22",
          "2023-05-23",
          "2023-05-24",
          "2023-05-25"
         ],
         "xaxis": "x",
         "y": [
          27,
          52,
          29,
          21,
          23,
          53,
          39,
          16
         ],
         "yaxis": "y"
        },
        {
         "mode": "lines+markers+text",
         "name": "Hourly Big City",
         "type": "scatter",
         "x": [
          "02:00",
          "03:00",
          "04:00",
          "05:00",
          "06:00",
          "07:00",
          "08:00",
          "09:00",
          "10:00",
          "11:00",
          "12:00",
          "13:00",
          "14:00",
          "15:00",
          "16:00",
          "17:00",
          "18:00",
          "19:00",
          "20:00",
          "21:00",
          "23:00"
         ],
         "xaxis": "x2",
         "y": [
          4,
          3,
          40,
          9,
          29,
          10,
          6,
          5,
          6,
          4,
          8,
          16,
          8,
          7,
          10,
          7,
          11,
          10,
          16,
          38,
          0
         ],
         "yaxis": "y2"
        },
        {
         "mode": "lines+markers+text",
         "name": "Daily Metropolitan",
         "type": "scatter",
         "x": [
          "2023-05-18",
          "2023-05-19",
          "2023-05-20",
          "2023-05-21",
          "2023-05-22",
          "2023-05-23",
          "2023-05-24",
          "2023-05-25"
         ],
         "xaxis": "x",
         "y": [
          53,
          92,
          66,
          103,
          76,
          59,
          98,
          17
         ],
         "yaxis": "y"
        },
        {
         "mode": "lines+markers+text",
         "name": "Hourly Metropolitan",
         "type": "scatter",
         "x": [
          "00:00",
          "01:00",
          "02:00",
          "03:00",
          "04:00",
          "05:00",
          "06:00",
          "07:00",
          "08:00",
          "09:00",
          "10:00",
          "11:00",
          "12:00",
          "13:00",
          "14:00",
          "15:00",
          "16:00",
          "17:00",
          "18:00",
          "19:00",
          "20:00",
          "21:00",
          "22:00",
          "23:00"
         ],
         "xaxis": "x2",
         "y": [
          3,
          4,
          0,
          10,
          21,
          32,
          37,
          38,
          41,
          47,
          28,
          20,
          40,
          29,
          23,
          19,
          33,
          35,
          23,
          29,
          19,
          13,
          3,
          1
         ],
         "yaxis": "y2"
        },
        {
         "mode": "lines+markers+text",
         "name": "Daily Municipality",
         "type": "scatter",
         "x": [
          "2023-05-18",
          "2023-05-19",
          "2023-05-20",
          "2023-05-21",
          "2023-05-22",
          "2023-05-23",
          "2023-05-24",
          "2023-05-25"
         ],
         "xaxis": "x",
         "y": [
          15,
          11,
          58,
          18,
          20,
          22,
          34,
          4
         ],
         "yaxis": "y"
        },
        {
         "mode": "lines+markers+text",
         "name": "Hourly Municipality",
         "type": "scatter",
         "x": [
          "01:00",
          "03:00",
          "04:00",
          "06:00",
          "07:00",
          "08:00",
          "09:00",
          "10:00",
          "11:00",
          "12:00",
          "13:00",
          "14:00",
          "15:00",
          "16:00",
          "17:00",
          "18:00",
          "19:00",
          "20:00",
          "21:00",
          "23:00"
         ],
         "xaxis": "x2",
         "y": [
          3,
          1,
          1,
          12,
          21,
          5,
          6,
          3,
          7,
          21,
          16,
          9,
          8,
          4,
          8,
          12,
          17,
          14,
          1,
          1
         ],
         "yaxis": "y2"
        },
        {
         "mode": "lines+markers+text",
         "name": "Daily Provincial",
         "type": "scatter",
         "x": [
          "2023-05-18",
          "2023-05-19",
          "2023-05-20",
          "2023-05-21",
          "2023-05-22",
          "2023-05-23",
          "2023-05-24",
          "2023-05-25"
         ],
         "xaxis": "x",
         "y": [
          17,
          41,
          24,
          33,
          51,
          26,
          40,
          14
         ],
         "yaxis": "y"
        },
        {
         "mode": "lines+markers+text",
         "name": "Hourly Provincial",
         "type": "scatter",
         "x": [
          "00:00",
          "02:00",
          "03:00",
          "04:00",
          "05:00",
          "06:00",
          "07:00",
          "08:00",
          "09:00",
          "10:00",
          "11:00",
          "12:00",
          "13:00",
          "14:00",
          "15:00",
          "16:00",
          "17:00",
          "18:00",
          "19:00",
          "20:00",
          "21:00",
          "22:00",
          "23:00"
         ],
         "xaxis": "x2",
         "y": [
          1,
          2,
          9,
          36,
          13,
          7,
          1,
          12,
          19,
          13,
          9,
          15,
          20,
          12,
          1,
          18,
          16,
          4,
          6,
          4,
          1,
          12,
          0
         ],
         "yaxis": "y2"
        },
        {
         "mode": "lines+markers+text",
         "name": "Daily Rural District",
         "type": "scatter",
         "x": [
          "2023-05-18",
          "2023-05-19",
          "2023-05-20",
          "2023-05-21",
          "2023-05-22",
          "2023-05-23",
          "2023-05-24",
          "2023-05-25"
         ],
         "xaxis": "x",
         "y": [
          30,
          66,
          50,
          65,
          38,
          46,
          44,
          5
         ],
         "yaxis": "y"
        },
        {
         "mode": "lines+markers+text",
         "name": "Hourly Rural District",
         "type": "scatter",
         "x": [
          "01:00",
          "02:00",
          "03:00",
          "04:00",
          "05:00",
          "06:00",
          "07:00",
          "08:00",
          "09:00",
          "10:00",
          "11:00",
          "12:00",
          "13:00",
          "14:00",
          "15:00",
          "16:00",
          "17:00",
          "18:00",
          "19:00",
          "20:00",
          "21:00",
          "22:00",
          "23:00"
         ],
         "xaxis": "x2",
         "y": [
          0,
          4,
          9,
          15,
          38,
          33,
          18,
          3,
          15,
          14,
          8,
          17,
          19,
          12,
          9,
          17,
          14,
          15,
          17,
          20,
          19,
          5,
          8
         ],
         "yaxis": "y2"
        }
       ],
       "layout": {
        "annotations": [
         {
          "font": {
           "size": 16
          },
          "showarrow": false,
          "text": "<b>Daily<b>",
          "x": 0.5,
          "xanchor": "center",
          "xref": "paper",
          "y": 1,
          "yanchor": "bottom",
          "yref": "paper"
         },
         {
          "font": {
           "size": 16
          },
          "showarrow": false,
          "text": "<b>Monthly<b>",
          "x": 0.5,
          "xanchor": "center",
          "xref": "paper",
          "y": 0.4,
          "yanchor": "bottom",
          "yref": "paper"
         },
         {
          "font": {
           "size": 16
          },
          "showarrow": false,
          "text": "Count",
          "textangle": -90,
          "x": 0,
          "xanchor": "right",
          "xref": "paper",
          "xshift": -40,
          "y": 0.5,
          "yanchor": "middle",
          "yref": "paper"
         }
        ],
        "font": {
         "family": "Courier New, monospace",
         "size": 14
        },
        "height": 750,
        "margin": {
         "b": 50,
         "l": 100,
         "pad": 0,
         "r": 50,
         "t": 100
        },
        "template": {
         "data": {
          "bar": [
           {
            "error_x": {
             "color": "#2a3f5f"
            },
            "error_y": {
             "color": "#2a3f5f"
            },
            "marker": {
             "line": {
              "color": "#E5ECF6",
              "width": 0.5
             },
             "pattern": {
              "fillmode": "overlay",
              "size": 10,
              "solidity": 0.2
             }
            },
            "type": "bar"
           }
          ],
          "barpolar": [
           {
            "marker": {
             "line": {
              "color": "#E5ECF6",
              "width": 0.5
             },
             "pattern": {
              "fillmode": "overlay",
              "size": 10,
              "solidity": 0.2
             }
            },
            "type": "barpolar"
           }
          ],
          "carpet": [
           {
            "aaxis": {
             "endlinecolor": "#2a3f5f",
             "gridcolor": "white",
             "linecolor": "white",
             "minorgridcolor": "white",
             "startlinecolor": "#2a3f5f"
            },
            "baxis": {
             "endlinecolor": "#2a3f5f",
             "gridcolor": "white",
             "linecolor": "white",
             "minorgridcolor": "white",
             "startlinecolor": "#2a3f5f"
            },
            "type": "carpet"
           }
          ],
          "choropleth": [
           {
            "colorbar": {
             "outlinewidth": 0,
             "ticks": ""
            },
            "type": "choropleth"
           }
          ],
          "contour": [
           {
            "colorbar": {
             "outlinewidth": 0,
             "ticks": ""
            },
            "colorscale": [
             [
              0,
              "#0d0887"
             ],
             [
              0.1111111111111111,
              "#46039f"
             ],
             [
              0.2222222222222222,
              "#7201a8"
             ],
             [
              0.3333333333333333,
              "#9c179e"
             ],
             [
              0.4444444444444444,
              "#bd3786"
             ],
             [
              0.5555555555555556,
              "#d8576b"
             ],
             [
              0.6666666666666666,
              "#ed7953"
             ],
             [
              0.7777777777777778,
              "#fb9f3a"
             ],
             [
              0.8888888888888888,
              "#fdca26"
             ],
             [
              1,
              "#f0f921"
             ]
            ],
            "type": "contour"
           }
          ],
          "contourcarpet": [
           {
            "colorbar": {
             "outlinewidth": 0,
             "ticks": ""
            },
            "type": "contourcarpet"
           }
          ],
          "heatmap": [
           {
            "colorbar": {
             "outlinewidth": 0,
             "ticks": ""
            },
            "colorscale": [
             [
              0,
              "#0d0887"
             ],
             [
              0.1111111111111111,
              "#46039f"
             ],
             [
              0.2222222222222222,
              "#7201a8"
             ],
             [
              0.3333333333333333,
              "#9c179e"
             ],
             [
              0.4444444444444444,
              "#bd3786"
             ],
             [
              0.5555555555555556,
              "#d8576b"
             ],
             [
              0.6666666666666666,
              "#ed7953"
             ],
             [
              0.7777777777777778,
              "#fb9f3a"
             ],
             [
              0.8888888888888888,
              "#fdca26"
             ],
             [
              1,
              "#f0f921"
             ]
            ],
            "type": "heatmap"
           }
          ],
          "heatmapgl": [
           {
            "colorbar": {
             "outlinewidth": 0,
             "ticks": ""
            },
            "colorscale": [
             [
              0,
              "#0d0887"
             ],
             [
              0.1111111111111111,
              "#46039f"
             ],
             [
              0.2222222222222222,
              "#7201a8"
             ],
             [
              0.3333333333333333,
              "#9c179e"
             ],
             [
              0.4444444444444444,
              "#bd3786"
             ],
             [
              0.5555555555555556,
              "#d8576b"
             ],
             [
              0.6666666666666666,
              "#ed7953"
             ],
             [
              0.7777777777777778,
              "#fb9f3a"
             ],
             [
              0.8888888888888888,
              "#fdca26"
             ],
             [
              1,
              "#f0f921"
             ]
            ],
            "type": "heatmapgl"
           }
          ],
          "histogram": [
           {
            "marker": {
             "pattern": {
              "fillmode": "overlay",
              "size": 10,
              "solidity": 0.2
             }
            },
            "type": "histogram"
           }
          ],
          "histogram2d": [
           {
            "colorbar": {
             "outlinewidth": 0,
             "ticks": ""
            },
            "colorscale": [
             [
              0,
              "#0d0887"
             ],
             [
              0.1111111111111111,
              "#46039f"
             ],
             [
              0.2222222222222222,
              "#7201a8"
             ],
             [
              0.3333333333333333,
              "#9c179e"
             ],
             [
              0.4444444444444444,
              "#bd3786"
             ],
             [
              0.5555555555555556,
              "#d8576b"
             ],
             [
              0.6666666666666666,
              "#ed7953"
             ],
             [
              0.7777777777777778,
              "#fb9f3a"
             ],
             [
              0.8888888888888888,
              "#fdca26"
             ],
             [
              1,
              "#f0f921"
             ]
            ],
            "type": "histogram2d"
           }
          ],
          "histogram2dcontour": [
           {
            "colorbar": {
             "outlinewidth": 0,
             "ticks": ""
            },
            "colorscale": [
             [
              0,
              "#0d0887"
             ],
             [
              0.1111111111111111,
              "#46039f"
             ],
             [
              0.2222222222222222,
              "#7201a8"
             ],
             [
              0.3333333333333333,
              "#9c179e"
             ],
             [
              0.4444444444444444,
              "#bd3786"
             ],
             [
              0.5555555555555556,
              "#d8576b"
             ],
             [
              0.6666666666666666,
              "#ed7953"
             ],
             [
              0.7777777777777778,
              "#fb9f3a"
             ],
             [
              0.8888888888888888,
              "#fdca26"
             ],
             [
              1,
              "#f0f921"
             ]
            ],
            "type": "histogram2dcontour"
           }
          ],
          "mesh3d": [
           {
            "colorbar": {
             "outlinewidth": 0,
             "ticks": ""
            },
            "type": "mesh3d"
           }
          ],
          "parcoords": [
           {
            "line": {
             "colorbar": {
              "outlinewidth": 0,
              "ticks": ""
             }
            },
            "type": "parcoords"
           }
          ],
          "pie": [
           {
            "automargin": true,
            "type": "pie"
           }
          ],
          "scatter": [
           {
            "fillpattern": {
             "fillmode": "overlay",
             "size": 10,
             "solidity": 0.2
            },
            "type": "scatter"
           }
          ],
          "scatter3d": [
           {
            "line": {
             "colorbar": {
              "outlinewidth": 0,
              "ticks": ""
             }
            },
            "marker": {
             "colorbar": {
              "outlinewidth": 0,
              "ticks": ""
             }
            },
            "type": "scatter3d"
           }
          ],
          "scattercarpet": [
           {
            "marker": {
             "colorbar": {
              "outlinewidth": 0,
              "ticks": ""
             }
            },
            "type": "scattercarpet"
           }
          ],
          "scattergeo": [
           {
            "marker": {
             "colorbar": {
              "outlinewidth": 0,
              "ticks": ""
             }
            },
            "type": "scattergeo"
           }
          ],
          "scattergl": [
           {
            "marker": {
             "colorbar": {
              "outlinewidth": 0,
              "ticks": ""
             }
            },
            "type": "scattergl"
           }
          ],
          "scattermapbox": [
           {
            "marker": {
             "colorbar": {
              "outlinewidth": 0,
              "ticks": ""
             }
            },
            "type": "scattermapbox"
           }
          ],
          "scatterpolar": [
           {
            "marker": {
             "colorbar": {
              "outlinewidth": 0,
              "ticks": ""
             }
            },
            "type": "scatterpolar"
           }
          ],
          "scatterpolargl": [
           {
            "marker": {
             "colorbar": {
              "outlinewidth": 0,
              "ticks": ""
             }
            },
            "type": "scatterpolargl"
           }
          ],
          "scatterternary": [
           {
            "marker": {
             "colorbar": {
              "outlinewidth": 0,
              "ticks": ""
             }
            },
            "type": "scatterternary"
           }
          ],
          "surface": [
           {
            "colorbar": {
             "outlinewidth": 0,
             "ticks": ""
            },
            "colorscale": [
             [
              0,
              "#0d0887"
             ],
             [
              0.1111111111111111,
              "#46039f"
             ],
             [
              0.2222222222222222,
              "#7201a8"
             ],
             [
              0.3333333333333333,
              "#9c179e"
             ],
             [
              0.4444444444444444,
              "#bd3786"
             ],
             [
              0.5555555555555556,
              "#d8576b"
             ],
             [
              0.6666666666666666,
              "#ed7953"
             ],
             [
              0.7777777777777778,
              "#fb9f3a"
             ],
             [
              0.8888888888888888,
              "#fdca26"
             ],
             [
              1,
              "#f0f921"
             ]
            ],
            "type": "surface"
           }
          ],
          "table": [
           {
            "cells": {
             "fill": {
              "color": "#EBF0F8"
             },
             "line": {
              "color": "white"
             }
            },
            "header": {
             "fill": {
              "color": "#C8D4E3"
             },
             "line": {
              "color": "white"
             }
            },
            "type": "table"
           }
          ]
         },
         "layout": {
          "annotationdefaults": {
           "arrowcolor": "#2a3f5f",
           "arrowhead": 0,
           "arrowwidth": 1
          },
          "autotypenumbers": "strict",
          "coloraxis": {
           "colorbar": {
            "outlinewidth": 0,
            "ticks": ""
           }
          },
          "colorscale": {
           "diverging": [
            [
             0,
             "#8e0152"
            ],
            [
             0.1,
             "#c51b7d"
            ],
            [
             0.2,
             "#de77ae"
            ],
            [
             0.3,
             "#f1b6da"
            ],
            [
             0.4,
             "#fde0ef"
            ],
            [
             0.5,
             "#f7f7f7"
            ],
            [
             0.6,
             "#e6f5d0"
            ],
            [
             0.7,
             "#b8e186"
            ],
            [
             0.8,
             "#7fbc41"
            ],
            [
             0.9,
             "#4d9221"
            ],
            [
             1,
             "#276419"
            ]
           ],
           "sequential": [
            [
             0,
             "#0d0887"
            ],
            [
             0.1111111111111111,
             "#46039f"
            ],
            [
             0.2222222222222222,
             "#7201a8"
            ],
            [
             0.3333333333333333,
             "#9c179e"
            ],
            [
             0.4444444444444444,
             "#bd3786"
            ],
            [
             0.5555555555555556,
             "#d8576b"
            ],
            [
             0.6666666666666666,
             "#ed7953"
            ],
            [
             0.7777777777777778,
             "#fb9f3a"
            ],
            [
             0.8888888888888888,
             "#fdca26"
            ],
            [
             1,
             "#f0f921"
            ]
           ],
           "sequentialminus": [
            [
             0,
             "#0d0887"
            ],
            [
             0.1111111111111111,
             "#46039f"
            ],
            [
             0.2222222222222222,
             "#7201a8"
            ],
            [
             0.3333333333333333,
             "#9c179e"
            ],
            [
             0.4444444444444444,
             "#bd3786"
            ],
            [
             0.5555555555555556,
             "#d8576b"
            ],
            [
             0.6666666666666666,
             "#ed7953"
            ],
            [
             0.7777777777777778,
             "#fb9f3a"
            ],
            [
             0.8888888888888888,
             "#fdca26"
            ],
            [
             1,
             "#f0f921"
            ]
           ]
          },
          "colorway": [
           "#636efa",
           "#EF553B",
           "#00cc96",
           "#ab63fa",
           "#FFA15A",
           "#19d3f3",
           "#FF6692",
           "#B6E880",
           "#FF97FF",
           "#FECB52"
          ],
          "font": {
           "color": "#2a3f5f"
          },
          "geo": {
           "bgcolor": "white",
           "lakecolor": "white",
           "landcolor": "#E5ECF6",
           "showlakes": true,
           "showland": true,
           "subunitcolor": "white"
          },
          "hoverlabel": {
           "align": "left"
          },
          "hovermode": "closest",
          "mapbox": {
           "style": "light"
          },
          "paper_bgcolor": "white",
          "plot_bgcolor": "#E5ECF6",
          "polar": {
           "angularaxis": {
            "gridcolor": "white",
            "linecolor": "white",
            "ticks": ""
           },
           "bgcolor": "#E5ECF6",
           "radialaxis": {
            "gridcolor": "white",
            "linecolor": "white",
            "ticks": ""
           }
          },
          "scene": {
           "xaxis": {
            "backgroundcolor": "#E5ECF6",
            "gridcolor": "white",
            "gridwidth": 2,
            "linecolor": "white",
            "showbackground": true,
            "ticks": "",
            "zerolinecolor": "white"
           },
           "yaxis": {
            "backgroundcolor": "#E5ECF6",
            "gridcolor": "white",
            "gridwidth": 2,
            "linecolor": "white",
            "showbackground": true,
            "ticks": "",
            "zerolinecolor": "white"
           },
           "zaxis": {
            "backgroundcolor": "#E5ECF6",
            "gridcolor": "white",
            "gridwidth": 2,
            "linecolor": "white",
            "showbackground": true,
            "ticks": "",
            "zerolinecolor": "white"
           }
          },
          "shapedefaults": {
           "line": {
            "color": "#2a3f5f"
           }
          },
          "ternary": {
           "aaxis": {
            "gridcolor": "white",
            "linecolor": "white",
            "ticks": ""
           },
           "baxis": {
            "gridcolor": "white",
            "linecolor": "white",
            "ticks": ""
           },
           "bgcolor": "#E5ECF6",
           "caxis": {
            "gridcolor": "white",
            "linecolor": "white",
            "ticks": ""
           }
          },
          "title": {
           "x": 0.05
          },
          "xaxis": {
           "automargin": true,
           "gridcolor": "white",
           "linecolor": "white",
           "ticks": "",
           "title": {
            "standoff": 15
           },
           "zerolinecolor": "white",
           "zerolinewidth": 2
          },
          "yaxis": {
           "automargin": true,
           "gridcolor": "white",
           "linecolor": "white",
           "ticks": "",
           "title": {
            "standoff": 15
           },
           "zerolinecolor": "white",
           "zerolinewidth": 2
          }
         }
        },
        "title": {
         "text": "<b>Daily and Hourly Activity per Postcode<b>"
        },
        "width": 1000,
        "xaxis": {
         "anchor": "y",
         "domain": [
          0,
          1
         ],
         "tickfont": {
          "size": 14
         },
         "title": {
          "text": "<b>Date<b>"
         }
        },
        "xaxis2": {
         "anchor": "y2",
         "domain": [
          0,
          1
         ],
         "tickfont": {
          "size": 14
         },
         "title": {
          "text": "<b>Hour<b>"
         }
        },
        "yaxis": {
         "anchor": "x",
         "domain": [
          0.6000000000000001,
          1
         ],
         "range": [
          0,
          4
         ],
         "type": "log"
        },
        "yaxis2": {
         "anchor": "x2",
         "domain": [
          0,
          0.4
         ],
         "range": [
          0,
          4
         ],
         "type": "log"
        }
       }
      }
     },
     "metadata": {},
     "output_type": "display_data"
    }
   ],
   "source": [
    "daily_hourly_activity_feature_bar_distribution(\n",
    "    df_ = df, feature_ = 'postcode', yrange = [0, 4],\n",
    "    subplot_titles_ = ['<b>Daily<b>', '<b>Monthly<b>'],\n",
    "    title_ = '<b>Daily and Hourly Activity per Postcode<b>',\n",
    "    height_ = 750, width_ = 1000\n",
    "    )"
   ]
  }
 ],
 "metadata": {
  "kernelspec": {
   "display_name": "Python 3 (ipykernel)",
   "language": "python",
   "name": "python3"
  },
  "language_info": {
   "codemirror_mode": {
    "name": "ipython",
    "version": 3
   },
   "file_extension": ".py",
   "mimetype": "text/x-python",
   "name": "python",
   "nbconvert_exporter": "python",
   "pygments_lexer": "ipython3",
   "version": "3.11.4"
  }
 },
 "nbformat": 4,
 "nbformat_minor": 5
}
