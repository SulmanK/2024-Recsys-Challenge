{
 "cells": [
  {
   "cell_type": "markdown",
   "id": "d2671047-b3da-4686-8a34-f7e63d82e738",
   "metadata": {},
   "source": [
    "Task\n",
    "- Add in other uestions\n",
    "    - Refactor code for the aggregation of timely activity\n",
    "- Fix the plots\n",
    "- Start on EDA\n",
    "    - Each major feature will cover distribution of the feature, readtime/scroll pct, how it relates to the topics selected, and activity distribution.\n",
    "        - We will use histograms, bar plots, box plots, and scatter plots (can look at pie charts too)\n",
    "- Model selection"
   ]
  },
  {
   "cell_type": "markdown",
   "id": "237298c2-2986-4bba-bcbd-5ff27e361919",
   "metadata": {},
   "source": [
    "Background Information on Dataset: BLAH BLAH BLAH"
   ]
  },
  {
   "cell_type": "markdown",
   "id": "9f8cf39e-f468-4ac2-9f59-2eefab32a277",
   "metadata": {},
   "source": [
    "Importing Packages"
   ]
  },
  {
   "cell_type": "code",
   "execution_count": 1,
   "id": "f4711c74-a01b-4ce7-8a3d-de5a605d13e4",
   "metadata": {},
   "outputs": [],
   "source": [
    "import numpy as np\n",
    "import pandas as pd\n",
    "import dask.dataframe as dd\n",
    "import matplotlib\n",
    "import plotly\n",
    "import plotly.express as px\n",
    "import plotly.graph_objects as go\n",
    "\n",
    "from datetime import datetime"
   ]
  },
  {
   "cell_type": "markdown",
   "id": "06f05b58-dde3-4d5f-87a2-f20ad71cd62b",
   "metadata": {},
   "source": [
    "EDA"
   ]
  },
  {
   "cell_type": "markdown",
   "id": "616fa6a4-e47a-4116-82f5-896d6893a00e",
   "metadata": {},
   "source": [
    "Load in dataset"
   ]
  },
  {
   "cell_type": "markdown",
   "id": "b171de10-39f1-4dad-aed9-d8a179e44fe2",
   "metadata": {},
   "source": [
    "Aside: Let's measure how long it takes to load in our dataset: using pandas and dask"
   ]
  },
  {
   "cell_type": "code",
   "execution_count": null,
   "id": "ae5445ae-b902-4ce8-9f7b-717b3b0b4f92",
   "metadata": {},
   "outputs": [],
   "source": [
    "import cProfile\n",
    "import pstats\n",
    "\n",
    "profiler = cProfile.Profile()\n",
    "profiler.enable()\n",
    "df = pd.read_parquet(\"Data/Large/articles.parquet\")\n",
    "profiler.disable()\n",
    "\n",
    "profiler_stats = pstats.Stats(profiler)\n",
    "profiler_stats.print_stats()"
   ]
  },
  {
   "cell_type": "code",
   "execution_count": null,
   "id": "e15aa7e8-ef30-4e1d-908c-9dc597f5bce9",
   "metadata": {},
   "outputs": [],
   "source": [
    "profiler = cProfile.Profile()\n",
    "profiler.enable()\n",
    "df = dd.read_parquet(\"Data/Large/articles.parquet\", engine = \"fastparquet\")\n",
    "profiler.disable()\n",
    "\n",
    "profiler_stats = pstats.Stats(profiler)\n",
    "profiler_stats.print_stats()"
   ]
  },
  {
   "cell_type": "markdown",
   "id": "30fe4d4a-f8e0-4b9d-a9dd-7b5719a44b6f",
   "metadata": {},
   "source": [
    "Even though the dataframe took 1.464 seconds to load using pandas, dask took 0.054 seconds. This is a huge speedup ~ 27x"
   ]
  },
  {
   "cell_type": "code",
   "execution_count": 2,
   "id": "59a57c46-4e08-4299-8a69-12d45e274b46",
   "metadata": {},
   "outputs": [],
   "source": [
    "#Load in various dataframes\n",
    "## Articles\n",
    "df_art = pd.read_parquet(\"Data/Small/articles.parquet\")\n",
    "\n",
    "## Behaviors\n",
    "df_bev = pd.read_parquet(\"Data/Small/train/behaviors.parquet\")\n",
    "\n",
    "## History\n",
    "df_his = pd.read_parquet(\"Data/Small/train/history.parquet\")\n",
    "\n"
   ]
  },
  {
   "cell_type": "markdown",
   "id": "dd6d447c",
   "metadata": {},
   "source": [
    "Join the data sources"
   ]
  },
  {
   "cell_type": "code",
   "execution_count": 3,
   "id": "b3cfa16d",
   "metadata": {},
   "outputs": [],
   "source": [
    "# Convert datatype of column first\n",
    "df_bev['article_ids_clicked'] = df_bev['article_ids_clicked'].apply(lambda x: x[0])"
   ]
  },
  {
   "cell_type": "code",
   "execution_count": 4,
   "id": "5eaa9148",
   "metadata": {},
   "outputs": [],
   "source": [
    "# Join bevhaiors to article\n",
    "df= df_bev.join(df_art.set_index(\"article_id\"), on = \"article_ids_clicked\")\n",
    "\n",
    "# Join bevhaiors to history \n",
    "df= df.join(df_his.set_index(\"user_id\"), on = \"user_id\")\n",
    "\n",
    "# Drop all other dataframes from me\n",
    "df_bev = []\n",
    "df_his = []\n",
    "df_art = []"
   ]
  },
  {
   "cell_type": "code",
   "execution_count": 5,
   "id": "5796b9c4",
   "metadata": {},
   "outputs": [],
   "source": [
    "# Preprocessing\n",
    "df.dropna(subset=['article_id'], inplace= True)\n",
    "#df.dropna(subset =['age'], inplace = True)\n",
    "\n",
    "\n",
    "df['article_id'] = df['article_id'].apply(lambda x: int(x))\n",
    "\n",
    "df['article_id']= df['article_id'].astype(np.int64)\n",
    "\n"
   ]
  },
  {
   "cell_type": "markdown",
   "id": "00dd2615",
   "metadata": {},
   "source": [
    "Visualizations"
   ]
  },
  {
   "cell_type": "code",
   "execution_count": null,
   "id": "af49752d",
   "metadata": {},
   "outputs": [],
   "source": [
    "def plotly_index_values(groupby_object):\n",
    "    \"\"\"Takes in a clause from a pandas groupby statement and returns X and Y variables used for plotting\"\"\"\n",
    "\n",
    "    index = groupby_object.index\n",
    "    values = groupby_object.values\n",
    "\n",
    "    return index, values\n",
    "\n"
   ]
  },
  {
   "cell_type": "markdown",
   "id": "c4e0b195",
   "metadata": {},
   "source": [
    "Lets calculate the unique users for hourly, daily, and day of the week. Let's use a subset of the data until we know our plots are very good"
   ]
  },
  {
   "cell_type": "markdown",
   "id": "7988d669",
   "metadata": {},
   "source": [
    "#### Biggest thing is user engagement : Bigger User Engagement -> More eveneue\n",
    "#### We need to maximize the amount of ads these guys are viewing -> this leads on to them clicking on new articles for ads\n",
    "#### So, let's not make article length too short so that people can maximize their session lengths with a lot of articles!"
   ]
  },
  {
   "cell_type": "markdown",
   "id": "c74c8812",
   "metadata": {},
   "source": [
    "## User Activity"
   ]
  },
  {
   "cell_type": "code",
   "execution_count": null,
   "id": "84c2e12e",
   "metadata": {},
   "outputs": [],
   "source": [
    "df['user_id'].unique()"
   ]
  },
  {
   "cell_type": "code",
   "execution_count": null,
   "id": "84e0f2f7",
   "metadata": {},
   "outputs": [],
   "source": [
    "# Let's make subsets for each user_id and then populate the frequency based on that\n",
    "\n",
    "## Get all unique ids in a list\n",
    "\n",
    "unique_user_ids = df['user_id'].unique()[0:1000]\n",
    "\n",
    "# Create dictionaries\n",
    "unique_users_daily_freq = {}\n",
    "unique_users_hourly_freq = {}\n",
    "unique_users_dayofweek_freq = {}\n",
    "unique_users_weekly_freq = {}\n",
    "\n",
    "for id in unique_user_ids:\n",
    "    # Get the subset of that user id\n",
    "    tmp_df = df[df['user_id'] == id]\n",
    "\n",
    "    # Now lets go through each and populate the unique dates, hours and day of the week for each user\n",
    "    dates = []\n",
    "    hours = []\n",
    "    dayofweek = []\n",
    "    week = []\n",
    "    indices = np.array(tmp_df.index)\n",
    "    for i in indices:\n",
    "        tmp_datetime = pd.DatetimeIndex(tmp_df['impression_time_fixed'][i])\n",
    "        tmp_date = tmp_datetime.date\n",
    "        tmp_time = tmp_datetime.time\n",
    "        tmp_dayofweek = tmp_datetime.day_of_week\n",
    "        tmp_week = tmp_datetime.isocalendar().week\n",
    "\n",
    "        for j in tmp_date:\n",
    "            dates.append(j)\n",
    "        \n",
    "        for k in tmp_time:\n",
    "            hours.append(k)\n",
    "        \n",
    "        for l in tmp_dayofweek:\n",
    "            dayofweek.append(l)\n",
    "        \n",
    "        for m in tmp_week:\n",
    "            week.append(m)\n",
    "\n",
    "    # Get rid of duplicate values\n",
    "    unique_dates = list(set(dates))\n",
    "    unique_hours = list(set(hours))\n",
    "    unique_dayofweek = list(set(dayofweek))\n",
    "    unique_week = list(set(week))\n",
    "\n",
    "    # Convert to string\n",
    "    unique_dates = [x.strftime('%m/%d/%Y') for x in unique_dates]\n",
    "    unique_hours = [x.hour for x in unique_hours]\n",
    "\n",
    "\n",
    "    # Populate our unique_user_daily_freq dict\n",
    "    for i in unique_dates:\n",
    "        \n",
    "        if i not in unique_users_daily_freq:\n",
    "            unique_users_daily_freq[i] = 1\n",
    "        else:\n",
    "            unique_users_daily_freq[i] +=1\n",
    "        \n",
    "\n",
    "    # Populate hourly activity\n",
    "    for j in unique_hours:\n",
    "\n",
    "        if j not in unique_users_hourly_freq:\n",
    "            unique_users_hourly_freq[j] = 1\n",
    "        else:\n",
    "            unique_users_hourly_freq[j] +=1\n",
    "\n",
    "    # Populate dayofweeka activity\n",
    "    for k in unique_dayofweek:\n",
    "\n",
    "        if k not in unique_users_dayofweek_freq:\n",
    "            unique_users_dayofweek_freq[k] = 1\n",
    "        else:\n",
    "            unique_users_dayofweek_freq[k] +=1\n",
    "    \n",
    "\n",
    "    # Populate dayofweeka activity\n",
    "    for l in unique_week:\n",
    "\n",
    "        if l not in unique_users_weekly_freq:\n",
    "            unique_users_weekly_freq[l] = 1\n",
    "        else:\n",
    "            unique_users_weekly_freq[l] +=1\n",
    "    \n",
    "            \n",
    "    "
   ]
  },
  {
   "cell_type": "code",
   "execution_count": null,
   "id": "480ef394",
   "metadata": {},
   "outputs": [],
   "source": [
    "# What does the daily user activity look like?\n",
    "unique_users_daily_freq = dict(sorted(unique_users_daily_freq.items()))\n",
    "\n",
    "indices = [x for x in unique_users_daily_freq.keys()]\n",
    "values = [x for x in unique_users_daily_freq.values()]\n",
    "\n",
    "fig = go.Figure()\n",
    "\n",
    "# Add traces\n",
    "fig.add_trace(go.Scatter(x = indices, y = values,\n",
    "                         mode = 'lines+markers'\n",
    "                         )\n",
    "\n",
    ")\n",
    "\n",
    "fig.show()\n"
   ]
  },
  {
   "cell_type": "code",
   "execution_count": null,
   "id": "05a681f3",
   "metadata": {},
   "outputs": [],
   "source": [
    "# What does the hourly user activity look like?\n",
    "indices = [x for x in unique_users_hourly_freq.keys()]\n",
    "values = [x for x in unique_users_hourly_freq.values()]\n",
    "\n",
    "fig = go.Figure()\n",
    "\n",
    "# Add traces\n",
    "fig.add_trace(go.Scatter(x = indices, y = values,\n",
    "                         mode = 'markers'\n",
    "                         )\n",
    "\n",
    ")\n",
    "\n",
    "fig.show()"
   ]
  },
  {
   "cell_type": "code",
   "execution_count": null,
   "id": "6635bea8",
   "metadata": {},
   "outputs": [],
   "source": [
    "# What does the weekly user activity look like?\n",
    "indices = [x for x in unique_users_weekly_freq.keys()]\n",
    "values = [x for x in unique_users_weekly_freq.values()]\n",
    "\n",
    "fig = go.Figure()\n",
    "\n",
    "# Add traces\n",
    "fig.add_trace(go.Scatter(x = indices, y = values,\n",
    "                         mode = 'markers'\n",
    "                         )\n",
    "\n",
    ")\n",
    "\n",
    "fig.show()"
   ]
  },
  {
   "cell_type": "code",
   "execution_count": null,
   "metadata": {},
   "outputs": [],
   "source": [
    "# What does the weekly user activity look like?\n",
    "indices = [x for x in unique_users_dayofweek_freq.keys()]\n",
    "values = [x for x in unique_users_dayofweek_freq.values()]\n",
    "\n",
    "fig = go.Figure()\n",
    "\n",
    "# Add traces\n",
    "fig.add_trace(go.Scatter(x = indices, y = values,\n",
    "                         mode = 'markers'\n",
    "                         )\n",
    "\n",
    ")\n",
    "\n",
    "fig.show()"
   ]
  },
  {
   "cell_type": "markdown",
   "id": "5668d320",
   "metadata": {},
   "source": [
    "## Users"
   ]
  },
  {
   "cell_type": "markdown",
   "id": "361ef1f1",
   "metadata": {},
   "source": [
    "Daily User growth"
   ]
  },
  {
   "cell_type": "code",
   "execution_count": null,
   "id": "d61b4f2f",
   "metadata": {},
   "outputs": [],
   "source": [
    "unique_user_ids = df['user_id'].unique()\n",
    "\n",
    "# Create dictionaries\n",
    "unique_users_daily_growth_freq= {}\n",
    "unique_users_hourly_freq = {}\n",
    "unique_users_dayofweek_freq = {}\n",
    "unique_users_weekly_freq = {}\n",
    "\n",
    "for id in unique_user_ids:\n",
    "    # Get the subset of that user id\n",
    "    tmp_df = df[df['user_id'] == id]\n",
    "    first_index = tmp_df['impression_time_fixed'].index[0]\n",
    "    tmp_datetime = pd.DatetimeIndex(tmp_df['impression_time_fixed'][first_index])\n",
    "    tmp_date = tmp_datetime[0].date()\n",
    "    join_date = tmp_date.strftime('%m/%d/%Y')\n",
    "    #join_date = join_date.strftime('%m/%d/%Y')\n",
    "    \n",
    "    if join_date not in unique_users_daily_growth_freq:\n",
    "        unique_users_daily_growth_freq[join_date] = 1\n",
    "    else:\n",
    "        unique_users_daily_growth_freq[join_date] +=1\n",
    "    \n",
    "unique_users_daily_growth_freq = dict(sorted(unique_users_daily_growth_freq.items()))"
   ]
  },
  {
   "cell_type": "code",
   "execution_count": null,
   "id": "f2bafa25",
   "metadata": {},
   "outputs": [],
   "source": [
    "indices = [x for x in unique_users_daily_growth_freq.keys()]\n",
    "values = [x for x in unique_users_daily_growth_freq.values()]\n",
    "\n",
    "fig = go.Figure()\n",
    "\n",
    "# Add traces\n",
    "fig.add_trace(go.Bar(x = indices, y = values,\n",
    "                         \n",
    "                         )\n",
    "\n",
    ")\n",
    "\n",
    "fig.update_traces(texttemplate='%{text:.2s}', textposition='outside')\n",
    "fig.update_layout(uniformtext_minsize=8, uniformtext_mode='hide')\n",
    "\n",
    "fig.show()"
   ]
  },
  {
   "cell_type": "markdown",
   "id": "0bf6f358",
   "metadata": {},
   "source": [
    "### Average readtime per user"
   ]
  },
  {
   "cell_type": "code",
   "execution_count": 33,
   "id": "fc8a48f2",
   "metadata": {},
   "outputs": [
    {
     "data": {
      "application/vnd.plotly.v1+json": {
       "config": {
        "plotlyServerURL": "https://plot.ly"
       },
       "data": [
        {
         "opacity": 0.55,
         "type": "histogram",
         "x": [
          101,
          24,
          87,
          20.66666603088379,
          25.5,
          28.5,
          45.599998474121094,
          51,
          91.33333587646484,
          43.66666793823242,
          52,
          91.25,
          24,
          17.200000762939453,
          43.75,
          120.55555725097656,
          16,
          145.6999969482422,
          172,
          20.75,
          49,
          69.41666412353516,
          34.75,
          18,
          61,
          55,
          9,
          52.400001525878906,
          23.950000762939453,
          84.42857360839844,
          215.5,
          81,
          31,
          39.939998626708984,
          31.909090042114258,
          52.5,
          30,
          238,
          51,
          10,
          668,
          245.5,
          183.5833282470703,
          101,
          48.5,
          58,
          33.75,
          81.80000305175781,
          37,
          22,
          6,
          65,
          42.421051025390625,
          68,
          21.5,
          117,
          10.5,
          31,
          67,
          103.125,
          66.04762268066406,
          77.80000305175781,
          244.5,
          65.80000305175781,
          71.53333282470703,
          24,
          68.77777862548828,
          22,
          49.48147964477539,
          94,
          27,
          44,
          37,
          125.66666412353516,
          26.75,
          50,
          135,
          80,
          53.5,
          37.79999923706055,
          39.599998474121094,
          31.157894134521484,
          66,
          68.28571319580078,
          89.5,
          64,
          120.30769348144531,
          31.33333396911621,
          33.22222137451172,
          30,
          25,
          117.83333587646484,
          52.42856979370117,
          57,
          204.77777099609375,
          73.11111450195312,
          10.666666984558105,
          95.64705657958984,
          40,
          91.66666412353516,
          49.380950927734375,
          31.46666717529297,
          14.25,
          62,
          32.85714340209961,
          66.33333587646484,
          26.933332443237305,
          51,
          43.5,
          28,
          90.5999984741211,
          26.33333396911621,
          17,
          81.66666412353516,
          42.57143020629883,
          78.5,
          182,
          32.94444274902344,
          70.81818389892578,
          86,
          80.66666412353516,
          41,
          20,
          102.55555725097656,
          140,
          78.25,
          49.400001525878906,
          52.5,
          46.5,
          33,
          332,
          45.20000076293945,
          71.125,
          19.85714340209961,
          37.14285659790039,
          30,
          95,
          82.25,
          143.73809814453125,
          52,
          40,
          50,
          193.5,
          175.7857208251953,
          301,
          63,
          75.66666412353516,
          50.33333206176758,
          22.799999237060547,
          79.33333587646484,
          114.16666412353516,
          17.25,
          106,
          67,
          213,
          94.90908813476562,
          69.96551513671875,
          129,
          19.5,
          55.71428680419922,
          265.3333435058594,
          182,
          62.79999923706055,
          74.66666412353516,
          122.55555725097656,
          114,
          125.5,
          70.18181610107422,
          32,
          60,
          108.71428680419922,
          51.83333206176758,
          65,
          58.5,
          38.80555725097656,
          27.44444465637207,
          68,
          96,
          70.18518829345703,
          111,
          22,
          21.625,
          36.66666793823242,
          75,
          54,
          29.5,
          17,
          15,
          65.5,
          73.66666412353516,
          32,
          100,
          47,
          222,
          12.199999809265137,
          42.5,
          510.5,
          18.5,
          48,
          81.66666412353516,
          130.87301635742188,
          79.5999984741211,
          100,
          46.5,
          37.5,
          39.935482025146484,
          31,
          55.09677505493164,
          140.125,
          100.80000305175781,
          44.5,
          22.909090042114258,
          43.20000076293945,
          74.09473419189453,
          21.299999237060547,
          14,
          35.25,
          81.22222137451172,
          24,
          91.5,
          28,
          48,
          25.75,
          111,
          92,
          57.25,
          82,
          45.95000076293945,
          50.66666793823242,
          449.5,
          163,
          109,
          66,
          59,
          99.23076629638672,
          386,
          81.5999984741211,
          90.85106658935547,
          31,
          42,
          42.14285659790039,
          98.35185241699219,
          35.07692337036133,
          151.2857208251953,
          70.5999984741211,
          29.33333396911621,
          59.8125,
          97,
          78.33333587646484,
          86,
          175,
          55.83333206176758,
          44,
          51.91666793823242,
          18,
          151,
          80.36666870117188,
          31,
          55.33333206176758,
          183,
          301,
          239,
          9,
          9.5,
          6.666666507720947,
          32.5,
          85,
          129.90908813476562,
          58.25,
          23.071428298950195,
          107,
          47.42856979370117,
          74,
          24.33333396911621,
          62,
          77.19999694824219,
          106.18181610107422,
          58.20000076293945,
          81.09091186523438,
          59,
          32,
          54.13333511352539,
          11,
          57.3278694152832,
          70.66666412353516,
          56.565216064453125,
          179.6666717529297,
          118,
          72.46154022216797,
          172,
          142,
          34.5,
          86,
          68,
          47,
          79,
          116.66666412353516,
          97.53845977783203,
          84,
          55.35714340209961,
          95.66666412353516,
          32.75,
          79.5,
          48,
          28,
          92.69230651855469,
          21.85714340209961,
          37.44444274902344,
          51.88888931274414,
          26.285715103149414,
          27.83333396911621,
          45,
          106.85713958740234,
          31.799999237060547,
          68,
          200.375,
          101,
          99.19444274902344,
          117.5,
          16.399999618530273,
          55.33333206176758,
          134,
          60.79999923706055,
          26,
          6.666666507720947,
          30,
          219,
          141.10000610351562,
          48,
          96.5,
          22.25,
          123,
          79.5,
          83,
          58.94117736816406,
          144,
          72.40351104736328,
          125.08695983886719,
          76.5999984741211,
          52.625,
          65,
          57,
          35,
          32.33333206176758,
          29.85714340209961,
          152.6666717529297,
          142,
          147.6666717529297,
          630,
          77,
          41.54545593261719,
          39.55555725097656,
          57.92856979370117,
          19,
          60,
          29.299999237060547,
          13,
          50,
          15,
          39,
          61.599998474121094,
          88.19999694824219,
          73,
          21.5,
          54.266666412353516,
          39.33333206176758,
          65,
          1746,
          13.5,
          63.75,
          41,
          21.5,
          24.33333396911621,
          62.5,
          185.5833282470703,
          43,
          85,
          100.30000305175781,
          53.5,
          32.16666793823242,
          30,
          40.33333206176758,
          72.11111450195312,
          47.57143020629883,
          40,
          47,
          25,
          248.3333282470703,
          84.5,
          40.5,
          182,
          23,
          103,
          78.47826385498047,
          68.33333587646484,
          175,
          150,
          95.38461303710938,
          48.83333206176758,
          118.75,
          58,
          58,
          51,
          80,
          40,
          40.25,
          32.70000076293945,
          18,
          67,
          209.88888549804688,
          51,
          33.904762268066406,
          46,
          72.66666412353516,
          3,
          89.61538696289062,
          108.375,
          36,
          23,
          61,
          69.33333587646484,
          37.75,
          24.875,
          86,
          19.100000381469727,
          58.75,
          99.5,
          81,
          140.6666717529297,
          77.91304016113281,
          97.75,
          39,
          37,
          62.9375,
          659,
          140.6666717529297,
          72,
          74.33333587646484,
          40.75757598876953,
          151.9130401611328,
          98.06666564941406,
          53,
          96,
          92.42857360839844,
          22,
          34.30769348144531,
          100,
          70,
          102,
          10.5,
          113,
          15,
          35.25,
          50,
          58.5,
          28,
          98.66666412353516,
          73.75,
          27,
          29,
          159.74359130859375,
          23,
          30.5,
          55.5,
          97.80327606201172,
          141.63636779785156,
          136.62069702148438,
          40,
          46,
          71.5,
          45.5,
          35.20000076293945,
          9,
          120,
          22,
          118,
          72,
          39,
          46,
          42,
          120.5,
          9.818181991577148,
          7,
          40,
          46,
          60.16666793823242,
          44.400001525878906,
          37,
          47.28571319580078,
          43,
          50.16666793823242,
          17.5,
          55.20000076293945,
          144,
          62,
          86,
          44,
          30.83333396911621,
          53.99212646484375,
          112.25,
          435,
          30,
          116.25,
          80.19999694824219,
          7,
          26,
          22,
          168.63636779785156,
          74.75,
          57,
          25.100000381469727,
          119.25,
          74.57142639160156,
          66.88888549804688,
          76,
          77.80000305175781,
          146.125,
          45.588233947753906,
          113.91666412353516,
          103.33333587646484,
          108,
          115.5,
          54.05882263183594,
          72.4000015258789,
          98.375,
          57.21052551269531,
          22.25,
          65,
          32.33333206176758,
          19,
          59,
          322,
          28.5,
          22,
          26.33333396911621,
          61,
          50,
          101.66666412353516,
          24,
          69.7272720336914,
          108,
          17.5,
          63,
          222.5,
          53.20000076293945,
          84.44444274902344,
          109.54166412353516,
          108.5,
          34,
          98.25,
          31.14285659790039,
          133.48147583007812,
          41.5,
          61.25,
          79.08333587646484,
          18,
          170.5,
          136.84616088867188,
          33,
          30,
          45,
          203,
          46.29999923706055,
          47,
          116.66666412353516,
          183,
          41.625,
          214,
          36,
          57.20000076293945,
          49.14285659790039,
          133,
          52,
          35.66666793823242,
          99.33333587646484,
          107.80000305175781,
          55.14285659790039,
          63.14285659790039,
          132.5,
          78.38888549804688,
          776,
          89.33333587646484,
          95,
          250.60000610351562,
          185,
          54,
          77,
          82.90908813476562,
          49,
          61.836734771728516,
          64.14286041259766,
          108.5625,
          27,
          41,
          47.20000076293945,
          12,
          79.25714111328125,
          89.21428680419922,
          37.55555725097656,
          4,
          9,
          64.11111450195312,
          68.5,
          92.14286041259766,
          38.5,
          75,
          1450,
          47,
          62.5,
          95.80000305175781,
          46,
          60.842105865478516,
          6,
          37.20000076293945,
          21,
          41,
          137.85714721679688,
          33,
          55.5,
          46,
          37,
          35.599998474121094,
          121.80000305175781,
          202,
          54,
          113.83333587646484,
          80,
          32.599998474121094,
          64.80000305175781,
          32,
          339,
          46,
          108.21052551269531,
          46.22222137451172,
          57,
          74.28571319580078,
          74,
          69.82608795166016,
          266,
          42.66666793823242,
          34,
          68.5999984741211,
          41,
          16,
          97.13333129882812,
          21,
          64.5882339477539,
          33,
          100,
          10,
          302.5,
          78.5,
          81.4000015258789,
          61.599998474121094,
          567.3333129882812,
          161.3333282470703,
          4.4285712242126465,
          30,
          778,
          53.266666412353516,
          83.90908813476562,
          15.5,
          67.5,
          113.80000305175781,
          65.64705657958984,
          68,
          93,
          52.77777862548828,
          72.4000015258789,
          51.33333206176758,
          30.5,
          74,
          58.5,
          24,
          292.75,
          66.80000305175781,
          63.88888931274414,
          41.818180084228516,
          64.75,
          76,
          143.41175842285156,
          40,
          4,
          241,
          88.37036895751953,
          63.33333206176758,
          65.08000183105469,
          23,
          21.5,
          124.5,
          28.5,
          52,
          111.75,
          73.14286041259766,
          41,
          74.5,
          14,
          11.5,
          54.33333206176758,
          69.44444274902344,
          134.92857360839844,
          254,
          61.26315689086914,
          33.599998474121094,
          29,
          50,
          18.625,
          20,
          47,
          57,
          61.5,
          105,
          106.5,
          39.33333206176758,
          49.375,
          138,
          53,
          27.5,
          81,
          34.25,
          73.5,
          28.5,
          59,
          68.85713958740234,
          70.5,
          78.5,
          61.375,
          95.5,
          45,
          95.88888549804688,
          32.57143020629883,
          103.75,
          39.58333206176758,
          31,
          35,
          87,
          163,
          42.16666793823242,
          331,
          113,
          144,
          165,
          58,
          49,
          84.22222137451172,
          112.59091186523438,
          27.75,
          64,
          32.61538314819336,
          43.79999923706055,
          40.5,
          66.66666412353516,
          59,
          112.81818389892578,
          75.25,
          98.33333587646484,
          168.8000030517578,
          37.5,
          24.77777862548828,
          37,
          86.5999984741211,
          70.64444732666016,
          26,
          25.899999618530273,
          13.777777671813965,
          28.94444465637207,
          51,
          58,
          26,
          14.5,
          44,
          96.42857360839844,
          55.230770111083984,
          55.75,
          39,
          78.875,
          29.200000762939453,
          28.75,
          86,
          29,
          58,
          20.91666603088379,
          35.25,
          98.04000091552734,
          42.5,
          96.66666412353516,
          41.875,
          94,
          81.5,
          102,
          57.75,
          36,
          134.22222900390625,
          72.19999694824219,
          114,
          65,
          89.11111450195312,
          32,
          56.66666793823242,
          89.5,
          85.80000305175781,
          12,
          32.5,
          22.799999237060547,
          50.5,
          71.5,
          92.25,
          56.57143020629883,
          53,
          41,
          48,
          28,
          327,
          43,
          54.83333206176758,
          26.600000381469727,
          25.75,
          58.66666793823242,
          28,
          90.5,
          145.7894744873047,
          31.363636016845703,
          55.20000076293945,
          21.5,
          36,
          22,
          125.5,
          70,
          163,
          47.66666793823242,
          104,
          54.434783935546875,
          118,
          77.16666412353516,
          152.5,
          52.5,
          63.153846740722656,
          87,
          27,
          130.7142791748047,
          23.5,
          43,
          26.33333396911621,
          21,
          48.88888931274414,
          130.5,
          59,
          8,
          109.23809814453125,
          47.882354736328125,
          77,
          56,
          42.5,
          154.5,
          39.5,
          84,
          16.75,
          157.89999389648438,
          62,
          57.28571319580078,
          194.75,
          38.79999923706055,
          79.6551742553711,
          12,
          225.48147583007812,
          68.83333587646484,
          43.375,
          60.5,
          74.33333587646484,
          188,
          59.71428680419922,
          25.25,
          27,
          67,
          22.5,
          55.5,
          7,
          105.5,
          54.599998474121094,
          63.75,
          36,
          11,
          89.5,
          74,
          96,
          67.25,
          82.5,
          50,
          78.57142639160156,
          51,
          68.5,
          92,
          46,
          67.5,
          32,
          32.5,
          44.5,
          32.66666793823242,
          58.5,
          313.6666564941406,
          9,
          57.4782600402832,
          105.53845977783203,
          105,
          65,
          23.5,
          356.5,
          30,
          63.5,
          48.230770111083984,
          41.86666488647461,
          57.57143020629883,
          146,
          100.16666412353516,
          67,
          147.60000610351562,
          31.5,
          69.25,
          20.66666603088379,
          62,
          33.75,
          31,
          22.200000762939453,
          42.66666793823242,
          49.78947448730469,
          27.399999618530273,
          159,
          49.52631759643555,
          36,
          57.66666793823242,
          39.69230651855469,
          24.727272033691406,
          28.799999237060547,
          102.44000244140625,
          55.5,
          41,
          53,
          309,
          136,
          98,
          69.69999694824219,
          300,
          36,
          53.5,
          71.09091186523438,
          58.77777862548828,
          117,
          116,
          45.66666793823242,
          60.5,
          91.75,
          118.5,
          81.66666412353516,
          98.5,
          31.66666603088379,
          86.5,
          53.66666793823242,
          156.75,
          70,
          66.66666412353516,
          80.45454406738281,
          40,
          46,
          17,
          223.2857208251953,
          28.5,
          868,
          23,
          25,
          35,
          86,
          55.66666793823242,
          57,
          99.15384674072266,
          83.5,
          116.33333587646484,
          17,
          34.57143020629883,
          112.94444274902344,
          18.727272033691406,
          15.833333015441895,
          22,
          21.1875,
          47.3125,
          190.6666717529297,
          95.5250015258789,
          188.5,
          68.33333587646484,
          74,
          16.399999618530273,
          141.1666717529297,
          100.57142639160156,
          35.60869598388672,
          31,
          50.33333206176758,
          20.85714340209961,
          80.09091186523438,
          58.025001525878906,
          13,
          12,
          37.33333206176758,
          9,
          101.11764526367188,
          196,
          92.19999694824219,
          43,
          56.75,
          111,
          68.86111450195312,
          20,
          293,
          42.33333206176758,
          53,
          126,
          11,
          117.66666412353516,
          31.5,
          69,
          146,
          108.08695983886719,
          66.4000015258789,
          35.85714340209961,
          103.33333587646484,
          86,
          69.5,
          26.16666603088379,
          34.5,
          66.19999694824219,
          108,
          32,
          90.05714416503906,
          52.150943756103516,
          88,
          107.83333587646484,
          70.70587921142578,
          29.18181800842285,
          6.5,
          198,
          79.69230651855469,
          108.1515121459961,
          82,
          33.5,
          78,
          57,
          29,
          63.5,
          38.66666793823242,
          26.25,
          28.33333396911621,
          79.5999984741211,
          66.66666412353516,
          18.33333396911621,
          14.5,
          43,
          13,
          79.4137954711914,
          726,
          332.6666564941406,
          53.25,
          42,
          101.10526275634766,
          39.57143020629883,
          20.5,
          46.900001525878906,
          36,
          33.5,
          55,
          23.153846740722656,
          35.66666793823242,
          440.25,
          40.66666793823242,
          615,
          47,
          25.799999237060547,
          94,
          68.5,
          51.33333206176758,
          161,
          66.85713958740234,
          66.4117660522461,
          69.80000305175781,
          63,
          95,
          77.625,
          61.5,
          67,
          42,
          84.625,
          33,
          7.800000190734863,
          22.33333396911621,
          33.5,
          16.5,
          41.64285659790039,
          79,
          58.64706039428711,
          102.375,
          23.200000762939453,
          5,
          164.60000610351562,
          57.42856979370117,
          21,
          21,
          35.14285659790039,
          101,
          80,
          50.233333587646484,
          57,
          85,
          57,
          0,
          66.66666412353516,
          68.33333587646484,
          51.125,
          23,
          31.5,
          67.5,
          72,
          91.5,
          137,
          68,
          103.23076629638672,
          69.5,
          22,
          46.05263137817383,
          19,
          70,
          14,
          121.18072509765625,
          25,
          160,
          136,
          51.75,
          54.625,
          129,
          90,
          44.75,
          37,
          73,
          70.66666412353516,
          116,
          77.5,
          42.83333206176758,
          221,
          57.79999923706055,
          12,
          61.70000076293945,
          150,
          50,
          46.849998474121094,
          196,
          120,
          62.91379165649414,
          197,
          54,
          45.38461685180664,
          92,
          52.5,
          14,
          32.400001525878906,
          45.5,
          114.5,
          15.399999618530273,
          55,
          113.75,
          119.75,
          55.5,
          104.875,
          60.769229888916016,
          18,
          74,
          65,
          101.42105102539062,
          57,
          82,
          19.846153259277344,
          13.666666984558105,
          330.125,
          141.5,
          59.61538314819336,
          65.44444274902344,
          142,
          95.08333587646484,
          37.54545593261719,
          41.33333206176758,
          39,
          23,
          55.25,
          83.5999984741211,
          64.16666412353516,
          48,
          41.75,
          54.5,
          108.77777862548828,
          328.5,
          30,
          73,
          65.7272720336914,
          20,
          24.5,
          47,
          76.5,
          95.78125,
          36.33333206176758,
          39.2068977355957,
          44,
          63,
          49,
          97,
          44,
          132.09091186523438,
          76.16666412353516,
          109.64705657958984,
          50.619049072265625,
          55,
          88.85713958740234,
          33,
          50,
          172.5,
          19.85714340209961,
          57.33333206176758,
          37.44444274902344,
          56.5,
          93,
          45.380950927734375,
          94,
          42.55555725097656,
          35,
          32.33333206176758,
          49.5,
          53.66666793823242,
          58.5,
          64.16666412353516,
          33.20000076293945,
          75.78378295898438,
          33,
          38.07692337036133,
          22.625,
          112,
          51.20000076293945,
          63.3125,
          32.25,
          50.967742919921875,
          20,
          41,
          10,
          95,
          28,
          100,
          345.3333435058594,
          29.727272033691406,
          56.400001525878906,
          36.83333206176758,
          39.599998474121094,
          16.299999237060547,
          467,
          97,
          84.5999984741211,
          68.1875,
          18,
          50.20000076293945,
          42.82978820800781,
          42,
          32,
          42.79999923706055,
          39,
          24.571428298950195,
          7.599999904632568,
          43.88888931274414,
          150.5,
          118.70587921142578,
          227.25,
          73.33333587646484,
          91,
          55.66666793823242,
          75,
          71.57142639160156,
          104,
          47,
          84.66666412353516,
          40.19047546386719,
          33.58333206176758,
          53,
          268,
          46.33333206176758,
          18.33333396911621,
          22,
          24,
          91.1875,
          167.60000610351562,
          35.75,
          54.29999923706055,
          56.5,
          71.90908813476562,
          43.16128921508789,
          136.3333282470703,
          279,
          10,
          55.54545593261719,
          51.846153259277344,
          178.60000610351562,
          49.79999923706055,
          34.9523811340332,
          112.66666412353516,
          27.33333396911621,
          76.125,
          101.5,
          161,
          9,
          36.85714340209961,
          61.29411697387695,
          114,
          122.25,
          73.5,
          69,
          102.33333587646484,
          46,
          33.33333206176758,
          48.96875,
          11,
          35.20000076293945,
          38.5,
          43.33333206176758,
          53.230770111083984,
          87.5,
          78.73332977294922,
          58,
          73,
          48.92307662963867,
          53.894737243652344,
          39.14285659790039,
          30,
          39,
          22,
          26,
          56.22222137451172,
          36.16666793823242,
          320,
          23.75,
          75.5,
          50,
          16,
          7,
          23.5,
          98,
          71.70370483398438,
          53,
          46,
          60.5,
          167.3333282470703,
          69,
          73.33333587646484,
          42.75,
          55.66666793823242,
          13,
          17.83333396911621,
          26.375,
          35.57143020629883,
          88.66666412353516,
          83,
          27.5,
          33.5,
          23.5,
          38.599998474121094,
          33.66666793823242,
          8,
          9,
          101,
          78,
          89,
          98.4000015258789,
          109.66666412353516,
          64,
          18.5,
          24,
          26,
          91.06666564941406,
          60.41666793823242,
          112.53845977783203,
          61.599998474121094,
          46.727272033691406,
          76.83333587646484,
          66.5,
          34.5,
          129.1999969482422,
          53.5,
          104.5,
          49.375,
          52.92856979370117,
          68.57142639160156,
          20,
          74.5,
          31.176469802856445,
          39,
          44,
          219,
          67.76923370361328,
          35,
          20.153846740722656,
          109.5,
          29.5,
          66.64705657958984,
          12.666666984558105,
          68.52631378173828,
          63,
          31.33333396911621,
          104.30000305175781,
          47,
          151.55555725097656,
          88,
          21,
          67.14286041259766,
          66.22222137451172,
          83,
          44.25,
          70.2631607055664,
          34.869564056396484,
          74,
          56.33333206176758,
          124.5,
          45.93939208984375,
          9,
          72,
          355.20001220703125,
          27.478260040283203,
          76,
          59.25,
          110,
          119,
          34.75,
          179.89999389648438,
          96.5999984741211,
          78.66666412353516,
          32,
          179.375,
          74,
          21,
          33.16666793823242,
          141,
          64.17857360839844,
          92.41666412353516,
          65.33333587646484,
          50.1315803527832,
          29.66666603088379,
          75,
          68.5,
          72,
          82.21428680419922,
          36.33333206176758,
          17.600000381469727,
          46.6875,
          30.66666603088379,
          66.5,
          89,
          45,
          33.25,
          71.2727279663086,
          644.5,
          62.71428680419922,
          41.5,
          252,
          57.5,
          9,
          26,
          73,
          112.63157653808594,
          24.5,
          90.5,
          11,
          137.57142639160156,
          176.39999389648438,
          39,
          70.9000015258789,
          49.153846740722656,
          33,
          100,
          433,
          25,
          22.33333396911621,
          62,
          241,
          44.400001525878906,
          150,
          33.52000045776367,
          129.3333282470703,
          59.46154022216797,
          76.05882263183594,
          42.625,
          32,
          41.5,
          21.5,
          60.33333206176758,
          107,
          65,
          123.5,
          44.33333206176758,
          81.38095092773438,
          57.3636360168457,
          69.25,
          26,
          43.33333206176758,
          49.5,
          66.33333587646484,
          33,
          42.92683029174805,
          47.3684196472168,
          13,
          193,
          384,
          132,
          93.28571319580078,
          32,
          60.5,
          222,
          58,
          75,
          46,
          42.66666793823242,
          92,
          30.571428298950195,
          83,
          18,
          72.5,
          127,
          101.33333587646484,
          47.22222137451172,
          61.22222137451172,
          53.33333206176758,
          103,
          44.095237731933594,
          69,
          61.400001525878906,
          31.66666603088379,
          59.93333435058594,
          791,
          67,
          22.5,
          43,
          14,
          28,
          76.41666412353516,
          64.875,
          45.66666793823242,
          152,
          43,
          15,
          54,
          38.5,
          66.05000305175781,
          70,
          50.11111068725586,
          199.5,
          123,
          141,
          50.400001525878906,
          26.5,
          65.66666412353516,
          614,
          396,
          79.66666412353516,
          101.5,
          56.33333206176758,
          45.977272033691406,
          84.17073059082031,
          42,
          21,
          5,
          120.5999984741211,
          35.66666793823242,
          60.5,
          67,
          200,
          52,
          44.25,
          34,
          74.53845977783203,
          93,
          70,
          30.5,
          81.33333587646484,
          75.38888549804688,
          63.33333206176758,
          39.57143020629883,
          56,
          44,
          105,
          14,
          90,
          16,
          83.14286041259766,
          11,
          28.428571701049805,
          114.5,
          76,
          66.80000305175781,
          16.33333396911621,
          42,
          178.3333282470703,
          76,
          47.66666793823242,
          155,
          91.25,
          108.5,
          75.85713958740234,
          47.5,
          85.5,
          28.25,
          32.44444274902344,
          312.1666564941406,
          106,
          16,
          64,
          24,
          53,
          67.14286041259766,
          38.5,
          22,
          85.19999694824219,
          256.73333740234375,
          96,
          93.42105102539062,
          21,
          41.157894134521484,
          101.42857360839844,
          23.33333396911621,
          179.75,
          27,
          160,
          39,
          12.142857551574707,
          0,
          62,
          52.9375,
          52.33333206176758,
          96,
          106.5,
          16.076923370361328,
          200.5,
          47,
          81,
          42,
          23,
          66.12000274658203,
          103,
          27.16666603088379,
          55,
          34.5,
          105,
          53.08333206176758,
          76.4000015258789,
          22,
          116,
          197.25,
          29,
          26,
          88,
          146,
          90.44444274902344,
          34.44444274902344,
          104,
          22,
          43.875,
          8.5,
          86,
          58.66666793823242,
          169.1999969482422,
          28.30769157409668,
          73.95999908447266,
          31,
          95.26923370361328,
          126.41666412353516,
          55,
          33,
          12.44444465637207,
          116,
          131,
          37,
          46,
          62.599998474121094,
          50.71428680419922,
          153,
          100,
          90.625,
          48.66666793823242,
          120.11111450195312,
          66.33333587646484,
          75.9259262084961,
          61.79999923706055,
          157.07691955566406,
          140,
          42.5,
          42,
          548,
          39.5,
          76.66666412353516,
          17.66666603088379,
          19,
          58,
          105,
          103,
          53.75,
          115,
          58.5,
          50.400001525878906,
          107.14286041259766,
          31.75,
          41.727272033691406,
          100.5,
          17,
          13,
          70.72222137451172,
          109,
          56.5,
          244,
          173.36363220214844,
          114,
          50.3636360168457,
          76.5,
          19,
          146.625,
          65,
          83.5,
          106.7272720336914,
          129.3333282470703,
          45,
          52.625,
          101.11111450195312,
          25,
          16,
          176.60000610351562,
          107.75,
          59,
          44.599998474121094,
          29,
          90,
          68,
          322.3333435058594,
          107.17241668701172,
          73.4000015258789,
          44.83333206176758,
          74.71428680419922,
          126.33333587646484,
          48.71428680419922,
          42.33333206176758,
          89,
          27,
          72.4000015258789,
          25,
          100.5,
          57.75,
          72.58064270019531,
          15,
          23.5,
          90.5,
          101.83333587646484,
          29.399999618530273,
          114.66000366210938,
          100,
          30.33333396911621,
          6,
          51,
          24,
          46.42856979370117,
          30,
          68.5,
          33.5,
          23,
          55.5,
          126.5,
          94,
          57.78688430786133,
          82,
          129.5,
          10,
          69.5,
          104.82474517822266,
          80,
          130.6666717529297,
          31.66666603088379,
          101.625,
          38.72222137451172,
          57,
          20.33333396911621,
          76.75,
          108.42857360839844,
          64,
          54.64285659790039,
          50.42856979370117,
          80,
          36,
          45.06666564941406,
          1186,
          53.75,
          108.66666412353516,
          61.25,
          44.5,
          50,
          9,
          45.125,
          48.599998474121094,
          23,
          62,
          35.88888931274414,
          54,
          26.5,
          48.57143020629883,
          41,
          946,
          40,
          53,
          26.25,
          149.25,
          113,
          31,
          39.14285659790039,
          53,
          22.600000381469727,
          19.55555534362793,
          145,
          77,
          67.4000015258789,
          143.5,
          37,
          100.38461303710938,
          126.38888549804688,
          18,
          24.66666603088379,
          26.66666603088379,
          279.5,
          88.47826385498047,
          29.727272033691406,
          210,
          29.44444465637207,
          103.16666412353516,
          54.66666793823242,
          218.8000030517578,
          21,
          119,
          45,
          58.28571319580078,
          61,
          40.66666793823242,
          82.75,
          40,
          51.14285659790039,
          42.71428680419922,
          80.25,
          13.666666984558105,
          37.5,
          53.846153259277344,
          82.43478393554688,
          81.80000305175781,
          48.20000076293945,
          173,
          387,
          6,
          75,
          300,
          79.07353210449219,
          71.19999694824219,
          94.19999694824219,
          123.5,
          19.5,
          162,
          50,
          220,
          44,
          97.25,
          136,
          20,
          41,
          92.4000015258789,
          70,
          57.79999923706055,
          134.60000610351562,
          171.5,
          87,
          7,
          22.5,
          41.79999923706055,
          174.25,
          251,
          77.33333587646484,
          52.411766052246094,
          17.33333396911621,
          86,
          25.5,
          34,
          76,
          59.125,
          60.25,
          62.0625,
          38,
          23.285715103149414,
          84.96666717529297,
          36,
          53,
          65.5,
          48.69230651855469,
          83,
          27,
          157,
          32,
          45.66666793823242,
          113.16666412353516,
          71.71428680419922,
          32,
          61,
          34.727272033691406,
          69,
          13,
          122.5,
          43,
          25,
          143,
          103.54166412353516,
          51.79999923706055,
          39.54716873168945,
          55.79999923706055,
          107,
          105.5,
          39.74285888671875,
          75,
          59.5,
          92.90908813476562,
          62.14285659790039,
          25.296297073364258,
          31,
          76,
          41,
          80.14286041259766,
          12,
          60,
          145.6666717529297,
          157.24000549316406,
          58.5,
          89.80000305175781,
          44.400001525878906,
          58.75,
          112.4000015258789,
          28.5,
          54.79999923706055,
          100.4000015258789,
          66.28571319580078,
          81.42857360839844,
          56.5,
          30.6875,
          55,
          219.25,
          52,
          50.5,
          125,
          26,
          203,
          41.07692337036133,
          51,
          41.29999923706055,
          35.0625,
          105.11111450195312,
          71,
          29,
          34,
          128,
          35.5,
          45,
          16.5,
          55,
          62.3636360168457,
          108,
          87.5,
          62,
          57.849998474121094,
          54,
          59.599998474121094,
          26.33333396911621,
          25,
          27,
          66.25,
          31.454545974731445,
          134,
          76.58333587646484,
          27.5,
          54,
          57.5,
          76.30000305175781,
          30.25,
          18,
          68.66666412353516,
          105.75,
          37,
          11.666666984558105,
          51.20000076293945,
          67,
          77.5,
          39.4375,
          42,
          46.42307662963867,
          102.33333587646484,
          38.70000076293945,
          27.3125,
          39.28571319580078,
          35.23404312133789,
          251.92857360839844,
          148.3333282470703,
          77,
          62.41666793823242,
          10,
          52.79999923706055,
          35.58333206176758,
          62.33333206176758,
          84.5,
          74,
          113,
          49,
          205.15383911132812,
          51.5,
          42,
          20,
          233.42857360839844,
          69.4000015258789,
          9,
          87,
          30.5,
          12,
          85.75,
          16,
          20,
          20.076923370361328,
          31.5,
          45.400001525878906,
          47,
          15,
          67.4000015258789,
          262.6666564941406,
          44.28571319580078,
          45.42856979370117,
          83,
          91,
          87.14286041259766,
          32.14285659790039,
          89.71428680419922,
          98,
          49.5,
          10.399999618530273,
          67.5,
          119.33333587646484,
          97.75,
          40.71428680419922,
          190.6666717529297,
          28.25,
          26,
          69,
          66.4000015258789,
          121.33333587646484,
          19.75,
          91.47761535644531,
          59.71428680419922,
          110,
          53,
          151.14285278320312,
          154.3333282470703,
          64.90322875976562,
          67.63636016845703,
          201.1999969482422,
          56.33333206176758,
          46.44444274902344,
          49.71428680419922,
          123.5,
          99,
          98.80000305175781,
          42,
          22.33333396911621,
          27,
          94.16666412353516,
          39,
          23.5,
          76.06666564941406,
          16,
          31.66666603088379,
          27.5,
          66.66666412353516,
          119.11428833007812,
          95.54545593261719,
          55.5,
          36.733333587646484,
          62.5,
          321,
          53,
          138,
          96.14814758300781,
          38.59090805053711,
          53,
          35.400001525878906,
          62.66666793823242,
          51.400001525878906,
          74.22222137451172,
          160.89999389648438,
          70.875,
          178.5,
          59,
          54,
          141,
          31.5,
          39,
          46.5,
          91,
          50.75,
          47.30769348144531,
          110.7272720336914,
          33.3125,
          74.3448257446289,
          40,
          32,
          137.5,
          20,
          9,
          44.14285659790039,
          40,
          65.92308044433594,
          49.20000076293945,
          19,
          45.16666793823242,
          65,
          27.5,
          116.33333587646484,
          98.19999694824219,
          12,
          65,
          90,
          67.55555725097656,
          39,
          58,
          13,
          63,
          162.60000610351562,
          94.75,
          45.66666793823242,
          34,
          57.056602478027344,
          67.16666412353516,
          198.26922607421875,
          120.125,
          27,
          106,
          66.5,
          105,
          65.69999694824219,
          73.85713958740234,
          135.44444274902344,
          14.125,
          91,
          66,
          76.83333587646484,
          67,
          68.25,
          106,
          346,
          63,
          38.33333206176758,
          104,
          19,
          56,
          15.666666984558105,
          101,
          107,
          74,
          49,
          71,
          41.5,
          43,
          90.69999694824219,
          25,
          79.4000015258789,
          117,
          82.22222137451172,
          22.049999237060547,
          44.93333435058594,
          19,
          39,
          166.875,
          36,
          14,
          103,
          63.22222137451172,
          20.66666603088379,
          97.55555725097656,
          18,
          149,
          173.39999389648438,
          137,
          55.400001525878906,
          79.66666412353516,
          27.5,
          102,
          95.4000015258789,
          65.75,
          103.5,
          33.9523811340332,
          42,
          82.66666412353516,
          122.625,
          54,
          32.45454406738281,
          45,
          80.57142639160156,
          19.5,
          34.650001525878906,
          30.899999618530273,
          44.5,
          59.400001525878906,
          69.05555725097656,
          71,
          135.10000610351562,
          75.36363983154297,
          46.66666793823242,
          23,
          51,
          34,
          33.400001525878906,
          90.125,
          16.600000381469727,
          30.64285659790039,
          55.92307662963867,
          81.57142639160156,
          89.5,
          14.375,
          249.86666870117188,
          62.875,
          16.571428298950195,
          68,
          53.625,
          59.75,
          29,
          76.09091186523438,
          22.66666603088379,
          76.57142639160156,
          35.625,
          83.5,
          138.60000610351562,
          15,
          10.5,
          56.9375,
          55.53781509399414,
          40.66666793823242,
          61.5,
          43.42856979370117,
          40,
          46.66666793823242,
          111,
          81.19999694824219,
          100.75,
          96.5,
          24.200000762939453,
          46.71428680419922,
          20.428571701049805,
          34.66666793823242,
          48.57143020629883,
          50,
          132,
          49,
          33.5476188659668,
          79.5,
          29.33333396911621,
          123.83333587646484,
          46.85714340209961,
          38.5,
          50.842105865478516,
          76.19999694824219,
          86.19999694824219,
          95.66666412353516,
          40,
          63.375,
          125.75362396240234,
          82.9000015258789,
          114.5,
          37,
          36,
          49.266666412353516,
          67.66666412353516,
          44.33333206176758,
          119.66666412353516,
          25.851852416992188,
          57,
          125.33333587646484,
          42,
          16,
          48.53333282470703,
          340,
          42.5,
          41,
          99.84210205078125,
          57,
          374,
          221,
          182,
          71.75,
          90.75,
          94,
          65.14286041259766,
          86,
          146,
          592.5999755859375,
          41.66666793823242,
          105,
          106.38888549804688,
          41.25,
          33.47058868408203,
          50.875,
          50,
          78,
          45.42856979370117,
          116.5,
          211.39999389648438,
          37.09090805053711,
          34,
          8.5,
          31.66666603088379,
          72,
          119.08333587646484,
          109.5,
          31,
          87.66666412353516,
          13,
          84,
          26.200000762939453,
          39,
          66.80000305175781,
          35.5,
          90.19999694824219,
          65.33333587646484,
          19.5,
          65.61538696289062,
          26.55555534362793,
          26,
          34.5,
          73.71428680419922,
          132.80645751953125,
          18,
          30.5,
          295.5,
          70,
          38,
          72.0999984741211,
          29,
          91.33333587646484,
          168,
          42,
          28,
          91.875,
          18.5,
          56.3636360168457,
          67,
          13.333333015441895,
          38,
          59,
          314,
          35.5,
          28,
          8.199999809265137,
          220.7857208251953,
          7,
          40.20000076293945,
          141.39999389648438,
          7,
          154.5,
          107.0999984741211,
          33.75,
          62.66666793823242,
          49,
          50,
          19.85714340209961,
          52.33333206176758,
          75,
          99,
          68.83333587646484,
          14,
          53.33333206176758,
          117.5,
          71,
          53,
          79.42857360839844,
          38,
          58.1315803527832,
          60.66666793823242,
          20,
          59.66666793823242,
          108.28571319580078,
          48,
          30.25,
          81.83333587646484,
          107,
          64.33333587646484,
          24,
          47.5,
          52,
          62,
          11,
          114,
          34,
          106,
          52.5,
          104,
          122,
          49,
          25,
          62.07143020629883,
          30,
          63.25,
          127.19999694824219,
          16,
          41.625,
          64.30769348144531,
          62.5,
          115,
          65,
          62.5,
          146,
          23,
          75.5,
          75,
          51.44117736816406,
          31,
          39.54166793823242,
          29.5,
          16,
          289.6666564941406,
          90.76923370361328,
          76,
          78,
          13.666666984558105,
          25.33333396911621,
          48.25,
          43.20000076293945,
          114.11764526367188,
          48,
          9.666666984558105,
          53,
          64.0434799194336,
          45.20000076293945,
          105.14286041259766,
          31.5,
          77.9259262084961,
          31.14285659790039,
          67.57575988769531,
          17,
          82.8499984741211,
          60.66666793823242,
          166.44444274902344,
          42,
          62.14285659790039,
          66.06666564941406,
          336,
          61,
          62.75,
          62.38461685180664,
          42,
          13,
          62,
          25,
          131,
          84.875,
          40,
          54.66666793823242,
          48,
          133.5,
          36.79999923706055,
          31,
          59,
          12,
          383.25,
          10,
          9,
          24,
          37,
          54.25,
          245.6666717529297,
          42.78571319580078,
          129.8333282470703,
          116,
          37,
          39.08333206176758,
          80,
          133,
          71.2727279663086,
          38,
          85,
          102,
          22.66666603088379,
          35,
          14,
          29,
          83,
          169.3333282470703,
          76.08333587646484,
          37.75,
          36,
          93.625,
          88,
          57,
          96.42857360839844,
          253,
          83.60784149169922,
          15.5,
          144.3333282470703,
          246,
          70.75,
          87,
          134,
          10,
          33.349998474121094,
          229.5,
          195.5,
          89.5,
          132.25,
          149.5,
          75.14286041259766,
          81.33333587646484,
          129.42857360839844,
          59,
          69.875,
          51.5,
          57,
          6,
          104,
          55.52381134033203,
          201.6999969482422,
          130.26315307617188,
          12.5,
          23,
          39.08333206176758,
          47.25,
          81,
          14.333333015441895,
          96.52381134033203,
          29.321428298950195,
          75,
          32.33333206176758,
          57.83333206176758,
          15,
          81,
          61.20000076293945,
          44.38461685180664,
          86,
          110.5,
          41.125,
          22,
          64.66666412353516,
          53.153846740722656,
          109.33333587646484,
          20,
          74.11538696289062,
          163,
          13.5,
          29,
          50,
          28.41666603088379,
          45,
          114,
          74.5,
          131,
          83,
          343.79998779296875,
          142.6666717529297,
          94,
          73,
          41,
          34.33333206176758,
          123.19999694824219,
          34,
          52.25,
          30.66666603088379,
          20.35714340209961,
          71,
          80,
          29.33333396911621,
          69,
          38,
          85,
          33.5,
          16,
          118,
          32.75,
          25.5,
          74,
          33,
          331,
          57.42856979370117,
          62.925926208496094,
          57,
          36.5,
          37,
          20.66666603088379,
          84.25,
          28,
          33,
          96.5999984741211,
          67,
          49,
          65.33333587646484,
          13.75,
          156.5,
          35,
          63.57143020629883,
          32,
          32.66666793823242,
          50.8125,
          71,
          164.64706420898438,
          119.33333587646484,
          59,
          40,
          78.25,
          28,
          89.5,
          62.5,
          73.85713958740234,
          54.20000076293945,
          52.25,
          12,
          76.45454406738281,
          12.666666984558105,
          57.3684196472168,
          38.5,
          45.54545593261719,
          13,
          59,
          37.75308609008789,
          23,
          194.10000610351562,
          123,
          49,
          141.5,
          59,
          291,
          49,
          24,
          71,
          231,
          48,
          90,
          34,
          44.5,
          35,
          66,
          58.599998474121094,
          87.5,
          104.36363983154297,
          80.66666412353516,
          25,
          229,
          55.33333206176758,
          9,
          87.22222137451172,
          176.39999389648438,
          84.83333587646484,
          23,
          7,
          12.666666984558105,
          32,
          99.19999694824219,
          53,
          15.5,
          54.625,
          50,
          51.22222137451172,
          74,
          45,
          105,
          8,
          63.06666564941406,
          116.30000305175781,
          137,
          46.77777862548828,
          59,
          69.42857360839844,
          72.66666412353516,
          109.53845977783203,
          67.69999694824219,
          19,
          117,
          55.20000076293945,
          76,
          26.600000381469727,
          90,
          54,
          15,
          221.5454559326172,
          64.5,
          143.5,
          44,
          75.66666412353516,
          140,
          139.46665954589844,
          118.75,
          89,
          34.727272033691406,
          27.66666603088379,
          58,
          93.75,
          69.5,
          76.55555725097656,
          7.5,
          49.5,
          12,
          38.400001525878906,
          10,
          52,
          53,
          26.5,
          33,
          150,
          66.80850982666016,
          70.60869598388672,
          444,
          33.5,
          35,
          102,
          53,
          85,
          33.769229888916016,
          78.75,
          99,
          70,
          118.5,
          48.25,
          75.5,
          128.5500030517578,
          17.161291122436523,
          67.66666412353516,
          22,
          29,
          74.63636016845703,
          46.60714340209961,
          164.60000610351562,
          27,
          78.40740966796875,
          88.58333587646484,
          62.400001525878906,
          122.83333587646484,
          116.25,
          45,
          95,
          42.3636360168457,
          10,
          297.5,
          12,
          8.75,
          74.33333587646484,
          83.5,
          107,
          37,
          65,
          40.568626403808594,
          76.5,
          518,
          114.80000305175781,
          36.125,
          72,
          59.75,
          64.36363983154297,
          74.56521606445312,
          37,
          54.7931022644043,
          47.33333206176758,
          47.44736862182617,
          85,
          78.14286041259766,
          33,
          57,
          49,
          334,
          149.90908813476562,
          67,
          63.55555725097656,
          56,
          103,
          66.75,
          174,
          58.94736862182617,
          17,
          28.66666603088379,
          103,
          24,
          75,
          58.3684196472168,
          43.07692337036133,
          34.85714340209961,
          109.25,
          68.75,
          11,
          26,
          63.59375,
          95,
          16.125,
          74,
          51.5,
          134.6666717529297,
          386,
          28.5,
          24,
          60,
          162,
          83.5999984741211,
          101.66666412353516,
          42,
          64.66666412353516,
          57.25,
          46.75,
          75,
          9,
          88.33333587646484,
          56.79999923706055,
          30,
          28.33333396911621,
          11,
          20.076923370361328,
          37.83333206176758,
          48.75,
          55.099998474121094,
          38.21428680419922,
          45.57143020629883,
          77.23636627197266,
          92.05882263183594,
          127,
          41.45454406738281,
          107,
          30.625,
          149.60000610351562,
          44,
          53,
          51,
          79.5,
          139.5,
          23,
          60.59375,
          55.36111068725586,
          51.28571319580078,
          174,
          51.5,
          107.42308044433594,
          79.81395721435547,
          64,
          50,
          10.333333015441895,
          12,
          210,
          65.17646789550781,
          83.62000274658203,
          198.6857147216797,
          40.5,
          70.66666412353516,
          105,
          52.57143020629883,
          82,
          42.25,
          38.33333206176758,
          120,
          46.93333435058594,
          57.5,
          23.399999618530273,
          90,
          137.4545440673828,
          17.5,
          46.66666793823242,
          32,
          133,
          18,
          24,
          13,
          117.5,
          43.709678649902344,
          73,
          32.25,
          58.1363639831543,
          73.83333587646484,
          23,
          32.400001525878906,
          51,
          80.33333587646484,
          68,
          21.421052932739258,
          51,
          87,
          24,
          13,
          17,
          43,
          45,
          73,
          15,
          21,
          104,
          26.66666603088379,
          105.75,
          139.5,
          29,
          23,
          50,
          41.5,
          1532,
          15.333333015441895,
          16,
          42,
          31.600000381469727,
          110,
          122,
          9.5,
          117.16666412353516,
          15,
          21.66666603088379,
          7,
          102.6451644897461,
          68.85713958740234,
          12,
          107.80000305175781,
          56,
          91,
          182.25,
          65,
          90.66000366210938,
          35,
          115.5,
          127.2272720336914,
          51.20000076293945,
          54,
          26,
          49.5,
          56.157894134521484,
          42,
          124,
          14,
          48,
          43.5,
          107,
          67,
          61.25,
          7,
          32,
          36,
          176,
          74.63461303710938,
          219,
          137.72549438476562,
          311.3448181152344,
          60.345455169677734,
          108.8499984741211,
          257,
          70,
          449,
          24.5,
          322,
          43,
          96.30000305175781,
          162.8333282470703,
          44.83333206176758,
          59.625,
          45.25,
          593.3333129882812,
          67.33333587646484,
          121.0999984741211,
          60.5,
          107.76119232177734,
          49.650001525878906,
          27,
          85.83333587646484,
          78.75,
          91.75,
          47.5,
          126.33333587646484,
          81.36842346191406,
          26,
          41,
          84.02531433105469,
          10,
          276.6000061035156,
          34,
          50.5,
          107,
          110,
          154.5,
          84.07894897460938,
          625,
          62.20000076293945,
          30.461538314819336,
          37,
          119.35713958740234,
          107,
          157,
          17,
          28.75,
          57.90909194946289,
          24.5,
          87.25,
          42.375,
          79.83333587646484,
          52.28571319580078,
          28,
          94.14286041259766,
          81,
          69,
          50.400001525878906,
          85,
          126.16666412353516,
          24.66666603088379,
          44.375,
          35.348838806152344,
          15,
          81.66197204589844,
          112.5,
          77.19999694824219,
          35,
          47.66666793823242,
          133,
          87,
          58,
          82.5,
          53.07692337036133,
          101,
          17.75,
          33.66666793823242,
          66,
          75,
          110.75,
          207,
          19,
          118,
          33,
          59.14285659790039,
          107,
          83,
          70,
          88.16666412353516,
          90,
          181.1999969482422,
          104.66666412353516,
          62,
          59.85714340209961,
          58,
          61,
          83.80000305175781,
          20,
          188.75,
          38,
          156,
          89,
          20,
          53,
          0,
          33.125,
          112.83333587646484,
          51.5,
          143,
          67.5,
          20.25,
          82.19999694824219,
          90,
          60.28571319580078,
          23,
          30,
          312,
          75.625,
          126.36363983154297,
          27.33333396911621,
          48.33333206176758,
          132.46665954589844,
          30.16666603088379,
          16,
          138.55999755859375,
          123.25,
          35.33333206176758,
          22,
          52.3125,
          50,
          144,
          119.45454406738281,
          44.83333206176758,
          50.5,
          42,
          27,
          158,
          60,
          62.5,
          55,
          71.5,
          105.25,
          138.375,
          28.83333396911621,
          53,
          92.07691955566406,
          21.399999618530273,
          118,
          54,
          142.39999389648438,
          12,
          97.17646789550781,
          87,
          61.53845977783203,
          225.3333282470703,
          49.5,
          55.772727966308594,
          141,
          120.40908813476562,
          99.25,
          23.399999618530273,
          71.17391204833984,
          17.33333396911621,
          42.09090805053711,
          84.85713958740234,
          137.5,
          49,
          32.71428680419922,
          46,
          121,
          44.71428680419922,
          55,
          80.01219177246094,
          104.0625,
          74,
          59.77777862548828,
          48.625,
          236.5,
          92.1025619506836,
          56,
          0,
          20,
          69.04000091552734,
          72,
          42,
          79,
          67,
          47.66666793823242,
          72,
          129.25,
          77.71428680419922,
          126,
          33.33333206176758,
          29.14285659790039,
          109,
          45.305084228515625,
          40,
          72.28571319580078,
          115.33333587646484,
          43.20000076293945,
          91,
          32,
          51.79999923706055,
          8.399999618530273,
          89,
          114.0999984741211,
          98,
          37,
          13.75,
          37.28571319580078,
          81.83333587646484,
          32,
          47.16666793823242,
          67,
          99,
          41,
          106.9259262084961,
          9,
          36.66666793823242,
          35.66666793823242,
          49,
          151,
          304,
          52.75,
          65,
          32.925926208496094,
          18,
          57.1875,
          90.5,
          37.125,
          80,
          95.75,
          70.19999694824219,
          77.33333587646484,
          134,
          93.33333587646484,
          121,
          17.5,
          77.83333587646484,
          24.5,
          151.8333282470703,
          41.79999923706055,
          93.0999984741211,
          63,
          28,
          41.57143020629883,
          19.33333396911621,
          53.66666793823242,
          63.099998474121094,
          23.33333396911621,
          79.54545593261719,
          99.28571319580078,
          32,
          54.25,
          85,
          60.599998474121094,
          71.5,
          39.71428680419922,
          35.84693908691406,
          28,
          44.400001525878906,
          82,
          106,
          39.904762268066406,
          111.53333282470703,
          29.909090042114258,
          69.5,
          98.5,
          42.099998474121094,
          32,
          86.5999984741211,
          65,
          69.5,
          45,
          90.53845977783203,
          53.66666793823242,
          117.5,
          29,
          43.44444274902344,
          37.5,
          35.79999923706055,
          106.05999755859375,
          52,
          56,
          65,
          56.5,
          63.54545593261719,
          94.76923370361328,
          37.33333206176758,
          47.5,
          36.818180084228516,
          395,
          48.6363639831543,
          66.66666412353516,
          23,
          50.59090805053711,
          82.875,
          109,
          101.80000305175781,
          17.5,
          128,
          68.5,
          64,
          58.45454406738281,
          18.5,
          52.894737243652344,
          39.400001525878906,
          26,
          40.57143020629883,
          18.5,
          122,
          14.666666984558105,
          52,
          199.57142639160156,
          51.6363639831543,
          140.6666717529297,
          44.125,
          73.5,
          49.21428680419922,
          31.799999237060547,
          49,
          62,
          114.5,
          114.5,
          36.57143020629883,
          31,
          38.61538314819336,
          68.5,
          39.19047546386719,
          116.33333587646484,
          53.272727966308594,
          19.16666603088379,
          261.5,
          38.266666412353516,
          17,
          67.28571319580078,
          30.5,
          145.35293579101562,
          148.0416717529297,
          32.25,
          100,
          43.272727966308594,
          66,
          152,
          73,
          93,
          57.44444274902344,
          16,
          29,
          75.5,
          45,
          52.482757568359375,
          54.66666793823242,
          87,
          41.46428680419922,
          72.9000015258789,
          61.125,
          28,
          86.33333587646484,
          57.14285659790039,
          43,
          142,
          111.33333587646484,
          340,
          78,
          288.5,
          26,
          116,
          56.70000076293945,
          23.714284896850586,
          72.33333587646484,
          53.5,
          131,
          82,
          90.23912811279297,
          24.5,
          20,
          62.66666793823242,
          48,
          40,
          48.599998474121094,
          96.66666412353516,
          76,
          33,
          34,
          38.20000076293945,
          53.57143020629883,
          27,
          73.14286041259766,
          41.16666793823242,
          10,
          62.66666793823242,
          62.82143020629883,
          77,
          27,
          185.23529052734375,
          53.90909194946289,
          52.875,
          27.33333396911621,
          65,
          107.66666412353516,
          50.400001525878906,
          26,
          394,
          45,
          71.73076629638672,
          85.24444580078125,
          347.5,
          95,
          37.439998626708984,
          37.33333206176758,
          101.56756591796875,
          52,
          126,
          94,
          253.5,
          27,
          46,
          53.85714340209961,
          88,
          41.33333206176758,
          35,
          40.33333206176758,
          43.79999923706055,
          81.66666412353516,
          28.33333396911621,
          59.5,
          53.33333206176758,
          37,
          192.5,
          6,
          32.5,
          60.25,
          539,
          42,
          55,
          55,
          52.6363639831543,
          263,
          286,
          46.33333206176758,
          114.75,
          8,
          56.86666488647461,
          20.66666603088379,
          120.5,
          12,
          58.75,
          157.5,
          105.66666412353516,
          94.5,
          77.875,
          98,
          476,
          43.39393997192383,
          57.5,
          75.5,
          60,
          103.33333587646484,
          40,
          132.6666717529297,
          27.799999237060547,
          103,
          15,
          80,
          96,
          150,
          210.5,
          87.80000305175781,
          403,
          66.46666717529297,
          38.5,
          63.5,
          76.85713958740234,
          82,
          84.41666412353516,
          64.41666412353516,
          160.5,
          63.875,
          32,
          37,
          59.157894134521484,
          91.1875,
          81,
          67,
          174.5,
          118,
          45,
          73,
          54.92982482910156,
          67.14286041259766,
          37.75,
          87.5,
          30.60714340209961,
          58,
          66.33333587646484,
          72,
          48.153846740722656,
          71.875,
          31.299999237060547,
          124,
          95.33333587646484,
          366.6666564941406,
          20,
          88.55555725097656,
          128,
          91.9000015258789,
          120.08333587646484,
          10.666666984558105,
          96,
          47.33333206176758,
          90.3125,
          91.48275756835938,
          28.571428298950195,
          64,
          63.375,
          82.92308044433594,
          91.66666412353516,
          51,
          101.5,
          35.79999923706055,
          39,
          102,
          36.3636360168457,
          55.66666793823242,
          120.5,
          20,
          89.5,
          46,
          77.5,
          246.57142639160156,
          35,
          11,
          281,
          93,
          131,
          31,
          64.25,
          11.399999618530273,
          26,
          58.66666793823242,
          503.25,
          123,
          121.83333587646484,
          38.83333206176758,
          12,
          129,
          168,
          55.411766052246094,
          53.25,
          151,
          82.66666412353516,
          65.5,
          16,
          68.5,
          39,
          20.5,
          66.75,
          88.375,
          37.25,
          49.25,
          86,
          88.08333587646484,
          39.33333206176758,
          78.19999694824219,
          42,
          111,
          10.5,
          112,
          75,
          84,
          106,
          73.33333587646484,
          94.46154022216797,
          27.399999618530273,
          33.83333206176758,
          127,
          27.83333396911621,
          82.14286041259766,
          45.33333206176758,
          9.181818008422852,
          37.25,
          57.21052551269531,
          65.65079498291016,
          65.2727279663086,
          129,
          82,
          107.95237731933594,
          90.4000015258789,
          40,
          67.13636016845703,
          50.6315803527832,
          66.5,
          45.099998474121094,
          6,
          52.25,
          58.66666793823242,
          42.41666793823242,
          82.51351165771484,
          82,
          30.14285659790039,
          67.5,
          30.700000762939453,
          68,
          92,
          69.19999694824219,
          84.66666412353516,
          39,
          27,
          87,
          57.66666793823242,
          286.6666564941406,
          1609,
          58.57143020629883,
          386,
          13,
          95.40908813476562,
          67,
          81.15789794921875,
          82.13636016845703,
          64.80000305175781,
          40.66666793823242,
          64,
          75.5,
          63,
          93.5,
          114.4000015258789,
          29.600000381469727,
          34.33333206176758,
          42.375,
          16.33333396911621,
          40.75,
          303,
          59.57143020629883,
          39.5,
          125,
          19.22222137451172,
          56,
          51.33333206176758,
          16.75,
          56.5,
          34,
          42.5,
          43.75,
          29,
          67.5,
          24,
          42,
          62,
          29,
          13,
          15.8125,
          276,
          55.1875,
          61.21428680419922,
          54.63934326171875,
          109.33333587646484,
          61.599998474121094,
          87.66666412353516,
          68,
          15.75,
          22,
          83.83333587646484,
          113,
          50.33333206176758,
          54,
          76.71428680419922,
          35.181819915771484,
          186.6666717529297,
          99,
          150.77777099609375,
          267.9444580078125,
          69.52941131591797,
          38.11111068725586,
          38.75,
          65.75,
          27.600000381469727,
          232.60000610351562,
          22.375,
          161.76922607421875,
          47.074073791503906,
          156,
          32,
          27,
          192.7916717529297,
          97,
          22.6875,
          128.60000610351562,
          17.5,
          86.54545593261719,
          66.33333587646484,
          93,
          123,
          33,
          52,
          18.200000762939453,
          37.5,
          32.5,
          12,
          61.79999923706055,
          89.5,
          81.0952377319336,
          39,
          45.75,
          57.85714340209961,
          96.5,
          111.4000015258789,
          52.5,
          32.33333206176758,
          56.25,
          20.5,
          12.5,
          133.73333740234375,
          17,
          81.5,
          63.157894134521484,
          54,
          10,
          98,
          79.5,
          43.93333435058594,
          69.25,
          13.666666984558105,
          100,
          110,
          28,
          64,
          16.75,
          40.5,
          50,
          11.636363983154297,
          100.30000305175781,
          63,
          51.15999984741211,
          32,
          79,
          45,
          40.5,
          21,
          39,
          538.3333129882812,
          60.51852035522461,
          17,
          1620,
          285,
          64.92308044433594,
          43.33333206176758,
          49,
          14,
          29,
          24,
          74.22222137451172,
          61.94736862182617,
          21,
          80.5,
          55.51515197753906,
          61,
          26,
          127.55555725097656,
          57.5,
          50,
          31.5,
          24.714284896850586,
          144,
          39,
          49.25,
          39.57143020629883,
          6,
          146,
          123,
          37.33333206176758,
          90,
          45.16666793823242,
          61.33333206176758,
          42,
          62.400001525878906,
          245.1999969482422,
          94,
          60,
          56,
          68.5,
          30,
          59.16666793823242,
          69.33333587646484,
          11,
          53.880001068115234,
          7,
          52.75,
          68.875,
          49,
          20,
          18,
          56,
          103.85713958740234,
          46.33333206176758,
          39.98305130004883,
          57,
          31.571428298950195,
          65.36363983154297,
          98.5,
          148.3333282470703,
          41.5,
          19.66666603088379,
          59,
          52.16666793823242,
          45.25,
          93.5,
          133,
          68.4000015258789,
          99.75,
          9,
          204.62962341308594,
          91.11111450195312,
          106,
          79.66666412353516,
          74.89873504638672,
          123.69999694824219,
          42.5,
          18.5,
          40,
          33.125,
          70.80000305175781,
          89.5999984741211,
          34,
          42.5,
          144.3333282470703,
          87,
          22,
          89,
          100,
          44,
          12,
          182,
          81.28571319580078,
          26,
          56.5,
          114.83333587646484,
          67.16666412353516,
          46.5,
          110.66666412353516,
          59.95454406738281,
          37,
          155.46153259277344,
          19,
          55,
          56.5,
          55.09090805053711,
          66,
          155.25,
          49,
          93,
          21,
          65.15384674072266,
          69.5999984741211,
          44.5,
          144,
          85,
          39.900001525878906,
          62.57143020629883,
          48.16666793823242,
          21,
          57,
          22,
          122,
          44,
          68,
          119.5,
          67.5,
          75,
          92,
          53.5,
          29.75,
          68,
          54.75,
          38.8125,
          169.23077392578125,
          61,
          47.75,
          118,
          12.5,
          122.85713958740234,
          69.5999984741211,
          34,
          179.2857208251953,
          147.86666870117188,
          29.5,
          69.82353210449219,
          29,
          25.5,
          57.45454406738281,
          21.5,
          219,
          35,
          64.66666412353516,
          59,
          48.578948974609375,
          19,
          64,
          154,
          60.66666793823242,
          60,
          43.599998474121094,
          66,
          48.61538314819336,
          118,
          18.200000762939453,
          12,
          82.5,
          52,
          20.81818199157715,
          128.3333282470703,
          77.66666412353516,
          62.66666793823242,
          50,
          57.20000076293945,
          9,
          55.650001525878906,
          115,
          74.46666717529297,
          22,
          101.28571319580078,
          126.9000015258789,
          56.266666412353516,
          17.33333396911621,
          51,
          52,
          34,
          112.71428680419922,
          45.5,
          6,
          93.16666412353516,
          43.5,
          51,
          74.52941131591797,
          78,
          55.83333206176758,
          145,
          25,
          61.14285659790039,
          43.14285659790039,
          128,
          77.85713958740234,
          62.6875,
          77,
          42.5,
          64.66666412353516,
          12,
          15,
          31.88888931274414,
          109,
          88,
          42.5,
          14,
          84.54545593261719,
          95,
          43,
          61,
          79,
          42.599998474121094,
          84,
          92,
          47.5,
          85.66666412353516,
          37.5,
          43.71428680419922,
          38,
          158,
          499.5,
          108.40908813476562,
          86.5,
          43.16666793823242,
          42.33333206176758,
          57,
          46,
          56,
          26.77777862548828,
          47.400001525878906,
          13,
          57,
          177,
          79.94999694824219,
          131.5,
          18,
          29,
          47.33333206176758,
          280,
          32.44444274902344,
          191,
          100.76000213623047,
          53.043479919433594,
          90,
          59.28571319580078,
          145.53846740722656,
          106.33333587646484,
          114.05882263183594,
          35.66666793823242,
          48.129032135009766,
          40.733333587646484,
          578,
          60.400001525878906,
          40.33333206176758,
          52,
          50.5,
          46,
          115.5,
          103.4000015258789,
          104,
          23.66666603088379,
          71.37255096435547,
          54.400001525878906,
          70.33333587646484,
          103,
          27,
          48.08695602416992,
          107,
          74.4000015258789,
          26,
          100,
          32.5,
          32,
          130.7142791748047,
          70.70967864990234,
          121.5,
          36,
          7,
          66,
          64,
          23,
          30.66666603088379,
          30.75,
          87,
          76.83333587646484,
          72,
          58,
          108.55555725097656,
          89.81818389892578,
          133,
          42.66666793823242,
          18.58333396911621,
          121,
          90.66666412353516,
          217,
          50.83333206176758,
          58.47058868408203,
          88.80000305175781,
          112.0999984741211,
          94.25,
          111.44444274902344,
          7.666666507720947,
          44.75,
          127,
          64,
          132.5,
          67.5,
          24.600000381469727,
          44.57143020629883,
          186.7142791748047,
          151.85714721679688,
          70.53845977783203,
          142,
          152.22222900390625,
          125,
          137,
          38,
          102.75,
          69.24137878417969,
          87,
          62.5,
          345.3333435058594,
          141,
          7.5714287757873535,
          114.08333587646484,
          59.16666793823242,
          86.5,
          86.24242401123047,
          20,
          253.2857208251953,
          63.33333206176758,
          96.80000305175781,
          82.66666412353516,
          16,
          100,
          72.5999984741211,
          78.86363983154297,
          83.05555725097656,
          49.5,
          125.48148345947266,
          78,
          31.5,
          252.3333282470703,
          39.6875,
          15,
          46.5,
          94,
          85.3125,
          10.5,
          89.5,
          66,
          53,
          59.79999923706055,
          110.73332977294922,
          115,
          17.85714340209961,
          44.75,
          44,
          75,
          187,
          123.86666870117188,
          42.25,
          85.68421173095703,
          98,
          46,
          85,
          23.454545974731445,
          26.950000762939453,
          76.66666412353516,
          22.55555534362793,
          59.19355010986328,
          97,
          37,
          61,
          188.42857360839844,
          46.70000076293945,
          109.625,
          104,
          46,
          48.565216064453125,
          29.200000762939453,
          99.71428680419922,
          85.75,
          38,
          100.5,
          81,
          68,
          31.16666603088379,
          60,
          82.5862045288086,
          44.8636360168457,
          69.33333587646484,
          66.33333587646484,
          263.125,
          53.33333206176758,
          55.588233947753906,
          138.5,
          259.75,
          44.16666793823242,
          60.33333206176758,
          53.25,
          58.33333206176758,
          86.31818389892578,
          59,
          45,
          28.5,
          41,
          161.5,
          29,
          66.48148345947266,
          37.5,
          141,
          57,
          36,
          50.79999923706055,
          76,
          453.5,
          121.66666412353516,
          152.625,
          47,
          36.181819915771484,
          28,
          75,
          81.30000305175781,
          131.25,
          48,
          33.5,
          157.39999389648438,
          57.5,
          46,
          66.75,
          62.30769348144531,
          78.80000305175781,
          61.91666793823242,
          73.5625,
          98.66666412353516,
          164.97015380859375,
          290,
          23,
          168.6999969482422,
          28,
          28.66666603088379,
          28,
          60,
          81.11111450195312,
          74,
          61.33333206176758,
          55.5,
          78,
          43.79999923706055,
          32,
          48.33333206176758,
          52,
          263,
          65,
          138.5,
          42.75,
          93.54838562011719,
          72,
          68.5,
          201,
          107.39534759521484,
          308.5,
          167,
          45,
          101,
          12,
          28,
          24.5,
          36.44444274902344,
          14.285714149475098,
          47.17567443847656,
          30,
          22.5,
          203.09091186523438,
          21,
          265,
          53,
          31.700000762939453,
          31.31818199157715,
          53.5,
          61,
          36,
          104,
          32,
          70.42308044433594,
          71.04545593261719,
          68,
          48.5,
          53.33333206176758,
          77,
          47,
          17.5,
          37.71428680419922,
          96,
          51,
          26.88888931274414,
          123.33333587646484,
          85,
          58,
          193.7142791748047,
          41.5,
          41,
          27,
          93.66666412353516,
          29.399999618530273,
          67,
          101,
          165.72222900390625,
          26,
          41,
          39,
          68.5,
          168,
          52.27777862548828,
          56,
          54,
          88,
          130,
          112,
          65,
          50.75,
          35,
          38,
          38.11111068725586,
          27,
          66.16666412353516,
          62.75,
          38,
          182.1999969482422,
          52,
          63.66666793823242,
          33.818180084228516,
          54.29545593261719,
          95.14286041259766,
          113.66666412353516,
          50,
          52.375,
          105.33333587646484,
          74,
          129,
          89.06666564941406,
          54.92856979370117,
          49.66666793823242,
          96.80000305175781,
          193.36363220214844,
          49,
          70.4000015258789,
          117,
          85.38461303710938,
          6.5,
          56.41666793823242,
          54,
          97.33333587646484,
          26.272727966308594,
          115.57894897460938,
          225,
          37,
          91.5625,
          68.83333587646484,
          121.44000244140625,
          4,
          42.33333206176758,
          76.5,
          12,
          187,
          101.25,
          328,
          147.22222900390625,
          28.363636016845703,
          143,
          35,
          118.91666412353516,
          119,
          85.71875,
          49.71428680419922,
          55.25,
          83,
          66,
          62,
          74,
          91,
          245.63636779785156,
          64.25,
          269,
          73.16666412353516,
          51,
          47,
          53.83333206176758,
          94.42857360839844,
          8,
          97.33333587646484,
          33,
          42.5,
          76,
          103.5,
          96,
          55.890625,
          222,
          33,
          103.80644989013672,
          104,
          65,
          49,
          79.25,
          98.30000305175781,
          36.64285659790039,
          279.3333435058594,
          50,
          68.5,
          12,
          23,
          51.83333206176758,
          92.5,
          307,
          86.66666412353516,
          20,
          49.25,
          53.98958206176758,
          92.66666412353516,
          31,
          101.46154022216797,
          73.5,
          283.3999938964844,
          50.024391174316406,
          50,
          51,
          70.39534759521484,
          57.16666793823242,
          39,
          68,
          21.5,
          53.20000076293945,
          70.25,
          24.200000762939453,
          27.16666603088379,
          45.599998474121094,
          314,
          209,
          59,
          21,
          49.25,
          8,
          57,
          96.30303192138672,
          131.04347229003906,
          62.71428680419922,
          79.4000015258789,
          301,
          33,
          151.25,
          13,
          104.14814758300781,
          68,
          53.338462829589844,
          42.66666793823242,
          80,
          18,
          49.599998474121094,
          126.5,
          68,
          23.399999618530273,
          39,
          103,
          59,
          14.5,
          123,
          52.5,
          49,
          53,
          37.33333206176758,
          31,
          53,
          68.4000015258789,
          66.23076629638672,
          59.842105865478516,
          97,
          12.666666984558105,
          562,
          41.5,
          74.5,
          20.5,
          107.5,
          166,
          79.66666412353516,
          48.16666793823242,
          7,
          28,
          52,
          77.5999984741211,
          56.25,
          84.83333587646484,
          267.0769348144531,
          42.5,
          27,
          37.33333206176758,
          198.875,
          40,
          43.20000076293945,
          41.75,
          31,
          33.28571319580078,
          81.5,
          79.5,
          57,
          45,
          83.34782409667969,
          29.399999618530273,
          111.16666412353516,
          57.1363639831543,
          48.44444274902344,
          61.33333206176758,
          48,
          57,
          34,
          118.5,
          44.55555725097656,
          18.5,
          9,
          33.5,
          68.42105102539062,
          9,
          201,
          51,
          108,
          25,
          10.199999809265137,
          43.75,
          38,
          139.7894744873047,
          34,
          39.75,
          107.75,
          88.5,
          28.33333396911621,
          82,
          28.600000381469727,
          33.33333206176758,
          81.71428680419922,
          67.14286041259766,
          52,
          44.66666793823242,
          14.769230842590332,
          39.66666793823242,
          180,
          78.625,
          110.5,
          94.66666412353516,
          22,
          52,
          65.19999694824219,
          38,
          14,
          132,
          75.41666412353516,
          57.14285659790039,
          19,
          39,
          113.5,
          55,
          78.31578826904297,
          14,
          74,
          10.5,
          60,
          209,
          8,
          73.27027130126953,
          105.58333587646484,
          38.28571319580078,
          12,
          67.66666412353516,
          106.375,
          72,
          60.20000076293945,
          91.33333587646484,
          26.285715103149414,
          37,
          49.5,
          70,
          68,
          127.5,
          106.63888549804688,
          43,
          22.66666603088379,
          63.25714111328125,
          68.33333587646484,
          62,
          29,
          297.125,
          15.666666984558105,
          68.33333587646484,
          77,
          34,
          55.5,
          30.33333396911621,
          54.5,
          6,
          378,
          63.20000076293945,
          63,
          39,
          53.33333206176758,
          74,
          81,
          170.8000030517578,
          116.66666412353516,
          20.33333396911621,
          29,
          136,
          17,
          22.285715103149414,
          34,
          684.5,
          48.71428680419922,
          11.333333015441895,
          55.47368240356445,
          21.600000381469727,
          67.95237731933594,
          23,
          42,
          42.78947448730469,
          56.764705657958984,
          88,
          105,
          66,
          72.66666412353516,
          49.66666793823242,
          94,
          62.238094329833984,
          393,
          21,
          4.400000095367432,
          63.25,
          98,
          53,
          42,
          8.333333015441895,
          62.482757568359375,
          80,
          10,
          64.5999984741211,
          27.33333396911621,
          61.85714340209961,
          51,
          67.30303192138672,
          70.71428680419922,
          86.22222137451172,
          12,
          29.83333396911621,
          126,
          135.14285278320312,
          84,
          21,
          42.61538314819336,
          49,
          28,
          19,
          104.13636016845703,
          51.5,
          41,
          76.80000305175781,
          43.79999923706055,
          148.875,
          47.599998474121094,
          42,
          40.66666793823242,
          62,
          68.21951293945312,
          50.78947448730469,
          93.5,
          47,
          72.9117660522461,
          82,
          24.33333396911621,
          123,
          63,
          82,
          34,
          13,
          92.25,
          53.5,
          62.66666793823242,
          48,
          18,
          64.5,
          54,
          46,
          19.090909957885742,
          46.55555725097656,
          63,
          10,
          35,
          21,
          235.5,
          37.5,
          68,
          57.61538314819336,
          56.79999923706055,
          220,
          21,
          449.5,
          122.5,
          60.5,
          88,
          20.33333396911621,
          47.69230651855469,
          36.25,
          63.71428680419922,
          79.5,
          59,
          71.76190185546875,
          30,
          16,
          53.14285659790039,
          34,
          32.19480514526367,
          16.5,
          58.69230651855469,
          22.33333396911621,
          19.5,
          152.5454559326172,
          429,
          48.79999923706055,
          41.70588302612305,
          90.5,
          400.3333435058594,
          84.44444274902344,
          76.375,
          64.55555725097656,
          53,
          42,
          49,
          38.79999923706055,
          64.16666412353516,
          116.75,
          24.200000762939453,
          8,
          236,
          157.3076934814453,
          87,
          74.53333282470703,
          134,
          13.666666984558105,
          56.92307662963867,
          36,
          51,
          96.0999984741211,
          77.28571319580078,
          33,
          68,
          64.33333587646484,
          81.9000015258789,
          51.900001525878906,
          152.3333282470703,
          61.5,
          13,
          124,
          148.375,
          61,
          20.33333396911621,
          53,
          62,
          115.375,
          94,
          68.88888549804688,
          57,
          46.421051025390625,
          46.33333206176758,
          68,
          78,
          65.29412078857422,
          37.425533294677734,
          81,
          16,
          7,
          51,
          86.5,
          13.800000190734863,
          23,
          84.66666412353516,
          66.33333587646484,
          148.75,
          144.6666717529297,
          255.8000030517578,
          31,
          151,
          33.66666793823242,
          80,
          37.66666793823242,
          158,
          33.900001525878906,
          148,
          80.88888549804688,
          69,
          7,
          45,
          79.9473648071289,
          137,
          40.75,
          22.5,
          44.25,
          59.16666793823242,
          30.33333396911621,
          82,
          13,
          64.04000091552734,
          43.727272033691406,
          33.16666793823242,
          13,
          32,
          33.85714340209961,
          35,
          92,
          40,
          22.5,
          31.799999237060547,
          62,
          49.28571319580078,
          16,
          189,
          75.78947448730469,
          59.73684310913086,
          104.64705657958984,
          84,
          48,
          73.5999984741211,
          45,
          20,
          85,
          57,
          97.41666412353516,
          128.7142791748047,
          55.75,
          13,
          79.94444274902344,
          91.5,
          144.60000610351562,
          9.5,
          118.4000015258789,
          103.75,
          98,
          53.75,
          119.68965148925781,
          19,
          17.5,
          32.5,
          36,
          48,
          26.25,
          220.5,
          398.5,
          10.666666984558105,
          60.6363639831543,
          15,
          219.5,
          16.600000381469727,
          120.33333587646484,
          50.35714340209961,
          102.5,
          27.5,
          78,
          159,
          78,
          69,
          33.90909194946289,
          21,
          33.25,
          93,
          64,
          24.75,
          216,
          71.33333587646484,
          17,
          106.25,
          24.5,
          123.33333587646484,
          17.66666603088379,
          39,
          162,
          80.96154022216797,
          35,
          53.099998474121094,
          46.5,
          26.5,
          28,
          42.25,
          30.714284896850586,
          35,
          157.6666717529297,
          55,
          30,
          53.157894134521484,
          183,
          22,
          29,
          117,
          296,
          139,
          90.8648681640625,
          83,
          113,
          59,
          54.11538314819336,
          31.66666603088379,
          75,
          196.1666717529297,
          25.66666603088379,
          39,
          53,
          24,
          116,
          155.4545440673828,
          83,
          64.4000015258789,
          56.5,
          51,
          56.29999923706055,
          7,
          20,
          64.2631607055664,
          36,
          113.5,
          83.5,
          204,
          44,
          70,
          26,
          33.75,
          23.5,
          90,
          33.20000076293945,
          45,
          58,
          8,
          96.5,
          42,
          44.25,
          58.375,
          17.83333396911621,
          164.5,
          157,
          69,
          32,
          105,
          157,
          24,
          51.348838806152344,
          158,
          23,
          133,
          27,
          19.66666603088379,
          19,
          34.82352828979492,
          213.5,
          37,
          17.5,
          29.5,
          77,
          74.24242401123047,
          31.090909957885742,
          51.14285659790039,
          58,
          54.875,
          42.66666793823242,
          91.5,
          69.625,
          58.5,
          115.25,
          252,
          76.66666412353516,
          71.18181610107422,
          293.3333435058594,
          8,
          85.14286041259766,
          32.17647171020508,
          264,
          51,
          66.81818389892578,
          142,
          13,
          74,
          870.5,
          124,
          125.35713958740234,
          24,
          47.11111068725586,
          110,
          47.5,
          22,
          220.3333282470703,
          153,
          58.21428680419922,
          69.80000305175781,
          80,
          118.58333587646484,
          24,
          46.44444274902344,
          25.25,
          69.62337493896484,
          41.11111068725586,
          83.75,
          35,
          78,
          27.399999618530273,
          24,
          123,
          50.6129035949707,
          163,
          91.66000366210938,
          9,
          11.5,
          101.66666412353516,
          43,
          54,
          295,
          42.83333206176758,
          41.33333206176758,
          26,
          7,
          94,
          94.5,
          35.71428680419922,
          114.22222137451172,
          99.875,
          79,
          102,
          77.66666412353516,
          145,
          59.25,
          69,
          40,
          81.33333587646484,
          41,
          89,
          8,
          119.48484802246094,
          194.5,
          75.5,
          63,
          84.95237731933594,
          37,
          37,
          4,
          69,
          133,
          87.76470947265625,
          76.25,
          31.176469802856445,
          169.1666717529297,
          68.22916412353516,
          106,
          91,
          61,
          26.5,
          57,
          16,
          24.299999237060547,
          66.44444274902344,
          87.25,
          41,
          84,
          55.85185241699219,
          10,
          111.25,
          22,
          33,
          166.39999389648438,
          88.57142639160156,
          52.155555725097656,
          25.22222137451172,
          84.5,
          21,
          77,
          25.153846740722656,
          28,
          107,
          116.8787841796875,
          30,
          48.25,
          90.25,
          94.5625,
          14.333333015441895,
          57.42856979370117,
          136.6666717529297,
          41.70000076293945,
          54.5,
          75.5999984741211,
          12,
          227,
          90.15384674072266,
          55.650001525878906,
          14,
          29.66666603088379,
          56.71428680419922,
          25.5,
          63.44827651977539,
          18.875,
          42.42856979370117,
          142,
          53,
          18.33333396911621,
          28,
          298,
          22,
          113.19999694824219,
          63.16666793823242,
          79,
          104,
          78.5,
          150,
          48.129032135009766,
          40.57143020629883,
          57,
          38.33333206176758,
          511,
          49,
          15,
          88.5,
          36,
          30,
          227.75,
          38,
          31.33333396911621,
          74,
          75.69999694824219,
          101,
          13.25,
          69.22222137451172,
          27.5,
          35.5,
          71,
          93.83333587646484,
          67,
          68,
          169,
          93.21428680419922,
          34,
          37,
          52.66666793823242,
          53,
          22.571428298950195,
          35.72340393066406,
          30,
          48.5,
          36,
          124,
          138,
          122,
          115.89286041259766,
          11,
          11,
          83,
          66,
          20,
          56,
          49.150001525878906,
          9.5,
          91.5,
          295.28570556640625,
          91.80000305175781,
          45.66666793823242,
          54,
          77.19512176513672,
          73.44444274902344,
          16.33333396911621,
          58.91666793823242,
          114.5,
          43,
          132,
          3,
          67.44444274902344,
          66.66666412353516,
          147,
          7.5,
          37.25,
          82,
          69.33333587646484,
          30.66666603088379,
          88.25,
          39.48147964477539,
          90.77777862548828,
          66,
          126,
          84.75,
          40,
          218,
          19,
          29,
          24.615385055541992,
          41,
          25,
          103.5999984741211,
          64.58333587646484,
          41.20000076293945,
          310,
          83,
          18,
          88.35294342041016,
          49.44444274902344,
          56,
          44.400001525878906,
          153.5,
          25.600000381469727,
          45.5,
          14.933333396911621,
          117,
          147,
          84.80000305175781,
          92,
          28.5,
          69,
          50.25,
          119.0999984741211,
          185.5,
          72.57142639160156,
          12,
          204,
          94.14286041259766,
          73.33333587646484,
          86.5,
          102,
          101.14286041259766,
          13.25,
          47,
          107,
          89.75,
          115,
          144.6666717529297,
          104,
          35,
          49,
          40,
          68.62857055664062,
          88.62963104248047,
          96.75,
          13.5,
          118,
          25,
          75.4375,
          100.5,
          114,
          60.66666793823242,
          71.33333587646484,
          127,
          64.9000015258789,
          221,
          36.79999923706055,
          45.5,
          105.14814758300781,
          172,
          35.625,
          115,
          100,
          86.57142639160156,
          13.5,
          70,
          53,
          54,
          6.44444465637207,
          13,
          140.4193572998047,
          73.5,
          85.60606384277344,
          110,
          92,
          40.5,
          64,
          23.83333396911621,
          88,
          13,
          38.79999923706055,
          189,
          43.66666793823242,
          35.79999923706055,
          53,
          107,
          39.411766052246094,
          62.33333206176758,
          57.25,
          69.16666412353516,
          62,
          35.181819915771484,
          50.33333206176758,
          33,
          170,
          59.653846740722656,
          43.30769348144531,
          59.20000076293945,
          49.5,
          21,
          115,
          112,
          17,
          10,
          40,
          83,
          14.166666984558105,
          41.33333206176758,
          88.5,
          73.45454406738281,
          15,
          86.11111450195312,
          104,
          46.66666793823242,
          627,
          36.66666793823242,
          35,
          49,
          71.9565200805664,
          95.28571319580078,
          85,
          55.22222137451172,
          37.625,
          57,
          152.88235473632812,
          72,
          716,
          47,
          76.55999755859375,
          8,
          74.61538696289062,
          54.33333206176758,
          75.68181610107422,
          47,
          46,
          40.66666793823242,
          9,
          69,
          76,
          47.22222137451172,
          22.200000762939453,
          40,
          161,
          34.83333206176758,
          32,
          40,
          168.3000030517578,
          10.666666984558105,
          47.75,
          44.20000076293945,
          127.5,
          23,
          24.454545974731445,
          55,
          26,
          139,
          70.30000305175781,
          81,
          18,
          116.625,
          80.85185241699219,
          51.5,
          89,
          20.5,
          53.375,
          68.66666412353516,
          73,
          77.5,
          30.66666603088379,
          38,
          64.5999984741211,
          50,
          82,
          30,
          57,
          16,
          41,
          57.66666793823242,
          57,
          52.79999923706055,
          191.55555725097656,
          53.400001525878906,
          129,
          84.88571166992188,
          59.33333206176758,
          111.5,
          114,
          58.842105865478516,
          44.5,
          78,
          22.909090042114258,
          103.9375,
          28,
          68.4000015258789,
          56,
          21.5,
          21,
          72,
          25,
          64.66666412353516,
          56,
          51.75,
          126,
          20,
          40,
          86,
          91.36842346191406,
          87,
          111.5,
          69,
          168.72727966308594,
          41,
          45.33333206176758,
          69.5,
          59.07692337036133,
          64.5999984741211,
          287,
          42,
          12.600000381469727,
          45.66666793823242,
          95.90908813476562,
          123,
          33.5,
          67.47058868408203,
          112.32926940917969,
          100,
          37,
          44.5,
          51.5,
          133.02777099609375,
          60,
          45.074073791503906,
          56.588233947753906,
          96.5,
          71.8125,
          31,
          239,
          180,
          118.4000015258789,
          69.5,
          20,
          32.5,
          64.5,
          72.66666412353516,
          41,
          161.5,
          106.11111450195312,
          72.5999984741211,
          93.89010620117188,
          25.090909957885742,
          109.4473648071289,
          23.200000762939453,
          60.93333435058594,
          55,
          19,
          59.66666793823242,
          50.55555725097656,
          78,
          13.5,
          64.05555725097656,
          67.0740737915039,
          68,
          86,
          42,
          164,
          80,
          31,
          104,
          80.19999694824219,
          78.97618865966797,
          152.5,
          25.85714340209961,
          213.5,
          54,
          114.46154022216797,
          202,
          40.25,
          33,
          54,
          22.5,
          84.5,
          69.45454406738281,
          40.125,
          21,
          51.153846740722656,
          25,
          73,
          154.14285278320312,
          95,
          83.375,
          67,
          91.25,
          107,
          65.0434799194336,
          24.66666603088379,
          46.3125,
          59.85714340209961,
          36,
          173.60000610351562,
          1249,
          58.5,
          160.5,
          88,
          57.79999923706055,
          97.07691955566406,
          66.55555725097656,
          18,
          46.75,
          80.5,
          48,
          65,
          74.88888549804688,
          48,
          322,
          92.5999984741211,
          60.46428680419922,
          77.63636016845703,
          14.55555534362793,
          19.75,
          19,
          114.73076629638672,
          43.75,
          29,
          18,
          81.22222137451172,
          73.5,
          8.5,
          57.33333206176758,
          94.91666412353516,
          64.23999786376953,
          33,
          55.91891860961914,
          175,
          72,
          89.0999984741211,
          25.14285659790039,
          25.75,
          62.5625,
          55.235294342041016,
          127.87179565429688,
          18,
          48.5,
          9,
          262.5,
          82,
          79.09091186523438,
          49.75,
          169.22222900390625,
          59,
          58,
          126.46154022216797,
          26.5,
          146.93333435058594,
          48.55555725097656,
          68.57142639160156,
          46.20000076293945,
          54,
          88.9000015258789,
          31.25,
          66.87999725341797,
          65,
          78,
          65.3125,
          79.66666412353516,
          67.5999984741211,
          58.6363639831543,
          221.5,
          64,
          44,
          61.375,
          43,
          67.05000305175781,
          33.5,
          52.153846740722656,
          50,
          36.77777862548828,
          36.33333206176758,
          36,
          93.95833587646484,
          19,
          68,
          6,
          137.8333282470703,
          36,
          38.66666793823242,
          127,
          85,
          58,
          188.6666717529297,
          29.75,
          60,
          34,
          55.33333206176758,
          34.08333206176758,
          93,
          34,
          116.94117736816406,
          79.5,
          113.64286041259766,
          44,
          87.41463470458984,
          109.33333587646484,
          90.45454406738281,
          173,
          53.25,
          44.38461685180664,
          135.3333282470703,
          67.30000305175781,
          31,
          26.81818199157715,
          39.25,
          12.5,
          214,
          144.4166717529297,
          66.5,
          144.18182373046875,
          277.3333435058594,
          6.5,
          79.56896209716797,
          160,
          27.5,
          83,
          93.85185241699219,
          355.5,
          58.5,
          31,
          11,
          71.5,
          107.14286041259766,
          10.25,
          100,
          50.818180084228516,
          167,
          63,
          38,
          51.5,
          98.875,
          48,
          77,
          43,
          41.5,
          82,
          25,
          33.560001373291016,
          100,
          60.66666793823242,
          60,
          50,
          47,
          75.33333587646484,
          38,
          34.79999923706055,
          92.02702331542969,
          74.5999984741211,
          68,
          50.61538314819336,
          42,
          19.782608032226562,
          133.6666717529297,
          15,
          21.399999618530273,
          151,
          157,
          50.71428680419922,
          203,
          49,
          78.42857360839844,
          133.875,
          163,
          46.95000076293945,
          12,
          50.1875,
          62.400001525878906,
          219.3333282470703,
          32.66666793823242,
          83,
          64,
          13,
          69.22222137451172,
          32,
          9,
          85,
          55,
          58.5,
          75.11111450195312,
          51,
          81.25,
          69,
          63.66666793823242,
          13.800000190734863,
          27.285715103149414,
          67.83333587646484,
          36.33333206176758,
          44.05263137817383,
          103,
          55.83333206176758,
          51.5,
          124,
          32.42856979370117,
          117.5,
          80.83333587646484,
          17,
          478,
          44.25,
          71.0999984741211,
          44,
          46.599998474121094,
          158.3333282470703,
          24.200000762939453,
          144.4375,
          77,
          86.70833587646484,
          92.80000305175781,
          38,
          26,
          57.33333206176758,
          6,
          15.666666984558105,
          27.33333396911621,
          34.75,
          46,
          58,
          37,
          27,
          196.3333282470703,
          52,
          29.571428298950195,
          505.6000061035156,
          13.75,
          94,
          23.33333396911621,
          88.28571319580078,
          143,
          86.66666412353516,
          167.8360595703125,
          82,
          26.75,
          21,
          79.25,
          47.16666793823242,
          38,
          32,
          72.42857360839844,
          84,
          76.55555725097656,
          24.22222137451172,
          139.8000030517578,
          121.2249984741211,
          72.35294342041016,
          95.9534912109375,
          65.66666412353516,
          33,
          51,
          133,
          63,
          71.5999984741211,
          27.125,
          43,
          59,
          69,
          178,
          25.200000762939453,
          74,
          34.86666488647461,
          375,
          136.2857208251953,
          52.20000076293945,
          60,
          43.79999923706055,
          35,
          54.400001525878906,
          92.02777862548828,
          50.269229888916016,
          51.272727966308594,
          36.66666793823242,
          118,
          65,
          91.33333587646484,
          137,
          64.875,
          106,
          31,
          105.5,
          73.5,
          98,
          73,
          19.5,
          51.66666793823242,
          33,
          79.0952377319336,
          27,
          21,
          34.78947448730469,
          40.66666793823242,
          8,
          73.5,
          12.600000381469727,
          21.22222137451172,
          15.5,
          67.5,
          23.625,
          54.5,
          68,
          130,
          79.33333587646484,
          38.95833206176758,
          197,
          37,
          76.19999694824219,
          18,
          79.07691955566406,
          18,
          82.5,
          142,
          66.5,
          97.33333587646484,
          11.5,
          18.25,
          32,
          36.42856979370117,
          15.090909004211426,
          31.428571701049805,
          102,
          69,
          86.83333587646484,
          69.95454406738281,
          253.25,
          46.25,
          100.5,
          85,
          65.5,
          22,
          4,
          39,
          26.5,
          60.5,
          21.5,
          11,
          67.4000015258789,
          29.5,
          13,
          48.5,
          41.33333206176758,
          151,
          48.38461685180664,
          72.61111450195312,
          8,
          65.5,
          35,
          27.399999618530273,
          51.20000076293945,
          10.5,
          28,
          55.66666793823242,
          28,
          96,
          19.66666603088379,
          53.75,
          89.33333587646484,
          36.53333282470703,
          60.66666793823242,
          109.29166412353516,
          37.75,
          100.0526351928711,
          47,
          32.400001525878906,
          39.83333206176758,
          44.45454406738281,
          55,
          105.5999984741211,
          17,
          37.77777862548828,
          144,
          117,
          98.33333587646484,
          59.375,
          63.894737243652344,
          30,
          94,
          51,
          285,
          63,
          55.33333206176758,
          114.375,
          189.7142791748047,
          52,
          171,
          94.28571319580078,
          58,
          64.66666412353516,
          41,
          52.5,
          46,
          108.19999694824219,
          36.297298431396484,
          104.75,
          64.58695983886719,
          174.57142639160156,
          26,
          46.77777862548828,
          67,
          55.79999923706055,
          103,
          191,
          47,
          43,
          94,
          19,
          30.66666603088379,
          158,
          131.5,
          108,
          66,
          69.5,
          36,
          21.25,
          148,
          1522,
          63,
          88.9000015258789,
          67,
          104.24324035644531,
          40,
          28,
          127.66666412353516,
          40.5,
          45,
          57,
          100.09091186523438,
          60.53845977783203,
          21,
          45,
          43,
          196,
          65.66666412353516,
          79.5,
          35,
          40,
          76.25,
          83.0526351928711,
          51.71428680419922,
          21,
          37.28571319580078,
          32,
          81,
          55.07692337036133,
          61,
          30,
          81.66666412353516,
          128,
          36.16666793823242,
          48.77777862548828,
          39.42856979370117,
          67.25,
          94,
          0,
          1112,
          26.85714340209961,
          75.66666412353516,
          19.5,
          92.11538696289062,
          8.5,
          47.5,
          70.81818389892578,
          149.7142791748047,
          48.75,
          142.91378784179688,
          128.2857208251953,
          142.25,
          37.5,
          32.599998474121094,
          66.75,
          64.33333587646484,
          142,
          51.878787994384766,
          263,
          39.5,
          112.42857360839844,
          38,
          96.4000015258789,
          40.75,
          34.5,
          114.25,
          88,
          133,
          59.407405853271484,
          26.285715103149414,
          37,
          82.16666412353516,
          37,
          58.85714340209961,
          103.5,
          55.5,
          98.16666412353516,
          43.57143020629883,
          101,
          31.33333396911621,
          24.200000762939453,
          80.46154022216797,
          62.79999923706055,
          108,
          12,
          35,
          34.79999923706055,
          94,
          37,
          131,
          44,
          66,
          40,
          24,
          95.5,
          124.80000305175781,
          95.7741928100586,
          274,
          31.36842155456543,
          35.5,
          98,
          89.53333282470703,
          63.29999923706055,
          54.75,
          52.75,
          58,
          52,
          43.400001525878906,
          67.5999984741211,
          43.875,
          138,
          67,
          96.59091186523438,
          56,
          31.571428298950195,
          113,
          82.875,
          67.66666412353516,
          26.200000762939453,
          87.08333587646484,
          52.92307662963867,
          22.75,
          36,
          19,
          40.66666793823242,
          15,
          26.22222137451172,
          34,
          71,
          102.875,
          30,
          67,
          97.7272720336914,
          13,
          36.33333206176758,
          62.66666793823242,
          32.33333206176758,
          53.5,
          43,
          13,
          47.5,
          62.60714340209961,
          138.3125,
          35,
          52.42856979370117,
          42,
          80,
          45.77777862548828,
          93.66666412353516,
          52.5,
          101,
          56,
          38,
          31,
          49.79999923706055,
          30,
          309,
          103.5,
          276,
          10,
          69.63157653808594,
          178.60000610351562,
          146.2857208251953,
          41.5,
          66.83333587646484,
          36.63999938964844,
          172,
          46.9375,
          131.49180603027344,
          90.5,
          63.94117736816406,
          94.75,
          92.71428680419922,
          57.400001525878906,
          47.20000076293945,
          48.20000076293945,
          108,
          33.33333206176758,
          50.5,
          86.33333587646484,
          19,
          31.5,
          27,
          180,
          27.5,
          55.599998474121094,
          95,
          79,
          71.11111450195312,
          122,
          56.77027130126953,
          74.19999694824219,
          36.30769348144531,
          35.85714340209961,
          59.5,
          49,
          41.5,
          0,
          7,
          52,
          25,
          29,
          39,
          13.75,
          56,
          54.16666793823242,
          91,
          28.571428298950195,
          83.5,
          72.73332977294922,
          77.5,
          38,
          166.77777099609375,
          63.33333206176758,
          61.75,
          93,
          31,
          72,
          93,
          40,
          38.235294342041016,
          63.66666793823242,
          57,
          27.33333396911621,
          59.9523811340332,
          26,
          270,
          119.25,
          48,
          55,
          128,
          518,
          26,
          181,
          37,
          49,
          138.25,
          31.33333396911621,
          75.5999984741211,
          60.02702713012695,
          68.1547622680664,
          70.80000305175781,
          18,
          50,
          14.5,
          702,
          82.69230651855469,
          234.1999969482422,
          48,
          110.75609588623047,
          12,
          62.75,
          56,
          57.212120056152344,
          69.4000015258789,
          54.5,
          43.66666793823242,
          62.33333206176758,
          85.92857360839844,
          61.5,
          25.5,
          130.93333435058594,
          106,
          47.22222137451172,
          78,
          125.61111450195312,
          84.5,
          114.75,
          124.71428680419922,
          138.0625,
          51,
          309,
          73,
          46,
          77.5,
          84.45833587646484,
          45,
          96.19999694824219,
          55.71428680419922,
          48.11111068725586,
          49.33333206176758,
          35.5,
          16.5,
          100,
          58,
          122.5,
          59,
          72,
          69.25,
          97,
          72,
          56.29999923706055,
          43.28571319580078,
          130.93333435058594,
          47,
          45,
          113,
          45.17142868041992,
          10,
          60.33333206176758,
          135.25,
          25,
          53.25,
          48.880950927734375,
          35.91428756713867,
          159,
          68.2727279663086,
          59.20000076293945,
          86,
          96,
          88.41935729980469,
          89.5,
          411.6000061035156,
          36,
          61,
          51.56666564941406,
          128.9199981689453,
          91.60869598388672,
          54.55555725097656,
          27.25,
          51,
          39,
          47.71428680419922,
          84,
          60.33333206176758,
          88.25,
          146.1999969482422,
          224.6666717529297,
          29.714284896850586,
          49.45454406738281,
          49.230770111083984,
          100,
          55.33333206176758,
          58.12765884399414,
          87,
          59.66666793823242,
          17,
          65.625,
          55.66666793823242,
          26.22222137451172,
          75.02083587646484,
          46,
          57.6315803527832,
          11.166666984558105,
          41.400001525878906,
          278,
          36,
          52.17894744873047,
          27.04347801208496,
          52.79999923706055,
          54.42856979370117,
          146.76190185546875,
          63.88888931274414,
          368,
          75,
          157.1999969482422,
          36.14285659790039,
          108.0243911743164,
          59,
          86.66666412353516,
          72,
          38.70588302612305,
          28.5,
          45.5625,
          43.79999923706055,
          49,
          101.33333587646484,
          22.25,
          34,
          47,
          100.66666412353516,
          68.96551513671875,
          90,
          94.21052551269531,
          118.5,
          49,
          35.875,
          76.18461608886719,
          57.16666793823242,
          17,
          241,
          39.9375,
          9,
          41.19230651855469,
          98,
          91.5,
          59.599998474121094,
          423,
          55.53333282470703,
          38.21739196777344,
          44.57143020629883,
          56.33333206176758,
          22,
          35.5,
          101,
          156,
          123,
          99.5,
          132,
          91.80000305175781,
          109.5,
          169.3333282470703,
          99,
          35,
          129.3333282470703,
          255,
          257,
          47.91666793823242,
          78.53845977783203,
          116,
          8,
          31,
          81.54545593261719,
          25,
          61.5,
          161.75,
          17,
          39.75,
          28.5,
          45,
          55,
          197.07691955566406,
          43.25,
          88,
          67,
          53,
          92.08333587646484,
          205.75,
          48.79999923706055,
          51.71428680419922,
          101.80000305175781,
          73.58333587646484,
          37.5,
          39,
          36,
          50.5,
          145.5,
          50.5,
          42.05882263183594,
          46,
          70.0999984741211,
          72.07142639160156,
          52,
          54,
          42.79999923706055,
          41.28571319580078,
          18.33333396911621,
          107,
          39.272727966308594,
          30.25,
          48.5,
          63.25,
          69.73170471191406,
          25.600000381469727,
          50.33333206176758,
          68.5,
          46.20000076293945,
          52.818180084228516,
          92.26667022705078,
          42.52000045776367,
          17,
          94.66666412353516,
          95.5,
          27.769229888916016,
          58,
          77.875,
          10,
          69,
          40,
          115,
          65,
          101.88888549804688,
          32.5,
          60,
          47.16666793823242,
          18.66666603088379,
          132.77777099609375,
          72.57894897460938,
          54.5,
          120.13333129882812,
          208,
          27.33333396911621,
          67.64705657958984,
          20.571428298950195,
          3,
          119,
          33.28571319580078,
          194.5,
          29.700000762939453,
          71,
          29.66666603088379,
          92,
          86,
          110,
          45,
          60.181819915771484,
          28,
          767,
          34.20000076293945,
          113,
          50.88888931274414,
          21.5,
          131,
          44.86206817626953,
          54,
          53.599998474121094,
          240.6666717529297,
          9.5,
          216.1999969482422,
          111,
          577,
          45.35293960571289,
          129.5,
          137.38461303710938,
          73,
          108.33333587646484,
          67.33333587646484,
          94.5,
          107,
          98.5,
          76.66666412353516,
          41,
          51.625,
          40.3636360168457,
          139,
          122.6875,
          70.22222137451172,
          28.299999237060547,
          91.09091186523438,
          11,
          14,
          20.75,
          63.44444274902344,
          48.66666793823242,
          78.22222137451172,
          43.09090805053711,
          48.400001525878906,
          116.5,
          35,
          30,
          111,
          66.45454406738281,
          429.5,
          31,
          106.18181610107422,
          89,
          55.5,
          42.44444274902344,
          69.25,
          67,
          102,
          260.125,
          75,
          124.4000015258789,
          64.09091186523438,
          25,
          180.73333740234375,
          78,
          59,
          345,
          100.5,
          112.76923370361328,
          35.599998474121094,
          47.33333206176758,
          66.11764526367188,
          106.80000305175781,
          190,
          14,
          58.33333206176758,
          30,
          115,
          53,
          83,
          87,
          16,
          70,
          57.66666793823242,
          34.25,
          134,
          13.5,
          88.33333587646484,
          36,
          129,
          114,
          17.5,
          246.375,
          48,
          160.8000030517578,
          54.96154022216797,
          140.60000610351562,
          142.63636779785156,
          97,
          44.20000076293945,
          118,
          81.75,
          110,
          8,
          93,
          76.80000305175781,
          15,
          120.33333587646484,
          32.79999923706055,
          28.125,
          49.875,
          27,
          60,
          44.400001525878906,
          15.5,
          10,
          84.11764526367188,
          84.44444274902344,
          53.772727966308594,
          16.11111068725586,
          108,
          51,
          39,
          35.20000076293945,
          149.8000030517578,
          39.5,
          8.5,
          135,
          56,
          199,
          131.3333282470703,
          151,
          21,
          57.846153259277344,
          57.25,
          28.428571701049805,
          115,
          45.400001525878906,
          53,
          63.57143020629883,
          95,
          55.125,
          41.66666793823242,
          31,
          9,
          10.25,
          110.5,
          39,
          44.79999923706055,
          4,
          78.375,
          450.6666564941406,
          71.86206817626953,
          29.5,
          47.3684196472168,
          31.625,
          133.5454559326172,
          25.91666603088379,
          19.75,
          200,
          49.86666488647461,
          96.36666870117188,
          69,
          27.33333396911621,
          107,
          53.75,
          76,
          25.5,
          114.5,
          38,
          83,
          66,
          479,
          90.19999694824219,
          40.5,
          216.2857208251953,
          7,
          80,
          10,
          55.22222137451172,
          32.77777862548828,
          26,
          81,
          45.16666793823242,
          150.55555725097656,
          40,
          32.91666793823242,
          41.57143020629883,
          120.5,
          37.77777862548828,
          84,
          106.5999984741211,
          119.36363983154297,
          56.83333206176758,
          118,
          44,
          61.3125,
          127,
          56.125,
          16,
          73,
          118.66666412353516,
          52.66666793823242,
          29.125,
          128,
          27,
          47.599998474121094,
          138.875,
          78.80000305175781,
          91.24137878417969,
          44,
          45.33333206176758,
          55.75,
          64,
          84.33333587646484,
          53.5,
          26,
          128,
          55,
          60.16666793823242,
          62,
          17.450000762939453,
          67,
          9.600000381469727,
          62.5,
          52,
          46,
          23,
          60.7599983215332,
          29,
          161.9130401611328,
          85,
          223,
          44,
          57,
          63.83333206176758,
          209,
          25.399999618530273,
          26.5,
          34.702701568603516,
          60,
          120.875,
          80.5,
          63,
          54.66666793823242,
          41,
          58.599998474121094,
          57.09375,
          35,
          43,
          65,
          15,
          68.66666412353516,
          116.25,
          39,
          41,
          101.80000305175781,
          32,
          34,
          16,
          31,
          59,
          60.79999923706055,
          49,
          21,
          107.5,
          11,
          116.25,
          96,
          69.5,
          23,
          32,
          107.66666412353516,
          211.3333282470703,
          81.9375,
          12,
          144,
          15,
          76,
          92,
          46,
          50.64285659790039,
          161.3333282470703,
          20,
          25,
          135.5,
          70,
          70.75,
          55.125,
          48,
          64.33333587646484,
          63.33333206176758,
          12,
          89,
          47,
          44.66666793823242,
          38.66666793823242,
          90.33333587646484,
          65.875,
          12.5,
          80.4000015258789,
          9,
          45.28571319580078,
          59.66666793823242,
          122.25,
          98.5,
          138,
          43.57143020629883,
          83.1500015258789,
          52.130435943603516,
          85,
          92,
          115,
          98,
          131.8125,
          6,
          37.16666793823242,
          9,
          44.71428680419922,
          36.33333206176758,
          222.25,
          91.0952377319336,
          55,
          94.0952377319336,
          85.25,
          53.97435760498047,
          127.80000305175781,
          62.4054069519043,
          93,
          9,
          43,
          42,
          46.75,
          46.5,
          162,
          20,
          44.30769348144531,
          39.5,
          152,
          92.5,
          130,
          65.33333587646484,
          29.846153259277344,
          67.5,
          36,
          25,
          35.75,
          17,
          128.5,
          104.5,
          174.42857360839844,
          186,
          58.14285659790039,
          85.08333587646484,
          258.875,
          48.20000076293945,
          27,
          22.66666603088379,
          48,
          88.33333587646484,
          211.5,
          121.625,
          115.33333587646484,
          31.33333396911621,
          66,
          50.42307662963867,
          160.6666717529297,
          59.20000076293945,
          18,
          77.4000015258789,
          168.375,
          32.66666793823242,
          56,
          118.83333587646484,
          46.703704833984375,
          93.125,
          23,
          23.75,
          55,
          36.55555725097656,
          55,
          97.18518829345703,
          112.33333587646484,
          26,
          87,
          10,
          185.5,
          44,
          493,
          46.33333206176758,
          48.88888931274414,
          45.75,
          67,
          47.764705657958984,
          94,
          114.5,
          92.5,
          91.2978744506836,
          59.25,
          66.14286041259766,
          99,
          47.90909194946289,
          50.818180084228516,
          89.83333587646484,
          40.153846740722656,
          33.57143020629883,
          168.64706420898438,
          51.35293960571289,
          80.33333587646484,
          90,
          11,
          27,
          55,
          33.33333206176758,
          394.6000061035156,
          49,
          47.599998474121094,
          5.5,
          130.90475463867188,
          32,
          30,
          26,
          27.33333396911621,
          82.94871520996094,
          56.85714340209961,
          111,
          486,
          69.375,
          132,
          93.76923370361328,
          35.75,
          51.5,
          145.5,
          63.625,
          32.42856979370117,
          63,
          49.14285659790039,
          226.25,
          102.75,
          13.5,
          181,
          42,
          44.875,
          83.5,
          44,
          45,
          84,
          52.25,
          65,
          116.89189147949219,
          170.1666717529297,
          65.5,
          108.7272720336914,
          39.79999923706055,
          13.5,
          44.33333206176758,
          162,
          55,
          120.19999694824219,
          34,
          176,
          82.35294342041016,
          11,
          34.79999923706055,
          27.66666603088379,
          27.125,
          54,
          110,
          93,
          89.3125,
          69.25,
          105.66666412353516,
          36.5,
          28.076923370361328,
          46,
          136.09091186523438,
          38,
          75,
          52,
          97.58333587646484,
          37,
          208,
          22,
          34,
          52.578948974609375,
          14,
          83.25,
          34,
          93,
          44.33333206176758,
          11,
          69.83333587646484,
          22,
          25,
          20,
          99,
          57,
          114.18181610107422,
          95.5,
          52.5,
          69.5999984741211,
          57.5,
          66,
          124.77777862548828,
          59,
          53.16666793823242,
          38,
          168,
          162,
          43,
          116,
          62.15217208862305,
          95,
          16.5,
          53,
          39,
          78,
          91.5,
          50.6875,
          28.5,
          24.5,
          79.77777862548828,
          40,
          38.68421173095703,
          145,
          34.8636360168457,
          136,
          40.16666793823242,
          75.5378189086914,
          166.5,
          162.5,
          86.31578826904297,
          66,
          42.66666793823242,
          44,
          111.80000305175781,
          22,
          31.33333396911621,
          73,
          87.38461303710938,
          58.5,
          36,
          79.4000015258789,
          48.5,
          33.71428680419922,
          70,
          86,
          31.076923370361328,
          32.25,
          76.14286041259766,
          70,
          88.5999984741211,
          33.599998474121094,
          53.599998474121094,
          42.74359130859375,
          48,
          112,
          94.09091186523438,
          62.25,
          273,
          153.5,
          43,
          86.63636016845703,
          50.5625,
          143,
          51.07692337036133,
          258.6666564941406,
          51,
          29.75,
          98.19999694824219,
          49.33333206176758,
          78.66666412353516,
          105.42857360839844,
          43.89285659790039,
          31.5,
          65.83333587646484,
          20.5,
          77.5999984741211,
          6,
          38.5,
          73,
          63,
          43,
          70.66666412353516,
          104,
          88,
          40.66666793823242,
          102,
          7,
          46.904762268066406,
          90,
          7,
          26,
          10,
          38.14285659790039,
          62,
          38,
          57.900001525878906,
          38,
          68.66666412353516,
          216.1666717529297,
          197,
          10.333333015441895,
          21,
          50.06666564941406,
          46.5,
          21,
          60.33333206176758,
          63.525001525878906,
          101.25,
          84.75,
          44.75,
          33.75,
          128,
          151.3333282470703,
          293,
          62.875,
          32.66666793823242,
          11,
          123.64286041259766,
          49.33333206176758,
          20.125,
          69.6875,
          31.16666603088379,
          73.5,
          117,
          116,
          102.505615234375,
          73.66666412353516,
          92,
          72,
          50.33333206176758,
          94,
          109,
          24.55555534362793,
          29.545454025268555,
          59.5,
          93,
          251.5,
          86.375,
          48.75,
          55,
          58,
          45,
          317.29998779296875,
          68.375,
          31,
          26,
          26,
          75.36666870117188,
          77,
          45.5,
          56.5,
          63.38888931274414,
          121.46154022216797,
          183.1999969482422,
          321,
          39.5,
          84.5,
          64,
          427.6666564941406,
          89,
          98,
          95.88888549804688,
          30.5,
          62,
          44.38888931274414,
          96.81818389892578,
          32.33333206176758,
          53.733333587646484,
          37,
          53,
          21,
          70.19047546386719,
          39.25,
          61.33333206176758,
          26,
          73,
          21,
          81.69999694824219,
          12,
          47,
          27.5,
          75,
          115,
          6,
          55.11111068725586,
          116.25,
          40.28571319580078,
          13.67391300201416,
          65,
          131.875,
          41.46666717529297,
          55.66666793823242,
          25,
          89.36842346191406,
          46.153846740722656,
          96,
          39.14285659790039,
          88.5,
          85.18181610107422,
          19.5,
          68.5,
          58,
          70,
          16.600000381469727,
          72.5,
          65.5,
          70,
          50.6363639831543,
          55.33333206176758,
          47.599998474121094,
          55.6363639831543,
          71.5,
          123.71428680419922,
          121.25,
          100.68181610107422,
          25,
          51,
          50,
          27.66666603088379,
          68.11111450195312,
          25,
          85.66666412353516,
          51,
          66.35713958740234,
          103.92857360839844,
          127.7272720336914,
          47.599998474121094,
          36,
          23,
          11,
          53.31428527832031,
          222.6666717529297,
          40.5,
          35,
          424,
          70.6744155883789,
          73.41666412353516,
          90.86666870117188,
          102,
          65.25,
          52.11111068725586,
          109.82758331298828,
          108.5,
          56.5,
          81,
          35,
          28,
          42.20000076293945,
          35.66666793823242,
          59.66666793823242,
          0,
          29.25,
          144.26666259765625,
          38.5,
          60,
          54.8636360168457,
          55.849998474121094,
          87.33333587646484,
          18,
          52.17499923706055,
          30.399999618530273,
          77,
          76.66666412353516,
          49.21739196777344,
          49.693878173828125,
          152,
          93.625,
          25,
          145,
          9,
          117.66666412353516,
          8.5,
          12.333333015441895,
          22.66666603088379,
          11,
          51.16666793823242,
          93.64705657958984,
          111.5,
          93,
          93.66666412353516,
          69,
          88.23076629638672,
          58.66666793823242,
          98,
          25,
          177.75,
          57.66666793823242,
          122,
          93,
          76.33333587646484,
          39.33333206176758,
          41,
          67.25,
          86,
          39,
          44.72222137451172,
          64,
          68.33333587646484,
          115.92857360839844,
          23,
          79.75,
          127.5,
          66,
          69.62963104248047,
          58.266666412353516,
          75,
          267.3333435058594,
          73,
          41.5,
          16,
          51.66666793823242,
          15,
          64.22222137451172,
          121.5,
          100.07691955566406,
          78,
          14,
          85,
          40,
          45.375,
          25,
          46.411766052246094,
          80.90908813476562,
          61,
          145.5,
          111.44444274902344,
          452.1666564941406,
          54,
          194.26666259765625,
          28.740739822387695,
          72.63636016845703,
          145.4736785888672,
          59.599998474121094,
          16,
          81,
          52.900001525878906,
          70.16666412353516,
          14.833333015441895,
          31.5,
          14,
          67,
          103.5,
          33,
          54.5,
          129.875,
          40.35293960571289,
          68.80000305175781,
          7.333333492279053,
          191,
          94,
          42,
          70.38461303710938,
          37.33333206176758,
          91,
          47.16666793823242,
          53.818180084228516,
          98,
          46,
          82,
          34,
          87,
          34.78947448730469,
          57.33333206176758,
          53.92856979370117,
          65.14583587646484,
          29.5,
          60.57143020629883,
          83,
          138.6666717529297,
          30.230770111083984,
          23.600000381469727,
          100.30000305175781,
          40,
          60.41666793823242,
          167.3333282470703,
          45.55555725097656,
          72,
          48.66666793823242,
          113.5,
          89.85713958740234,
          17,
          25.66666603088379,
          65.36842346191406,
          36.5,
          63.33333206176758,
          29.5,
          57,
          18.33333396911621,
          60.66666793823242,
          115,
          119,
          92.18518829345703,
          55,
          57.20000076293945,
          50,
          66.5999984741211,
          27,
          51.66666793823242,
          44,
          52.38461685180664,
          111,
          35.66666793823242,
          17,
          119.19999694824219,
          117.06666564941406,
          30,
          84.33333587646484,
          784,
          30.625,
          50,
          128,
          48.64285659790039,
          68,
          51,
          89.5,
          120.5,
          401.5,
          81.15789794921875,
          41,
          35.25,
          86.07691955566406,
          27,
          101.82857513427734,
          51.9375,
          34.66666793823242,
          19,
          28.33333396911621,
          36.41666793823242,
          58,
          36.599998474121094,
          262,
          42.826087951660156,
          84.30000305175781,
          20,
          63.92856979370117,
          54,
          18.5,
          70.52173614501953,
          69,
          62.61538314819336,
          52.761905670166016,
          36.66666793823242,
          97,
          20,
          25.5,
          1315,
          90.33333587646484,
          16,
          63.42856979370117,
          30.5,
          62.08333206176758,
          41.375,
          68.5,
          133.3333282470703,
          75,
          17.66666603088379,
          38.28571319580078,
          62,
          11,
          24,
          112.31034851074219,
          60.400001525878906,
          28.85714340209961,
          96,
          22.33333396911621,
          12,
          64.76923370361328,
          25.5,
          60.25,
          76,
          122.5999984741211,
          51.5,
          199,
          65.5999984741211,
          61.75,
          20,
          134.3333282470703,
          50.5,
          21.5,
          84,
          55.77777862548828,
          178.8000030517578,
          30.16666603088379,
          17.185184478759766,
          66,
          71.48484802246094,
          112,
          94.75,
          25,
          64,
          31,
          63.5,
          33.125,
          51,
          45.71428680419922,
          70,
          63.5,
          22.799999237060547,
          80,
          71,
          146.22222900390625,
          65,
          120,
          130,
          19,
          59,
          82,
          9,
          27,
          57,
          33.5,
          140,
          43,
          60.5625,
          37.378047943115234,
          31,
          73.125,
          24.33333396911621,
          96.5,
          11,
          41.5,
          77.19999694824219,
          45.5,
          96.28125,
          22,
          63,
          411,
          37,
          14.5,
          123,
          68,
          52.5,
          25.5,
          47.272727966308594,
          199.5,
          45.400001525878906,
          28.869565963745117,
          66.0952377319336,
          11.526315689086914,
          9.5,
          50,
          92.66666412353516,
          0,
          119,
          181,
          30,
          71,
          45.5,
          59.5,
          60.099998474121094,
          13.875,
          69,
          56.66666793823242,
          158.3333282470703,
          368.5,
          54.6363639831543,
          48.42856979370117,
          73.69230651855469,
          79.36000061035156,
          87.0999984741211,
          70.95454406738281,
          217.3333282470703,
          74.5,
          131,
          94.3043441772461,
          29,
          39.33333206176758,
          115.55555725097656,
          195,
          86,
          28,
          47.5,
          15.75,
          71.5999984741211,
          72.5,
          55,
          49.25,
          69,
          55.818180084228516,
          74.66666412353516,
          205.03125,
          59.33333206176758,
          211.8333282470703,
          271,
          68,
          194.76922607421875,
          84.5,
          86,
          29,
          19,
          73.25,
          13.5,
          61.33333206176758,
          181.2857208251953,
          210,
          78.75,
          53,
          42.38888931274414,
          19,
          184.7142791748047,
          26.200000762939453,
          47.25,
          33,
          80.07142639160156,
          69.5,
          59.20000076293945,
          207.55555725097656,
          40.30434799194336,
          19,
          84,
          54,
          61,
          111.80000305175781,
          95,
          96.16666412353516,
          38,
          47.75,
          42.75,
          66.375,
          73.5,
          10.84615421295166,
          54.33333206176758,
          204.5,
          43,
          65,
          175.13636779785156,
          54.3636360168457,
          132.23077392578125,
          68.87059020996094,
          82.5,
          68.33333587646484,
          32.400001525878906,
          30,
          80,
          23.5,
          60.157894134521484,
          179.1764678955078,
          56,
          24.625,
          225,
          0,
          26.33333396911621,
          97,
          139.3125,
          81.55101776123047,
          39.25,
          59.52777862548828,
          83,
          21,
          86,
          78.53845977783203,
          39.5,
          21.33333396911621,
          44.88888931274414,
          36.5,
          75.66666412353516,
          73.6875,
          60.28571319580078,
          197,
          50.66666793823242,
          65,
          34.375,
          50,
          21,
          169.375,
          89,
          74.5,
          45.16666793823242,
          81.25,
          58.66666793823242,
          99.44444274902344,
          142.1999969482422,
          61,
          22.05555534362793,
          5,
          79,
          104,
          121,
          36.66666793823242,
          64.15384674072266,
          124.4000015258789,
          66.66666412353516,
          88.53845977783203,
          18,
          30,
          16,
          75.9259262084961,
          75.82051086425781,
          38.66666793823242,
          81.90908813476562,
          41.25,
          111.58333587646484,
          126.66666412353516,
          93,
          78.33333587646484,
          38,
          60,
          58,
          53,
          80.66666412353516,
          95.25,
          37.375,
          54.30769348144531,
          174.6666717529297,
          7,
          111.31578826904297,
          158.77659606933594,
          91,
          37.33333206176758,
          37,
          15,
          93.5,
          88,
          45.66666793823242,
          115,
          69.80000305175781,
          167.8333282470703,
          58,
          17.5,
          226.75,
          35,
          126.5,
          71.86206817626953,
          49.235294342041016,
          30.5,
          45.09090805053711,
          54.22222137451172,
          143.13043212890625,
          103,
          76,
          34,
          56.33333206176758,
          42,
          148,
          17,
          136,
          102.28571319580078,
          30,
          7,
          16.66666603088379,
          79.57142639160156,
          14.071428298950195,
          128.5,
          134.76922607421875,
          71.4000015258789,
          15.5,
          51.46666717529297,
          46.75,
          50.79999923706055,
          19.5,
          62.26315689086914,
          63.5,
          64.77777862548828,
          37.5,
          70.45454406738281,
          65,
          149,
          58,
          48,
          64.2244873046875,
          39,
          38.8870964050293,
          47.5,
          93.375,
          77,
          93,
          45.70000076293945,
          128,
          17,
          53.93333435058594,
          26,
          44.3636360168457,
          57,
          12,
          50.421051025390625,
          11.222222328186035,
          26,
          88,
          31.5,
          53,
          52.16666793823242,
          4,
          51.75,
          26,
          43.66666793823242,
          47.900001525878906,
          215,
          60.727272033691406,
          83,
          82.64705657958984,
          35,
          17.5,
          44,
          91.55999755859375,
          84.25,
          62.79999923706055,
          124,
          79.66666412353516,
          37.33333206176758,
          79,
          40.25,
          65,
          38,
          27,
          81.95237731933594,
          68,
          13.5,
          54,
          59.400001525878906,
          21,
          25.5,
          18,
          45.83333206176758,
          11,
          64,
          28,
          38.5,
          99.33333587646484,
          50,
          69.18181610107422,
          37,
          81.73275756835938,
          65.2727279663086,
          126.25,
          24,
          42,
          158.3333282470703,
          104.66666412353516,
          48,
          34,
          73,
          41,
          55.33333206176758,
          111,
          192,
          37,
          105,
          88,
          48.44444274902344,
          481.5,
          118,
          38.5,
          103.5,
          70.5,
          186.1999969482422,
          148.3333282470703,
          47,
          70.5,
          83.4000015258789,
          75.25,
          68.0625,
          97.57142639160156,
          18,
          85.5,
          204,
          179.6666717529297,
          54.33333206176758,
          56,
          108.5,
          26.83333396911621,
          92.5,
          136.6923065185547,
          67,
          81.33333587646484,
          87,
          54.400001525878906,
          32,
          64.19999694824219,
          50.4375,
          88,
          20,
          16.600000381469727,
          77.5,
          17,
          56,
          57.66666793823242,
          15.5,
          83.5,
          50,
          106.25,
          32,
          85.0999984741211,
          24.5,
          52,
          62.739131927490234,
          86.66666412353516,
          23.964284896850586,
          102,
          48.44444274902344,
          210,
          28.75,
          112,
          73,
          87,
          52,
          12,
          30,
          29,
          22,
          129,
          42,
          137,
          79.60869598388672,
          19,
          72.88888549804688,
          53.90909194946289,
          71.5,
          122,
          64.5,
          32.66666793823242,
          8,
          77.48275756835938,
          86.30769348144531,
          8,
          37,
          194,
          51.379310607910156,
          120.91666412353516,
          21.5,
          41,
          4,
          92.25,
          17.55555534362793,
          269.6666564941406,
          51.71428680419922,
          183.5,
          112.04545593261719,
          162.7894744873047,
          108.53488159179688,
          14,
          93.66666412353516,
          88.16666412353516,
          54.1363639831543,
          20.799999237060547,
          32.5,
          16.5,
          54,
          40.5,
          60,
          33,
          36.05263137817383,
          58,
          375.70001220703125,
          90,
          94.5,
          104.63157653808594,
          74.69999694824219,
          29.33333396911621,
          31.5,
          52.66666793823242,
          84.54545593261719,
          78,
          60,
          41.79999923706055,
          30.88888931274414,
          46.28571319580078,
          256,
          159,
          26,
          20.0625,
          100,
          43.14285659790039,
          50,
          50,
          31.272727966308594,
          97,
          47.69230651855469,
          36.733333587646484,
          30,
          62.5,
          87,
          29,
          111.21428680419922,
          50.78571319580078,
          50,
          23,
          11.5,
          40.57143020629883,
          15.5,
          22,
          58.33333206176758,
          83.81818389892578,
          17.636363983154297,
          97.53333282470703,
          43.349998474121094,
          29,
          66.66666412353516,
          12,
          11.5,
          158.86363220214844,
          239,
          55,
          51.75,
          46,
          66.55555725097656,
          30.25,
          133.5,
          71.57894897460938,
          89.625,
          8.090909004211426,
          7,
          31.285715103149414,
          10,
          109.91666412353516,
          71.5999984741211,
          57.400001525878906,
          74.92857360839844,
          45.57143020629883,
          107.69230651855469,
          50,
          55.44444274902344,
          21,
          55,
          65.83333587646484,
          65.5,
          100.08333587646484,
          162,
          49.61538314819336,
          42.599998474121094,
          129.5,
          21,
          70,
          83,
          17,
          90.47541046142578,
          42.599998474121094,
          43.20000076293945,
          33.6363639831543,
          34,
          47,
          118,
          27.64285659790039,
          348.25,
          40.42856979370117,
          39.20000076293945,
          77.05555725097656,
          67,
          11,
          67,
          103.57142639160156,
          82,
          299,
          24.230770111083984,
          60.5,
          72.16666412353516,
          17.5,
          23.75,
          54.5,
          31,
          58.875,
          72,
          100.85713958740234,
          91,
          6,
          41,
          19,
          110,
          225.89999389648438,
          17.100000381469727,
          6,
          65,
          54.25,
          110.58064270019531,
          87.44444274902344,
          154,
          42.58333206176758,
          59.79999923706055,
          69.75,
          57.20588302612305,
          92,
          21.25,
          63,
          51,
          72,
          65,
          44,
          49.20000076293945,
          36,
          18.100000381469727,
          106,
          28.899999618530273,
          38,
          240.5,
          146,
          43.75,
          58.61538314819336,
          112,
          17.14285659790039,
          18.5,
          195,
          92.5,
          16.81818199157715,
          61.764705657958984,
          130.5416717529297,
          3,
          38.57143020629883,
          230,
          154,
          4,
          102,
          111.33333587646484,
          59.5,
          25,
          55,
          298.28570556640625,
          93,
          45,
          22.600000381469727,
          86,
          101.18181610107422,
          78.66666412353516,
          87.71428680419922,
          187.5,
          31.571428298950195,
          107,
          93,
          23,
          48,
          83,
          68.66666412353516,
          71,
          58.93333435058594,
          46,
          171.11476135253906,
          48.85714340209961,
          60.44444274902344,
          44.77777862548828,
          50.882354736328125,
          663,
          46.400001525878906,
          26,
          48,
          72.33333587646484,
          45.33333206176758,
          72,
          94,
          67,
          27.13793182373047,
          26.769229888916016,
          109,
          21.5,
          36.68421173095703,
          69,
          30.14285659790039,
          28.66666603088379,
          41.25,
          42,
          49.5,
          149.3333282470703,
          40,
          8.5,
          93.5,
          74.57142639160156,
          14,
          140.1999969482422,
          67,
          83.07691955566406,
          78.43103790283203,
          23.85714340209961,
          56.5,
          31,
          114.5,
          96.5,
          27,
          125,
          79,
          130.60000610351562,
          14,
          66,
          143,
          157.25,
          29,
          1510,
          100,
          22,
          55.25,
          68.6875,
          54,
          20,
          43,
          29.33333396911621,
          128,
          48.20000076293945,
          136,
          29,
          60.83333206176758,
          195,
          17.200000762939453,
          98,
          28,
          74.63265228271484,
          34.5,
          27.200000762939453,
          23,
          237,
          55,
          86,
          40.5,
          21.33333396911621,
          9.699999809265137,
          45.66666793823242,
          67.5,
          110.5999984741211,
          60,
          104.22222137451172,
          49.46154022216797,
          42,
          62.400001525878906,
          9.428571701049805,
          49,
          62.57500076293945,
          82.5,
          155,
          85.94999694824219,
          120,
          93.57142639160156,
          38.44444274902344,
          82,
          87,
          104.66666412353516,
          20,
          22,
          40.33333206176758,
          57.599998474121094,
          141,
          53,
          27.875,
          31,
          38.11111068725586,
          81,
          67.9000015258789,
          60.290321350097656,
          23.785715103149414,
          95,
          72,
          24,
          76,
          136.5,
          34,
          53,
          63.20000076293945,
          15.5,
          30.18181800842285,
          24.66666603088379,
          82.5999984741211,
          69,
          55.91666793823242,
          34,
          75.66666412353516,
          29.5,
          37.66666793823242,
          83.5,
          41.400001525878906,
          27,
          49.68421173095703,
          13,
          51.24137878417969,
          122,
          58,
          39,
          108.66666412353516,
          73,
          78.85713958740234,
          95.5,
          88,
          13.083333015441895,
          78,
          21,
          72,
          33,
          68,
          77.57142639160156,
          45.5,
          47,
          57.57143020629883,
          77.33333587646484,
          34.79999923706055,
          26.55555534362793,
          49.79999923706055,
          36.33333206176758,
          65.875,
          85.8125,
          43.28571319580078,
          87,
          20,
          32.5,
          60.75,
          75,
          14,
          56,
          45.599998474121094,
          69.9000015258789,
          59,
          52.25,
          57,
          62,
          170.26315307617188,
          110,
          105.43333435058594,
          20,
          74.96295928955078,
          40.11111068725586,
          114,
          68.5,
          30,
          65,
          53.66666793823242,
          154.3333282470703,
          34.5,
          89,
          106.07142639160156,
          38,
          74.42857360839844,
          43.599998474121094,
          20.5625,
          20,
          84.66666412353516,
          50,
          12,
          26.700000762939453,
          11,
          104,
          55.5,
          58.57143020629883,
          16,
          27.33333396911621,
          76,
          126.71428680419922,
          124,
          53.75,
          92.93333435058594,
          134,
          68,
          68,
          93.75,
          61,
          172.3333282470703,
          32.33333206176758,
          204.7142791748047,
          34.07692337036133,
          241.25,
          39.45454406738281,
          52,
          89.11111450195312,
          298,
          46.43243408203125,
          65.5,
          58.400001525878906,
          115.5,
          27.5,
          34,
          53.599998474121094,
          33,
          43,
          304.1000061035156,
          72,
          14,
          121,
          56,
          68.33333587646484,
          20.600000381469727,
          57,
          25,
          92.83333587646484,
          68,
          98.4000015258789,
          66.80000305175781,
          33.75,
          52.66666793823242,
          93.83333587646484,
          53.46666717529297,
          81.33333587646484,
          7,
          15,
          127.19999694824219,
          374.5,
          12.25,
          168,
          16.33333396911621,
          82,
          80,
          34.71428680419922,
          44.5,
          25.125,
          79.75,
          99,
          70,
          41.33333206176758,
          21,
          58.33333206176758,
          45,
          17.5,
          73.5,
          13,
          85.875,
          39,
          396,
          438,
          28.5,
          62,
          18,
          75.5,
          63,
          53.45000076293945,
          77.75,
          57.625,
          64.375,
          36,
          74.33333587646484,
          36.20000076293945,
          123.31034851074219,
          70.80327606201172,
          158.5,
          50.842105865478516,
          73,
          261.6666564941406,
          22,
          15.75,
          43.85714340209961,
          16,
          60.588233947753906,
          15.5,
          46.07692337036133,
          73,
          91.5,
          95.19999694824219,
          157.23529052734375,
          91.25,
          86.125,
          17,
          59.75,
          79.11111450195312,
          43,
          105,
          21.33333396911621,
          36,
          70.83333587646484,
          84.66666412353516,
          72.27777862548828,
          13,
          56,
          33.83333206176758,
          75,
          29,
          62,
          95.41666412353516,
          54.79999923706055,
          65.25,
          21.571428298950195,
          63.79999923706055,
          24,
          124.5,
          96,
          156,
          26.16666603088379,
          82.5,
          112,
          54.5,
          81,
          82,
          87.5,
          308.5,
          57.5,
          190.53846740722656,
          39.5,
          16,
          91.9375,
          147.5,
          80.86206817626953,
          75,
          21,
          56.400001525878906,
          88,
          22.272727966308594,
          41,
          22.733333587646484,
          78.5,
          44.5,
          46.900001525878906,
          75,
          33.5,
          41,
          170,
          97.80000305175781,
          221,
          32.5,
          70.42857360839844,
          124.82353210449219,
          51.66666793823242,
          21,
          44.71428680419922,
          60,
          52.5,
          69.52631378173828,
          95,
          30,
          135.07691955566406,
          73.5882339477539,
          78.63793182373047,
          32,
          28,
          60.682926177978516,
          37,
          127,
          137.5,
          88.7272720336914,
          63.14285659790039,
          259,
          81.66666412353516,
          56.66666793823242,
          51,
          110.25,
          132.6666717529297,
          22.727272033691406,
          63.272727966308594,
          135.5,
          413,
          31.14285659790039,
          51.407405853271484,
          45,
          5,
          11,
          22.16666603088379,
          64.66666412353516,
          102,
          192,
          107,
          93,
          106.16666412353516,
          87.66666412353516,
          63,
          112.25,
          38.66666793823242,
          61.5,
          40.79999923706055,
          78.5999984741211,
          16,
          230,
          64.25,
          46.75,
          125,
          409.5,
          21.5,
          57,
          51.71428680419922,
          45,
          91.25,
          18,
          75.25,
          23.5,
          25.5,
          29.66666603088379,
          87.47058868408203,
          185,
          61.69230651855469,
          56.14285659790039,
          34.5,
          54,
          117.66666412353516,
          112,
          34.90909194946289,
          46.05555725097656,
          66.22222137451172,
          284.4444580078125,
          64.33333587646484,
          6,
          62,
          51,
          89.91666412353516,
          29.799999237060547,
          92.25,
          82,
          66.5,
          23,
          54.33333206176758,
          70,
          155,
          111.82353210449219,
          104,
          60,
          30,
          137,
          56.75,
          13,
          38.20000076293945,
          128,
          26.052631378173828,
          78.55555725097656,
          59,
          111.60344696044922,
          49.66666793823242,
          33.20000076293945,
          138,
          42.35293960571289,
          60,
          64.66666412353516,
          104.66666412353516,
          54,
          33,
          60.28571319580078,
          53.79999923706055,
          72.68181610107422,
          129.5,
          125,
          38.33333206176758,
          55.66666793823242,
          181.6666717529297,
          65.84615325927734,
          63.66666793823242,
          39.57143020629883,
          68.80000305175781,
          107,
          26,
          30.5,
          126,
          46,
          57.66666793823242,
          95.48648834228516,
          59.33333206176758,
          18,
          94,
          51.10714340209961,
          61,
          34,
          39.400001525878906,
          73.11111450195312,
          32.47368240356445,
          5,
          34,
          15.833333015441895,
          93,
          48.400001525878906,
          96,
          66,
          102.33333587646484,
          45,
          0,
          20,
          66.09091186523438,
          81.77777862548828,
          58.882354736328125,
          52.66666793823242,
          8,
          34,
          75,
          21.5,
          69.4000015258789,
          55,
          78.875,
          16.5,
          122.5,
          25,
          88,
          93,
          102.5999984741211,
          57,
          81,
          141.3333282470703,
          97,
          94.18181610107422,
          38,
          86,
          150,
          20,
          110,
          24.571428298950195,
          28.55555534362793,
          128.3333282470703,
          71,
          32,
          126.33333587646484,
          18,
          94,
          26,
          11.5,
          73,
          114,
          29,
          62.66666793823242,
          232.77777099609375,
          35.5,
          41.07316970825195,
          39,
          41.125,
          33,
          58.5,
          45.703704833984375,
          30,
          28.66666603088379,
          226.75,
          28,
          112.5,
          82,
          64.5,
          100,
          63.52631759643555,
          42,
          7,
          23.428571701049805,
          90,
          12,
          35.75,
          347,
          74.83333587646484,
          94,
          66.33333587646484,
          74,
          72.76190185546875,
          21,
          75.84615325927734,
          17,
          65.80952453613281,
          71.30000305175781,
          89.19999694824219,
          113.66666412353516,
          20.263158798217773,
          128,
          49,
          37.099998474121094,
          55.16666793823242,
          29.882352828979492,
          38.75,
          66.25,
          51.6363639831543,
          118,
          45,
          37.33333206176758,
          45.21739196777344,
          43,
          67,
          39,
          33,
          42,
          27.5,
          63.5,
          62.034481048583984,
          72.5,
          40,
          80,
          84.25531768798828,
          19,
          31,
          57.5,
          63.230770111083984,
          330.5,
          414,
          63.5,
          156.1666717529297,
          76.5999984741211,
          23.625,
          62,
          91.07691955566406,
          29,
          34,
          94,
          43,
          48,
          61.66666793823242,
          53,
          21,
          6,
          97.28571319580078,
          49,
          57.31578826904297,
          70,
          206.5,
          402.6666564941406,
          70,
          145.8000030517578,
          71.16666412353516,
          113.75,
          15.428571701049805,
          94.33333587646484,
          41.19047546386719,
          83,
          27.5,
          31,
          70.5,
          118,
          61.77777862548828,
          19,
          90,
          18,
          55.5,
          41.05263137817383,
          51,
          49,
          40.5,
          47,
          361.3999938964844,
          73.68000030517578,
          56,
          67.0526351928711,
          98,
          86.66666412353516,
          45.20000076293945,
          49.85714340209961,
          169.1999969482422,
          43.29999923706055,
          81,
          120.7368392944336,
          227.6666717529297,
          56,
          134,
          33,
          53,
          87,
          49.33333206176758,
          121.74285888671875,
          33,
          37,
          48.38461685180664,
          140.86363220214844,
          39,
          157.1666717529297,
          106.4000015258789,
          53.181819915771484,
          105.4000015258789,
          31.33333396911621,
          47.4571418762207,
          37.79999923706055,
          42,
          4,
          85,
          79.66666412353516,
          113.7272720336914,
          74.5,
          33.599998474121094,
          86.33333587646484,
          42.07692337036133,
          128.5,
          191.8333282470703,
          107.28571319580078,
          169.1999969482422,
          68.66666412353516,
          72.57142639160156,
          44.75,
          27,
          61.125,
          21.799999237060547,
          89,
          31,
          134.5,
          46,
          168.75,
          82,
          127,
          75,
          110,
          17,
          17,
          42.14285659790039,
          72.44999694824219,
          45.5,
          100,
          30.83333396911621,
          1126,
          67,
          60.5,
          18.428571701049805,
          76,
          27.83333396911621,
          34.20000076293945,
          19.25,
          59.5,
          14,
          15,
          102,
          11,
          43.33333206176758,
          74,
          22.14285659790039,
          57,
          91.19999694824219,
          67,
          29,
          19,
          63.24137878417969,
          47.91666793823242,
          71.33333587646484,
          10,
          79,
          27.266666412353516,
          65.33333587646484,
          59,
          37,
          85.19999694824219,
          57.375,
          103,
          100,
          142.42857360839844,
          124.5,
          66.5,
          28.33333396911621,
          28.77777862548828,
          72.53845977783203,
          79.5882339477539,
          11,
          30,
          19,
          223,
          66,
          30,
          40,
          7,
          61.2386360168457,
          105,
          90.5,
          54,
          157.88888549804688,
          76.46295928955078,
          53.5,
          58.14285659790039,
          132,
          36,
          73,
          75.30000305175781,
          30.27777862548828,
          63,
          34.70000076293945,
          22,
          55,
          23.45977020263672,
          5.333333492279053,
          102.5,
          26.200000762939453,
          49.66666793823242,
          283,
          68.75,
          39.5,
          31,
          42.375,
          36,
          4,
          80.9375,
          27.14285659790039,
          50,
          31,
          54.57692337036133,
          51.599998474121094,
          62.41666793823242,
          43,
          51.25,
          175,
          30,
          622,
          33.85714340209961,
          79.5,
          44.5,
          25.5,
          68,
          16,
          125.66666412353516,
          56,
          116,
          79,
          55.5,
          44.400001525878906,
          33,
          39,
          82.63636016845703,
          57,
          36,
          206.5,
          109,
          140,
          87.30769348144531,
          37.16666793823242,
          8,
          842,
          300,
          74.66666412353516,
          25,
          50.5,
          16.69230842590332,
          41,
          84,
          153.89999389648438,
          50.29166793823242,
          26.700000762939453,
          50,
          80.66666412353516,
          113,
          74,
          36.5,
          38.71428680419922,
          22.399999618530273,
          56.33333206176758,
          39,
          32,
          27,
          66,
          71,
          139,
          49,
          40.25,
          37,
          65.33333587646484,
          51,
          12.25,
          66.80000305175781,
          34,
          72.50961303710938,
          32,
          215,
          35.653846740722656,
          21.375,
          34,
          59.5,
          29.25,
          24.66666603088379,
          167,
          43.44827651977539,
          102.44444274902344,
          66.5,
          103,
          70.66666412353516,
          260,
          19,
          15,
          55.41572952270508,
          45.099998474121094,
          72.18181610107422,
          114,
          47,
          59.411766052246094,
          70,
          55,
          208,
          14.5,
          112.5,
          13,
          22.66666603088379,
          122.5,
          55.35293960571289,
          40,
          134.6666717529297,
          148.5,
          54.29999923706055,
          66.23076629638672,
          178,
          59,
          172,
          39.30769348144531,
          106.33333587646484,
          63,
          66.42857360839844,
          208,
          48.5,
          48.25,
          39.5,
          43.5,
          43.66666793823242,
          43,
          21,
          57.33333206176758,
          40,
          53,
          51.13333511352539,
          192.42857360839844,
          72.5,
          11.5,
          110,
          103,
          61.818180084228516,
          61,
          145.3333282470703,
          33.5,
          39,
          171,
          49.28571319580078,
          19,
          28.5,
          14,
          41,
          45.25,
          29.83333396911621,
          19.600000381469727,
          68.75,
          31.899999618530273,
          159.41175842285156,
          57.5,
          35,
          134.5,
          33.28571319580078,
          38.90909194946289,
          40.20454406738281,
          63.5,
          35,
          96.5,
          51.5,
          42,
          30,
          210,
          84,
          22,
          159,
          5,
          79.64705657958984,
          52,
          32.66666793823242,
          84.77777862548828,
          44.07143020629883,
          63.875,
          73.75,
          87.28571319580078,
          55.33333206176758,
          50,
          103,
          49.28571319580078,
          80,
          41,
          49,
          81.5,
          114.25,
          90.58333587646484,
          56,
          87.25,
          25.44444465637207,
          48.16666793823242,
          66.5,
          68.125,
          42.75,
          63.33333206176758,
          117.33333587646484,
          233.5,
          218.42857360839844,
          7,
          8,
          32.33333206176758,
          30.83333396911621,
          23.14285659790039,
          231,
          43.846153259277344,
          77.26984405517578,
          105.15789794921875,
          75,
          131.39999389648438,
          99.25,
          190.5,
          35,
          82,
          18,
          64,
          209,
          26,
          28.33333396911621,
          28,
          70.19999694824219,
          18.5,
          44.599998474121094,
          53,
          46.25,
          17,
          81,
          81.5,
          49,
          34.20000076293945,
          23.77777862548828,
          145,
          84.625,
          37.20000076293945,
          42.599998474121094,
          228,
          64.66666412353516,
          99,
          48,
          76.83333587646484,
          143,
          14.25,
          87,
          109,
          57.318180084228516,
          107.375,
          69.33333587646484,
          72.5999984741211,
          536.3333129882812,
          65.5,
          24.66666603088379,
          18.18181800842285,
          72,
          14.333333015441895,
          40,
          69.4000015258789,
          130,
          58.599998474121094,
          56.71428680419922,
          13.714285850524902,
          132.9375,
          83,
          72.57142639160156,
          21.5,
          69,
          263,
          10.5,
          22.66666603088379,
          60.44444274902344,
          44.5,
          40,
          111,
          117,
          33,
          83,
          82.14286041259766,
          74,
          161,
          52,
          103,
          44.79999923706055,
          66.66666412353516,
          12,
          49.88888931274414,
          94,
          61,
          95,
          26,
          48.44444274902344,
          64.75,
          43.5,
          66.5,
          83.51612854003906,
          44,
          98,
          148,
          49.17142868041992,
          51.5,
          22.5,
          155.6666717529297,
          86,
          23,
          52.5,
          37.5,
          50.75,
          68.93333435058594,
          80.80000305175781,
          64.35294342041016,
          69,
          109.33333587646484,
          38.75,
          53.79999923706055,
          90,
          28,
          79.19999694824219,
          75.81818389892578,
          71.37931060791016,
          55.49152374267578,
          48.30434799194336,
          49,
          64.69230651855469,
          53.85714340209961,
          65.25,
          127.5,
          22.799999237060547,
          68.5,
          11.5,
          115.75,
          85,
          89.5,
          444,
          17,
          38,
          53.5,
          75,
          111,
          164.3333282470703,
          48.66666793823242,
          47.68000030517578,
          129.5,
          36.75,
          185,
          116,
          80.5999984741211,
          178.36363220214844,
          49.66666793823242,
          38.400001525878906,
          38.33333206176758,
          38.41666793823242,
          349,
          41.66666793823242,
          54.5,
          200.125,
          50.5,
          19.66666603088379,
          60.83333206176758,
          24,
          36,
          38.83333206176758,
          52,
          110.5,
          79.5,
          338,
          91.57142639160156,
          25.66666603088379,
          68.66666412353516,
          40,
          46.25,
          61.5,
          69.75,
          78,
          101,
          79.27777862548828,
          30,
          178.53846740722656,
          22.909090042114258,
          59.157894134521484,
          47.79999923706055,
          60.930233001708984,
          57.5,
          38.22222137451172,
          92.55000305175781,
          88.55555725097656,
          36.66666793823242,
          86,
          12,
          48.38888931274414,
          33,
          83,
          27.25,
          26,
          43,
          61,
          70.4000015258789,
          109,
          71,
          78,
          71.21052551269531,
          64.66666412353516,
          75,
          252,
          16,
          63.44444274902344,
          11.5,
          27.5,
          150.442626953125,
          53,
          50,
          76.41666412353516,
          162.36842346191406,
          9,
          39.71428680419922,
          135.3333282470703,
          33.5,
          51.66666793823242,
          108,
          31.428571701049805,
          23.66666603088379,
          57,
          64.7272720336914,
          51.66666793823242,
          89.69999694824219,
          46,
          136,
          36.5,
          40,
          22.5,
          111.31578826904297,
          146.5,
          70,
          96.5,
          51.66666793823242,
          81,
          56,
          80.5140151977539,
          86.16666412353516,
          70.25,
          44.761905670166016,
          48,
          34.5,
          37,
          52.5,
          10.5,
          40.79999923706055,
          78.02777862548828,
          168.40541076660156,
          45.400001525878906,
          16.66666603088379,
          42,
          77.33333587646484,
          30,
          87,
          225.6666717529297,
          67,
          97.66666412353516,
          68.91666412353516,
          25,
          73.55000305175781,
          82.33333587646484,
          35.85714340209961,
          21,
          93,
          13,
          77.31372833251953,
          65.5999984741211,
          26.5,
          60.58333206176758,
          66.54545593261719,
          86,
          62.150001525878906,
          21.5,
          16.875
         ]
        }
       ],
       "layout": {
        "barmode": "overlay",
        "template": {
         "data": {
          "bar": [
           {
            "error_x": {
             "color": "#2a3f5f"
            },
            "error_y": {
             "color": "#2a3f5f"
            },
            "marker": {
             "line": {
              "color": "#E5ECF6",
              "width": 0.5
             },
             "pattern": {
              "fillmode": "overlay",
              "size": 10,
              "solidity": 0.2
             }
            },
            "type": "bar"
           }
          ],
          "barpolar": [
           {
            "marker": {
             "line": {
              "color": "#E5ECF6",
              "width": 0.5
             },
             "pattern": {
              "fillmode": "overlay",
              "size": 10,
              "solidity": 0.2
             }
            },
            "type": "barpolar"
           }
          ],
          "carpet": [
           {
            "aaxis": {
             "endlinecolor": "#2a3f5f",
             "gridcolor": "white",
             "linecolor": "white",
             "minorgridcolor": "white",
             "startlinecolor": "#2a3f5f"
            },
            "baxis": {
             "endlinecolor": "#2a3f5f",
             "gridcolor": "white",
             "linecolor": "white",
             "minorgridcolor": "white",
             "startlinecolor": "#2a3f5f"
            },
            "type": "carpet"
           }
          ],
          "choropleth": [
           {
            "colorbar": {
             "outlinewidth": 0,
             "ticks": ""
            },
            "type": "choropleth"
           }
          ],
          "contour": [
           {
            "colorbar": {
             "outlinewidth": 0,
             "ticks": ""
            },
            "colorscale": [
             [
              0,
              "#0d0887"
             ],
             [
              0.1111111111111111,
              "#46039f"
             ],
             [
              0.2222222222222222,
              "#7201a8"
             ],
             [
              0.3333333333333333,
              "#9c179e"
             ],
             [
              0.4444444444444444,
              "#bd3786"
             ],
             [
              0.5555555555555556,
              "#d8576b"
             ],
             [
              0.6666666666666666,
              "#ed7953"
             ],
             [
              0.7777777777777778,
              "#fb9f3a"
             ],
             [
              0.8888888888888888,
              "#fdca26"
             ],
             [
              1,
              "#f0f921"
             ]
            ],
            "type": "contour"
           }
          ],
          "contourcarpet": [
           {
            "colorbar": {
             "outlinewidth": 0,
             "ticks": ""
            },
            "type": "contourcarpet"
           }
          ],
          "heatmap": [
           {
            "colorbar": {
             "outlinewidth": 0,
             "ticks": ""
            },
            "colorscale": [
             [
              0,
              "#0d0887"
             ],
             [
              0.1111111111111111,
              "#46039f"
             ],
             [
              0.2222222222222222,
              "#7201a8"
             ],
             [
              0.3333333333333333,
              "#9c179e"
             ],
             [
              0.4444444444444444,
              "#bd3786"
             ],
             [
              0.5555555555555556,
              "#d8576b"
             ],
             [
              0.6666666666666666,
              "#ed7953"
             ],
             [
              0.7777777777777778,
              "#fb9f3a"
             ],
             [
              0.8888888888888888,
              "#fdca26"
             ],
             [
              1,
              "#f0f921"
             ]
            ],
            "type": "heatmap"
           }
          ],
          "heatmapgl": [
           {
            "colorbar": {
             "outlinewidth": 0,
             "ticks": ""
            },
            "colorscale": [
             [
              0,
              "#0d0887"
             ],
             [
              0.1111111111111111,
              "#46039f"
             ],
             [
              0.2222222222222222,
              "#7201a8"
             ],
             [
              0.3333333333333333,
              "#9c179e"
             ],
             [
              0.4444444444444444,
              "#bd3786"
             ],
             [
              0.5555555555555556,
              "#d8576b"
             ],
             [
              0.6666666666666666,
              "#ed7953"
             ],
             [
              0.7777777777777778,
              "#fb9f3a"
             ],
             [
              0.8888888888888888,
              "#fdca26"
             ],
             [
              1,
              "#f0f921"
             ]
            ],
            "type": "heatmapgl"
           }
          ],
          "histogram": [
           {
            "marker": {
             "pattern": {
              "fillmode": "overlay",
              "size": 10,
              "solidity": 0.2
             }
            },
            "type": "histogram"
           }
          ],
          "histogram2d": [
           {
            "colorbar": {
             "outlinewidth": 0,
             "ticks": ""
            },
            "colorscale": [
             [
              0,
              "#0d0887"
             ],
             [
              0.1111111111111111,
              "#46039f"
             ],
             [
              0.2222222222222222,
              "#7201a8"
             ],
             [
              0.3333333333333333,
              "#9c179e"
             ],
             [
              0.4444444444444444,
              "#bd3786"
             ],
             [
              0.5555555555555556,
              "#d8576b"
             ],
             [
              0.6666666666666666,
              "#ed7953"
             ],
             [
              0.7777777777777778,
              "#fb9f3a"
             ],
             [
              0.8888888888888888,
              "#fdca26"
             ],
             [
              1,
              "#f0f921"
             ]
            ],
            "type": "histogram2d"
           }
          ],
          "histogram2dcontour": [
           {
            "colorbar": {
             "outlinewidth": 0,
             "ticks": ""
            },
            "colorscale": [
             [
              0,
              "#0d0887"
             ],
             [
              0.1111111111111111,
              "#46039f"
             ],
             [
              0.2222222222222222,
              "#7201a8"
             ],
             [
              0.3333333333333333,
              "#9c179e"
             ],
             [
              0.4444444444444444,
              "#bd3786"
             ],
             [
              0.5555555555555556,
              "#d8576b"
             ],
             [
              0.6666666666666666,
              "#ed7953"
             ],
             [
              0.7777777777777778,
              "#fb9f3a"
             ],
             [
              0.8888888888888888,
              "#fdca26"
             ],
             [
              1,
              "#f0f921"
             ]
            ],
            "type": "histogram2dcontour"
           }
          ],
          "mesh3d": [
           {
            "colorbar": {
             "outlinewidth": 0,
             "ticks": ""
            },
            "type": "mesh3d"
           }
          ],
          "parcoords": [
           {
            "line": {
             "colorbar": {
              "outlinewidth": 0,
              "ticks": ""
             }
            },
            "type": "parcoords"
           }
          ],
          "pie": [
           {
            "automargin": true,
            "type": "pie"
           }
          ],
          "scatter": [
           {
            "fillpattern": {
             "fillmode": "overlay",
             "size": 10,
             "solidity": 0.2
            },
            "type": "scatter"
           }
          ],
          "scatter3d": [
           {
            "line": {
             "colorbar": {
              "outlinewidth": 0,
              "ticks": ""
             }
            },
            "marker": {
             "colorbar": {
              "outlinewidth": 0,
              "ticks": ""
             }
            },
            "type": "scatter3d"
           }
          ],
          "scattercarpet": [
           {
            "marker": {
             "colorbar": {
              "outlinewidth": 0,
              "ticks": ""
             }
            },
            "type": "scattercarpet"
           }
          ],
          "scattergeo": [
           {
            "marker": {
             "colorbar": {
              "outlinewidth": 0,
              "ticks": ""
             }
            },
            "type": "scattergeo"
           }
          ],
          "scattergl": [
           {
            "marker": {
             "colorbar": {
              "outlinewidth": 0,
              "ticks": ""
             }
            },
            "type": "scattergl"
           }
          ],
          "scattermapbox": [
           {
            "marker": {
             "colorbar": {
              "outlinewidth": 0,
              "ticks": ""
             }
            },
            "type": "scattermapbox"
           }
          ],
          "scatterpolar": [
           {
            "marker": {
             "colorbar": {
              "outlinewidth": 0,
              "ticks": ""
             }
            },
            "type": "scatterpolar"
           }
          ],
          "scatterpolargl": [
           {
            "marker": {
             "colorbar": {
              "outlinewidth": 0,
              "ticks": ""
             }
            },
            "type": "scatterpolargl"
           }
          ],
          "scatterternary": [
           {
            "marker": {
             "colorbar": {
              "outlinewidth": 0,
              "ticks": ""
             }
            },
            "type": "scatterternary"
           }
          ],
          "surface": [
           {
            "colorbar": {
             "outlinewidth": 0,
             "ticks": ""
            },
            "colorscale": [
             [
              0,
              "#0d0887"
             ],
             [
              0.1111111111111111,
              "#46039f"
             ],
             [
              0.2222222222222222,
              "#7201a8"
             ],
             [
              0.3333333333333333,
              "#9c179e"
             ],
             [
              0.4444444444444444,
              "#bd3786"
             ],
             [
              0.5555555555555556,
              "#d8576b"
             ],
             [
              0.6666666666666666,
              "#ed7953"
             ],
             [
              0.7777777777777778,
              "#fb9f3a"
             ],
             [
              0.8888888888888888,
              "#fdca26"
             ],
             [
              1,
              "#f0f921"
             ]
            ],
            "type": "surface"
           }
          ],
          "table": [
           {
            "cells": {
             "fill": {
              "color": "#EBF0F8"
             },
             "line": {
              "color": "white"
             }
            },
            "header": {
             "fill": {
              "color": "#C8D4E3"
             },
             "line": {
              "color": "white"
             }
            },
            "type": "table"
           }
          ]
         },
         "layout": {
          "annotationdefaults": {
           "arrowcolor": "#2a3f5f",
           "arrowhead": 0,
           "arrowwidth": 1
          },
          "autotypenumbers": "strict",
          "coloraxis": {
           "colorbar": {
            "outlinewidth": 0,
            "ticks": ""
           }
          },
          "colorscale": {
           "diverging": [
            [
             0,
             "#8e0152"
            ],
            [
             0.1,
             "#c51b7d"
            ],
            [
             0.2,
             "#de77ae"
            ],
            [
             0.3,
             "#f1b6da"
            ],
            [
             0.4,
             "#fde0ef"
            ],
            [
             0.5,
             "#f7f7f7"
            ],
            [
             0.6,
             "#e6f5d0"
            ],
            [
             0.7,
             "#b8e186"
            ],
            [
             0.8,
             "#7fbc41"
            ],
            [
             0.9,
             "#4d9221"
            ],
            [
             1,
             "#276419"
            ]
           ],
           "sequential": [
            [
             0,
             "#0d0887"
            ],
            [
             0.1111111111111111,
             "#46039f"
            ],
            [
             0.2222222222222222,
             "#7201a8"
            ],
            [
             0.3333333333333333,
             "#9c179e"
            ],
            [
             0.4444444444444444,
             "#bd3786"
            ],
            [
             0.5555555555555556,
             "#d8576b"
            ],
            [
             0.6666666666666666,
             "#ed7953"
            ],
            [
             0.7777777777777778,
             "#fb9f3a"
            ],
            [
             0.8888888888888888,
             "#fdca26"
            ],
            [
             1,
             "#f0f921"
            ]
           ],
           "sequentialminus": [
            [
             0,
             "#0d0887"
            ],
            [
             0.1111111111111111,
             "#46039f"
            ],
            [
             0.2222222222222222,
             "#7201a8"
            ],
            [
             0.3333333333333333,
             "#9c179e"
            ],
            [
             0.4444444444444444,
             "#bd3786"
            ],
            [
             0.5555555555555556,
             "#d8576b"
            ],
            [
             0.6666666666666666,
             "#ed7953"
            ],
            [
             0.7777777777777778,
             "#fb9f3a"
            ],
            [
             0.8888888888888888,
             "#fdca26"
            ],
            [
             1,
             "#f0f921"
            ]
           ]
          },
          "colorway": [
           "#636efa",
           "#EF553B",
           "#00cc96",
           "#ab63fa",
           "#FFA15A",
           "#19d3f3",
           "#FF6692",
           "#B6E880",
           "#FF97FF",
           "#FECB52"
          ],
          "font": {
           "color": "#2a3f5f"
          },
          "geo": {
           "bgcolor": "white",
           "lakecolor": "white",
           "landcolor": "#E5ECF6",
           "showlakes": true,
           "showland": true,
           "subunitcolor": "white"
          },
          "hoverlabel": {
           "align": "left"
          },
          "hovermode": "closest",
          "mapbox": {
           "style": "light"
          },
          "paper_bgcolor": "white",
          "plot_bgcolor": "#E5ECF6",
          "polar": {
           "angularaxis": {
            "gridcolor": "white",
            "linecolor": "white",
            "ticks": ""
           },
           "bgcolor": "#E5ECF6",
           "radialaxis": {
            "gridcolor": "white",
            "linecolor": "white",
            "ticks": ""
           }
          },
          "scene": {
           "xaxis": {
            "backgroundcolor": "#E5ECF6",
            "gridcolor": "white",
            "gridwidth": 2,
            "linecolor": "white",
            "showbackground": true,
            "ticks": "",
            "zerolinecolor": "white"
           },
           "yaxis": {
            "backgroundcolor": "#E5ECF6",
            "gridcolor": "white",
            "gridwidth": 2,
            "linecolor": "white",
            "showbackground": true,
            "ticks": "",
            "zerolinecolor": "white"
           },
           "zaxis": {
            "backgroundcolor": "#E5ECF6",
            "gridcolor": "white",
            "gridwidth": 2,
            "linecolor": "white",
            "showbackground": true,
            "ticks": "",
            "zerolinecolor": "white"
           }
          },
          "shapedefaults": {
           "line": {
            "color": "#2a3f5f"
           }
          },
          "ternary": {
           "aaxis": {
            "gridcolor": "white",
            "linecolor": "white",
            "ticks": ""
           },
           "baxis": {
            "gridcolor": "white",
            "linecolor": "white",
            "ticks": ""
           },
           "bgcolor": "#E5ECF6",
           "caxis": {
            "gridcolor": "white",
            "linecolor": "white",
            "ticks": ""
           }
          },
          "title": {
           "x": 0.05
          },
          "xaxis": {
           "automargin": true,
           "gridcolor": "white",
           "linecolor": "white",
           "ticks": "",
           "title": {
            "standoff": 15
           },
           "zerolinecolor": "white",
           "zerolinewidth": 2
          },
          "yaxis": {
           "automargin": true,
           "gridcolor": "white",
           "linecolor": "white",
           "ticks": "",
           "title": {
            "standoff": 15
           },
           "zerolinecolor": "white",
           "zerolinewidth": 2
          }
         }
        }
       }
      }
     },
     "metadata": {},
     "output_type": "display_data"
    }
   ],
   "source": [
    "## Average readtime per user\n",
    "avg_read_times = df.groupby(by =  'user_id')['read_time'].mean()\n",
    "\n",
    "fig = go.Figure()\n",
    "fig.add_trace(go.Histogram(x=avg_read_times))\n",
    "\n",
    "\n",
    "# Overlay both histograms\n",
    "fig.update_layout(barmode='overlay')\n",
    "# Reduce opacity to see both histograms\n",
    "fig.update_traces(opacity=0.55)\n",
    "fig.show()\n",
    "\n",
    "\n"
   ]
  },
  {
   "cell_type": "code",
   "execution_count": null,
   "id": "5d127bb2",
   "metadata": {},
   "outputs": [],
   "source": [
    "## Average readtime per user\n",
    "avg_read_times = df.groupby(by =  'user_id')['read_time'].mean()\n",
    "\n",
    "fig = go.Figure()\n",
    "fig.add_trace(go.Histogram(x=avg_read_times))\n",
    "\n",
    "\n",
    "# Overlay both histograms\n",
    "fig.update_layout(barmode='overlay')\n",
    "# Reduce opacity to see both histograms\n",
    "fig.update_traces(opacity=0.55)\n",
    "fig.show()"
   ]
  },
  {
   "cell_type": "markdown",
   "id": "e4424d9e",
   "metadata": {},
   "source": [
    "### Average scroll percentage per user"
   ]
  },
  {
   "cell_type": "code",
   "execution_count": null,
   "id": "03d400e7",
   "metadata": {},
   "outputs": [],
   "source": [
    "# Average scroll time across each user\n",
    "## Average readtime per user\n",
    "avg_scroll_percentage = df.groupby(by = 'user_id')['scroll_percentage'].mean()\n",
    "\n",
    "fig = go.Figure()\n",
    "fig.add_trace(go.Histogram(x=avg_scroll_percentage))\n",
    "\n",
    "\n",
    "# Overlay both histograms\n",
    "fig.update_layout(barmode='overlay')\n",
    "# Reduce opacity to see both histograms\n",
    "fig.update_traces(opacity=0.55)\n",
    "fig.show()"
   ]
  },
  {
   "cell_type": "markdown",
   "id": "812afcd3",
   "metadata": {},
   "source": [
    "## Session"
   ]
  },
  {
   "cell_type": "markdown",
   "id": "edeee20c",
   "metadata": {},
   "source": [
    "Daily Active Sessions"
   ]
  },
  {
   "cell_type": "code",
   "execution_count": null,
   "id": "b7868e22",
   "metadata": {},
   "outputs": [],
   "source": [
    "# Number of unique sessions per day\n",
    "tmp_df = df\n",
    "tmp_df['impression_time'] = tmp_df['impression_time'].apply(lambda x: x.strftime('%m/%d/%Y'))\n",
    "\n",
    "\n",
    "unique_session_dates= tmp_df['impression_time'].unique()\n",
    "unique_sessions_per_day = tmp_df.groupby(by = 'session_id')['impression_time'].min()\n",
    "unique_sessions_daily_growth = {k:0 for k in unique_sessions_per_day}\n",
    "\n",
    "\n",
    "for x in unique_sessions_per_day.values:\n",
    "    unique_sessions_daily_growth[x] +=1\n",
    "\n",
    "unique_sessions_daily_growth = dict(sorted(unique_sessions_daily_growth.items()))"
   ]
  },
  {
   "cell_type": "code",
   "execution_count": null,
   "id": "b44db7ac",
   "metadata": {},
   "outputs": [],
   "source": [
    "indices = [x for x in unique_sessions_daily_growth.keys()]\n",
    "values = [x for x in unique_sessions_daily_growth.values()]\n",
    "\n",
    "fig = go.Figure()\n",
    "\n",
    "# Add traces\n",
    "fig.add_trace(go.Bar(x = indices, y = values,\n",
    "                         \n",
    "                         )\n",
    "\n",
    ")\n",
    "\n",
    "fig.update_traces(texttemplate='%{text:.2s}', textposition='outside')\n",
    "fig.update_layout(uniformtext_minsize=8, uniformtext_mode='hide')\n",
    "\n",
    "fig.show()\n",
    "\n"
   ]
  },
  {
   "cell_type": "markdown",
   "id": "ef76c067",
   "metadata": {},
   "source": [
    "### Average readtime per session"
   ]
  },
  {
   "cell_type": "code",
   "execution_count": null,
   "id": "af644351",
   "metadata": {},
   "outputs": [],
   "source": [
    "# For each session, what was the average readtimes\n",
    "\n",
    "## Average readtime per session\n",
    "avg_read_times = df.groupby(by ='session_id')['read_time'].mean()\n",
    "\n",
    "fig = go.Figure()\n",
    "fig.add_trace(go.Histogram(x=avg_read_times))\n",
    "\n",
    "\n",
    "# Overlay both histograms\n",
    "fig.update_layout(barmode='overlay')\n",
    "# Reduce opacity to see both histograms\n",
    "fig.update_traces(opacity=0.55)\n",
    "fig.show()\n",
    "\n",
    "\n",
    "\n",
    "    "
   ]
  },
  {
   "cell_type": "markdown",
   "id": "52d99ce7",
   "metadata": {},
   "source": [
    "Average scroll percentage per session"
   ]
  },
  {
   "cell_type": "code",
   "execution_count": null,
   "id": "5fba3670",
   "metadata": {},
   "outputs": [],
   "source": [
    "# For each session, what was the average scroll time\n",
    "\n",
    "# Distribution blot histogram (bin it)\n",
    "df.groupby(by= 'session_id')['scroll_percentage'].mean()\n",
    "\n",
    "## Average readtime per user\n",
    "avg_scroll_pct = df.groupby(by ='session_id')['scroll_percentage'].mean()\n",
    "\n",
    "fig = go.Figure()\n",
    "fig.add_trace(go.Histogram(x=avg_scroll_pct))\n",
    "\n",
    "\n",
    "# Overlay both histograms\n",
    "fig.update_layout(barmode='overlay')\n",
    "# Reduce opacity to see both histograms\n",
    "fig.update_traces(opacity=0.55)\n",
    "fig.show()"
   ]
  },
  {
   "cell_type": "markdown",
   "id": "9ae85ec3",
   "metadata": {},
   "source": [
    "## Topic"
   ]
  },
  {
   "cell_type": "code",
   "execution_count": null,
   "id": "83b4af30",
   "metadata": {},
   "outputs": [],
   "source": [
    "# Let's get unique_user_ids topics\n",
    "\n",
    "## Get all unique ids in a list\n",
    "\n",
    "unique_user_ids = df['user_id'].values[0:1000]\n",
    "\n",
    "# Create dictionaries\n",
    "unique_users_topics_freq= {}\n",
    "unique_topic_scroll_freq = {}\n",
    "unique_topic_read_freq = {}\n",
    "\n",
    "for id in unique_user_ids:\n",
    "    # Get the subset of that user id\n",
    "    tmp_df = df[df['user_id'] == id]\n",
    "\n",
    "    # Now lets go through each topic\n",
    "    indices = np.array(tmp_df.index)\n",
    "    for i in indices:\n",
    "        tmp_topics = tmp_df['topics'][i]\n",
    "        tmp_scroll = tmp_df['scroll_percentage'][i]\n",
    "        tmp_read = tmp_df['read_time'][i]\n",
    "\n",
    "        topics = [x for x in tmp_topics]\n",
    "        scroll = [tmp_scroll]\n",
    "        read = [tmp_read]\n",
    "\n",
    "            \n",
    "    # Find the average scroll percentages across each topic  (Can be related to whether a topic doesnt require too much reading has visualizations)\n",
    "\n",
    "    ## Group by user ID\n",
    "    ### Look at article_id for whichever topics the article is included in add that readtime and scroll percentage\n",
    "        tmp_dict = {k:v for k,v in zip(topics, scroll)}\n",
    "\n",
    "        for k,v in zip(tmp_dict.keys(), tmp_dict.values()):\n",
    "\n",
    "            if (k in unique_topic_scroll_freq.keys()):\n",
    "                tmp_array= np.append(unique_topic_scroll_freq[k],v)\n",
    "                unique_topic_scroll_freq[k] = tmp_array\n",
    "            if (k not in unique_topic_scroll_freq.keys()):\n",
    "                unique_topic_scroll_freq[k] = []\n",
    "\n",
    "    # Find the average read time across each topic\n",
    "    ## Group by user ID\n",
    "    ### Look at article_id for whichever topics the article is included in add that readtime and scroll percentage\n",
    "        tmp_dict = {k:v for k,v in zip(topics, read)}\n",
    "\n",
    "        for k,v in zip(tmp_dict.keys(), tmp_dict.values()):\n",
    "\n",
    "            if (k in unique_topic_read_freq.keys()):\n",
    "                tmp_array= np.append(unique_topic_read_freq[k],v)\n",
    "                unique_topic_read_freq[k] = tmp_array\n",
    "            if (k not in unique_topic_read_freq.keys()):\n",
    "                unique_topic_read_freq[k] = []\n",
    "\n",
    "    \n",
    "    ## Unique User Topics\n",
    "    # Get rid of duplicate values\n",
    "    unique_topics = list(set(topics))\n",
    "\n",
    "    \n",
    "    # Populate our dict\n",
    "    for i in unique_topics:\n",
    "        \n",
    "        if i not in unique_users_topics_freq:\n",
    "            unique_users_topics_freq[i] = 1\n",
    "        else:\n",
    "            unique_users_topics_freq[i] +=1\n",
    "\n"
   ]
  },
  {
   "cell_type": "markdown",
   "id": "2f3f54e8",
   "metadata": {},
   "source": [
    "### Distribution of Topics across users"
   ]
  },
  {
   "cell_type": "code",
   "execution_count": null,
   "id": "baa6df5b",
   "metadata": {},
   "outputs": [],
   "source": [
    "# What does the distribution of topics look like lets sort it?\n",
    "sorted_topic_freq = dict(sorted(unique_users_topics_freq.items(), key = lambda x: x[1], reverse = True))\n",
    "\n",
    "\n",
    "indices = [x for x in sorted_topic_freq.keys()]\n",
    "values = [x for x in sorted_topic_freq.values()]\n",
    "\n",
    "fig = go.Figure()\n",
    "\n",
    "# Add traces\n",
    "fig.add_trace(go.Bar(x = indices, y = values,\n",
    "                         \n",
    "                         )\n",
    "\n",
    ")\n",
    "\n",
    "fig.update_traces(texttemplate='%{text:.2s}', textposition='outside')\n",
    "fig.update_layout(uniformtext_minsize=8, uniformtext_mode='hide')\n",
    "\n",
    "fig.show()"
   ]
  },
  {
   "cell_type": "markdown",
   "id": "5ab41490",
   "metadata": {},
   "source": [
    "### Average readtime per topic"
   ]
  },
  {
   "cell_type": "code",
   "execution_count": null,
   "id": "a3bea6df",
   "metadata": {},
   "outputs": [],
   "source": [
    "# Find the average read times across each topic\n",
    "\n",
    "# Get the average scroll length for each article\n",
    "for k,v in zip(unique_topic_read_freq.keys(), unique_topic_read_freq.values()):\n",
    "    unique_topic_read_freq[k] = np.nanmean(v)\n",
    "\n",
    "sorted_unique_topic_read_freq = dict(sorted(unique_topic_read_freq.items(), key = lambda x: x[1], reverse = True))\n",
    "\n",
    "\n",
    "indices = [x for x in sorted_unique_topic_read_freq . keys()]\n",
    "values = [x for x in sorted_unique_topic_read_freq.values()]\n",
    "\n",
    "fig = go.Figure()\n",
    "\n",
    "# Add traces\n",
    "fig.add_trace(go.Bar(x = indices, y = values,\n",
    "                         \n",
    "                         )\n",
    "\n",
    ")\n",
    "\n",
    "fig.update_traces(texttemplate='%{text:.2s}', textposition='outside')\n",
    "fig.update_layout(uniformtext_minsize=8, uniformtext_mode='hide')\n",
    "\n",
    "fig.show()"
   ]
  },
  {
   "cell_type": "markdown",
   "id": "8973adab",
   "metadata": {},
   "source": [
    "### Average scroll perct per topic"
   ]
  },
  {
   "cell_type": "code",
   "execution_count": null,
   "id": "c6732699",
   "metadata": {},
   "outputs": [],
   "source": [
    "# Find the average scroll percentages across each topic\n",
    "\n",
    "# Get the average scroll length for each article\n",
    "for k,v in zip(unique_topic_scroll_freq.keys(), unique_topic_scroll_freq.values()):\n",
    "    unique_topic_scroll_freq[k] = np.nanmean(v)\n",
    "\n",
    "sorted_unique_topic_scroll_freq = dict(sorted(unique_topic_scroll_freq.items(), key = lambda x: x[1], reverse = True))\n",
    "\n",
    "\n",
    "indices = [x for x in sorted_unique_topic_scroll_freq . keys()]\n",
    "values = [x for x in sorted_unique_topic_scroll_freq.values()]\n",
    "\n",
    "fig = go.Figure()\n",
    "\n",
    "# Add traces\n",
    "fig.add_trace(go.Bar(x = indices, y = values,\n",
    "                         \n",
    "                         )\n",
    "\n",
    ")\n",
    "\n",
    "fig.update_traces(texttemplate='%{text:.2s}', textposition='outside')\n",
    "fig.update_layout(uniformtext_minsize=8, uniformtext_mode='hide')\n",
    "\n",
    "fig.show()"
   ]
  },
  {
   "cell_type": "markdown",
   "id": "ea97be17",
   "metadata": {},
   "source": [
    "### Activity"
   ]
  },
  {
   "cell_type": "code",
   "execution_count": null,
   "id": "144c7382",
   "metadata": {},
   "outputs": [],
   "source": [
    "# Get the list of each unqiue topic in a specific session \n",
    "topics = df.groupby(by = 'session_id')['topics'].apply(list)\n",
    "\n",
    "# Get the list of each unique timestamp for these sessions\n",
    "timestamps = df.groupby(by = 'session_id')['impression_time'].apply(list)\n",
    "\n",
    "# Get all the unique topics\n",
    "\n",
    "# Get all the unique topics\n",
    "unique_topics = []\n",
    "for i in range(len(topics.values)):\n",
    "    for j in range(0, len(topics.values[i][0])):\n",
    "        tmp = topics.values[i][0][j]\n",
    "        if tmp not in unique_topics:\n",
    "            unique_topics.append(tmp)\n",
    "\n",
    "\n",
    "unique_topics = sorted(unique_topics)\n",
    "\n",
    "# Get all unique dates\n",
    "timestamps = df.groupby(by = 'session_id')['impression_time'].apply(list)\n",
    "\n",
    "unique_dates = []\n",
    "unique_hours= [str(i) if i > 9 else str(0) + str(i) for i in range(24)]\n",
    "\n",
    "for i in range(len(timestamps.values)):\n",
    "    for j in range(len(timestamps.values[i])):\n",
    "        tmp_datetime = timestamps.values[i][j]\n",
    "        tmp_date = tmp_datetime.strftime('%m/%d/%Y')\n",
    "        if tmp_date not in unique_dates:\n",
    "            unique_dates.append(tmp_date)\n",
    "\n",
    "\n",
    "unique_dates = sorted(unique_dates)\n",
    "\n",
    "\n",
    "\n"
   ]
  },
  {
   "cell_type": "code",
   "execution_count": null,
   "id": "c3bd849b",
   "metadata": {},
   "outputs": [],
   "source": [
    "unique_topic_daily_activity  = {k:{k:0 for k in unique_dates} for k in unique_topics}\n",
    "unique_topic_hourly_activity  = {k:{k:0 for k in unique_hours} for k in unique_topics}\n",
    "\n",
    "# Populate the dictionary\n",
    "for i in zip(range(len(topics.values))):\n",
    "    for j, k  in zip(range(0, len(topics.values[i][0])), range(0, len(i))):\n",
    "        tmp = topics.values[i][0][j]\n",
    "        tmp_datetime = timestamps.values[i][k]\n",
    "        tmp_date = tmp_datetime.strftime('%m/%d/%Y')\n",
    "        tmp_time = tmp_datetime.strftime('%H')\n",
    "\n",
    "        # Add to dictionary\n",
    "        unique_topic_daily_activity[tmp][tmp_date] +=1\n",
    "        unique_topic_hourly_activity[tmp][tmp_time] +=1\n",
    "    \n",
    "\n",
    "\n"
   ]
  },
  {
   "cell_type": "markdown",
   "id": "3c0e4838",
   "metadata": {},
   "source": [
    "Daily"
   ]
  },
  {
   "cell_type": "code",
   "execution_count": null,
   "id": "18ddb47f",
   "metadata": {},
   "outputs": [],
   "source": [
    "fig = go.Figure()\n",
    "\n",
    "for topic in unique_topic_daily_activity.keys():\n",
    "    # What does the daily user activity look like?\n",
    "    indices = [x for x in unique_topic_daily_activity[topic].keys()]\n",
    "    values = [x for x in unique_topic_daily_activity[topic].values()]\n",
    "\n",
    "\n",
    "    # Add traces\n",
    "    fig.add_trace(go.Scatter(x = indices, y = values,\n",
    "                            mode = 'lines+markers'\n",
    "                            )\n",
    "\n",
    "    )\n",
    "\n",
    "fig.show()"
   ]
  },
  {
   "cell_type": "markdown",
   "id": "03917388",
   "metadata": {},
   "source": [
    "Hourly Activity"
   ]
  },
  {
   "cell_type": "code",
   "execution_count": null,
   "id": "119fe30f",
   "metadata": {},
   "outputs": [],
   "source": [
    "fig = go.Figure()\n",
    "\n",
    "for topic in unique_topic_hourly_activity.keys():\n",
    "    # What does the daily user activity look like?\n",
    "    indices = [x for x in unique_topic_hourly_activity[topic].keys()]\n",
    "    values = [x for x in unique_topic_hourly_activity[topic].values()]\n",
    "\n",
    "\n",
    "    # Add traces\n",
    "    fig.add_trace(go.Scatter(x = indices, y = values,\n",
    "                            mode = 'lines+markers'\n",
    "                            )\n",
    "\n",
    "    )\n",
    "\n",
    "fig.show()"
   ]
  },
  {
   "cell_type": "markdown",
   "id": "9499b9a7",
   "metadata": {},
   "source": [
    "## Article"
   ]
  },
  {
   "cell_type": "markdown",
   "id": "a4919c54",
   "metadata": {},
   "source": [
    "### Average readtime per article"
   ]
  },
  {
   "cell_type": "code",
   "execution_count": null,
   "id": "7849464a",
   "metadata": {},
   "outputs": [],
   "source": [
    "## For each article, what was each users read time\n",
    "\n",
    "\n",
    "## Get all unique ids in a list\n",
    "\n",
    "unique_user_ids = df['user_id'].values[0:1000]\n",
    "\n",
    "## We take the set because the scroll, article per user is joined in a list for every user id (so just take the set of it!)\n",
    "unique_user_ids = set(unique_user_ids)\n",
    "\n",
    "\n",
    "unique_article_ids = df['article_id'].unique()\n",
    "unique_article_ids= unique_article_ids[~np.isnan(unique_article_ids)]\n",
    "\n",
    "\n",
    "# Create dictionaries\n",
    "\n",
    "unique_article_read = {k: [0] for k in unique_article_ids}\n",
    "\n",
    "for id in unique_user_ids:\n",
    "    # Get the subset of that user id\n",
    "    tmp_df = df[df['user_id'] == id]\n",
    "\n",
    "    # Now lets go through each scroll and article\n",
    "    ## Iterate through each of the df\n",
    "    indices = np.array(tmp_df.index)\n",
    "    for i in indices:\n",
    "        tmp_dict = {}\n",
    "        # Select the scroll / article of that indice and \n",
    "        tmp_read = tmp_df['read_time_fixed'][i]\n",
    "\n",
    "        tmp_article = tmp_df['article_id_fixed'][i]\n",
    "\n",
    "        read = [x for x in tmp_read]\n",
    "        \n",
    "        articles = [np.int64(x) for x in tmp_article]\n",
    "    \n",
    "        tmp_dict = {k:v for k,v in zip(articles, read)}\n",
    "\n",
    "\n",
    "        for k,v in zip(tmp_dict.keys(), tmp_dict.values()):\n",
    "\n",
    "            #if unique_article_scroll.get(k) != None:\n",
    "            #    unique_article_scroll[k] += v\n",
    "            if (k in unique_article_read.keys()) & (np.isnan(v) == False):\n",
    "                tmp_array= np.append(unique_article_read[k],v)\n",
    "                unique_article_read[k] = tmp_array\n",
    "        \n",
    "    \n",
    "    # Get the average scroll length for each article\n",
    "    for k,v in zip(unique_article_read.keys(), unique_article_read.values()):\n",
    "        unique_article_read[k] = np.mean(v)\n",
    "\n",
    "\n",
    "\n",
    "# What does the hourly user activity look like?\n",
    "indices = [x for x in unique_article_read.keys()]\n",
    "values = [x for x in unique_article_read.values()]\n",
    "\n",
    "fig = go.Figure()\n",
    "\n",
    "# Add traces\n",
    "fig.add_trace(go.Scatter(x = indices, y = values,\n",
    "                         mode = 'markers'\n",
    "                         )\n",
    "\n",
    ")\n",
    "\n",
    "fig.show()\n"
   ]
  },
  {
   "cell_type": "markdown",
   "id": "085b8c77",
   "metadata": {},
   "source": [
    "### Average scroll pct per article"
   ]
  },
  {
   "cell_type": "code",
   "execution_count": null,
   "id": "5eeca6e0",
   "metadata": {},
   "outputs": [],
   "source": [
    "## For each article, what was each users scroll percentage + read time? \n",
    "\n",
    "\n",
    "## Get all unique ids in a list\n",
    "\n",
    "unique_user_ids = df['user_id'].values[0:2000]\n",
    "\n",
    "## We take the set because the scroll, article per user is joined in a list for every user id (so just take the set of it!)\n",
    "unique_user_ids = set(unique_user_ids)\n",
    "\n",
    "\n",
    "unique_article_ids = df['article_id'].unique()\n",
    "unique_article_ids= unique_article_ids[~np.isnan(unique_article_ids)]\n",
    "\n",
    "# Create dictionaries\n",
    "\n",
    "unique_article_scroll = {k: [0] for k in unique_article_ids}\n",
    "\n",
    "for id in unique_user_ids:\n",
    "    # Get the subset of that user id\n",
    "    tmp_df = df[df['user_id'] == id]\n",
    "\n",
    "    # Now lets go through each scroll and article\n",
    "    ## Iterate through each of the df\n",
    "    indices = np.array(tmp_df.index)\n",
    "    for i in indices:\n",
    "        tmp_dict = {}\n",
    "        # Select the scroll / article of that indice and \n",
    "        tmp_scroll = tmp_df['scroll_percentage_fixed'][i]\n",
    "\n",
    "        tmp_article = tmp_df['article_id_fixed'][i]\n",
    "\n",
    "        scroll = [x for x in tmp_scroll]\n",
    "        \n",
    "        articles = [np.int64(x) for x in tmp_article]\n",
    "    \n",
    "        tmp_dict = {k:v for k,v in zip(articles, scroll)}\n",
    "\n",
    "\n",
    "        for k,v in zip(tmp_dict.keys(), tmp_dict.values()):\n",
    "\n",
    "            if (k in unique_article_scroll.keys()) & (np.isnan(v) == False):\n",
    "                tmp_array= np.append(unique_article_scroll[k],v)\n",
    "                unique_article_scroll[k] = tmp_array\n",
    "        \n",
    "    \n",
    "# Get the average scroll length for each article\n",
    "for k,v in zip(unique_article_scroll.keys(), unique_article_scroll.values()):\n",
    "    unique_article_scroll[k] = np.mean(v)\n",
    "\n",
    "\n",
    "\n",
    "indices = [x for x in unique_article_scroll.keys()]\n",
    "avg_scroll_pct = [x for x in unique_article_scroll.values()]\n",
    "\n",
    "fig = go.Figure()\n",
    "\n",
    "# Add traces\n",
    "fig.add_trace(go.Histogram(x=avg_scroll_pct)\n",
    "\n",
    ")\n",
    "\n",
    "fig.show()\n"
   ]
  },
  {
   "cell_type": "markdown",
   "id": "c1c8793e",
   "metadata": {},
   "source": [
    "### Number of articles clicked in a session"
   ]
  },
  {
   "cell_type": "code",
   "execution_count": null,
   "id": "b90851a7",
   "metadata": {},
   "outputs": [],
   "source": [
    "# How many unique articles are clicked in a session?\n",
    "\n",
    "tmp_aps = df.groupby('session_id')['article_id'].apply(list)\n",
    "\n",
    "articles_per_session = {k:0 for k in range(1, 20)}\n",
    "\n",
    "for i in tmp_aps:\n",
    "    num_articles = len(i)\n",
    "    articles_per_session[num_articles] += 1\n",
    "\n",
    "\n",
    "indices = [k for k in articles_per_session.keys()]\n",
    "values = [k for k in articles_per_session.values()]\n",
    "\n",
    "\n",
    "fig = go.Figure()\n",
    "\n",
    "# Add trace\n",
    "fig.add_trace(go.Bar(x= indices, y = values, textfont_size=20))\n",
    "\n",
    "fig.update_traces(opacity=0.75)\n",
    "fig.show()"
   ]
  },
  {
   "cell_type": "markdown",
   "id": "e0e4503e",
   "metadata": {},
   "source": [
    "# Devices"
   ]
  },
  {
   "cell_type": "code",
   "execution_count": null,
   "id": "2dec3192",
   "metadata": {},
   "outputs": [],
   "source": [
    "# Overall distribtuion of devices\n",
    "\n",
    "df['device_type'].value_counts()"
   ]
  },
  {
   "cell_type": "code",
   "execution_count": null,
   "id": "9c66ef16",
   "metadata": {},
   "outputs": [],
   "source": [
    "devices = [d for d in df['device_type'].unique()]\n",
    "\n",
    "devices"
   ]
  },
  {
   "cell_type": "markdown",
   "id": "b9dffc83",
   "metadata": {},
   "source": [
    "### Readtime per device"
   ]
  },
  {
   "cell_type": "code",
   "execution_count": null,
   "id": "dc390dc9",
   "metadata": {},
   "outputs": [],
   "source": [
    "# Readtime per device\n",
    "\n",
    "## Get indices with different devices \n",
    "### Color based on label\n",
    "#### Histogram -> Bar graph for avg?\n",
    "devices = [d for d in df['device_type'].unique()]\n",
    "\n",
    "\n",
    "fig = go.Figure()\n",
    "for d in devices:\n",
    "    device = df[df['device_type'] == d]['read_time']\n",
    "    fig.add_trace(go.Histogram(x=device))\n",
    "\n",
    "# Overlay both histograms\n",
    "fig.update_layout(barmode='overlay')\n",
    "# Reduce opacity to see both histograms\n",
    "fig.update_traces(opacity=0.55)\n",
    "fig.show()\n"
   ]
  },
  {
   "cell_type": "code",
   "execution_count": null,
   "id": "1f164a95",
   "metadata": {},
   "outputs": [],
   "source": [
    "# Average readtime per device\n",
    "\n",
    "## Get indices with different devices \n",
    "### Color based on label\n",
    "#### Histogram -> Bar graph for avg?\n",
    "\n",
    "fig = go.Figure()\n",
    "\n",
    "devices = [d for d in df['device_type'].unique()]\n",
    "\n",
    "\n",
    "fig = go.Figure()\n",
    "for d in devices:\n",
    "    avg_device_readtime = df[df['device_type'] == d]['read_time'].mean()\n",
    "    fig.add_trace(go.Bar(x= [d], y = [avg_device_readtime], textfont_size=20))\n",
    "\n",
    "\n",
    "\n",
    "# Overlay both histograms\n",
    "#fig.update_layout(barmode='overlay')\n",
    "# Reduce opacity to see both histograms\n",
    "fig.update_traces(opacity=0.75)\n",
    "fig.show()"
   ]
  },
  {
   "cell_type": "markdown",
   "id": "d55e86ec",
   "metadata": {},
   "source": [
    "### Scroll time per device"
   ]
  },
  {
   "cell_type": "code",
   "execution_count": null,
   "id": "0472abaf",
   "metadata": {},
   "outputs": [],
   "source": [
    "# Scroll pct per device (scatter plot probably better)\n",
    "\n",
    "## Get indices with different devices \n",
    "### Color based on label\n",
    "#### Histogram -> Bar graph for avg?\n",
    "\n",
    "fig = go.Figure()\n",
    "\n",
    "devices = [d for d in df['device_type'].unique()]\n",
    "\n",
    "\n",
    "fig = go.Figure()\n",
    "for d in devices:\n",
    "    avg_device_scrollpct = df[df['device_type'] == d]['scroll_percentage'].mean()\n",
    "    fig.add_trace(go.Bar(x= [d], y = [avg_device_scrollpct], textfont_size=20))\n",
    "\n",
    "\n",
    "\n",
    "# Overlay both histograms\n",
    "#fig.update_layout(barmode='overlay')\n",
    "# Reduce opacity to see both histograms\n",
    "fig.update_traces(opacity=0.75)\n",
    "fig.show()"
   ]
  },
  {
   "cell_type": "markdown",
   "id": "eda8ea32",
   "metadata": {},
   "source": [
    "### Topic"
   ]
  },
  {
   "cell_type": "code",
   "execution_count": null,
   "id": "fe0da553",
   "metadata": {},
   "outputs": [],
   "source": [
    "## Subset based on those entries\n",
    "## populate the counts for the traces\n",
    "\n",
    "\n",
    "fig = go.Figure()\n",
    "\n",
    "devices = [d for d in df['device_type'].unique()]\n",
    "\n",
    "# Get all the unique topics\n",
    "unique_topics = []\n",
    "for i in df.index:\n",
    "    for j in range(0, len(df['topics'][i])):\n",
    "        tmp = df['topics'][i][j]\n",
    "        if tmp not in unique_topics:\n",
    "            unique_topics.append(tmp)\n",
    "\n",
    "\n",
    "unique_topics = sorted(unique_topics)\n",
    "\n",
    "\n",
    "\n",
    "fig = go.Figure()\n",
    "# Iterate through each device \n",
    "for d in devices:\n",
    "    # Find the subset of the data with that device\n",
    "    tmp_df = df[df['device_type'] == d]\n",
    "\n",
    "    # Create a dict object with 0 counts for all topics\n",
    "    device_topic_freq = {k:0 for k in unique_topics}\n",
    "    for i in tmp_df.index:\n",
    "        for j in range(0, len(df['topics'][i])):\n",
    "            # Find that index\n",
    "            tmp_topic = df['topics'][i][j]\n",
    "\n",
    "            # Enumerate\n",
    "            device_topic_freq[tmp_topic] += 1\n",
    "    \n",
    "    device_topic_freq = dict(sorted(device_topic_freq.items(), key = lambda kv: kv[1], reverse= True))\n",
    "    #print(device_topic_freq)\n",
    "        \n",
    "    fig.add_trace(go.Bar(x= [x for x in device_topic_freq.keys()], y = [y for y in device_topic_freq.values()], textfont_size=20))\n",
    "\n",
    "\n",
    "\n",
    "# Overlay both histograms\n",
    "#fig.update_layout(barmode='overlay')\n",
    "# Reduce opacity to see both histograms\n",
    "fig.update_traces(opacity=0.75)\n",
    "fig.show()"
   ]
  },
  {
   "cell_type": "markdown",
   "id": "f7f6e44c",
   "metadata": {},
   "source": [
    "### Activity"
   ]
  },
  {
   "cell_type": "markdown",
   "id": "c39ef15d",
   "metadata": {},
   "source": [
    "#### Daily Activity"
   ]
  },
  {
   "cell_type": "code",
   "execution_count": null,
   "id": "30fd8ade",
   "metadata": {},
   "outputs": [],
   "source": [
    "fig = go.Figure()\n",
    "# Iterate through each device \n",
    "for d in devices:\n",
    "    # Find the subset of the data with that device\n",
    "    tmp_df = df[df['device_type'] == d]\n",
    "\n",
    "    # Create a dict object with 0 counts for all topics\n",
    "    device_daily_activity = {}\n",
    "    for i in tmp_df.index:\n",
    "        # Find that index\n",
    "        tmp_timestamp = df['impression_time'][i]\n",
    "        tmp_datetime = tmp_timestamp\n",
    "        tmp_date = tmp_datetime.strftime('%m/%d/%Y')\n",
    "\n",
    "        # Daily Activity\n",
    "        if tmp_date not in device_daily_activity:\n",
    "            device_daily_activity[tmp_date] = 0\n",
    "        else:\n",
    "            device_daily_activity[tmp_date] +=1\n",
    "    \n",
    "    # Sort by dates\n",
    "    device_daily_activity = dict(sorted(device_daily_activity.items()))\n",
    "\n",
    "    # Add trace\n",
    "    fig.add_trace(go.Bar(x= [x for x in device_daily_activity.keys()], y = [y for y in device_daily_activity.values()], textfont_size=20))\n",
    "\n",
    "\n",
    "\n",
    "    # Overlay both histograms\n",
    "    #fig.update_layout(barmode='overlay')\n",
    "    # Reduce opacity to see both histograms\n",
    "fig.update_traces(opacity=0.75)\n",
    "fig.show()"
   ]
  },
  {
   "cell_type": "markdown",
   "id": "52a4d01a",
   "metadata": {},
   "source": [
    "#### Hourly Activity"
   ]
  },
  {
   "cell_type": "code",
   "execution_count": null,
   "id": "fa957a4a",
   "metadata": {},
   "outputs": [],
   "source": [
    "fig = go.Figure()\n",
    "# Iterate through each device \n",
    "for d in devices:\n",
    "    # Find the subset of the data with that device\n",
    "    tmp_df = df[df['device_type'] == d]\n",
    "\n",
    "    # Create a dict object with 0 counts for all topics\n",
    "    device_hourly_activity = {}\n",
    "    for i in tmp_df.index:\n",
    "        # Find that index\n",
    "        tmp_timestamp = df['impression_time'][i]\n",
    "        tmp_datetime = tmp_timestamp\n",
    "        tmp_time = tmp_datetime.strftime('%H')\n",
    "\n",
    "        # Hourly Activity\n",
    "        if tmp_time not in device_hourly_activity:\n",
    "            device_hourly_activity[tmp_time] = 0\n",
    "        else:\n",
    "            device_hourly_activity[tmp_time] +=1\n",
    "    \n",
    "    # Sort by dates\n",
    "    device_hourly_activity = dict(sorted(device_hourly_activity.items()))\n",
    "\n",
    "    # Add trace\n",
    "    fig.add_trace(go.Bar(x= [x for x in device_hourly_activity.keys()], y = [y for y in device_hourly_activity.values()], textfont_size=20))\n",
    "\n",
    "\n",
    "\n",
    "    # Overlay both histograms\n",
    "    #fig.update_layout(barmode='overlay')\n",
    "    # Reduce opacity to see both histograms\n",
    "fig.update_traces(opacity=0.75)\n",
    "fig.show()"
   ]
  },
  {
   "cell_type": "markdown",
   "id": "c37b7ff5",
   "metadata": {},
   "source": [
    "# If subscriber"
   ]
  },
  {
   "cell_type": "markdown",
   "id": "2445ea77",
   "metadata": {},
   "source": [
    "### How many users are subscribers"
   ]
  },
  {
   "cell_type": "code",
   "execution_count": null,
   "id": "620f06b0",
   "metadata": {},
   "outputs": [],
   "source": [
    "indices = df['is_subscriber'].value_counts().index\n",
    "values = df['is_subscriber'].value_counts().values\n",
    "\n",
    "fig = go.Figure()\n",
    "\n",
    "\n",
    "# Add trace\n",
    "fig.add_trace(go.Bar(x= indices, y = values, textfont_size=20))\n",
    "\n",
    "\n",
    "\n",
    "    # Overlay both histograms\n",
    "    #fig.update_layout(barmode='overlay')\n",
    "    # Reduce opacity to see both histograms\n",
    "fig.update_traces(opacity=0.75)\n",
    "fig.show()\n"
   ]
  },
  {
   "cell_type": "markdown",
   "id": "76723f43",
   "metadata": {},
   "source": [
    "### Read time for subscriber vs non-subscribers"
   ]
  },
  {
   "cell_type": "code",
   "execution_count": null,
   "id": "34d6662a",
   "metadata": {},
   "outputs": [],
   "source": [
    "# Distribution paid subscribers\n",
    "\n",
    "#### Histogram -> Bar graph for avg?\n",
    "\n",
    "subscriber= df[df['is_subscriber'] == True]['read_time']\n",
    "not_subscriber = df[df['is_subscriber'] == False]['read_time']\n",
    "\n",
    "fig = go.Figure()\n",
    "fig.add_trace(go.Histogram(x=subscriber))\n",
    "fig.add_trace(go.Histogram(x=not_subscriber))\n",
    "\n",
    "# Overlay both histograms\n",
    "fig.update_layout(barmode='overlay')\n",
    "# Reduce opacity to see both histograms\n",
    "fig.update_traces(opacity=0.75)\n",
    "fig.show()"
   ]
  },
  {
   "cell_type": "code",
   "execution_count": null,
   "id": "9dc1a544",
   "metadata": {},
   "outputs": [],
   "source": [
    "# Average readtime per device\n",
    "\n",
    "## Get indices with different devices \n",
    "### Color based on label\n",
    "#### Histogram -> Bar graph for avg?\n",
    "\n",
    "subscriber= df[df['is_subscriber'] == True]['read_time']\n",
    "not_subscriber = df[df['is_subscriber'] == False]['read_time']\n",
    "\n",
    "avg_readtime_is_subscriber= [subscriber.mean(), not_subscriber.mean()]\n",
    "is_subscriber = ['Yes', 'No']\n",
    "\n",
    "fig = go.Figure()\n",
    "fig.add_trace(go.Bar(x=is_subscriber, y = avg_readtime_is_subscriber, textfont_size=20))\n",
    "\n",
    "# Overlay both histograms\n",
    "#fig.update_layout(barmode='overlay')\n",
    "# Reduce opacity to see both histograms\n",
    "fig.update_traces(opacity=0.75)\n",
    "fig.show()"
   ]
  },
  {
   "cell_type": "markdown",
   "id": "47680f96",
   "metadata": {},
   "source": [
    "### Scroll percentage if subscriber"
   ]
  },
  {
   "cell_type": "code",
   "execution_count": null,
   "id": "b401d57b",
   "metadata": {},
   "outputs": [],
   "source": [
    "# Distribution paid subscribers\n",
    "\n",
    "#### Histogram -> Bar graph for avg?\n",
    "\n",
    "subscriber= df[df['is_subscriber'] == True]['scroll_percentage']\n",
    "not_subscriber = df[df['is_subscriber'] == False]['scroll_percentage']\n",
    "\n",
    "fig = go.Figure()\n",
    "fig.add_trace(go.Histogram(x=subscriber))\n",
    "fig.add_trace(go.Histogram(x=not_subscriber))\n",
    "\n",
    "# Overlay both histograms\n",
    "fig.update_layout(barmode='overlay')\n",
    "# Reduce opacity to see both histograms\n",
    "fig.update_traces(opacity=0.75)\n",
    "fig.show()"
   ]
  },
  {
   "cell_type": "code",
   "execution_count": null,
   "id": "8b19ce56",
   "metadata": {},
   "outputs": [],
   "source": [
    "# Average readtime per device\n",
    "\n",
    "## Get indices with different devices \n",
    "### Color based on label\n",
    "#### Histogram -> Bar graph for avg?\n",
    "\n",
    "subscriber= df[df['is_subscriber'] == True]['scroll_percentage']\n",
    "not_subscriber = df[df['is_subscriber'] == False]['scroll_percentage']\n",
    "\n",
    "avg_scrollpct_is_subscriber= [subscriber.mean(), not_subscriber.mean()]\n",
    "is_subscriber = ['Yes', 'No']\n",
    "\n",
    "fig = go.Figure()\n",
    "fig.add_trace(go.Bar(x=is_subscriber, y = avg_scrollpct_is_subscriber, textfont_size=20))\n",
    "\n",
    "# Overlay both histograms\n",
    "#fig.update_layout(barmode='overlay')\n",
    "# Reduce opacity to see both histograms\n",
    "fig.update_traces(opacity=0.75)\n",
    "fig.show()"
   ]
  },
  {
   "cell_type": "markdown",
   "id": "b096414c",
   "metadata": {},
   "source": [
    "#### Topic Distribution"
   ]
  },
  {
   "cell_type": "code",
   "execution_count": null,
   "id": "453c9676",
   "metadata": {},
   "outputs": [],
   "source": [
    "## Subset based on those entries\n",
    "## populate the counts for the traces\n",
    "\n",
    "\n",
    "is_subscriber = [d for d in df['is_subscriber'].unique()]\n",
    "\n",
    "# Get all the unique topics\n",
    "unique_topics = []\n",
    "for i in df.index:\n",
    "    for j in range(0, len(df['topics'][i])):\n",
    "        tmp = df['topics'][i][j]\n",
    "        if tmp not in unique_topics:\n",
    "            unique_topics.append(tmp)\n",
    "\n",
    "unique_topics = sorted(unique_topics)\n",
    "\n",
    "\n",
    "fig = go.Figure()\n",
    "# Iterate through each device \n",
    "for d in is_subscriber:\n",
    "    # Find the subset of the data with that device\n",
    "    tmp_df = df[df['is_subscriber'] == d]\n",
    "\n",
    "    # Create a dict object with 0 counts for all topics\n",
    "    is_subscriber_topic_freq = {k:0 for k in unique_topics}\n",
    "    for i in tmp_df.index:\n",
    "        for j in range(0, len(df['topics'][i])):\n",
    "            # Find that index\n",
    "            tmp_topic = df['topics'][i][j]\n",
    "\n",
    "            # Enumerate\n",
    "            is_subscriber_topic_freq[tmp_topic] += 1\n",
    "    \n",
    "    is_subscriber_topic_freq = dict(sorted(is_subscriber_topic_freq.items(), key = lambda kv: kv[1], reverse= True))\n",
    "    #print(device_topic_freq)\n",
    "        \n",
    "    fig.add_trace(go.Bar(x= [x for x in is_subscriber_topic_freq.keys()], y = [y for y in is_subscriber_topic_freq.values()], textfont_size=20))\n",
    "\n",
    "\n",
    "\n",
    "# Overlay both histograms\n",
    "#fig.update_layout(barmode='overlay')\n",
    "# Reduce opacity to see both histograms\n",
    "fig.update_traces(opacity=0.75)\n",
    "fig.show()"
   ]
  },
  {
   "cell_type": "markdown",
   "id": "b0c3ff67",
   "metadata": {},
   "source": [
    "### Activity"
   ]
  },
  {
   "cell_type": "markdown",
   "id": "aa09cd6e",
   "metadata": {},
   "source": [
    "#### Daily Activity"
   ]
  },
  {
   "cell_type": "code",
   "execution_count": null,
   "id": "c5c4917a",
   "metadata": {},
   "outputs": [],
   "source": [
    "is_subscriber = [d for d in df['is_subscriber'].unique()]\n",
    "\n",
    "fig = go.Figure()\n",
    "# Iterate through each device \n",
    "for d in is_subscriber:\n",
    "    # Find the subset of the data with that device\n",
    "    tmp_df = df[df['is_subscriber'] == d]\n",
    "\n",
    "    # Create a dict object with 0 counts for all topics\n",
    "    is_subscriber_daily_activity = {}\n",
    "    for i in tmp_df.index:\n",
    "        # Find that index\n",
    "        tmp_timestamp = df['impression_time'][i]\n",
    "        tmp_datetime = tmp_timestamp\n",
    "        tmp_date = tmp_datetime.strftime('%m/%d/%Y')\n",
    "\n",
    "        # Daily Activity\n",
    "        if tmp_date not in is_subscriber_daily_activity:\n",
    "            is_subscriber_daily_activity[tmp_date] = 0\n",
    "        else:\n",
    "            is_subscriber_daily_activity[tmp_date] +=1\n",
    "        \n",
    "    \n",
    "    # Sort by dates\n",
    "    is_subscriber_daily_activity = dict(sorted(is_subscriber_daily_activity.items()))\n",
    "\n",
    "    # Add trace\n",
    "    fig.add_trace(go.Bar(x= [x for x in is_subscriber_daily_activity.keys()], y = [y for y in is_subscriber_daily_activity.values()], textfont_size=20))\n",
    "\n",
    "\n",
    "\n",
    "    # Overlay both histograms\n",
    "    #fig.update_layout(barmode='overlay')\n",
    "    # Reduce opacity to see both histograms\n",
    "fig.update_traces(opacity=0.75)\n",
    "fig.show()"
   ]
  },
  {
   "cell_type": "markdown",
   "id": "ba68d2cb",
   "metadata": {},
   "source": [
    "#### Hourly Activity"
   ]
  },
  {
   "cell_type": "code",
   "execution_count": null,
   "id": "97021ede",
   "metadata": {},
   "outputs": [],
   "source": [
    "is_subscriber = [d for d in df['is_subscriber'].unique()]\n",
    "\n",
    "fig = go.Figure()\n",
    "# Iterate through each device \n",
    "for d in is_subscriber:\n",
    "    # Find the subset of the data with that device\n",
    "    tmp_df = df[df['is_subscriber'] == d]\n",
    "\n",
    "    # Create a dict object with 0 counts for all topics\n",
    "    is_subscriber_hourly_activity = {}\n",
    "    for i in tmp_df.index:\n",
    "        # Find that index\n",
    "        tmp_timestamp = df['impression_time'][i]\n",
    "        tmp_datetime = tmp_timestamp\n",
    "        tmp_time = tmp_datetime.strftime('%H')\n",
    "\n",
    "        # Daily Activity\n",
    "        if tmp_time not in is_subscriber_hourly_activity:\n",
    "            is_subscriber_hourly_activity[tmp_time] = 0\n",
    "        else:\n",
    "            is_subscriber_hourly_activity[tmp_time] +=1\n",
    "        \n",
    "    \n",
    "    # Sort by dates\n",
    "    is_subscriber_hourly_activity = dict(sorted(is_subscriber_hourly_activity.items()))\n",
    "\n",
    "    # Add trace\n",
    "    fig.add_trace(go.Bar(x= [x for x in is_subscriber_hourly_activity.keys()], y = [y for y in is_subscriber_hourly_activity.values()], textfont_size=20))\n",
    "\n",
    "\n",
    "\n",
    "    # Overlay both histograms\n",
    "    #fig.update_layout(barmode='overlay')\n",
    "    # Reduce opacity to see both histograms\n",
    "fig.update_traces(opacity=0.75)\n",
    "fig.show()"
   ]
  },
  {
   "cell_type": "markdown",
   "id": "6469168b",
   "metadata": {},
   "source": [
    "# Gender"
   ]
  },
  {
   "cell_type": "code",
   "execution_count": null,
   "id": "dc8dcdbd",
   "metadata": {},
   "outputs": [],
   "source": [
    "\n",
    "# distribution of genders\n",
    "indices = df['gender'].value_counts().index\n",
    "values = df['gender'].value_counts().values\n",
    "\n",
    "fig = go.Figure()\n",
    "\n",
    "\n",
    "# Add trace\n",
    "fig.add_trace(go.Bar(x= indices, y = values, textfont_size=20))\n",
    "\n",
    "\n",
    "\n",
    "    # Overlay both histograms\n",
    "    #fig.update_layout(barmode='overlay')\n",
    "    # Reduce opacity to see both histograms\n",
    "fig.update_traces(opacity=0.75)\n",
    "fig.show()"
   ]
  },
  {
   "cell_type": "markdown",
   "id": "e9e0c923",
   "metadata": {},
   "source": [
    "### Read time per gender"
   ]
  },
  {
   "cell_type": "code",
   "execution_count": null,
   "id": "d7bf905d",
   "metadata": {},
   "outputs": [],
   "source": [
    "# Readtime per gender\n",
    "\n",
    "genders = df['gender'].unique()\n",
    "\n",
    "fig = go.Figure()\n",
    "for d in genders:\n",
    "\n",
    "    gender_ = df[df['gender'] == d]['read_time']\n",
    "\n",
    "    fig.add_trace(go.Histogram(x=gender_))\n",
    "\n",
    "# Overlay both histograms\n",
    "fig.update_layout(barmode='overlay')\n",
    "# Reduce opacity to see both histograms\n",
    "fig.update_traces(opacity=0.75)\n",
    "fig.show()"
   ]
  },
  {
   "cell_type": "code",
   "execution_count": null,
   "id": "903f4d43",
   "metadata": {},
   "outputs": [],
   "source": [
    "# Average readtime per device\n",
    "\n",
    "## Get indices with different devices \n",
    "### Color based on label\n",
    "#### Histogram -> Bar graph for avg?\n",
    "\n",
    "# Readtime per gender\n",
    "\n",
    "genders = df['gender'].unique()\n",
    "genders = genders[~np.isnan(genders)]\n",
    "\n",
    "fig = go.Figure()\n",
    "for d in genders:\n",
    "\n",
    "    avg_gender_readtime = df[df['gender'] == d]['read_time'].mean()\n",
    "\n",
    "    fig.add_trace(go.Bar(x= [d], y = [avg_gender_readtime], textfont_size=20))\n",
    "\n",
    "\n",
    "\n",
    "\n",
    "# Overlay both histograms\n",
    "#fig.update_layout(barmode='overlay')\n",
    "# Reduce opacity to see both histograms\n",
    "fig.update_traces(opacity=0.75)\n",
    "fig.show()"
   ]
  },
  {
   "cell_type": "markdown",
   "id": "9cdd149a",
   "metadata": {},
   "source": [
    "### Scrolltime per gender"
   ]
  },
  {
   "cell_type": "code",
   "execution_count": null,
   "id": "7e2bf15d",
   "metadata": {},
   "outputs": [],
   "source": [
    "genders = df['gender'].unique()\n",
    "\n",
    "fig = go.Figure()\n",
    "for d in genders:\n",
    "\n",
    "    gender_ = df[df['gender'] == d]['scroll_percentage']\n",
    "\n",
    "    fig.add_trace(go.Histogram(x=gender_))\n",
    "\n",
    "# Overlay both histograms\n",
    "fig.update_layout(barmode='overlay')\n",
    "# Reduce opacity to see both histograms\n",
    "fig.update_traces(opacity=0.75)\n",
    "fig.show()"
   ]
  },
  {
   "cell_type": "code",
   "execution_count": null,
   "id": "669aa3bf",
   "metadata": {},
   "outputs": [],
   "source": [
    "# Average readtime per device\n",
    "\n",
    "## Get indices with different devices \n",
    "### Color based on label\n",
    "#### Histogram -> Bar graph for avg?\n",
    "\n",
    "# Readtime per gender\n",
    "\n",
    "genders = df['gender'].unique()\n",
    "\n",
    "fig = go.Figure()\n",
    "for d in genders:\n",
    "\n",
    "    avg_gender_scrollpct = df[df['gender'] == d]['scroll_percentage'].mean()\n",
    "\n",
    "    fig.add_trace(go.Bar(x= [d], y = [avg_gender_scrollpct], textfont_size=20))\n",
    "\n",
    "\n",
    "\n",
    "\n",
    "# Overlay both histograms\n",
    "#fig.update_layout(barmode='overlay')\n",
    "# Reduce opacity to see both histograms\n",
    "fig.update_traces(opacity=0.75)\n",
    "fig.show()"
   ]
  },
  {
   "cell_type": "markdown",
   "id": "f1fb1468",
   "metadata": {},
   "source": [
    "### Topics"
   ]
  },
  {
   "cell_type": "code",
   "execution_count": null,
   "id": "54784f14",
   "metadata": {},
   "outputs": [],
   "source": [
    "## Subset based on those entries\n",
    "## populate the counts for the traces\n",
    "\n",
    "genders = df['gender'].unique()\n",
    "genders = genders[~np.isnan(genders)]\n",
    "\n",
    "#genders = [d for d in df['gender'].unique() ]\n",
    "\n",
    "# Get all the unique topics\n",
    "unique_topics = []\n",
    "for i in df.index:\n",
    "    for j in range(0, len(df['topics'][i])):\n",
    "        tmp = df['topics'][i][j]\n",
    "        if tmp not in unique_topics:\n",
    "            unique_topics.append(tmp)\n",
    "\n",
    "unique_topics = sorted(unique_topics)\n",
    "\n",
    "\n",
    "fig = go.Figure()\n",
    "# Iterate through each device \n",
    "for d in genders:\n",
    "    # Find the subset of the data with that device\n",
    "    tmp_df = df[df['gender'] == d]\n",
    "\n",
    "    # Create a dict object with 0 counts for all topics\n",
    "    genders_topic_freq = {k:0 for k in unique_topics}\n",
    "    for i in tmp_df.index:\n",
    "        for j in range(0, len(df['topics'][i])):\n",
    "            # Find that index\n",
    "            tmp_topic = df['topics'][i][j]\n",
    "\n",
    "            # Enumerate\n",
    "            genders_topic_freq[tmp_topic] += 1\n",
    "    \n",
    "    genders_topic_freq = dict(sorted(genders_topic_freq.items(), key = lambda kv: kv[1], reverse= True))\n",
    "    #print(device_topic_freq)\n",
    "        \n",
    "    fig.add_trace(go.Bar(x= [x for x in genders_topic_freq.keys()], y = [y for y in genders_topic_freq.values()], textfont_size=20))\n",
    "\n",
    "\n",
    "\n",
    "# Overlay both histograms\n",
    "#fig.update_layout(barmode='overlay')\n",
    "# Reduce opacity to see both histograms\n",
    "fig.update_traces(opacity=0.75)\n",
    "fig.show()"
   ]
  },
  {
   "cell_type": "markdown",
   "id": "5eb16616",
   "metadata": {},
   "source": [
    "### Activity"
   ]
  },
  {
   "cell_type": "markdown",
   "id": "abec6f05",
   "metadata": {},
   "source": [
    "#### Daily Activity"
   ]
  },
  {
   "cell_type": "code",
   "execution_count": null,
   "id": "4cadf022",
   "metadata": {},
   "outputs": [],
   "source": [
    "genders = df['gender'].unique()\n",
    "genders = genders[~np.isnan(genders)]\n",
    "\n",
    "fig = go.Figure()\n",
    "# Iterate through each device \n",
    "for d in genders:\n",
    "    # Find the subset of the data with that device\n",
    "    tmp_df = df[df['gender'] == d]\n",
    "\n",
    "    # Create a dict object with 0 counts for all topics\n",
    "    genders_daily_activity = {}\n",
    "    for i in tmp_df.index:\n",
    "        # Find that index\n",
    "        tmp_timestamp = df['impression_time'][i]\n",
    "        tmp_datetime = tmp_timestamp\n",
    "        tmp_date = tmp_datetime.strftime('%m/%d/%Y')\n",
    "\n",
    "        # Daily Activity\n",
    "        if tmp_date not in genders_daily_activity:\n",
    "            genders_daily_activity[tmp_date] = 0\n",
    "        else:\n",
    "            genders_daily_activity[tmp_date] +=1\n",
    "        \n",
    "    \n",
    "    # Sort by dates\n",
    "    genders_daily_activity = dict(sorted(genders_daily_activity.items()))\n",
    "\n",
    "    # Add trace\n",
    "    fig.add_trace(go.Bar(x= [x for x in genders_daily_activity.keys()], y = [y for y in genders_daily_activity.values()], textfont_size=20))\n",
    "\n",
    "\n",
    "\n",
    "    # Overlay both histograms\n",
    "    #fig.update_layout(barmode='overlay')\n",
    "    # Reduce opacity to see both histograms\n",
    "fig.update_traces(opacity=0.75)\n",
    "fig.show()"
   ]
  },
  {
   "cell_type": "markdown",
   "id": "14efd975",
   "metadata": {},
   "source": [
    "#### Hourly Activity"
   ]
  },
  {
   "cell_type": "code",
   "execution_count": null,
   "id": "a279ca32",
   "metadata": {},
   "outputs": [],
   "source": [
    "genders = df['gender'].unique()\n",
    "genders = genders[~np.isnan(genders)]\n",
    "\n",
    "fig = go.Figure()\n",
    "# Iterate through each device \n",
    "for d in genders:\n",
    "    # Find the subset of the data with that device\n",
    "    tmp_df = df[df['gender'] == d]\n",
    "\n",
    "    # Create a dict object with 0 counts for all topics\n",
    "    genders_hourly_activity = {}\n",
    "    for i in tmp_df.index:\n",
    "        # Find that index\n",
    "        tmp_timestamp = df['impression_time'][i]\n",
    "        tmp_datetime = tmp_timestamp\n",
    "        tmp_time = tmp_datetime.strftime('%H')\n",
    "\n",
    "        # Daily Activity\n",
    "        if tmp_time not in genders_hourly_activity:\n",
    "            genders_hourly_activity[tmp_time] = 0\n",
    "        else:\n",
    "            genders_hourly_activity[tmp_time] +=1\n",
    "        \n",
    "    \n",
    "    # Sort by dates\n",
    "    genders_hourly_activity = dict(sorted(genders_hourly_activity.items()))\n",
    "\n",
    "    # Add trace\n",
    "    fig.add_trace(go.Bar(x= [x for x in genders_hourly_activity.keys()], y = [y for y in genders_hourly_activity.values()], textfont_size=20))\n",
    "\n",
    "\n",
    "\n",
    "    # Overlay both histograms\n",
    "    #fig.update_layout(barmode='overlay')\n",
    "    # Reduce opacity to see both histograms\n",
    "fig.update_traces(opacity=0.75)\n",
    "fig.show()"
   ]
  },
  {
   "cell_type": "markdown",
   "id": "03e32b90",
   "metadata": {},
   "source": [
    "# Age"
   ]
  },
  {
   "cell_type": "markdown",
   "id": "558c5c75",
   "metadata": {},
   "source": [
    "### Age Distribution"
   ]
  },
  {
   "cell_type": "code",
   "execution_count": 7,
   "id": "e6ab71ed",
   "metadata": {},
   "outputs": [
    {
     "data": {
      "application/vnd.plotly.v1+json": {
       "config": {
        "plotlyServerURL": "https://plot.ly"
       },
       "data": [
        {
         "opacity": 0.75,
         "textfont": {
          "size": 20
         },
         "type": "bar",
         "x": [
          20,
          30,
          40,
          50,
          60,
          70,
          80,
          90
         ],
         "y": [
          31,
          97,
          248,
          695,
          644,
          596,
          95,
          43
         ]
        }
       ],
       "layout": {
        "template": {
         "data": {
          "bar": [
           {
            "error_x": {
             "color": "#2a3f5f"
            },
            "error_y": {
             "color": "#2a3f5f"
            },
            "marker": {
             "line": {
              "color": "#E5ECF6",
              "width": 0.5
             },
             "pattern": {
              "fillmode": "overlay",
              "size": 10,
              "solidity": 0.2
             }
            },
            "type": "bar"
           }
          ],
          "barpolar": [
           {
            "marker": {
             "line": {
              "color": "#E5ECF6",
              "width": 0.5
             },
             "pattern": {
              "fillmode": "overlay",
              "size": 10,
              "solidity": 0.2
             }
            },
            "type": "barpolar"
           }
          ],
          "carpet": [
           {
            "aaxis": {
             "endlinecolor": "#2a3f5f",
             "gridcolor": "white",
             "linecolor": "white",
             "minorgridcolor": "white",
             "startlinecolor": "#2a3f5f"
            },
            "baxis": {
             "endlinecolor": "#2a3f5f",
             "gridcolor": "white",
             "linecolor": "white",
             "minorgridcolor": "white",
             "startlinecolor": "#2a3f5f"
            },
            "type": "carpet"
           }
          ],
          "choropleth": [
           {
            "colorbar": {
             "outlinewidth": 0,
             "ticks": ""
            },
            "type": "choropleth"
           }
          ],
          "contour": [
           {
            "colorbar": {
             "outlinewidth": 0,
             "ticks": ""
            },
            "colorscale": [
             [
              0,
              "#0d0887"
             ],
             [
              0.1111111111111111,
              "#46039f"
             ],
             [
              0.2222222222222222,
              "#7201a8"
             ],
             [
              0.3333333333333333,
              "#9c179e"
             ],
             [
              0.4444444444444444,
              "#bd3786"
             ],
             [
              0.5555555555555556,
              "#d8576b"
             ],
             [
              0.6666666666666666,
              "#ed7953"
             ],
             [
              0.7777777777777778,
              "#fb9f3a"
             ],
             [
              0.8888888888888888,
              "#fdca26"
             ],
             [
              1,
              "#f0f921"
             ]
            ],
            "type": "contour"
           }
          ],
          "contourcarpet": [
           {
            "colorbar": {
             "outlinewidth": 0,
             "ticks": ""
            },
            "type": "contourcarpet"
           }
          ],
          "heatmap": [
           {
            "colorbar": {
             "outlinewidth": 0,
             "ticks": ""
            },
            "colorscale": [
             [
              0,
              "#0d0887"
             ],
             [
              0.1111111111111111,
              "#46039f"
             ],
             [
              0.2222222222222222,
              "#7201a8"
             ],
             [
              0.3333333333333333,
              "#9c179e"
             ],
             [
              0.4444444444444444,
              "#bd3786"
             ],
             [
              0.5555555555555556,
              "#d8576b"
             ],
             [
              0.6666666666666666,
              "#ed7953"
             ],
             [
              0.7777777777777778,
              "#fb9f3a"
             ],
             [
              0.8888888888888888,
              "#fdca26"
             ],
             [
              1,
              "#f0f921"
             ]
            ],
            "type": "heatmap"
           }
          ],
          "heatmapgl": [
           {
            "colorbar": {
             "outlinewidth": 0,
             "ticks": ""
            },
            "colorscale": [
             [
              0,
              "#0d0887"
             ],
             [
              0.1111111111111111,
              "#46039f"
             ],
             [
              0.2222222222222222,
              "#7201a8"
             ],
             [
              0.3333333333333333,
              "#9c179e"
             ],
             [
              0.4444444444444444,
              "#bd3786"
             ],
             [
              0.5555555555555556,
              "#d8576b"
             ],
             [
              0.6666666666666666,
              "#ed7953"
             ],
             [
              0.7777777777777778,
              "#fb9f3a"
             ],
             [
              0.8888888888888888,
              "#fdca26"
             ],
             [
              1,
              "#f0f921"
             ]
            ],
            "type": "heatmapgl"
           }
          ],
          "histogram": [
           {
            "marker": {
             "pattern": {
              "fillmode": "overlay",
              "size": 10,
              "solidity": 0.2
             }
            },
            "type": "histogram"
           }
          ],
          "histogram2d": [
           {
            "colorbar": {
             "outlinewidth": 0,
             "ticks": ""
            },
            "colorscale": [
             [
              0,
              "#0d0887"
             ],
             [
              0.1111111111111111,
              "#46039f"
             ],
             [
              0.2222222222222222,
              "#7201a8"
             ],
             [
              0.3333333333333333,
              "#9c179e"
             ],
             [
              0.4444444444444444,
              "#bd3786"
             ],
             [
              0.5555555555555556,
              "#d8576b"
             ],
             [
              0.6666666666666666,
              "#ed7953"
             ],
             [
              0.7777777777777778,
              "#fb9f3a"
             ],
             [
              0.8888888888888888,
              "#fdca26"
             ],
             [
              1,
              "#f0f921"
             ]
            ],
            "type": "histogram2d"
           }
          ],
          "histogram2dcontour": [
           {
            "colorbar": {
             "outlinewidth": 0,
             "ticks": ""
            },
            "colorscale": [
             [
              0,
              "#0d0887"
             ],
             [
              0.1111111111111111,
              "#46039f"
             ],
             [
              0.2222222222222222,
              "#7201a8"
             ],
             [
              0.3333333333333333,
              "#9c179e"
             ],
             [
              0.4444444444444444,
              "#bd3786"
             ],
             [
              0.5555555555555556,
              "#d8576b"
             ],
             [
              0.6666666666666666,
              "#ed7953"
             ],
             [
              0.7777777777777778,
              "#fb9f3a"
             ],
             [
              0.8888888888888888,
              "#fdca26"
             ],
             [
              1,
              "#f0f921"
             ]
            ],
            "type": "histogram2dcontour"
           }
          ],
          "mesh3d": [
           {
            "colorbar": {
             "outlinewidth": 0,
             "ticks": ""
            },
            "type": "mesh3d"
           }
          ],
          "parcoords": [
           {
            "line": {
             "colorbar": {
              "outlinewidth": 0,
              "ticks": ""
             }
            },
            "type": "parcoords"
           }
          ],
          "pie": [
           {
            "automargin": true,
            "type": "pie"
           }
          ],
          "scatter": [
           {
            "fillpattern": {
             "fillmode": "overlay",
             "size": 10,
             "solidity": 0.2
            },
            "type": "scatter"
           }
          ],
          "scatter3d": [
           {
            "line": {
             "colorbar": {
              "outlinewidth": 0,
              "ticks": ""
             }
            },
            "marker": {
             "colorbar": {
              "outlinewidth": 0,
              "ticks": ""
             }
            },
            "type": "scatter3d"
           }
          ],
          "scattercarpet": [
           {
            "marker": {
             "colorbar": {
              "outlinewidth": 0,
              "ticks": ""
             }
            },
            "type": "scattercarpet"
           }
          ],
          "scattergeo": [
           {
            "marker": {
             "colorbar": {
              "outlinewidth": 0,
              "ticks": ""
             }
            },
            "type": "scattergeo"
           }
          ],
          "scattergl": [
           {
            "marker": {
             "colorbar": {
              "outlinewidth": 0,
              "ticks": ""
             }
            },
            "type": "scattergl"
           }
          ],
          "scattermapbox": [
           {
            "marker": {
             "colorbar": {
              "outlinewidth": 0,
              "ticks": ""
             }
            },
            "type": "scattermapbox"
           }
          ],
          "scatterpolar": [
           {
            "marker": {
             "colorbar": {
              "outlinewidth": 0,
              "ticks": ""
             }
            },
            "type": "scatterpolar"
           }
          ],
          "scatterpolargl": [
           {
            "marker": {
             "colorbar": {
              "outlinewidth": 0,
              "ticks": ""
             }
            },
            "type": "scatterpolargl"
           }
          ],
          "scatterternary": [
           {
            "marker": {
             "colorbar": {
              "outlinewidth": 0,
              "ticks": ""
             }
            },
            "type": "scatterternary"
           }
          ],
          "surface": [
           {
            "colorbar": {
             "outlinewidth": 0,
             "ticks": ""
            },
            "colorscale": [
             [
              0,
              "#0d0887"
             ],
             [
              0.1111111111111111,
              "#46039f"
             ],
             [
              0.2222222222222222,
              "#7201a8"
             ],
             [
              0.3333333333333333,
              "#9c179e"
             ],
             [
              0.4444444444444444,
              "#bd3786"
             ],
             [
              0.5555555555555556,
              "#d8576b"
             ],
             [
              0.6666666666666666,
              "#ed7953"
             ],
             [
              0.7777777777777778,
              "#fb9f3a"
             ],
             [
              0.8888888888888888,
              "#fdca26"
             ],
             [
              1,
              "#f0f921"
             ]
            ],
            "type": "surface"
           }
          ],
          "table": [
           {
            "cells": {
             "fill": {
              "color": "#EBF0F8"
             },
             "line": {
              "color": "white"
             }
            },
            "header": {
             "fill": {
              "color": "#C8D4E3"
             },
             "line": {
              "color": "white"
             }
            },
            "type": "table"
           }
          ]
         },
         "layout": {
          "annotationdefaults": {
           "arrowcolor": "#2a3f5f",
           "arrowhead": 0,
           "arrowwidth": 1
          },
          "autotypenumbers": "strict",
          "coloraxis": {
           "colorbar": {
            "outlinewidth": 0,
            "ticks": ""
           }
          },
          "colorscale": {
           "diverging": [
            [
             0,
             "#8e0152"
            ],
            [
             0.1,
             "#c51b7d"
            ],
            [
             0.2,
             "#de77ae"
            ],
            [
             0.3,
             "#f1b6da"
            ],
            [
             0.4,
             "#fde0ef"
            ],
            [
             0.5,
             "#f7f7f7"
            ],
            [
             0.6,
             "#e6f5d0"
            ],
            [
             0.7,
             "#b8e186"
            ],
            [
             0.8,
             "#7fbc41"
            ],
            [
             0.9,
             "#4d9221"
            ],
            [
             1,
             "#276419"
            ]
           ],
           "sequential": [
            [
             0,
             "#0d0887"
            ],
            [
             0.1111111111111111,
             "#46039f"
            ],
            [
             0.2222222222222222,
             "#7201a8"
            ],
            [
             0.3333333333333333,
             "#9c179e"
            ],
            [
             0.4444444444444444,
             "#bd3786"
            ],
            [
             0.5555555555555556,
             "#d8576b"
            ],
            [
             0.6666666666666666,
             "#ed7953"
            ],
            [
             0.7777777777777778,
             "#fb9f3a"
            ],
            [
             0.8888888888888888,
             "#fdca26"
            ],
            [
             1,
             "#f0f921"
            ]
           ],
           "sequentialminus": [
            [
             0,
             "#0d0887"
            ],
            [
             0.1111111111111111,
             "#46039f"
            ],
            [
             0.2222222222222222,
             "#7201a8"
            ],
            [
             0.3333333333333333,
             "#9c179e"
            ],
            [
             0.4444444444444444,
             "#bd3786"
            ],
            [
             0.5555555555555556,
             "#d8576b"
            ],
            [
             0.6666666666666666,
             "#ed7953"
            ],
            [
             0.7777777777777778,
             "#fb9f3a"
            ],
            [
             0.8888888888888888,
             "#fdca26"
            ],
            [
             1,
             "#f0f921"
            ]
           ]
          },
          "colorway": [
           "#636efa",
           "#EF553B",
           "#00cc96",
           "#ab63fa",
           "#FFA15A",
           "#19d3f3",
           "#FF6692",
           "#B6E880",
           "#FF97FF",
           "#FECB52"
          ],
          "font": {
           "color": "#2a3f5f"
          },
          "geo": {
           "bgcolor": "white",
           "lakecolor": "white",
           "landcolor": "#E5ECF6",
           "showlakes": true,
           "showland": true,
           "subunitcolor": "white"
          },
          "hoverlabel": {
           "align": "left"
          },
          "hovermode": "closest",
          "mapbox": {
           "style": "light"
          },
          "paper_bgcolor": "white",
          "plot_bgcolor": "#E5ECF6",
          "polar": {
           "angularaxis": {
            "gridcolor": "white",
            "linecolor": "white",
            "ticks": ""
           },
           "bgcolor": "#E5ECF6",
           "radialaxis": {
            "gridcolor": "white",
            "linecolor": "white",
            "ticks": ""
           }
          },
          "scene": {
           "xaxis": {
            "backgroundcolor": "#E5ECF6",
            "gridcolor": "white",
            "gridwidth": 2,
            "linecolor": "white",
            "showbackground": true,
            "ticks": "",
            "zerolinecolor": "white"
           },
           "yaxis": {
            "backgroundcolor": "#E5ECF6",
            "gridcolor": "white",
            "gridwidth": 2,
            "linecolor": "white",
            "showbackground": true,
            "ticks": "",
            "zerolinecolor": "white"
           },
           "zaxis": {
            "backgroundcolor": "#E5ECF6",
            "gridcolor": "white",
            "gridwidth": 2,
            "linecolor": "white",
            "showbackground": true,
            "ticks": "",
            "zerolinecolor": "white"
           }
          },
          "shapedefaults": {
           "line": {
            "color": "#2a3f5f"
           }
          },
          "ternary": {
           "aaxis": {
            "gridcolor": "white",
            "linecolor": "white",
            "ticks": ""
           },
           "baxis": {
            "gridcolor": "white",
            "linecolor": "white",
            "ticks": ""
           },
           "bgcolor": "#E5ECF6",
           "caxis": {
            "gridcolor": "white",
            "linecolor": "white",
            "ticks": ""
           }
          },
          "title": {
           "x": 0.05
          },
          "xaxis": {
           "automargin": true,
           "gridcolor": "white",
           "linecolor": "white",
           "ticks": "",
           "title": {
            "standoff": 15
           },
           "zerolinecolor": "white",
           "zerolinewidth": 2
          },
          "yaxis": {
           "automargin": true,
           "gridcolor": "white",
           "linecolor": "white",
           "ticks": "",
           "title": {
            "standoff": 15
           },
           "zerolinecolor": "white",
           "zerolinewidth": 2
          }
         }
        }
       }
      }
     },
     "metadata": {},
     "output_type": "display_data"
    }
   ],
   "source": [
    "# distribution of genders\n",
    "indices = df['age'].value_counts().sort_index().index\n",
    "values = df['age'].value_counts().sort_index().values\n",
    "\n",
    "fig = go.Figure()\n",
    "\n",
    "\n",
    "# Add trace\n",
    "fig.add_trace(go.Bar(x= indices, y = values, textfont_size=20))\n",
    "\n",
    "\n",
    "\n",
    "    # Overlay both histograms\n",
    "    #fig.update_layout(barmode='overlay')\n",
    "    # Reduce opacity to see both histograms\n",
    "fig.update_traces(opacity=0.75)\n",
    "fig.show()"
   ]
  },
  {
   "cell_type": "markdown",
   "id": "c42d84e0",
   "metadata": {},
   "source": [
    "#### Average readtime per age group"
   ]
  },
  {
   "cell_type": "code",
   "execution_count": null,
   "id": "7c47f430",
   "metadata": {},
   "outputs": [],
   "source": [
    "# Age readtime/scroll\n",
    "## Binned by 10-19, 20-29, etc\n",
    "\n",
    "indices = df['age'].value_counts().sort_index().index\n",
    "values = df['age'].value_counts().sort_index().values\n",
    "\n",
    "\n",
    "# Create graph object\n",
    "fig = go.Figure()\n",
    "\n",
    "# for each age group add a readtime \n",
    "for age in indices:\n",
    "    read_time = df[df['age'] == age]['read_time']\n",
    "    fig.add_trace(go.Histogram(x=read_time))\n",
    "\n",
    "\n",
    "fig.update_layout(barmode='overlay')\n",
    "fig.update_traces(opacity=0.75)\n",
    "fig.show()\n"
   ]
  },
  {
   "cell_type": "code",
   "execution_count": null,
   "id": "206b6214",
   "metadata": {},
   "outputs": [],
   "source": [
    "# Average read time\n",
    "## Binned by 10-19, 20-29, etc\n",
    "\n",
    "indices = df['age'].value_counts().sort_index().index\n",
    "values = df['age'].value_counts().sort_index().values\n",
    "\n",
    "\n",
    "# Create graph object\n",
    "fig = go.Figure()\n",
    "\n",
    "# for each age group add a readtime \n",
    "for age in indices:\n",
    "    avg_read_time = df[df['age'] == age]['read_time'].mean()\n",
    "    fig.add_trace(go.Bar(x=[age], y = [avg_read_time], textfont_size=20))\n",
    "\n",
    "\n",
    "fig.show()"
   ]
  },
  {
   "cell_type": "markdown",
   "id": "c3883ce0",
   "metadata": {},
   "source": [
    "Average Scroll PCt per age group"
   ]
  },
  {
   "cell_type": "code",
   "execution_count": null,
   "id": "06d988f1",
   "metadata": {},
   "outputs": [],
   "source": [
    "indices = df['age'].value_counts().sort_index().index\n",
    "values = df['age'].value_counts().sort_index().values\n",
    "\n",
    "# Create graph object\n",
    "fig = go.Figure()\n",
    "\n",
    "# for each age group add a readtime \n",
    "for age in indices:\n",
    "    scroll_pct = df[df['age'] == age]['scroll_percentage']\n",
    "    fig.add_trace(go.Histogram(x=scroll_pct))\n",
    "\n",
    "\n",
    "fig.update_layout(barmode='overlay')\n",
    "fig.update_traces(opacity=0.75)\n",
    "fig.show()"
   ]
  },
  {
   "cell_type": "code",
   "execution_count": null,
   "id": "8748e792",
   "metadata": {},
   "outputs": [],
   "source": [
    "indices = df['age'].value_counts().sort_index().index\n",
    "values = df['age'].value_counts().sort_index().values\n",
    "\n",
    "# Create graph object\n",
    "fig = go.Figure()\n",
    "\n",
    "# for each age group add a readtime \n",
    "for age in indices:\n",
    "    avg_scroll_pct = df[df['age'] == age]['scroll_percentage'].mean()\n",
    "    fig.add_trace(go.Bar(x=[age], y = [avg_scroll_pct], textfont_size=20))\n",
    "\n",
    "fig.show()"
   ]
  },
  {
   "cell_type": "markdown",
   "id": "2fa72d5e",
   "metadata": {},
   "source": [
    "### Topics"
   ]
  },
  {
   "cell_type": "code",
   "execution_count": 8,
   "id": "a3975ed1",
   "metadata": {},
   "outputs": [
    {
     "data": {
      "application/vnd.plotly.v1+json": {
       "config": {
        "plotlyServerURL": "https://plot.ly"
       },
       "data": [
        {
         "opacity": 0.75,
         "textfont": {
          "size": 20
         },
         "type": "bar",
         "x": [
          "Kendt",
          "Sport",
          "Begivenhed",
          "Underholdning",
          "Kriminalitet",
          "Sportsbegivenhed",
          "Erhverv",
          "Livsstil",
          "Politik",
          "Personfarlig kriminalitet",
          "Fodbold",
          "Økonomi",
          "Transportmiddel",
          "Privat virksomhed",
          "Film og tv",
          "Katastrofe",
          "Samfund",
          "International politik",
          "Sundhed",
          "National politik",
          "Mindre ulykke",
          "Konflikt og krig",
          "Sygdom og behandling",
          "Ketcher- og batsport",
          "Bil",
          "Ansættelsesforhold",
          "Cykling",
          "Kultur",
          "Musik og lyd",
          "Værdier",
          "Erotik",
          "Underholdningsbegivenhed",
          "Partnerskab",
          "Personlig begivenhed",
          "Større transportmiddel",
          "Mikro",
          "Væbnet konflikt",
          "Krop og velvære",
          "Familieliv",
          "Teknologi",
          "Uddannelse",
          "Bolig",
          "Større katastrofe",
          "Dyr",
          "Motorsport",
          "Reality",
          "Køb og salg",
          "Rejse",
          "Videnskab",
          "Makro",
          "Naturvidenskab",
          "Bedrageri",
          "Grundskole",
          "Vejr",
          "Kunstig intelligens og software",
          "Mad og drikke",
          "Kosmetisk behandling",
          "Kunst",
          "Bandekriminalitet",
          "Mindre transportmiddel",
          "Renovering og indretning",
          "Ungdomsuddannelse",
          "Videregående uddannelse",
          "Byliv",
          "Bæredygtighed og klima",
          "Håndbold",
          "Litteratur",
          "Offentlig instans",
          "Tendenser",
          "Forbrugerelektronik",
          "Fritid",
          "Offentlig transport",
          "Religion",
          "Samfundsvidenskab og humaniora",
          "Terror",
          "Museum og seværdighed",
          "Mærkedag",
          "Udlejning"
         ],
         "y": [
          251,
          165,
          156,
          121,
          120,
          115,
          100,
          88,
          85,
          82,
          72,
          67,
          62,
          61,
          59,
          59,
          55,
          51,
          48,
          45,
          44,
          41,
          41,
          31,
          27,
          23,
          22,
          22,
          22,
          22,
          20,
          20,
          19,
          19,
          19,
          18,
          17,
          16,
          14,
          14,
          14,
          13,
          13,
          11,
          10,
          10,
          9,
          9,
          9,
          8,
          8,
          7,
          7,
          7,
          6,
          6,
          4,
          4,
          3,
          3,
          3,
          3,
          3,
          2,
          2,
          2,
          2,
          2,
          2,
          1,
          1,
          1,
          1,
          1,
          1,
          0,
          0,
          0
         ]
        },
        {
         "opacity": 0.75,
         "textfont": {
          "size": 20
         },
         "type": "bar",
         "x": [
          "Kendt",
          "Kriminalitet",
          "Underholdning",
          "Begivenhed",
          "Sport",
          "Politik",
          "Livsstil",
          "Erhverv",
          "Sportsbegivenhed",
          "International politik",
          "Personfarlig kriminalitet",
          "Økonomi",
          "Film og tv",
          "Privat virksomhed",
          "Samfund",
          "Konflikt og krig",
          "National politik",
          "Katastrofe",
          "Fodbold",
          "Transportmiddel",
          "Mindre ulykke",
          "Sundhed",
          "Sygdom og behandling",
          "Væbnet konflikt",
          "Erotik",
          "Ketcher- og batsport",
          "Musik og lyd",
          "Underholdningsbegivenhed",
          "Ansættelsesforhold",
          "Krop og velvære",
          "Værdier",
          "Partnerskab",
          "Kultur",
          "Mikro",
          "Teknologi",
          "Bandekriminalitet",
          "Bil",
          "Større transportmiddel",
          "Personlig begivenhed",
          "Større katastrofe",
          "Uddannelse",
          "Bolig",
          "Mad og drikke",
          "Familieliv",
          "Makro",
          "Videnskab",
          "Bedrageri",
          "Grundskole",
          "Cykling",
          "Håndbold",
          "Naturvidenskab",
          "Bæredygtighed og klima",
          "Kunstig intelligens og software",
          "Reality",
          "Rejse",
          "Køb og salg",
          "Motorsport",
          "Vejr",
          "Dyr",
          "Byliv",
          "Kunst",
          "Litteratur",
          "Mindre transportmiddel",
          "Forbrugerelektronik",
          "Offentlig instans",
          "Ungdomsuddannelse",
          "Religion",
          "Udlejning",
          "Kosmetisk behandling",
          "Mærkedag",
          "Offentlig transport",
          "Samfundsvidenskab og humaniora",
          "Tendenser",
          "Fritid",
          "Museum og seværdighed",
          "Renovering og indretning",
          "Terror",
          "Videregående uddannelse"
         ],
         "y": [
          246,
          140,
          138,
          132,
          132,
          119,
          117,
          106,
          93,
          77,
          75,
          74,
          68,
          68,
          68,
          62,
          56,
          55,
          54,
          42,
          38,
          36,
          34,
          31,
          29,
          27,
          27,
          27,
          26,
          24,
          24,
          23,
          20,
          20,
          18,
          16,
          16,
          16,
          15,
          15,
          15,
          14,
          12,
          11,
          10,
          10,
          9,
          9,
          8,
          8,
          8,
          7,
          7,
          7,
          7,
          6,
          6,
          6,
          5,
          4,
          4,
          4,
          4,
          3,
          3,
          3,
          2,
          2,
          1,
          1,
          1,
          1,
          1,
          0,
          0,
          0,
          0,
          0
         ]
        },
        {
         "opacity": 0.75,
         "textfont": {
          "size": 20
         },
         "type": "bar",
         "x": [
          "Kendt",
          "Underholdning",
          "Kriminalitet",
          "Begivenhed",
          "Erhverv",
          "Film og tv",
          "Personfarlig kriminalitet",
          "Sport",
          "Katastrofe",
          "Livsstil",
          "Politik",
          "National politik",
          "Samfund",
          "Mindre ulykke",
          "Privat virksomhed",
          "Konflikt og krig",
          "Sundhed",
          "Underholdningsbegivenhed",
          "Økonomi",
          "Bolig",
          "Cykling",
          "Fodbold",
          "International politik",
          "Køb og salg",
          "Mad og drikke",
          "Musik og lyd",
          "Personlig begivenhed",
          "Sportsbegivenhed",
          "Sygdom og behandling",
          "Transportmiddel",
          "Værdier",
          "Bandekriminalitet",
          "Bedrageri",
          "Bil",
          "Byliv",
          "Familieliv",
          "Grundskole",
          "Krop og velvære",
          "Kultur",
          "Litteratur",
          "Motorsport",
          "Naturvidenskab",
          "Offentlig instans",
          "Partnerskab",
          "Reality",
          "Større katastrofe",
          "Større transportmiddel",
          "Uddannelse",
          "Videnskab",
          "Væbnet konflikt",
          "Ansættelsesforhold",
          "Bæredygtighed og klima",
          "Dyr",
          "Erotik",
          "Forbrugerelektronik",
          "Fritid",
          "Håndbold",
          "Ketcher- og batsport",
          "Kosmetisk behandling",
          "Kunst",
          "Kunstig intelligens og software",
          "Makro",
          "Mikro",
          "Mindre transportmiddel",
          "Museum og seværdighed",
          "Mærkedag",
          "Offentlig transport",
          "Rejse",
          "Religion",
          "Renovering og indretning",
          "Samfundsvidenskab og humaniora",
          "Teknologi",
          "Tendenser",
          "Terror",
          "Udlejning",
          "Ungdomsuddannelse",
          "Vejr",
          "Videregående uddannelse"
         ],
         "y": [
          17,
          13,
          10,
          7,
          7,
          7,
          7,
          7,
          6,
          6,
          6,
          5,
          5,
          4,
          4,
          3,
          3,
          3,
          3,
          2,
          2,
          2,
          2,
          2,
          2,
          2,
          2,
          2,
          2,
          2,
          2,
          1,
          1,
          1,
          1,
          1,
          1,
          1,
          1,
          1,
          1,
          1,
          1,
          1,
          1,
          1,
          1,
          1,
          1,
          1,
          0,
          0,
          0,
          0,
          0,
          0,
          0,
          0,
          0,
          0,
          0,
          0,
          0,
          0,
          0,
          0,
          0,
          0,
          0,
          0,
          0,
          0,
          0,
          0,
          0,
          0,
          0,
          0
         ]
        },
        {
         "opacity": 0.75,
         "textfont": {
          "size": 20
         },
         "type": "bar",
         "x": [
          "Kendt",
          "Underholdning",
          "Begivenhed",
          "Sport",
          "Politik",
          "Kriminalitet",
          "Erhverv",
          "Livsstil",
          "Sportsbegivenhed",
          "Økonomi",
          "National politik",
          "Film og tv",
          "International politik",
          "Katastrofe",
          "Samfund",
          "Personfarlig kriminalitet",
          "Transportmiddel",
          "Privat virksomhed",
          "Fodbold",
          "Konflikt og krig",
          "Mindre ulykke",
          "Sundhed",
          "Ketcher- og batsport",
          "Sygdom og behandling",
          "Ansættelsesforhold",
          "Kultur",
          "Væbnet konflikt",
          "Musik og lyd",
          "Større transportmiddel",
          "Værdier",
          "Bil",
          "Mikro",
          "Krop og velvære",
          "Partnerskab",
          "Personlig begivenhed",
          "Større katastrofe",
          "Erotik",
          "Familieliv",
          "Underholdningsbegivenhed",
          "Mad og drikke",
          "Cykling",
          "Videnskab",
          "Reality",
          "Uddannelse",
          "Bedrageri",
          "Bolig",
          "Dyr",
          "Naturvidenskab",
          "Motorsport",
          "Vejr",
          "Makro",
          "Rejse",
          "Bandekriminalitet",
          "Køb og salg",
          "Byliv",
          "Teknologi",
          "Kunst",
          "Ungdomsuddannelse",
          "Grundskole",
          "Håndbold",
          "Kunstig intelligens og software",
          "Litteratur",
          "Mindre transportmiddel",
          "Offentlig transport",
          "Renovering og indretning",
          "Videregående uddannelse",
          "Bæredygtighed og klima",
          "Fritid",
          "Samfundsvidenskab og humaniora",
          "Tendenser",
          "Forbrugerelektronik",
          "Kosmetisk behandling",
          "Museum og seværdighed",
          "Mærkedag",
          "Offentlig instans",
          "Religion",
          "Terror",
          "Udlejning"
         ],
         "y": [
          245,
          131,
          120,
          120,
          113,
          98,
          91,
          89,
          84,
          72,
          66,
          65,
          64,
          62,
          62,
          61,
          58,
          53,
          51,
          51,
          38,
          37,
          34,
          32,
          26,
          23,
          23,
          22,
          22,
          22,
          21,
          21,
          20,
          18,
          18,
          18,
          17,
          17,
          17,
          13,
          12,
          12,
          10,
          10,
          9,
          9,
          9,
          9,
          8,
          8,
          7,
          7,
          6,
          6,
          5,
          5,
          4,
          4,
          2,
          2,
          2,
          2,
          2,
          2,
          2,
          2,
          1,
          1,
          1,
          1,
          0,
          0,
          0,
          0,
          0,
          0,
          0,
          0
         ]
        },
        {
         "opacity": 0.75,
         "textfont": {
          "size": 20
         },
         "type": "bar",
         "x": [
          "Kendt",
          "Sport",
          "Begivenhed",
          "Underholdning",
          "Sportsbegivenhed",
          "Livsstil",
          "Kriminalitet",
          "Erhverv",
          "Politik",
          "Personfarlig kriminalitet",
          "Fodbold",
          "Privat virksomhed",
          "Katastrofe",
          "Film og tv",
          "Samfund",
          "Transportmiddel",
          "Sundhed",
          "International politik",
          "Konflikt og krig",
          "National politik",
          "Økonomi",
          "Krop og velvære",
          "Mindre ulykke",
          "Sygdom og behandling",
          "Ansættelsesforhold",
          "Bil",
          "Erotik",
          "Kultur",
          "Musik og lyd",
          "Større katastrofe",
          "Ketcher- og batsport",
          "Underholdningsbegivenhed",
          "Væbnet konflikt",
          "Familieliv",
          "Større transportmiddel",
          "Cykling",
          "Mad og drikke",
          "Partnerskab",
          "Personlig begivenhed",
          "Teknologi",
          "Bandekriminalitet",
          "Reality",
          "Uddannelse",
          "Kunstig intelligens og software",
          "Mikro",
          "Vejr",
          "Værdier",
          "Håndbold",
          "Motorsport",
          "Rejse",
          "Videnskab",
          "Bæredygtighed og klima",
          "Dyr",
          "Litteratur",
          "Naturvidenskab",
          "Offentlig transport",
          "Bedrageri",
          "Bolig",
          "Byliv",
          "Forbrugerelektronik",
          "Grundskole",
          "Kosmetisk behandling",
          "Kunst",
          "Køb og salg",
          "Makro",
          "Mindre transportmiddel",
          "Offentlig instans",
          "Ungdomsuddannelse",
          "Videregående uddannelse",
          "Fritid",
          "Museum og seværdighed",
          "Mærkedag",
          "Religion",
          "Renovering og indretning",
          "Samfundsvidenskab og humaniora",
          "Tendenser",
          "Terror",
          "Udlejning"
         ],
         "y": [
          92,
          67,
          61,
          49,
          48,
          45,
          40,
          38,
          31,
          27,
          26,
          26,
          25,
          23,
          23,
          22,
          21,
          18,
          15,
          15,
          15,
          14,
          13,
          13,
          11,
          10,
          10,
          9,
          9,
          9,
          8,
          8,
          8,
          7,
          7,
          6,
          6,
          6,
          6,
          6,
          5,
          5,
          5,
          4,
          4,
          4,
          4,
          3,
          3,
          3,
          3,
          2,
          2,
          2,
          2,
          2,
          1,
          1,
          1,
          1,
          1,
          1,
          1,
          1,
          1,
          1,
          1,
          1,
          1,
          0,
          0,
          0,
          0,
          0,
          0,
          0,
          0,
          0
         ]
        },
        {
         "opacity": 0.75,
         "textfont": {
          "size": 20
         },
         "type": "bar",
         "x": [
          "Kendt",
          "Livsstil",
          "Underholdning",
          "Kriminalitet",
          "Erhverv",
          "Sport",
          "Begivenhed",
          "Personfarlig kriminalitet",
          "Politik",
          "Privat virksomhed",
          "Samfund",
          "Sportsbegivenhed",
          "Økonomi",
          "Fodbold",
          "Familieliv",
          "Film og tv",
          "International politik",
          "Katastrofe",
          "National politik",
          "Partnerskab",
          "Transportmiddel",
          "Mindre ulykke",
          "Reality",
          "Ansættelsesforhold",
          "Musik og lyd",
          "Bil",
          "Erotik",
          "Grundskole",
          "Konflikt og krig",
          "Kultur",
          "Mad og drikke",
          "Makro",
          "Mikro",
          "Personlig begivenhed",
          "Sundhed",
          "Sygdom og behandling",
          "Uddannelse",
          "Underholdningsbegivenhed",
          "Værdier",
          "Bandekriminalitet",
          "Ketcher- og batsport",
          "Krop og velvære",
          "Litteratur",
          "Større transportmiddel",
          "Teknologi",
          "Væbnet konflikt",
          "Bolig",
          "Cykling",
          "Dyr",
          "Forbrugerelektronik",
          "Håndbold",
          "Kunst",
          "Kunstig intelligens og software",
          "Køb og salg",
          "Naturvidenskab",
          "Offentlig instans",
          "Rejse",
          "Renovering og indretning",
          "Større katastrofe",
          "Tendenser",
          "Vejr",
          "Videnskab",
          "Bedrageri",
          "Byliv",
          "Bæredygtighed og klima",
          "Fritid",
          "Kosmetisk behandling",
          "Mindre transportmiddel",
          "Motorsport",
          "Museum og seværdighed",
          "Mærkedag",
          "Offentlig transport",
          "Religion",
          "Samfundsvidenskab og humaniora",
          "Terror",
          "Udlejning",
          "Ungdomsuddannelse",
          "Videregående uddannelse"
         ],
         "y": [
          35,
          24,
          24,
          23,
          17,
          17,
          16,
          15,
          13,
          10,
          10,
          10,
          10,
          8,
          7,
          7,
          7,
          7,
          7,
          6,
          6,
          5,
          5,
          4,
          4,
          3,
          3,
          3,
          3,
          3,
          3,
          3,
          3,
          3,
          3,
          3,
          3,
          3,
          3,
          2,
          2,
          2,
          2,
          2,
          2,
          2,
          1,
          1,
          1,
          1,
          1,
          1,
          1,
          1,
          1,
          1,
          1,
          1,
          1,
          1,
          1,
          1,
          0,
          0,
          0,
          0,
          0,
          0,
          0,
          0,
          0,
          0,
          0,
          0,
          0,
          0,
          0,
          0
         ]
        },
        {
         "opacity": 0.75,
         "textfont": {
          "size": 20
         },
         "type": "bar",
         "x": [
          "Kendt",
          "Begivenhed",
          "Sport",
          "Sportsbegivenhed",
          "Underholdning",
          "Livsstil",
          "Politik",
          "Fodbold",
          "Film og tv",
          "International politik",
          "Økonomi",
          "Erhverv",
          "Ketcher- og batsport",
          "Kriminalitet",
          "Transportmiddel",
          "Konflikt og krig",
          "Personfarlig kriminalitet",
          "Privat virksomhed",
          "Samfund",
          "Sundhed",
          "Mikro",
          "National politik",
          "Partnerskab",
          "Sygdom og behandling",
          "Cykling",
          "Erotik",
          "Katastrofe",
          "Musik og lyd",
          "Underholdningsbegivenhed",
          "Krop og velvære",
          "Mindre ulykke",
          "Reality",
          "Større transportmiddel",
          "Væbnet konflikt",
          "Ansættelsesforhold",
          "Bil",
          "Dyr",
          "Familieliv",
          "Håndbold",
          "Mad og drikke",
          "Større katastrofe",
          "Teknologi",
          "Bandekriminalitet",
          "Bedrageri",
          "Bolig",
          "Forbrugerelektronik",
          "Kultur",
          "Kunstig intelligens og software",
          "Mindre transportmiddel",
          "Naturvidenskab",
          "Offentlig instans",
          "Personlig begivenhed",
          "Rejse",
          "Renovering og indretning",
          "Tendenser",
          "Videnskab",
          "Byliv",
          "Bæredygtighed og klima",
          "Fritid",
          "Grundskole",
          "Kosmetisk behandling",
          "Kunst",
          "Køb og salg",
          "Litteratur",
          "Makro",
          "Motorsport",
          "Museum og seværdighed",
          "Mærkedag",
          "Offentlig transport",
          "Religion",
          "Samfundsvidenskab og humaniora",
          "Terror",
          "Uddannelse",
          "Udlejning",
          "Ungdomsuddannelse",
          "Vejr",
          "Videregående uddannelse",
          "Værdier"
         ],
         "y": [
          45,
          34,
          34,
          27,
          22,
          19,
          14,
          13,
          12,
          11,
          10,
          9,
          9,
          9,
          9,
          7,
          6,
          6,
          6,
          6,
          5,
          5,
          5,
          5,
          4,
          4,
          4,
          4,
          4,
          3,
          3,
          3,
          3,
          3,
          2,
          2,
          2,
          2,
          2,
          2,
          2,
          2,
          1,
          1,
          1,
          1,
          1,
          1,
          1,
          1,
          1,
          1,
          1,
          1,
          1,
          1,
          0,
          0,
          0,
          0,
          0,
          0,
          0,
          0,
          0,
          0,
          0,
          0,
          0,
          0,
          0,
          0,
          0,
          0,
          0,
          0,
          0,
          0
         ]
        },
        {
         "opacity": 0.75,
         "textfont": {
          "size": 20
         },
         "type": "bar",
         "x": [
          "Kendt",
          "Sport",
          "Begivenhed",
          "Sportsbegivenhed",
          "Underholdning",
          "Erhverv",
          "Film og tv",
          "Kriminalitet",
          "Personfarlig kriminalitet",
          "Privat virksomhed",
          "Ketcher- og batsport",
          "Økonomi",
          "Fodbold",
          "Livsstil",
          "Bolig",
          "Køb og salg",
          "Mikro",
          "Samfund",
          "Sundhed",
          "Værdier",
          "Bil",
          "Erotik",
          "Håndbold",
          "Kultur",
          "Kunst",
          "Kunstig intelligens og software",
          "Motorsport",
          "National politik",
          "Naturvidenskab",
          "Partnerskab",
          "Personlig begivenhed",
          "Politik",
          "Renovering og indretning",
          "Sygdom og behandling",
          "Teknologi",
          "Transportmiddel",
          "Vejr",
          "Videnskab",
          "Ansættelsesforhold",
          "Bandekriminalitet",
          "Bedrageri",
          "Byliv",
          "Bæredygtighed og klima",
          "Cykling",
          "Dyr",
          "Familieliv",
          "Forbrugerelektronik",
          "Fritid",
          "Grundskole",
          "International politik",
          "Katastrofe",
          "Konflikt og krig",
          "Kosmetisk behandling",
          "Krop og velvære",
          "Litteratur",
          "Mad og drikke",
          "Makro",
          "Mindre transportmiddel",
          "Mindre ulykke",
          "Museum og seværdighed",
          "Musik og lyd",
          "Mærkedag",
          "Offentlig instans",
          "Offentlig transport",
          "Reality",
          "Rejse",
          "Religion",
          "Samfundsvidenskab og humaniora",
          "Større katastrofe",
          "Større transportmiddel",
          "Tendenser",
          "Terror",
          "Uddannelse",
          "Udlejning",
          "Underholdningsbegivenhed",
          "Ungdomsuddannelse",
          "Videregående uddannelse",
          "Væbnet konflikt"
         ],
         "y": [
          12,
          11,
          8,
          6,
          6,
          5,
          5,
          5,
          5,
          5,
          4,
          4,
          3,
          3,
          2,
          2,
          2,
          2,
          2,
          2,
          1,
          1,
          1,
          1,
          1,
          1,
          1,
          1,
          1,
          1,
          1,
          1,
          1,
          1,
          1,
          1,
          1,
          1,
          0,
          0,
          0,
          0,
          0,
          0,
          0,
          0,
          0,
          0,
          0,
          0,
          0,
          0,
          0,
          0,
          0,
          0,
          0,
          0,
          0,
          0,
          0,
          0,
          0,
          0,
          0,
          0,
          0,
          0,
          0,
          0,
          0,
          0,
          0,
          0,
          0,
          0,
          0,
          0
         ]
        }
       ],
       "layout": {
        "template": {
         "data": {
          "bar": [
           {
            "error_x": {
             "color": "#2a3f5f"
            },
            "error_y": {
             "color": "#2a3f5f"
            },
            "marker": {
             "line": {
              "color": "#E5ECF6",
              "width": 0.5
             },
             "pattern": {
              "fillmode": "overlay",
              "size": 10,
              "solidity": 0.2
             }
            },
            "type": "bar"
           }
          ],
          "barpolar": [
           {
            "marker": {
             "line": {
              "color": "#E5ECF6",
              "width": 0.5
             },
             "pattern": {
              "fillmode": "overlay",
              "size": 10,
              "solidity": 0.2
             }
            },
            "type": "barpolar"
           }
          ],
          "carpet": [
           {
            "aaxis": {
             "endlinecolor": "#2a3f5f",
             "gridcolor": "white",
             "linecolor": "white",
             "minorgridcolor": "white",
             "startlinecolor": "#2a3f5f"
            },
            "baxis": {
             "endlinecolor": "#2a3f5f",
             "gridcolor": "white",
             "linecolor": "white",
             "minorgridcolor": "white",
             "startlinecolor": "#2a3f5f"
            },
            "type": "carpet"
           }
          ],
          "choropleth": [
           {
            "colorbar": {
             "outlinewidth": 0,
             "ticks": ""
            },
            "type": "choropleth"
           }
          ],
          "contour": [
           {
            "colorbar": {
             "outlinewidth": 0,
             "ticks": ""
            },
            "colorscale": [
             [
              0,
              "#0d0887"
             ],
             [
              0.1111111111111111,
              "#46039f"
             ],
             [
              0.2222222222222222,
              "#7201a8"
             ],
             [
              0.3333333333333333,
              "#9c179e"
             ],
             [
              0.4444444444444444,
              "#bd3786"
             ],
             [
              0.5555555555555556,
              "#d8576b"
             ],
             [
              0.6666666666666666,
              "#ed7953"
             ],
             [
              0.7777777777777778,
              "#fb9f3a"
             ],
             [
              0.8888888888888888,
              "#fdca26"
             ],
             [
              1,
              "#f0f921"
             ]
            ],
            "type": "contour"
           }
          ],
          "contourcarpet": [
           {
            "colorbar": {
             "outlinewidth": 0,
             "ticks": ""
            },
            "type": "contourcarpet"
           }
          ],
          "heatmap": [
           {
            "colorbar": {
             "outlinewidth": 0,
             "ticks": ""
            },
            "colorscale": [
             [
              0,
              "#0d0887"
             ],
             [
              0.1111111111111111,
              "#46039f"
             ],
             [
              0.2222222222222222,
              "#7201a8"
             ],
             [
              0.3333333333333333,
              "#9c179e"
             ],
             [
              0.4444444444444444,
              "#bd3786"
             ],
             [
              0.5555555555555556,
              "#d8576b"
             ],
             [
              0.6666666666666666,
              "#ed7953"
             ],
             [
              0.7777777777777778,
              "#fb9f3a"
             ],
             [
              0.8888888888888888,
              "#fdca26"
             ],
             [
              1,
              "#f0f921"
             ]
            ],
            "type": "heatmap"
           }
          ],
          "heatmapgl": [
           {
            "colorbar": {
             "outlinewidth": 0,
             "ticks": ""
            },
            "colorscale": [
             [
              0,
              "#0d0887"
             ],
             [
              0.1111111111111111,
              "#46039f"
             ],
             [
              0.2222222222222222,
              "#7201a8"
             ],
             [
              0.3333333333333333,
              "#9c179e"
             ],
             [
              0.4444444444444444,
              "#bd3786"
             ],
             [
              0.5555555555555556,
              "#d8576b"
             ],
             [
              0.6666666666666666,
              "#ed7953"
             ],
             [
              0.7777777777777778,
              "#fb9f3a"
             ],
             [
              0.8888888888888888,
              "#fdca26"
             ],
             [
              1,
              "#f0f921"
             ]
            ],
            "type": "heatmapgl"
           }
          ],
          "histogram": [
           {
            "marker": {
             "pattern": {
              "fillmode": "overlay",
              "size": 10,
              "solidity": 0.2
             }
            },
            "type": "histogram"
           }
          ],
          "histogram2d": [
           {
            "colorbar": {
             "outlinewidth": 0,
             "ticks": ""
            },
            "colorscale": [
             [
              0,
              "#0d0887"
             ],
             [
              0.1111111111111111,
              "#46039f"
             ],
             [
              0.2222222222222222,
              "#7201a8"
             ],
             [
              0.3333333333333333,
              "#9c179e"
             ],
             [
              0.4444444444444444,
              "#bd3786"
             ],
             [
              0.5555555555555556,
              "#d8576b"
             ],
             [
              0.6666666666666666,
              "#ed7953"
             ],
             [
              0.7777777777777778,
              "#fb9f3a"
             ],
             [
              0.8888888888888888,
              "#fdca26"
             ],
             [
              1,
              "#f0f921"
             ]
            ],
            "type": "histogram2d"
           }
          ],
          "histogram2dcontour": [
           {
            "colorbar": {
             "outlinewidth": 0,
             "ticks": ""
            },
            "colorscale": [
             [
              0,
              "#0d0887"
             ],
             [
              0.1111111111111111,
              "#46039f"
             ],
             [
              0.2222222222222222,
              "#7201a8"
             ],
             [
              0.3333333333333333,
              "#9c179e"
             ],
             [
              0.4444444444444444,
              "#bd3786"
             ],
             [
              0.5555555555555556,
              "#d8576b"
             ],
             [
              0.6666666666666666,
              "#ed7953"
             ],
             [
              0.7777777777777778,
              "#fb9f3a"
             ],
             [
              0.8888888888888888,
              "#fdca26"
             ],
             [
              1,
              "#f0f921"
             ]
            ],
            "type": "histogram2dcontour"
           }
          ],
          "mesh3d": [
           {
            "colorbar": {
             "outlinewidth": 0,
             "ticks": ""
            },
            "type": "mesh3d"
           }
          ],
          "parcoords": [
           {
            "line": {
             "colorbar": {
              "outlinewidth": 0,
              "ticks": ""
             }
            },
            "type": "parcoords"
           }
          ],
          "pie": [
           {
            "automargin": true,
            "type": "pie"
           }
          ],
          "scatter": [
           {
            "fillpattern": {
             "fillmode": "overlay",
             "size": 10,
             "solidity": 0.2
            },
            "type": "scatter"
           }
          ],
          "scatter3d": [
           {
            "line": {
             "colorbar": {
              "outlinewidth": 0,
              "ticks": ""
             }
            },
            "marker": {
             "colorbar": {
              "outlinewidth": 0,
              "ticks": ""
             }
            },
            "type": "scatter3d"
           }
          ],
          "scattercarpet": [
           {
            "marker": {
             "colorbar": {
              "outlinewidth": 0,
              "ticks": ""
             }
            },
            "type": "scattercarpet"
           }
          ],
          "scattergeo": [
           {
            "marker": {
             "colorbar": {
              "outlinewidth": 0,
              "ticks": ""
             }
            },
            "type": "scattergeo"
           }
          ],
          "scattergl": [
           {
            "marker": {
             "colorbar": {
              "outlinewidth": 0,
              "ticks": ""
             }
            },
            "type": "scattergl"
           }
          ],
          "scattermapbox": [
           {
            "marker": {
             "colorbar": {
              "outlinewidth": 0,
              "ticks": ""
             }
            },
            "type": "scattermapbox"
           }
          ],
          "scatterpolar": [
           {
            "marker": {
             "colorbar": {
              "outlinewidth": 0,
              "ticks": ""
             }
            },
            "type": "scatterpolar"
           }
          ],
          "scatterpolargl": [
           {
            "marker": {
             "colorbar": {
              "outlinewidth": 0,
              "ticks": ""
             }
            },
            "type": "scatterpolargl"
           }
          ],
          "scatterternary": [
           {
            "marker": {
             "colorbar": {
              "outlinewidth": 0,
              "ticks": ""
             }
            },
            "type": "scatterternary"
           }
          ],
          "surface": [
           {
            "colorbar": {
             "outlinewidth": 0,
             "ticks": ""
            },
            "colorscale": [
             [
              0,
              "#0d0887"
             ],
             [
              0.1111111111111111,
              "#46039f"
             ],
             [
              0.2222222222222222,
              "#7201a8"
             ],
             [
              0.3333333333333333,
              "#9c179e"
             ],
             [
              0.4444444444444444,
              "#bd3786"
             ],
             [
              0.5555555555555556,
              "#d8576b"
             ],
             [
              0.6666666666666666,
              "#ed7953"
             ],
             [
              0.7777777777777778,
              "#fb9f3a"
             ],
             [
              0.8888888888888888,
              "#fdca26"
             ],
             [
              1,
              "#f0f921"
             ]
            ],
            "type": "surface"
           }
          ],
          "table": [
           {
            "cells": {
             "fill": {
              "color": "#EBF0F8"
             },
             "line": {
              "color": "white"
             }
            },
            "header": {
             "fill": {
              "color": "#C8D4E3"
             },
             "line": {
              "color": "white"
             }
            },
            "type": "table"
           }
          ]
         },
         "layout": {
          "annotationdefaults": {
           "arrowcolor": "#2a3f5f",
           "arrowhead": 0,
           "arrowwidth": 1
          },
          "autotypenumbers": "strict",
          "coloraxis": {
           "colorbar": {
            "outlinewidth": 0,
            "ticks": ""
           }
          },
          "colorscale": {
           "diverging": [
            [
             0,
             "#8e0152"
            ],
            [
             0.1,
             "#c51b7d"
            ],
            [
             0.2,
             "#de77ae"
            ],
            [
             0.3,
             "#f1b6da"
            ],
            [
             0.4,
             "#fde0ef"
            ],
            [
             0.5,
             "#f7f7f7"
            ],
            [
             0.6,
             "#e6f5d0"
            ],
            [
             0.7,
             "#b8e186"
            ],
            [
             0.8,
             "#7fbc41"
            ],
            [
             0.9,
             "#4d9221"
            ],
            [
             1,
             "#276419"
            ]
           ],
           "sequential": [
            [
             0,
             "#0d0887"
            ],
            [
             0.1111111111111111,
             "#46039f"
            ],
            [
             0.2222222222222222,
             "#7201a8"
            ],
            [
             0.3333333333333333,
             "#9c179e"
            ],
            [
             0.4444444444444444,
             "#bd3786"
            ],
            [
             0.5555555555555556,
             "#d8576b"
            ],
            [
             0.6666666666666666,
             "#ed7953"
            ],
            [
             0.7777777777777778,
             "#fb9f3a"
            ],
            [
             0.8888888888888888,
             "#fdca26"
            ],
            [
             1,
             "#f0f921"
            ]
           ],
           "sequentialminus": [
            [
             0,
             "#0d0887"
            ],
            [
             0.1111111111111111,
             "#46039f"
            ],
            [
             0.2222222222222222,
             "#7201a8"
            ],
            [
             0.3333333333333333,
             "#9c179e"
            ],
            [
             0.4444444444444444,
             "#bd3786"
            ],
            [
             0.5555555555555556,
             "#d8576b"
            ],
            [
             0.6666666666666666,
             "#ed7953"
            ],
            [
             0.7777777777777778,
             "#fb9f3a"
            ],
            [
             0.8888888888888888,
             "#fdca26"
            ],
            [
             1,
             "#f0f921"
            ]
           ]
          },
          "colorway": [
           "#636efa",
           "#EF553B",
           "#00cc96",
           "#ab63fa",
           "#FFA15A",
           "#19d3f3",
           "#FF6692",
           "#B6E880",
           "#FF97FF",
           "#FECB52"
          ],
          "font": {
           "color": "#2a3f5f"
          },
          "geo": {
           "bgcolor": "white",
           "lakecolor": "white",
           "landcolor": "#E5ECF6",
           "showlakes": true,
           "showland": true,
           "subunitcolor": "white"
          },
          "hoverlabel": {
           "align": "left"
          },
          "hovermode": "closest",
          "mapbox": {
           "style": "light"
          },
          "paper_bgcolor": "white",
          "plot_bgcolor": "#E5ECF6",
          "polar": {
           "angularaxis": {
            "gridcolor": "white",
            "linecolor": "white",
            "ticks": ""
           },
           "bgcolor": "#E5ECF6",
           "radialaxis": {
            "gridcolor": "white",
            "linecolor": "white",
            "ticks": ""
           }
          },
          "scene": {
           "xaxis": {
            "backgroundcolor": "#E5ECF6",
            "gridcolor": "white",
            "gridwidth": 2,
            "linecolor": "white",
            "showbackground": true,
            "ticks": "",
            "zerolinecolor": "white"
           },
           "yaxis": {
            "backgroundcolor": "#E5ECF6",
            "gridcolor": "white",
            "gridwidth": 2,
            "linecolor": "white",
            "showbackground": true,
            "ticks": "",
            "zerolinecolor": "white"
           },
           "zaxis": {
            "backgroundcolor": "#E5ECF6",
            "gridcolor": "white",
            "gridwidth": 2,
            "linecolor": "white",
            "showbackground": true,
            "ticks": "",
            "zerolinecolor": "white"
           }
          },
          "shapedefaults": {
           "line": {
            "color": "#2a3f5f"
           }
          },
          "ternary": {
           "aaxis": {
            "gridcolor": "white",
            "linecolor": "white",
            "ticks": ""
           },
           "baxis": {
            "gridcolor": "white",
            "linecolor": "white",
            "ticks": ""
           },
           "bgcolor": "#E5ECF6",
           "caxis": {
            "gridcolor": "white",
            "linecolor": "white",
            "ticks": ""
           }
          },
          "title": {
           "x": 0.05
          },
          "xaxis": {
           "automargin": true,
           "gridcolor": "white",
           "linecolor": "white",
           "ticks": "",
           "title": {
            "standoff": 15
           },
           "zerolinecolor": "white",
           "zerolinewidth": 2
          },
          "yaxis": {
           "automargin": true,
           "gridcolor": "white",
           "linecolor": "white",
           "ticks": "",
           "title": {
            "standoff": 15
           },
           "zerolinecolor": "white",
           "zerolinewidth": 2
          }
         }
        }
       }
      }
     },
     "metadata": {},
     "output_type": "display_data"
    }
   ],
   "source": [
    "## Subset based on those entries\n",
    "## populate the counts for the traces\n",
    "\n",
    "ages = df['age'].unique()\n",
    "ages = ages[~np.isnan(ages)]\n",
    "\n",
    "#genders = [d for d in df['gender'].unique() ]\n",
    "\n",
    "# Get all the unique topics\n",
    "unique_topics = []\n",
    "for i in df.index:\n",
    "    for j in range(0, len(df['topics'][i])):\n",
    "        tmp = df['topics'][i][j]\n",
    "        if tmp not in unique_topics:\n",
    "            unique_topics.append(tmp)\n",
    "\n",
    "unique_topics = sorted(unique_topics)\n",
    "\n",
    "\n",
    "fig = go.Figure()\n",
    "# Iterate through each device \n",
    "for d in ages:\n",
    "    # Find the subset of the data with that device\n",
    "    tmp_df = df[df['age'] == d]\n",
    "\n",
    "    # Create a dict object with 0 counts for all topics\n",
    "    ages_topic_freq = {k:0 for k in unique_topics}\n",
    "    for i in tmp_df.index:\n",
    "        for j in range(0, len(df['topics'][i])):\n",
    "            # Find that index\n",
    "            tmp_topic = df['topics'][i][j]\n",
    "\n",
    "            # Enumerate\n",
    "            ages_topic_freq[tmp_topic] += 1\n",
    "    \n",
    "    ages_topic_freq = dict(sorted(ages_topic_freq.items(), key = lambda kv: kv[1], reverse= True))\n",
    "    #print(device_topic_freq)\n",
    "        \n",
    "    fig.add_trace(go.Bar(x= [x for x in ages_topic_freq.keys()], y = [y for y in ages_topic_freq.values()], textfont_size=20))\n",
    "\n",
    "\n",
    "\n",
    "# Overlay both histograms\n",
    "#fig.update_layout(barmode='overlay')\n",
    "# Reduce opacity to see both histograms\n",
    "fig.update_traces(opacity=0.75)\n",
    "fig.show()"
   ]
  },
  {
   "cell_type": "markdown",
   "id": "cb2106c5",
   "metadata": {},
   "source": [
    "### Activity"
   ]
  },
  {
   "cell_type": "markdown",
   "id": "24ca3114",
   "metadata": {},
   "source": [
    "#### Daily Activity"
   ]
  },
  {
   "cell_type": "code",
   "execution_count": 9,
   "id": "68a3dec9",
   "metadata": {},
   "outputs": [
    {
     "data": {
      "application/vnd.plotly.v1+json": {
       "config": {
        "plotlyServerURL": "https://plot.ly"
       },
       "data": [
        {
         "opacity": 0.75,
         "textfont": {
          "size": 20
         },
         "type": "bar",
         "x": [
          "05/18/2023",
          "05/19/2023",
          "05/20/2023",
          "05/21/2023",
          "05/22/2023",
          "05/23/2023",
          "05/24/2023",
          "05/25/2023"
         ],
         "y": [
          49,
          111,
          67,
          104,
          89,
          85,
          105,
          26
         ]
        },
        {
         "opacity": 0.75,
         "textfont": {
          "size": 20
         },
         "type": "bar",
         "x": [
          "05/18/2023",
          "05/19/2023",
          "05/20/2023",
          "05/21/2023",
          "05/22/2023",
          "05/23/2023",
          "05/24/2023",
          "05/25/2023"
         ],
         "y": [
          68,
          106,
          92,
          86,
          97,
          112,
          101,
          25
         ]
        },
        {
         "opacity": 0.75,
         "textfont": {
          "size": 20
         },
         "type": "bar",
         "x": [
          "05/18/2023",
          "05/19/2023",
          "05/20/2023",
          "05/21/2023",
          "05/22/2023",
          "05/23/2023",
          "05/24/2023",
          "05/25/2023"
         ],
         "y": [
          9,
          0,
          2,
          5,
          9,
          6,
          2,
          2
         ]
        },
        {
         "opacity": 0.75,
         "textfont": {
          "size": 20
         },
         "type": "bar",
         "x": [
          "05/18/2023",
          "05/19/2023",
          "05/20/2023",
          "05/21/2023",
          "05/22/2023",
          "05/23/2023",
          "05/24/2023",
          "05/25/2023"
         ],
         "y": [
          77,
          82,
          83,
          75,
          86,
          75,
          96,
          14
         ]
        },
        {
         "opacity": 0.75,
         "textfont": {
          "size": 20
         },
         "type": "bar",
         "x": [
          "05/18/2023",
          "05/19/2023",
          "05/20/2023",
          "05/21/2023",
          "05/22/2023",
          "05/23/2023",
          "05/24/2023",
          "05/25/2023"
         ],
         "y": [
          20,
          48,
          29,
          38,
          33,
          23,
          44,
          5
         ]
        },
        {
         "opacity": 0.75,
         "textfont": {
          "size": 20
         },
         "type": "bar",
         "x": [
          "05/18/2023",
          "05/19/2023",
          "05/20/2023",
          "05/21/2023",
          "05/22/2023",
          "05/23/2023",
          "05/24/2023"
         ],
         "y": [
          8,
          20,
          14,
          9,
          15,
          11,
          13
         ]
        },
        {
         "opacity": 0.75,
         "textfont": {
          "size": 20
         },
         "type": "bar",
         "x": [
          "05/18/2023",
          "05/19/2023",
          "05/20/2023",
          "05/21/2023",
          "05/22/2023",
          "05/23/2023",
          "05/24/2023",
          "05/25/2023"
         ],
         "y": [
          6,
          8,
          20,
          16,
          10,
          10,
          17,
          0
         ]
        },
        {
         "opacity": 0.75,
         "textfont": {
          "size": 20
         },
         "type": "bar",
         "x": [
          "05/18/2023",
          "05/20/2023",
          "05/22/2023",
          "05/23/2023",
          "05/24/2023"
         ],
         "y": [
          4,
          6,
          12,
          2,
          2
         ]
        }
       ],
       "layout": {
        "template": {
         "data": {
          "bar": [
           {
            "error_x": {
             "color": "#2a3f5f"
            },
            "error_y": {
             "color": "#2a3f5f"
            },
            "marker": {
             "line": {
              "color": "#E5ECF6",
              "width": 0.5
             },
             "pattern": {
              "fillmode": "overlay",
              "size": 10,
              "solidity": 0.2
             }
            },
            "type": "bar"
           }
          ],
          "barpolar": [
           {
            "marker": {
             "line": {
              "color": "#E5ECF6",
              "width": 0.5
             },
             "pattern": {
              "fillmode": "overlay",
              "size": 10,
              "solidity": 0.2
             }
            },
            "type": "barpolar"
           }
          ],
          "carpet": [
           {
            "aaxis": {
             "endlinecolor": "#2a3f5f",
             "gridcolor": "white",
             "linecolor": "white",
             "minorgridcolor": "white",
             "startlinecolor": "#2a3f5f"
            },
            "baxis": {
             "endlinecolor": "#2a3f5f",
             "gridcolor": "white",
             "linecolor": "white",
             "minorgridcolor": "white",
             "startlinecolor": "#2a3f5f"
            },
            "type": "carpet"
           }
          ],
          "choropleth": [
           {
            "colorbar": {
             "outlinewidth": 0,
             "ticks": ""
            },
            "type": "choropleth"
           }
          ],
          "contour": [
           {
            "colorbar": {
             "outlinewidth": 0,
             "ticks": ""
            },
            "colorscale": [
             [
              0,
              "#0d0887"
             ],
             [
              0.1111111111111111,
              "#46039f"
             ],
             [
              0.2222222222222222,
              "#7201a8"
             ],
             [
              0.3333333333333333,
              "#9c179e"
             ],
             [
              0.4444444444444444,
              "#bd3786"
             ],
             [
              0.5555555555555556,
              "#d8576b"
             ],
             [
              0.6666666666666666,
              "#ed7953"
             ],
             [
              0.7777777777777778,
              "#fb9f3a"
             ],
             [
              0.8888888888888888,
              "#fdca26"
             ],
             [
              1,
              "#f0f921"
             ]
            ],
            "type": "contour"
           }
          ],
          "contourcarpet": [
           {
            "colorbar": {
             "outlinewidth": 0,
             "ticks": ""
            },
            "type": "contourcarpet"
           }
          ],
          "heatmap": [
           {
            "colorbar": {
             "outlinewidth": 0,
             "ticks": ""
            },
            "colorscale": [
             [
              0,
              "#0d0887"
             ],
             [
              0.1111111111111111,
              "#46039f"
             ],
             [
              0.2222222222222222,
              "#7201a8"
             ],
             [
              0.3333333333333333,
              "#9c179e"
             ],
             [
              0.4444444444444444,
              "#bd3786"
             ],
             [
              0.5555555555555556,
              "#d8576b"
             ],
             [
              0.6666666666666666,
              "#ed7953"
             ],
             [
              0.7777777777777778,
              "#fb9f3a"
             ],
             [
              0.8888888888888888,
              "#fdca26"
             ],
             [
              1,
              "#f0f921"
             ]
            ],
            "type": "heatmap"
           }
          ],
          "heatmapgl": [
           {
            "colorbar": {
             "outlinewidth": 0,
             "ticks": ""
            },
            "colorscale": [
             [
              0,
              "#0d0887"
             ],
             [
              0.1111111111111111,
              "#46039f"
             ],
             [
              0.2222222222222222,
              "#7201a8"
             ],
             [
              0.3333333333333333,
              "#9c179e"
             ],
             [
              0.4444444444444444,
              "#bd3786"
             ],
             [
              0.5555555555555556,
              "#d8576b"
             ],
             [
              0.6666666666666666,
              "#ed7953"
             ],
             [
              0.7777777777777778,
              "#fb9f3a"
             ],
             [
              0.8888888888888888,
              "#fdca26"
             ],
             [
              1,
              "#f0f921"
             ]
            ],
            "type": "heatmapgl"
           }
          ],
          "histogram": [
           {
            "marker": {
             "pattern": {
              "fillmode": "overlay",
              "size": 10,
              "solidity": 0.2
             }
            },
            "type": "histogram"
           }
          ],
          "histogram2d": [
           {
            "colorbar": {
             "outlinewidth": 0,
             "ticks": ""
            },
            "colorscale": [
             [
              0,
              "#0d0887"
             ],
             [
              0.1111111111111111,
              "#46039f"
             ],
             [
              0.2222222222222222,
              "#7201a8"
             ],
             [
              0.3333333333333333,
              "#9c179e"
             ],
             [
              0.4444444444444444,
              "#bd3786"
             ],
             [
              0.5555555555555556,
              "#d8576b"
             ],
             [
              0.6666666666666666,
              "#ed7953"
             ],
             [
              0.7777777777777778,
              "#fb9f3a"
             ],
             [
              0.8888888888888888,
              "#fdca26"
             ],
             [
              1,
              "#f0f921"
             ]
            ],
            "type": "histogram2d"
           }
          ],
          "histogram2dcontour": [
           {
            "colorbar": {
             "outlinewidth": 0,
             "ticks": ""
            },
            "colorscale": [
             [
              0,
              "#0d0887"
             ],
             [
              0.1111111111111111,
              "#46039f"
             ],
             [
              0.2222222222222222,
              "#7201a8"
             ],
             [
              0.3333333333333333,
              "#9c179e"
             ],
             [
              0.4444444444444444,
              "#bd3786"
             ],
             [
              0.5555555555555556,
              "#d8576b"
             ],
             [
              0.6666666666666666,
              "#ed7953"
             ],
             [
              0.7777777777777778,
              "#fb9f3a"
             ],
             [
              0.8888888888888888,
              "#fdca26"
             ],
             [
              1,
              "#f0f921"
             ]
            ],
            "type": "histogram2dcontour"
           }
          ],
          "mesh3d": [
           {
            "colorbar": {
             "outlinewidth": 0,
             "ticks": ""
            },
            "type": "mesh3d"
           }
          ],
          "parcoords": [
           {
            "line": {
             "colorbar": {
              "outlinewidth": 0,
              "ticks": ""
             }
            },
            "type": "parcoords"
           }
          ],
          "pie": [
           {
            "automargin": true,
            "type": "pie"
           }
          ],
          "scatter": [
           {
            "fillpattern": {
             "fillmode": "overlay",
             "size": 10,
             "solidity": 0.2
            },
            "type": "scatter"
           }
          ],
          "scatter3d": [
           {
            "line": {
             "colorbar": {
              "outlinewidth": 0,
              "ticks": ""
             }
            },
            "marker": {
             "colorbar": {
              "outlinewidth": 0,
              "ticks": ""
             }
            },
            "type": "scatter3d"
           }
          ],
          "scattercarpet": [
           {
            "marker": {
             "colorbar": {
              "outlinewidth": 0,
              "ticks": ""
             }
            },
            "type": "scattercarpet"
           }
          ],
          "scattergeo": [
           {
            "marker": {
             "colorbar": {
              "outlinewidth": 0,
              "ticks": ""
             }
            },
            "type": "scattergeo"
           }
          ],
          "scattergl": [
           {
            "marker": {
             "colorbar": {
              "outlinewidth": 0,
              "ticks": ""
             }
            },
            "type": "scattergl"
           }
          ],
          "scattermapbox": [
           {
            "marker": {
             "colorbar": {
              "outlinewidth": 0,
              "ticks": ""
             }
            },
            "type": "scattermapbox"
           }
          ],
          "scatterpolar": [
           {
            "marker": {
             "colorbar": {
              "outlinewidth": 0,
              "ticks": ""
             }
            },
            "type": "scatterpolar"
           }
          ],
          "scatterpolargl": [
           {
            "marker": {
             "colorbar": {
              "outlinewidth": 0,
              "ticks": ""
             }
            },
            "type": "scatterpolargl"
           }
          ],
          "scatterternary": [
           {
            "marker": {
             "colorbar": {
              "outlinewidth": 0,
              "ticks": ""
             }
            },
            "type": "scatterternary"
           }
          ],
          "surface": [
           {
            "colorbar": {
             "outlinewidth": 0,
             "ticks": ""
            },
            "colorscale": [
             [
              0,
              "#0d0887"
             ],
             [
              0.1111111111111111,
              "#46039f"
             ],
             [
              0.2222222222222222,
              "#7201a8"
             ],
             [
              0.3333333333333333,
              "#9c179e"
             ],
             [
              0.4444444444444444,
              "#bd3786"
             ],
             [
              0.5555555555555556,
              "#d8576b"
             ],
             [
              0.6666666666666666,
              "#ed7953"
             ],
             [
              0.7777777777777778,
              "#fb9f3a"
             ],
             [
              0.8888888888888888,
              "#fdca26"
             ],
             [
              1,
              "#f0f921"
             ]
            ],
            "type": "surface"
           }
          ],
          "table": [
           {
            "cells": {
             "fill": {
              "color": "#EBF0F8"
             },
             "line": {
              "color": "white"
             }
            },
            "header": {
             "fill": {
              "color": "#C8D4E3"
             },
             "line": {
              "color": "white"
             }
            },
            "type": "table"
           }
          ]
         },
         "layout": {
          "annotationdefaults": {
           "arrowcolor": "#2a3f5f",
           "arrowhead": 0,
           "arrowwidth": 1
          },
          "autotypenumbers": "strict",
          "coloraxis": {
           "colorbar": {
            "outlinewidth": 0,
            "ticks": ""
           }
          },
          "colorscale": {
           "diverging": [
            [
             0,
             "#8e0152"
            ],
            [
             0.1,
             "#c51b7d"
            ],
            [
             0.2,
             "#de77ae"
            ],
            [
             0.3,
             "#f1b6da"
            ],
            [
             0.4,
             "#fde0ef"
            ],
            [
             0.5,
             "#f7f7f7"
            ],
            [
             0.6,
             "#e6f5d0"
            ],
            [
             0.7,
             "#b8e186"
            ],
            [
             0.8,
             "#7fbc41"
            ],
            [
             0.9,
             "#4d9221"
            ],
            [
             1,
             "#276419"
            ]
           ],
           "sequential": [
            [
             0,
             "#0d0887"
            ],
            [
             0.1111111111111111,
             "#46039f"
            ],
            [
             0.2222222222222222,
             "#7201a8"
            ],
            [
             0.3333333333333333,
             "#9c179e"
            ],
            [
             0.4444444444444444,
             "#bd3786"
            ],
            [
             0.5555555555555556,
             "#d8576b"
            ],
            [
             0.6666666666666666,
             "#ed7953"
            ],
            [
             0.7777777777777778,
             "#fb9f3a"
            ],
            [
             0.8888888888888888,
             "#fdca26"
            ],
            [
             1,
             "#f0f921"
            ]
           ],
           "sequentialminus": [
            [
             0,
             "#0d0887"
            ],
            [
             0.1111111111111111,
             "#46039f"
            ],
            [
             0.2222222222222222,
             "#7201a8"
            ],
            [
             0.3333333333333333,
             "#9c179e"
            ],
            [
             0.4444444444444444,
             "#bd3786"
            ],
            [
             0.5555555555555556,
             "#d8576b"
            ],
            [
             0.6666666666666666,
             "#ed7953"
            ],
            [
             0.7777777777777778,
             "#fb9f3a"
            ],
            [
             0.8888888888888888,
             "#fdca26"
            ],
            [
             1,
             "#f0f921"
            ]
           ]
          },
          "colorway": [
           "#636efa",
           "#EF553B",
           "#00cc96",
           "#ab63fa",
           "#FFA15A",
           "#19d3f3",
           "#FF6692",
           "#B6E880",
           "#FF97FF",
           "#FECB52"
          ],
          "font": {
           "color": "#2a3f5f"
          },
          "geo": {
           "bgcolor": "white",
           "lakecolor": "white",
           "landcolor": "#E5ECF6",
           "showlakes": true,
           "showland": true,
           "subunitcolor": "white"
          },
          "hoverlabel": {
           "align": "left"
          },
          "hovermode": "closest",
          "mapbox": {
           "style": "light"
          },
          "paper_bgcolor": "white",
          "plot_bgcolor": "#E5ECF6",
          "polar": {
           "angularaxis": {
            "gridcolor": "white",
            "linecolor": "white",
            "ticks": ""
           },
           "bgcolor": "#E5ECF6",
           "radialaxis": {
            "gridcolor": "white",
            "linecolor": "white",
            "ticks": ""
           }
          },
          "scene": {
           "xaxis": {
            "backgroundcolor": "#E5ECF6",
            "gridcolor": "white",
            "gridwidth": 2,
            "linecolor": "white",
            "showbackground": true,
            "ticks": "",
            "zerolinecolor": "white"
           },
           "yaxis": {
            "backgroundcolor": "#E5ECF6",
            "gridcolor": "white",
            "gridwidth": 2,
            "linecolor": "white",
            "showbackground": true,
            "ticks": "",
            "zerolinecolor": "white"
           },
           "zaxis": {
            "backgroundcolor": "#E5ECF6",
            "gridcolor": "white",
            "gridwidth": 2,
            "linecolor": "white",
            "showbackground": true,
            "ticks": "",
            "zerolinecolor": "white"
           }
          },
          "shapedefaults": {
           "line": {
            "color": "#2a3f5f"
           }
          },
          "ternary": {
           "aaxis": {
            "gridcolor": "white",
            "linecolor": "white",
            "ticks": ""
           },
           "baxis": {
            "gridcolor": "white",
            "linecolor": "white",
            "ticks": ""
           },
           "bgcolor": "#E5ECF6",
           "caxis": {
            "gridcolor": "white",
            "linecolor": "white",
            "ticks": ""
           }
          },
          "title": {
           "x": 0.05
          },
          "xaxis": {
           "automargin": true,
           "gridcolor": "white",
           "linecolor": "white",
           "ticks": "",
           "title": {
            "standoff": 15
           },
           "zerolinecolor": "white",
           "zerolinewidth": 2
          },
          "yaxis": {
           "automargin": true,
           "gridcolor": "white",
           "linecolor": "white",
           "ticks": "",
           "title": {
            "standoff": 15
           },
           "zerolinecolor": "white",
           "zerolinewidth": 2
          }
         }
        }
       }
      }
     },
     "metadata": {},
     "output_type": "display_data"
    }
   ],
   "source": [
    "ages = df['age'].unique()\n",
    "ages = ages[~np.isnan(ages)]\n",
    "\n",
    "fig = go.Figure()\n",
    "# Iterate through each device \n",
    "for d in ages:\n",
    "    # Find the subset of the data with that device\n",
    "    tmp_df = df[df['age'] == d]\n",
    "\n",
    "    # Create a dict object with 0 counts for all topics\n",
    "    ages_daily_activity = {}\n",
    "    for i in tmp_df.index:\n",
    "        # Find that index\n",
    "        tmp_timestamp = df['impression_time'][i]\n",
    "        tmp_datetime = tmp_timestamp\n",
    "        tmp_date = tmp_datetime.strftime('%m/%d/%Y')\n",
    "\n",
    "        # Daily Activity\n",
    "        if tmp_date not in ages_daily_activity:\n",
    "            ages_daily_activity[tmp_date] = 0\n",
    "        else:\n",
    "            ages_daily_activity[tmp_date] +=1\n",
    "        \n",
    "    \n",
    "    # Sort by dates\n",
    "    ages_daily_activity = dict(sorted(ages_daily_activity.items()))\n",
    "\n",
    "    # Add trace\n",
    "    fig.add_trace(go.Bar(x= [x for x in ages_daily_activity.keys()], y = [y for y in ages_daily_activity.values()], textfont_size=20))\n",
    "\n",
    "\n",
    "\n",
    "    # Overlay both histograms\n",
    "    #fig.update_layout(barmode='overlay')\n",
    "    # Reduce opacity to see both histograms\n",
    "fig.update_traces(opacity=0.75)\n",
    "fig.show()"
   ]
  },
  {
   "cell_type": "markdown",
   "id": "1923aded",
   "metadata": {},
   "source": [
    "#### Hourly Activity"
   ]
  },
  {
   "cell_type": "code",
   "execution_count": 10,
   "id": "41764352",
   "metadata": {},
   "outputs": [
    {
     "data": {
      "application/vnd.plotly.v1+json": {
       "config": {
        "plotlyServerURL": "https://plot.ly"
       },
       "data": [
        {
         "opacity": 0.75,
         "textfont": {
          "size": 20
         },
         "type": "bar",
         "x": [
          "00",
          "01",
          "02",
          "03",
          "04",
          "05",
          "06",
          "07",
          "08",
          "09",
          "10",
          "11",
          "12",
          "13",
          "14",
          "15",
          "16",
          "17",
          "18",
          "19",
          "20",
          "21",
          "22",
          "23"
         ],
         "y": [
          5,
          10,
          10,
          16,
          73,
          27,
          38,
          40,
          32,
          24,
          17,
          46,
          33,
          30,
          24,
          20,
          45,
          33,
          26,
          28,
          21,
          15,
          4,
          3
         ]
        },
        {
         "opacity": 0.75,
         "textfont": {
          "size": 20
         },
         "type": "bar",
         "x": [
          "00",
          "01",
          "02",
          "03",
          "04",
          "05",
          "06",
          "07",
          "08",
          "09",
          "10",
          "11",
          "12",
          "13",
          "14",
          "15",
          "16",
          "17",
          "18",
          "19",
          "20",
          "21",
          "22",
          "23"
         ],
         "y": [
          3,
          4,
          6,
          12,
          39,
          34,
          61,
          31,
          29,
          22,
          27,
          19,
          37,
          39,
          42,
          11,
          25,
          52,
          52,
          31,
          34,
          40,
          7,
          14
         ]
        },
        {
         "opacity": 0.75,
         "textfont": {
          "size": 20
         },
         "type": "bar",
         "x": [
          "06",
          "07",
          "08",
          "13",
          "15",
          "17",
          "19",
          "21",
          "22"
         ],
         "y": [
          2,
          11,
          5,
          4,
          3,
          1,
          0,
          7,
          1
         ]
        },
        {
         "opacity": 0.75,
         "textfont": {
          "size": 20
         },
         "type": "bar",
         "x": [
          "02",
          "03",
          "04",
          "05",
          "06",
          "07",
          "08",
          "09",
          "10",
          "11",
          "12",
          "13",
          "14",
          "15",
          "16",
          "17",
          "18",
          "19",
          "20",
          "21",
          "22",
          "23"
         ],
         "y": [
          4,
          3,
          23,
          36,
          39,
          74,
          34,
          39,
          13,
          7,
          41,
          35,
          17,
          13,
          31,
          48,
          18,
          19,
          14,
          18,
          40,
          8
         ]
        },
        {
         "opacity": 0.75,
         "textfont": {
          "size": 20
         },
         "type": "bar",
         "x": [
          "00",
          "01",
          "02",
          "03",
          "04",
          "05",
          "06",
          "07",
          "08",
          "09",
          "10",
          "11",
          "12",
          "13",
          "14",
          "15",
          "16",
          "17",
          "18",
          "19",
          "20",
          "21",
          "22",
          "23"
         ],
         "y": [
          1,
          0,
          4,
          7,
          6,
          13,
          22,
          9,
          10,
          13,
          11,
          6,
          13,
          12,
          10,
          7,
          24,
          12,
          13,
          18,
          3,
          8,
          2,
          0
         ]
        },
        {
         "opacity": 0.75,
         "textfont": {
          "size": 20
         },
         "type": "bar",
         "x": [
          "00",
          "01",
          "03",
          "05",
          "06",
          "07",
          "08",
          "09",
          "10",
          "11",
          "12",
          "13",
          "14",
          "15",
          "16",
          "17",
          "18",
          "19",
          "20",
          "21"
         ],
         "y": [
          1,
          3,
          0,
          8,
          2,
          6,
          6,
          1,
          5,
          4,
          6,
          4,
          1,
          0,
          2,
          11,
          6,
          9,
          2,
          0
         ]
        },
        {
         "opacity": 0.75,
         "textfont": {
          "size": 20
         },
         "type": "bar",
         "x": [
          "04",
          "05",
          "06",
          "07",
          "08",
          "09",
          "10",
          "11",
          "12",
          "13",
          "14",
          "15",
          "17",
          "18",
          "19",
          "20",
          "21"
         ],
         "y": [
          2,
          1,
          7,
          0,
          0,
          2,
          5,
          0,
          5,
          4,
          9,
          5,
          5,
          11,
          11,
          10,
          1
         ]
        },
        {
         "opacity": 0.75,
         "textfont": {
          "size": 20
         },
         "type": "bar",
         "x": [
          "08",
          "11",
          "12",
          "13",
          "14",
          "19"
         ],
         "y": [
          5,
          2,
          1,
          1,
          1,
          15
         ]
        }
       ],
       "layout": {
        "template": {
         "data": {
          "bar": [
           {
            "error_x": {
             "color": "#2a3f5f"
            },
            "error_y": {
             "color": "#2a3f5f"
            },
            "marker": {
             "line": {
              "color": "#E5ECF6",
              "width": 0.5
             },
             "pattern": {
              "fillmode": "overlay",
              "size": 10,
              "solidity": 0.2
             }
            },
            "type": "bar"
           }
          ],
          "barpolar": [
           {
            "marker": {
             "line": {
              "color": "#E5ECF6",
              "width": 0.5
             },
             "pattern": {
              "fillmode": "overlay",
              "size": 10,
              "solidity": 0.2
             }
            },
            "type": "barpolar"
           }
          ],
          "carpet": [
           {
            "aaxis": {
             "endlinecolor": "#2a3f5f",
             "gridcolor": "white",
             "linecolor": "white",
             "minorgridcolor": "white",
             "startlinecolor": "#2a3f5f"
            },
            "baxis": {
             "endlinecolor": "#2a3f5f",
             "gridcolor": "white",
             "linecolor": "white",
             "minorgridcolor": "white",
             "startlinecolor": "#2a3f5f"
            },
            "type": "carpet"
           }
          ],
          "choropleth": [
           {
            "colorbar": {
             "outlinewidth": 0,
             "ticks": ""
            },
            "type": "choropleth"
           }
          ],
          "contour": [
           {
            "colorbar": {
             "outlinewidth": 0,
             "ticks": ""
            },
            "colorscale": [
             [
              0,
              "#0d0887"
             ],
             [
              0.1111111111111111,
              "#46039f"
             ],
             [
              0.2222222222222222,
              "#7201a8"
             ],
             [
              0.3333333333333333,
              "#9c179e"
             ],
             [
              0.4444444444444444,
              "#bd3786"
             ],
             [
              0.5555555555555556,
              "#d8576b"
             ],
             [
              0.6666666666666666,
              "#ed7953"
             ],
             [
              0.7777777777777778,
              "#fb9f3a"
             ],
             [
              0.8888888888888888,
              "#fdca26"
             ],
             [
              1,
              "#f0f921"
             ]
            ],
            "type": "contour"
           }
          ],
          "contourcarpet": [
           {
            "colorbar": {
             "outlinewidth": 0,
             "ticks": ""
            },
            "type": "contourcarpet"
           }
          ],
          "heatmap": [
           {
            "colorbar": {
             "outlinewidth": 0,
             "ticks": ""
            },
            "colorscale": [
             [
              0,
              "#0d0887"
             ],
             [
              0.1111111111111111,
              "#46039f"
             ],
             [
              0.2222222222222222,
              "#7201a8"
             ],
             [
              0.3333333333333333,
              "#9c179e"
             ],
             [
              0.4444444444444444,
              "#bd3786"
             ],
             [
              0.5555555555555556,
              "#d8576b"
             ],
             [
              0.6666666666666666,
              "#ed7953"
             ],
             [
              0.7777777777777778,
              "#fb9f3a"
             ],
             [
              0.8888888888888888,
              "#fdca26"
             ],
             [
              1,
              "#f0f921"
             ]
            ],
            "type": "heatmap"
           }
          ],
          "heatmapgl": [
           {
            "colorbar": {
             "outlinewidth": 0,
             "ticks": ""
            },
            "colorscale": [
             [
              0,
              "#0d0887"
             ],
             [
              0.1111111111111111,
              "#46039f"
             ],
             [
              0.2222222222222222,
              "#7201a8"
             ],
             [
              0.3333333333333333,
              "#9c179e"
             ],
             [
              0.4444444444444444,
              "#bd3786"
             ],
             [
              0.5555555555555556,
              "#d8576b"
             ],
             [
              0.6666666666666666,
              "#ed7953"
             ],
             [
              0.7777777777777778,
              "#fb9f3a"
             ],
             [
              0.8888888888888888,
              "#fdca26"
             ],
             [
              1,
              "#f0f921"
             ]
            ],
            "type": "heatmapgl"
           }
          ],
          "histogram": [
           {
            "marker": {
             "pattern": {
              "fillmode": "overlay",
              "size": 10,
              "solidity": 0.2
             }
            },
            "type": "histogram"
           }
          ],
          "histogram2d": [
           {
            "colorbar": {
             "outlinewidth": 0,
             "ticks": ""
            },
            "colorscale": [
             [
              0,
              "#0d0887"
             ],
             [
              0.1111111111111111,
              "#46039f"
             ],
             [
              0.2222222222222222,
              "#7201a8"
             ],
             [
              0.3333333333333333,
              "#9c179e"
             ],
             [
              0.4444444444444444,
              "#bd3786"
             ],
             [
              0.5555555555555556,
              "#d8576b"
             ],
             [
              0.6666666666666666,
              "#ed7953"
             ],
             [
              0.7777777777777778,
              "#fb9f3a"
             ],
             [
              0.8888888888888888,
              "#fdca26"
             ],
             [
              1,
              "#f0f921"
             ]
            ],
            "type": "histogram2d"
           }
          ],
          "histogram2dcontour": [
           {
            "colorbar": {
             "outlinewidth": 0,
             "ticks": ""
            },
            "colorscale": [
             [
              0,
              "#0d0887"
             ],
             [
              0.1111111111111111,
              "#46039f"
             ],
             [
              0.2222222222222222,
              "#7201a8"
             ],
             [
              0.3333333333333333,
              "#9c179e"
             ],
             [
              0.4444444444444444,
              "#bd3786"
             ],
             [
              0.5555555555555556,
              "#d8576b"
             ],
             [
              0.6666666666666666,
              "#ed7953"
             ],
             [
              0.7777777777777778,
              "#fb9f3a"
             ],
             [
              0.8888888888888888,
              "#fdca26"
             ],
             [
              1,
              "#f0f921"
             ]
            ],
            "type": "histogram2dcontour"
           }
          ],
          "mesh3d": [
           {
            "colorbar": {
             "outlinewidth": 0,
             "ticks": ""
            },
            "type": "mesh3d"
           }
          ],
          "parcoords": [
           {
            "line": {
             "colorbar": {
              "outlinewidth": 0,
              "ticks": ""
             }
            },
            "type": "parcoords"
           }
          ],
          "pie": [
           {
            "automargin": true,
            "type": "pie"
           }
          ],
          "scatter": [
           {
            "fillpattern": {
             "fillmode": "overlay",
             "size": 10,
             "solidity": 0.2
            },
            "type": "scatter"
           }
          ],
          "scatter3d": [
           {
            "line": {
             "colorbar": {
              "outlinewidth": 0,
              "ticks": ""
             }
            },
            "marker": {
             "colorbar": {
              "outlinewidth": 0,
              "ticks": ""
             }
            },
            "type": "scatter3d"
           }
          ],
          "scattercarpet": [
           {
            "marker": {
             "colorbar": {
              "outlinewidth": 0,
              "ticks": ""
             }
            },
            "type": "scattercarpet"
           }
          ],
          "scattergeo": [
           {
            "marker": {
             "colorbar": {
              "outlinewidth": 0,
              "ticks": ""
             }
            },
            "type": "scattergeo"
           }
          ],
          "scattergl": [
           {
            "marker": {
             "colorbar": {
              "outlinewidth": 0,
              "ticks": ""
             }
            },
            "type": "scattergl"
           }
          ],
          "scattermapbox": [
           {
            "marker": {
             "colorbar": {
              "outlinewidth": 0,
              "ticks": ""
             }
            },
            "type": "scattermapbox"
           }
          ],
          "scatterpolar": [
           {
            "marker": {
             "colorbar": {
              "outlinewidth": 0,
              "ticks": ""
             }
            },
            "type": "scatterpolar"
           }
          ],
          "scatterpolargl": [
           {
            "marker": {
             "colorbar": {
              "outlinewidth": 0,
              "ticks": ""
             }
            },
            "type": "scatterpolargl"
           }
          ],
          "scatterternary": [
           {
            "marker": {
             "colorbar": {
              "outlinewidth": 0,
              "ticks": ""
             }
            },
            "type": "scatterternary"
           }
          ],
          "surface": [
           {
            "colorbar": {
             "outlinewidth": 0,
             "ticks": ""
            },
            "colorscale": [
             [
              0,
              "#0d0887"
             ],
             [
              0.1111111111111111,
              "#46039f"
             ],
             [
              0.2222222222222222,
              "#7201a8"
             ],
             [
              0.3333333333333333,
              "#9c179e"
             ],
             [
              0.4444444444444444,
              "#bd3786"
             ],
             [
              0.5555555555555556,
              "#d8576b"
             ],
             [
              0.6666666666666666,
              "#ed7953"
             ],
             [
              0.7777777777777778,
              "#fb9f3a"
             ],
             [
              0.8888888888888888,
              "#fdca26"
             ],
             [
              1,
              "#f0f921"
             ]
            ],
            "type": "surface"
           }
          ],
          "table": [
           {
            "cells": {
             "fill": {
              "color": "#EBF0F8"
             },
             "line": {
              "color": "white"
             }
            },
            "header": {
             "fill": {
              "color": "#C8D4E3"
             },
             "line": {
              "color": "white"
             }
            },
            "type": "table"
           }
          ]
         },
         "layout": {
          "annotationdefaults": {
           "arrowcolor": "#2a3f5f",
           "arrowhead": 0,
           "arrowwidth": 1
          },
          "autotypenumbers": "strict",
          "coloraxis": {
           "colorbar": {
            "outlinewidth": 0,
            "ticks": ""
           }
          },
          "colorscale": {
           "diverging": [
            [
             0,
             "#8e0152"
            ],
            [
             0.1,
             "#c51b7d"
            ],
            [
             0.2,
             "#de77ae"
            ],
            [
             0.3,
             "#f1b6da"
            ],
            [
             0.4,
             "#fde0ef"
            ],
            [
             0.5,
             "#f7f7f7"
            ],
            [
             0.6,
             "#e6f5d0"
            ],
            [
             0.7,
             "#b8e186"
            ],
            [
             0.8,
             "#7fbc41"
            ],
            [
             0.9,
             "#4d9221"
            ],
            [
             1,
             "#276419"
            ]
           ],
           "sequential": [
            [
             0,
             "#0d0887"
            ],
            [
             0.1111111111111111,
             "#46039f"
            ],
            [
             0.2222222222222222,
             "#7201a8"
            ],
            [
             0.3333333333333333,
             "#9c179e"
            ],
            [
             0.4444444444444444,
             "#bd3786"
            ],
            [
             0.5555555555555556,
             "#d8576b"
            ],
            [
             0.6666666666666666,
             "#ed7953"
            ],
            [
             0.7777777777777778,
             "#fb9f3a"
            ],
            [
             0.8888888888888888,
             "#fdca26"
            ],
            [
             1,
             "#f0f921"
            ]
           ],
           "sequentialminus": [
            [
             0,
             "#0d0887"
            ],
            [
             0.1111111111111111,
             "#46039f"
            ],
            [
             0.2222222222222222,
             "#7201a8"
            ],
            [
             0.3333333333333333,
             "#9c179e"
            ],
            [
             0.4444444444444444,
             "#bd3786"
            ],
            [
             0.5555555555555556,
             "#d8576b"
            ],
            [
             0.6666666666666666,
             "#ed7953"
            ],
            [
             0.7777777777777778,
             "#fb9f3a"
            ],
            [
             0.8888888888888888,
             "#fdca26"
            ],
            [
             1,
             "#f0f921"
            ]
           ]
          },
          "colorway": [
           "#636efa",
           "#EF553B",
           "#00cc96",
           "#ab63fa",
           "#FFA15A",
           "#19d3f3",
           "#FF6692",
           "#B6E880",
           "#FF97FF",
           "#FECB52"
          ],
          "font": {
           "color": "#2a3f5f"
          },
          "geo": {
           "bgcolor": "white",
           "lakecolor": "white",
           "landcolor": "#E5ECF6",
           "showlakes": true,
           "showland": true,
           "subunitcolor": "white"
          },
          "hoverlabel": {
           "align": "left"
          },
          "hovermode": "closest",
          "mapbox": {
           "style": "light"
          },
          "paper_bgcolor": "white",
          "plot_bgcolor": "#E5ECF6",
          "polar": {
           "angularaxis": {
            "gridcolor": "white",
            "linecolor": "white",
            "ticks": ""
           },
           "bgcolor": "#E5ECF6",
           "radialaxis": {
            "gridcolor": "white",
            "linecolor": "white",
            "ticks": ""
           }
          },
          "scene": {
           "xaxis": {
            "backgroundcolor": "#E5ECF6",
            "gridcolor": "white",
            "gridwidth": 2,
            "linecolor": "white",
            "showbackground": true,
            "ticks": "",
            "zerolinecolor": "white"
           },
           "yaxis": {
            "backgroundcolor": "#E5ECF6",
            "gridcolor": "white",
            "gridwidth": 2,
            "linecolor": "white",
            "showbackground": true,
            "ticks": "",
            "zerolinecolor": "white"
           },
           "zaxis": {
            "backgroundcolor": "#E5ECF6",
            "gridcolor": "white",
            "gridwidth": 2,
            "linecolor": "white",
            "showbackground": true,
            "ticks": "",
            "zerolinecolor": "white"
           }
          },
          "shapedefaults": {
           "line": {
            "color": "#2a3f5f"
           }
          },
          "ternary": {
           "aaxis": {
            "gridcolor": "white",
            "linecolor": "white",
            "ticks": ""
           },
           "baxis": {
            "gridcolor": "white",
            "linecolor": "white",
            "ticks": ""
           },
           "bgcolor": "#E5ECF6",
           "caxis": {
            "gridcolor": "white",
            "linecolor": "white",
            "ticks": ""
           }
          },
          "title": {
           "x": 0.05
          },
          "xaxis": {
           "automargin": true,
           "gridcolor": "white",
           "linecolor": "white",
           "ticks": "",
           "title": {
            "standoff": 15
           },
           "zerolinecolor": "white",
           "zerolinewidth": 2
          },
          "yaxis": {
           "automargin": true,
           "gridcolor": "white",
           "linecolor": "white",
           "ticks": "",
           "title": {
            "standoff": 15
           },
           "zerolinecolor": "white",
           "zerolinewidth": 2
          }
         }
        }
       }
      }
     },
     "metadata": {},
     "output_type": "display_data"
    }
   ],
   "source": [
    "ages = df['age'].unique()\n",
    "ages = ages[~np.isnan(ages)]\n",
    "\n",
    "fig = go.Figure()\n",
    "# Iterate through each device \n",
    "for d in ages:\n",
    "    # Find the subset of the data with that device\n",
    "    tmp_df = df[df['age'] == d]\n",
    "\n",
    "    # Create a dict object with 0 counts for all topics\n",
    "    ages_hourly_activity = {}\n",
    "    for i in tmp_df.index:\n",
    "        # Find that index\n",
    "        tmp_timestamp = df['impression_time'][i]\n",
    "        tmp_datetime = tmp_timestamp\n",
    "        tmp_time = tmp_datetime.strftime('%H')\n",
    "\n",
    "        # Daily Activity\n",
    "        if tmp_time not in ages_hourly_activity:\n",
    "            ages_hourly_activity[tmp_time] = 0\n",
    "        else:\n",
    "            ages_hourly_activity[tmp_time] +=1\n",
    "        \n",
    "    \n",
    "    # Sort by dates\n",
    "    ages_hourly_activity = dict(sorted(ages_hourly_activity.items()))\n",
    "\n",
    "    # Add trace\n",
    "    fig.add_trace(go.Bar(x= [x for x in ages_hourly_activity.keys()], y = [y for y in ages_hourly_activity.values()], textfont_size=20))\n",
    "\n",
    "\n",
    "\n",
    "    # Overlay both histograms\n",
    "    #fig.update_layout(barmode='overlay')\n",
    "    # Reduce opacity to see both histograms\n",
    "fig.update_traces(opacity=0.75)\n",
    "fig.show()"
   ]
  },
  {
   "cell_type": "markdown",
   "id": "06e40744",
   "metadata": {},
   "source": [
    "# Postcodes"
   ]
  },
  {
   "cell_type": "markdown",
   "id": "0b31209f",
   "metadata": {},
   "source": [
    "### Distribution of Post Codes"
   ]
  },
  {
   "cell_type": "code",
   "execution_count": 14,
   "id": "87f2646a",
   "metadata": {},
   "outputs": [
    {
     "data": {
      "application/vnd.plotly.v1+json": {
       "config": {
        "plotlyServerURL": "https://plot.ly"
       },
       "data": [
        {
         "opacity": 0.75,
         "textfont": {
          "size": 20
         },
         "type": "bar",
         "x": [
          0,
          1,
          4,
          3,
          2
         ],
         "y": [
          572,
          352,
          268,
          254,
          190
         ]
        }
       ],
       "layout": {
        "template": {
         "data": {
          "bar": [
           {
            "error_x": {
             "color": "#2a3f5f"
            },
            "error_y": {
             "color": "#2a3f5f"
            },
            "marker": {
             "line": {
              "color": "#E5ECF6",
              "width": 0.5
             },
             "pattern": {
              "fillmode": "overlay",
              "size": 10,
              "solidity": 0.2
             }
            },
            "type": "bar"
           }
          ],
          "barpolar": [
           {
            "marker": {
             "line": {
              "color": "#E5ECF6",
              "width": 0.5
             },
             "pattern": {
              "fillmode": "overlay",
              "size": 10,
              "solidity": 0.2
             }
            },
            "type": "barpolar"
           }
          ],
          "carpet": [
           {
            "aaxis": {
             "endlinecolor": "#2a3f5f",
             "gridcolor": "white",
             "linecolor": "white",
             "minorgridcolor": "white",
             "startlinecolor": "#2a3f5f"
            },
            "baxis": {
             "endlinecolor": "#2a3f5f",
             "gridcolor": "white",
             "linecolor": "white",
             "minorgridcolor": "white",
             "startlinecolor": "#2a3f5f"
            },
            "type": "carpet"
           }
          ],
          "choropleth": [
           {
            "colorbar": {
             "outlinewidth": 0,
             "ticks": ""
            },
            "type": "choropleth"
           }
          ],
          "contour": [
           {
            "colorbar": {
             "outlinewidth": 0,
             "ticks": ""
            },
            "colorscale": [
             [
              0,
              "#0d0887"
             ],
             [
              0.1111111111111111,
              "#46039f"
             ],
             [
              0.2222222222222222,
              "#7201a8"
             ],
             [
              0.3333333333333333,
              "#9c179e"
             ],
             [
              0.4444444444444444,
              "#bd3786"
             ],
             [
              0.5555555555555556,
              "#d8576b"
             ],
             [
              0.6666666666666666,
              "#ed7953"
             ],
             [
              0.7777777777777778,
              "#fb9f3a"
             ],
             [
              0.8888888888888888,
              "#fdca26"
             ],
             [
              1,
              "#f0f921"
             ]
            ],
            "type": "contour"
           }
          ],
          "contourcarpet": [
           {
            "colorbar": {
             "outlinewidth": 0,
             "ticks": ""
            },
            "type": "contourcarpet"
           }
          ],
          "heatmap": [
           {
            "colorbar": {
             "outlinewidth": 0,
             "ticks": ""
            },
            "colorscale": [
             [
              0,
              "#0d0887"
             ],
             [
              0.1111111111111111,
              "#46039f"
             ],
             [
              0.2222222222222222,
              "#7201a8"
             ],
             [
              0.3333333333333333,
              "#9c179e"
             ],
             [
              0.4444444444444444,
              "#bd3786"
             ],
             [
              0.5555555555555556,
              "#d8576b"
             ],
             [
              0.6666666666666666,
              "#ed7953"
             ],
             [
              0.7777777777777778,
              "#fb9f3a"
             ],
             [
              0.8888888888888888,
              "#fdca26"
             ],
             [
              1,
              "#f0f921"
             ]
            ],
            "type": "heatmap"
           }
          ],
          "heatmapgl": [
           {
            "colorbar": {
             "outlinewidth": 0,
             "ticks": ""
            },
            "colorscale": [
             [
              0,
              "#0d0887"
             ],
             [
              0.1111111111111111,
              "#46039f"
             ],
             [
              0.2222222222222222,
              "#7201a8"
             ],
             [
              0.3333333333333333,
              "#9c179e"
             ],
             [
              0.4444444444444444,
              "#bd3786"
             ],
             [
              0.5555555555555556,
              "#d8576b"
             ],
             [
              0.6666666666666666,
              "#ed7953"
             ],
             [
              0.7777777777777778,
              "#fb9f3a"
             ],
             [
              0.8888888888888888,
              "#fdca26"
             ],
             [
              1,
              "#f0f921"
             ]
            ],
            "type": "heatmapgl"
           }
          ],
          "histogram": [
           {
            "marker": {
             "pattern": {
              "fillmode": "overlay",
              "size": 10,
              "solidity": 0.2
             }
            },
            "type": "histogram"
           }
          ],
          "histogram2d": [
           {
            "colorbar": {
             "outlinewidth": 0,
             "ticks": ""
            },
            "colorscale": [
             [
              0,
              "#0d0887"
             ],
             [
              0.1111111111111111,
              "#46039f"
             ],
             [
              0.2222222222222222,
              "#7201a8"
             ],
             [
              0.3333333333333333,
              "#9c179e"
             ],
             [
              0.4444444444444444,
              "#bd3786"
             ],
             [
              0.5555555555555556,
              "#d8576b"
             ],
             [
              0.6666666666666666,
              "#ed7953"
             ],
             [
              0.7777777777777778,
              "#fb9f3a"
             ],
             [
              0.8888888888888888,
              "#fdca26"
             ],
             [
              1,
              "#f0f921"
             ]
            ],
            "type": "histogram2d"
           }
          ],
          "histogram2dcontour": [
           {
            "colorbar": {
             "outlinewidth": 0,
             "ticks": ""
            },
            "colorscale": [
             [
              0,
              "#0d0887"
             ],
             [
              0.1111111111111111,
              "#46039f"
             ],
             [
              0.2222222222222222,
              "#7201a8"
             ],
             [
              0.3333333333333333,
              "#9c179e"
             ],
             [
              0.4444444444444444,
              "#bd3786"
             ],
             [
              0.5555555555555556,
              "#d8576b"
             ],
             [
              0.6666666666666666,
              "#ed7953"
             ],
             [
              0.7777777777777778,
              "#fb9f3a"
             ],
             [
              0.8888888888888888,
              "#fdca26"
             ],
             [
              1,
              "#f0f921"
             ]
            ],
            "type": "histogram2dcontour"
           }
          ],
          "mesh3d": [
           {
            "colorbar": {
             "outlinewidth": 0,
             "ticks": ""
            },
            "type": "mesh3d"
           }
          ],
          "parcoords": [
           {
            "line": {
             "colorbar": {
              "outlinewidth": 0,
              "ticks": ""
             }
            },
            "type": "parcoords"
           }
          ],
          "pie": [
           {
            "automargin": true,
            "type": "pie"
           }
          ],
          "scatter": [
           {
            "fillpattern": {
             "fillmode": "overlay",
             "size": 10,
             "solidity": 0.2
            },
            "type": "scatter"
           }
          ],
          "scatter3d": [
           {
            "line": {
             "colorbar": {
              "outlinewidth": 0,
              "ticks": ""
             }
            },
            "marker": {
             "colorbar": {
              "outlinewidth": 0,
              "ticks": ""
             }
            },
            "type": "scatter3d"
           }
          ],
          "scattercarpet": [
           {
            "marker": {
             "colorbar": {
              "outlinewidth": 0,
              "ticks": ""
             }
            },
            "type": "scattercarpet"
           }
          ],
          "scattergeo": [
           {
            "marker": {
             "colorbar": {
              "outlinewidth": 0,
              "ticks": ""
             }
            },
            "type": "scattergeo"
           }
          ],
          "scattergl": [
           {
            "marker": {
             "colorbar": {
              "outlinewidth": 0,
              "ticks": ""
             }
            },
            "type": "scattergl"
           }
          ],
          "scattermapbox": [
           {
            "marker": {
             "colorbar": {
              "outlinewidth": 0,
              "ticks": ""
             }
            },
            "type": "scattermapbox"
           }
          ],
          "scatterpolar": [
           {
            "marker": {
             "colorbar": {
              "outlinewidth": 0,
              "ticks": ""
             }
            },
            "type": "scatterpolar"
           }
          ],
          "scatterpolargl": [
           {
            "marker": {
             "colorbar": {
              "outlinewidth": 0,
              "ticks": ""
             }
            },
            "type": "scatterpolargl"
           }
          ],
          "scatterternary": [
           {
            "marker": {
             "colorbar": {
              "outlinewidth": 0,
              "ticks": ""
             }
            },
            "type": "scatterternary"
           }
          ],
          "surface": [
           {
            "colorbar": {
             "outlinewidth": 0,
             "ticks": ""
            },
            "colorscale": [
             [
              0,
              "#0d0887"
             ],
             [
              0.1111111111111111,
              "#46039f"
             ],
             [
              0.2222222222222222,
              "#7201a8"
             ],
             [
              0.3333333333333333,
              "#9c179e"
             ],
             [
              0.4444444444444444,
              "#bd3786"
             ],
             [
              0.5555555555555556,
              "#d8576b"
             ],
             [
              0.6666666666666666,
              "#ed7953"
             ],
             [
              0.7777777777777778,
              "#fb9f3a"
             ],
             [
              0.8888888888888888,
              "#fdca26"
             ],
             [
              1,
              "#f0f921"
             ]
            ],
            "type": "surface"
           }
          ],
          "table": [
           {
            "cells": {
             "fill": {
              "color": "#EBF0F8"
             },
             "line": {
              "color": "white"
             }
            },
            "header": {
             "fill": {
              "color": "#C8D4E3"
             },
             "line": {
              "color": "white"
             }
            },
            "type": "table"
           }
          ]
         },
         "layout": {
          "annotationdefaults": {
           "arrowcolor": "#2a3f5f",
           "arrowhead": 0,
           "arrowwidth": 1
          },
          "autotypenumbers": "strict",
          "coloraxis": {
           "colorbar": {
            "outlinewidth": 0,
            "ticks": ""
           }
          },
          "colorscale": {
           "diverging": [
            [
             0,
             "#8e0152"
            ],
            [
             0.1,
             "#c51b7d"
            ],
            [
             0.2,
             "#de77ae"
            ],
            [
             0.3,
             "#f1b6da"
            ],
            [
             0.4,
             "#fde0ef"
            ],
            [
             0.5,
             "#f7f7f7"
            ],
            [
             0.6,
             "#e6f5d0"
            ],
            [
             0.7,
             "#b8e186"
            ],
            [
             0.8,
             "#7fbc41"
            ],
            [
             0.9,
             "#4d9221"
            ],
            [
             1,
             "#276419"
            ]
           ],
           "sequential": [
            [
             0,
             "#0d0887"
            ],
            [
             0.1111111111111111,
             "#46039f"
            ],
            [
             0.2222222222222222,
             "#7201a8"
            ],
            [
             0.3333333333333333,
             "#9c179e"
            ],
            [
             0.4444444444444444,
             "#bd3786"
            ],
            [
             0.5555555555555556,
             "#d8576b"
            ],
            [
             0.6666666666666666,
             "#ed7953"
            ],
            [
             0.7777777777777778,
             "#fb9f3a"
            ],
            [
             0.8888888888888888,
             "#fdca26"
            ],
            [
             1,
             "#f0f921"
            ]
           ],
           "sequentialminus": [
            [
             0,
             "#0d0887"
            ],
            [
             0.1111111111111111,
             "#46039f"
            ],
            [
             0.2222222222222222,
             "#7201a8"
            ],
            [
             0.3333333333333333,
             "#9c179e"
            ],
            [
             0.4444444444444444,
             "#bd3786"
            ],
            [
             0.5555555555555556,
             "#d8576b"
            ],
            [
             0.6666666666666666,
             "#ed7953"
            ],
            [
             0.7777777777777778,
             "#fb9f3a"
            ],
            [
             0.8888888888888888,
             "#fdca26"
            ],
            [
             1,
             "#f0f921"
            ]
           ]
          },
          "colorway": [
           "#636efa",
           "#EF553B",
           "#00cc96",
           "#ab63fa",
           "#FFA15A",
           "#19d3f3",
           "#FF6692",
           "#B6E880",
           "#FF97FF",
           "#FECB52"
          ],
          "font": {
           "color": "#2a3f5f"
          },
          "geo": {
           "bgcolor": "white",
           "lakecolor": "white",
           "landcolor": "#E5ECF6",
           "showlakes": true,
           "showland": true,
           "subunitcolor": "white"
          },
          "hoverlabel": {
           "align": "left"
          },
          "hovermode": "closest",
          "mapbox": {
           "style": "light"
          },
          "paper_bgcolor": "white",
          "plot_bgcolor": "#E5ECF6",
          "polar": {
           "angularaxis": {
            "gridcolor": "white",
            "linecolor": "white",
            "ticks": ""
           },
           "bgcolor": "#E5ECF6",
           "radialaxis": {
            "gridcolor": "white",
            "linecolor": "white",
            "ticks": ""
           }
          },
          "scene": {
           "xaxis": {
            "backgroundcolor": "#E5ECF6",
            "gridcolor": "white",
            "gridwidth": 2,
            "linecolor": "white",
            "showbackground": true,
            "ticks": "",
            "zerolinecolor": "white"
           },
           "yaxis": {
            "backgroundcolor": "#E5ECF6",
            "gridcolor": "white",
            "gridwidth": 2,
            "linecolor": "white",
            "showbackground": true,
            "ticks": "",
            "zerolinecolor": "white"
           },
           "zaxis": {
            "backgroundcolor": "#E5ECF6",
            "gridcolor": "white",
            "gridwidth": 2,
            "linecolor": "white",
            "showbackground": true,
            "ticks": "",
            "zerolinecolor": "white"
           }
          },
          "shapedefaults": {
           "line": {
            "color": "#2a3f5f"
           }
          },
          "ternary": {
           "aaxis": {
            "gridcolor": "white",
            "linecolor": "white",
            "ticks": ""
           },
           "baxis": {
            "gridcolor": "white",
            "linecolor": "white",
            "ticks": ""
           },
           "bgcolor": "#E5ECF6",
           "caxis": {
            "gridcolor": "white",
            "linecolor": "white",
            "ticks": ""
           }
          },
          "title": {
           "x": 0.05
          },
          "xaxis": {
           "automargin": true,
           "gridcolor": "white",
           "linecolor": "white",
           "ticks": "",
           "title": {
            "standoff": 15
           },
           "zerolinecolor": "white",
           "zerolinewidth": 2
          },
          "yaxis": {
           "automargin": true,
           "gridcolor": "white",
           "linecolor": "white",
           "ticks": "",
           "title": {
            "standoff": 15
           },
           "zerolinecolor": "white",
           "zerolinewidth": 2
          }
         }
        }
       }
      }
     },
     "metadata": {},
     "output_type": "display_data"
    }
   ],
   "source": [
    "# distribution of genders\n",
    "indices = df['postcode'].value_counts().index\n",
    "values = df['postcode'].value_counts().values\n",
    "\n",
    "fig = go.Figure()\n",
    "\n",
    "\n",
    "# Add trace\n",
    "fig.add_trace(go.Bar(x= indices, y = values, textfont_size=20))\n",
    "\n",
    "\n",
    "\n",
    "    # Overlay both histograms\n",
    "    #fig.update_layout(barmode='overlay')\n",
    "    # Reduce opacity to see both histograms\n",
    "fig.update_traces(opacity=0.75)\n",
    "fig.show()"
   ]
  },
  {
   "cell_type": "markdown",
   "id": "0ae5a212",
   "metadata": {},
   "source": [
    "### Average Read Time in each postal code"
   ]
  },
  {
   "cell_type": "code",
   "execution_count": null,
   "id": "4b3bf9aa",
   "metadata": {},
   "outputs": [],
   "source": [
    "indices = df['postcode'].value_counts().sort_index().index\n",
    "values = df['postcode'].value_counts().sort_index().values\n",
    "\n",
    "# Create graph object\n",
    "fig = go.Figure()\n",
    "\n",
    "# for each post code add a readtime \n",
    "for postcode in indices:\n",
    "    read_time = df[df['postcode'] == postcode]['read_time']\n",
    "    fig.add_trace(go.Histogram(x=read_time))\n",
    "\n",
    "\n",
    "fig.update_layout(barmode='overlay')\n",
    "fig.update_traces(opacity=0.75)\n",
    "fig.show()"
   ]
  },
  {
   "cell_type": "code",
   "execution_count": null,
   "id": "0bba02ba",
   "metadata": {},
   "outputs": [],
   "source": [
    "indices = df['postcode'].value_counts().sort_index().index\n",
    "values = df['postcode'].value_counts().sort_index().values\n",
    "\n",
    "# Create graph object\n",
    "fig = go.Figure()\n",
    "\n",
    "# for each post code add a readtime \n",
    "for postcode in indices:\n",
    "    avg_read_time = df[df['postcode'] == postcode]['read_time'].mean()\n",
    "    fig.add_trace(go.Bar(x=[postcode], y = [avg_read_time], textfont_size=20))\n",
    "\n",
    "\n",
    "fig.update_layout(barmode='overlay')\n",
    "fig.update_traces(opacity=0.75)\n",
    "fig.show()"
   ]
  },
  {
   "cell_type": "markdown",
   "id": "c13bde99",
   "metadata": {},
   "source": [
    "### Average Scroll pct in each postal code"
   ]
  },
  {
   "cell_type": "code",
   "execution_count": null,
   "id": "7601e504",
   "metadata": {},
   "outputs": [],
   "source": [
    "indices = df['postcode'].value_counts().sort_index().index\n",
    "values = df['postcode'].value_counts().sort_index().values\n",
    "\n",
    "# Create graph object\n",
    "fig = go.Figure()\n",
    "\n",
    "# for each post code add a readtime \n",
    "for postcode in indices:\n",
    "    scroll_pct = df[df['postcode'] == postcode]['scroll_percentage']\n",
    "    fig.add_trace(go.Histogram(x=scroll_pct))\n",
    "\n",
    "\n",
    "fig.update_layout(barmode='overlay')\n",
    "fig.update_traces(opacity=0.75)\n",
    "fig.show()"
   ]
  },
  {
   "cell_type": "code",
   "execution_count": null,
   "id": "6d829609",
   "metadata": {},
   "outputs": [],
   "source": [
    "indices = df['postcode'].value_counts().sort_index().index\n",
    "values = df['postcode'].value_counts().sort_index().values\n",
    "\n",
    "# Create graph object\n",
    "fig = go.Figure()\n",
    "\n",
    "# for each post code add a readtime \n",
    "for postcode in indices:\n",
    "    avg_scroll_pct = df[df['postcode'] == postcode]['scroll_percentage'].mean()\n",
    "    fig.add_trace(go.Bar(x=[postcode], y = [avg_scroll_pct], textfont_size=20))\n",
    "\n",
    "\n",
    "fig.update_layout(barmode='overlay')\n",
    "fig.update_traces(opacity=0.75)\n",
    "fig.show()"
   ]
  },
  {
   "cell_type": "markdown",
   "id": "f742f798",
   "metadata": {},
   "source": [
    "### Topics"
   ]
  },
  {
   "cell_type": "code",
   "execution_count": 16,
   "id": "f656d88f",
   "metadata": {},
   "outputs": [
    {
     "data": {
      "application/vnd.plotly.v1+json": {
       "config": {
        "plotlyServerURL": "https://plot.ly"
       },
       "data": [
        {
         "opacity": 0.75,
         "textfont": {
          "size": 20
         },
         "type": "bar",
         "x": [
          "Kendt",
          "Underholdning",
          "Begivenhed",
          "Sport",
          "Erhverv",
          "Politik",
          "Kriminalitet",
          "Livsstil",
          "Sportsbegivenhed",
          "Samfund",
          "Privat virksomhed",
          "Økonomi",
          "International politik",
          "Personfarlig kriminalitet",
          "Film og tv",
          "Konflikt og krig",
          "National politik",
          "Fodbold",
          "Katastrofe",
          "Transportmiddel",
          "Sundhed",
          "Sygdom og behandling",
          "Ansættelsesforhold",
          "Ketcher- og batsport",
          "Musik og lyd",
          "Væbnet konflikt",
          "Mindre ulykke",
          "Personlig begivenhed",
          "Underholdningsbegivenhed",
          "Familieliv",
          "Krop og velvære",
          "Kultur",
          "Partnerskab",
          "Mikro",
          "Større transportmiddel",
          "Uddannelse",
          "Videnskab",
          "Mad og drikke",
          "Naturvidenskab",
          "Større katastrofe",
          "Cykling",
          "Rejse",
          "Teknologi",
          "Værdier",
          "Bil",
          "Erotik",
          "Håndbold",
          "Bedrageri",
          "Bæredygtighed og klima",
          "Reality",
          "Bandekriminalitet",
          "Dyr",
          "Makro",
          "Motorsport",
          "Bolig",
          "Forbrugerelektronik",
          "Grundskole",
          "Kunstig intelligens og software",
          "Offentlig transport",
          "Ungdomsuddannelse",
          "Vejr",
          "Køb og salg",
          "Litteratur",
          "Offentlig instans",
          "Byliv",
          "Mindre transportmiddel",
          "Religion",
          "Samfundsvidenskab og humaniora",
          "Tendenser",
          "Videregående uddannelse",
          "Fritid",
          "Kosmetisk behandling",
          "Kunst",
          "Museum og seværdighed",
          "Mærkedag",
          "Renovering og indretning",
          "Terror",
          "Udlejning"
         ],
         "y": [
          131,
          77,
          76,
          71,
          66,
          65,
          62,
          55,
          52,
          42,
          41,
          40,
          39,
          37,
          36,
          35,
          31,
          27,
          27,
          24,
          23,
          22,
          17,
          17,
          16,
          16,
          14,
          12,
          12,
          11,
          11,
          11,
          11,
          10,
          10,
          10,
          10,
          9,
          9,
          9,
          8,
          8,
          8,
          8,
          7,
          7,
          6,
          5,
          5,
          5,
          4,
          4,
          4,
          4,
          3,
          3,
          3,
          3,
          3,
          3,
          3,
          2,
          2,
          2,
          1,
          1,
          1,
          1,
          1,
          1,
          0,
          0,
          0,
          0,
          0,
          0,
          0,
          0
         ]
        },
        {
         "opacity": 0.75,
         "textfont": {
          "size": 20
         },
         "type": "bar",
         "x": [
          "Kendt",
          "Sport",
          "Begivenhed",
          "Underholdning",
          "Sportsbegivenhed",
          "Livsstil",
          "Kriminalitet",
          "Politik",
          "Erhverv",
          "Fodbold",
          "Film og tv",
          "Personfarlig kriminalitet",
          "Katastrofe",
          "International politik",
          "National politik",
          "Samfund",
          "Økonomi",
          "Konflikt og krig",
          "Sundhed",
          "Privat virksomhed",
          "Sygdom og behandling",
          "Transportmiddel",
          "Mindre ulykke",
          "Kultur",
          "Partnerskab",
          "Ansættelsesforhold",
          "Ketcher- og batsport",
          "Krop og velvære",
          "Væbnet konflikt",
          "Erotik",
          "Musik og lyd",
          "Familieliv",
          "Underholdningsbegivenhed",
          "Værdier",
          "Mikro",
          "Større katastrofe",
          "Personlig begivenhed",
          "Bil",
          "Bolig",
          "Cykling",
          "Reality",
          "Større transportmiddel",
          "Bandekriminalitet",
          "Kunst",
          "Rejse",
          "Teknologi",
          "Bedrageri",
          "Køb og salg",
          "Mad og drikke",
          "Uddannelse",
          "Videnskab",
          "Dyr",
          "Makro",
          "Byliv",
          "Naturvidenskab",
          "Vejr",
          "Grundskole",
          "Motorsport",
          "Håndbold",
          "Litteratur",
          "Renovering og indretning",
          "Fritid",
          "Kunstig intelligens og software",
          "Mindre transportmiddel",
          "Offentlig instans",
          "Offentlig transport",
          "Samfundsvidenskab og humaniora",
          "Ungdomsuddannelse",
          "Bæredygtighed og klima",
          "Forbrugerelektronik",
          "Tendenser",
          "Terror",
          "Videregående uddannelse",
          "Kosmetisk behandling",
          "Museum og seværdighed",
          "Mærkedag",
          "Religion",
          "Udlejning"
         ],
         "y": [
          233,
          149,
          148,
          121,
          112,
          101,
          89,
          86,
          83,
          73,
          63,
          55,
          50,
          49,
          45,
          45,
          43,
          40,
          40,
          38,
          36,
          33,
          31,
          29,
          28,
          27,
          25,
          25,
          25,
          22,
          20,
          18,
          18,
          18,
          15,
          15,
          14,
          12,
          12,
          12,
          12,
          11,
          10,
          9,
          9,
          9,
          8,
          8,
          8,
          7,
          7,
          6,
          6,
          5,
          5,
          5,
          4,
          4,
          3,
          3,
          3,
          2,
          2,
          2,
          2,
          2,
          2,
          2,
          1,
          1,
          1,
          1,
          1,
          0,
          0,
          0,
          0,
          0
         ]
        },
        {
         "opacity": 0.75,
         "textfont": {
          "size": 20
         },
         "type": "bar",
         "x": [
          "Kendt",
          "Kriminalitet",
          "Sport",
          "Begivenhed",
          "Underholdning",
          "Personfarlig kriminalitet",
          "Sportsbegivenhed",
          "Livsstil",
          "Politik",
          "Erhverv",
          "Økonomi",
          "Transportmiddel",
          "Privat virksomhed",
          "Katastrofe",
          "Film og tv",
          "International politik",
          "Samfund",
          "Mindre ulykke",
          "Fodbold",
          "Konflikt og krig",
          "Sundhed",
          "Ketcher- og batsport",
          "National politik",
          "Mikro",
          "Sygdom og behandling",
          "Større transportmiddel",
          "Bandekriminalitet",
          "Musik og lyd",
          "Bil",
          "Erotik",
          "Krop og velvære",
          "Teknologi",
          "Væbnet konflikt",
          "Ansættelsesforhold",
          "Bolig",
          "Partnerskab",
          "Værdier",
          "Bedrageri",
          "Cykling",
          "Kultur",
          "Køb og salg",
          "Mad og drikke",
          "Underholdningsbegivenhed",
          "Familieliv",
          "Mindre transportmiddel",
          "Reality",
          "Større katastrofe",
          "Dyr",
          "Håndbold",
          "Kunst",
          "Offentlig instans",
          "Personlig begivenhed",
          "Uddannelse",
          "Videnskab",
          "Byliv",
          "Bæredygtighed og klima",
          "Forbrugerelektronik",
          "Grundskole",
          "Kosmetisk behandling",
          "Kunstig intelligens og software",
          "Motorsport",
          "Naturvidenskab",
          "Renovering og indretning",
          "Vejr",
          "Videregående uddannelse",
          "Fritid",
          "Litteratur",
          "Makro",
          "Museum og seværdighed",
          "Mærkedag",
          "Offentlig transport",
          "Rejse",
          "Religion",
          "Samfundsvidenskab og humaniora",
          "Tendenser",
          "Terror",
          "Udlejning",
          "Ungdomsuddannelse"
         ],
         "y": [
          71,
          48,
          42,
          38,
          36,
          33,
          31,
          27,
          26,
          25,
          23,
          22,
          20,
          19,
          18,
          18,
          18,
          15,
          14,
          14,
          14,
          13,
          11,
          10,
          10,
          9,
          7,
          7,
          6,
          6,
          6,
          6,
          6,
          5,
          5,
          5,
          5,
          4,
          4,
          4,
          4,
          4,
          4,
          3,
          3,
          3,
          3,
          2,
          2,
          2,
          2,
          2,
          2,
          2,
          1,
          1,
          1,
          1,
          1,
          1,
          1,
          1,
          1,
          1,
          1,
          0,
          0,
          0,
          0,
          0,
          0,
          0,
          0,
          0,
          0,
          0,
          0,
          0
         ]
        },
        {
         "opacity": 0.75,
         "textfont": {
          "size": 20
         },
         "type": "bar",
         "x": [
          "Kendt",
          "Underholdning",
          "Begivenhed",
          "Politik",
          "Sport",
          "Kriminalitet",
          "Livsstil",
          "Erhverv",
          "International politik",
          "National politik",
          "Økonomi",
          "Film og tv",
          "Sportsbegivenhed",
          "Transportmiddel",
          "Samfund",
          "Personfarlig kriminalitet",
          "Konflikt og krig",
          "Privat virksomhed",
          "Katastrofe",
          "Fodbold",
          "Sundhed",
          "Personlig begivenhed",
          "Sygdom og behandling",
          "Mindre ulykke",
          "Værdier",
          "Bil",
          "Musik og lyd",
          "Ketcher- og batsport",
          "Underholdningsbegivenhed",
          "Kultur",
          "Ansættelsesforhold",
          "Mikro",
          "Familieliv",
          "Partnerskab",
          "Større transportmiddel",
          "Væbnet konflikt",
          "Cykling",
          "Uddannelse",
          "Større katastrofe",
          "Dyr",
          "Erotik",
          "Krop og velvære",
          "Bolig",
          "Makro",
          "Reality",
          "Grundskole",
          "Litteratur",
          "Mad og drikke",
          "Motorsport",
          "Naturvidenskab",
          "Rejse",
          "Teknologi",
          "Videnskab",
          "Kunstig intelligens og software",
          "Køb og salg",
          "Mindre transportmiddel",
          "Vejr",
          "Bedrageri",
          "Byliv",
          "Fritid",
          "Håndbold",
          "Kosmetisk behandling",
          "Kunst",
          "Offentlig instans",
          "Offentlig transport",
          "Renovering og indretning",
          "Udlejning",
          "Bandekriminalitet",
          "Bæredygtighed og klima",
          "Forbrugerelektronik",
          "Museum og seværdighed",
          "Mærkedag",
          "Religion",
          "Samfundsvidenskab og humaniora",
          "Tendenser",
          "Terror",
          "Ungdomsuddannelse",
          "Videregående uddannelse"
         ],
         "y": [
          118,
          65,
          52,
          51,
          45,
          40,
          35,
          31,
          31,
          31,
          30,
          27,
          26,
          26,
          25,
          23,
          20,
          20,
          19,
          17,
          17,
          15,
          15,
          13,
          13,
          12,
          12,
          11,
          11,
          10,
          9,
          9,
          8,
          8,
          8,
          8,
          7,
          7,
          6,
          5,
          5,
          5,
          4,
          4,
          4,
          3,
          3,
          3,
          3,
          3,
          3,
          3,
          3,
          2,
          2,
          2,
          2,
          1,
          1,
          1,
          1,
          1,
          1,
          1,
          1,
          1,
          1,
          0,
          0,
          0,
          0,
          0,
          0,
          0,
          0,
          0,
          0,
          0
         ]
        },
        {
         "opacity": 0.75,
         "textfont": {
          "size": 20
         },
         "type": "bar",
         "x": [
          "Kendt",
          "Sport",
          "Underholdning",
          "Begivenhed",
          "Kriminalitet",
          "Livsstil",
          "Erhverv",
          "Politik",
          "Personfarlig kriminalitet",
          "Sportsbegivenhed",
          "Fodbold",
          "Film og tv",
          "Privat virksomhed",
          "Samfund",
          "Økonomi",
          "International politik",
          "National politik",
          "Konflikt og krig",
          "Katastrofe",
          "Ansættelsesforhold",
          "Sundhed",
          "Transportmiddel",
          "Underholdningsbegivenhed",
          "Mindre ulykke",
          "Værdier",
          "Partnerskab",
          "Sygdom og behandling",
          "Krop og velvære",
          "Bolig",
          "Erotik",
          "Kultur",
          "Musik og lyd",
          "Teknologi",
          "Væbnet konflikt",
          "Mikro",
          "Uddannelse",
          "Personlig begivenhed",
          "Større transportmiddel",
          "Bil",
          "Grundskole",
          "Ketcher- og batsport",
          "Reality",
          "Cykling",
          "Familieliv",
          "Kunstig intelligens og software",
          "Rejse",
          "Køb og salg",
          "Mad og drikke",
          "Makro",
          "Offentlig instans",
          "Bandekriminalitet",
          "Bedrageri",
          "Forbrugerelektronik",
          "Mindre transportmiddel",
          "Motorsport",
          "Større katastrofe",
          "Vejr",
          "Videnskab",
          "Byliv",
          "Bæredygtighed og klima",
          "Dyr",
          "Håndbold",
          "Kosmetisk behandling",
          "Mærkedag",
          "Naturvidenskab",
          "Religion",
          "Renovering og indretning",
          "Udlejning",
          "Videregående uddannelse",
          "Fritid",
          "Kunst",
          "Litteratur",
          "Museum og seværdighed",
          "Offentlig transport",
          "Samfundsvidenskab og humaniora",
          "Tendenser",
          "Terror",
          "Ungdomsuddannelse"
         ],
         "y": [
          99,
          60,
          56,
          55,
          54,
          48,
          47,
          41,
          37,
          37,
          31,
          30,
          30,
          29,
          29,
          24,
          21,
          18,
          17,
          16,
          14,
          14,
          14,
          13,
          12,
          10,
          10,
          9,
          8,
          8,
          8,
          8,
          8,
          8,
          7,
          7,
          6,
          6,
          5,
          5,
          5,
          5,
          4,
          4,
          4,
          4,
          3,
          3,
          3,
          3,
          2,
          2,
          2,
          2,
          2,
          2,
          2,
          2,
          1,
          1,
          1,
          1,
          1,
          1,
          1,
          1,
          1,
          1,
          1,
          0,
          0,
          0,
          0,
          0,
          0,
          0,
          0,
          0
         ]
        }
       ],
       "layout": {
        "template": {
         "data": {
          "bar": [
           {
            "error_x": {
             "color": "#2a3f5f"
            },
            "error_y": {
             "color": "#2a3f5f"
            },
            "marker": {
             "line": {
              "color": "#E5ECF6",
              "width": 0.5
             },
             "pattern": {
              "fillmode": "overlay",
              "size": 10,
              "solidity": 0.2
             }
            },
            "type": "bar"
           }
          ],
          "barpolar": [
           {
            "marker": {
             "line": {
              "color": "#E5ECF6",
              "width": 0.5
             },
             "pattern": {
              "fillmode": "overlay",
              "size": 10,
              "solidity": 0.2
             }
            },
            "type": "barpolar"
           }
          ],
          "carpet": [
           {
            "aaxis": {
             "endlinecolor": "#2a3f5f",
             "gridcolor": "white",
             "linecolor": "white",
             "minorgridcolor": "white",
             "startlinecolor": "#2a3f5f"
            },
            "baxis": {
             "endlinecolor": "#2a3f5f",
             "gridcolor": "white",
             "linecolor": "white",
             "minorgridcolor": "white",
             "startlinecolor": "#2a3f5f"
            },
            "type": "carpet"
           }
          ],
          "choropleth": [
           {
            "colorbar": {
             "outlinewidth": 0,
             "ticks": ""
            },
            "type": "choropleth"
           }
          ],
          "contour": [
           {
            "colorbar": {
             "outlinewidth": 0,
             "ticks": ""
            },
            "colorscale": [
             [
              0,
              "#0d0887"
             ],
             [
              0.1111111111111111,
              "#46039f"
             ],
             [
              0.2222222222222222,
              "#7201a8"
             ],
             [
              0.3333333333333333,
              "#9c179e"
             ],
             [
              0.4444444444444444,
              "#bd3786"
             ],
             [
              0.5555555555555556,
              "#d8576b"
             ],
             [
              0.6666666666666666,
              "#ed7953"
             ],
             [
              0.7777777777777778,
              "#fb9f3a"
             ],
             [
              0.8888888888888888,
              "#fdca26"
             ],
             [
              1,
              "#f0f921"
             ]
            ],
            "type": "contour"
           }
          ],
          "contourcarpet": [
           {
            "colorbar": {
             "outlinewidth": 0,
             "ticks": ""
            },
            "type": "contourcarpet"
           }
          ],
          "heatmap": [
           {
            "colorbar": {
             "outlinewidth": 0,
             "ticks": ""
            },
            "colorscale": [
             [
              0,
              "#0d0887"
             ],
             [
              0.1111111111111111,
              "#46039f"
             ],
             [
              0.2222222222222222,
              "#7201a8"
             ],
             [
              0.3333333333333333,
              "#9c179e"
             ],
             [
              0.4444444444444444,
              "#bd3786"
             ],
             [
              0.5555555555555556,
              "#d8576b"
             ],
             [
              0.6666666666666666,
              "#ed7953"
             ],
             [
              0.7777777777777778,
              "#fb9f3a"
             ],
             [
              0.8888888888888888,
              "#fdca26"
             ],
             [
              1,
              "#f0f921"
             ]
            ],
            "type": "heatmap"
           }
          ],
          "heatmapgl": [
           {
            "colorbar": {
             "outlinewidth": 0,
             "ticks": ""
            },
            "colorscale": [
             [
              0,
              "#0d0887"
             ],
             [
              0.1111111111111111,
              "#46039f"
             ],
             [
              0.2222222222222222,
              "#7201a8"
             ],
             [
              0.3333333333333333,
              "#9c179e"
             ],
             [
              0.4444444444444444,
              "#bd3786"
             ],
             [
              0.5555555555555556,
              "#d8576b"
             ],
             [
              0.6666666666666666,
              "#ed7953"
             ],
             [
              0.7777777777777778,
              "#fb9f3a"
             ],
             [
              0.8888888888888888,
              "#fdca26"
             ],
             [
              1,
              "#f0f921"
             ]
            ],
            "type": "heatmapgl"
           }
          ],
          "histogram": [
           {
            "marker": {
             "pattern": {
              "fillmode": "overlay",
              "size": 10,
              "solidity": 0.2
             }
            },
            "type": "histogram"
           }
          ],
          "histogram2d": [
           {
            "colorbar": {
             "outlinewidth": 0,
             "ticks": ""
            },
            "colorscale": [
             [
              0,
              "#0d0887"
             ],
             [
              0.1111111111111111,
              "#46039f"
             ],
             [
              0.2222222222222222,
              "#7201a8"
             ],
             [
              0.3333333333333333,
              "#9c179e"
             ],
             [
              0.4444444444444444,
              "#bd3786"
             ],
             [
              0.5555555555555556,
              "#d8576b"
             ],
             [
              0.6666666666666666,
              "#ed7953"
             ],
             [
              0.7777777777777778,
              "#fb9f3a"
             ],
             [
              0.8888888888888888,
              "#fdca26"
             ],
             [
              1,
              "#f0f921"
             ]
            ],
            "type": "histogram2d"
           }
          ],
          "histogram2dcontour": [
           {
            "colorbar": {
             "outlinewidth": 0,
             "ticks": ""
            },
            "colorscale": [
             [
              0,
              "#0d0887"
             ],
             [
              0.1111111111111111,
              "#46039f"
             ],
             [
              0.2222222222222222,
              "#7201a8"
             ],
             [
              0.3333333333333333,
              "#9c179e"
             ],
             [
              0.4444444444444444,
              "#bd3786"
             ],
             [
              0.5555555555555556,
              "#d8576b"
             ],
             [
              0.6666666666666666,
              "#ed7953"
             ],
             [
              0.7777777777777778,
              "#fb9f3a"
             ],
             [
              0.8888888888888888,
              "#fdca26"
             ],
             [
              1,
              "#f0f921"
             ]
            ],
            "type": "histogram2dcontour"
           }
          ],
          "mesh3d": [
           {
            "colorbar": {
             "outlinewidth": 0,
             "ticks": ""
            },
            "type": "mesh3d"
           }
          ],
          "parcoords": [
           {
            "line": {
             "colorbar": {
              "outlinewidth": 0,
              "ticks": ""
             }
            },
            "type": "parcoords"
           }
          ],
          "pie": [
           {
            "automargin": true,
            "type": "pie"
           }
          ],
          "scatter": [
           {
            "fillpattern": {
             "fillmode": "overlay",
             "size": 10,
             "solidity": 0.2
            },
            "type": "scatter"
           }
          ],
          "scatter3d": [
           {
            "line": {
             "colorbar": {
              "outlinewidth": 0,
              "ticks": ""
             }
            },
            "marker": {
             "colorbar": {
              "outlinewidth": 0,
              "ticks": ""
             }
            },
            "type": "scatter3d"
           }
          ],
          "scattercarpet": [
           {
            "marker": {
             "colorbar": {
              "outlinewidth": 0,
              "ticks": ""
             }
            },
            "type": "scattercarpet"
           }
          ],
          "scattergeo": [
           {
            "marker": {
             "colorbar": {
              "outlinewidth": 0,
              "ticks": ""
             }
            },
            "type": "scattergeo"
           }
          ],
          "scattergl": [
           {
            "marker": {
             "colorbar": {
              "outlinewidth": 0,
              "ticks": ""
             }
            },
            "type": "scattergl"
           }
          ],
          "scattermapbox": [
           {
            "marker": {
             "colorbar": {
              "outlinewidth": 0,
              "ticks": ""
             }
            },
            "type": "scattermapbox"
           }
          ],
          "scatterpolar": [
           {
            "marker": {
             "colorbar": {
              "outlinewidth": 0,
              "ticks": ""
             }
            },
            "type": "scatterpolar"
           }
          ],
          "scatterpolargl": [
           {
            "marker": {
             "colorbar": {
              "outlinewidth": 0,
              "ticks": ""
             }
            },
            "type": "scatterpolargl"
           }
          ],
          "scatterternary": [
           {
            "marker": {
             "colorbar": {
              "outlinewidth": 0,
              "ticks": ""
             }
            },
            "type": "scatterternary"
           }
          ],
          "surface": [
           {
            "colorbar": {
             "outlinewidth": 0,
             "ticks": ""
            },
            "colorscale": [
             [
              0,
              "#0d0887"
             ],
             [
              0.1111111111111111,
              "#46039f"
             ],
             [
              0.2222222222222222,
              "#7201a8"
             ],
             [
              0.3333333333333333,
              "#9c179e"
             ],
             [
              0.4444444444444444,
              "#bd3786"
             ],
             [
              0.5555555555555556,
              "#d8576b"
             ],
             [
              0.6666666666666666,
              "#ed7953"
             ],
             [
              0.7777777777777778,
              "#fb9f3a"
             ],
             [
              0.8888888888888888,
              "#fdca26"
             ],
             [
              1,
              "#f0f921"
             ]
            ],
            "type": "surface"
           }
          ],
          "table": [
           {
            "cells": {
             "fill": {
              "color": "#EBF0F8"
             },
             "line": {
              "color": "white"
             }
            },
            "header": {
             "fill": {
              "color": "#C8D4E3"
             },
             "line": {
              "color": "white"
             }
            },
            "type": "table"
           }
          ]
         },
         "layout": {
          "annotationdefaults": {
           "arrowcolor": "#2a3f5f",
           "arrowhead": 0,
           "arrowwidth": 1
          },
          "autotypenumbers": "strict",
          "coloraxis": {
           "colorbar": {
            "outlinewidth": 0,
            "ticks": ""
           }
          },
          "colorscale": {
           "diverging": [
            [
             0,
             "#8e0152"
            ],
            [
             0.1,
             "#c51b7d"
            ],
            [
             0.2,
             "#de77ae"
            ],
            [
             0.3,
             "#f1b6da"
            ],
            [
             0.4,
             "#fde0ef"
            ],
            [
             0.5,
             "#f7f7f7"
            ],
            [
             0.6,
             "#e6f5d0"
            ],
            [
             0.7,
             "#b8e186"
            ],
            [
             0.8,
             "#7fbc41"
            ],
            [
             0.9,
             "#4d9221"
            ],
            [
             1,
             "#276419"
            ]
           ],
           "sequential": [
            [
             0,
             "#0d0887"
            ],
            [
             0.1111111111111111,
             "#46039f"
            ],
            [
             0.2222222222222222,
             "#7201a8"
            ],
            [
             0.3333333333333333,
             "#9c179e"
            ],
            [
             0.4444444444444444,
             "#bd3786"
            ],
            [
             0.5555555555555556,
             "#d8576b"
            ],
            [
             0.6666666666666666,
             "#ed7953"
            ],
            [
             0.7777777777777778,
             "#fb9f3a"
            ],
            [
             0.8888888888888888,
             "#fdca26"
            ],
            [
             1,
             "#f0f921"
            ]
           ],
           "sequentialminus": [
            [
             0,
             "#0d0887"
            ],
            [
             0.1111111111111111,
             "#46039f"
            ],
            [
             0.2222222222222222,
             "#7201a8"
            ],
            [
             0.3333333333333333,
             "#9c179e"
            ],
            [
             0.4444444444444444,
             "#bd3786"
            ],
            [
             0.5555555555555556,
             "#d8576b"
            ],
            [
             0.6666666666666666,
             "#ed7953"
            ],
            [
             0.7777777777777778,
             "#fb9f3a"
            ],
            [
             0.8888888888888888,
             "#fdca26"
            ],
            [
             1,
             "#f0f921"
            ]
           ]
          },
          "colorway": [
           "#636efa",
           "#EF553B",
           "#00cc96",
           "#ab63fa",
           "#FFA15A",
           "#19d3f3",
           "#FF6692",
           "#B6E880",
           "#FF97FF",
           "#FECB52"
          ],
          "font": {
           "color": "#2a3f5f"
          },
          "geo": {
           "bgcolor": "white",
           "lakecolor": "white",
           "landcolor": "#E5ECF6",
           "showlakes": true,
           "showland": true,
           "subunitcolor": "white"
          },
          "hoverlabel": {
           "align": "left"
          },
          "hovermode": "closest",
          "mapbox": {
           "style": "light"
          },
          "paper_bgcolor": "white",
          "plot_bgcolor": "#E5ECF6",
          "polar": {
           "angularaxis": {
            "gridcolor": "white",
            "linecolor": "white",
            "ticks": ""
           },
           "bgcolor": "#E5ECF6",
           "radialaxis": {
            "gridcolor": "white",
            "linecolor": "white",
            "ticks": ""
           }
          },
          "scene": {
           "xaxis": {
            "backgroundcolor": "#E5ECF6",
            "gridcolor": "white",
            "gridwidth": 2,
            "linecolor": "white",
            "showbackground": true,
            "ticks": "",
            "zerolinecolor": "white"
           },
           "yaxis": {
            "backgroundcolor": "#E5ECF6",
            "gridcolor": "white",
            "gridwidth": 2,
            "linecolor": "white",
            "showbackground": true,
            "ticks": "",
            "zerolinecolor": "white"
           },
           "zaxis": {
            "backgroundcolor": "#E5ECF6",
            "gridcolor": "white",
            "gridwidth": 2,
            "linecolor": "white",
            "showbackground": true,
            "ticks": "",
            "zerolinecolor": "white"
           }
          },
          "shapedefaults": {
           "line": {
            "color": "#2a3f5f"
           }
          },
          "ternary": {
           "aaxis": {
            "gridcolor": "white",
            "linecolor": "white",
            "ticks": ""
           },
           "baxis": {
            "gridcolor": "white",
            "linecolor": "white",
            "ticks": ""
           },
           "bgcolor": "#E5ECF6",
           "caxis": {
            "gridcolor": "white",
            "linecolor": "white",
            "ticks": ""
           }
          },
          "title": {
           "x": 0.05
          },
          "xaxis": {
           "automargin": true,
           "gridcolor": "white",
           "linecolor": "white",
           "ticks": "",
           "title": {
            "standoff": 15
           },
           "zerolinecolor": "white",
           "zerolinewidth": 2
          },
          "yaxis": {
           "automargin": true,
           "gridcolor": "white",
           "linecolor": "white",
           "ticks": "",
           "title": {
            "standoff": 15
           },
           "zerolinecolor": "white",
           "zerolinewidth": 2
          }
         }
        }
       }
      }
     },
     "metadata": {},
     "output_type": "display_data"
    }
   ],
   "source": [
    "## Subset based on those entries\n",
    "## populate the counts for the traces\n",
    "\n",
    "postcodes = df['postcode'].unique()\n",
    "postcodes = postcodes[~np.isnan(postcodes)]\n",
    "\n",
    "#genders = [d for d in df['gender'].unique() ]\n",
    "\n",
    "# Get all the unique topics\n",
    "unique_topics = []\n",
    "for i in df.index:\n",
    "    for j in range(0, len(df['topics'][i])):\n",
    "        tmp = df['topics'][i][j]\n",
    "        if tmp not in unique_topics:\n",
    "            unique_topics.append(tmp)\n",
    "\n",
    "unique_topics = sorted(unique_topics)\n",
    "\n",
    "\n",
    "fig = go.Figure()\n",
    "# Iterate through each device \n",
    "for d in postcodes:\n",
    "    # Find the subset of the data with that device\n",
    "    tmp_df = df[df['postcode'] == d]\n",
    "\n",
    "    # Create a dict object with 0 counts for all topics\n",
    "    postcodes_topic_freq = {k:0 for k in unique_topics}\n",
    "    for i in tmp_df.index:\n",
    "        for j in range(0, len(df['topics'][i])):\n",
    "            # Find that index\n",
    "            tmp_topic = df['topics'][i][j]\n",
    "\n",
    "            # Enumerate\n",
    "            postcodes_topic_freq[tmp_topic] += 1\n",
    "    \n",
    "    postcodes_topic_freq = dict(sorted(postcodes_topic_freq.items(), key = lambda kv: kv[1], reverse= True))\n",
    "    #print(device_topic_freq)\n",
    "        \n",
    "    fig.add_trace(go.Bar(x= [x for x in postcodes_topic_freq.keys()], y = [y for y in postcodes_topic_freq.values()], textfont_size=20))\n",
    "\n",
    "\n",
    "\n",
    "# Overlay both histograms\n",
    "#fig.update_layout(barmode='overlay')\n",
    "# Reduce opacity to see both histograms\n",
    "fig.update_traces(opacity=0.75)\n",
    "fig.show()"
   ]
  },
  {
   "cell_type": "markdown",
   "id": "6e53434a",
   "metadata": {},
   "source": [
    "### Activity"
   ]
  },
  {
   "cell_type": "markdown",
   "id": "a1d99370",
   "metadata": {},
   "source": [
    "#### Daily Activity"
   ]
  },
  {
   "cell_type": "code",
   "execution_count": 18,
   "id": "0d4c167a",
   "metadata": {},
   "outputs": [
    {
     "data": {
      "application/vnd.plotly.v1+json": {
       "config": {
        "plotlyServerURL": "https://plot.ly"
       },
       "data": [
        {
         "opacity": 0.75,
         "textfont": {
          "size": 20
         },
         "type": "bar",
         "x": [
          "05/18/2023",
          "05/19/2023",
          "05/20/2023",
          "05/21/2023",
          "05/22/2023",
          "05/23/2023",
          "05/24/2023",
          "05/25/2023"
         ],
         "y": [
          30,
          66,
          50,
          65,
          38,
          46,
          44,
          5
         ]
        },
        {
         "opacity": 0.75,
         "textfont": {
          "size": 20
         },
         "type": "bar",
         "x": [
          "05/18/2023",
          "05/19/2023",
          "05/20/2023",
          "05/21/2023",
          "05/22/2023",
          "05/23/2023",
          "05/24/2023",
          "05/25/2023"
         ],
         "y": [
          53,
          92,
          66,
          103,
          76,
          59,
          98,
          17
         ]
        },
        {
         "opacity": 0.75,
         "textfont": {
          "size": 20
         },
         "type": "bar",
         "x": [
          "05/18/2023",
          "05/19/2023",
          "05/20/2023",
          "05/21/2023",
          "05/22/2023",
          "05/23/2023",
          "05/24/2023",
          "05/25/2023"
         ],
         "y": [
          15,
          11,
          58,
          18,
          20,
          22,
          34,
          4
         ]
        },
        {
         "opacity": 0.75,
         "textfont": {
          "size": 20
         },
         "type": "bar",
         "x": [
          "05/18/2023",
          "05/19/2023",
          "05/20/2023",
          "05/21/2023",
          "05/22/2023",
          "05/23/2023",
          "05/24/2023",
          "05/25/2023"
         ],
         "y": [
          17,
          41,
          24,
          33,
          51,
          26,
          40,
          14
         ]
        },
        {
         "opacity": 0.75,
         "textfont": {
          "size": 20
         },
         "type": "bar",
         "x": [
          "05/18/2023",
          "05/19/2023",
          "05/20/2023",
          "05/21/2023",
          "05/22/2023",
          "05/23/2023",
          "05/24/2023",
          "05/25/2023"
         ],
         "y": [
          27,
          52,
          29,
          21,
          23,
          53,
          39,
          16
         ]
        }
       ],
       "layout": {
        "template": {
         "data": {
          "bar": [
           {
            "error_x": {
             "color": "#2a3f5f"
            },
            "error_y": {
             "color": "#2a3f5f"
            },
            "marker": {
             "line": {
              "color": "#E5ECF6",
              "width": 0.5
             },
             "pattern": {
              "fillmode": "overlay",
              "size": 10,
              "solidity": 0.2
             }
            },
            "type": "bar"
           }
          ],
          "barpolar": [
           {
            "marker": {
             "line": {
              "color": "#E5ECF6",
              "width": 0.5
             },
             "pattern": {
              "fillmode": "overlay",
              "size": 10,
              "solidity": 0.2
             }
            },
            "type": "barpolar"
           }
          ],
          "carpet": [
           {
            "aaxis": {
             "endlinecolor": "#2a3f5f",
             "gridcolor": "white",
             "linecolor": "white",
             "minorgridcolor": "white",
             "startlinecolor": "#2a3f5f"
            },
            "baxis": {
             "endlinecolor": "#2a3f5f",
             "gridcolor": "white",
             "linecolor": "white",
             "minorgridcolor": "white",
             "startlinecolor": "#2a3f5f"
            },
            "type": "carpet"
           }
          ],
          "choropleth": [
           {
            "colorbar": {
             "outlinewidth": 0,
             "ticks": ""
            },
            "type": "choropleth"
           }
          ],
          "contour": [
           {
            "colorbar": {
             "outlinewidth": 0,
             "ticks": ""
            },
            "colorscale": [
             [
              0,
              "#0d0887"
             ],
             [
              0.1111111111111111,
              "#46039f"
             ],
             [
              0.2222222222222222,
              "#7201a8"
             ],
             [
              0.3333333333333333,
              "#9c179e"
             ],
             [
              0.4444444444444444,
              "#bd3786"
             ],
             [
              0.5555555555555556,
              "#d8576b"
             ],
             [
              0.6666666666666666,
              "#ed7953"
             ],
             [
              0.7777777777777778,
              "#fb9f3a"
             ],
             [
              0.8888888888888888,
              "#fdca26"
             ],
             [
              1,
              "#f0f921"
             ]
            ],
            "type": "contour"
           }
          ],
          "contourcarpet": [
           {
            "colorbar": {
             "outlinewidth": 0,
             "ticks": ""
            },
            "type": "contourcarpet"
           }
          ],
          "heatmap": [
           {
            "colorbar": {
             "outlinewidth": 0,
             "ticks": ""
            },
            "colorscale": [
             [
              0,
              "#0d0887"
             ],
             [
              0.1111111111111111,
              "#46039f"
             ],
             [
              0.2222222222222222,
              "#7201a8"
             ],
             [
              0.3333333333333333,
              "#9c179e"
             ],
             [
              0.4444444444444444,
              "#bd3786"
             ],
             [
              0.5555555555555556,
              "#d8576b"
             ],
             [
              0.6666666666666666,
              "#ed7953"
             ],
             [
              0.7777777777777778,
              "#fb9f3a"
             ],
             [
              0.8888888888888888,
              "#fdca26"
             ],
             [
              1,
              "#f0f921"
             ]
            ],
            "type": "heatmap"
           }
          ],
          "heatmapgl": [
           {
            "colorbar": {
             "outlinewidth": 0,
             "ticks": ""
            },
            "colorscale": [
             [
              0,
              "#0d0887"
             ],
             [
              0.1111111111111111,
              "#46039f"
             ],
             [
              0.2222222222222222,
              "#7201a8"
             ],
             [
              0.3333333333333333,
              "#9c179e"
             ],
             [
              0.4444444444444444,
              "#bd3786"
             ],
             [
              0.5555555555555556,
              "#d8576b"
             ],
             [
              0.6666666666666666,
              "#ed7953"
             ],
             [
              0.7777777777777778,
              "#fb9f3a"
             ],
             [
              0.8888888888888888,
              "#fdca26"
             ],
             [
              1,
              "#f0f921"
             ]
            ],
            "type": "heatmapgl"
           }
          ],
          "histogram": [
           {
            "marker": {
             "pattern": {
              "fillmode": "overlay",
              "size": 10,
              "solidity": 0.2
             }
            },
            "type": "histogram"
           }
          ],
          "histogram2d": [
           {
            "colorbar": {
             "outlinewidth": 0,
             "ticks": ""
            },
            "colorscale": [
             [
              0,
              "#0d0887"
             ],
             [
              0.1111111111111111,
              "#46039f"
             ],
             [
              0.2222222222222222,
              "#7201a8"
             ],
             [
              0.3333333333333333,
              "#9c179e"
             ],
             [
              0.4444444444444444,
              "#bd3786"
             ],
             [
              0.5555555555555556,
              "#d8576b"
             ],
             [
              0.6666666666666666,
              "#ed7953"
             ],
             [
              0.7777777777777778,
              "#fb9f3a"
             ],
             [
              0.8888888888888888,
              "#fdca26"
             ],
             [
              1,
              "#f0f921"
             ]
            ],
            "type": "histogram2d"
           }
          ],
          "histogram2dcontour": [
           {
            "colorbar": {
             "outlinewidth": 0,
             "ticks": ""
            },
            "colorscale": [
             [
              0,
              "#0d0887"
             ],
             [
              0.1111111111111111,
              "#46039f"
             ],
             [
              0.2222222222222222,
              "#7201a8"
             ],
             [
              0.3333333333333333,
              "#9c179e"
             ],
             [
              0.4444444444444444,
              "#bd3786"
             ],
             [
              0.5555555555555556,
              "#d8576b"
             ],
             [
              0.6666666666666666,
              "#ed7953"
             ],
             [
              0.7777777777777778,
              "#fb9f3a"
             ],
             [
              0.8888888888888888,
              "#fdca26"
             ],
             [
              1,
              "#f0f921"
             ]
            ],
            "type": "histogram2dcontour"
           }
          ],
          "mesh3d": [
           {
            "colorbar": {
             "outlinewidth": 0,
             "ticks": ""
            },
            "type": "mesh3d"
           }
          ],
          "parcoords": [
           {
            "line": {
             "colorbar": {
              "outlinewidth": 0,
              "ticks": ""
             }
            },
            "type": "parcoords"
           }
          ],
          "pie": [
           {
            "automargin": true,
            "type": "pie"
           }
          ],
          "scatter": [
           {
            "fillpattern": {
             "fillmode": "overlay",
             "size": 10,
             "solidity": 0.2
            },
            "type": "scatter"
           }
          ],
          "scatter3d": [
           {
            "line": {
             "colorbar": {
              "outlinewidth": 0,
              "ticks": ""
             }
            },
            "marker": {
             "colorbar": {
              "outlinewidth": 0,
              "ticks": ""
             }
            },
            "type": "scatter3d"
           }
          ],
          "scattercarpet": [
           {
            "marker": {
             "colorbar": {
              "outlinewidth": 0,
              "ticks": ""
             }
            },
            "type": "scattercarpet"
           }
          ],
          "scattergeo": [
           {
            "marker": {
             "colorbar": {
              "outlinewidth": 0,
              "ticks": ""
             }
            },
            "type": "scattergeo"
           }
          ],
          "scattergl": [
           {
            "marker": {
             "colorbar": {
              "outlinewidth": 0,
              "ticks": ""
             }
            },
            "type": "scattergl"
           }
          ],
          "scattermapbox": [
           {
            "marker": {
             "colorbar": {
              "outlinewidth": 0,
              "ticks": ""
             }
            },
            "type": "scattermapbox"
           }
          ],
          "scatterpolar": [
           {
            "marker": {
             "colorbar": {
              "outlinewidth": 0,
              "ticks": ""
             }
            },
            "type": "scatterpolar"
           }
          ],
          "scatterpolargl": [
           {
            "marker": {
             "colorbar": {
              "outlinewidth": 0,
              "ticks": ""
             }
            },
            "type": "scatterpolargl"
           }
          ],
          "scatterternary": [
           {
            "marker": {
             "colorbar": {
              "outlinewidth": 0,
              "ticks": ""
             }
            },
            "type": "scatterternary"
           }
          ],
          "surface": [
           {
            "colorbar": {
             "outlinewidth": 0,
             "ticks": ""
            },
            "colorscale": [
             [
              0,
              "#0d0887"
             ],
             [
              0.1111111111111111,
              "#46039f"
             ],
             [
              0.2222222222222222,
              "#7201a8"
             ],
             [
              0.3333333333333333,
              "#9c179e"
             ],
             [
              0.4444444444444444,
              "#bd3786"
             ],
             [
              0.5555555555555556,
              "#d8576b"
             ],
             [
              0.6666666666666666,
              "#ed7953"
             ],
             [
              0.7777777777777778,
              "#fb9f3a"
             ],
             [
              0.8888888888888888,
              "#fdca26"
             ],
             [
              1,
              "#f0f921"
             ]
            ],
            "type": "surface"
           }
          ],
          "table": [
           {
            "cells": {
             "fill": {
              "color": "#EBF0F8"
             },
             "line": {
              "color": "white"
             }
            },
            "header": {
             "fill": {
              "color": "#C8D4E3"
             },
             "line": {
              "color": "white"
             }
            },
            "type": "table"
           }
          ]
         },
         "layout": {
          "annotationdefaults": {
           "arrowcolor": "#2a3f5f",
           "arrowhead": 0,
           "arrowwidth": 1
          },
          "autotypenumbers": "strict",
          "coloraxis": {
           "colorbar": {
            "outlinewidth": 0,
            "ticks": ""
           }
          },
          "colorscale": {
           "diverging": [
            [
             0,
             "#8e0152"
            ],
            [
             0.1,
             "#c51b7d"
            ],
            [
             0.2,
             "#de77ae"
            ],
            [
             0.3,
             "#f1b6da"
            ],
            [
             0.4,
             "#fde0ef"
            ],
            [
             0.5,
             "#f7f7f7"
            ],
            [
             0.6,
             "#e6f5d0"
            ],
            [
             0.7,
             "#b8e186"
            ],
            [
             0.8,
             "#7fbc41"
            ],
            [
             0.9,
             "#4d9221"
            ],
            [
             1,
             "#276419"
            ]
           ],
           "sequential": [
            [
             0,
             "#0d0887"
            ],
            [
             0.1111111111111111,
             "#46039f"
            ],
            [
             0.2222222222222222,
             "#7201a8"
            ],
            [
             0.3333333333333333,
             "#9c179e"
            ],
            [
             0.4444444444444444,
             "#bd3786"
            ],
            [
             0.5555555555555556,
             "#d8576b"
            ],
            [
             0.6666666666666666,
             "#ed7953"
            ],
            [
             0.7777777777777778,
             "#fb9f3a"
            ],
            [
             0.8888888888888888,
             "#fdca26"
            ],
            [
             1,
             "#f0f921"
            ]
           ],
           "sequentialminus": [
            [
             0,
             "#0d0887"
            ],
            [
             0.1111111111111111,
             "#46039f"
            ],
            [
             0.2222222222222222,
             "#7201a8"
            ],
            [
             0.3333333333333333,
             "#9c179e"
            ],
            [
             0.4444444444444444,
             "#bd3786"
            ],
            [
             0.5555555555555556,
             "#d8576b"
            ],
            [
             0.6666666666666666,
             "#ed7953"
            ],
            [
             0.7777777777777778,
             "#fb9f3a"
            ],
            [
             0.8888888888888888,
             "#fdca26"
            ],
            [
             1,
             "#f0f921"
            ]
           ]
          },
          "colorway": [
           "#636efa",
           "#EF553B",
           "#00cc96",
           "#ab63fa",
           "#FFA15A",
           "#19d3f3",
           "#FF6692",
           "#B6E880",
           "#FF97FF",
           "#FECB52"
          ],
          "font": {
           "color": "#2a3f5f"
          },
          "geo": {
           "bgcolor": "white",
           "lakecolor": "white",
           "landcolor": "#E5ECF6",
           "showlakes": true,
           "showland": true,
           "subunitcolor": "white"
          },
          "hoverlabel": {
           "align": "left"
          },
          "hovermode": "closest",
          "mapbox": {
           "style": "light"
          },
          "paper_bgcolor": "white",
          "plot_bgcolor": "#E5ECF6",
          "polar": {
           "angularaxis": {
            "gridcolor": "white",
            "linecolor": "white",
            "ticks": ""
           },
           "bgcolor": "#E5ECF6",
           "radialaxis": {
            "gridcolor": "white",
            "linecolor": "white",
            "ticks": ""
           }
          },
          "scene": {
           "xaxis": {
            "backgroundcolor": "#E5ECF6",
            "gridcolor": "white",
            "gridwidth": 2,
            "linecolor": "white",
            "showbackground": true,
            "ticks": "",
            "zerolinecolor": "white"
           },
           "yaxis": {
            "backgroundcolor": "#E5ECF6",
            "gridcolor": "white",
            "gridwidth": 2,
            "linecolor": "white",
            "showbackground": true,
            "ticks": "",
            "zerolinecolor": "white"
           },
           "zaxis": {
            "backgroundcolor": "#E5ECF6",
            "gridcolor": "white",
            "gridwidth": 2,
            "linecolor": "white",
            "showbackground": true,
            "ticks": "",
            "zerolinecolor": "white"
           }
          },
          "shapedefaults": {
           "line": {
            "color": "#2a3f5f"
           }
          },
          "ternary": {
           "aaxis": {
            "gridcolor": "white",
            "linecolor": "white",
            "ticks": ""
           },
           "baxis": {
            "gridcolor": "white",
            "linecolor": "white",
            "ticks": ""
           },
           "bgcolor": "#E5ECF6",
           "caxis": {
            "gridcolor": "white",
            "linecolor": "white",
            "ticks": ""
           }
          },
          "title": {
           "x": 0.05
          },
          "xaxis": {
           "automargin": true,
           "gridcolor": "white",
           "linecolor": "white",
           "ticks": "",
           "title": {
            "standoff": 15
           },
           "zerolinecolor": "white",
           "zerolinewidth": 2
          },
          "yaxis": {
           "automargin": true,
           "gridcolor": "white",
           "linecolor": "white",
           "ticks": "",
           "title": {
            "standoff": 15
           },
           "zerolinecolor": "white",
           "zerolinewidth": 2
          }
         }
        }
       }
      }
     },
     "metadata": {},
     "output_type": "display_data"
    }
   ],
   "source": [
    "postcodes = df['postcode'].unique()\n",
    "postcodes = postcodes[~np.isnan(postcodes)]\n",
    "\n",
    "fig = go.Figure()\n",
    "# Iterate through each device \n",
    "for d in postcodes:\n",
    "    # Find the subset of the data with that device\n",
    "    tmp_df = df[df['postcode'] == d]\n",
    "\n",
    "    # Create a dict object with 0 counts for all topics\n",
    "    postcodes_daily_activity = {}\n",
    "    for i in tmp_df.index:\n",
    "        # Find that index\n",
    "        tmp_timestamp = df['impression_time'][i]\n",
    "        tmp_datetime = tmp_timestamp\n",
    "        tmp_date = tmp_datetime.strftime('%m/%d/%Y')\n",
    "\n",
    "        # Daily Activity\n",
    "        if tmp_date not in postcodes_daily_activity:\n",
    "            postcodes_daily_activity[tmp_date] = 0\n",
    "        else:\n",
    "            postcodes_daily_activity[tmp_date] +=1\n",
    "        \n",
    "    \n",
    "    # Sort by dates\n",
    "    postcodes_daily_activity = dict(sorted(postcodes_daily_activity.items()))\n",
    "\n",
    "    # Add trace\n",
    "    fig.add_trace(go.Bar(x= [x for x in postcodes_daily_activity.keys()], y = [y for y in postcodes_daily_activity.values()], textfont_size=20))\n",
    "\n",
    "\n",
    "\n",
    "    # Overlay both histograms\n",
    "    #fig.update_layout(barmode='overlay')\n",
    "    # Reduce opacity to see both histograms\n",
    "fig.update_traces(opacity=0.75)\n",
    "fig.show()"
   ]
  },
  {
   "cell_type": "markdown",
   "id": "38ed70d3",
   "metadata": {},
   "source": [
    "#### Hourly Activity"
   ]
  },
  {
   "cell_type": "code",
   "execution_count": 22,
   "id": "0af96cef",
   "metadata": {},
   "outputs": [
    {
     "data": {
      "application/vnd.plotly.v1+json": {
       "config": {
        "plotlyServerURL": "https://plot.ly"
       },
       "data": [
        {
         "opacity": 0.75,
         "textfont": {
          "size": 20
         },
         "type": "bar",
         "x": [
          "01",
          "02",
          "03",
          "04",
          "05",
          "06",
          "07",
          "08",
          "09",
          "10",
          "11",
          "12",
          "13",
          "14",
          "15",
          "16",
          "17",
          "18",
          "19",
          "20",
          "21",
          "22",
          "23"
         ],
         "y": [
          0,
          4,
          9,
          15,
          38,
          33,
          18,
          3,
          15,
          14,
          8,
          17,
          19,
          12,
          9,
          17,
          14,
          15,
          17,
          20,
          19,
          5,
          8
         ]
        },
        {
         "opacity": 0.75,
         "textfont": {
          "size": 20
         },
         "type": "bar",
         "x": [
          "00",
          "01",
          "02",
          "03",
          "04",
          "05",
          "06",
          "07",
          "08",
          "09",
          "10",
          "11",
          "12",
          "13",
          "14",
          "15",
          "16",
          "17",
          "18",
          "19",
          "20",
          "21",
          "22",
          "23"
         ],
         "y": [
          3,
          4,
          0,
          10,
          21,
          32,
          37,
          38,
          41,
          47,
          28,
          20,
          40,
          29,
          23,
          19,
          33,
          35,
          23,
          29,
          19,
          13,
          3,
          1
         ]
        },
        {
         "opacity": 0.75,
         "textfont": {
          "size": 20
         },
         "type": "bar",
         "x": [
          "01",
          "03",
          "04",
          "06",
          "07",
          "08",
          "09",
          "10",
          "11",
          "12",
          "13",
          "14",
          "15",
          "16",
          "17",
          "18",
          "19",
          "20",
          "21",
          "23"
         ],
         "y": [
          3,
          1,
          1,
          12,
          21,
          5,
          6,
          3,
          7,
          21,
          16,
          9,
          8,
          4,
          8,
          12,
          17,
          14,
          1,
          1
         ]
        },
        {
         "opacity": 0.75,
         "textfont": {
          "size": 20
         },
         "type": "bar",
         "x": [
          "00",
          "02",
          "03",
          "04",
          "05",
          "06",
          "07",
          "08",
          "09",
          "10",
          "11",
          "12",
          "13",
          "14",
          "15",
          "16",
          "17",
          "18",
          "19",
          "20",
          "21",
          "22",
          "23"
         ],
         "y": [
          1,
          2,
          9,
          36,
          13,
          7,
          1,
          12,
          19,
          13,
          9,
          15,
          20,
          12,
          1,
          18,
          16,
          4,
          6,
          4,
          1,
          12,
          0
         ]
        },
        {
         "opacity": 0.75,
         "textfont": {
          "size": 20
         },
         "type": "bar",
         "x": [
          "02",
          "03",
          "04",
          "05",
          "06",
          "07",
          "08",
          "09",
          "10",
          "11",
          "12",
          "13",
          "14",
          "15",
          "16",
          "17",
          "18",
          "19",
          "20",
          "21",
          "23"
         ],
         "y": [
          4,
          3,
          40,
          9,
          29,
          10,
          6,
          5,
          6,
          4,
          8,
          16,
          8,
          7,
          10,
          7,
          11,
          10,
          16,
          38,
          0
         ]
        }
       ],
       "layout": {
        "template": {
         "data": {
          "bar": [
           {
            "error_x": {
             "color": "#2a3f5f"
            },
            "error_y": {
             "color": "#2a3f5f"
            },
            "marker": {
             "line": {
              "color": "#E5ECF6",
              "width": 0.5
             },
             "pattern": {
              "fillmode": "overlay",
              "size": 10,
              "solidity": 0.2
             }
            },
            "type": "bar"
           }
          ],
          "barpolar": [
           {
            "marker": {
             "line": {
              "color": "#E5ECF6",
              "width": 0.5
             },
             "pattern": {
              "fillmode": "overlay",
              "size": 10,
              "solidity": 0.2
             }
            },
            "type": "barpolar"
           }
          ],
          "carpet": [
           {
            "aaxis": {
             "endlinecolor": "#2a3f5f",
             "gridcolor": "white",
             "linecolor": "white",
             "minorgridcolor": "white",
             "startlinecolor": "#2a3f5f"
            },
            "baxis": {
             "endlinecolor": "#2a3f5f",
             "gridcolor": "white",
             "linecolor": "white",
             "minorgridcolor": "white",
             "startlinecolor": "#2a3f5f"
            },
            "type": "carpet"
           }
          ],
          "choropleth": [
           {
            "colorbar": {
             "outlinewidth": 0,
             "ticks": ""
            },
            "type": "choropleth"
           }
          ],
          "contour": [
           {
            "colorbar": {
             "outlinewidth": 0,
             "ticks": ""
            },
            "colorscale": [
             [
              0,
              "#0d0887"
             ],
             [
              0.1111111111111111,
              "#46039f"
             ],
             [
              0.2222222222222222,
              "#7201a8"
             ],
             [
              0.3333333333333333,
              "#9c179e"
             ],
             [
              0.4444444444444444,
              "#bd3786"
             ],
             [
              0.5555555555555556,
              "#d8576b"
             ],
             [
              0.6666666666666666,
              "#ed7953"
             ],
             [
              0.7777777777777778,
              "#fb9f3a"
             ],
             [
              0.8888888888888888,
              "#fdca26"
             ],
             [
              1,
              "#f0f921"
             ]
            ],
            "type": "contour"
           }
          ],
          "contourcarpet": [
           {
            "colorbar": {
             "outlinewidth": 0,
             "ticks": ""
            },
            "type": "contourcarpet"
           }
          ],
          "heatmap": [
           {
            "colorbar": {
             "outlinewidth": 0,
             "ticks": ""
            },
            "colorscale": [
             [
              0,
              "#0d0887"
             ],
             [
              0.1111111111111111,
              "#46039f"
             ],
             [
              0.2222222222222222,
              "#7201a8"
             ],
             [
              0.3333333333333333,
              "#9c179e"
             ],
             [
              0.4444444444444444,
              "#bd3786"
             ],
             [
              0.5555555555555556,
              "#d8576b"
             ],
             [
              0.6666666666666666,
              "#ed7953"
             ],
             [
              0.7777777777777778,
              "#fb9f3a"
             ],
             [
              0.8888888888888888,
              "#fdca26"
             ],
             [
              1,
              "#f0f921"
             ]
            ],
            "type": "heatmap"
           }
          ],
          "heatmapgl": [
           {
            "colorbar": {
             "outlinewidth": 0,
             "ticks": ""
            },
            "colorscale": [
             [
              0,
              "#0d0887"
             ],
             [
              0.1111111111111111,
              "#46039f"
             ],
             [
              0.2222222222222222,
              "#7201a8"
             ],
             [
              0.3333333333333333,
              "#9c179e"
             ],
             [
              0.4444444444444444,
              "#bd3786"
             ],
             [
              0.5555555555555556,
              "#d8576b"
             ],
             [
              0.6666666666666666,
              "#ed7953"
             ],
             [
              0.7777777777777778,
              "#fb9f3a"
             ],
             [
              0.8888888888888888,
              "#fdca26"
             ],
             [
              1,
              "#f0f921"
             ]
            ],
            "type": "heatmapgl"
           }
          ],
          "histogram": [
           {
            "marker": {
             "pattern": {
              "fillmode": "overlay",
              "size": 10,
              "solidity": 0.2
             }
            },
            "type": "histogram"
           }
          ],
          "histogram2d": [
           {
            "colorbar": {
             "outlinewidth": 0,
             "ticks": ""
            },
            "colorscale": [
             [
              0,
              "#0d0887"
             ],
             [
              0.1111111111111111,
              "#46039f"
             ],
             [
              0.2222222222222222,
              "#7201a8"
             ],
             [
              0.3333333333333333,
              "#9c179e"
             ],
             [
              0.4444444444444444,
              "#bd3786"
             ],
             [
              0.5555555555555556,
              "#d8576b"
             ],
             [
              0.6666666666666666,
              "#ed7953"
             ],
             [
              0.7777777777777778,
              "#fb9f3a"
             ],
             [
              0.8888888888888888,
              "#fdca26"
             ],
             [
              1,
              "#f0f921"
             ]
            ],
            "type": "histogram2d"
           }
          ],
          "histogram2dcontour": [
           {
            "colorbar": {
             "outlinewidth": 0,
             "ticks": ""
            },
            "colorscale": [
             [
              0,
              "#0d0887"
             ],
             [
              0.1111111111111111,
              "#46039f"
             ],
             [
              0.2222222222222222,
              "#7201a8"
             ],
             [
              0.3333333333333333,
              "#9c179e"
             ],
             [
              0.4444444444444444,
              "#bd3786"
             ],
             [
              0.5555555555555556,
              "#d8576b"
             ],
             [
              0.6666666666666666,
              "#ed7953"
             ],
             [
              0.7777777777777778,
              "#fb9f3a"
             ],
             [
              0.8888888888888888,
              "#fdca26"
             ],
             [
              1,
              "#f0f921"
             ]
            ],
            "type": "histogram2dcontour"
           }
          ],
          "mesh3d": [
           {
            "colorbar": {
             "outlinewidth": 0,
             "ticks": ""
            },
            "type": "mesh3d"
           }
          ],
          "parcoords": [
           {
            "line": {
             "colorbar": {
              "outlinewidth": 0,
              "ticks": ""
             }
            },
            "type": "parcoords"
           }
          ],
          "pie": [
           {
            "automargin": true,
            "type": "pie"
           }
          ],
          "scatter": [
           {
            "fillpattern": {
             "fillmode": "overlay",
             "size": 10,
             "solidity": 0.2
            },
            "type": "scatter"
           }
          ],
          "scatter3d": [
           {
            "line": {
             "colorbar": {
              "outlinewidth": 0,
              "ticks": ""
             }
            },
            "marker": {
             "colorbar": {
              "outlinewidth": 0,
              "ticks": ""
             }
            },
            "type": "scatter3d"
           }
          ],
          "scattercarpet": [
           {
            "marker": {
             "colorbar": {
              "outlinewidth": 0,
              "ticks": ""
             }
            },
            "type": "scattercarpet"
           }
          ],
          "scattergeo": [
           {
            "marker": {
             "colorbar": {
              "outlinewidth": 0,
              "ticks": ""
             }
            },
            "type": "scattergeo"
           }
          ],
          "scattergl": [
           {
            "marker": {
             "colorbar": {
              "outlinewidth": 0,
              "ticks": ""
             }
            },
            "type": "scattergl"
           }
          ],
          "scattermapbox": [
           {
            "marker": {
             "colorbar": {
              "outlinewidth": 0,
              "ticks": ""
             }
            },
            "type": "scattermapbox"
           }
          ],
          "scatterpolar": [
           {
            "marker": {
             "colorbar": {
              "outlinewidth": 0,
              "ticks": ""
             }
            },
            "type": "scatterpolar"
           }
          ],
          "scatterpolargl": [
           {
            "marker": {
             "colorbar": {
              "outlinewidth": 0,
              "ticks": ""
             }
            },
            "type": "scatterpolargl"
           }
          ],
          "scatterternary": [
           {
            "marker": {
             "colorbar": {
              "outlinewidth": 0,
              "ticks": ""
             }
            },
            "type": "scatterternary"
           }
          ],
          "surface": [
           {
            "colorbar": {
             "outlinewidth": 0,
             "ticks": ""
            },
            "colorscale": [
             [
              0,
              "#0d0887"
             ],
             [
              0.1111111111111111,
              "#46039f"
             ],
             [
              0.2222222222222222,
              "#7201a8"
             ],
             [
              0.3333333333333333,
              "#9c179e"
             ],
             [
              0.4444444444444444,
              "#bd3786"
             ],
             [
              0.5555555555555556,
              "#d8576b"
             ],
             [
              0.6666666666666666,
              "#ed7953"
             ],
             [
              0.7777777777777778,
              "#fb9f3a"
             ],
             [
              0.8888888888888888,
              "#fdca26"
             ],
             [
              1,
              "#f0f921"
             ]
            ],
            "type": "surface"
           }
          ],
          "table": [
           {
            "cells": {
             "fill": {
              "color": "#EBF0F8"
             },
             "line": {
              "color": "white"
             }
            },
            "header": {
             "fill": {
              "color": "#C8D4E3"
             },
             "line": {
              "color": "white"
             }
            },
            "type": "table"
           }
          ]
         },
         "layout": {
          "annotationdefaults": {
           "arrowcolor": "#2a3f5f",
           "arrowhead": 0,
           "arrowwidth": 1
          },
          "autotypenumbers": "strict",
          "coloraxis": {
           "colorbar": {
            "outlinewidth": 0,
            "ticks": ""
           }
          },
          "colorscale": {
           "diverging": [
            [
             0,
             "#8e0152"
            ],
            [
             0.1,
             "#c51b7d"
            ],
            [
             0.2,
             "#de77ae"
            ],
            [
             0.3,
             "#f1b6da"
            ],
            [
             0.4,
             "#fde0ef"
            ],
            [
             0.5,
             "#f7f7f7"
            ],
            [
             0.6,
             "#e6f5d0"
            ],
            [
             0.7,
             "#b8e186"
            ],
            [
             0.8,
             "#7fbc41"
            ],
            [
             0.9,
             "#4d9221"
            ],
            [
             1,
             "#276419"
            ]
           ],
           "sequential": [
            [
             0,
             "#0d0887"
            ],
            [
             0.1111111111111111,
             "#46039f"
            ],
            [
             0.2222222222222222,
             "#7201a8"
            ],
            [
             0.3333333333333333,
             "#9c179e"
            ],
            [
             0.4444444444444444,
             "#bd3786"
            ],
            [
             0.5555555555555556,
             "#d8576b"
            ],
            [
             0.6666666666666666,
             "#ed7953"
            ],
            [
             0.7777777777777778,
             "#fb9f3a"
            ],
            [
             0.8888888888888888,
             "#fdca26"
            ],
            [
             1,
             "#f0f921"
            ]
           ],
           "sequentialminus": [
            [
             0,
             "#0d0887"
            ],
            [
             0.1111111111111111,
             "#46039f"
            ],
            [
             0.2222222222222222,
             "#7201a8"
            ],
            [
             0.3333333333333333,
             "#9c179e"
            ],
            [
             0.4444444444444444,
             "#bd3786"
            ],
            [
             0.5555555555555556,
             "#d8576b"
            ],
            [
             0.6666666666666666,
             "#ed7953"
            ],
            [
             0.7777777777777778,
             "#fb9f3a"
            ],
            [
             0.8888888888888888,
             "#fdca26"
            ],
            [
             1,
             "#f0f921"
            ]
           ]
          },
          "colorway": [
           "#636efa",
           "#EF553B",
           "#00cc96",
           "#ab63fa",
           "#FFA15A",
           "#19d3f3",
           "#FF6692",
           "#B6E880",
           "#FF97FF",
           "#FECB52"
          ],
          "font": {
           "color": "#2a3f5f"
          },
          "geo": {
           "bgcolor": "white",
           "lakecolor": "white",
           "landcolor": "#E5ECF6",
           "showlakes": true,
           "showland": true,
           "subunitcolor": "white"
          },
          "hoverlabel": {
           "align": "left"
          },
          "hovermode": "closest",
          "mapbox": {
           "style": "light"
          },
          "paper_bgcolor": "white",
          "plot_bgcolor": "#E5ECF6",
          "polar": {
           "angularaxis": {
            "gridcolor": "white",
            "linecolor": "white",
            "ticks": ""
           },
           "bgcolor": "#E5ECF6",
           "radialaxis": {
            "gridcolor": "white",
            "linecolor": "white",
            "ticks": ""
           }
          },
          "scene": {
           "xaxis": {
            "backgroundcolor": "#E5ECF6",
            "gridcolor": "white",
            "gridwidth": 2,
            "linecolor": "white",
            "showbackground": true,
            "ticks": "",
            "zerolinecolor": "white"
           },
           "yaxis": {
            "backgroundcolor": "#E5ECF6",
            "gridcolor": "white",
            "gridwidth": 2,
            "linecolor": "white",
            "showbackground": true,
            "ticks": "",
            "zerolinecolor": "white"
           },
           "zaxis": {
            "backgroundcolor": "#E5ECF6",
            "gridcolor": "white",
            "gridwidth": 2,
            "linecolor": "white",
            "showbackground": true,
            "ticks": "",
            "zerolinecolor": "white"
           }
          },
          "shapedefaults": {
           "line": {
            "color": "#2a3f5f"
           }
          },
          "ternary": {
           "aaxis": {
            "gridcolor": "white",
            "linecolor": "white",
            "ticks": ""
           },
           "baxis": {
            "gridcolor": "white",
            "linecolor": "white",
            "ticks": ""
           },
           "bgcolor": "#E5ECF6",
           "caxis": {
            "gridcolor": "white",
            "linecolor": "white",
            "ticks": ""
           }
          },
          "title": {
           "x": 0.05
          },
          "xaxis": {
           "automargin": true,
           "gridcolor": "white",
           "linecolor": "white",
           "ticks": "",
           "title": {
            "standoff": 15
           },
           "zerolinecolor": "white",
           "zerolinewidth": 2
          },
          "yaxis": {
           "automargin": true,
           "gridcolor": "white",
           "linecolor": "white",
           "ticks": "",
           "title": {
            "standoff": 15
           },
           "zerolinecolor": "white",
           "zerolinewidth": 2
          }
         }
        }
       }
      }
     },
     "metadata": {},
     "output_type": "display_data"
    }
   ],
   "source": [
    "postcodes = df['postcode'].unique()\n",
    "postcodes = postcodes[~np.isnan(postcodes)]\n",
    "\n",
    "\n",
    "fig = go.Figure()\n",
    "# Iterate through each device \n",
    "for d in postcodes:\n",
    "    # Find the subset of the data with that device\n",
    "    tmp_df = df[df['postcode'] == d]\n",
    "\n",
    "    # Create a dict object with 0 counts for all topics\n",
    "    postcodes_hourly_activity = {}\n",
    "    for i in tmp_df.index:\n",
    "        # Find that index\n",
    "        tmp_timestamp = df['impression_time'][i]\n",
    "        tmp_datetime = tmp_timestamp\n",
    "        tmp_time = tmp_datetime.strftime('%H')\n",
    "\n",
    "        # Daily Activity\n",
    "        if tmp_time not in postcodes_hourly_activity:\n",
    "            postcodes_hourly_activity[tmp_time] = 0\n",
    "        else:\n",
    "            postcodes_hourly_activity[tmp_time] +=1\n",
    "        \n",
    "    \n",
    "    # Sort by dates\n",
    "    postcodes_hourly_activity = dict(sorted(postcodes_hourly_activity.items()))\n",
    "\n",
    "    # Add trace\n",
    "    fig.add_trace(go.Bar(x= [x for x in postcodes_hourly_activity.keys()], y = [y for y in postcodes_hourly_activity.values()], textfont_size=20))\n",
    "\n",
    "\n",
    "\n",
    "    # Overlay both histograms\n",
    "    #fig.update_layout(barmode='overlay')\n",
    "    # Reduce opacity to see both histograms\n",
    "fig.update_traces(opacity=0.75)\n",
    "fig.show()"
   ]
  },
  {
   "cell_type": "code",
   "execution_count": 32,
   "id": "d54c4b6b",
   "metadata": {},
   "outputs": [
    {
     "data": {
      "application/vnd.plotly.v1+json": {
       "config": {
        "plotlyServerURL": "https://plot.ly"
       },
       "data": [
        {
         "opacity": 0.75,
         "textfont": {
          "size": 20
         },
         "type": "bar",
         "x": [
          1,
          2,
          3,
          4,
          5,
          6,
          7,
          8,
          9,
          10,
          11,
          12,
          13,
          14,
          15,
          16,
          17,
          18,
          19
         ],
         "y": [
          20549,
          8184,
          3833,
          1980,
          1039,
          500,
          334,
          149,
          87,
          53,
          43,
          22,
          13,
          4,
          1,
          0,
          3,
          0,
          1
         ]
        }
       ],
       "layout": {
        "template": {
         "data": {
          "bar": [
           {
            "error_x": {
             "color": "#2a3f5f"
            },
            "error_y": {
             "color": "#2a3f5f"
            },
            "marker": {
             "line": {
              "color": "#E5ECF6",
              "width": 0.5
             },
             "pattern": {
              "fillmode": "overlay",
              "size": 10,
              "solidity": 0.2
             }
            },
            "type": "bar"
           }
          ],
          "barpolar": [
           {
            "marker": {
             "line": {
              "color": "#E5ECF6",
              "width": 0.5
             },
             "pattern": {
              "fillmode": "overlay",
              "size": 10,
              "solidity": 0.2
             }
            },
            "type": "barpolar"
           }
          ],
          "carpet": [
           {
            "aaxis": {
             "endlinecolor": "#2a3f5f",
             "gridcolor": "white",
             "linecolor": "white",
             "minorgridcolor": "white",
             "startlinecolor": "#2a3f5f"
            },
            "baxis": {
             "endlinecolor": "#2a3f5f",
             "gridcolor": "white",
             "linecolor": "white",
             "minorgridcolor": "white",
             "startlinecolor": "#2a3f5f"
            },
            "type": "carpet"
           }
          ],
          "choropleth": [
           {
            "colorbar": {
             "outlinewidth": 0,
             "ticks": ""
            },
            "type": "choropleth"
           }
          ],
          "contour": [
           {
            "colorbar": {
             "outlinewidth": 0,
             "ticks": ""
            },
            "colorscale": [
             [
              0,
              "#0d0887"
             ],
             [
              0.1111111111111111,
              "#46039f"
             ],
             [
              0.2222222222222222,
              "#7201a8"
             ],
             [
              0.3333333333333333,
              "#9c179e"
             ],
             [
              0.4444444444444444,
              "#bd3786"
             ],
             [
              0.5555555555555556,
              "#d8576b"
             ],
             [
              0.6666666666666666,
              "#ed7953"
             ],
             [
              0.7777777777777778,
              "#fb9f3a"
             ],
             [
              0.8888888888888888,
              "#fdca26"
             ],
             [
              1,
              "#f0f921"
             ]
            ],
            "type": "contour"
           }
          ],
          "contourcarpet": [
           {
            "colorbar": {
             "outlinewidth": 0,
             "ticks": ""
            },
            "type": "contourcarpet"
           }
          ],
          "heatmap": [
           {
            "colorbar": {
             "outlinewidth": 0,
             "ticks": ""
            },
            "colorscale": [
             [
              0,
              "#0d0887"
             ],
             [
              0.1111111111111111,
              "#46039f"
             ],
             [
              0.2222222222222222,
              "#7201a8"
             ],
             [
              0.3333333333333333,
              "#9c179e"
             ],
             [
              0.4444444444444444,
              "#bd3786"
             ],
             [
              0.5555555555555556,
              "#d8576b"
             ],
             [
              0.6666666666666666,
              "#ed7953"
             ],
             [
              0.7777777777777778,
              "#fb9f3a"
             ],
             [
              0.8888888888888888,
              "#fdca26"
             ],
             [
              1,
              "#f0f921"
             ]
            ],
            "type": "heatmap"
           }
          ],
          "heatmapgl": [
           {
            "colorbar": {
             "outlinewidth": 0,
             "ticks": ""
            },
            "colorscale": [
             [
              0,
              "#0d0887"
             ],
             [
              0.1111111111111111,
              "#46039f"
             ],
             [
              0.2222222222222222,
              "#7201a8"
             ],
             [
              0.3333333333333333,
              "#9c179e"
             ],
             [
              0.4444444444444444,
              "#bd3786"
             ],
             [
              0.5555555555555556,
              "#d8576b"
             ],
             [
              0.6666666666666666,
              "#ed7953"
             ],
             [
              0.7777777777777778,
              "#fb9f3a"
             ],
             [
              0.8888888888888888,
              "#fdca26"
             ],
             [
              1,
              "#f0f921"
             ]
            ],
            "type": "heatmapgl"
           }
          ],
          "histogram": [
           {
            "marker": {
             "pattern": {
              "fillmode": "overlay",
              "size": 10,
              "solidity": 0.2
             }
            },
            "type": "histogram"
           }
          ],
          "histogram2d": [
           {
            "colorbar": {
             "outlinewidth": 0,
             "ticks": ""
            },
            "colorscale": [
             [
              0,
              "#0d0887"
             ],
             [
              0.1111111111111111,
              "#46039f"
             ],
             [
              0.2222222222222222,
              "#7201a8"
             ],
             [
              0.3333333333333333,
              "#9c179e"
             ],
             [
              0.4444444444444444,
              "#bd3786"
             ],
             [
              0.5555555555555556,
              "#d8576b"
             ],
             [
              0.6666666666666666,
              "#ed7953"
             ],
             [
              0.7777777777777778,
              "#fb9f3a"
             ],
             [
              0.8888888888888888,
              "#fdca26"
             ],
             [
              1,
              "#f0f921"
             ]
            ],
            "type": "histogram2d"
           }
          ],
          "histogram2dcontour": [
           {
            "colorbar": {
             "outlinewidth": 0,
             "ticks": ""
            },
            "colorscale": [
             [
              0,
              "#0d0887"
             ],
             [
              0.1111111111111111,
              "#46039f"
             ],
             [
              0.2222222222222222,
              "#7201a8"
             ],
             [
              0.3333333333333333,
              "#9c179e"
             ],
             [
              0.4444444444444444,
              "#bd3786"
             ],
             [
              0.5555555555555556,
              "#d8576b"
             ],
             [
              0.6666666666666666,
              "#ed7953"
             ],
             [
              0.7777777777777778,
              "#fb9f3a"
             ],
             [
              0.8888888888888888,
              "#fdca26"
             ],
             [
              1,
              "#f0f921"
             ]
            ],
            "type": "histogram2dcontour"
           }
          ],
          "mesh3d": [
           {
            "colorbar": {
             "outlinewidth": 0,
             "ticks": ""
            },
            "type": "mesh3d"
           }
          ],
          "parcoords": [
           {
            "line": {
             "colorbar": {
              "outlinewidth": 0,
              "ticks": ""
             }
            },
            "type": "parcoords"
           }
          ],
          "pie": [
           {
            "automargin": true,
            "type": "pie"
           }
          ],
          "scatter": [
           {
            "fillpattern": {
             "fillmode": "overlay",
             "size": 10,
             "solidity": 0.2
            },
            "type": "scatter"
           }
          ],
          "scatter3d": [
           {
            "line": {
             "colorbar": {
              "outlinewidth": 0,
              "ticks": ""
             }
            },
            "marker": {
             "colorbar": {
              "outlinewidth": 0,
              "ticks": ""
             }
            },
            "type": "scatter3d"
           }
          ],
          "scattercarpet": [
           {
            "marker": {
             "colorbar": {
              "outlinewidth": 0,
              "ticks": ""
             }
            },
            "type": "scattercarpet"
           }
          ],
          "scattergeo": [
           {
            "marker": {
             "colorbar": {
              "outlinewidth": 0,
              "ticks": ""
             }
            },
            "type": "scattergeo"
           }
          ],
          "scattergl": [
           {
            "marker": {
             "colorbar": {
              "outlinewidth": 0,
              "ticks": ""
             }
            },
            "type": "scattergl"
           }
          ],
          "scattermapbox": [
           {
            "marker": {
             "colorbar": {
              "outlinewidth": 0,
              "ticks": ""
             }
            },
            "type": "scattermapbox"
           }
          ],
          "scatterpolar": [
           {
            "marker": {
             "colorbar": {
              "outlinewidth": 0,
              "ticks": ""
             }
            },
            "type": "scatterpolar"
           }
          ],
          "scatterpolargl": [
           {
            "marker": {
             "colorbar": {
              "outlinewidth": 0,
              "ticks": ""
             }
            },
            "type": "scatterpolargl"
           }
          ],
          "scatterternary": [
           {
            "marker": {
             "colorbar": {
              "outlinewidth": 0,
              "ticks": ""
             }
            },
            "type": "scatterternary"
           }
          ],
          "surface": [
           {
            "colorbar": {
             "outlinewidth": 0,
             "ticks": ""
            },
            "colorscale": [
             [
              0,
              "#0d0887"
             ],
             [
              0.1111111111111111,
              "#46039f"
             ],
             [
              0.2222222222222222,
              "#7201a8"
             ],
             [
              0.3333333333333333,
              "#9c179e"
             ],
             [
              0.4444444444444444,
              "#bd3786"
             ],
             [
              0.5555555555555556,
              "#d8576b"
             ],
             [
              0.6666666666666666,
              "#ed7953"
             ],
             [
              0.7777777777777778,
              "#fb9f3a"
             ],
             [
              0.8888888888888888,
              "#fdca26"
             ],
             [
              1,
              "#f0f921"
             ]
            ],
            "type": "surface"
           }
          ],
          "table": [
           {
            "cells": {
             "fill": {
              "color": "#EBF0F8"
             },
             "line": {
              "color": "white"
             }
            },
            "header": {
             "fill": {
              "color": "#C8D4E3"
             },
             "line": {
              "color": "white"
             }
            },
            "type": "table"
           }
          ]
         },
         "layout": {
          "annotationdefaults": {
           "arrowcolor": "#2a3f5f",
           "arrowhead": 0,
           "arrowwidth": 1
          },
          "autotypenumbers": "strict",
          "coloraxis": {
           "colorbar": {
            "outlinewidth": 0,
            "ticks": ""
           }
          },
          "colorscale": {
           "diverging": [
            [
             0,
             "#8e0152"
            ],
            [
             0.1,
             "#c51b7d"
            ],
            [
             0.2,
             "#de77ae"
            ],
            [
             0.3,
             "#f1b6da"
            ],
            [
             0.4,
             "#fde0ef"
            ],
            [
             0.5,
             "#f7f7f7"
            ],
            [
             0.6,
             "#e6f5d0"
            ],
            [
             0.7,
             "#b8e186"
            ],
            [
             0.8,
             "#7fbc41"
            ],
            [
             0.9,
             "#4d9221"
            ],
            [
             1,
             "#276419"
            ]
           ],
           "sequential": [
            [
             0,
             "#0d0887"
            ],
            [
             0.1111111111111111,
             "#46039f"
            ],
            [
             0.2222222222222222,
             "#7201a8"
            ],
            [
             0.3333333333333333,
             "#9c179e"
            ],
            [
             0.4444444444444444,
             "#bd3786"
            ],
            [
             0.5555555555555556,
             "#d8576b"
            ],
            [
             0.6666666666666666,
             "#ed7953"
            ],
            [
             0.7777777777777778,
             "#fb9f3a"
            ],
            [
             0.8888888888888888,
             "#fdca26"
            ],
            [
             1,
             "#f0f921"
            ]
           ],
           "sequentialminus": [
            [
             0,
             "#0d0887"
            ],
            [
             0.1111111111111111,
             "#46039f"
            ],
            [
             0.2222222222222222,
             "#7201a8"
            ],
            [
             0.3333333333333333,
             "#9c179e"
            ],
            [
             0.4444444444444444,
             "#bd3786"
            ],
            [
             0.5555555555555556,
             "#d8576b"
            ],
            [
             0.6666666666666666,
             "#ed7953"
            ],
            [
             0.7777777777777778,
             "#fb9f3a"
            ],
            [
             0.8888888888888888,
             "#fdca26"
            ],
            [
             1,
             "#f0f921"
            ]
           ]
          },
          "colorway": [
           "#636efa",
           "#EF553B",
           "#00cc96",
           "#ab63fa",
           "#FFA15A",
           "#19d3f3",
           "#FF6692",
           "#B6E880",
           "#FF97FF",
           "#FECB52"
          ],
          "font": {
           "color": "#2a3f5f"
          },
          "geo": {
           "bgcolor": "white",
           "lakecolor": "white",
           "landcolor": "#E5ECF6",
           "showlakes": true,
           "showland": true,
           "subunitcolor": "white"
          },
          "hoverlabel": {
           "align": "left"
          },
          "hovermode": "closest",
          "mapbox": {
           "style": "light"
          },
          "paper_bgcolor": "white",
          "plot_bgcolor": "#E5ECF6",
          "polar": {
           "angularaxis": {
            "gridcolor": "white",
            "linecolor": "white",
            "ticks": ""
           },
           "bgcolor": "#E5ECF6",
           "radialaxis": {
            "gridcolor": "white",
            "linecolor": "white",
            "ticks": ""
           }
          },
          "scene": {
           "xaxis": {
            "backgroundcolor": "#E5ECF6",
            "gridcolor": "white",
            "gridwidth": 2,
            "linecolor": "white",
            "showbackground": true,
            "ticks": "",
            "zerolinecolor": "white"
           },
           "yaxis": {
            "backgroundcolor": "#E5ECF6",
            "gridcolor": "white",
            "gridwidth": 2,
            "linecolor": "white",
            "showbackground": true,
            "ticks": "",
            "zerolinecolor": "white"
           },
           "zaxis": {
            "backgroundcolor": "#E5ECF6",
            "gridcolor": "white",
            "gridwidth": 2,
            "linecolor": "white",
            "showbackground": true,
            "ticks": "",
            "zerolinecolor": "white"
           }
          },
          "shapedefaults": {
           "line": {
            "color": "#2a3f5f"
           }
          },
          "ternary": {
           "aaxis": {
            "gridcolor": "white",
            "linecolor": "white",
            "ticks": ""
           },
           "baxis": {
            "gridcolor": "white",
            "linecolor": "white",
            "ticks": ""
           },
           "bgcolor": "#E5ECF6",
           "caxis": {
            "gridcolor": "white",
            "linecolor": "white",
            "ticks": ""
           }
          },
          "title": {
           "x": 0.05
          },
          "xaxis": {
           "automargin": true,
           "gridcolor": "white",
           "linecolor": "white",
           "ticks": "",
           "title": {
            "standoff": 15
           },
           "zerolinecolor": "white",
           "zerolinewidth": 2
          },
          "yaxis": {
           "automargin": true,
           "gridcolor": "white",
           "linecolor": "white",
           "ticks": "",
           "title": {
            "standoff": 15
           },
           "zerolinecolor": "white",
           "zerolinewidth": 2
          }
         }
        }
       }
      }
     },
     "metadata": {},
     "output_type": "display_data"
    }
   ],
   "source": [
    "# How many unique articles are clicked in a session?\n",
    "\n",
    "tmp_aps = df.groupby('session_id')['article_id'].apply(list)\n",
    "\n",
    "articles_per_session = {k:0 for k in range(1, 20)}\n",
    "\n",
    "for i in tmp_aps:\n",
    "    num_articles = len(i)\n",
    "    articles_per_session[num_articles] += 1\n",
    "\n",
    "\n",
    "indices = [k for k in articles_per_session.keys()]\n",
    "values = [k for k in articles_per_session.values()]\n",
    "\n",
    "\n",
    "fig = go.Figure()\n",
    "\n",
    "# Add trace\n",
    "fig.add_trace(go.Bar(x= indices, y = values, textfont_size=20))\n",
    "\n",
    "fig.update_traces(opacity=0.75)\n",
    "fig.show()\n"
   ]
  },
  {
   "cell_type": "code",
   "execution_count": null,
   "id": "830901ce",
   "metadata": {},
   "outputs": [],
   "source": []
  }
 ],
 "metadata": {
  "kernelspec": {
   "display_name": "Python 3 (ipykernel)",
   "language": "python",
   "name": "python3"
  },
  "language_info": {
   "codemirror_mode": {
    "name": "ipython",
    "version": 3
   },
   "file_extension": ".py",
   "mimetype": "text/x-python",
   "name": "python",
   "nbconvert_exporter": "python",
   "pygments_lexer": "ipython3",
   "version": "3.11.4"
  }
 },
 "nbformat": 4,
 "nbformat_minor": 5
}
