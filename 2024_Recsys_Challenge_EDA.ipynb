{
 "cells": [
  {
   "cell_type": "markdown",
   "id": "d2671047-b3da-4686-8a34-f7e63d82e738",
   "metadata": {},
   "source": [
    "Task\n",
    "- Refactor code\n",
    "    - Fix all visualizations\n",
    "    - Functionalize everything\n",
    "- Fix the plots\n",
    "- Start on EDA\n",
    "    - Each major feature will cover distribution of the feature, readtime/scroll pct, how it relates to the topics selected, and activity distribution.\n",
    "        - We will use histograms, bar plots, box plots, and scatter plots (can look at pie charts too)\n",
    "        - Separate out some plots maybe\n",
    "        - Look into changing activity to scatter plots\n",
    "        - Next thing we have to do is look update the multiple bar plot\n",
    "        \n",
    "- Model selection"
   ]
  },
  {
   "cell_type": "markdown",
   "id": "237298c2-2986-4bba-bcbd-5ff27e361919",
   "metadata": {},
   "source": [
    "Background Information on Dataset: BLAH BLAH BLAH"
   ]
  },
  {
   "cell_type": "markdown",
   "id": "9f8cf39e-f468-4ac2-9f59-2eefab32a277",
   "metadata": {},
   "source": [
    "Importing Packages"
   ]
  },
  {
   "cell_type": "code",
   "execution_count": 1,
   "id": "f4711c74-a01b-4ce7-8a3d-de5a605d13e4",
   "metadata": {},
   "outputs": [],
   "source": [
    "import numpy as np\n",
    "import pandas as pd\n",
    "\n",
    "import plotly\n",
    "import plotly.express as px\n",
    "import plotly.graph_objects as go\n",
    "\n",
    "from datetime import datetime\n",
    "from plotly.subplots import make_subplots"
   ]
  },
  {
   "cell_type": "markdown",
   "id": "06f05b58-dde3-4d5f-87a2-f20ad71cd62b",
   "metadata": {},
   "source": [
    "# EDA"
   ]
  },
  {
   "cell_type": "markdown",
   "id": "616fa6a4-e47a-4116-82f5-896d6893a00e",
   "metadata": {},
   "source": [
    "Load in dataset"
   ]
  },
  {
   "cell_type": "code",
   "execution_count": 2,
   "id": "59a57c46-4e08-4299-8a69-12d45e274b46",
   "metadata": {},
   "outputs": [],
   "source": [
    "#Load in various dataframes\n",
    "## Articles\n",
    "df_art = pd.read_parquet(\"Data/Small/articles.parquet\")\n",
    "\n",
    "## Behaviors\n",
    "df_bev = pd.read_parquet(\"Data/Small/train/behaviors.parquet\")\n",
    "\n",
    "## History\n",
    "df_his = pd.read_parquet(\"Data/Small/train/history.parquet\")\n",
    "\n"
   ]
  },
  {
   "cell_type": "markdown",
   "id": "dd6d447c",
   "metadata": {},
   "source": [
    "Join the data sources"
   ]
  },
  {
   "cell_type": "code",
   "execution_count": 3,
   "id": "b3cfa16d",
   "metadata": {},
   "outputs": [],
   "source": [
    "# Convert datatype of column first\n",
    "df_bev['article_ids_clicked'] = df_bev['article_ids_clicked'].apply(lambda x: x[0])"
   ]
  },
  {
   "cell_type": "code",
   "execution_count": 4,
   "id": "5eaa9148",
   "metadata": {},
   "outputs": [],
   "source": [
    "# Join bevhaiors to article\n",
    "df= df_bev.join(df_art.set_index(\"article_id\"), on = \"article_ids_clicked\")\n",
    "\n",
    "# Join bevhaiors to history \n",
    "df= df.join(df_his.set_index(\"user_id\"), on = \"user_id\")\n",
    "\n",
    "# Drop all other dataframes from me\n",
    "df_bev = []\n",
    "df_his = []\n",
    "df_art = []"
   ]
  },
  {
   "cell_type": "code",
   "execution_count": 5,
   "id": "5796b9c4",
   "metadata": {},
   "outputs": [],
   "source": [
    "# Preprocessing\n",
    "df.dropna(subset=['article_id'], inplace= True)\n",
    "#df.dropna(subset =['age'], inplace = True)\n",
    "\n",
    "# Change article IDs into int\n",
    "df['article_id'] = df['article_id'].apply(lambda x: int(x))\n",
    "df['article_id']= df['article_id'].astype(np.int64)\n",
    "\n",
    "\n",
    "# Change genders from float to strings\n",
    "def gender_(x):\n",
    "    if x == 0.0:\n",
    "        return 'Male'\n",
    "    elif x == 1.0:\n",
    "        return 'Female'\n",
    "    else:\n",
    "        return None\n",
    "\n",
    "df['gender'] = df['gender'].apply(lambda x: gender_(x))\n",
    "\n",
    "# Change age to int\n",
    "#df['age'] = df['age'].apply(lambda x: np.int_(x) if np.isnan(x) == False else x)\n",
    "#df['age'] = df[~df['age'].isnull()]['age'].astype(np.int32)\n",
    "\n",
    "# Change age to str it's a range\n",
    "df['age'] = df['age'].astype('Int64')\n",
    "df['age'] = df['age'].astype(str)\n",
    "df['age'] = df['age'].apply(lambda x: x if x == '<NA>' else x + ' - ' + x[0] + '9' )\n",
    "\n",
    "\n",
    "\n",
    "# Change postcodes\n",
    "# Change genders from float to strings\n",
    "def postcodes_(x):\n",
    "    if x == 0.0:\n",
    "        return 'Metropolitan'\n",
    "    elif x == 1.0:\n",
    "        return 'Rural District'\n",
    "\n",
    "    elif x == 2.0:\n",
    "        return 'Municipality'\n",
    "    \n",
    "    elif x == 3.0:\n",
    "        return 'Provincial'\n",
    "    \n",
    "    elif x == 4.0:\n",
    "        return 'Big City'\n",
    "\n",
    "    else:\n",
    "        return None\n",
    "\n",
    "df['postcode'] = df['postcode'].apply(lambda x: postcodes_(x))\n",
    "\n",
    "\n",
    "\n"
   ]
  },
  {
   "cell_type": "markdown",
   "id": "00dd2615",
   "metadata": {},
   "source": [
    "Visualizations"
   ]
  },
  {
   "cell_type": "markdown",
   "id": "c4e0b195",
   "metadata": {},
   "source": [
    "Lets calculate the unique users for hourly, daily, and day of the week. Let's use a subset of the data until we know our plots are very good"
   ]
  },
  {
   "cell_type": "markdown",
   "id": "7988d669",
   "metadata": {},
   "source": [
    "#### Biggest thing is user engagement : Bigger User Engagement -> More eveneue\n",
    "#### We need to maximize the amount of ads these guys are viewing -> this leads on to them clicking on new articles for ads\n",
    "#### So, let's not make article length too short so that people can maximize their session lengths with a lot of articles!"
   ]
  },
  {
   "cell_type": "code",
   "execution_count": 6,
   "id": "0db41661",
   "metadata": {},
   "outputs": [],
   "source": [
    "def single_subset_bar(df_, feature_, xaxis_title, yrange):\n",
    "    # Index and Values \n",
    "    indices = [xaxis_title]\n",
    "    values_ = [len(df_[feature_].unique())]\n",
    "\n",
    "    # Instantiate figure object\n",
    "    fig = go.Figure()\n",
    "\n",
    "    # Add traces\n",
    "    fig.add_trace(go.Bar(x = indices, y = values_,\n",
    "                        width=[0.3], text = '<b>{}<b>'.format(values_[0]),\n",
    "                            )\n",
    "\n",
    "    )\n",
    "    # Update axis properties\n",
    "    fig.update_yaxes(\n",
    "        title_text= 'Count', range = yrange\n",
    "        )\n",
    "\n",
    "    # Update trace properties\n",
    "    fig.update_traces(\n",
    "        textposition='outside',\n",
    "        textfont=dict(\n",
    "            family='sans serif',\n",
    "            size=16,\n",
    "            color='#1f77b4'\n",
    "            )\n",
    "            )\n",
    "            \n",
    "    # Update layout of plot\n",
    "    fig.update_layout(\n",
    "        title = '<b>Total {}<b>'.format(xaxis_title) ,\n",
    "        uniformtext_minsize=8, uniformtext_mode='hide',  \n",
    "        font=dict(\n",
    "            family=\"Courier New, monospace\",\n",
    "            size=16,\n",
    "            )\n",
    "            )\n",
    "\n",
    "    return fig.show()"
   ]
  },
  {
   "cell_type": "code",
   "execution_count": 7,
   "id": "68dbf2f8",
   "metadata": {},
   "outputs": [],
   "source": [
    "def multiple_subset_bar(df_, feature_, yrange):\n",
    "\n",
    "    # Assign tmp_df based on feature\n",
    "    if feature_ == 'age':\n",
    "        tmp_df = df_[df_['age'] != '<NA>']\n",
    "    else:\n",
    "        tmp_df = df_[~df_[feature_].isnull()]\n",
    "\n",
    "    \n",
    "    categories = [d for d in tmp_df[feature_].unique()]\n",
    "    categories.sort()\n",
    "\n",
    "\n",
    "    fig = go.Figure()\n",
    "    for category_ in categories:\n",
    "        ## Check for Frequency vs Count \n",
    "        count= len(tmp_df[tmp_df[feature_] == category_])\n",
    "\n",
    "        fig.add_trace(\n",
    "            go.Bar(\n",
    "                x= [str(category_)], y = [count],\n",
    "                text = '<b>{}<b>'.format(count), \n",
    "                name= str(category_)\n",
    "            )\n",
    "                \n",
    "        )\n",
    "\n",
    "    # Update trace properties\n",
    "        \n",
    "    # Update axis properties\n",
    "    fig.update_yaxes(\n",
    "        title_text= 'Count', range = yrange\n",
    "        )\n",
    "    \n",
    "    fig.update_xaxes(\n",
    "        title_text= str(feature_)\n",
    "        )\n",
    "\n",
    "    # Update trace properties\n",
    "    fig.update_traces(\n",
    "        textposition='outside',\n",
    "        textfont=dict(\n",
    "            family='sans serif',\n",
    "            size=16,\n",
    "            color='#1f77b4'\n",
    "            )\n",
    "            )\n",
    "            \n",
    "    # Update layout of plot\n",
    "    fig.update_layout(\n",
    "        title = '<b>Distribution of {}<b>'.format(feature_) ,\n",
    "        uniformtext_minsize=8, uniformtext_mode='hide',  \n",
    "        font=dict(\n",
    "            family=\"Courier New, monospace\",\n",
    "            size=16,\n",
    "            )\n",
    "            )\n",
    "\n",
    "    return fig.show()"
   ]
  },
  {
   "cell_type": "code",
   "execution_count": 8,
   "id": "38be17e6",
   "metadata": {},
   "outputs": [],
   "source": [
    "def single_subset_feature_visualization(df_,  feature_, data_title):\n",
    "    \"\"\" Takes in an array of values and will output a histogram / boxplot / average\"\"\" \n",
    "    fig = make_subplots(\n",
    "        rows=3, cols=1, subplot_titles=(\"<b>Histogram<b>\", \"<b>Box plot<b>\", \"<b>Average {} for {}<b>\".format(feature_, data_title))\n",
    "    )\n",
    "    \n",
    "    tmp_df = df_[~df_[feature_].isnull()]\n",
    "    \n",
    "    values = tmp_df[feature_].values\n",
    "    # Average\n",
    "    average = values.mean()\n",
    "\n",
    "    # Add traces\n",
    "    fig.add_trace(go.Histogram(x= values, name = 'Histogram'), row=1, col=1)\n",
    "\n",
    "    xo = [data_title for x in range(0, len(values))]\n",
    "    fig.add_trace(go.Box(y = values, x = xo, name = 'Box plot'), row=2, col=1)\n",
    "    fig.add_trace(go.Bar(x=[data_title], y = [average], width = [0.3], name = 'Bar plot'),  row=3, col=1)\n",
    "\n",
    "    # Update xaxis properties\n",
    "    fig.update_xaxes(title_text=str(feature_), row=1, col=1)\n",
    "   # fig.update_xaxes(title_text=str(feature_), row=2, col=1)\n",
    "   # fig.update_xaxes(title_text=str(feature_), row=3, col=1)\n",
    "   \n",
    "\n",
    "    # Update yaxis properties\n",
    "    fig.update_yaxes(title_text='Count', row=1, col=1)\n",
    "    fig.update_yaxes(title_text=str(feature_), row=2, col=1)\n",
    "    fig.update_yaxes(title_text=str(feature_), range = [0, 110], row=3, col=1)\n",
    "    \n",
    "    # Update suplot title sizes\n",
    "    fig.update_annotations(font_size= 20,)\n",
    "\n",
    "    # Update title and height\n",
    "    fig.update_layout(\n",
    "        title_text= \"<b>Distributions of {} for {}<b>\".format(feature_, data_title), height= 750, width = 1000,\n",
    "        uniformtext_minsize=8, uniformtext_mode='hide',  \n",
    "        font=dict(\n",
    "            family=\"Courier New, monospace\",\n",
    "            size=16,\n",
    "            )\n",
    "            )\n",
    "        \n",
    "        \n",
    "\n",
    "\n",
    "    return fig.show()\n",
    "    \n",
    "    "
   ]
  },
  {
   "cell_type": "code",
   "execution_count": 9,
   "id": "1b544d47",
   "metadata": {},
   "outputs": [],
   "source": [
    "def multiple_subset_feature_visualization(df_,  feature_1, feature_2):\n",
    "    \"\"\" Takes in an array of values and will output a histogram / boxplot / average\"\"\" \n",
    "    fig = make_subplots(\n",
    "        rows=3, cols=1, subplot_titles=(\"<b>Histogram<b>\", \"<b>Box plot<b>\", \"<b>Average {} for each {}<b>\".format(feature_2, feature_1))\n",
    "    )\n",
    "\n",
    "    # Assign tmp_df based on feature\n",
    "    if feature_1 == 'age':\n",
    "        tmp_df = df_[df_['age'] != '<NA>']\n",
    "    else:\n",
    "        tmp_df = df_[~df_[feature_1].isnull()]\n",
    "\n",
    "    categories = [d for d in tmp_df[feature_1].unique()]\n",
    "    categories.sort()\n",
    "\n",
    "    # Populate the graph\n",
    "    for category_ in categories:\n",
    "        subset_feature_2 = tmp_df[tmp_df[feature_1] == category_][feature_2].values\n",
    "        avg = tmp_df[tmp_df[feature_1] == category_][feature_2].mean()\n",
    "        # Add histogram\n",
    "        fig.add_trace(\n",
    "            go.Histogram(\n",
    "                x= subset_feature_2,\n",
    "                name = str(category_) + ' Histogram',\n",
    "                ),\n",
    "                \n",
    "                row=1, col=1\n",
    "                \n",
    "        )\n",
    "        # Add Boxplot\n",
    "        ## Need to create an array that is similar to the array used in subset_feature_2, to name the traces!\n",
    "        xo = [str(category_) for x in range(0, len(subset_feature_2))]\n",
    "        \n",
    "        fig.add_trace(\n",
    "            go.Box(\n",
    "                y= subset_feature_2, x = xo,\n",
    "                name = str(category_) + ' Box',\n",
    "                ),\n",
    "                \n",
    "                row=2, col=1\n",
    "                \n",
    "        )\n",
    "        # Add Bar\n",
    "       # count= len(subset_feature_2)\n",
    "\n",
    "\n",
    "       # print(subset_feature_2)\n",
    "        fig.add_trace(\n",
    "            go.Bar(\n",
    "                x= [str(category_)], y = [avg],\n",
    "                text = '<b>{}<b>'.format(avg), \n",
    "                textposition='outside',\n",
    "                name= str(category_) + ' Bar',\n",
    "                textfont=dict(\n",
    "                family='sans serif',\n",
    "                size=18,\n",
    "                color='#1f77b4'\n",
    "                )\n",
    "                \n",
    "            ), \n",
    "            row =3, col = 1\n",
    "                \n",
    "        )\n",
    "\n",
    "\n",
    "\n",
    "    \n",
    "   # tmp_df = df_[~df_[feature_].isnull()]\n",
    "    \n",
    "   # values = tmp_df[feature_2].values\n",
    "\n",
    "\n",
    "    # Update xaxis properties\n",
    "    fig.update_xaxes(title_text=str(feature_2), row=1, col=1)\n",
    "    fig.update_xaxes(title_text=str(feature_1), row=2, col=1)\n",
    "    fig.update_xaxes(title_text=str(feature_1), row=3, col=1)\n",
    "   \n",
    "\n",
    "    # Update yaxis properties\n",
    "    fig.update_yaxes(title_text='Count', row=1, col=1)\n",
    "    fig.update_yaxes(title_text=str(feature_2), row=2, col=1)\n",
    "    fig.update_yaxes(title_text=str(feature_2), range = [0, 125], row=3, col=1)\n",
    "    \n",
    "    # Update suplot title sizes\n",
    "    fig.update_annotations(font_size= 20,)\n",
    "\n",
    "\n",
    "    # Update title and height\n",
    "    fig.update_layout(\n",
    "        title_text= \"<b>Distributions of {} for each {}<b>\".format(feature_2, feature_1), height= 750, width = 1000,\n",
    "        uniformtext_minsize=8, uniformtext_mode='hide',  \n",
    "        font=dict(\n",
    "            family=\"Courier New, monospace\",\n",
    "            size=16,\n",
    "            )\n",
    "        \n",
    "        )\n",
    "            \n",
    "\n",
    "\n",
    "    return fig.show()"
   ]
  },
  {
   "cell_type": "code",
   "execution_count": 10,
   "id": "bc7bb9c0",
   "metadata": {},
   "outputs": [],
   "source": [
    "def plot_bar(indices_, values_, yrange_, xaxis_title, yaxis_title, title_):\n",
    "    \"\"\"Given indices and values populate a bar graph \"\"\"\n",
    "\n",
    "    fig = go.Figure()\n",
    "    for idx, val in zip(indices_, values_):\n",
    "        ## Check for Frequency vs Count \n",
    "\n",
    "        fig.add_trace(\n",
    "            go.Bar(\n",
    "                x= [str(idx)], y = [val],\n",
    "                text = '<b>{}<b>'.format(val), \n",
    "                name= str(idx)\n",
    "            )\n",
    "                \n",
    "        )\n",
    "\n",
    "    # Update trace properties\n",
    "        \n",
    "    # Update axis properties\n",
    "    fig.update_yaxes(\n",
    "        title_text= yaxis_title, range = yrange_\n",
    "        )\n",
    "    \n",
    "    fig.update_xaxes(\n",
    "        title_text= xaxis_title\n",
    "        )\n",
    "\n",
    "    # Update trace properties\n",
    "    fig.update_traces(\n",
    "        textposition='outside',\n",
    "        textfont=dict(\n",
    "            family='sans serif',\n",
    "            size=16,\n",
    "            color='#1f77b4'\n",
    "            )\n",
    "            )\n",
    "            \n",
    "    # Update layout of plot\n",
    "    fig.update_layout(\n",
    "        title = title_, height= 750, width = 1000,\n",
    "        uniformtext_minsize=8, uniformtext_mode='hide',  \n",
    "        font=dict(\n",
    "            family=\"Courier New, monospace\",\n",
    "            size=16,\n",
    "            )\n",
    "            )\n",
    "\n",
    "    return fig.show()"
   ]
  },
  {
   "cell_type": "code",
   "execution_count": 11,
   "id": "96c89fc6",
   "metadata": {},
   "outputs": [],
   "source": [
    "def plot_box(indices_, values_, yrange_, xaxis_title, yaxis_title, title_):\n",
    "    \"\"\"Given indices and values populate a bar graph \"\"\"\n",
    "\n",
    "\n",
    "    fig = go.Figure()\n",
    "    for trace_, name_ in zip(values_, indices_):\n",
    "        fig.add_trace(go.Box(y = trace_, name = name_))\n",
    "\n",
    "    # Update trace properties\n",
    "        \n",
    "    # Update axis properties\n",
    "    fig.update_yaxes(\n",
    "        title_text= yaxis_title, range = yrange_\n",
    "        )\n",
    "    \n",
    "    fig.update_xaxes(\n",
    "        title_text= xaxis_title\n",
    "        )\n",
    "\n",
    "    # Update trace properties\n",
    "\n",
    "            \n",
    "    # Update layout of plot\n",
    "    fig.update_layout(\n",
    "        title = title_, height= 750, width = 1000,\n",
    "        uniformtext_minsize=8, uniformtext_mode='hide',  \n",
    "        font=dict(\n",
    "            family=\"Courier New, monospace\",\n",
    "            size=16,\n",
    "            )\n",
    "            )\n",
    "\n",
    "    return fig.show()"
   ]
  },
  {
   "cell_type": "code",
   "execution_count": 12,
   "id": "ee16b524",
   "metadata": {},
   "outputs": [],
   "source": [
    "def plot_scatter(indices_, values_, yrange_, xaxis_title, yaxis_title, title_):\n",
    "    \"\"\"Given indices and values populate a bar graph \"\"\"\n",
    "\n",
    "    fig = go.Figure()\n",
    "\n",
    "    fig.add_trace(go.Scatter( x = indices, y = values_, mode = 'lines', name = 'Line', marker = dict(color = \"rgba(135, 206, 250, 0.5)\" )\n",
    "\n",
    "    )\n",
    "    )\n",
    "\n",
    "    for idx, val in zip(indices_, values_):\n",
    "        ## Check for Frequency vs Count \n",
    "\n",
    "        fig.add_trace(\n",
    "            go.Scatter(\n",
    "                x= [str(idx)], y = [val],\n",
    "                text = '<b>{}<b>'.format(val), \n",
    "                name= str(idx), \n",
    "                marker=dict(size = 12, \n",
    "                \n",
    "            ),\n",
    "            mode='lines+markers+text'\n",
    "                \n",
    "        )\n",
    "        )\n",
    "\n",
    "\n",
    "    # Update trace properties\n",
    "        \n",
    "    # Update axis properties\n",
    "    fig.update_yaxes(\n",
    "        title_text= yaxis_title, range = yrange_\n",
    "        )\n",
    "    \n",
    "    fig.update_xaxes(\n",
    "        title_text= xaxis_title\n",
    "        )\n",
    "    \n",
    "    # Update trace properties\n",
    "    fig.update_traces(\n",
    "        textposition='bottom center',\n",
    "        textfont=dict(\n",
    "            family='sans serif',\n",
    "            size=12,\n",
    "            color='#1f77b4'\n",
    "            )\n",
    "            )\n",
    "       \n",
    "    # Update layout of plot\n",
    "    fig.update_layout(\n",
    "        title = title_, height= 750, width = 1000,\n",
    "        uniformtext_minsize=8, uniformtext_mode='hide',  \n",
    "        font=dict(\n",
    "            family=\"Courier New, monospace\",\n",
    "            size=16,\n",
    "            )\n",
    "            )\n",
    "\n",
    "    return fig.show()"
   ]
  },
  {
   "cell_type": "code",
   "execution_count": 13,
   "id": "3d294517",
   "metadata": {},
   "outputs": [],
   "source": [
    "def activity_scatter(dict_,  yrange_, xaxis_title, yaxis_title, title_):\n",
    "    \"\"\"Given indices and values populate a bar graph \"\"\"\n",
    "\n",
    "    fig = go.Figure()\n",
    "\n",
    "   # fig.add_trace(go.Scatter( x = indices, y = values_, mode = 'lines', name = 'Line', marker = dict(color = \"rgba(135, 206, 250, 0.5)\" )\n",
    "\n",
    "   # )\n",
    "  #  )\n",
    "\n",
    "    for topic in dict_.keys():\n",
    "        # What does the daily user activity look like?\n",
    "        indices = [x for x in dict_[topic].keys()]\n",
    "        values = [x for x in dict_[topic].values()]\n",
    "\n",
    "\n",
    "        # Add traces\n",
    "        fig.add_trace(\n",
    "            go.Scatter(\n",
    "                x= indices, y = values, name = topic,\n",
    "                #text = '<b>{}<b>'.format(values), \n",
    "                #name= str(indices), \n",
    "                marker=dict(size = 12, \n",
    "                \n",
    "            ),\n",
    "            mode='lines+markers+text'\n",
    "                \n",
    "        )\n",
    "        )\n",
    "\n",
    "\n",
    "\n",
    "\n",
    "        \n",
    "    # Update axis properties\n",
    "    fig.update_yaxes(\n",
    "        title_text= yaxis_title, range = yrange_\n",
    "        )\n",
    "    \n",
    "    fig.update_xaxes(\n",
    "        title_text= xaxis_title\n",
    "        )\n",
    "    \n",
    "    # Update trace properties\n",
    "    fig.update_traces(\n",
    "        textposition='bottom center',\n",
    "        textfont=dict(\n",
    "            family='sans serif',\n",
    "            size=12,\n",
    "            color='#1f77b4'\n",
    "            )\n",
    "            )\n",
    "       \n",
    "    # Update layout of plot\n",
    "    fig.update_layout(\n",
    "        title = title_, height= 750, width = 1000,\n",
    "        uniformtext_minsize=8, uniformtext_mode='hide',  \n",
    "        font=dict(\n",
    "            family=\"Courier New, monospace\",\n",
    "            size=16,\n",
    "            )\n",
    "            )\n",
    "\n",
    "    return fig.show()"
   ]
  },
  {
   "cell_type": "markdown",
   "id": "043b676b",
   "metadata": {},
   "source": [
    "## Overall Feature Analysis"
   ]
  },
  {
   "cell_type": "markdown",
   "id": "c6d72253",
   "metadata": {},
   "source": [
    "### Number of Impressions"
   ]
  },
  {
   "cell_type": "code",
   "execution_count": null,
   "id": "5c533c41",
   "metadata": {},
   "outputs": [],
   "source": [
    "# Number of Impressions\n",
    "single_subset_bar(df_ = df, feature_ = 'impression_id', xaxis_title = 'Number of Impressions', yrange = [0, 80000])"
   ]
  },
  {
   "cell_type": "markdown",
   "id": "9ce973c6",
   "metadata": {},
   "source": [
    "### Distribution of Readtimes"
   ]
  },
  {
   "cell_type": "code",
   "execution_count": null,
   "id": "6ce66858",
   "metadata": {},
   "outputs": [],
   "source": [
    "single_subset_feature_visualization(df_ = df, feature_ = 'read_time')"
   ]
  },
  {
   "cell_type": "markdown",
   "id": "c99341fb",
   "metadata": {},
   "source": [
    "### Distribution of Scroll Percentages"
   ]
  },
  {
   "cell_type": "code",
   "execution_count": null,
   "id": "94105522",
   "metadata": {},
   "outputs": [],
   "source": [
    "single_subset_feature_visualization(df_ = df, feature_ = 'scroll_percentage')"
   ]
  },
  {
   "cell_type": "markdown",
   "id": "5668d320",
   "metadata": {},
   "source": [
    "## Users"
   ]
  },
  {
   "cell_type": "markdown",
   "id": "a7d88858",
   "metadata": {},
   "source": [
    "### Number of Users\n"
   ]
  },
  {
   "cell_type": "code",
   "execution_count": null,
   "id": "04ebff53",
   "metadata": {},
   "outputs": [],
   "source": [
    "single_subset_bar(df_ = df, feature_ = 'user_id', xaxis_title = 'Number of Users', yrange = [0, 11000])"
   ]
  },
  {
   "cell_type": "markdown",
   "id": "361ef1f1",
   "metadata": {},
   "source": [
    "### Daily User growth"
   ]
  },
  {
   "cell_type": "code",
   "execution_count": null,
   "id": "d61b4f2f",
   "metadata": {},
   "outputs": [],
   "source": [
    "unique_user_ids = df['user_id'].unique()\n",
    "\n",
    "# Create dictionaries\n",
    "unique_users_daily_growth_freq= {}\n",
    "unique_users_hourly_freq = {}\n",
    "unique_users_dayofweek_freq = {}\n",
    "unique_users_weekly_freq = {}\n",
    "\n",
    "for id in unique_user_ids:\n",
    "    # Get the subset of that user id\n",
    "    tmp_df = df[df['user_id'] == id]\n",
    "    first_index = tmp_df['impression_time_fixed'].index[0]\n",
    "    tmp_datetime = pd.DatetimeIndex(tmp_df['impression_time_fixed'][first_index])\n",
    "    tmp_date = tmp_datetime[0].date()\n",
    "    join_date = tmp_date.strftime('%m/%d/%Y')\n",
    "    #join_date = join_date.strftime('%m/%d/%Y')\n",
    "    \n",
    "    if join_date not in unique_users_daily_growth_freq:\n",
    "        unique_users_daily_growth_freq[join_date] = 1\n",
    "    else:\n",
    "        unique_users_daily_growth_freq[join_date] +=1\n",
    "    \n",
    "unique_users_daily_growth_freq = dict(sorted(unique_users_daily_growth_freq.items()))"
   ]
  },
  {
   "cell_type": "code",
   "execution_count": null,
   "id": "f2bafa25",
   "metadata": {},
   "outputs": [],
   "source": [
    "indices = [x for x in unique_users_daily_growth_freq.keys()]\n",
    "values = [x for x in unique_users_daily_growth_freq.values()]\n",
    "\n",
    "fig = go.Figure()\n",
    "\n",
    "\n",
    "# Add traces\n",
    "fig.add_trace(go.Bar(x = indices, y = values,\n",
    "                         \n",
    "                         )\n",
    "\n",
    ")\n",
    "\n",
    "fig.update_traces(texttemplate='%{text:.2s}', textposition='outside')\n",
    "fig.update_layout(uniformtext_minsize=8, uniformtext_mode='hide')\n",
    "\n",
    "fig.show()"
   ]
  },
  {
   "cell_type": "markdown",
   "id": "0bf6f358",
   "metadata": {},
   "source": [
    "### Average readtime per user"
   ]
  },
  {
   "cell_type": "code",
   "execution_count": null,
   "id": "fc8a48f2",
   "metadata": {},
   "outputs": [],
   "source": [
    "## Average readtime per user\n",
    "\n",
    "tmp_user_df = pd.DataFrame(data = df.groupby(by =  'user_id')['read_time'].mean(), columns = ['read_time'])\n",
    "single_subset_feature_visualization(df_ = tmp_user_df,  feature_ = 'read_time', data_title = 'Unique Users')\n",
    "\n"
   ]
  },
  {
   "cell_type": "markdown",
   "id": "e4424d9e",
   "metadata": {},
   "source": [
    "### Average scroll percentage per user"
   ]
  },
  {
   "cell_type": "code",
   "execution_count": null,
   "id": "53bab00e",
   "metadata": {},
   "outputs": [],
   "source": [
    "## Average readtime per user\n",
    "\n",
    "tmp_user_df = pd.DataFrame(data = df.groupby(by =  'user_id')['scroll_percentage'].mean(), columns = ['scroll_percentage'])\n",
    "single_subset_feature_visualization(df_ = tmp_user_df,  feature_ = 'scroll_percentage', data_title = 'Unique Users')"
   ]
  },
  {
   "cell_type": "markdown",
   "id": "2ec7344e",
   "metadata": {},
   "source": [
    "### User Activity"
   ]
  },
  {
   "cell_type": "code",
   "execution_count": 14,
   "id": "4983a754",
   "metadata": {},
   "outputs": [],
   "source": [
    "def populate_dict(list_, dict_):\n",
    "    \n",
    "    for idx in list_:\n",
    "        if idx not in dict_:\n",
    "            dict_[idx] = 1\n",
    "        else:\n",
    "            dict_[idx] += 1"
   ]
  },
  {
   "cell_type": "code",
   "execution_count": 15,
   "id": "fd943554",
   "metadata": {},
   "outputs": [],
   "source": [
    "def weekly_map(list_):\n",
    "    weeks = [17, 18, 19, 20, 21, 22, 23, 24, 25, 26, 27]\n",
    "    placeholder = [i for i in range(1, 9)]\n",
    "    dict_ = {k:v for k,v in zip(weeks, placeholder)}\n",
    "    res = []\n",
    "\n",
    "    for idx in list_:\n",
    "        res.append('Week '+ str(dict_[idx]))\n",
    "    \n",
    "    return res\n"
   ]
  },
  {
   "cell_type": "code",
   "execution_count": 16,
   "id": "cdc4d7d9",
   "metadata": {},
   "outputs": [],
   "source": [
    "def int_dow_dict(dict_):\n",
    "\n",
    "    str_dow = ['Monday', 'Tuesday', 'Wednesday' , 'Thursday', 'Friday', 'Saturday', 'Sunday']\n",
    "    int_dow = [i for i in range(7)]\n",
    "    dow_dict = {k:v for k,v in zip(int_dow, str_dow)}\n",
    "\n",
    "    res = {}\n",
    "\n",
    "    for keys in dict_.keys():\n",
    "        res[dow_dict[keys]] = dict_[keys]\n",
    "\n",
    "\n",
    "    \n",
    "    return res"
   ]
  },
  {
   "cell_type": "code",
   "execution_count": null,
   "id": "a0f2c916",
   "metadata": {},
   "outputs": [],
   "source": [
    "# Let's make subsets for each user_id and then populate the frequency based on that\n",
    "\n",
    "## Get all unique ids in a list\n",
    "\n",
    "unique_user_ids = df['user_id'].unique()[0:1000]\n",
    "\n",
    "# Create dictionaries\n",
    "unique_users_daily_freq = {}\n",
    "unique_users_hourly_freq = {}\n",
    "unique_users_dayofweek_freq = {}\n",
    "unique_users_weekly_freq = {}\n",
    "\n",
    "# Generate an empty dataframe with the unique user ids\n",
    "## append new entries\n",
    "\n",
    "for id in unique_user_ids:\n",
    "    # Get the subset of that user id\n",
    "    tmp_df = df[df['user_id'] == id]\n",
    "\n",
    "    # Now lets go through each and populate the unique dates, hours and day of the week for each user\n",
    "    dates = []\n",
    "    hours = []\n",
    "    dayofweek = []\n",
    "    week = []\n",
    "    indices = np.array(tmp_df.index)\n",
    "    \n",
    "    for i in indices:\n",
    "        tmp_datetime = pd.DatetimeIndex(tmp_df['impression_time_fixed'][i])\n",
    "        tmp_date = tmp_datetime.date\n",
    "        tmp_time = tmp_datetime.time\n",
    "        tmp_dayofweek = tmp_datetime.weekday\n",
    "        tmp_week = tmp_datetime.isocalendar().week\n",
    "\n",
    "        for j,k,l,m in zip(tmp_date, tmp_time, tmp_dayofweek, tmp_week):\n",
    "            dates.append(j)\n",
    "            hours.append(k)\n",
    "            dayofweek.append(l)\n",
    "            week.append(m)\n",
    "\n",
    "    \n",
    "    # Get rid of duplicate values\n",
    "    unique_dates = list(set(dates))\n",
    "    unique_hours = list(set(hours))\n",
    "    unique_dayofweek = list(set(dayofweek))\n",
    "    unique_week = list(set(week))\n",
    "    \n",
    "    # Convert to string\n",
    "    unique_hours = [x.hour for x in unique_hours]\n",
    "    unique_hours = [str(i) + ':00' if i > 9 else str(0) + str(i) + ':00' for i in unique_hours]\n",
    "\n",
    "    # Convert Week to W\n",
    "    # Convert the week int to mapping from 1++\n",
    "    unique_week= weekly_map(unique_week)\n",
    "        \n",
    "    # Populate dicts\n",
    "    populate_dict(list_ = unique_dates, dict_ = unique_users_daily_freq)\n",
    "    populate_dict(list_ = unique_hours, dict_ = unique_users_hourly_freq)\n",
    "    populate_dict(list_ = unique_dayofweek, dict_ = unique_users_dayofweek_freq)\n",
    "    populate_dict(list_ = unique_week, dict_ = unique_users_weekly_freq)\n",
    "\n",
    "\n",
    "# Create tmp dataframes\n",
    "unique_users_daily_freq = dict(sorted(unique_users_daily_freq.items()))\n",
    "unique_users_hourly_freq = dict(sorted(unique_users_hourly_freq.items()))\n",
    "\n",
    "# Sort by integers for day of the week and then lets chane the dict\n",
    "unique_users_dayofweek_freq = dict(sorted(unique_users_dayofweek_freq.items()))\n",
    "unique_users_dayofweek_freq = int_dow_dict(unique_users_dayofweek_freq)\n",
    "\n",
    "unique_users_weekly_freq = dict(sorted(unique_users_weekly_freq.items()))\n",
    "                "
   ]
  },
  {
   "cell_type": "markdown",
   "id": "7d544d44",
   "metadata": {},
   "source": [
    "#### Daily User Activity"
   ]
  },
  {
   "cell_type": "code",
   "execution_count": null,
   "id": "b7919508",
   "metadata": {},
   "outputs": [],
   "source": [
    "# What does the daily user activity look like?\n",
    "unique_users_daily_freq = dict(sorted(unique_users_daily_freq.items()))\n",
    "\n",
    "indices = [x for x in unique_users_daily_freq.keys()]\n",
    "values = [x for x in unique_users_daily_freq.values()]\n",
    "\n",
    "\n",
    "plot_scatter(\n",
    "    indices_ = indices , values_ = values,\n",
    "    yrange_ = [200, 900], xaxis_title = 'Date',\n",
    "    yaxis_title= 'Active Users', title_ = '<b>Daily Active Users<b>'\n",
    "    )"
   ]
  },
  {
   "cell_type": "markdown",
   "id": "51f0156b",
   "metadata": {},
   "source": [
    "#### Hourly User Activity"
   ]
  },
  {
   "cell_type": "code",
   "execution_count": null,
   "id": "d4a4ba10",
   "metadata": {},
   "outputs": [],
   "source": [
    "# What does the hourly user activity look like?\n",
    "indices = [x for x in unique_users_hourly_freq.keys()]\n",
    "values = [x for x in unique_users_hourly_freq.values()]\n",
    "\n",
    "fig = go.Figure()\n",
    "\n",
    "plot_scatter(\n",
    "    indices_ = indices , values_ = values,\n",
    "    yrange_ = [0, 20000], xaxis_title = 'Hour',\n",
    "    yaxis_title= 'Active Users', title_ = '<b>Hourly Active Users<b>'\n",
    "    )"
   ]
  },
  {
   "cell_type": "markdown",
   "id": "16cef0a4",
   "metadata": {},
   "source": [
    "#### Weekly User Activity"
   ]
  },
  {
   "cell_type": "code",
   "execution_count": null,
   "id": "f4e5d006",
   "metadata": {},
   "outputs": [],
   "source": [
    "# What does the weekly user activity look like?\n",
    "indices = [x for x in unique_users_weekly_freq.keys()]\n",
    "values = [x for x in unique_users_weekly_freq.values()]\n",
    "\n",
    "plot_bar(\n",
    "    indices_ = indices, values_ = values,\n",
    "    yrange_ = [0, 1100], xaxis_title = 'Week',\n",
    "    yaxis_title= 'Active Users', title_ = '<b> Weekly Active Users <b>')"
   ]
  },
  {
   "cell_type": "markdown",
   "id": "0b047d88",
   "metadata": {},
   "source": [
    "#### Day Of The Week User Activity"
   ]
  },
  {
   "cell_type": "code",
   "execution_count": null,
   "id": "1ae2c648",
   "metadata": {},
   "outputs": [],
   "source": [
    "# What does the weekly user activity look like?\n",
    "indices = [x for x in unique_users_dayofweek_freq.keys()]\n",
    "values = [x for x in unique_users_dayofweek_freq.values()]\n",
    "\n",
    "plot_bar(\n",
    "    indices_ = indices, values_ = values,\n",
    "    yrange_ = [0, 1100], xaxis_title = 'Day',\n",
    "    yaxis_title= 'Active Users', title_ = '<b> Day of the Week Activity  <b>')"
   ]
  },
  {
   "cell_type": "markdown",
   "id": "812afcd3",
   "metadata": {},
   "source": [
    "## Session"
   ]
  },
  {
   "cell_type": "markdown",
   "id": "04d54dba",
   "metadata": {},
   "source": [
    "### Number of Sessions"
   ]
  },
  {
   "cell_type": "code",
   "execution_count": null,
   "id": "5866c5c2",
   "metadata": {},
   "outputs": [],
   "source": [
    "single_subset_bar(df_ = df, feature_ = 'session_id', xaxis_title = 'Number of Sessions', yrange = [0, 40000])"
   ]
  },
  {
   "cell_type": "markdown",
   "id": "ef76c067",
   "metadata": {},
   "source": [
    "### Average readtime per session"
   ]
  },
  {
   "cell_type": "code",
   "execution_count": null,
   "id": "cb93e965",
   "metadata": {},
   "outputs": [],
   "source": [
    "tmp_session_df = pd.DataFrame(data = df.groupby(by =  'session_id')['read_time'].mean(), columns = ['read_time'])\n",
    "single_subset_feature_visualization(df_ = tmp_session_df,  feature_ = 'read_time', data_title = 'Unique Sessions')"
   ]
  },
  {
   "cell_type": "markdown",
   "id": "52d99ce7",
   "metadata": {},
   "source": [
    "### Average scroll percentage per session"
   ]
  },
  {
   "cell_type": "code",
   "execution_count": null,
   "id": "78a83b04",
   "metadata": {},
   "outputs": [],
   "source": [
    "tmp_session_df = pd.DataFrame(data = df.groupby(by =  'session_id')['scroll_percentage'].mean(), columns = ['scroll_percentage'])\n",
    "single_subset_feature_visualization(df_ = tmp_session_df,  feature_ = 'scroll_percentage', data_title = 'Unique Sessions')"
   ]
  },
  {
   "cell_type": "markdown",
   "id": "d338324f",
   "metadata": {},
   "source": [
    "### Daily Active Sessions"
   ]
  },
  {
   "cell_type": "code",
   "execution_count": null,
   "id": "ac8b3a4c",
   "metadata": {},
   "outputs": [],
   "source": [
    "# Number of unique sessions per day\n",
    "copy_df = df.copy()\n",
    "copy_df['impression_time'] = copy_df['impression_time'].apply(lambda x: x.strftime('%m/%d/%Y'))\n",
    "\n",
    "unique_sessions_per_day = copy_df.groupby(by = 'session_id')['impression_time'].min()\n",
    "tmp_dau_df = pd.DataFrame(data = unique_sessions_per_day.values, index = unique_sessions_per_day.keys(), columns= ['Session Dates'])\n",
    "\n",
    "# Plot\n",
    "multiple_subset_bar(df_ = tmp_dau_df , feature_ = 'Session Dates', yrange = [0, 8000])"
   ]
  },
  {
   "cell_type": "markdown",
   "id": "9ae85ec3",
   "metadata": {},
   "source": [
    "## Topic"
   ]
  },
  {
   "cell_type": "markdown",
   "id": "49bd25db",
   "metadata": {},
   "source": [
    "### Number of Topics"
   ]
  },
  {
   "cell_type": "code",
   "execution_count": 20,
   "id": "b2520bc9",
   "metadata": {},
   "outputs": [],
   "source": [
    "def unique_subset_topics(df_):\n",
    "    res = []\n",
    "    for index in df_['topics']:\n",
    "        for topic_ in index:\n",
    "            if topic_ not in res:\n",
    "                res.append(topic_)\n",
    "                \n",
    "    return res\n"
   ]
  },
  {
   "cell_type": "code",
   "execution_count": null,
   "id": "022c36a6",
   "metadata": {},
   "outputs": [],
   "source": [
    "\n",
    "# Create a Topics DF\n",
    "topic_list = unique_subset_topics(df)\n",
    "\n",
    "tmp_topic_df = pd.DataFrame(data = topic_list, columns = ['topics'])\n",
    "\n",
    "\n",
    "# Number of Topics\n",
    "single_subset_bar(df_ = tmp_topic_df, feature_ = 'topics', xaxis_title = 'Number of Topics', yrange = [0, 100])\n"
   ]
  },
  {
   "cell_type": "code",
   "execution_count": null,
   "id": "4516a2be",
   "metadata": {},
   "outputs": [],
   "source": [
    "def article_id_scroll_read (dict_, res):\n",
    "    \n",
    "    for k,v in zip(dict_.keys(), dict_.values()):\n",
    "        if (k in res.keys()):\n",
    "            tmp_array= np.append(res[k],v)\n",
    "            res[k] = tmp_array\n",
    "        if (k not in res.keys()):\n",
    "            res[k] = []\n",
    "    \n",
    "    return res"
   ]
  },
  {
   "cell_type": "code",
   "execution_count": null,
   "id": "94af56f9",
   "metadata": {},
   "outputs": [],
   "source": [
    "# Let's get unique_user_ids topics\n",
    "\n",
    "## Get all unique ids in a list\n",
    "\n",
    "unique_user_ids = df['user_id'].values[0:1000]\n",
    "\n",
    "# Create dictionaries\n",
    "unique_users_topics_freq= {}\n",
    "unique_topic_scroll_freq = {}\n",
    "unique_topic_read_freq = {}\n",
    "\n",
    "for id in unique_user_ids:\n",
    "    # Get the subset of that user id\n",
    "    tmp_df = df[df['user_id'] == id]\n",
    "\n",
    "    # Now lets go through each topic\n",
    "    indices = np.array(tmp_df.index)\n",
    "    for i in indices:\n",
    "        tmp_topics = tmp_df['topics'][i]\n",
    "        tmp_scroll = tmp_df['scroll_percentage'][i]\n",
    "        tmp_read = tmp_df['read_time'][i]\n",
    "\n",
    "        topics = [x for x in tmp_topics]\n",
    "        scroll = [tmp_scroll]\n",
    "        read = [tmp_read]\n",
    "\n",
    "    # Find the average scroll percentages across each topic  (Can be related to whether a topic doesnt require too much reading has visualizations)\n",
    "    ### Look at article_id for whichever topics the article is included in add that scroll percentage\n",
    "        tmp_topic_scroll = {k:v for k,v in zip(topics, scroll)}\n",
    "        unique_topic_scroll_freq = article_id_scroll_read(tmp_topic_scroll, unique_topic_scroll_freq)\n",
    "\n",
    "    # Find the average read time across each topic\n",
    "    ### Look at article_id for whichever topics the article is included in add that readtime \n",
    "        tmp_topic_read = {k:v for k,v in zip(topics, read)}\n",
    "        unique_topic_read_freq = article_id_scroll_read(tmp_topic_read, unique_topic_read_freq )\n",
    "\n",
    "    ## Unique User Topics\n",
    "    # Get rid of duplicate values\n",
    "    unique_topics = list(set(topics))\n",
    "\n",
    "    # Populate our dict\n",
    "    populate_dict(unique_topics, unique_users_topics_freq)\n",
    "\n",
    "\n",
    "# Sort the dictionaries\n",
    "sorted_topic_freq = dict(sorted(unique_users_topics_freq.items(), key = lambda x: x[1], reverse = True))\n",
    "\n",
    "# Find the average read times across each topic\n",
    "unique_topic_read_avg_freq = {k:round(np.nanmean(v), 2) for k,v in zip(unique_topic_read_freq.keys(), unique_topic_read_freq.values()) }\n",
    "sorted_unique_topic_read_avg_freq = dict(sorted(unique_topic_read_avg_freq.items(), key = lambda x: x[1], reverse = True))\n",
    "\n",
    "# Sort the topics for distribution\n",
    "sorted_unique_topic_read_freq = dict(sorted(unique_topic_read_freq.items()))\n",
    "\n",
    "# Find the average scroll percentages across each topic\n",
    "unique_topic_scroll_avg_freq = {k:round(np.nanmean(v), 2) for k,v in zip(unique_topic_scroll_freq.keys(), unique_topic_scroll_freq.values()) }\n",
    "sorted_unique_topic_scroll_avg_freq = dict(sorted(unique_topic_scroll_avg_freq.items(), key = lambda x: x[1], reverse = True))\n",
    "\n",
    "# Sort the topics scroll pct for distribution\n",
    "sorted_unique_topic_scroll_freq = dict(sorted(unique_topic_scroll_freq.items()))\n"
   ]
  },
  {
   "cell_type": "markdown",
   "id": "2f3f54e8",
   "metadata": {},
   "source": [
    "### Distribution of Topics across users"
   ]
  },
  {
   "cell_type": "code",
   "execution_count": null,
   "id": "baa6df5b",
   "metadata": {},
   "outputs": [],
   "source": [
    "# What does the distribution of topics look like lets sort it?\n",
    "indices = [x for x in sorted_topic_freq.keys()][0:10]\n",
    "values = [x for x in sorted_topic_freq.values()][0:10]\n",
    "\n",
    "plot_bar(\n",
    "    indices_ = indices, values_ = values,\n",
    "    yrange_ = [0, 400], xaxis_title = 'Topics',\n",
    "    yaxis_title= 'Count', title_ = '<b> Top 10 Topics User Activity<b>')"
   ]
  },
  {
   "cell_type": "markdown",
   "id": "5ab41490",
   "metadata": {},
   "source": [
    "### Average readtime per topic"
   ]
  },
  {
   "cell_type": "code",
   "execution_count": null,
   "id": "a3bea6df",
   "metadata": {},
   "outputs": [],
   "source": [
    "indices = [x for x in sorted_unique_topic_read_avg_freq.keys()][0:5]\n",
    "values = [x for x in sorted_unique_topic_read_avg_freq.values()][0:5]\n",
    "\n",
    "plot_bar(\n",
    "    indices_ = indices, values_ = values,\n",
    "    yrange_ = [0, 150], xaxis_title = 'Topics',\n",
    "    yaxis_title= 'Read Time', title_ = '<b> Top 10 Topics User Activity<b>')"
   ]
  },
  {
   "cell_type": "code",
   "execution_count": null,
   "id": "e715b259",
   "metadata": {},
   "outputs": [],
   "source": [
    "# Boxplot\n",
    "\n",
    "indices = [x for x in sorted_unique_topic_read_freq.keys()]\n",
    "values = [x for x in sorted_unique_topic_read_freq.values()]\n",
    "\n",
    "plot_box(\n",
    "    indices_ = indices, values_ = values,\n",
    "    yrange_ = [0, 2000], xaxis_title = 'Topics',\n",
    "    yaxis_title= 'Read Time', title_ = '<b> Distributions of Read Times Across Each Topic<b>')\n"
   ]
  },
  {
   "cell_type": "markdown",
   "id": "8973adab",
   "metadata": {},
   "source": [
    "### Average scroll perct per topic"
   ]
  },
  {
   "cell_type": "code",
   "execution_count": null,
   "id": "c6732699",
   "metadata": {},
   "outputs": [],
   "source": [
    "indices = [x for x in sorted_unique_topic_scroll_avg_freq.keys()]\n",
    "values = [x for x in sorted_unique_topic_scroll_avg_freq.values()]\n",
    "\n",
    "plot_bar(\n",
    "    indices_ = indices, values_ = values,\n",
    "    yrange_ = [0, 104], xaxis_title = 'Topics',\n",
    "    yaxis_title= 'Read Time', title_ = '<b> Average Scroll Percentage Across Each Topic<b>')"
   ]
  },
  {
   "cell_type": "code",
   "execution_count": null,
   "id": "1e1c3d74",
   "metadata": {},
   "outputs": [],
   "source": [
    "# Boxplot\n",
    "indices = [x for x in sorted_unique_topic_scroll_freq.keys()]\n",
    "values = [x for x in sorted_unique_topic_scroll_freq.values()]\n",
    "\n",
    "plot_box(\n",
    "    indices_ = indices, values_ = values,\n",
    "    yrange_ = [0, 105], xaxis_title = 'Topics',\n",
    "    yaxis_title= 'Read Time', title_ = '<b> Distributions of Read Times Across Each Topic<b>')"
   ]
  },
  {
   "cell_type": "markdown",
   "id": "ea97be17",
   "metadata": {},
   "source": [
    "### Activity"
   ]
  },
  {
   "cell_type": "code",
   "execution_count": null,
   "id": "144c7382",
   "metadata": {},
   "outputs": [],
   "source": [
    "# Get all the unique topics\n",
    "topic_list = unique_subset_topics(df)\n",
    "unique_topics = sorted(topic_list)\n",
    "\n",
    "# Get the list of each unqiue topic in a specific session \n",
    "topics = df.groupby(by = 'session_id')['topics'].apply(list)\n",
    "\n",
    "# Get the list of each unique timestamp for these sessions\n",
    "timestamps = df.groupby(by = 'session_id')['impression_time'].apply(list)\n",
    "\n",
    "unique_dates = []\n",
    "#unique_hours= [str(i) if i > 9 else str(0) + str(i) for i in range(24)]\n",
    "unique_hours = [i for i in range(24)]\n",
    "unique_hours = [str(i) + ':00' if i > 9 else str(0) + str(i) + ':00' for i in unique_hours]\n",
    "\n",
    "#unique_hours = [str(i) + ':00' if i > 9 else str(0) + str(i) + ':00' for i in unique_hours]\n",
    "\n",
    "# Iterare through each timestamp\n",
    "for i in range(len(timestamps.values)):\n",
    "    # Iterate through each idx\n",
    "    for j in range(len(timestamps.values[i])):\n",
    "        # Assign datetime and date objects\n",
    "        tmp_datetime = timestamps.values[i][j]\n",
    "        tmp_date = tmp_datetime.date()\n",
    "\n",
    "        # date not in unique dates, append\n",
    "        if tmp_date not in unique_dates:\n",
    "            unique_dates.append(tmp_date)\n",
    "\n",
    "# Sort dates\n",
    "unique_dates = sorted(unique_dates)\n",
    "\n",
    "# Instantiate dict objects with unique dates and unique key values set to 0\n",
    "unique_topic_daily_activity  = {k:{k:0 for k in unique_dates} for k in unique_topics}\n",
    "unique_topic_hourly_activity  = {k:{k:0 for k in unique_hours} for k in unique_topics}\n",
    "\n",
    "# Populate the dictionary\n",
    "## Iterate through each session id\n",
    "for i in zip(range(len(topics.values))):\n",
    "    # Iterate through each index of nested list\n",
    "    for j, k  in zip(range(0, len(topics.values[i][0])), range(0, len(i))):\n",
    "        tmp = topics.values[i][0][j]\n",
    "        # Assign a datetime and time object \n",
    "        tmp_datetime = timestamps.values[i][k]\n",
    "        tmp_date = tmp_datetime.date()\n",
    "        tmp_time = tmp_datetime.time()\n",
    "        tmp_hour = tmp_time.hour\n",
    "\n",
    "        # Convert hour into a string \n",
    "        if tmp_hour > 9:\n",
    "            tmp_time = str(tmp_hour) + ':00'\n",
    "            \n",
    "        else:\n",
    "            tmp_time = \"0\"+ str(tmp_hour) + ':00' \n",
    "        \n",
    "    \n",
    "        # Add to dictionary\n",
    "        unique_topic_daily_activity[tmp][tmp_date] +=1\n",
    "        unique_topic_hourly_activity[tmp][tmp_time] +=1\n"
   ]
  },
  {
   "cell_type": "markdown",
   "id": "3c0e4838",
   "metadata": {},
   "source": [
    "#### Daily"
   ]
  },
  {
   "cell_type": "code",
   "execution_count": null,
   "id": "161a8ffe",
   "metadata": {},
   "outputs": [],
   "source": [
    "activity_scatter(\n",
    "    dict_ = unique_topic_daily_activity,  yrange_ = [0, 2100],\n",
    "     xaxis_title = 'Dates', yaxis_title = 'Active Users', title_ = '<b> Daily Active Users Per Topic')"
   ]
  },
  {
   "cell_type": "markdown",
   "id": "03917388",
   "metadata": {},
   "source": [
    "#### Hourly Activity"
   ]
  },
  {
   "cell_type": "code",
   "execution_count": null,
   "id": "119fe30f",
   "metadata": {},
   "outputs": [],
   "source": [
    "activity_scatter(\n",
    "    dict_ = unique_topic_hourly_activity,  yrange_ = [0, 1000],\n",
    "     xaxis_title = 'Hourly', yaxis_title = 'Active Users', title_ = '<b> Daily Active Users Per Topic')"
   ]
  },
  {
   "cell_type": "markdown",
   "id": "9499b9a7",
   "metadata": {},
   "source": [
    "## Article"
   ]
  },
  {
   "cell_type": "markdown",
   "id": "e91eff97",
   "metadata": {},
   "source": [
    "### Number of Articles"
   ]
  },
  {
   "cell_type": "code",
   "execution_count": null,
   "id": "15733661",
   "metadata": {},
   "outputs": [],
   "source": [
    "# Total Number of Articles\n",
    "single_subset_bar(df_ = df, feature_ = 'article_id', xaxis_title = 'Number of Articles', yrange = [0, 2000])\n"
   ]
  },
  {
   "cell_type": "markdown",
   "id": "a4919c54",
   "metadata": {},
   "source": [
    "### Average readtime per article"
   ]
  },
  {
   "cell_type": "code",
   "execution_count": null,
   "id": "433ba979",
   "metadata": {},
   "outputs": [],
   "source": [
    "article_id_scroll_read (dict_, res)"
   ]
  },
  {
   "cell_type": "code",
   "execution_count": null,
   "id": "7f460080",
   "metadata": {},
   "outputs": [],
   "source": [
    "def article_id_read_scroll(dict_, res):\n",
    "    for k,v in zip(dict_.keys(), dict_.values()):\n",
    "\n",
    "        #if unique_article_scroll.get(k) != None:\n",
    "        #    unique_article_scroll[k] += v\n",
    "        if (k in res.keys()) & (np.isnan(v) == False):\n",
    "            tmp_array= np.append(res[k],v)\n",
    "            res[k] = tmp_array\n",
    "    "
   ]
  },
  {
   "cell_type": "code",
   "execution_count": null,
   "id": "cbc8aaab",
   "metadata": {},
   "outputs": [],
   "source": [
    "## For each article, what was each users read time\n",
    "\n",
    "\n",
    "## Get all unique ids in a list\n",
    "\n",
    "unique_user_ids = df['user_id'].values[0:1000]\n",
    "\n",
    "## We take the set because the scroll, article per user is joined in a list for every user id (so just take the set of it!)\n",
    "unique_user_ids = set(unique_user_ids)\n",
    "\n",
    "unique_article_ids = df['article_id'].unique()\n",
    "unique_article_ids= unique_article_ids[~np.isnan(unique_article_ids)]\n",
    "\n",
    "# Create dictionaries\n",
    "unique_article_read = {k: [0] for k in unique_article_ids}\n",
    "unique_article_read_avg = {k: [0] for k in unique_article_ids}\n",
    "unique_article_scroll = {k: [0] for k in unique_article_ids}\n",
    "unique_article_scroll_avg = {k: [0] for k in unique_article_ids}\n",
    "\n",
    "for id in unique_user_ids:\n",
    "    # Get the subset of that user id\n",
    "    tmp_df = df[df['user_id'] == id]\n",
    "\n",
    "    # Now lets go through each scroll and article\n",
    "    ## Iterate through each of the df\n",
    "    indices = np.array(tmp_df.index)\n",
    "    for i in indices:\n",
    "        tmp_dict = {}\n",
    "        # Select the scroll / article of that indice and \n",
    "        tmp_read = tmp_df['read_time_fixed'][i]\n",
    "\n",
    "        tmp_article = tmp_df['article_id_fixed'][i]\n",
    "        \n",
    "        tmp_scroll = tmp_df['scroll_percentage_fixed'][i]\n",
    "\n",
    "        read = [x for x in tmp_read]\n",
    "\n",
    "        scroll = [x for x in tmp_scroll]\n",
    "        \n",
    "        articles = [np.int64(x) for x in tmp_article]\n",
    "\n",
    "        \n",
    "        tmp_articles_read = {k:v for k,v in zip(articles, read)}\n",
    "        article_id_read_scroll(tmp_articles_read, unique_article_read)\n",
    "\n",
    "        tmp_articles_scroll = {k:v for k,v in zip(articles, scroll)}\n",
    "        article_id_read_scroll(tmp_articles_scroll, unique_article_scroll)\n",
    "\n",
    "        \n",
    "# Get the average scroll length for each article\n",
    "for k,v in zip(unique_article_read.keys(), unique_article_read.values()):\n",
    "    unique_article_read_avg[k] = np.mean(v)\n",
    "\n",
    "for k,v in zip(unique_article_scroll.keys(), unique_article_scroll.values()):\n",
    "    unique_article_scroll_avg[k] = np.mean(v)\n"
   ]
  },
  {
   "cell_type": "code",
   "execution_count": null,
   "id": "ac9ee962",
   "metadata": {},
   "outputs": [],
   "source": [
    "indices = ['All Unique Articles']\n",
    "values = [x for x in unique_article_read_avg.values()]\n",
    "\n",
    "plot_box(\n",
    "    indices_ = indices, values_ = [values],\n",
    "    yrange_ = [-5, 1100], xaxis_title = 'Topics',\n",
    "    yaxis_title= 'Read Time', title_ = '<b> Distributions of Read Times Across Each Topic<b>')"
   ]
  },
  {
   "cell_type": "markdown",
   "id": "085b8c77",
   "metadata": {},
   "source": [
    "### Average scroll pct per article"
   ]
  },
  {
   "cell_type": "code",
   "execution_count": null,
   "id": "aa4187b3",
   "metadata": {},
   "outputs": [],
   "source": [
    "indices = ['All Unique Articles']\n",
    "values = [x for x in unique_article_scroll_avg.values()]\n",
    "\n",
    "plot_box(\n",
    "    indices_ = indices, values_ = [values],\n",
    "    yrange_ = [-5, 105], xaxis_title = 'Topics',\n",
    "    yaxis_title= 'Scroll Percentage', title_ = '<b> Distributions of Scroll Percentage Across All Articles!<b>')"
   ]
  },
  {
   "cell_type": "markdown",
   "id": "c1c8793e",
   "metadata": {},
   "source": [
    "### Number of articles clicked in a session"
   ]
  },
  {
   "cell_type": "code",
   "execution_count": null,
   "id": "b90851a7",
   "metadata": {},
   "outputs": [],
   "source": [
    "# How many unique articles are clicked in a session?\n",
    "\n",
    "tmp_aps = df.groupby('session_id')['article_id'].apply(list)\n",
    "\n",
    "articles_per_session = {k:0 for k in range(1, 20)}\n",
    "\n",
    "for i in tmp_aps:\n",
    "    num_articles = len(i)\n",
    "    articles_per_session[num_articles] += 1\n",
    "\n",
    "\n",
    "indices = [k for k in articles_per_session.keys()]\n",
    "values = [k for k in articles_per_session.values()]\n",
    "\n",
    "\n",
    "plot_bar(\n",
    "    indices_ = indices, values_ = values,\n",
    "    yrange_ = [0, 22000], xaxis_title = 'Number of Articles ',\n",
    "    yaxis_title= 'Count', title_ = '<b> Number of Articles clicked in a session<b>')"
   ]
  },
  {
   "cell_type": "markdown",
   "id": "e0e4503e",
   "metadata": {},
   "source": [
    "## Devices"
   ]
  },
  {
   "cell_type": "code",
   "execution_count": null,
   "id": "2dec3192",
   "metadata": {},
   "outputs": [],
   "source": [
    "# Overall distribtuion of devices\n",
    "multiple_subset_bar(df_ = df, feature_ = 'device_type', yrange = [0, 50000])"
   ]
  },
  {
   "cell_type": "markdown",
   "id": "b9dffc83",
   "metadata": {},
   "source": [
    "### Readtime per device"
   ]
  },
  {
   "cell_type": "code",
   "execution_count": null,
   "id": "20604809",
   "metadata": {},
   "outputs": [],
   "source": [
    "multiple_subset_feature_visualization(df_ =df,  feature_1 = 'device_type', feature_2 = 'read_time')"
   ]
  },
  {
   "cell_type": "markdown",
   "id": "d55e86ec",
   "metadata": {},
   "source": [
    "### Scroll time per device"
   ]
  },
  {
   "cell_type": "code",
   "execution_count": null,
   "id": "e5d7a7e2",
   "metadata": {},
   "outputs": [],
   "source": [
    "multiple_subset_feature_visualization(df_ =df,  feature_1 = 'device_type', feature_2 = 'scroll_percentage')"
   ]
  },
  {
   "cell_type": "markdown",
   "id": "eda8ea32",
   "metadata": {},
   "source": [
    "### Topic"
   ]
  },
  {
   "cell_type": "code",
   "execution_count": null,
   "id": "bdb138dd",
   "metadata": {},
   "outputs": [],
   "source": [
    "# Make subplots share axes"
   ]
  },
  {
   "cell_type": "code",
   "execution_count": 47,
   "id": "0db51d06",
   "metadata": {},
   "outputs": [
    {
     "name": "stdout",
     "output_type": "stream",
     "text": [
      "3\n",
      "<class 'float'>\n"
     ]
    }
   ],
   "source": [
    "tmp = -(-5 // 2)\n",
    "\n",
    "if type(tmp) != int: \n",
    "    print('yes')\n",
    "    \n",
    "else:\n",
    "    print(type(i))\n"
   ]
  },
  {
   "cell_type": "code",
   "execution_count": null,
   "id": "edb16d7d",
   "metadata": {},
   "outputs": [],
   "source": [
    "# - fix axes titles\n",
    "# - fix margins\n",
    "# - add in height, width function parameters\n",
    "# - go to activity"
   ]
  },
  {
   "cell_type": "code",
   "execution_count": 179,
   "id": "eef09654",
   "metadata": {},
   "outputs": [],
   "source": [
    "# Put in the function for all unique topics\n",
    "# Functionalize everything in ehre \n",
    "\n",
    "def topic_feature_bar_distribution(df_, feature_, topic_list_, yrange, xaxis_title, yaxis_title, title_ ):\n",
    "\n",
    "\n",
    "    # Assign tmp_df based on feature\n",
    "    if feature_ == 'age':\n",
    "        tmp_df = df_[df_['age'] != '<NA>']\n",
    "    else:\n",
    "        tmp_df = df_[~df_[feature_].isnull()]\n",
    "\n",
    "    \n",
    "    categories = [d for d in tmp_df[feature_].unique()]\n",
    "    categories.sort()\n",
    "\n",
    "    # Make subplots need to figure out number of columns and rows:\n",
    "    rows_ = -(-len(categories) // 2)\n",
    "   # rows_ = len(categories)\n",
    "    fig = make_subplots(\n",
    "    rows=rows_, cols=2, subplot_titles= ['Device 1', \"Device 2\", \"Device 3\"], shared_yaxes=True\n",
    "    )\n",
    "\n",
    "    dict_col = {}\n",
    "    dict_row = {}\n",
    "\n",
    "    for num, category_ in zip(range(0, len(categories)) , categories):\n",
    "        if num % 2 == 0:\n",
    "            dict_col[category_] = 1\n",
    "        else:\n",
    "            dict_col[category_] = 2\n",
    "    \n",
    "    counter = 0\n",
    "    row_num = 1\n",
    "    while counter < len(categories):\n",
    "        print(counter)\n",
    "        num_ = 0\n",
    "        while (num_ < 2) & (counter < len(categories) ):\n",
    "            category_ = categories[counter]\n",
    "            dict_row[category_] = row_num\n",
    "            num_+=1\n",
    "            counter+=1 \n",
    "\n",
    "        row_num +=1\n",
    "    row_num -= -1\n",
    "\n",
    "        \n",
    "\n",
    "    \n",
    "    print(dict_row)\n",
    "    \n",
    "\n",
    "    def row_num(dict_, key):\n",
    "        return dict_[key]\n",
    "    \n",
    "    \n",
    "    def col_num(dict_, key):\n",
    "        return dict_[key]\n",
    "\n",
    "    \n",
    "    for idx, category_ in enumerate(categories):\n",
    "        print(idx, print)\n",
    "        ## Check for Frequency vs Count \n",
    "        # Find the subset of the data with that device\n",
    "        subset_df = tmp_df[tmp_df[feature_] == category_]\n",
    "\n",
    "        # Create a dict object with 0 counts for all topics\n",
    "        tmp_dict = {k:0 for k in topic_list_}\n",
    "        for i in subset_df.index:\n",
    "            for j in range(0, len(subset_df['topics'][i])):\n",
    "                # Find that index\n",
    "                tmp_topic = subset_df['topics'][i][j]\n",
    "\n",
    "                # Enumerate\n",
    "                tmp_dict[tmp_topic] += 1\n",
    "        \n",
    "        tmp_dict  = dict(sorted(tmp_dict.items(), key = lambda kv: kv[1], reverse= True))\n",
    "        \n",
    "\n",
    "        \n",
    "        indices = [x for x in tmp_dict.keys()][0:5]\n",
    "        values = [y for y in tmp_dict.values()][0:5]\n",
    "\n",
    "        # 2 column\n",
    "\n",
    "\n",
    "        fig.add_trace(\n",
    "            go.Bar(\n",
    "                x= indices, y = values,\n",
    "            # text = '<b>{}<b>'.format(values), \n",
    "                name = str(category_)\n",
    "            ), row = col_num(dict_ = dict_row, key = category_), col = col_num(dict_ = dict_col, key = category_)\n",
    "                    \n",
    "            )\n",
    "        \n",
    "        \n",
    "\n",
    "    # Update trace properties\n",
    "        \n",
    "    # Update axis properties\n",
    "    fig.update_yaxes(\n",
    "        title_text= yaxis_title, range = yrange, type=\"log\",\n",
    "        )\n",
    "    \n",
    "    fig.update_xaxes(\n",
    "        title_text= xaxis_title, \n",
    "        )\n",
    "\n",
    "    # Update trace properties\n",
    "            \n",
    "    # Update layout of plot\n",
    "    fig.update_layout(\n",
    "        title = title_, height= 1000, width = 1000,\n",
    "        uniformtext_minsize=8, uniformtext_mode='hide',  \n",
    "        font=dict(\n",
    "            family=\"Courier New, monospace\",\n",
    "            size=14,\n",
    "            )\n",
    "            )\n",
    "\n",
    "    return fig.show()"
   ]
  },
  {
   "cell_type": "code",
   "execution_count": 180,
   "id": "1d2e829e",
   "metadata": {},
   "outputs": [
    {
     "name": "stdout",
     "output_type": "stream",
     "text": [
      "0\n",
      "2\n",
      "{1: 1, 2: 1, 3: 2}\n",
      "0 <built-in function print>\n",
      "1 <built-in function print>\n",
      "2 <built-in function print>\n"
     ]
    },
    {
     "data": {
      "application/vnd.plotly.v1+json": {
       "config": {
        "plotlyServerURL": "https://plot.ly"
       },
       "data": [
        {
         "name": "1",
         "type": "bar",
         "x": [
          "Kendt",
          "Sport",
          "Begivenhed",
          "Underholdning",
          "Kriminalitet"
         ],
         "xaxis": "x",
         "y": [
          8494,
          4942,
          4766,
          4705,
          4223
         ],
         "yaxis": "y"
        },
        {
         "name": "2",
         "type": "bar",
         "x": [
          "Kendt",
          "Sport",
          "Begivenhed",
          "Underholdning",
          "Kriminalitet"
         ],
         "xaxis": "x2",
         "y": [
          16683,
          10635,
          10221,
          8941,
          7787
         ],
         "yaxis": "y2"
        },
        {
         "name": "3",
         "type": "bar",
         "x": [
          "Kendt",
          "Underholdning",
          "Kriminalitet",
          "Begivenhed",
          "Sport"
         ],
         "xaxis": "x3",
         "y": [
          862,
          513,
          480,
          473,
          446
         ],
         "yaxis": "y3"
        }
       ],
       "layout": {
        "annotations": [
         {
          "font": {
           "size": 16
          },
          "showarrow": false,
          "text": "Device 1",
          "x": 0.225,
          "xanchor": "center",
          "xref": "paper",
          "y": 1,
          "yanchor": "bottom",
          "yref": "paper"
         },
         {
          "font": {
           "size": 16
          },
          "showarrow": false,
          "text": "Device 2",
          "x": 0.775,
          "xanchor": "center",
          "xref": "paper",
          "y": 1,
          "yanchor": "bottom",
          "yref": "paper"
         },
         {
          "font": {
           "size": 16
          },
          "showarrow": false,
          "text": "Device 3",
          "x": 0.225,
          "xanchor": "center",
          "xref": "paper",
          "y": 0.375,
          "yanchor": "bottom",
          "yref": "paper"
         }
        ],
        "font": {
         "family": "Courier New, monospace",
         "size": 14
        },
        "height": 1000,
        "template": {
         "data": {
          "bar": [
           {
            "error_x": {
             "color": "#2a3f5f"
            },
            "error_y": {
             "color": "#2a3f5f"
            },
            "marker": {
             "line": {
              "color": "#E5ECF6",
              "width": 0.5
             },
             "pattern": {
              "fillmode": "overlay",
              "size": 10,
              "solidity": 0.2
             }
            },
            "type": "bar"
           }
          ],
          "barpolar": [
           {
            "marker": {
             "line": {
              "color": "#E5ECF6",
              "width": 0.5
             },
             "pattern": {
              "fillmode": "overlay",
              "size": 10,
              "solidity": 0.2
             }
            },
            "type": "barpolar"
           }
          ],
          "carpet": [
           {
            "aaxis": {
             "endlinecolor": "#2a3f5f",
             "gridcolor": "white",
             "linecolor": "white",
             "minorgridcolor": "white",
             "startlinecolor": "#2a3f5f"
            },
            "baxis": {
             "endlinecolor": "#2a3f5f",
             "gridcolor": "white",
             "linecolor": "white",
             "minorgridcolor": "white",
             "startlinecolor": "#2a3f5f"
            },
            "type": "carpet"
           }
          ],
          "choropleth": [
           {
            "colorbar": {
             "outlinewidth": 0,
             "ticks": ""
            },
            "type": "choropleth"
           }
          ],
          "contour": [
           {
            "colorbar": {
             "outlinewidth": 0,
             "ticks": ""
            },
            "colorscale": [
             [
              0,
              "#0d0887"
             ],
             [
              0.1111111111111111,
              "#46039f"
             ],
             [
              0.2222222222222222,
              "#7201a8"
             ],
             [
              0.3333333333333333,
              "#9c179e"
             ],
             [
              0.4444444444444444,
              "#bd3786"
             ],
             [
              0.5555555555555556,
              "#d8576b"
             ],
             [
              0.6666666666666666,
              "#ed7953"
             ],
             [
              0.7777777777777778,
              "#fb9f3a"
             ],
             [
              0.8888888888888888,
              "#fdca26"
             ],
             [
              1,
              "#f0f921"
             ]
            ],
            "type": "contour"
           }
          ],
          "contourcarpet": [
           {
            "colorbar": {
             "outlinewidth": 0,
             "ticks": ""
            },
            "type": "contourcarpet"
           }
          ],
          "heatmap": [
           {
            "colorbar": {
             "outlinewidth": 0,
             "ticks": ""
            },
            "colorscale": [
             [
              0,
              "#0d0887"
             ],
             [
              0.1111111111111111,
              "#46039f"
             ],
             [
              0.2222222222222222,
              "#7201a8"
             ],
             [
              0.3333333333333333,
              "#9c179e"
             ],
             [
              0.4444444444444444,
              "#bd3786"
             ],
             [
              0.5555555555555556,
              "#d8576b"
             ],
             [
              0.6666666666666666,
              "#ed7953"
             ],
             [
              0.7777777777777778,
              "#fb9f3a"
             ],
             [
              0.8888888888888888,
              "#fdca26"
             ],
             [
              1,
              "#f0f921"
             ]
            ],
            "type": "heatmap"
           }
          ],
          "heatmapgl": [
           {
            "colorbar": {
             "outlinewidth": 0,
             "ticks": ""
            },
            "colorscale": [
             [
              0,
              "#0d0887"
             ],
             [
              0.1111111111111111,
              "#46039f"
             ],
             [
              0.2222222222222222,
              "#7201a8"
             ],
             [
              0.3333333333333333,
              "#9c179e"
             ],
             [
              0.4444444444444444,
              "#bd3786"
             ],
             [
              0.5555555555555556,
              "#d8576b"
             ],
             [
              0.6666666666666666,
              "#ed7953"
             ],
             [
              0.7777777777777778,
              "#fb9f3a"
             ],
             [
              0.8888888888888888,
              "#fdca26"
             ],
             [
              1,
              "#f0f921"
             ]
            ],
            "type": "heatmapgl"
           }
          ],
          "histogram": [
           {
            "marker": {
             "pattern": {
              "fillmode": "overlay",
              "size": 10,
              "solidity": 0.2
             }
            },
            "type": "histogram"
           }
          ],
          "histogram2d": [
           {
            "colorbar": {
             "outlinewidth": 0,
             "ticks": ""
            },
            "colorscale": [
             [
              0,
              "#0d0887"
             ],
             [
              0.1111111111111111,
              "#46039f"
             ],
             [
              0.2222222222222222,
              "#7201a8"
             ],
             [
              0.3333333333333333,
              "#9c179e"
             ],
             [
              0.4444444444444444,
              "#bd3786"
             ],
             [
              0.5555555555555556,
              "#d8576b"
             ],
             [
              0.6666666666666666,
              "#ed7953"
             ],
             [
              0.7777777777777778,
              "#fb9f3a"
             ],
             [
              0.8888888888888888,
              "#fdca26"
             ],
             [
              1,
              "#f0f921"
             ]
            ],
            "type": "histogram2d"
           }
          ],
          "histogram2dcontour": [
           {
            "colorbar": {
             "outlinewidth": 0,
             "ticks": ""
            },
            "colorscale": [
             [
              0,
              "#0d0887"
             ],
             [
              0.1111111111111111,
              "#46039f"
             ],
             [
              0.2222222222222222,
              "#7201a8"
             ],
             [
              0.3333333333333333,
              "#9c179e"
             ],
             [
              0.4444444444444444,
              "#bd3786"
             ],
             [
              0.5555555555555556,
              "#d8576b"
             ],
             [
              0.6666666666666666,
              "#ed7953"
             ],
             [
              0.7777777777777778,
              "#fb9f3a"
             ],
             [
              0.8888888888888888,
              "#fdca26"
             ],
             [
              1,
              "#f0f921"
             ]
            ],
            "type": "histogram2dcontour"
           }
          ],
          "mesh3d": [
           {
            "colorbar": {
             "outlinewidth": 0,
             "ticks": ""
            },
            "type": "mesh3d"
           }
          ],
          "parcoords": [
           {
            "line": {
             "colorbar": {
              "outlinewidth": 0,
              "ticks": ""
             }
            },
            "type": "parcoords"
           }
          ],
          "pie": [
           {
            "automargin": true,
            "type": "pie"
           }
          ],
          "scatter": [
           {
            "fillpattern": {
             "fillmode": "overlay",
             "size": 10,
             "solidity": 0.2
            },
            "type": "scatter"
           }
          ],
          "scatter3d": [
           {
            "line": {
             "colorbar": {
              "outlinewidth": 0,
              "ticks": ""
             }
            },
            "marker": {
             "colorbar": {
              "outlinewidth": 0,
              "ticks": ""
             }
            },
            "type": "scatter3d"
           }
          ],
          "scattercarpet": [
           {
            "marker": {
             "colorbar": {
              "outlinewidth": 0,
              "ticks": ""
             }
            },
            "type": "scattercarpet"
           }
          ],
          "scattergeo": [
           {
            "marker": {
             "colorbar": {
              "outlinewidth": 0,
              "ticks": ""
             }
            },
            "type": "scattergeo"
           }
          ],
          "scattergl": [
           {
            "marker": {
             "colorbar": {
              "outlinewidth": 0,
              "ticks": ""
             }
            },
            "type": "scattergl"
           }
          ],
          "scattermapbox": [
           {
            "marker": {
             "colorbar": {
              "outlinewidth": 0,
              "ticks": ""
             }
            },
            "type": "scattermapbox"
           }
          ],
          "scatterpolar": [
           {
            "marker": {
             "colorbar": {
              "outlinewidth": 0,
              "ticks": ""
             }
            },
            "type": "scatterpolar"
           }
          ],
          "scatterpolargl": [
           {
            "marker": {
             "colorbar": {
              "outlinewidth": 0,
              "ticks": ""
             }
            },
            "type": "scatterpolargl"
           }
          ],
          "scatterternary": [
           {
            "marker": {
             "colorbar": {
              "outlinewidth": 0,
              "ticks": ""
             }
            },
            "type": "scatterternary"
           }
          ],
          "surface": [
           {
            "colorbar": {
             "outlinewidth": 0,
             "ticks": ""
            },
            "colorscale": [
             [
              0,
              "#0d0887"
             ],
             [
              0.1111111111111111,
              "#46039f"
             ],
             [
              0.2222222222222222,
              "#7201a8"
             ],
             [
              0.3333333333333333,
              "#9c179e"
             ],
             [
              0.4444444444444444,
              "#bd3786"
             ],
             [
              0.5555555555555556,
              "#d8576b"
             ],
             [
              0.6666666666666666,
              "#ed7953"
             ],
             [
              0.7777777777777778,
              "#fb9f3a"
             ],
             [
              0.8888888888888888,
              "#fdca26"
             ],
             [
              1,
              "#f0f921"
             ]
            ],
            "type": "surface"
           }
          ],
          "table": [
           {
            "cells": {
             "fill": {
              "color": "#EBF0F8"
             },
             "line": {
              "color": "white"
             }
            },
            "header": {
             "fill": {
              "color": "#C8D4E3"
             },
             "line": {
              "color": "white"
             }
            },
            "type": "table"
           }
          ]
         },
         "layout": {
          "annotationdefaults": {
           "arrowcolor": "#2a3f5f",
           "arrowhead": 0,
           "arrowwidth": 1
          },
          "autotypenumbers": "strict",
          "coloraxis": {
           "colorbar": {
            "outlinewidth": 0,
            "ticks": ""
           }
          },
          "colorscale": {
           "diverging": [
            [
             0,
             "#8e0152"
            ],
            [
             0.1,
             "#c51b7d"
            ],
            [
             0.2,
             "#de77ae"
            ],
            [
             0.3,
             "#f1b6da"
            ],
            [
             0.4,
             "#fde0ef"
            ],
            [
             0.5,
             "#f7f7f7"
            ],
            [
             0.6,
             "#e6f5d0"
            ],
            [
             0.7,
             "#b8e186"
            ],
            [
             0.8,
             "#7fbc41"
            ],
            [
             0.9,
             "#4d9221"
            ],
            [
             1,
             "#276419"
            ]
           ],
           "sequential": [
            [
             0,
             "#0d0887"
            ],
            [
             0.1111111111111111,
             "#46039f"
            ],
            [
             0.2222222222222222,
             "#7201a8"
            ],
            [
             0.3333333333333333,
             "#9c179e"
            ],
            [
             0.4444444444444444,
             "#bd3786"
            ],
            [
             0.5555555555555556,
             "#d8576b"
            ],
            [
             0.6666666666666666,
             "#ed7953"
            ],
            [
             0.7777777777777778,
             "#fb9f3a"
            ],
            [
             0.8888888888888888,
             "#fdca26"
            ],
            [
             1,
             "#f0f921"
            ]
           ],
           "sequentialminus": [
            [
             0,
             "#0d0887"
            ],
            [
             0.1111111111111111,
             "#46039f"
            ],
            [
             0.2222222222222222,
             "#7201a8"
            ],
            [
             0.3333333333333333,
             "#9c179e"
            ],
            [
             0.4444444444444444,
             "#bd3786"
            ],
            [
             0.5555555555555556,
             "#d8576b"
            ],
            [
             0.6666666666666666,
             "#ed7953"
            ],
            [
             0.7777777777777778,
             "#fb9f3a"
            ],
            [
             0.8888888888888888,
             "#fdca26"
            ],
            [
             1,
             "#f0f921"
            ]
           ]
          },
          "colorway": [
           "#636efa",
           "#EF553B",
           "#00cc96",
           "#ab63fa",
           "#FFA15A",
           "#19d3f3",
           "#FF6692",
           "#B6E880",
           "#FF97FF",
           "#FECB52"
          ],
          "font": {
           "color": "#2a3f5f"
          },
          "geo": {
           "bgcolor": "white",
           "lakecolor": "white",
           "landcolor": "#E5ECF6",
           "showlakes": true,
           "showland": true,
           "subunitcolor": "white"
          },
          "hoverlabel": {
           "align": "left"
          },
          "hovermode": "closest",
          "mapbox": {
           "style": "light"
          },
          "paper_bgcolor": "white",
          "plot_bgcolor": "#E5ECF6",
          "polar": {
           "angularaxis": {
            "gridcolor": "white",
            "linecolor": "white",
            "ticks": ""
           },
           "bgcolor": "#E5ECF6",
           "radialaxis": {
            "gridcolor": "white",
            "linecolor": "white",
            "ticks": ""
           }
          },
          "scene": {
           "xaxis": {
            "backgroundcolor": "#E5ECF6",
            "gridcolor": "white",
            "gridwidth": 2,
            "linecolor": "white",
            "showbackground": true,
            "ticks": "",
            "zerolinecolor": "white"
           },
           "yaxis": {
            "backgroundcolor": "#E5ECF6",
            "gridcolor": "white",
            "gridwidth": 2,
            "linecolor": "white",
            "showbackground": true,
            "ticks": "",
            "zerolinecolor": "white"
           },
           "zaxis": {
            "backgroundcolor": "#E5ECF6",
            "gridcolor": "white",
            "gridwidth": 2,
            "linecolor": "white",
            "showbackground": true,
            "ticks": "",
            "zerolinecolor": "white"
           }
          },
          "shapedefaults": {
           "line": {
            "color": "#2a3f5f"
           }
          },
          "ternary": {
           "aaxis": {
            "gridcolor": "white",
            "linecolor": "white",
            "ticks": ""
           },
           "baxis": {
            "gridcolor": "white",
            "linecolor": "white",
            "ticks": ""
           },
           "bgcolor": "#E5ECF6",
           "caxis": {
            "gridcolor": "white",
            "linecolor": "white",
            "ticks": ""
           }
          },
          "title": {
           "x": 0.05
          },
          "xaxis": {
           "automargin": true,
           "gridcolor": "white",
           "linecolor": "white",
           "ticks": "",
           "title": {
            "standoff": 15
           },
           "zerolinecolor": "white",
           "zerolinewidth": 2
          },
          "yaxis": {
           "automargin": true,
           "gridcolor": "white",
           "linecolor": "white",
           "ticks": "",
           "title": {
            "standoff": 15
           },
           "zerolinecolor": "white",
           "zerolinewidth": 2
          }
         }
        },
        "title": {
         "text": "Topic Distribution Per Device"
        },
        "uniformtext": {
         "minsize": 8,
         "mode": "hide"
        },
        "width": 1000,
        "xaxis": {
         "anchor": "y",
         "domain": [
          0,
          0.45
         ],
         "title": {
          "text": "Topics"
         }
        },
        "xaxis2": {
         "anchor": "y2",
         "domain": [
          0.55,
          1
         ],
         "title": {
          "text": "Topics"
         }
        },
        "xaxis3": {
         "anchor": "y3",
         "domain": [
          0,
          0.45
         ],
         "title": {
          "text": "Topics"
         }
        },
        "xaxis4": {
         "anchor": "y4",
         "domain": [
          0.55,
          1
         ],
         "title": {
          "text": "Topics"
         }
        },
        "yaxis": {
         "anchor": "x",
         "domain": [
          0.625,
          1
         ],
         "range": [
          0,
          5
         ],
         "title": {
          "text": "Count"
         },
         "type": "log"
        },
        "yaxis2": {
         "anchor": "x2",
         "domain": [
          0.625,
          1
         ],
         "matches": "y",
         "range": [
          0,
          5
         ],
         "showticklabels": false,
         "title": {
          "text": "Count"
         },
         "type": "log"
        },
        "yaxis3": {
         "anchor": "x3",
         "domain": [
          0,
          0.375
         ],
         "range": [
          0,
          5
         ],
         "title": {
          "text": "Count"
         },
         "type": "log"
        },
        "yaxis4": {
         "anchor": "x4",
         "domain": [
          0,
          0.375
         ],
         "matches": "y3",
         "range": [
          0,
          5
         ],
         "showticklabels": false,
         "title": {
          "text": "Count"
         },
         "type": "log"
        }
       }
      }
     },
     "metadata": {},
     "output_type": "display_data"
    }
   ],
   "source": [
    "\n",
    "topic_feature_bar_distribution(\n",
    "    df_ = df, feature_ = 'device_type', yrange = [0, 5],\n",
    "    topic_list_ = unique_topics , xaxis_title = 'Topics',\n",
    "    yaxis_title = 'Count', title_ = 'Topic Distribution Per Device'\n",
    "    )"
   ]
  },
  {
   "cell_type": "markdown",
   "id": "f7f6e44c",
   "metadata": {},
   "source": [
    "### Activity"
   ]
  },
  {
   "cell_type": "markdown",
   "id": "c39ef15d",
   "metadata": {},
   "source": [
    "#### Daily Activity"
   ]
  },
  {
   "cell_type": "code",
   "execution_count": null,
   "id": "30fd8ade",
   "metadata": {},
   "outputs": [],
   "source": [
    "fig = go.Figure()\n",
    "# Iterate through each device \n",
    "for d in devices:\n",
    "    # Find the subset of the data with that device\n",
    "    tmp_df = df[df['device_type'] == d]\n",
    "\n",
    "    # Create a dict object with 0 counts for all topics\n",
    "    device_daily_activity = {}\n",
    "    for i in tmp_df.index:\n",
    "        # Find that index\n",
    "        tmp_timestamp = df['impression_time'][i]\n",
    "        tmp_datetime = tmp_timestamp\n",
    "        tmp_date = tmp_datetime.strftime('%m/%d/%Y')\n",
    "\n",
    "        # Daily Activity\n",
    "        if tmp_date not in device_daily_activity:\n",
    "            device_daily_activity[tmp_date] = 0\n",
    "        else:\n",
    "            device_daily_activity[tmp_date] +=1\n",
    "    \n",
    "    # Sort by dates\n",
    "    device_daily_activity = dict(sorted(device_daily_activity.items()))\n",
    "\n",
    "    # Add trace\n",
    "    fig.add_trace(go.Bar(x= [x for x in device_daily_activity.keys()], y = [y for y in device_daily_activity.values()], textfont_size=20))\n",
    "\n",
    "\n",
    "\n",
    "    # Overlay both histograms\n",
    "    #fig.update_layout(barmode='overlay')\n",
    "    # Reduce opacity to see both histograms\n",
    "fig.update_traces(opacity=0.75)\n",
    "fig.show()"
   ]
  },
  {
   "cell_type": "markdown",
   "id": "52a4d01a",
   "metadata": {},
   "source": [
    "#### Hourly Activity"
   ]
  },
  {
   "cell_type": "code",
   "execution_count": null,
   "id": "fa957a4a",
   "metadata": {},
   "outputs": [],
   "source": [
    "fig = go.Figure()\n",
    "# Iterate through each device \n",
    "for d in devices:\n",
    "    # Find the subset of the data with that device\n",
    "    tmp_df = df[df['device_type'] == d]\n",
    "\n",
    "    # Create a dict object with 0 counts for all topics\n",
    "    device_hourly_activity = {}\n",
    "    for i in tmp_df.index:\n",
    "        # Find that index\n",
    "        tmp_timestamp = df['impression_time'][i]\n",
    "        tmp_datetime = tmp_timestamp\n",
    "        tmp_time = tmp_datetime.strftime('%H')\n",
    "\n",
    "        # Hourly Activity\n",
    "        if tmp_time not in device_hourly_activity:\n",
    "            device_hourly_activity[tmp_time] = 0\n",
    "        else:\n",
    "            device_hourly_activity[tmp_time] +=1\n",
    "    \n",
    "    # Sort by dates\n",
    "    device_hourly_activity = dict(sorted(device_hourly_activity.items()))\n",
    "\n",
    "    # Add trace\n",
    "    fig.add_trace(go.Bar(x= [x for x in device_hourly_activity.keys()], y = [y for y in device_hourly_activity.values()], textfont_size=20))\n",
    "\n",
    "\n",
    "\n",
    "    # Overlay both histograms\n",
    "    #fig.update_layout(barmode='overlay')\n",
    "    # Reduce opacity to see both histograms\n",
    "fig.update_traces(opacity=0.75)\n",
    "fig.show()"
   ]
  },
  {
   "cell_type": "markdown",
   "id": "c37b7ff5",
   "metadata": {},
   "source": [
    "# If subscriber"
   ]
  },
  {
   "cell_type": "markdown",
   "id": "2445ea77",
   "metadata": {},
   "source": [
    "### How many users are subscribers"
   ]
  },
  {
   "cell_type": "code",
   "execution_count": null,
   "id": "6af0618a",
   "metadata": {},
   "outputs": [],
   "source": [
    "multiple_subset_bar(df_ = df, feature_ = 'is_subscriber', yrange = [0, 80000])"
   ]
  },
  {
   "cell_type": "markdown",
   "id": "76723f43",
   "metadata": {},
   "source": [
    "### Read time for subscriber vs non-subscribers"
   ]
  },
  {
   "cell_type": "code",
   "execution_count": null,
   "id": "61a41086",
   "metadata": {},
   "outputs": [],
   "source": [
    "multiple_subset_feature_visualization(df_ =df,  feature_1 = 'is_subscriber', feature_2 = 'read_time')"
   ]
  },
  {
   "cell_type": "markdown",
   "id": "47680f96",
   "metadata": {},
   "source": [
    "### Scroll percentage if subscriber"
   ]
  },
  {
   "cell_type": "code",
   "execution_count": null,
   "id": "20e0a958",
   "metadata": {},
   "outputs": [],
   "source": [
    "multiple_subset_feature_visualization(df_ =df,  feature_1 = 'is_subscriber', feature_2 = 'scroll_percentage')"
   ]
  },
  {
   "cell_type": "markdown",
   "id": "b096414c",
   "metadata": {},
   "source": [
    "#### Topic Distribution"
   ]
  },
  {
   "cell_type": "code",
   "execution_count": 181,
   "id": "a5e83855",
   "metadata": {},
   "outputs": [
    {
     "name": "stdout",
     "output_type": "stream",
     "text": [
      "0\n",
      "{False: 1, True: 1}\n",
      "0 <built-in function print>\n",
      "1 <built-in function print>\n"
     ]
    },
    {
     "data": {
      "application/vnd.plotly.v1+json": {
       "config": {
        "plotlyServerURL": "https://plot.ly"
       },
       "data": [
        {
         "name": "False",
         "type": "bar",
         "x": [
          "Kendt",
          "Sport",
          "Begivenhed",
          "Underholdning",
          "Kriminalitet"
         ],
         "xaxis": "x",
         "y": [
          24365,
          15016,
          14520,
          13253,
          11698
         ],
         "yaxis": "y"
        },
        {
         "name": "True",
         "type": "bar",
         "x": [
          "Kendt",
          "Sport",
          "Begivenhed",
          "Underholdning",
          "Livsstil"
         ],
         "xaxis": "x2",
         "y": [
          1674,
          1007,
          940,
          906,
          806
         ],
         "yaxis": "y2"
        }
       ],
       "layout": {
        "annotations": [
         {
          "font": {
           "size": 16
          },
          "showarrow": false,
          "text": "Device 1",
          "x": 0.225,
          "xanchor": "center",
          "xref": "paper",
          "y": 1,
          "yanchor": "bottom",
          "yref": "paper"
         },
         {
          "font": {
           "size": 16
          },
          "showarrow": false,
          "text": "Device 2",
          "x": 0.775,
          "xanchor": "center",
          "xref": "paper",
          "y": 1,
          "yanchor": "bottom",
          "yref": "paper"
         }
        ],
        "font": {
         "family": "Courier New, monospace",
         "size": 14
        },
        "height": 1000,
        "template": {
         "data": {
          "bar": [
           {
            "error_x": {
             "color": "#2a3f5f"
            },
            "error_y": {
             "color": "#2a3f5f"
            },
            "marker": {
             "line": {
              "color": "#E5ECF6",
              "width": 0.5
             },
             "pattern": {
              "fillmode": "overlay",
              "size": 10,
              "solidity": 0.2
             }
            },
            "type": "bar"
           }
          ],
          "barpolar": [
           {
            "marker": {
             "line": {
              "color": "#E5ECF6",
              "width": 0.5
             },
             "pattern": {
              "fillmode": "overlay",
              "size": 10,
              "solidity": 0.2
             }
            },
            "type": "barpolar"
           }
          ],
          "carpet": [
           {
            "aaxis": {
             "endlinecolor": "#2a3f5f",
             "gridcolor": "white",
             "linecolor": "white",
             "minorgridcolor": "white",
             "startlinecolor": "#2a3f5f"
            },
            "baxis": {
             "endlinecolor": "#2a3f5f",
             "gridcolor": "white",
             "linecolor": "white",
             "minorgridcolor": "white",
             "startlinecolor": "#2a3f5f"
            },
            "type": "carpet"
           }
          ],
          "choropleth": [
           {
            "colorbar": {
             "outlinewidth": 0,
             "ticks": ""
            },
            "type": "choropleth"
           }
          ],
          "contour": [
           {
            "colorbar": {
             "outlinewidth": 0,
             "ticks": ""
            },
            "colorscale": [
             [
              0,
              "#0d0887"
             ],
             [
              0.1111111111111111,
              "#46039f"
             ],
             [
              0.2222222222222222,
              "#7201a8"
             ],
             [
              0.3333333333333333,
              "#9c179e"
             ],
             [
              0.4444444444444444,
              "#bd3786"
             ],
             [
              0.5555555555555556,
              "#d8576b"
             ],
             [
              0.6666666666666666,
              "#ed7953"
             ],
             [
              0.7777777777777778,
              "#fb9f3a"
             ],
             [
              0.8888888888888888,
              "#fdca26"
             ],
             [
              1,
              "#f0f921"
             ]
            ],
            "type": "contour"
           }
          ],
          "contourcarpet": [
           {
            "colorbar": {
             "outlinewidth": 0,
             "ticks": ""
            },
            "type": "contourcarpet"
           }
          ],
          "heatmap": [
           {
            "colorbar": {
             "outlinewidth": 0,
             "ticks": ""
            },
            "colorscale": [
             [
              0,
              "#0d0887"
             ],
             [
              0.1111111111111111,
              "#46039f"
             ],
             [
              0.2222222222222222,
              "#7201a8"
             ],
             [
              0.3333333333333333,
              "#9c179e"
             ],
             [
              0.4444444444444444,
              "#bd3786"
             ],
             [
              0.5555555555555556,
              "#d8576b"
             ],
             [
              0.6666666666666666,
              "#ed7953"
             ],
             [
              0.7777777777777778,
              "#fb9f3a"
             ],
             [
              0.8888888888888888,
              "#fdca26"
             ],
             [
              1,
              "#f0f921"
             ]
            ],
            "type": "heatmap"
           }
          ],
          "heatmapgl": [
           {
            "colorbar": {
             "outlinewidth": 0,
             "ticks": ""
            },
            "colorscale": [
             [
              0,
              "#0d0887"
             ],
             [
              0.1111111111111111,
              "#46039f"
             ],
             [
              0.2222222222222222,
              "#7201a8"
             ],
             [
              0.3333333333333333,
              "#9c179e"
             ],
             [
              0.4444444444444444,
              "#bd3786"
             ],
             [
              0.5555555555555556,
              "#d8576b"
             ],
             [
              0.6666666666666666,
              "#ed7953"
             ],
             [
              0.7777777777777778,
              "#fb9f3a"
             ],
             [
              0.8888888888888888,
              "#fdca26"
             ],
             [
              1,
              "#f0f921"
             ]
            ],
            "type": "heatmapgl"
           }
          ],
          "histogram": [
           {
            "marker": {
             "pattern": {
              "fillmode": "overlay",
              "size": 10,
              "solidity": 0.2
             }
            },
            "type": "histogram"
           }
          ],
          "histogram2d": [
           {
            "colorbar": {
             "outlinewidth": 0,
             "ticks": ""
            },
            "colorscale": [
             [
              0,
              "#0d0887"
             ],
             [
              0.1111111111111111,
              "#46039f"
             ],
             [
              0.2222222222222222,
              "#7201a8"
             ],
             [
              0.3333333333333333,
              "#9c179e"
             ],
             [
              0.4444444444444444,
              "#bd3786"
             ],
             [
              0.5555555555555556,
              "#d8576b"
             ],
             [
              0.6666666666666666,
              "#ed7953"
             ],
             [
              0.7777777777777778,
              "#fb9f3a"
             ],
             [
              0.8888888888888888,
              "#fdca26"
             ],
             [
              1,
              "#f0f921"
             ]
            ],
            "type": "histogram2d"
           }
          ],
          "histogram2dcontour": [
           {
            "colorbar": {
             "outlinewidth": 0,
             "ticks": ""
            },
            "colorscale": [
             [
              0,
              "#0d0887"
             ],
             [
              0.1111111111111111,
              "#46039f"
             ],
             [
              0.2222222222222222,
              "#7201a8"
             ],
             [
              0.3333333333333333,
              "#9c179e"
             ],
             [
              0.4444444444444444,
              "#bd3786"
             ],
             [
              0.5555555555555556,
              "#d8576b"
             ],
             [
              0.6666666666666666,
              "#ed7953"
             ],
             [
              0.7777777777777778,
              "#fb9f3a"
             ],
             [
              0.8888888888888888,
              "#fdca26"
             ],
             [
              1,
              "#f0f921"
             ]
            ],
            "type": "histogram2dcontour"
           }
          ],
          "mesh3d": [
           {
            "colorbar": {
             "outlinewidth": 0,
             "ticks": ""
            },
            "type": "mesh3d"
           }
          ],
          "parcoords": [
           {
            "line": {
             "colorbar": {
              "outlinewidth": 0,
              "ticks": ""
             }
            },
            "type": "parcoords"
           }
          ],
          "pie": [
           {
            "automargin": true,
            "type": "pie"
           }
          ],
          "scatter": [
           {
            "fillpattern": {
             "fillmode": "overlay",
             "size": 10,
             "solidity": 0.2
            },
            "type": "scatter"
           }
          ],
          "scatter3d": [
           {
            "line": {
             "colorbar": {
              "outlinewidth": 0,
              "ticks": ""
             }
            },
            "marker": {
             "colorbar": {
              "outlinewidth": 0,
              "ticks": ""
             }
            },
            "type": "scatter3d"
           }
          ],
          "scattercarpet": [
           {
            "marker": {
             "colorbar": {
              "outlinewidth": 0,
              "ticks": ""
             }
            },
            "type": "scattercarpet"
           }
          ],
          "scattergeo": [
           {
            "marker": {
             "colorbar": {
              "outlinewidth": 0,
              "ticks": ""
             }
            },
            "type": "scattergeo"
           }
          ],
          "scattergl": [
           {
            "marker": {
             "colorbar": {
              "outlinewidth": 0,
              "ticks": ""
             }
            },
            "type": "scattergl"
           }
          ],
          "scattermapbox": [
           {
            "marker": {
             "colorbar": {
              "outlinewidth": 0,
              "ticks": ""
             }
            },
            "type": "scattermapbox"
           }
          ],
          "scatterpolar": [
           {
            "marker": {
             "colorbar": {
              "outlinewidth": 0,
              "ticks": ""
             }
            },
            "type": "scatterpolar"
           }
          ],
          "scatterpolargl": [
           {
            "marker": {
             "colorbar": {
              "outlinewidth": 0,
              "ticks": ""
             }
            },
            "type": "scatterpolargl"
           }
          ],
          "scatterternary": [
           {
            "marker": {
             "colorbar": {
              "outlinewidth": 0,
              "ticks": ""
             }
            },
            "type": "scatterternary"
           }
          ],
          "surface": [
           {
            "colorbar": {
             "outlinewidth": 0,
             "ticks": ""
            },
            "colorscale": [
             [
              0,
              "#0d0887"
             ],
             [
              0.1111111111111111,
              "#46039f"
             ],
             [
              0.2222222222222222,
              "#7201a8"
             ],
             [
              0.3333333333333333,
              "#9c179e"
             ],
             [
              0.4444444444444444,
              "#bd3786"
             ],
             [
              0.5555555555555556,
              "#d8576b"
             ],
             [
              0.6666666666666666,
              "#ed7953"
             ],
             [
              0.7777777777777778,
              "#fb9f3a"
             ],
             [
              0.8888888888888888,
              "#fdca26"
             ],
             [
              1,
              "#f0f921"
             ]
            ],
            "type": "surface"
           }
          ],
          "table": [
           {
            "cells": {
             "fill": {
              "color": "#EBF0F8"
             },
             "line": {
              "color": "white"
             }
            },
            "header": {
             "fill": {
              "color": "#C8D4E3"
             },
             "line": {
              "color": "white"
             }
            },
            "type": "table"
           }
          ]
         },
         "layout": {
          "annotationdefaults": {
           "arrowcolor": "#2a3f5f",
           "arrowhead": 0,
           "arrowwidth": 1
          },
          "autotypenumbers": "strict",
          "coloraxis": {
           "colorbar": {
            "outlinewidth": 0,
            "ticks": ""
           }
          },
          "colorscale": {
           "diverging": [
            [
             0,
             "#8e0152"
            ],
            [
             0.1,
             "#c51b7d"
            ],
            [
             0.2,
             "#de77ae"
            ],
            [
             0.3,
             "#f1b6da"
            ],
            [
             0.4,
             "#fde0ef"
            ],
            [
             0.5,
             "#f7f7f7"
            ],
            [
             0.6,
             "#e6f5d0"
            ],
            [
             0.7,
             "#b8e186"
            ],
            [
             0.8,
             "#7fbc41"
            ],
            [
             0.9,
             "#4d9221"
            ],
            [
             1,
             "#276419"
            ]
           ],
           "sequential": [
            [
             0,
             "#0d0887"
            ],
            [
             0.1111111111111111,
             "#46039f"
            ],
            [
             0.2222222222222222,
             "#7201a8"
            ],
            [
             0.3333333333333333,
             "#9c179e"
            ],
            [
             0.4444444444444444,
             "#bd3786"
            ],
            [
             0.5555555555555556,
             "#d8576b"
            ],
            [
             0.6666666666666666,
             "#ed7953"
            ],
            [
             0.7777777777777778,
             "#fb9f3a"
            ],
            [
             0.8888888888888888,
             "#fdca26"
            ],
            [
             1,
             "#f0f921"
            ]
           ],
           "sequentialminus": [
            [
             0,
             "#0d0887"
            ],
            [
             0.1111111111111111,
             "#46039f"
            ],
            [
             0.2222222222222222,
             "#7201a8"
            ],
            [
             0.3333333333333333,
             "#9c179e"
            ],
            [
             0.4444444444444444,
             "#bd3786"
            ],
            [
             0.5555555555555556,
             "#d8576b"
            ],
            [
             0.6666666666666666,
             "#ed7953"
            ],
            [
             0.7777777777777778,
             "#fb9f3a"
            ],
            [
             0.8888888888888888,
             "#fdca26"
            ],
            [
             1,
             "#f0f921"
            ]
           ]
          },
          "colorway": [
           "#636efa",
           "#EF553B",
           "#00cc96",
           "#ab63fa",
           "#FFA15A",
           "#19d3f3",
           "#FF6692",
           "#B6E880",
           "#FF97FF",
           "#FECB52"
          ],
          "font": {
           "color": "#2a3f5f"
          },
          "geo": {
           "bgcolor": "white",
           "lakecolor": "white",
           "landcolor": "#E5ECF6",
           "showlakes": true,
           "showland": true,
           "subunitcolor": "white"
          },
          "hoverlabel": {
           "align": "left"
          },
          "hovermode": "closest",
          "mapbox": {
           "style": "light"
          },
          "paper_bgcolor": "white",
          "plot_bgcolor": "#E5ECF6",
          "polar": {
           "angularaxis": {
            "gridcolor": "white",
            "linecolor": "white",
            "ticks": ""
           },
           "bgcolor": "#E5ECF6",
           "radialaxis": {
            "gridcolor": "white",
            "linecolor": "white",
            "ticks": ""
           }
          },
          "scene": {
           "xaxis": {
            "backgroundcolor": "#E5ECF6",
            "gridcolor": "white",
            "gridwidth": 2,
            "linecolor": "white",
            "showbackground": true,
            "ticks": "",
            "zerolinecolor": "white"
           },
           "yaxis": {
            "backgroundcolor": "#E5ECF6",
            "gridcolor": "white",
            "gridwidth": 2,
            "linecolor": "white",
            "showbackground": true,
            "ticks": "",
            "zerolinecolor": "white"
           },
           "zaxis": {
            "backgroundcolor": "#E5ECF6",
            "gridcolor": "white",
            "gridwidth": 2,
            "linecolor": "white",
            "showbackground": true,
            "ticks": "",
            "zerolinecolor": "white"
           }
          },
          "shapedefaults": {
           "line": {
            "color": "#2a3f5f"
           }
          },
          "ternary": {
           "aaxis": {
            "gridcolor": "white",
            "linecolor": "white",
            "ticks": ""
           },
           "baxis": {
            "gridcolor": "white",
            "linecolor": "white",
            "ticks": ""
           },
           "bgcolor": "#E5ECF6",
           "caxis": {
            "gridcolor": "white",
            "linecolor": "white",
            "ticks": ""
           }
          },
          "title": {
           "x": 0.05
          },
          "xaxis": {
           "automargin": true,
           "gridcolor": "white",
           "linecolor": "white",
           "ticks": "",
           "title": {
            "standoff": 15
           },
           "zerolinecolor": "white",
           "zerolinewidth": 2
          },
          "yaxis": {
           "automargin": true,
           "gridcolor": "white",
           "linecolor": "white",
           "ticks": "",
           "title": {
            "standoff": 15
           },
           "zerolinecolor": "white",
           "zerolinewidth": 2
          }
         }
        },
        "title": {
         "text": "Topic Distribution Per Device"
        },
        "uniformtext": {
         "minsize": 8,
         "mode": "hide"
        },
        "width": 1000,
        "xaxis": {
         "anchor": "y",
         "domain": [
          0,
          0.45
         ],
         "title": {
          "text": "Topics"
         }
        },
        "xaxis2": {
         "anchor": "y2",
         "domain": [
          0.55,
          1
         ],
         "title": {
          "text": "Topics"
         }
        },
        "yaxis": {
         "anchor": "x",
         "domain": [
          0,
          1
         ],
         "range": [
          0,
          5
         ],
         "title": {
          "text": "Count"
         },
         "type": "log"
        },
        "yaxis2": {
         "anchor": "x2",
         "domain": [
          0,
          1
         ],
         "matches": "y",
         "range": [
          0,
          5
         ],
         "showticklabels": false,
         "title": {
          "text": "Count"
         },
         "type": "log"
        }
       }
      }
     },
     "metadata": {},
     "output_type": "display_data"
    }
   ],
   "source": [
    "# Get all the unique topics\n",
    "topic_list = unique_subset_topics(df)\n",
    "unique_topics = sorted(topic_list)\n",
    "\n",
    "topic_feature_bar_distribution(\n",
    "    df_ = df, feature_ = 'is_subscriber', yrange = [0, 5],\n",
    "    topic_list_ = unique_topics , xaxis_title = 'Topics',\n",
    "    yaxis_title = 'Count', title_ = 'Topic Distribution Per Device'\n",
    "    )"
   ]
  },
  {
   "cell_type": "markdown",
   "id": "b0c3ff67",
   "metadata": {},
   "source": [
    "### Activity"
   ]
  },
  {
   "cell_type": "markdown",
   "id": "aa09cd6e",
   "metadata": {},
   "source": [
    "#### Daily Activity"
   ]
  },
  {
   "cell_type": "code",
   "execution_count": null,
   "id": "c5c4917a",
   "metadata": {},
   "outputs": [],
   "source": [
    "is_subscriber = [d for d in df['is_subscriber'].unique()]\n",
    "\n",
    "fig = go.Figure()\n",
    "# Iterate through each device \n",
    "for d in is_subscriber:\n",
    "    # Find the subset of the data with that device\n",
    "    tmp_df = df[df['is_subscriber'] == d]\n",
    "\n",
    "    # Create a dict object with 0 counts for all topics\n",
    "    is_subscriber_daily_activity = {}\n",
    "    for i in tmp_df.index:\n",
    "        # Find that index\n",
    "        tmp_timestamp = df['impression_time'][i]\n",
    "        tmp_datetime = tmp_timestamp\n",
    "        tmp_date = tmp_datetime.strftime('%m/%d/%Y')\n",
    "\n",
    "        # Daily Activity\n",
    "        if tmp_date not in is_subscriber_daily_activity:\n",
    "            is_subscriber_daily_activity[tmp_date] = 0\n",
    "        else:\n",
    "            is_subscriber_daily_activity[tmp_date] +=1\n",
    "        \n",
    "    \n",
    "    # Sort by dates\n",
    "    is_subscriber_daily_activity = dict(sorted(is_subscriber_daily_activity.items()))\n",
    "\n",
    "    # Add trace\n",
    "    fig.add_trace(go.Bar(x= [x for x in is_subscriber_daily_activity.keys()], y = [y for y in is_subscriber_daily_activity.values()], textfont_size=20))\n",
    "\n",
    "\n",
    "\n",
    "    # Overlay both histograms\n",
    "    #fig.update_layout(barmode='overlay')\n",
    "    # Reduce opacity to see both histograms\n",
    "fig.update_traces(opacity=0.75)\n",
    "fig.show()"
   ]
  },
  {
   "cell_type": "markdown",
   "id": "ba68d2cb",
   "metadata": {},
   "source": [
    "#### Hourly Activity"
   ]
  },
  {
   "cell_type": "code",
   "execution_count": null,
   "id": "97021ede",
   "metadata": {},
   "outputs": [],
   "source": [
    "is_subscriber = [d for d in df['is_subscriber'].unique()]\n",
    "\n",
    "fig = go.Figure()\n",
    "# Iterate through each device \n",
    "for d in is_subscriber:\n",
    "    # Find the subset of the data with that device\n",
    "    tmp_df = df[df['is_subscriber'] == d]\n",
    "\n",
    "    # Create a dict object with 0 counts for all topics\n",
    "    is_subscriber_hourly_activity = {}\n",
    "    for i in tmp_df.index:\n",
    "        # Find that index\n",
    "        tmp_timestamp = df['impression_time'][i]\n",
    "        tmp_datetime = tmp_timestamp\n",
    "        tmp_time = tmp_datetime.strftime('%H')\n",
    "\n",
    "        # Daily Activity\n",
    "        if tmp_time not in is_subscriber_hourly_activity:\n",
    "            is_subscriber_hourly_activity[tmp_time] = 0\n",
    "        else:\n",
    "            is_subscriber_hourly_activity[tmp_time] +=1\n",
    "        \n",
    "    \n",
    "    # Sort by dates\n",
    "    is_subscriber_hourly_activity = dict(sorted(is_subscriber_hourly_activity.items()))\n",
    "\n",
    "    # Add trace\n",
    "    fig.add_trace(go.Bar(x= [x for x in is_subscriber_hourly_activity.keys()], y = [y for y in is_subscriber_hourly_activity.values()], textfont_size=20))\n",
    "\n",
    "\n",
    "\n",
    "    # Overlay both histograms\n",
    "    #fig.update_layout(barmode='overlay')\n",
    "    # Reduce opacity to see both histograms\n",
    "fig.update_traces(opacity=0.75)\n",
    "fig.show()"
   ]
  },
  {
   "cell_type": "markdown",
   "id": "6469168b",
   "metadata": {},
   "source": [
    "# Gender"
   ]
  },
  {
   "cell_type": "code",
   "execution_count": null,
   "id": "ec7df9c5",
   "metadata": {},
   "outputs": [],
   "source": [
    "multiple_subset_bar(df_ = df, feature_ = 'gender', yrange = [0, 5000])"
   ]
  },
  {
   "cell_type": "markdown",
   "id": "e9e0c923",
   "metadata": {},
   "source": [
    "### Read time per gender"
   ]
  },
  {
   "cell_type": "code",
   "execution_count": null,
   "id": "fe62bfa7",
   "metadata": {},
   "outputs": [],
   "source": [
    "multiple_subset_feature_visualization(df_ =df,  feature_1 = 'gender', feature_2 = 'read_time')"
   ]
  },
  {
   "cell_type": "markdown",
   "id": "9cdd149a",
   "metadata": {},
   "source": [
    "### Scrolltime per gender"
   ]
  },
  {
   "cell_type": "code",
   "execution_count": null,
   "id": "373617e8",
   "metadata": {},
   "outputs": [],
   "source": [
    "multiple_subset_feature_visualization(df_ =df,  feature_1 = 'gender', feature_2 = 'scroll_percentage')"
   ]
  },
  {
   "cell_type": "markdown",
   "id": "f1fb1468",
   "metadata": {},
   "source": [
    "### Topics"
   ]
  },
  {
   "cell_type": "code",
   "execution_count": 167,
   "id": "a098768d",
   "metadata": {},
   "outputs": [
    {
     "name": "stdout",
     "output_type": "stream",
     "text": [
      "0\n",
      "{'Female': 1, 'Male': 1}\n",
      "0 <built-in function print>\n",
      "1 <built-in function print>\n"
     ]
    },
    {
     "data": {
      "application/vnd.plotly.v1+json": {
       "config": {
        "plotlyServerURL": "https://plot.ly"
       },
       "data": [
        {
         "name": "Female",
         "type": "bar",
         "x": [
          "Kendt",
          "Underholdning",
          "Kriminalitet",
          "Livsstil",
          "Begivenhed"
         ],
         "xaxis": "x",
         "y": [
          315,
          210,
          154,
          131,
          126
         ],
         "yaxis": "y"
        },
        {
         "name": "Male",
         "type": "bar",
         "x": [
          "Kendt",
          "Sport",
          "Begivenhed",
          "Underholdning",
          "Kriminalitet"
         ],
         "xaxis": "x2",
         "y": [
          1504,
          963,
          906,
          795,
          741
         ],
         "yaxis": "y2"
        }
       ],
       "layout": {
        "annotations": [
         {
          "font": {
           "size": 16
          },
          "showarrow": false,
          "text": "Device 1",
          "x": 0.225,
          "xanchor": "center",
          "xref": "paper",
          "y": 1,
          "yanchor": "bottom",
          "yref": "paper"
         },
         {
          "font": {
           "size": 16
          },
          "showarrow": false,
          "text": "Device 2",
          "x": 0.775,
          "xanchor": "center",
          "xref": "paper",
          "y": 1,
          "yanchor": "bottom",
          "yref": "paper"
         }
        ],
        "font": {
         "family": "Courier New, monospace",
         "size": 16
        },
        "height": 1000,
        "template": {
         "data": {
          "bar": [
           {
            "error_x": {
             "color": "#2a3f5f"
            },
            "error_y": {
             "color": "#2a3f5f"
            },
            "marker": {
             "line": {
              "color": "#E5ECF6",
              "width": 0.5
             },
             "pattern": {
              "fillmode": "overlay",
              "size": 10,
              "solidity": 0.2
             }
            },
            "type": "bar"
           }
          ],
          "barpolar": [
           {
            "marker": {
             "line": {
              "color": "#E5ECF6",
              "width": 0.5
             },
             "pattern": {
              "fillmode": "overlay",
              "size": 10,
              "solidity": 0.2
             }
            },
            "type": "barpolar"
           }
          ],
          "carpet": [
           {
            "aaxis": {
             "endlinecolor": "#2a3f5f",
             "gridcolor": "white",
             "linecolor": "white",
             "minorgridcolor": "white",
             "startlinecolor": "#2a3f5f"
            },
            "baxis": {
             "endlinecolor": "#2a3f5f",
             "gridcolor": "white",
             "linecolor": "white",
             "minorgridcolor": "white",
             "startlinecolor": "#2a3f5f"
            },
            "type": "carpet"
           }
          ],
          "choropleth": [
           {
            "colorbar": {
             "outlinewidth": 0,
             "ticks": ""
            },
            "type": "choropleth"
           }
          ],
          "contour": [
           {
            "colorbar": {
             "outlinewidth": 0,
             "ticks": ""
            },
            "colorscale": [
             [
              0,
              "#0d0887"
             ],
             [
              0.1111111111111111,
              "#46039f"
             ],
             [
              0.2222222222222222,
              "#7201a8"
             ],
             [
              0.3333333333333333,
              "#9c179e"
             ],
             [
              0.4444444444444444,
              "#bd3786"
             ],
             [
              0.5555555555555556,
              "#d8576b"
             ],
             [
              0.6666666666666666,
              "#ed7953"
             ],
             [
              0.7777777777777778,
              "#fb9f3a"
             ],
             [
              0.8888888888888888,
              "#fdca26"
             ],
             [
              1,
              "#f0f921"
             ]
            ],
            "type": "contour"
           }
          ],
          "contourcarpet": [
           {
            "colorbar": {
             "outlinewidth": 0,
             "ticks": ""
            },
            "type": "contourcarpet"
           }
          ],
          "heatmap": [
           {
            "colorbar": {
             "outlinewidth": 0,
             "ticks": ""
            },
            "colorscale": [
             [
              0,
              "#0d0887"
             ],
             [
              0.1111111111111111,
              "#46039f"
             ],
             [
              0.2222222222222222,
              "#7201a8"
             ],
             [
              0.3333333333333333,
              "#9c179e"
             ],
             [
              0.4444444444444444,
              "#bd3786"
             ],
             [
              0.5555555555555556,
              "#d8576b"
             ],
             [
              0.6666666666666666,
              "#ed7953"
             ],
             [
              0.7777777777777778,
              "#fb9f3a"
             ],
             [
              0.8888888888888888,
              "#fdca26"
             ],
             [
              1,
              "#f0f921"
             ]
            ],
            "type": "heatmap"
           }
          ],
          "heatmapgl": [
           {
            "colorbar": {
             "outlinewidth": 0,
             "ticks": ""
            },
            "colorscale": [
             [
              0,
              "#0d0887"
             ],
             [
              0.1111111111111111,
              "#46039f"
             ],
             [
              0.2222222222222222,
              "#7201a8"
             ],
             [
              0.3333333333333333,
              "#9c179e"
             ],
             [
              0.4444444444444444,
              "#bd3786"
             ],
             [
              0.5555555555555556,
              "#d8576b"
             ],
             [
              0.6666666666666666,
              "#ed7953"
             ],
             [
              0.7777777777777778,
              "#fb9f3a"
             ],
             [
              0.8888888888888888,
              "#fdca26"
             ],
             [
              1,
              "#f0f921"
             ]
            ],
            "type": "heatmapgl"
           }
          ],
          "histogram": [
           {
            "marker": {
             "pattern": {
              "fillmode": "overlay",
              "size": 10,
              "solidity": 0.2
             }
            },
            "type": "histogram"
           }
          ],
          "histogram2d": [
           {
            "colorbar": {
             "outlinewidth": 0,
             "ticks": ""
            },
            "colorscale": [
             [
              0,
              "#0d0887"
             ],
             [
              0.1111111111111111,
              "#46039f"
             ],
             [
              0.2222222222222222,
              "#7201a8"
             ],
             [
              0.3333333333333333,
              "#9c179e"
             ],
             [
              0.4444444444444444,
              "#bd3786"
             ],
             [
              0.5555555555555556,
              "#d8576b"
             ],
             [
              0.6666666666666666,
              "#ed7953"
             ],
             [
              0.7777777777777778,
              "#fb9f3a"
             ],
             [
              0.8888888888888888,
              "#fdca26"
             ],
             [
              1,
              "#f0f921"
             ]
            ],
            "type": "histogram2d"
           }
          ],
          "histogram2dcontour": [
           {
            "colorbar": {
             "outlinewidth": 0,
             "ticks": ""
            },
            "colorscale": [
             [
              0,
              "#0d0887"
             ],
             [
              0.1111111111111111,
              "#46039f"
             ],
             [
              0.2222222222222222,
              "#7201a8"
             ],
             [
              0.3333333333333333,
              "#9c179e"
             ],
             [
              0.4444444444444444,
              "#bd3786"
             ],
             [
              0.5555555555555556,
              "#d8576b"
             ],
             [
              0.6666666666666666,
              "#ed7953"
             ],
             [
              0.7777777777777778,
              "#fb9f3a"
             ],
             [
              0.8888888888888888,
              "#fdca26"
             ],
             [
              1,
              "#f0f921"
             ]
            ],
            "type": "histogram2dcontour"
           }
          ],
          "mesh3d": [
           {
            "colorbar": {
             "outlinewidth": 0,
             "ticks": ""
            },
            "type": "mesh3d"
           }
          ],
          "parcoords": [
           {
            "line": {
             "colorbar": {
              "outlinewidth": 0,
              "ticks": ""
             }
            },
            "type": "parcoords"
           }
          ],
          "pie": [
           {
            "automargin": true,
            "type": "pie"
           }
          ],
          "scatter": [
           {
            "fillpattern": {
             "fillmode": "overlay",
             "size": 10,
             "solidity": 0.2
            },
            "type": "scatter"
           }
          ],
          "scatter3d": [
           {
            "line": {
             "colorbar": {
              "outlinewidth": 0,
              "ticks": ""
             }
            },
            "marker": {
             "colorbar": {
              "outlinewidth": 0,
              "ticks": ""
             }
            },
            "type": "scatter3d"
           }
          ],
          "scattercarpet": [
           {
            "marker": {
             "colorbar": {
              "outlinewidth": 0,
              "ticks": ""
             }
            },
            "type": "scattercarpet"
           }
          ],
          "scattergeo": [
           {
            "marker": {
             "colorbar": {
              "outlinewidth": 0,
              "ticks": ""
             }
            },
            "type": "scattergeo"
           }
          ],
          "scattergl": [
           {
            "marker": {
             "colorbar": {
              "outlinewidth": 0,
              "ticks": ""
             }
            },
            "type": "scattergl"
           }
          ],
          "scattermapbox": [
           {
            "marker": {
             "colorbar": {
              "outlinewidth": 0,
              "ticks": ""
             }
            },
            "type": "scattermapbox"
           }
          ],
          "scatterpolar": [
           {
            "marker": {
             "colorbar": {
              "outlinewidth": 0,
              "ticks": ""
             }
            },
            "type": "scatterpolar"
           }
          ],
          "scatterpolargl": [
           {
            "marker": {
             "colorbar": {
              "outlinewidth": 0,
              "ticks": ""
             }
            },
            "type": "scatterpolargl"
           }
          ],
          "scatterternary": [
           {
            "marker": {
             "colorbar": {
              "outlinewidth": 0,
              "ticks": ""
             }
            },
            "type": "scatterternary"
           }
          ],
          "surface": [
           {
            "colorbar": {
             "outlinewidth": 0,
             "ticks": ""
            },
            "colorscale": [
             [
              0,
              "#0d0887"
             ],
             [
              0.1111111111111111,
              "#46039f"
             ],
             [
              0.2222222222222222,
              "#7201a8"
             ],
             [
              0.3333333333333333,
              "#9c179e"
             ],
             [
              0.4444444444444444,
              "#bd3786"
             ],
             [
              0.5555555555555556,
              "#d8576b"
             ],
             [
              0.6666666666666666,
              "#ed7953"
             ],
             [
              0.7777777777777778,
              "#fb9f3a"
             ],
             [
              0.8888888888888888,
              "#fdca26"
             ],
             [
              1,
              "#f0f921"
             ]
            ],
            "type": "surface"
           }
          ],
          "table": [
           {
            "cells": {
             "fill": {
              "color": "#EBF0F8"
             },
             "line": {
              "color": "white"
             }
            },
            "header": {
             "fill": {
              "color": "#C8D4E3"
             },
             "line": {
              "color": "white"
             }
            },
            "type": "table"
           }
          ]
         },
         "layout": {
          "annotationdefaults": {
           "arrowcolor": "#2a3f5f",
           "arrowhead": 0,
           "arrowwidth": 1
          },
          "autotypenumbers": "strict",
          "coloraxis": {
           "colorbar": {
            "outlinewidth": 0,
            "ticks": ""
           }
          },
          "colorscale": {
           "diverging": [
            [
             0,
             "#8e0152"
            ],
            [
             0.1,
             "#c51b7d"
            ],
            [
             0.2,
             "#de77ae"
            ],
            [
             0.3,
             "#f1b6da"
            ],
            [
             0.4,
             "#fde0ef"
            ],
            [
             0.5,
             "#f7f7f7"
            ],
            [
             0.6,
             "#e6f5d0"
            ],
            [
             0.7,
             "#b8e186"
            ],
            [
             0.8,
             "#7fbc41"
            ],
            [
             0.9,
             "#4d9221"
            ],
            [
             1,
             "#276419"
            ]
           ],
           "sequential": [
            [
             0,
             "#0d0887"
            ],
            [
             0.1111111111111111,
             "#46039f"
            ],
            [
             0.2222222222222222,
             "#7201a8"
            ],
            [
             0.3333333333333333,
             "#9c179e"
            ],
            [
             0.4444444444444444,
             "#bd3786"
            ],
            [
             0.5555555555555556,
             "#d8576b"
            ],
            [
             0.6666666666666666,
             "#ed7953"
            ],
            [
             0.7777777777777778,
             "#fb9f3a"
            ],
            [
             0.8888888888888888,
             "#fdca26"
            ],
            [
             1,
             "#f0f921"
            ]
           ],
           "sequentialminus": [
            [
             0,
             "#0d0887"
            ],
            [
             0.1111111111111111,
             "#46039f"
            ],
            [
             0.2222222222222222,
             "#7201a8"
            ],
            [
             0.3333333333333333,
             "#9c179e"
            ],
            [
             0.4444444444444444,
             "#bd3786"
            ],
            [
             0.5555555555555556,
             "#d8576b"
            ],
            [
             0.6666666666666666,
             "#ed7953"
            ],
            [
             0.7777777777777778,
             "#fb9f3a"
            ],
            [
             0.8888888888888888,
             "#fdca26"
            ],
            [
             1,
             "#f0f921"
            ]
           ]
          },
          "colorway": [
           "#636efa",
           "#EF553B",
           "#00cc96",
           "#ab63fa",
           "#FFA15A",
           "#19d3f3",
           "#FF6692",
           "#B6E880",
           "#FF97FF",
           "#FECB52"
          ],
          "font": {
           "color": "#2a3f5f"
          },
          "geo": {
           "bgcolor": "white",
           "lakecolor": "white",
           "landcolor": "#E5ECF6",
           "showlakes": true,
           "showland": true,
           "subunitcolor": "white"
          },
          "hoverlabel": {
           "align": "left"
          },
          "hovermode": "closest",
          "mapbox": {
           "style": "light"
          },
          "paper_bgcolor": "white",
          "plot_bgcolor": "#E5ECF6",
          "polar": {
           "angularaxis": {
            "gridcolor": "white",
            "linecolor": "white",
            "ticks": ""
           },
           "bgcolor": "#E5ECF6",
           "radialaxis": {
            "gridcolor": "white",
            "linecolor": "white",
            "ticks": ""
           }
          },
          "scene": {
           "xaxis": {
            "backgroundcolor": "#E5ECF6",
            "gridcolor": "white",
            "gridwidth": 2,
            "linecolor": "white",
            "showbackground": true,
            "ticks": "",
            "zerolinecolor": "white"
           },
           "yaxis": {
            "backgroundcolor": "#E5ECF6",
            "gridcolor": "white",
            "gridwidth": 2,
            "linecolor": "white",
            "showbackground": true,
            "ticks": "",
            "zerolinecolor": "white"
           },
           "zaxis": {
            "backgroundcolor": "#E5ECF6",
            "gridcolor": "white",
            "gridwidth": 2,
            "linecolor": "white",
            "showbackground": true,
            "ticks": "",
            "zerolinecolor": "white"
           }
          },
          "shapedefaults": {
           "line": {
            "color": "#2a3f5f"
           }
          },
          "ternary": {
           "aaxis": {
            "gridcolor": "white",
            "linecolor": "white",
            "ticks": ""
           },
           "baxis": {
            "gridcolor": "white",
            "linecolor": "white",
            "ticks": ""
           },
           "bgcolor": "#E5ECF6",
           "caxis": {
            "gridcolor": "white",
            "linecolor": "white",
            "ticks": ""
           }
          },
          "title": {
           "x": 0.05
          },
          "xaxis": {
           "automargin": true,
           "gridcolor": "white",
           "linecolor": "white",
           "ticks": "",
           "title": {
            "standoff": 15
           },
           "zerolinecolor": "white",
           "zerolinewidth": 2
          },
          "yaxis": {
           "automargin": true,
           "gridcolor": "white",
           "linecolor": "white",
           "ticks": "",
           "title": {
            "standoff": 15
           },
           "zerolinecolor": "white",
           "zerolinewidth": 2
          }
         }
        },
        "title": {
         "text": "Topic Distribution Per Gender"
        },
        "uniformtext": {
         "minsize": 8,
         "mode": "hide"
        },
        "width": 1000,
        "xaxis": {
         "anchor": "y",
         "domain": [
          0,
          0.45
         ],
         "title": {
          "text": "Topics"
         }
        },
        "xaxis2": {
         "anchor": "y2",
         "domain": [
          0.55,
          1
         ],
         "title": {
          "text": "Topics"
         }
        },
        "yaxis": {
         "anchor": "x",
         "domain": [
          0,
          1
         ],
         "range": [
          0,
          4
         ],
         "title": {
          "text": "Count"
         },
         "type": "log"
        },
        "yaxis2": {
         "anchor": "x2",
         "domain": [
          0,
          1
         ],
         "range": [
          0,
          4
         ],
         "title": {
          "text": "Count"
         },
         "type": "log"
        }
       }
      }
     },
     "metadata": {},
     "output_type": "display_data"
    }
   ],
   "source": [
    "# Get all the unique topics\n",
    "topic_list = unique_subset_topics(df)\n",
    "unique_topics = sorted(topic_list)\n",
    "\n",
    "topic_feature_bar_distribution(\n",
    "    df_ = df, feature_ = 'gender', yrange = [0, 4],\n",
    "    topic_list_ = unique_topics , xaxis_title = 'Topics',\n",
    "    yaxis_title = 'Count', title_ = 'Topic Distribution Per Gender'\n",
    "    )"
   ]
  },
  {
   "cell_type": "markdown",
   "id": "5eb16616",
   "metadata": {},
   "source": [
    "### Activity"
   ]
  },
  {
   "cell_type": "markdown",
   "id": "abec6f05",
   "metadata": {},
   "source": [
    "#### Daily Activity"
   ]
  },
  {
   "cell_type": "code",
   "execution_count": null,
   "id": "4cadf022",
   "metadata": {},
   "outputs": [],
   "source": [
    "genders = df['gender'].unique()\n",
    "genders = genders[~np.isnan(genders)]\n",
    "\n",
    "fig = go.Figure()\n",
    "# Iterate through each device \n",
    "for d in genders:\n",
    "    # Find the subset of the data with that device\n",
    "    tmp_df = df[df['gender'] == d]\n",
    "\n",
    "    # Create a dict object with 0 counts for all topics\n",
    "    genders_daily_activity = {}\n",
    "    for i in tmp_df.index:\n",
    "        # Find that index\n",
    "        tmp_timestamp = df['impression_time'][i]\n",
    "        tmp_datetime = tmp_timestamp\n",
    "        tmp_date = tmp_datetime.strftime('%m/%d/%Y')\n",
    "\n",
    "        # Daily Activity\n",
    "        if tmp_date not in genders_daily_activity:\n",
    "            genders_daily_activity[tmp_date] = 0\n",
    "        else:\n",
    "            genders_daily_activity[tmp_date] +=1\n",
    "        \n",
    "    \n",
    "    # Sort by dates\n",
    "    genders_daily_activity = dict(sorted(genders_daily_activity.items()))\n",
    "\n",
    "    # Add trace\n",
    "    fig.add_trace(go.Bar(x= [x for x in genders_daily_activity.keys()], y = [y for y in genders_daily_activity.values()], textfont_size=20))\n",
    "\n",
    "\n",
    "\n",
    "    # Overlay both histograms\n",
    "    #fig.update_layout(barmode='overlay')\n",
    "    # Reduce opacity to see both histograms\n",
    "fig.update_traces(opacity=0.75)\n",
    "fig.show()"
   ]
  },
  {
   "cell_type": "markdown",
   "id": "14efd975",
   "metadata": {},
   "source": [
    "#### Hourly Activity"
   ]
  },
  {
   "cell_type": "code",
   "execution_count": null,
   "id": "a279ca32",
   "metadata": {},
   "outputs": [],
   "source": [
    "genders = df['gender'].unique()\n",
    "genders = genders[~np.isnan(genders)]\n",
    "\n",
    "fig = go.Figure()\n",
    "# Iterate through each device \n",
    "for d in genders:\n",
    "    # Find the subset of the data with that device\n",
    "    tmp_df = df[df['gender'] == d]\n",
    "\n",
    "    # Create a dict object with 0 counts for all topics\n",
    "    genders_hourly_activity = {}\n",
    "    for i in tmp_df.index:\n",
    "        # Find that index\n",
    "        tmp_timestamp = df['impression_time'][i]\n",
    "        tmp_datetime = tmp_timestamp\n",
    "        tmp_time = tmp_datetime.strftime('%H')\n",
    "\n",
    "        # Daily Activity\n",
    "        if tmp_time not in genders_hourly_activity:\n",
    "            genders_hourly_activity[tmp_time] = 0\n",
    "        else:\n",
    "            genders_hourly_activity[tmp_time] +=1\n",
    "        \n",
    "    \n",
    "    # Sort by dates\n",
    "    genders_hourly_activity = dict(sorted(genders_hourly_activity.items()))\n",
    "\n",
    "    # Add trace\n",
    "    fig.add_trace(go.Bar(x= [x for x in genders_hourly_activity.keys()], y = [y for y in genders_hourly_activity.values()], textfont_size=20))\n",
    "\n",
    "\n",
    "\n",
    "    # Overlay both histograms\n",
    "    #fig.update_layout(barmode='overlay')\n",
    "    # Reduce opacity to see both histograms\n",
    "fig.update_traces(opacity=0.75)\n",
    "fig.show()"
   ]
  },
  {
   "cell_type": "markdown",
   "id": "03e32b90",
   "metadata": {},
   "source": [
    "# Age"
   ]
  },
  {
   "cell_type": "markdown",
   "id": "558c5c75",
   "metadata": {},
   "source": [
    "### Age Distribution"
   ]
  },
  {
   "cell_type": "code",
   "execution_count": null,
   "id": "bc785b62",
   "metadata": {},
   "outputs": [],
   "source": [
    "multiple_subset_bar(df_ = df, feature_ = 'age', yrange = [0, 800])"
   ]
  },
  {
   "cell_type": "markdown",
   "id": "c42d84e0",
   "metadata": {},
   "source": [
    "#### Average readtime per age group"
   ]
  },
  {
   "cell_type": "code",
   "execution_count": null,
   "id": "ea38a806",
   "metadata": {},
   "outputs": [],
   "source": [
    "multiple_subset_feature_visualization(df_ =df,  feature_1 = 'age', feature_2 = 'read_time')"
   ]
  },
  {
   "cell_type": "markdown",
   "id": "c3883ce0",
   "metadata": {},
   "source": [
    "#### Average Scroll PCt per age group"
   ]
  },
  {
   "cell_type": "code",
   "execution_count": null,
   "id": "477b30cf",
   "metadata": {},
   "outputs": [],
   "source": [
    "multiple_subset_feature_visualization(df_ =df,  feature_1 = 'age', feature_2 = 'scroll_percentage')"
   ]
  },
  {
   "cell_type": "markdown",
   "id": "2fa72d5e",
   "metadata": {},
   "source": [
    "### Topics"
   ]
  },
  {
   "cell_type": "code",
   "execution_count": 178,
   "id": "c2d5c5be",
   "metadata": {},
   "outputs": [
    {
     "name": "stdout",
     "output_type": "stream",
     "text": [
      "0\n",
      "2\n",
      "4\n",
      "6\n",
      "{'20 - 29': 1, '30 - 39': 1, '40 - 49': 2, '50 - 59': 2, '60 - 69': 3, '70 - 79': 3, '80 - 89': 4, '90 - 99': 4}\n",
      "0 <built-in function print>\n",
      "1 <built-in function print>\n",
      "2 <built-in function print>\n",
      "3 <built-in function print>\n",
      "4 <built-in function print>\n",
      "5 <built-in function print>\n",
      "6 <built-in function print>\n",
      "7 <built-in function print>\n"
     ]
    },
    {
     "data": {
      "application/vnd.plotly.v1+json": {
       "config": {
        "plotlyServerURL": "https://plot.ly"
       },
       "data": [
        {
         "name": "20 - 29",
         "type": "bar",
         "x": [
          "Kendt",
          "Sport",
          "Begivenhed",
          "Sportsbegivenhed",
          "Underholdning"
         ],
         "xaxis": "x",
         "y": [
          12,
          11,
          8,
          6,
          6
         ],
         "yaxis": "y"
        },
        {
         "name": "30 - 39",
         "type": "bar",
         "x": [
          "Kendt",
          "Livsstil",
          "Underholdning",
          "Kriminalitet",
          "Erhverv"
         ],
         "xaxis": "x2",
         "y": [
          35,
          24,
          24,
          23,
          17
         ],
         "yaxis": "y2"
        },
        {
         "name": "40 - 49",
         "type": "bar",
         "x": [
          "Kendt",
          "Sport",
          "Begivenhed",
          "Underholdning",
          "Sportsbegivenhed"
         ],
         "xaxis": "x3",
         "y": [
          92,
          67,
          61,
          49,
          48
         ],
         "yaxis": "y3"
        },
        {
         "name": "50 - 59",
         "type": "bar",
         "x": [
          "Kendt",
          "Kriminalitet",
          "Underholdning",
          "Begivenhed",
          "Sport"
         ],
         "xaxis": "x4",
         "y": [
          246,
          140,
          138,
          132,
          132
         ],
         "yaxis": "y4"
        },
        {
         "name": "60 - 69",
         "type": "bar",
         "x": [
          "Kendt",
          "Sport",
          "Begivenhed",
          "Underholdning",
          "Kriminalitet"
         ],
         "xaxis": "x5",
         "y": [
          251,
          165,
          156,
          121,
          120
         ],
         "yaxis": "y5"
        },
        {
         "name": "70 - 79",
         "type": "bar",
         "x": [
          "Kendt",
          "Underholdning",
          "Begivenhed",
          "Sport",
          "Politik"
         ],
         "xaxis": "x6",
         "y": [
          245,
          131,
          120,
          120,
          113
         ],
         "yaxis": "y6"
        },
        {
         "name": "80 - 89",
         "type": "bar",
         "x": [
          "Kendt",
          "Begivenhed",
          "Sport",
          "Sportsbegivenhed",
          "Underholdning"
         ],
         "xaxis": "x7",
         "y": [
          45,
          34,
          34,
          27,
          22
         ],
         "yaxis": "y7"
        },
        {
         "name": "90 - 99",
         "type": "bar",
         "x": [
          "Kendt",
          "Underholdning",
          "Kriminalitet",
          "Begivenhed",
          "Erhverv"
         ],
         "xaxis": "x8",
         "y": [
          17,
          13,
          10,
          7,
          7
         ],
         "yaxis": "y8"
        }
       ],
       "layout": {
        "annotations": [
         {
          "font": {
           "size": 16
          },
          "showarrow": false,
          "text": "Device 1",
          "x": 0.225,
          "xanchor": "center",
          "xref": "paper",
          "y": 1,
          "yanchor": "bottom",
          "yref": "paper"
         },
         {
          "font": {
           "size": 16
          },
          "showarrow": false,
          "text": "Device 2",
          "x": 0.775,
          "xanchor": "center",
          "xref": "paper",
          "y": 1,
          "yanchor": "bottom",
          "yref": "paper"
         },
         {
          "font": {
           "size": 16
          },
          "showarrow": false,
          "text": "Device 3",
          "x": 0.225,
          "xanchor": "center",
          "xref": "paper",
          "y": 0.71875,
          "yanchor": "bottom",
          "yref": "paper"
         }
        ],
        "font": {
         "family": "Courier New, monospace",
         "size": 16
        },
        "height": 1000,
        "template": {
         "data": {
          "bar": [
           {
            "error_x": {
             "color": "#2a3f5f"
            },
            "error_y": {
             "color": "#2a3f5f"
            },
            "marker": {
             "line": {
              "color": "#E5ECF6",
              "width": 0.5
             },
             "pattern": {
              "fillmode": "overlay",
              "size": 10,
              "solidity": 0.2
             }
            },
            "type": "bar"
           }
          ],
          "barpolar": [
           {
            "marker": {
             "line": {
              "color": "#E5ECF6",
              "width": 0.5
             },
             "pattern": {
              "fillmode": "overlay",
              "size": 10,
              "solidity": 0.2
             }
            },
            "type": "barpolar"
           }
          ],
          "carpet": [
           {
            "aaxis": {
             "endlinecolor": "#2a3f5f",
             "gridcolor": "white",
             "linecolor": "white",
             "minorgridcolor": "white",
             "startlinecolor": "#2a3f5f"
            },
            "baxis": {
             "endlinecolor": "#2a3f5f",
             "gridcolor": "white",
             "linecolor": "white",
             "minorgridcolor": "white",
             "startlinecolor": "#2a3f5f"
            },
            "type": "carpet"
           }
          ],
          "choropleth": [
           {
            "colorbar": {
             "outlinewidth": 0,
             "ticks": ""
            },
            "type": "choropleth"
           }
          ],
          "contour": [
           {
            "colorbar": {
             "outlinewidth": 0,
             "ticks": ""
            },
            "colorscale": [
             [
              0,
              "#0d0887"
             ],
             [
              0.1111111111111111,
              "#46039f"
             ],
             [
              0.2222222222222222,
              "#7201a8"
             ],
             [
              0.3333333333333333,
              "#9c179e"
             ],
             [
              0.4444444444444444,
              "#bd3786"
             ],
             [
              0.5555555555555556,
              "#d8576b"
             ],
             [
              0.6666666666666666,
              "#ed7953"
             ],
             [
              0.7777777777777778,
              "#fb9f3a"
             ],
             [
              0.8888888888888888,
              "#fdca26"
             ],
             [
              1,
              "#f0f921"
             ]
            ],
            "type": "contour"
           }
          ],
          "contourcarpet": [
           {
            "colorbar": {
             "outlinewidth": 0,
             "ticks": ""
            },
            "type": "contourcarpet"
           }
          ],
          "heatmap": [
           {
            "colorbar": {
             "outlinewidth": 0,
             "ticks": ""
            },
            "colorscale": [
             [
              0,
              "#0d0887"
             ],
             [
              0.1111111111111111,
              "#46039f"
             ],
             [
              0.2222222222222222,
              "#7201a8"
             ],
             [
              0.3333333333333333,
              "#9c179e"
             ],
             [
              0.4444444444444444,
              "#bd3786"
             ],
             [
              0.5555555555555556,
              "#d8576b"
             ],
             [
              0.6666666666666666,
              "#ed7953"
             ],
             [
              0.7777777777777778,
              "#fb9f3a"
             ],
             [
              0.8888888888888888,
              "#fdca26"
             ],
             [
              1,
              "#f0f921"
             ]
            ],
            "type": "heatmap"
           }
          ],
          "heatmapgl": [
           {
            "colorbar": {
             "outlinewidth": 0,
             "ticks": ""
            },
            "colorscale": [
             [
              0,
              "#0d0887"
             ],
             [
              0.1111111111111111,
              "#46039f"
             ],
             [
              0.2222222222222222,
              "#7201a8"
             ],
             [
              0.3333333333333333,
              "#9c179e"
             ],
             [
              0.4444444444444444,
              "#bd3786"
             ],
             [
              0.5555555555555556,
              "#d8576b"
             ],
             [
              0.6666666666666666,
              "#ed7953"
             ],
             [
              0.7777777777777778,
              "#fb9f3a"
             ],
             [
              0.8888888888888888,
              "#fdca26"
             ],
             [
              1,
              "#f0f921"
             ]
            ],
            "type": "heatmapgl"
           }
          ],
          "histogram": [
           {
            "marker": {
             "pattern": {
              "fillmode": "overlay",
              "size": 10,
              "solidity": 0.2
             }
            },
            "type": "histogram"
           }
          ],
          "histogram2d": [
           {
            "colorbar": {
             "outlinewidth": 0,
             "ticks": ""
            },
            "colorscale": [
             [
              0,
              "#0d0887"
             ],
             [
              0.1111111111111111,
              "#46039f"
             ],
             [
              0.2222222222222222,
              "#7201a8"
             ],
             [
              0.3333333333333333,
              "#9c179e"
             ],
             [
              0.4444444444444444,
              "#bd3786"
             ],
             [
              0.5555555555555556,
              "#d8576b"
             ],
             [
              0.6666666666666666,
              "#ed7953"
             ],
             [
              0.7777777777777778,
              "#fb9f3a"
             ],
             [
              0.8888888888888888,
              "#fdca26"
             ],
             [
              1,
              "#f0f921"
             ]
            ],
            "type": "histogram2d"
           }
          ],
          "histogram2dcontour": [
           {
            "colorbar": {
             "outlinewidth": 0,
             "ticks": ""
            },
            "colorscale": [
             [
              0,
              "#0d0887"
             ],
             [
              0.1111111111111111,
              "#46039f"
             ],
             [
              0.2222222222222222,
              "#7201a8"
             ],
             [
              0.3333333333333333,
              "#9c179e"
             ],
             [
              0.4444444444444444,
              "#bd3786"
             ],
             [
              0.5555555555555556,
              "#d8576b"
             ],
             [
              0.6666666666666666,
              "#ed7953"
             ],
             [
              0.7777777777777778,
              "#fb9f3a"
             ],
             [
              0.8888888888888888,
              "#fdca26"
             ],
             [
              1,
              "#f0f921"
             ]
            ],
            "type": "histogram2dcontour"
           }
          ],
          "mesh3d": [
           {
            "colorbar": {
             "outlinewidth": 0,
             "ticks": ""
            },
            "type": "mesh3d"
           }
          ],
          "parcoords": [
           {
            "line": {
             "colorbar": {
              "outlinewidth": 0,
              "ticks": ""
             }
            },
            "type": "parcoords"
           }
          ],
          "pie": [
           {
            "automargin": true,
            "type": "pie"
           }
          ],
          "scatter": [
           {
            "fillpattern": {
             "fillmode": "overlay",
             "size": 10,
             "solidity": 0.2
            },
            "type": "scatter"
           }
          ],
          "scatter3d": [
           {
            "line": {
             "colorbar": {
              "outlinewidth": 0,
              "ticks": ""
             }
            },
            "marker": {
             "colorbar": {
              "outlinewidth": 0,
              "ticks": ""
             }
            },
            "type": "scatter3d"
           }
          ],
          "scattercarpet": [
           {
            "marker": {
             "colorbar": {
              "outlinewidth": 0,
              "ticks": ""
             }
            },
            "type": "scattercarpet"
           }
          ],
          "scattergeo": [
           {
            "marker": {
             "colorbar": {
              "outlinewidth": 0,
              "ticks": ""
             }
            },
            "type": "scattergeo"
           }
          ],
          "scattergl": [
           {
            "marker": {
             "colorbar": {
              "outlinewidth": 0,
              "ticks": ""
             }
            },
            "type": "scattergl"
           }
          ],
          "scattermapbox": [
           {
            "marker": {
             "colorbar": {
              "outlinewidth": 0,
              "ticks": ""
             }
            },
            "type": "scattermapbox"
           }
          ],
          "scatterpolar": [
           {
            "marker": {
             "colorbar": {
              "outlinewidth": 0,
              "ticks": ""
             }
            },
            "type": "scatterpolar"
           }
          ],
          "scatterpolargl": [
           {
            "marker": {
             "colorbar": {
              "outlinewidth": 0,
              "ticks": ""
             }
            },
            "type": "scatterpolargl"
           }
          ],
          "scatterternary": [
           {
            "marker": {
             "colorbar": {
              "outlinewidth": 0,
              "ticks": ""
             }
            },
            "type": "scatterternary"
           }
          ],
          "surface": [
           {
            "colorbar": {
             "outlinewidth": 0,
             "ticks": ""
            },
            "colorscale": [
             [
              0,
              "#0d0887"
             ],
             [
              0.1111111111111111,
              "#46039f"
             ],
             [
              0.2222222222222222,
              "#7201a8"
             ],
             [
              0.3333333333333333,
              "#9c179e"
             ],
             [
              0.4444444444444444,
              "#bd3786"
             ],
             [
              0.5555555555555556,
              "#d8576b"
             ],
             [
              0.6666666666666666,
              "#ed7953"
             ],
             [
              0.7777777777777778,
              "#fb9f3a"
             ],
             [
              0.8888888888888888,
              "#fdca26"
             ],
             [
              1,
              "#f0f921"
             ]
            ],
            "type": "surface"
           }
          ],
          "table": [
           {
            "cells": {
             "fill": {
              "color": "#EBF0F8"
             },
             "line": {
              "color": "white"
             }
            },
            "header": {
             "fill": {
              "color": "#C8D4E3"
             },
             "line": {
              "color": "white"
             }
            },
            "type": "table"
           }
          ]
         },
         "layout": {
          "annotationdefaults": {
           "arrowcolor": "#2a3f5f",
           "arrowhead": 0,
           "arrowwidth": 1
          },
          "autotypenumbers": "strict",
          "coloraxis": {
           "colorbar": {
            "outlinewidth": 0,
            "ticks": ""
           }
          },
          "colorscale": {
           "diverging": [
            [
             0,
             "#8e0152"
            ],
            [
             0.1,
             "#c51b7d"
            ],
            [
             0.2,
             "#de77ae"
            ],
            [
             0.3,
             "#f1b6da"
            ],
            [
             0.4,
             "#fde0ef"
            ],
            [
             0.5,
             "#f7f7f7"
            ],
            [
             0.6,
             "#e6f5d0"
            ],
            [
             0.7,
             "#b8e186"
            ],
            [
             0.8,
             "#7fbc41"
            ],
            [
             0.9,
             "#4d9221"
            ],
            [
             1,
             "#276419"
            ]
           ],
           "sequential": [
            [
             0,
             "#0d0887"
            ],
            [
             0.1111111111111111,
             "#46039f"
            ],
            [
             0.2222222222222222,
             "#7201a8"
            ],
            [
             0.3333333333333333,
             "#9c179e"
            ],
            [
             0.4444444444444444,
             "#bd3786"
            ],
            [
             0.5555555555555556,
             "#d8576b"
            ],
            [
             0.6666666666666666,
             "#ed7953"
            ],
            [
             0.7777777777777778,
             "#fb9f3a"
            ],
            [
             0.8888888888888888,
             "#fdca26"
            ],
            [
             1,
             "#f0f921"
            ]
           ],
           "sequentialminus": [
            [
             0,
             "#0d0887"
            ],
            [
             0.1111111111111111,
             "#46039f"
            ],
            [
             0.2222222222222222,
             "#7201a8"
            ],
            [
             0.3333333333333333,
             "#9c179e"
            ],
            [
             0.4444444444444444,
             "#bd3786"
            ],
            [
             0.5555555555555556,
             "#d8576b"
            ],
            [
             0.6666666666666666,
             "#ed7953"
            ],
            [
             0.7777777777777778,
             "#fb9f3a"
            ],
            [
             0.8888888888888888,
             "#fdca26"
            ],
            [
             1,
             "#f0f921"
            ]
           ]
          },
          "colorway": [
           "#636efa",
           "#EF553B",
           "#00cc96",
           "#ab63fa",
           "#FFA15A",
           "#19d3f3",
           "#FF6692",
           "#B6E880",
           "#FF97FF",
           "#FECB52"
          ],
          "font": {
           "color": "#2a3f5f"
          },
          "geo": {
           "bgcolor": "white",
           "lakecolor": "white",
           "landcolor": "#E5ECF6",
           "showlakes": true,
           "showland": true,
           "subunitcolor": "white"
          },
          "hoverlabel": {
           "align": "left"
          },
          "hovermode": "closest",
          "mapbox": {
           "style": "light"
          },
          "paper_bgcolor": "white",
          "plot_bgcolor": "#E5ECF6",
          "polar": {
           "angularaxis": {
            "gridcolor": "white",
            "linecolor": "white",
            "ticks": ""
           },
           "bgcolor": "#E5ECF6",
           "radialaxis": {
            "gridcolor": "white",
            "linecolor": "white",
            "ticks": ""
           }
          },
          "scene": {
           "xaxis": {
            "backgroundcolor": "#E5ECF6",
            "gridcolor": "white",
            "gridwidth": 2,
            "linecolor": "white",
            "showbackground": true,
            "ticks": "",
            "zerolinecolor": "white"
           },
           "yaxis": {
            "backgroundcolor": "#E5ECF6",
            "gridcolor": "white",
            "gridwidth": 2,
            "linecolor": "white",
            "showbackground": true,
            "ticks": "",
            "zerolinecolor": "white"
           },
           "zaxis": {
            "backgroundcolor": "#E5ECF6",
            "gridcolor": "white",
            "gridwidth": 2,
            "linecolor": "white",
            "showbackground": true,
            "ticks": "",
            "zerolinecolor": "white"
           }
          },
          "shapedefaults": {
           "line": {
            "color": "#2a3f5f"
           }
          },
          "ternary": {
           "aaxis": {
            "gridcolor": "white",
            "linecolor": "white",
            "ticks": ""
           },
           "baxis": {
            "gridcolor": "white",
            "linecolor": "white",
            "ticks": ""
           },
           "bgcolor": "#E5ECF6",
           "caxis": {
            "gridcolor": "white",
            "linecolor": "white",
            "ticks": ""
           }
          },
          "title": {
           "x": 0.05
          },
          "xaxis": {
           "automargin": true,
           "gridcolor": "white",
           "linecolor": "white",
           "ticks": "",
           "title": {
            "standoff": 15
           },
           "zerolinecolor": "white",
           "zerolinewidth": 2
          },
          "yaxis": {
           "automargin": true,
           "gridcolor": "white",
           "linecolor": "white",
           "ticks": "",
           "title": {
            "standoff": 15
           },
           "zerolinecolor": "white",
           "zerolinewidth": 2
          }
         }
        },
        "title": {
         "text": "Topic Distribution Per Device"
        },
        "uniformtext": {
         "minsize": 8,
         "mode": "hide"
        },
        "width": 1000,
        "xaxis": {
         "anchor": "y",
         "domain": [
          0,
          0.45
         ],
         "title": {
          "text": "Topics"
         }
        },
        "xaxis2": {
         "anchor": "y2",
         "domain": [
          0.55,
          1
         ],
         "title": {
          "text": "Topics"
         }
        },
        "xaxis3": {
         "anchor": "y3",
         "domain": [
          0,
          0.45
         ],
         "title": {
          "text": "Topics"
         }
        },
        "xaxis4": {
         "anchor": "y4",
         "domain": [
          0.55,
          1
         ],
         "title": {
          "text": "Topics"
         }
        },
        "xaxis5": {
         "anchor": "y5",
         "domain": [
          0,
          0.45
         ],
         "title": {
          "text": "Topics"
         }
        },
        "xaxis6": {
         "anchor": "y6",
         "domain": [
          0.55,
          1
         ],
         "title": {
          "text": "Topics"
         }
        },
        "xaxis7": {
         "anchor": "y7",
         "domain": [
          0,
          0.45
         ],
         "title": {
          "text": "Topics"
         }
        },
        "xaxis8": {
         "anchor": "y8",
         "domain": [
          0.55,
          1
         ],
         "title": {
          "text": "Topics"
         }
        },
        "yaxis": {
         "anchor": "x",
         "domain": [
          0.84375,
          1
         ],
         "range": [
          0,
          2.5
         ],
         "title": {
          "text": "Counts"
         },
         "type": "log"
        },
        "yaxis2": {
         "anchor": "x2",
         "domain": [
          0.84375,
          1
         ],
         "matches": "y",
         "range": [
          0,
          2.5
         ],
         "showticklabels": false,
         "title": {
          "text": "Counts"
         },
         "type": "log"
        },
        "yaxis3": {
         "anchor": "x3",
         "domain": [
          0.5625,
          0.71875
         ],
         "range": [
          0,
          2.5
         ],
         "title": {
          "text": "Counts"
         },
         "type": "log"
        },
        "yaxis4": {
         "anchor": "x4",
         "domain": [
          0.5625,
          0.71875
         ],
         "matches": "y3",
         "range": [
          0,
          2.5
         ],
         "showticklabels": false,
         "title": {
          "text": "Counts"
         },
         "type": "log"
        },
        "yaxis5": {
         "anchor": "x5",
         "domain": [
          0.28125,
          0.4375
         ],
         "range": [
          0,
          2.5
         ],
         "title": {
          "text": "Counts"
         },
         "type": "log"
        },
        "yaxis6": {
         "anchor": "x6",
         "domain": [
          0.28125,
          0.4375
         ],
         "matches": "y5",
         "range": [
          0,
          2.5
         ],
         "showticklabels": false,
         "title": {
          "text": "Counts"
         },
         "type": "log"
        },
        "yaxis7": {
         "anchor": "x7",
         "domain": [
          0,
          0.15625
         ],
         "range": [
          0,
          2.5
         ],
         "title": {
          "text": "Counts"
         },
         "type": "log"
        },
        "yaxis8": {
         "anchor": "x8",
         "domain": [
          0,
          0.15625
         ],
         "matches": "y7",
         "range": [
          0,
          2.5
         ],
         "showticklabels": false,
         "title": {
          "text": "Counts"
         },
         "type": "log"
        }
       }
      }
     },
     "metadata": {},
     "output_type": "display_data"
    }
   ],
   "source": [
    "# Get all the unique topics\n",
    "topic_list = unique_subset_topics(df)\n",
    "unique_topics = sorted(topic_list)\n",
    "\n",
    "topic_feature_bar_distribution(\n",
    "    df_ = df, feature_ = 'age', yrange = [0, 2.5],\n",
    "    topic_list_ = unique_topics , xaxis_title = '',\n",
    "    yaxis_title = '', title_ = 'Topic Distribution Per Device'\n",
    "    )"
   ]
  },
  {
   "cell_type": "code",
   "execution_count": null,
   "id": "a3975ed1",
   "metadata": {},
   "outputs": [],
   "source": [
    "## Subset based on those entries\n",
    "## populate the counts for the traces\n",
    "\n",
    "ages = df['age'].unique()\n",
    "ages = ages[~np.isnan(ages)]\n",
    "\n",
    "#genders = [d for d in df['gender'].unique() ]\n",
    "\n",
    "# Get all the unique topics\n",
    "unique_topics = []\n",
    "for i in df.index:\n",
    "    for j in range(0, len(df['topics'][i])):\n",
    "        tmp = df['topics'][i][j]\n",
    "        if tmp not in unique_topics:\n",
    "            unique_topics.append(tmp)\n",
    "\n",
    "unique_topics = sorted(unique_topics)\n",
    "\n",
    "\n",
    "fig = go.Figure()\n",
    "# Iterate through each device \n",
    "for d in ages:\n",
    "    # Find the subset of the data with that device\n",
    "    tmp_df = df[df['age'] == d]\n",
    "\n",
    "    # Create a dict object with 0 counts for all topics\n",
    "    ages_topic_freq = {k:0 for k in unique_topics}\n",
    "    for i in tmp_df.index:\n",
    "        for j in range(0, len(df['topics'][i])):\n",
    "            # Find that index\n",
    "            tmp_topic = df['topics'][i][j]\n",
    "\n",
    "            # Enumerate\n",
    "            ages_topic_freq[tmp_topic] += 1\n",
    "    \n",
    "    ages_topic_freq = dict(sorted(ages_topic_freq.items(), key = lambda kv: kv[1], reverse= True))\n",
    "    #print(device_topic_freq)\n",
    "        \n",
    "    fig.add_trace(go.Bar(x= [x for x in ages_topic_freq.keys()], y = [y for y in ages_topic_freq.values()], textfont_size=20))\n",
    "\n",
    "\n",
    "\n",
    "# Overlay both histograms\n",
    "#fig.update_layout(barmode='overlay')\n",
    "# Reduce opacity to see both histograms\n",
    "fig.update_traces(opacity=0.75)\n",
    "fig.show()"
   ]
  },
  {
   "cell_type": "markdown",
   "id": "cb2106c5",
   "metadata": {},
   "source": [
    "### Activity"
   ]
  },
  {
   "cell_type": "markdown",
   "id": "24ca3114",
   "metadata": {},
   "source": [
    "#### Daily Activity"
   ]
  },
  {
   "cell_type": "code",
   "execution_count": null,
   "id": "68a3dec9",
   "metadata": {},
   "outputs": [],
   "source": [
    "ages = df['age'].unique()\n",
    "ages = ages[~np.isnan(ages)]\n",
    "\n",
    "fig = go.Figure()\n",
    "# Iterate through each device \n",
    "for d in ages:\n",
    "    # Find the subset of the data with that device\n",
    "    tmp_df = df[df['age'] == d]\n",
    "\n",
    "    # Create a dict object with 0 counts for all topics\n",
    "    ages_daily_activity = {}\n",
    "    for i in tmp_df.index:\n",
    "        # Find that index\n",
    "        tmp_timestamp = df['impression_time'][i]\n",
    "        tmp_datetime = tmp_timestamp\n",
    "        tmp_date = tmp_datetime.strftime('%m/%d/%Y')\n",
    "\n",
    "        # Daily Activity\n",
    "        if tmp_date not in ages_daily_activity:\n",
    "            ages_daily_activity[tmp_date] = 0\n",
    "        else:\n",
    "            ages_daily_activity[tmp_date] +=1\n",
    "        \n",
    "    \n",
    "    # Sort by dates\n",
    "    ages_daily_activity = dict(sorted(ages_daily_activity.items()))\n",
    "\n",
    "    # Add trace\n",
    "    fig.add_trace(go.Bar(x= [x for x in ages_daily_activity.keys()], y = [y for y in ages_daily_activity.values()], textfont_size=20))\n",
    "\n",
    "\n",
    "\n",
    "    # Overlay both histograms\n",
    "    #fig.update_layout(barmode='overlay')\n",
    "    # Reduce opacity to see both histograms\n",
    "fig.update_traces(opacity=0.75)\n",
    "fig.show()"
   ]
  },
  {
   "cell_type": "markdown",
   "id": "1923aded",
   "metadata": {},
   "source": [
    "#### Hourly Activity"
   ]
  },
  {
   "cell_type": "code",
   "execution_count": null,
   "id": "41764352",
   "metadata": {},
   "outputs": [],
   "source": [
    "ages = df['age'].unique()\n",
    "ages = ages[~np.isnan(ages)]\n",
    "\n",
    "fig = go.Figure()\n",
    "# Iterate through each device \n",
    "for d in ages:\n",
    "    # Find the subset of the data with that device\n",
    "    tmp_df = df[df['age'] == d]\n",
    "\n",
    "    # Create a dict object with 0 counts for all topics\n",
    "    ages_hourly_activity = {}\n",
    "    for i in tmp_df.index:\n",
    "        # Find that index\n",
    "        tmp_timestamp = df['impression_time'][i]\n",
    "        tmp_datetime = tmp_timestamp\n",
    "        tmp_time = tmp_datetime.strftime('%H')\n",
    "\n",
    "        # Daily Activity\n",
    "        if tmp_time not in ages_hourly_activity:\n",
    "            ages_hourly_activity[tmp_time] = 0\n",
    "        else:\n",
    "            ages_hourly_activity[tmp_time] +=1\n",
    "        \n",
    "    \n",
    "    # Sort by dates\n",
    "    ages_hourly_activity = dict(sorted(ages_hourly_activity.items()))\n",
    "\n",
    "    # Add trace\n",
    "    fig.add_trace(go.Bar(x= [x for x in ages_hourly_activity.keys()], y = [y for y in ages_hourly_activity.values()], textfont_size=20))\n",
    "\n",
    "\n",
    "\n",
    "    # Overlay both histograms\n",
    "    #fig.update_layout(barmode='overlay')\n",
    "    # Reduce opacity to see both histograms\n",
    "fig.update_traces(opacity=0.75)\n",
    "fig.show()"
   ]
  },
  {
   "cell_type": "markdown",
   "id": "06e40744",
   "metadata": {},
   "source": [
    "# Postcodes"
   ]
  },
  {
   "cell_type": "markdown",
   "id": "0b31209f",
   "metadata": {},
   "source": [
    "### Distribution of Post Codes"
   ]
  },
  {
   "cell_type": "code",
   "execution_count": null,
   "id": "aec2f412",
   "metadata": {},
   "outputs": [],
   "source": [
    "multiple_subset_bar(df_ = df, feature_ = 'postcode', yrange = [0, 800])"
   ]
  },
  {
   "cell_type": "markdown",
   "id": "0ae5a212",
   "metadata": {},
   "source": [
    "### Average Read Time in each postal code"
   ]
  },
  {
   "cell_type": "code",
   "execution_count": null,
   "id": "ec6fd3c6",
   "metadata": {},
   "outputs": [],
   "source": [
    "multiple_subset_feature_visualization(df_ =df,  feature_1 = 'postcode', feature_2 = 'read_time')"
   ]
  },
  {
   "cell_type": "markdown",
   "id": "c13bde99",
   "metadata": {},
   "source": [
    "### Average Scroll pct in each postal code"
   ]
  },
  {
   "cell_type": "code",
   "execution_count": null,
   "id": "43deafa8",
   "metadata": {},
   "outputs": [],
   "source": [
    "multiple_subset_feature_visualization(df_ =df,  feature_1 = 'postcode', feature_2 = 'scroll_percentage')"
   ]
  },
  {
   "cell_type": "markdown",
   "id": "f742f798",
   "metadata": {},
   "source": [
    "### Topics"
   ]
  },
  {
   "cell_type": "code",
   "execution_count": 105,
   "id": "f7018e69",
   "metadata": {},
   "outputs": [
    {
     "name": "stdout",
     "output_type": "stream",
     "text": [
      "5\n",
      "0\n",
      "1\n",
      "2\n",
      "3\n",
      "4\n"
     ]
    },
    {
     "data": {
      "application/vnd.plotly.v1+json": {
       "config": {
        "plotlyServerURL": "https://plot.ly"
       },
       "data": [
        {
         "name": "Big City",
         "type": "bar",
         "x": [
          "Kendt",
          "Sport",
          "Underholdning",
          "Begivenhed",
          "Kriminalitet"
         ],
         "xaxis": "x",
         "y": [
          99,
          60,
          56,
          55,
          54
         ],
         "yaxis": "y"
        },
        {
         "name": "Metropolitan",
         "type": "bar",
         "x": [
          "Kendt",
          "Sport",
          "Begivenhed",
          "Underholdning",
          "Sportsbegivenhed"
         ],
         "xaxis": "x2",
         "y": [
          233,
          149,
          148,
          121,
          112
         ],
         "yaxis": "y2"
        },
        {
         "name": "Municipality",
         "type": "bar",
         "x": [
          "Kendt",
          "Kriminalitet",
          "Sport",
          "Begivenhed",
          "Underholdning"
         ],
         "xaxis": "x3",
         "y": [
          71,
          48,
          42,
          38,
          36
         ],
         "yaxis": "y3"
        },
        {
         "name": "Provincial",
         "type": "bar",
         "x": [
          "Kendt",
          "Underholdning",
          "Begivenhed",
          "Politik",
          "Sport"
         ],
         "xaxis": "x4",
         "y": [
          118,
          65,
          52,
          51,
          45
         ],
         "yaxis": "y4"
        },
        {
         "name": "Rural District",
         "type": "bar",
         "x": [
          "Kendt",
          "Underholdning",
          "Begivenhed",
          "Sport",
          "Erhverv"
         ],
         "xaxis": "x5",
         "y": [
          131,
          77,
          76,
          71,
          66
         ],
         "yaxis": "y5"
        }
       ],
       "layout": {
        "annotations": [
         {
          "font": {
           "size": 16
          },
          "showarrow": false,
          "text": "Device 1",
          "x": 0.5,
          "xanchor": "center",
          "xref": "paper",
          "y": 1,
          "yanchor": "bottom",
          "yref": "paper"
         },
         {
          "font": {
           "size": 16
          },
          "showarrow": false,
          "text": "Device 2",
          "x": 0.5,
          "xanchor": "center",
          "xref": "paper",
          "y": 0.78,
          "yanchor": "bottom",
          "yref": "paper"
         },
         {
          "font": {
           "size": 16
          },
          "showarrow": false,
          "text": "Device 3",
          "x": 0.5,
          "xanchor": "center",
          "xref": "paper",
          "y": 0.56,
          "yanchor": "bottom",
          "yref": "paper"
         }
        ],
        "font": {
         "family": "Courier New, monospace",
         "size": 16
        },
        "height": 1000,
        "template": {
         "data": {
          "bar": [
           {
            "error_x": {
             "color": "#2a3f5f"
            },
            "error_y": {
             "color": "#2a3f5f"
            },
            "marker": {
             "line": {
              "color": "#E5ECF6",
              "width": 0.5
             },
             "pattern": {
              "fillmode": "overlay",
              "size": 10,
              "solidity": 0.2
             }
            },
            "type": "bar"
           }
          ],
          "barpolar": [
           {
            "marker": {
             "line": {
              "color": "#E5ECF6",
              "width": 0.5
             },
             "pattern": {
              "fillmode": "overlay",
              "size": 10,
              "solidity": 0.2
             }
            },
            "type": "barpolar"
           }
          ],
          "carpet": [
           {
            "aaxis": {
             "endlinecolor": "#2a3f5f",
             "gridcolor": "white",
             "linecolor": "white",
             "minorgridcolor": "white",
             "startlinecolor": "#2a3f5f"
            },
            "baxis": {
             "endlinecolor": "#2a3f5f",
             "gridcolor": "white",
             "linecolor": "white",
             "minorgridcolor": "white",
             "startlinecolor": "#2a3f5f"
            },
            "type": "carpet"
           }
          ],
          "choropleth": [
           {
            "colorbar": {
             "outlinewidth": 0,
             "ticks": ""
            },
            "type": "choropleth"
           }
          ],
          "contour": [
           {
            "colorbar": {
             "outlinewidth": 0,
             "ticks": ""
            },
            "colorscale": [
             [
              0,
              "#0d0887"
             ],
             [
              0.1111111111111111,
              "#46039f"
             ],
             [
              0.2222222222222222,
              "#7201a8"
             ],
             [
              0.3333333333333333,
              "#9c179e"
             ],
             [
              0.4444444444444444,
              "#bd3786"
             ],
             [
              0.5555555555555556,
              "#d8576b"
             ],
             [
              0.6666666666666666,
              "#ed7953"
             ],
             [
              0.7777777777777778,
              "#fb9f3a"
             ],
             [
              0.8888888888888888,
              "#fdca26"
             ],
             [
              1,
              "#f0f921"
             ]
            ],
            "type": "contour"
           }
          ],
          "contourcarpet": [
           {
            "colorbar": {
             "outlinewidth": 0,
             "ticks": ""
            },
            "type": "contourcarpet"
           }
          ],
          "heatmap": [
           {
            "colorbar": {
             "outlinewidth": 0,
             "ticks": ""
            },
            "colorscale": [
             [
              0,
              "#0d0887"
             ],
             [
              0.1111111111111111,
              "#46039f"
             ],
             [
              0.2222222222222222,
              "#7201a8"
             ],
             [
              0.3333333333333333,
              "#9c179e"
             ],
             [
              0.4444444444444444,
              "#bd3786"
             ],
             [
              0.5555555555555556,
              "#d8576b"
             ],
             [
              0.6666666666666666,
              "#ed7953"
             ],
             [
              0.7777777777777778,
              "#fb9f3a"
             ],
             [
              0.8888888888888888,
              "#fdca26"
             ],
             [
              1,
              "#f0f921"
             ]
            ],
            "type": "heatmap"
           }
          ],
          "heatmapgl": [
           {
            "colorbar": {
             "outlinewidth": 0,
             "ticks": ""
            },
            "colorscale": [
             [
              0,
              "#0d0887"
             ],
             [
              0.1111111111111111,
              "#46039f"
             ],
             [
              0.2222222222222222,
              "#7201a8"
             ],
             [
              0.3333333333333333,
              "#9c179e"
             ],
             [
              0.4444444444444444,
              "#bd3786"
             ],
             [
              0.5555555555555556,
              "#d8576b"
             ],
             [
              0.6666666666666666,
              "#ed7953"
             ],
             [
              0.7777777777777778,
              "#fb9f3a"
             ],
             [
              0.8888888888888888,
              "#fdca26"
             ],
             [
              1,
              "#f0f921"
             ]
            ],
            "type": "heatmapgl"
           }
          ],
          "histogram": [
           {
            "marker": {
             "pattern": {
              "fillmode": "overlay",
              "size": 10,
              "solidity": 0.2
             }
            },
            "type": "histogram"
           }
          ],
          "histogram2d": [
           {
            "colorbar": {
             "outlinewidth": 0,
             "ticks": ""
            },
            "colorscale": [
             [
              0,
              "#0d0887"
             ],
             [
              0.1111111111111111,
              "#46039f"
             ],
             [
              0.2222222222222222,
              "#7201a8"
             ],
             [
              0.3333333333333333,
              "#9c179e"
             ],
             [
              0.4444444444444444,
              "#bd3786"
             ],
             [
              0.5555555555555556,
              "#d8576b"
             ],
             [
              0.6666666666666666,
              "#ed7953"
             ],
             [
              0.7777777777777778,
              "#fb9f3a"
             ],
             [
              0.8888888888888888,
              "#fdca26"
             ],
             [
              1,
              "#f0f921"
             ]
            ],
            "type": "histogram2d"
           }
          ],
          "histogram2dcontour": [
           {
            "colorbar": {
             "outlinewidth": 0,
             "ticks": ""
            },
            "colorscale": [
             [
              0,
              "#0d0887"
             ],
             [
              0.1111111111111111,
              "#46039f"
             ],
             [
              0.2222222222222222,
              "#7201a8"
             ],
             [
              0.3333333333333333,
              "#9c179e"
             ],
             [
              0.4444444444444444,
              "#bd3786"
             ],
             [
              0.5555555555555556,
              "#d8576b"
             ],
             [
              0.6666666666666666,
              "#ed7953"
             ],
             [
              0.7777777777777778,
              "#fb9f3a"
             ],
             [
              0.8888888888888888,
              "#fdca26"
             ],
             [
              1,
              "#f0f921"
             ]
            ],
            "type": "histogram2dcontour"
           }
          ],
          "mesh3d": [
           {
            "colorbar": {
             "outlinewidth": 0,
             "ticks": ""
            },
            "type": "mesh3d"
           }
          ],
          "parcoords": [
           {
            "line": {
             "colorbar": {
              "outlinewidth": 0,
              "ticks": ""
             }
            },
            "type": "parcoords"
           }
          ],
          "pie": [
           {
            "automargin": true,
            "type": "pie"
           }
          ],
          "scatter": [
           {
            "fillpattern": {
             "fillmode": "overlay",
             "size": 10,
             "solidity": 0.2
            },
            "type": "scatter"
           }
          ],
          "scatter3d": [
           {
            "line": {
             "colorbar": {
              "outlinewidth": 0,
              "ticks": ""
             }
            },
            "marker": {
             "colorbar": {
              "outlinewidth": 0,
              "ticks": ""
             }
            },
            "type": "scatter3d"
           }
          ],
          "scattercarpet": [
           {
            "marker": {
             "colorbar": {
              "outlinewidth": 0,
              "ticks": ""
             }
            },
            "type": "scattercarpet"
           }
          ],
          "scattergeo": [
           {
            "marker": {
             "colorbar": {
              "outlinewidth": 0,
              "ticks": ""
             }
            },
            "type": "scattergeo"
           }
          ],
          "scattergl": [
           {
            "marker": {
             "colorbar": {
              "outlinewidth": 0,
              "ticks": ""
             }
            },
            "type": "scattergl"
           }
          ],
          "scattermapbox": [
           {
            "marker": {
             "colorbar": {
              "outlinewidth": 0,
              "ticks": ""
             }
            },
            "type": "scattermapbox"
           }
          ],
          "scatterpolar": [
           {
            "marker": {
             "colorbar": {
              "outlinewidth": 0,
              "ticks": ""
             }
            },
            "type": "scatterpolar"
           }
          ],
          "scatterpolargl": [
           {
            "marker": {
             "colorbar": {
              "outlinewidth": 0,
              "ticks": ""
             }
            },
            "type": "scatterpolargl"
           }
          ],
          "scatterternary": [
           {
            "marker": {
             "colorbar": {
              "outlinewidth": 0,
              "ticks": ""
             }
            },
            "type": "scatterternary"
           }
          ],
          "surface": [
           {
            "colorbar": {
             "outlinewidth": 0,
             "ticks": ""
            },
            "colorscale": [
             [
              0,
              "#0d0887"
             ],
             [
              0.1111111111111111,
              "#46039f"
             ],
             [
              0.2222222222222222,
              "#7201a8"
             ],
             [
              0.3333333333333333,
              "#9c179e"
             ],
             [
              0.4444444444444444,
              "#bd3786"
             ],
             [
              0.5555555555555556,
              "#d8576b"
             ],
             [
              0.6666666666666666,
              "#ed7953"
             ],
             [
              0.7777777777777778,
              "#fb9f3a"
             ],
             [
              0.8888888888888888,
              "#fdca26"
             ],
             [
              1,
              "#f0f921"
             ]
            ],
            "type": "surface"
           }
          ],
          "table": [
           {
            "cells": {
             "fill": {
              "color": "#EBF0F8"
             },
             "line": {
              "color": "white"
             }
            },
            "header": {
             "fill": {
              "color": "#C8D4E3"
             },
             "line": {
              "color": "white"
             }
            },
            "type": "table"
           }
          ]
         },
         "layout": {
          "annotationdefaults": {
           "arrowcolor": "#2a3f5f",
           "arrowhead": 0,
           "arrowwidth": 1
          },
          "autotypenumbers": "strict",
          "coloraxis": {
           "colorbar": {
            "outlinewidth": 0,
            "ticks": ""
           }
          },
          "colorscale": {
           "diverging": [
            [
             0,
             "#8e0152"
            ],
            [
             0.1,
             "#c51b7d"
            ],
            [
             0.2,
             "#de77ae"
            ],
            [
             0.3,
             "#f1b6da"
            ],
            [
             0.4,
             "#fde0ef"
            ],
            [
             0.5,
             "#f7f7f7"
            ],
            [
             0.6,
             "#e6f5d0"
            ],
            [
             0.7,
             "#b8e186"
            ],
            [
             0.8,
             "#7fbc41"
            ],
            [
             0.9,
             "#4d9221"
            ],
            [
             1,
             "#276419"
            ]
           ],
           "sequential": [
            [
             0,
             "#0d0887"
            ],
            [
             0.1111111111111111,
             "#46039f"
            ],
            [
             0.2222222222222222,
             "#7201a8"
            ],
            [
             0.3333333333333333,
             "#9c179e"
            ],
            [
             0.4444444444444444,
             "#bd3786"
            ],
            [
             0.5555555555555556,
             "#d8576b"
            ],
            [
             0.6666666666666666,
             "#ed7953"
            ],
            [
             0.7777777777777778,
             "#fb9f3a"
            ],
            [
             0.8888888888888888,
             "#fdca26"
            ],
            [
             1,
             "#f0f921"
            ]
           ],
           "sequentialminus": [
            [
             0,
             "#0d0887"
            ],
            [
             0.1111111111111111,
             "#46039f"
            ],
            [
             0.2222222222222222,
             "#7201a8"
            ],
            [
             0.3333333333333333,
             "#9c179e"
            ],
            [
             0.4444444444444444,
             "#bd3786"
            ],
            [
             0.5555555555555556,
             "#d8576b"
            ],
            [
             0.6666666666666666,
             "#ed7953"
            ],
            [
             0.7777777777777778,
             "#fb9f3a"
            ],
            [
             0.8888888888888888,
             "#fdca26"
            ],
            [
             1,
             "#f0f921"
            ]
           ]
          },
          "colorway": [
           "#636efa",
           "#EF553B",
           "#00cc96",
           "#ab63fa",
           "#FFA15A",
           "#19d3f3",
           "#FF6692",
           "#B6E880",
           "#FF97FF",
           "#FECB52"
          ],
          "font": {
           "color": "#2a3f5f"
          },
          "geo": {
           "bgcolor": "white",
           "lakecolor": "white",
           "landcolor": "#E5ECF6",
           "showlakes": true,
           "showland": true,
           "subunitcolor": "white"
          },
          "hoverlabel": {
           "align": "left"
          },
          "hovermode": "closest",
          "mapbox": {
           "style": "light"
          },
          "paper_bgcolor": "white",
          "plot_bgcolor": "#E5ECF6",
          "polar": {
           "angularaxis": {
            "gridcolor": "white",
            "linecolor": "white",
            "ticks": ""
           },
           "bgcolor": "#E5ECF6",
           "radialaxis": {
            "gridcolor": "white",
            "linecolor": "white",
            "ticks": ""
           }
          },
          "scene": {
           "xaxis": {
            "backgroundcolor": "#E5ECF6",
            "gridcolor": "white",
            "gridwidth": 2,
            "linecolor": "white",
            "showbackground": true,
            "ticks": "",
            "zerolinecolor": "white"
           },
           "yaxis": {
            "backgroundcolor": "#E5ECF6",
            "gridcolor": "white",
            "gridwidth": 2,
            "linecolor": "white",
            "showbackground": true,
            "ticks": "",
            "zerolinecolor": "white"
           },
           "zaxis": {
            "backgroundcolor": "#E5ECF6",
            "gridcolor": "white",
            "gridwidth": 2,
            "linecolor": "white",
            "showbackground": true,
            "ticks": "",
            "zerolinecolor": "white"
           }
          },
          "shapedefaults": {
           "line": {
            "color": "#2a3f5f"
           }
          },
          "ternary": {
           "aaxis": {
            "gridcolor": "white",
            "linecolor": "white",
            "ticks": ""
           },
           "baxis": {
            "gridcolor": "white",
            "linecolor": "white",
            "ticks": ""
           },
           "bgcolor": "#E5ECF6",
           "caxis": {
            "gridcolor": "white",
            "linecolor": "white",
            "ticks": ""
           }
          },
          "title": {
           "x": 0.05
          },
          "xaxis": {
           "automargin": true,
           "gridcolor": "white",
           "linecolor": "white",
           "ticks": "",
           "title": {
            "standoff": 15
           },
           "zerolinecolor": "white",
           "zerolinewidth": 2
          },
          "yaxis": {
           "automargin": true,
           "gridcolor": "white",
           "linecolor": "white",
           "ticks": "",
           "title": {
            "standoff": 15
           },
           "zerolinecolor": "white",
           "zerolinewidth": 2
          }
         }
        },
        "title": {
         "text": "Topic Distribution Per Device"
        },
        "uniformtext": {
         "minsize": 8,
         "mode": "hide"
        },
        "width": 1000,
        "xaxis": {
         "anchor": "y",
         "domain": [
          0,
          1
         ],
         "title": {
          "text": "Topics"
         }
        },
        "xaxis2": {
         "anchor": "y2",
         "domain": [
          0,
          1
         ],
         "title": {
          "text": "Topics"
         }
        },
        "xaxis3": {
         "anchor": "y3",
         "domain": [
          0,
          1
         ],
         "title": {
          "text": "Topics"
         }
        },
        "xaxis4": {
         "anchor": "y4",
         "domain": [
          0,
          1
         ],
         "title": {
          "text": "Topics"
         }
        },
        "xaxis5": {
         "anchor": "y5",
         "domain": [
          0,
          1
         ],
         "title": {
          "text": "Topics"
         }
        },
        "yaxis": {
         "anchor": "x",
         "domain": [
          0.88,
          1
         ],
         "range": [
          0,
          5
         ],
         "title": {
          "text": "Count"
         },
         "type": "log"
        },
        "yaxis2": {
         "anchor": "x2",
         "domain": [
          0.66,
          0.78
         ],
         "range": [
          0,
          5
         ],
         "title": {
          "text": "Count"
         },
         "type": "log"
        },
        "yaxis3": {
         "anchor": "x3",
         "domain": [
          0.44,
          0.56
         ],
         "range": [
          0,
          5
         ],
         "title": {
          "text": "Count"
         },
         "type": "log"
        },
        "yaxis4": {
         "anchor": "x4",
         "domain": [
          0.22,
          0.33999999999999997
         ],
         "range": [
          0,
          5
         ],
         "title": {
          "text": "Count"
         },
         "type": "log"
        },
        "yaxis5": {
         "anchor": "x5",
         "domain": [
          0,
          0.12
         ],
         "range": [
          0,
          5
         ],
         "title": {
          "text": "Count"
         },
         "type": "log"
        }
       }
      }
     },
     "metadata": {},
     "output_type": "display_data"
    }
   ],
   "source": [
    "# Get all the unique topics\n",
    "topic_list = unique_subset_topics(df)\n",
    "unique_topics = sorted(topic_list)\n",
    "\n",
    "topic_feature_bar_distribution(\n",
    "    df_ = df, feature_ = 'postcode', yrange = [0, 5],\n",
    "    topic_list_ = unique_topics , xaxis_title = 'Topics',\n",
    "    yaxis_title = 'Count', title_ = 'Topic Distribution Per Device'\n",
    "    )"
   ]
  },
  {
   "cell_type": "code",
   "execution_count": null,
   "id": "f656d88f",
   "metadata": {},
   "outputs": [],
   "source": [
    "## Subset based on those entries\n",
    "## populate the counts for the traces\n",
    "\n",
    "postcodes = df['postcode'].unique()\n",
    "postcodes = postcodes[~np.isnan(postcodes)]\n",
    "\n",
    "#genders = [d for d in df['gender'].unique() ]\n",
    "\n",
    "# Get all the unique topics\n",
    "unique_topics = []\n",
    "for i in df.index:\n",
    "    for j in range(0, len(df['topics'][i])):\n",
    "        tmp = df['topics'][i][j]\n",
    "        if tmp not in unique_topics:\n",
    "            unique_topics.append(tmp)\n",
    "\n",
    "unique_topics = sorted(unique_topics)\n",
    "\n",
    "\n",
    "fig = go.Figure()\n",
    "# Iterate through each device \n",
    "for d in postcodes:\n",
    "    # Find the subset of the data with that device\n",
    "    tmp_df = df[df['postcode'] == d]\n",
    "\n",
    "    # Create a dict object with 0 counts for all topics\n",
    "    postcodes_topic_freq = {k:0 for k in unique_topics}\n",
    "    for i in tmp_df.index:\n",
    "        for j in range(0, len(df['topics'][i])):\n",
    "            # Find that index\n",
    "            tmp_topic = df['topics'][i][j]\n",
    "\n",
    "            # Enumerate\n",
    "            postcodes_topic_freq[tmp_topic] += 1\n",
    "    \n",
    "    postcodes_topic_freq = dict(sorted(postcodes_topic_freq.items(), key = lambda kv: kv[1], reverse= True))\n",
    "    #print(device_topic_freq)\n",
    "        \n",
    "    fig.add_trace(go.Bar(x= [x for x in postcodes_topic_freq.keys()], y = [y for y in postcodes_topic_freq.values()], textfont_size=20))\n",
    "\n",
    "\n",
    "\n",
    "# Overlay both histograms\n",
    "#fig.update_layout(barmode='overlay')\n",
    "# Reduce opacity to see both histograms\n",
    "fig.update_traces(opacity=0.75)\n",
    "fig.show()"
   ]
  },
  {
   "cell_type": "markdown",
   "id": "6e53434a",
   "metadata": {},
   "source": [
    "### Activity"
   ]
  },
  {
   "cell_type": "markdown",
   "id": "a1d99370",
   "metadata": {},
   "source": [
    "#### Daily Activity"
   ]
  },
  {
   "cell_type": "code",
   "execution_count": null,
   "id": "0d4c167a",
   "metadata": {},
   "outputs": [],
   "source": [
    "postcodes = df['postcode'].unique()\n",
    "postcodes = postcodes[~np.isnan(postcodes)]\n",
    "\n",
    "fig = go.Figure()\n",
    "# Iterate through each device \n",
    "for d in postcodes:\n",
    "    # Find the subset of the data with that device\n",
    "    tmp_df = df[df['postcode'] == d]\n",
    "\n",
    "    # Create a dict object with 0 counts for all topics\n",
    "    postcodes_daily_activity = {}\n",
    "    for i in tmp_df.index:\n",
    "        # Find that index\n",
    "        tmp_timestamp = df['impression_time'][i]\n",
    "        tmp_datetime = tmp_timestamp\n",
    "        tmp_date = tmp_datetime.strftime('%m/%d/%Y')\n",
    "\n",
    "        # Daily Activity\n",
    "        if tmp_date not in postcodes_daily_activity:\n",
    "            postcodes_daily_activity[tmp_date] = 0\n",
    "        else:\n",
    "            postcodes_daily_activity[tmp_date] +=1\n",
    "        \n",
    "    \n",
    "    # Sort by dates\n",
    "    postcodes_daily_activity = dict(sorted(postcodes_daily_activity.items()))\n",
    "\n",
    "    # Add trace\n",
    "    fig.add_trace(go.Bar(x= [x for x in postcodes_daily_activity.keys()], y = [y for y in postcodes_daily_activity.values()], textfont_size=20))\n",
    "\n",
    "\n",
    "\n",
    "    # Overlay both histograms\n",
    "    #fig.update_layout(barmode='overlay')\n",
    "    # Reduce opacity to see both histograms\n",
    "fig.update_traces(opacity=0.75)\n",
    "fig.show()"
   ]
  },
  {
   "cell_type": "markdown",
   "id": "38ed70d3",
   "metadata": {},
   "source": [
    "#### Hourly Activity"
   ]
  },
  {
   "cell_type": "code",
   "execution_count": null,
   "id": "0af96cef",
   "metadata": {},
   "outputs": [],
   "source": [
    "postcodes = df['postcode'].unique()\n",
    "postcodes = postcodes[~np.isnan(postcodes)]\n",
    "\n",
    "\n",
    "fig = go.Figure()\n",
    "# Iterate through each device \n",
    "for d in postcodes:\n",
    "    # Find the subset of the data with that device\n",
    "    tmp_df = df[df['postcode'] == d]\n",
    "\n",
    "    # Create a dict object with 0 counts for all topics\n",
    "    postcodes_hourly_activity = {}\n",
    "    for i in tmp_df.index:\n",
    "        # Find that index\n",
    "        tmp_timestamp = df['impression_time'][i]\n",
    "        tmp_datetime = tmp_timestamp\n",
    "        tmp_time = tmp_datetime.strftime('%H')\n",
    "\n",
    "        # Daily Activity\n",
    "        if tmp_time not in postcodes_hourly_activity:\n",
    "            postcodes_hourly_activity[tmp_time] = 0\n",
    "        else:\n",
    "            postcodes_hourly_activity[tmp_time] +=1\n",
    "        \n",
    "    \n",
    "    # Sort by dates\n",
    "    postcodes_hourly_activity = dict(sorted(postcodes_hourly_activity.items()))\n",
    "\n",
    "    # Add trace\n",
    "    fig.add_trace(go.Bar(x= [x for x in postcodes_hourly_activity.keys()], y = [y for y in postcodes_hourly_activity.values()], textfont_size=20))\n",
    "\n",
    "\n",
    "\n",
    "    # Overlay both histograms\n",
    "    #fig.update_layout(barmode='overlay')\n",
    "    # Reduce opacity to see both histograms\n",
    "fig.update_traces(opacity=0.75)\n",
    "fig.show()"
   ]
  },
  {
   "cell_type": "code",
   "execution_count": null,
   "id": "830901ce",
   "metadata": {},
   "outputs": [],
   "source": []
  }
 ],
 "metadata": {
  "kernelspec": {
   "display_name": "Python 3 (ipykernel)",
   "language": "python",
   "name": "python3"
  },
  "language_info": {
   "codemirror_mode": {
    "name": "ipython",
    "version": 3
   },
   "file_extension": ".py",
   "mimetype": "text/x-python",
   "name": "python",
   "nbconvert_exporter": "python",
   "pygments_lexer": "ipython3",
   "version": "3.11.4"
  }
 },
 "nbformat": 4,
 "nbformat_minor": 5
}
