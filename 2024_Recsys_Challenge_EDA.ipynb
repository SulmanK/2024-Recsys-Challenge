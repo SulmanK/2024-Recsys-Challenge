{
 "cells": [
  {
   "cell_type": "markdown",
   "id": "d2671047-b3da-4686-8a34-f7e63d82e738",
   "metadata": {},
   "source": [
    "Task\n",
    "- Refactor code\n",
    "    - Fix all visualizations\n",
    "    - Functionalize everything\n",
    "- Fix the plots\n",
    "- Start on EDA\n",
    "    - Each major feature will cover distribution of the feature, readtime/scroll pct, how it relates to the topics selected, and activity distribution.\n",
    "        - We will use histograms, bar plots, box plots, and scatter plots (can look at pie charts too)\n",
    "        - Separate out some plots maybe\n",
    "        - Look into changing activity to scatter plots\n",
    "        - Next thing we have to do is look update the multiple bar plot\n",
    "        \n",
    "- Model selection"
   ]
  },
  {
   "cell_type": "markdown",
   "id": "237298c2-2986-4bba-bcbd-5ff27e361919",
   "metadata": {},
   "source": [
    "Background Information on Dataset: BLAH BLAH BLAH"
   ]
  },
  {
   "cell_type": "markdown",
   "id": "9f8cf39e-f468-4ac2-9f59-2eefab32a277",
   "metadata": {},
   "source": [
    "Importing Packages"
   ]
  },
  {
   "cell_type": "code",
   "execution_count": null,
   "id": "f4711c74-a01b-4ce7-8a3d-de5a605d13e4",
   "metadata": {},
   "outputs": [],
   "source": [
    "import numpy as np\n",
    "import pandas as pd\n",
    "\n",
    "import plotly\n",
    "import plotly.express as px\n",
    "import plotly.graph_objects as go\n",
    "\n",
    "from datetime import datetime\n",
    "from plotly.subplots import make_subplots"
   ]
  },
  {
   "cell_type": "markdown",
   "id": "06f05b58-dde3-4d5f-87a2-f20ad71cd62b",
   "metadata": {},
   "source": [
    "# EDA"
   ]
  },
  {
   "cell_type": "markdown",
   "id": "616fa6a4-e47a-4116-82f5-896d6893a00e",
   "metadata": {},
   "source": [
    "Load in dataset"
   ]
  },
  {
   "cell_type": "code",
   "execution_count": null,
   "id": "59a57c46-4e08-4299-8a69-12d45e274b46",
   "metadata": {},
   "outputs": [],
   "source": [
    "#Load in various dataframes\n",
    "## Articles\n",
    "df_art = pd.read_parquet(\"Data/Small/articles.parquet\")\n",
    "\n",
    "## Behaviors\n",
    "df_bev = pd.read_parquet(\"Data/Small/train/behaviors.parquet\")\n",
    "\n",
    "## History\n",
    "df_his = pd.read_parquet(\"Data/Small/train/history.parquet\")\n",
    "\n"
   ]
  },
  {
   "cell_type": "markdown",
   "id": "dd6d447c",
   "metadata": {},
   "source": [
    "Join the data sources"
   ]
  },
  {
   "cell_type": "code",
   "execution_count": null,
   "id": "b3cfa16d",
   "metadata": {},
   "outputs": [],
   "source": [
    "# Convert datatype of column first\n",
    "df_bev['article_ids_clicked'] = df_bev['article_ids_clicked'].apply(lambda x: x[0])"
   ]
  },
  {
   "cell_type": "code",
   "execution_count": null,
   "id": "5eaa9148",
   "metadata": {},
   "outputs": [],
   "source": [
    "# Join bevhaiors to article\n",
    "df= df_bev.join(df_art.set_index(\"article_id\"), on = \"article_ids_clicked\")\n",
    "\n",
    "# Join bevhaiors to history \n",
    "df= df.join(df_his.set_index(\"user_id\"), on = \"user_id\")\n",
    "\n",
    "# Drop all other dataframes from me\n",
    "df_bev = []\n",
    "df_his = []\n",
    "df_art = []"
   ]
  },
  {
   "cell_type": "code",
   "execution_count": null,
   "id": "5796b9c4",
   "metadata": {},
   "outputs": [],
   "source": [
    "# Preprocessing\n",
    "df.dropna(subset=['article_id'], inplace=True)\n",
    "# df.dropna(subset =['age'], inplace = True)\n",
    "\n",
    "# Change article IDs into int\n",
    "df['article_id'] = df['article_id'].apply(lambda x: int(x))\n",
    "df['article_id'] = df['article_id'].astype(np.int64)\n",
    "\n",
    "\n",
    "# Change genders from float to strings\n",
    "def gender_(x):\n",
    "    if x == 0.0:\n",
    "        return 'Male'\n",
    "    elif x == 1.0:\n",
    "        return 'Female'\n",
    "    else:\n",
    "        return None\n",
    "\n",
    "\n",
    "df['gender'] = df['gender'].apply(lambda x: gender_(x))\n",
    "\n",
    "# Change age to int\n",
    "# df['age'] = df['age'].apply(lambda x: np.int_(x) if np.isnan(x) == False else x)\n",
    "# df['age'] = df[~df['age'].isnull()]['age'].astype(np.int32)\n",
    "\n",
    "# Change age to str it's a range\n",
    "df['age'] = df['age'].astype('Int64')\n",
    "df['age'] = df['age'].astype(str)\n",
    "df['age'] = df['age'].apply(\n",
    "    lambda x: x if x == '<NA>' else x + ' - ' + x[0] + '9')\n",
    "\n",
    "\n",
    "# Change postcodes\n",
    "# Change genders from float to strings\n",
    "def postcodes_(x):\n",
    "    if x == 0.0:\n",
    "        return 'Metropolitan'\n",
    "    elif x == 1.0:\n",
    "        return 'Rural District'\n",
    "\n",
    "    elif x == 2.0:\n",
    "        return 'Municipality'\n",
    "\n",
    "    elif x == 3.0:\n",
    "        return 'Provincial'\n",
    "\n",
    "    elif x == 4.0:\n",
    "        return 'Big City'\n",
    "\n",
    "    else:\n",
    "        return None\n",
    "\n",
    "\n",
    "df['postcode'] = df['postcode'].apply(lambda x: postcodes_(x))"
   ]
  },
  {
   "cell_type": "markdown",
   "id": "00dd2615",
   "metadata": {},
   "source": [
    "Visualizations"
   ]
  },
  {
   "cell_type": "markdown",
   "id": "c4e0b195",
   "metadata": {},
   "source": [
    "Lets calculate the unique users for hourly, daily, and day of the week. Let's use a subset of the data until we know our plots are very good"
   ]
  },
  {
   "cell_type": "markdown",
   "id": "7988d669",
   "metadata": {},
   "source": [
    "#### Biggest thing is user engagement : Bigger User Engagement -> More eveneue\n",
    "#### We need to maximize the amount of ads these guys are viewing -> this leads on to them clicking on new articles for ads\n",
    "#### So, let's not make article length too short so that people can maximize their session lengths with a lot of articles!"
   ]
  },
  {
   "cell_type": "markdown",
   "id": "ae6b3df4",
   "metadata": {},
   "source": [
    "## Plot Functions"
   ]
  },
  {
   "cell_type": "code",
   "execution_count": null,
   "id": "0db41661",
   "metadata": {},
   "outputs": [],
   "source": [
    "def single_subset_bar(df_, feature_, xaxis_title, yrange):\n",
    "    # Index and Values\n",
    "    indices = [xaxis_title]\n",
    "    values_ = [len(df_[feature_].unique())]\n",
    "\n",
    "    # Instantiate figure object\n",
    "    fig = go.Figure()\n",
    "\n",
    "    # Add traces\n",
    "    fig.add_trace(go.Bar(x=indices, y=values_,\n",
    "                         width=[0.3], text='<b>{}<b>'.format(values_[0]),\n",
    "                         )\n",
    "\n",
    "                  )\n",
    "    # Update axis properties\n",
    "    fig.update_yaxes(\n",
    "        title_text='Count', range=yrange\n",
    "    )\n",
    "\n",
    "    # Update trace properties\n",
    "    fig.update_traces(\n",
    "        textposition='outside',\n",
    "        textfont=dict(\n",
    "            family='sans serif',\n",
    "            size=16,\n",
    "            color='#1f77b4'\n",
    "        )\n",
    "    )\n",
    "\n",
    "    # Update layout of plot\n",
    "    fig.update_layout(\n",
    "        title='<b>Total {}<b>'.format(xaxis_title),\n",
    "        uniformtext_minsize=8, uniformtext_mode='hide',\n",
    "        font=dict(\n",
    "            family=\"Courier New, monospace\",\n",
    "            size=16,\n",
    "        )\n",
    "    )\n",
    "\n",
    "    return fig.show()"
   ]
  },
  {
   "cell_type": "code",
   "execution_count": null,
   "id": "68dbf2f8",
   "metadata": {},
   "outputs": [],
   "source": [
    "def multiple_subset_bar(df_, feature_, yrange):\n",
    "\n",
    "    # Assign tmp_df based on feature\n",
    "    if feature_ == 'age':\n",
    "        tmp_df = df_[df_['age'] != '<NA>']\n",
    "    else:\n",
    "        tmp_df = df_[~df_[feature_].isnull()]\n",
    "\n",
    "    \n",
    "    categories = [d for d in tmp_df[feature_].unique()]\n",
    "    categories.sort()\n",
    "\n",
    "\n",
    "    fig = go.Figure()\n",
    "    for category_ in categories:\n",
    "        ## Check for Frequency vs Count \n",
    "        count= len(tmp_df[tmp_df[feature_] == category_])\n",
    "\n",
    "        fig.add_trace(\n",
    "            go.Bar(\n",
    "                x= [str(category_)], y = [count],\n",
    "                text = '<b>{}<b>'.format(count), \n",
    "                name= str(category_)\n",
    "            )\n",
    "                \n",
    "        )\n",
    "\n",
    "    # Update trace properties\n",
    "        \n",
    "    # Update axis properties\n",
    "    fig.update_yaxes(\n",
    "        title_text= 'Count', range = yrange\n",
    "        )\n",
    "    \n",
    "    fig.update_xaxes(\n",
    "        title_text= str(feature_)\n",
    "        )\n",
    "\n",
    "    # Update trace properties\n",
    "    fig.update_traces(\n",
    "        textposition='outside',\n",
    "        textfont=dict(\n",
    "            family='sans serif',\n",
    "            size=16,\n",
    "            color='#1f77b4'\n",
    "            )\n",
    "            )\n",
    "            \n",
    "    # Update layout of plot\n",
    "    fig.update_layout(\n",
    "        title = '<b>Distribution of {}<b>'.format(feature_) ,\n",
    "        uniformtext_minsize=8, uniformtext_mode='hide',  \n",
    "        font=dict(\n",
    "            family=\"Courier New, monospace\",\n",
    "            size=16,\n",
    "            )\n",
    "            )\n",
    "\n",
    "    return fig.show()"
   ]
  },
  {
   "cell_type": "code",
   "execution_count": null,
   "id": "38be17e6",
   "metadata": {},
   "outputs": [],
   "source": [
    "def single_subset_feature_visualization(df_,  feature_, data_title):\n",
    "    \"\"\" Takes in an array of values and will output a histogram / boxplot / average\"\"\"\n",
    "    fig = make_subplots(\n",
    "        rows=3, cols=1, subplot_titles=(\"<b>Histogram<b>\", \"<b>Box plot<b>\", \"<b>Average {} for {}<b>\".format(feature_, data_title))\n",
    "    )\n",
    "\n",
    "    tmp_df = df_[~df_[feature_].isnull()]\n",
    "\n",
    "    values = tmp_df[feature_].values\n",
    "    # Average\n",
    "    average = values.mean()\n",
    "\n",
    "    # Add traces\n",
    "    fig.add_trace(go.Histogram(x=values, name='Histogram'), row=1, col=1)\n",
    "\n",
    "    xo = [data_title for x in range(0, len(values))]\n",
    "    fig.add_trace(go.Box(y=values, x=xo, name='Box plot'), row=2, col=1)\n",
    "    fig.add_trace(go.Bar(x=[data_title], y=[average], width=[\n",
    "                  0.3], name='Bar plot'),  row=3, col=1)\n",
    "\n",
    "    # Update xaxis properties\n",
    "    fig.update_xaxes(title_text=str(feature_), row=1, col=1)\n",
    "   # fig.update_xaxes(title_text=str(feature_), row=2, col=1)\n",
    "   # fig.update_xaxes(title_text=str(feature_), row=3, col=1)\n",
    "\n",
    "    # Update yaxis properties\n",
    "    fig.update_yaxes(title_text='Count', row=1, col=1)\n",
    "    fig.update_yaxes(title_text=str(feature_), row=2, col=1)\n",
    "    fig.update_yaxes(title_text=str(feature_), range=[0, 110], row=3, col=1)\n",
    "\n",
    "    # Update suplot title sizes\n",
    "    fig.update_annotations(font_size=20,)\n",
    "\n",
    "    # Update title and height\n",
    "    fig.update_layout(\n",
    "        title_text=\"<b>Distributions of {} for {}<b>\".format(feature_, data_title), height=750, width=1000,\n",
    "        uniformtext_minsize=8, uniformtext_mode='hide',\n",
    "        font=dict(\n",
    "            family=\"Courier New, monospace\",\n",
    "            size=16,\n",
    "        )\n",
    "    )\n",
    "\n",
    "    return fig.show()"
   ]
  },
  {
   "cell_type": "code",
   "execution_count": null,
   "id": "1b544d47",
   "metadata": {},
   "outputs": [],
   "source": [
    "def multiple_subset_feature_visualization(df_,  feature_1, feature_2):\n",
    "    \"\"\" Takes in an array of values and will output a histogram / boxplot / average\"\"\" \n",
    "    fig = make_subplots(\n",
    "        rows=3, cols=1, subplot_titles=(\"<b>Histogram<b>\", \"<b>Box plot<b>\", \"<b>Average {} for each {}<b>\".format(feature_2, feature_1))\n",
    "    )\n",
    "\n",
    "    # Assign tmp_df based on feature\n",
    "    if feature_1 == 'age':\n",
    "        tmp_df = df_[df_['age'] != '<NA>']\n",
    "    else:\n",
    "        tmp_df = df_[~df_[feature_1].isnull()]\n",
    "\n",
    "    categories = [d for d in tmp_df[feature_1].unique()]\n",
    "    categories.sort()\n",
    "\n",
    "    # Populate the graph\n",
    "    for category_ in categories:\n",
    "        subset_feature_2 = tmp_df[tmp_df[feature_1] == category_][feature_2].values\n",
    "        avg = tmp_df[tmp_df[feature_1] == category_][feature_2].mean()\n",
    "        # Add histogram\n",
    "        fig.add_trace(\n",
    "            go.Histogram(\n",
    "                x= subset_feature_2,\n",
    "                name = str(category_) + ' Histogram',\n",
    "                ),\n",
    "                \n",
    "                row=1, col=1\n",
    "                \n",
    "        )\n",
    "        # Add Boxplot\n",
    "        ## Need to create an array that is similar to the array used in subset_feature_2, to name the traces!\n",
    "        xo = [str(category_) for x in range(0, len(subset_feature_2))]\n",
    "        \n",
    "        fig.add_trace(\n",
    "            go.Box(\n",
    "                y= subset_feature_2, x = xo,\n",
    "                name = str(category_) + ' Box',\n",
    "                ),\n",
    "                \n",
    "                row=2, col=1\n",
    "                \n",
    "        )\n",
    "        # Add Bar\n",
    "       # count= len(subset_feature_2)\n",
    "\n",
    "\n",
    "       # print(subset_feature_2)\n",
    "        fig.add_trace(\n",
    "            go.Bar(\n",
    "                x= [str(category_)], y = [avg],\n",
    "                text = '<b>{}<b>'.format(avg), \n",
    "                textposition='outside',\n",
    "                name= str(category_) + ' Bar',\n",
    "                textfont=dict(\n",
    "                family='sans serif',\n",
    "                size=18,\n",
    "                color='#1f77b4'\n",
    "                )\n",
    "                \n",
    "            ), \n",
    "            row =3, col = 1\n",
    "                \n",
    "        )\n",
    "\n",
    "\n",
    "\n",
    "    \n",
    "   # tmp_df = df_[~df_[feature_].isnull()]\n",
    "    \n",
    "   # values = tmp_df[feature_2].values\n",
    "\n",
    "\n",
    "    # Update xaxis properties\n",
    "    fig.update_xaxes(title_text=str(feature_2), row=1, col=1)\n",
    "    fig.update_xaxes(title_text=str(feature_1), row=2, col=1)\n",
    "    fig.update_xaxes(title_text=str(feature_1), row=3, col=1)\n",
    "   \n",
    "\n",
    "    # Update yaxis properties\n",
    "    fig.update_yaxes(title_text='Count', row=1, col=1)\n",
    "    fig.update_yaxes(title_text=str(feature_2), row=2, col=1)\n",
    "    fig.update_yaxes(title_text=str(feature_2), range = [0, 125], row=3, col=1)\n",
    "    \n",
    "    # Update suplot title sizes\n",
    "    fig.update_annotations(font_size= 20,)\n",
    "\n",
    "\n",
    "    # Update title and height\n",
    "    fig.update_layout(\n",
    "        title_text= \"<b>Distributions of {} for each {}<b>\".format(feature_2, feature_1), height= 750, width = 1000,\n",
    "        uniformtext_minsize=8, uniformtext_mode='hide',  \n",
    "        font=dict(\n",
    "            family=\"Courier New, monospace\",\n",
    "            size=16,\n",
    "            )\n",
    "        \n",
    "        )\n",
    "            \n",
    "\n",
    "\n",
    "    return fig.show()"
   ]
  },
  {
   "cell_type": "code",
   "execution_count": null,
   "id": "bc7bb9c0",
   "metadata": {},
   "outputs": [],
   "source": [
    "def plot_bar(indices_, values_, yrange_, xaxis_title, yaxis_title, title_):\n",
    "    \"\"\"Given indices and values populate a bar graph \"\"\"\n",
    "\n",
    "    fig = go.Figure()\n",
    "    for idx, val in zip(indices_, values_):\n",
    "        ## Check for Frequency vs Count \n",
    "\n",
    "        fig.add_trace(\n",
    "            go.Bar(\n",
    "                x= [str(idx)], y = [val],\n",
    "                text = '<b>{}<b>'.format(val), \n",
    "                name= str(idx)\n",
    "            )\n",
    "                \n",
    "        )\n",
    "\n",
    "    # Update trace properties\n",
    "        \n",
    "    # Update axis properties\n",
    "    fig.update_yaxes(\n",
    "        title_text= yaxis_title, range = yrange_\n",
    "        )\n",
    "    \n",
    "    fig.update_xaxes(\n",
    "        title_text= xaxis_title\n",
    "        )\n",
    "\n",
    "    # Update trace properties\n",
    "    fig.update_traces(\n",
    "        textposition='outside',\n",
    "        textfont=dict(\n",
    "            family='sans serif',\n",
    "            size=16,\n",
    "            color='#1f77b4'\n",
    "            )\n",
    "            )\n",
    "            \n",
    "    # Update layout of plot\n",
    "    fig.update_layout(\n",
    "        title = title_, height= 750, width = 1000,\n",
    "        uniformtext_minsize=8, uniformtext_mode='hide',  \n",
    "        font=dict(\n",
    "            family=\"Courier New, monospace\",\n",
    "            size=16,\n",
    "            )\n",
    "            )\n",
    "\n",
    "    return fig.show()"
   ]
  },
  {
   "cell_type": "code",
   "execution_count": null,
   "id": "96c89fc6",
   "metadata": {},
   "outputs": [],
   "source": [
    "def plot_box(indices_, values_, yrange_, xaxis_title, yaxis_title, title_):\n",
    "    \"\"\"Given indices and values populate a bar graph \"\"\"\n",
    "\n",
    "\n",
    "    fig = go.Figure()\n",
    "    for trace_, name_ in zip(values_, indices_):\n",
    "        fig.add_trace(go.Box(y = trace_, name = name_))\n",
    "\n",
    "    # Update trace properties\n",
    "        \n",
    "    # Update axis properties\n",
    "    fig.update_yaxes(\n",
    "        title_text= yaxis_title, range = yrange_\n",
    "        )\n",
    "    \n",
    "    fig.update_xaxes(\n",
    "        title_text= xaxis_title\n",
    "        )\n",
    "\n",
    "    # Update trace properties\n",
    "\n",
    "            \n",
    "    # Update layout of plot\n",
    "    fig.update_layout(\n",
    "        title = title_, height= 750, width = 1000,\n",
    "        uniformtext_minsize=8, uniformtext_mode='hide',  \n",
    "        font=dict(\n",
    "            family=\"Courier New, monospace\",\n",
    "            size=16,\n",
    "            )\n",
    "            )\n",
    "\n",
    "    return fig.show()"
   ]
  },
  {
   "cell_type": "code",
   "execution_count": null,
   "id": "ee16b524",
   "metadata": {},
   "outputs": [],
   "source": [
    "def plot_scatter(indices_, values_, yrange_, xaxis_title, yaxis_title, title_):\n",
    "    \"\"\"Given indices and values populate a bar graph \"\"\"\n",
    "\n",
    "    fig = go.Figure()\n",
    "\n",
    "    fig.add_trace(go.Scatter(x=indices, y=values_, mode='lines', name='Line', marker=dict(color=\"rgba(135, 206, 250, 0.5)\")\n",
    "\n",
    "                             )\n",
    "                  )\n",
    "\n",
    "    for idx, val in zip(indices_, values_):\n",
    "        # Check for Frequency vs Count\n",
    "\n",
    "        fig.add_trace(\n",
    "            go.Scatter(\n",
    "                x=[str(idx)], y=[val],\n",
    "                text='<b>{}<b>'.format(val),\n",
    "                name=str(idx),\n",
    "                marker=dict(size=12,\n",
    "\n",
    "                            ),\n",
    "                mode='lines+markers+text'\n",
    "\n",
    "            )\n",
    "        )\n",
    "\n",
    "    # Update trace properties\n",
    "\n",
    "    # Update axis properties\n",
    "    fig.update_yaxes(\n",
    "        title_text=yaxis_title, range=yrange_\n",
    "    )\n",
    "\n",
    "    fig.update_xaxes(\n",
    "        title_text=xaxis_title\n",
    "    )\n",
    "\n",
    "    # Update trace properties\n",
    "    fig.update_traces(\n",
    "        textposition='bottom center',\n",
    "        textfont=dict(\n",
    "            family='sans serif',\n",
    "            size=12,\n",
    "            color='#1f77b4'\n",
    "        )\n",
    "    )\n",
    "\n",
    "    # Update layout of plot\n",
    "    fig.update_layout(\n",
    "        title=title_, height=750, width=1000,\n",
    "        uniformtext_minsize=8, uniformtext_mode='hide',\n",
    "        font=dict(\n",
    "            family=\"Courier New, monospace\",\n",
    "            size=16,\n",
    "        )\n",
    "    )\n",
    "\n",
    "    return fig.show()"
   ]
  },
  {
   "cell_type": "code",
   "execution_count": null,
   "id": "3d294517",
   "metadata": {},
   "outputs": [],
   "source": [
    "def activity_scatter(dict_,  yrange_, xaxis_title, yaxis_title, title_):\n",
    "    \"\"\"Given indices and values populate a bar graph \"\"\"\n",
    "\n",
    "    fig = go.Figure()\n",
    "\n",
    "   # fig.add_trace(go.Scatter( x = indices, y = values_, mode = 'lines', name = 'Line', marker = dict(color = \"rgba(135, 206, 250, 0.5)\" )\n",
    "\n",
    "   # )\n",
    "  #  )\n",
    "\n",
    "    for topic in dict_.keys():\n",
    "        # What does the daily user activity look like?\n",
    "        indices = [x for x in dict_[topic].keys()]\n",
    "        values = [x for x in dict_[topic].values()]\n",
    "\n",
    "\n",
    "        # Add traces\n",
    "        fig.add_trace(\n",
    "            go.Scatter(\n",
    "                x= indices, y = values, name = topic,\n",
    "                #text = '<b>{}<b>'.format(values), \n",
    "                #name= str(indices), \n",
    "                marker=dict(size = 12, \n",
    "                \n",
    "            ),\n",
    "            mode='lines+markers+text'\n",
    "                \n",
    "        )\n",
    "        )\n",
    "\n",
    "\n",
    "\n",
    "\n",
    "        \n",
    "    # Update axis properties\n",
    "    fig.update_yaxes(\n",
    "        title_text= yaxis_title, range = yrange_\n",
    "        )\n",
    "    \n",
    "    fig.update_xaxes(\n",
    "        title_text= xaxis_title\n",
    "        )\n",
    "    \n",
    "    # Update trace properties\n",
    "    fig.update_traces(\n",
    "        textposition='bottom center',\n",
    "        textfont=dict(\n",
    "            family='sans serif',\n",
    "            size=12,\n",
    "            color='#1f77b4'\n",
    "            )\n",
    "            )\n",
    "       \n",
    "    # Update layout of plot\n",
    "    fig.update_layout(\n",
    "        title = title_, height= 750, width = 1000,\n",
    "        uniformtext_minsize=8, uniformtext_mode='hide',  \n",
    "        font=dict(\n",
    "            family=\"Courier New, monospace\",\n",
    "            size=16,\n",
    "            )\n",
    "            )\n",
    "\n",
    "    return fig.show()"
   ]
  },
  {
   "cell_type": "markdown",
   "id": "f6c3e3d0",
   "metadata": {},
   "source": [
    "## Article Functions"
   ]
  },
  {
   "cell_type": "code",
   "execution_count": null,
   "id": "011b8a0d",
   "metadata": {},
   "outputs": [],
   "source": [
    "def article_id_read_scroll(dict_, res):\n",
    "    \"\"\" \n",
    "    Populates the dict if that article is present in another dict!\n",
    "    Keyword arguments:\n",
    "        dict_--  dict: to map articles to scroll/read\n",
    "        res -- dict: to map unique articles to scroll/read\n",
    "    Output: None\n",
    "    \"\"\"\n",
    "    # Iterate through each pair of key and value\n",
    "    for k, v in zip(dict_.keys(), dict_.values()):\n",
    "        # Find if the key matches up to another dict and is not false\n",
    "        if (k in res.keys()) & (np.isnan(v) == False):\n",
    "            # Add that resulting value to our resulting dict\n",
    "            tmp_array = np.append(res[k], v)\n",
    "            res[k] = tmp_array"
   ]
  },
  {
   "cell_type": "markdown",
   "id": "783ff55f",
   "metadata": {},
   "source": [
    "## Topic Functions"
   ]
  },
  {
   "cell_type": "code",
   "execution_count": null,
   "id": "a6ec4184",
   "metadata": {},
   "outputs": [],
   "source": [
    "def unique_subset_topics(df_):\n",
    "    \"\"\" \n",
    "    Returns a list of unique topics in the dataframe\n",
    "    Keyword arguments:\n",
    "        df--  dataframe object\n",
    "    Output: res -- list of strs\n",
    "    \"\"\"\n",
    "    # Create our result list\n",
    "    res = []\n",
    "    # Iterate through each index of topic and append unique topics\n",
    "    for index in df_['topics']:\n",
    "        for topic_ in index:\n",
    "            if topic_ not in res:\n",
    "                res.append(topic_)\n",
    "    return res"
   ]
  },
  {
   "cell_type": "code",
   "execution_count": null,
   "id": "9abfcd6f",
   "metadata": {},
   "outputs": [],
   "source": [
    "def topics_article_id_scroll_read (dict_, res):\n",
    "     \"\"\" \n",
    "    Populates the dict if that article is present in another dict!\n",
    "    Keyword arguments:\n",
    "        dict_--  dict: to map articles to scroll/read\n",
    "        res -- dict: to map unique articles to scroll/read\n",
    "    Output: None\n",
    "    \"\"\"\n",
    "    # Iterate through each pair of key and value\n",
    "    for k,v in zip(dict_.keys(), dict_.values()):\n",
    "        # If the key matches append that value\n",
    "        if (k in res.keys()):\n",
    "            tmp_array= np.append(res[k],v)\n",
    "            res[k] = tmp_array\n",
    "        # If the key is not present make an empty list for that key\n",
    "        if (k not in res.keys()):\n",
    "            res[k] = []\n",
    "    return res"
   ]
  },
  {
   "cell_type": "code",
   "execution_count": null,
   "id": "b9544ac1",
   "metadata": {},
   "outputs": [],
   "source": [
    "def assign_plot_col(dict_col_, list_category):\n",
    "    \"\"\" \n",
    "    Assigns a col number for the subplot given a key\n",
    "    Keyword arguments:\n",
    "        dict_col --  dict: to map category to col_num \n",
    "        list_category -- list: \n",
    "    Output: None\n",
    "    \"\"\"\n",
    "    # Iterate thrugh the list of categories and assign a row number\n",
    "    for num, category_ in zip(range(0, len(list_category)), list_category):\n",
    "        # Even\n",
    "        if num % 2 == 0:\n",
    "            dict_col_[category_] = 1\n",
    "        # Odd\n",
    "        else:\n",
    "            dict_col_[category_] = 2"
   ]
  },
  {
   "cell_type": "code",
   "execution_count": null,
   "id": "e3805674",
   "metadata": {},
   "outputs": [],
   "source": [
    "def assign_plot_row(dict_row_, list_category):\n",
    "    \"\"\" \n",
    "    Assigns a row number for the subplot given a key\n",
    "    Keyword arguments:\n",
    "        dict_row --  dict: to map category to row_num \n",
    "        list_category -- list: \n",
    "    Output: None\n",
    "    \"\"\"\n",
    "    # Iterate through a loop and assign the row number of a category\n",
    "    # Instantiate counter and initial row number\n",
    "    counter = 0\n",
    "    row_num = 1\n",
    "    # Iterate through the loop. Expected behavior row_nums = [11 22 33 44 etc]\n",
    "    while counter < len(list_category):\n",
    "        num_ = 0\n",
    "        while (num_ < 2) & (counter < len(list_category)):\n",
    "            category_ = list_category[counter]\n",
    "            dict_row_[category_] = row_num\n",
    "            num_ += 1\n",
    "            counter += 1\n",
    "        row_num += 1"
   ]
  },
  {
   "cell_type": "code",
   "execution_count": null,
   "id": "efcc2d3a",
   "metadata": {},
   "outputs": [],
   "source": [
    "    def row_num(dict_, key) -> None:\n",
    "        \"\"\" \n",
    "        Returns the row number of a given category\n",
    "        Keyword arguments:\n",
    "            dict_ -- row dict to map category to row_num\n",
    "            key -- dict.keys\n",
    "        Output: None\n",
    "        \"\"\"\n",
    "        return dict_[key]\n",
    "    \n",
    "    def col_num(dict_, key) -> None:\n",
    "        \"\"\" \n",
    "        Returns the col number of a given category\n",
    "        Keyword arguments:\n",
    "            dict_ -- col dict to map category to col_num\n",
    "            key -- dict.keys\n",
    "        Output: None\n",
    "        \"\"\"\n",
    "        return dict_[key]"
   ]
  },
  {
   "cell_type": "code",
   "execution_count": null,
   "id": "52db7c99",
   "metadata": {},
   "outputs": [],
   "source": [
    "def topic_feature_bar_distribution(\n",
    "    df_, feature_,\n",
    "    topic_list_, yrange,\n",
    "    subplot_titles_, xaxis_title,\n",
    "    yaxis_title, title_,\n",
    "    height_, width_\n",
    ") -> 'Graph':\n",
    "    \"\"\" \n",
    "    Plot of topic distribution in respect to which feature of the dataframe was given.\n",
    "    Keyword arguments:\n",
    "        df_ -- dataframe object\n",
    "        feature_ -- str \n",
    "        topic_list -- list of strs: ['Blah', 'Blah']\n",
    "        yrange -- list of ints: [0, 5]\n",
    "        subplot_titles -- list of strs: ['Blah', 'Blah']\n",
    "        xaxis_title -- str\n",
    "        yaxis_title -- str\n",
    "        title_ -- str\n",
    "        height_ -- int\n",
    "        width_ -- int\n",
    "    Output: Plotly graph object!\n",
    "    \"\"\"\n",
    "    # Assign tmp_df based on feature\n",
    "    # Age feature is a string and the Null values contain <NA>\n",
    "    if feature_ == 'age':\n",
    "        tmp_df = df_[df_['age'] != '<NA>']\n",
    "    else:\n",
    "        tmp_df = df_[~df_[feature_].isnull()]\n",
    "\n",
    "    # List of categories sorted in order\n",
    "    categories = [d for d in tmp_df[feature_].unique()]\n",
    "    categories.sort()\n",
    "\n",
    "    # Make subplots need to figure out number of columns and rows:\n",
    "    # Instantiate dicts\n",
    "    dict_col = {}\n",
    "    dict_row = {}\n",
    "    # Populate our column and row dicts\n",
    "    assign_plot_col(dict_col_=dict_col, list_category=categories)\n",
    "    assign_plot_row(dict_row_=dict_row, list_category=categories)\n",
    "    # Number of total rows\n",
    "    rows_ = -(-len(categories) // 2)\n",
    "\n",
    "    # Make subplots object\n",
    "    fig = make_subplots(\n",
    "        rows=rows_, cols=2,\n",
    "        subplot_titles=subplot_titles_, shared_yaxes=True,\n",
    "        x_title=xaxis_title, y_title=yaxis_title,\n",
    "        vertical_spacing=0.2\n",
    "    )\n",
    "\n",
    "    # Iterate through each category and assign the correct subplot!\n",
    "    for idx, category_ in enumerate(categories):\n",
    "        # Find the subset of the data with that device\n",
    "        subset_df = tmp_df[tmp_df[feature_] == category_]\n",
    "        # Create a dict object with 0 counts for all topics\n",
    "        tmp_dict = {k: 0 for k in topic_list_}\n",
    "        for i in subset_df.index:\n",
    "            for j in range(0, len(subset_df['topics'][i])):\n",
    "                # Find that index\n",
    "                tmp_topic = subset_df['topics'][i][j]\n",
    "                # Enumerate\n",
    "                tmp_dict[tmp_topic] += 1\n",
    "        # Sort the dictionary\n",
    "        tmp_dict = dict(\n",
    "            sorted(tmp_dict.items(), key=lambda kv: kv[1], reverse=True))\n",
    "        # Create our indices and values objects to insert into our plot\n",
    "        indices = [x for x in tmp_dict.keys()][0:5]\n",
    "        values = [y for y in tmp_dict.values()][0:5]\n",
    "        # Add our trace object\n",
    "        fig.add_trace(\n",
    "            go.Bar(\n",
    "                x=indices, y=values,\n",
    "                name=str(category_)\n",
    "            ),\n",
    "            row=col_num(dict_=dict_row, key=category_),\n",
    "            col=col_num(dict_=dict_col, key=category_)\n",
    "        )\n",
    "\n",
    "    # Update axis properties\n",
    "    # yaxes\n",
    "    fig.update_yaxes(\n",
    "        range=yrange, type=\"log\",\n",
    "    )\n",
    "    # xaxes\n",
    "    fig.update_xaxes(tickfont=dict(\n",
    "        size=10,\n",
    "    )\n",
    "    )\n",
    "\n",
    "    # Update layout of plot\n",
    "    fig.update_layout(\n",
    "        title=title_, height=height_,\n",
    "        width=width_, font=dict(\n",
    "            family=\"Courier New, monospace\",\n",
    "            size=14,\n",
    "        ),\n",
    "        margin=dict(\n",
    "            l=100, r=50,\n",
    "            t=100, b=50,\n",
    "            pad=0)\n",
    "    )\n",
    "\n",
    "    return fig.show()"
   ]
  },
  {
   "cell_type": "markdown",
   "id": "78bd1384",
   "metadata": {},
   "source": [
    "## Activity Functions"
   ]
  },
  {
   "cell_type": "code",
   "execution_count": null,
   "id": "4998f81a",
   "metadata": {},
   "outputs": [],
   "source": [
    "def daily_hourly_activity_feature_bar_distribution(\n",
    "    df_, feature_,\n",
    "    yrange, subplot_titles_,\n",
    "    title_,\n",
    "    height_, width_\n",
    ") -> 'Graph':\n",
    "    \"\"\" \n",
    "    Plot of daily/hourly distribution in respect to which feature of the dataframe was given.\n",
    "    Keyword arguments:\n",
    "        df_ -- dataframe object\n",
    "        feature_ -- str \n",
    "        yrange -- list of ints: [0, 5]\n",
    "        subplot_titles -- list of strs: ['Blah', 'Blah']\n",
    "        title_ -- str\n",
    "        height_ -- int\n",
    "        width_ -- int\n",
    "    Output: Plotly graph object!\n",
    "    \"\"\"\n",
    "    # Assign tmp_df based on feature\n",
    "    # Age feature is a string and the Null values contain <NA>\n",
    "    if feature_ == 'age':\n",
    "        tmp_df = df_[df_['age'] != '<NA>']\n",
    "    else:\n",
    "        tmp_df = df_[~df_[feature_].isnull()]\n",
    "\n",
    "    # List of categories sorted in order\n",
    "    categories = [d for d in tmp_df[feature_].unique()]\n",
    "    categories.sort()\n",
    "\n",
    "    # Make subplots object\n",
    "    fig = make_subplots(\n",
    "        rows=2, cols=1,\n",
    "        subplot_titles=subplot_titles_,\n",
    "        y_title='Count',\n",
    "        vertical_spacing=0.2\n",
    "    )\n",
    "    # Iterate through each category and assign the correct subplot!\n",
    "    for idx, category_ in enumerate(categories):\n",
    "        # Find the subset of the data with that device\n",
    "        subset_df = tmp_df[tmp_df[feature_] == category_]\n",
    "\n",
    "        # Create a dict object with 0 counts for all topics\n",
    "        subset_daily_activity = {}\n",
    "        subset_hourly_activity = {}\n",
    "        for i in subset_df.index:\n",
    "            # Get the date and time from that timestamp\n",
    "            tmp_timestamp = subset_df['impression_time'][i]\n",
    "            tmp_datetime = tmp_timestamp\n",
    "            tmp_date = tmp_datetime.date()\n",
    "            tmp_time = tmp_datetime.time()\n",
    "            tmp_hour = tmp_time.hour\n",
    "\n",
    "            # Daily Activity\n",
    "            if tmp_date not in subset_daily_activity:\n",
    "                subset_daily_activity[tmp_date] = 0\n",
    "            else:\n",
    "                subset_daily_activity[tmp_date] += 1\n",
    "\n",
    "            # Convert hour into a string\n",
    "            if tmp_hour > 9:\n",
    "                tmp_time = str(tmp_hour) + ':00'\n",
    "            else:\n",
    "                tmp_time = \"0\" + str(tmp_hour) + ':00'\n",
    "\n",
    "            # Hourly Activity\n",
    "            if tmp_time not in subset_hourly_activity:\n",
    "                subset_hourly_activity[tmp_time] = 0\n",
    "            else:\n",
    "                subset_hourly_activity[tmp_time] += 1\n",
    "\n",
    "        # Sort by dates\n",
    "        subset_daily_activity = dict(sorted(subset_daily_activity.items()))\n",
    "\n",
    "        # Daily Activity Plot\n",
    "        indices = [x for x in subset_daily_activity.keys()]\n",
    "        values = [y for y in subset_daily_activity.values()]\n",
    "\n",
    "        fig.add_trace(\n",
    "            go.Scatter(\n",
    "                x=indices, y=values,\n",
    "                name='Daily ' + str(category_), mode='lines+markers+text',\n",
    "            ),\n",
    "            row=1, col=1\n",
    "        )\n",
    "\n",
    "        # Hourly Activity\n",
    "        subset_hourly_activity = dict(sorted(subset_hourly_activity.items()))\n",
    "        indices = [x for x in subset_hourly_activity.keys()]\n",
    "        values = [y for y in subset_hourly_activity.values()]\n",
    "\n",
    "        fig.add_trace(\n",
    "            go.Scatter(\n",
    "                x=indices, y=values,\n",
    "                name='Hourly ' + str(category_), mode='lines+markers+text',\n",
    "            ),\n",
    "            row=2, col=1\n",
    "        )\n",
    "\n",
    "    # Update axis properties\n",
    "    # yaxes\n",
    "    fig.update_yaxes(type='log',\n",
    "                     range=yrange,\n",
    "                     )\n",
    "    # xaxes\n",
    "    fig.update_xaxes(tickfont=dict(\n",
    "        size=14,\n",
    "    )\n",
    "    )\n",
    "\n",
    "    fig.update_xaxes(title_text=\"<b>Date<b>\", row=1, col=1)\n",
    "    fig.update_xaxes(title_text=\"<b>Hour<b>\", row=2, col=1)\n",
    "    # Update layout of plot\n",
    "    fig.update_layout(\n",
    "        title=title_, height=height_,\n",
    "        width=width_, font=dict(\n",
    "            family=\"Courier New, monospace\",\n",
    "            size=14,\n",
    "        ),\n",
    "        margin=dict(\n",
    "            l=100, r=50,\n",
    "            t=100, b=50,\n",
    "            pad=0)\n",
    "    )\n",
    "\n",
    "    return fig.show()"
   ]
  },
  {
   "cell_type": "markdown",
   "id": "043b676b",
   "metadata": {},
   "source": [
    "## Overall Feature Analysis"
   ]
  },
  {
   "cell_type": "markdown",
   "id": "c6d72253",
   "metadata": {},
   "source": [
    "### Number of Impressions"
   ]
  },
  {
   "cell_type": "code",
   "execution_count": null,
   "id": "5c533c41",
   "metadata": {},
   "outputs": [],
   "source": [
    "# Number of Impressions\n",
    "single_subset_bar(df_ = df, feature_ = 'impression_id', xaxis_title = 'Number of Impressions', yrange = [0, 80000])"
   ]
  },
  {
   "cell_type": "markdown",
   "id": "9ce973c6",
   "metadata": {},
   "source": [
    "### Distribution of Readtimes"
   ]
  },
  {
   "cell_type": "code",
   "execution_count": null,
   "id": "6ce66858",
   "metadata": {},
   "outputs": [],
   "source": [
    "single_subset_feature_visualization(df_ = df, feature_ = 'read_time')"
   ]
  },
  {
   "cell_type": "markdown",
   "id": "c99341fb",
   "metadata": {},
   "source": [
    "### Distribution of Scroll Percentages"
   ]
  },
  {
   "cell_type": "code",
   "execution_count": null,
   "id": "94105522",
   "metadata": {},
   "outputs": [],
   "source": [
    "single_subset_feature_visualization(df_ = df, feature_ = 'scroll_percentage')"
   ]
  },
  {
   "cell_type": "markdown",
   "id": "d15e913a",
   "metadata": {},
   "source": [
    "## Article"
   ]
  },
  {
   "cell_type": "markdown",
   "id": "ba23a4e1",
   "metadata": {},
   "source": [
    "### Number of Articles"
   ]
  },
  {
   "cell_type": "code",
   "execution_count": null,
   "id": "9fb64116",
   "metadata": {},
   "outputs": [],
   "source": [
    "# Total Number of Articles\n",
    "single_subset_bar(df_ = df, feature_ = 'article_id', xaxis_title = 'Number of Articles', yrange = [0, 2000])"
   ]
  },
  {
   "cell_type": "markdown",
   "id": "964b6ce1",
   "metadata": {},
   "source": [
    "### Number of articles clicked in a session"
   ]
  },
  {
   "cell_type": "code",
   "execution_count": null,
   "id": "993ca0b1",
   "metadata": {},
   "outputs": [],
   "source": [
    "# How many unique articles are clicked in a session?\n",
    "## Group by sessions and get the article ids\n",
    "tmp_aps = df.groupby('session_id')['article_id'].apply(list)\n",
    "## Create a dict to store the count of articles per session\n",
    "articles_per_session = {k: 0 for k in range(1, 20)}\n",
    "\n",
    "## Iterate through our list previously, and record the number of articles in a session to our res dict\n",
    "for i in tmp_aps:\n",
    "    num_articles = len(i)\n",
    "    articles_per_session[num_articles] += 1\n",
    "\n",
    "## Set as our indices / values for plot\n",
    "indices = [k for k in articles_per_session.keys()]\n",
    "values = [k for k in articles_per_session.values()]\n",
    "## Plot\n",
    "plot_bar(\n",
    "    indices_=indices, values_=values,\n",
    "    yrange_=[0, 22000], xaxis_title='Number of Articles ',\n",
    "    yaxis_title='Count', title_='<b> Number of Articles clicked in a session<b>')"
   ]
  },
  {
   "cell_type": "markdown",
   "id": "ed2f9c3a",
   "metadata": {},
   "source": [
    "### Read Time and Scroll Percentages"
   ]
  },
  {
   "cell_type": "code",
   "execution_count": null,
   "id": "0921dc37",
   "metadata": {},
   "outputs": [],
   "source": [
    "# Get the average readtime and scroll percentages for all articles!\n",
    "\n",
    "# Unique User Ids\n",
    "unique_user_ids = df['user_id'].values[0:1000]\n",
    "# We take the set because the scroll, article per user is joined in a list for every user id (so just take the set of it!)\n",
    "unique_user_ids = set(unique_user_ids)\n",
    "# Unique Article Ids\n",
    "unique_article_ids = df['article_id'].unique()\n",
    "unique_article_ids = unique_article_ids[~np.isnan(unique_article_ids)]\n",
    "# Create dictionaries\n",
    "unique_article_read = {k: [0] for k in unique_article_ids}\n",
    "unique_article_read_avg = {k: [0] for k in unique_article_ids}\n",
    "unique_article_scroll = {k: [0] for k in unique_article_ids}\n",
    "unique_article_scroll_avg = {k: [0] for k in unique_article_ids}\n",
    "\n",
    "# Iterate across each user id\n",
    "for id in unique_user_ids:\n",
    "    # Get the subset of that user id\n",
    "    tmp_df = df[df['user_id'] == id]\n",
    "    # Now lets go through each scroll and article\n",
    "    indices = np.array(tmp_df.index)\n",
    "    for i in indices:\n",
    "        tmp_dict = {}\n",
    "        # Select the scroll / article of that indice and\n",
    "        tmp_read = tmp_df['read_time_fixed'][i]\n",
    "        tmp_article = tmp_df['article_id_fixed'][i]\n",
    "        tmp_scroll = tmp_df['scroll_percentage_fixed'][i]\n",
    "        # Create list objects for article, read, scroll\n",
    "        read = [x for x in tmp_read]\n",
    "        scroll = [x for x in tmp_scroll]\n",
    "        articles = [np.int64(x) for x in tmp_article]\n",
    "        # Populate our unique_article_read dictionary based on the results found in our previous list objects\n",
    "        tmp_articles_read = {k: v for k, v in zip(articles, read)}\n",
    "        article_id_read_scroll(tmp_articles_read, unique_article_read)\n",
    "        # Populate our unique_article_scroll dictionary based on the results found in our previous list objects\n",
    "        tmp_articles_scroll = {k: v for k, v in zip(articles, scroll)}\n",
    "        article_id_read_scroll(tmp_articles_scroll, unique_article_scroll)\n",
    "\n",
    "# Get the average scroll percentage and read times for each article\n",
    "for k, v in zip(unique_article_read.keys(), unique_article_read.values()):\n",
    "    unique_article_read_avg[k] = np.mean(v)\n",
    "for k, v in zip(unique_article_scroll.keys(), unique_article_scroll.values()):\n",
    "    unique_article_scroll_avg[k] = np.mean(v)"
   ]
  },
  {
   "cell_type": "markdown",
   "id": "2d48fb8b",
   "metadata": {},
   "source": [
    "#### Read Time"
   ]
  },
  {
   "cell_type": "code",
   "execution_count": null,
   "id": "993bfafd",
   "metadata": {},
   "outputs": [],
   "source": [
    "# Distribution of Read Times for each Article\n",
    "## Indices / Values\n",
    "indices = ['All Unique Articles']\n",
    "values = [x for x in unique_article_read_avg.values()]\n",
    "## Plot\n",
    "plot_box(\n",
    "    indices_=indices, values_=[values],\n",
    "    yrange_=[-5, 1100], xaxis_title='Topics',\n",
    "    yaxis_title='Read Time', title_='<b> Distributions of Read Times Across Each Topic<b>')"
   ]
  },
  {
   "cell_type": "markdown",
   "id": "64daaf77",
   "metadata": {},
   "source": [
    "#### Scroll Percentage"
   ]
  },
  {
   "cell_type": "code",
   "execution_count": null,
   "id": "d348e22f",
   "metadata": {},
   "outputs": [],
   "source": [
    "# Distribution of Scroll Percentages for each Article\n",
    "## Indices / Values\n",
    "indices = ['All Unique Articles']\n",
    "values = [x for x in unique_article_scroll_avg.values()]\n",
    "## Plot\n",
    "plot_box(\n",
    "    indices_=indices, values_=[values],\n",
    "    yrange_=[-5, 105], xaxis_title='Topics',\n",
    "    yaxis_title='Scroll Percentage', title_='<b> Distributions of Scroll Percentage Across All Articles!<b>')"
   ]
  },
  {
   "cell_type": "code",
   "execution_count": null,
   "id": "b21296ad",
   "metadata": {},
   "outputs": [],
   "source": [
    "# How many unique articles are clicked in a session?\n",
    "## Group by sessions and get the article ids\n",
    "tmp_aps = df.groupby('session_id')['article_id'].apply(list)\n",
    "## Create a dict to store the count of articles per session\n",
    "articles_per_session = {k: 0 for k in range(1, 20)}\n",
    "\n",
    "## Iterate through our list previously, and record the number of articles in a session to our res dict\n",
    "for i in tmp_aps:\n",
    "    num_articles = len(i)\n",
    "    articles_per_session[num_articles] += 1\n",
    "\n",
    "## Set as our indices / values for plot\n",
    "indices = [k for k in articles_per_session.keys()]\n",
    "values = [k for k in articles_per_session.values()]\n",
    "## Plot\n",
    "plot_bar(\n",
    "    indices_=indices, values_=values,\n",
    "    yrange_=[0, 22000], xaxis_title='Number of Articles ',\n",
    "    yaxis_title='Count', title_='<b> Number of Articles clicked in a session<b>')"
   ]
  },
  {
   "cell_type": "markdown",
   "id": "5668d320",
   "metadata": {},
   "source": [
    "## Users"
   ]
  },
  {
   "cell_type": "markdown",
   "id": "a7d88858",
   "metadata": {},
   "source": [
    "### Number of Users\n"
   ]
  },
  {
   "cell_type": "code",
   "execution_count": null,
   "id": "04ebff53",
   "metadata": {},
   "outputs": [],
   "source": [
    "single_subset_bar(df_ = df, feature_ = 'user_id', xaxis_title = 'Number of Users', yrange = [0, 11000])"
   ]
  },
  {
   "cell_type": "markdown",
   "id": "361ef1f1",
   "metadata": {},
   "source": [
    "### Daily User growth"
   ]
  },
  {
   "cell_type": "code",
   "execution_count": null,
   "id": "d61b4f2f",
   "metadata": {},
   "outputs": [],
   "source": [
    "unique_user_ids = df['user_id'].unique()\n",
    "\n",
    "# Create dictionaries\n",
    "unique_users_daily_growth_freq= {}\n",
    "unique_users_hourly_freq = {}\n",
    "unique_users_dayofweek_freq = {}\n",
    "unique_users_weekly_freq = {}\n",
    "\n",
    "for id in unique_user_ids:\n",
    "    # Get the subset of that user id\n",
    "    tmp_df = df[df['user_id'] == id]\n",
    "    first_index = tmp_df['impression_time_fixed'].index[0]\n",
    "    tmp_datetime = pd.DatetimeIndex(tmp_df['impression_time_fixed'][first_index])\n",
    "    tmp_date = tmp_datetime[0].date()\n",
    "    join_date = tmp_date.strftime('%m/%d/%Y')\n",
    "    #join_date = join_date.strftime('%m/%d/%Y')\n",
    "    \n",
    "    if join_date not in unique_users_daily_growth_freq:\n",
    "        unique_users_daily_growth_freq[join_date] = 1\n",
    "    else:\n",
    "        unique_users_daily_growth_freq[join_date] +=1\n",
    "    \n",
    "unique_users_daily_growth_freq = dict(sorted(unique_users_daily_growth_freq.items()))"
   ]
  },
  {
   "cell_type": "code",
   "execution_count": null,
   "id": "f2bafa25",
   "metadata": {},
   "outputs": [],
   "source": [
    "indices = [x for x in unique_users_daily_growth_freq.keys()]\n",
    "values = [x for x in unique_users_daily_growth_freq.values()]\n",
    "\n",
    "fig = go.Figure()\n",
    "\n",
    "\n",
    "# Add traces\n",
    "fig.add_trace(go.Bar(x = indices, y = values,\n",
    "                         \n",
    "                         )\n",
    "\n",
    ")\n",
    "\n",
    "fig.update_traces(texttemplate='%{text:.2s}', textposition='outside')\n",
    "fig.update_layout(uniformtext_minsize=8, uniformtext_mode='hide')\n",
    "\n",
    "fig.show()"
   ]
  },
  {
   "cell_type": "markdown",
   "id": "0bf6f358",
   "metadata": {},
   "source": [
    "### Average readtime per user"
   ]
  },
  {
   "cell_type": "code",
   "execution_count": null,
   "id": "fc8a48f2",
   "metadata": {},
   "outputs": [],
   "source": [
    "## Average readtime per user\n",
    "\n",
    "tmp_user_df = pd.DataFrame(data = df.groupby(by =  'user_id')['read_time'].mean(), columns = ['read_time'])\n",
    "single_subset_feature_visualization(df_ = tmp_user_df,  feature_ = 'read_time', data_title = 'Unique Users')\n",
    "\n"
   ]
  },
  {
   "cell_type": "markdown",
   "id": "e4424d9e",
   "metadata": {},
   "source": [
    "### Average scroll percentage per user"
   ]
  },
  {
   "cell_type": "code",
   "execution_count": null,
   "id": "53bab00e",
   "metadata": {},
   "outputs": [],
   "source": [
    "## Average readtime per user\n",
    "\n",
    "tmp_user_df = pd.DataFrame(data = df.groupby(by =  'user_id')['scroll_percentage'].mean(), columns = ['scroll_percentage'])\n",
    "single_subset_feature_visualization(df_ = tmp_user_df,  feature_ = 'scroll_percentage', data_title = 'Unique Users')"
   ]
  },
  {
   "cell_type": "markdown",
   "id": "2ec7344e",
   "metadata": {},
   "source": [
    "### User Activity"
   ]
  },
  {
   "cell_type": "code",
   "execution_count": null,
   "id": "4983a754",
   "metadata": {},
   "outputs": [],
   "source": [
    "def populate_dict(list_, dict_):\n",
    "    \n",
    "    for idx in list_:\n",
    "        if idx not in dict_:\n",
    "            dict_[idx] = 1\n",
    "        else:\n",
    "            dict_[idx] += 1"
   ]
  },
  {
   "cell_type": "code",
   "execution_count": null,
   "id": "fd943554",
   "metadata": {},
   "outputs": [],
   "source": [
    "def weekly_map(list_):\n",
    "    weeks = [17, 18, 19, 20, 21, 22, 23, 24, 25, 26, 27]\n",
    "    placeholder = [i for i in range(1, 9)]\n",
    "    dict_ = {k:v for k,v in zip(weeks, placeholder)}\n",
    "    res = []\n",
    "\n",
    "    for idx in list_:\n",
    "        res.append('Week '+ str(dict_[idx]))\n",
    "    \n",
    "    return res\n"
   ]
  },
  {
   "cell_type": "code",
   "execution_count": null,
   "id": "cdc4d7d9",
   "metadata": {},
   "outputs": [],
   "source": [
    "def int_dow_dict(dict_):\n",
    "\n",
    "    str_dow = ['Monday', 'Tuesday', 'Wednesday' , 'Thursday', 'Friday', 'Saturday', 'Sunday']\n",
    "    int_dow = [i for i in range(7)]\n",
    "    dow_dict = {k:v for k,v in zip(int_dow, str_dow)}\n",
    "\n",
    "    res = {}\n",
    "\n",
    "    for keys in dict_.keys():\n",
    "        res[dow_dict[keys]] = dict_[keys]\n",
    "\n",
    "\n",
    "    \n",
    "    return res"
   ]
  },
  {
   "cell_type": "code",
   "execution_count": null,
   "id": "a0f2c916",
   "metadata": {},
   "outputs": [],
   "source": [
    "# Let's make subsets for each user_id and then populate the frequency based on that\n",
    "\n",
    "## Get all unique ids in a list\n",
    "\n",
    "unique_user_ids = df['user_id'].unique()[0:1000]\n",
    "\n",
    "# Create dictionaries\n",
    "unique_users_daily_freq = {}\n",
    "unique_users_hourly_freq = {}\n",
    "unique_users_dayofweek_freq = {}\n",
    "unique_users_weekly_freq = {}\n",
    "\n",
    "# Generate an empty dataframe with the unique user ids\n",
    "## append new entries\n",
    "\n",
    "for id in unique_user_ids:\n",
    "    # Get the subset of that user id\n",
    "    tmp_df = df[df['user_id'] == id]\n",
    "\n",
    "    # Now lets go through each and populate the unique dates, hours and day of the week for each user\n",
    "    dates = []\n",
    "    hours = []\n",
    "    dayofweek = []\n",
    "    week = []\n",
    "    indices = np.array(tmp_df.index)\n",
    "    \n",
    "    for i in indices:\n",
    "        tmp_datetime = pd.DatetimeIndex(tmp_df['impression_time_fixed'][i])\n",
    "        tmp_date = tmp_datetime.date\n",
    "        tmp_time = tmp_datetime.time\n",
    "        tmp_dayofweek = tmp_datetime.weekday\n",
    "        tmp_week = tmp_datetime.isocalendar().week\n",
    "\n",
    "        for j,k,l,m in zip(tmp_date, tmp_time, tmp_dayofweek, tmp_week):\n",
    "            dates.append(j)\n",
    "            hours.append(k)\n",
    "            dayofweek.append(l)\n",
    "            week.append(m)\n",
    "\n",
    "    \n",
    "    # Get rid of duplicate values\n",
    "    unique_dates = list(set(dates))\n",
    "    unique_hours = list(set(hours))\n",
    "    unique_dayofweek = list(set(dayofweek))\n",
    "    unique_week = list(set(week))\n",
    "    \n",
    "    # Convert to string\n",
    "    unique_hours = [x.hour for x in unique_hours]\n",
    "    unique_hours = [str(i) + ':00' if i > 9 else str(0) + str(i) + ':00' for i in unique_hours]\n",
    "\n",
    "    # Convert Week to W\n",
    "    # Convert the week int to mapping from 1++\n",
    "    unique_week= weekly_map(unique_week)\n",
    "        \n",
    "    # Populate dicts\n",
    "    populate_dict(list_ = unique_dates, dict_ = unique_users_daily_freq)\n",
    "    populate_dict(list_ = unique_hours, dict_ = unique_users_hourly_freq)\n",
    "    populate_dict(list_ = unique_dayofweek, dict_ = unique_users_dayofweek_freq)\n",
    "    populate_dict(list_ = unique_week, dict_ = unique_users_weekly_freq)\n",
    "\n",
    "\n",
    "# Create tmp dataframes\n",
    "unique_users_daily_freq = dict(sorted(unique_users_daily_freq.items()))\n",
    "unique_users_hourly_freq = dict(sorted(unique_users_hourly_freq.items()))\n",
    "\n",
    "# Sort by integers for day of the week and then lets chane the dict\n",
    "unique_users_dayofweek_freq = dict(sorted(unique_users_dayofweek_freq.items()))\n",
    "unique_users_dayofweek_freq = int_dow_dict(unique_users_dayofweek_freq)\n",
    "\n",
    "unique_users_weekly_freq = dict(sorted(unique_users_weekly_freq.items()))\n",
    "                "
   ]
  },
  {
   "cell_type": "markdown",
   "id": "7d544d44",
   "metadata": {},
   "source": [
    "#### Daily User Activity"
   ]
  },
  {
   "cell_type": "code",
   "execution_count": null,
   "id": "b7919508",
   "metadata": {},
   "outputs": [],
   "source": [
    "# What does the daily user activity look like?\n",
    "unique_users_daily_freq = dict(sorted(unique_users_daily_freq.items()))\n",
    "\n",
    "indices = [x for x in unique_users_daily_freq.keys()]\n",
    "values = [x for x in unique_users_daily_freq.values()]\n",
    "\n",
    "\n",
    "plot_scatter(\n",
    "    indices_ = indices , values_ = values,\n",
    "    yrange_ = [200, 900], xaxis_title = 'Date',\n",
    "    yaxis_title= 'Active Users', title_ = '<b>Daily Active Users<b>'\n",
    "    )"
   ]
  },
  {
   "cell_type": "markdown",
   "id": "51f0156b",
   "metadata": {},
   "source": [
    "#### Hourly User Activity"
   ]
  },
  {
   "cell_type": "code",
   "execution_count": null,
   "id": "d4a4ba10",
   "metadata": {},
   "outputs": [],
   "source": [
    "# What does the hourly user activity look like?\n",
    "indices = [x for x in unique_users_hourly_freq.keys()]\n",
    "values = [x for x in unique_users_hourly_freq.values()]\n",
    "\n",
    "fig = go.Figure()\n",
    "\n",
    "plot_scatter(\n",
    "    indices_ = indices , values_ = values,\n",
    "    yrange_ = [0, 20000], xaxis_title = 'Hour',\n",
    "    yaxis_title= 'Active Users', title_ = '<b>Hourly Active Users<b>'\n",
    "    )"
   ]
  },
  {
   "cell_type": "markdown",
   "id": "16cef0a4",
   "metadata": {},
   "source": [
    "#### Weekly User Activity"
   ]
  },
  {
   "cell_type": "code",
   "execution_count": null,
   "id": "f4e5d006",
   "metadata": {},
   "outputs": [],
   "source": [
    "# What does the weekly user activity look like?\n",
    "indices = [x for x in unique_users_weekly_freq.keys()]\n",
    "values = [x for x in unique_users_weekly_freq.values()]\n",
    "\n",
    "plot_bar(\n",
    "    indices_ = indices, values_ = values,\n",
    "    yrange_ = [0, 1100], xaxis_title = 'Week',\n",
    "    yaxis_title= 'Active Users', title_ = '<b> Weekly Active Users <b>')"
   ]
  },
  {
   "cell_type": "markdown",
   "id": "0b047d88",
   "metadata": {},
   "source": [
    "#### Day Of The Week User Activity"
   ]
  },
  {
   "cell_type": "code",
   "execution_count": null,
   "id": "1ae2c648",
   "metadata": {},
   "outputs": [],
   "source": [
    "# What does the weekly user activity look like?\n",
    "indices = [x for x in unique_users_dayofweek_freq.keys()]\n",
    "values = [x for x in unique_users_dayofweek_freq.values()]\n",
    "\n",
    "plot_bar(\n",
    "    indices_ = indices, values_ = values,\n",
    "    yrange_ = [0, 1100], xaxis_title = 'Day',\n",
    "    yaxis_title= 'Active Users', title_ = '<b> Day of the Week Activity  <b>')"
   ]
  },
  {
   "cell_type": "markdown",
   "id": "812afcd3",
   "metadata": {},
   "source": [
    "## Session"
   ]
  },
  {
   "cell_type": "markdown",
   "id": "04d54dba",
   "metadata": {},
   "source": [
    "### Number of Sessions"
   ]
  },
  {
   "cell_type": "code",
   "execution_count": null,
   "id": "5866c5c2",
   "metadata": {},
   "outputs": [],
   "source": [
    "# Toal Number of Sessions\n",
    "single_subset_bar(df_=df, feature_='session_id',\n",
    "                  xaxis_title='Number of Sessions', yrange=[0, 40000])"
   ]
  },
  {
   "cell_type": "markdown",
   "id": "d8e07092",
   "metadata": {},
   "source": [
    "### Daily Active Sessions"
   ]
  },
  {
   "cell_type": "code",
   "execution_count": null,
   "id": "638efd74",
   "metadata": {},
   "outputs": [],
   "source": [
    "# Number of unique sessions per day\n",
    "\n",
    "# Make a copy of the dataframe and extract the time as a str\n",
    "copy_df = df.copy()\n",
    "copy_df['impression_time'] = copy_df['impression_time'].apply(\n",
    "    lambda x: x.strftime('%m/%d/%Y'))\n",
    "\n",
    "# Group by the session ids with the impression time\n",
    "unique_sessions_per_day = copy_df.groupby(\n",
    "    by='session_id')['impression_time'].min()\n",
    "tmp_dau_df = pd.DataFrame(data=unique_sessions_per_day.values,\n",
    "                          index=unique_sessions_per_day.keys(), columns=['Session Dates'])\n",
    "\n",
    "# Plot\n",
    "multiple_subset_bar(df_=tmp_dau_df, feature_='Session Dates', yrange=[0, 8000])"
   ]
  },
  {
   "cell_type": "markdown",
   "id": "ef76c067",
   "metadata": {},
   "source": [
    "### Read Time"
   ]
  },
  {
   "cell_type": "code",
   "execution_count": null,
   "id": "cb93e965",
   "metadata": {},
   "outputs": [],
   "source": [
    "# Read Time per Session\n",
    "## Group by session ids and read_time \n",
    "tmp_session_df = pd.DataFrame(data=df.groupby(by='session_id')[\n",
    "                              'read_time'].mean(), columns=['read_time']\n",
    "## Plot\n",
    "single_subset_feature_visualization(\n",
    "    df_=tmp_session_df,  feature_='read_time', data_title='Unique Sessions')"
   ]
  },
  {
   "cell_type": "markdown",
   "id": "52d99ce7",
   "metadata": {},
   "source": [
    "### Scroll Percentage per Session"
   ]
  },
  {
   "cell_type": "code",
   "execution_count": null,
   "id": "78a83b04",
   "metadata": {},
   "outputs": [],
   "source": [
    "# Scroll Percentage per Session\n",
    "## Group by session ids and scroll percentage\n",
    "tmp_session_df = pd.DataFrame(data=df.groupby(by='session_id')[\n",
    "                              'scroll_percentage'].mean(), columns=['scroll_percentage'])\n",
    "## Plot\n",
    "single_subset_feature_visualization(\n",
    "    df_=tmp_session_df,  feature_='scroll_percentage', data_title='Unique Sessions')"
   ]
  },
  {
   "cell_type": "markdown",
   "id": "9ae85ec3",
   "metadata": {},
   "source": [
    "## Topic"
   ]
  },
  {
   "cell_type": "markdown",
   "id": "49bd25db",
   "metadata": {},
   "source": [
    "### Number of Topics"
   ]
  },
  {
   "cell_type": "code",
   "execution_count": null,
   "id": "022c36a6",
   "metadata": {},
   "outputs": [],
   "source": [
    "# Number of Topics!\n",
    "# Unique Topics\n",
    "topic_list = unique_subset_topics(df)\n",
    "# Plot\n",
    "tmp_topic_df = pd.DataFrame(data=topic_list, columns=['topics'])\n",
    "\n",
    "single_subset_bar(df_=tmp_topic_df, feature_='topics',\n",
    "                  xaxis_title='Number of Topics', yrange=[0, 100])"
   ]
  },
  {
   "cell_type": "code",
   "execution_count": null,
   "id": "94af56f9",
   "metadata": {},
   "outputs": [],
   "source": [
    "# Record the frequency of topics across unique users, readtimes across topics, and scroll percentages across those topics\n",
    "\n",
    "# Get all unique ids in a list\n",
    "unique_user_ids = df['user_id'].values[0:1000]\n",
    "\n",
    "# Create dictionaries\n",
    "unique_users_topics_freq = {}\n",
    "unique_topic_scroll_freq = {}\n",
    "unique_topic_read_freq = {}\n",
    "\n",
    "# Iterate through each user id and record the topics viewed!\n",
    "for id in unique_user_ids:\n",
    "    # Get the subset of that user id\n",
    "    tmp_df = df[df['user_id'] == id]\n",
    "    # Now lets go through each topic\n",
    "    indices = np.array(tmp_df.index)\n",
    "    for i in indices:\n",
    "        # Record the topic, scroll percentage and read_time for each index\n",
    "        tmp_topics = tmp_df['topics'][i]\n",
    "        tmp_scroll = tmp_df['scroll_percentage'][i]\n",
    "        tmp_read = tmp_df['read_time'][i]\n",
    "        topics = [x for x in tmp_topics]\n",
    "        scroll = [tmp_scroll]\n",
    "        read = [tmp_read]\n",
    "\n",
    "    # Find the average scroll percentages across each topic  (Can be related to whether a topic doesnt require too much reading has visualizations)\n",
    "    # Look at article_id for whichever topics the article is included in add that scroll percentage\n",
    "        tmp_topic_scroll = {k: v for k, v in zip(topics, scroll)}\n",
    "        unique_topic_scroll_freq = topics_article_id_scroll_read(\n",
    "            tmp_topic_scroll, unique_topic_scroll_freq)\n",
    "\n",
    "    # Find the average read time across each topic\n",
    "    # Look at article_id for whichever topics the article is included in add that readtime\n",
    "        tmp_topic_read = {k: v for k, v in zip(topics, read)}\n",
    "        unique_topic_read_freq = topics_article_id_scroll_read(\n",
    "            tmp_topic_read, unique_topic_read_freq)\n",
    "\n",
    "    # Unique User Topics\n",
    "    # Get rid of duplicate values\n",
    "    unique_topics = list(set(topics))\n",
    "\n",
    "    # Populate our dict\n",
    "    populate_dict(unique_topics, unique_users_topics_freq)\n",
    "\n",
    "\n",
    "# Sort the dictionaries\n",
    "sorted_topic_freq = dict(\n",
    "    sorted(unique_users_topics_freq.items(), key=lambda x: x[1], reverse=True))\n",
    "\n",
    "# Find the average read times across each topic\n",
    "unique_topic_read_avg_freq = {k: round(np.nanmean(v), 2) for k, v in zip(\n",
    "    unique_topic_read_freq.keys(), unique_topic_read_freq.values())}\n",
    "sorted_unique_topic_read_avg_freq = dict(\n",
    "    sorted(unique_topic_read_avg_freq.items(), key=lambda x: x[1], reverse=True))\n",
    "\n",
    "# Sort the topics for distribution\n",
    "sorted_unique_topic_read_freq = dict(sorted(unique_topic_read_freq.items()))\n",
    "\n",
    "# Find the average scroll percentages across each topic\n",
    "unique_topic_scroll_avg_freq = {k: round(np.nanmean(v), 2) for k, v in zip(\n",
    "    unique_topic_scroll_freq.keys(), unique_topic_scroll_freq.values())}\n",
    "sorted_unique_topic_scroll_avg_freq = dict(\n",
    "    sorted(unique_topic_scroll_avg_freq.items(), key=lambda x: x[1], reverse=True))\n",
    "\n",
    "# Sort the topics scroll pct for distribution\n",
    "sorted_unique_topic_scroll_freq = dict(\n",
    "    sorted(unique_topic_scroll_freq.items()))"
   ]
  },
  {
   "cell_type": "markdown",
   "id": "2f3f54e8",
   "metadata": {},
   "source": [
    "### Distribution of Topics across users"
   ]
  },
  {
   "cell_type": "code",
   "execution_count": null,
   "id": "baa6df5b",
   "metadata": {},
   "outputs": [],
   "source": [
    "# Distribution of Topics across users!\n",
    "## Indices / Values for Plot\n",
    "indices = [x for x in sorted_topic_freq.keys()][0:10]\n",
    "values = [x for x in sorted_topic_freq.values()][0:10]\n",
    "\n",
    "## Plot\n",
    "plot_bar(\n",
    "    indices_=indices, values_=values,\n",
    "    yrange_=[0, 400], xaxis_title='Topics',\n",
    "    yaxis_title='Count', title_='<b> Top 10 Topics User Activity<b>')"
   ]
  },
  {
   "cell_type": "markdown",
   "id": "5ab41490",
   "metadata": {},
   "source": [
    "### Read Time"
   ]
  },
  {
   "cell_type": "code",
   "execution_count": null,
   "id": "a3bea6df",
   "metadata": {},
   "outputs": [],
   "source": [
    "# Bar Plot of Read Time across Topics\n",
    "## Indices / Values for Plot\n",
    "indices = [x for x in sorted_unique_topic_read_avg_freq.keys()][0:5]\n",
    "values = [x for x in sorted_unique_topic_read_avg_freq.values()][0:5]\n",
    "## Plot\n",
    "plot_bar(\n",
    "    indices_ = indices, values_ = values,\n",
    "    yrange_ = [0, 150], xaxis_title = 'Topics',\n",
    "    yaxis_title= 'Read Time', title_ = '<b> Top 10 Topics User Activity<b>')"
   ]
  },
  {
   "cell_type": "code",
   "execution_count": null,
   "id": "e715b259",
   "metadata": {},
   "outputs": [],
   "source": [
    "# Box Plot of Read Time across Topics\n",
    "## Indices / Values for Plot\n",
    "indices = [x for x in sorted_unique_topic_read_freq.keys()]\n",
    "values = [x for x in sorted_unique_topic_read_freq.values()]\n",
    "## Plot\n",
    "plot_box(\n",
    "    indices_ = indices, values_ = values,\n",
    "    yrange_ = [0, 2000], xaxis_title = 'Topics',\n",
    "    yaxis_title= 'Read Time', title_ = '<b> Distributions of Read Times Across Each Topic<b>')\n"
   ]
  },
  {
   "cell_type": "markdown",
   "id": "8973adab",
   "metadata": {},
   "source": [
    "### Scroll Percentage"
   ]
  },
  {
   "cell_type": "code",
   "execution_count": null,
   "id": "c6732699",
   "metadata": {},
   "outputs": [],
   "source": [
    "# Bar Plot of Scroll Percentage across Topics\n",
    "## Indices / Values for Plot\n",
    "indices = [x for x in sorted_unique_topic_scroll_avg_freq.keys()]\n",
    "values = [x for x in sorted_unique_topic_scroll_avg_freq.values()]\n",
    "## Plot\n",
    "plot_bar(\n",
    "    indices_ = indices, values_ = values,\n",
    "    yrange_ = [0, 104], xaxis_title = 'Topics',\n",
    "    yaxis_title= 'Read Time', title_ = '<b> Average Scroll Percentage Across Each Topic<b>')"
   ]
  },
  {
   "cell_type": "code",
   "execution_count": null,
   "id": "1e1c3d74",
   "metadata": {},
   "outputs": [],
   "source": [
    "# Box Plot of Scroll Percentage across Topics\n",
    "## Indices / Values for Plot\n",
    "indices = [x for x in sorted_unique_topic_scroll_freq.keys()]\n",
    "values = [x for x in sorted_unique_topic_scroll_freq.values()]\n",
    "## Plot\n",
    "plot_box(\n",
    "    indices_ = indices, values_ = values,\n",
    "    yrange_ = [0, 105], xaxis_title = 'Topics',\n",
    "    yaxis_title= 'Read Time', title_ = '<b> Distributions of Read Times Across Each Topic<b>')"
   ]
  },
  {
   "cell_type": "markdown",
   "id": "ea97be17",
   "metadata": {},
   "source": [
    "### Daily and Hourly Activity "
   ]
  },
  {
   "cell_type": "code",
   "execution_count": null,
   "id": "144c7382",
   "metadata": {},
   "outputs": [],
   "source": [
    "# Daily and Hourly Activity across each Topic\n",
    "\n",
    "# Get all the unique topics\n",
    "topic_list = unique_subset_topics(df)\n",
    "unique_topics = sorted(topic_list)\n",
    "\n",
    "# Get the list of each unqiue topic in a specific session\n",
    "topics = df.groupby(by='session_id')['topics'].apply(list)\n",
    "\n",
    "# Get the list of each unique timestamp for these sessions\n",
    "timestamps = df.groupby(by='session_id')['impression_time'].apply(list)\n",
    "unique_dates = []\n",
    "\n",
    "# Create a list of hours in a str format\n",
    "unique_hours = [i for i in range(24)]\n",
    "unique_hours = [str(i) + ':00' if i > 9 else str(0) +\n",
    "                str(i) + ':00' for i in unique_hours]\n",
    "\n",
    "# Iterate through each timestamp\n",
    "for i in range(len(timestamps.values)):\n",
    "    # Iterate through each idx\n",
    "    for j in range(len(timestamps.values[i])):\n",
    "        # Assign datetime and date objects\n",
    "        tmp_datetime = timestamps.values[i][j]\n",
    "        tmp_date = tmp_datetime.date()\n",
    "        # if date not in unique dates, append\n",
    "        if tmp_date not in unique_dates:\n",
    "            unique_dates.append(tmp_date)\n",
    "\n",
    "# Sort dates\n",
    "unique_dates = sorted(unique_dates)\n",
    "\n",
    "# Instantiate dict objects with unique dates and unique key values set to 0\n",
    "unique_topic_daily_activity = {\n",
    "    k: {k: 0 for k in unique_dates} for k in unique_topics}\n",
    "unique_topic_hourly_activity = {\n",
    "    k: {k: 0 for k in unique_hours} for k in unique_topics}\n",
    "\n",
    "\n",
    "# Iterate through each session id\n",
    "for i in zip(range(len(topics.values))):\n",
    "    # Iterate through each index of nested list\n",
    "    for j, k in zip(range(0, len(topics.values[i][0])), range(0, len(i))):\n",
    "        tmp = topics.values[i][0][j]\n",
    "        # Assign a datetime and time object\n",
    "        tmp_datetime = timestamps.values[i][k]\n",
    "        tmp_date = tmp_datetime.date()\n",
    "        tmp_time = tmp_datetime.time()\n",
    "        tmp_hour = tmp_time.hour\n",
    "\n",
    "        # Convert hour into a string\n",
    "        if tmp_hour > 9:\n",
    "            tmp_time = str(tmp_hour) + ':00'\n",
    "\n",
    "        else:\n",
    "            tmp_time = \"0\" + str(tmp_hour) + ':00'\n",
    "\n",
    "        # Add to dictionary\n",
    "        unique_topic_daily_activity[tmp][tmp_date] += 1\n",
    "        unique_topic_hourly_activity[tmp][tmp_time] += 1"
   ]
  },
  {
   "cell_type": "markdown",
   "id": "3c0e4838",
   "metadata": {},
   "source": [
    "#### Daily Activity"
   ]
  },
  {
   "cell_type": "code",
   "execution_count": null,
   "id": "161a8ffe",
   "metadata": {},
   "outputs": [],
   "source": [
    "# Daily Activity of Topics \n",
    "activity_scatter(\n",
    "    dict_=unique_topic_daily_activity,  yrange_=[0, 2100],\n",
    "    xaxis_title='Dates', yaxis_title='Active Users', title_='<b> Daily Active Users Per Topic')"
   ]
  },
  {
   "cell_type": "markdown",
   "id": "03917388",
   "metadata": {},
   "source": [
    "#### Hourly Activity"
   ]
  },
  {
   "cell_type": "code",
   "execution_count": null,
   "id": "119fe30f",
   "metadata": {},
   "outputs": [],
   "source": [
    "# Hourly Activity of Topics \n",
    "activity_scatter(\n",
    "    dict_=unique_topic_hourly_activity,  yrange_=[0, 1000],\n",
    "    xaxis_title='Hourly', yaxis_title='Active Users', title_='<b> Daily Active Users Per Topic')"
   ]
  },
  {
   "cell_type": "markdown",
   "id": "e0e4503e",
   "metadata": {},
   "source": [
    "## Devices"
   ]
  },
  {
   "cell_type": "code",
   "execution_count": null,
   "id": "2dec3192",
   "metadata": {},
   "outputs": [],
   "source": [
    "# Distribution of Devices\n",
    "multiple_subset_bar(df_=df, feature_='device_type', yrange=[0, 50000])"
   ]
  },
  {
   "cell_type": "markdown",
   "id": "b9dffc83",
   "metadata": {},
   "source": [
    "### Readtime"
   ]
  },
  {
   "cell_type": "code",
   "execution_count": null,
   "id": "20604809",
   "metadata": {},
   "outputs": [],
   "source": [
    "# Read Time across Devices\n",
    "multiple_subset_feature_visualization(df_ =df,  feature_1 = 'device_type', feature_2 = 'read_time')"
   ]
  },
  {
   "cell_type": "markdown",
   "id": "d55e86ec",
   "metadata": {},
   "source": [
    "### Scroll percentage "
   ]
  },
  {
   "cell_type": "code",
   "execution_count": null,
   "id": "e5d7a7e2",
   "metadata": {},
   "outputs": [],
   "source": [
    "# Scroll Percentage across Devices\n",
    "multiple_subset_feature_visualization(df_ =df,  feature_1 = 'device_type', feature_2 = 'scroll_percentage')"
   ]
  },
  {
   "cell_type": "markdown",
   "id": "eda8ea32",
   "metadata": {},
   "source": [
    "### Topic"
   ]
  },
  {
   "cell_type": "code",
   "execution_count": null,
   "id": "1d2e829e",
   "metadata": {},
   "outputs": [],
   "source": [
    "# Distribution of Topics Per Device\n",
    "# Unique Topics\n",
    "topic_list = unique_subset_topics(df)\n",
    "unique_topics = sorted(topic_list)\n",
    "# Plot\n",
    "topic_feature_bar_distribution(\n",
    "    df_=df, feature_='device_type', yrange=[0, 4.5],\n",
    "    topic_list_=unique_topics, subplot_titles_=[\n",
    "        '<b>Device 1<b>', '<b>Device 2<b>', '<b>Device 3<b>'],\n",
    "    xaxis_title='<b>Topics<b>', yaxis_title='<b>Count<b>',\n",
    "    title_='<b>Topic Distribution Per Device<b>',\n",
    "    height_=750, width_=1000\n",
    ")"
   ]
  },
  {
   "cell_type": "markdown",
   "id": "f7f6e44c",
   "metadata": {},
   "source": [
    "### Daily/Hourly Activity"
   ]
  },
  {
   "cell_type": "code",
   "execution_count": null,
   "id": "3695f17b",
   "metadata": {},
   "outputs": [],
   "source": [
    "# Daily and Hourly Activity across Devices\n",
    "daily_hourly_activity_feature_bar_distribution(\n",
    "    df_ = df, feature_ = 'device_type', yrange = [0, 4],\n",
    "    subplot_titles_ = ['<b>Daily<b>', '<b>Monthly<b>'],\n",
    "    title_ = '<b>Daily and Hourly Activity Per Device<b>',\n",
    "    height_ = 750, width_ = 1000\n",
    "    )"
   ]
  },
  {
   "cell_type": "markdown",
   "id": "c37b7ff5",
   "metadata": {},
   "source": [
    "# If subscriber"
   ]
  },
  {
   "cell_type": "markdown",
   "id": "2445ea77",
   "metadata": {},
   "source": [
    "### Distribution of Subscribers vs Non-Subscribers "
   ]
  },
  {
   "cell_type": "code",
   "execution_count": null,
   "id": "6af0618a",
   "metadata": {},
   "outputs": [],
   "source": [
    "# Distribution of Subscribers vs Non-Subscribers\n",
    "multiple_subset_bar(df_=df, feature_='is_subscriber', yrange=[0, 80000])"
   ]
  },
  {
   "cell_type": "markdown",
   "id": "76723f43",
   "metadata": {},
   "source": [
    "### Read time"
   ]
  },
  {
   "cell_type": "code",
   "execution_count": null,
   "id": "61a41086",
   "metadata": {},
   "outputs": [],
   "source": [
    "# Read Times for Subscribers vs Non-Subscribers\n",
    "multiple_subset_feature_visualization(\n",
    "    df_=df,  feature_1='is_subscriber', feature_2='read_time')"
   ]
  },
  {
   "cell_type": "markdown",
   "id": "47680f96",
   "metadata": {},
   "source": [
    "### Scroll percentage"
   ]
  },
  {
   "cell_type": "code",
   "execution_count": null,
   "id": "20e0a958",
   "metadata": {},
   "outputs": [],
   "source": [
    "# Scroll Percentages for Subscribers vs Non-Subscribers\n",
    "multiple_subset_feature_visualization(\n",
    "    df_=df,  feature_1='is_subscriber', feature_2='scroll_percentage')"
   ]
  },
  {
   "cell_type": "markdown",
   "id": "b096414c",
   "metadata": {},
   "source": [
    "### Topic Distribution"
   ]
  },
  {
   "cell_type": "code",
   "execution_count": null,
   "id": "a5e83855",
   "metadata": {},
   "outputs": [],
   "source": [
    "# Distribution of Topics for Subscribers vs Non-Subscribers\n",
    "## Get all the unique topics\n",
    "topic_list = unique_subset_topics(df)\n",
    "unique_topics = sorted(topic_list)\n",
    "## Plot\n",
    "topic_feature_bar_distribution(\n",
    "    df_=df, feature_='is_subscriber', yrange=[0, 5],\n",
    "    topic_list_=unique_topics, subplot_titles_=['<b>False<b>', '<b>True<b>'],\n",
    "    xaxis_title='<b>Topics<b>', yaxis_title='<b>Count<b>',\n",
    "    title_='<b>Topic Distribution of Subscribers vs Non-Subscribers<b>',\n",
    "    height_=500, width_=1000\n",
    ")"
   ]
  },
  {
   "cell_type": "markdown",
   "id": "b0c3ff67",
   "metadata": {},
   "source": [
    "### Daily/Hourly Activity"
   ]
  },
  {
   "cell_type": "code",
   "execution_count": null,
   "id": "284aee02",
   "metadata": {},
   "outputs": [],
   "source": [
    "# Daily Activity Users / Hourly Activity Users for Subscribers vs Non-Subscribers\n",
    "daily_hourly_activity_feature_bar_distribution(\n",
    "    df_ = df, feature_ = 'is_subscriber', yrange = [0, 4],\n",
    "    subplot_titles_ = ['<b>Daily<b>', '<b>Monthly<b>'],\n",
    "    title_ = '<b>Daily and Hourly Activity of Subscribers vs Non-Subscribers<b>',\n",
    "    height_ = 750, width_ = 1000\n",
    "    )"
   ]
  },
  {
   "cell_type": "markdown",
   "id": "6469168b",
   "metadata": {},
   "source": [
    "# Gender"
   ]
  },
  {
   "cell_type": "markdown",
   "id": "0aa327ef",
   "metadata": {},
   "source": [
    "### Distribution of Genders"
   ]
  },
  {
   "cell_type": "code",
   "execution_count": null,
   "id": "ec7df9c5",
   "metadata": {},
   "outputs": [],
   "source": [
    "# Distribution of Genders\n",
    "multiple_subset_bar(df_=df, feature_='gender', yrange=[0, 5000])"
   ]
  },
  {
   "cell_type": "markdown",
   "id": "e9e0c923",
   "metadata": {},
   "source": [
    "### Read time "
   ]
  },
  {
   "cell_type": "code",
   "execution_count": null,
   "id": "fe62bfa7",
   "metadata": {},
   "outputs": [],
   "source": [
    "# Read Time across Genders\n",
    "multiple_subset_feature_visualization(\n",
    "    df_=df,  feature_1='gender', feature_2='read_time')"
   ]
  },
  {
   "cell_type": "markdown",
   "id": "9cdd149a",
   "metadata": {},
   "source": [
    "### Scroll percentage "
   ]
  },
  {
   "cell_type": "code",
   "execution_count": null,
   "id": "373617e8",
   "metadata": {},
   "outputs": [],
   "source": [
    "# Scroll Percentage across Genders\n",
    "multiple_subset_feature_visualization(\n",
    "    df_=df,  feature_1='gender', feature_2='scroll_percentage')"
   ]
  },
  {
   "cell_type": "markdown",
   "id": "f1fb1468",
   "metadata": {},
   "source": [
    "### Topics"
   ]
  },
  {
   "cell_type": "code",
   "execution_count": null,
   "id": "a098768d",
   "metadata": {},
   "outputs": [],
   "source": [
    "# Distribution of Topics across Genders\n",
    "## Get all the unique topics\n",
    "topic_list = unique_subset_topics(df)\n",
    "unique_topics = sorted(topic_list)\n",
    "## Plot\n",
    "topic_feature_bar_distribution(\n",
    "    df_=df, feature_='gender', yrange=[0, 5],\n",
    "    topic_list_=unique_topics, subplot_titles_=['<b>Female<b>', '<b>Male<b>'],\n",
    "    xaxis_title='<b>Topics<b>', yaxis_title='<b>Count<b>',\n",
    "    title_='<b>Topic Distribution of Genders<b>',\n",
    "    height_=500, width_=1000\n",
    ")"
   ]
  },
  {
   "cell_type": "markdown",
   "id": "5eb16616",
   "metadata": {},
   "source": [
    "### Daily/Hourly Activity"
   ]
  },
  {
   "cell_type": "code",
   "execution_count": null,
   "id": "8db72f49",
   "metadata": {},
   "outputs": [],
   "source": [
    "# Daily Activity Users / Hourly Activity Users across Genders\n",
    "daily_hourly_activity_feature_bar_distribution(\n",
    "    df_=df, feature_='gender', yrange=[0, 4],\n",
    "    subplot_titles_=['<b>Daily<b>', '<b>Monthly<b>'],\n",
    "    title_='<b>Daily and Hourly Activity of Genders<b>',\n",
    "    height_=750, width_=1000\n",
    ")"
   ]
  },
  {
   "cell_type": "markdown",
   "id": "03e32b90",
   "metadata": {},
   "source": [
    "# Age"
   ]
  },
  {
   "cell_type": "markdown",
   "id": "558c5c75",
   "metadata": {},
   "source": [
    "### Age Distribution"
   ]
  },
  {
   "cell_type": "code",
   "execution_count": null,
   "id": "bc785b62",
   "metadata": {},
   "outputs": [],
   "source": [
    "# Distribution of Ages\n",
    "multiple_subset_bar(df_=df, feature_='age', yrange=[0, 800])"
   ]
  },
  {
   "cell_type": "markdown",
   "id": "c42d84e0",
   "metadata": {},
   "source": [
    "### Read Time"
   ]
  },
  {
   "cell_type": "code",
   "execution_count": null,
   "id": "ea38a806",
   "metadata": {},
   "outputs": [],
   "source": [
    "# Read Time across Ages\n",
    "multiple_subset_feature_visualization(\n",
    "    df_=df,  feature_1='age', feature_2='read_time')"
   ]
  },
  {
   "cell_type": "markdown",
   "id": "c3883ce0",
   "metadata": {},
   "source": [
    "### Scroll Percentage"
   ]
  },
  {
   "cell_type": "code",
   "execution_count": null,
   "id": "477b30cf",
   "metadata": {},
   "outputs": [],
   "source": [
    "# Scroll Percentages across Ages\n",
    "multiple_subset_feature_visualization(\n",
    "    df_=df,  feature_1='age', feature_2='scroll_percentage')"
   ]
  },
  {
   "cell_type": "markdown",
   "id": "2fa72d5e",
   "metadata": {},
   "source": [
    "### Topics"
   ]
  },
  {
   "cell_type": "code",
   "execution_count": null,
   "id": "c2d5c5be",
   "metadata": {},
   "outputs": [],
   "source": [
    "# Distribution of Topics across Ages\n",
    "## Get all the unique topics\n",
    "topic_list = unique_subset_topics(df)\n",
    "unique_topics = sorted(topic_list)\n",
    "## Plot\n",
    "topic_feature_bar_distribution(\n",
    "    df_=df, feature_='age', yrange=[0, 2.5],\n",
    "    topic_list_=unique_topics,\n",
    "    subplot_titles_=[\n",
    "        '<b>20-29<b>', '<b>30-39<b>', '<b>40-49<b>',\n",
    "        '<b>50-59<b>', '<b>60-69<b>', '<b>70-79<b>',\n",
    "        '<b>80-89<b>', '<b>90-99<b>'\n",
    "    ],\n",
    "    xaxis_title='<b>Topics<b>', yaxis_title='<b>Count<b>',\n",
    "    title_='<b>Topic Distribution of Age Groups<b>',\n",
    "    height_=850, width_=1000\n",
    ")"
   ]
  },
  {
   "cell_type": "markdown",
   "id": "cb2106c5",
   "metadata": {},
   "source": [
    "### Daily/Hourly Activity"
   ]
  },
  {
   "cell_type": "code",
   "execution_count": null,
   "id": "41764352",
   "metadata": {},
   "outputs": [],
   "source": [
    "# Daily Activity Users / Hourly Activity Users across Age\n",
    "daily_hourly_activity_feature_bar_distribution(\n",
    "    df_=df, feature_='age', yrange=[0, 2.5],\n",
    "    subplot_titles_=['<b>Daily<b>', '<b>Monthly<b>'],\n",
    "    title_='<b>Daily and Hourly Activity of Age Groups<b>',\n",
    "    height_=750, width_=1000\n",
    ")"
   ]
  },
  {
   "cell_type": "markdown",
   "id": "06e40744",
   "metadata": {},
   "source": [
    "# Postcodes"
   ]
  },
  {
   "cell_type": "markdown",
   "id": "0b31209f",
   "metadata": {},
   "source": [
    "### Distribution of Post Codes"
   ]
  },
  {
   "cell_type": "code",
   "execution_count": null,
   "id": "aec2f412",
   "metadata": {},
   "outputs": [],
   "source": [
    "# Distribution of Postcodes\n",
    "multiple_subset_bar(df_=df, feature_='postcode', yrange=[0, 800])"
   ]
  },
  {
   "cell_type": "markdown",
   "id": "0ae5a212",
   "metadata": {},
   "source": [
    "### Read Time"
   ]
  },
  {
   "cell_type": "code",
   "execution_count": null,
   "id": "ec6fd3c6",
   "metadata": {},
   "outputs": [],
   "source": [
    "# Read Time across Postcodes\n",
    "multiple_subset_feature_visualization(\n",
    "    df_=df,  feature_1='postcode', feature_2='read_time')"
   ]
  },
  {
   "cell_type": "markdown",
   "id": "c13bde99",
   "metadata": {},
   "source": [
    "### Scroll Percentage"
   ]
  },
  {
   "cell_type": "code",
   "execution_count": null,
   "id": "43deafa8",
   "metadata": {},
   "outputs": [],
   "source": [
    "# Scroll Percentages across Postcodes\n",
    "multiple_subset_feature_visualization(\n",
    "    df_=df,  feature_1='postcode', feature_2='scroll_percentage')"
   ]
  },
  {
   "cell_type": "markdown",
   "id": "f742f798",
   "metadata": {},
   "source": [
    "### Topics"
   ]
  },
  {
   "cell_type": "code",
   "execution_count": null,
   "id": "f7018e69",
   "metadata": {},
   "outputs": [],
   "source": [
    "# Distribution of Topics across Postcodes\n",
    "## Get all the unique topics\n",
    "topic_list = unique_subset_topics(df)\n",
    "unique_topics = sorted(topic_list)\n",
    "## Plot\n",
    "topic_feature_bar_distribution(\n",
    "    df_=df, feature_='postcode', yrange=[0, 2.5],\n",
    "    topic_list_=unique_topics,\n",
    "    subplot_titles_=[\n",
    "        '<b>Big City<b>', '<b>Metropolitan<b>', '<b>Municiplaity<b>',\n",
    "        '<b>Provincial<b>', '<b>Rural District<b>'\n",
    "    ],\n",
    "    xaxis_title='<b>Topics<b>', yaxis_title='<b>Count<b>',\n",
    "    title_='<b>Topic Distribution per Postcodes<b>',\n",
    "    height_=850, width_=1000\n",
    ")"
   ]
  },
  {
   "cell_type": "markdown",
   "id": "6e53434a",
   "metadata": {},
   "source": [
    "### Daily/Hourly Activity"
   ]
  },
  {
   "cell_type": "code",
   "execution_count": null,
   "id": "0af96cef",
   "metadata": {},
   "outputs": [],
   "source": [
    "# Daily Activity Users / Hourly Activity Users across Postcodes\n",
    "daily_hourly_activity_feature_bar_distribution(\n",
    "    df_=df, feature_='postcode', yrange=[0, 4],\n",
    "    subplot_titles_=['<b>Daily<b>', '<b>Monthly<b>'],\n",
    "    title_='<b>Daily and Hourly Activity per Postcode<b>',\n",
    "    height_=750, width_=1000\n",
    ")"
   ]
  }
 ],
 "metadata": {
  "kernelspec": {
   "display_name": "Python 3 (ipykernel)",
   "language": "python",
   "name": "python3"
  },
  "language_info": {
   "codemirror_mode": {
    "name": "ipython",
    "version": 3
   },
   "file_extension": ".py",
   "mimetype": "text/x-python",
   "name": "python",
   "nbconvert_exporter": "python",
   "pygments_lexer": "ipython3",
   "version": "3.11.4"
  }
 },
 "nbformat": 4,
 "nbformat_minor": 5
}
